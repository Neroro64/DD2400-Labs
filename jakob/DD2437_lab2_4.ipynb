{
 "cells": [
  {
   "cell_type": "markdown",
   "metadata": {},
   "source": [
    "# Lab 2 - Part 2"
   ]
  },
  {
   "cell_type": "code",
   "execution_count": 1,
   "metadata": {},
   "outputs": [],
   "source": [
    "import numpy as np\n",
    "import matplotlib.pyplot as plt "
   ]
  },
  {
   "cell_type": "markdown",
   "metadata": {},
   "source": [
    "## Topological Ordering of Animal Species"
   ]
  },
  {
   "cell_type": "markdown",
   "metadata": {},
   "source": [
    "#### Import data"
   ]
  },
  {
   "cell_type": "code",
   "execution_count": 2,
   "metadata": {},
   "outputs": [],
   "source": [
    "species = np.genfromtxt('data/animalnames.txt', dtype='str')\n",
    "props = np.genfromtxt('data/animals.dat', dtype='int', delimiter=',').reshape(-1, 84)"
   ]
  },
  {
   "cell_type": "markdown",
   "metadata": {},
   "source": [
    "#### Train nodes using SOM"
   ]
  },
  {
   "cell_type": "code",
   "execution_count": 3,
   "metadata": {},
   "outputs": [],
   "source": [
    "N,M = props.shape\n",
    "num_nodes = 100\n",
    "W = np.random.randn(num_nodes,M)\n",
    "lr = 0.2\n",
    "epochs = 20\n",
    "neighbourhood_start = 50\n",
    "neigh_decay = neighbourhood_start/epochs\n",
    "\n",
    "for e in range(epochs):\n",
    "    neighbourhood = round(neighbourhood_start - neigh_decay*e)\n",
    "    for idx in range(N):\n",
    "        p = props[idx]\n",
    "        W_p = W-p\n",
    "        distances = np.linalg.norm(W_p, axis=1)\n",
    "        winner = np.argmin(distances)\n",
    "        for node in range(num_nodes):\n",
    "            if node >= winner-neighbourhood and node <= winner+neighbourhood:\n",
    "                W[node] = W[node] + lr*(p-W[node])"
   ]
  },
  {
   "cell_type": "markdown",
   "metadata": {},
   "source": [
    "#### Find and winner nodes for each species"
   ]
  },
  {
   "cell_type": "code",
   "execution_count": 4,
   "metadata": {},
   "outputs": [
    {
     "name": "stdout",
     "output_type": "stream",
     "text": [
      "('giraffe', 0)\n",
      "('pig', 0)\n",
      "('camel', 1)\n",
      "('antelop', 3)\n",
      "('horse', 5)\n",
      "('rat', 9)\n",
      "('rabbit', 14)\n",
      "('kangaroo', 17)\n",
      "('elephant', 20)\n",
      "('bat', 23)\n",
      "('skunk', 26)\n",
      "('cat', 29)\n",
      "('ape', 32)\n",
      "('lion', 35)\n",
      "('dog', 38)\n",
      "('hyena', 41)\n",
      "('bear', 44)\n",
      "('walrus', 50)\n",
      "('crocodile', 56)\n",
      "('seaturtle', 58)\n",
      "('frog', 61)\n",
      "('ostrich', 68)\n",
      "('penguin', 71)\n",
      "('duck', 74)\n",
      "('pelican', 77)\n",
      "('spider', 84)\n",
      "('housefly', 90)\n",
      "('moskito', 90)\n",
      "('butterfly', 95)\n",
      "('beetle', 96)\n",
      "('dragonfly', 99)\n",
      "('grasshopper', 99)\n"
     ]
    }
   ],
   "source": [
    "pos = [-1] * N\n",
    "for idx in range(N):\n",
    "    p = props[idx]\n",
    "    W_p = W-p\n",
    "    distances = np.linalg.norm(W_p, axis=1)\n",
    "    winner = np.argmin(distances)\n",
    "    pos[idx] = winner\n",
    "\n",
    "grouped = [(eval(species[i]),pos[i]) for i in range(N)]\n",
    "grouped.sort(key=lambda t: t[1])\n",
    "for i in range(N): print(grouped[i])"
   ]
  },
  {
   "cell_type": "markdown",
   "metadata": {},
   "source": [
    "## Cyclic tour"
   ]
  },
  {
   "cell_type": "markdown",
   "metadata": {},
   "source": [
    "#### Import data"
   ]
  },
  {
   "cell_type": "code",
   "execution_count": 5,
   "metadata": {},
   "outputs": [
    {
     "data": {
      "image/png": "[encoded data removed]",
      "text/plain": [
       "<Figure size 432x288 with 1 Axes>"
      ]
     },
     "metadata": {
      "needs_background": "light"
     },
     "output_type": "display_data"
    }
   ],
   "source": [
    "import io\n",
    "s = io.BytesIO(open('data/cities.dat', 'rb').read().replace(b';',b''))\n",
    "city = np.genfromtxt(s, dtype='float', delimiter=',', comments='%')\n",
    "plt.scatter(city[:,0], city[:,1], label='cities')\n",
    "plt.legend()\n",
    "plt.show()"
   ]
  },
  {
   "cell_type": "markdown",
   "metadata": {},
   "source": [
    "#### Train nodes using SOM"
   ]
  },
  {
   "cell_type": "code",
   "execution_count": 6,
   "metadata": {},
   "outputs": [],
   "source": [
    "N,M = city.shape\n",
    "num_nodes = N\n",
    "W = np.random.randn(num_nodes,M)\n",
    "lr = 0.2\n",
    "epochs = 20\n",
    "neighbourhood_start = 2\n",
    "neigh_decay = neighbourhood_start/epochs\n",
    "\n",
    "for e in range(epochs): \n",
    "    neighbourhood = round(neighbourhood_start - neigh_decay*e) \n",
    "    for idx in range(N):\n",
    "        c = city[idx]\n",
    "        W_c = W-c\n",
    "        distances = np.linalg.norm(W_c, axis=1)\n",
    "        winner = np.argmin(distances)\n",
    "        for node in range(num_nodes):\n",
    "            if node >= winner-neighbourhood and node <= winner+neighbourhood:\n",
    "                W[node] = W[node] + lr*(c-W[node])\n",
    "            elif winner+neighbourhood >= N and node <= (winner+neighbourhood) % N:\n",
    "                W[node] = W[node] + lr*(c-W[node])\n",
    "            elif winner-neighbourhood < 0 and node >= (winner-neighbourhood) % N:\n",
    "                W[node] = W[node] + lr*(c-W[node])"
   ]
  },
  {
   "cell_type": "markdown",
   "metadata": {},
   "source": [
    "#### Plot found tour"
   ]
  },
  {
   "cell_type": "code",
   "execution_count": 7,
   "metadata": {},
   "outputs": [
    {
     "data": {
      "image/png": "[encoded data removed]",
      "text/plain": [
       "<Figure size 504x504 with 1 Axes>"
      ]
     },
     "metadata": {
      "needs_background": "light"
     },
     "output_type": "display_data"
    }
   ],
   "source": [
    "pos = [-1] * N\n",
    "plt.figure(figsize=(7,7))\n",
    "plt.scatter(city[:,0], city[:,1], label='cities')\n",
    "plt.plot(W[:,0], W[:,1], 'y.-', label='tour')\n",
    "plt.plot(W[0,0],W[0,1], 'ro', label='start')\n",
    "plt.plot(W[N-1,0],W[N-1,1], 'mo', label='end')\n",
    "plt.legend()\n",
    "plt.show()"
   ]
  },
  {
   "cell_type": "markdown",
   "metadata": {},
   "source": [
    "## Data Clustering: Votes of MPs"
   ]
  },
  {
   "cell_type": "markdown",
   "metadata": {},
   "source": [
    "#### Import data"
   ]
  },
  {
   "cell_type": "code",
   "execution_count": 8,
   "metadata": {},
   "outputs": [],
   "source": [
    "votes = np.genfromtxt('data/votes.dat', comments='%', delimiter=',').reshape(349,-1)\n",
    "party = np.genfromtxt('data/mpparty.dat', comments='%', delimiter=',')\n",
    "sex = np.genfromtxt('data/mpsex.dat', comments='%', delimiter=',')\n",
    "district = np.genfromtxt('data/mpdistrict.dat', comments='%', delimiter=',')\n",
    "name = np.genfromtxt('data/mpnames.txt', delimiter='\\n', dtype='str', encoding='latin-1')"
   ]
  },
  {
   "cell_type": "markdown",
   "metadata": {},
   "source": [
    "#### Train nodes using SOM"
   ]
  },
  {
   "cell_type": "code",
   "execution_count": 9,
   "metadata": {},
   "outputs": [],
   "source": [
    "N,M = votes.shape\n",
    "grid_rows = 10\n",
    "grid_cols = 10\n",
    "num_nodes = grid_rows * grid_cols\n",
    "W = np.random.randn(num_nodes,M)\n",
    "lr = 0.2\n",
    "epochs = 20\n",
    "neighbourhood_start = 50\n",
    "neigh_decay = neighbourhood_start/epochs\n",
    "\n",
    "for e in range(epochs):\n",
    "    neighbourhood = round(neighbourhood_start - neigh_decay*e)\n",
    "    for idx in range(N):\n",
    "        p = votes[idx]\n",
    "        W_p = W-p\n",
    "        distances = np.linalg.norm(W_p, axis=1)\n",
    "        winner = np.argmin(distances)\n",
    "        winner_row = int(winner/grid_rows)\n",
    "        winner_col = winner % grid_cols\n",
    "        for node_row in range(grid_rows):\n",
    "            for node_col in range(grid_cols):\n",
    "                manhattan_dist = abs(winner_row-node_row)+abs(winner_col-node_col)\n",
    "                if manhattan_dist < neighbourhood:\n",
    "                    node = node_row*grid_rows + node_col\n",
    "                    W[node] = W[node] + lr*(p-W[node])"
   ]
  },
  {
   "cell_type": "markdown",
   "metadata": {},
   "source": [
    "#### Calculate grid positions for each MP"
   ]
  },
  {
   "cell_type": "code",
   "execution_count": 10,
   "metadata": {},
   "outputs": [],
   "source": [
    "grid_x = np.zeros(N)\n",
    "grid_y = np.zeros(N)\n",
    "for idx in range(N):\n",
    "    p = votes[idx]\n",
    "    W_p = W-p\n",
    "    distances = np.linalg.norm(W_p, axis=1)\n",
    "    winner = np.argmin(distances)\n",
    "    winner_row = int(winner/grid_rows)\n",
    "    winner_col = winner % grid_cols\n",
    "    grid_x[idx] = winner_col\n",
    "    grid_y[idx] = winner_row"
   ]
  },
  {
   "cell_type": "markdown",
   "metadata": {},
   "source": [
    "#### Plot grid positions based on party"
   ]
  },
  {
   "cell_type": "code",
   "execution_count": 11,
   "metadata": {},
   "outputs": [
    {
     "data": {
      "image/png": "[encoded data removed]",
      "text/plain": [
       "<Figure size 720x360 with 8 Axes>"
      ]
     },
     "metadata": {
      "needs_background": "light"
     },
     "output_type": "display_data"
    }
   ],
   "source": [
    "parties = ['none', 'm', 'fp', 's', 'v', 'mp', 'kd', 'c']\n",
    "pcolors = ['#696b6a', '#52BDEC', '#006AB3', '#E8112d', \n",
    "           '#DA291C', '#83CF39', '#000077', '#009933']\n",
    "fig, axs = plt.subplots(2,4,figsize=(10,5))\n",
    "for i in range(0,len(parties)):\n",
    "    mps = np.where(party == i)[0]\n",
    "    ax = axs[i//4,i%4]\n",
    "    ax.plot(grid_x[mps], grid_y[mps], marker='o', linestyle='', color=pcolors[i],\n",
    "             label=parties[i])\n",
    "    ax.grid()\n",
    "    ax.set(xlim=(-.1,10.1), ylim=(-.1,10.1))\n",
    "    ax.legend()\n",
    "plt.tight_layout()\n",
    "plt.show()"
   ]
  },
  {
   "cell_type": "markdown",
   "metadata": {},
   "source": [
    "#### Plot grid positions based on sex"
   ]
  },
  {
   "cell_type": "code",
   "execution_count": 12,
   "metadata": {},
   "outputs": [
    {
     "data": {
      "image/png": "[encoded data removed]",
      "text/plain": [
       "<Figure size 720x360 with 2 Axes>"
      ]
     },
     "metadata": {
      "needs_background": "light"
     },
     "output_type": "display_data"
    }
   ],
   "source": [
    "sexes = ['male', 'female']\n",
    "scolors = ['m','g']\n",
    "fig, axs = plt.subplots(1,2,figsize=(10,5))\n",
    "for i in range(len(sexes)):\n",
    "    mps = np.where(sex == i)[0]\n",
    "    ax = axs[i]\n",
    "    ax.plot(grid_x[mps], grid_y[mps], marker='o', linestyle='', color=scolors[i],\n",
    "             label=sexes[i])\n",
    "    ax.grid()\n",
    "    ax.set(xlim=(-.1,10.1), ylim=(-.1,10.1))\n",
    "    ax.legend()\n"
   ]
  }
 ],
 "metadata": {
  "kernelspec": {
   "display_name": "Python 3",
   "language": "python",
   "name": "python3"
  },
  "language_info": {
   "codemirror_mode": {
    "name": "ipython",
    "version": 3
   },
   "file_extension": ".py",
   "mimetype": "text/x-python",
   "name": "python",
   "nbconvert_exporter": "python",
   "pygments_lexer": "ipython3",
   "version": "3.8.5"
  }
 },
 "nbformat": 4,
 "nbformat_minor": 4
}
