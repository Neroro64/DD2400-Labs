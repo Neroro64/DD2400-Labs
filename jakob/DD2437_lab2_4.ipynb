{
 "cells": [
  {
   "cell_type": "code",
   "execution_count": 1,
   "metadata": {},
   "outputs": [],
   "source": [
    "import numpy as np\n",
    "import pandas as pd\n",
    "import matplotlib.pyplot as plt "
   ]
  },
  {
   "cell_type": "markdown",
   "metadata": {},
   "source": [
    "# Topological Ordering of Animal Species"
   ]
  },
  {
   "cell_type": "code",
   "execution_count": 2,
   "metadata": {},
   "outputs": [],
   "source": [
    "species = np.genfromtxt('data/animalnames.txt', dtype='str')\n",
    "props = np.genfromtxt('data/animals.dat', dtype='int', delimiter=',').reshape(-1, 84)"
   ]
  },
  {
   "cell_type": "code",
   "execution_count": 28,
   "metadata": {},
   "outputs": [
    {
     "name": "stdout",
     "output_type": "stream",
     "text": [
      "(\"'camel'\", 0)\n",
      "(\"'giraffe'\", 0)\n",
      "(\"'horse'\", 3)\n",
      "(\"'pig'\", 3)\n",
      "(\"'antelop'\", 6)\n",
      "(\"'rabbit'\", 7)\n",
      "(\"'kangaroo'\", 10)\n",
      "(\"'elephant'\", 11)\n",
      "(\"'bat'\", 15)\n",
      "(\"'rat'\", 20)\n",
      "(\"'skunk'\", 24)\n",
      "(\"'ape'\", 27)\n",
      "(\"'cat'\", 30)\n",
      "(\"'lion'\", 30)\n",
      "(\"'dog'\", 33)\n",
      "(\"'hyena'\", 36)\n",
      "(\"'bear'\", 39)\n",
      "(\"'walrus'\", 45)\n",
      "(\"'crocodile'\", 51)\n",
      "(\"'seaturtle'\", 52)\n",
      "(\"'frog'\", 55)\n",
      "(\"'ostrich'\", 62)\n",
      "(\"'penguin'\", 65)\n",
      "(\"'duck'\", 69)\n",
      "(\"'pelican'\", 69)\n",
      "(\"'spider'\", 78)\n",
      "(\"'moskito'\", 87)\n",
      "(\"'housefly'\", 90)\n",
      "(\"'butterfly'\", 93)\n",
      "(\"'beetle'\", 96)\n",
      "(\"'dragonfly'\", 98)\n",
      "(\"'grasshopper'\", 98)\n"
     ]
    }
   ],
   "source": [
    "N,M = props.shape\n",
    "num_nodes = 100\n",
    "W = np.random.randn(num_nodes,M)\n",
    "lr = 0.2\n",
    "epochs = 20\n",
    "neighbourhood_start = 50\n",
    "neigh_decay = neighbourhood_start/epochs\n",
    "\n",
    "for e in range(epochs):\n",
    "    neighbourhood = round(neighbourhood_start - neigh_decay*e)\n",
    "    for idx in range(N):\n",
    "        p = props[idx]\n",
    "        W_p = W-p\n",
    "        distances = np.linalg.norm(W_p, axis=1)\n",
    "        winner = np.argmin(distances)\n",
    "        for node in range(num_nodes):\n",
    "            if node >= winner-neighbourhood and node <= winner+neighbourhood:\n",
    "                W[node] = W[node] + lr*(p-W[node])\n",
    "\n",
    "pos = [-1] * N\n",
    "for idx in range(N):\n",
    "    p = props[idx]\n",
    "    W_p = W-p\n",
    "    distances = np.linalg.norm(W_p, axis=1)\n",
    "    winner = np.argmin(distances)\n",
    "    pos[idx] = winner\n",
    "\n",
    "grouped = [(species[i],pos[i]) for i in range(N)]\n",
    "grouped.sort(key=lambda t: t[1])\n",
    "for i in range(N): print(grouped[i])"
   ]
  },
  {
   "cell_type": "markdown",
   "metadata": {},
   "source": [
    "# Cyclic tour"
   ]
  },
  {
   "cell_type": "code",
   "execution_count": 4,
   "metadata": {},
   "outputs": [
    {
     "data": {
      "image/png": "[encoded data removed]",
      "text/plain": [
       "<Figure size 432x288 with 1 Axes>"
      ]
     },
     "metadata": {
      "needs_background": "light"
     },
     "output_type": "display_data"
    }
   ],
   "source": [
    "import io\n",
    "s = io.BytesIO(open('data/cities.dat', 'rb').read().replace(b';',b''))\n",
    "city = np.genfromtxt(s, dtype='float', delimiter=',', comments='%')\n",
    "plt.scatter(city[:,0], city[:,1])\n",
    "plt.show()"
   ]
  },
  {
   "cell_type": "code",
   "execution_count": 62,
   "metadata": {},
   "outputs": [
    {
     "data": {
      "image/png": "[encoded data removed]",
      "text/plain": [
       "<Figure size 504x504 with 1 Axes>"
      ]
     },
     "metadata": {
      "needs_background": "light"
     },
     "output_type": "display_data"
    }
   ],
   "source": [
    "N,M = city.shape\n",
    "num_nodes = N\n",
    "W = np.random.randn(num_nodes,M)\n",
    "lr = 0.2\n",
    "epochs = 20\n",
    "neighbourhood_start = 2\n",
    "neigh_decay = neighbourhood_start/epochs\n",
    "\n",
    "for e in range(epochs): \n",
    "    neighbourhood = round(neighbourhood_start - neigh_decay*e) \n",
    "    for idx in range(N):\n",
    "        c = city[idx]\n",
    "        W_c = W-c\n",
    "        distances = np.linalg.norm(W_c, axis=1)\n",
    "        winner = np.argmin(distances)\n",
    "        for node in range(num_nodes):\n",
    "            if node >= winner-neighbourhood and node <= winner+neighbourhood:\n",
    "                W[node] = W[node] + lr*(c-W[node])\n",
    "            elif winner+neighbourhood >= N and node <= (winner+neighbourhood) % N:\n",
    "                W[node] = W[node] + lr*(c-W[node])\n",
    "            elif winner-neighbourhood < 0 and node >= (winner-neighbourhood) % N:\n",
    "                W[node] = W[node] + lr*(c-W[node])\n",
    "\n",
    "pos = [-1] * N\n",
    "plt.figure(figsize=(7,7))\n",
    "plt.scatter(city[:,0], city[:,1], label='cities')\n",
    "plt.plot(W[:,0], W[:,1], 'y.-')\n",
    "plt.plot(W[0,0],W[0,1], 'ro', label='start')\n",
    "plt.plot(W[N-1,0],W[N-1,1], 'mo', label='end')\n",
    "plt.legend()\n",
    "plt.show()"
   ]
  },
  {
   "cell_type": "code",
   "execution_count": null,
   "metadata": {},
   "outputs": [],
   "source": []
  }
 ],
 "metadata": {
  "kernelspec": {
   "display_name": "Python 3",
   "language": "python",
   "name": "python3"
  },
  "language_info": {
   "codemirror_mode": {
    "name": "ipython",
    "version": 3
   },
   "file_extension": ".py",
   "mimetype": "text/x-python",
   "name": "python",
   "nbconvert_exporter": "python",
   "pygments_lexer": "ipython3",
   "version": "3.8.5"
  }
 },
 "nbformat": 4,
 "nbformat_minor": 4
}
