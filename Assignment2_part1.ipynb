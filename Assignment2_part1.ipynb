{
 "metadata": {
  "language_info": {
   "codemirror_mode": {
    "name": "ipython",
    "version": 3
   },
   "file_extension": ".py",
   "mimetype": "text/x-python",
   "name": "python",
   "nbconvert_exporter": "python",
   "pygments_lexer": "ipython3",
   "version": "3.8.3-final"
  },
  "orig_nbformat": 2,
  "kernelspec": {
   "name": "python_defaultSpec_1600630512541",
   "display_name": "Python 3.8.3 64-bit ('anaconda3': virtualenv)"
  }
 },
 "nbformat": 4,
 "nbformat_minor": 2,
 "cells": [
  {
   "cell_type": "code",
   "execution_count": 1,
   "metadata": {},
   "outputs": [],
   "source": [
    "import numpy as np\n",
    "import plotly.express as ex\n",
    "import plotly.graph_objects as go\n",
    "from plotly.subplots import make_subplots\n",
    "\n",
    "\n",
    "SEED = 2020"
   ]
  },
  {
   "cell_type": "code",
   "execution_count": 140,
   "metadata": {},
   "outputs": [],
   "source": [
    "class RBF_Network:\n",
    "    def __init__(self, n, inputs, variance=1, add_noise=False, useDelta=False, eta=0.1, useSqr=False):\n",
    "        \"\"\"\n",
    "        weights : (n, 1)\n",
    "        mean : (n, 1)\n",
    "        variance : (n, 1)\n",
    "        \"\"\"\n",
    "        \n",
    "        np.random.seed(SEED)\n",
    "\n",
    "        self.n = n\n",
    "        self.add_noise = add_noise\n",
    "        self.useDelta = useDelta\n",
    "        self.eta = eta\n",
    "        self.useSqr=useSqr\n",
    "\n",
    "        # set position and width for each node\n",
    "        self.mean = self.mu_random_choice(inputs)\n",
    "        self.std = np.ones((n,inputs.shape[1]))*variance\n",
    "\n",
    "        self.W = np.random.randn(self.n, inputs.shape[1])\n",
    "        \n",
    "        self.phi_of_x = np.reshape(np.array(self.mean), (1,-1))\n",
    "        self.total_error = []\n",
    "        self.residual_error = []\n",
    "        self.f_of_x = []\n",
    "\n",
    "    def mu_random_choice(self, inputs):\n",
    "        \"\"\"\n",
    "        x = Input patterns\n",
    "        n = number of nodes\n",
    "        \"\"\"\n",
    "        return np.random.choice(x.ravel(), (self.n,inputs.shape[1]))\n",
    "\n",
    "    def train_network(self, epochs, train_data, train_label, test_data=[], test_label=[]):\n",
    "        \"\"\"\n",
    "        train_data, test_data : (N,1)\n",
    "        train_label test_label : (N,1)\n",
    "        \"\"\"\n",
    "        for e in range(0, epochs):\n",
    "            if (self.add_noise):\n",
    "                train_targets = self.add_noise_to_targets(train_label)\n",
    "                test_targets = self.add_noise_to_targets(test_label)\n",
    "            else:\n",
    "                train_targets = train_label\n",
    "                test_targets = test_label\n",
    "                 \n",
    "            if (self.useDelta):\n",
    "                self.delta_learning(train_data, train_targets, test_data, test_targets)\n",
    "            else:\n",
    "                self.lsqr(train_data, train_targets)\n",
    "            \n",
    "\n",
    "    def add_noise_to_targets(self, x, std=0.1):\n",
    "        t = np.copy(x)\n",
    "        noise = np.random.normal(0,std,(x.shape))\n",
    "        return t + noise\n",
    "    \n",
    "    def forward(self, x):\n",
    "        self.phi_of_x = np.array([self.activation_fxn(x, i) for i in range(self.n)]).T\n",
    "        self.f_of_x= self.phi_of_x @ self.W\n",
    "\n",
    "    def activation_fxn(self, x, i):\n",
    "        _x = x\n",
    "        if (x.ndim > 1):\n",
    "            if (x.shape[1] == 1):\n",
    "                _x = x.ravel()\n",
    "\n",
    "        _mu = self.mean[i].ravel()\n",
    "        _std = self.std[i].ravel()\n",
    "\n",
    "        return np.exp((-(_x-_mu)**2) / 2*(_std**2))\n",
    "\n",
    "    def calc_total_error(self, label):\n",
    "        \"\"\"\n",
    "        MSE\n",
    "        \"\"\"\n",
    "        self.total_error.append(np.mean((self.f_of_x-label)**2))\n",
    "\n",
    "    def update_weights(self, label):\n",
    "        self.W, _,_,_ = np.linalg.lstsq(self.phi_of_x, label.ravel())\n",
    "        self.W.reshape((-1,1))\n",
    "\n",
    "    def lsqr(self, x, y):\n",
    "        self.forward(x)\n",
    "        self.update_weights(y)\n",
    "\n",
    "    def delta_learning(self, x, y, tx, ty):\n",
    "        errors = np.zeros(len(x))\n",
    "        for i in range(len(x)):\n",
    "            self.forward(x[i])\n",
    "            error = y[i] - self.f_of_x\n",
    "            self.W += (self.eta * error)[0] * self.phi_of_x.T\n",
    "\n",
    "            if (len(tx) > 0):\n",
    "                errors[i] = self.validate(tx[i], ty[i])\n",
    "        \n",
    "        self.residual_error.append(np.mean(errors))\n",
    "         \n",
    "    def validate(self, test_data, test_label, _plot=False):\n",
    "        self.forward(test_data)\n",
    "        if (self.useSqr):\n",
    "            output = np.sign(self.f_of_x)\n",
    "        else:\n",
    "            output = self.f_of_x\n",
    "        \n",
    "        if _plot == True:\n",
    "            fig = make_subplots(rows=1, cols=2, subplot_titles=(\"Validation with n={}\".format(self.n), \"Residual error\"))\n",
    "            fig.add_trace(go.Scatter(x=np.arange(len(self.residual_error)), y=self.residual_error, mode=\"lines\", name=\"Residual error\"), row=1, col=2)\n",
    "            fig.add_trace(go.Scatter(x=test_data.ravel(), y=test_label.ravel(), mode=\"lines\", name=\"Original\"), row=1, col=1)\n",
    "            fig.add_trace(go.Scatter(x=test_data.ravel(), y=output.ravel(), mode=\"lines\", name=\"Approximated\"), row=1, col=1)\n",
    "\n",
    "            fig.show()\n",
    "\n",
    "        return np.mean(np.abs(output-test_label)) \n",
    "        \n",
    "    def init_cl(self, inputs, epochs, eta, useBias=False, bias_w=1e-2):\n",
    "        \"\"\"\n",
    "        Run CL-algorithm for positioning the nodes\n",
    "        Use bias to eliminate dead nodes\n",
    "        \"\"\"\n",
    "        k = inputs.shape[1]\n",
    "        b = np.ones((self.n,1)) * 1/self.n # Bias for each node\n",
    "        wins = np.zeros((self.n,1)) # Counting the number of wins for each ndoe\n",
    "        x = np.copy(inputs)\n",
    "\n",
    "        for i in range(epochs):\n",
    "            np.random.shuffle(x)\n",
    "            for x_i in x:\n",
    "                error = x_i - self.mean\n",
    "                dist = np.sum(error*2,axis=1, keepdims=True)\n",
    "\n",
    "                if (useBias):\n",
    "                    dist -= bias_w * b\n",
    "\n",
    "                winner = np.argmin(dist)\n",
    "                self.mean[winner,:] += eta*error[winner,:]\n",
    "                wins[winner]+=1       \n",
    "\n",
    "                if (useBias):\n",
    "                    b = 1/self.n - wins/(winner+1)   \n",
    "             \n",
    "\n",
    "        return wins\n",
    "                \n",
    "\n",
    "\n",
    "\n",
    "\n",
    "\n"
   ]
  },
  {
   "cell_type": "code",
   "execution_count": 3,
   "metadata": {},
   "outputs": [],
   "source": [
    "def data_gen(start, end, step=0.1):\n",
    "    x = np.arange(start, end, step).reshape((-1,1))\n",
    "    sin_data = np.sin(2*x).reshape((-1,1))\n",
    "    sqr_data = np.sign(sin_data)\n",
    "    return x, sin_data, sqr_data\n",
    "\n",
    "def plot_fx_n_errror(patterns, targets, approximation, res_error, titles):\n",
    "    fig = make_subplots(rows=1, cols=2, subplot_titles=(titles[0], titles[1]))\n",
    "    fig.add_trace(go.Scatter(x=np.arange(len(res_error)), y=res_error, mode=\"lines\", name=\"Residual error\"), row=1, col=2)\n",
    "    fig.add_trace(go.Scatter(x=x.ravel(), y=y.ravel(), mode=\"lines\", name=\"Original\"), row=1, col=1)\n",
    "    fig.add_trace(go.Scatter(x=x.ravel(), y=approximation.ravel(), mode=\"lines\", name=\"Approximated\"), row=1, col=1)\n",
    "\n",
    "    fig.show()\n"
   ]
  },
  {
   "cell_type": "code",
   "execution_count": 66,
   "metadata": {
    "tags": []
   },
   "outputs": [
    {
     "output_type": "display_data",
     "data": {
      "application/vnd.plotly.v1+json": {
       "config": {
        "plotlyServerURL": "https://plot.ly"
       },
       "data": [
        {
         "mode": "lines",
         "name": "sin(x)",
         "type": "scatter",
         "x": [
          0,
          0.1,
          0.2,
          0.30000000000000004,
          0.4,
          0.5,
          0.6000000000000001,
          0.7000000000000001,
          0.8,
          0.9,
          1,
          1.1,
          1.2000000000000002,
          1.3,
          1.4000000000000001,
          1.5,
          1.6,
          1.7000000000000002,
          1.8,
          1.9000000000000001,
          2,
          2.1,
          2.2,
          2.3000000000000003,
          2.4000000000000004,
          2.5,
          2.6,
          2.7,
          2.8000000000000003,
          2.9000000000000004,
          3,
          3.1,
          3.2,
          3.3000000000000003,
          3.4000000000000004,
          3.5,
          3.6,
          3.7,
          3.8000000000000003,
          3.9000000000000004,
          4,
          4.1000000000000005,
          4.2,
          4.3,
          4.4,
          4.5,
          4.6000000000000005,
          4.7,
          4.800000000000001,
          4.9,
          5,
          5.1000000000000005,
          5.2,
          5.300000000000001,
          5.4,
          5.5,
          5.6000000000000005,
          5.7,
          5.800000000000001,
          5.9,
          6,
          6.1000000000000005,
          6.2
         ],
         "y": [
          0,
          0.19866933079506122,
          0.3894183423086505,
          0.5646424733950355,
          0.7173560908995228,
          0.8414709848078965,
          0.9320390859672264,
          0.9854497299884603,
          0.9995736030415051,
          0.9738476308781951,
          0.9092974268256817,
          0.8084964038195901,
          0.6754631805511506,
          0.5155013718214642,
          0.33498815015590466,
          0.1411200080598672,
          -0.058374143427580086,
          -0.25554110202683167,
          -0.44252044329485246,
          -0.6118578909427193,
          -0.7568024953079282,
          -0.8715757724135882,
          -0.951602073889516,
          -0.9936910036334645,
          -0.9961646088358406,
          -0.9589242746631385,
          -0.8834546557201531,
          -0.7727644875559871,
          -0.6312666378723208,
          -0.4646021794137566,
          -0.27941549819892586,
          -0.0830894028174964,
          0.11654920485049364,
          0.3115413635133787,
          0.49411335113860894,
          0.6569865987187891,
          0.7936678638491531,
          0.8987080958116269,
          0.9679196720314865,
          0.998543345374605,
          0.9893582466233818,
          0.9407305566797726,
          0.8545989080882804,
          0.7343970978741133,
          0.5849171928917617,
          0.4121184852417566,
          0.22288991410024592,
          0.024775425453357765,
          -0.1743267812229814,
          -0.3664791292519284,
          -0.5440211108893698,
          -0.6998746875935437,
          -0.8278264690856537,
          -0.9227754216128073,
          -0.9809362300664916,
          -0.9999902065507035,
          -0.979177729151317,
          -0.9193285256646757,
          -0.8228285949687079,
          -0.6935250847771224,
          -0.5365729180004349,
          -0.35822928223682704,
          -0.1656041754483094
         ]
        },
        {
         "mode": "lines",
         "name": "sqr(x)",
         "type": "scatter",
         "x": [
          0,
          0.1,
          0.2,
          0.30000000000000004,
          0.4,
          0.5,
          0.6000000000000001,
          0.7000000000000001,
          0.8,
          0.9,
          1,
          1.1,
          1.2000000000000002,
          1.3,
          1.4000000000000001,
          1.5,
          1.6,
          1.7000000000000002,
          1.8,
          1.9000000000000001,
          2,
          2.1,
          2.2,
          2.3000000000000003,
          2.4000000000000004,
          2.5,
          2.6,
          2.7,
          2.8000000000000003,
          2.9000000000000004,
          3,
          3.1,
          3.2,
          3.3000000000000003,
          3.4000000000000004,
          3.5,
          3.6,
          3.7,
          3.8000000000000003,
          3.9000000000000004,
          4,
          4.1000000000000005,
          4.2,
          4.3,
          4.4,
          4.5,
          4.6000000000000005,
          4.7,
          4.800000000000001,
          4.9,
          5,
          5.1000000000000005,
          5.2,
          5.300000000000001,
          5.4,
          5.5,
          5.6000000000000005,
          5.7,
          5.800000000000001,
          5.9,
          6,
          6.1000000000000005,
          6.2
         ],
         "y": [
          0,
          1,
          1,
          1,
          1,
          1,
          1,
          1,
          1,
          1,
          1,
          1,
          1,
          1,
          1,
          1,
          -1,
          -1,
          -1,
          -1,
          -1,
          -1,
          -1,
          -1,
          -1,
          -1,
          -1,
          -1,
          -1,
          -1,
          -1,
          -1,
          1,
          1,
          1,
          1,
          1,
          1,
          1,
          1,
          1,
          1,
          1,
          1,
          1,
          1,
          1,
          1,
          -1,
          -1,
          -1,
          -1,
          -1,
          -1,
          -1,
          -1,
          -1,
          -1,
          -1,
          -1,
          -1,
          -1,
          -1
         ]
        }
       ],
       "layout": {
        "template": {
         "data": {
          "bar": [
           {
            "error_x": {
             "color": "#2a3f5f"
            },
            "error_y": {
             "color": "#2a3f5f"
            },
            "marker": {
             "line": {
              "color": "#E5ECF6",
              "width": 0.5
             }
            },
            "type": "bar"
           }
          ],
          "barpolar": [
           {
            "marker": {
             "line": {
              "color": "#E5ECF6",
              "width": 0.5
             }
            },
            "type": "barpolar"
           }
          ],
          "carpet": [
           {
            "aaxis": {
             "endlinecolor": "#2a3f5f",
             "gridcolor": "white",
             "linecolor": "white",
             "minorgridcolor": "white",
             "startlinecolor": "#2a3f5f"
            },
            "baxis": {
             "endlinecolor": "#2a3f5f",
             "gridcolor": "white",
             "linecolor": "white",
             "minorgridcolor": "white",
             "startlinecolor": "#2a3f5f"
            },
            "type": "carpet"
           }
          ],
          "choropleth": [
           {
            "colorbar": {
             "outlinewidth": 0,
             "ticks": ""
            },
            "type": "choropleth"
           }
          ],
          "contour": [
           {
            "colorbar": {
             "outlinewidth": 0,
             "ticks": ""
            },
            "colorscale": [
             [
              0,
              "#0d0887"
             ],
             [
              0.1111111111111111,
              "#46039f"
             ],
             [
              0.2222222222222222,
              "#7201a8"
             ],
             [
              0.3333333333333333,
              "#9c179e"
             ],
             [
              0.4444444444444444,
              "#bd3786"
             ],
             [
              0.5555555555555556,
              "#d8576b"
             ],
             [
              0.6666666666666666,
              "#ed7953"
             ],
             [
              0.7777777777777778,
              "#fb9f3a"
             ],
             [
              0.8888888888888888,
              "#fdca26"
             ],
             [
              1,
              "#f0f921"
             ]
            ],
            "type": "contour"
           }
          ],
          "contourcarpet": [
           {
            "colorbar": {
             "outlinewidth": 0,
             "ticks": ""
            },
            "type": "contourcarpet"
           }
          ],
          "heatmap": [
           {
            "colorbar": {
             "outlinewidth": 0,
             "ticks": ""
            },
            "colorscale": [
             [
              0,
              "#0d0887"
             ],
             [
              0.1111111111111111,
              "#46039f"
             ],
             [
              0.2222222222222222,
              "#7201a8"
             ],
             [
              0.3333333333333333,
              "#9c179e"
             ],
             [
              0.4444444444444444,
              "#bd3786"
             ],
             [
              0.5555555555555556,
              "#d8576b"
             ],
             [
              0.6666666666666666,
              "#ed7953"
             ],
             [
              0.7777777777777778,
              "#fb9f3a"
             ],
             [
              0.8888888888888888,
              "#fdca26"
             ],
             [
              1,
              "#f0f921"
             ]
            ],
            "type": "heatmap"
           }
          ],
          "heatmapgl": [
           {
            "colorbar": {
             "outlinewidth": 0,
             "ticks": ""
            },
            "colorscale": [
             [
              0,
              "#0d0887"
             ],
             [
              0.1111111111111111,
              "#46039f"
             ],
             [
              0.2222222222222222,
              "#7201a8"
             ],
             [
              0.3333333333333333,
              "#9c179e"
             ],
             [
              0.4444444444444444,
              "#bd3786"
             ],
             [
              0.5555555555555556,
              "#d8576b"
             ],
             [
              0.6666666666666666,
              "#ed7953"
             ],
             [
              0.7777777777777778,
              "#fb9f3a"
             ],
             [
              0.8888888888888888,
              "#fdca26"
             ],
             [
              1,
              "#f0f921"
             ]
            ],
            "type": "heatmapgl"
           }
          ],
          "histogram": [
           {
            "marker": {
             "colorbar": {
              "outlinewidth": 0,
              "ticks": ""
             }
            },
            "type": "histogram"
           }
          ],
          "histogram2d": [
           {
            "colorbar": {
             "outlinewidth": 0,
             "ticks": ""
            },
            "colorscale": [
             [
              0,
              "#0d0887"
             ],
             [
              0.1111111111111111,
              "#46039f"
             ],
             [
              0.2222222222222222,
              "#7201a8"
             ],
             [
              0.3333333333333333,
              "#9c179e"
             ],
             [
              0.4444444444444444,
              "#bd3786"
             ],
             [
              0.5555555555555556,
              "#d8576b"
             ],
             [
              0.6666666666666666,
              "#ed7953"
             ],
             [
              0.7777777777777778,
              "#fb9f3a"
             ],
             [
              0.8888888888888888,
              "#fdca26"
             ],
             [
              1,
              "#f0f921"
             ]
            ],
            "type": "histogram2d"
           }
          ],
          "histogram2dcontour": [
           {
            "colorbar": {
             "outlinewidth": 0,
             "ticks": ""
            },
            "colorscale": [
             [
              0,
              "#0d0887"
             ],
             [
              0.1111111111111111,
              "#46039f"
             ],
             [
              0.2222222222222222,
              "#7201a8"
             ],
             [
              0.3333333333333333,
              "#9c179e"
             ],
             [
              0.4444444444444444,
              "#bd3786"
             ],
             [
              0.5555555555555556,
              "#d8576b"
             ],
             [
              0.6666666666666666,
              "#ed7953"
             ],
             [
              0.7777777777777778,
              "#fb9f3a"
             ],
             [
              0.8888888888888888,
              "#fdca26"
             ],
             [
              1,
              "#f0f921"
             ]
            ],
            "type": "histogram2dcontour"
           }
          ],
          "mesh3d": [
           {
            "colorbar": {
             "outlinewidth": 0,
             "ticks": ""
            },
            "type": "mesh3d"
           }
          ],
          "parcoords": [
           {
            "line": {
             "colorbar": {
              "outlinewidth": 0,
              "ticks": ""
             }
            },
            "type": "parcoords"
           }
          ],
          "pie": [
           {
            "automargin": true,
            "type": "pie"
           }
          ],
          "scatter": [
           {
            "marker": {
             "colorbar": {
              "outlinewidth": 0,
              "ticks": ""
             }
            },
            "type": "scatter"
           }
          ],
          "scatter3d": [
           {
            "line": {
             "colorbar": {
              "outlinewidth": 0,
              "ticks": ""
             }
            },
            "marker": {
             "colorbar": {
              "outlinewidth": 0,
              "ticks": ""
             }
            },
            "type": "scatter3d"
           }
          ],
          "scattercarpet": [
           {
            "marker": {
             "colorbar": {
              "outlinewidth": 0,
              "ticks": ""
             }
            },
            "type": "scattercarpet"
           }
          ],
          "scattergeo": [
           {
            "marker": {
             "colorbar": {
              "outlinewidth": 0,
              "ticks": ""
             }
            },
            "type": "scattergeo"
           }
          ],
          "scattergl": [
           {
            "marker": {
             "colorbar": {
              "outlinewidth": 0,
              "ticks": ""
             }
            },
            "type": "scattergl"
           }
          ],
          "scattermapbox": [
           {
            "marker": {
             "colorbar": {
              "outlinewidth": 0,
              "ticks": ""
             }
            },
            "type": "scattermapbox"
           }
          ],
          "scatterpolar": [
           {
            "marker": {
             "colorbar": {
              "outlinewidth": 0,
              "ticks": ""
             }
            },
            "type": "scatterpolar"
           }
          ],
          "scatterpolargl": [
           {
            "marker": {
             "colorbar": {
              "outlinewidth": 0,
              "ticks": ""
             }
            },
            "type": "scatterpolargl"
           }
          ],
          "scatterternary": [
           {
            "marker": {
             "colorbar": {
              "outlinewidth": 0,
              "ticks": ""
             }
            },
            "type": "scatterternary"
           }
          ],
          "surface": [
           {
            "colorbar": {
             "outlinewidth": 0,
             "ticks": ""
            },
            "colorscale": [
             [
              0,
              "#0d0887"
             ],
             [
              0.1111111111111111,
              "#46039f"
             ],
             [
              0.2222222222222222,
              "#7201a8"
             ],
             [
              0.3333333333333333,
              "#9c179e"
             ],
             [
              0.4444444444444444,
              "#bd3786"
             ],
             [
              0.5555555555555556,
              "#d8576b"
             ],
             [
              0.6666666666666666,
              "#ed7953"
             ],
             [
              0.7777777777777778,
              "#fb9f3a"
             ],
             [
              0.8888888888888888,
              "#fdca26"
             ],
             [
              1,
              "#f0f921"
             ]
            ],
            "type": "surface"
           }
          ],
          "table": [
           {
            "cells": {
             "fill": {
              "color": "#EBF0F8"
             },
             "line": {
              "color": "white"
             }
            },
            "header": {
             "fill": {
              "color": "#C8D4E3"
             },
             "line": {
              "color": "white"
             }
            },
            "type": "table"
           }
          ]
         },
         "layout": {
          "annotationdefaults": {
           "arrowcolor": "#2a3f5f",
           "arrowhead": 0,
           "arrowwidth": 1
          },
          "coloraxis": {
           "colorbar": {
            "outlinewidth": 0,
            "ticks": ""
           }
          },
          "colorscale": {
           "diverging": [
            [
             0,
             "#8e0152"
            ],
            [
             0.1,
             "#c51b7d"
            ],
            [
             0.2,
             "#de77ae"
            ],
            [
             0.3,
             "#f1b6da"
            ],
            [
             0.4,
             "#fde0ef"
            ],
            [
             0.5,
             "#f7f7f7"
            ],
            [
             0.6,
             "#e6f5d0"
            ],
            [
             0.7,
             "#b8e186"
            ],
            [
             0.8,
             "#7fbc41"
            ],
            [
             0.9,
             "#4d9221"
            ],
            [
             1,
             "#276419"
            ]
           ],
           "sequential": [
            [
             0,
             "#0d0887"
            ],
            [
             0.1111111111111111,
             "#46039f"
            ],
            [
             0.2222222222222222,
             "#7201a8"
            ],
            [
             0.3333333333333333,
             "#9c179e"
            ],
            [
             0.4444444444444444,
             "#bd3786"
            ],
            [
             0.5555555555555556,
             "#d8576b"
            ],
            [
             0.6666666666666666,
             "#ed7953"
            ],
            [
             0.7777777777777778,
             "#fb9f3a"
            ],
            [
             0.8888888888888888,
             "#fdca26"
            ],
            [
             1,
             "#f0f921"
            ]
           ],
           "sequentialminus": [
            [
             0,
             "#0d0887"
            ],
            [
             0.1111111111111111,
             "#46039f"
            ],
            [
             0.2222222222222222,
             "#7201a8"
            ],
            [
             0.3333333333333333,
             "#9c179e"
            ],
            [
             0.4444444444444444,
             "#bd3786"
            ],
            [
             0.5555555555555556,
             "#d8576b"
            ],
            [
             0.6666666666666666,
             "#ed7953"
            ],
            [
             0.7777777777777778,
             "#fb9f3a"
            ],
            [
             0.8888888888888888,
             "#fdca26"
            ],
            [
             1,
             "#f0f921"
            ]
           ]
          },
          "colorway": [
           "#636efa",
           "#EF553B",
           "#00cc96",
           "#ab63fa",
           "#FFA15A",
           "#19d3f3",
           "#FF6692",
           "#B6E880",
           "#FF97FF",
           "#FECB52"
          ],
          "font": {
           "color": "#2a3f5f"
          },
          "geo": {
           "bgcolor": "white",
           "lakecolor": "white",
           "landcolor": "#E5ECF6",
           "showlakes": true,
           "showland": true,
           "subunitcolor": "white"
          },
          "hoverlabel": {
           "align": "left"
          },
          "hovermode": "closest",
          "mapbox": {
           "style": "light"
          },
          "paper_bgcolor": "white",
          "plot_bgcolor": "#E5ECF6",
          "polar": {
           "angularaxis": {
            "gridcolor": "white",
            "linecolor": "white",
            "ticks": ""
           },
           "bgcolor": "#E5ECF6",
           "radialaxis": {
            "gridcolor": "white",
            "linecolor": "white",
            "ticks": ""
           }
          },
          "scene": {
           "xaxis": {
            "backgroundcolor": "#E5ECF6",
            "gridcolor": "white",
            "gridwidth": 2,
            "linecolor": "white",
            "showbackground": true,
            "ticks": "",
            "zerolinecolor": "white"
           },
           "yaxis": {
            "backgroundcolor": "#E5ECF6",
            "gridcolor": "white",
            "gridwidth": 2,
            "linecolor": "white",
            "showbackground": true,
            "ticks": "",
            "zerolinecolor": "white"
           },
           "zaxis": {
            "backgroundcolor": "#E5ECF6",
            "gridcolor": "white",
            "gridwidth": 2,
            "linecolor": "white",
            "showbackground": true,
            "ticks": "",
            "zerolinecolor": "white"
           }
          },
          "shapedefaults": {
           "line": {
            "color": "#2a3f5f"
           }
          },
          "ternary": {
           "aaxis": {
            "gridcolor": "white",
            "linecolor": "white",
            "ticks": ""
           },
           "baxis": {
            "gridcolor": "white",
            "linecolor": "white",
            "ticks": ""
           },
           "bgcolor": "#E5ECF6",
           "caxis": {
            "gridcolor": "white",
            "linecolor": "white",
            "ticks": ""
           }
          },
          "title": {
           "x": 0.05
          },
          "xaxis": {
           "automargin": true,
           "gridcolor": "white",
           "linecolor": "white",
           "ticks": "",
           "title": {
            "standoff": 15
           },
           "zerolinecolor": "white",
           "zerolinewidth": 2
          },
          "yaxis": {
           "automargin": true,
           "gridcolor": "white",
           "linecolor": "white",
           "ticks": "",
           "title": {
            "standoff": 15
           },
           "zerolinecolor": "white",
           "zerolinewidth": 2
          }
         }
        },
        "title": {
         "text": "Functions to approximate"
        }
       }
      }
     },
     "metadata": {}
    }
   ],
   "source": [
    "x, sin_data, sqr_data = data_gen(0, 2*np.pi)\n",
    "\n",
    "fig = go.Figure().add_trace(go.Scatter(x=x.ravel(), y=sin_data.ravel(), mode=\"lines\", name=\"sin(x)\"))\n",
    "fig.add_trace(go.Scatter(x=x.ravel(), y=sqr_data.ravel(), mode=\"lines\", name=\"sqr(x)\"))\n",
    "fig.update_layout(title=\"Functions to approximate\")\n",
    "fig.show()"
   ]
  },
  {
   "source": [
    "## Quick test of the model\n",
    "\n",
    "Sin(x)"
   ],
   "cell_type": "markdown",
   "metadata": {}
  },
  {
   "cell_type": "code",
   "execution_count": 67,
   "metadata": {
    "tags": []
   },
   "outputs": [
    {
     "output_type": "display_data",
     "data": {
      "application/vnd.plotly.v1+json": {
       "config": {
        "plotlyServerURL": "https://plot.ly"
       },
       "data": [
        {
         "mode": "lines",
         "name": "Residual error",
         "type": "scatter",
         "x": [],
         "xaxis": "x2",
         "y": [],
         "yaxis": "y2"
        },
        {
         "mode": "lines",
         "name": "Original",
         "type": "scatter",
         "x": [
          0.05,
          0.15000000000000002,
          0.25000000000000006,
          0.35000000000000003,
          0.45000000000000007,
          0.5500000000000002,
          0.6500000000000001,
          0.7500000000000002,
          0.8500000000000002,
          0.9500000000000002,
          1.0500000000000003,
          1.1500000000000004,
          1.2500000000000002,
          1.3500000000000003,
          1.4500000000000004,
          1.5500000000000003,
          1.6500000000000004,
          1.7500000000000004,
          1.8500000000000003,
          1.9500000000000004,
          2.0500000000000003,
          2.1500000000000004,
          2.2500000000000004,
          2.35,
          2.45,
          2.5500000000000003,
          2.6500000000000004,
          2.7500000000000004,
          2.8500000000000005,
          2.95,
          3.0500000000000003,
          3.1500000000000004,
          3.2500000000000004,
          3.3500000000000005,
          3.4500000000000006,
          3.5500000000000007,
          3.6500000000000004,
          3.7500000000000004,
          3.8500000000000005,
          3.9500000000000006,
          4.050000000000001,
          4.15,
          4.250000000000001,
          4.3500000000000005,
          4.450000000000001,
          4.550000000000001,
          4.65,
          4.750000000000001,
          4.8500000000000005,
          4.950000000000001,
          5.050000000000001,
          5.150000000000001,
          5.250000000000001,
          5.3500000000000005,
          5.450000000000001,
          5.550000000000001,
          5.650000000000001,
          5.750000000000001,
          5.8500000000000005,
          5.950000000000001,
          6.050000000000001,
          6.150000000000001,
          6.250000000000001
         ],
         "xaxis": "x",
         "y": [
          0.09983341664682815,
          0.2955202066613396,
          0.4794255386042031,
          0.6442176872376911,
          0.7833269096274835,
          0.8912073600614355,
          0.9635581854171931,
          0.9974949866040544,
          0.9916648104524686,
          0.9463000876874144,
          0.8632093666488735,
          0.7457052121767197,
          0.5984721441039561,
          0.4273798802338294,
          0.23924932921398157,
          0.04158066243329005,
          -0.15774569414324907,
          -0.35078322768962067,
          -0.5298361409084937,
          -0.6877661591839744,
          -0.8182771110644108,
          -0.9161659367494552,
          -0.9775301176650972,
          -0.9999232575641008,
          -0.9824526126243325,
          -0.9258146823277321,
          -0.8322674422239008,
          -0.7055403255703913,
          -0.5506855425976369,
          -0.373876664830236,
          -0.18216250427209502,
          0.0168139004843506,
          0.2151199880878164,
          0.40484992061659913,
          0.5784397643882009,
          0.7289690401258772,
          0.8504366206285648,
          0.9379999767747391,
          0.9881682338770005,
          0.998941341839772,
          0.9698898108450859,
          0.9021718337562933,
          0.7984871126234893,
          0.662969230082182,
          0.5010208564578832,
          0.3190983623493504,
          0.1244544235070617,
          -0.07515112046181108,
          -0.2717606264109442,
          -0.45753589377532294,
          -0.6250706488928834,
          -0.7676858097635836,
          -0.8796957599716709,
          -0.9566350162701884,
          -0.9954362533063775,
          -0.9945525882039891,
          -0.9540192499020884,
          -0.8754521746884276,
          -0.7619835839190321,
          -0.6181371122370319,
          -0.44964746453459986,
          -0.2632317913657993,
          -0.06632189735119892
         ],
         "yaxis": "y"
        },
        {
         "mode": "lines",
         "name": "Approximated",
         "type": "scatter",
         "x": [
          0.05,
          0.15000000000000002,
          0.25000000000000006,
          0.35000000000000003,
          0.45000000000000007,
          0.5500000000000002,
          0.6500000000000001,
          0.7500000000000002,
          0.8500000000000002,
          0.9500000000000002,
          1.0500000000000003,
          1.1500000000000004,
          1.2500000000000002,
          1.3500000000000003,
          1.4500000000000004,
          1.5500000000000003,
          1.6500000000000004,
          1.7500000000000004,
          1.8500000000000003,
          1.9500000000000004,
          2.0500000000000003,
          2.1500000000000004,
          2.2500000000000004,
          2.35,
          2.45,
          2.5500000000000003,
          2.6500000000000004,
          2.7500000000000004,
          2.8500000000000005,
          2.95,
          3.0500000000000003,
          3.1500000000000004,
          3.2500000000000004,
          3.3500000000000005,
          3.4500000000000006,
          3.5500000000000007,
          3.6500000000000004,
          3.7500000000000004,
          3.8500000000000005,
          3.9500000000000006,
          4.050000000000001,
          4.15,
          4.250000000000001,
          4.3500000000000005,
          4.450000000000001,
          4.550000000000001,
          4.65,
          4.750000000000001,
          4.8500000000000005,
          4.950000000000001,
          5.050000000000001,
          5.150000000000001,
          5.250000000000001,
          5.3500000000000005,
          5.450000000000001,
          5.550000000000001,
          5.650000000000001,
          5.750000000000001,
          5.8500000000000005,
          5.950000000000001,
          6.050000000000001,
          6.150000000000001,
          6.250000000000001
         ],
         "xaxis": "x",
         "y": [
          0.09929314941230524,
          0.2764642071272265,
          0.4473477888704489,
          0.604563136522791,
          0.7409998677266378,
          0.8502213507580273,
          0.9268413905302225,
          0.9668479312108404,
          0.9678513576201299,
          0.9292407009672887,
          0.8522380321884114,
          0.7398488581630117,
          0.5967137036828549,
          0.42887261403643456,
          0.24345953677778698,
          0.048347108745027165,
          -0.14823584079630797,
          -0.3380916953748935,
          -0.5134254297389285,
          -0.6671816551397182,
          -0.793332480474348,
          -0.8871052632460331,
          -0.945143404252073,
          -0.9655973226051948,
          -0.9481464461615305,
          -0.8939563344467614,
          -0.8055778215879076,
          -0.6867972498218944,
          -0.5424483921950021,
          -0.37819747555783767,
          -0.20031276871327286,
          -0.015429488514755452,
          0.1696806502281798,
          0.3483279300028945,
          0.5141062523382747,
          0.6610754523528612,
          0.7839241173907627,
          0.8781143890593945,
          0.9400110319712898,
          0.9669968113016205,
          0.9575749072377544,
          0.9114568618105778,
          0.8296317399603463,
          0.7144092825056667,
          0.5694274168088995,
          0.39961316209435793,
          0.21108622245311537,
          0.010996720636370583,
          -0.19270734900454656,
          -0.39158151804029373,
          -0.5770466189862624,
          -0.7407950167967883,
          -0.8752184636552727,
          -0.9738293409876846,
          -1.0316440251400714,
          -1.045497087310899,
          -1.0142582950597188,
          -0.9389307974478633,
          -0.8226179145976893,
          -0.6703567267595005,
          -0.48882803224563887,
          -0.28596297945551896,
          -0.07047559502043299
         ],
         "yaxis": "y"
        }
       ],
       "layout": {
        "annotations": [
         {
          "font": {
           "size": 16
          },
          "showarrow": false,
          "text": "Validation with n=10",
          "x": 0.225,
          "xanchor": "center",
          "xref": "paper",
          "y": 1,
          "yanchor": "bottom",
          "yref": "paper"
         },
         {
          "font": {
           "size": 16
          },
          "showarrow": false,
          "text": "Residual error",
          "x": 0.775,
          "xanchor": "center",
          "xref": "paper",
          "y": 1,
          "yanchor": "bottom",
          "yref": "paper"
         }
        ],
        "template": {
         "data": {
          "bar": [
           {
            "error_x": {
             "color": "#2a3f5f"
            },
            "error_y": {
             "color": "#2a3f5f"
            },
            "marker": {
             "line": {
              "color": "#E5ECF6",
              "width": 0.5
             }
            },
            "type": "bar"
           }
          ],
          "barpolar": [
           {
            "marker": {
             "line": {
              "color": "#E5ECF6",
              "width": 0.5
             }
            },
            "type": "barpolar"
           }
          ],
          "carpet": [
           {
            "aaxis": {
             "endlinecolor": "#2a3f5f",
             "gridcolor": "white",
             "linecolor": "white",
             "minorgridcolor": "white",
             "startlinecolor": "#2a3f5f"
            },
            "baxis": {
             "endlinecolor": "#2a3f5f",
             "gridcolor": "white",
             "linecolor": "white",
             "minorgridcolor": "white",
             "startlinecolor": "#2a3f5f"
            },
            "type": "carpet"
           }
          ],
          "choropleth": [
           {
            "colorbar": {
             "outlinewidth": 0,
             "ticks": ""
            },
            "type": "choropleth"
           }
          ],
          "contour": [
           {
            "colorbar": {
             "outlinewidth": 0,
             "ticks": ""
            },
            "colorscale": [
             [
              0,
              "#0d0887"
             ],
             [
              0.1111111111111111,
              "#46039f"
             ],
             [
              0.2222222222222222,
              "#7201a8"
             ],
             [
              0.3333333333333333,
              "#9c179e"
             ],
             [
              0.4444444444444444,
              "#bd3786"
             ],
             [
              0.5555555555555556,
              "#d8576b"
             ],
             [
              0.6666666666666666,
              "#ed7953"
             ],
             [
              0.7777777777777778,
              "#fb9f3a"
             ],
             [
              0.8888888888888888,
              "#fdca26"
             ],
             [
              1,
              "#f0f921"
             ]
            ],
            "type": "contour"
           }
          ],
          "contourcarpet": [
           {
            "colorbar": {
             "outlinewidth": 0,
             "ticks": ""
            },
            "type": "contourcarpet"
           }
          ],
          "heatmap": [
           {
            "colorbar": {
             "outlinewidth": 0,
             "ticks": ""
            },
            "colorscale": [
             [
              0,
              "#0d0887"
             ],
             [
              0.1111111111111111,
              "#46039f"
             ],
             [
              0.2222222222222222,
              "#7201a8"
             ],
             [
              0.3333333333333333,
              "#9c179e"
             ],
             [
              0.4444444444444444,
              "#bd3786"
             ],
             [
              0.5555555555555556,
              "#d8576b"
             ],
             [
              0.6666666666666666,
              "#ed7953"
             ],
             [
              0.7777777777777778,
              "#fb9f3a"
             ],
             [
              0.8888888888888888,
              "#fdca26"
             ],
             [
              1,
              "#f0f921"
             ]
            ],
            "type": "heatmap"
           }
          ],
          "heatmapgl": [
           {
            "colorbar": {
             "outlinewidth": 0,
             "ticks": ""
            },
            "colorscale": [
             [
              0,
              "#0d0887"
             ],
             [
              0.1111111111111111,
              "#46039f"
             ],
             [
              0.2222222222222222,
              "#7201a8"
             ],
             [
              0.3333333333333333,
              "#9c179e"
             ],
             [
              0.4444444444444444,
              "#bd3786"
             ],
             [
              0.5555555555555556,
              "#d8576b"
             ],
             [
              0.6666666666666666,
              "#ed7953"
             ],
             [
              0.7777777777777778,
              "#fb9f3a"
             ],
             [
              0.8888888888888888,
              "#fdca26"
             ],
             [
              1,
              "#f0f921"
             ]
            ],
            "type": "heatmapgl"
           }
          ],
          "histogram": [
           {
            "marker": {
             "colorbar": {
              "outlinewidth": 0,
              "ticks": ""
             }
            },
            "type": "histogram"
           }
          ],
          "histogram2d": [
           {
            "colorbar": {
             "outlinewidth": 0,
             "ticks": ""
            },
            "colorscale": [
             [
              0,
              "#0d0887"
             ],
             [
              0.1111111111111111,
              "#46039f"
             ],
             [
              0.2222222222222222,
              "#7201a8"
             ],
             [
              0.3333333333333333,
              "#9c179e"
             ],
             [
              0.4444444444444444,
              "#bd3786"
             ],
             [
              0.5555555555555556,
              "#d8576b"
             ],
             [
              0.6666666666666666,
              "#ed7953"
             ],
             [
              0.7777777777777778,
              "#fb9f3a"
             ],
             [
              0.8888888888888888,
              "#fdca26"
             ],
             [
              1,
              "#f0f921"
             ]
            ],
            "type": "histogram2d"
           }
          ],
          "histogram2dcontour": [
           {
            "colorbar": {
             "outlinewidth": 0,
             "ticks": ""
            },
            "colorscale": [
             [
              0,
              "#0d0887"
             ],
             [
              0.1111111111111111,
              "#46039f"
             ],
             [
              0.2222222222222222,
              "#7201a8"
             ],
             [
              0.3333333333333333,
              "#9c179e"
             ],
             [
              0.4444444444444444,
              "#bd3786"
             ],
             [
              0.5555555555555556,
              "#d8576b"
             ],
             [
              0.6666666666666666,
              "#ed7953"
             ],
             [
              0.7777777777777778,
              "#fb9f3a"
             ],
             [
              0.8888888888888888,
              "#fdca26"
             ],
             [
              1,
              "#f0f921"
             ]
            ],
            "type": "histogram2dcontour"
           }
          ],
          "mesh3d": [
           {
            "colorbar": {
             "outlinewidth": 0,
             "ticks": ""
            },
            "type": "mesh3d"
           }
          ],
          "parcoords": [
           {
            "line": {
             "colorbar": {
              "outlinewidth": 0,
              "ticks": ""
             }
            },
            "type": "parcoords"
           }
          ],
          "pie": [
           {
            "automargin": true,
            "type": "pie"
           }
          ],
          "scatter": [
           {
            "marker": {
             "colorbar": {
              "outlinewidth": 0,
              "ticks": ""
             }
            },
            "type": "scatter"
           }
          ],
          "scatter3d": [
           {
            "line": {
             "colorbar": {
              "outlinewidth": 0,
              "ticks": ""
             }
            },
            "marker": {
             "colorbar": {
              "outlinewidth": 0,
              "ticks": ""
             }
            },
            "type": "scatter3d"
           }
          ],
          "scattercarpet": [
           {
            "marker": {
             "colorbar": {
              "outlinewidth": 0,
              "ticks": ""
             }
            },
            "type": "scattercarpet"
           }
          ],
          "scattergeo": [
           {
            "marker": {
             "colorbar": {
              "outlinewidth": 0,
              "ticks": ""
             }
            },
            "type": "scattergeo"
           }
          ],
          "scattergl": [
           {
            "marker": {
             "colorbar": {
              "outlinewidth": 0,
              "ticks": ""
             }
            },
            "type": "scattergl"
           }
          ],
          "scattermapbox": [
           {
            "marker": {
             "colorbar": {
              "outlinewidth": 0,
              "ticks": ""
             }
            },
            "type": "scattermapbox"
           }
          ],
          "scatterpolar": [
           {
            "marker": {
             "colorbar": {
              "outlinewidth": 0,
              "ticks": ""
             }
            },
            "type": "scatterpolar"
           }
          ],
          "scatterpolargl": [
           {
            "marker": {
             "colorbar": {
              "outlinewidth": 0,
              "ticks": ""
             }
            },
            "type": "scatterpolargl"
           }
          ],
          "scatterternary": [
           {
            "marker": {
             "colorbar": {
              "outlinewidth": 0,
              "ticks": ""
             }
            },
            "type": "scatterternary"
           }
          ],
          "surface": [
           {
            "colorbar": {
             "outlinewidth": 0,
             "ticks": ""
            },
            "colorscale": [
             [
              0,
              "#0d0887"
             ],
             [
              0.1111111111111111,
              "#46039f"
             ],
             [
              0.2222222222222222,
              "#7201a8"
             ],
             [
              0.3333333333333333,
              "#9c179e"
             ],
             [
              0.4444444444444444,
              "#bd3786"
             ],
             [
              0.5555555555555556,
              "#d8576b"
             ],
             [
              0.6666666666666666,
              "#ed7953"
             ],
             [
              0.7777777777777778,
              "#fb9f3a"
             ],
             [
              0.8888888888888888,
              "#fdca26"
             ],
             [
              1,
              "#f0f921"
             ]
            ],
            "type": "surface"
           }
          ],
          "table": [
           {
            "cells": {
             "fill": {
              "color": "#EBF0F8"
             },
             "line": {
              "color": "white"
             }
            },
            "header": {
             "fill": {
              "color": "#C8D4E3"
             },
             "line": {
              "color": "white"
             }
            },
            "type": "table"
           }
          ]
         },
         "layout": {
          "annotationdefaults": {
           "arrowcolor": "#2a3f5f",
           "arrowhead": 0,
           "arrowwidth": 1
          },
          "coloraxis": {
           "colorbar": {
            "outlinewidth": 0,
            "ticks": ""
           }
          },
          "colorscale": {
           "diverging": [
            [
             0,
             "#8e0152"
            ],
            [
             0.1,
             "#c51b7d"
            ],
            [
             0.2,
             "#de77ae"
            ],
            [
             0.3,
             "#f1b6da"
            ],
            [
             0.4,
             "#fde0ef"
            ],
            [
             0.5,
             "#f7f7f7"
            ],
            [
             0.6,
             "#e6f5d0"
            ],
            [
             0.7,
             "#b8e186"
            ],
            [
             0.8,
             "#7fbc41"
            ],
            [
             0.9,
             "#4d9221"
            ],
            [
             1,
             "#276419"
            ]
           ],
           "sequential": [
            [
             0,
             "#0d0887"
            ],
            [
             0.1111111111111111,
             "#46039f"
            ],
            [
             0.2222222222222222,
             "#7201a8"
            ],
            [
             0.3333333333333333,
             "#9c179e"
            ],
            [
             0.4444444444444444,
             "#bd3786"
            ],
            [
             0.5555555555555556,
             "#d8576b"
            ],
            [
             0.6666666666666666,
             "#ed7953"
            ],
            [
             0.7777777777777778,
             "#fb9f3a"
            ],
            [
             0.8888888888888888,
             "#fdca26"
            ],
            [
             1,
             "#f0f921"
            ]
           ],
           "sequentialminus": [
            [
             0,
             "#0d0887"
            ],
            [
             0.1111111111111111,
             "#46039f"
            ],
            [
             0.2222222222222222,
             "#7201a8"
            ],
            [
             0.3333333333333333,
             "#9c179e"
            ],
            [
             0.4444444444444444,
             "#bd3786"
            ],
            [
             0.5555555555555556,
             "#d8576b"
            ],
            [
             0.6666666666666666,
             "#ed7953"
            ],
            [
             0.7777777777777778,
             "#fb9f3a"
            ],
            [
             0.8888888888888888,
             "#fdca26"
            ],
            [
             1,
             "#f0f921"
            ]
           ]
          },
          "colorway": [
           "#636efa",
           "#EF553B",
           "#00cc96",
           "#ab63fa",
           "#FFA15A",
           "#19d3f3",
           "#FF6692",
           "#B6E880",
           "#FF97FF",
           "#FECB52"
          ],
          "font": {
           "color": "#2a3f5f"
          },
          "geo": {
           "bgcolor": "white",
           "lakecolor": "white",
           "landcolor": "#E5ECF6",
           "showlakes": true,
           "showland": true,
           "subunitcolor": "white"
          },
          "hoverlabel": {
           "align": "left"
          },
          "hovermode": "closest",
          "mapbox": {
           "style": "light"
          },
          "paper_bgcolor": "white",
          "plot_bgcolor": "#E5ECF6",
          "polar": {
           "angularaxis": {
            "gridcolor": "white",
            "linecolor": "white",
            "ticks": ""
           },
           "bgcolor": "#E5ECF6",
           "radialaxis": {
            "gridcolor": "white",
            "linecolor": "white",
            "ticks": ""
           }
          },
          "scene": {
           "xaxis": {
            "backgroundcolor": "#E5ECF6",
            "gridcolor": "white",
            "gridwidth": 2,
            "linecolor": "white",
            "showbackground": true,
            "ticks": "",
            "zerolinecolor": "white"
           },
           "yaxis": {
            "backgroundcolor": "#E5ECF6",
            "gridcolor": "white",
            "gridwidth": 2,
            "linecolor": "white",
            "showbackground": true,
            "ticks": "",
            "zerolinecolor": "white"
           },
           "zaxis": {
            "backgroundcolor": "#E5ECF6",
            "gridcolor": "white",
            "gridwidth": 2,
            "linecolor": "white",
            "showbackground": true,
            "ticks": "",
            "zerolinecolor": "white"
           }
          },
          "shapedefaults": {
           "line": {
            "color": "#2a3f5f"
           }
          },
          "ternary": {
           "aaxis": {
            "gridcolor": "white",
            "linecolor": "white",
            "ticks": ""
           },
           "baxis": {
            "gridcolor": "white",
            "linecolor": "white",
            "ticks": ""
           },
           "bgcolor": "#E5ECF6",
           "caxis": {
            "gridcolor": "white",
            "linecolor": "white",
            "ticks": ""
           }
          },
          "title": {
           "x": 0.05
          },
          "xaxis": {
           "automargin": true,
           "gridcolor": "white",
           "linecolor": "white",
           "ticks": "",
           "title": {
            "standoff": 15
           },
           "zerolinecolor": "white",
           "zerolinewidth": 2
          },
          "yaxis": {
           "automargin": true,
           "gridcolor": "white",
           "linecolor": "white",
           "ticks": "",
           "title": {
            "standoff": 15
           },
           "zerolinecolor": "white",
           "zerolinewidth": 2
          }
         }
        },
        "xaxis": {
         "anchor": "y",
         "domain": [
          0,
          0.45
         ]
        },
        "xaxis2": {
         "anchor": "y2",
         "domain": [
          0.55,
          1
         ]
        },
        "yaxis": {
         "anchor": "x",
         "domain": [
          0,
          1
         ]
        },
        "yaxis2": {
         "anchor": "x2",
         "domain": [
          0,
          1
         ]
        }
       }
      }
     },
     "metadata": {}
    },
    {
     "output_type": "stream",
     "name": "stdout",
     "text": "0.0343865793857196\n"
    }
   ],
   "source": [
    "x, sin_data, sqr_data = data_gen(0, 2*np.pi)\n",
    "t_x, t_sin_data, t_sqr_data = data_gen(0.05, 2*np.pi)\n",
    "\n",
    "n = 10\n",
    "epochs = 1 # Actually only one iteration is enough for least squre method\n",
    "\n",
    "RBFNet = RBF_Network(n, x, add_noise=True)\n",
    "# RBFNet.init_cl(x, 50, 1e-2, useBias=True) # Uncomment this to use CL initialization\n",
    "RBFNet.train_network(epochs, x, sin_data, t_x, t_sin_data)\n",
    "res_error = RBFNet.validate(t_x, t_sin_data, _plot=True)\n",
    "\n",
    "print(res_error)"
   ]
  },
  {
   "source": [
    "Square(2x)"
   ],
   "cell_type": "markdown",
   "metadata": {}
  },
  {
   "cell_type": "code",
   "execution_count": 174,
   "metadata": {
    "tags": []
   },
   "outputs": [
    {
     "output_type": "display_data",
     "data": {
      "application/vnd.plotly.v1+json": {
       "config": {
        "plotlyServerURL": "https://plot.ly"
       },
       "data": [
        {
         "mode": "lines",
         "name": "Residual error",
         "type": "scatter",
         "x": [
          0,
          1
         ],
         "xaxis": "x2",
         "y": [
          0,
          0
         ],
         "yaxis": "y2"
        },
        {
         "mode": "lines",
         "name": "Original",
         "type": "scatter",
         "x": [
          0.05,
          0.1,
          0.15000000000000002,
          0.2,
          0.25,
          0.3,
          0.35000000000000003,
          0.4,
          0.45,
          0.5,
          0.55,
          0.6000000000000001,
          0.6500000000000001,
          0.7000000000000001,
          0.7500000000000001,
          0.8,
          0.8500000000000001,
          0.9000000000000001,
          0.9500000000000001,
          1,
          1.05,
          1.1,
          1.1500000000000001,
          1.2000000000000002,
          1.2500000000000002,
          1.3,
          1.35,
          1.4000000000000001,
          1.4500000000000002,
          1.5000000000000002,
          1.55,
          1.6,
          1.6500000000000001,
          1.7000000000000002,
          1.7500000000000002,
          1.8,
          1.85,
          1.9000000000000001,
          1.9500000000000002,
          2,
          2.05,
          2.1,
          2.15,
          2.1999999999999997,
          2.25,
          2.3,
          2.35,
          2.4,
          2.45,
          2.5,
          2.55,
          2.6,
          2.65,
          2.7,
          2.75,
          2.8,
          2.85,
          2.9,
          2.95,
          3,
          3.05,
          3.1,
          3.15,
          3.2,
          3.25,
          3.3,
          3.35,
          3.4,
          3.45,
          3.5,
          3.55,
          3.6,
          3.65,
          3.7,
          3.75,
          3.8,
          3.85,
          3.9,
          3.95,
          4,
          4.05,
          4.1,
          4.15,
          4.2,
          4.25,
          4.3,
          4.35,
          4.4,
          4.45,
          4.5,
          4.55,
          4.6,
          4.65,
          4.7,
          4.75,
          4.8,
          4.8500000000000005,
          4.9,
          4.95,
          5,
          5.05,
          5.1000000000000005,
          5.15,
          5.2,
          5.25,
          5.3,
          5.3500000000000005,
          5.4,
          5.45,
          5.5,
          5.55,
          5.6000000000000005,
          5.65,
          5.7,
          5.75,
          5.8,
          5.8500000000000005,
          5.9,
          5.95,
          6,
          6.05,
          6.1000000000000005,
          6.15,
          6.2,
          6.25
         ],
         "xaxis": "x",
         "y": [
          1,
          1,
          1,
          1,
          1,
          1,
          1,
          1,
          1,
          1,
          1,
          1,
          1,
          1,
          1,
          1,
          1,
          1,
          1,
          1,
          1,
          1,
          1,
          1,
          1,
          1,
          1,
          1,
          1,
          1,
          1,
          -1,
          -1,
          -1,
          -1,
          -1,
          -1,
          -1,
          -1,
          -1,
          -1,
          -1,
          -1,
          -1,
          -1,
          -1,
          -1,
          -1,
          -1,
          -1,
          -1,
          -1,
          -1,
          -1,
          -1,
          -1,
          -1,
          -1,
          -1,
          -1,
          -1,
          -1,
          1,
          1,
          1,
          1,
          1,
          1,
          1,
          1,
          1,
          1,
          1,
          1,
          1,
          1,
          1,
          1,
          1,
          1,
          1,
          1,
          1,
          1,
          1,
          1,
          1,
          1,
          1,
          1,
          1,
          1,
          1,
          1,
          -1,
          -1,
          -1,
          -1,
          -1,
          -1,
          -1,
          -1,
          -1,
          -1,
          -1,
          -1,
          -1,
          -1,
          -1,
          -1,
          -1,
          -1,
          -1,
          -1,
          -1,
          -1,
          -1,
          -1,
          -1,
          -1,
          -1,
          -1,
          -1,
          -1,
          -1
         ],
         "yaxis": "y"
        },
        {
         "mode": "lines",
         "name": "Approximated",
         "type": "scatter",
         "x": [
          0.05,
          0.1,
          0.15000000000000002,
          0.2,
          0.25,
          0.3,
          0.35000000000000003,
          0.4,
          0.45,
          0.5,
          0.55,
          0.6000000000000001,
          0.6500000000000001,
          0.7000000000000001,
          0.7500000000000001,
          0.8,
          0.8500000000000001,
          0.9000000000000001,
          0.9500000000000001,
          1,
          1.05,
          1.1,
          1.1500000000000001,
          1.2000000000000002,
          1.2500000000000002,
          1.3,
          1.35,
          1.4000000000000001,
          1.4500000000000002,
          1.5000000000000002,
          1.55,
          1.6,
          1.6500000000000001,
          1.7000000000000002,
          1.7500000000000002,
          1.8,
          1.85,
          1.9000000000000001,
          1.9500000000000002,
          2,
          2.05,
          2.1,
          2.15,
          2.1999999999999997,
          2.25,
          2.3,
          2.35,
          2.4,
          2.45,
          2.5,
          2.55,
          2.6,
          2.65,
          2.7,
          2.75,
          2.8,
          2.85,
          2.9,
          2.95,
          3,
          3.05,
          3.1,
          3.15,
          3.2,
          3.25,
          3.3,
          3.35,
          3.4,
          3.45,
          3.5,
          3.55,
          3.6,
          3.65,
          3.7,
          3.75,
          3.8,
          3.85,
          3.9,
          3.95,
          4,
          4.05,
          4.1,
          4.15,
          4.2,
          4.25,
          4.3,
          4.35,
          4.4,
          4.45,
          4.5,
          4.55,
          4.6,
          4.65,
          4.7,
          4.75,
          4.8,
          4.8500000000000005,
          4.9,
          4.95,
          5,
          5.05,
          5.1000000000000005,
          5.15,
          5.2,
          5.25,
          5.3,
          5.3500000000000005,
          5.4,
          5.45,
          5.5,
          5.55,
          5.6000000000000005,
          5.65,
          5.7,
          5.75,
          5.8,
          5.8500000000000005,
          5.9,
          5.95,
          6,
          6.05,
          6.1000000000000005,
          6.15,
          6.2,
          6.25
         ],
         "xaxis": "x",
         "y": [
          1,
          1,
          1,
          1,
          1,
          1,
          1,
          1,
          1,
          1,
          1,
          1,
          1,
          1,
          1,
          1,
          1,
          1,
          1,
          1,
          1,
          1,
          1,
          1,
          1,
          1,
          1,
          1,
          1,
          1,
          1,
          -1,
          -1,
          -1,
          -1,
          -1,
          -1,
          -1,
          -1,
          -1,
          -1,
          -1,
          -1,
          -1,
          -1,
          -1,
          -1,
          -1,
          -1,
          -1,
          -1,
          -1,
          -1,
          -1,
          -1,
          -1,
          -1,
          -1,
          -1,
          -1,
          -1,
          -1,
          1,
          1,
          1,
          1,
          1,
          1,
          1,
          1,
          1,
          1,
          1,
          1,
          1,
          1,
          1,
          1,
          1,
          1,
          1,
          1,
          1,
          1,
          1,
          1,
          1,
          1,
          1,
          1,
          1,
          1,
          1,
          1,
          -1,
          -1,
          -1,
          -1,
          -1,
          -1,
          -1,
          -1,
          -1,
          -1,
          -1,
          -1,
          -1,
          -1,
          -1,
          -1,
          -1,
          -1,
          -1,
          -1,
          -1,
          -1,
          -1,
          -1,
          -1,
          -1,
          -1,
          -1,
          -1,
          -1,
          -1
         ],
         "yaxis": "y"
        }
       ],
       "layout": {
        "annotations": [
         {
          "font": {
           "size": 16
          },
          "showarrow": false,
          "text": "Validation with n=10",
          "x": 0.225,
          "xanchor": "center",
          "xref": "paper",
          "y": 1,
          "yanchor": "bottom",
          "yref": "paper"
         },
         {
          "font": {
           "size": 16
          },
          "showarrow": false,
          "text": "Residual error",
          "x": 0.775,
          "xanchor": "center",
          "xref": "paper",
          "y": 1,
          "yanchor": "bottom",
          "yref": "paper"
         }
        ],
        "template": {
         "data": {
          "bar": [
           {
            "error_x": {
             "color": "#2a3f5f"
            },
            "error_y": {
             "color": "#2a3f5f"
            },
            "marker": {
             "line": {
              "color": "#E5ECF6",
              "width": 0.5
             }
            },
            "type": "bar"
           }
          ],
          "barpolar": [
           {
            "marker": {
             "line": {
              "color": "#E5ECF6",
              "width": 0.5
             }
            },
            "type": "barpolar"
           }
          ],
          "carpet": [
           {
            "aaxis": {
             "endlinecolor": "#2a3f5f",
             "gridcolor": "white",
             "linecolor": "white",
             "minorgridcolor": "white",
             "startlinecolor": "#2a3f5f"
            },
            "baxis": {
             "endlinecolor": "#2a3f5f",
             "gridcolor": "white",
             "linecolor": "white",
             "minorgridcolor": "white",
             "startlinecolor": "#2a3f5f"
            },
            "type": "carpet"
           }
          ],
          "choropleth": [
           {
            "colorbar": {
             "outlinewidth": 0,
             "ticks": ""
            },
            "type": "choropleth"
           }
          ],
          "contour": [
           {
            "colorbar": {
             "outlinewidth": 0,
             "ticks": ""
            },
            "colorscale": [
             [
              0,
              "#0d0887"
             ],
             [
              0.1111111111111111,
              "#46039f"
             ],
             [
              0.2222222222222222,
              "#7201a8"
             ],
             [
              0.3333333333333333,
              "#9c179e"
             ],
             [
              0.4444444444444444,
              "#bd3786"
             ],
             [
              0.5555555555555556,
              "#d8576b"
             ],
             [
              0.6666666666666666,
              "#ed7953"
             ],
             [
              0.7777777777777778,
              "#fb9f3a"
             ],
             [
              0.8888888888888888,
              "#fdca26"
             ],
             [
              1,
              "#f0f921"
             ]
            ],
            "type": "contour"
           }
          ],
          "contourcarpet": [
           {
            "colorbar": {
             "outlinewidth": 0,
             "ticks": ""
            },
            "type": "contourcarpet"
           }
          ],
          "heatmap": [
           {
            "colorbar": {
             "outlinewidth": 0,
             "ticks": ""
            },
            "colorscale": [
             [
              0,
              "#0d0887"
             ],
             [
              0.1111111111111111,
              "#46039f"
             ],
             [
              0.2222222222222222,
              "#7201a8"
             ],
             [
              0.3333333333333333,
              "#9c179e"
             ],
             [
              0.4444444444444444,
              "#bd3786"
             ],
             [
              0.5555555555555556,
              "#d8576b"
             ],
             [
              0.6666666666666666,
              "#ed7953"
             ],
             [
              0.7777777777777778,
              "#fb9f3a"
             ],
             [
              0.8888888888888888,
              "#fdca26"
             ],
             [
              1,
              "#f0f921"
             ]
            ],
            "type": "heatmap"
           }
          ],
          "heatmapgl": [
           {
            "colorbar": {
             "outlinewidth": 0,
             "ticks": ""
            },
            "colorscale": [
             [
              0,
              "#0d0887"
             ],
             [
              0.1111111111111111,
              "#46039f"
             ],
             [
              0.2222222222222222,
              "#7201a8"
             ],
             [
              0.3333333333333333,
              "#9c179e"
             ],
             [
              0.4444444444444444,
              "#bd3786"
             ],
             [
              0.5555555555555556,
              "#d8576b"
             ],
             [
              0.6666666666666666,
              "#ed7953"
             ],
             [
              0.7777777777777778,
              "#fb9f3a"
             ],
             [
              0.8888888888888888,
              "#fdca26"
             ],
             [
              1,
              "#f0f921"
             ]
            ],
            "type": "heatmapgl"
           }
          ],
          "histogram": [
           {
            "marker": {
             "colorbar": {
              "outlinewidth": 0,
              "ticks": ""
             }
            },
            "type": "histogram"
           }
          ],
          "histogram2d": [
           {
            "colorbar": {
             "outlinewidth": 0,
             "ticks": ""
            },
            "colorscale": [
             [
              0,
              "#0d0887"
             ],
             [
              0.1111111111111111,
              "#46039f"
             ],
             [
              0.2222222222222222,
              "#7201a8"
             ],
             [
              0.3333333333333333,
              "#9c179e"
             ],
             [
              0.4444444444444444,
              "#bd3786"
             ],
             [
              0.5555555555555556,
              "#d8576b"
             ],
             [
              0.6666666666666666,
              "#ed7953"
             ],
             [
              0.7777777777777778,
              "#fb9f3a"
             ],
             [
              0.8888888888888888,
              "#fdca26"
             ],
             [
              1,
              "#f0f921"
             ]
            ],
            "type": "histogram2d"
           }
          ],
          "histogram2dcontour": [
           {
            "colorbar": {
             "outlinewidth": 0,
             "ticks": ""
            },
            "colorscale": [
             [
              0,
              "#0d0887"
             ],
             [
              0.1111111111111111,
              "#46039f"
             ],
             [
              0.2222222222222222,
              "#7201a8"
             ],
             [
              0.3333333333333333,
              "#9c179e"
             ],
             [
              0.4444444444444444,
              "#bd3786"
             ],
             [
              0.5555555555555556,
              "#d8576b"
             ],
             [
              0.6666666666666666,
              "#ed7953"
             ],
             [
              0.7777777777777778,
              "#fb9f3a"
             ],
             [
              0.8888888888888888,
              "#fdca26"
             ],
             [
              1,
              "#f0f921"
             ]
            ],
            "type": "histogram2dcontour"
           }
          ],
          "mesh3d": [
           {
            "colorbar": {
             "outlinewidth": 0,
             "ticks": ""
            },
            "type": "mesh3d"
           }
          ],
          "parcoords": [
           {
            "line": {
             "colorbar": {
              "outlinewidth": 0,
              "ticks": ""
             }
            },
            "type": "parcoords"
           }
          ],
          "pie": [
           {
            "automargin": true,
            "type": "pie"
           }
          ],
          "scatter": [
           {
            "marker": {
             "colorbar": {
              "outlinewidth": 0,
              "ticks": ""
             }
            },
            "type": "scatter"
           }
          ],
          "scatter3d": [
           {
            "line": {
             "colorbar": {
              "outlinewidth": 0,
              "ticks": ""
             }
            },
            "marker": {
             "colorbar": {
              "outlinewidth": 0,
              "ticks": ""
             }
            },
            "type": "scatter3d"
           }
          ],
          "scattercarpet": [
           {
            "marker": {
             "colorbar": {
              "outlinewidth": 0,
              "ticks": ""
             }
            },
            "type": "scattercarpet"
           }
          ],
          "scattergeo": [
           {
            "marker": {
             "colorbar": {
              "outlinewidth": 0,
              "ticks": ""
             }
            },
            "type": "scattergeo"
           }
          ],
          "scattergl": [
           {
            "marker": {
             "colorbar": {
              "outlinewidth": 0,
              "ticks": ""
             }
            },
            "type": "scattergl"
           }
          ],
          "scattermapbox": [
           {
            "marker": {
             "colorbar": {
              "outlinewidth": 0,
              "ticks": ""
             }
            },
            "type": "scattermapbox"
           }
          ],
          "scatterpolar": [
           {
            "marker": {
             "colorbar": {
              "outlinewidth": 0,
              "ticks": ""
             }
            },
            "type": "scatterpolar"
           }
          ],
          "scatterpolargl": [
           {
            "marker": {
             "colorbar": {
              "outlinewidth": 0,
              "ticks": ""
             }
            },
            "type": "scatterpolargl"
           }
          ],
          "scatterternary": [
           {
            "marker": {
             "colorbar": {
              "outlinewidth": 0,
              "ticks": ""
             }
            },
            "type": "scatterternary"
           }
          ],
          "surface": [
           {
            "colorbar": {
             "outlinewidth": 0,
             "ticks": ""
            },
            "colorscale": [
             [
              0,
              "#0d0887"
             ],
             [
              0.1111111111111111,
              "#46039f"
             ],
             [
              0.2222222222222222,
              "#7201a8"
             ],
             [
              0.3333333333333333,
              "#9c179e"
             ],
             [
              0.4444444444444444,
              "#bd3786"
             ],
             [
              0.5555555555555556,
              "#d8576b"
             ],
             [
              0.6666666666666666,
              "#ed7953"
             ],
             [
              0.7777777777777778,
              "#fb9f3a"
             ],
             [
              0.8888888888888888,
              "#fdca26"
             ],
             [
              1,
              "#f0f921"
             ]
            ],
            "type": "surface"
           }
          ],
          "table": [
           {
            "cells": {
             "fill": {
              "color": "#EBF0F8"
             },
             "line": {
              "color": "white"
             }
            },
            "header": {
             "fill": {
              "color": "#C8D4E3"
             },
             "line": {
              "color": "white"
             }
            },
            "type": "table"
           }
          ]
         },
         "layout": {
          "annotationdefaults": {
           "arrowcolor": "#2a3f5f",
           "arrowhead": 0,
           "arrowwidth": 1
          },
          "coloraxis": {
           "colorbar": {
            "outlinewidth": 0,
            "ticks": ""
           }
          },
          "colorscale": {
           "diverging": [
            [
             0,
             "#8e0152"
            ],
            [
             0.1,
             "#c51b7d"
            ],
            [
             0.2,
             "#de77ae"
            ],
            [
             0.3,
             "#f1b6da"
            ],
            [
             0.4,
             "#fde0ef"
            ],
            [
             0.5,
             "#f7f7f7"
            ],
            [
             0.6,
             "#e6f5d0"
            ],
            [
             0.7,
             "#b8e186"
            ],
            [
             0.8,
             "#7fbc41"
            ],
            [
             0.9,
             "#4d9221"
            ],
            [
             1,
             "#276419"
            ]
           ],
           "sequential": [
            [
             0,
             "#0d0887"
            ],
            [
             0.1111111111111111,
             "#46039f"
            ],
            [
             0.2222222222222222,
             "#7201a8"
            ],
            [
             0.3333333333333333,
             "#9c179e"
            ],
            [
             0.4444444444444444,
             "#bd3786"
            ],
            [
             0.5555555555555556,
             "#d8576b"
            ],
            [
             0.6666666666666666,
             "#ed7953"
            ],
            [
             0.7777777777777778,
             "#fb9f3a"
            ],
            [
             0.8888888888888888,
             "#fdca26"
            ],
            [
             1,
             "#f0f921"
            ]
           ],
           "sequentialminus": [
            [
             0,
             "#0d0887"
            ],
            [
             0.1111111111111111,
             "#46039f"
            ],
            [
             0.2222222222222222,
             "#7201a8"
            ],
            [
             0.3333333333333333,
             "#9c179e"
            ],
            [
             0.4444444444444444,
             "#bd3786"
            ],
            [
             0.5555555555555556,
             "#d8576b"
            ],
            [
             0.6666666666666666,
             "#ed7953"
            ],
            [
             0.7777777777777778,
             "#fb9f3a"
            ],
            [
             0.8888888888888888,
             "#fdca26"
            ],
            [
             1,
             "#f0f921"
            ]
           ]
          },
          "colorway": [
           "#636efa",
           "#EF553B",
           "#00cc96",
           "#ab63fa",
           "#FFA15A",
           "#19d3f3",
           "#FF6692",
           "#B6E880",
           "#FF97FF",
           "#FECB52"
          ],
          "font": {
           "color": "#2a3f5f"
          },
          "geo": {
           "bgcolor": "white",
           "lakecolor": "white",
           "landcolor": "#E5ECF6",
           "showlakes": true,
           "showland": true,
           "subunitcolor": "white"
          },
          "hoverlabel": {
           "align": "left"
          },
          "hovermode": "closest",
          "mapbox": {
           "style": "light"
          },
          "paper_bgcolor": "white",
          "plot_bgcolor": "#E5ECF6",
          "polar": {
           "angularaxis": {
            "gridcolor": "white",
            "linecolor": "white",
            "ticks": ""
           },
           "bgcolor": "#E5ECF6",
           "radialaxis": {
            "gridcolor": "white",
            "linecolor": "white",
            "ticks": ""
           }
          },
          "scene": {
           "xaxis": {
            "backgroundcolor": "#E5ECF6",
            "gridcolor": "white",
            "gridwidth": 2,
            "linecolor": "white",
            "showbackground": true,
            "ticks": "",
            "zerolinecolor": "white"
           },
           "yaxis": {
            "backgroundcolor": "#E5ECF6",
            "gridcolor": "white",
            "gridwidth": 2,
            "linecolor": "white",
            "showbackground": true,
            "ticks": "",
            "zerolinecolor": "white"
           },
           "zaxis": {
            "backgroundcolor": "#E5ECF6",
            "gridcolor": "white",
            "gridwidth": 2,
            "linecolor": "white",
            "showbackground": true,
            "ticks": "",
            "zerolinecolor": "white"
           }
          },
          "shapedefaults": {
           "line": {
            "color": "#2a3f5f"
           }
          },
          "ternary": {
           "aaxis": {
            "gridcolor": "white",
            "linecolor": "white",
            "ticks": ""
           },
           "baxis": {
            "gridcolor": "white",
            "linecolor": "white",
            "ticks": ""
           },
           "bgcolor": "#E5ECF6",
           "caxis": {
            "gridcolor": "white",
            "linecolor": "white",
            "ticks": ""
           }
          },
          "title": {
           "x": 0.05
          },
          "xaxis": {
           "automargin": true,
           "gridcolor": "white",
           "linecolor": "white",
           "ticks": "",
           "title": {
            "standoff": 15
           },
           "zerolinecolor": "white",
           "zerolinewidth": 2
          },
          "yaxis": {
           "automargin": true,
           "gridcolor": "white",
           "linecolor": "white",
           "ticks": "",
           "title": {
            "standoff": 15
           },
           "zerolinecolor": "white",
           "zerolinewidth": 2
          }
         }
        },
        "xaxis": {
         "anchor": "y",
         "domain": [
          0,
          0.45
         ]
        },
        "xaxis2": {
         "anchor": "y2",
         "domain": [
          0.55,
          1
         ]
        },
        "yaxis": {
         "anchor": "x",
         "domain": [
          0,
          1
         ]
        },
        "yaxis2": {
         "anchor": "x2",
         "domain": [
          0,
          1
         ]
        }
       }
      }
     },
     "metadata": {}
    },
    {
     "output_type": "stream",
     "name": "stdout",
     "text": "0.0\n"
    }
   ],
   "source": [
    "x, sin_data, sqr_data = data_gen(0, 2*np.pi)\n",
    "t_x, t_sin_data, t_sqr_data = data_gen(0.05, 2*np.pi, step=0.05)\n",
    "\n",
    "n = 10\n",
    "epochs = 2\n",
    "\n",
    "RBFNet = RBF_Network(n, x, useSqr=True)\n",
    "\n",
    "# RBFNet.init_cl(x, 50, 1e-2) # Uncomment this to use CL initialization\n",
    "RBFNet.train_network(epochs, x, sqr_data, t_x, t_sqr_data)\n",
    "res_error = RBFNet.validate(t_x, t_sqr_data, _plot=True)\n",
    "\n",
    "print(res_error)"
   ]
  },
  {
   "source": [
    "Delta learining"
   ],
   "cell_type": "markdown",
   "metadata": {}
  },
  {
   "cell_type": "code",
   "execution_count": 6,
   "metadata": {
    "tags": []
   },
   "outputs": [
    {
     "output_type": "display_data",
     "data": {
      "application/vnd.plotly.v1+json": {
       "config": {
        "plotlyServerURL": "https://plot.ly"
       },
       "data": [
        {
         "mode": "lines",
         "name": "Residual error",
         "type": "scatter",
         "x": [
          0,
          1,
          2,
          3,
          4,
          5,
          6,
          7,
          8,
          9,
          10,
          11,
          12,
          13,
          14,
          15,
          16,
          17,
          18,
          19,
          20,
          21,
          22,
          23,
          24,
          25,
          26,
          27,
          28,
          29,
          30,
          31,
          32,
          33,
          34,
          35,
          36,
          37,
          38,
          39,
          40,
          41,
          42,
          43,
          44,
          45,
          46,
          47,
          48,
          49,
          50,
          51,
          52,
          53,
          54,
          55,
          56,
          57,
          58,
          59,
          60,
          61,
          62,
          63,
          64,
          65,
          66,
          67,
          68,
          69,
          70,
          71,
          72,
          73,
          74,
          75,
          76,
          77,
          78,
          79,
          80,
          81,
          82,
          83,
          84,
          85,
          86,
          87,
          88,
          89,
          90,
          91,
          92,
          93,
          94,
          95,
          96,
          97,
          98,
          99
         ],
         "xaxis": "x2",
         "y": [
          0.36432065499522237,
          0.3972117875580928,
          0.3798848651060302,
          0.3635487480597179,
          0.349177642026638,
          0.3364266207496242,
          0.3260645279985686,
          0.31794691953684084,
          0.310775462183847,
          0.3042181433219109,
          0.2980702341210479,
          0.2926763388137374,
          0.28765868291658125,
          0.28287128336192857,
          0.2782938782320546,
          0.27390824743520553,
          0.26969800316539266,
          0.265873457538244,
          0.26223224237201803,
          0.25869570837039796,
          0.2552563266073288,
          0.25190730153728225,
          0.24873850764986713,
          0.24567269255609575,
          0.24266476966136824,
          0.239711873509054,
          0.23681139400729567,
          0.23400207731809217,
          0.23126384847691214,
          0.22856741551398405,
          0.22591135387030956,
          0.2233415819570277,
          0.220826391866412,
          0.2183408743929592,
          0.21588472194833982,
          0.2134576236226479,
          0.21105926606184128,
          0.2086893342429526,
          0.20634751215798572,
          0.2040334834162753,
          0.20174693177406394,
          0.1994875415991352,
          0.19725499827752124,
          0.19504898856856773,
          0.19286920091397639,
          0.19071532570585917,
          0.18858705551830454,
          0.186484085306484,
          0.18440611257690015,
          0.18235283753199646,
          0.18032396319201247,
          0.17831919549665115,
          0.17633824338886578,
          0.17438081888281567,
          0.17244663711782854,
          0.1705354164000052,
          0.1686468782329322,
          0.16678074733880327,
          0.1649367516711135,
          0.16311462241996597,
          0.16131409401090985,
          0.15953490409813742,
          0.15777679355276822,
          0.15603950644687703,
          0.15432279003383473,
          0.15266267491163038,
          0.15102271944061252,
          0.1494021162462079,
          0.14780063683915826,
          0.1462180549572133,
          0.1446541466137668,
          0.14310869013695676,
          0.1415814662003239,
          0.1400722578459985,
          0.13858085050129498,
          0.13710703198948196,
          0.13565059253543463,
          0.13421132476677824,
          0.13278902371108048,
          0.13138348678959097,
          0.12999451380795124,
          0.12863775222028095,
          0.12731337245690832,
          0.12600461421441297,
          0.12471128928277436,
          0.12343321186051882,
          0.1221701985204932,
          0.12093740383533252,
          0.11971992058405781,
          0.11851678322934917,
          0.1173278187099094,
          0.11615285627525977,
          0.11499172743993459,
          0.11386710845048444,
          0.11276927815803475,
          0.11168436405815736,
          0.11061221147930907,
          0.10955266772174792,
          0.108505582026387,
          0.10747080554446545
         ],
         "yaxis": "y2"
        },
        {
         "mode": "lines",
         "name": "Original",
         "type": "scatter",
         "x": [
          0.05,
          0.15000000000000002,
          0.25000000000000006,
          0.35000000000000003,
          0.45000000000000007,
          0.5500000000000002,
          0.6500000000000001,
          0.7500000000000002,
          0.8500000000000002,
          0.9500000000000002,
          1.0500000000000003,
          1.1500000000000004,
          1.2500000000000002,
          1.3500000000000003,
          1.4500000000000004,
          1.5500000000000003,
          1.6500000000000004,
          1.7500000000000004,
          1.8500000000000003,
          1.9500000000000004,
          2.0500000000000003,
          2.1500000000000004,
          2.2500000000000004,
          2.35,
          2.45,
          2.5500000000000003,
          2.6500000000000004,
          2.7500000000000004,
          2.8500000000000005,
          2.95,
          3.0500000000000003,
          3.1500000000000004,
          3.2500000000000004,
          3.3500000000000005,
          3.4500000000000006,
          3.5500000000000007,
          3.6500000000000004,
          3.7500000000000004,
          3.8500000000000005,
          3.9500000000000006,
          4.050000000000001,
          4.15,
          4.250000000000001,
          4.3500000000000005,
          4.450000000000001,
          4.550000000000001,
          4.65,
          4.750000000000001,
          4.8500000000000005,
          4.950000000000001,
          5.050000000000001,
          5.150000000000001,
          5.250000000000001,
          5.3500000000000005,
          5.450000000000001,
          5.550000000000001,
          5.650000000000001,
          5.750000000000001,
          5.8500000000000005,
          5.950000000000001,
          6.050000000000001,
          6.150000000000001,
          6.250000000000001
         ],
         "xaxis": "x",
         "y": [
          0.09983341664682815,
          0.2955202066613396,
          0.4794255386042031,
          0.6442176872376911,
          0.7833269096274835,
          0.8912073600614355,
          0.9635581854171931,
          0.9974949866040544,
          0.9916648104524686,
          0.9463000876874144,
          0.8632093666488735,
          0.7457052121767197,
          0.5984721441039561,
          0.4273798802338294,
          0.23924932921398157,
          0.04158066243329005,
          -0.15774569414324907,
          -0.35078322768962067,
          -0.5298361409084937,
          -0.6877661591839744,
          -0.8182771110644108,
          -0.9161659367494552,
          -0.9775301176650972,
          -0.9999232575641008,
          -0.9824526126243325,
          -0.9258146823277321,
          -0.8322674422239008,
          -0.7055403255703913,
          -0.5506855425976369,
          -0.373876664830236,
          -0.18216250427209502,
          0.0168139004843506,
          0.2151199880878164,
          0.40484992061659913,
          0.5784397643882009,
          0.7289690401258772,
          0.8504366206285648,
          0.9379999767747391,
          0.9881682338770005,
          0.998941341839772,
          0.9698898108450859,
          0.9021718337562933,
          0.7984871126234893,
          0.662969230082182,
          0.5010208564578832,
          0.3190983623493504,
          0.1244544235070617,
          -0.07515112046181108,
          -0.2717606264109442,
          -0.45753589377532294,
          -0.6250706488928834,
          -0.7676858097635836,
          -0.8796957599716709,
          -0.9566350162701884,
          -0.9954362533063775,
          -0.9945525882039891,
          -0.9540192499020884,
          -0.8754521746884276,
          -0.7619835839190321,
          -0.6181371122370319,
          -0.44964746453459986,
          -0.2632317913657993,
          -0.06632189735119892
         ],
         "yaxis": "y"
        },
        {
         "mode": "lines",
         "name": "Approximated",
         "type": "scatter",
         "x": [
          0.05,
          0.15000000000000002,
          0.25000000000000006,
          0.35000000000000003,
          0.45000000000000007,
          0.5500000000000002,
          0.6500000000000001,
          0.7500000000000002,
          0.8500000000000002,
          0.9500000000000002,
          1.0500000000000003,
          1.1500000000000004,
          1.2500000000000002,
          1.3500000000000003,
          1.4500000000000004,
          1.5500000000000003,
          1.6500000000000004,
          1.7500000000000004,
          1.8500000000000003,
          1.9500000000000004,
          2.0500000000000003,
          2.1500000000000004,
          2.2500000000000004,
          2.35,
          2.45,
          2.5500000000000003,
          2.6500000000000004,
          2.7500000000000004,
          2.8500000000000005,
          2.95,
          3.0500000000000003,
          3.1500000000000004,
          3.2500000000000004,
          3.3500000000000005,
          3.4500000000000006,
          3.5500000000000007,
          3.6500000000000004,
          3.7500000000000004,
          3.8500000000000005,
          3.9500000000000006,
          4.050000000000001,
          4.15,
          4.250000000000001,
          4.3500000000000005,
          4.450000000000001,
          4.550000000000001,
          4.65,
          4.750000000000001,
          4.8500000000000005,
          4.950000000000001,
          5.050000000000001,
          5.150000000000001,
          5.250000000000001,
          5.3500000000000005,
          5.450000000000001,
          5.550000000000001,
          5.650000000000001,
          5.750000000000001,
          5.8500000000000005,
          5.950000000000001,
          6.050000000000001,
          6.150000000000001,
          6.250000000000001
         ],
         "xaxis": "x",
         "y": [
          0.9744626856373361,
          1.0463514775814289,
          1.1060356904740556,
          1.1500396746828843,
          1.1750721126269603,
          1.178209194703325,
          1.1570807343643956,
          1.1100486219779706,
          1.0363663593540613,
          0.9363084114681259,
          0.8112588125444905,
          0.6637498875326011,
          0.49744407576464295,
          0.3170546091835934,
          0.12820409810986477,
          -0.06277623629978077,
          -0.2491000659192829,
          -0.4238217447898896,
          -0.5801604107983886,
          -0.7118355052187022,
          -0.8133947777356202,
          -0.8805149453939285,
          -0.9102556062787774,
          -0.9012488736325934,
          -0.8538104768713811,
          -0.7699626226199031,
          -0.6533644368972507,
          -0.5091519153711913,
          -0.34369550210330085,
          -0.16428916886498945,
          0.021210335964185048,
          0.20477199568086074,
          0.3785830168821442,
          0.535421679003337,
          0.6689888749928167,
          0.7741802264855153,
          0.8472854267440509,
          0.8861069756943611,
          0.8899961966550675,
          0.8598098512748978,
          0.7977953574045341,
          0.7074162411165889,
          0.5931318397618857,
          0.4601463881208807,
          0.31414256913283145,
          0.16101360203619963,
          0.00660624266341725,
          -0.14351503236696517,
          -0.2842746342264286,
          -0.4112574300935221,
          -0.5208414391998912,
          -0.6102895816323745,
          -0.6777999249364769,
          -0.7225152075123007,
          -0.7444936325712828,
          -0.7446440802458214,
          -0.7246300077558838,
          -0.6867473877732548,
          -0.6337830217395948,
          -0.5688603741521445,
          -0.49528060610449076,
          -0.416366646468177,
          -0.3353178565983339
         ],
         "yaxis": "y"
        }
       ],
       "layout": {
        "annotations": [
         {
          "font": {
           "size": 16
          },
          "showarrow": false,
          "text": "Validation with n=10",
          "x": 0.225,
          "xanchor": "center",
          "xref": "paper",
          "y": 1,
          "yanchor": "bottom",
          "yref": "paper"
         },
         {
          "font": {
           "size": 16
          },
          "showarrow": false,
          "text": "Residual error",
          "x": 0.775,
          "xanchor": "center",
          "xref": "paper",
          "y": 1,
          "yanchor": "bottom",
          "yref": "paper"
         }
        ],
        "template": {
         "data": {
          "bar": [
           {
            "error_x": {
             "color": "#2a3f5f"
            },
            "error_y": {
             "color": "#2a3f5f"
            },
            "marker": {
             "line": {
              "color": "#E5ECF6",
              "width": 0.5
             }
            },
            "type": "bar"
           }
          ],
          "barpolar": [
           {
            "marker": {
             "line": {
              "color": "#E5ECF6",
              "width": 0.5
             }
            },
            "type": "barpolar"
           }
          ],
          "carpet": [
           {
            "aaxis": {
             "endlinecolor": "#2a3f5f",
             "gridcolor": "white",
             "linecolor": "white",
             "minorgridcolor": "white",
             "startlinecolor": "#2a3f5f"
            },
            "baxis": {
             "endlinecolor": "#2a3f5f",
             "gridcolor": "white",
             "linecolor": "white",
             "minorgridcolor": "white",
             "startlinecolor": "#2a3f5f"
            },
            "type": "carpet"
           }
          ],
          "choropleth": [
           {
            "colorbar": {
             "outlinewidth": 0,
             "ticks": ""
            },
            "type": "choropleth"
           }
          ],
          "contour": [
           {
            "colorbar": {
             "outlinewidth": 0,
             "ticks": ""
            },
            "colorscale": [
             [
              0,
              "#0d0887"
             ],
             [
              0.1111111111111111,
              "#46039f"
             ],
             [
              0.2222222222222222,
              "#7201a8"
             ],
             [
              0.3333333333333333,
              "#9c179e"
             ],
             [
              0.4444444444444444,
              "#bd3786"
             ],
             [
              0.5555555555555556,
              "#d8576b"
             ],
             [
              0.6666666666666666,
              "#ed7953"
             ],
             [
              0.7777777777777778,
              "#fb9f3a"
             ],
             [
              0.8888888888888888,
              "#fdca26"
             ],
             [
              1,
              "#f0f921"
             ]
            ],
            "type": "contour"
           }
          ],
          "contourcarpet": [
           {
            "colorbar": {
             "outlinewidth": 0,
             "ticks": ""
            },
            "type": "contourcarpet"
           }
          ],
          "heatmap": [
           {
            "colorbar": {
             "outlinewidth": 0,
             "ticks": ""
            },
            "colorscale": [
             [
              0,
              "#0d0887"
             ],
             [
              0.1111111111111111,
              "#46039f"
             ],
             [
              0.2222222222222222,
              "#7201a8"
             ],
             [
              0.3333333333333333,
              "#9c179e"
             ],
             [
              0.4444444444444444,
              "#bd3786"
             ],
             [
              0.5555555555555556,
              "#d8576b"
             ],
             [
              0.6666666666666666,
              "#ed7953"
             ],
             [
              0.7777777777777778,
              "#fb9f3a"
             ],
             [
              0.8888888888888888,
              "#fdca26"
             ],
             [
              1,
              "#f0f921"
             ]
            ],
            "type": "heatmap"
           }
          ],
          "heatmapgl": [
           {
            "colorbar": {
             "outlinewidth": 0,
             "ticks": ""
            },
            "colorscale": [
             [
              0,
              "#0d0887"
             ],
             [
              0.1111111111111111,
              "#46039f"
             ],
             [
              0.2222222222222222,
              "#7201a8"
             ],
             [
              0.3333333333333333,
              "#9c179e"
             ],
             [
              0.4444444444444444,
              "#bd3786"
             ],
             [
              0.5555555555555556,
              "#d8576b"
             ],
             [
              0.6666666666666666,
              "#ed7953"
             ],
             [
              0.7777777777777778,
              "#fb9f3a"
             ],
             [
              0.8888888888888888,
              "#fdca26"
             ],
             [
              1,
              "#f0f921"
             ]
            ],
            "type": "heatmapgl"
           }
          ],
          "histogram": [
           {
            "marker": {
             "colorbar": {
              "outlinewidth": 0,
              "ticks": ""
             }
            },
            "type": "histogram"
           }
          ],
          "histogram2d": [
           {
            "colorbar": {
             "outlinewidth": 0,
             "ticks": ""
            },
            "colorscale": [
             [
              0,
              "#0d0887"
             ],
             [
              0.1111111111111111,
              "#46039f"
             ],
             [
              0.2222222222222222,
              "#7201a8"
             ],
             [
              0.3333333333333333,
              "#9c179e"
             ],
             [
              0.4444444444444444,
              "#bd3786"
             ],
             [
              0.5555555555555556,
              "#d8576b"
             ],
             [
              0.6666666666666666,
              "#ed7953"
             ],
             [
              0.7777777777777778,
              "#fb9f3a"
             ],
             [
              0.8888888888888888,
              "#fdca26"
             ],
             [
              1,
              "#f0f921"
             ]
            ],
            "type": "histogram2d"
           }
          ],
          "histogram2dcontour": [
           {
            "colorbar": {
             "outlinewidth": 0,
             "ticks": ""
            },
            "colorscale": [
             [
              0,
              "#0d0887"
             ],
             [
              0.1111111111111111,
              "#46039f"
             ],
             [
              0.2222222222222222,
              "#7201a8"
             ],
             [
              0.3333333333333333,
              "#9c179e"
             ],
             [
              0.4444444444444444,
              "#bd3786"
             ],
             [
              0.5555555555555556,
              "#d8576b"
             ],
             [
              0.6666666666666666,
              "#ed7953"
             ],
             [
              0.7777777777777778,
              "#fb9f3a"
             ],
             [
              0.8888888888888888,
              "#fdca26"
             ],
             [
              1,
              "#f0f921"
             ]
            ],
            "type": "histogram2dcontour"
           }
          ],
          "mesh3d": [
           {
            "colorbar": {
             "outlinewidth": 0,
             "ticks": ""
            },
            "type": "mesh3d"
           }
          ],
          "parcoords": [
           {
            "line": {
             "colorbar": {
              "outlinewidth": 0,
              "ticks": ""
             }
            },
            "type": "parcoords"
           }
          ],
          "pie": [
           {
            "automargin": true,
            "type": "pie"
           }
          ],
          "scatter": [
           {
            "marker": {
             "colorbar": {
              "outlinewidth": 0,
              "ticks": ""
             }
            },
            "type": "scatter"
           }
          ],
          "scatter3d": [
           {
            "line": {
             "colorbar": {
              "outlinewidth": 0,
              "ticks": ""
             }
            },
            "marker": {
             "colorbar": {
              "outlinewidth": 0,
              "ticks": ""
             }
            },
            "type": "scatter3d"
           }
          ],
          "scattercarpet": [
           {
            "marker": {
             "colorbar": {
              "outlinewidth": 0,
              "ticks": ""
             }
            },
            "type": "scattercarpet"
           }
          ],
          "scattergeo": [
           {
            "marker": {
             "colorbar": {
              "outlinewidth": 0,
              "ticks": ""
             }
            },
            "type": "scattergeo"
           }
          ],
          "scattergl": [
           {
            "marker": {
             "colorbar": {
              "outlinewidth": 0,
              "ticks": ""
             }
            },
            "type": "scattergl"
           }
          ],
          "scattermapbox": [
           {
            "marker": {
             "colorbar": {
              "outlinewidth": 0,
              "ticks": ""
             }
            },
            "type": "scattermapbox"
           }
          ],
          "scatterpolar": [
           {
            "marker": {
             "colorbar": {
              "outlinewidth": 0,
              "ticks": ""
             }
            },
            "type": "scatterpolar"
           }
          ],
          "scatterpolargl": [
           {
            "marker": {
             "colorbar": {
              "outlinewidth": 0,
              "ticks": ""
             }
            },
            "type": "scatterpolargl"
           }
          ],
          "scatterternary": [
           {
            "marker": {
             "colorbar": {
              "outlinewidth": 0,
              "ticks": ""
             }
            },
            "type": "scatterternary"
           }
          ],
          "surface": [
           {
            "colorbar": {
             "outlinewidth": 0,
             "ticks": ""
            },
            "colorscale": [
             [
              0,
              "#0d0887"
             ],
             [
              0.1111111111111111,
              "#46039f"
             ],
             [
              0.2222222222222222,
              "#7201a8"
             ],
             [
              0.3333333333333333,
              "#9c179e"
             ],
             [
              0.4444444444444444,
              "#bd3786"
             ],
             [
              0.5555555555555556,
              "#d8576b"
             ],
             [
              0.6666666666666666,
              "#ed7953"
             ],
             [
              0.7777777777777778,
              "#fb9f3a"
             ],
             [
              0.8888888888888888,
              "#fdca26"
             ],
             [
              1,
              "#f0f921"
             ]
            ],
            "type": "surface"
           }
          ],
          "table": [
           {
            "cells": {
             "fill": {
              "color": "#EBF0F8"
             },
             "line": {
              "color": "white"
             }
            },
            "header": {
             "fill": {
              "color": "#C8D4E3"
             },
             "line": {
              "color": "white"
             }
            },
            "type": "table"
           }
          ]
         },
         "layout": {
          "annotationdefaults": {
           "arrowcolor": "#2a3f5f",
           "arrowhead": 0,
           "arrowwidth": 1
          },
          "coloraxis": {
           "colorbar": {
            "outlinewidth": 0,
            "ticks": ""
           }
          },
          "colorscale": {
           "diverging": [
            [
             0,
             "#8e0152"
            ],
            [
             0.1,
             "#c51b7d"
            ],
            [
             0.2,
             "#de77ae"
            ],
            [
             0.3,
             "#f1b6da"
            ],
            [
             0.4,
             "#fde0ef"
            ],
            [
             0.5,
             "#f7f7f7"
            ],
            [
             0.6,
             "#e6f5d0"
            ],
            [
             0.7,
             "#b8e186"
            ],
            [
             0.8,
             "#7fbc41"
            ],
            [
             0.9,
             "#4d9221"
            ],
            [
             1,
             "#276419"
            ]
           ],
           "sequential": [
            [
             0,
             "#0d0887"
            ],
            [
             0.1111111111111111,
             "#46039f"
            ],
            [
             0.2222222222222222,
             "#7201a8"
            ],
            [
             0.3333333333333333,
             "#9c179e"
            ],
            [
             0.4444444444444444,
             "#bd3786"
            ],
            [
             0.5555555555555556,
             "#d8576b"
            ],
            [
             0.6666666666666666,
             "#ed7953"
            ],
            [
             0.7777777777777778,
             "#fb9f3a"
            ],
            [
             0.8888888888888888,
             "#fdca26"
            ],
            [
             1,
             "#f0f921"
            ]
           ],
           "sequentialminus": [
            [
             0,
             "#0d0887"
            ],
            [
             0.1111111111111111,
             "#46039f"
            ],
            [
             0.2222222222222222,
             "#7201a8"
            ],
            [
             0.3333333333333333,
             "#9c179e"
            ],
            [
             0.4444444444444444,
             "#bd3786"
            ],
            [
             0.5555555555555556,
             "#d8576b"
            ],
            [
             0.6666666666666666,
             "#ed7953"
            ],
            [
             0.7777777777777778,
             "#fb9f3a"
            ],
            [
             0.8888888888888888,
             "#fdca26"
            ],
            [
             1,
             "#f0f921"
            ]
           ]
          },
          "colorway": [
           "#636efa",
           "#EF553B",
           "#00cc96",
           "#ab63fa",
           "#FFA15A",
           "#19d3f3",
           "#FF6692",
           "#B6E880",
           "#FF97FF",
           "#FECB52"
          ],
          "font": {
           "color": "#2a3f5f"
          },
          "geo": {
           "bgcolor": "white",
           "lakecolor": "white",
           "landcolor": "#E5ECF6",
           "showlakes": true,
           "showland": true,
           "subunitcolor": "white"
          },
          "hoverlabel": {
           "align": "left"
          },
          "hovermode": "closest",
          "mapbox": {
           "style": "light"
          },
          "paper_bgcolor": "white",
          "plot_bgcolor": "#E5ECF6",
          "polar": {
           "angularaxis": {
            "gridcolor": "white",
            "linecolor": "white",
            "ticks": ""
           },
           "bgcolor": "#E5ECF6",
           "radialaxis": {
            "gridcolor": "white",
            "linecolor": "white",
            "ticks": ""
           }
          },
          "scene": {
           "xaxis": {
            "backgroundcolor": "#E5ECF6",
            "gridcolor": "white",
            "gridwidth": 2,
            "linecolor": "white",
            "showbackground": true,
            "ticks": "",
            "zerolinecolor": "white"
           },
           "yaxis": {
            "backgroundcolor": "#E5ECF6",
            "gridcolor": "white",
            "gridwidth": 2,
            "linecolor": "white",
            "showbackground": true,
            "ticks": "",
            "zerolinecolor": "white"
           },
           "zaxis": {
            "backgroundcolor": "#E5ECF6",
            "gridcolor": "white",
            "gridwidth": 2,
            "linecolor": "white",
            "showbackground": true,
            "ticks": "",
            "zerolinecolor": "white"
           }
          },
          "shapedefaults": {
           "line": {
            "color": "#2a3f5f"
           }
          },
          "ternary": {
           "aaxis": {
            "gridcolor": "white",
            "linecolor": "white",
            "ticks": ""
           },
           "baxis": {
            "gridcolor": "white",
            "linecolor": "white",
            "ticks": ""
           },
           "bgcolor": "#E5ECF6",
           "caxis": {
            "gridcolor": "white",
            "linecolor": "white",
            "ticks": ""
           }
          },
          "title": {
           "x": 0.05
          },
          "xaxis": {
           "automargin": true,
           "gridcolor": "white",
           "linecolor": "white",
           "ticks": "",
           "title": {
            "standoff": 15
           },
           "zerolinecolor": "white",
           "zerolinewidth": 2
          },
          "yaxis": {
           "automargin": true,
           "gridcolor": "white",
           "linecolor": "white",
           "ticks": "",
           "title": {
            "standoff": 15
           },
           "zerolinecolor": "white",
           "zerolinewidth": 2
          }
         }
        },
        "xaxis": {
         "anchor": "y",
         "domain": [
          0,
          0.45
         ]
        },
        "xaxis2": {
         "anchor": "y2",
         "domain": [
          0.55,
          1
         ]
        },
        "yaxis": {
         "anchor": "x",
         "domain": [
          0,
          1
         ]
        },
        "yaxis2": {
         "anchor": "x2",
         "domain": [
          0,
          1
         ]
        }
       }
      }
     },
     "metadata": {}
    },
    {
     "output_type": "stream",
     "name": "stdout",
     "text": "0.8117172799116351\n"
    }
   ],
   "source": [
    "x, sin_data, sqr_data = data_gen(0, 2*np.pi)\n",
    "t_x, t_sin_data, t_sqr_data = data_gen(0.05, 2*np.pi)\n",
    "\n",
    "n = 10\n",
    "epochs = 100\n",
    "\n",
    "RBFNet = RBF_Network(n, x, eta=1e-1, useDelta=True)\n",
    "# RBFNet.init_cl(x, 100, 1e-1, useBias=True) # Uncomment this to use CL initialization\n",
    "RBFNet.train_network(epochs, x, sin_data, t_x, t_sin_data)\n",
    "res_error = RBFNet.validate(t_x, t_sin_data, _plot=True)\n",
    "\n",
    "print(res_error)"
   ]
  },
  {
   "source": [
    "CL initialization"
   ],
   "cell_type": "markdown",
   "metadata": {}
  },
  {
   "cell_type": "code",
   "execution_count": 194,
   "metadata": {
    "tags": []
   },
   "outputs": [
    {
     "output_type": "display_data",
     "data": {
      "application/vnd.plotly.v1+json": {
       "config": {
        "plotlyServerURL": "https://plot.ly"
       },
       "data": [
        {
         "mode": "lines",
         "name": "Residual error",
         "type": "scatter",
         "x": [
          0,
          1,
          2,
          3,
          4,
          5,
          6,
          7,
          8,
          9
         ],
         "xaxis": "x2",
         "y": [
          1.2006190596865336,
          0.7324910454653194,
          0.7543725704030556,
          0.7775738765849519,
          0.8077483631515603,
          0.8319550060309148,
          0.8471822220254798,
          0.8550529420557927,
          0.8578101680872288,
          0.8573057348528903
         ],
         "yaxis": "y2"
        },
        {
         "mode": "lines",
         "name": "Original",
         "type": "scatter",
         "x": [
          0.05,
          0.15000000000000002,
          0.25000000000000006,
          0.35000000000000003,
          0.45000000000000007,
          0.5500000000000002,
          0.6500000000000001,
          0.7500000000000002,
          0.8500000000000002,
          0.9500000000000002,
          1.0500000000000003,
          1.1500000000000004,
          1.2500000000000002,
          1.3500000000000003,
          1.4500000000000004,
          1.5500000000000003,
          1.6500000000000004,
          1.7500000000000004,
          1.8500000000000003,
          1.9500000000000004,
          2.0500000000000003,
          2.1500000000000004,
          2.2500000000000004,
          2.35,
          2.45,
          2.5500000000000003,
          2.6500000000000004,
          2.7500000000000004,
          2.8500000000000005,
          2.95,
          3.0500000000000003,
          3.1500000000000004,
          3.2500000000000004,
          3.3500000000000005,
          3.4500000000000006,
          3.5500000000000007,
          3.6500000000000004,
          3.7500000000000004,
          3.8500000000000005,
          3.9500000000000006,
          4.050000000000001,
          4.15,
          4.250000000000001,
          4.3500000000000005,
          4.450000000000001,
          4.550000000000001,
          4.65,
          4.750000000000001,
          4.8500000000000005,
          4.950000000000001,
          5.050000000000001,
          5.150000000000001,
          5.250000000000001,
          5.3500000000000005,
          5.450000000000001,
          5.550000000000001,
          5.650000000000001,
          5.750000000000001,
          5.8500000000000005,
          5.950000000000001,
          6.050000000000001,
          6.150000000000001,
          6.250000000000001
         ],
         "xaxis": "x",
         "y": [
          0.09983341664682815,
          0.2955202066613396,
          0.4794255386042031,
          0.6442176872376911,
          0.7833269096274835,
          0.8912073600614355,
          0.9635581854171931,
          0.9974949866040544,
          0.9916648104524686,
          0.9463000876874144,
          0.8632093666488735,
          0.7457052121767197,
          0.5984721441039561,
          0.4273798802338294,
          0.23924932921398157,
          0.04158066243329005,
          -0.15774569414324907,
          -0.35078322768962067,
          -0.5298361409084937,
          -0.6877661591839744,
          -0.8182771110644108,
          -0.9161659367494552,
          -0.9775301176650972,
          -0.9999232575641008,
          -0.9824526126243325,
          -0.9258146823277321,
          -0.8322674422239008,
          -0.7055403255703913,
          -0.5506855425976369,
          -0.373876664830236,
          -0.18216250427209502,
          0.0168139004843506,
          0.2151199880878164,
          0.40484992061659913,
          0.5784397643882009,
          0.7289690401258772,
          0.8504366206285648,
          0.9379999767747391,
          0.9881682338770005,
          0.998941341839772,
          0.9698898108450859,
          0.9021718337562933,
          0.7984871126234893,
          0.662969230082182,
          0.5010208564578832,
          0.3190983623493504,
          0.1244544235070617,
          -0.07515112046181108,
          -0.2717606264109442,
          -0.45753589377532294,
          -0.6250706488928834,
          -0.7676858097635836,
          -0.8796957599716709,
          -0.9566350162701884,
          -0.9954362533063775,
          -0.9945525882039891,
          -0.9540192499020884,
          -0.8754521746884276,
          -0.7619835839190321,
          -0.6181371122370319,
          -0.44964746453459986,
          -0.2632317913657993,
          -0.06632189735119892
         ],
         "yaxis": "y"
        },
        {
         "mode": "lines",
         "name": "Approximated",
         "type": "scatter",
         "x": [
          0.05,
          0.15000000000000002,
          0.25000000000000006,
          0.35000000000000003,
          0.45000000000000007,
          0.5500000000000002,
          0.6500000000000001,
          0.7500000000000002,
          0.8500000000000002,
          0.9500000000000002,
          1.0500000000000003,
          1.1500000000000004,
          1.2500000000000002,
          1.3500000000000003,
          1.4500000000000004,
          1.5500000000000003,
          1.6500000000000004,
          1.7500000000000004,
          1.8500000000000003,
          1.9500000000000004,
          2.0500000000000003,
          2.1500000000000004,
          2.2500000000000004,
          2.35,
          2.45,
          2.5500000000000003,
          2.6500000000000004,
          2.7500000000000004,
          2.8500000000000005,
          2.95,
          3.0500000000000003,
          3.1500000000000004,
          3.2500000000000004,
          3.3500000000000005,
          3.4500000000000006,
          3.5500000000000007,
          3.6500000000000004,
          3.7500000000000004,
          3.8500000000000005,
          3.9500000000000006,
          4.050000000000001,
          4.15,
          4.250000000000001,
          4.3500000000000005,
          4.450000000000001,
          4.550000000000001,
          4.65,
          4.750000000000001,
          4.8500000000000005,
          4.950000000000001,
          5.050000000000001,
          5.150000000000001,
          5.250000000000001,
          5.3500000000000005,
          5.450000000000001,
          5.550000000000001,
          5.650000000000001,
          5.750000000000001,
          5.8500000000000005,
          5.950000000000001,
          6.050000000000001,
          6.150000000000001,
          6.250000000000001
         ],
         "xaxis": "x",
         "y": [
          1.6659272645172412,
          1.6663608624014392,
          1.63988703380188,
          1.5851381926595955,
          1.5016074077253603,
          1.3897402532265437,
          1.250988484496563,
          1.0878200156598696,
          0.9036819346639506,
          0.7029158741010649,
          0.490627793173486,
          0.27251692866383687,
          0.05467115113504507,
          -0.15666195877507794,
          -0.35531746699748845,
          -0.5354571490649931,
          -0.6918033626548634,
          -0.8198513751537524,
          -0.9160499978222909,
          -0.9779421516236209,
          -1.0042591965797218,
          -0.9949653370463569,
          -0.9512509986752502,
          -0.8754765914765467,
          -0.7710703765770602,
          -0.6423861193672991,
          -0.49452775212343697,
          -0.33314933813911535,
          -0.16423921966495883,
          0.006102628604322951,
          0.17188527487487518,
          0.32743734778533085,
          0.4676000320003763,
          0.5878961681827157,
          0.6846701784521106,
          0.7551946914210822,
          0.7977409249779529,
          0.8116110900097139,
          0.7971323054948612,
          0.755612769717533,
          0.6892622134476495,
          0.6010799552294128,
          0.49471515380099,
          0.37430505421814647,
          0.244298079337815,
          0.10926944100786376,
          -0.026262552997366035,
          -0.1580112184027077,
          -0.28207931647104334,
          -0.39509288716006363,
          -0.49430529244219773,
          -0.577667353006028,
          -0.6438614327217667,
          -0.6922994433317405,
          -0.7230868466260713,
          -0.736956659006327,
          -0.7351790636561889,
          -0.719453388111789,
          -0.6917898317748321,
          -0.6543884006079445,
          -0.6095220480905283,
          -0.5594301027385522,
          -0.5062267908482523
         ],
         "yaxis": "y"
        }
       ],
       "layout": {
        "annotations": [
         {
          "font": {
           "size": 16
          },
          "showarrow": false,
          "text": "Validation with n=10",
          "x": 0.225,
          "xanchor": "center",
          "xref": "paper",
          "y": 1,
          "yanchor": "bottom",
          "yref": "paper"
         },
         {
          "font": {
           "size": 16
          },
          "showarrow": false,
          "text": "Residual error",
          "x": 0.775,
          "xanchor": "center",
          "xref": "paper",
          "y": 1,
          "yanchor": "bottom",
          "yref": "paper"
         }
        ],
        "template": {
         "data": {
          "bar": [
           {
            "error_x": {
             "color": "#2a3f5f"
            },
            "error_y": {
             "color": "#2a3f5f"
            },
            "marker": {
             "line": {
              "color": "#E5ECF6",
              "width": 0.5
             }
            },
            "type": "bar"
           }
          ],
          "barpolar": [
           {
            "marker": {
             "line": {
              "color": "#E5ECF6",
              "width": 0.5
             }
            },
            "type": "barpolar"
           }
          ],
          "carpet": [
           {
            "aaxis": {
             "endlinecolor": "#2a3f5f",
             "gridcolor": "white",
             "linecolor": "white",
             "minorgridcolor": "white",
             "startlinecolor": "#2a3f5f"
            },
            "baxis": {
             "endlinecolor": "#2a3f5f",
             "gridcolor": "white",
             "linecolor": "white",
             "minorgridcolor": "white",
             "startlinecolor": "#2a3f5f"
            },
            "type": "carpet"
           }
          ],
          "choropleth": [
           {
            "colorbar": {
             "outlinewidth": 0,
             "ticks": ""
            },
            "type": "choropleth"
           }
          ],
          "contour": [
           {
            "colorbar": {
             "outlinewidth": 0,
             "ticks": ""
            },
            "colorscale": [
             [
              0,
              "#0d0887"
             ],
             [
              0.1111111111111111,
              "#46039f"
             ],
             [
              0.2222222222222222,
              "#7201a8"
             ],
             [
              0.3333333333333333,
              "#9c179e"
             ],
             [
              0.4444444444444444,
              "#bd3786"
             ],
             [
              0.5555555555555556,
              "#d8576b"
             ],
             [
              0.6666666666666666,
              "#ed7953"
             ],
             [
              0.7777777777777778,
              "#fb9f3a"
             ],
             [
              0.8888888888888888,
              "#fdca26"
             ],
             [
              1,
              "#f0f921"
             ]
            ],
            "type": "contour"
           }
          ],
          "contourcarpet": [
           {
            "colorbar": {
             "outlinewidth": 0,
             "ticks": ""
            },
            "type": "contourcarpet"
           }
          ],
          "heatmap": [
           {
            "colorbar": {
             "outlinewidth": 0,
             "ticks": ""
            },
            "colorscale": [
             [
              0,
              "#0d0887"
             ],
             [
              0.1111111111111111,
              "#46039f"
             ],
             [
              0.2222222222222222,
              "#7201a8"
             ],
             [
              0.3333333333333333,
              "#9c179e"
             ],
             [
              0.4444444444444444,
              "#bd3786"
             ],
             [
              0.5555555555555556,
              "#d8576b"
             ],
             [
              0.6666666666666666,
              "#ed7953"
             ],
             [
              0.7777777777777778,
              "#fb9f3a"
             ],
             [
              0.8888888888888888,
              "#fdca26"
             ],
             [
              1,
              "#f0f921"
             ]
            ],
            "type": "heatmap"
           }
          ],
          "heatmapgl": [
           {
            "colorbar": {
             "outlinewidth": 0,
             "ticks": ""
            },
            "colorscale": [
             [
              0,
              "#0d0887"
             ],
             [
              0.1111111111111111,
              "#46039f"
             ],
             [
              0.2222222222222222,
              "#7201a8"
             ],
             [
              0.3333333333333333,
              "#9c179e"
             ],
             [
              0.4444444444444444,
              "#bd3786"
             ],
             [
              0.5555555555555556,
              "#d8576b"
             ],
             [
              0.6666666666666666,
              "#ed7953"
             ],
             [
              0.7777777777777778,
              "#fb9f3a"
             ],
             [
              0.8888888888888888,
              "#fdca26"
             ],
             [
              1,
              "#f0f921"
             ]
            ],
            "type": "heatmapgl"
           }
          ],
          "histogram": [
           {
            "marker": {
             "colorbar": {
              "outlinewidth": 0,
              "ticks": ""
             }
            },
            "type": "histogram"
           }
          ],
          "histogram2d": [
           {
            "colorbar": {
             "outlinewidth": 0,
             "ticks": ""
            },
            "colorscale": [
             [
              0,
              "#0d0887"
             ],
             [
              0.1111111111111111,
              "#46039f"
             ],
             [
              0.2222222222222222,
              "#7201a8"
             ],
             [
              0.3333333333333333,
              "#9c179e"
             ],
             [
              0.4444444444444444,
              "#bd3786"
             ],
             [
              0.5555555555555556,
              "#d8576b"
             ],
             [
              0.6666666666666666,
              "#ed7953"
             ],
             [
              0.7777777777777778,
              "#fb9f3a"
             ],
             [
              0.8888888888888888,
              "#fdca26"
             ],
             [
              1,
              "#f0f921"
             ]
            ],
            "type": "histogram2d"
           }
          ],
          "histogram2dcontour": [
           {
            "colorbar": {
             "outlinewidth": 0,
             "ticks": ""
            },
            "colorscale": [
             [
              0,
              "#0d0887"
             ],
             [
              0.1111111111111111,
              "#46039f"
             ],
             [
              0.2222222222222222,
              "#7201a8"
             ],
             [
              0.3333333333333333,
              "#9c179e"
             ],
             [
              0.4444444444444444,
              "#bd3786"
             ],
             [
              0.5555555555555556,
              "#d8576b"
             ],
             [
              0.6666666666666666,
              "#ed7953"
             ],
             [
              0.7777777777777778,
              "#fb9f3a"
             ],
             [
              0.8888888888888888,
              "#fdca26"
             ],
             [
              1,
              "#f0f921"
             ]
            ],
            "type": "histogram2dcontour"
           }
          ],
          "mesh3d": [
           {
            "colorbar": {
             "outlinewidth": 0,
             "ticks": ""
            },
            "type": "mesh3d"
           }
          ],
          "parcoords": [
           {
            "line": {
             "colorbar": {
              "outlinewidth": 0,
              "ticks": ""
             }
            },
            "type": "parcoords"
           }
          ],
          "pie": [
           {
            "automargin": true,
            "type": "pie"
           }
          ],
          "scatter": [
           {
            "marker": {
             "colorbar": {
              "outlinewidth": 0,
              "ticks": ""
             }
            },
            "type": "scatter"
           }
          ],
          "scatter3d": [
           {
            "line": {
             "colorbar": {
              "outlinewidth": 0,
              "ticks": ""
             }
            },
            "marker": {
             "colorbar": {
              "outlinewidth": 0,
              "ticks": ""
             }
            },
            "type": "scatter3d"
           }
          ],
          "scattercarpet": [
           {
            "marker": {
             "colorbar": {
              "outlinewidth": 0,
              "ticks": ""
             }
            },
            "type": "scattercarpet"
           }
          ],
          "scattergeo": [
           {
            "marker": {
             "colorbar": {
              "outlinewidth": 0,
              "ticks": ""
             }
            },
            "type": "scattergeo"
           }
          ],
          "scattergl": [
           {
            "marker": {
             "colorbar": {
              "outlinewidth": 0,
              "ticks": ""
             }
            },
            "type": "scattergl"
           }
          ],
          "scattermapbox": [
           {
            "marker": {
             "colorbar": {
              "outlinewidth": 0,
              "ticks": ""
             }
            },
            "type": "scattermapbox"
           }
          ],
          "scatterpolar": [
           {
            "marker": {
             "colorbar": {
              "outlinewidth": 0,
              "ticks": ""
             }
            },
            "type": "scatterpolar"
           }
          ],
          "scatterpolargl": [
           {
            "marker": {
             "colorbar": {
              "outlinewidth": 0,
              "ticks": ""
             }
            },
            "type": "scatterpolargl"
           }
          ],
          "scatterternary": [
           {
            "marker": {
             "colorbar": {
              "outlinewidth": 0,
              "ticks": ""
             }
            },
            "type": "scatterternary"
           }
          ],
          "surface": [
           {
            "colorbar": {
             "outlinewidth": 0,
             "ticks": ""
            },
            "colorscale": [
             [
              0,
              "#0d0887"
             ],
             [
              0.1111111111111111,
              "#46039f"
             ],
             [
              0.2222222222222222,
              "#7201a8"
             ],
             [
              0.3333333333333333,
              "#9c179e"
             ],
             [
              0.4444444444444444,
              "#bd3786"
             ],
             [
              0.5555555555555556,
              "#d8576b"
             ],
             [
              0.6666666666666666,
              "#ed7953"
             ],
             [
              0.7777777777777778,
              "#fb9f3a"
             ],
             [
              0.8888888888888888,
              "#fdca26"
             ],
             [
              1,
              "#f0f921"
             ]
            ],
            "type": "surface"
           }
          ],
          "table": [
           {
            "cells": {
             "fill": {
              "color": "#EBF0F8"
             },
             "line": {
              "color": "white"
             }
            },
            "header": {
             "fill": {
              "color": "#C8D4E3"
             },
             "line": {
              "color": "white"
             }
            },
            "type": "table"
           }
          ]
         },
         "layout": {
          "annotationdefaults": {
           "arrowcolor": "#2a3f5f",
           "arrowhead": 0,
           "arrowwidth": 1
          },
          "coloraxis": {
           "colorbar": {
            "outlinewidth": 0,
            "ticks": ""
           }
          },
          "colorscale": {
           "diverging": [
            [
             0,
             "#8e0152"
            ],
            [
             0.1,
             "#c51b7d"
            ],
            [
             0.2,
             "#de77ae"
            ],
            [
             0.3,
             "#f1b6da"
            ],
            [
             0.4,
             "#fde0ef"
            ],
            [
             0.5,
             "#f7f7f7"
            ],
            [
             0.6,
             "#e6f5d0"
            ],
            [
             0.7,
             "#b8e186"
            ],
            [
             0.8,
             "#7fbc41"
            ],
            [
             0.9,
             "#4d9221"
            ],
            [
             1,
             "#276419"
            ]
           ],
           "sequential": [
            [
             0,
             "#0d0887"
            ],
            [
             0.1111111111111111,
             "#46039f"
            ],
            [
             0.2222222222222222,
             "#7201a8"
            ],
            [
             0.3333333333333333,
             "#9c179e"
            ],
            [
             0.4444444444444444,
             "#bd3786"
            ],
            [
             0.5555555555555556,
             "#d8576b"
            ],
            [
             0.6666666666666666,
             "#ed7953"
            ],
            [
             0.7777777777777778,
             "#fb9f3a"
            ],
            [
             0.8888888888888888,
             "#fdca26"
            ],
            [
             1,
             "#f0f921"
            ]
           ],
           "sequentialminus": [
            [
             0,
             "#0d0887"
            ],
            [
             0.1111111111111111,
             "#46039f"
            ],
            [
             0.2222222222222222,
             "#7201a8"
            ],
            [
             0.3333333333333333,
             "#9c179e"
            ],
            [
             0.4444444444444444,
             "#bd3786"
            ],
            [
             0.5555555555555556,
             "#d8576b"
            ],
            [
             0.6666666666666666,
             "#ed7953"
            ],
            [
             0.7777777777777778,
             "#fb9f3a"
            ],
            [
             0.8888888888888888,
             "#fdca26"
            ],
            [
             1,
             "#f0f921"
            ]
           ]
          },
          "colorway": [
           "#636efa",
           "#EF553B",
           "#00cc96",
           "#ab63fa",
           "#FFA15A",
           "#19d3f3",
           "#FF6692",
           "#B6E880",
           "#FF97FF",
           "#FECB52"
          ],
          "font": {
           "color": "#2a3f5f"
          },
          "geo": {
           "bgcolor": "white",
           "lakecolor": "white",
           "landcolor": "#E5ECF6",
           "showlakes": true,
           "showland": true,
           "subunitcolor": "white"
          },
          "hoverlabel": {
           "align": "left"
          },
          "hovermode": "closest",
          "mapbox": {
           "style": "light"
          },
          "paper_bgcolor": "white",
          "plot_bgcolor": "#E5ECF6",
          "polar": {
           "angularaxis": {
            "gridcolor": "white",
            "linecolor": "white",
            "ticks": ""
           },
           "bgcolor": "#E5ECF6",
           "radialaxis": {
            "gridcolor": "white",
            "linecolor": "white",
            "ticks": ""
           }
          },
          "scene": {
           "xaxis": {
            "backgroundcolor": "#E5ECF6",
            "gridcolor": "white",
            "gridwidth": 2,
            "linecolor": "white",
            "showbackground": true,
            "ticks": "",
            "zerolinecolor": "white"
           },
           "yaxis": {
            "backgroundcolor": "#E5ECF6",
            "gridcolor": "white",
            "gridwidth": 2,
            "linecolor": "white",
            "showbackground": true,
            "ticks": "",
            "zerolinecolor": "white"
           },
           "zaxis": {
            "backgroundcolor": "#E5ECF6",
            "gridcolor": "white",
            "gridwidth": 2,
            "linecolor": "white",
            "showbackground": true,
            "ticks": "",
            "zerolinecolor": "white"
           }
          },
          "shapedefaults": {
           "line": {
            "color": "#2a3f5f"
           }
          },
          "ternary": {
           "aaxis": {
            "gridcolor": "white",
            "linecolor": "white",
            "ticks": ""
           },
           "baxis": {
            "gridcolor": "white",
            "linecolor": "white",
            "ticks": ""
           },
           "bgcolor": "#E5ECF6",
           "caxis": {
            "gridcolor": "white",
            "linecolor": "white",
            "ticks": ""
           }
          },
          "title": {
           "x": 0.05
          },
          "xaxis": {
           "automargin": true,
           "gridcolor": "white",
           "linecolor": "white",
           "ticks": "",
           "title": {
            "standoff": 15
           },
           "zerolinecolor": "white",
           "zerolinewidth": 2
          },
          "yaxis": {
           "automargin": true,
           "gridcolor": "white",
           "linecolor": "white",
           "ticks": "",
           "title": {
            "standoff": 15
           },
           "zerolinecolor": "white",
           "zerolinewidth": 2
          }
         }
        },
        "xaxis": {
         "anchor": "y",
         "domain": [
          0,
          0.45
         ]
        },
        "xaxis2": {
         "anchor": "y2",
         "domain": [
          0.55,
          1
         ]
        },
        "yaxis": {
         "anchor": "x",
         "domain": [
          0,
          1
         ]
        },
        "yaxis2": {
         "anchor": "x2",
         "domain": [
          0,
          1
         ]
        }
       }
      }
     },
     "metadata": {}
    },
    {
     "output_type": "stream",
     "name": "stdout",
     "text": "0.8573057348528903\n"
    }
   ],
   "source": [
    "x, sin_data, sqr_data = data_gen(0, 2*np.pi)\n",
    "t_x, t_sin_data, t_sqr_data = data_gen(0.05, 2*np.pi)\n",
    "\n",
    "n = 10\n",
    "epochs = 10\n",
    "\n",
    "RBFNet = RBF_Network(n, x, eta=1e-1, useDelta=True)\n",
    "RBFNet.init_cl(x, 100, 1e-1) # Uncomment this to use CL initialization\n",
    "RBFNet.train_network(epochs, x, sin_data, t_x, t_sin_data)\n",
    "res_error = RBFNet.validate(t_x, t_sin_data, _plot=True)\n",
    "\n",
    "print(res_error)"
   ]
  },
  {
   "source": [
    "Testing different n for least square method"
   ],
   "cell_type": "markdown",
   "metadata": {}
  },
  {
   "cell_type": "code",
   "execution_count": 234,
   "metadata": {},
   "outputs": [
    {
     "output_type": "display_data",
     "data": {
      "application/vnd.plotly.v1+json": {
       "config": {
        "plotlyServerURL": "https://plot.ly"
       },
       "data": [
        {
         "mode": "lines",
         "name": "error",
         "type": "scatter",
         "x": [
          0,
          1,
          2,
          3,
          4,
          5,
          6,
          7,
          8
         ],
         "xaxis": "x2",
         "y": [
          0.6347400990258355,
          0.5910421877305674,
          0.5579267055718891,
          0.5133123015289263,
          0.5133123015289262,
          0.08199061128107998,
          0.07545365277302987,
          0.07545365277302983,
          0.07567556759768827
         ],
         "yaxis": "y2"
        },
        {
         "mode": "lines",
         "name": "Original",
         "type": "scatter",
         "x": [
          0.05,
          0.15000000000000002,
          0.25000000000000006,
          0.35000000000000003,
          0.45000000000000007,
          0.5500000000000002,
          0.6500000000000001,
          0.7500000000000002,
          0.8500000000000002,
          0.9500000000000002,
          1.0500000000000003,
          1.1500000000000004,
          1.2500000000000002,
          1.3500000000000003,
          1.4500000000000004,
          1.5500000000000003,
          1.6500000000000004,
          1.7500000000000004,
          1.8500000000000003,
          1.9500000000000004,
          2.0500000000000003,
          2.1500000000000004,
          2.2500000000000004,
          2.35,
          2.45,
          2.5500000000000003,
          2.6500000000000004,
          2.7500000000000004,
          2.8500000000000005,
          2.95,
          3.0500000000000003,
          3.1500000000000004,
          3.2500000000000004,
          3.3500000000000005,
          3.4500000000000006,
          3.5500000000000007,
          3.6500000000000004,
          3.7500000000000004,
          3.8500000000000005,
          3.9500000000000006,
          4.050000000000001,
          4.15,
          4.250000000000001,
          4.3500000000000005,
          4.450000000000001,
          4.550000000000001,
          4.65,
          4.750000000000001,
          4.8500000000000005,
          4.950000000000001,
          5.050000000000001,
          5.150000000000001,
          5.250000000000001,
          5.3500000000000005,
          5.450000000000001,
          5.550000000000001,
          5.650000000000001,
          5.750000000000001,
          5.8500000000000005,
          5.950000000000001,
          6.050000000000001,
          6.150000000000001,
          6.250000000000001
         ],
         "xaxis": "x",
         "y": [
          0,
          0.19866933079506122,
          0.3894183423086505,
          0.5646424733950355,
          0.7173560908995228,
          0.8414709848078965,
          0.9320390859672264,
          0.9854497299884603,
          0.9995736030415051,
          0.9738476308781951,
          0.9092974268256817,
          0.8084964038195901,
          0.6754631805511506,
          0.5155013718214642,
          0.33498815015590466,
          0.1411200080598672,
          -0.058374143427580086,
          -0.25554110202683167,
          -0.44252044329485246,
          -0.6118578909427193,
          -0.7568024953079282,
          -0.8715757724135882,
          -0.951602073889516,
          -0.9936910036334645,
          -0.9961646088358406,
          -0.9589242746631385,
          -0.8834546557201531,
          -0.7727644875559871,
          -0.6312666378723208,
          -0.4646021794137566,
          -0.27941549819892586,
          -0.0830894028174964,
          0.11654920485049364,
          0.3115413635133787,
          0.49411335113860894,
          0.6569865987187891,
          0.7936678638491531,
          0.8987080958116269,
          0.9679196720314865,
          0.998543345374605,
          0.9893582466233818,
          0.9407305566797726,
          0.8545989080882804,
          0.7343970978741133,
          0.5849171928917617,
          0.4121184852417566,
          0.22288991410024592,
          0.024775425453357765,
          -0.1743267812229814,
          -0.3664791292519284,
          -0.5440211108893698,
          -0.6998746875935437,
          -0.8278264690856537,
          -0.9227754216128073,
          -0.9809362300664916,
          -0.9999902065507035,
          -0.979177729151317,
          -0.9193285256646757,
          -0.8228285949687079,
          -0.6935250847771224,
          -0.5365729180004349,
          -0.35822928223682704,
          -0.1656041754483094
         ],
         "yaxis": "y"
        },
        {
         "mode": "lines",
         "name": "n=1",
         "type": "scatter",
         "x": [
          0.05,
          0.15000000000000002,
          0.25000000000000006,
          0.35000000000000003,
          0.45000000000000007,
          0.5500000000000002,
          0.6500000000000001,
          0.7500000000000002,
          0.8500000000000002,
          0.9500000000000002,
          1.0500000000000003,
          1.1500000000000004,
          1.2500000000000002,
          1.3500000000000003,
          1.4500000000000004,
          1.5500000000000003,
          1.6500000000000004,
          1.7500000000000004,
          1.8500000000000003,
          1.9500000000000004,
          2.0500000000000003,
          2.1500000000000004,
          2.2500000000000004,
          2.35,
          2.45,
          2.5500000000000003,
          2.6500000000000004,
          2.7500000000000004,
          2.8500000000000005,
          2.95,
          3.0500000000000003,
          3.1500000000000004,
          3.2500000000000004,
          3.3500000000000005,
          3.4500000000000006,
          3.5500000000000007,
          3.6500000000000004,
          3.7500000000000004,
          3.8500000000000005,
          3.9500000000000006,
          4.050000000000001,
          4.15,
          4.250000000000001,
          4.3500000000000005,
          4.450000000000001,
          4.550000000000001,
          4.65,
          4.750000000000001,
          4.8500000000000005,
          4.950000000000001,
          5.050000000000001,
          5.150000000000001,
          5.250000000000001,
          5.3500000000000005,
          5.450000000000001,
          5.550000000000001,
          5.650000000000001,
          5.750000000000001,
          5.8500000000000005,
          5.950000000000001,
          6.050000000000001,
          6.150000000000001,
          6.250000000000001
         ],
         "xaxis": "x",
         "y": [
          0.3206046963532984,
          0.34369114321849364,
          0.3647278168184064,
          0.38313914382887526,
          0.39839340362678727,
          0.4100259543187205,
          0.41766012885663667,
          0.4210244798895415,
          0.41996527122463373,
          0.4144534269202026,
          0.40458552935846925,
          0.39057887109888956,
          0.37276097422450705,
          0.35155435816236746,
          0.3274576301748155,
          0.30102416771323004,
          0.27283974517591764,
          0.24350042779268571,
          0.21359192242899602,
          0.18367135900792034,
          0.15425220401323791,
          0.12579270976310053,
          0.09868801029713246,
          0.07326571370307816,
          0.04978463213491427,
          0.0284361472404513,
          0.009347634220473315,
          -0.007412641789963635,
          -0.021829698569482397,
          -0.03393553654423764,
          -0.04380271722938775,
          -0.05153806127467942,
          -0.05727660545899711,
          -0.06117587641683328,
          -0.06341048331365962,
          -0.06416700346212505,
          -0.06363913124395293,
          -0.06202307587898123,
          -0.05951322001284359,
          -0.056298080814867,
          -0.05255664110999457,
          -0.048455134531989866,
          -0.04414437253569001,
          -0.039757691484507286,
          -0.03540957625555893,
          -0.03119498589862523,
          -0.027189370922033947,
          -0.023449335193640685,
          -0.020013862389321884,
          -0.01690600075034368,
          -0.014134882854340116,
          -0.011697950132939498,
          -0.009583254743023144,
          -0.007771722864466047,
          -0.006239281577919933,
          -0.004958773803562183,
          -0.0039016099198671862,
          -0.003039128401793709,
          -0.0023436593001672293,
          -0.0017893023331458848,
          -0.0013524450402307127,
          -0.0010120556468421315,
          -0.0007497902284452519
         ],
         "yaxis": "y"
        },
        {
         "mode": "lines",
         "name": "n=3",
         "type": "scatter",
         "x": [
          0.05,
          0.15000000000000002,
          0.25000000000000006,
          0.35000000000000003,
          0.45000000000000007,
          0.5500000000000002,
          0.6500000000000001,
          0.7500000000000002,
          0.8500000000000002,
          0.9500000000000002,
          1.0500000000000003,
          1.1500000000000004,
          1.2500000000000002,
          1.3500000000000003,
          1.4500000000000004,
          1.5500000000000003,
          1.6500000000000004,
          1.7500000000000004,
          1.8500000000000003,
          1.9500000000000004,
          2.0500000000000003,
          2.1500000000000004,
          2.2500000000000004,
          2.35,
          2.45,
          2.5500000000000003,
          2.6500000000000004,
          2.7500000000000004,
          2.8500000000000005,
          2.95,
          3.0500000000000003,
          3.1500000000000004,
          3.2500000000000004,
          3.3500000000000005,
          3.4500000000000006,
          3.5500000000000007,
          3.6500000000000004,
          3.7500000000000004,
          3.8500000000000005,
          3.9500000000000006,
          4.050000000000001,
          4.15,
          4.250000000000001,
          4.3500000000000005,
          4.450000000000001,
          4.550000000000001,
          4.65,
          4.750000000000001,
          4.8500000000000005,
          4.950000000000001,
          5.050000000000001,
          5.150000000000001,
          5.250000000000001,
          5.3500000000000005,
          5.450000000000001,
          5.550000000000001,
          5.650000000000001,
          5.750000000000001,
          5.8500000000000005,
          5.950000000000001,
          6.050000000000001,
          6.150000000000001,
          6.250000000000001
         ],
         "xaxis": "x",
         "y": [
          1.0313033805596932,
          0.986187279888648,
          0.9262580932848644,
          0.8530871474819648,
          0.768772911506315,
          0.6758488652751314,
          0.5771659516583078,
          0.47575726022843146,
          0.3746939017206298,
          0.27694156794807673,
          0.18522699219846386,
          0.10192247597092388,
          0.028954954617804854,
          -0.032256075093729616,
          -0.08082982182290893,
          -0.11642508901704259,
          -0.13921335859587233,
          -0.14982837639434754,
          -0.14929775224257041,
          -0.13896270716466821,
          -0.12039214452356516,
          -0.09529675947174399,
          -0.06544804352792308,
          -0.03260592534331168,
          0.001542442224142405,
          0.03543145265075002,
          0.06765316703123966,
          0.09698146795610849,
          0.12238557542838287,
          0.14303465290807763,
          0.15829540030702197,
          0.16772450733000935,
          0.1710576726050561,
          0.16819663105332072,
          0.15919531903239123,
          0.14424598081757325,
          0.12366570813078577,
          0.09788362471156292,
          0.06742869116440298,
          0.032917917619676884,
          -0.0049553631559430674,
          -0.04543358872497618,
          -0.08770787327212293,
          -0.13093213483668464,
          -0.17423875123978516,
          -0.21675589628106084,
          -0.2576265043960016,
          -0.29602857653585296,
          -0.33119629352118735,
          -0.3624411708869841,
          -0.38917229853539437,
          -0.41091458522699303,
          -0.42732389305226587,
          -0.4381980133775224,
          -0.4434826056915219,
          -0.44327148504303854,
          -0.4378009819711407,
          -0.4274384814445847,
          -0.4126656388980853,
          -0.39405713473102044,
          -0.3722561289300893,
          -0.34794778669403764,
          -0.3218323457152393
         ],
         "yaxis": "y"
        },
        {
         "mode": "lines",
         "name": "n=5",
         "type": "scatter",
         "x": [
          0.05,
          0.15000000000000002,
          0.25000000000000006,
          0.35000000000000003,
          0.45000000000000007,
          0.5500000000000002,
          0.6500000000000001,
          0.7500000000000002,
          0.8500000000000002,
          0.9500000000000002,
          1.0500000000000003,
          1.1500000000000004,
          1.2500000000000002,
          1.3500000000000003,
          1.4500000000000004,
          1.5500000000000003,
          1.6500000000000004,
          1.7500000000000004,
          1.8500000000000003,
          1.9500000000000004,
          2.0500000000000003,
          2.1500000000000004,
          2.2500000000000004,
          2.35,
          2.45,
          2.5500000000000003,
          2.6500000000000004,
          2.7500000000000004,
          2.8500000000000005,
          2.95,
          3.0500000000000003,
          3.1500000000000004,
          3.2500000000000004,
          3.3500000000000005,
          3.4500000000000006,
          3.5500000000000007,
          3.6500000000000004,
          3.7500000000000004,
          3.8500000000000005,
          3.9500000000000006,
          4.050000000000001,
          4.15,
          4.250000000000001,
          4.3500000000000005,
          4.450000000000001,
          4.550000000000001,
          4.65,
          4.750000000000001,
          4.8500000000000005,
          4.950000000000001,
          5.050000000000001,
          5.150000000000001,
          5.250000000000001,
          5.3500000000000005,
          5.450000000000001,
          5.550000000000001,
          5.650000000000001,
          5.750000000000001,
          5.8500000000000005,
          5.950000000000001,
          6.050000000000001,
          6.150000000000001,
          6.250000000000001
         ],
         "xaxis": "x",
         "y": [
          0.21377439314669686,
          0.3462397482329871,
          0.47843086666225454,
          0.6046284913687046,
          0.718812211036593,
          0.8149691704680683,
          0.8874319092693905,
          0.931225234623414,
          0.9423998792195728,
          0.9183300779267235,
          0.8579532305537544,
          0.7619324880528643,
          0.6327272646972188,
          0.4745620848892393,
          0.2932904734363408,
          0.09615737801906102,
          -0.10852958209900587,
          -0.3118033823860935,
          -0.5044932417065849,
          -0.6777063444367482,
          -0.8233067860453075,
          -0.9343622286898283,
          -1.0055300919310415,
          -1.0333584315592133,
          -1.0164818151806652,
          -0.9556991746864424,
          -0.8539283525749926,
          -0.7160402993154091,
          -0.5485839907587676,
          -0.35942047063307137,
          -0.157290381723482,
          0.04865656382764529,
          0.24933984243188467,
          0.43620422766624894,
          0.6016265801114675,
          0.7392508155600818,
          0.8442347019953591,
          0.9133991790978727,
          0.9452781734076074,
          0.9400737582154711,
          0.8995274226934897,
          0.8267227494749261,
          0.725837705265304,
          0.6018659597284839,
          0.4603262702443295,
          0.3069772512349274,
          0.14755212952424043,
          -0.012475240685557921,
          -0.16808538554440725,
          -0.3148649726577583,
          -0.44911413794554716,
          -0.5679107379639184,
          -0.6691348241731786,
          -0.7514579655282363,
          -0.8143028322063246,
          -0.8577787956120728,
          -0.8825993099169182,
          -0.8899866234015805,
          -0.8815690089006423,
          -0.8592752606442646,
          -0.8252307127894715,
          -0.7816585052698871,
          -0.7307892549932535
         ],
         "yaxis": "y"
        },
        {
         "mode": "lines",
         "name": "n=7",
         "type": "scatter",
         "x": [
          0.05,
          0.15000000000000002,
          0.25000000000000006,
          0.35000000000000003,
          0.45000000000000007,
          0.5500000000000002,
          0.6500000000000001,
          0.7500000000000002,
          0.8500000000000002,
          0.9500000000000002,
          1.0500000000000003,
          1.1500000000000004,
          1.2500000000000002,
          1.3500000000000003,
          1.4500000000000004,
          1.5500000000000003,
          1.6500000000000004,
          1.7500000000000004,
          1.8500000000000003,
          1.9500000000000004,
          2.0500000000000003,
          2.1500000000000004,
          2.2500000000000004,
          2.35,
          2.45,
          2.5500000000000003,
          2.6500000000000004,
          2.7500000000000004,
          2.8500000000000005,
          2.95,
          3.0500000000000003,
          3.1500000000000004,
          3.2500000000000004,
          3.3500000000000005,
          3.4500000000000006,
          3.5500000000000007,
          3.6500000000000004,
          3.7500000000000004,
          3.8500000000000005,
          3.9500000000000006,
          4.050000000000001,
          4.15,
          4.250000000000001,
          4.3500000000000005,
          4.450000000000001,
          4.550000000000001,
          4.65,
          4.750000000000001,
          4.8500000000000005,
          4.950000000000001,
          5.050000000000001,
          5.150000000000001,
          5.250000000000001,
          5.3500000000000005,
          5.450000000000001,
          5.550000000000001,
          5.650000000000001,
          5.750000000000001,
          5.8500000000000005,
          5.950000000000001,
          6.050000000000001,
          6.150000000000001,
          6.250000000000001
         ],
         "xaxis": "x",
         "y": [
          0.1643219769469384,
          0.3090701077514696,
          0.4543004560865718,
          0.593750261928662,
          0.7208062193922496,
          0.8288447775453656,
          0.9116054487527069,
          0.9635748495775981,
          0.9803567562310833,
          0.9590027246848257,
          0.8982789360010874,
          0.7988478670036524,
          0.6633480004948539,
          0.4963607959100812,
          0.304261154130294,
          0.09495516635462742,
          -0.12248347165607204,
          -0.33825989370282705,
          -0.5423627446804926,
          -0.7250978393246313,
          -0.8776186810553409,
          -0.9924209693160281,
          -1.0637696994958783,
          -1.0880311500067847,
          -1.0638877752541478,
          -0.9924214333369643,
          -0.8770589727894175,
          -0.7233833606725554,
          -0.5388225563860147,
          -0.33223650761563367,
          -0.11342930472112198,
          0.10738186518357361,
          0.32010713808138014,
          0.5153003208651035,
          0.6846205760634622,
          0.821213863746116,
          0.9199952196536797,
          0.9778206136624056,
          0.993545103636232,
          0.9679715944805142,
          0.9037011386896598,
          0.8049009270412147,
          0.6770096510285712,
          0.5264016964492303,
          0.36003174888404815,
          0.18508009424624094,
          0.00861650959951889,
          -0.1627024724219458,
          -0.3228916224594003,
          -0.46684263603647974,
          -0.5904729302357187,
          -0.6908162802211641,
          -0.7660566172696042,
          -0.8155085542199825,
          -0.8395500542580214,
          -0.8395141456039695,
          -0.8175477327262336,
          -0.7764463716919615,
          -0.719474351097258,
          -0.6501795246343597,
          -0.5722120481540797,
          -0.489155465934391,
          -0.4043774751882704
         ],
         "yaxis": "y"
        }
       ],
       "layout": {
        "annotations": [
         {
          "font": {
           "size": 16
          },
          "showarrow": false,
          "text": "Validation",
          "x": 0.225,
          "xanchor": "center",
          "xref": "paper",
          "y": 1,
          "yanchor": "bottom",
          "yref": "paper"
         },
         {
          "font": {
           "size": 16
          },
          "showarrow": false,
          "text": "Residual error",
          "x": 0.775,
          "xanchor": "center",
          "xref": "paper",
          "y": 1,
          "yanchor": "bottom",
          "yref": "paper"
         }
        ],
        "template": {
         "data": {
          "bar": [
           {
            "error_x": {
             "color": "#2a3f5f"
            },
            "error_y": {
             "color": "#2a3f5f"
            },
            "marker": {
             "line": {
              "color": "#E5ECF6",
              "width": 0.5
             }
            },
            "type": "bar"
           }
          ],
          "barpolar": [
           {
            "marker": {
             "line": {
              "color": "#E5ECF6",
              "width": 0.5
             }
            },
            "type": "barpolar"
           }
          ],
          "carpet": [
           {
            "aaxis": {
             "endlinecolor": "#2a3f5f",
             "gridcolor": "white",
             "linecolor": "white",
             "minorgridcolor": "white",
             "startlinecolor": "#2a3f5f"
            },
            "baxis": {
             "endlinecolor": "#2a3f5f",
             "gridcolor": "white",
             "linecolor": "white",
             "minorgridcolor": "white",
             "startlinecolor": "#2a3f5f"
            },
            "type": "carpet"
           }
          ],
          "choropleth": [
           {
            "colorbar": {
             "outlinewidth": 0,
             "ticks": ""
            },
            "type": "choropleth"
           }
          ],
          "contour": [
           {
            "colorbar": {
             "outlinewidth": 0,
             "ticks": ""
            },
            "colorscale": [
             [
              0,
              "#0d0887"
             ],
             [
              0.1111111111111111,
              "#46039f"
             ],
             [
              0.2222222222222222,
              "#7201a8"
             ],
             [
              0.3333333333333333,
              "#9c179e"
             ],
             [
              0.4444444444444444,
              "#bd3786"
             ],
             [
              0.5555555555555556,
              "#d8576b"
             ],
             [
              0.6666666666666666,
              "#ed7953"
             ],
             [
              0.7777777777777778,
              "#fb9f3a"
             ],
             [
              0.8888888888888888,
              "#fdca26"
             ],
             [
              1,
              "#f0f921"
             ]
            ],
            "type": "contour"
           }
          ],
          "contourcarpet": [
           {
            "colorbar": {
             "outlinewidth": 0,
             "ticks": ""
            },
            "type": "contourcarpet"
           }
          ],
          "heatmap": [
           {
            "colorbar": {
             "outlinewidth": 0,
             "ticks": ""
            },
            "colorscale": [
             [
              0,
              "#0d0887"
             ],
             [
              0.1111111111111111,
              "#46039f"
             ],
             [
              0.2222222222222222,
              "#7201a8"
             ],
             [
              0.3333333333333333,
              "#9c179e"
             ],
             [
              0.4444444444444444,
              "#bd3786"
             ],
             [
              0.5555555555555556,
              "#d8576b"
             ],
             [
              0.6666666666666666,
              "#ed7953"
             ],
             [
              0.7777777777777778,
              "#fb9f3a"
             ],
             [
              0.8888888888888888,
              "#fdca26"
             ],
             [
              1,
              "#f0f921"
             ]
            ],
            "type": "heatmap"
           }
          ],
          "heatmapgl": [
           {
            "colorbar": {
             "outlinewidth": 0,
             "ticks": ""
            },
            "colorscale": [
             [
              0,
              "#0d0887"
             ],
             [
              0.1111111111111111,
              "#46039f"
             ],
             [
              0.2222222222222222,
              "#7201a8"
             ],
             [
              0.3333333333333333,
              "#9c179e"
             ],
             [
              0.4444444444444444,
              "#bd3786"
             ],
             [
              0.5555555555555556,
              "#d8576b"
             ],
             [
              0.6666666666666666,
              "#ed7953"
             ],
             [
              0.7777777777777778,
              "#fb9f3a"
             ],
             [
              0.8888888888888888,
              "#fdca26"
             ],
             [
              1,
              "#f0f921"
             ]
            ],
            "type": "heatmapgl"
           }
          ],
          "histogram": [
           {
            "marker": {
             "colorbar": {
              "outlinewidth": 0,
              "ticks": ""
             }
            },
            "type": "histogram"
           }
          ],
          "histogram2d": [
           {
            "colorbar": {
             "outlinewidth": 0,
             "ticks": ""
            },
            "colorscale": [
             [
              0,
              "#0d0887"
             ],
             [
              0.1111111111111111,
              "#46039f"
             ],
             [
              0.2222222222222222,
              "#7201a8"
             ],
             [
              0.3333333333333333,
              "#9c179e"
             ],
             [
              0.4444444444444444,
              "#bd3786"
             ],
             [
              0.5555555555555556,
              "#d8576b"
             ],
             [
              0.6666666666666666,
              "#ed7953"
             ],
             [
              0.7777777777777778,
              "#fb9f3a"
             ],
             [
              0.8888888888888888,
              "#fdca26"
             ],
             [
              1,
              "#f0f921"
             ]
            ],
            "type": "histogram2d"
           }
          ],
          "histogram2dcontour": [
           {
            "colorbar": {
             "outlinewidth": 0,
             "ticks": ""
            },
            "colorscale": [
             [
              0,
              "#0d0887"
             ],
             [
              0.1111111111111111,
              "#46039f"
             ],
             [
              0.2222222222222222,
              "#7201a8"
             ],
             [
              0.3333333333333333,
              "#9c179e"
             ],
             [
              0.4444444444444444,
              "#bd3786"
             ],
             [
              0.5555555555555556,
              "#d8576b"
             ],
             [
              0.6666666666666666,
              "#ed7953"
             ],
             [
              0.7777777777777778,
              "#fb9f3a"
             ],
             [
              0.8888888888888888,
              "#fdca26"
             ],
             [
              1,
              "#f0f921"
             ]
            ],
            "type": "histogram2dcontour"
           }
          ],
          "mesh3d": [
           {
            "colorbar": {
             "outlinewidth": 0,
             "ticks": ""
            },
            "type": "mesh3d"
           }
          ],
          "parcoords": [
           {
            "line": {
             "colorbar": {
              "outlinewidth": 0,
              "ticks": ""
             }
            },
            "type": "parcoords"
           }
          ],
          "pie": [
           {
            "automargin": true,
            "type": "pie"
           }
          ],
          "scatter": [
           {
            "marker": {
             "colorbar": {
              "outlinewidth": 0,
              "ticks": ""
             }
            },
            "type": "scatter"
           }
          ],
          "scatter3d": [
           {
            "line": {
             "colorbar": {
              "outlinewidth": 0,
              "ticks": ""
             }
            },
            "marker": {
             "colorbar": {
              "outlinewidth": 0,
              "ticks": ""
             }
            },
            "type": "scatter3d"
           }
          ],
          "scattercarpet": [
           {
            "marker": {
             "colorbar": {
              "outlinewidth": 0,
              "ticks": ""
             }
            },
            "type": "scattercarpet"
           }
          ],
          "scattergeo": [
           {
            "marker": {
             "colorbar": {
              "outlinewidth": 0,
              "ticks": ""
             }
            },
            "type": "scattergeo"
           }
          ],
          "scattergl": [
           {
            "marker": {
             "colorbar": {
              "outlinewidth": 0,
              "ticks": ""
             }
            },
            "type": "scattergl"
           }
          ],
          "scattermapbox": [
           {
            "marker": {
             "colorbar": {
              "outlinewidth": 0,
              "ticks": ""
             }
            },
            "type": "scattermapbox"
           }
          ],
          "scatterpolar": [
           {
            "marker": {
             "colorbar": {
              "outlinewidth": 0,
              "ticks": ""
             }
            },
            "type": "scatterpolar"
           }
          ],
          "scatterpolargl": [
           {
            "marker": {
             "colorbar": {
              "outlinewidth": 0,
              "ticks": ""
             }
            },
            "type": "scatterpolargl"
           }
          ],
          "scatterternary": [
           {
            "marker": {
             "colorbar": {
              "outlinewidth": 0,
              "ticks": ""
             }
            },
            "type": "scatterternary"
           }
          ],
          "surface": [
           {
            "colorbar": {
             "outlinewidth": 0,
             "ticks": ""
            },
            "colorscale": [
             [
              0,
              "#0d0887"
             ],
             [
              0.1111111111111111,
              "#46039f"
             ],
             [
              0.2222222222222222,
              "#7201a8"
             ],
             [
              0.3333333333333333,
              "#9c179e"
             ],
             [
              0.4444444444444444,
              "#bd3786"
             ],
             [
              0.5555555555555556,
              "#d8576b"
             ],
             [
              0.6666666666666666,
              "#ed7953"
             ],
             [
              0.7777777777777778,
              "#fb9f3a"
             ],
             [
              0.8888888888888888,
              "#fdca26"
             ],
             [
              1,
              "#f0f921"
             ]
            ],
            "type": "surface"
           }
          ],
          "table": [
           {
            "cells": {
             "fill": {
              "color": "#EBF0F8"
             },
             "line": {
              "color": "white"
             }
            },
            "header": {
             "fill": {
              "color": "#C8D4E3"
             },
             "line": {
              "color": "white"
             }
            },
            "type": "table"
           }
          ]
         },
         "layout": {
          "annotationdefaults": {
           "arrowcolor": "#2a3f5f",
           "arrowhead": 0,
           "arrowwidth": 1
          },
          "coloraxis": {
           "colorbar": {
            "outlinewidth": 0,
            "ticks": ""
           }
          },
          "colorscale": {
           "diverging": [
            [
             0,
             "#8e0152"
            ],
            [
             0.1,
             "#c51b7d"
            ],
            [
             0.2,
             "#de77ae"
            ],
            [
             0.3,
             "#f1b6da"
            ],
            [
             0.4,
             "#fde0ef"
            ],
            [
             0.5,
             "#f7f7f7"
            ],
            [
             0.6,
             "#e6f5d0"
            ],
            [
             0.7,
             "#b8e186"
            ],
            [
             0.8,
             "#7fbc41"
            ],
            [
             0.9,
             "#4d9221"
            ],
            [
             1,
             "#276419"
            ]
           ],
           "sequential": [
            [
             0,
             "#0d0887"
            ],
            [
             0.1111111111111111,
             "#46039f"
            ],
            [
             0.2222222222222222,
             "#7201a8"
            ],
            [
             0.3333333333333333,
             "#9c179e"
            ],
            [
             0.4444444444444444,
             "#bd3786"
            ],
            [
             0.5555555555555556,
             "#d8576b"
            ],
            [
             0.6666666666666666,
             "#ed7953"
            ],
            [
             0.7777777777777778,
             "#fb9f3a"
            ],
            [
             0.8888888888888888,
             "#fdca26"
            ],
            [
             1,
             "#f0f921"
            ]
           ],
           "sequentialminus": [
            [
             0,
             "#0d0887"
            ],
            [
             0.1111111111111111,
             "#46039f"
            ],
            [
             0.2222222222222222,
             "#7201a8"
            ],
            [
             0.3333333333333333,
             "#9c179e"
            ],
            [
             0.4444444444444444,
             "#bd3786"
            ],
            [
             0.5555555555555556,
             "#d8576b"
            ],
            [
             0.6666666666666666,
             "#ed7953"
            ],
            [
             0.7777777777777778,
             "#fb9f3a"
            ],
            [
             0.8888888888888888,
             "#fdca26"
            ],
            [
             1,
             "#f0f921"
            ]
           ]
          },
          "colorway": [
           "#636efa",
           "#EF553B",
           "#00cc96",
           "#ab63fa",
           "#FFA15A",
           "#19d3f3",
           "#FF6692",
           "#B6E880",
           "#FF97FF",
           "#FECB52"
          ],
          "font": {
           "color": "#2a3f5f"
          },
          "geo": {
           "bgcolor": "white",
           "lakecolor": "white",
           "landcolor": "#E5ECF6",
           "showlakes": true,
           "showland": true,
           "subunitcolor": "white"
          },
          "hoverlabel": {
           "align": "left"
          },
          "hovermode": "closest",
          "mapbox": {
           "style": "light"
          },
          "paper_bgcolor": "white",
          "plot_bgcolor": "#E5ECF6",
          "polar": {
           "angularaxis": {
            "gridcolor": "white",
            "linecolor": "white",
            "ticks": ""
           },
           "bgcolor": "#E5ECF6",
           "radialaxis": {
            "gridcolor": "white",
            "linecolor": "white",
            "ticks": ""
           }
          },
          "scene": {
           "xaxis": {
            "backgroundcolor": "#E5ECF6",
            "gridcolor": "white",
            "gridwidth": 2,
            "linecolor": "white",
            "showbackground": true,
            "ticks": "",
            "zerolinecolor": "white"
           },
           "yaxis": {
            "backgroundcolor": "#E5ECF6",
            "gridcolor": "white",
            "gridwidth": 2,
            "linecolor": "white",
            "showbackground": true,
            "ticks": "",
            "zerolinecolor": "white"
           },
           "zaxis": {
            "backgroundcolor": "#E5ECF6",
            "gridcolor": "white",
            "gridwidth": 2,
            "linecolor": "white",
            "showbackground": true,
            "ticks": "",
            "zerolinecolor": "white"
           }
          },
          "shapedefaults": {
           "line": {
            "color": "#2a3f5f"
           }
          },
          "ternary": {
           "aaxis": {
            "gridcolor": "white",
            "linecolor": "white",
            "ticks": ""
           },
           "baxis": {
            "gridcolor": "white",
            "linecolor": "white",
            "ticks": ""
           },
           "bgcolor": "#E5ECF6",
           "caxis": {
            "gridcolor": "white",
            "linecolor": "white",
            "ticks": ""
           }
          },
          "title": {
           "x": 0.05
          },
          "xaxis": {
           "automargin": true,
           "gridcolor": "white",
           "linecolor": "white",
           "ticks": "",
           "title": {
            "standoff": 15
           },
           "zerolinecolor": "white",
           "zerolinewidth": 2
          },
          "yaxis": {
           "automargin": true,
           "gridcolor": "white",
           "linecolor": "white",
           "ticks": "",
           "title": {
            "standoff": 15
           },
           "zerolinecolor": "white",
           "zerolinewidth": 2
          }
         }
        },
        "xaxis": {
         "anchor": "y",
         "domain": [
          0,
          0.45
         ]
        },
        "xaxis2": {
         "anchor": "y2",
         "domain": [
          0.55,
          1
         ]
        },
        "yaxis": {
         "anchor": "x",
         "domain": [
          0,
          1
         ]
        },
        "yaxis2": {
         "anchor": "x2",
         "domain": [
          0,
          1
         ]
        }
       }
      }
     },
     "metadata": {}
    }
   ],
   "source": [
    "x, sin_data, sqr_data = data_gen(0, 2*np.pi)\n",
    "t_x, t_sin_data, t_sqr_data = data_gen(0.05, 2*np.pi)\n",
    "\n",
    "n_nodes = np.arange(1,10)\n",
    "res_errors = []\n",
    "outputs = []\n",
    "\n",
    "epochs=100\n",
    "\n",
    "for n in n_nodes:\n",
    "    RBFNet = RBF_Network(n, x, useDelta=False, add_noise=False)\n",
    "    RBFNet.train_network(epochs, x, sin_data)\n",
    "    res_errors.append(RBFNet.validate(t_x, t_sin_data))\n",
    "    outputs.append(RBFNet.f_of_x)\n",
    "\n",
    "titles = [\"Validation\", \"Residual error\"]\n",
    "fig = make_subplots(rows=1, cols=2, subplot_titles=(titles[0], titles[1]))\n",
    "\n",
    "fig.add_trace(go.Scatter(x=np.arange(len(res_errors)), y=res_errors, mode=\"lines\", name=\"error\"), row=1, col=2)\n",
    "\n",
    "fig.add_trace(go.Scatter(x=t_x.ravel(), y=sin_data.ravel(), mode=\"lines\", name=\"Original\"), row=1, col=1)\n",
    "\n",
    "for i in range(1, len(outputs), 2):\n",
    "    fig.add_trace(go.Scatter(x=t_x.ravel(), y=outputs[i].ravel(), mode=\"lines\", name=\"n={}\".format(i)), row=1, col=1)\n",
    "\n",
    "fig.show()\n"
   ]
  },
  {
   "cell_type": "code",
   "execution_count": 7,
   "metadata": {},
   "outputs": [
    {
     "output_type": "display_data",
     "data": {
      "application/vnd.plotly.v1+json": {
       "config": {
        "plotlyServerURL": "https://plot.ly"
       },
       "data": [
        {
         "mode": "lines",
         "name": "error",
         "type": "scatter",
         "x": [
          0,
          1,
          2,
          3,
          4,
          5,
          6,
          7,
          8,
          9,
          10,
          11,
          12,
          13,
          14,
          15,
          16,
          17,
          18,
          19,
          20,
          21,
          22,
          23,
          24,
          25,
          26,
          27,
          28
         ],
         "xaxis": "x2",
         "y": [
          0.6475483592136156,
          0.6479364669237523,
          0.7073042523481979,
          0.7501822357332792,
          0.7799685430429302,
          0.7984240620796771,
          0.796895726276715,
          0.8091301713408776,
          0.8144813718462351,
          0.8117172799116351,
          0.8137611001540608,
          0.8100821466939918,
          0.8145869256965157,
          0.8320454097520663,
          0.8169471079500703,
          0.8159479278600084,
          0.8219530292653456,
          0.8227335588709324,
          0.8175154521737383,
          0.8135537253290466,
          0.8160404049155696,
          0.8159216668941928,
          0.8192764597415196,
          0.8131714081501574,
          0.8215543642012924,
          0.8130154702555688,
          0.8163700274431899,
          0.8196363991000316,
          0.8342962786124056
         ],
         "yaxis": "y2"
        },
        {
         "mode": "lines",
         "name": "Original",
         "type": "scatter",
         "x": [
          0.05,
          0.15000000000000002,
          0.25000000000000006,
          0.35000000000000003,
          0.45000000000000007,
          0.5500000000000002,
          0.6500000000000001,
          0.7500000000000002,
          0.8500000000000002,
          0.9500000000000002,
          1.0500000000000003,
          1.1500000000000004,
          1.2500000000000002,
          1.3500000000000003,
          1.4500000000000004,
          1.5500000000000003,
          1.6500000000000004,
          1.7500000000000004,
          1.8500000000000003,
          1.9500000000000004,
          2.0500000000000003,
          2.1500000000000004,
          2.2500000000000004,
          2.35,
          2.45,
          2.5500000000000003,
          2.6500000000000004,
          2.7500000000000004,
          2.8500000000000005,
          2.95,
          3.0500000000000003,
          3.1500000000000004,
          3.2500000000000004,
          3.3500000000000005,
          3.4500000000000006,
          3.5500000000000007,
          3.6500000000000004,
          3.7500000000000004,
          3.8500000000000005,
          3.9500000000000006,
          4.050000000000001,
          4.15,
          4.250000000000001,
          4.3500000000000005,
          4.450000000000001,
          4.550000000000001,
          4.65,
          4.750000000000001,
          4.8500000000000005,
          4.950000000000001,
          5.050000000000001,
          5.150000000000001,
          5.250000000000001,
          5.3500000000000005,
          5.450000000000001,
          5.550000000000001,
          5.650000000000001,
          5.750000000000001,
          5.8500000000000005,
          5.950000000000001,
          6.050000000000001,
          6.150000000000001,
          6.250000000000001
         ],
         "xaxis": "x",
         "y": [
          0,
          0.19866933079506122,
          0.3894183423086505,
          0.5646424733950355,
          0.7173560908995228,
          0.8414709848078965,
          0.9320390859672264,
          0.9854497299884603,
          0.9995736030415051,
          0.9738476308781951,
          0.9092974268256817,
          0.8084964038195901,
          0.6754631805511506,
          0.5155013718214642,
          0.33498815015590466,
          0.1411200080598672,
          -0.058374143427580086,
          -0.25554110202683167,
          -0.44252044329485246,
          -0.6118578909427193,
          -0.7568024953079282,
          -0.8715757724135882,
          -0.951602073889516,
          -0.9936910036334645,
          -0.9961646088358406,
          -0.9589242746631385,
          -0.8834546557201531,
          -0.7727644875559871,
          -0.6312666378723208,
          -0.4646021794137566,
          -0.27941549819892586,
          -0.0830894028174964,
          0.11654920485049364,
          0.3115413635133787,
          0.49411335113860894,
          0.6569865987187891,
          0.7936678638491531,
          0.8987080958116269,
          0.9679196720314865,
          0.998543345374605,
          0.9893582466233818,
          0.9407305566797726,
          0.8545989080882804,
          0.7343970978741133,
          0.5849171928917617,
          0.4121184852417566,
          0.22288991410024592,
          0.024775425453357765,
          -0.1743267812229814,
          -0.3664791292519284,
          -0.5440211108893698,
          -0.6998746875935437,
          -0.8278264690856537,
          -0.9227754216128073,
          -0.9809362300664916,
          -0.9999902065507035,
          -0.979177729151317,
          -0.9193285256646757,
          -0.8228285949687079,
          -0.6935250847771224,
          -0.5365729180004349,
          -0.35822928223682704,
          -0.1656041754483094
         ],
         "yaxis": "y"
        },
        {
         "mode": "lines",
         "name": "n=1",
         "type": "scatter",
         "x": [
          0.05,
          0.15000000000000002,
          0.25000000000000006,
          0.35000000000000003,
          0.45000000000000007,
          0.5500000000000002,
          0.6500000000000001,
          0.7500000000000002,
          0.8500000000000002,
          0.9500000000000002,
          1.0500000000000003,
          1.1500000000000004,
          1.2500000000000002,
          1.3500000000000003,
          1.4500000000000004,
          1.5500000000000003,
          1.6500000000000004,
          1.7500000000000004,
          1.8500000000000003,
          1.9500000000000004,
          2.0500000000000003,
          2.1500000000000004,
          2.2500000000000004,
          2.35,
          2.45,
          2.5500000000000003,
          2.6500000000000004,
          2.7500000000000004,
          2.8500000000000005,
          2.95,
          3.0500000000000003,
          3.1500000000000004,
          3.2500000000000004,
          3.3500000000000005,
          3.4500000000000006,
          3.5500000000000007,
          3.6500000000000004,
          3.7500000000000004,
          3.8500000000000005,
          3.9500000000000006,
          4.050000000000001,
          4.15,
          4.250000000000001,
          4.3500000000000005,
          4.450000000000001,
          4.550000000000001,
          4.65,
          4.750000000000001,
          4.8500000000000005,
          4.950000000000001,
          5.050000000000001,
          5.150000000000001,
          5.250000000000001,
          5.3500000000000005,
          5.450000000000001,
          5.550000000000001,
          5.650000000000001,
          5.750000000000001,
          5.8500000000000005,
          5.950000000000001,
          6.050000000000001,
          6.150000000000001,
          6.250000000000001
         ],
         "xaxis": "x",
         "y": [
          0.07729785478562781,
          0.0835966749818953,
          0.08970293266145796,
          0.09555423669532047,
          0.10111061797712492,
          0.10636016379494355,
          0.11132346888155628,
          0.11605641831642877,
          0.12065087797276923,
          0.12523296864772204,
          0.12995873678754535,
          0.1350072009848865,
          0.1405709393844749,
          0.14684457654605623,
          0.15401171521983642,
          0.1622310241101514,
          0.17162232246964693,
          0.1822535830440894,
          0.19412979572761677,
          0.20718458813750637,
          0.22127538360209495,
          0.23618269452265916,
          0.25161390818025575,
          0.26721163691581107,
          0.28256639435080444,
          0.2972330469102835,
          0.3107502004344286,
          0.3226614401232355,
          0.3325371709684203,
          0.33999572281468604,
          0.34472239989651343,
          0.34648527125566947,
          0.34514670882120957,
          0.3406699682153637,
          0.33312045005629665,
          0.32266164782433815,
          0.30954615091620213,
          0.29410239771802993,
          0.2767181366197084,
          0.25782173264928376,
          0.23786254206553084,
          0.21729156442366165,
          0.19654347814988699,
          0.17602098637422897,
          0.15608216553153614,
          0.137031244351055,
          0.1191129703184392,
          0.10251046761851677,
          0.08734627401924015,
          0.07368607768090742,
          0.06154456577872289,
          0.05089274623853738,
          0.04166610747036704,
          0.03377303015638603,
          0.027102948566029364,
          0.0215338639872582,
          0.016938927368951383,
          0.013191921247882031,
          0.010171573766928212,
          0.007764723981508912,
          0.005868424284488893,
          0.004391111694038692,
          0.0032530059965891226
         ],
         "yaxis": "y"
        },
        {
         "mode": "lines",
         "name": "n=4",
         "type": "scatter",
         "x": [
          0.05,
          0.15000000000000002,
          0.25000000000000006,
          0.35000000000000003,
          0.45000000000000007,
          0.5500000000000002,
          0.6500000000000001,
          0.7500000000000002,
          0.8500000000000002,
          0.9500000000000002,
          1.0500000000000003,
          1.1500000000000004,
          1.2500000000000002,
          1.3500000000000003,
          1.4500000000000004,
          1.5500000000000003,
          1.6500000000000004,
          1.7500000000000004,
          1.8500000000000003,
          1.9500000000000004,
          2.0500000000000003,
          2.1500000000000004,
          2.2500000000000004,
          2.35,
          2.45,
          2.5500000000000003,
          2.6500000000000004,
          2.7500000000000004,
          2.8500000000000005,
          2.95,
          3.0500000000000003,
          3.1500000000000004,
          3.2500000000000004,
          3.3500000000000005,
          3.4500000000000006,
          3.5500000000000007,
          3.6500000000000004,
          3.7500000000000004,
          3.8500000000000005,
          3.9500000000000006,
          4.050000000000001,
          4.15,
          4.250000000000001,
          4.3500000000000005,
          4.450000000000001,
          4.550000000000001,
          4.65,
          4.750000000000001,
          4.8500000000000005,
          4.950000000000001,
          5.050000000000001,
          5.150000000000001,
          5.250000000000001,
          5.3500000000000005,
          5.450000000000001,
          5.550000000000001,
          5.650000000000001,
          5.750000000000001,
          5.8500000000000005,
          5.950000000000001,
          6.050000000000001,
          6.150000000000001,
          6.250000000000001
         ],
         "xaxis": "x",
         "y": [
          1.8585457316550793,
          1.759159570734203,
          1.6319821907387497,
          1.4804214627873065,
          1.3089021553777362,
          1.1226740557650843,
          0.9275711444543729,
          0.7297373548067994,
          0.5353369110846451,
          0.350268146103318,
          0.17989899003174226,
          0.02884010259344405,
          -0.09923184444044109,
          -0.2016925548214623,
          -0.2770267193010759,
          -0.32482407350667597,
          -0.3457202970673876,
          -0.341291479876792,
          -0.3139131451894313,
          -0.2665959242930853,
          -0.20280996368064969,
          -0.12630916518458613,
          -0.04096464577669576,
          0.049385366664790015,
          0.14106433093514534,
          0.2306622813314595,
          0.315116199397862,
          0.3917668501554652,
          0.4583941929998385,
          0.5132341518097805,
          0.5549798057708412,
          0.5827700299614673,
          0.5961683727227197,
          0.5951346001061224,
          0.5799909439411819,
          0.5513847132004936,
          0.510248597592941,
          0.4577597159292866,
          0.39529823376439,
          0.3244061826914709,
          0.24674694575294331,
          0.1640657238777744,
          0.07815116925972507,
          -0.009201727313000374,
          -0.09622746330280836,
          -0.18122453178479656,
          -0.26258850926752075,
          -0.33884349466823116,
          -0.4086714914318384,
          -0.4709391213564178,
          -0.5247208639436498,
          -0.5693178664019837,
          -0.6042713022707358,
          -0.6293692985939426,
          -0.6446466172950586,
          -0.6503765643557516,
          -0.6470549920621005,
          -0.6353767211951428,
          -0.6162051966913018,
          -0.5905366516434357,
          -0.5594604413317894,
          -0.5241174794982975,
          -0.4856588342226885
         ],
         "yaxis": "y"
        },
        {
         "mode": "lines",
         "name": "n=7",
         "type": "scatter",
         "x": [
          0.05,
          0.15000000000000002,
          0.25000000000000006,
          0.35000000000000003,
          0.45000000000000007,
          0.5500000000000002,
          0.6500000000000001,
          0.7500000000000002,
          0.8500000000000002,
          0.9500000000000002,
          1.0500000000000003,
          1.1500000000000004,
          1.2500000000000002,
          1.3500000000000003,
          1.4500000000000004,
          1.5500000000000003,
          1.6500000000000004,
          1.7500000000000004,
          1.8500000000000003,
          1.9500000000000004,
          2.0500000000000003,
          2.1500000000000004,
          2.2500000000000004,
          2.35,
          2.45,
          2.5500000000000003,
          2.6500000000000004,
          2.7500000000000004,
          2.8500000000000005,
          2.95,
          3.0500000000000003,
          3.1500000000000004,
          3.2500000000000004,
          3.3500000000000005,
          3.4500000000000006,
          3.5500000000000007,
          3.6500000000000004,
          3.7500000000000004,
          3.8500000000000005,
          3.9500000000000006,
          4.050000000000001,
          4.15,
          4.250000000000001,
          4.3500000000000005,
          4.450000000000001,
          4.550000000000001,
          4.65,
          4.750000000000001,
          4.8500000000000005,
          4.950000000000001,
          5.050000000000001,
          5.150000000000001,
          5.250000000000001,
          5.3500000000000005,
          5.450000000000001,
          5.550000000000001,
          5.650000000000001,
          5.750000000000001,
          5.8500000000000005,
          5.950000000000001,
          6.050000000000001,
          6.150000000000001,
          6.250000000000001
         ],
         "xaxis": "x",
         "y": [
          0.9505694124943148,
          1.0215615688714774,
          1.080766990911655,
          1.1247375178459498,
          1.1501889422014722,
          1.1541832016958007,
          1.134315086395815,
          1.0888928847134587,
          1.017101582598092,
          0.9191370779811815,
          0.7963004469351413,
          0.6510426309604082,
          0.48695199614339857,
          0.3086799889457701,
          0.12180347592526668,
          -0.0673738487302376,
          -0.25207457768912245,
          -0.42534481071332897,
          -0.5803813641094872,
          -0.7108717634277789,
          -0.8113276359025021,
          -0.8773911214877598,
          -0.9060943062914103,
          -0.8960535556062736,
          -0.8475839686806802,
          -0.7627238388358129,
          -0.6451646866998175,
          -0.5000887250220064,
          -0.3339220058661964,
          -0.15401744941789244,
          0.03171307079374569,
          0.21519486199212642,
          0.3885902424092523,
          0.5446776527409691,
          0.67718761823847,
          0.7810767766674682,
          0.8527261220736169,
          0.8900553531167142,
          0.8925512186289926,
          0.8612134912071245,
          0.7984272077193117,
          0.70777374190429,
          0.593795908265421,
          0.4617335771914535,
          0.3172462856476837,
          0.16613824320306358,
          0.01409921903664382,
          -0.13352765857852458,
          -0.27194287264710754,
          -0.39704667341872585,
          -0.5055514081666446,
          -0.595049310229734,
          -0.664037001610212,
          -0.7118995981429127,
          -0.7388586301931463,
          -0.7458890386342308,
          -0.7346113039946738,
          -0.7071653299236618,
          -0.666073026905875,
          -0.6140966113171071,
          -0.5540994263580907,
          -0.4889155890022914,
          -0.4212339711765793
         ],
         "yaxis": "y"
        },
        {
         "mode": "lines",
         "name": "n=10",
         "type": "scatter",
         "x": [
          0.05,
          0.15000000000000002,
          0.25000000000000006,
          0.35000000000000003,
          0.45000000000000007,
          0.5500000000000002,
          0.6500000000000001,
          0.7500000000000002,
          0.8500000000000002,
          0.9500000000000002,
          1.0500000000000003,
          1.1500000000000004,
          1.2500000000000002,
          1.3500000000000003,
          1.4500000000000004,
          1.5500000000000003,
          1.6500000000000004,
          1.7500000000000004,
          1.8500000000000003,
          1.9500000000000004,
          2.0500000000000003,
          2.1500000000000004,
          2.2500000000000004,
          2.35,
          2.45,
          2.5500000000000003,
          2.6500000000000004,
          2.7500000000000004,
          2.8500000000000005,
          2.95,
          3.0500000000000003,
          3.1500000000000004,
          3.2500000000000004,
          3.3500000000000005,
          3.4500000000000006,
          3.5500000000000007,
          3.6500000000000004,
          3.7500000000000004,
          3.8500000000000005,
          3.9500000000000006,
          4.050000000000001,
          4.15,
          4.250000000000001,
          4.3500000000000005,
          4.450000000000001,
          4.550000000000001,
          4.65,
          4.750000000000001,
          4.8500000000000005,
          4.950000000000001,
          5.050000000000001,
          5.150000000000001,
          5.250000000000001,
          5.3500000000000005,
          5.450000000000001,
          5.550000000000001,
          5.650000000000001,
          5.750000000000001,
          5.8500000000000005,
          5.950000000000001,
          6.050000000000001,
          6.150000000000001,
          6.250000000000001
         ],
         "xaxis": "x",
         "y": [
          1.0044830681565937,
          1.0702996906008995,
          1.1233488242325078,
          1.1604101941888263,
          1.1784784169008407,
          1.1749307144753365,
          1.1476954660726313,
          1.0954122424957071,
          1.0175734808594616,
          0.9146379974118135,
          0.7881071476605347,
          0.6405556404445967,
          0.4756107890694714,
          0.2978763041532563,
          0.11279953459157754,
          -0.07351575604946892,
          -0.2545455727519462,
          -0.42362185866379154,
          -0.5742363864584886,
          -0.7003572512832344,
          -0.7967406987933879,
          -0.8592198463484817,
          -0.8849518701054175,
          -0.8726065788549601,
          -0.8224820144452826,
          -0.7365367183758735,
          -0.618333358680323,
          -0.47289416743648993,
          -0.30647464341687547,
          -0.1262677148396556,
          0.0599444815487673,
          0.24417032715501708,
          0.41859694413358683,
          0.5759635580893818,
          0.7098981023189777,
          0.8151982609214019,
          0.8880425570072084,
          0.926122368387603,
          0.9286913862677033,
          0.8965345097294055,
          0.8318630340014126,
          0.7381468925764016,
          0.619897437195484,
          0.48241571717798726,
          0.3315215184141531,
          0.173277719021252,
          0.01372305884109326,
          -0.14137552541432563,
          -0.2867420232904403,
          -0.41777515461210335,
          -0.5306921579893761,
          -0.6226297608026063,
          -0.6917012252031504,
          -0.737009900102449,
          -0.758621133573852,
          -0.757495757473118,
          -0.7353896635394438,
          -0.6947252271034955,
          -0.6384414414501299,
          -0.5698305137165353,
          -0.4923692394599889,
          -0.4095536223516153,
          -0.3247448700723772
         ],
         "yaxis": "y"
        },
        {
         "mode": "lines",
         "name": "n=13",
         "type": "scatter",
         "x": [
          0.05,
          0.15000000000000002,
          0.25000000000000006,
          0.35000000000000003,
          0.45000000000000007,
          0.5500000000000002,
          0.6500000000000001,
          0.7500000000000002,
          0.8500000000000002,
          0.9500000000000002,
          1.0500000000000003,
          1.1500000000000004,
          1.2500000000000002,
          1.3500000000000003,
          1.4500000000000004,
          1.5500000000000003,
          1.6500000000000004,
          1.7500000000000004,
          1.8500000000000003,
          1.9500000000000004,
          2.0500000000000003,
          2.1500000000000004,
          2.2500000000000004,
          2.35,
          2.45,
          2.5500000000000003,
          2.6500000000000004,
          2.7500000000000004,
          2.8500000000000005,
          2.95,
          3.0500000000000003,
          3.1500000000000004,
          3.2500000000000004,
          3.3500000000000005,
          3.4500000000000006,
          3.5500000000000007,
          3.6500000000000004,
          3.7500000000000004,
          3.8500000000000005,
          3.9500000000000006,
          4.050000000000001,
          4.15,
          4.250000000000001,
          4.3500000000000005,
          4.450000000000001,
          4.550000000000001,
          4.65,
          4.750000000000001,
          4.8500000000000005,
          4.950000000000001,
          5.050000000000001,
          5.150000000000001,
          5.250000000000001,
          5.3500000000000005,
          5.450000000000001,
          5.550000000000001,
          5.650000000000001,
          5.750000000000001,
          5.8500000000000005,
          5.950000000000001,
          6.050000000000001,
          6.150000000000001,
          6.250000000000001
         ],
         "xaxis": "x",
         "y": [
          0.6772719571696855,
          0.8007221747095226,
          0.9155397341099734,
          1.0159747593682442,
          1.0963029571098521,
          1.1511498970250282,
          1.1758279114387555,
          1.1666640540029771,
          1.1212963612154596,
          1.0389161211270483,
          0.9204360294694842,
          0.7685679235848466,
          0.5877990135383437,
          0.3842618436035754,
          0.1655001882039564,
          -0.05985977557187727,
          -0.282516888437355,
          -0.4929589602269808,
          -0.6819565756227881,
          -0.8410571614631224,
          -0.9630487746763754,
          -1.0423642256389583,
          -1.075399395486305,
          -1.060724762877809,
          -0.9991758967406543,
          -0.8938165303768706,
          -0.7497762367274854,
          -0.5739730396178482,
          -0.37473887692417573,
          -0.16137208268994518,
          0.05635451442773576,
          0.26869900547157854,
          0.4664384870653584,
          0.641311251657964,
          0.7863887751603693,
          0.8963590128469858,
          0.9677093379409769,
          0.998804671880571,
          0.9898633492830826,
          0.9428394883709394,
          0.8612256710300005,
          0.7497932999026973,
          0.6142899832933757,
          0.46111375149111494,
          0.2969830131445754,
          0.12861919492405643,
          -0.03754370153779249,
          -0.19561151367177945,
          -0.34043642952386577,
          -0.4677728416717899,
          -0.5743806245091622,
          -0.6580763816123032,
          -0.7177352790817247,
          -0.7532477706982537,
          -0.7654368705178052,
          -0.7559426790054491,
          -0.7270816478763177,
          -0.6816885839900985,
          -0.6229496314668476,
          -0.5542344082831262,
          -0.4789350822062106,
          -0.40031943586168106,
          -0.32140389990145385
         ],
         "yaxis": "y"
        },
        {
         "mode": "lines",
         "name": "n=16",
         "type": "scatter",
         "x": [
          0.05,
          0.15000000000000002,
          0.25000000000000006,
          0.35000000000000003,
          0.45000000000000007,
          0.5500000000000002,
          0.6500000000000001,
          0.7500000000000002,
          0.8500000000000002,
          0.9500000000000002,
          1.0500000000000003,
          1.1500000000000004,
          1.2500000000000002,
          1.3500000000000003,
          1.4500000000000004,
          1.5500000000000003,
          1.6500000000000004,
          1.7500000000000004,
          1.8500000000000003,
          1.9500000000000004,
          2.0500000000000003,
          2.1500000000000004,
          2.2500000000000004,
          2.35,
          2.45,
          2.5500000000000003,
          2.6500000000000004,
          2.7500000000000004,
          2.8500000000000005,
          2.95,
          3.0500000000000003,
          3.1500000000000004,
          3.2500000000000004,
          3.3500000000000005,
          3.4500000000000006,
          3.5500000000000007,
          3.6500000000000004,
          3.7500000000000004,
          3.8500000000000005,
          3.9500000000000006,
          4.050000000000001,
          4.15,
          4.250000000000001,
          4.3500000000000005,
          4.450000000000001,
          4.550000000000001,
          4.65,
          4.750000000000001,
          4.8500000000000005,
          4.950000000000001,
          5.050000000000001,
          5.150000000000001,
          5.250000000000001,
          5.3500000000000005,
          5.450000000000001,
          5.550000000000001,
          5.650000000000001,
          5.750000000000001,
          5.8500000000000005,
          5.950000000000001,
          6.050000000000001,
          6.150000000000001,
          6.250000000000001
         ],
         "xaxis": "x",
         "y": [
          0.3568934608114374,
          0.5036415715065067,
          0.6478800475140787,
          0.7830037672181779,
          0.9021409249808323,
          0.9985262663562846,
          1.065906388025041,
          1.098951585492286,
          1.093645969624052,
          1.047626885524349,
          0.9604462530480097,
          0.8337303140722413,
          0.6712202237263197,
          0.47868357741853906,
          0.26369577733816635,
          0.03529944724983834,
          -0.19644082545447794,
          -0.420963038572464,
          -0.6277797717054937,
          -0.8070615267522976,
          -0.9501936409730142,
          -1.0502701176747153,
          -1.1024915857554745,
          -1.1044409540439653,
          -1.0562186971973744,
          -0.960429448906307,
          -0.822021914434542,
          -0.6479942203419992,
          -0.44698588372686193,
          -0.22878488702972402,
          -0.003783326978666561,
          0.21758258055317437,
          0.4253728178322975,
          0.6106319676622852,
          0.7657987938192165,
          0.8850170994927965,
          0.9643359558926351,
          1.0017956305233942,
          0.9974033177238053,
          0.9530094758082571,
          0.8721007569352599,
          0.7595289217807093,
          0.6211967071748081,
          0.46372149310944744,
          0.2940960771470844,
          0.11936328800795565,
          -0.05368202599291866,
          -0.21875351299992024,
          -0.3702895144142754,
          -0.503621056104878,
          -0.6150901934034503,
          -0.7021191956019635,
          -0.7632325196637868,
          -0.7980346357053745,
          -0.807147659089692,
          -0.7921135327017862,
          -0.7552662658549674,
          -0.6995804969544976,
          -0.6285033729179541,
          -0.5457773502238465,
          -0.45526191345536127,
          -0.36076226686735063,
          -0.2658726934448942
         ],
         "yaxis": "y"
        },
        {
         "mode": "lines",
         "name": "n=19",
         "type": "scatter",
         "x": [
          0.05,
          0.15000000000000002,
          0.25000000000000006,
          0.35000000000000003,
          0.45000000000000007,
          0.5500000000000002,
          0.6500000000000001,
          0.7500000000000002,
          0.8500000000000002,
          0.9500000000000002,
          1.0500000000000003,
          1.1500000000000004,
          1.2500000000000002,
          1.3500000000000003,
          1.4500000000000004,
          1.5500000000000003,
          1.6500000000000004,
          1.7500000000000004,
          1.8500000000000003,
          1.9500000000000004,
          2.0500000000000003,
          2.1500000000000004,
          2.2500000000000004,
          2.35,
          2.45,
          2.5500000000000003,
          2.6500000000000004,
          2.7500000000000004,
          2.8500000000000005,
          2.95,
          3.0500000000000003,
          3.1500000000000004,
          3.2500000000000004,
          3.3500000000000005,
          3.4500000000000006,
          3.5500000000000007,
          3.6500000000000004,
          3.7500000000000004,
          3.8500000000000005,
          3.9500000000000006,
          4.050000000000001,
          4.15,
          4.250000000000001,
          4.3500000000000005,
          4.450000000000001,
          4.550000000000001,
          4.65,
          4.750000000000001,
          4.8500000000000005,
          4.950000000000001,
          5.050000000000001,
          5.150000000000001,
          5.250000000000001,
          5.3500000000000005,
          5.450000000000001,
          5.550000000000001,
          5.650000000000001,
          5.750000000000001,
          5.8500000000000005,
          5.950000000000001,
          6.050000000000001,
          6.150000000000001,
          6.250000000000001
         ],
         "xaxis": "x",
         "y": [
          0.35816220429409384,
          0.49471979919051906,
          0.6291311450224087,
          0.755294953051122,
          0.8668287590795162,
          0.9574076321288498,
          1.0211354980074558,
          1.0529264298738301,
          1.0488704588196767,
          1.0065574581490193,
          0.9253336616630647,
          0.8064684321221645,
          0.6532138714425664,
          0.4707464618852925,
          0.265987702895371,
          0.047309102181996424,
          -0.17586473887161014,
          -0.3935334897639706,
          -0.5956510236689734,
          -0.7726754428969798,
          -0.916104374438685,
          -1.0189608609238368,
          -1.0761978697782997,
          -1.0849945391699019,
          -1.0449244212019315,
          -0.957984640073301,
          -0.8284843868806173,
          -0.6628007722523869,
          -0.4690189859191798,
          -0.256481256484562,
          -0.035274676086585494,
          0.18430885507082995,
          0.39230668849522404,
          0.5795815162547371,
          0.7382516609171086,
          0.8620336657072524,
          0.9464823876891978,
          0.9891214066476768,
          0.9894640151040506,
          0.9489317636035718,
          0.8706830450955702,
          0.7593682253123721,
          0.6208302540591393,
          0.4617705841214803,
          0.2893997746529935,
          0.11109064951901693,
          -0.0659503570593194,
          -0.2349806889571564,
          -0.3899778128337412,
          -0.5258465924152453,
          -0.6385730511652095,
          -0.7253220584833073,
          -0.7844786521340956,
          -0.8156347260057701,
          -0.819524705175698,
          -0.7979156144201953,
          -0.7534585995055121,
          -0.6895104201938367,
          -0.6099346044070519,
          -0.5188927225121208,
          -0.42063650265442787,
          -0.3193111839074525,
          -0.21877956244172492
         ],
         "yaxis": "y"
        },
        {
         "mode": "lines",
         "name": "n=22",
         "type": "scatter",
         "x": [
          0.05,
          0.15000000000000002,
          0.25000000000000006,
          0.35000000000000003,
          0.45000000000000007,
          0.5500000000000002,
          0.6500000000000001,
          0.7500000000000002,
          0.8500000000000002,
          0.9500000000000002,
          1.0500000000000003,
          1.1500000000000004,
          1.2500000000000002,
          1.3500000000000003,
          1.4500000000000004,
          1.5500000000000003,
          1.6500000000000004,
          1.7500000000000004,
          1.8500000000000003,
          1.9500000000000004,
          2.0500000000000003,
          2.1500000000000004,
          2.2500000000000004,
          2.35,
          2.45,
          2.5500000000000003,
          2.6500000000000004,
          2.7500000000000004,
          2.8500000000000005,
          2.95,
          3.0500000000000003,
          3.1500000000000004,
          3.2500000000000004,
          3.3500000000000005,
          3.4500000000000006,
          3.5500000000000007,
          3.6500000000000004,
          3.7500000000000004,
          3.8500000000000005,
          3.9500000000000006,
          4.050000000000001,
          4.15,
          4.250000000000001,
          4.3500000000000005,
          4.450000000000001,
          4.550000000000001,
          4.65,
          4.750000000000001,
          4.8500000000000005,
          4.950000000000001,
          5.050000000000001,
          5.150000000000001,
          5.250000000000001,
          5.3500000000000005,
          5.450000000000001,
          5.550000000000001,
          5.650000000000001,
          5.750000000000001,
          5.8500000000000005,
          5.950000000000001,
          6.050000000000001,
          6.150000000000001,
          6.250000000000001
         ],
         "xaxis": "x",
         "y": [
          0.3507257000841899,
          0.46504862336923913,
          0.579493349341366,
          0.6890844699975015,
          0.7884198396922472,
          0.8719289048891874,
          0.9341741909117249,
          0.9701799292281214,
          0.97576807082443,
          0.947879411132905,
          0.8848565597736073,
          0.7866662205840422,
          0.6550407639744896,
          0.49352328683419466,
          0.3074060318693485,
          0.10355881488251184,
          -0.10984848225163985,
          -0.32371778909184595,
          -0.5284704908036626,
          -0.7145462073632678,
          -0.8729235466357556,
          -0.9956310259557133,
          -1.0762158534088269,
          -1.110139998251236,
          -1.0950768942019526,
          -1.031087978234899,
          -0.9206656872913819,
          -0.7686380063344804,
          -0.5819385849669492,
          -0.3692551750974018,
          -0.14057705527669317,
          0.09333137628343158,
          0.32149900692983024,
          0.5333241183396202,
          0.7191237858300408,
          0.8706243528729585,
          0.9813650761995245,
          1.0469931027911208,
          1.0654352823125361,
          1.0369403805170805,
          0.9639934543377382,
          0.8511119091916097,
          0.7045395759450341,
          0.5318606073980223,
          0.3415588104694769,
          0.14255004133498073,
          -0.05628452925302008,
          -0.24653802604213748,
          -0.42066718063354,
          -0.5723124881434687,
          -0.6965355609206028,
          -0.7899657479765112,
          -0.8508539281513664,
          -0.8790369773900238,
          -0.8758214243773144,
          -0.8437989680074397,
          -0.786609627348735,
          -0.7086702006103878,
          -0.6148863777041127,
          -0.510366317723495,
          -0.4001518821138057,
          -0.2889811880203734,
          -0.18109294841554802
         ],
         "yaxis": "y"
        },
        {
         "mode": "lines",
         "name": "n=25",
         "type": "scatter",
         "x": [
          0.05,
          0.15000000000000002,
          0.25000000000000006,
          0.35000000000000003,
          0.45000000000000007,
          0.5500000000000002,
          0.6500000000000001,
          0.7500000000000002,
          0.8500000000000002,
          0.9500000000000002,
          1.0500000000000003,
          1.1500000000000004,
          1.2500000000000002,
          1.3500000000000003,
          1.4500000000000004,
          1.5500000000000003,
          1.6500000000000004,
          1.7500000000000004,
          1.8500000000000003,
          1.9500000000000004,
          2.0500000000000003,
          2.1500000000000004,
          2.2500000000000004,
          2.35,
          2.45,
          2.5500000000000003,
          2.6500000000000004,
          2.7500000000000004,
          2.8500000000000005,
          2.95,
          3.0500000000000003,
          3.1500000000000004,
          3.2500000000000004,
          3.3500000000000005,
          3.4500000000000006,
          3.5500000000000007,
          3.6500000000000004,
          3.7500000000000004,
          3.8500000000000005,
          3.9500000000000006,
          4.050000000000001,
          4.15,
          4.250000000000001,
          4.3500000000000005,
          4.450000000000001,
          4.550000000000001,
          4.65,
          4.750000000000001,
          4.8500000000000005,
          4.950000000000001,
          5.050000000000001,
          5.150000000000001,
          5.250000000000001,
          5.3500000000000005,
          5.450000000000001,
          5.550000000000001,
          5.650000000000001,
          5.750000000000001,
          5.8500000000000005,
          5.950000000000001,
          6.050000000000001,
          6.150000000000001,
          6.250000000000001
         ],
         "xaxis": "x",
         "y": [
          0.4365373712305666,
          0.5465914903243636,
          0.652632458433323,
          0.7499047959708012,
          0.8335290439016576,
          0.8987480331148169,
          0.9411895107568748,
          0.9571300263898685,
          0.943743936749077,
          0.8993214334633051,
          0.823440646505154,
          0.7170810529564767,
          0.5826684752488039,
          0.42404567638702584,
          0.24636670606794075,
          0.05591746071656818,
          -0.1401308628500011,
          -0.3340248504864992,
          -0.5177745607803743,
          -0.6835252285686223,
          -0.8239365490396914,
          -0.9325501853739656,
          -1.0041261881772714,
          -1.0349300479576475,
          -1.0229541032717826,
          -0.9680599370640034,
          -0.8720321080570891,
          -0.7385379317069876,
          -0.5729928478426258,
          -0.38233594812251814,
          -0.17472521043046707,
          0.040833395169054626,
          0.25490479728904414,
          0.4580705337572316,
          0.6413782055802073,
          0.7967710031433943,
          0.9174744171570499,
          0.9983193909749026,
          1.0359845633038816,
          1.029144692053231,
          0.9785175700491718,
          0.8868074187934043,
          0.7585485269198567,
          0.5998584324324805,
          0.41811490027011877,
          0.2215750291300357,
          0.01895780181375417,
          -0.18098689067806215,
          -0.36989935533280527,
          -0.5401989289341341,
          -0.6854204080918029,
          -0.8004813685556011,
          -0.8818680133355856,
          -0.927732200153604,
          -0.9378976619810184,
          -0.9137788134522488,
          -0.8582205882333125,
          -0.775272151831572,
          -0.6699107949039481,
          -0.547734611122712,
          -0.41464356145178227,
          -0.2765281808937194,
          -0.13898355548298635
         ],
         "yaxis": "y"
        },
        {
         "mode": "lines",
         "name": "n=28",
         "type": "scatter",
         "x": [
          0.05,
          0.15000000000000002,
          0.25000000000000006,
          0.35000000000000003,
          0.45000000000000007,
          0.5500000000000002,
          0.6500000000000001,
          0.7500000000000002,
          0.8500000000000002,
          0.9500000000000002,
          1.0500000000000003,
          1.1500000000000004,
          1.2500000000000002,
          1.3500000000000003,
          1.4500000000000004,
          1.5500000000000003,
          1.6500000000000004,
          1.7500000000000004,
          1.8500000000000003,
          1.9500000000000004,
          2.0500000000000003,
          2.1500000000000004,
          2.2500000000000004,
          2.35,
          2.45,
          2.5500000000000003,
          2.6500000000000004,
          2.7500000000000004,
          2.8500000000000005,
          2.95,
          3.0500000000000003,
          3.1500000000000004,
          3.2500000000000004,
          3.3500000000000005,
          3.4500000000000006,
          3.5500000000000007,
          3.6500000000000004,
          3.7500000000000004,
          3.8500000000000005,
          3.9500000000000006,
          4.050000000000001,
          4.15,
          4.250000000000001,
          4.3500000000000005,
          4.450000000000001,
          4.550000000000001,
          4.65,
          4.750000000000001,
          4.8500000000000005,
          4.950000000000001,
          5.050000000000001,
          5.150000000000001,
          5.250000000000001,
          5.3500000000000005,
          5.450000000000001,
          5.550000000000001,
          5.650000000000001,
          5.750000000000001,
          5.8500000000000005,
          5.950000000000001,
          6.050000000000001,
          6.150000000000001,
          6.250000000000001
         ],
         "xaxis": "x",
         "y": [
          0.04006151189093725,
          0.20877513874856699,
          0.3807874170711949,
          0.5488190451407351,
          0.7050792085167478,
          0.841669416370611,
          0.9510317692936346,
          1.0264139296843757,
          1.0623197461313376,
          1.0549134872286896,
          1.002347163803506,
          0.9049844293998717,
          0.7655007869814799,
          0.5888478316187127,
          0.38207840267791704,
          0.15403908517305265,
          -0.08505426087147472,
          -0.32413406323466315,
          -0.5518612626218983,
          -0.7572333376497494,
          -0.930183241596096,
          -1.0621328432346164,
          -1.1464673631081954,
          -1.1789023584489344,
          -1.157721639676058,
          -1.0838726012546973,
          -0.9609142589401558,
          -0.7948222204368067,
          -0.5936633087326504,
          -0.3671600874940879,
          -0.12617166483567677,
          0.11787846415115255,
          0.3535943561072654,
          0.5701857980483727,
          0.7580008455788443,
          0.9089843628868022,
          1.0170393186782078,
          1.0782739294443837,
          1.0911248736520867,
          1.0563542607201395,
          0.9769253552813306,
          0.8577687850076239,
          0.7054567091104942,
          0.5278068833166372,
          0.3334415105983135,
          0.13132710598270436,
          -0.06967867318165433,
          -0.2612490726315646,
          -0.43595812130212797,
          -0.5875814860039943,
          -0.7113163704850052,
          -0.8039138655497788,
          -0.8637225530354726,
          -0.8906472907326866,
          -0.8860316627020297,
          -0.852476326961712,
          -0.7936082516719747,
          -0.7138174952925969,
          -0.6179787244954478,
          -0.5111741181683487,
          -0.39843278630262013,
          -0.2844995056115957,
          -0.1736426493133993
         ],
         "yaxis": "y"
        }
       ],
       "layout": {
        "annotations": [
         {
          "font": {
           "size": 16
          },
          "showarrow": false,
          "text": "Validation",
          "x": 0.225,
          "xanchor": "center",
          "xref": "paper",
          "y": 1,
          "yanchor": "bottom",
          "yref": "paper"
         },
         {
          "font": {
           "size": 16
          },
          "showarrow": false,
          "text": "Residual error",
          "x": 0.775,
          "xanchor": "center",
          "xref": "paper",
          "y": 1,
          "yanchor": "bottom",
          "yref": "paper"
         }
        ],
        "template": {
         "data": {
          "bar": [
           {
            "error_x": {
             "color": "#2a3f5f"
            },
            "error_y": {
             "color": "#2a3f5f"
            },
            "marker": {
             "line": {
              "color": "#E5ECF6",
              "width": 0.5
             }
            },
            "type": "bar"
           }
          ],
          "barpolar": [
           {
            "marker": {
             "line": {
              "color": "#E5ECF6",
              "width": 0.5
             }
            },
            "type": "barpolar"
           }
          ],
          "carpet": [
           {
            "aaxis": {
             "endlinecolor": "#2a3f5f",
             "gridcolor": "white",
             "linecolor": "white",
             "minorgridcolor": "white",
             "startlinecolor": "#2a3f5f"
            },
            "baxis": {
             "endlinecolor": "#2a3f5f",
             "gridcolor": "white",
             "linecolor": "white",
             "minorgridcolor": "white",
             "startlinecolor": "#2a3f5f"
            },
            "type": "carpet"
           }
          ],
          "choropleth": [
           {
            "colorbar": {
             "outlinewidth": 0,
             "ticks": ""
            },
            "type": "choropleth"
           }
          ],
          "contour": [
           {
            "colorbar": {
             "outlinewidth": 0,
             "ticks": ""
            },
            "colorscale": [
             [
              0,
              "#0d0887"
             ],
             [
              0.1111111111111111,
              "#46039f"
             ],
             [
              0.2222222222222222,
              "#7201a8"
             ],
             [
              0.3333333333333333,
              "#9c179e"
             ],
             [
              0.4444444444444444,
              "#bd3786"
             ],
             [
              0.5555555555555556,
              "#d8576b"
             ],
             [
              0.6666666666666666,
              "#ed7953"
             ],
             [
              0.7777777777777778,
              "#fb9f3a"
             ],
             [
              0.8888888888888888,
              "#fdca26"
             ],
             [
              1,
              "#f0f921"
             ]
            ],
            "type": "contour"
           }
          ],
          "contourcarpet": [
           {
            "colorbar": {
             "outlinewidth": 0,
             "ticks": ""
            },
            "type": "contourcarpet"
           }
          ],
          "heatmap": [
           {
            "colorbar": {
             "outlinewidth": 0,
             "ticks": ""
            },
            "colorscale": [
             [
              0,
              "#0d0887"
             ],
             [
              0.1111111111111111,
              "#46039f"
             ],
             [
              0.2222222222222222,
              "#7201a8"
             ],
             [
              0.3333333333333333,
              "#9c179e"
             ],
             [
              0.4444444444444444,
              "#bd3786"
             ],
             [
              0.5555555555555556,
              "#d8576b"
             ],
             [
              0.6666666666666666,
              "#ed7953"
             ],
             [
              0.7777777777777778,
              "#fb9f3a"
             ],
             [
              0.8888888888888888,
              "#fdca26"
             ],
             [
              1,
              "#f0f921"
             ]
            ],
            "type": "heatmap"
           }
          ],
          "heatmapgl": [
           {
            "colorbar": {
             "outlinewidth": 0,
             "ticks": ""
            },
            "colorscale": [
             [
              0,
              "#0d0887"
             ],
             [
              0.1111111111111111,
              "#46039f"
             ],
             [
              0.2222222222222222,
              "#7201a8"
             ],
             [
              0.3333333333333333,
              "#9c179e"
             ],
             [
              0.4444444444444444,
              "#bd3786"
             ],
             [
              0.5555555555555556,
              "#d8576b"
             ],
             [
              0.6666666666666666,
              "#ed7953"
             ],
             [
              0.7777777777777778,
              "#fb9f3a"
             ],
             [
              0.8888888888888888,
              "#fdca26"
             ],
             [
              1,
              "#f0f921"
             ]
            ],
            "type": "heatmapgl"
           }
          ],
          "histogram": [
           {
            "marker": {
             "colorbar": {
              "outlinewidth": 0,
              "ticks": ""
             }
            },
            "type": "histogram"
           }
          ],
          "histogram2d": [
           {
            "colorbar": {
             "outlinewidth": 0,
             "ticks": ""
            },
            "colorscale": [
             [
              0,
              "#0d0887"
             ],
             [
              0.1111111111111111,
              "#46039f"
             ],
             [
              0.2222222222222222,
              "#7201a8"
             ],
             [
              0.3333333333333333,
              "#9c179e"
             ],
             [
              0.4444444444444444,
              "#bd3786"
             ],
             [
              0.5555555555555556,
              "#d8576b"
             ],
             [
              0.6666666666666666,
              "#ed7953"
             ],
             [
              0.7777777777777778,
              "#fb9f3a"
             ],
             [
              0.8888888888888888,
              "#fdca26"
             ],
             [
              1,
              "#f0f921"
             ]
            ],
            "type": "histogram2d"
           }
          ],
          "histogram2dcontour": [
           {
            "colorbar": {
             "outlinewidth": 0,
             "ticks": ""
            },
            "colorscale": [
             [
              0,
              "#0d0887"
             ],
             [
              0.1111111111111111,
              "#46039f"
             ],
             [
              0.2222222222222222,
              "#7201a8"
             ],
             [
              0.3333333333333333,
              "#9c179e"
             ],
             [
              0.4444444444444444,
              "#bd3786"
             ],
             [
              0.5555555555555556,
              "#d8576b"
             ],
             [
              0.6666666666666666,
              "#ed7953"
             ],
             [
              0.7777777777777778,
              "#fb9f3a"
             ],
             [
              0.8888888888888888,
              "#fdca26"
             ],
             [
              1,
              "#f0f921"
             ]
            ],
            "type": "histogram2dcontour"
           }
          ],
          "mesh3d": [
           {
            "colorbar": {
             "outlinewidth": 0,
             "ticks": ""
            },
            "type": "mesh3d"
           }
          ],
          "parcoords": [
           {
            "line": {
             "colorbar": {
              "outlinewidth": 0,
              "ticks": ""
             }
            },
            "type": "parcoords"
           }
          ],
          "pie": [
           {
            "automargin": true,
            "type": "pie"
           }
          ],
          "scatter": [
           {
            "marker": {
             "colorbar": {
              "outlinewidth": 0,
              "ticks": ""
             }
            },
            "type": "scatter"
           }
          ],
          "scatter3d": [
           {
            "line": {
             "colorbar": {
              "outlinewidth": 0,
              "ticks": ""
             }
            },
            "marker": {
             "colorbar": {
              "outlinewidth": 0,
              "ticks": ""
             }
            },
            "type": "scatter3d"
           }
          ],
          "scattercarpet": [
           {
            "marker": {
             "colorbar": {
              "outlinewidth": 0,
              "ticks": ""
             }
            },
            "type": "scattercarpet"
           }
          ],
          "scattergeo": [
           {
            "marker": {
             "colorbar": {
              "outlinewidth": 0,
              "ticks": ""
             }
            },
            "type": "scattergeo"
           }
          ],
          "scattergl": [
           {
            "marker": {
             "colorbar": {
              "outlinewidth": 0,
              "ticks": ""
             }
            },
            "type": "scattergl"
           }
          ],
          "scattermapbox": [
           {
            "marker": {
             "colorbar": {
              "outlinewidth": 0,
              "ticks": ""
             }
            },
            "type": "scattermapbox"
           }
          ],
          "scatterpolar": [
           {
            "marker": {
             "colorbar": {
              "outlinewidth": 0,
              "ticks": ""
             }
            },
            "type": "scatterpolar"
           }
          ],
          "scatterpolargl": [
           {
            "marker": {
             "colorbar": {
              "outlinewidth": 0,
              "ticks": ""
             }
            },
            "type": "scatterpolargl"
           }
          ],
          "scatterternary": [
           {
            "marker": {
             "colorbar": {
              "outlinewidth": 0,
              "ticks": ""
             }
            },
            "type": "scatterternary"
           }
          ],
          "surface": [
           {
            "colorbar": {
             "outlinewidth": 0,
             "ticks": ""
            },
            "colorscale": [
             [
              0,
              "#0d0887"
             ],
             [
              0.1111111111111111,
              "#46039f"
             ],
             [
              0.2222222222222222,
              "#7201a8"
             ],
             [
              0.3333333333333333,
              "#9c179e"
             ],
             [
              0.4444444444444444,
              "#bd3786"
             ],
             [
              0.5555555555555556,
              "#d8576b"
             ],
             [
              0.6666666666666666,
              "#ed7953"
             ],
             [
              0.7777777777777778,
              "#fb9f3a"
             ],
             [
              0.8888888888888888,
              "#fdca26"
             ],
             [
              1,
              "#f0f921"
             ]
            ],
            "type": "surface"
           }
          ],
          "table": [
           {
            "cells": {
             "fill": {
              "color": "#EBF0F8"
             },
             "line": {
              "color": "white"
             }
            },
            "header": {
             "fill": {
              "color": "#C8D4E3"
             },
             "line": {
              "color": "white"
             }
            },
            "type": "table"
           }
          ]
         },
         "layout": {
          "annotationdefaults": {
           "arrowcolor": "#2a3f5f",
           "arrowhead": 0,
           "arrowwidth": 1
          },
          "coloraxis": {
           "colorbar": {
            "outlinewidth": 0,
            "ticks": ""
           }
          },
          "colorscale": {
           "diverging": [
            [
             0,
             "#8e0152"
            ],
            [
             0.1,
             "#c51b7d"
            ],
            [
             0.2,
             "#de77ae"
            ],
            [
             0.3,
             "#f1b6da"
            ],
            [
             0.4,
             "#fde0ef"
            ],
            [
             0.5,
             "#f7f7f7"
            ],
            [
             0.6,
             "#e6f5d0"
            ],
            [
             0.7,
             "#b8e186"
            ],
            [
             0.8,
             "#7fbc41"
            ],
            [
             0.9,
             "#4d9221"
            ],
            [
             1,
             "#276419"
            ]
           ],
           "sequential": [
            [
             0,
             "#0d0887"
            ],
            [
             0.1111111111111111,
             "#46039f"
            ],
            [
             0.2222222222222222,
             "#7201a8"
            ],
            [
             0.3333333333333333,
             "#9c179e"
            ],
            [
             0.4444444444444444,
             "#bd3786"
            ],
            [
             0.5555555555555556,
             "#d8576b"
            ],
            [
             0.6666666666666666,
             "#ed7953"
            ],
            [
             0.7777777777777778,
             "#fb9f3a"
            ],
            [
             0.8888888888888888,
             "#fdca26"
            ],
            [
             1,
             "#f0f921"
            ]
           ],
           "sequentialminus": [
            [
             0,
             "#0d0887"
            ],
            [
             0.1111111111111111,
             "#46039f"
            ],
            [
             0.2222222222222222,
             "#7201a8"
            ],
            [
             0.3333333333333333,
             "#9c179e"
            ],
            [
             0.4444444444444444,
             "#bd3786"
            ],
            [
             0.5555555555555556,
             "#d8576b"
            ],
            [
             0.6666666666666666,
             "#ed7953"
            ],
            [
             0.7777777777777778,
             "#fb9f3a"
            ],
            [
             0.8888888888888888,
             "#fdca26"
            ],
            [
             1,
             "#f0f921"
            ]
           ]
          },
          "colorway": [
           "#636efa",
           "#EF553B",
           "#00cc96",
           "#ab63fa",
           "#FFA15A",
           "#19d3f3",
           "#FF6692",
           "#B6E880",
           "#FF97FF",
           "#FECB52"
          ],
          "font": {
           "color": "#2a3f5f"
          },
          "geo": {
           "bgcolor": "white",
           "lakecolor": "white",
           "landcolor": "#E5ECF6",
           "showlakes": true,
           "showland": true,
           "subunitcolor": "white"
          },
          "hoverlabel": {
           "align": "left"
          },
          "hovermode": "closest",
          "mapbox": {
           "style": "light"
          },
          "paper_bgcolor": "white",
          "plot_bgcolor": "#E5ECF6",
          "polar": {
           "angularaxis": {
            "gridcolor": "white",
            "linecolor": "white",
            "ticks": ""
           },
           "bgcolor": "#E5ECF6",
           "radialaxis": {
            "gridcolor": "white",
            "linecolor": "white",
            "ticks": ""
           }
          },
          "scene": {
           "xaxis": {
            "backgroundcolor": "#E5ECF6",
            "gridcolor": "white",
            "gridwidth": 2,
            "linecolor": "white",
            "showbackground": true,
            "ticks": "",
            "zerolinecolor": "white"
           },
           "yaxis": {
            "backgroundcolor": "#E5ECF6",
            "gridcolor": "white",
            "gridwidth": 2,
            "linecolor": "white",
            "showbackground": true,
            "ticks": "",
            "zerolinecolor": "white"
           },
           "zaxis": {
            "backgroundcolor": "#E5ECF6",
            "gridcolor": "white",
            "gridwidth": 2,
            "linecolor": "white",
            "showbackground": true,
            "ticks": "",
            "zerolinecolor": "white"
           }
          },
          "shapedefaults": {
           "line": {
            "color": "#2a3f5f"
           }
          },
          "ternary": {
           "aaxis": {
            "gridcolor": "white",
            "linecolor": "white",
            "ticks": ""
           },
           "baxis": {
            "gridcolor": "white",
            "linecolor": "white",
            "ticks": ""
           },
           "bgcolor": "#E5ECF6",
           "caxis": {
            "gridcolor": "white",
            "linecolor": "white",
            "ticks": ""
           }
          },
          "title": {
           "x": 0.05
          },
          "xaxis": {
           "automargin": true,
           "gridcolor": "white",
           "linecolor": "white",
           "ticks": "",
           "title": {
            "standoff": 15
           },
           "zerolinecolor": "white",
           "zerolinewidth": 2
          },
          "yaxis": {
           "automargin": true,
           "gridcolor": "white",
           "linecolor": "white",
           "ticks": "",
           "title": {
            "standoff": 15
           },
           "zerolinecolor": "white",
           "zerolinewidth": 2
          }
         }
        },
        "xaxis": {
         "anchor": "y",
         "domain": [
          0,
          0.45
         ]
        },
        "xaxis2": {
         "anchor": "y2",
         "domain": [
          0.55,
          1
         ]
        },
        "yaxis": {
         "anchor": "x",
         "domain": [
          0,
          1
         ]
        },
        "yaxis2": {
         "anchor": "x2",
         "domain": [
          0,
          1
         ]
        }
       }
      }
     },
     "metadata": {}
    }
   ],
   "source": [
    "x, sin_data, sqr_data = data_gen(0, 2*np.pi)\n",
    "t_x, t_sin_data, t_sqr_data = data_gen(0.05, 2*np.pi)\n",
    "\n",
    "n_nodes = np.arange(1,30)\n",
    "res_errors = []\n",
    "outputs = []\n",
    "\n",
    "epochs=100\n",
    "\n",
    "for n in n_nodes:\n",
    "    RBFNet = RBF_Network(n, x, useDelta=True, add_noise=False)\n",
    "    RBFNet.train_network(epochs, x, sin_data)\n",
    "    res_errors.append(RBFNet.validate(t_x, t_sin_data))\n",
    "    outputs.append(RBFNet.f_of_x)\n",
    "\n",
    "titles = [\"Validation\", \"Residual error\"]\n",
    "fig = make_subplots(rows=1, cols=2, subplot_titles=(titles[0], titles[1]))\n",
    "\n",
    "fig.add_trace(go.Scatter(x=np.arange(len(res_errors)), y=res_errors, mode=\"lines\", name=\"error\"), row=1, col=2)\n",
    "\n",
    "fig.add_trace(go.Scatter(x=t_x.ravel(), y=sin_data.ravel(), mode=\"lines\", name=\"Original\"), row=1, col=1)\n",
    "\n",
    "for i in range(1, len(outputs), 3):\n",
    "    fig.add_trace(go.Scatter(x=t_x.ravel(), y=outputs[i].ravel(), mode=\"lines\", name=\"n={}\".format(i)), row=1, col=1)\n",
    "\n",
    "fig.show()\n"
   ]
  },
  {
   "source": [
    "## 3.3.1 - Compare CL-based approach with earlier RBF network"
   ],
   "cell_type": "markdown",
   "metadata": {}
  },
  {
   "source": [
    "N=10, Without noise"
   ],
   "cell_type": "markdown",
   "metadata": {}
  },
  {
   "cell_type": "code",
   "execution_count": 248,
   "metadata": {
    "tags": []
   },
   "outputs": [
    {
     "output_type": "display_data",
     "data": {
      "application/vnd.plotly.v1+json": {
       "config": {
        "plotlyServerURL": "https://plot.ly"
       },
       "data": [
        {
         "mode": "lines",
         "name": "Original",
         "type": "scatter",
         "x": [
          0.05,
          0.15000000000000002,
          0.25000000000000006,
          0.35000000000000003,
          0.45000000000000007,
          0.5500000000000002,
          0.6500000000000001,
          0.7500000000000002,
          0.8500000000000002,
          0.9500000000000002,
          1.0500000000000003,
          1.1500000000000004,
          1.2500000000000002,
          1.3500000000000003,
          1.4500000000000004,
          1.5500000000000003,
          1.6500000000000004,
          1.7500000000000004,
          1.8500000000000003,
          1.9500000000000004,
          2.0500000000000003,
          2.1500000000000004,
          2.2500000000000004,
          2.35,
          2.45,
          2.5500000000000003,
          2.6500000000000004,
          2.7500000000000004,
          2.8500000000000005,
          2.95,
          3.0500000000000003,
          3.1500000000000004,
          3.2500000000000004,
          3.3500000000000005,
          3.4500000000000006,
          3.5500000000000007,
          3.6500000000000004,
          3.7500000000000004,
          3.8500000000000005,
          3.9500000000000006,
          4.050000000000001,
          4.15,
          4.250000000000001,
          4.3500000000000005,
          4.450000000000001,
          4.550000000000001,
          4.65,
          4.750000000000001,
          4.8500000000000005,
          4.950000000000001,
          5.050000000000001,
          5.150000000000001,
          5.250000000000001,
          5.3500000000000005,
          5.450000000000001,
          5.550000000000001,
          5.650000000000001,
          5.750000000000001,
          5.8500000000000005,
          5.950000000000001,
          6.050000000000001,
          6.150000000000001,
          6.250000000000001
         ],
         "xaxis": "x",
         "y": [
          0,
          0.19866933079506122,
          0.3894183423086505,
          0.5646424733950355,
          0.7173560908995228,
          0.8414709848078965,
          0.9320390859672264,
          0.9854497299884603,
          0.9995736030415051,
          0.9738476308781951,
          0.9092974268256817,
          0.8084964038195901,
          0.6754631805511506,
          0.5155013718214642,
          0.33498815015590466,
          0.1411200080598672,
          -0.058374143427580086,
          -0.25554110202683167,
          -0.44252044329485246,
          -0.6118578909427193,
          -0.7568024953079282,
          -0.8715757724135882,
          -0.951602073889516,
          -0.9936910036334645,
          -0.9961646088358406,
          -0.9589242746631385,
          -0.8834546557201531,
          -0.7727644875559871,
          -0.6312666378723208,
          -0.4646021794137566,
          -0.27941549819892586,
          -0.0830894028174964,
          0.11654920485049364,
          0.3115413635133787,
          0.49411335113860894,
          0.6569865987187891,
          0.7936678638491531,
          0.8987080958116269,
          0.9679196720314865,
          0.998543345374605,
          0.9893582466233818,
          0.9407305566797726,
          0.8545989080882804,
          0.7343970978741133,
          0.5849171928917617,
          0.4121184852417566,
          0.22288991410024592,
          0.024775425453357765,
          -0.1743267812229814,
          -0.3664791292519284,
          -0.5440211108893698,
          -0.6998746875935437,
          -0.8278264690856537,
          -0.9227754216128073,
          -0.9809362300664916,
          -0.9999902065507035,
          -0.979177729151317,
          -0.9193285256646757,
          -0.8228285949687079,
          -0.6935250847771224,
          -0.5365729180004349,
          -0.35822928223682704,
          -0.1656041754483094
         ],
         "yaxis": "y"
        },
        {
         "mode": "lines",
         "name": "Error Without CL",
         "type": "scatter",
         "x": [
          0,
          1,
          2,
          3,
          4,
          5,
          6,
          7,
          8,
          9,
          10,
          11,
          12,
          13,
          14,
          15,
          16,
          17,
          18,
          19,
          20,
          21,
          22,
          23,
          24,
          25,
          26,
          27,
          28,
          29,
          30,
          31,
          32,
          33,
          34,
          35,
          36,
          37,
          38,
          39,
          40,
          41,
          42,
          43,
          44,
          45,
          46,
          47,
          48,
          49,
          50,
          51,
          52,
          53,
          54,
          55,
          56,
          57,
          58,
          59,
          60,
          61,
          62,
          63,
          64,
          65,
          66,
          67,
          68,
          69,
          70,
          71,
          72,
          73,
          74,
          75,
          76,
          77,
          78,
          79,
          80,
          81,
          82,
          83,
          84,
          85,
          86,
          87,
          88,
          89,
          90,
          91,
          92,
          93,
          94,
          95,
          96,
          97,
          98,
          99
         ],
         "xaxis": "x2",
         "y": [
          0.3643206549952223,
          0.3972117875580928,
          0.37988486510603015,
          0.3635487480597179,
          0.3491776420266379,
          0.33642662074962415,
          0.32606452799856855,
          0.3179469195368409,
          0.3107754621838469,
          0.30421814332191094,
          0.29807023412104783,
          0.29267633881373745,
          0.28765868291658114,
          0.2828712833619287,
          0.2782938782320546,
          0.2739082474352056,
          0.2696980031653928,
          0.2658734575382439,
          0.262232242372018,
          0.2586957083703979,
          0.2552563266073286,
          0.2519073015372822,
          0.24873850764986702,
          0.24567269255609567,
          0.24266476966136816,
          0.23971187350905396,
          0.23681139400729562,
          0.23400207731809222,
          0.2312638484769121,
          0.22856741551398388,
          0.22591135387030953,
          0.22334158195702775,
          0.22082639186641212,
          0.2183408743929591,
          0.21588472194833971,
          0.21345762362264772,
          0.21105926606184128,
          0.20868933424295252,
          0.20634751215798572,
          0.2040334834162753,
          0.20174693177406383,
          0.19948754159913498,
          0.19725499827752105,
          0.1950489885685677,
          0.19286920091397627,
          0.1907153257058592,
          0.18858705551830446,
          0.18648408530648405,
          0.18440611257690004,
          0.1823528375319963,
          0.18032396319201238,
          0.17831919549665115,
          0.1763382433888658,
          0.17438081888281567,
          0.17244663711782846,
          0.170535416400005,
          0.16864687823293212,
          0.16678074733880327,
          0.16493675167111344,
          0.163114622419966,
          0.16131409401090985,
          0.1595349040981373,
          0.1577767935527682,
          0.15603950644687672,
          0.15432279003383473,
          0.1526626749116304,
          0.1510227194406126,
          0.149402116246208,
          0.14780063683915814,
          0.14621805495721332,
          0.14465414661376663,
          0.14310869013695665,
          0.14158146620032377,
          0.1400722578459984,
          0.13858085050129484,
          0.13710703198948182,
          0.13565059253543457,
          0.13421132476677794,
          0.13278902371108056,
          0.1313834867895908,
          0.1299945138079512,
          0.12863775222028068,
          0.12731337245690827,
          0.12600461421441275,
          0.12471128928277438,
          0.12343321186051869,
          0.12217019852049307,
          0.12093740383533222,
          0.11971992058405768,
          0.1185167832293491,
          0.11732781870990898,
          0.11615285627525948,
          0.11499172743993441,
          0.11386710845048427,
          0.1127692781580344,
          0.11168436405815695,
          0.11061221147930883,
          0.10955266772174761,
          0.1085055820263869,
          0.10747080554446545
         ],
         "yaxis": "y2"
        },
        {
         "mode": "lines",
         "name": "Prediction Without CL",
         "type": "scatter",
         "x": [
          0.05,
          0.15000000000000002,
          0.25000000000000006,
          0.35000000000000003,
          0.45000000000000007,
          0.5500000000000002,
          0.6500000000000001,
          0.7500000000000002,
          0.8500000000000002,
          0.9500000000000002,
          1.0500000000000003,
          1.1500000000000004,
          1.2500000000000002,
          1.3500000000000003,
          1.4500000000000004,
          1.5500000000000003,
          1.6500000000000004,
          1.7500000000000004,
          1.8500000000000003,
          1.9500000000000004,
          2.0500000000000003,
          2.1500000000000004,
          2.2500000000000004,
          2.35,
          2.45,
          2.5500000000000003,
          2.6500000000000004,
          2.7500000000000004,
          2.8500000000000005,
          2.95,
          3.0500000000000003,
          3.1500000000000004,
          3.2500000000000004,
          3.3500000000000005,
          3.4500000000000006,
          3.5500000000000007,
          3.6500000000000004,
          3.7500000000000004,
          3.8500000000000005,
          3.9500000000000006,
          4.050000000000001,
          4.15,
          4.250000000000001,
          4.3500000000000005,
          4.450000000000001,
          4.550000000000001,
          4.65,
          4.750000000000001,
          4.8500000000000005,
          4.950000000000001,
          5.050000000000001,
          5.150000000000001,
          5.250000000000001,
          5.3500000000000005,
          5.450000000000001,
          5.550000000000001,
          5.650000000000001,
          5.750000000000001,
          5.8500000000000005,
          5.950000000000001,
          6.050000000000001,
          6.150000000000001,
          6.250000000000001
         ],
         "xaxis": "x",
         "y": [
          0.9744626856373347,
          1.0463514775814278,
          1.1060356904740545,
          1.1500396746828836,
          1.1750721126269599,
          1.1782091947033244,
          1.1570807343643956,
          1.1100486219779704,
          1.0363663593540613,
          0.9363084114681262,
          0.811258812544491,
          0.6637498875326017,
          0.49744407576464333,
          0.31705460918359346,
          0.12820409810986524,
          -0.0627762362997805,
          -0.2491000659192834,
          -0.4238217447898898,
          -0.5801604107983895,
          -0.7118355052187023,
          -0.8133947777356202,
          -0.8805149453939296,
          -0.9102556062787784,
          -0.9012488736325946,
          -0.853810476871382,
          -0.7699626226199038,
          -0.6533644368972508,
          -0.5091519153711934,
          -0.34369550210330196,
          -0.16428916886499031,
          0.021210335964185187,
          0.2047719956808606,
          0.3785830168821444,
          0.535421679003337,
          0.6689888749928172,
          0.7741802264855149,
          0.8472854267440498,
          0.8861069756943616,
          0.8899961966550672,
          0.859809851274898,
          0.7977953574045343,
          0.7074162411165894,
          0.5931318397618857,
          0.46014638812088093,
          0.3141425691328314,
          0.16101360203619994,
          0.006606242663417676,
          -0.14351503236696503,
          -0.2842746342264286,
          -0.41125743009352206,
          -0.5208414391998911,
          -0.6102895816323743,
          -0.677799924936477,
          -0.7225152075123009,
          -0.7444936325712829,
          -0.7446440802458214,
          -0.7246300077558836,
          -0.6867473877732545,
          -0.6337830217395948,
          -0.5688603741521444,
          -0.4952806061044908,
          -0.41636664646817717,
          -0.3353178565983338
         ],
         "yaxis": "y"
        },
        {
         "mode": "lines",
         "name": "Error With CL",
         "type": "scatter",
         "x": [
          0,
          1,
          2,
          3,
          4,
          5,
          6,
          7,
          8,
          9,
          10,
          11,
          12,
          13,
          14,
          15,
          16,
          17,
          18,
          19,
          20,
          21,
          22,
          23,
          24,
          25,
          26,
          27,
          28,
          29,
          30,
          31,
          32,
          33,
          34,
          35,
          36,
          37,
          38,
          39,
          40,
          41,
          42,
          43,
          44,
          45,
          46,
          47,
          48,
          49,
          50,
          51,
          52,
          53,
          54,
          55,
          56,
          57,
          58,
          59,
          60,
          61,
          62,
          63,
          64,
          65,
          66,
          67,
          68,
          69,
          70,
          71,
          72,
          73,
          74,
          75,
          76,
          77,
          78,
          79,
          80,
          81,
          82,
          83,
          84,
          85,
          86,
          87,
          88,
          89,
          90,
          91,
          92,
          93,
          94,
          95,
          96,
          97,
          98,
          99
         ],
         "xaxis": "x2",
         "y": [
          0.35809399338684206,
          0.30597226360314883,
          0.25497368927490893,
          0.24036736310062282,
          0.22934923496756038,
          0.22491037623094087,
          0.2206277260748784,
          0.21625849063166305,
          0.21178919923548306,
          0.2069191402858876,
          0.20173510049624901,
          0.19645972601470726,
          0.1912379405890539,
          0.18615302135337433,
          0.1812495572550879,
          0.17654816862548484,
          0.17209950121403236,
          0.16786612727473907,
          0.1638255921007917,
          0.15996735234727535,
          0.15628008003166205,
          0.15275237759475,
          0.1493731933613092,
          0.14613204925805062,
          0.14301915204987942,
          0.14002543338017973,
          0.13714254729256858,
          0.13436284330240547,
          0.131679326318362,
          0.12910532346925022,
          0.12665266107009382,
          0.12427472013110687,
          0.12196701833116054,
          0.1197254653975511,
          0.11754632608211837,
          0.11542618639889449,
          0.11336192294657889,
          0.11135067510357596,
          0.10938981987041124,
          0.10747694913494202,
          0.10560984914416384,
          0.10378648197898428,
          0.10202988161791604,
          0.10032365100295368,
          0.09865566176760918,
          0.09702439344943682,
          0.09542843725146065,
          0.0938664856119903,
          0.09233732280028897,
          0.0908398164365858,
          0.08937290984485917,
          0.0879489998043281,
          0.08659039827755045,
          0.08526595993072894,
          0.08396774716258931,
          0.08269498439709794,
          0.08144694137717572,
          0.08024184388473826,
          0.07907952160124375,
          0.07793932097172525,
          0.07682066179891639,
          0.07572299345740066,
          0.07464579243810902,
          0.07358856012894995,
          0.0725508208081901,
          0.07153211982953568,
          0.0705320219799541,
          0.06955010999316467,
          0.06858598320342803,
          0.06763925632578728,
          0.06672558464332652,
          0.0658485322459023,
          0.06498716878792296,
          0.06414117033675162,
          0.06331022369057697,
          0.062494025683869504,
          0.06169617634984772,
          0.06091540007282931,
          0.060150361048180154,
          0.059424605950963105,
          0.05872595072816998,
          0.05806266210615164,
          0.05742893813235235,
          0.05681979069995705,
          0.05624705674096706,
          0.0557230560566022,
          0.05520789425294917,
          0.05471493114507973,
          0.05425222889305992,
          0.05381036297917929,
          0.053383750471075506,
          0.05297881432509318,
          0.05260844307511432,
          0.05225036460051959,
          0.05192678189537717,
          0.051612147076856636,
          0.05130267210584918,
          0.05099826449953411,
          0.050698833710527316,
          0.05045875344602977
         ],
         "yaxis": "y2"
        },
        {
         "mode": "lines",
         "name": "Prediction With CL",
         "type": "scatter",
         "x": [
          0.05,
          0.15000000000000002,
          0.25000000000000006,
          0.35000000000000003,
          0.45000000000000007,
          0.5500000000000002,
          0.6500000000000001,
          0.7500000000000002,
          0.8500000000000002,
          0.9500000000000002,
          1.0500000000000003,
          1.1500000000000004,
          1.2500000000000002,
          1.3500000000000003,
          1.4500000000000004,
          1.5500000000000003,
          1.6500000000000004,
          1.7500000000000004,
          1.8500000000000003,
          1.9500000000000004,
          2.0500000000000003,
          2.1500000000000004,
          2.2500000000000004,
          2.35,
          2.45,
          2.5500000000000003,
          2.6500000000000004,
          2.7500000000000004,
          2.8500000000000005,
          2.95,
          3.0500000000000003,
          3.1500000000000004,
          3.2500000000000004,
          3.3500000000000005,
          3.4500000000000006,
          3.5500000000000007,
          3.6500000000000004,
          3.7500000000000004,
          3.8500000000000005,
          3.9500000000000006,
          4.050000000000001,
          4.15,
          4.250000000000001,
          4.3500000000000005,
          4.450000000000001,
          4.550000000000001,
          4.65,
          4.750000000000001,
          4.8500000000000005,
          4.950000000000001,
          5.050000000000001,
          5.150000000000001,
          5.250000000000001,
          5.3500000000000005,
          5.450000000000001,
          5.550000000000001,
          5.650000000000001,
          5.750000000000001,
          5.8500000000000005,
          5.950000000000001,
          6.050000000000001,
          6.150000000000001,
          6.250000000000001
         ],
         "xaxis": "x",
         "y": [
          0.32553401147155625,
          0.45598138017859496,
          0.5830012861653485,
          0.700888660403791,
          0.8037982431314021,
          0.8860550970227936,
          0.9424835462748224,
          0.9687341119898808,
          0.9615866823683109,
          0.9192084317158213,
          0.841346935384921,
          0.7294424229612759,
          0.5866479347021273,
          0.41775194378898,
          0.2290043413710148,
          0.027853069988016226,
          -0.17739534946984087,
          -0.3779730627280261,
          -0.5650837074615033,
          -0.7303462583893007,
          -0.8662245834279024,
          -0.9664182816326613,
          -1.026192768635972,
          -1.0426302729311903,
          -1.014788117514712,
          -0.9437560491589776,
          -0.8326100862323252,
          -0.6862660376491181,
          -0.51124118228001,
          -0.31533731805512644,
          -0.1072622768809801,
          0.10379010127403702,
          0.30857973233914093,
          0.49825730968503573,
          0.6647765524828296,
          0.801261180268552,
          0.9023086390339646,
          0.9642160063897315,
          0.9851176291055113,
          0.9650287103077424,
          0.9057940491833213,
          0.8109461984959291,
          0.6854821784235037,
          0.5355722925508164,
          0.368218261778629,
          0.1908805775165812,
          0.01109647630395887,
          -0.16388987842446046,
          -0.32746460091461455,
          -0.473930755650055,
          -0.5987302194642639,
          -0.6985909924628222,
          -0.7715953187714165,
          -0.8171692576963929,
          -0.8359993986290917,
          -0.829886853746287,
          -0.8015521624522647,
          -0.7544070597928683,
          -0.6923100673797605,
          -0.6193225501187549,
          -0.5394803536244223,
          -0.45659360645584907,
          -0.37408402548348135
         ],
         "yaxis": "y"
        }
       ],
       "layout": {
        "annotations": [
         {
          "font": {
           "size": 16
          },
          "showarrow": false,
          "text": "Validation",
          "x": 0.225,
          "xanchor": "center",
          "xref": "paper",
          "y": 1,
          "yanchor": "bottom",
          "yref": "paper"
         },
         {
          "font": {
           "size": 16
          },
          "showarrow": false,
          "text": "Residual error",
          "x": 0.775,
          "xanchor": "center",
          "xref": "paper",
          "y": 1,
          "yanchor": "bottom",
          "yref": "paper"
         }
        ],
        "template": {
         "data": {
          "bar": [
           {
            "error_x": {
             "color": "#2a3f5f"
            },
            "error_y": {
             "color": "#2a3f5f"
            },
            "marker": {
             "line": {
              "color": "#E5ECF6",
              "width": 0.5
             }
            },
            "type": "bar"
           }
          ],
          "barpolar": [
           {
            "marker": {
             "line": {
              "color": "#E5ECF6",
              "width": 0.5
             }
            },
            "type": "barpolar"
           }
          ],
          "carpet": [
           {
            "aaxis": {
             "endlinecolor": "#2a3f5f",
             "gridcolor": "white",
             "linecolor": "white",
             "minorgridcolor": "white",
             "startlinecolor": "#2a3f5f"
            },
            "baxis": {
             "endlinecolor": "#2a3f5f",
             "gridcolor": "white",
             "linecolor": "white",
             "minorgridcolor": "white",
             "startlinecolor": "#2a3f5f"
            },
            "type": "carpet"
           }
          ],
          "choropleth": [
           {
            "colorbar": {
             "outlinewidth": 0,
             "ticks": ""
            },
            "type": "choropleth"
           }
          ],
          "contour": [
           {
            "colorbar": {
             "outlinewidth": 0,
             "ticks": ""
            },
            "colorscale": [
             [
              0,
              "#0d0887"
             ],
             [
              0.1111111111111111,
              "#46039f"
             ],
             [
              0.2222222222222222,
              "#7201a8"
             ],
             [
              0.3333333333333333,
              "#9c179e"
             ],
             [
              0.4444444444444444,
              "#bd3786"
             ],
             [
              0.5555555555555556,
              "#d8576b"
             ],
             [
              0.6666666666666666,
              "#ed7953"
             ],
             [
              0.7777777777777778,
              "#fb9f3a"
             ],
             [
              0.8888888888888888,
              "#fdca26"
             ],
             [
              1,
              "#f0f921"
             ]
            ],
            "type": "contour"
           }
          ],
          "contourcarpet": [
           {
            "colorbar": {
             "outlinewidth": 0,
             "ticks": ""
            },
            "type": "contourcarpet"
           }
          ],
          "heatmap": [
           {
            "colorbar": {
             "outlinewidth": 0,
             "ticks": ""
            },
            "colorscale": [
             [
              0,
              "#0d0887"
             ],
             [
              0.1111111111111111,
              "#46039f"
             ],
             [
              0.2222222222222222,
              "#7201a8"
             ],
             [
              0.3333333333333333,
              "#9c179e"
             ],
             [
              0.4444444444444444,
              "#bd3786"
             ],
             [
              0.5555555555555556,
              "#d8576b"
             ],
             [
              0.6666666666666666,
              "#ed7953"
             ],
             [
              0.7777777777777778,
              "#fb9f3a"
             ],
             [
              0.8888888888888888,
              "#fdca26"
             ],
             [
              1,
              "#f0f921"
             ]
            ],
            "type": "heatmap"
           }
          ],
          "heatmapgl": [
           {
            "colorbar": {
             "outlinewidth": 0,
             "ticks": ""
            },
            "colorscale": [
             [
              0,
              "#0d0887"
             ],
             [
              0.1111111111111111,
              "#46039f"
             ],
             [
              0.2222222222222222,
              "#7201a8"
             ],
             [
              0.3333333333333333,
              "#9c179e"
             ],
             [
              0.4444444444444444,
              "#bd3786"
             ],
             [
              0.5555555555555556,
              "#d8576b"
             ],
             [
              0.6666666666666666,
              "#ed7953"
             ],
             [
              0.7777777777777778,
              "#fb9f3a"
             ],
             [
              0.8888888888888888,
              "#fdca26"
             ],
             [
              1,
              "#f0f921"
             ]
            ],
            "type": "heatmapgl"
           }
          ],
          "histogram": [
           {
            "marker": {
             "colorbar": {
              "outlinewidth": 0,
              "ticks": ""
             }
            },
            "type": "histogram"
           }
          ],
          "histogram2d": [
           {
            "colorbar": {
             "outlinewidth": 0,
             "ticks": ""
            },
            "colorscale": [
             [
              0,
              "#0d0887"
             ],
             [
              0.1111111111111111,
              "#46039f"
             ],
             [
              0.2222222222222222,
              "#7201a8"
             ],
             [
              0.3333333333333333,
              "#9c179e"
             ],
             [
              0.4444444444444444,
              "#bd3786"
             ],
             [
              0.5555555555555556,
              "#d8576b"
             ],
             [
              0.6666666666666666,
              "#ed7953"
             ],
             [
              0.7777777777777778,
              "#fb9f3a"
             ],
             [
              0.8888888888888888,
              "#fdca26"
             ],
             [
              1,
              "#f0f921"
             ]
            ],
            "type": "histogram2d"
           }
          ],
          "histogram2dcontour": [
           {
            "colorbar": {
             "outlinewidth": 0,
             "ticks": ""
            },
            "colorscale": [
             [
              0,
              "#0d0887"
             ],
             [
              0.1111111111111111,
              "#46039f"
             ],
             [
              0.2222222222222222,
              "#7201a8"
             ],
             [
              0.3333333333333333,
              "#9c179e"
             ],
             [
              0.4444444444444444,
              "#bd3786"
             ],
             [
              0.5555555555555556,
              "#d8576b"
             ],
             [
              0.6666666666666666,
              "#ed7953"
             ],
             [
              0.7777777777777778,
              "#fb9f3a"
             ],
             [
              0.8888888888888888,
              "#fdca26"
             ],
             [
              1,
              "#f0f921"
             ]
            ],
            "type": "histogram2dcontour"
           }
          ],
          "mesh3d": [
           {
            "colorbar": {
             "outlinewidth": 0,
             "ticks": ""
            },
            "type": "mesh3d"
           }
          ],
          "parcoords": [
           {
            "line": {
             "colorbar": {
              "outlinewidth": 0,
              "ticks": ""
             }
            },
            "type": "parcoords"
           }
          ],
          "pie": [
           {
            "automargin": true,
            "type": "pie"
           }
          ],
          "scatter": [
           {
            "marker": {
             "colorbar": {
              "outlinewidth": 0,
              "ticks": ""
             }
            },
            "type": "scatter"
           }
          ],
          "scatter3d": [
           {
            "line": {
             "colorbar": {
              "outlinewidth": 0,
              "ticks": ""
             }
            },
            "marker": {
             "colorbar": {
              "outlinewidth": 0,
              "ticks": ""
             }
            },
            "type": "scatter3d"
           }
          ],
          "scattercarpet": [
           {
            "marker": {
             "colorbar": {
              "outlinewidth": 0,
              "ticks": ""
             }
            },
            "type": "scattercarpet"
           }
          ],
          "scattergeo": [
           {
            "marker": {
             "colorbar": {
              "outlinewidth": 0,
              "ticks": ""
             }
            },
            "type": "scattergeo"
           }
          ],
          "scattergl": [
           {
            "marker": {
             "colorbar": {
              "outlinewidth": 0,
              "ticks": ""
             }
            },
            "type": "scattergl"
           }
          ],
          "scattermapbox": [
           {
            "marker": {
             "colorbar": {
              "outlinewidth": 0,
              "ticks": ""
             }
            },
            "type": "scattermapbox"
           }
          ],
          "scatterpolar": [
           {
            "marker": {
             "colorbar": {
              "outlinewidth": 0,
              "ticks": ""
             }
            },
            "type": "scatterpolar"
           }
          ],
          "scatterpolargl": [
           {
            "marker": {
             "colorbar": {
              "outlinewidth": 0,
              "ticks": ""
             }
            },
            "type": "scatterpolargl"
           }
          ],
          "scatterternary": [
           {
            "marker": {
             "colorbar": {
              "outlinewidth": 0,
              "ticks": ""
             }
            },
            "type": "scatterternary"
           }
          ],
          "surface": [
           {
            "colorbar": {
             "outlinewidth": 0,
             "ticks": ""
            },
            "colorscale": [
             [
              0,
              "#0d0887"
             ],
             [
              0.1111111111111111,
              "#46039f"
             ],
             [
              0.2222222222222222,
              "#7201a8"
             ],
             [
              0.3333333333333333,
              "#9c179e"
             ],
             [
              0.4444444444444444,
              "#bd3786"
             ],
             [
              0.5555555555555556,
              "#d8576b"
             ],
             [
              0.6666666666666666,
              "#ed7953"
             ],
             [
              0.7777777777777778,
              "#fb9f3a"
             ],
             [
              0.8888888888888888,
              "#fdca26"
             ],
             [
              1,
              "#f0f921"
             ]
            ],
            "type": "surface"
           }
          ],
          "table": [
           {
            "cells": {
             "fill": {
              "color": "#EBF0F8"
             },
             "line": {
              "color": "white"
             }
            },
            "header": {
             "fill": {
              "color": "#C8D4E3"
             },
             "line": {
              "color": "white"
             }
            },
            "type": "table"
           }
          ]
         },
         "layout": {
          "annotationdefaults": {
           "arrowcolor": "#2a3f5f",
           "arrowhead": 0,
           "arrowwidth": 1
          },
          "coloraxis": {
           "colorbar": {
            "outlinewidth": 0,
            "ticks": ""
           }
          },
          "colorscale": {
           "diverging": [
            [
             0,
             "#8e0152"
            ],
            [
             0.1,
             "#c51b7d"
            ],
            [
             0.2,
             "#de77ae"
            ],
            [
             0.3,
             "#f1b6da"
            ],
            [
             0.4,
             "#fde0ef"
            ],
            [
             0.5,
             "#f7f7f7"
            ],
            [
             0.6,
             "#e6f5d0"
            ],
            [
             0.7,
             "#b8e186"
            ],
            [
             0.8,
             "#7fbc41"
            ],
            [
             0.9,
             "#4d9221"
            ],
            [
             1,
             "#276419"
            ]
           ],
           "sequential": [
            [
             0,
             "#0d0887"
            ],
            [
             0.1111111111111111,
             "#46039f"
            ],
            [
             0.2222222222222222,
             "#7201a8"
            ],
            [
             0.3333333333333333,
             "#9c179e"
            ],
            [
             0.4444444444444444,
             "#bd3786"
            ],
            [
             0.5555555555555556,
             "#d8576b"
            ],
            [
             0.6666666666666666,
             "#ed7953"
            ],
            [
             0.7777777777777778,
             "#fb9f3a"
            ],
            [
             0.8888888888888888,
             "#fdca26"
            ],
            [
             1,
             "#f0f921"
            ]
           ],
           "sequentialminus": [
            [
             0,
             "#0d0887"
            ],
            [
             0.1111111111111111,
             "#46039f"
            ],
            [
             0.2222222222222222,
             "#7201a8"
            ],
            [
             0.3333333333333333,
             "#9c179e"
            ],
            [
             0.4444444444444444,
             "#bd3786"
            ],
            [
             0.5555555555555556,
             "#d8576b"
            ],
            [
             0.6666666666666666,
             "#ed7953"
            ],
            [
             0.7777777777777778,
             "#fb9f3a"
            ],
            [
             0.8888888888888888,
             "#fdca26"
            ],
            [
             1,
             "#f0f921"
            ]
           ]
          },
          "colorway": [
           "#636efa",
           "#EF553B",
           "#00cc96",
           "#ab63fa",
           "#FFA15A",
           "#19d3f3",
           "#FF6692",
           "#B6E880",
           "#FF97FF",
           "#FECB52"
          ],
          "font": {
           "color": "#2a3f5f"
          },
          "geo": {
           "bgcolor": "white",
           "lakecolor": "white",
           "landcolor": "#E5ECF6",
           "showlakes": true,
           "showland": true,
           "subunitcolor": "white"
          },
          "hoverlabel": {
           "align": "left"
          },
          "hovermode": "closest",
          "mapbox": {
           "style": "light"
          },
          "paper_bgcolor": "white",
          "plot_bgcolor": "#E5ECF6",
          "polar": {
           "angularaxis": {
            "gridcolor": "white",
            "linecolor": "white",
            "ticks": ""
           },
           "bgcolor": "#E5ECF6",
           "radialaxis": {
            "gridcolor": "white",
            "linecolor": "white",
            "ticks": ""
           }
          },
          "scene": {
           "xaxis": {
            "backgroundcolor": "#E5ECF6",
            "gridcolor": "white",
            "gridwidth": 2,
            "linecolor": "white",
            "showbackground": true,
            "ticks": "",
            "zerolinecolor": "white"
           },
           "yaxis": {
            "backgroundcolor": "#E5ECF6",
            "gridcolor": "white",
            "gridwidth": 2,
            "linecolor": "white",
            "showbackground": true,
            "ticks": "",
            "zerolinecolor": "white"
           },
           "zaxis": {
            "backgroundcolor": "#E5ECF6",
            "gridcolor": "white",
            "gridwidth": 2,
            "linecolor": "white",
            "showbackground": true,
            "ticks": "",
            "zerolinecolor": "white"
           }
          },
          "shapedefaults": {
           "line": {
            "color": "#2a3f5f"
           }
          },
          "ternary": {
           "aaxis": {
            "gridcolor": "white",
            "linecolor": "white",
            "ticks": ""
           },
           "baxis": {
            "gridcolor": "white",
            "linecolor": "white",
            "ticks": ""
           },
           "bgcolor": "#E5ECF6",
           "caxis": {
            "gridcolor": "white",
            "linecolor": "white",
            "ticks": ""
           }
          },
          "title": {
           "x": 0.05
          },
          "xaxis": {
           "automargin": true,
           "gridcolor": "white",
           "linecolor": "white",
           "ticks": "",
           "title": {
            "standoff": 15
           },
           "zerolinecolor": "white",
           "zerolinewidth": 2
          },
          "yaxis": {
           "automargin": true,
           "gridcolor": "white",
           "linecolor": "white",
           "ticks": "",
           "title": {
            "standoff": 15
           },
           "zerolinecolor": "white",
           "zerolinewidth": 2
          }
         }
        },
        "xaxis": {
         "anchor": "y",
         "domain": [
          0,
          0.45
         ]
        },
        "xaxis2": {
         "anchor": "y2",
         "domain": [
          0.55,
          1
         ]
        },
        "yaxis": {
         "anchor": "x",
         "domain": [
          0,
          1
         ]
        },
        "yaxis2": {
         "anchor": "x2",
         "domain": [
          0,
          1
         ]
        }
       }
      }
     },
     "metadata": {}
    }
   ],
   "source": [
    "x, sin_data, sqr_data = data_gen(0, 2*np.pi)\n",
    "t_x, t_sin_data, t_sqr_data = data_gen(0.05, 2*np.pi)\n",
    "\n",
    "epochs = 100\n",
    "n = 10\n",
    "\n",
    "fig = make_subplots(rows=1, cols=2, subplot_titles=(\"Validation\", \"Residual error\"))\n",
    "\n",
    "\n",
    "fig.add_trace(go.Scatter(x=t_x.ravel(), y=sin_data.ravel(), mode=\"lines\", name=\"Original\"), row=1, col=1)\n",
    "\n",
    "# Non-CL\n",
    "RBFNet = RBF_Network(n, x, eta=1e-1, useDelta=True)\n",
    "RBFNet.train_network(epochs, x, sin_data, t_x, t_sin_data)\n",
    "RBFNet.validate(t_x, t_sin_data)\n",
    "\n",
    "fig.add_trace(go.Scatter(x=np.arange(len(RBFNet.residual_error)), y=RBFNet.residual_error, mode=\"lines\", name=\"Error Without CL\"), row=1, col=2)\n",
    "fig.add_trace(go.Scatter(x=t_x.ravel(), y=RBFNet.f_of_x.ravel(), mode=\"lines\", name=\"Prediction Without CL\"), row=1, col=1)\n",
    "\n",
    "# Using CL\n",
    "RBFNet_cl = RBF_Network(n, x, eta=1e-1,useDelta=True)\n",
    "RBFNet_cl.init_cl(x, 100, 1e-1)\n",
    "RBFNet_cl.train_network(epochs, x, sin_data, t_x, t_sin_data)\n",
    "RBFNet_cl.validate(t_x, t_sin_data)\n",
    "\n",
    "fig.add_trace(go.Scatter(x=np.arange(len(RBFNet_cl.residual_error)), y=RBFNet_cl.residual_error, mode=\"lines\", name=\"Error With CL\"), row=1, col=2)\n",
    "fig.add_trace(go.Scatter(x=t_x.ravel(), y=RBFNet_cl.f_of_x.ravel(), mode=\"lines\", name=\"Prediction With CL\"), row=1, col=1)\n",
    "\n",
    "fig.show()\n",
    "\n",
    "\n"
   ]
  },
  {
   "source": [
    "N=10, With noise"
   ],
   "cell_type": "markdown",
   "metadata": {}
  },
  {
   "cell_type": "code",
   "execution_count": 249,
   "metadata": {},
   "outputs": [
    {
     "output_type": "display_data",
     "data": {
      "application/vnd.plotly.v1+json": {
       "config": {
        "plotlyServerURL": "https://plot.ly"
       },
       "data": [
        {
         "mode": "lines",
         "name": "Original",
         "type": "scatter",
         "x": [
          0.05,
          0.15000000000000002,
          0.25000000000000006,
          0.35000000000000003,
          0.45000000000000007,
          0.5500000000000002,
          0.6500000000000001,
          0.7500000000000002,
          0.8500000000000002,
          0.9500000000000002,
          1.0500000000000003,
          1.1500000000000004,
          1.2500000000000002,
          1.3500000000000003,
          1.4500000000000004,
          1.5500000000000003,
          1.6500000000000004,
          1.7500000000000004,
          1.8500000000000003,
          1.9500000000000004,
          2.0500000000000003,
          2.1500000000000004,
          2.2500000000000004,
          2.35,
          2.45,
          2.5500000000000003,
          2.6500000000000004,
          2.7500000000000004,
          2.8500000000000005,
          2.95,
          3.0500000000000003,
          3.1500000000000004,
          3.2500000000000004,
          3.3500000000000005,
          3.4500000000000006,
          3.5500000000000007,
          3.6500000000000004,
          3.7500000000000004,
          3.8500000000000005,
          3.9500000000000006,
          4.050000000000001,
          4.15,
          4.250000000000001,
          4.3500000000000005,
          4.450000000000001,
          4.550000000000001,
          4.65,
          4.750000000000001,
          4.8500000000000005,
          4.950000000000001,
          5.050000000000001,
          5.150000000000001,
          5.250000000000001,
          5.3500000000000005,
          5.450000000000001,
          5.550000000000001,
          5.650000000000001,
          5.750000000000001,
          5.8500000000000005,
          5.950000000000001,
          6.050000000000001,
          6.150000000000001,
          6.250000000000001
         ],
         "xaxis": "x",
         "y": [
          0,
          0.19866933079506122,
          0.3894183423086505,
          0.5646424733950355,
          0.7173560908995228,
          0.8414709848078965,
          0.9320390859672264,
          0.9854497299884603,
          0.9995736030415051,
          0.9738476308781951,
          0.9092974268256817,
          0.8084964038195901,
          0.6754631805511506,
          0.5155013718214642,
          0.33498815015590466,
          0.1411200080598672,
          -0.058374143427580086,
          -0.25554110202683167,
          -0.44252044329485246,
          -0.6118578909427193,
          -0.7568024953079282,
          -0.8715757724135882,
          -0.951602073889516,
          -0.9936910036334645,
          -0.9961646088358406,
          -0.9589242746631385,
          -0.8834546557201531,
          -0.7727644875559871,
          -0.6312666378723208,
          -0.4646021794137566,
          -0.27941549819892586,
          -0.0830894028174964,
          0.11654920485049364,
          0.3115413635133787,
          0.49411335113860894,
          0.6569865987187891,
          0.7936678638491531,
          0.8987080958116269,
          0.9679196720314865,
          0.998543345374605,
          0.9893582466233818,
          0.9407305566797726,
          0.8545989080882804,
          0.7343970978741133,
          0.5849171928917617,
          0.4121184852417566,
          0.22288991410024592,
          0.024775425453357765,
          -0.1743267812229814,
          -0.3664791292519284,
          -0.5440211108893698,
          -0.6998746875935437,
          -0.8278264690856537,
          -0.9227754216128073,
          -0.9809362300664916,
          -0.9999902065507035,
          -0.979177729151317,
          -0.9193285256646757,
          -0.8228285949687079,
          -0.6935250847771224,
          -0.5365729180004349,
          -0.35822928223682704,
          -0.1656041754483094
         ],
         "yaxis": "y"
        },
        {
         "mode": "lines",
         "name": "Error Without CL",
         "type": "scatter",
         "x": [
          0,
          1,
          2,
          3,
          4,
          5,
          6,
          7,
          8,
          9,
          10,
          11,
          12,
          13,
          14,
          15,
          16,
          17,
          18,
          19,
          20,
          21,
          22,
          23,
          24,
          25,
          26,
          27,
          28,
          29,
          30,
          31,
          32,
          33,
          34,
          35,
          36,
          37,
          38,
          39,
          40,
          41,
          42,
          43,
          44,
          45,
          46,
          47,
          48,
          49,
          50,
          51,
          52,
          53,
          54,
          55,
          56,
          57,
          58,
          59,
          60,
          61,
          62,
          63,
          64,
          65,
          66,
          67,
          68,
          69,
          70,
          71,
          72,
          73,
          74,
          75,
          76,
          77,
          78,
          79,
          80,
          81,
          82,
          83,
          84,
          85,
          86,
          87,
          88,
          89,
          90,
          91,
          92,
          93,
          94,
          95,
          96,
          97,
          98,
          99
         ],
         "xaxis": "x2",
         "y": [
          0.37672142080807414,
          0.397835936951699,
          0.374578555060571,
          0.36247068370217667,
          0.33787672941191516,
          0.3074790496634503,
          0.33641823538405247,
          0.31060182015815957,
          0.3285819032485693,
          0.3203428768987385,
          0.29701185225316706,
          0.2922073621659348,
          0.29663209933417667,
          0.3000675174022981,
          0.2908588291987197,
          0.306769952462137,
          0.28647598754382253,
          0.290639406369418,
          0.2645232978466036,
          0.28617936626200996,
          0.2753640047463453,
          0.2613664773649052,
          0.25783487545870265,
          0.264057991698588,
          0.25664422132417025,
          0.2402629569012792,
          0.27508233103558427,
          0.23312267461058125,
          0.22845895503873923,
          0.23211839242200294,
          0.23879539185820384,
          0.2344394974703094,
          0.22925503977315065,
          0.22508745130551122,
          0.23440985418093346,
          0.2442573262818669,
          0.23132264997884633,
          0.24691441961552216,
          0.192814786540946,
          0.23099574250126986,
          0.2196638246145544,
          0.20172871777638968,
          0.20173799187861594,
          0.21020599551955485,
          0.20548636421559122,
          0.2035784675441852,
          0.21457602151820662,
          0.21354181032112823,
          0.2123357056177826,
          0.2204112724585003,
          0.1858320555522896,
          0.18143975378484897,
          0.1840465541832299,
          0.21087883030558155,
          0.1744080750999199,
          0.2015810064028385,
          0.18421630018534055,
          0.18956521917458635,
          0.17942273509804035,
          0.18099966049745891,
          0.19482628729247498,
          0.16757552860308256,
          0.1454818514662481,
          0.18369995265691724,
          0.17919610756849177,
          0.1897925303188127,
          0.16580420232144608,
          0.1677913858271487,
          0.16603262735981958,
          0.1647409647818233,
          0.16863186824041315,
          0.17839671783246336,
          0.14511857543879428,
          0.14448195832760047,
          0.15674795661749244,
          0.17007080250603002,
          0.14581803968120738,
          0.12890206846042346,
          0.16339437674475601,
          0.1514650761577824,
          0.1330150747942854,
          0.16199113573550014,
          0.15277933729088636,
          0.15837175010149085,
          0.1605940073831113,
          0.1545116431761532,
          0.1495466932153871,
          0.13233611872608825,
          0.1568648292339933,
          0.1536361739015309,
          0.13585080271885183,
          0.1281827408553261,
          0.1444700511378721,
          0.15480007284099653,
          0.1312728086371457,
          0.13824028471488584,
          0.1309367134201844,
          0.13703672062696529,
          0.13738259056299676,
          0.12108549950483403
         ],
         "yaxis": "y2"
        },
        {
         "mode": "lines",
         "name": "Prediction Without CL",
         "type": "scatter",
         "x": [
          0.05,
          0.15000000000000002,
          0.25000000000000006,
          0.35000000000000003,
          0.45000000000000007,
          0.5500000000000002,
          0.6500000000000001,
          0.7500000000000002,
          0.8500000000000002,
          0.9500000000000002,
          1.0500000000000003,
          1.1500000000000004,
          1.2500000000000002,
          1.3500000000000003,
          1.4500000000000004,
          1.5500000000000003,
          1.6500000000000004,
          1.7500000000000004,
          1.8500000000000003,
          1.9500000000000004,
          2.0500000000000003,
          2.1500000000000004,
          2.2500000000000004,
          2.35,
          2.45,
          2.5500000000000003,
          2.6500000000000004,
          2.7500000000000004,
          2.8500000000000005,
          2.95,
          3.0500000000000003,
          3.1500000000000004,
          3.2500000000000004,
          3.3500000000000005,
          3.4500000000000006,
          3.5500000000000007,
          3.6500000000000004,
          3.7500000000000004,
          3.8500000000000005,
          3.9500000000000006,
          4.050000000000001,
          4.15,
          4.250000000000001,
          4.3500000000000005,
          4.450000000000001,
          4.550000000000001,
          4.65,
          4.750000000000001,
          4.8500000000000005,
          4.950000000000001,
          5.050000000000001,
          5.150000000000001,
          5.250000000000001,
          5.3500000000000005,
          5.450000000000001,
          5.550000000000001,
          5.650000000000001,
          5.750000000000001,
          5.8500000000000005,
          5.950000000000001,
          6.050000000000001,
          6.150000000000001,
          6.250000000000001
         ],
         "xaxis": "x",
         "y": [
          1.0468578915940228,
          1.1211394588074237,
          1.182555019901072,
          1.2275799664589542,
          1.2528935946335291,
          1.2555636667187944,
          1.2332329356016793,
          1.1842970074196222,
          1.1080623252458457,
          1.0048731126932868,
          0.8761968695250532,
          0.7246594748308187,
          0.5540231029648345,
          0.36910293000101696,
          0.17562189948690604,
          -0.019993521721219022,
          -0.21086982468836232,
          -0.38998461325469386,
          -0.550492394448118,
          -0.6860610909966514,
          -0.7912003673003195,
          -0.8615619967851389,
          -0.8941929580964721,
          -0.8877238303147938,
          -0.8424783467644889,
          -0.760494513989409,
          -0.6454532239967266,
          -0.5025163820933419,
          -0.33808275131479065,
          -0.15947544970194297,
          0.025420182943641248,
          0.20854624360389232,
          0.3820656580606534,
          0.538735674980926,
          0.6722397992524792,
          0.7774600598836059,
          0.8506762840065047,
          0.8896845645450091,
          0.8938328383084624,
          0.8639769213554318,
          0.8023650392833545,
          0.7124625187242729,
          0.5987306936771752,
          0.46637519660112675,
          0.3210787540109811,
          0.16873259709364583,
          0.015178897955711786,
          -0.13402546421462108,
          -0.2738157562552654,
          -0.3997910097058248,
          -0.5083465613929662,
          -0.5967654393390858,
          -0.6632680490373719,
          -0.7070209611377565,
          -0.7281068281528744,
          -0.727458622204931,
          -0.7067625165720016,
          -0.6683348194006928,
          -0.6149793561760546,
          -0.5498325042150946,
          -0.4762036078824753,
          -0.3974186525550742,
          -0.316674778882783
         ],
         "yaxis": "y"
        },
        {
         "mode": "lines",
         "name": "Error With CL",
         "type": "scatter",
         "x": [
          0,
          1,
          2,
          3,
          4,
          5,
          6,
          7,
          8,
          9,
          10,
          11,
          12,
          13,
          14,
          15,
          16,
          17,
          18,
          19,
          20,
          21,
          22,
          23,
          24,
          25,
          26,
          27,
          28,
          29,
          30,
          31,
          32,
          33,
          34,
          35,
          36,
          37,
          38,
          39,
          40,
          41,
          42,
          43,
          44,
          45,
          46,
          47,
          48,
          49,
          50,
          51,
          52,
          53,
          54,
          55,
          56,
          57,
          58,
          59,
          60,
          61,
          62,
          63,
          64,
          65,
          66,
          67,
          68,
          69,
          70,
          71,
          72,
          73,
          74,
          75,
          76,
          77,
          78,
          79,
          80,
          81,
          82,
          83,
          84,
          85,
          86,
          87,
          88,
          89,
          90,
          91,
          92,
          93,
          94,
          95,
          96,
          97,
          98,
          99
         ],
         "xaxis": "x2",
         "y": [
          0.37109700392593326,
          0.31468845748181784,
          0.28990863925132,
          0.2719502918815635,
          0.22361410664192755,
          0.26107889354019537,
          0.23460588364969434,
          0.21281654740634792,
          0.21499943943421304,
          0.20360068519399926,
          0.20804245996583226,
          0.20227282914170858,
          0.2053219920182041,
          0.20305367616211858,
          0.19288834328185522,
          0.22084744763059846,
          0.22446852133779302,
          0.19682465915838057,
          0.19114441022784115,
          0.1904637377570644,
          0.16868335786967623,
          0.15853660302612865,
          0.16711210938384397,
          0.1590708355446599,
          0.15398427369412912,
          0.1805780215269166,
          0.15320875070565082,
          0.1645467993767165,
          0.1513392062475264,
          0.15264562470468893,
          0.14378950543602345,
          0.13654507363959992,
          0.14327524955406995,
          0.14160616358388176,
          0.170988825443441,
          0.12426262155915868,
          0.16362091148614974,
          0.13401086100772616,
          0.13458101861864236,
          0.11439191495373471,
          0.13576423737574206,
          0.12250843963178219,
          0.11777368973601436,
          0.1245843634893438,
          0.12514276336370966,
          0.12195517267607758,
          0.12783476122462595,
          0.14878135538191814,
          0.13165253374633681,
          0.14100869172856684,
          0.13420388274464226,
          0.13256055273114947,
          0.1344661485267626,
          0.10883039228891014,
          0.13877156120112114,
          0.12487141713095448,
          0.08968617514631613,
          0.11717084753276068,
          0.09177524027876624,
          0.1268618391246646,
          0.10517815787721381,
          0.13723459908831404,
          0.10501348672608367,
          0.10357976361763936,
          0.10791548314541492,
          0.12551683233225294,
          0.10698376504081909,
          0.11543720178693288,
          0.10369965936581331,
          0.1183344528275003,
          0.09970984676654927,
          0.11697832384970118,
          0.1261619850082069,
          0.11282208701560947,
          0.11811791511801661,
          0.09176986252719364,
          0.11697618518084903,
          0.09123260923846659,
          0.10251443453197971,
          0.10142727935269027,
          0.11324318351736763,
          0.1193375805091078,
          0.10811043650755077,
          0.09288696978542324,
          0.10490518675342692,
          0.09318708446904826,
          0.09551646158272217,
          0.12119188149395616,
          0.10281072861289413,
          0.08184861834093005,
          0.10629233900099054,
          0.10135947640748419,
          0.09460168039880461,
          0.09374168911578819,
          0.10096803991337093,
          0.09884774895183117,
          0.09393774938562292,
          0.10001654822296842,
          0.08883202073896133,
          0.09901604667352497
         ],
         "yaxis": "y2"
        },
        {
         "mode": "lines",
         "name": "Prediction With CL",
         "type": "scatter",
         "x": [
          0.05,
          0.15000000000000002,
          0.25000000000000006,
          0.35000000000000003,
          0.45000000000000007,
          0.5500000000000002,
          0.6500000000000001,
          0.7500000000000002,
          0.8500000000000002,
          0.9500000000000002,
          1.0500000000000003,
          1.1500000000000004,
          1.2500000000000002,
          1.3500000000000003,
          1.4500000000000004,
          1.5500000000000003,
          1.6500000000000004,
          1.7500000000000004,
          1.8500000000000003,
          1.9500000000000004,
          2.0500000000000003,
          2.1500000000000004,
          2.2500000000000004,
          2.35,
          2.45,
          2.5500000000000003,
          2.6500000000000004,
          2.7500000000000004,
          2.8500000000000005,
          2.95,
          3.0500000000000003,
          3.1500000000000004,
          3.2500000000000004,
          3.3500000000000005,
          3.4500000000000006,
          3.5500000000000007,
          3.6500000000000004,
          3.7500000000000004,
          3.8500000000000005,
          3.9500000000000006,
          4.050000000000001,
          4.15,
          4.250000000000001,
          4.3500000000000005,
          4.450000000000001,
          4.550000000000001,
          4.65,
          4.750000000000001,
          4.8500000000000005,
          4.950000000000001,
          5.050000000000001,
          5.150000000000001,
          5.250000000000001,
          5.3500000000000005,
          5.450000000000001,
          5.550000000000001,
          5.650000000000001,
          5.750000000000001,
          5.8500000000000005,
          5.950000000000001,
          6.050000000000001,
          6.150000000000001,
          6.250000000000001
         ],
         "xaxis": "x",
         "y": [
          0.29177129264995766,
          0.42131879940178174,
          0.547753384133592,
          0.6653866380708071,
          0.7683803098421197,
          0.851056268362853,
          0.9082253360065572,
          0.9355145747379502,
          0.929671249531708,
          0.888821943590042,
          0.8126672106535922,
          0.7025956270375583,
          0.5617059164228901,
          0.39473161183016753,
          0.20786905367536226,
          0.008515917284717274,
          -0.19506656632133987,
          -0.39414942843143425,
          -0.5799676771095055,
          -0.7441633781211868,
          -0.8792148055951593,
          -0.9788272276164514,
          -1.0382632714305746,
          -1.0545944977240738,
          -1.0268605147647802,
          -0.9561273442183266,
          -0.845442455385475,
          -0.6996895652927697,
          -0.5253516401799935,
          -0.33019525708706104,
          -0.12289337581559352,
          0.08739352554574488,
          0.29145618260900336,
          0.480472690959263,
          0.646420056423988,
          0.7824406624742406,
          0.8831456871675035,
          0.944840897725548,
          0.9656643701914923,
          0.9456303393500791,
          0.8865783636772294,
          0.7920320469466575,
          0.6669764263177189,
          0.5175675399004677,
          0.3507913537176457,
          0.17409191203841642,
          -0.005009923994495104,
          -0.17928559887202358,
          -0.3421354709430885,
          -0.48787501315905374,
          -0.6119563455268769,
          -0.7111153674001307,
          -0.7834398501463751,
          -0.8283591210080545,
          -0.8465610131972959,
          -0.8398461909100353,
          -0.8109334527756198,
          -0.763231932890277,
          -0.7005971248283418,
          -0.6270873412488198,
          -0.5467356980081407,
          -0.4633501873884313,
          -0.3803511667692255
         ],
         "yaxis": "y"
        }
       ],
       "layout": {
        "annotations": [
         {
          "font": {
           "size": 16
          },
          "showarrow": false,
          "text": "Validation",
          "x": 0.225,
          "xanchor": "center",
          "xref": "paper",
          "y": 1,
          "yanchor": "bottom",
          "yref": "paper"
         },
         {
          "font": {
           "size": 16
          },
          "showarrow": false,
          "text": "Residual error",
          "x": 0.775,
          "xanchor": "center",
          "xref": "paper",
          "y": 1,
          "yanchor": "bottom",
          "yref": "paper"
         }
        ],
        "template": {
         "data": {
          "bar": [
           {
            "error_x": {
             "color": "#2a3f5f"
            },
            "error_y": {
             "color": "#2a3f5f"
            },
            "marker": {
             "line": {
              "color": "#E5ECF6",
              "width": 0.5
             }
            },
            "type": "bar"
           }
          ],
          "barpolar": [
           {
            "marker": {
             "line": {
              "color": "#E5ECF6",
              "width": 0.5
             }
            },
            "type": "barpolar"
           }
          ],
          "carpet": [
           {
            "aaxis": {
             "endlinecolor": "#2a3f5f",
             "gridcolor": "white",
             "linecolor": "white",
             "minorgridcolor": "white",
             "startlinecolor": "#2a3f5f"
            },
            "baxis": {
             "endlinecolor": "#2a3f5f",
             "gridcolor": "white",
             "linecolor": "white",
             "minorgridcolor": "white",
             "startlinecolor": "#2a3f5f"
            },
            "type": "carpet"
           }
          ],
          "choropleth": [
           {
            "colorbar": {
             "outlinewidth": 0,
             "ticks": ""
            },
            "type": "choropleth"
           }
          ],
          "contour": [
           {
            "colorbar": {
             "outlinewidth": 0,
             "ticks": ""
            },
            "colorscale": [
             [
              0,
              "#0d0887"
             ],
             [
              0.1111111111111111,
              "#46039f"
             ],
             [
              0.2222222222222222,
              "#7201a8"
             ],
             [
              0.3333333333333333,
              "#9c179e"
             ],
             [
              0.4444444444444444,
              "#bd3786"
             ],
             [
              0.5555555555555556,
              "#d8576b"
             ],
             [
              0.6666666666666666,
              "#ed7953"
             ],
             [
              0.7777777777777778,
              "#fb9f3a"
             ],
             [
              0.8888888888888888,
              "#fdca26"
             ],
             [
              1,
              "#f0f921"
             ]
            ],
            "type": "contour"
           }
          ],
          "contourcarpet": [
           {
            "colorbar": {
             "outlinewidth": 0,
             "ticks": ""
            },
            "type": "contourcarpet"
           }
          ],
          "heatmap": [
           {
            "colorbar": {
             "outlinewidth": 0,
             "ticks": ""
            },
            "colorscale": [
             [
              0,
              "#0d0887"
             ],
             [
              0.1111111111111111,
              "#46039f"
             ],
             [
              0.2222222222222222,
              "#7201a8"
             ],
             [
              0.3333333333333333,
              "#9c179e"
             ],
             [
              0.4444444444444444,
              "#bd3786"
             ],
             [
              0.5555555555555556,
              "#d8576b"
             ],
             [
              0.6666666666666666,
              "#ed7953"
             ],
             [
              0.7777777777777778,
              "#fb9f3a"
             ],
             [
              0.8888888888888888,
              "#fdca26"
             ],
             [
              1,
              "#f0f921"
             ]
            ],
            "type": "heatmap"
           }
          ],
          "heatmapgl": [
           {
            "colorbar": {
             "outlinewidth": 0,
             "ticks": ""
            },
            "colorscale": [
             [
              0,
              "#0d0887"
             ],
             [
              0.1111111111111111,
              "#46039f"
             ],
             [
              0.2222222222222222,
              "#7201a8"
             ],
             [
              0.3333333333333333,
              "#9c179e"
             ],
             [
              0.4444444444444444,
              "#bd3786"
             ],
             [
              0.5555555555555556,
              "#d8576b"
             ],
             [
              0.6666666666666666,
              "#ed7953"
             ],
             [
              0.7777777777777778,
              "#fb9f3a"
             ],
             [
              0.8888888888888888,
              "#fdca26"
             ],
             [
              1,
              "#f0f921"
             ]
            ],
            "type": "heatmapgl"
           }
          ],
          "histogram": [
           {
            "marker": {
             "colorbar": {
              "outlinewidth": 0,
              "ticks": ""
             }
            },
            "type": "histogram"
           }
          ],
          "histogram2d": [
           {
            "colorbar": {
             "outlinewidth": 0,
             "ticks": ""
            },
            "colorscale": [
             [
              0,
              "#0d0887"
             ],
             [
              0.1111111111111111,
              "#46039f"
             ],
             [
              0.2222222222222222,
              "#7201a8"
             ],
             [
              0.3333333333333333,
              "#9c179e"
             ],
             [
              0.4444444444444444,
              "#bd3786"
             ],
             [
              0.5555555555555556,
              "#d8576b"
             ],
             [
              0.6666666666666666,
              "#ed7953"
             ],
             [
              0.7777777777777778,
              "#fb9f3a"
             ],
             [
              0.8888888888888888,
              "#fdca26"
             ],
             [
              1,
              "#f0f921"
             ]
            ],
            "type": "histogram2d"
           }
          ],
          "histogram2dcontour": [
           {
            "colorbar": {
             "outlinewidth": 0,
             "ticks": ""
            },
            "colorscale": [
             [
              0,
              "#0d0887"
             ],
             [
              0.1111111111111111,
              "#46039f"
             ],
             [
              0.2222222222222222,
              "#7201a8"
             ],
             [
              0.3333333333333333,
              "#9c179e"
             ],
             [
              0.4444444444444444,
              "#bd3786"
             ],
             [
              0.5555555555555556,
              "#d8576b"
             ],
             [
              0.6666666666666666,
              "#ed7953"
             ],
             [
              0.7777777777777778,
              "#fb9f3a"
             ],
             [
              0.8888888888888888,
              "#fdca26"
             ],
             [
              1,
              "#f0f921"
             ]
            ],
            "type": "histogram2dcontour"
           }
          ],
          "mesh3d": [
           {
            "colorbar": {
             "outlinewidth": 0,
             "ticks": ""
            },
            "type": "mesh3d"
           }
          ],
          "parcoords": [
           {
            "line": {
             "colorbar": {
              "outlinewidth": 0,
              "ticks": ""
             }
            },
            "type": "parcoords"
           }
          ],
          "pie": [
           {
            "automargin": true,
            "type": "pie"
           }
          ],
          "scatter": [
           {
            "marker": {
             "colorbar": {
              "outlinewidth": 0,
              "ticks": ""
             }
            },
            "type": "scatter"
           }
          ],
          "scatter3d": [
           {
            "line": {
             "colorbar": {
              "outlinewidth": 0,
              "ticks": ""
             }
            },
            "marker": {
             "colorbar": {
              "outlinewidth": 0,
              "ticks": ""
             }
            },
            "type": "scatter3d"
           }
          ],
          "scattercarpet": [
           {
            "marker": {
             "colorbar": {
              "outlinewidth": 0,
              "ticks": ""
             }
            },
            "type": "scattercarpet"
           }
          ],
          "scattergeo": [
           {
            "marker": {
             "colorbar": {
              "outlinewidth": 0,
              "ticks": ""
             }
            },
            "type": "scattergeo"
           }
          ],
          "scattergl": [
           {
            "marker": {
             "colorbar": {
              "outlinewidth": 0,
              "ticks": ""
             }
            },
            "type": "scattergl"
           }
          ],
          "scattermapbox": [
           {
            "marker": {
             "colorbar": {
              "outlinewidth": 0,
              "ticks": ""
             }
            },
            "type": "scattermapbox"
           }
          ],
          "scatterpolar": [
           {
            "marker": {
             "colorbar": {
              "outlinewidth": 0,
              "ticks": ""
             }
            },
            "type": "scatterpolar"
           }
          ],
          "scatterpolargl": [
           {
            "marker": {
             "colorbar": {
              "outlinewidth": 0,
              "ticks": ""
             }
            },
            "type": "scatterpolargl"
           }
          ],
          "scatterternary": [
           {
            "marker": {
             "colorbar": {
              "outlinewidth": 0,
              "ticks": ""
             }
            },
            "type": "scatterternary"
           }
          ],
          "surface": [
           {
            "colorbar": {
             "outlinewidth": 0,
             "ticks": ""
            },
            "colorscale": [
             [
              0,
              "#0d0887"
             ],
             [
              0.1111111111111111,
              "#46039f"
             ],
             [
              0.2222222222222222,
              "#7201a8"
             ],
             [
              0.3333333333333333,
              "#9c179e"
             ],
             [
              0.4444444444444444,
              "#bd3786"
             ],
             [
              0.5555555555555556,
              "#d8576b"
             ],
             [
              0.6666666666666666,
              "#ed7953"
             ],
             [
              0.7777777777777778,
              "#fb9f3a"
             ],
             [
              0.8888888888888888,
              "#fdca26"
             ],
             [
              1,
              "#f0f921"
             ]
            ],
            "type": "surface"
           }
          ],
          "table": [
           {
            "cells": {
             "fill": {
              "color": "#EBF0F8"
             },
             "line": {
              "color": "white"
             }
            },
            "header": {
             "fill": {
              "color": "#C8D4E3"
             },
             "line": {
              "color": "white"
             }
            },
            "type": "table"
           }
          ]
         },
         "layout": {
          "annotationdefaults": {
           "arrowcolor": "#2a3f5f",
           "arrowhead": 0,
           "arrowwidth": 1
          },
          "coloraxis": {
           "colorbar": {
            "outlinewidth": 0,
            "ticks": ""
           }
          },
          "colorscale": {
           "diverging": [
            [
             0,
             "#8e0152"
            ],
            [
             0.1,
             "#c51b7d"
            ],
            [
             0.2,
             "#de77ae"
            ],
            [
             0.3,
             "#f1b6da"
            ],
            [
             0.4,
             "#fde0ef"
            ],
            [
             0.5,
             "#f7f7f7"
            ],
            [
             0.6,
             "#e6f5d0"
            ],
            [
             0.7,
             "#b8e186"
            ],
            [
             0.8,
             "#7fbc41"
            ],
            [
             0.9,
             "#4d9221"
            ],
            [
             1,
             "#276419"
            ]
           ],
           "sequential": [
            [
             0,
             "#0d0887"
            ],
            [
             0.1111111111111111,
             "#46039f"
            ],
            [
             0.2222222222222222,
             "#7201a8"
            ],
            [
             0.3333333333333333,
             "#9c179e"
            ],
            [
             0.4444444444444444,
             "#bd3786"
            ],
            [
             0.5555555555555556,
             "#d8576b"
            ],
            [
             0.6666666666666666,
             "#ed7953"
            ],
            [
             0.7777777777777778,
             "#fb9f3a"
            ],
            [
             0.8888888888888888,
             "#fdca26"
            ],
            [
             1,
             "#f0f921"
            ]
           ],
           "sequentialminus": [
            [
             0,
             "#0d0887"
            ],
            [
             0.1111111111111111,
             "#46039f"
            ],
            [
             0.2222222222222222,
             "#7201a8"
            ],
            [
             0.3333333333333333,
             "#9c179e"
            ],
            [
             0.4444444444444444,
             "#bd3786"
            ],
            [
             0.5555555555555556,
             "#d8576b"
            ],
            [
             0.6666666666666666,
             "#ed7953"
            ],
            [
             0.7777777777777778,
             "#fb9f3a"
            ],
            [
             0.8888888888888888,
             "#fdca26"
            ],
            [
             1,
             "#f0f921"
            ]
           ]
          },
          "colorway": [
           "#636efa",
           "#EF553B",
           "#00cc96",
           "#ab63fa",
           "#FFA15A",
           "#19d3f3",
           "#FF6692",
           "#B6E880",
           "#FF97FF",
           "#FECB52"
          ],
          "font": {
           "color": "#2a3f5f"
          },
          "geo": {
           "bgcolor": "white",
           "lakecolor": "white",
           "landcolor": "#E5ECF6",
           "showlakes": true,
           "showland": true,
           "subunitcolor": "white"
          },
          "hoverlabel": {
           "align": "left"
          },
          "hovermode": "closest",
          "mapbox": {
           "style": "light"
          },
          "paper_bgcolor": "white",
          "plot_bgcolor": "#E5ECF6",
          "polar": {
           "angularaxis": {
            "gridcolor": "white",
            "linecolor": "white",
            "ticks": ""
           },
           "bgcolor": "#E5ECF6",
           "radialaxis": {
            "gridcolor": "white",
            "linecolor": "white",
            "ticks": ""
           }
          },
          "scene": {
           "xaxis": {
            "backgroundcolor": "#E5ECF6",
            "gridcolor": "white",
            "gridwidth": 2,
            "linecolor": "white",
            "showbackground": true,
            "ticks": "",
            "zerolinecolor": "white"
           },
           "yaxis": {
            "backgroundcolor": "#E5ECF6",
            "gridcolor": "white",
            "gridwidth": 2,
            "linecolor": "white",
            "showbackground": true,
            "ticks": "",
            "zerolinecolor": "white"
           },
           "zaxis": {
            "backgroundcolor": "#E5ECF6",
            "gridcolor": "white",
            "gridwidth": 2,
            "linecolor": "white",
            "showbackground": true,
            "ticks": "",
            "zerolinecolor": "white"
           }
          },
          "shapedefaults": {
           "line": {
            "color": "#2a3f5f"
           }
          },
          "ternary": {
           "aaxis": {
            "gridcolor": "white",
            "linecolor": "white",
            "ticks": ""
           },
           "baxis": {
            "gridcolor": "white",
            "linecolor": "white",
            "ticks": ""
           },
           "bgcolor": "#E5ECF6",
           "caxis": {
            "gridcolor": "white",
            "linecolor": "white",
            "ticks": ""
           }
          },
          "title": {
           "x": 0.05
          },
          "xaxis": {
           "automargin": true,
           "gridcolor": "white",
           "linecolor": "white",
           "ticks": "",
           "title": {
            "standoff": 15
           },
           "zerolinecolor": "white",
           "zerolinewidth": 2
          },
          "yaxis": {
           "automargin": true,
           "gridcolor": "white",
           "linecolor": "white",
           "ticks": "",
           "title": {
            "standoff": 15
           },
           "zerolinecolor": "white",
           "zerolinewidth": 2
          }
         }
        },
        "xaxis": {
         "anchor": "y",
         "domain": [
          0,
          0.45
         ]
        },
        "xaxis2": {
         "anchor": "y2",
         "domain": [
          0.55,
          1
         ]
        },
        "yaxis": {
         "anchor": "x",
         "domain": [
          0,
          1
         ]
        },
        "yaxis2": {
         "anchor": "x2",
         "domain": [
          0,
          1
         ]
        }
       }
      }
     },
     "metadata": {}
    }
   ],
   "source": [
    "x, sin_data, sqr_data = data_gen(0, 2*np.pi)\n",
    "t_x, t_sin_data, t_sqr_data = data_gen(0.05, 2*np.pi)\n",
    "\n",
    "epochs = 100\n",
    "n = 10\n",
    "\n",
    "fig = make_subplots(rows=1, cols=2, subplot_titles=(\"Validation\", \"Residual error\"))\n",
    "\n",
    "\n",
    "fig.add_trace(go.Scatter(x=t_x.ravel(), y=sin_data.ravel(), mode=\"lines\", name=\"Original\"), row=1, col=1)\n",
    "\n",
    "# Non-CL\n",
    "RBFNet = RBF_Network(n, x, eta=1e-1, useDelta=True, add_noise=True)\n",
    "RBFNet.train_network(epochs, x, sin_data, t_x, t_sin_data)\n",
    "RBFNet.validate(t_x, t_sin_data)\n",
    "\n",
    "fig.add_trace(go.Scatter(x=np.arange(len(RBFNet.residual_error)), y=RBFNet.residual_error, mode=\"lines\", name=\"Error Without CL\"), row=1, col=2)\n",
    "fig.add_trace(go.Scatter(x=t_x.ravel(), y=RBFNet.f_of_x.ravel(), mode=\"lines\", name=\"Prediction Without CL\"), row=1, col=1)\n",
    "\n",
    "# Using CL\n",
    "RBFNet_cl = RBF_Network(n, x, eta=1e-1,useDelta=True,add_noise=True)\n",
    "RBFNet_cl.init_cl(x, 100, 1e-1)\n",
    "RBFNet_cl.train_network(epochs, x, sin_data, t_x, t_sin_data)\n",
    "RBFNet_cl.validate(t_x, t_sin_data)\n",
    "\n",
    "fig.add_trace(go.Scatter(x=np.arange(len(RBFNet_cl.residual_error)), y=RBFNet_cl.residual_error, mode=\"lines\", name=\"Error With CL\"), row=1, col=2)\n",
    "fig.add_trace(go.Scatter(x=t_x.ravel(), y=RBFNet_cl.f_of_x.ravel(), mode=\"lines\", name=\"Prediction With CL\"), row=1, col=1)\n",
    "\n",
    "fig.show()\n",
    "\n",
    "\n"
   ]
  },
  {
   "source": [
    "## 3.3.2 - Avoid dead nodes\n",
    "\n"
   ],
   "cell_type": "markdown",
   "metadata": {}
  },
  {
   "cell_type": "code",
   "execution_count": 280,
   "metadata": {},
   "outputs": [
    {
     "output_type": "display_data",
     "data": {
      "application/vnd.plotly.v1+json": {
       "config": {
        "plotlyServerURL": "https://plot.ly"
       },
       "data": [
        {
         "name": "Without bias",
         "type": "bar",
         "x": [
          0,
          1,
          2,
          3,
          4,
          5,
          6,
          7,
          8,
          9
         ],
         "y": [
          774,
          708,
          334,
          790,
          471,
          745,
          760,
          365,
          590,
          763
         ]
        },
        {
         "name": "With bias",
         "type": "bar",
         "x": [
          0,
          1,
          2,
          3,
          4,
          5,
          6,
          7,
          8,
          9
         ],
         "y": [
          623,
          631,
          636,
          617,
          642,
          628,
          626,
          640,
          636,
          621
         ]
        }
       ],
       "layout": {
        "template": {
         "data": {
          "bar": [
           {
            "error_x": {
             "color": "#2a3f5f"
            },
            "error_y": {
             "color": "#2a3f5f"
            },
            "marker": {
             "line": {
              "color": "#E5ECF6",
              "width": 0.5
             }
            },
            "type": "bar"
           }
          ],
          "barpolar": [
           {
            "marker": {
             "line": {
              "color": "#E5ECF6",
              "width": 0.5
             }
            },
            "type": "barpolar"
           }
          ],
          "carpet": [
           {
            "aaxis": {
             "endlinecolor": "#2a3f5f",
             "gridcolor": "white",
             "linecolor": "white",
             "minorgridcolor": "white",
             "startlinecolor": "#2a3f5f"
            },
            "baxis": {
             "endlinecolor": "#2a3f5f",
             "gridcolor": "white",
             "linecolor": "white",
             "minorgridcolor": "white",
             "startlinecolor": "#2a3f5f"
            },
            "type": "carpet"
           }
          ],
          "choropleth": [
           {
            "colorbar": {
             "outlinewidth": 0,
             "ticks": ""
            },
            "type": "choropleth"
           }
          ],
          "contour": [
           {
            "colorbar": {
             "outlinewidth": 0,
             "ticks": ""
            },
            "colorscale": [
             [
              0,
              "#0d0887"
             ],
             [
              0.1111111111111111,
              "#46039f"
             ],
             [
              0.2222222222222222,
              "#7201a8"
             ],
             [
              0.3333333333333333,
              "#9c179e"
             ],
             [
              0.4444444444444444,
              "#bd3786"
             ],
             [
              0.5555555555555556,
              "#d8576b"
             ],
             [
              0.6666666666666666,
              "#ed7953"
             ],
             [
              0.7777777777777778,
              "#fb9f3a"
             ],
             [
              0.8888888888888888,
              "#fdca26"
             ],
             [
              1,
              "#f0f921"
             ]
            ],
            "type": "contour"
           }
          ],
          "contourcarpet": [
           {
            "colorbar": {
             "outlinewidth": 0,
             "ticks": ""
            },
            "type": "contourcarpet"
           }
          ],
          "heatmap": [
           {
            "colorbar": {
             "outlinewidth": 0,
             "ticks": ""
            },
            "colorscale": [
             [
              0,
              "#0d0887"
             ],
             [
              0.1111111111111111,
              "#46039f"
             ],
             [
              0.2222222222222222,
              "#7201a8"
             ],
             [
              0.3333333333333333,
              "#9c179e"
             ],
             [
              0.4444444444444444,
              "#bd3786"
             ],
             [
              0.5555555555555556,
              "#d8576b"
             ],
             [
              0.6666666666666666,
              "#ed7953"
             ],
             [
              0.7777777777777778,
              "#fb9f3a"
             ],
             [
              0.8888888888888888,
              "#fdca26"
             ],
             [
              1,
              "#f0f921"
             ]
            ],
            "type": "heatmap"
           }
          ],
          "heatmapgl": [
           {
            "colorbar": {
             "outlinewidth": 0,
             "ticks": ""
            },
            "colorscale": [
             [
              0,
              "#0d0887"
             ],
             [
              0.1111111111111111,
              "#46039f"
             ],
             [
              0.2222222222222222,
              "#7201a8"
             ],
             [
              0.3333333333333333,
              "#9c179e"
             ],
             [
              0.4444444444444444,
              "#bd3786"
             ],
             [
              0.5555555555555556,
              "#d8576b"
             ],
             [
              0.6666666666666666,
              "#ed7953"
             ],
             [
              0.7777777777777778,
              "#fb9f3a"
             ],
             [
              0.8888888888888888,
              "#fdca26"
             ],
             [
              1,
              "#f0f921"
             ]
            ],
            "type": "heatmapgl"
           }
          ],
          "histogram": [
           {
            "marker": {
             "colorbar": {
              "outlinewidth": 0,
              "ticks": ""
             }
            },
            "type": "histogram"
           }
          ],
          "histogram2d": [
           {
            "colorbar": {
             "outlinewidth": 0,
             "ticks": ""
            },
            "colorscale": [
             [
              0,
              "#0d0887"
             ],
             [
              0.1111111111111111,
              "#46039f"
             ],
             [
              0.2222222222222222,
              "#7201a8"
             ],
             [
              0.3333333333333333,
              "#9c179e"
             ],
             [
              0.4444444444444444,
              "#bd3786"
             ],
             [
              0.5555555555555556,
              "#d8576b"
             ],
             [
              0.6666666666666666,
              "#ed7953"
             ],
             [
              0.7777777777777778,
              "#fb9f3a"
             ],
             [
              0.8888888888888888,
              "#fdca26"
             ],
             [
              1,
              "#f0f921"
             ]
            ],
            "type": "histogram2d"
           }
          ],
          "histogram2dcontour": [
           {
            "colorbar": {
             "outlinewidth": 0,
             "ticks": ""
            },
            "colorscale": [
             [
              0,
              "#0d0887"
             ],
             [
              0.1111111111111111,
              "#46039f"
             ],
             [
              0.2222222222222222,
              "#7201a8"
             ],
             [
              0.3333333333333333,
              "#9c179e"
             ],
             [
              0.4444444444444444,
              "#bd3786"
             ],
             [
              0.5555555555555556,
              "#d8576b"
             ],
             [
              0.6666666666666666,
              "#ed7953"
             ],
             [
              0.7777777777777778,
              "#fb9f3a"
             ],
             [
              0.8888888888888888,
              "#fdca26"
             ],
             [
              1,
              "#f0f921"
             ]
            ],
            "type": "histogram2dcontour"
           }
          ],
          "mesh3d": [
           {
            "colorbar": {
             "outlinewidth": 0,
             "ticks": ""
            },
            "type": "mesh3d"
           }
          ],
          "parcoords": [
           {
            "line": {
             "colorbar": {
              "outlinewidth": 0,
              "ticks": ""
             }
            },
            "type": "parcoords"
           }
          ],
          "pie": [
           {
            "automargin": true,
            "type": "pie"
           }
          ],
          "scatter": [
           {
            "marker": {
             "colorbar": {
              "outlinewidth": 0,
              "ticks": ""
             }
            },
            "type": "scatter"
           }
          ],
          "scatter3d": [
           {
            "line": {
             "colorbar": {
              "outlinewidth": 0,
              "ticks": ""
             }
            },
            "marker": {
             "colorbar": {
              "outlinewidth": 0,
              "ticks": ""
             }
            },
            "type": "scatter3d"
           }
          ],
          "scattercarpet": [
           {
            "marker": {
             "colorbar": {
              "outlinewidth": 0,
              "ticks": ""
             }
            },
            "type": "scattercarpet"
           }
          ],
          "scattergeo": [
           {
            "marker": {
             "colorbar": {
              "outlinewidth": 0,
              "ticks": ""
             }
            },
            "type": "scattergeo"
           }
          ],
          "scattergl": [
           {
            "marker": {
             "colorbar": {
              "outlinewidth": 0,
              "ticks": ""
             }
            },
            "type": "scattergl"
           }
          ],
          "scattermapbox": [
           {
            "marker": {
             "colorbar": {
              "outlinewidth": 0,
              "ticks": ""
             }
            },
            "type": "scattermapbox"
           }
          ],
          "scatterpolar": [
           {
            "marker": {
             "colorbar": {
              "outlinewidth": 0,
              "ticks": ""
             }
            },
            "type": "scatterpolar"
           }
          ],
          "scatterpolargl": [
           {
            "marker": {
             "colorbar": {
              "outlinewidth": 0,
              "ticks": ""
             }
            },
            "type": "scatterpolargl"
           }
          ],
          "scatterternary": [
           {
            "marker": {
             "colorbar": {
              "outlinewidth": 0,
              "ticks": ""
             }
            },
            "type": "scatterternary"
           }
          ],
          "surface": [
           {
            "colorbar": {
             "outlinewidth": 0,
             "ticks": ""
            },
            "colorscale": [
             [
              0,
              "#0d0887"
             ],
             [
              0.1111111111111111,
              "#46039f"
             ],
             [
              0.2222222222222222,
              "#7201a8"
             ],
             [
              0.3333333333333333,
              "#9c179e"
             ],
             [
              0.4444444444444444,
              "#bd3786"
             ],
             [
              0.5555555555555556,
              "#d8576b"
             ],
             [
              0.6666666666666666,
              "#ed7953"
             ],
             [
              0.7777777777777778,
              "#fb9f3a"
             ],
             [
              0.8888888888888888,
              "#fdca26"
             ],
             [
              1,
              "#f0f921"
             ]
            ],
            "type": "surface"
           }
          ],
          "table": [
           {
            "cells": {
             "fill": {
              "color": "#EBF0F8"
             },
             "line": {
              "color": "white"
             }
            },
            "header": {
             "fill": {
              "color": "#C8D4E3"
             },
             "line": {
              "color": "white"
             }
            },
            "type": "table"
           }
          ]
         },
         "layout": {
          "annotationdefaults": {
           "arrowcolor": "#2a3f5f",
           "arrowhead": 0,
           "arrowwidth": 1
          },
          "coloraxis": {
           "colorbar": {
            "outlinewidth": 0,
            "ticks": ""
           }
          },
          "colorscale": {
           "diverging": [
            [
             0,
             "#8e0152"
            ],
            [
             0.1,
             "#c51b7d"
            ],
            [
             0.2,
             "#de77ae"
            ],
            [
             0.3,
             "#f1b6da"
            ],
            [
             0.4,
             "#fde0ef"
            ],
            [
             0.5,
             "#f7f7f7"
            ],
            [
             0.6,
             "#e6f5d0"
            ],
            [
             0.7,
             "#b8e186"
            ],
            [
             0.8,
             "#7fbc41"
            ],
            [
             0.9,
             "#4d9221"
            ],
            [
             1,
             "#276419"
            ]
           ],
           "sequential": [
            [
             0,
             "#0d0887"
            ],
            [
             0.1111111111111111,
             "#46039f"
            ],
            [
             0.2222222222222222,
             "#7201a8"
            ],
            [
             0.3333333333333333,
             "#9c179e"
            ],
            [
             0.4444444444444444,
             "#bd3786"
            ],
            [
             0.5555555555555556,
             "#d8576b"
            ],
            [
             0.6666666666666666,
             "#ed7953"
            ],
            [
             0.7777777777777778,
             "#fb9f3a"
            ],
            [
             0.8888888888888888,
             "#fdca26"
            ],
            [
             1,
             "#f0f921"
            ]
           ],
           "sequentialminus": [
            [
             0,
             "#0d0887"
            ],
            [
             0.1111111111111111,
             "#46039f"
            ],
            [
             0.2222222222222222,
             "#7201a8"
            ],
            [
             0.3333333333333333,
             "#9c179e"
            ],
            [
             0.4444444444444444,
             "#bd3786"
            ],
            [
             0.5555555555555556,
             "#d8576b"
            ],
            [
             0.6666666666666666,
             "#ed7953"
            ],
            [
             0.7777777777777778,
             "#fb9f3a"
            ],
            [
             0.8888888888888888,
             "#fdca26"
            ],
            [
             1,
             "#f0f921"
            ]
           ]
          },
          "colorway": [
           "#636efa",
           "#EF553B",
           "#00cc96",
           "#ab63fa",
           "#FFA15A",
           "#19d3f3",
           "#FF6692",
           "#B6E880",
           "#FF97FF",
           "#FECB52"
          ],
          "font": {
           "color": "#2a3f5f"
          },
          "geo": {
           "bgcolor": "white",
           "lakecolor": "white",
           "landcolor": "#E5ECF6",
           "showlakes": true,
           "showland": true,
           "subunitcolor": "white"
          },
          "hoverlabel": {
           "align": "left"
          },
          "hovermode": "closest",
          "mapbox": {
           "style": "light"
          },
          "paper_bgcolor": "white",
          "plot_bgcolor": "#E5ECF6",
          "polar": {
           "angularaxis": {
            "gridcolor": "white",
            "linecolor": "white",
            "ticks": ""
           },
           "bgcolor": "#E5ECF6",
           "radialaxis": {
            "gridcolor": "white",
            "linecolor": "white",
            "ticks": ""
           }
          },
          "scene": {
           "xaxis": {
            "backgroundcolor": "#E5ECF6",
            "gridcolor": "white",
            "gridwidth": 2,
            "linecolor": "white",
            "showbackground": true,
            "ticks": "",
            "zerolinecolor": "white"
           },
           "yaxis": {
            "backgroundcolor": "#E5ECF6",
            "gridcolor": "white",
            "gridwidth": 2,
            "linecolor": "white",
            "showbackground": true,
            "ticks": "",
            "zerolinecolor": "white"
           },
           "zaxis": {
            "backgroundcolor": "#E5ECF6",
            "gridcolor": "white",
            "gridwidth": 2,
            "linecolor": "white",
            "showbackground": true,
            "ticks": "",
            "zerolinecolor": "white"
           }
          },
          "shapedefaults": {
           "line": {
            "color": "#2a3f5f"
           }
          },
          "ternary": {
           "aaxis": {
            "gridcolor": "white",
            "linecolor": "white",
            "ticks": ""
           },
           "baxis": {
            "gridcolor": "white",
            "linecolor": "white",
            "ticks": ""
           },
           "bgcolor": "#E5ECF6",
           "caxis": {
            "gridcolor": "white",
            "linecolor": "white",
            "ticks": ""
           }
          },
          "title": {
           "x": 0.05
          },
          "xaxis": {
           "automargin": true,
           "gridcolor": "white",
           "linecolor": "white",
           "ticks": "",
           "title": {
            "standoff": 15
           },
           "zerolinecolor": "white",
           "zerolinewidth": 2
          },
          "yaxis": {
           "automargin": true,
           "gridcolor": "white",
           "linecolor": "white",
           "ticks": "",
           "title": {
            "standoff": 15
           },
           "zerolinecolor": "white",
           "zerolinewidth": 2
          }
         }
        }
       }
      }
     },
     "metadata": {}
    }
   ],
   "source": [
    "x, sin_data, sqr_data = data_gen(0, 2*np.pi)\n",
    "t_x, t_sin_data, t_sqr_data = data_gen(0.05, 2*np.pi)\n",
    "\n",
    "\n",
    "epochs = 100\n",
    "n = 10\n",
    "\n",
    "# Without bias\n",
    "fig = go.Figure()\n",
    "RBFNet = RBF_Network(n, x, eta=1e-1, useDelta=True)\n",
    "wins1 = RBFNet.init_cl(x, 100, 1e-1)\n",
    "fig.add_trace(go.Bar(x=np.arange(len(wins1)), y=wins1.ravel(), name=\"Without bias\"))\n",
    "\n",
    "# With bias\n",
    "RBFNet = RBF_Network(n, x, eta=1e-1, useDelta=True)\n",
    "wins2 = RBFNet.init_cl(x, 100, 1e-1, useBias=True)\n",
    "fig.add_trace(go.Bar(x=np.arange(len(wins2)), y=wins2.ravel(), name=\"With bias\"))\n",
    "\n",
    "fig.show()\n"
   ]
  },
  {
   "source": [
    "## 3.3.3 - Approximate two dimensional function"
   ],
   "cell_type": "markdown",
   "metadata": {}
  },
  {
   "cell_type": "code",
   "execution_count": 32,
   "metadata": {
    "tags": []
   },
   "outputs": [],
   "source": [
    "def load():\n",
    "    inputs, targets = load_data(\"./jakob/data/ballist.dat\")\n",
    "    test_inputs, test_targets = load_data(\"./jakob/data/balltest.dat\")\n",
    "\n",
    "    return inputs, targets, test_inputs, test_targets\n",
    "\n",
    "def load_data(filepath):\n",
    "    data = np.fromfile(filepath, dtype=np.float32, sep=\" \")\n",
    "    inputs = []\n",
    "    targets = []\n",
    "    for i in range(0, len(data), 4):\n",
    "        inputs.append([data[i], data[i+1]])\n",
    "        targets.append([data[i+2], data[i+3]])\n",
    "    \n",
    "    return np.asarray(inputs), np.asarray(targets)\n",
    "\n"
   ]
  },
  {
   "cell_type": "code",
   "execution_count": 158,
   "metadata": {},
   "outputs": [
    {
     "output_type": "display_data",
     "data": {
      "application/vnd.plotly.v1+json": {
       "config": {
        "plotlyServerURL": "https://plot.ly"
       },
       "data": [
        {
         "mode": "markers",
         "name": "feature 1",
         "type": "scatter3d",
         "x": [
          0.8960000276565552,
          0.27900001406669617,
          0.3070000112056732,
          0.9739999771118164,
          0.0689999982714653,
          0.28999999165534973,
          0.014999999664723873,
          0.6859999895095825,
          0.2770000100135803,
          0.7429999709129333,
          0.43299999833106995,
          0.25099998712539673,
          0.6610000133514404,
          0.09600000083446503,
          0.7710000276565552,
          0.9919999837875366,
          0.9879999756813049,
          0.007000000216066837,
          0.6890000104904175,
          0.2280000001192093,
          0.8939999938011169,
          0.2759999930858612,
          0.22699999809265137,
          0.5419999957084656,
          0.9990000128746033,
          0.5299999713897705,
          0.0729999989271164,
          0.24400000274181366,
          0.0010000000474974513,
          0.012000000104308128,
          0.9829999804496765,
          0.8149999976158142,
          0.6309999823570251,
          0.6290000081062317,
          0.8029999732971191,
          0.06199999898672104,
          0.43799999356269836,
          0.9089999794960022,
          0.8600000143051147,
          0.460999995470047,
          0.7139999866485596,
          0.6100000143051147,
          0.8690000176429749,
          0.3659999966621399,
          0.7129999995231628,
          0.7649999856948853,
          0.8899999856948853,
          0.2160000056028366,
          0.039000000804662704,
          0.34299999475479126,
          0.2639999985694885,
          0.8149999976158142,
          0.03799999877810478,
          0.4830000102519989,
          0.1850000023841858,
          0.972000002861023,
          0.23899999260902405,
          0.5299999713897705,
          0.4950000047683716,
          0.9789999723434448,
          0.7360000014305115,
          0.20499999821186066,
          0.8270000219345093,
          0.8669999837875366,
          0.23199999332427979,
          0.6050000190734863,
          0.04500000178813934,
          0.12600000202655792,
          0.13500000536441803,
          0.9200000166893005,
          0.7239999771118164,
          0.9559999704360962,
          0.7839999794960022,
          0.2879999876022339,
          0.3490000069141388,
          0.8989999890327454,
          0.5580000281333923,
          0.4819999933242798,
          0.6520000100135803,
          0.0949999988079071,
          0.125,
          0.5759999752044678,
          0.06700000166893005,
          0.28600001335144043,
          0.3100000023841858,
          0.8500000238418579,
          0.4729999899864197,
          0.7049999833106995,
          0.9900000095367432,
          0.593999981880188,
          0.9089999794960022,
          0.27000001072883606,
          0.39899998903274536,
          0.847000002861023,
          0.3199999928474426,
          0.4449999928474426,
          0.6510000228881836,
          0.9169999957084656,
          0.7760000228881836,
          0.843999981880188
         ],
         "y": [
          0.5400000214576721,
          0.859000027179718,
          0.40299999713897705,
          0.5460000038146973,
          0.902999997138977,
          0.4480000138282776,
          0.08500000089406967,
          0.5070000290870667,
          0.4339999854564667,
          0.7049999833106995,
          0.7519999742507935,
          0.15399999916553497,
          0.6200000047683716,
          0.8230000138282776,
          0.40299999713897705,
          0.6430000066757202,
          0.7630000114440918,
          0.9100000262260437,
          0.8050000071525574,
          0.27399998903274536,
          0.753000020980835,
          0.10000000149011612,
          0.4819999933242798,
          0.2540000081062317,
          0.6729999780654907,
          0.5720000267028809,
          0.25699999928474426,
          0.4099999964237213,
          0.7179999947547913,
          0.9120000004768372,
          0.25099998712539673,
          0.3149999976158142,
          0.26100000739097595,
          0.25099998712539673,
          0.4659999907016754,
          0.5350000262260437,
          0.25,
          0.49900001287460327,
          0.4519999921321869,
          0.7020000219345093,
          0.6679999828338623,
          0.6949999928474426,
          0.46700000762939453,
          0.5260000228881836,
          0.9670000076293945,
          0.4050000011920929,
          0.47200000286102295,
          0.4620000123977661,
          0.4909999966621399,
          0.5659999847412109,
          0.05700000002980232,
          0.8980000019073486,
          0.7039999961853027,
          0.20399999618530273,
          0.18400000035762787,
          0.16200000047683716,
          0.828000009059906,
          0.19200000166893005,
          0.671999990940094,
          0.4740000069141388,
          0.8640000224113464,
          0.3799999952316284,
          0.6230000257492065,
          0.8569999933242798,
          0.6610000133514404,
          0.5849999785423279,
          0.550000011920929,
          0.3659999966621399,
          0.36399999260902405,
          0.3619999885559082,
          0.8429999947547913,
          0.9449999928474426,
          0.8040000200271606,
          0.8870000243186951,
          0.296999990940094,
          0.7459999918937683,
          0.11500000208616257,
          0.8379999995231628,
          0.6050000190734863,
          0.3440000116825104,
          0.8149999976158142,
          0.14300000667572021,
          0.25999999046325684,
          0.23800000548362732,
          0.6480000019073486,
          0.01899999938905239,
          0.5960000157356262,
          0.39399999380111694,
          0.06400000303983688,
          0.7900000214576721,
          0.5630000233650208,
          0.6269999742507935,
          0.3059999942779541,
          0.5899999737739563,
          0.6909999847412109,
          0.2630000114440918,
          0.8960000276565552,
          0.023000000044703484,
          0.13500000536441803,
          0.925000011920929
         ],
         "z": [
          0.09300000220537186,
          0.5659999847412109,
          0.13300000131130219,
          0.024000000208616257,
          0.17499999701976776,
          0.1589999943971634,
          0,
          0.2150000035762787,
          0.14399999380111694,
          0.35899999737739563,
          0.5519999861717224,
          0.017000000923871994,
          0.335999995470047,
          0.20200000703334808,
          0.10700000077486038,
          0.010999999940395355,
          0.02199999988079071,
          0.01899999938905239,
          0.5370000004768372,
          0.05000000074505806,
          0.1860000044107437,
          0.00800000037997961,
          0.15199999511241913,
          0.06400000303983688,
          0.0010000000474974513,
          0.32600000500679016,
          0.014999999664723873,
          0.11599999666213989,
          0.0010000000474974513,
          0.03099999949336052,
          0.003000000026077032,
          0.05400000140070915,
          0.06199999898672104,
          0.057999998331069946,
          0.12600000202655792,
          0.054999999701976776,
          0.061000000685453415,
          0.07000000029802322,
          0.08699999749660492,
          0.48899999260902405,
          0.3490000069141388,
          0.45399999618530273,
          0.08699999749660492,
          0.2529999911785126,
          0.734000027179718,
          0.10999999940395355,
          0.07500000298023224,
          0.1340000033378601,
          0.029999999329447746,
          0.28200000524520874,
          0.0020000000949949026,
          0.4440000057220459,
          0.05900000035762787,
          0.04100000113248825,
          0.01899999938905239,
          0.0020000000949949026,
          0.46700000762939453,
          0.03700000047683716,
          0.45100000500679016,
          0.014999999664723873,
          0.550000011920929,
          0.08699999749660492,
          0.20100000500679016,
          0.2980000078678131,
          0.28999999165534973,
          0.3240000009536743,
          0.0430000014603138,
          0.050999999046325684,
          0.05400000140070915,
          0.032999999821186066,
          0.5410000085830688,
          0.12200000137090683,
          0.4059999883174896,
          0.6200000047683716,
          0.07800000160932541,
          0.17399999499320984,
          0.013000000268220901,
          0.7009999752044678,
          0.32600000500679016,
          0.03500000014901161,
          0.2540000081062317,
          0.019999999552965164,
          0.014000000432133675,
          0.04399999976158142,
          0.34700000286102295,
          0,
          0.3529999852180481,
          0.12399999797344208,
          0,
          0.597000002861023,
          0.08900000154972076,
          0.29499998688697815,
          0.08900000154972076,
          0.16099999845027924,
          0.40299999713897705,
          0.06800000369548798,
          0.7139999866485596,
          0,
          0.012000000104308128,
          0.40299999713897705
         ]
        },
        {
         "mode": "markers",
         "name": "feature 2",
         "type": "scatter3d",
         "x": [
          0.8960000276565552,
          0.27900001406669617,
          0.3070000112056732,
          0.9739999771118164,
          0.0689999982714653,
          0.28999999165534973,
          0.014999999664723873,
          0.6859999895095825,
          0.2770000100135803,
          0.7429999709129333,
          0.43299999833106995,
          0.25099998712539673,
          0.6610000133514404,
          0.09600000083446503,
          0.7710000276565552,
          0.9919999837875366,
          0.9879999756813049,
          0.007000000216066837,
          0.6890000104904175,
          0.2280000001192093,
          0.8939999938011169,
          0.2759999930858612,
          0.22699999809265137,
          0.5419999957084656,
          0.9990000128746033,
          0.5299999713897705,
          0.0729999989271164,
          0.24400000274181366,
          0.0010000000474974513,
          0.012000000104308128,
          0.9829999804496765,
          0.8149999976158142,
          0.6309999823570251,
          0.6290000081062317,
          0.8029999732971191,
          0.06199999898672104,
          0.43799999356269836,
          0.9089999794960022,
          0.8600000143051147,
          0.460999995470047,
          0.7139999866485596,
          0.6100000143051147,
          0.8690000176429749,
          0.3659999966621399,
          0.7129999995231628,
          0.7649999856948853,
          0.8899999856948853,
          0.2160000056028366,
          0.039000000804662704,
          0.34299999475479126,
          0.2639999985694885,
          0.8149999976158142,
          0.03799999877810478,
          0.4830000102519989,
          0.1850000023841858,
          0.972000002861023,
          0.23899999260902405,
          0.5299999713897705,
          0.4950000047683716,
          0.9789999723434448,
          0.7360000014305115,
          0.20499999821186066,
          0.8270000219345093,
          0.8669999837875366,
          0.23199999332427979,
          0.6050000190734863,
          0.04500000178813934,
          0.12600000202655792,
          0.13500000536441803,
          0.9200000166893005,
          0.7239999771118164,
          0.9559999704360962,
          0.7839999794960022,
          0.2879999876022339,
          0.3490000069141388,
          0.8989999890327454,
          0.5580000281333923,
          0.4819999933242798,
          0.6520000100135803,
          0.0949999988079071,
          0.125,
          0.5759999752044678,
          0.06700000166893005,
          0.28600001335144043,
          0.3100000023841858,
          0.8500000238418579,
          0.4729999899864197,
          0.7049999833106995,
          0.9900000095367432,
          0.593999981880188,
          0.9089999794960022,
          0.27000001072883606,
          0.39899998903274536,
          0.847000002861023,
          0.3199999928474426,
          0.4449999928474426,
          0.6510000228881836,
          0.9169999957084656,
          0.7760000228881836,
          0.843999981880188
         ],
         "y": [
          0.5400000214576721,
          0.859000027179718,
          0.40299999713897705,
          0.5460000038146973,
          0.902999997138977,
          0.4480000138282776,
          0.08500000089406967,
          0.5070000290870667,
          0.4339999854564667,
          0.7049999833106995,
          0.7519999742507935,
          0.15399999916553497,
          0.6200000047683716,
          0.8230000138282776,
          0.40299999713897705,
          0.6430000066757202,
          0.7630000114440918,
          0.9100000262260437,
          0.8050000071525574,
          0.27399998903274536,
          0.753000020980835,
          0.10000000149011612,
          0.4819999933242798,
          0.2540000081062317,
          0.6729999780654907,
          0.5720000267028809,
          0.25699999928474426,
          0.4099999964237213,
          0.7179999947547913,
          0.9120000004768372,
          0.25099998712539673,
          0.3149999976158142,
          0.26100000739097595,
          0.25099998712539673,
          0.4659999907016754,
          0.5350000262260437,
          0.25,
          0.49900001287460327,
          0.4519999921321869,
          0.7020000219345093,
          0.6679999828338623,
          0.6949999928474426,
          0.46700000762939453,
          0.5260000228881836,
          0.9670000076293945,
          0.4050000011920929,
          0.47200000286102295,
          0.4620000123977661,
          0.4909999966621399,
          0.5659999847412109,
          0.05700000002980232,
          0.8980000019073486,
          0.7039999961853027,
          0.20399999618530273,
          0.18400000035762787,
          0.16200000047683716,
          0.828000009059906,
          0.19200000166893005,
          0.671999990940094,
          0.4740000069141388,
          0.8640000224113464,
          0.3799999952316284,
          0.6230000257492065,
          0.8569999933242798,
          0.6610000133514404,
          0.5849999785423279,
          0.550000011920929,
          0.3659999966621399,
          0.36399999260902405,
          0.3619999885559082,
          0.8429999947547913,
          0.9449999928474426,
          0.8040000200271606,
          0.8870000243186951,
          0.296999990940094,
          0.7459999918937683,
          0.11500000208616257,
          0.8379999995231628,
          0.6050000190734863,
          0.3440000116825104,
          0.8149999976158142,
          0.14300000667572021,
          0.25999999046325684,
          0.23800000548362732,
          0.6480000019073486,
          0.01899999938905239,
          0.5960000157356262,
          0.39399999380111694,
          0.06400000303983688,
          0.7900000214576721,
          0.5630000233650208,
          0.6269999742507935,
          0.3059999942779541,
          0.5899999737739563,
          0.6909999847412109,
          0.2630000114440918,
          0.8960000276565552,
          0.023000000044703484,
          0.13500000536441803,
          0.925000011920929
         ],
         "z": [
          0.25999999046325684,
          0.12200000137090683,
          0.03200000151991844,
          0.27300000190734863,
          0.008999999612569809,
          0.035999998450279236,
          0,
          0.18299999833106995,
          0.03099999949336052,
          0.38600000739097595,
          0.20499999821186066,
          0.003000000026077032,
          0.2619999945163727,
          0.014000000432133675,
          0.12999999523162842,
          0.3790000081062317,
          0.5329999923706055,
          0,
          0.46399998664855957,
          0.008999999612569809,
          0.5059999823570251,
          0.0020000000949949026,
          0.026000000536441803,
          0.032999999821186066,
          0.41499999165534973,
          0.164000004529953,
          0.0010000000474974513,
          0.02199999988079071,
          0,
          0,
          0.057999998331069946,
          0.08299999684095383,
          0.04399999976158142,
          0.03999999910593033,
          0.1809999942779541,
          0.0020000000949949026,
          0.023000000044703484,
          0.22300000488758087,
          0.17800000309944153,
          0.1979999989271164,
          0.3319999873638153,
          0.29600000381469727,
          0.19200000166893005,
          0.07500000298023224,
          0.6940000057220459,
          0.13099999725818634,
          0.1979999989271164,
          0.02199999988079071,
          0.0010000000474974513,
          0.07699999958276749,
          0,
          0.6790000200271606,
          0.0020000000949949026,
          0.017999999225139618,
          0.003000000026077032,
          0.024000000208616257,
          0.08399999886751175,
          0.017999999225139618,
          0.20399999618530273,
          0.20600000023841858,
          0.5730000138282776,
          0.013000000268220901,
          0.3310000002384186,
          0.6449999809265137,
          0.050999999046325684,
          0.20800000429153442,
          0.0010000000474974513,
          0.004999999888241291,
          0.004999999888241291,
          0.11800000071525574,
          0.5360000133514404,
          0.8159999847412109,
          0.5270000100135803,
          0.1379999965429306,
          0.02199999988079071,
          0.49799999594688416,
          0.007000000216066837,
          0.30399999022483826,
          0.24500000476837158,
          0.0020000000949949026,
          0.023000000044703484,
          0.012000000104308128,
          0.0010000000474974513,
          0.009999999776482582,
          0.08399999886751175,
          0,
          0.14900000393390656,
          0.11400000005960464,
          0.004000000189989805,
          0.36899998784065247,
          0.2849999964237213,
          0.061000000685453415,
          0.029999999329447746,
          0.3009999990463257,
          0.10100000351667404,
          0.026000000536441803,
          0.5360000133514404,
          0,
          0.014999999664723873,
          0.7379999756813049
         ]
        }
       ],
       "layout": {
        "template": {
         "data": {
          "bar": [
           {
            "error_x": {
             "color": "#2a3f5f"
            },
            "error_y": {
             "color": "#2a3f5f"
            },
            "marker": {
             "line": {
              "color": "#E5ECF6",
              "width": 0.5
             }
            },
            "type": "bar"
           }
          ],
          "barpolar": [
           {
            "marker": {
             "line": {
              "color": "#E5ECF6",
              "width": 0.5
             }
            },
            "type": "barpolar"
           }
          ],
          "carpet": [
           {
            "aaxis": {
             "endlinecolor": "#2a3f5f",
             "gridcolor": "white",
             "linecolor": "white",
             "minorgridcolor": "white",
             "startlinecolor": "#2a3f5f"
            },
            "baxis": {
             "endlinecolor": "#2a3f5f",
             "gridcolor": "white",
             "linecolor": "white",
             "minorgridcolor": "white",
             "startlinecolor": "#2a3f5f"
            },
            "type": "carpet"
           }
          ],
          "choropleth": [
           {
            "colorbar": {
             "outlinewidth": 0,
             "ticks": ""
            },
            "type": "choropleth"
           }
          ],
          "contour": [
           {
            "colorbar": {
             "outlinewidth": 0,
             "ticks": ""
            },
            "colorscale": [
             [
              0,
              "#0d0887"
             ],
             [
              0.1111111111111111,
              "#46039f"
             ],
             [
              0.2222222222222222,
              "#7201a8"
             ],
             [
              0.3333333333333333,
              "#9c179e"
             ],
             [
              0.4444444444444444,
              "#bd3786"
             ],
             [
              0.5555555555555556,
              "#d8576b"
             ],
             [
              0.6666666666666666,
              "#ed7953"
             ],
             [
              0.7777777777777778,
              "#fb9f3a"
             ],
             [
              0.8888888888888888,
              "#fdca26"
             ],
             [
              1,
              "#f0f921"
             ]
            ],
            "type": "contour"
           }
          ],
          "contourcarpet": [
           {
            "colorbar": {
             "outlinewidth": 0,
             "ticks": ""
            },
            "type": "contourcarpet"
           }
          ],
          "heatmap": [
           {
            "colorbar": {
             "outlinewidth": 0,
             "ticks": ""
            },
            "colorscale": [
             [
              0,
              "#0d0887"
             ],
             [
              0.1111111111111111,
              "#46039f"
             ],
             [
              0.2222222222222222,
              "#7201a8"
             ],
             [
              0.3333333333333333,
              "#9c179e"
             ],
             [
              0.4444444444444444,
              "#bd3786"
             ],
             [
              0.5555555555555556,
              "#d8576b"
             ],
             [
              0.6666666666666666,
              "#ed7953"
             ],
             [
              0.7777777777777778,
              "#fb9f3a"
             ],
             [
              0.8888888888888888,
              "#fdca26"
             ],
             [
              1,
              "#f0f921"
             ]
            ],
            "type": "heatmap"
           }
          ],
          "heatmapgl": [
           {
            "colorbar": {
             "outlinewidth": 0,
             "ticks": ""
            },
            "colorscale": [
             [
              0,
              "#0d0887"
             ],
             [
              0.1111111111111111,
              "#46039f"
             ],
             [
              0.2222222222222222,
              "#7201a8"
             ],
             [
              0.3333333333333333,
              "#9c179e"
             ],
             [
              0.4444444444444444,
              "#bd3786"
             ],
             [
              0.5555555555555556,
              "#d8576b"
             ],
             [
              0.6666666666666666,
              "#ed7953"
             ],
             [
              0.7777777777777778,
              "#fb9f3a"
             ],
             [
              0.8888888888888888,
              "#fdca26"
             ],
             [
              1,
              "#f0f921"
             ]
            ],
            "type": "heatmapgl"
           }
          ],
          "histogram": [
           {
            "marker": {
             "colorbar": {
              "outlinewidth": 0,
              "ticks": ""
             }
            },
            "type": "histogram"
           }
          ],
          "histogram2d": [
           {
            "colorbar": {
             "outlinewidth": 0,
             "ticks": ""
            },
            "colorscale": [
             [
              0,
              "#0d0887"
             ],
             [
              0.1111111111111111,
              "#46039f"
             ],
             [
              0.2222222222222222,
              "#7201a8"
             ],
             [
              0.3333333333333333,
              "#9c179e"
             ],
             [
              0.4444444444444444,
              "#bd3786"
             ],
             [
              0.5555555555555556,
              "#d8576b"
             ],
             [
              0.6666666666666666,
              "#ed7953"
             ],
             [
              0.7777777777777778,
              "#fb9f3a"
             ],
             [
              0.8888888888888888,
              "#fdca26"
             ],
             [
              1,
              "#f0f921"
             ]
            ],
            "type": "histogram2d"
           }
          ],
          "histogram2dcontour": [
           {
            "colorbar": {
             "outlinewidth": 0,
             "ticks": ""
            },
            "colorscale": [
             [
              0,
              "#0d0887"
             ],
             [
              0.1111111111111111,
              "#46039f"
             ],
             [
              0.2222222222222222,
              "#7201a8"
             ],
             [
              0.3333333333333333,
              "#9c179e"
             ],
             [
              0.4444444444444444,
              "#bd3786"
             ],
             [
              0.5555555555555556,
              "#d8576b"
             ],
             [
              0.6666666666666666,
              "#ed7953"
             ],
             [
              0.7777777777777778,
              "#fb9f3a"
             ],
             [
              0.8888888888888888,
              "#fdca26"
             ],
             [
              1,
              "#f0f921"
             ]
            ],
            "type": "histogram2dcontour"
           }
          ],
          "mesh3d": [
           {
            "colorbar": {
             "outlinewidth": 0,
             "ticks": ""
            },
            "type": "mesh3d"
           }
          ],
          "parcoords": [
           {
            "line": {
             "colorbar": {
              "outlinewidth": 0,
              "ticks": ""
             }
            },
            "type": "parcoords"
           }
          ],
          "pie": [
           {
            "automargin": true,
            "type": "pie"
           }
          ],
          "scatter": [
           {
            "marker": {
             "colorbar": {
              "outlinewidth": 0,
              "ticks": ""
             }
            },
            "type": "scatter"
           }
          ],
          "scatter3d": [
           {
            "line": {
             "colorbar": {
              "outlinewidth": 0,
              "ticks": ""
             }
            },
            "marker": {
             "colorbar": {
              "outlinewidth": 0,
              "ticks": ""
             }
            },
            "type": "scatter3d"
           }
          ],
          "scattercarpet": [
           {
            "marker": {
             "colorbar": {
              "outlinewidth": 0,
              "ticks": ""
             }
            },
            "type": "scattercarpet"
           }
          ],
          "scattergeo": [
           {
            "marker": {
             "colorbar": {
              "outlinewidth": 0,
              "ticks": ""
             }
            },
            "type": "scattergeo"
           }
          ],
          "scattergl": [
           {
            "marker": {
             "colorbar": {
              "outlinewidth": 0,
              "ticks": ""
             }
            },
            "type": "scattergl"
           }
          ],
          "scattermapbox": [
           {
            "marker": {
             "colorbar": {
              "outlinewidth": 0,
              "ticks": ""
             }
            },
            "type": "scattermapbox"
           }
          ],
          "scatterpolar": [
           {
            "marker": {
             "colorbar": {
              "outlinewidth": 0,
              "ticks": ""
             }
            },
            "type": "scatterpolar"
           }
          ],
          "scatterpolargl": [
           {
            "marker": {
             "colorbar": {
              "outlinewidth": 0,
              "ticks": ""
             }
            },
            "type": "scatterpolargl"
           }
          ],
          "scatterternary": [
           {
            "marker": {
             "colorbar": {
              "outlinewidth": 0,
              "ticks": ""
             }
            },
            "type": "scatterternary"
           }
          ],
          "surface": [
           {
            "colorbar": {
             "outlinewidth": 0,
             "ticks": ""
            },
            "colorscale": [
             [
              0,
              "#0d0887"
             ],
             [
              0.1111111111111111,
              "#46039f"
             ],
             [
              0.2222222222222222,
              "#7201a8"
             ],
             [
              0.3333333333333333,
              "#9c179e"
             ],
             [
              0.4444444444444444,
              "#bd3786"
             ],
             [
              0.5555555555555556,
              "#d8576b"
             ],
             [
              0.6666666666666666,
              "#ed7953"
             ],
             [
              0.7777777777777778,
              "#fb9f3a"
             ],
             [
              0.8888888888888888,
              "#fdca26"
             ],
             [
              1,
              "#f0f921"
             ]
            ],
            "type": "surface"
           }
          ],
          "table": [
           {
            "cells": {
             "fill": {
              "color": "#EBF0F8"
             },
             "line": {
              "color": "white"
             }
            },
            "header": {
             "fill": {
              "color": "#C8D4E3"
             },
             "line": {
              "color": "white"
             }
            },
            "type": "table"
           }
          ]
         },
         "layout": {
          "annotationdefaults": {
           "arrowcolor": "#2a3f5f",
           "arrowhead": 0,
           "arrowwidth": 1
          },
          "coloraxis": {
           "colorbar": {
            "outlinewidth": 0,
            "ticks": ""
           }
          },
          "colorscale": {
           "diverging": [
            [
             0,
             "#8e0152"
            ],
            [
             0.1,
             "#c51b7d"
            ],
            [
             0.2,
             "#de77ae"
            ],
            [
             0.3,
             "#f1b6da"
            ],
            [
             0.4,
             "#fde0ef"
            ],
            [
             0.5,
             "#f7f7f7"
            ],
            [
             0.6,
             "#e6f5d0"
            ],
            [
             0.7,
             "#b8e186"
            ],
            [
             0.8,
             "#7fbc41"
            ],
            [
             0.9,
             "#4d9221"
            ],
            [
             1,
             "#276419"
            ]
           ],
           "sequential": [
            [
             0,
             "#0d0887"
            ],
            [
             0.1111111111111111,
             "#46039f"
            ],
            [
             0.2222222222222222,
             "#7201a8"
            ],
            [
             0.3333333333333333,
             "#9c179e"
            ],
            [
             0.4444444444444444,
             "#bd3786"
            ],
            [
             0.5555555555555556,
             "#d8576b"
            ],
            [
             0.6666666666666666,
             "#ed7953"
            ],
            [
             0.7777777777777778,
             "#fb9f3a"
            ],
            [
             0.8888888888888888,
             "#fdca26"
            ],
            [
             1,
             "#f0f921"
            ]
           ],
           "sequentialminus": [
            [
             0,
             "#0d0887"
            ],
            [
             0.1111111111111111,
             "#46039f"
            ],
            [
             0.2222222222222222,
             "#7201a8"
            ],
            [
             0.3333333333333333,
             "#9c179e"
            ],
            [
             0.4444444444444444,
             "#bd3786"
            ],
            [
             0.5555555555555556,
             "#d8576b"
            ],
            [
             0.6666666666666666,
             "#ed7953"
            ],
            [
             0.7777777777777778,
             "#fb9f3a"
            ],
            [
             0.8888888888888888,
             "#fdca26"
            ],
            [
             1,
             "#f0f921"
            ]
           ]
          },
          "colorway": [
           "#636efa",
           "#EF553B",
           "#00cc96",
           "#ab63fa",
           "#FFA15A",
           "#19d3f3",
           "#FF6692",
           "#B6E880",
           "#FF97FF",
           "#FECB52"
          ],
          "font": {
           "color": "#2a3f5f"
          },
          "geo": {
           "bgcolor": "white",
           "lakecolor": "white",
           "landcolor": "#E5ECF6",
           "showlakes": true,
           "showland": true,
           "subunitcolor": "white"
          },
          "hoverlabel": {
           "align": "left"
          },
          "hovermode": "closest",
          "mapbox": {
           "style": "light"
          },
          "paper_bgcolor": "white",
          "plot_bgcolor": "#E5ECF6",
          "polar": {
           "angularaxis": {
            "gridcolor": "white",
            "linecolor": "white",
            "ticks": ""
           },
           "bgcolor": "#E5ECF6",
           "radialaxis": {
            "gridcolor": "white",
            "linecolor": "white",
            "ticks": ""
           }
          },
          "scene": {
           "xaxis": {
            "backgroundcolor": "#E5ECF6",
            "gridcolor": "white",
            "gridwidth": 2,
            "linecolor": "white",
            "showbackground": true,
            "ticks": "",
            "zerolinecolor": "white"
           },
           "yaxis": {
            "backgroundcolor": "#E5ECF6",
            "gridcolor": "white",
            "gridwidth": 2,
            "linecolor": "white",
            "showbackground": true,
            "ticks": "",
            "zerolinecolor": "white"
           },
           "zaxis": {
            "backgroundcolor": "#E5ECF6",
            "gridcolor": "white",
            "gridwidth": 2,
            "linecolor": "white",
            "showbackground": true,
            "ticks": "",
            "zerolinecolor": "white"
           }
          },
          "shapedefaults": {
           "line": {
            "color": "#2a3f5f"
           }
          },
          "ternary": {
           "aaxis": {
            "gridcolor": "white",
            "linecolor": "white",
            "ticks": ""
           },
           "baxis": {
            "gridcolor": "white",
            "linecolor": "white",
            "ticks": ""
           },
           "bgcolor": "#E5ECF6",
           "caxis": {
            "gridcolor": "white",
            "linecolor": "white",
            "ticks": ""
           }
          },
          "title": {
           "x": 0.05
          },
          "xaxis": {
           "automargin": true,
           "gridcolor": "white",
           "linecolor": "white",
           "ticks": "",
           "title": {
            "standoff": 15
           },
           "zerolinecolor": "white",
           "zerolinewidth": 2
          },
          "yaxis": {
           "automargin": true,
           "gridcolor": "white",
           "linecolor": "white",
           "ticks": "",
           "title": {
            "standoff": 15
           },
           "zerolinecolor": "white",
           "zerolinewidth": 2
          }
         }
        }
       }
      }
     },
     "metadata": {}
    }
   ],
   "source": [
    "x, y, tx, ty = load()\n",
    "\n",
    "fig = go.Figure().add_trace(go.Scatter3d(x=x[:,0], y=x[:,1], z=y[:,0], mode=\"markers\", name=\"feature 1\"))\n",
    "fig.add_trace(go.Scatter3d(x=x[:,0], y=x[:,1], z=y[:,1], mode=\"markers\",name=\"feature 2\"))\n",
    "fig.show()"
   ]
  },
  {
   "cell_type": "code",
   "execution_count": 237,
   "metadata": {
    "tags": []
   },
   "outputs": [
    {
     "output_type": "display_data",
     "data": {
      "application/vnd.plotly.v1+json": {
       "config": {
        "plotlyServerURL": "https://plot.ly"
       },
       "data": [
        {
         "alignmentgroup": "True",
         "hovertemplate": "x=%{x}<br>y=%{y}<extra></extra>",
         "legendgroup": "",
         "marker": {
          "color": "#636efa"
         },
         "name": "",
         "offsetgroup": "",
         "orientation": "v",
         "showlegend": false,
         "textposition": "auto",
         "type": "bar",
         "x": [
          0,
          1,
          2,
          3,
          4,
          5,
          6,
          7,
          8,
          9,
          10,
          11,
          12,
          13,
          14,
          15,
          16,
          17,
          18,
          19
         ],
         "xaxis": "x",
         "y": [
          49992,
          50002,
          49992,
          49998,
          50016,
          50002,
          50007,
          50008,
          49994,
          49993,
          49991,
          50019,
          49993,
          49991,
          49995,
          49992,
          49996,
          49991,
          50016,
          50012
         ],
         "yaxis": "y"
        }
       ],
       "layout": {
        "barmode": "relative",
        "legend": {
         "tracegroupgap": 0
        },
        "margin": {
         "t": 60
        },
        "template": {
         "data": {
          "bar": [
           {
            "error_x": {
             "color": "#2a3f5f"
            },
            "error_y": {
             "color": "#2a3f5f"
            },
            "marker": {
             "line": {
              "color": "#E5ECF6",
              "width": 0.5
             }
            },
            "type": "bar"
           }
          ],
          "barpolar": [
           {
            "marker": {
             "line": {
              "color": "#E5ECF6",
              "width": 0.5
             }
            },
            "type": "barpolar"
           }
          ],
          "carpet": [
           {
            "aaxis": {
             "endlinecolor": "#2a3f5f",
             "gridcolor": "white",
             "linecolor": "white",
             "minorgridcolor": "white",
             "startlinecolor": "#2a3f5f"
            },
            "baxis": {
             "endlinecolor": "#2a3f5f",
             "gridcolor": "white",
             "linecolor": "white",
             "minorgridcolor": "white",
             "startlinecolor": "#2a3f5f"
            },
            "type": "carpet"
           }
          ],
          "choropleth": [
           {
            "colorbar": {
             "outlinewidth": 0,
             "ticks": ""
            },
            "type": "choropleth"
           }
          ],
          "contour": [
           {
            "colorbar": {
             "outlinewidth": 0,
             "ticks": ""
            },
            "colorscale": [
             [
              0,
              "#0d0887"
             ],
             [
              0.1111111111111111,
              "#46039f"
             ],
             [
              0.2222222222222222,
              "#7201a8"
             ],
             [
              0.3333333333333333,
              "#9c179e"
             ],
             [
              0.4444444444444444,
              "#bd3786"
             ],
             [
              0.5555555555555556,
              "#d8576b"
             ],
             [
              0.6666666666666666,
              "#ed7953"
             ],
             [
              0.7777777777777778,
              "#fb9f3a"
             ],
             [
              0.8888888888888888,
              "#fdca26"
             ],
             [
              1,
              "#f0f921"
             ]
            ],
            "type": "contour"
           }
          ],
          "contourcarpet": [
           {
            "colorbar": {
             "outlinewidth": 0,
             "ticks": ""
            },
            "type": "contourcarpet"
           }
          ],
          "heatmap": [
           {
            "colorbar": {
             "outlinewidth": 0,
             "ticks": ""
            },
            "colorscale": [
             [
              0,
              "#0d0887"
             ],
             [
              0.1111111111111111,
              "#46039f"
             ],
             [
              0.2222222222222222,
              "#7201a8"
             ],
             [
              0.3333333333333333,
              "#9c179e"
             ],
             [
              0.4444444444444444,
              "#bd3786"
             ],
             [
              0.5555555555555556,
              "#d8576b"
             ],
             [
              0.6666666666666666,
              "#ed7953"
             ],
             [
              0.7777777777777778,
              "#fb9f3a"
             ],
             [
              0.8888888888888888,
              "#fdca26"
             ],
             [
              1,
              "#f0f921"
             ]
            ],
            "type": "heatmap"
           }
          ],
          "heatmapgl": [
           {
            "colorbar": {
             "outlinewidth": 0,
             "ticks": ""
            },
            "colorscale": [
             [
              0,
              "#0d0887"
             ],
             [
              0.1111111111111111,
              "#46039f"
             ],
             [
              0.2222222222222222,
              "#7201a8"
             ],
             [
              0.3333333333333333,
              "#9c179e"
             ],
             [
              0.4444444444444444,
              "#bd3786"
             ],
             [
              0.5555555555555556,
              "#d8576b"
             ],
             [
              0.6666666666666666,
              "#ed7953"
             ],
             [
              0.7777777777777778,
              "#fb9f3a"
             ],
             [
              0.8888888888888888,
              "#fdca26"
             ],
             [
              1,
              "#f0f921"
             ]
            ],
            "type": "heatmapgl"
           }
          ],
          "histogram": [
           {
            "marker": {
             "colorbar": {
              "outlinewidth": 0,
              "ticks": ""
             }
            },
            "type": "histogram"
           }
          ],
          "histogram2d": [
           {
            "colorbar": {
             "outlinewidth": 0,
             "ticks": ""
            },
            "colorscale": [
             [
              0,
              "#0d0887"
             ],
             [
              0.1111111111111111,
              "#46039f"
             ],
             [
              0.2222222222222222,
              "#7201a8"
             ],
             [
              0.3333333333333333,
              "#9c179e"
             ],
             [
              0.4444444444444444,
              "#bd3786"
             ],
             [
              0.5555555555555556,
              "#d8576b"
             ],
             [
              0.6666666666666666,
              "#ed7953"
             ],
             [
              0.7777777777777778,
              "#fb9f3a"
             ],
             [
              0.8888888888888888,
              "#fdca26"
             ],
             [
              1,
              "#f0f921"
             ]
            ],
            "type": "histogram2d"
           }
          ],
          "histogram2dcontour": [
           {
            "colorbar": {
             "outlinewidth": 0,
             "ticks": ""
            },
            "colorscale": [
             [
              0,
              "#0d0887"
             ],
             [
              0.1111111111111111,
              "#46039f"
             ],
             [
              0.2222222222222222,
              "#7201a8"
             ],
             [
              0.3333333333333333,
              "#9c179e"
             ],
             [
              0.4444444444444444,
              "#bd3786"
             ],
             [
              0.5555555555555556,
              "#d8576b"
             ],
             [
              0.6666666666666666,
              "#ed7953"
             ],
             [
              0.7777777777777778,
              "#fb9f3a"
             ],
             [
              0.8888888888888888,
              "#fdca26"
             ],
             [
              1,
              "#f0f921"
             ]
            ],
            "type": "histogram2dcontour"
           }
          ],
          "mesh3d": [
           {
            "colorbar": {
             "outlinewidth": 0,
             "ticks": ""
            },
            "type": "mesh3d"
           }
          ],
          "parcoords": [
           {
            "line": {
             "colorbar": {
              "outlinewidth": 0,
              "ticks": ""
             }
            },
            "type": "parcoords"
           }
          ],
          "pie": [
           {
            "automargin": true,
            "type": "pie"
           }
          ],
          "scatter": [
           {
            "marker": {
             "colorbar": {
              "outlinewidth": 0,
              "ticks": ""
             }
            },
            "type": "scatter"
           }
          ],
          "scatter3d": [
           {
            "line": {
             "colorbar": {
              "outlinewidth": 0,
              "ticks": ""
             }
            },
            "marker": {
             "colorbar": {
              "outlinewidth": 0,
              "ticks": ""
             }
            },
            "type": "scatter3d"
           }
          ],
          "scattercarpet": [
           {
            "marker": {
             "colorbar": {
              "outlinewidth": 0,
              "ticks": ""
             }
            },
            "type": "scattercarpet"
           }
          ],
          "scattergeo": [
           {
            "marker": {
             "colorbar": {
              "outlinewidth": 0,
              "ticks": ""
             }
            },
            "type": "scattergeo"
           }
          ],
          "scattergl": [
           {
            "marker": {
             "colorbar": {
              "outlinewidth": 0,
              "ticks": ""
             }
            },
            "type": "scattergl"
           }
          ],
          "scattermapbox": [
           {
            "marker": {
             "colorbar": {
              "outlinewidth": 0,
              "ticks": ""
             }
            },
            "type": "scattermapbox"
           }
          ],
          "scatterpolar": [
           {
            "marker": {
             "colorbar": {
              "outlinewidth": 0,
              "ticks": ""
             }
            },
            "type": "scatterpolar"
           }
          ],
          "scatterpolargl": [
           {
            "marker": {
             "colorbar": {
              "outlinewidth": 0,
              "ticks": ""
             }
            },
            "type": "scatterpolargl"
           }
          ],
          "scatterternary": [
           {
            "marker": {
             "colorbar": {
              "outlinewidth": 0,
              "ticks": ""
             }
            },
            "type": "scatterternary"
           }
          ],
          "surface": [
           {
            "colorbar": {
             "outlinewidth": 0,
             "ticks": ""
            },
            "colorscale": [
             [
              0,
              "#0d0887"
             ],
             [
              0.1111111111111111,
              "#46039f"
             ],
             [
              0.2222222222222222,
              "#7201a8"
             ],
             [
              0.3333333333333333,
              "#9c179e"
             ],
             [
              0.4444444444444444,
              "#bd3786"
             ],
             [
              0.5555555555555556,
              "#d8576b"
             ],
             [
              0.6666666666666666,
              "#ed7953"
             ],
             [
              0.7777777777777778,
              "#fb9f3a"
             ],
             [
              0.8888888888888888,
              "#fdca26"
             ],
             [
              1,
              "#f0f921"
             ]
            ],
            "type": "surface"
           }
          ],
          "table": [
           {
            "cells": {
             "fill": {
              "color": "#EBF0F8"
             },
             "line": {
              "color": "white"
             }
            },
            "header": {
             "fill": {
              "color": "#C8D4E3"
             },
             "line": {
              "color": "white"
             }
            },
            "type": "table"
           }
          ]
         },
         "layout": {
          "annotationdefaults": {
           "arrowcolor": "#2a3f5f",
           "arrowhead": 0,
           "arrowwidth": 1
          },
          "coloraxis": {
           "colorbar": {
            "outlinewidth": 0,
            "ticks": ""
           }
          },
          "colorscale": {
           "diverging": [
            [
             0,
             "#8e0152"
            ],
            [
             0.1,
             "#c51b7d"
            ],
            [
             0.2,
             "#de77ae"
            ],
            [
             0.3,
             "#f1b6da"
            ],
            [
             0.4,
             "#fde0ef"
            ],
            [
             0.5,
             "#f7f7f7"
            ],
            [
             0.6,
             "#e6f5d0"
            ],
            [
             0.7,
             "#b8e186"
            ],
            [
             0.8,
             "#7fbc41"
            ],
            [
             0.9,
             "#4d9221"
            ],
            [
             1,
             "#276419"
            ]
           ],
           "sequential": [
            [
             0,
             "#0d0887"
            ],
            [
             0.1111111111111111,
             "#46039f"
            ],
            [
             0.2222222222222222,
             "#7201a8"
            ],
            [
             0.3333333333333333,
             "#9c179e"
            ],
            [
             0.4444444444444444,
             "#bd3786"
            ],
            [
             0.5555555555555556,
             "#d8576b"
            ],
            [
             0.6666666666666666,
             "#ed7953"
            ],
            [
             0.7777777777777778,
             "#fb9f3a"
            ],
            [
             0.8888888888888888,
             "#fdca26"
            ],
            [
             1,
             "#f0f921"
            ]
           ],
           "sequentialminus": [
            [
             0,
             "#0d0887"
            ],
            [
             0.1111111111111111,
             "#46039f"
            ],
            [
             0.2222222222222222,
             "#7201a8"
            ],
            [
             0.3333333333333333,
             "#9c179e"
            ],
            [
             0.4444444444444444,
             "#bd3786"
            ],
            [
             0.5555555555555556,
             "#d8576b"
            ],
            [
             0.6666666666666666,
             "#ed7953"
            ],
            [
             0.7777777777777778,
             "#fb9f3a"
            ],
            [
             0.8888888888888888,
             "#fdca26"
            ],
            [
             1,
             "#f0f921"
            ]
           ]
          },
          "colorway": [
           "#636efa",
           "#EF553B",
           "#00cc96",
           "#ab63fa",
           "#FFA15A",
           "#19d3f3",
           "#FF6692",
           "#B6E880",
           "#FF97FF",
           "#FECB52"
          ],
          "font": {
           "color": "#2a3f5f"
          },
          "geo": {
           "bgcolor": "white",
           "lakecolor": "white",
           "landcolor": "#E5ECF6",
           "showlakes": true,
           "showland": true,
           "subunitcolor": "white"
          },
          "hoverlabel": {
           "align": "left"
          },
          "hovermode": "closest",
          "mapbox": {
           "style": "light"
          },
          "paper_bgcolor": "white",
          "plot_bgcolor": "#E5ECF6",
          "polar": {
           "angularaxis": {
            "gridcolor": "white",
            "linecolor": "white",
            "ticks": ""
           },
           "bgcolor": "#E5ECF6",
           "radialaxis": {
            "gridcolor": "white",
            "linecolor": "white",
            "ticks": ""
           }
          },
          "scene": {
           "xaxis": {
            "backgroundcolor": "#E5ECF6",
            "gridcolor": "white",
            "gridwidth": 2,
            "linecolor": "white",
            "showbackground": true,
            "ticks": "",
            "zerolinecolor": "white"
           },
           "yaxis": {
            "backgroundcolor": "#E5ECF6",
            "gridcolor": "white",
            "gridwidth": 2,
            "linecolor": "white",
            "showbackground": true,
            "ticks": "",
            "zerolinecolor": "white"
           },
           "zaxis": {
            "backgroundcolor": "#E5ECF6",
            "gridcolor": "white",
            "gridwidth": 2,
            "linecolor": "white",
            "showbackground": true,
            "ticks": "",
            "zerolinecolor": "white"
           }
          },
          "shapedefaults": {
           "line": {
            "color": "#2a3f5f"
           }
          },
          "ternary": {
           "aaxis": {
            "gridcolor": "white",
            "linecolor": "white",
            "ticks": ""
           },
           "baxis": {
            "gridcolor": "white",
            "linecolor": "white",
            "ticks": ""
           },
           "bgcolor": "#E5ECF6",
           "caxis": {
            "gridcolor": "white",
            "linecolor": "white",
            "ticks": ""
           }
          },
          "title": {
           "x": 0.05
          },
          "xaxis": {
           "automargin": true,
           "gridcolor": "white",
           "linecolor": "white",
           "ticks": "",
           "title": {
            "standoff": 15
           },
           "zerolinecolor": "white",
           "zerolinewidth": 2
          },
          "yaxis": {
           "automargin": true,
           "gridcolor": "white",
           "linecolor": "white",
           "ticks": "",
           "title": {
            "standoff": 15
           },
           "zerolinecolor": "white",
           "zerolinewidth": 2
          }
         }
        },
        "xaxis": {
         "anchor": "y",
         "domain": [
          0,
          1
         ],
         "title": {
          "text": "x"
         }
        },
        "yaxis": {
         "anchor": "x",
         "domain": [
          0,
          1
         ],
         "title": {
          "text": "y"
         }
        }
       }
      }
     },
     "metadata": {}
    },
    {
     "output_type": "display_data",
     "data": {
      "application/vnd.plotly.v1+json": {
       "config": {
        "plotlyServerURL": "https://plot.ly"
       },
       "data": [
        {
         "hovertemplate": "x=%{x}<br>y=%{y}<extra></extra>",
         "legendgroup": "",
         "marker": {
          "color": "#636efa",
          "symbol": "circle"
         },
         "mode": "markers",
         "name": "",
         "orientation": "v",
         "showlegend": false,
         "type": "scatter",
         "x": [
          0.8960000276565552,
          0.27900001406669617,
          0.3070000112056732,
          0.9739999771118164,
          0.0689999982714653,
          0.28999999165534973,
          0.014999999664723873,
          0.6859999895095825,
          0.2770000100135803,
          0.7429999709129333,
          0.43299999833106995,
          0.25099998712539673,
          0.6610000133514404,
          0.09600000083446503,
          0.7710000276565552,
          0.9919999837875366,
          0.9879999756813049,
          0.007000000216066837,
          0.6890000104904175,
          0.2280000001192093,
          0.8939999938011169,
          0.2759999930858612,
          0.22699999809265137,
          0.5419999957084656,
          0.9990000128746033,
          0.5299999713897705,
          0.0729999989271164,
          0.24400000274181366,
          0.0010000000474974513,
          0.012000000104308128,
          0.9829999804496765,
          0.8149999976158142,
          0.6309999823570251,
          0.6290000081062317,
          0.8029999732971191,
          0.06199999898672104,
          0.43799999356269836,
          0.9089999794960022,
          0.8600000143051147,
          0.460999995470047,
          0.7139999866485596,
          0.6100000143051147,
          0.8690000176429749,
          0.3659999966621399,
          0.7129999995231628,
          0.7649999856948853,
          0.8899999856948853,
          0.2160000056028366,
          0.039000000804662704,
          0.34299999475479126,
          0.2639999985694885,
          0.8149999976158142,
          0.03799999877810478,
          0.4830000102519989,
          0.1850000023841858,
          0.972000002861023,
          0.23899999260902405,
          0.5299999713897705,
          0.4950000047683716,
          0.9789999723434448,
          0.7360000014305115,
          0.20499999821186066,
          0.8270000219345093,
          0.8669999837875366,
          0.23199999332427979,
          0.6050000190734863,
          0.04500000178813934,
          0.12600000202655792,
          0.13500000536441803,
          0.9200000166893005,
          0.7239999771118164,
          0.9559999704360962,
          0.7839999794960022,
          0.2879999876022339,
          0.3490000069141388,
          0.8989999890327454,
          0.5580000281333923,
          0.4819999933242798,
          0.6520000100135803,
          0.0949999988079071,
          0.125,
          0.5759999752044678,
          0.06700000166893005,
          0.28600001335144043,
          0.3100000023841858,
          0.8500000238418579,
          0.4729999899864197,
          0.7049999833106995,
          0.9900000095367432,
          0.593999981880188,
          0.9089999794960022,
          0.27000001072883606,
          0.39899998903274536,
          0.847000002861023,
          0.3199999928474426,
          0.4449999928474426,
          0.6510000228881836,
          0.9169999957084656,
          0.7760000228881836,
          0.843999981880188
         ],
         "xaxis": "x",
         "y": [
          0.5400000214576721,
          0.859000027179718,
          0.40299999713897705,
          0.5460000038146973,
          0.902999997138977,
          0.4480000138282776,
          0.08500000089406967,
          0.5070000290870667,
          0.4339999854564667,
          0.7049999833106995,
          0.7519999742507935,
          0.15399999916553497,
          0.6200000047683716,
          0.8230000138282776,
          0.40299999713897705,
          0.6430000066757202,
          0.7630000114440918,
          0.9100000262260437,
          0.8050000071525574,
          0.27399998903274536,
          0.753000020980835,
          0.10000000149011612,
          0.4819999933242798,
          0.2540000081062317,
          0.6729999780654907,
          0.5720000267028809,
          0.25699999928474426,
          0.4099999964237213,
          0.7179999947547913,
          0.9120000004768372,
          0.25099998712539673,
          0.3149999976158142,
          0.26100000739097595,
          0.25099998712539673,
          0.4659999907016754,
          0.5350000262260437,
          0.25,
          0.49900001287460327,
          0.4519999921321869,
          0.7020000219345093,
          0.6679999828338623,
          0.6949999928474426,
          0.46700000762939453,
          0.5260000228881836,
          0.9670000076293945,
          0.4050000011920929,
          0.47200000286102295,
          0.4620000123977661,
          0.4909999966621399,
          0.5659999847412109,
          0.05700000002980232,
          0.8980000019073486,
          0.7039999961853027,
          0.20399999618530273,
          0.18400000035762787,
          0.16200000047683716,
          0.828000009059906,
          0.19200000166893005,
          0.671999990940094,
          0.4740000069141388,
          0.8640000224113464,
          0.3799999952316284,
          0.6230000257492065,
          0.8569999933242798,
          0.6610000133514404,
          0.5849999785423279,
          0.550000011920929,
          0.3659999966621399,
          0.36399999260902405,
          0.3619999885559082,
          0.8429999947547913,
          0.9449999928474426,
          0.8040000200271606,
          0.8870000243186951,
          0.296999990940094,
          0.7459999918937683,
          0.11500000208616257,
          0.8379999995231628,
          0.6050000190734863,
          0.3440000116825104,
          0.8149999976158142,
          0.14300000667572021,
          0.25999999046325684,
          0.23800000548362732,
          0.6480000019073486,
          0.01899999938905239,
          0.5960000157356262,
          0.39399999380111694,
          0.06400000303983688,
          0.7900000214576721,
          0.5630000233650208,
          0.6269999742507935,
          0.3059999942779541,
          0.5899999737739563,
          0.6909999847412109,
          0.2630000114440918,
          0.8960000276565552,
          0.023000000044703484,
          0.13500000536441803,
          0.925000011920929
         ],
         "yaxis": "y"
        },
        {
         "marker": {
          "size": 10
         },
         "mode": "markers",
         "name": "Node positions",
         "type": "scatter",
         "x": [
          0.520095705986023,
          0.5239262580871582,
          0.520771861076355,
          0.5217358469963074,
          0.5291993021965027,
          0.5226050019264221,
          0.5266128182411194,
          0.5244044065475464,
          0.5227189660072327,
          0.5220816731452942,
          0.520294189453125,
          0.5269548892974854,
          0.5213841795921326,
          0.521499752998352,
          0.5245911478996277,
          0.5244973301887512,
          0.5221400260925293,
          0.5228889584541321,
          0.5278722047805786,
          0.5241938233375549
         ],
         "y": [
          0.5185768604278564,
          0.5201171040534973,
          0.518183171749115,
          0.5205563306808472,
          0.5190004110336304,
          0.5213044285774231,
          0.5188717842102051,
          0.5216910243034363,
          0.5175166726112366,
          0.5180573463439941,
          0.5177374482154846,
          0.5221299529075623,
          0.5178870558738708,
          0.5142092704772949,
          0.516201913356781,
          0.5147301554679871,
          0.5191784501075745,
          0.5150611996650696,
          0.5203877091407776,
          0.5229267477989197
         ]
        }
       ],
       "layout": {
        "legend": {
         "tracegroupgap": 0
        },
        "template": {
         "data": {
          "bar": [
           {
            "error_x": {
             "color": "#2a3f5f"
            },
            "error_y": {
             "color": "#2a3f5f"
            },
            "marker": {
             "line": {
              "color": "#E5ECF6",
              "width": 0.5
             }
            },
            "type": "bar"
           }
          ],
          "barpolar": [
           {
            "marker": {
             "line": {
              "color": "#E5ECF6",
              "width": 0.5
             }
            },
            "type": "barpolar"
           }
          ],
          "carpet": [
           {
            "aaxis": {
             "endlinecolor": "#2a3f5f",
             "gridcolor": "white",
             "linecolor": "white",
             "minorgridcolor": "white",
             "startlinecolor": "#2a3f5f"
            },
            "baxis": {
             "endlinecolor": "#2a3f5f",
             "gridcolor": "white",
             "linecolor": "white",
             "minorgridcolor": "white",
             "startlinecolor": "#2a3f5f"
            },
            "type": "carpet"
           }
          ],
          "choropleth": [
           {
            "colorbar": {
             "outlinewidth": 0,
             "ticks": ""
            },
            "type": "choropleth"
           }
          ],
          "contour": [
           {
            "colorbar": {
             "outlinewidth": 0,
             "ticks": ""
            },
            "colorscale": [
             [
              0,
              "#0d0887"
             ],
             [
              0.1111111111111111,
              "#46039f"
             ],
             [
              0.2222222222222222,
              "#7201a8"
             ],
             [
              0.3333333333333333,
              "#9c179e"
             ],
             [
              0.4444444444444444,
              "#bd3786"
             ],
             [
              0.5555555555555556,
              "#d8576b"
             ],
             [
              0.6666666666666666,
              "#ed7953"
             ],
             [
              0.7777777777777778,
              "#fb9f3a"
             ],
             [
              0.8888888888888888,
              "#fdca26"
             ],
             [
              1,
              "#f0f921"
             ]
            ],
            "type": "contour"
           }
          ],
          "contourcarpet": [
           {
            "colorbar": {
             "outlinewidth": 0,
             "ticks": ""
            },
            "type": "contourcarpet"
           }
          ],
          "heatmap": [
           {
            "colorbar": {
             "outlinewidth": 0,
             "ticks": ""
            },
            "colorscale": [
             [
              0,
              "#0d0887"
             ],
             [
              0.1111111111111111,
              "#46039f"
             ],
             [
              0.2222222222222222,
              "#7201a8"
             ],
             [
              0.3333333333333333,
              "#9c179e"
             ],
             [
              0.4444444444444444,
              "#bd3786"
             ],
             [
              0.5555555555555556,
              "#d8576b"
             ],
             [
              0.6666666666666666,
              "#ed7953"
             ],
             [
              0.7777777777777778,
              "#fb9f3a"
             ],
             [
              0.8888888888888888,
              "#fdca26"
             ],
             [
              1,
              "#f0f921"
             ]
            ],
            "type": "heatmap"
           }
          ],
          "heatmapgl": [
           {
            "colorbar": {
             "outlinewidth": 0,
             "ticks": ""
            },
            "colorscale": [
             [
              0,
              "#0d0887"
             ],
             [
              0.1111111111111111,
              "#46039f"
             ],
             [
              0.2222222222222222,
              "#7201a8"
             ],
             [
              0.3333333333333333,
              "#9c179e"
             ],
             [
              0.4444444444444444,
              "#bd3786"
             ],
             [
              0.5555555555555556,
              "#d8576b"
             ],
             [
              0.6666666666666666,
              "#ed7953"
             ],
             [
              0.7777777777777778,
              "#fb9f3a"
             ],
             [
              0.8888888888888888,
              "#fdca26"
             ],
             [
              1,
              "#f0f921"
             ]
            ],
            "type": "heatmapgl"
           }
          ],
          "histogram": [
           {
            "marker": {
             "colorbar": {
              "outlinewidth": 0,
              "ticks": ""
             }
            },
            "type": "histogram"
           }
          ],
          "histogram2d": [
           {
            "colorbar": {
             "outlinewidth": 0,
             "ticks": ""
            },
            "colorscale": [
             [
              0,
              "#0d0887"
             ],
             [
              0.1111111111111111,
              "#46039f"
             ],
             [
              0.2222222222222222,
              "#7201a8"
             ],
             [
              0.3333333333333333,
              "#9c179e"
             ],
             [
              0.4444444444444444,
              "#bd3786"
             ],
             [
              0.5555555555555556,
              "#d8576b"
             ],
             [
              0.6666666666666666,
              "#ed7953"
             ],
             [
              0.7777777777777778,
              "#fb9f3a"
             ],
             [
              0.8888888888888888,
              "#fdca26"
             ],
             [
              1,
              "#f0f921"
             ]
            ],
            "type": "histogram2d"
           }
          ],
          "histogram2dcontour": [
           {
            "colorbar": {
             "outlinewidth": 0,
             "ticks": ""
            },
            "colorscale": [
             [
              0,
              "#0d0887"
             ],
             [
              0.1111111111111111,
              "#46039f"
             ],
             [
              0.2222222222222222,
              "#7201a8"
             ],
             [
              0.3333333333333333,
              "#9c179e"
             ],
             [
              0.4444444444444444,
              "#bd3786"
             ],
             [
              0.5555555555555556,
              "#d8576b"
             ],
             [
              0.6666666666666666,
              "#ed7953"
             ],
             [
              0.7777777777777778,
              "#fb9f3a"
             ],
             [
              0.8888888888888888,
              "#fdca26"
             ],
             [
              1,
              "#f0f921"
             ]
            ],
            "type": "histogram2dcontour"
           }
          ],
          "mesh3d": [
           {
            "colorbar": {
             "outlinewidth": 0,
             "ticks": ""
            },
            "type": "mesh3d"
           }
          ],
          "parcoords": [
           {
            "line": {
             "colorbar": {
              "outlinewidth": 0,
              "ticks": ""
             }
            },
            "type": "parcoords"
           }
          ],
          "pie": [
           {
            "automargin": true,
            "type": "pie"
           }
          ],
          "scatter": [
           {
            "marker": {
             "colorbar": {
              "outlinewidth": 0,
              "ticks": ""
             }
            },
            "type": "scatter"
           }
          ],
          "scatter3d": [
           {
            "line": {
             "colorbar": {
              "outlinewidth": 0,
              "ticks": ""
             }
            },
            "marker": {
             "colorbar": {
              "outlinewidth": 0,
              "ticks": ""
             }
            },
            "type": "scatter3d"
           }
          ],
          "scattercarpet": [
           {
            "marker": {
             "colorbar": {
              "outlinewidth": 0,
              "ticks": ""
             }
            },
            "type": "scattercarpet"
           }
          ],
          "scattergeo": [
           {
            "marker": {
             "colorbar": {
              "outlinewidth": 0,
              "ticks": ""
             }
            },
            "type": "scattergeo"
           }
          ],
          "scattergl": [
           {
            "marker": {
             "colorbar": {
              "outlinewidth": 0,
              "ticks": ""
             }
            },
            "type": "scattergl"
           }
          ],
          "scattermapbox": [
           {
            "marker": {
             "colorbar": {
              "outlinewidth": 0,
              "ticks": ""
             }
            },
            "type": "scattermapbox"
           }
          ],
          "scatterpolar": [
           {
            "marker": {
             "colorbar": {
              "outlinewidth": 0,
              "ticks": ""
             }
            },
            "type": "scatterpolar"
           }
          ],
          "scatterpolargl": [
           {
            "marker": {
             "colorbar": {
              "outlinewidth": 0,
              "ticks": ""
             }
            },
            "type": "scatterpolargl"
           }
          ],
          "scatterternary": [
           {
            "marker": {
             "colorbar": {
              "outlinewidth": 0,
              "ticks": ""
             }
            },
            "type": "scatterternary"
           }
          ],
          "surface": [
           {
            "colorbar": {
             "outlinewidth": 0,
             "ticks": ""
            },
            "colorscale": [
             [
              0,
              "#0d0887"
             ],
             [
              0.1111111111111111,
              "#46039f"
             ],
             [
              0.2222222222222222,
              "#7201a8"
             ],
             [
              0.3333333333333333,
              "#9c179e"
             ],
             [
              0.4444444444444444,
              "#bd3786"
             ],
             [
              0.5555555555555556,
              "#d8576b"
             ],
             [
              0.6666666666666666,
              "#ed7953"
             ],
             [
              0.7777777777777778,
              "#fb9f3a"
             ],
             [
              0.8888888888888888,
              "#fdca26"
             ],
             [
              1,
              "#f0f921"
             ]
            ],
            "type": "surface"
           }
          ],
          "table": [
           {
            "cells": {
             "fill": {
              "color": "#EBF0F8"
             },
             "line": {
              "color": "white"
             }
            },
            "header": {
             "fill": {
              "color": "#C8D4E3"
             },
             "line": {
              "color": "white"
             }
            },
            "type": "table"
           }
          ]
         },
         "layout": {
          "annotationdefaults": {
           "arrowcolor": "#2a3f5f",
           "arrowhead": 0,
           "arrowwidth": 1
          },
          "coloraxis": {
           "colorbar": {
            "outlinewidth": 0,
            "ticks": ""
           }
          },
          "colorscale": {
           "diverging": [
            [
             0,
             "#8e0152"
            ],
            [
             0.1,
             "#c51b7d"
            ],
            [
             0.2,
             "#de77ae"
            ],
            [
             0.3,
             "#f1b6da"
            ],
            [
             0.4,
             "#fde0ef"
            ],
            [
             0.5,
             "#f7f7f7"
            ],
            [
             0.6,
             "#e6f5d0"
            ],
            [
             0.7,
             "#b8e186"
            ],
            [
             0.8,
             "#7fbc41"
            ],
            [
             0.9,
             "#4d9221"
            ],
            [
             1,
             "#276419"
            ]
           ],
           "sequential": [
            [
             0,
             "#0d0887"
            ],
            [
             0.1111111111111111,
             "#46039f"
            ],
            [
             0.2222222222222222,
             "#7201a8"
            ],
            [
             0.3333333333333333,
             "#9c179e"
            ],
            [
             0.4444444444444444,
             "#bd3786"
            ],
            [
             0.5555555555555556,
             "#d8576b"
            ],
            [
             0.6666666666666666,
             "#ed7953"
            ],
            [
             0.7777777777777778,
             "#fb9f3a"
            ],
            [
             0.8888888888888888,
             "#fdca26"
            ],
            [
             1,
             "#f0f921"
            ]
           ],
           "sequentialminus": [
            [
             0,
             "#0d0887"
            ],
            [
             0.1111111111111111,
             "#46039f"
            ],
            [
             0.2222222222222222,
             "#7201a8"
            ],
            [
             0.3333333333333333,
             "#9c179e"
            ],
            [
             0.4444444444444444,
             "#bd3786"
            ],
            [
             0.5555555555555556,
             "#d8576b"
            ],
            [
             0.6666666666666666,
             "#ed7953"
            ],
            [
             0.7777777777777778,
             "#fb9f3a"
            ],
            [
             0.8888888888888888,
             "#fdca26"
            ],
            [
             1,
             "#f0f921"
            ]
           ]
          },
          "colorway": [
           "#636efa",
           "#EF553B",
           "#00cc96",
           "#ab63fa",
           "#FFA15A",
           "#19d3f3",
           "#FF6692",
           "#B6E880",
           "#FF97FF",
           "#FECB52"
          ],
          "font": {
           "color": "#2a3f5f"
          },
          "geo": {
           "bgcolor": "white",
           "lakecolor": "white",
           "landcolor": "#E5ECF6",
           "showlakes": true,
           "showland": true,
           "subunitcolor": "white"
          },
          "hoverlabel": {
           "align": "left"
          },
          "hovermode": "closest",
          "mapbox": {
           "style": "light"
          },
          "paper_bgcolor": "white",
          "plot_bgcolor": "#E5ECF6",
          "polar": {
           "angularaxis": {
            "gridcolor": "white",
            "linecolor": "white",
            "ticks": ""
           },
           "bgcolor": "#E5ECF6",
           "radialaxis": {
            "gridcolor": "white",
            "linecolor": "white",
            "ticks": ""
           }
          },
          "scene": {
           "xaxis": {
            "backgroundcolor": "#E5ECF6",
            "gridcolor": "white",
            "gridwidth": 2,
            "linecolor": "white",
            "showbackground": true,
            "ticks": "",
            "zerolinecolor": "white"
           },
           "yaxis": {
            "backgroundcolor": "#E5ECF6",
            "gridcolor": "white",
            "gridwidth": 2,
            "linecolor": "white",
            "showbackground": true,
            "ticks": "",
            "zerolinecolor": "white"
           },
           "zaxis": {
            "backgroundcolor": "#E5ECF6",
            "gridcolor": "white",
            "gridwidth": 2,
            "linecolor": "white",
            "showbackground": true,
            "ticks": "",
            "zerolinecolor": "white"
           }
          },
          "shapedefaults": {
           "line": {
            "color": "#2a3f5f"
           }
          },
          "ternary": {
           "aaxis": {
            "gridcolor": "white",
            "linecolor": "white",
            "ticks": ""
           },
           "baxis": {
            "gridcolor": "white",
            "linecolor": "white",
            "ticks": ""
           },
           "bgcolor": "#E5ECF6",
           "caxis": {
            "gridcolor": "white",
            "linecolor": "white",
            "ticks": ""
           }
          },
          "title": {
           "x": 0.05
          },
          "xaxis": {
           "automargin": true,
           "gridcolor": "white",
           "linecolor": "white",
           "ticks": "",
           "title": {
            "standoff": 15
           },
           "zerolinecolor": "white",
           "zerolinewidth": 2
          },
          "yaxis": {
           "automargin": true,
           "gridcolor": "white",
           "linecolor": "white",
           "ticks": "",
           "title": {
            "standoff": 15
           },
           "zerolinecolor": "white",
           "zerolinewidth": 2
          }
         }
        },
        "title": {
         "text": "Input space"
        },
        "xaxis": {
         "anchor": "y",
         "domain": [
          0,
          1
         ],
         "title": {
          "text": "x"
         }
        },
        "yaxis": {
         "anchor": "x",
         "domain": [
          0,
          1
         ],
         "title": {
          "text": "y"
         }
        }
       }
      }
     },
     "metadata": {}
    },
    {
     "output_type": "execute_result",
     "data": {
      "text/plain": "0.18213414070053766"
     },
     "metadata": {},
     "execution_count": 237
    }
   ],
   "source": [
    "n=20\n",
    "epochs=500\n",
    "\n",
    "RBFNet = RBF_Network(n, x, eta=1e-3, useDelta=True)\n",
    "wins = RBFNet.init_cl(x, 10000, 1e-4, useBias=True)\n",
    "\n",
    "meanFig = ex.bar(x=np.arange(len(wins)), y=wins.ravel())\n",
    "meanFig.show()\n",
    "\n",
    "clsFig = ex.scatter(x=x[:, 0], y=x[:,1],title=\"Input space\")\n",
    "clsFig.add_trace(go.Scatter(x=RBFNet.mean[:,0], y=RBFNet.mean[:,1], name=\"Node positions\", mode=\"markers\", marker_size=10))\n",
    "clsFig.show()\n",
    "\n",
    "RBFNet.train_network(epochs, x, y, tx, ty)\n",
    "RBFNet.validate(tx, ty, _plot=False)\n"
   ]
  },
  {
   "cell_type": "code",
   "execution_count": 228,
   "metadata": {
    "tags": []
   },
   "outputs": [
    {
     "output_type": "stream",
     "name": "stdout",
     "text": "0.0035079122\n10000\n0.0001\n"
    }
   ],
   "source": [
    "# Finding best CL initialization\n",
    "# bset epoch = 10 000\n",
    "# best eta = 1e-4\n",
    "# epochs = [10, 50, 100, 200, 500, 1000, 5000]\n",
    "epochs = [3000, 5000, 10000,]\n",
    "eta = [1e-2, 1e-3, 1e-4, 1e-5, 1e-6, 1e-7]\n",
    "\n",
    "min_dist = np.inf\n",
    "min_et = 0\n",
    "min_ep = 0\n",
    "\n",
    "for ep in epochs:\n",
    "    for et in eta:\n",
    "        RBFNet = RBF_Network(n, x)\n",
    "        RBFNet.init_cl(x, ep, et, useBias=True)\n",
    "\n",
    "        dist = []\n",
    "        for mu in RBFNet.mean:\n",
    "            err = np.sum(x - mu, axis=0)\n",
    "            dist.append(err)\n",
    "        dist = np.array(dist)\n",
    "        s = dist.sum()\n",
    "        if (s < min_dist):\n",
    "            min_dist = s\n",
    "            min_ep = ep\n",
    "            min_et = et\n",
    "\n",
    "print(min_dist)\n",
    "print(min_ep)\n",
    "print(min_et)    "
   ]
  },
  {
   "cell_type": "code",
   "execution_count": 236,
   "metadata": {},
   "outputs": [
    {
     "output_type": "error",
     "ename": "IndexError",
     "evalue": "index 20 is out of bounds for axis 0 with size 20",
     "traceback": [
      "\u001b[0;31m---------------------------------------------------------------------------\u001b[0m",
      "\u001b[0;31mIndexError\u001b[0m                                Traceback (most recent call last)",
      "\u001b[0;32m<ipython-input-236-9e6cb76d02b6>\u001b[0m in \u001b[0;36m<module>\u001b[0;34m\u001b[0m\n\u001b[1;32m     36\u001b[0m             \u001b[0mRBFNet\u001b[0m \u001b[0;34m=\u001b[0m \u001b[0mRBF_Network\u001b[0m\u001b[0;34m(\u001b[0m\u001b[0mn\u001b[0m\u001b[0;34m,\u001b[0m \u001b[0mx\u001b[0m\u001b[0;34m,\u001b[0m \u001b[0meta\u001b[0m\u001b[0;34m=\u001b[0m\u001b[0met\u001b[0m\u001b[0;34m,\u001b[0m \u001b[0museDelta\u001b[0m\u001b[0;34m=\u001b[0m\u001b[0;32mTrue\u001b[0m\u001b[0;34m)\u001b[0m\u001b[0;34m\u001b[0m\u001b[0;34m\u001b[0m\u001b[0m\n\u001b[1;32m     37\u001b[0m             \u001b[0mRBFNet\u001b[0m\u001b[0;34m.\u001b[0m\u001b[0mmean\u001b[0m \u001b[0;34m=\u001b[0m \u001b[0mbest_positions\u001b[0m\u001b[0;34m\u001b[0m\u001b[0;34m\u001b[0m\u001b[0m\n\u001b[0;32m---> 38\u001b[0;31m             \u001b[0mRBFNet\u001b[0m\u001b[0;34m.\u001b[0m\u001b[0mtrain_network\u001b[0m\u001b[0;34m(\u001b[0m\u001b[0mep\u001b[0m\u001b[0;34m,\u001b[0m \u001b[0mx\u001b[0m\u001b[0;34m,\u001b[0m \u001b[0my\u001b[0m\u001b[0;34m,\u001b[0m \u001b[0mtx\u001b[0m\u001b[0;34m,\u001b[0m \u001b[0mty\u001b[0m\u001b[0;34m)\u001b[0m\u001b[0;34m\u001b[0m\u001b[0;34m\u001b[0m\u001b[0m\n\u001b[0m\u001b[1;32m     39\u001b[0m             \u001b[0merr\u001b[0m \u001b[0;34m=\u001b[0m \u001b[0mRBFNet\u001b[0m\u001b[0;34m.\u001b[0m\u001b[0mvalidate\u001b[0m\u001b[0;34m(\u001b[0m\u001b[0mtx\u001b[0m\u001b[0;34m,\u001b[0m \u001b[0mty\u001b[0m\u001b[0;34m,\u001b[0m \u001b[0m_plot\u001b[0m\u001b[0;34m=\u001b[0m\u001b[0;32mFalse\u001b[0m\u001b[0;34m)\u001b[0m\u001b[0;34m\u001b[0m\u001b[0;34m\u001b[0m\u001b[0m\n\u001b[1;32m     40\u001b[0m \u001b[0;34m\u001b[0m\u001b[0m\n",
      "\u001b[0;32m<ipython-input-140-cc9e09bd3e6f>\u001b[0m in \u001b[0;36mtrain_network\u001b[0;34m(self, epochs, train_data, train_label, test_data, test_label)\u001b[0m\n\u001b[1;32m     47\u001b[0m \u001b[0;34m\u001b[0m\u001b[0m\n\u001b[1;32m     48\u001b[0m             \u001b[0;32mif\u001b[0m \u001b[0;34m(\u001b[0m\u001b[0mself\u001b[0m\u001b[0;34m.\u001b[0m\u001b[0museDelta\u001b[0m\u001b[0;34m)\u001b[0m\u001b[0;34m:\u001b[0m\u001b[0;34m\u001b[0m\u001b[0;34m\u001b[0m\u001b[0m\n\u001b[0;32m---> 49\u001b[0;31m                 \u001b[0mself\u001b[0m\u001b[0;34m.\u001b[0m\u001b[0mdelta_learning\u001b[0m\u001b[0;34m(\u001b[0m\u001b[0mtrain_data\u001b[0m\u001b[0;34m,\u001b[0m \u001b[0mtrain_targets\u001b[0m\u001b[0;34m,\u001b[0m \u001b[0mtest_data\u001b[0m\u001b[0;34m,\u001b[0m \u001b[0mtest_targets\u001b[0m\u001b[0;34m)\u001b[0m\u001b[0;34m\u001b[0m\u001b[0;34m\u001b[0m\u001b[0m\n\u001b[0m\u001b[1;32m     50\u001b[0m             \u001b[0;32melse\u001b[0m\u001b[0;34m:\u001b[0m\u001b[0;34m\u001b[0m\u001b[0;34m\u001b[0m\u001b[0m\n\u001b[1;32m     51\u001b[0m                 \u001b[0mself\u001b[0m\u001b[0;34m.\u001b[0m\u001b[0mlsqr\u001b[0m\u001b[0;34m(\u001b[0m\u001b[0mtrain_data\u001b[0m\u001b[0;34m,\u001b[0m \u001b[0mtrain_targets\u001b[0m\u001b[0;34m)\u001b[0m\u001b[0;34m\u001b[0m\u001b[0;34m\u001b[0m\u001b[0m\n",
      "\u001b[0;32m<ipython-input-140-cc9e09bd3e6f>\u001b[0m in \u001b[0;36mdelta_learning\u001b[0;34m(self, x, y, tx, ty)\u001b[0m\n\u001b[1;32m     89\u001b[0m         \u001b[0merrors\u001b[0m \u001b[0;34m=\u001b[0m \u001b[0mnp\u001b[0m\u001b[0;34m.\u001b[0m\u001b[0mzeros\u001b[0m\u001b[0;34m(\u001b[0m\u001b[0mlen\u001b[0m\u001b[0;34m(\u001b[0m\u001b[0mx\u001b[0m\u001b[0;34m)\u001b[0m\u001b[0;34m)\u001b[0m\u001b[0;34m\u001b[0m\u001b[0;34m\u001b[0m\u001b[0m\n\u001b[1;32m     90\u001b[0m         \u001b[0;32mfor\u001b[0m \u001b[0mi\u001b[0m \u001b[0;32min\u001b[0m \u001b[0mrange\u001b[0m\u001b[0;34m(\u001b[0m\u001b[0mlen\u001b[0m\u001b[0;34m(\u001b[0m\u001b[0mx\u001b[0m\u001b[0;34m)\u001b[0m\u001b[0;34m)\u001b[0m\u001b[0;34m:\u001b[0m\u001b[0;34m\u001b[0m\u001b[0;34m\u001b[0m\u001b[0m\n\u001b[0;32m---> 91\u001b[0;31m             \u001b[0mself\u001b[0m\u001b[0;34m.\u001b[0m\u001b[0mforward\u001b[0m\u001b[0;34m(\u001b[0m\u001b[0mx\u001b[0m\u001b[0;34m[\u001b[0m\u001b[0mi\u001b[0m\u001b[0;34m]\u001b[0m\u001b[0;34m)\u001b[0m\u001b[0;34m\u001b[0m\u001b[0;34m\u001b[0m\u001b[0m\n\u001b[0m\u001b[1;32m     92\u001b[0m             \u001b[0merror\u001b[0m \u001b[0;34m=\u001b[0m \u001b[0my\u001b[0m\u001b[0;34m[\u001b[0m\u001b[0mi\u001b[0m\u001b[0;34m]\u001b[0m \u001b[0;34m-\u001b[0m \u001b[0mself\u001b[0m\u001b[0;34m.\u001b[0m\u001b[0mf_of_x\u001b[0m\u001b[0;34m\u001b[0m\u001b[0;34m\u001b[0m\u001b[0m\n\u001b[1;32m     93\u001b[0m             \u001b[0mself\u001b[0m\u001b[0;34m.\u001b[0m\u001b[0mW\u001b[0m \u001b[0;34m+=\u001b[0m \u001b[0;34m(\u001b[0m\u001b[0mself\u001b[0m\u001b[0;34m.\u001b[0m\u001b[0meta\u001b[0m \u001b[0;34m*\u001b[0m \u001b[0merror\u001b[0m\u001b[0;34m)\u001b[0m\u001b[0;34m[\u001b[0m\u001b[0;36m0\u001b[0m\u001b[0;34m]\u001b[0m \u001b[0;34m*\u001b[0m \u001b[0mself\u001b[0m\u001b[0;34m.\u001b[0m\u001b[0mphi_of_x\u001b[0m\u001b[0;34m.\u001b[0m\u001b[0mT\u001b[0m\u001b[0;34m\u001b[0m\u001b[0;34m\u001b[0m\u001b[0m\n",
      "\u001b[0;32m<ipython-input-140-cc9e09bd3e6f>\u001b[0m in \u001b[0;36mforward\u001b[0;34m(self, x)\u001b[0m\n\u001b[1;32m     58\u001b[0m \u001b[0;34m\u001b[0m\u001b[0m\n\u001b[1;32m     59\u001b[0m     \u001b[0;32mdef\u001b[0m \u001b[0mforward\u001b[0m\u001b[0;34m(\u001b[0m\u001b[0mself\u001b[0m\u001b[0;34m,\u001b[0m \u001b[0mx\u001b[0m\u001b[0;34m)\u001b[0m\u001b[0;34m:\u001b[0m\u001b[0;34m\u001b[0m\u001b[0;34m\u001b[0m\u001b[0m\n\u001b[0;32m---> 60\u001b[0;31m         \u001b[0mself\u001b[0m\u001b[0;34m.\u001b[0m\u001b[0mphi_of_x\u001b[0m \u001b[0;34m=\u001b[0m \u001b[0mnp\u001b[0m\u001b[0;34m.\u001b[0m\u001b[0marray\u001b[0m\u001b[0;34m(\u001b[0m\u001b[0;34m[\u001b[0m\u001b[0mself\u001b[0m\u001b[0;34m.\u001b[0m\u001b[0mactivation_fxn\u001b[0m\u001b[0;34m(\u001b[0m\u001b[0mx\u001b[0m\u001b[0;34m,\u001b[0m \u001b[0mi\u001b[0m\u001b[0;34m)\u001b[0m \u001b[0;32mfor\u001b[0m \u001b[0mi\u001b[0m \u001b[0;32min\u001b[0m \u001b[0mrange\u001b[0m\u001b[0;34m(\u001b[0m\u001b[0mself\u001b[0m\u001b[0;34m.\u001b[0m\u001b[0mn\u001b[0m\u001b[0;34m)\u001b[0m\u001b[0;34m]\u001b[0m\u001b[0;34m)\u001b[0m\u001b[0;34m.\u001b[0m\u001b[0mT\u001b[0m\u001b[0;34m\u001b[0m\u001b[0;34m\u001b[0m\u001b[0m\n\u001b[0m\u001b[1;32m     61\u001b[0m         \u001b[0mself\u001b[0m\u001b[0;34m.\u001b[0m\u001b[0mf_of_x\u001b[0m\u001b[0;34m=\u001b[0m \u001b[0mself\u001b[0m\u001b[0;34m.\u001b[0m\u001b[0mphi_of_x\u001b[0m \u001b[0;34m@\u001b[0m \u001b[0mself\u001b[0m\u001b[0;34m.\u001b[0m\u001b[0mW\u001b[0m\u001b[0;34m\u001b[0m\u001b[0;34m\u001b[0m\u001b[0m\n\u001b[1;32m     62\u001b[0m \u001b[0;34m\u001b[0m\u001b[0m\n",
      "\u001b[0;32m<ipython-input-140-cc9e09bd3e6f>\u001b[0m in \u001b[0;36m<listcomp>\u001b[0;34m(.0)\u001b[0m\n\u001b[1;32m     58\u001b[0m \u001b[0;34m\u001b[0m\u001b[0m\n\u001b[1;32m     59\u001b[0m     \u001b[0;32mdef\u001b[0m \u001b[0mforward\u001b[0m\u001b[0;34m(\u001b[0m\u001b[0mself\u001b[0m\u001b[0;34m,\u001b[0m \u001b[0mx\u001b[0m\u001b[0;34m)\u001b[0m\u001b[0;34m:\u001b[0m\u001b[0;34m\u001b[0m\u001b[0;34m\u001b[0m\u001b[0m\n\u001b[0;32m---> 60\u001b[0;31m         \u001b[0mself\u001b[0m\u001b[0;34m.\u001b[0m\u001b[0mphi_of_x\u001b[0m \u001b[0;34m=\u001b[0m \u001b[0mnp\u001b[0m\u001b[0;34m.\u001b[0m\u001b[0marray\u001b[0m\u001b[0;34m(\u001b[0m\u001b[0;34m[\u001b[0m\u001b[0mself\u001b[0m\u001b[0;34m.\u001b[0m\u001b[0mactivation_fxn\u001b[0m\u001b[0;34m(\u001b[0m\u001b[0mx\u001b[0m\u001b[0;34m,\u001b[0m \u001b[0mi\u001b[0m\u001b[0;34m)\u001b[0m \u001b[0;32mfor\u001b[0m \u001b[0mi\u001b[0m \u001b[0;32min\u001b[0m \u001b[0mrange\u001b[0m\u001b[0;34m(\u001b[0m\u001b[0mself\u001b[0m\u001b[0;34m.\u001b[0m\u001b[0mn\u001b[0m\u001b[0;34m)\u001b[0m\u001b[0;34m]\u001b[0m\u001b[0;34m)\u001b[0m\u001b[0;34m.\u001b[0m\u001b[0mT\u001b[0m\u001b[0;34m\u001b[0m\u001b[0;34m\u001b[0m\u001b[0m\n\u001b[0m\u001b[1;32m     61\u001b[0m         \u001b[0mself\u001b[0m\u001b[0;34m.\u001b[0m\u001b[0mf_of_x\u001b[0m\u001b[0;34m=\u001b[0m \u001b[0mself\u001b[0m\u001b[0;34m.\u001b[0m\u001b[0mphi_of_x\u001b[0m \u001b[0;34m@\u001b[0m \u001b[0mself\u001b[0m\u001b[0;34m.\u001b[0m\u001b[0mW\u001b[0m\u001b[0;34m\u001b[0m\u001b[0;34m\u001b[0m\u001b[0m\n\u001b[1;32m     62\u001b[0m \u001b[0;34m\u001b[0m\u001b[0m\n",
      "\u001b[0;32m<ipython-input-140-cc9e09bd3e6f>\u001b[0m in \u001b[0;36mactivation_fxn\u001b[0;34m(self, x, i)\u001b[0m\n\u001b[1;32m     67\u001b[0m                 \u001b[0m_x\u001b[0m \u001b[0;34m=\u001b[0m \u001b[0mx\u001b[0m\u001b[0;34m.\u001b[0m\u001b[0mravel\u001b[0m\u001b[0;34m(\u001b[0m\u001b[0;34m)\u001b[0m\u001b[0;34m\u001b[0m\u001b[0;34m\u001b[0m\u001b[0m\n\u001b[1;32m     68\u001b[0m \u001b[0;34m\u001b[0m\u001b[0m\n\u001b[0;32m---> 69\u001b[0;31m         \u001b[0m_mu\u001b[0m \u001b[0;34m=\u001b[0m \u001b[0mself\u001b[0m\u001b[0;34m.\u001b[0m\u001b[0mmean\u001b[0m\u001b[0;34m[\u001b[0m\u001b[0mi\u001b[0m\u001b[0;34m]\u001b[0m\u001b[0;34m.\u001b[0m\u001b[0mravel\u001b[0m\u001b[0;34m(\u001b[0m\u001b[0;34m)\u001b[0m\u001b[0;34m\u001b[0m\u001b[0;34m\u001b[0m\u001b[0m\n\u001b[0m\u001b[1;32m     70\u001b[0m         \u001b[0m_std\u001b[0m \u001b[0;34m=\u001b[0m \u001b[0mself\u001b[0m\u001b[0;34m.\u001b[0m\u001b[0mstd\u001b[0m\u001b[0;34m[\u001b[0m\u001b[0mi\u001b[0m\u001b[0;34m]\u001b[0m\u001b[0;34m.\u001b[0m\u001b[0mravel\u001b[0m\u001b[0;34m(\u001b[0m\u001b[0;34m)\u001b[0m\u001b[0;34m\u001b[0m\u001b[0;34m\u001b[0m\u001b[0m\n\u001b[1;32m     71\u001b[0m \u001b[0;34m\u001b[0m\u001b[0m\n",
      "\u001b[0;31mIndexError\u001b[0m: index 20 is out of bounds for axis 0 with size 20"
     ]
    }
   ],
   "source": [
    "# Coarse search for best training settings\n",
    "np.random.seed(SEED)\n",
    "nodes=[5, 10, 15, 20, 25, 30]\n",
    "epochs=[10, 50, 100, 200, 500, 1000]\n",
    "eta=[1, 1e-1, 1e-2, 1e-3, 1e-4,1e-5]\n",
    "\n",
    "min_error = np.inf\n",
    "min_n = 0\n",
    "min_epoch=0\n",
    "min_eta = 0\n",
    "best_positions=np.array([\n",
    " [0.5200957,  0.51857686],\n",
    " [0.52392626, 0.5201171 ],\n",
    " [0.52077186, 0.5181832 ],\n",
    " [0.52173585, 0.52055633],\n",
    " [0.5291993 , 0.5190004 ],\n",
    " [0.522605  , 0.5213044 ],\n",
    " [0.5266128 , 0.5188718 ],\n",
    " [0.5244044 , 0.521691  ],\n",
    " [0.52271897, 0.5175167 ],\n",
    " [0.5220817 , 0.51805735],\n",
    " [0.5202942 , 0.51773745],\n",
    " [0.5269549 , 0.52212995],\n",
    " [0.5213842 , 0.51788706],\n",
    " [0.52149975, 0.5142093 ],\n",
    " [0.52459115, 0.5162019 ],\n",
    " [0.52449733, 0.51473016],\n",
    " [0.52214   , 0.51917845],\n",
    " [0.52288896, 0.5150612 ],\n",
    " [0.5278722 , 0.5203877 ],\n",
    " [0.5241938 , 0.52292675]])\n",
    "\n",
    "for n in nodes:\n",
    "    for ep in epochs:\n",
    "        for et in eta:\n",
    "            RBFNet = RBF_Network(n, x, eta=et, useDelta=True)\n",
    "            RBFNet.mean = best_positions\n",
    "            RBFNet.train_network(ep, x, y, tx, ty)\n",
    "            err = RBFNet.validate(tx, ty, _plot=False)\n",
    "\n",
    "            if err < min_error:\n",
    "                min_error = err\n",
    "                min_n = n\n",
    "                min_epoch = ep\n",
    "                min_eta = et\n",
    "\n",
    "print(min_error)\n",
    "print(min_n)\n",
    "print(min_ep)\n",
    "print(min_et)\n"
   ]
  },
  {
   "cell_type": "code",
   "execution_count": 238,
   "metadata": {},
   "outputs": [
    {
     "output_type": "display_data",
     "data": {
      "application/vnd.plotly.v1+json": {
       "config": {
        "plotlyServerURL": "https://plot.ly"
       },
       "data": [
        {
         "hovertemplate": "x=%{x}<br>y=%{y}<extra></extra>",
         "legendgroup": "",
         "marker": {
          "color": "#636efa",
          "symbol": "circle"
         },
         "mode": "markers",
         "name": "",
         "orientation": "v",
         "showlegend": false,
         "type": "scatter",
         "x": [
          0,
          1,
          2,
          3,
          4,
          5,
          6,
          7,
          8,
          9,
          10,
          11,
          12,
          13,
          14,
          15,
          16,
          17,
          18,
          19,
          20,
          21,
          22,
          23,
          24,
          25,
          26,
          27,
          28,
          29,
          30,
          31,
          32,
          33,
          34,
          35,
          36,
          37,
          38,
          39,
          40,
          41,
          42,
          43,
          44,
          45,
          46,
          47,
          48,
          49,
          50,
          51,
          52,
          53,
          54,
          55,
          56,
          57,
          58,
          59,
          60,
          61,
          62,
          63,
          64,
          65,
          66,
          67,
          68,
          69,
          70,
          71,
          72,
          73,
          74,
          75,
          76,
          77,
          78,
          79,
          80,
          81,
          82,
          83,
          84,
          85,
          86,
          87,
          88,
          89,
          90,
          91,
          92,
          93,
          94,
          95,
          96,
          97,
          98,
          99,
          100,
          101,
          102,
          103,
          104,
          105,
          106,
          107,
          108,
          109,
          110,
          111,
          112,
          113,
          114,
          115,
          116,
          117,
          118,
          119,
          120,
          121,
          122,
          123,
          124,
          125,
          126,
          127,
          128,
          129,
          130,
          131,
          132,
          133,
          134,
          135,
          136,
          137,
          138,
          139,
          140,
          141,
          142,
          143,
          144,
          145,
          146,
          147,
          148,
          149,
          150,
          151,
          152,
          153,
          154,
          155,
          156,
          157,
          158,
          159,
          160,
          161,
          162,
          163,
          164,
          165,
          166,
          167,
          168,
          169,
          170,
          171,
          172,
          173,
          174,
          175,
          176,
          177,
          178,
          179,
          180,
          181,
          182,
          183,
          184,
          185,
          186,
          187,
          188,
          189,
          190,
          191,
          192,
          193,
          194,
          195,
          196,
          197,
          198,
          199,
          200,
          201,
          202,
          203,
          204,
          205,
          206,
          207,
          208,
          209,
          210,
          211,
          212,
          213,
          214,
          215,
          216,
          217,
          218,
          219,
          220,
          221,
          222,
          223,
          224,
          225,
          226,
          227,
          228,
          229,
          230,
          231,
          232,
          233,
          234,
          235,
          236,
          237,
          238,
          239,
          240,
          241,
          242,
          243,
          244,
          245,
          246,
          247,
          248,
          249,
          250,
          251,
          252,
          253,
          254,
          255,
          256,
          257,
          258,
          259,
          260,
          261,
          262,
          263,
          264,
          265,
          266,
          267,
          268,
          269,
          270,
          271,
          272,
          273,
          274,
          275,
          276,
          277,
          278,
          279,
          280,
          281,
          282,
          283,
          284,
          285,
          286,
          287,
          288,
          289,
          290,
          291,
          292,
          293,
          294,
          295,
          296,
          297,
          298,
          299,
          300,
          301,
          302,
          303,
          304,
          305,
          306,
          307,
          308,
          309,
          310,
          311,
          312,
          313,
          314,
          315,
          316,
          317,
          318,
          319,
          320,
          321,
          322,
          323,
          324,
          325,
          326,
          327,
          328,
          329,
          330,
          331,
          332,
          333,
          334,
          335,
          336,
          337,
          338,
          339,
          340,
          341,
          342,
          343,
          344,
          345,
          346,
          347,
          348,
          349,
          350,
          351,
          352,
          353,
          354,
          355,
          356,
          357,
          358,
          359,
          360,
          361,
          362,
          363,
          364,
          365,
          366,
          367,
          368,
          369,
          370,
          371,
          372,
          373,
          374,
          375,
          376,
          377,
          378,
          379,
          380,
          381,
          382,
          383,
          384,
          385,
          386,
          387,
          388,
          389,
          390,
          391,
          392,
          393,
          394,
          395,
          396,
          397,
          398,
          399,
          400,
          401,
          402,
          403,
          404,
          405,
          406,
          407,
          408,
          409,
          410,
          411,
          412,
          413,
          414,
          415,
          416,
          417,
          418,
          419,
          420,
          421,
          422,
          423,
          424,
          425,
          426,
          427,
          428,
          429,
          430,
          431,
          432,
          433,
          434,
          435,
          436,
          437,
          438,
          439,
          440,
          441,
          442,
          443,
          444,
          445,
          446,
          447,
          448,
          449,
          450,
          451,
          452,
          453,
          454,
          455,
          456,
          457,
          458,
          459,
          460,
          461,
          462,
          463,
          464,
          465,
          466,
          467,
          468,
          469,
          470,
          471,
          472,
          473,
          474,
          475,
          476,
          477,
          478,
          479,
          480,
          481,
          482,
          483,
          484,
          485,
          486,
          487,
          488,
          489,
          490,
          491,
          492,
          493,
          494,
          495,
          496,
          497,
          498,
          499
         ],
         "xaxis": "x",
         "y": [
          0.4916070406351702,
          0.2081048330772153,
          0.18365276315259557,
          0.1808486036734297,
          0.1804661682615944,
          0.18040905378991742,
          0.18040020604268833,
          0.18039882248525552,
          0.18039859316512313,
          0.18039854232288322,
          0.18039851907688453,
          0.18039850009757447,
          0.1803984817779043,
          0.18039846356021014,
          0.18039844535828042,
          0.18039842715878826,
          0.18039840895967305,
          0.18039839076061676,
          0.18039837256157015,
          0.18039835436252538,
          0.18039833616348205,
          0.18039831796443906,
          0.18039829976539679,
          0.18039828156635515,
          0.1803982633673143,
          0.18039824516827413,
          0.18039822696923463,
          0.18039820877019558,
          0.1803981905711572,
          0.1803981723721195,
          0.18039815417308255,
          0.18039813597404614,
          0.18039811777501058,
          0.1803980995759754,
          0.1803980813769412,
          0.18039806317790752,
          0.18039804497887463,
          0.18039802677984246,
          0.18039800858081065,
          0.18039799038177956,
          0.1803979721827493,
          0.18039795398371944,
          0.18039793578469063,
          0.18039791758566245,
          0.18039789938663456,
          0.1803978811876077,
          0.1803978629885813,
          0.18039784478955564,
          0.1803978265905305,
          0.18039780839150624,
          0.1803977901924826,
          0.18039777199345916,
          0.18039775379443707,
          0.18039773559541517,
          0.180397717396394,
          0.18039769919737353,
          0.18039768099835374,
          0.18039766279933478,
          0.1803976446003163,
          0.18039762640129856,
          0.18039760820228157,
          0.1803975900032652,
          0.1803975718042494,
          0.18039755360523435,
          0.18039753540621978,
          0.18039751720720595,
          0.18039749900819263,
          0.1803974808091802,
          0.18039746261016856,
          0.18039744441115763,
          0.180397426212147,
          0.1803974080131373,
          0.18039738981412806,
          0.1803973716151198,
          0.18039735341611196,
          0.18039733521710485,
          0.18039731701809802,
          0.1803972988190922,
          0.18039728062008717,
          0.1803972624210825,
          0.18039724422207862,
          0.18039722602307542,
          0.18039720782407304,
          0.18039718962507106,
          0.1803971714260701,
          0.18039715322706942,
          0.1803971350280694,
          0.1803971168290706,
          0.18039709863007186,
          0.18039708043107397,
          0.18039706223207663,
          0.1803970440330803,
          0.18039702583408398,
          0.18039700763508887,
          0.18039698943609436,
          0.18039697123710052,
          0.18039695303810724,
          0.18039693483911468,
          0.1803969166401229,
          0.18039689844113152,
          0.18039688024214093,
          0.1803968620431509,
          0.1803968438441617,
          0.18039682564517315,
          0.18039680744618533,
          0.18039678924719801,
          0.18039677104821122,
          0.18039675284922535,
          0.18039673465024028,
          0.1803967164512555,
          0.1803966982522716,
          0.18039668005328807,
          0.1803966618543052,
          0.18039664365532349,
          0.18039662545634225,
          0.18039660725736162,
          0.18039658905838166,
          0.18039657085940214,
          0.18039655266042343,
          0.1803965344614454,
          0.18039651626246805,
          0.18039649806349145,
          0.18039647986451557,
          0.1803964616655402,
          0.18039644346656541,
          0.1803964252675913,
          0.18039640706861804,
          0.1803963888696454,
          0.18039637067067338,
          0.18039635247170194,
          0.18039633427273116,
          0.1803963160737612,
          0.18039629787479158,
          0.1803962796758228,
          0.18039626147685467,
          0.18039624327788728,
          0.1803962250789206,
          0.18039620687995456,
          0.18039618868098894,
          0.18039617048202441,
          0.1803961522830601,
          0.18039613408409688,
          0.18039611588513413,
          0.18039609768617187,
          0.18039607948721068,
          0.18039606128824992,
          0.18039604308928975,
          0.18039602489033046,
          0.18039600669137149,
          0.1803959884924132,
          0.18039597029345575,
          0.18039595209449885,
          0.18039593389554265,
          0.18039591569658708,
          0.18039589749763243,
          0.18039587929867829,
          0.18039586109972472,
          0.1803958429007719,
          0.18039582470181972,
          0.18039580650286818,
          0.18039578830391734,
          0.18039577010496732,
          0.18039575190601756,
          0.1803957337070689,
          0.1803957155081207,
          0.1803956973091732,
          0.1803956791102262,
          0.18039566091127998,
          0.18039564271233455,
          0.18039562451338964,
          0.18039560631444515,
          0.1803955881155018,
          0.1803955699165588,
          0.1803955517176166,
          0.18039553351867493,
          0.18039551531973408,
          0.18039549712079384,
          0.18039547892185442,
          0.18039546072291543,
          0.1803954425239772,
          0.18039542432503974,
          0.18039540612610264,
          0.18039538792716645,
          0.18039536972823067,
          0.1803953515292958,
          0.1803953333303614,
          0.18039531513142812,
          0.18039529693249506,
          0.1803952787335626,
          0.18039526053463092,
          0.1803952423356999,
          0.1803952241367696,
          0.18039520593783984,
          0.180395187738911,
          0.18039516953998241,
          0.18039515134105497,
          0.18039513314212793,
          0.18039511494320165,
          0.18039509674427598,
          0.18039507854535092,
          0.18039506034642663,
          0.18039504214750335,
          0.1803950239485801,
          0.18039500574965753,
          0.18039498755073577,
          0.18039496935181468,
          0.18039495115289428,
          0.18039493295397452,
          0.1803949147550556,
          0.18039489655613716,
          0.18039487835721948,
          0.18039486015830228,
          0.18039484195938602,
          0.1803948237604704,
          0.18039480556155538,
          0.18039478736264067,
          0.18039476916372693,
          0.18039475096481383,
          0.1803947327659015,
          0.18039471456698966,
          0.18039469636807873,
          0.18039467816916832,
          0.18039465997025828,
          0.18039464177134928,
          0.180394623572441,
          0.18039460537353313,
          0.1803945871746259,
          0.18039456897571957,
          0.18039455077681382,
          0.1803945325779086,
          0.18039451437900414,
          0.18039449618010017,
          0.18039447798119704,
          0.18039445978229451,
          0.1803944415833926,
          0.1803944233844914,
          0.18039440518559124,
          0.18039438698669127,
          0.18039436878779205,
          0.1803943505888933,
          0.18039433238999547,
          0.18039431419109847,
          0.18039429599220214,
          0.18039427779330597,
          0.18039425959441086,
          0.18039424139551638,
          0.18039422319662243,
          0.18039420499772946,
          0.18039418679883684,
          0.18039416859994478,
          0.18039415040105375,
          0.18039413220216294,
          0.18039411400327307,
          0.18039409580438392,
          0.18039407760549522,
          0.18039405940660735,
          0.1803940412077199,
          0.1803940230088334,
          0.18039400480994755,
          0.18039398661106243,
          0.18039396841217756,
          0.18039395021329366,
          0.1803939320144104,
          0.18039391381552805,
          0.18039389561664587,
          0.18039387741776447,
          0.18039385921888398,
          0.18039384102000372,
          0.18039382282112448,
          0.18039380462224602,
          0.18039378642336779,
          0.18039376822449069,
          0.1803937500256142,
          0.18039373182673799,
          0.18039371362786244,
          0.18039369542898798,
          0.18039367723011396,
          0.1803936590312407,
          0.18039364083236797,
          0.18039362263349573,
          0.18039360443462452,
          0.1803935862357539,
          0.18039356803688378,
          0.1803935498380146,
          0.18039353163914576,
          0.18039351344027754,
          0.18039349524141035,
          0.18039347704254347,
          0.1803934588436774,
          0.18039344064481194,
          0.1803934224459473,
          0.1803934042470834,
          0.18039338604821992,
          0.18039336784935742,
          0.18039334965049506,
          0.1803933314516335,
          0.1803933132527729,
          0.18039329505391277,
          0.1803932768550533,
          0.18039325865619443,
          0.18039324045733643,
          0.18039322225847879,
          0.18039320405962198,
          0.18039318586076594,
          0.1803931676619106,
          0.1803931494630559,
          0.1803931312642015,
          0.18039311306534814,
          0.1803930948664951,
          0.1803930766676431,
          0.18039305846879156,
          0.18039304026994082,
          0.18039302207109065,
          0.18039300387224128,
          0.1803929856733922,
          0.1803929674745441,
          0.18039294927569682,
          0.1803929310768497,
          0.18039291287800366,
          0.18039289467915812,
          0.18039287648031316,
          0.18039285828146912,
          0.1803928400826255,
          0.18039282188378258,
          0.18039280368494054,
          0.18039278548609908,
          0.18039276728725823,
          0.18039274908841768,
          0.1803927308895782,
          0.18039271269073923,
          0.18039269449190098,
          0.18039267629306327,
          0.18039265809422644,
          0.18039263989539023,
          0.18039262169655448,
          0.18039260349771954,
          0.18039258529888538,
          0.1803925671000517,
          0.1803925489012189,
          0.1803925307023865,
          0.18039251250355487,
          0.18039249430472398,
          0.18039247610589368,
          0.18039245790706393,
          0.1803924397082351,
          0.18039242150940676,
          0.1803924033105792,
          0.18039238511175223,
          0.18039236691292587,
          0.18039234871409995,
          0.18039233051527515,
          0.18039231231645073,
          0.18039229411762725,
          0.18039227591880422,
          0.18039225771998177,
          0.1803922395211601,
          0.18039222132233912,
          0.18039220312351867,
          0.1803921849246989,
          0.18039216672588015,
          0.18039214852706148,
          0.18039213032824392,
          0.18039211212942696,
          0.18039209393061045,
          0.18039207573179478,
          0.1803920575329795,
          0.18039203933416517,
          0.18039202113535147,
          0.18039200293653834,
          0.180391984737726,
          0.1803919665389142,
          0.18039194834010325,
          0.18039193014129268,
          0.18039191194248308,
          0.18039189374367381,
          0.18039187554486524,
          0.18039185734605745,
          0.18039183914725057,
          0.18039182094844416,
          0.18039180274963823,
          0.18039178455083316,
          0.1803917663520286,
          0.18039174815322478,
          0.18039172995442165,
          0.1803917117556193,
          0.18039169355681747,
          0.18039167535801615,
          0.18039165715921598,
          0.180391638960416,
          0.18039162076161674,
          0.1803916025628184,
          0.18039158436402045,
          0.18039156616522312,
          0.1803915479664266,
          0.18039152976763095,
          0.18039151156883573,
          0.18039149337004134,
          0.18039147517124743,
          0.18039145697245423,
          0.18039143877366157,
          0.18039142057486962,
          0.1803914023760786,
          0.18039138417728792,
          0.18039136597849798,
          0.18039134777970875,
          0.18039132958092025,
          0.18039131138213224,
          0.1803912931833451,
          0.18039127498455865,
          0.18039125678577272,
          0.18039123858698733,
          0.18039122038820288,
          0.18039120218941881,
          0.18039118399063545,
          0.18039116579185296,
          0.18039114759307112,
          0.1803911293942898,
          0.1803911111955092,
          0.1803910929967292,
          0.18039107479794997,
          0.18039105659917115,
          0.1803910384003932,
          0.18039102020161568,
          0.18039100200283886,
          0.1803909838040633,
          0.18039096560528797,
          0.18039094740651337,
          0.18039092920773916,
          0.18039091100896593,
          0.18039089281019308,
          0.18039087461142114,
          0.18039085641264982,
          0.18039083821387897,
          0.18039082001510898,
          0.18039080181633993,
          0.18039078361757085,
          0.18039076541880308,
          0.1803907472200357,
          0.18039072902126896,
          0.18039071082250285,
          0.1803906926237375,
          0.18039067442497272,
          0.18039065622620878,
          0.18039063802744548,
          0.18039061982868274,
          0.18039060162992043,
          0.1803905834311589,
          0.18039056523239833,
          0.18039054703363835,
          0.1803905288348788,
          0.1803905106361197,
          0.1803904924373618,
          0.18039047423860463,
          0.18039045603984782,
          0.18039043784109185,
          0.1803904196423364,
          0.1803904014435814,
          0.18039038324482704,
          0.18039036504607364,
          0.18039034684732078,
          0.18039032864856874,
          0.1803903104498173,
          0.18039029225106643,
          0.18039027405231634,
          0.1803902558535668,
          0.18039023765481815,
          0.18039021945606973,
          0.1803902012573223,
          0.1803901830585755,
          0.1803901648598292,
          0.18039014666108344,
          0.18039012846233882,
          0.1803901102635946,
          0.18039009206485127,
          0.1803900738661085,
          0.1803900556673662,
          0.1803900374686246,
          0.18039001926988377,
          0.18039000107114347,
          0.18038998287240385,
          0.18038996467366494,
          0.1803899464749267,
          0.18038992827618916,
          0.18038991007745217,
          0.18038989187871585,
          0.1803898736799802,
          0.18038985548124536,
          0.18038983728251107,
          0.1803898190837775,
          0.18038980088504475,
          0.18038978268631253,
          0.18038976448758054,
          0.18038974628884938,
          0.18038972809011938,
          0.18038970989138986,
          0.1803896916926609,
          0.1803896734939324,
          0.18038965529520493,
          0.18038963709647787,
          0.1803896188977516
         ],
         "yaxis": "y"
        }
       ],
       "layout": {
        "legend": {
         "tracegroupgap": 0
        },
        "template": {
         "data": {
          "bar": [
           {
            "error_x": {
             "color": "#2a3f5f"
            },
            "error_y": {
             "color": "#2a3f5f"
            },
            "marker": {
             "line": {
              "color": "#E5ECF6",
              "width": 0.5
             }
            },
            "type": "bar"
           }
          ],
          "barpolar": [
           {
            "marker": {
             "line": {
              "color": "#E5ECF6",
              "width": 0.5
             }
            },
            "type": "barpolar"
           }
          ],
          "carpet": [
           {
            "aaxis": {
             "endlinecolor": "#2a3f5f",
             "gridcolor": "white",
             "linecolor": "white",
             "minorgridcolor": "white",
             "startlinecolor": "#2a3f5f"
            },
            "baxis": {
             "endlinecolor": "#2a3f5f",
             "gridcolor": "white",
             "linecolor": "white",
             "minorgridcolor": "white",
             "startlinecolor": "#2a3f5f"
            },
            "type": "carpet"
           }
          ],
          "choropleth": [
           {
            "colorbar": {
             "outlinewidth": 0,
             "ticks": ""
            },
            "type": "choropleth"
           }
          ],
          "contour": [
           {
            "colorbar": {
             "outlinewidth": 0,
             "ticks": ""
            },
            "colorscale": [
             [
              0,
              "#0d0887"
             ],
             [
              0.1111111111111111,
              "#46039f"
             ],
             [
              0.2222222222222222,
              "#7201a8"
             ],
             [
              0.3333333333333333,
              "#9c179e"
             ],
             [
              0.4444444444444444,
              "#bd3786"
             ],
             [
              0.5555555555555556,
              "#d8576b"
             ],
             [
              0.6666666666666666,
              "#ed7953"
             ],
             [
              0.7777777777777778,
              "#fb9f3a"
             ],
             [
              0.8888888888888888,
              "#fdca26"
             ],
             [
              1,
              "#f0f921"
             ]
            ],
            "type": "contour"
           }
          ],
          "contourcarpet": [
           {
            "colorbar": {
             "outlinewidth": 0,
             "ticks": ""
            },
            "type": "contourcarpet"
           }
          ],
          "heatmap": [
           {
            "colorbar": {
             "outlinewidth": 0,
             "ticks": ""
            },
            "colorscale": [
             [
              0,
              "#0d0887"
             ],
             [
              0.1111111111111111,
              "#46039f"
             ],
             [
              0.2222222222222222,
              "#7201a8"
             ],
             [
              0.3333333333333333,
              "#9c179e"
             ],
             [
              0.4444444444444444,
              "#bd3786"
             ],
             [
              0.5555555555555556,
              "#d8576b"
             ],
             [
              0.6666666666666666,
              "#ed7953"
             ],
             [
              0.7777777777777778,
              "#fb9f3a"
             ],
             [
              0.8888888888888888,
              "#fdca26"
             ],
             [
              1,
              "#f0f921"
             ]
            ],
            "type": "heatmap"
           }
          ],
          "heatmapgl": [
           {
            "colorbar": {
             "outlinewidth": 0,
             "ticks": ""
            },
            "colorscale": [
             [
              0,
              "#0d0887"
             ],
             [
              0.1111111111111111,
              "#46039f"
             ],
             [
              0.2222222222222222,
              "#7201a8"
             ],
             [
              0.3333333333333333,
              "#9c179e"
             ],
             [
              0.4444444444444444,
              "#bd3786"
             ],
             [
              0.5555555555555556,
              "#d8576b"
             ],
             [
              0.6666666666666666,
              "#ed7953"
             ],
             [
              0.7777777777777778,
              "#fb9f3a"
             ],
             [
              0.8888888888888888,
              "#fdca26"
             ],
             [
              1,
              "#f0f921"
             ]
            ],
            "type": "heatmapgl"
           }
          ],
          "histogram": [
           {
            "marker": {
             "colorbar": {
              "outlinewidth": 0,
              "ticks": ""
             }
            },
            "type": "histogram"
           }
          ],
          "histogram2d": [
           {
            "colorbar": {
             "outlinewidth": 0,
             "ticks": ""
            },
            "colorscale": [
             [
              0,
              "#0d0887"
             ],
             [
              0.1111111111111111,
              "#46039f"
             ],
             [
              0.2222222222222222,
              "#7201a8"
             ],
             [
              0.3333333333333333,
              "#9c179e"
             ],
             [
              0.4444444444444444,
              "#bd3786"
             ],
             [
              0.5555555555555556,
              "#d8576b"
             ],
             [
              0.6666666666666666,
              "#ed7953"
             ],
             [
              0.7777777777777778,
              "#fb9f3a"
             ],
             [
              0.8888888888888888,
              "#fdca26"
             ],
             [
              1,
              "#f0f921"
             ]
            ],
            "type": "histogram2d"
           }
          ],
          "histogram2dcontour": [
           {
            "colorbar": {
             "outlinewidth": 0,
             "ticks": ""
            },
            "colorscale": [
             [
              0,
              "#0d0887"
             ],
             [
              0.1111111111111111,
              "#46039f"
             ],
             [
              0.2222222222222222,
              "#7201a8"
             ],
             [
              0.3333333333333333,
              "#9c179e"
             ],
             [
              0.4444444444444444,
              "#bd3786"
             ],
             [
              0.5555555555555556,
              "#d8576b"
             ],
             [
              0.6666666666666666,
              "#ed7953"
             ],
             [
              0.7777777777777778,
              "#fb9f3a"
             ],
             [
              0.8888888888888888,
              "#fdca26"
             ],
             [
              1,
              "#f0f921"
             ]
            ],
            "type": "histogram2dcontour"
           }
          ],
          "mesh3d": [
           {
            "colorbar": {
             "outlinewidth": 0,
             "ticks": ""
            },
            "type": "mesh3d"
           }
          ],
          "parcoords": [
           {
            "line": {
             "colorbar": {
              "outlinewidth": 0,
              "ticks": ""
             }
            },
            "type": "parcoords"
           }
          ],
          "pie": [
           {
            "automargin": true,
            "type": "pie"
           }
          ],
          "scatter": [
           {
            "marker": {
             "colorbar": {
              "outlinewidth": 0,
              "ticks": ""
             }
            },
            "type": "scatter"
           }
          ],
          "scatter3d": [
           {
            "line": {
             "colorbar": {
              "outlinewidth": 0,
              "ticks": ""
             }
            },
            "marker": {
             "colorbar": {
              "outlinewidth": 0,
              "ticks": ""
             }
            },
            "type": "scatter3d"
           }
          ],
          "scattercarpet": [
           {
            "marker": {
             "colorbar": {
              "outlinewidth": 0,
              "ticks": ""
             }
            },
            "type": "scattercarpet"
           }
          ],
          "scattergeo": [
           {
            "marker": {
             "colorbar": {
              "outlinewidth": 0,
              "ticks": ""
             }
            },
            "type": "scattergeo"
           }
          ],
          "scattergl": [
           {
            "marker": {
             "colorbar": {
              "outlinewidth": 0,
              "ticks": ""
             }
            },
            "type": "scattergl"
           }
          ],
          "scattermapbox": [
           {
            "marker": {
             "colorbar": {
              "outlinewidth": 0,
              "ticks": ""
             }
            },
            "type": "scattermapbox"
           }
          ],
          "scatterpolar": [
           {
            "marker": {
             "colorbar": {
              "outlinewidth": 0,
              "ticks": ""
             }
            },
            "type": "scatterpolar"
           }
          ],
          "scatterpolargl": [
           {
            "marker": {
             "colorbar": {
              "outlinewidth": 0,
              "ticks": ""
             }
            },
            "type": "scatterpolargl"
           }
          ],
          "scatterternary": [
           {
            "marker": {
             "colorbar": {
              "outlinewidth": 0,
              "ticks": ""
             }
            },
            "type": "scatterternary"
           }
          ],
          "surface": [
           {
            "colorbar": {
             "outlinewidth": 0,
             "ticks": ""
            },
            "colorscale": [
             [
              0,
              "#0d0887"
             ],
             [
              0.1111111111111111,
              "#46039f"
             ],
             [
              0.2222222222222222,
              "#7201a8"
             ],
             [
              0.3333333333333333,
              "#9c179e"
             ],
             [
              0.4444444444444444,
              "#bd3786"
             ],
             [
              0.5555555555555556,
              "#d8576b"
             ],
             [
              0.6666666666666666,
              "#ed7953"
             ],
             [
              0.7777777777777778,
              "#fb9f3a"
             ],
             [
              0.8888888888888888,
              "#fdca26"
             ],
             [
              1,
              "#f0f921"
             ]
            ],
            "type": "surface"
           }
          ],
          "table": [
           {
            "cells": {
             "fill": {
              "color": "#EBF0F8"
             },
             "line": {
              "color": "white"
             }
            },
            "header": {
             "fill": {
              "color": "#C8D4E3"
             },
             "line": {
              "color": "white"
             }
            },
            "type": "table"
           }
          ]
         },
         "layout": {
          "annotationdefaults": {
           "arrowcolor": "#2a3f5f",
           "arrowhead": 0,
           "arrowwidth": 1
          },
          "coloraxis": {
           "colorbar": {
            "outlinewidth": 0,
            "ticks": ""
           }
          },
          "colorscale": {
           "diverging": [
            [
             0,
             "#8e0152"
            ],
            [
             0.1,
             "#c51b7d"
            ],
            [
             0.2,
             "#de77ae"
            ],
            [
             0.3,
             "#f1b6da"
            ],
            [
             0.4,
             "#fde0ef"
            ],
            [
             0.5,
             "#f7f7f7"
            ],
            [
             0.6,
             "#e6f5d0"
            ],
            [
             0.7,
             "#b8e186"
            ],
            [
             0.8,
             "#7fbc41"
            ],
            [
             0.9,
             "#4d9221"
            ],
            [
             1,
             "#276419"
            ]
           ],
           "sequential": [
            [
             0,
             "#0d0887"
            ],
            [
             0.1111111111111111,
             "#46039f"
            ],
            [
             0.2222222222222222,
             "#7201a8"
            ],
            [
             0.3333333333333333,
             "#9c179e"
            ],
            [
             0.4444444444444444,
             "#bd3786"
            ],
            [
             0.5555555555555556,
             "#d8576b"
            ],
            [
             0.6666666666666666,
             "#ed7953"
            ],
            [
             0.7777777777777778,
             "#fb9f3a"
            ],
            [
             0.8888888888888888,
             "#fdca26"
            ],
            [
             1,
             "#f0f921"
            ]
           ],
           "sequentialminus": [
            [
             0,
             "#0d0887"
            ],
            [
             0.1111111111111111,
             "#46039f"
            ],
            [
             0.2222222222222222,
             "#7201a8"
            ],
            [
             0.3333333333333333,
             "#9c179e"
            ],
            [
             0.4444444444444444,
             "#bd3786"
            ],
            [
             0.5555555555555556,
             "#d8576b"
            ],
            [
             0.6666666666666666,
             "#ed7953"
            ],
            [
             0.7777777777777778,
             "#fb9f3a"
            ],
            [
             0.8888888888888888,
             "#fdca26"
            ],
            [
             1,
             "#f0f921"
            ]
           ]
          },
          "colorway": [
           "#636efa",
           "#EF553B",
           "#00cc96",
           "#ab63fa",
           "#FFA15A",
           "#19d3f3",
           "#FF6692",
           "#B6E880",
           "#FF97FF",
           "#FECB52"
          ],
          "font": {
           "color": "#2a3f5f"
          },
          "geo": {
           "bgcolor": "white",
           "lakecolor": "white",
           "landcolor": "#E5ECF6",
           "showlakes": true,
           "showland": true,
           "subunitcolor": "white"
          },
          "hoverlabel": {
           "align": "left"
          },
          "hovermode": "closest",
          "mapbox": {
           "style": "light"
          },
          "paper_bgcolor": "white",
          "plot_bgcolor": "#E5ECF6",
          "polar": {
           "angularaxis": {
            "gridcolor": "white",
            "linecolor": "white",
            "ticks": ""
           },
           "bgcolor": "#E5ECF6",
           "radialaxis": {
            "gridcolor": "white",
            "linecolor": "white",
            "ticks": ""
           }
          },
          "scene": {
           "xaxis": {
            "backgroundcolor": "#E5ECF6",
            "gridcolor": "white",
            "gridwidth": 2,
            "linecolor": "white",
            "showbackground": true,
            "ticks": "",
            "zerolinecolor": "white"
           },
           "yaxis": {
            "backgroundcolor": "#E5ECF6",
            "gridcolor": "white",
            "gridwidth": 2,
            "linecolor": "white",
            "showbackground": true,
            "ticks": "",
            "zerolinecolor": "white"
           },
           "zaxis": {
            "backgroundcolor": "#E5ECF6",
            "gridcolor": "white",
            "gridwidth": 2,
            "linecolor": "white",
            "showbackground": true,
            "ticks": "",
            "zerolinecolor": "white"
           }
          },
          "shapedefaults": {
           "line": {
            "color": "#2a3f5f"
           }
          },
          "ternary": {
           "aaxis": {
            "gridcolor": "white",
            "linecolor": "white",
            "ticks": ""
           },
           "baxis": {
            "gridcolor": "white",
            "linecolor": "white",
            "ticks": ""
           },
           "bgcolor": "#E5ECF6",
           "caxis": {
            "gridcolor": "white",
            "linecolor": "white",
            "ticks": ""
           }
          },
          "title": {
           "x": 0.05
          },
          "xaxis": {
           "automargin": true,
           "gridcolor": "white",
           "linecolor": "white",
           "ticks": "",
           "title": {
            "standoff": 15
           },
           "zerolinecolor": "white",
           "zerolinewidth": 2
          },
          "yaxis": {
           "automargin": true,
           "gridcolor": "white",
           "linecolor": "white",
           "ticks": "",
           "title": {
            "standoff": 15
           },
           "zerolinecolor": "white",
           "zerolinewidth": 2
          }
         }
        },
        "title": {
         "text": "Residual error"
        },
        "xaxis": {
         "anchor": "y",
         "domain": [
          0,
          1
         ],
         "title": {
          "text": "x"
         }
        },
        "yaxis": {
         "anchor": "x",
         "domain": [
          0,
          1
         ],
         "title": {
          "text": "y"
         }
        }
       }
      }
     },
     "metadata": {}
    }
   ],
   "source": [
    "errorFig = ex.scatter(x=np.arange(len(RBFNet.residual_error)), y=RBFNet.residual_error, title=\"Residual error\")\n",
    "errorFig.show()"
   ]
  },
  {
   "cell_type": "code",
   "execution_count": 239,
   "metadata": {
    "tags": []
   },
   "outputs": [
    {
     "output_type": "display_data",
     "data": {
      "application/vnd.plotly.v1+json": {
       "config": {
        "plotlyServerURL": "https://plot.ly"
       },
       "data": [
        {
         "hovertemplate": "x=%{x}<br>y=%{y}<br>z=%{z}<extra></extra>",
         "legendgroup": "",
         "marker": {
          "color": "#636efa",
          "symbol": "circle"
         },
         "mode": "markers",
         "name": "",
         "scene": "scene",
         "showlegend": false,
         "type": "scatter3d",
         "x": [
          0.6579999923706055,
          0.6669999957084656,
          0.7260000109672546,
          0.8320000171661377,
          0.9150000214576721,
          0.6060000061988831,
          0.012000000104308128,
          0.3700000047683716,
          0.05400000140070915,
          0.7300000190734863,
          0.5540000200271606,
          0.35100001096725464,
          0.13500000536441803,
          0.4909999966621399,
          0.6629999876022339,
          0.5139999985694885,
          0.640999972820282,
          0.16099999845027924,
          0.2759999930858612,
          0.17800000309944153,
          0.6480000019073486,
          0.07400000095367432,
          0.5590000152587891,
          0.3440000116825104,
          0.3630000054836273,
          0.9980000257492065,
          0.5519999861717224,
          0.5580000281333923,
          0.10300000011920929,
          0.28200000524520874,
          0.7609999775886536,
          0.421999990940094,
          0.6499999761581421,
          0.14100000262260437,
          0.22699999809265137,
          0.8240000009536743,
          0.17599999904632568,
          0.7829999923706055,
          0.7480000257492065,
          0.19599999487400055,
          0.6290000081062317,
          0.3179999887943268,
          0.6710000038146973,
          0.017000000923871994,
          0.1599999964237213,
          0.9240000247955322,
          0.9769999980926514,
          0.5860000252723694,
          0.25099998712539673,
          0.414000004529953,
          0.36399999260902405,
          0.7799999713897705,
          0.6980000138282776,
          0.6949999928474426,
          0.5490000247955322,
          0.017999999225139618,
          0.7059999704360962,
          0.9850000143051147,
          0.4009999930858612,
          0.574999988079071,
          0.8920000195503235,
          0.5450000166893005,
          0.9610000252723694,
          0.8999999761581421,
          0.46700000762939453,
          0.4440000057220459,
          0.878000020980835,
          0.6110000014305115,
          0.6940000057220459,
          0.06599999964237213,
          0.1340000033378601,
          0.06499999761581421,
          0.2980000078678131,
          0.8149999976158142,
          0.7360000014305115,
          0.3109999895095825,
          0.5230000019073486,
          0.20600000023841858,
          0.6700000166893005,
          0.5170000195503235,
          0.30799999833106995,
          0.4970000088214874,
          0.781000018119812,
          0.460999995470047,
          0.8999999761581421,
          0.9629999995231628,
          0.32600000500679016,
          0.12600000202655792,
          0.6259999871253967,
          0.052000001072883606,
          0.08799999952316284,
          0.15199999511241913,
          0.0560000017285347,
          0.34299999475479126,
          0.42500001192092896,
          0.07199999690055847,
          0.5929999947547913,
          0.9330000281333923,
          0.5920000076293945,
          0.5450000166893005
         ],
         "y": [
          0.36500000953674316,
          0.6579999923706055,
          0.20900000631809235,
          0.41100001335144043,
          0.6299999952316284,
          0.37700000405311584,
          0.16300000250339508,
          0.7929999828338623,
          0.718999981880188,
          0.7889999747276306,
          0.18400000035762787,
          0.6259999871253967,
          0.7459999918937683,
          0.3089999854564667,
          0.7540000081062317,
          0.009999999776482582,
          0.6850000023841858,
          0.4490000009536743,
          0.6679999828338623,
          0.7639999985694885,
          0.18000000715255737,
          0.4129999876022339,
          0.4020000100135803,
          0.8659999966621399,
          0.48899999260902405,
          0.765999972820282,
          0.9399999976158142,
          0.061000000685453415,
          0.6420000195503235,
          0.906000018119812,
          0.9340000152587891,
          0.8700000047683716,
          0.9340000152587891,
          0.9620000123977661,
          0.7160000205039978,
          0.5299999713897705,
          0.11900000274181366,
          0.8569999933242798,
          0.6620000004768372,
          0.31299999356269836,
          0.019999999552965164,
          0.2409999966621399,
          0.029999999329447746,
          0.11400000005960464,
          0.7749999761581421,
          0.36899998784065247,
          0.3230000138282776,
          0.3799999952316284,
          0.925000011920929,
          0.09099999815225601,
          0.8759999871253967,
          0.6169999837875366,
          0.4399999976158142,
          0.30300000309944153,
          0.6039999723434448,
          0.9100000262260437,
          0.2809999883174896,
          0.8489999771118164,
          0.23899999260902405,
          0.6200000047683716,
          0.7459999918937683,
          0.18700000643730164,
          0.7580000162124634,
          0.5329999923706055,
          0.2409999966621399,
          0.07999999821186066,
          0.2800000011920929,
          0.9570000171661377,
          0.9240000247955322,
          0.03999999910593033,
          0.2029999941587448,
          0.13600000739097595,
          0.5460000038146973,
          0.25,
          0.859000027179718,
          0.4830000102519989,
          0.44999998807907104,
          0.7720000147819519,
          0.7720000147819519,
          0.7229999899864197,
          0.4880000054836273,
          0.5899999737739563,
          0.7850000262260437,
          0.9679999947547913,
          0.40799999237060547,
          0.7670000195503235,
          0.23399999737739563,
          0.7979999780654907,
          0.8230000138282776,
          0.0020000000949949026,
          0.16899999976158142,
          0.609000027179718,
          0.9210000038146973,
          0.03799999877810478,
          0.5559999942779541,
          0.597000002861023,
          0.3310000002384186,
          0.20999999344348907,
          0.7870000004768372,
          0.9039999842643738
         ],
         "z": [
          0.11699999868869781,
          0.375,
          0.032999999821186066,
          0.08500000089406967,
          0.10400000214576721,
          0.1340000033378601,
          0.0010000000474974513,
          0.5759999752044678,
          0.08699999749660492,
          0.46700000762939453,
          0.032999999821186066,
          0.3499999940395355,
          0.23000000417232513,
          0.0949999988079071,
          0.4959999918937683,
          0,
          0.42399999499320984,
          0.09799999743700027,
          0.3400000035762787,
          0.3100000023841858,
          0.028999999165534973,
          0.03999999910593033,
          0.1589999943971634,
          0.6620000004768372,
          0.21799999475479126,
          0.003000000026077032,
          0.871999979019165,
          0.004000000189989805,
          0.13099999725818634,
          0.6359999775886536,
          0.593999981880188,
          0.7350000143051147,
          0.7770000100135803,
          0.3970000147819519,
          0.33500000834465027,
          0.1469999998807907,
          0.007000000216066837,
          0.46299999952316284,
          0.31200000643730164,
          0.05700000002980232,
          0,
          0.04899999871850014,
          0.0010000000474974513,
          0.0010000000474974513,
          0.289000004529953,
          0.03200000151991844,
          0.00800000037997961,
          0.13899999856948853,
          0.6069999933242798,
          0.00800000037997961,
          0.6980000138282776,
          0.24300000071525574,
          0.15700000524520874,
          0.07500000298023224,
          0.3610000014305115,
          0.04600000008940697,
          0.06300000101327896,
          0.03400000184774399,
          0.05400000140070915,
          0.37400001287460327,
          0.1860000044107437,
          0.03500000014901161,
          0.0689999982714653,
          0.08699999749660492,
          0.057999998331069946,
          0.006000000052154064,
          0.028999999165534973,
          0.8600000143051147,
          0.699999988079071,
          0,
          0.017000000923871994,
          0.004000000189989805,
          0.23999999463558197,
          0.03400000184774399,
          0.5440000295639038,
          0.19300000369548798,
          0.20100000500679016,
          0.35899999737739563,
          0.5120000243186951,
          0.5210000276565552,
          0.19599999487400055,
          0.3479999899864197,
          0.39100000262260437,
          0.9300000071525574,
          0.052000001072883606,
          0.0689999982714653,
          0.04699999839067459,
          0.24500000476837158,
          0.6259999871253967,
          0,
          0.00800000037997961,
          0.17100000381469727,
          0.1469999998807907,
          0.0010000000474974513,
          0.30000001192092896,
          0.07900000363588333,
          0.10499999672174454,
          0.008999999612569809,
          0.593999981880188,
          0.8080000281333923
         ]
        },
        {
         "mode": "markers",
         "name": "p1",
         "type": "scatter3d",
         "x": [
          0.6579999923706055,
          0.6669999957084656,
          0.7260000109672546,
          0.8320000171661377,
          0.9150000214576721,
          0.6060000061988831,
          0.012000000104308128,
          0.3700000047683716,
          0.05400000140070915,
          0.7300000190734863,
          0.5540000200271606,
          0.35100001096725464,
          0.13500000536441803,
          0.4909999966621399,
          0.6629999876022339,
          0.5139999985694885,
          0.640999972820282,
          0.16099999845027924,
          0.2759999930858612,
          0.17800000309944153,
          0.6480000019073486,
          0.07400000095367432,
          0.5590000152587891,
          0.3440000116825104,
          0.3630000054836273,
          0.9980000257492065,
          0.5519999861717224,
          0.5580000281333923,
          0.10300000011920929,
          0.28200000524520874,
          0.7609999775886536,
          0.421999990940094,
          0.6499999761581421,
          0.14100000262260437,
          0.22699999809265137,
          0.8240000009536743,
          0.17599999904632568,
          0.7829999923706055,
          0.7480000257492065,
          0.19599999487400055,
          0.6290000081062317,
          0.3179999887943268,
          0.6710000038146973,
          0.017000000923871994,
          0.1599999964237213,
          0.9240000247955322,
          0.9769999980926514,
          0.5860000252723694,
          0.25099998712539673,
          0.414000004529953,
          0.36399999260902405,
          0.7799999713897705,
          0.6980000138282776,
          0.6949999928474426,
          0.5490000247955322,
          0.017999999225139618,
          0.7059999704360962,
          0.9850000143051147,
          0.4009999930858612,
          0.574999988079071,
          0.8920000195503235,
          0.5450000166893005,
          0.9610000252723694,
          0.8999999761581421,
          0.46700000762939453,
          0.4440000057220459,
          0.878000020980835,
          0.6110000014305115,
          0.6940000057220459,
          0.06599999964237213,
          0.1340000033378601,
          0.06499999761581421,
          0.2980000078678131,
          0.8149999976158142,
          0.7360000014305115,
          0.3109999895095825,
          0.5230000019073486,
          0.20600000023841858,
          0.6700000166893005,
          0.5170000195503235,
          0.30799999833106995,
          0.4970000088214874,
          0.781000018119812,
          0.460999995470047,
          0.8999999761581421,
          0.9629999995231628,
          0.32600000500679016,
          0.12600000202655792,
          0.6259999871253967,
          0.052000001072883606,
          0.08799999952316284,
          0.15199999511241913,
          0.0560000017285347,
          0.34299999475479126,
          0.42500001192092896,
          0.07199999690055847,
          0.5929999947547913,
          0.9330000281333923,
          0.5920000076293945,
          0.5450000166893005
         ],
         "y": [
          0.36500000953674316,
          0.6579999923706055,
          0.20900000631809235,
          0.41100001335144043,
          0.6299999952316284,
          0.37700000405311584,
          0.16300000250339508,
          0.7929999828338623,
          0.718999981880188,
          0.7889999747276306,
          0.18400000035762787,
          0.6259999871253967,
          0.7459999918937683,
          0.3089999854564667,
          0.7540000081062317,
          0.009999999776482582,
          0.6850000023841858,
          0.4490000009536743,
          0.6679999828338623,
          0.7639999985694885,
          0.18000000715255737,
          0.4129999876022339,
          0.4020000100135803,
          0.8659999966621399,
          0.48899999260902405,
          0.765999972820282,
          0.9399999976158142,
          0.061000000685453415,
          0.6420000195503235,
          0.906000018119812,
          0.9340000152587891,
          0.8700000047683716,
          0.9340000152587891,
          0.9620000123977661,
          0.7160000205039978,
          0.5299999713897705,
          0.11900000274181366,
          0.8569999933242798,
          0.6620000004768372,
          0.31299999356269836,
          0.019999999552965164,
          0.2409999966621399,
          0.029999999329447746,
          0.11400000005960464,
          0.7749999761581421,
          0.36899998784065247,
          0.3230000138282776,
          0.3799999952316284,
          0.925000011920929,
          0.09099999815225601,
          0.8759999871253967,
          0.6169999837875366,
          0.4399999976158142,
          0.30300000309944153,
          0.6039999723434448,
          0.9100000262260437,
          0.2809999883174896,
          0.8489999771118164,
          0.23899999260902405,
          0.6200000047683716,
          0.7459999918937683,
          0.18700000643730164,
          0.7580000162124634,
          0.5329999923706055,
          0.2409999966621399,
          0.07999999821186066,
          0.2800000011920929,
          0.9570000171661377,
          0.9240000247955322,
          0.03999999910593033,
          0.2029999941587448,
          0.13600000739097595,
          0.5460000038146973,
          0.25,
          0.859000027179718,
          0.4830000102519989,
          0.44999998807907104,
          0.7720000147819519,
          0.7720000147819519,
          0.7229999899864197,
          0.4880000054836273,
          0.5899999737739563,
          0.7850000262260437,
          0.9679999947547913,
          0.40799999237060547,
          0.7670000195503235,
          0.23399999737739563,
          0.7979999780654907,
          0.8230000138282776,
          0.0020000000949949026,
          0.16899999976158142,
          0.609000027179718,
          0.9210000038146973,
          0.03799999877810478,
          0.5559999942779541,
          0.597000002861023,
          0.3310000002384186,
          0.20999999344348907,
          0.7870000004768372,
          0.9039999842643738
         ],
         "z": [
          0.2111333362690298,
          0.21003087668111337,
          0.20694768711909897,
          0.20794688862044863,
          0.204243773799734,
          0.21175637596862928,
          0.19331126420049288,
          0.20581875226260749,
          0.1974968200412057,
          0.20571112659155882,
          0.20796835803428423,
          0.20942467139792662,
          0.2002852932010086,
          0.21083624855594532,
          0.20782774543624877,
          0.20136767343173778,
          0.20979155150268963,
          0.2049632850357027,
          0.20690010369740053,
          0.2014182061789916,
          0.207277277188339,
          0.20118287303137192,
          0.21218781657873198,
          0.20275473493199744,
          0.21079143842151002,
          0.19782111212254777,
          0.20180250109956724,
          0.20358684415948786,
          0.20128420408812359,
          0.19968157832134287,
          0.19959184379493597,
          0.20391577491569501,
          0.20147155378550208,
          0.19253932747216018,
          0.2043807351550756,
          0.20829156634610577,
          0.19887645372854973,
          0.2021973103196279,
          0.20856603918125013,
          0.20481936575882817,
          0.20147341894630838,
          0.2068618898103802,
          0.20143834118091491,
          0.1918785453867785,
          0.20042437882382963,
          0.2044623410640611,
          0.20170715013886314,
          0.21189924707809277,
          0.1980008973643304,
          0.2038937896661821,
          0.20276479002046108,
          0.20859220631606967,
          0.2111798763784786,
          0.20966711334105048,
          0.21169411312133962,
          0.18937727414117794,
          0.2090549691022744,
          0.19563609947689659,
          0.20840886764936356,
          0.21141995199766372,
          0.20255168733064258,
          0.2080637118752786,
          0.19960992146792575,
          0.2058338089279246,
          0.20922325105821715,
          0.20383048640922774,
          0.2046513397321469,
          0.20080599581469447,
          0.2013096775209427,
          0.19126203067214725,
          0.1999719209122226,
          0.1949170778700567,
          0.20912139216415038,
          0.20591700798889945,
          0.20317452075211687,
          0.2096776550337276,
          0.21244960265388024,
          0.2021661826788587,
          0.20721522526525943,
          0.2093687069563852,
          0.2096017529080843,
          0.2117533809817141,
          0.20471452047650568,
          0.2001790267113472,
          0.2057155052796517,
          0.1992679329065638,
          0.20687078673977338,
          0.1983712712340884,
          0.20605862705013944,
          0.18895208663830268,
          0.19702923778303244,
          0.2037787799728653,
          0.19071232826987328,
          0.2005177985300694,
          0.2114598376722478,
          0.2005943617274295,
          0.2112241145738677,
          0.2009738035245912,
          0.20747675826080364,
          0.20334343775681607
         ]
        }
       ],
       "layout": {
        "legend": {
         "tracegroupgap": 0
        },
        "scene": {
         "domain": {
          "x": [
           0,
           1
          ],
          "y": [
           0,
           1
          ]
         },
         "xaxis": {
          "title": {
           "text": "x"
          }
         },
         "yaxis": {
          "title": {
           "text": "y"
          }
         },
         "zaxis": {
          "title": {
           "text": "z"
          }
         }
        },
        "template": {
         "data": {
          "bar": [
           {
            "error_x": {
             "color": "#2a3f5f"
            },
            "error_y": {
             "color": "#2a3f5f"
            },
            "marker": {
             "line": {
              "color": "#E5ECF6",
              "width": 0.5
             }
            },
            "type": "bar"
           }
          ],
          "barpolar": [
           {
            "marker": {
             "line": {
              "color": "#E5ECF6",
              "width": 0.5
             }
            },
            "type": "barpolar"
           }
          ],
          "carpet": [
           {
            "aaxis": {
             "endlinecolor": "#2a3f5f",
             "gridcolor": "white",
             "linecolor": "white",
             "minorgridcolor": "white",
             "startlinecolor": "#2a3f5f"
            },
            "baxis": {
             "endlinecolor": "#2a3f5f",
             "gridcolor": "white",
             "linecolor": "white",
             "minorgridcolor": "white",
             "startlinecolor": "#2a3f5f"
            },
            "type": "carpet"
           }
          ],
          "choropleth": [
           {
            "colorbar": {
             "outlinewidth": 0,
             "ticks": ""
            },
            "type": "choropleth"
           }
          ],
          "contour": [
           {
            "colorbar": {
             "outlinewidth": 0,
             "ticks": ""
            },
            "colorscale": [
             [
              0,
              "#0d0887"
             ],
             [
              0.1111111111111111,
              "#46039f"
             ],
             [
              0.2222222222222222,
              "#7201a8"
             ],
             [
              0.3333333333333333,
              "#9c179e"
             ],
             [
              0.4444444444444444,
              "#bd3786"
             ],
             [
              0.5555555555555556,
              "#d8576b"
             ],
             [
              0.6666666666666666,
              "#ed7953"
             ],
             [
              0.7777777777777778,
              "#fb9f3a"
             ],
             [
              0.8888888888888888,
              "#fdca26"
             ],
             [
              1,
              "#f0f921"
             ]
            ],
            "type": "contour"
           }
          ],
          "contourcarpet": [
           {
            "colorbar": {
             "outlinewidth": 0,
             "ticks": ""
            },
            "type": "contourcarpet"
           }
          ],
          "heatmap": [
           {
            "colorbar": {
             "outlinewidth": 0,
             "ticks": ""
            },
            "colorscale": [
             [
              0,
              "#0d0887"
             ],
             [
              0.1111111111111111,
              "#46039f"
             ],
             [
              0.2222222222222222,
              "#7201a8"
             ],
             [
              0.3333333333333333,
              "#9c179e"
             ],
             [
              0.4444444444444444,
              "#bd3786"
             ],
             [
              0.5555555555555556,
              "#d8576b"
             ],
             [
              0.6666666666666666,
              "#ed7953"
             ],
             [
              0.7777777777777778,
              "#fb9f3a"
             ],
             [
              0.8888888888888888,
              "#fdca26"
             ],
             [
              1,
              "#f0f921"
             ]
            ],
            "type": "heatmap"
           }
          ],
          "heatmapgl": [
           {
            "colorbar": {
             "outlinewidth": 0,
             "ticks": ""
            },
            "colorscale": [
             [
              0,
              "#0d0887"
             ],
             [
              0.1111111111111111,
              "#46039f"
             ],
             [
              0.2222222222222222,
              "#7201a8"
             ],
             [
              0.3333333333333333,
              "#9c179e"
             ],
             [
              0.4444444444444444,
              "#bd3786"
             ],
             [
              0.5555555555555556,
              "#d8576b"
             ],
             [
              0.6666666666666666,
              "#ed7953"
             ],
             [
              0.7777777777777778,
              "#fb9f3a"
             ],
             [
              0.8888888888888888,
              "#fdca26"
             ],
             [
              1,
              "#f0f921"
             ]
            ],
            "type": "heatmapgl"
           }
          ],
          "histogram": [
           {
            "marker": {
             "colorbar": {
              "outlinewidth": 0,
              "ticks": ""
             }
            },
            "type": "histogram"
           }
          ],
          "histogram2d": [
           {
            "colorbar": {
             "outlinewidth": 0,
             "ticks": ""
            },
            "colorscale": [
             [
              0,
              "#0d0887"
             ],
             [
              0.1111111111111111,
              "#46039f"
             ],
             [
              0.2222222222222222,
              "#7201a8"
             ],
             [
              0.3333333333333333,
              "#9c179e"
             ],
             [
              0.4444444444444444,
              "#bd3786"
             ],
             [
              0.5555555555555556,
              "#d8576b"
             ],
             [
              0.6666666666666666,
              "#ed7953"
             ],
             [
              0.7777777777777778,
              "#fb9f3a"
             ],
             [
              0.8888888888888888,
              "#fdca26"
             ],
             [
              1,
              "#f0f921"
             ]
            ],
            "type": "histogram2d"
           }
          ],
          "histogram2dcontour": [
           {
            "colorbar": {
             "outlinewidth": 0,
             "ticks": ""
            },
            "colorscale": [
             [
              0,
              "#0d0887"
             ],
             [
              0.1111111111111111,
              "#46039f"
             ],
             [
              0.2222222222222222,
              "#7201a8"
             ],
             [
              0.3333333333333333,
              "#9c179e"
             ],
             [
              0.4444444444444444,
              "#bd3786"
             ],
             [
              0.5555555555555556,
              "#d8576b"
             ],
             [
              0.6666666666666666,
              "#ed7953"
             ],
             [
              0.7777777777777778,
              "#fb9f3a"
             ],
             [
              0.8888888888888888,
              "#fdca26"
             ],
             [
              1,
              "#f0f921"
             ]
            ],
            "type": "histogram2dcontour"
           }
          ],
          "mesh3d": [
           {
            "colorbar": {
             "outlinewidth": 0,
             "ticks": ""
            },
            "type": "mesh3d"
           }
          ],
          "parcoords": [
           {
            "line": {
             "colorbar": {
              "outlinewidth": 0,
              "ticks": ""
             }
            },
            "type": "parcoords"
           }
          ],
          "pie": [
           {
            "automargin": true,
            "type": "pie"
           }
          ],
          "scatter": [
           {
            "marker": {
             "colorbar": {
              "outlinewidth": 0,
              "ticks": ""
             }
            },
            "type": "scatter"
           }
          ],
          "scatter3d": [
           {
            "line": {
             "colorbar": {
              "outlinewidth": 0,
              "ticks": ""
             }
            },
            "marker": {
             "colorbar": {
              "outlinewidth": 0,
              "ticks": ""
             }
            },
            "type": "scatter3d"
           }
          ],
          "scattercarpet": [
           {
            "marker": {
             "colorbar": {
              "outlinewidth": 0,
              "ticks": ""
             }
            },
            "type": "scattercarpet"
           }
          ],
          "scattergeo": [
           {
            "marker": {
             "colorbar": {
              "outlinewidth": 0,
              "ticks": ""
             }
            },
            "type": "scattergeo"
           }
          ],
          "scattergl": [
           {
            "marker": {
             "colorbar": {
              "outlinewidth": 0,
              "ticks": ""
             }
            },
            "type": "scattergl"
           }
          ],
          "scattermapbox": [
           {
            "marker": {
             "colorbar": {
              "outlinewidth": 0,
              "ticks": ""
             }
            },
            "type": "scattermapbox"
           }
          ],
          "scatterpolar": [
           {
            "marker": {
             "colorbar": {
              "outlinewidth": 0,
              "ticks": ""
             }
            },
            "type": "scatterpolar"
           }
          ],
          "scatterpolargl": [
           {
            "marker": {
             "colorbar": {
              "outlinewidth": 0,
              "ticks": ""
             }
            },
            "type": "scatterpolargl"
           }
          ],
          "scatterternary": [
           {
            "marker": {
             "colorbar": {
              "outlinewidth": 0,
              "ticks": ""
             }
            },
            "type": "scatterternary"
           }
          ],
          "surface": [
           {
            "colorbar": {
             "outlinewidth": 0,
             "ticks": ""
            },
            "colorscale": [
             [
              0,
              "#0d0887"
             ],
             [
              0.1111111111111111,
              "#46039f"
             ],
             [
              0.2222222222222222,
              "#7201a8"
             ],
             [
              0.3333333333333333,
              "#9c179e"
             ],
             [
              0.4444444444444444,
              "#bd3786"
             ],
             [
              0.5555555555555556,
              "#d8576b"
             ],
             [
              0.6666666666666666,
              "#ed7953"
             ],
             [
              0.7777777777777778,
              "#fb9f3a"
             ],
             [
              0.8888888888888888,
              "#fdca26"
             ],
             [
              1,
              "#f0f921"
             ]
            ],
            "type": "surface"
           }
          ],
          "table": [
           {
            "cells": {
             "fill": {
              "color": "#EBF0F8"
             },
             "line": {
              "color": "white"
             }
            },
            "header": {
             "fill": {
              "color": "#C8D4E3"
             },
             "line": {
              "color": "white"
             }
            },
            "type": "table"
           }
          ]
         },
         "layout": {
          "annotationdefaults": {
           "arrowcolor": "#2a3f5f",
           "arrowhead": 0,
           "arrowwidth": 1
          },
          "coloraxis": {
           "colorbar": {
            "outlinewidth": 0,
            "ticks": ""
           }
          },
          "colorscale": {
           "diverging": [
            [
             0,
             "#8e0152"
            ],
            [
             0.1,
             "#c51b7d"
            ],
            [
             0.2,
             "#de77ae"
            ],
            [
             0.3,
             "#f1b6da"
            ],
            [
             0.4,
             "#fde0ef"
            ],
            [
             0.5,
             "#f7f7f7"
            ],
            [
             0.6,
             "#e6f5d0"
            ],
            [
             0.7,
             "#b8e186"
            ],
            [
             0.8,
             "#7fbc41"
            ],
            [
             0.9,
             "#4d9221"
            ],
            [
             1,
             "#276419"
            ]
           ],
           "sequential": [
            [
             0,
             "#0d0887"
            ],
            [
             0.1111111111111111,
             "#46039f"
            ],
            [
             0.2222222222222222,
             "#7201a8"
            ],
            [
             0.3333333333333333,
             "#9c179e"
            ],
            [
             0.4444444444444444,
             "#bd3786"
            ],
            [
             0.5555555555555556,
             "#d8576b"
            ],
            [
             0.6666666666666666,
             "#ed7953"
            ],
            [
             0.7777777777777778,
             "#fb9f3a"
            ],
            [
             0.8888888888888888,
             "#fdca26"
            ],
            [
             1,
             "#f0f921"
            ]
           ],
           "sequentialminus": [
            [
             0,
             "#0d0887"
            ],
            [
             0.1111111111111111,
             "#46039f"
            ],
            [
             0.2222222222222222,
             "#7201a8"
            ],
            [
             0.3333333333333333,
             "#9c179e"
            ],
            [
             0.4444444444444444,
             "#bd3786"
            ],
            [
             0.5555555555555556,
             "#d8576b"
            ],
            [
             0.6666666666666666,
             "#ed7953"
            ],
            [
             0.7777777777777778,
             "#fb9f3a"
            ],
            [
             0.8888888888888888,
             "#fdca26"
            ],
            [
             1,
             "#f0f921"
            ]
           ]
          },
          "colorway": [
           "#636efa",
           "#EF553B",
           "#00cc96",
           "#ab63fa",
           "#FFA15A",
           "#19d3f3",
           "#FF6692",
           "#B6E880",
           "#FF97FF",
           "#FECB52"
          ],
          "font": {
           "color": "#2a3f5f"
          },
          "geo": {
           "bgcolor": "white",
           "lakecolor": "white",
           "landcolor": "#E5ECF6",
           "showlakes": true,
           "showland": true,
           "subunitcolor": "white"
          },
          "hoverlabel": {
           "align": "left"
          },
          "hovermode": "closest",
          "mapbox": {
           "style": "light"
          },
          "paper_bgcolor": "white",
          "plot_bgcolor": "#E5ECF6",
          "polar": {
           "angularaxis": {
            "gridcolor": "white",
            "linecolor": "white",
            "ticks": ""
           },
           "bgcolor": "#E5ECF6",
           "radialaxis": {
            "gridcolor": "white",
            "linecolor": "white",
            "ticks": ""
           }
          },
          "scene": {
           "xaxis": {
            "backgroundcolor": "#E5ECF6",
            "gridcolor": "white",
            "gridwidth": 2,
            "linecolor": "white",
            "showbackground": true,
            "ticks": "",
            "zerolinecolor": "white"
           },
           "yaxis": {
            "backgroundcolor": "#E5ECF6",
            "gridcolor": "white",
            "gridwidth": 2,
            "linecolor": "white",
            "showbackground": true,
            "ticks": "",
            "zerolinecolor": "white"
           },
           "zaxis": {
            "backgroundcolor": "#E5ECF6",
            "gridcolor": "white",
            "gridwidth": 2,
            "linecolor": "white",
            "showbackground": true,
            "ticks": "",
            "zerolinecolor": "white"
           }
          },
          "shapedefaults": {
           "line": {
            "color": "#2a3f5f"
           }
          },
          "ternary": {
           "aaxis": {
            "gridcolor": "white",
            "linecolor": "white",
            "ticks": ""
           },
           "baxis": {
            "gridcolor": "white",
            "linecolor": "white",
            "ticks": ""
           },
           "bgcolor": "#E5ECF6",
           "caxis": {
            "gridcolor": "white",
            "linecolor": "white",
            "ticks": ""
           }
          },
          "title": {
           "x": 0.05
          },
          "xaxis": {
           "automargin": true,
           "gridcolor": "white",
           "linecolor": "white",
           "ticks": "",
           "title": {
            "standoff": 15
           },
           "zerolinecolor": "white",
           "zerolinewidth": 2
          },
          "yaxis": {
           "automargin": true,
           "gridcolor": "white",
           "linecolor": "white",
           "ticks": "",
           "title": {
            "standoff": 15
           },
           "zerolinecolor": "white",
           "zerolinewidth": 2
          }
         }
        },
        "title": {
         "text": "Feature 1"
        }
       }
      }
     },
     "metadata": {}
    },
    {
     "output_type": "display_data",
     "data": {
      "application/vnd.plotly.v1+json": {
       "config": {
        "plotlyServerURL": "https://plot.ly"
       },
       "data": [
        {
         "hovertemplate": "x=%{x}<br>y=%{y}<br>z=%{z}<extra></extra>",
         "legendgroup": "",
         "marker": {
          "color": "#636efa",
          "symbol": "circle"
         },
         "mode": "markers",
         "name": "",
         "scene": "scene",
         "showlegend": false,
         "type": "scatter3d",
         "x": [
          0.6579999923706055,
          0.6669999957084656,
          0.7260000109672546,
          0.8320000171661377,
          0.9150000214576721,
          0.6060000061988831,
          0.012000000104308128,
          0.3700000047683716,
          0.05400000140070915,
          0.7300000190734863,
          0.5540000200271606,
          0.35100001096725464,
          0.13500000536441803,
          0.4909999966621399,
          0.6629999876022339,
          0.5139999985694885,
          0.640999972820282,
          0.16099999845027924,
          0.2759999930858612,
          0.17800000309944153,
          0.6480000019073486,
          0.07400000095367432,
          0.5590000152587891,
          0.3440000116825104,
          0.3630000054836273,
          0.9980000257492065,
          0.5519999861717224,
          0.5580000281333923,
          0.10300000011920929,
          0.28200000524520874,
          0.7609999775886536,
          0.421999990940094,
          0.6499999761581421,
          0.14100000262260437,
          0.22699999809265137,
          0.8240000009536743,
          0.17599999904632568,
          0.7829999923706055,
          0.7480000257492065,
          0.19599999487400055,
          0.6290000081062317,
          0.3179999887943268,
          0.6710000038146973,
          0.017000000923871994,
          0.1599999964237213,
          0.9240000247955322,
          0.9769999980926514,
          0.5860000252723694,
          0.25099998712539673,
          0.414000004529953,
          0.36399999260902405,
          0.7799999713897705,
          0.6980000138282776,
          0.6949999928474426,
          0.5490000247955322,
          0.017999999225139618,
          0.7059999704360962,
          0.9850000143051147,
          0.4009999930858612,
          0.574999988079071,
          0.8920000195503235,
          0.5450000166893005,
          0.9610000252723694,
          0.8999999761581421,
          0.46700000762939453,
          0.4440000057220459,
          0.878000020980835,
          0.6110000014305115,
          0.6940000057220459,
          0.06599999964237213,
          0.1340000033378601,
          0.06499999761581421,
          0.2980000078678131,
          0.8149999976158142,
          0.7360000014305115,
          0.3109999895095825,
          0.5230000019073486,
          0.20600000023841858,
          0.6700000166893005,
          0.5170000195503235,
          0.30799999833106995,
          0.4970000088214874,
          0.781000018119812,
          0.460999995470047,
          0.8999999761581421,
          0.9629999995231628,
          0.32600000500679016,
          0.12600000202655792,
          0.6259999871253967,
          0.052000001072883606,
          0.08799999952316284,
          0.15199999511241913,
          0.0560000017285347,
          0.34299999475479126,
          0.42500001192092896,
          0.07199999690055847,
          0.5929999947547913,
          0.9330000281333923,
          0.5920000076293945,
          0.5450000166893005
         ],
         "y": [
          0.36500000953674316,
          0.6579999923706055,
          0.20900000631809235,
          0.41100001335144043,
          0.6299999952316284,
          0.37700000405311584,
          0.16300000250339508,
          0.7929999828338623,
          0.718999981880188,
          0.7889999747276306,
          0.18400000035762787,
          0.6259999871253967,
          0.7459999918937683,
          0.3089999854564667,
          0.7540000081062317,
          0.009999999776482582,
          0.6850000023841858,
          0.4490000009536743,
          0.6679999828338623,
          0.7639999985694885,
          0.18000000715255737,
          0.4129999876022339,
          0.4020000100135803,
          0.8659999966621399,
          0.48899999260902405,
          0.765999972820282,
          0.9399999976158142,
          0.061000000685453415,
          0.6420000195503235,
          0.906000018119812,
          0.9340000152587891,
          0.8700000047683716,
          0.9340000152587891,
          0.9620000123977661,
          0.7160000205039978,
          0.5299999713897705,
          0.11900000274181366,
          0.8569999933242798,
          0.6620000004768372,
          0.31299999356269836,
          0.019999999552965164,
          0.2409999966621399,
          0.029999999329447746,
          0.11400000005960464,
          0.7749999761581421,
          0.36899998784065247,
          0.3230000138282776,
          0.3799999952316284,
          0.925000011920929,
          0.09099999815225601,
          0.8759999871253967,
          0.6169999837875366,
          0.4399999976158142,
          0.30300000309944153,
          0.6039999723434448,
          0.9100000262260437,
          0.2809999883174896,
          0.8489999771118164,
          0.23899999260902405,
          0.6200000047683716,
          0.7459999918937683,
          0.18700000643730164,
          0.7580000162124634,
          0.5329999923706055,
          0.2409999966621399,
          0.07999999821186066,
          0.2800000011920929,
          0.9570000171661377,
          0.9240000247955322,
          0.03999999910593033,
          0.2029999941587448,
          0.13600000739097595,
          0.5460000038146973,
          0.25,
          0.859000027179718,
          0.4830000102519989,
          0.44999998807907104,
          0.7720000147819519,
          0.7720000147819519,
          0.7229999899864197,
          0.4880000054836273,
          0.5899999737739563,
          0.7850000262260437,
          0.9679999947547913,
          0.40799999237060547,
          0.7670000195503235,
          0.23399999737739563,
          0.7979999780654907,
          0.8230000138282776,
          0.0020000000949949026,
          0.16899999976158142,
          0.609000027179718,
          0.9210000038146973,
          0.03799999877810478,
          0.5559999942779541,
          0.597000002861023,
          0.3310000002384186,
          0.20999999344348907,
          0.7870000004768372,
          0.9039999842643738
         ],
         "z": [
          0.09000000357627869,
          0.2980000078678131,
          0.032999999821186066,
          0.14399999380111694,
          0.3580000102519989,
          0.08699999749660492,
          0,
          0.17399999499320984,
          0.003000000026077032,
          0.4749999940395355,
          0.017999999225139618,
          0.0989999994635582,
          0.023000000044703484,
          0.041999999433755875,
          0.3889999985694885,
          0,
          0.30799999833106995,
          0.012000000104308128,
          0.07199999690055847,
          0.04100000113248825,
          0.02199999988079071,
          0.0020000000949949026,
          0.08799999952316284,
          0.18299999833106995,
          0.06400000303983688,
          0.5379999876022339,
          0.47099998593330383,
          0.0020000000949949026,
          0.009999999776482582,
          0.1379999965429306,
          0.6930000185966492,
          0.2630000114440918,
          0.5809999704360962,
          0.04100000113248825,
          0.05700000002980232,
          0.23800000548362732,
          0.0010000000474974513,
          0.5979999899864197,
          0.34200000762939453,
          0.00800000037997961,
          0,
          0.012000000104308128,
          0.0010000000474974513,
          0,
          0.03400000184774399,
          0.12300000339746475,
          0.0949999988079071,
          0.08399999886751175,
          0.11599999666213989,
          0.003000000026077032,
          0.20600000023841858,
          0.3089999854564667,
          0.14100000262260437,
          0.06599999964237213,
          0.19300000369548798,
          0.0010000000474974513,
          0.057999998331069946,
          0.6600000262260437,
          0.017999999225139618,
          0.21699999272823334,
          0.4959999918937683,
          0.017999999225139618,
          0.5249999761581421,
          0.2540000081062317,
          0.024000000208616257,
          0.0020000000949949026,
          0.0689999982714653,
          0.5640000104904175,
          0.6150000095367432,
          0,
          0.0020000000949949026,
          0,
          0.0560000017285347,
          0.05299999937415123,
          0.5669999718666077,
          0.04699999839067459,
          0.0989999994635582,
          0.054999999701976776,
          0.41200000047683716,
          0.25200000405311584,
          0.04699999839067459,
          0.15800000727176666,
          0.5009999871253967,
          0.37700000405311584,
          0.14900000393390656,
          0.5379999876022339,
          0.012000000104308128,
          0.023000000044703484,
          0.4300000071525574,
          0,
          0,
          0.01899999938905239,
          0.006000000052154064,
          0,
          0.1080000028014183,
          0.004000000189989805,
          0.06499999761581421,
          0.03999999910593033,
          0.36500000953674316,
          0.4269999861717224
         ]
        },
        {
         "mode": "markers",
         "name": "p2",
         "type": "scatter3d",
         "x": [
          0.6579999923706055,
          0.6669999957084656,
          0.7260000109672546,
          0.8320000171661377,
          0.9150000214576721,
          0.6060000061988831,
          0.012000000104308128,
          0.3700000047683716,
          0.05400000140070915,
          0.7300000190734863,
          0.5540000200271606,
          0.35100001096725464,
          0.13500000536441803,
          0.4909999966621399,
          0.6629999876022339,
          0.5139999985694885,
          0.640999972820282,
          0.16099999845027924,
          0.2759999930858612,
          0.17800000309944153,
          0.6480000019073486,
          0.07400000095367432,
          0.5590000152587891,
          0.3440000116825104,
          0.3630000054836273,
          0.9980000257492065,
          0.5519999861717224,
          0.5580000281333923,
          0.10300000011920929,
          0.28200000524520874,
          0.7609999775886536,
          0.421999990940094,
          0.6499999761581421,
          0.14100000262260437,
          0.22699999809265137,
          0.8240000009536743,
          0.17599999904632568,
          0.7829999923706055,
          0.7480000257492065,
          0.19599999487400055,
          0.6290000081062317,
          0.3179999887943268,
          0.6710000038146973,
          0.017000000923871994,
          0.1599999964237213,
          0.9240000247955322,
          0.9769999980926514,
          0.5860000252723694,
          0.25099998712539673,
          0.414000004529953,
          0.36399999260902405,
          0.7799999713897705,
          0.6980000138282776,
          0.6949999928474426,
          0.5490000247955322,
          0.017999999225139618,
          0.7059999704360962,
          0.9850000143051147,
          0.4009999930858612,
          0.574999988079071,
          0.8920000195503235,
          0.5450000166893005,
          0.9610000252723694,
          0.8999999761581421,
          0.46700000762939453,
          0.4440000057220459,
          0.878000020980835,
          0.6110000014305115,
          0.6940000057220459,
          0.06599999964237213,
          0.1340000033378601,
          0.06499999761581421,
          0.2980000078678131,
          0.8149999976158142,
          0.7360000014305115,
          0.3109999895095825,
          0.5230000019073486,
          0.20600000023841858,
          0.6700000166893005,
          0.5170000195503235,
          0.30799999833106995,
          0.4970000088214874,
          0.781000018119812,
          0.460999995470047,
          0.8999999761581421,
          0.9629999995231628,
          0.32600000500679016,
          0.12600000202655792,
          0.6259999871253967,
          0.052000001072883606,
          0.08799999952316284,
          0.15199999511241913,
          0.0560000017285347,
          0.34299999475479126,
          0.42500001192092896,
          0.07199999690055847,
          0.5929999947547913,
          0.9330000281333923,
          0.5920000076293945,
          0.5450000166893005
         ],
         "y": [
          0.36500000953674316,
          0.6579999923706055,
          0.20900000631809235,
          0.41100001335144043,
          0.6299999952316284,
          0.37700000405311584,
          0.16300000250339508,
          0.7929999828338623,
          0.718999981880188,
          0.7889999747276306,
          0.18400000035762787,
          0.6259999871253967,
          0.7459999918937683,
          0.3089999854564667,
          0.7540000081062317,
          0.009999999776482582,
          0.6850000023841858,
          0.4490000009536743,
          0.6679999828338623,
          0.7639999985694885,
          0.18000000715255737,
          0.4129999876022339,
          0.4020000100135803,
          0.8659999966621399,
          0.48899999260902405,
          0.765999972820282,
          0.9399999976158142,
          0.061000000685453415,
          0.6420000195503235,
          0.906000018119812,
          0.9340000152587891,
          0.8700000047683716,
          0.9340000152587891,
          0.9620000123977661,
          0.7160000205039978,
          0.5299999713897705,
          0.11900000274181366,
          0.8569999933242798,
          0.6620000004768372,
          0.31299999356269836,
          0.019999999552965164,
          0.2409999966621399,
          0.029999999329447746,
          0.11400000005960464,
          0.7749999761581421,
          0.36899998784065247,
          0.3230000138282776,
          0.3799999952316284,
          0.925000011920929,
          0.09099999815225601,
          0.8759999871253967,
          0.6169999837875366,
          0.4399999976158142,
          0.30300000309944153,
          0.6039999723434448,
          0.9100000262260437,
          0.2809999883174896,
          0.8489999771118164,
          0.23899999260902405,
          0.6200000047683716,
          0.7459999918937683,
          0.18700000643730164,
          0.7580000162124634,
          0.5329999923706055,
          0.2409999966621399,
          0.07999999821186066,
          0.2800000011920929,
          0.9570000171661377,
          0.9240000247955322,
          0.03999999910593033,
          0.2029999941587448,
          0.13600000739097595,
          0.5460000038146973,
          0.25,
          0.859000027179718,
          0.4830000102519989,
          0.44999998807907104,
          0.7720000147819519,
          0.7720000147819519,
          0.7229999899864197,
          0.4880000054836273,
          0.5899999737739563,
          0.7850000262260437,
          0.9679999947547913,
          0.40799999237060547,
          0.7670000195503235,
          0.23399999737739563,
          0.7979999780654907,
          0.8230000138282776,
          0.0020000000949949026,
          0.16899999976158142,
          0.609000027179718,
          0.9210000038146973,
          0.03799999877810478,
          0.5559999942779541,
          0.597000002861023,
          0.3310000002384186,
          0.20999999344348907,
          0.7870000004768372,
          0.9039999842643738
         ],
         "z": [
          0.18041126378990868,
          0.17840613735410193,
          0.17726913412203993,
          0.1773004977766091,
          0.17325391755206065,
          0.18097357596039226,
          0.16670680528853063,
          0.17477663931987542,
          0.16831027854236513,
          0.1741910666618155,
          0.17845740752521771,
          0.17844937876767847,
          0.17051081348445046,
          0.1805887567445319,
          0.17620293110643137,
          0.17336007180176632,
          0.17814376187067932,
          0.17552691980767762,
          0.1762480247051893,
          0.17136728578469174,
          0.17774695022153325,
          0.17252777331159774,
          0.18131991659022906,
          0.1719715177428629,
          0.18009357921762675,
          0.16721962798237638,
          0.17065350711614943,
          0.17506311904067892,
          0.17175770757513292,
          0.16931631964682703,
          0.16849471487075782,
          0.17284139720488412,
          0.17024877332370306,
          0.16324428679943684,
          0.17399563514800476,
          0.17717450660749035,
          0.17140662608108873,
          0.17091100238329682,
          0.17703266484083147,
          0.17584162258838337,
          0.17326248964585403,
          0.177666396336977,
          0.173149492030886,
          0.1656220582081034,
          0.1705046445489729,
          0.1743693986261168,
          0.17212271953884042,
          0.18111325992823196,
          0.1678694478346444,
          0.17545056704320877,
          0.17192283380026435,
          0.17717273615949214,
          0.18012894716751027,
          0.17932348002784415,
          0.18018372137478567,
          0.1608180650629248,
          0.1788603079711693,
          0.16510480815875314,
          0.17887817249785076,
          0.17985544606740006,
          0.17143473558186118,
          0.17854243210001508,
          0.16880952882833347,
          0.17497657555496632,
          0.1794729328677051,
          0.17538380429207034,
          0.1748882824820739,
          0.16967383600276376,
          0.17007749087470467,
          0.16524481483320277,
          0.1721397303962606,
          0.16810395735910846,
          0.1785503288627141,
          0.17614317434709725,
          0.17180015955377625,
          0.17923605096861656,
          0.18142264862796847,
          0.17194505274654587,
          0.17561125048675402,
          0.17782872926743892,
          0.17915719695976418,
          0.18035905290486232,
          0.1732868430105,
          0.16932428241927852,
          0.1753271455346772,
          0.16848598006414778,
          0.1776857414883471,
          0.16871767952323907,
          0.1745223801463815,
          0.1633808170678246,
          0.1697842802875272,
          0.17394821725106507,
          0.1618887237272013,
          0.1728078523135639,
          0.18033399019526108,
          0.17136284797472742,
          0.18069845927240946,
          0.17191600152762687,
          0.1758949904573539,
          0.1720783910855381
         ]
        }
       ],
       "layout": {
        "legend": {
         "tracegroupgap": 0
        },
        "scene": {
         "domain": {
          "x": [
           0,
           1
          ],
          "y": [
           0,
           1
          ]
         },
         "xaxis": {
          "title": {
           "text": "x"
          }
         },
         "yaxis": {
          "title": {
           "text": "y"
          }
         },
         "zaxis": {
          "title": {
           "text": "z"
          }
         }
        },
        "template": {
         "data": {
          "bar": [
           {
            "error_x": {
             "color": "#2a3f5f"
            },
            "error_y": {
             "color": "#2a3f5f"
            },
            "marker": {
             "line": {
              "color": "#E5ECF6",
              "width": 0.5
             }
            },
            "type": "bar"
           }
          ],
          "barpolar": [
           {
            "marker": {
             "line": {
              "color": "#E5ECF6",
              "width": 0.5
             }
            },
            "type": "barpolar"
           }
          ],
          "carpet": [
           {
            "aaxis": {
             "endlinecolor": "#2a3f5f",
             "gridcolor": "white",
             "linecolor": "white",
             "minorgridcolor": "white",
             "startlinecolor": "#2a3f5f"
            },
            "baxis": {
             "endlinecolor": "#2a3f5f",
             "gridcolor": "white",
             "linecolor": "white",
             "minorgridcolor": "white",
             "startlinecolor": "#2a3f5f"
            },
            "type": "carpet"
           }
          ],
          "choropleth": [
           {
            "colorbar": {
             "outlinewidth": 0,
             "ticks": ""
            },
            "type": "choropleth"
           }
          ],
          "contour": [
           {
            "colorbar": {
             "outlinewidth": 0,
             "ticks": ""
            },
            "colorscale": [
             [
              0,
              "#0d0887"
             ],
             [
              0.1111111111111111,
              "#46039f"
             ],
             [
              0.2222222222222222,
              "#7201a8"
             ],
             [
              0.3333333333333333,
              "#9c179e"
             ],
             [
              0.4444444444444444,
              "#bd3786"
             ],
             [
              0.5555555555555556,
              "#d8576b"
             ],
             [
              0.6666666666666666,
              "#ed7953"
             ],
             [
              0.7777777777777778,
              "#fb9f3a"
             ],
             [
              0.8888888888888888,
              "#fdca26"
             ],
             [
              1,
              "#f0f921"
             ]
            ],
            "type": "contour"
           }
          ],
          "contourcarpet": [
           {
            "colorbar": {
             "outlinewidth": 0,
             "ticks": ""
            },
            "type": "contourcarpet"
           }
          ],
          "heatmap": [
           {
            "colorbar": {
             "outlinewidth": 0,
             "ticks": ""
            },
            "colorscale": [
             [
              0,
              "#0d0887"
             ],
             [
              0.1111111111111111,
              "#46039f"
             ],
             [
              0.2222222222222222,
              "#7201a8"
             ],
             [
              0.3333333333333333,
              "#9c179e"
             ],
             [
              0.4444444444444444,
              "#bd3786"
             ],
             [
              0.5555555555555556,
              "#d8576b"
             ],
             [
              0.6666666666666666,
              "#ed7953"
             ],
             [
              0.7777777777777778,
              "#fb9f3a"
             ],
             [
              0.8888888888888888,
              "#fdca26"
             ],
             [
              1,
              "#f0f921"
             ]
            ],
            "type": "heatmap"
           }
          ],
          "heatmapgl": [
           {
            "colorbar": {
             "outlinewidth": 0,
             "ticks": ""
            },
            "colorscale": [
             [
              0,
              "#0d0887"
             ],
             [
              0.1111111111111111,
              "#46039f"
             ],
             [
              0.2222222222222222,
              "#7201a8"
             ],
             [
              0.3333333333333333,
              "#9c179e"
             ],
             [
              0.4444444444444444,
              "#bd3786"
             ],
             [
              0.5555555555555556,
              "#d8576b"
             ],
             [
              0.6666666666666666,
              "#ed7953"
             ],
             [
              0.7777777777777778,
              "#fb9f3a"
             ],
             [
              0.8888888888888888,
              "#fdca26"
             ],
             [
              1,
              "#f0f921"
             ]
            ],
            "type": "heatmapgl"
           }
          ],
          "histogram": [
           {
            "marker": {
             "colorbar": {
              "outlinewidth": 0,
              "ticks": ""
             }
            },
            "type": "histogram"
           }
          ],
          "histogram2d": [
           {
            "colorbar": {
             "outlinewidth": 0,
             "ticks": ""
            },
            "colorscale": [
             [
              0,
              "#0d0887"
             ],
             [
              0.1111111111111111,
              "#46039f"
             ],
             [
              0.2222222222222222,
              "#7201a8"
             ],
             [
              0.3333333333333333,
              "#9c179e"
             ],
             [
              0.4444444444444444,
              "#bd3786"
             ],
             [
              0.5555555555555556,
              "#d8576b"
             ],
             [
              0.6666666666666666,
              "#ed7953"
             ],
             [
              0.7777777777777778,
              "#fb9f3a"
             ],
             [
              0.8888888888888888,
              "#fdca26"
             ],
             [
              1,
              "#f0f921"
             ]
            ],
            "type": "histogram2d"
           }
          ],
          "histogram2dcontour": [
           {
            "colorbar": {
             "outlinewidth": 0,
             "ticks": ""
            },
            "colorscale": [
             [
              0,
              "#0d0887"
             ],
             [
              0.1111111111111111,
              "#46039f"
             ],
             [
              0.2222222222222222,
              "#7201a8"
             ],
             [
              0.3333333333333333,
              "#9c179e"
             ],
             [
              0.4444444444444444,
              "#bd3786"
             ],
             [
              0.5555555555555556,
              "#d8576b"
             ],
             [
              0.6666666666666666,
              "#ed7953"
             ],
             [
              0.7777777777777778,
              "#fb9f3a"
             ],
             [
              0.8888888888888888,
              "#fdca26"
             ],
             [
              1,
              "#f0f921"
             ]
            ],
            "type": "histogram2dcontour"
           }
          ],
          "mesh3d": [
           {
            "colorbar": {
             "outlinewidth": 0,
             "ticks": ""
            },
            "type": "mesh3d"
           }
          ],
          "parcoords": [
           {
            "line": {
             "colorbar": {
              "outlinewidth": 0,
              "ticks": ""
             }
            },
            "type": "parcoords"
           }
          ],
          "pie": [
           {
            "automargin": true,
            "type": "pie"
           }
          ],
          "scatter": [
           {
            "marker": {
             "colorbar": {
              "outlinewidth": 0,
              "ticks": ""
             }
            },
            "type": "scatter"
           }
          ],
          "scatter3d": [
           {
            "line": {
             "colorbar": {
              "outlinewidth": 0,
              "ticks": ""
             }
            },
            "marker": {
             "colorbar": {
              "outlinewidth": 0,
              "ticks": ""
             }
            },
            "type": "scatter3d"
           }
          ],
          "scattercarpet": [
           {
            "marker": {
             "colorbar": {
              "outlinewidth": 0,
              "ticks": ""
             }
            },
            "type": "scattercarpet"
           }
          ],
          "scattergeo": [
           {
            "marker": {
             "colorbar": {
              "outlinewidth": 0,
              "ticks": ""
             }
            },
            "type": "scattergeo"
           }
          ],
          "scattergl": [
           {
            "marker": {
             "colorbar": {
              "outlinewidth": 0,
              "ticks": ""
             }
            },
            "type": "scattergl"
           }
          ],
          "scattermapbox": [
           {
            "marker": {
             "colorbar": {
              "outlinewidth": 0,
              "ticks": ""
             }
            },
            "type": "scattermapbox"
           }
          ],
          "scatterpolar": [
           {
            "marker": {
             "colorbar": {
              "outlinewidth": 0,
              "ticks": ""
             }
            },
            "type": "scatterpolar"
           }
          ],
          "scatterpolargl": [
           {
            "marker": {
             "colorbar": {
              "outlinewidth": 0,
              "ticks": ""
             }
            },
            "type": "scatterpolargl"
           }
          ],
          "scatterternary": [
           {
            "marker": {
             "colorbar": {
              "outlinewidth": 0,
              "ticks": ""
             }
            },
            "type": "scatterternary"
           }
          ],
          "surface": [
           {
            "colorbar": {
             "outlinewidth": 0,
             "ticks": ""
            },
            "colorscale": [
             [
              0,
              "#0d0887"
             ],
             [
              0.1111111111111111,
              "#46039f"
             ],
             [
              0.2222222222222222,
              "#7201a8"
             ],
             [
              0.3333333333333333,
              "#9c179e"
             ],
             [
              0.4444444444444444,
              "#bd3786"
             ],
             [
              0.5555555555555556,
              "#d8576b"
             ],
             [
              0.6666666666666666,
              "#ed7953"
             ],
             [
              0.7777777777777778,
              "#fb9f3a"
             ],
             [
              0.8888888888888888,
              "#fdca26"
             ],
             [
              1,
              "#f0f921"
             ]
            ],
            "type": "surface"
           }
          ],
          "table": [
           {
            "cells": {
             "fill": {
              "color": "#EBF0F8"
             },
             "line": {
              "color": "white"
             }
            },
            "header": {
             "fill": {
              "color": "#C8D4E3"
             },
             "line": {
              "color": "white"
             }
            },
            "type": "table"
           }
          ]
         },
         "layout": {
          "annotationdefaults": {
           "arrowcolor": "#2a3f5f",
           "arrowhead": 0,
           "arrowwidth": 1
          },
          "coloraxis": {
           "colorbar": {
            "outlinewidth": 0,
            "ticks": ""
           }
          },
          "colorscale": {
           "diverging": [
            [
             0,
             "#8e0152"
            ],
            [
             0.1,
             "#c51b7d"
            ],
            [
             0.2,
             "#de77ae"
            ],
            [
             0.3,
             "#f1b6da"
            ],
            [
             0.4,
             "#fde0ef"
            ],
            [
             0.5,
             "#f7f7f7"
            ],
            [
             0.6,
             "#e6f5d0"
            ],
            [
             0.7,
             "#b8e186"
            ],
            [
             0.8,
             "#7fbc41"
            ],
            [
             0.9,
             "#4d9221"
            ],
            [
             1,
             "#276419"
            ]
           ],
           "sequential": [
            [
             0,
             "#0d0887"
            ],
            [
             0.1111111111111111,
             "#46039f"
            ],
            [
             0.2222222222222222,
             "#7201a8"
            ],
            [
             0.3333333333333333,
             "#9c179e"
            ],
            [
             0.4444444444444444,
             "#bd3786"
            ],
            [
             0.5555555555555556,
             "#d8576b"
            ],
            [
             0.6666666666666666,
             "#ed7953"
            ],
            [
             0.7777777777777778,
             "#fb9f3a"
            ],
            [
             0.8888888888888888,
             "#fdca26"
            ],
            [
             1,
             "#f0f921"
            ]
           ],
           "sequentialminus": [
            [
             0,
             "#0d0887"
            ],
            [
             0.1111111111111111,
             "#46039f"
            ],
            [
             0.2222222222222222,
             "#7201a8"
            ],
            [
             0.3333333333333333,
             "#9c179e"
            ],
            [
             0.4444444444444444,
             "#bd3786"
            ],
            [
             0.5555555555555556,
             "#d8576b"
            ],
            [
             0.6666666666666666,
             "#ed7953"
            ],
            [
             0.7777777777777778,
             "#fb9f3a"
            ],
            [
             0.8888888888888888,
             "#fdca26"
            ],
            [
             1,
             "#f0f921"
            ]
           ]
          },
          "colorway": [
           "#636efa",
           "#EF553B",
           "#00cc96",
           "#ab63fa",
           "#FFA15A",
           "#19d3f3",
           "#FF6692",
           "#B6E880",
           "#FF97FF",
           "#FECB52"
          ],
          "font": {
           "color": "#2a3f5f"
          },
          "geo": {
           "bgcolor": "white",
           "lakecolor": "white",
           "landcolor": "#E5ECF6",
           "showlakes": true,
           "showland": true,
           "subunitcolor": "white"
          },
          "hoverlabel": {
           "align": "left"
          },
          "hovermode": "closest",
          "mapbox": {
           "style": "light"
          },
          "paper_bgcolor": "white",
          "plot_bgcolor": "#E5ECF6",
          "polar": {
           "angularaxis": {
            "gridcolor": "white",
            "linecolor": "white",
            "ticks": ""
           },
           "bgcolor": "#E5ECF6",
           "radialaxis": {
            "gridcolor": "white",
            "linecolor": "white",
            "ticks": ""
           }
          },
          "scene": {
           "xaxis": {
            "backgroundcolor": "#E5ECF6",
            "gridcolor": "white",
            "gridwidth": 2,
            "linecolor": "white",
            "showbackground": true,
            "ticks": "",
            "zerolinecolor": "white"
           },
           "yaxis": {
            "backgroundcolor": "#E5ECF6",
            "gridcolor": "white",
            "gridwidth": 2,
            "linecolor": "white",
            "showbackground": true,
            "ticks": "",
            "zerolinecolor": "white"
           },
           "zaxis": {
            "backgroundcolor": "#E5ECF6",
            "gridcolor": "white",
            "gridwidth": 2,
            "linecolor": "white",
            "showbackground": true,
            "ticks": "",
            "zerolinecolor": "white"
           }
          },
          "shapedefaults": {
           "line": {
            "color": "#2a3f5f"
           }
          },
          "ternary": {
           "aaxis": {
            "gridcolor": "white",
            "linecolor": "white",
            "ticks": ""
           },
           "baxis": {
            "gridcolor": "white",
            "linecolor": "white",
            "ticks": ""
           },
           "bgcolor": "#E5ECF6",
           "caxis": {
            "gridcolor": "white",
            "linecolor": "white",
            "ticks": ""
           }
          },
          "title": {
           "x": 0.05
          },
          "xaxis": {
           "automargin": true,
           "gridcolor": "white",
           "linecolor": "white",
           "ticks": "",
           "title": {
            "standoff": 15
           },
           "zerolinecolor": "white",
           "zerolinewidth": 2
          },
          "yaxis": {
           "automargin": true,
           "gridcolor": "white",
           "linecolor": "white",
           "ticks": "",
           "title": {
            "standoff": 15
           },
           "zerolinecolor": "white",
           "zerolinewidth": 2
          }
         }
        },
        "title": {
         "text": "Feature 2"
        }
       }
      }
     },
     "metadata": {}
    },
    {
     "output_type": "display_data",
     "data": {
      "application/vnd.plotly.v1+json": {
       "config": {
        "plotlyServerURL": "https://plot.ly"
       },
       "data": [
        {
         "hovertemplate": "x=%{x}<br>y=%{y}<br>z=%{z}<extra></extra>",
         "legendgroup": "",
         "marker": {
          "color": "#636efa",
          "symbol": "circle"
         },
         "mode": "markers",
         "name": "",
         "scene": "scene",
         "showlegend": false,
         "type": "scatter3d",
         "x": [
          0.6579999923706055,
          0.6669999957084656,
          0.7260000109672546,
          0.8320000171661377,
          0.9150000214576721,
          0.6060000061988831,
          0.012000000104308128,
          0.3700000047683716,
          0.05400000140070915,
          0.7300000190734863,
          0.5540000200271606,
          0.35100001096725464,
          0.13500000536441803,
          0.4909999966621399,
          0.6629999876022339,
          0.5139999985694885,
          0.640999972820282,
          0.16099999845027924,
          0.2759999930858612,
          0.17800000309944153,
          0.6480000019073486,
          0.07400000095367432,
          0.5590000152587891,
          0.3440000116825104,
          0.3630000054836273,
          0.9980000257492065,
          0.5519999861717224,
          0.5580000281333923,
          0.10300000011920929,
          0.28200000524520874,
          0.7609999775886536,
          0.421999990940094,
          0.6499999761581421,
          0.14100000262260437,
          0.22699999809265137,
          0.8240000009536743,
          0.17599999904632568,
          0.7829999923706055,
          0.7480000257492065,
          0.19599999487400055,
          0.6290000081062317,
          0.3179999887943268,
          0.6710000038146973,
          0.017000000923871994,
          0.1599999964237213,
          0.9240000247955322,
          0.9769999980926514,
          0.5860000252723694,
          0.25099998712539673,
          0.414000004529953,
          0.36399999260902405,
          0.7799999713897705,
          0.6980000138282776,
          0.6949999928474426,
          0.5490000247955322,
          0.017999999225139618,
          0.7059999704360962,
          0.9850000143051147,
          0.4009999930858612,
          0.574999988079071,
          0.8920000195503235,
          0.5450000166893005,
          0.9610000252723694,
          0.8999999761581421,
          0.46700000762939453,
          0.4440000057220459,
          0.878000020980835,
          0.6110000014305115,
          0.6940000057220459,
          0.06599999964237213,
          0.1340000033378601,
          0.06499999761581421,
          0.2980000078678131,
          0.8149999976158142,
          0.7360000014305115,
          0.3109999895095825,
          0.5230000019073486,
          0.20600000023841858,
          0.6700000166893005,
          0.5170000195503235,
          0.30799999833106995,
          0.4970000088214874,
          0.781000018119812,
          0.460999995470047,
          0.8999999761581421,
          0.9629999995231628,
          0.32600000500679016,
          0.12600000202655792,
          0.6259999871253967,
          0.052000001072883606,
          0.08799999952316284,
          0.15199999511241913,
          0.0560000017285347,
          0.34299999475479126,
          0.42500001192092896,
          0.07199999690055847,
          0.5929999947547913,
          0.9330000281333923,
          0.5920000076293945,
          0.5450000166893005
         ],
         "y": [
          0.36500000953674316,
          0.6579999923706055,
          0.20900000631809235,
          0.41100001335144043,
          0.6299999952316284,
          0.37700000405311584,
          0.16300000250339508,
          0.7929999828338623,
          0.718999981880188,
          0.7889999747276306,
          0.18400000035762787,
          0.6259999871253967,
          0.7459999918937683,
          0.3089999854564667,
          0.7540000081062317,
          0.009999999776482582,
          0.6850000023841858,
          0.4490000009536743,
          0.6679999828338623,
          0.7639999985694885,
          0.18000000715255737,
          0.4129999876022339,
          0.4020000100135803,
          0.8659999966621399,
          0.48899999260902405,
          0.765999972820282,
          0.9399999976158142,
          0.061000000685453415,
          0.6420000195503235,
          0.906000018119812,
          0.9340000152587891,
          0.8700000047683716,
          0.9340000152587891,
          0.9620000123977661,
          0.7160000205039978,
          0.5299999713897705,
          0.11900000274181366,
          0.8569999933242798,
          0.6620000004768372,
          0.31299999356269836,
          0.019999999552965164,
          0.2409999966621399,
          0.029999999329447746,
          0.11400000005960464,
          0.7749999761581421,
          0.36899998784065247,
          0.3230000138282776,
          0.3799999952316284,
          0.925000011920929,
          0.09099999815225601,
          0.8759999871253967,
          0.6169999837875366,
          0.4399999976158142,
          0.30300000309944153,
          0.6039999723434448,
          0.9100000262260437,
          0.2809999883174896,
          0.8489999771118164,
          0.23899999260902405,
          0.6200000047683716,
          0.7459999918937683,
          0.18700000643730164,
          0.7580000162124634,
          0.5329999923706055,
          0.2409999966621399,
          0.07999999821186066,
          0.2800000011920929,
          0.9570000171661377,
          0.9240000247955322,
          0.03999999910593033,
          0.2029999941587448,
          0.13600000739097595,
          0.5460000038146973,
          0.25,
          0.859000027179718,
          0.4830000102519989,
          0.44999998807907104,
          0.7720000147819519,
          0.7720000147819519,
          0.7229999899864197,
          0.4880000054836273,
          0.5899999737739563,
          0.7850000262260437,
          0.9679999947547913,
          0.40799999237060547,
          0.7670000195503235,
          0.23399999737739563,
          0.7979999780654907,
          0.8230000138282776,
          0.0020000000949949026,
          0.16899999976158142,
          0.609000027179718,
          0.9210000038146973,
          0.03799999877810478,
          0.5559999942779541,
          0.597000002861023,
          0.3310000002384186,
          0.20999999344348907,
          0.7870000004768372,
          0.9039999842643738
         ],
         "z": [
          0.09227229889698099,
          0.1422814969162989,
          0.15910841079938337,
          0.07812369585093557,
          0.14249493217695253,
          0.08586497554727826,
          0.17950903472076302,
          0.18547893363426293,
          0.13790355053044445,
          0.28104890420777784,
          0.16771288325658812,
          0.11001235097286459,
          0.08861276220553176,
          0.1272125035294071,
          0.2504846569602883,
          0.18736387261675205,
          0.17203233997545542,
          0.13524510365103598,
          0.11867396384175449,
          0.11947454042869884,
          0.16701211418177328,
          0.16585532357102223,
          0.0732538696243174,
          0.23513687306652337,
          0.061651066255535555,
          0.2828007358581641,
          0.4852719783683761,
          0.18632498145759102,
          0.1160209573142938,
          0.23381736118560356,
          0.45945672090557166,
          0.3106214268143137,
          0.4931398266702357,
          0.16335248648837014,
          0.12380745415388855,
          0.061058532670726015,
          0.1811415397730371,
          0.34394583840332893,
          0.13420065502230727,
          0.1578304939687148,
          0.18736795429608122,
          0.16176414366227448,
          0.186293916558403,
          0.17825030177369222,
          0.11254013420367615,
          0.11191586738639736,
          0.13541493524490844,
          0.08500625478466223,
          0.23043427356622692,
          0.18417217815166712,
          0.2646561951229853,
          0.0831175218480803,
          0.04665440783908788,
          0.12399529537314513,
          0.08106108531493708,
          0.15159766953359916,
          0.1334576388645474,
          0.3282656578482216,
          0.15764351976068278,
          0.09986230376888641,
          0.17055846961590299,
          0.16680307230057123,
          0.24340018526313456,
          0.09892862199129253,
          0.15334809269311803,
          0.18560714527707456,
          0.14076981238861025,
          0.526760096489037,
          0.47180641461008344,
          0.17825342275267503,
          0.17655582514480817,
          0.1795105175195877,
          0.0767144648028055,
          0.14753009055705074,
          0.3680126605623092,
          0.07445685195809079,
          0.04693612340575018,
          0.136889433871553,
          0.2705867745217594,
          0.19290129774292344,
          0.07287947830158667,
          0.07930282731890062,
          0.25699931313049773,
          0.4687483510375237,
          0.09002132290376938,
          0.2498909710865923,
          0.16277826486656888,
          0.09617320650640938,
          0.33770949354071655,
          0.17616645185306362,
          0.17940675884529,
          0.09386349701009036,
          0.0998005260320649,
          0.18616282539806794,
          0.08043708082126197,
          0.1444786029381419,
          0.1109612897543592,
          0.16194490316685897,
          0.2878141213493868,
          0.4297890927313803
         ]
        }
       ],
       "layout": {
        "legend": {
         "tracegroupgap": 0
        },
        "scene": {
         "domain": {
          "x": [
           0,
           1
          ],
          "y": [
           0,
           1
          ]
         },
         "xaxis": {
          "title": {
           "text": "x"
          }
         },
         "yaxis": {
          "title": {
           "text": "y"
          }
         },
         "zaxis": {
          "title": {
           "text": "z"
          }
         }
        },
        "template": {
         "data": {
          "bar": [
           {
            "error_x": {
             "color": "#2a3f5f"
            },
            "error_y": {
             "color": "#2a3f5f"
            },
            "marker": {
             "line": {
              "color": "#E5ECF6",
              "width": 0.5
             }
            },
            "type": "bar"
           }
          ],
          "barpolar": [
           {
            "marker": {
             "line": {
              "color": "#E5ECF6",
              "width": 0.5
             }
            },
            "type": "barpolar"
           }
          ],
          "carpet": [
           {
            "aaxis": {
             "endlinecolor": "#2a3f5f",
             "gridcolor": "white",
             "linecolor": "white",
             "minorgridcolor": "white",
             "startlinecolor": "#2a3f5f"
            },
            "baxis": {
             "endlinecolor": "#2a3f5f",
             "gridcolor": "white",
             "linecolor": "white",
             "minorgridcolor": "white",
             "startlinecolor": "#2a3f5f"
            },
            "type": "carpet"
           }
          ],
          "choropleth": [
           {
            "colorbar": {
             "outlinewidth": 0,
             "ticks": ""
            },
            "type": "choropleth"
           }
          ],
          "contour": [
           {
            "colorbar": {
             "outlinewidth": 0,
             "ticks": ""
            },
            "colorscale": [
             [
              0,
              "#0d0887"
             ],
             [
              0.1111111111111111,
              "#46039f"
             ],
             [
              0.2222222222222222,
              "#7201a8"
             ],
             [
              0.3333333333333333,
              "#9c179e"
             ],
             [
              0.4444444444444444,
              "#bd3786"
             ],
             [
              0.5555555555555556,
              "#d8576b"
             ],
             [
              0.6666666666666666,
              "#ed7953"
             ],
             [
              0.7777777777777778,
              "#fb9f3a"
             ],
             [
              0.8888888888888888,
              "#fdca26"
             ],
             [
              1,
              "#f0f921"
             ]
            ],
            "type": "contour"
           }
          ],
          "contourcarpet": [
           {
            "colorbar": {
             "outlinewidth": 0,
             "ticks": ""
            },
            "type": "contourcarpet"
           }
          ],
          "heatmap": [
           {
            "colorbar": {
             "outlinewidth": 0,
             "ticks": ""
            },
            "colorscale": [
             [
              0,
              "#0d0887"
             ],
             [
              0.1111111111111111,
              "#46039f"
             ],
             [
              0.2222222222222222,
              "#7201a8"
             ],
             [
              0.3333333333333333,
              "#9c179e"
             ],
             [
              0.4444444444444444,
              "#bd3786"
             ],
             [
              0.5555555555555556,
              "#d8576b"
             ],
             [
              0.6666666666666666,
              "#ed7953"
             ],
             [
              0.7777777777777778,
              "#fb9f3a"
             ],
             [
              0.8888888888888888,
              "#fdca26"
             ],
             [
              1,
              "#f0f921"
             ]
            ],
            "type": "heatmap"
           }
          ],
          "heatmapgl": [
           {
            "colorbar": {
             "outlinewidth": 0,
             "ticks": ""
            },
            "colorscale": [
             [
              0,
              "#0d0887"
             ],
             [
              0.1111111111111111,
              "#46039f"
             ],
             [
              0.2222222222222222,
              "#7201a8"
             ],
             [
              0.3333333333333333,
              "#9c179e"
             ],
             [
              0.4444444444444444,
              "#bd3786"
             ],
             [
              0.5555555555555556,
              "#d8576b"
             ],
             [
              0.6666666666666666,
              "#ed7953"
             ],
             [
              0.7777777777777778,
              "#fb9f3a"
             ],
             [
              0.8888888888888888,
              "#fdca26"
             ],
             [
              1,
              "#f0f921"
             ]
            ],
            "type": "heatmapgl"
           }
          ],
          "histogram": [
           {
            "marker": {
             "colorbar": {
              "outlinewidth": 0,
              "ticks": ""
             }
            },
            "type": "histogram"
           }
          ],
          "histogram2d": [
           {
            "colorbar": {
             "outlinewidth": 0,
             "ticks": ""
            },
            "colorscale": [
             [
              0,
              "#0d0887"
             ],
             [
              0.1111111111111111,
              "#46039f"
             ],
             [
              0.2222222222222222,
              "#7201a8"
             ],
             [
              0.3333333333333333,
              "#9c179e"
             ],
             [
              0.4444444444444444,
              "#bd3786"
             ],
             [
              0.5555555555555556,
              "#d8576b"
             ],
             [
              0.6666666666666666,
              "#ed7953"
             ],
             [
              0.7777777777777778,
              "#fb9f3a"
             ],
             [
              0.8888888888888888,
              "#fdca26"
             ],
             [
              1,
              "#f0f921"
             ]
            ],
            "type": "histogram2d"
           }
          ],
          "histogram2dcontour": [
           {
            "colorbar": {
             "outlinewidth": 0,
             "ticks": ""
            },
            "colorscale": [
             [
              0,
              "#0d0887"
             ],
             [
              0.1111111111111111,
              "#46039f"
             ],
             [
              0.2222222222222222,
              "#7201a8"
             ],
             [
              0.3333333333333333,
              "#9c179e"
             ],
             [
              0.4444444444444444,
              "#bd3786"
             ],
             [
              0.5555555555555556,
              "#d8576b"
             ],
             [
              0.6666666666666666,
              "#ed7953"
             ],
             [
              0.7777777777777778,
              "#fb9f3a"
             ],
             [
              0.8888888888888888,
              "#fdca26"
             ],
             [
              1,
              "#f0f921"
             ]
            ],
            "type": "histogram2dcontour"
           }
          ],
          "mesh3d": [
           {
            "colorbar": {
             "outlinewidth": 0,
             "ticks": ""
            },
            "type": "mesh3d"
           }
          ],
          "parcoords": [
           {
            "line": {
             "colorbar": {
              "outlinewidth": 0,
              "ticks": ""
             }
            },
            "type": "parcoords"
           }
          ],
          "pie": [
           {
            "automargin": true,
            "type": "pie"
           }
          ],
          "scatter": [
           {
            "marker": {
             "colorbar": {
              "outlinewidth": 0,
              "ticks": ""
             }
            },
            "type": "scatter"
           }
          ],
          "scatter3d": [
           {
            "line": {
             "colorbar": {
              "outlinewidth": 0,
              "ticks": ""
             }
            },
            "marker": {
             "colorbar": {
              "outlinewidth": 0,
              "ticks": ""
             }
            },
            "type": "scatter3d"
           }
          ],
          "scattercarpet": [
           {
            "marker": {
             "colorbar": {
              "outlinewidth": 0,
              "ticks": ""
             }
            },
            "type": "scattercarpet"
           }
          ],
          "scattergeo": [
           {
            "marker": {
             "colorbar": {
              "outlinewidth": 0,
              "ticks": ""
             }
            },
            "type": "scattergeo"
           }
          ],
          "scattergl": [
           {
            "marker": {
             "colorbar": {
              "outlinewidth": 0,
              "ticks": ""
             }
            },
            "type": "scattergl"
           }
          ],
          "scattermapbox": [
           {
            "marker": {
             "colorbar": {
              "outlinewidth": 0,
              "ticks": ""
             }
            },
            "type": "scattermapbox"
           }
          ],
          "scatterpolar": [
           {
            "marker": {
             "colorbar": {
              "outlinewidth": 0,
              "ticks": ""
             }
            },
            "type": "scatterpolar"
           }
          ],
          "scatterpolargl": [
           {
            "marker": {
             "colorbar": {
              "outlinewidth": 0,
              "ticks": ""
             }
            },
            "type": "scatterpolargl"
           }
          ],
          "scatterternary": [
           {
            "marker": {
             "colorbar": {
              "outlinewidth": 0,
              "ticks": ""
             }
            },
            "type": "scatterternary"
           }
          ],
          "surface": [
           {
            "colorbar": {
             "outlinewidth": 0,
             "ticks": ""
            },
            "colorscale": [
             [
              0,
              "#0d0887"
             ],
             [
              0.1111111111111111,
              "#46039f"
             ],
             [
              0.2222222222222222,
              "#7201a8"
             ],
             [
              0.3333333333333333,
              "#9c179e"
             ],
             [
              0.4444444444444444,
              "#bd3786"
             ],
             [
              0.5555555555555556,
              "#d8576b"
             ],
             [
              0.6666666666666666,
              "#ed7953"
             ],
             [
              0.7777777777777778,
              "#fb9f3a"
             ],
             [
              0.8888888888888888,
              "#fdca26"
             ],
             [
              1,
              "#f0f921"
             ]
            ],
            "type": "surface"
           }
          ],
          "table": [
           {
            "cells": {
             "fill": {
              "color": "#EBF0F8"
             },
             "line": {
              "color": "white"
             }
            },
            "header": {
             "fill": {
              "color": "#C8D4E3"
             },
             "line": {
              "color": "white"
             }
            },
            "type": "table"
           }
          ]
         },
         "layout": {
          "annotationdefaults": {
           "arrowcolor": "#2a3f5f",
           "arrowhead": 0,
           "arrowwidth": 1
          },
          "coloraxis": {
           "colorbar": {
            "outlinewidth": 0,
            "ticks": ""
           }
          },
          "colorscale": {
           "diverging": [
            [
             0,
             "#8e0152"
            ],
            [
             0.1,
             "#c51b7d"
            ],
            [
             0.2,
             "#de77ae"
            ],
            [
             0.3,
             "#f1b6da"
            ],
            [
             0.4,
             "#fde0ef"
            ],
            [
             0.5,
             "#f7f7f7"
            ],
            [
             0.6,
             "#e6f5d0"
            ],
            [
             0.7,
             "#b8e186"
            ],
            [
             0.8,
             "#7fbc41"
            ],
            [
             0.9,
             "#4d9221"
            ],
            [
             1,
             "#276419"
            ]
           ],
           "sequential": [
            [
             0,
             "#0d0887"
            ],
            [
             0.1111111111111111,
             "#46039f"
            ],
            [
             0.2222222222222222,
             "#7201a8"
            ],
            [
             0.3333333333333333,
             "#9c179e"
            ],
            [
             0.4444444444444444,
             "#bd3786"
            ],
            [
             0.5555555555555556,
             "#d8576b"
            ],
            [
             0.6666666666666666,
             "#ed7953"
            ],
            [
             0.7777777777777778,
             "#fb9f3a"
            ],
            [
             0.8888888888888888,
             "#fdca26"
            ],
            [
             1,
             "#f0f921"
            ]
           ],
           "sequentialminus": [
            [
             0,
             "#0d0887"
            ],
            [
             0.1111111111111111,
             "#46039f"
            ],
            [
             0.2222222222222222,
             "#7201a8"
            ],
            [
             0.3333333333333333,
             "#9c179e"
            ],
            [
             0.4444444444444444,
             "#bd3786"
            ],
            [
             0.5555555555555556,
             "#d8576b"
            ],
            [
             0.6666666666666666,
             "#ed7953"
            ],
            [
             0.7777777777777778,
             "#fb9f3a"
            ],
            [
             0.8888888888888888,
             "#fdca26"
            ],
            [
             1,
             "#f0f921"
            ]
           ]
          },
          "colorway": [
           "#636efa",
           "#EF553B",
           "#00cc96",
           "#ab63fa",
           "#FFA15A",
           "#19d3f3",
           "#FF6692",
           "#B6E880",
           "#FF97FF",
           "#FECB52"
          ],
          "font": {
           "color": "#2a3f5f"
          },
          "geo": {
           "bgcolor": "white",
           "lakecolor": "white",
           "landcolor": "#E5ECF6",
           "showlakes": true,
           "showland": true,
           "subunitcolor": "white"
          },
          "hoverlabel": {
           "align": "left"
          },
          "hovermode": "closest",
          "mapbox": {
           "style": "light"
          },
          "paper_bgcolor": "white",
          "plot_bgcolor": "#E5ECF6",
          "polar": {
           "angularaxis": {
            "gridcolor": "white",
            "linecolor": "white",
            "ticks": ""
           },
           "bgcolor": "#E5ECF6",
           "radialaxis": {
            "gridcolor": "white",
            "linecolor": "white",
            "ticks": ""
           }
          },
          "scene": {
           "xaxis": {
            "backgroundcolor": "#E5ECF6",
            "gridcolor": "white",
            "gridwidth": 2,
            "linecolor": "white",
            "showbackground": true,
            "ticks": "",
            "zerolinecolor": "white"
           },
           "yaxis": {
            "backgroundcolor": "#E5ECF6",
            "gridcolor": "white",
            "gridwidth": 2,
            "linecolor": "white",
            "showbackground": true,
            "ticks": "",
            "zerolinecolor": "white"
           },
           "zaxis": {
            "backgroundcolor": "#E5ECF6",
            "gridcolor": "white",
            "gridwidth": 2,
            "linecolor": "white",
            "showbackground": true,
            "ticks": "",
            "zerolinecolor": "white"
           }
          },
          "shapedefaults": {
           "line": {
            "color": "#2a3f5f"
           }
          },
          "ternary": {
           "aaxis": {
            "gridcolor": "white",
            "linecolor": "white",
            "ticks": ""
           },
           "baxis": {
            "gridcolor": "white",
            "linecolor": "white",
            "ticks": ""
           },
           "bgcolor": "#E5ECF6",
           "caxis": {
            "gridcolor": "white",
            "linecolor": "white",
            "ticks": ""
           }
          },
          "title": {
           "x": 0.05
          },
          "xaxis": {
           "automargin": true,
           "gridcolor": "white",
           "linecolor": "white",
           "ticks": "",
           "title": {
            "standoff": 15
           },
           "zerolinecolor": "white",
           "zerolinewidth": 2
          },
          "yaxis": {
           "automargin": true,
           "gridcolor": "white",
           "linecolor": "white",
           "ticks": "",
           "title": {
            "standoff": 15
           },
           "zerolinecolor": "white",
           "zerolinewidth": 2
          }
         }
        },
        "title": {
         "text": "MAE"
        }
       }
      }
     },
     "metadata": {}
    }
   ],
   "source": [
    "# outputs = np.sum(RBFNet.f_of_x, axis=0)\n",
    "outputs = np.mean(RBFNet.f_of_x, axis=0)\n",
    "# outputs = RBFNet.f_of_x[1]\n",
    "# outputs = RBFNet.f_of_x[1] - RBFNet.f_of_x[0]\n",
    "mae = np.mean(np.abs(ty-outputs), axis=1)\n",
    "maefig = ex.scatter_3d(x=tx[:,0], y=tx[:,1], z=mae, title=\"MAE\")\n",
    "\n",
    "fig1 = ex.scatter_3d(x=tx[:,0], y=tx[:,1], z=ty[:,0], title=\"Feature 1\")\n",
    "fig2 = ex.scatter_3d(x=tx[:,0], y=tx[:,1], z=ty[:,1], title=\"Feature 2\")\n",
    "\n",
    "fig1.add_trace(go.Scatter3d(x=tx[:,0], y=tx[:,1], z=outputs[:,0], mode=\"markers\",name=\"p1\"))\n",
    "fig2.add_trace(go.Scatter3d(x=tx[:,0], y=tx[:,1], z=outputs[:,1], mode=\"markers\",name=\"p2\"))\n",
    "\n",
    "\n",
    "fig1.show()\n",
    "fig2.show()\n",
    "maefig.show()"
   ]
  },
  {
   "cell_type": "code",
   "execution_count": 240,
   "metadata": {
    "tags": []
   },
   "outputs": [
    {
     "output_type": "stream",
     "name": "stdout",
     "text": "[[0.5200957  0.51857686]\n [0.52392626 0.5201171 ]\n [0.52077186 0.5181832 ]\n [0.52173585 0.52055633]\n [0.5291993  0.5190004 ]\n [0.522605   0.5213044 ]\n [0.5266128  0.5188718 ]\n [0.5244044  0.521691  ]\n [0.52271897 0.5175167 ]\n [0.5220817  0.51805735]\n [0.5202942  0.51773745]\n [0.5269549  0.52212995]\n [0.5213842  0.51788706]\n [0.52149975 0.5142093 ]\n [0.52459115 0.5162019 ]\n [0.52449733 0.51473016]\n [0.52214    0.51917845]\n [0.52288896 0.5150612 ]\n [0.5278722  0.5203877 ]\n [0.5241938  0.52292675]]\n"
    }
   ],
   "source": [
    "print(RBFNet.mean)"
   ]
  },
  {
   "cell_type": "code",
   "execution_count": null,
   "metadata": {},
   "outputs": [],
   "source": []
  }
 ]
}