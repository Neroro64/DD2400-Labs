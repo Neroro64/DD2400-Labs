{
 "metadata": {
  "language_info": {
   "codemirror_mode": {
    "name": "ipython",
    "version": 3
   },
   "file_extension": ".py",
   "mimetype": "text/x-python",
   "name": "python",
   "nbconvert_exporter": "python",
   "pygments_lexer": "ipython3",
   "version": "3.8.3-final"
  },
  "orig_nbformat": 2,
  "kernelspec": {
   "name": "python_defaultSpec_1600676192159",
   "display_name": "Python 3.8.3 64-bit ('anaconda3': virtualenv)"
  }
 },
 "nbformat": 4,
 "nbformat_minor": 2,
 "cells": [
  {
   "cell_type": "code",
   "execution_count": 1,
   "metadata": {},
   "outputs": [],
   "source": [
    "import numpy as np\n",
    "import plotly.express as ex\n",
    "import plotly.graph_objects as go\n",
    "from plotly.subplots import make_subplots\n",
    "\n",
    "\n",
    "SEED = 2020"
   ]
  },
  {
   "cell_type": "code",
   "execution_count": 174,
   "metadata": {},
   "outputs": [],
   "source": [
    "class RBF_Network:\n",
    "    def __init__(self, n, inputs, variance=1, add_noise=False, useDelta=False, eta=0.1, useSqr=False):\n",
    "        \"\"\"\n",
    "        weights : (n, 1)\n",
    "        mean : (n, 1)\n",
    "        variance : (n, 1)\n",
    "        \"\"\"\n",
    "        \n",
    "        np.random.seed(SEED)\n",
    "\n",
    "        self.n = n\n",
    "        self.add_noise = add_noise\n",
    "        self.useDelta = useDelta\n",
    "        self.eta = eta\n",
    "        self.useSqr=useSqr\n",
    "\n",
    "        # set position and width for each node\n",
    "        self.mean = self.mu_random_choice(inputs)\n",
    "        self.std = np.ones((n,inputs.shape[1]))*variance\n",
    "\n",
    "        self.W = np.random.randn(self.n, inputs.shape[1])\n",
    "        \n",
    "        self.phi_of_x = np.reshape(np.array(self.mean), (1,-1))\n",
    "        self.total_error = []\n",
    "        self.residual_error = []\n",
    "        self.f_of_x = []\n",
    "\n",
    "    def mu_random_choice(self, inputs):\n",
    "        \"\"\"\n",
    "        x = Input patterns\n",
    "        n = number of nodes\n",
    "        \"\"\"\n",
    "        # idx = np.random.choice(np.arange(x.shape[0]), (self.n))\n",
    "        # return inputs[idx]\n",
    "        return np.random.choice(x.ravel(),(self.n,inputs.shape[1]))\n",
    "\n",
    "    def train_network(self, epochs, train_data, train_label, test_data=[], test_label=[]):\n",
    "        \"\"\"\n",
    "        train_data, test_data : (N,1)\n",
    "        train_label test_label : (N,1)\n",
    "        \"\"\"\n",
    "        for e in range(0, epochs):\n",
    "            if (self.add_noise):\n",
    "                train_targets = self.add_noise_to_targets(train_label)\n",
    "                test_targets = self.add_noise_to_targets(test_label)\n",
    "            else:\n",
    "                train_targets = train_label\n",
    "                test_targets = test_label\n",
    "                 \n",
    "            if (self.useDelta):\n",
    "                self.delta_learning(train_data, train_targets, test_data, test_targets)\n",
    "            else:\n",
    "                self.lsqr(train_data, train_targets)\n",
    "            \n",
    "\n",
    "    def add_noise_to_targets(self, x, std=0.1):\n",
    "        t = np.copy(x)\n",
    "        noise = np.random.normal(0,std,(x.shape))\n",
    "        return t + noise\n",
    "    \n",
    "    def forward(self, x):\n",
    "        self.phi_of_x = np.array([self.activation_fxn(x, i) for i in range(self.n)]).T\n",
    "        self.f_of_x= self.phi_of_x @ self.W\n",
    "\n",
    "    def activation_fxn(self, x, i):\n",
    "        _x = x\n",
    "        if (x.ndim > 1):\n",
    "            if (x.shape[1] == 1):\n",
    "                _x = x.ravel()\n",
    "\n",
    "        _mu = self.mean[i].ravel()\n",
    "        _std = self.std[i].ravel()\n",
    "\n",
    "        return np.exp((-(_x-_mu)**2) / 2*(_std**2))\n",
    "\n",
    "    def calc_total_error(self, label):\n",
    "        \"\"\"\n",
    "        MSE\n",
    "        \"\"\"\n",
    "        self.total_error.append(np.mean((self.f_of_x-label)**2))\n",
    "\n",
    "    def update_weights(self, label):\n",
    "        self.W, _,_,_ = np.linalg.lstsq(self.phi_of_x, label.ravel())\n",
    "        self.W.reshape((-1,1))\n",
    "\n",
    "    def lsqr(self, x, y):\n",
    "        self.forward(x)\n",
    "        self.update_weights(y)\n",
    "\n",
    "    def delta_learning(self, x, y, tx, ty):\n",
    "        errors = np.zeros(len(x))\n",
    "        for i in range(len(x)):\n",
    "            self.forward(x[i])\n",
    "            error = y[i] - self.f_of_x\n",
    "            self.W += (self.eta * error)[0] * self.phi_of_x.T\n",
    "\n",
    "            if (len(tx) > 0):\n",
    "                errors[i] = self.validate(tx[i], ty[i])\n",
    "        \n",
    "        self.residual_error.append(np.mean(errors))\n",
    "         \n",
    "    def validate(self, test_data, test_label, _plot=False):\n",
    "        self.forward(test_data)\n",
    "        if (self.useSqr):\n",
    "            output = np.sign(self.f_of_x)\n",
    "        else:\n",
    "            output = self.f_of_x\n",
    "        \n",
    "        if _plot == True:\n",
    "            fig = make_subplots(rows=1, cols=2, subplot_titles=(\"Validation with n={}\".format(self.n), \"Residual error\"))\n",
    "            fig.add_trace(go.Scatter(x=np.arange(len(self.residual_error)), y=self.residual_error, mode=\"lines\", name=\"Residual error\"), row=1, col=2)\n",
    "            fig.add_trace(go.Scatter(x=test_data.ravel(), y=test_label.ravel(), mode=\"lines\", name=\"Original\"), row=1, col=1)\n",
    "            fig.add_trace(go.Scatter(x=test_data.ravel(), y=output.ravel(), mode=\"lines\", name=\"Approximated\"), row=1, col=1)\n",
    "\n",
    "            fig.show()\n",
    "\n",
    "        return np.mean(np.abs(output-test_label)) \n",
    "        \n",
    "    def init_cl(self, inputs, epochs, eta, useBias=False, bias_w=1e-2):\n",
    "        \"\"\"\n",
    "        Run CL-algorithm for positioning the nodes\n",
    "        Use bias to eliminate dead nodes\n",
    "        \"\"\"\n",
    "        k = inputs.shape[1]\n",
    "        b = np.ones((self.n,1)) * 1/self.n # Bias for each node\n",
    "        wins = np.zeros((self.n,1)) # Counting the number of wins for each ndoe\n",
    "        x = np.copy(inputs)\n",
    "\n",
    "        for i in range(epochs):\n",
    "            np.random.shuffle(x)\n",
    "            for x_i in x:\n",
    "                error = x_i - self.mean\n",
    "                dist = np.sum(error*2,axis=1, keepdims=True)\n",
    "\n",
    "                if (useBias):\n",
    "                    dist -= bias_w * b\n",
    "\n",
    "                winner = np.argmin(dist)\n",
    "                self.mean[winner,:] += eta*error[winner,:]\n",
    "                wins[winner]+=1       \n",
    "\n",
    "                if (useBias):\n",
    "                    b = 1/self.n - wins/(winner+1)   \n",
    "             \n",
    "\n",
    "        return wins\n",
    "                \n",
    "\n",
    "\n",
    "\n",
    "\n",
    "\n"
   ]
  },
  {
   "cell_type": "code",
   "execution_count": 3,
   "metadata": {},
   "outputs": [],
   "source": [
    "def data_gen(start, end, step=0.1):\n",
    "    x = np.arange(start, end, step).reshape((-1,1))\n",
    "    sin_data = np.sin(2*x).reshape((-1,1))\n",
    "    sqr_data = np.sign(sin_data)\n",
    "    return x, sin_data, sqr_data\n",
    "\n",
    "def plot_fx_n_errror(patterns, targets, approximation, res_error, titles):\n",
    "    fig = make_subplots(rows=1, cols=2, subplot_titles=(titles[0], titles[1]))\n",
    "    fig.add_trace(go.Scatter(x=np.arange(len(res_error)), y=res_error, mode=\"lines\", name=\"Residual error\"), row=1, col=2)\n",
    "    fig.add_trace(go.Scatter(x=x.ravel(), y=y.ravel(), mode=\"lines\", name=\"Original\"), row=1, col=1)\n",
    "    fig.add_trace(go.Scatter(x=x.ravel(), y=approximation.ravel(), mode=\"lines\", name=\"Approximated\"), row=1, col=1)\n",
    "\n",
    "    fig.show()\n"
   ]
  },
  {
   "cell_type": "code",
   "execution_count": 66,
   "metadata": {
    "tags": []
   },
   "outputs": [
    {
     "output_type": "display_data",
     "data": {
      "application/vnd.plotly.v1+json": {
       "config": {
        "plotlyServerURL": "https://plot.ly"
       },
       "data": [
        {
         "mode": "lines",
         "name": "sin(x)",
         "type": "scatter",
         "x": [
          0,
          0.1,
          0.2,
          0.30000000000000004,
          0.4,
          0.5,
          0.6000000000000001,
          0.7000000000000001,
          0.8,
          0.9,
          1,
          1.1,
          1.2000000000000002,
          1.3,
          1.4000000000000001,
          1.5,
          1.6,
          1.7000000000000002,
          1.8,
          1.9000000000000001,
          2,
          2.1,
          2.2,
          2.3000000000000003,
          2.4000000000000004,
          2.5,
          2.6,
          2.7,
          2.8000000000000003,
          2.9000000000000004,
          3,
          3.1,
          3.2,
          3.3000000000000003,
          3.4000000000000004,
          3.5,
          3.6,
          3.7,
          3.8000000000000003,
          3.9000000000000004,
          4,
          4.1000000000000005,
          4.2,
          4.3,
          4.4,
          4.5,
          4.6000000000000005,
          4.7,
          4.800000000000001,
          4.9,
          5,
          5.1000000000000005,
          5.2,
          5.300000000000001,
          5.4,
          5.5,
          5.6000000000000005,
          5.7,
          5.800000000000001,
          5.9,
          6,
          6.1000000000000005,
          6.2
         ],
         "y": [
          0,
          0.19866933079506122,
          0.3894183423086505,
          0.5646424733950355,
          0.7173560908995228,
          0.8414709848078965,
          0.9320390859672264,
          0.9854497299884603,
          0.9995736030415051,
          0.9738476308781951,
          0.9092974268256817,
          0.8084964038195901,
          0.6754631805511506,
          0.5155013718214642,
          0.33498815015590466,
          0.1411200080598672,
          -0.058374143427580086,
          -0.25554110202683167,
          -0.44252044329485246,
          -0.6118578909427193,
          -0.7568024953079282,
          -0.8715757724135882,
          -0.951602073889516,
          -0.9936910036334645,
          -0.9961646088358406,
          -0.9589242746631385,
          -0.8834546557201531,
          -0.7727644875559871,
          -0.6312666378723208,
          -0.4646021794137566,
          -0.27941549819892586,
          -0.0830894028174964,
          0.11654920485049364,
          0.3115413635133787,
          0.49411335113860894,
          0.6569865987187891,
          0.7936678638491531,
          0.8987080958116269,
          0.9679196720314865,
          0.998543345374605,
          0.9893582466233818,
          0.9407305566797726,
          0.8545989080882804,
          0.7343970978741133,
          0.5849171928917617,
          0.4121184852417566,
          0.22288991410024592,
          0.024775425453357765,
          -0.1743267812229814,
          -0.3664791292519284,
          -0.5440211108893698,
          -0.6998746875935437,
          -0.8278264690856537,
          -0.9227754216128073,
          -0.9809362300664916,
          -0.9999902065507035,
          -0.979177729151317,
          -0.9193285256646757,
          -0.8228285949687079,
          -0.6935250847771224,
          -0.5365729180004349,
          -0.35822928223682704,
          -0.1656041754483094
         ]
        },
        {
         "mode": "lines",
         "name": "sqr(x)",
         "type": "scatter",
         "x": [
          0,
          0.1,
          0.2,
          0.30000000000000004,
          0.4,
          0.5,
          0.6000000000000001,
          0.7000000000000001,
          0.8,
          0.9,
          1,
          1.1,
          1.2000000000000002,
          1.3,
          1.4000000000000001,
          1.5,
          1.6,
          1.7000000000000002,
          1.8,
          1.9000000000000001,
          2,
          2.1,
          2.2,
          2.3000000000000003,
          2.4000000000000004,
          2.5,
          2.6,
          2.7,
          2.8000000000000003,
          2.9000000000000004,
          3,
          3.1,
          3.2,
          3.3000000000000003,
          3.4000000000000004,
          3.5,
          3.6,
          3.7,
          3.8000000000000003,
          3.9000000000000004,
          4,
          4.1000000000000005,
          4.2,
          4.3,
          4.4,
          4.5,
          4.6000000000000005,
          4.7,
          4.800000000000001,
          4.9,
          5,
          5.1000000000000005,
          5.2,
          5.300000000000001,
          5.4,
          5.5,
          5.6000000000000005,
          5.7,
          5.800000000000001,
          5.9,
          6,
          6.1000000000000005,
          6.2
         ],
         "y": [
          0,
          1,
          1,
          1,
          1,
          1,
          1,
          1,
          1,
          1,
          1,
          1,
          1,
          1,
          1,
          1,
          -1,
          -1,
          -1,
          -1,
          -1,
          -1,
          -1,
          -1,
          -1,
          -1,
          -1,
          -1,
          -1,
          -1,
          -1,
          -1,
          1,
          1,
          1,
          1,
          1,
          1,
          1,
          1,
          1,
          1,
          1,
          1,
          1,
          1,
          1,
          1,
          -1,
          -1,
          -1,
          -1,
          -1,
          -1,
          -1,
          -1,
          -1,
          -1,
          -1,
          -1,
          -1,
          -1,
          -1
         ]
        }
       ],
       "layout": {
        "template": {
         "data": {
          "bar": [
           {
            "error_x": {
             "color": "#2a3f5f"
            },
            "error_y": {
             "color": "#2a3f5f"
            },
            "marker": {
             "line": {
              "color": "#E5ECF6",
              "width": 0.5
             }
            },
            "type": "bar"
           }
          ],
          "barpolar": [
           {
            "marker": {
             "line": {
              "color": "#E5ECF6",
              "width": 0.5
             }
            },
            "type": "barpolar"
           }
          ],
          "carpet": [
           {
            "aaxis": {
             "endlinecolor": "#2a3f5f",
             "gridcolor": "white",
             "linecolor": "white",
             "minorgridcolor": "white",
             "startlinecolor": "#2a3f5f"
            },
            "baxis": {
             "endlinecolor": "#2a3f5f",
             "gridcolor": "white",
             "linecolor": "white",
             "minorgridcolor": "white",
             "startlinecolor": "#2a3f5f"
            },
            "type": "carpet"
           }
          ],
          "choropleth": [
           {
            "colorbar": {
             "outlinewidth": 0,
             "ticks": ""
            },
            "type": "choropleth"
           }
          ],
          "contour": [
           {
            "colorbar": {
             "outlinewidth": 0,
             "ticks": ""
            },
            "colorscale": [
             [
              0,
              "#0d0887"
             ],
             [
              0.1111111111111111,
              "#46039f"
             ],
             [
              0.2222222222222222,
              "#7201a8"
             ],
             [
              0.3333333333333333,
              "#9c179e"
             ],
             [
              0.4444444444444444,
              "#bd3786"
             ],
             [
              0.5555555555555556,
              "#d8576b"
             ],
             [
              0.6666666666666666,
              "#ed7953"
             ],
             [
              0.7777777777777778,
              "#fb9f3a"
             ],
             [
              0.8888888888888888,
              "#fdca26"
             ],
             [
              1,
              "#f0f921"
             ]
            ],
            "type": "contour"
           }
          ],
          "contourcarpet": [
           {
            "colorbar": {
             "outlinewidth": 0,
             "ticks": ""
            },
            "type": "contourcarpet"
           }
          ],
          "heatmap": [
           {
            "colorbar": {
             "outlinewidth": 0,
             "ticks": ""
            },
            "colorscale": [
             [
              0,
              "#0d0887"
             ],
             [
              0.1111111111111111,
              "#46039f"
             ],
             [
              0.2222222222222222,
              "#7201a8"
             ],
             [
              0.3333333333333333,
              "#9c179e"
             ],
             [
              0.4444444444444444,
              "#bd3786"
             ],
             [
              0.5555555555555556,
              "#d8576b"
             ],
             [
              0.6666666666666666,
              "#ed7953"
             ],
             [
              0.7777777777777778,
              "#fb9f3a"
             ],
             [
              0.8888888888888888,
              "#fdca26"
             ],
             [
              1,
              "#f0f921"
             ]
            ],
            "type": "heatmap"
           }
          ],
          "heatmapgl": [
           {
            "colorbar": {
             "outlinewidth": 0,
             "ticks": ""
            },
            "colorscale": [
             [
              0,
              "#0d0887"
             ],
             [
              0.1111111111111111,
              "#46039f"
             ],
             [
              0.2222222222222222,
              "#7201a8"
             ],
             [
              0.3333333333333333,
              "#9c179e"
             ],
             [
              0.4444444444444444,
              "#bd3786"
             ],
             [
              0.5555555555555556,
              "#d8576b"
             ],
             [
              0.6666666666666666,
              "#ed7953"
             ],
             [
              0.7777777777777778,
              "#fb9f3a"
             ],
             [
              0.8888888888888888,
              "#fdca26"
             ],
             [
              1,
              "#f0f921"
             ]
            ],
            "type": "heatmapgl"
           }
          ],
          "histogram": [
           {
            "marker": {
             "colorbar": {
              "outlinewidth": 0,
              "ticks": ""
             }
            },
            "type": "histogram"
           }
          ],
          "histogram2d": [
           {
            "colorbar": {
             "outlinewidth": 0,
             "ticks": ""
            },
            "colorscale": [
             [
              0,
              "#0d0887"
             ],
             [
              0.1111111111111111,
              "#46039f"
             ],
             [
              0.2222222222222222,
              "#7201a8"
             ],
             [
              0.3333333333333333,
              "#9c179e"
             ],
             [
              0.4444444444444444,
              "#bd3786"
             ],
             [
              0.5555555555555556,
              "#d8576b"
             ],
             [
              0.6666666666666666,
              "#ed7953"
             ],
             [
              0.7777777777777778,
              "#fb9f3a"
             ],
             [
              0.8888888888888888,
              "#fdca26"
             ],
             [
              1,
              "#f0f921"
             ]
            ],
            "type": "histogram2d"
           }
          ],
          "histogram2dcontour": [
           {
            "colorbar": {
             "outlinewidth": 0,
             "ticks": ""
            },
            "colorscale": [
             [
              0,
              "#0d0887"
             ],
             [
              0.1111111111111111,
              "#46039f"
             ],
             [
              0.2222222222222222,
              "#7201a8"
             ],
             [
              0.3333333333333333,
              "#9c179e"
             ],
             [
              0.4444444444444444,
              "#bd3786"
             ],
             [
              0.5555555555555556,
              "#d8576b"
             ],
             [
              0.6666666666666666,
              "#ed7953"
             ],
             [
              0.7777777777777778,
              "#fb9f3a"
             ],
             [
              0.8888888888888888,
              "#fdca26"
             ],
             [
              1,
              "#f0f921"
             ]
            ],
            "type": "histogram2dcontour"
           }
          ],
          "mesh3d": [
           {
            "colorbar": {
             "outlinewidth": 0,
             "ticks": ""
            },
            "type": "mesh3d"
           }
          ],
          "parcoords": [
           {
            "line": {
             "colorbar": {
              "outlinewidth": 0,
              "ticks": ""
             }
            },
            "type": "parcoords"
           }
          ],
          "pie": [
           {
            "automargin": true,
            "type": "pie"
           }
          ],
          "scatter": [
           {
            "marker": {
             "colorbar": {
              "outlinewidth": 0,
              "ticks": ""
             }
            },
            "type": "scatter"
           }
          ],
          "scatter3d": [
           {
            "line": {
             "colorbar": {
              "outlinewidth": 0,
              "ticks": ""
             }
            },
            "marker": {
             "colorbar": {
              "outlinewidth": 0,
              "ticks": ""
             }
            },
            "type": "scatter3d"
           }
          ],
          "scattercarpet": [
           {
            "marker": {
             "colorbar": {
              "outlinewidth": 0,
              "ticks": ""
             }
            },
            "type": "scattercarpet"
           }
          ],
          "scattergeo": [
           {
            "marker": {
             "colorbar": {
              "outlinewidth": 0,
              "ticks": ""
             }
            },
            "type": "scattergeo"
           }
          ],
          "scattergl": [
           {
            "marker": {
             "colorbar": {
              "outlinewidth": 0,
              "ticks": ""
             }
            },
            "type": "scattergl"
           }
          ],
          "scattermapbox": [
           {
            "marker": {
             "colorbar": {
              "outlinewidth": 0,
              "ticks": ""
             }
            },
            "type": "scattermapbox"
           }
          ],
          "scatterpolar": [
           {
            "marker": {
             "colorbar": {
              "outlinewidth": 0,
              "ticks": ""
             }
            },
            "type": "scatterpolar"
           }
          ],
          "scatterpolargl": [
           {
            "marker": {
             "colorbar": {
              "outlinewidth": 0,
              "ticks": ""
             }
            },
            "type": "scatterpolargl"
           }
          ],
          "scatterternary": [
           {
            "marker": {
             "colorbar": {
              "outlinewidth": 0,
              "ticks": ""
             }
            },
            "type": "scatterternary"
           }
          ],
          "surface": [
           {
            "colorbar": {
             "outlinewidth": 0,
             "ticks": ""
            },
            "colorscale": [
             [
              0,
              "#0d0887"
             ],
             [
              0.1111111111111111,
              "#46039f"
             ],
             [
              0.2222222222222222,
              "#7201a8"
             ],
             [
              0.3333333333333333,
              "#9c179e"
             ],
             [
              0.4444444444444444,
              "#bd3786"
             ],
             [
              0.5555555555555556,
              "#d8576b"
             ],
             [
              0.6666666666666666,
              "#ed7953"
             ],
             [
              0.7777777777777778,
              "#fb9f3a"
             ],
             [
              0.8888888888888888,
              "#fdca26"
             ],
             [
              1,
              "#f0f921"
             ]
            ],
            "type": "surface"
           }
          ],
          "table": [
           {
            "cells": {
             "fill": {
              "color": "#EBF0F8"
             },
             "line": {
              "color": "white"
             }
            },
            "header": {
             "fill": {
              "color": "#C8D4E3"
             },
             "line": {
              "color": "white"
             }
            },
            "type": "table"
           }
          ]
         },
         "layout": {
          "annotationdefaults": {
           "arrowcolor": "#2a3f5f",
           "arrowhead": 0,
           "arrowwidth": 1
          },
          "coloraxis": {
           "colorbar": {
            "outlinewidth": 0,
            "ticks": ""
           }
          },
          "colorscale": {
           "diverging": [
            [
             0,
             "#8e0152"
            ],
            [
             0.1,
             "#c51b7d"
            ],
            [
             0.2,
             "#de77ae"
            ],
            [
             0.3,
             "#f1b6da"
            ],
            [
             0.4,
             "#fde0ef"
            ],
            [
             0.5,
             "#f7f7f7"
            ],
            [
             0.6,
             "#e6f5d0"
            ],
            [
             0.7,
             "#b8e186"
            ],
            [
             0.8,
             "#7fbc41"
            ],
            [
             0.9,
             "#4d9221"
            ],
            [
             1,
             "#276419"
            ]
           ],
           "sequential": [
            [
             0,
             "#0d0887"
            ],
            [
             0.1111111111111111,
             "#46039f"
            ],
            [
             0.2222222222222222,
             "#7201a8"
            ],
            [
             0.3333333333333333,
             "#9c179e"
            ],
            [
             0.4444444444444444,
             "#bd3786"
            ],
            [
             0.5555555555555556,
             "#d8576b"
            ],
            [
             0.6666666666666666,
             "#ed7953"
            ],
            [
             0.7777777777777778,
             "#fb9f3a"
            ],
            [
             0.8888888888888888,
             "#fdca26"
            ],
            [
             1,
             "#f0f921"
            ]
           ],
           "sequentialminus": [
            [
             0,
             "#0d0887"
            ],
            [
             0.1111111111111111,
             "#46039f"
            ],
            [
             0.2222222222222222,
             "#7201a8"
            ],
            [
             0.3333333333333333,
             "#9c179e"
            ],
            [
             0.4444444444444444,
             "#bd3786"
            ],
            [
             0.5555555555555556,
             "#d8576b"
            ],
            [
             0.6666666666666666,
             "#ed7953"
            ],
            [
             0.7777777777777778,
             "#fb9f3a"
            ],
            [
             0.8888888888888888,
             "#fdca26"
            ],
            [
             1,
             "#f0f921"
            ]
           ]
          },
          "colorway": [
           "#636efa",
           "#EF553B",
           "#00cc96",
           "#ab63fa",
           "#FFA15A",
           "#19d3f3",
           "#FF6692",
           "#B6E880",
           "#FF97FF",
           "#FECB52"
          ],
          "font": {
           "color": "#2a3f5f"
          },
          "geo": {
           "bgcolor": "white",
           "lakecolor": "white",
           "landcolor": "#E5ECF6",
           "showlakes": true,
           "showland": true,
           "subunitcolor": "white"
          },
          "hoverlabel": {
           "align": "left"
          },
          "hovermode": "closest",
          "mapbox": {
           "style": "light"
          },
          "paper_bgcolor": "white",
          "plot_bgcolor": "#E5ECF6",
          "polar": {
           "angularaxis": {
            "gridcolor": "white",
            "linecolor": "white",
            "ticks": ""
           },
           "bgcolor": "#E5ECF6",
           "radialaxis": {
            "gridcolor": "white",
            "linecolor": "white",
            "ticks": ""
           }
          },
          "scene": {
           "xaxis": {
            "backgroundcolor": "#E5ECF6",
            "gridcolor": "white",
            "gridwidth": 2,
            "linecolor": "white",
            "showbackground": true,
            "ticks": "",
            "zerolinecolor": "white"
           },
           "yaxis": {
            "backgroundcolor": "#E5ECF6",
            "gridcolor": "white",
            "gridwidth": 2,
            "linecolor": "white",
            "showbackground": true,
            "ticks": "",
            "zerolinecolor": "white"
           },
           "zaxis": {
            "backgroundcolor": "#E5ECF6",
            "gridcolor": "white",
            "gridwidth": 2,
            "linecolor": "white",
            "showbackground": true,
            "ticks": "",
            "zerolinecolor": "white"
           }
          },
          "shapedefaults": {
           "line": {
            "color": "#2a3f5f"
           }
          },
          "ternary": {
           "aaxis": {
            "gridcolor": "white",
            "linecolor": "white",
            "ticks": ""
           },
           "baxis": {
            "gridcolor": "white",
            "linecolor": "white",
            "ticks": ""
           },
           "bgcolor": "#E5ECF6",
           "caxis": {
            "gridcolor": "white",
            "linecolor": "white",
            "ticks": ""
           }
          },
          "title": {
           "x": 0.05
          },
          "xaxis": {
           "automargin": true,
           "gridcolor": "white",
           "linecolor": "white",
           "ticks": "",
           "title": {
            "standoff": 15
           },
           "zerolinecolor": "white",
           "zerolinewidth": 2
          },
          "yaxis": {
           "automargin": true,
           "gridcolor": "white",
           "linecolor": "white",
           "ticks": "",
           "title": {
            "standoff": 15
           },
           "zerolinecolor": "white",
           "zerolinewidth": 2
          }
         }
        },
        "title": {
         "text": "Functions to approximate"
        }
       }
      }
     },
     "metadata": {}
    }
   ],
   "source": [
    "x, sin_data, sqr_data = data_gen(0, 2*np.pi)\n",
    "\n",
    "fig = go.Figure().add_trace(go.Scatter(x=x.ravel(), y=sin_data.ravel(), mode=\"lines\", name=\"sin(x)\"))\n",
    "fig.add_trace(go.Scatter(x=x.ravel(), y=sqr_data.ravel(), mode=\"lines\", name=\"sqr(x)\"))\n",
    "fig.update_layout(title=\"Functions to approximate\")\n",
    "fig.show()"
   ]
  },
  {
   "source": [
    "## Quick test of the model\n",
    "\n",
    "Sin(x)"
   ],
   "cell_type": "markdown",
   "metadata": {}
  },
  {
   "cell_type": "code",
   "execution_count": 67,
   "metadata": {
    "tags": []
   },
   "outputs": [
    {
     "output_type": "display_data",
     "data": {
      "application/vnd.plotly.v1+json": {
       "config": {
        "plotlyServerURL": "https://plot.ly"
       },
       "data": [
        {
         "mode": "lines",
         "name": "Residual error",
         "type": "scatter",
         "x": [],
         "xaxis": "x2",
         "y": [],
         "yaxis": "y2"
        },
        {
         "mode": "lines",
         "name": "Original",
         "type": "scatter",
         "x": [
          0.05,
          0.15000000000000002,
          0.25000000000000006,
          0.35000000000000003,
          0.45000000000000007,
          0.5500000000000002,
          0.6500000000000001,
          0.7500000000000002,
          0.8500000000000002,
          0.9500000000000002,
          1.0500000000000003,
          1.1500000000000004,
          1.2500000000000002,
          1.3500000000000003,
          1.4500000000000004,
          1.5500000000000003,
          1.6500000000000004,
          1.7500000000000004,
          1.8500000000000003,
          1.9500000000000004,
          2.0500000000000003,
          2.1500000000000004,
          2.2500000000000004,
          2.35,
          2.45,
          2.5500000000000003,
          2.6500000000000004,
          2.7500000000000004,
          2.8500000000000005,
          2.95,
          3.0500000000000003,
          3.1500000000000004,
          3.2500000000000004,
          3.3500000000000005,
          3.4500000000000006,
          3.5500000000000007,
          3.6500000000000004,
          3.7500000000000004,
          3.8500000000000005,
          3.9500000000000006,
          4.050000000000001,
          4.15,
          4.250000000000001,
          4.3500000000000005,
          4.450000000000001,
          4.550000000000001,
          4.65,
          4.750000000000001,
          4.8500000000000005,
          4.950000000000001,
          5.050000000000001,
          5.150000000000001,
          5.250000000000001,
          5.3500000000000005,
          5.450000000000001,
          5.550000000000001,
          5.650000000000001,
          5.750000000000001,
          5.8500000000000005,
          5.950000000000001,
          6.050000000000001,
          6.150000000000001,
          6.250000000000001
         ],
         "xaxis": "x",
         "y": [
          0.09983341664682815,
          0.2955202066613396,
          0.4794255386042031,
          0.6442176872376911,
          0.7833269096274835,
          0.8912073600614355,
          0.9635581854171931,
          0.9974949866040544,
          0.9916648104524686,
          0.9463000876874144,
          0.8632093666488735,
          0.7457052121767197,
          0.5984721441039561,
          0.4273798802338294,
          0.23924932921398157,
          0.04158066243329005,
          -0.15774569414324907,
          -0.35078322768962067,
          -0.5298361409084937,
          -0.6877661591839744,
          -0.8182771110644108,
          -0.9161659367494552,
          -0.9775301176650972,
          -0.9999232575641008,
          -0.9824526126243325,
          -0.9258146823277321,
          -0.8322674422239008,
          -0.7055403255703913,
          -0.5506855425976369,
          -0.373876664830236,
          -0.18216250427209502,
          0.0168139004843506,
          0.2151199880878164,
          0.40484992061659913,
          0.5784397643882009,
          0.7289690401258772,
          0.8504366206285648,
          0.9379999767747391,
          0.9881682338770005,
          0.998941341839772,
          0.9698898108450859,
          0.9021718337562933,
          0.7984871126234893,
          0.662969230082182,
          0.5010208564578832,
          0.3190983623493504,
          0.1244544235070617,
          -0.07515112046181108,
          -0.2717606264109442,
          -0.45753589377532294,
          -0.6250706488928834,
          -0.7676858097635836,
          -0.8796957599716709,
          -0.9566350162701884,
          -0.9954362533063775,
          -0.9945525882039891,
          -0.9540192499020884,
          -0.8754521746884276,
          -0.7619835839190321,
          -0.6181371122370319,
          -0.44964746453459986,
          -0.2632317913657993,
          -0.06632189735119892
         ],
         "yaxis": "y"
        },
        {
         "mode": "lines",
         "name": "Approximated",
         "type": "scatter",
         "x": [
          0.05,
          0.15000000000000002,
          0.25000000000000006,
          0.35000000000000003,
          0.45000000000000007,
          0.5500000000000002,
          0.6500000000000001,
          0.7500000000000002,
          0.8500000000000002,
          0.9500000000000002,
          1.0500000000000003,
          1.1500000000000004,
          1.2500000000000002,
          1.3500000000000003,
          1.4500000000000004,
          1.5500000000000003,
          1.6500000000000004,
          1.7500000000000004,
          1.8500000000000003,
          1.9500000000000004,
          2.0500000000000003,
          2.1500000000000004,
          2.2500000000000004,
          2.35,
          2.45,
          2.5500000000000003,
          2.6500000000000004,
          2.7500000000000004,
          2.8500000000000005,
          2.95,
          3.0500000000000003,
          3.1500000000000004,
          3.2500000000000004,
          3.3500000000000005,
          3.4500000000000006,
          3.5500000000000007,
          3.6500000000000004,
          3.7500000000000004,
          3.8500000000000005,
          3.9500000000000006,
          4.050000000000001,
          4.15,
          4.250000000000001,
          4.3500000000000005,
          4.450000000000001,
          4.550000000000001,
          4.65,
          4.750000000000001,
          4.8500000000000005,
          4.950000000000001,
          5.050000000000001,
          5.150000000000001,
          5.250000000000001,
          5.3500000000000005,
          5.450000000000001,
          5.550000000000001,
          5.650000000000001,
          5.750000000000001,
          5.8500000000000005,
          5.950000000000001,
          6.050000000000001,
          6.150000000000001,
          6.250000000000001
         ],
         "xaxis": "x",
         "y": [
          0.09929314941230524,
          0.2764642071272265,
          0.4473477888704489,
          0.604563136522791,
          0.7409998677266378,
          0.8502213507580273,
          0.9268413905302225,
          0.9668479312108404,
          0.9678513576201299,
          0.9292407009672887,
          0.8522380321884114,
          0.7398488581630117,
          0.5967137036828549,
          0.42887261403643456,
          0.24345953677778698,
          0.048347108745027165,
          -0.14823584079630797,
          -0.3380916953748935,
          -0.5134254297389285,
          -0.6671816551397182,
          -0.793332480474348,
          -0.8871052632460331,
          -0.945143404252073,
          -0.9655973226051948,
          -0.9481464461615305,
          -0.8939563344467614,
          -0.8055778215879076,
          -0.6867972498218944,
          -0.5424483921950021,
          -0.37819747555783767,
          -0.20031276871327286,
          -0.015429488514755452,
          0.1696806502281798,
          0.3483279300028945,
          0.5141062523382747,
          0.6610754523528612,
          0.7839241173907627,
          0.8781143890593945,
          0.9400110319712898,
          0.9669968113016205,
          0.9575749072377544,
          0.9114568618105778,
          0.8296317399603463,
          0.7144092825056667,
          0.5694274168088995,
          0.39961316209435793,
          0.21108622245311537,
          0.010996720636370583,
          -0.19270734900454656,
          -0.39158151804029373,
          -0.5770466189862624,
          -0.7407950167967883,
          -0.8752184636552727,
          -0.9738293409876846,
          -1.0316440251400714,
          -1.045497087310899,
          -1.0142582950597188,
          -0.9389307974478633,
          -0.8226179145976893,
          -0.6703567267595005,
          -0.48882803224563887,
          -0.28596297945551896,
          -0.07047559502043299
         ],
         "yaxis": "y"
        }
       ],
       "layout": {
        "annotations": [
         {
          "font": {
           "size": 16
          },
          "showarrow": false,
          "text": "Validation with n=10",
          "x": 0.225,
          "xanchor": "center",
          "xref": "paper",
          "y": 1,
          "yanchor": "bottom",
          "yref": "paper"
         },
         {
          "font": {
           "size": 16
          },
          "showarrow": false,
          "text": "Residual error",
          "x": 0.775,
          "xanchor": "center",
          "xref": "paper",
          "y": 1,
          "yanchor": "bottom",
          "yref": "paper"
         }
        ],
        "template": {
         "data": {
          "bar": [
           {
            "error_x": {
             "color": "#2a3f5f"
            },
            "error_y": {
             "color": "#2a3f5f"
            },
            "marker": {
             "line": {
              "color": "#E5ECF6",
              "width": 0.5
             }
            },
            "type": "bar"
           }
          ],
          "barpolar": [
           {
            "marker": {
             "line": {
              "color": "#E5ECF6",
              "width": 0.5
             }
            },
            "type": "barpolar"
           }
          ],
          "carpet": [
           {
            "aaxis": {
             "endlinecolor": "#2a3f5f",
             "gridcolor": "white",
             "linecolor": "white",
             "minorgridcolor": "white",
             "startlinecolor": "#2a3f5f"
            },
            "baxis": {
             "endlinecolor": "#2a3f5f",
             "gridcolor": "white",
             "linecolor": "white",
             "minorgridcolor": "white",
             "startlinecolor": "#2a3f5f"
            },
            "type": "carpet"
           }
          ],
          "choropleth": [
           {
            "colorbar": {
             "outlinewidth": 0,
             "ticks": ""
            },
            "type": "choropleth"
           }
          ],
          "contour": [
           {
            "colorbar": {
             "outlinewidth": 0,
             "ticks": ""
            },
            "colorscale": [
             [
              0,
              "#0d0887"
             ],
             [
              0.1111111111111111,
              "#46039f"
             ],
             [
              0.2222222222222222,
              "#7201a8"
             ],
             [
              0.3333333333333333,
              "#9c179e"
             ],
             [
              0.4444444444444444,
              "#bd3786"
             ],
             [
              0.5555555555555556,
              "#d8576b"
             ],
             [
              0.6666666666666666,
              "#ed7953"
             ],
             [
              0.7777777777777778,
              "#fb9f3a"
             ],
             [
              0.8888888888888888,
              "#fdca26"
             ],
             [
              1,
              "#f0f921"
             ]
            ],
            "type": "contour"
           }
          ],
          "contourcarpet": [
           {
            "colorbar": {
             "outlinewidth": 0,
             "ticks": ""
            },
            "type": "contourcarpet"
           }
          ],
          "heatmap": [
           {
            "colorbar": {
             "outlinewidth": 0,
             "ticks": ""
            },
            "colorscale": [
             [
              0,
              "#0d0887"
             ],
             [
              0.1111111111111111,
              "#46039f"
             ],
             [
              0.2222222222222222,
              "#7201a8"
             ],
             [
              0.3333333333333333,
              "#9c179e"
             ],
             [
              0.4444444444444444,
              "#bd3786"
             ],
             [
              0.5555555555555556,
              "#d8576b"
             ],
             [
              0.6666666666666666,
              "#ed7953"
             ],
             [
              0.7777777777777778,
              "#fb9f3a"
             ],
             [
              0.8888888888888888,
              "#fdca26"
             ],
             [
              1,
              "#f0f921"
             ]
            ],
            "type": "heatmap"
           }
          ],
          "heatmapgl": [
           {
            "colorbar": {
             "outlinewidth": 0,
             "ticks": ""
            },
            "colorscale": [
             [
              0,
              "#0d0887"
             ],
             [
              0.1111111111111111,
              "#46039f"
             ],
             [
              0.2222222222222222,
              "#7201a8"
             ],
             [
              0.3333333333333333,
              "#9c179e"
             ],
             [
              0.4444444444444444,
              "#bd3786"
             ],
             [
              0.5555555555555556,
              "#d8576b"
             ],
             [
              0.6666666666666666,
              "#ed7953"
             ],
             [
              0.7777777777777778,
              "#fb9f3a"
             ],
             [
              0.8888888888888888,
              "#fdca26"
             ],
             [
              1,
              "#f0f921"
             ]
            ],
            "type": "heatmapgl"
           }
          ],
          "histogram": [
           {
            "marker": {
             "colorbar": {
              "outlinewidth": 0,
              "ticks": ""
             }
            },
            "type": "histogram"
           }
          ],
          "histogram2d": [
           {
            "colorbar": {
             "outlinewidth": 0,
             "ticks": ""
            },
            "colorscale": [
             [
              0,
              "#0d0887"
             ],
             [
              0.1111111111111111,
              "#46039f"
             ],
             [
              0.2222222222222222,
              "#7201a8"
             ],
             [
              0.3333333333333333,
              "#9c179e"
             ],
             [
              0.4444444444444444,
              "#bd3786"
             ],
             [
              0.5555555555555556,
              "#d8576b"
             ],
             [
              0.6666666666666666,
              "#ed7953"
             ],
             [
              0.7777777777777778,
              "#fb9f3a"
             ],
             [
              0.8888888888888888,
              "#fdca26"
             ],
             [
              1,
              "#f0f921"
             ]
            ],
            "type": "histogram2d"
           }
          ],
          "histogram2dcontour": [
           {
            "colorbar": {
             "outlinewidth": 0,
             "ticks": ""
            },
            "colorscale": [
             [
              0,
              "#0d0887"
             ],
             [
              0.1111111111111111,
              "#46039f"
             ],
             [
              0.2222222222222222,
              "#7201a8"
             ],
             [
              0.3333333333333333,
              "#9c179e"
             ],
             [
              0.4444444444444444,
              "#bd3786"
             ],
             [
              0.5555555555555556,
              "#d8576b"
             ],
             [
              0.6666666666666666,
              "#ed7953"
             ],
             [
              0.7777777777777778,
              "#fb9f3a"
             ],
             [
              0.8888888888888888,
              "#fdca26"
             ],
             [
              1,
              "#f0f921"
             ]
            ],
            "type": "histogram2dcontour"
           }
          ],
          "mesh3d": [
           {
            "colorbar": {
             "outlinewidth": 0,
             "ticks": ""
            },
            "type": "mesh3d"
           }
          ],
          "parcoords": [
           {
            "line": {
             "colorbar": {
              "outlinewidth": 0,
              "ticks": ""
             }
            },
            "type": "parcoords"
           }
          ],
          "pie": [
           {
            "automargin": true,
            "type": "pie"
           }
          ],
          "scatter": [
           {
            "marker": {
             "colorbar": {
              "outlinewidth": 0,
              "ticks": ""
             }
            },
            "type": "scatter"
           }
          ],
          "scatter3d": [
           {
            "line": {
             "colorbar": {
              "outlinewidth": 0,
              "ticks": ""
             }
            },
            "marker": {
             "colorbar": {
              "outlinewidth": 0,
              "ticks": ""
             }
            },
            "type": "scatter3d"
           }
          ],
          "scattercarpet": [
           {
            "marker": {
             "colorbar": {
              "outlinewidth": 0,
              "ticks": ""
             }
            },
            "type": "scattercarpet"
           }
          ],
          "scattergeo": [
           {
            "marker": {
             "colorbar": {
              "outlinewidth": 0,
              "ticks": ""
             }
            },
            "type": "scattergeo"
           }
          ],
          "scattergl": [
           {
            "marker": {
             "colorbar": {
              "outlinewidth": 0,
              "ticks": ""
             }
            },
            "type": "scattergl"
           }
          ],
          "scattermapbox": [
           {
            "marker": {
             "colorbar": {
              "outlinewidth": 0,
              "ticks": ""
             }
            },
            "type": "scattermapbox"
           }
          ],
          "scatterpolar": [
           {
            "marker": {
             "colorbar": {
              "outlinewidth": 0,
              "ticks": ""
             }
            },
            "type": "scatterpolar"
           }
          ],
          "scatterpolargl": [
           {
            "marker": {
             "colorbar": {
              "outlinewidth": 0,
              "ticks": ""
             }
            },
            "type": "scatterpolargl"
           }
          ],
          "scatterternary": [
           {
            "marker": {
             "colorbar": {
              "outlinewidth": 0,
              "ticks": ""
             }
            },
            "type": "scatterternary"
           }
          ],
          "surface": [
           {
            "colorbar": {
             "outlinewidth": 0,
             "ticks": ""
            },
            "colorscale": [
             [
              0,
              "#0d0887"
             ],
             [
              0.1111111111111111,
              "#46039f"
             ],
             [
              0.2222222222222222,
              "#7201a8"
             ],
             [
              0.3333333333333333,
              "#9c179e"
             ],
             [
              0.4444444444444444,
              "#bd3786"
             ],
             [
              0.5555555555555556,
              "#d8576b"
             ],
             [
              0.6666666666666666,
              "#ed7953"
             ],
             [
              0.7777777777777778,
              "#fb9f3a"
             ],
             [
              0.8888888888888888,
              "#fdca26"
             ],
             [
              1,
              "#f0f921"
             ]
            ],
            "type": "surface"
           }
          ],
          "table": [
           {
            "cells": {
             "fill": {
              "color": "#EBF0F8"
             },
             "line": {
              "color": "white"
             }
            },
            "header": {
             "fill": {
              "color": "#C8D4E3"
             },
             "line": {
              "color": "white"
             }
            },
            "type": "table"
           }
          ]
         },
         "layout": {
          "annotationdefaults": {
           "arrowcolor": "#2a3f5f",
           "arrowhead": 0,
           "arrowwidth": 1
          },
          "coloraxis": {
           "colorbar": {
            "outlinewidth": 0,
            "ticks": ""
           }
          },
          "colorscale": {
           "diverging": [
            [
             0,
             "#8e0152"
            ],
            [
             0.1,
             "#c51b7d"
            ],
            [
             0.2,
             "#de77ae"
            ],
            [
             0.3,
             "#f1b6da"
            ],
            [
             0.4,
             "#fde0ef"
            ],
            [
             0.5,
             "#f7f7f7"
            ],
            [
             0.6,
             "#e6f5d0"
            ],
            [
             0.7,
             "#b8e186"
            ],
            [
             0.8,
             "#7fbc41"
            ],
            [
             0.9,
             "#4d9221"
            ],
            [
             1,
             "#276419"
            ]
           ],
           "sequential": [
            [
             0,
             "#0d0887"
            ],
            [
             0.1111111111111111,
             "#46039f"
            ],
            [
             0.2222222222222222,
             "#7201a8"
            ],
            [
             0.3333333333333333,
             "#9c179e"
            ],
            [
             0.4444444444444444,
             "#bd3786"
            ],
            [
             0.5555555555555556,
             "#d8576b"
            ],
            [
             0.6666666666666666,
             "#ed7953"
            ],
            [
             0.7777777777777778,
             "#fb9f3a"
            ],
            [
             0.8888888888888888,
             "#fdca26"
            ],
            [
             1,
             "#f0f921"
            ]
           ],
           "sequentialminus": [
            [
             0,
             "#0d0887"
            ],
            [
             0.1111111111111111,
             "#46039f"
            ],
            [
             0.2222222222222222,
             "#7201a8"
            ],
            [
             0.3333333333333333,
             "#9c179e"
            ],
            [
             0.4444444444444444,
             "#bd3786"
            ],
            [
             0.5555555555555556,
             "#d8576b"
            ],
            [
             0.6666666666666666,
             "#ed7953"
            ],
            [
             0.7777777777777778,
             "#fb9f3a"
            ],
            [
             0.8888888888888888,
             "#fdca26"
            ],
            [
             1,
             "#f0f921"
            ]
           ]
          },
          "colorway": [
           "#636efa",
           "#EF553B",
           "#00cc96",
           "#ab63fa",
           "#FFA15A",
           "#19d3f3",
           "#FF6692",
           "#B6E880",
           "#FF97FF",
           "#FECB52"
          ],
          "font": {
           "color": "#2a3f5f"
          },
          "geo": {
           "bgcolor": "white",
           "lakecolor": "white",
           "landcolor": "#E5ECF6",
           "showlakes": true,
           "showland": true,
           "subunitcolor": "white"
          },
          "hoverlabel": {
           "align": "left"
          },
          "hovermode": "closest",
          "mapbox": {
           "style": "light"
          },
          "paper_bgcolor": "white",
          "plot_bgcolor": "#E5ECF6",
          "polar": {
           "angularaxis": {
            "gridcolor": "white",
            "linecolor": "white",
            "ticks": ""
           },
           "bgcolor": "#E5ECF6",
           "radialaxis": {
            "gridcolor": "white",
            "linecolor": "white",
            "ticks": ""
           }
          },
          "scene": {
           "xaxis": {
            "backgroundcolor": "#E5ECF6",
            "gridcolor": "white",
            "gridwidth": 2,
            "linecolor": "white",
            "showbackground": true,
            "ticks": "",
            "zerolinecolor": "white"
           },
           "yaxis": {
            "backgroundcolor": "#E5ECF6",
            "gridcolor": "white",
            "gridwidth": 2,
            "linecolor": "white",
            "showbackground": true,
            "ticks": "",
            "zerolinecolor": "white"
           },
           "zaxis": {
            "backgroundcolor": "#E5ECF6",
            "gridcolor": "white",
            "gridwidth": 2,
            "linecolor": "white",
            "showbackground": true,
            "ticks": "",
            "zerolinecolor": "white"
           }
          },
          "shapedefaults": {
           "line": {
            "color": "#2a3f5f"
           }
          },
          "ternary": {
           "aaxis": {
            "gridcolor": "white",
            "linecolor": "white",
            "ticks": ""
           },
           "baxis": {
            "gridcolor": "white",
            "linecolor": "white",
            "ticks": ""
           },
           "bgcolor": "#E5ECF6",
           "caxis": {
            "gridcolor": "white",
            "linecolor": "white",
            "ticks": ""
           }
          },
          "title": {
           "x": 0.05
          },
          "xaxis": {
           "automargin": true,
           "gridcolor": "white",
           "linecolor": "white",
           "ticks": "",
           "title": {
            "standoff": 15
           },
           "zerolinecolor": "white",
           "zerolinewidth": 2
          },
          "yaxis": {
           "automargin": true,
           "gridcolor": "white",
           "linecolor": "white",
           "ticks": "",
           "title": {
            "standoff": 15
           },
           "zerolinecolor": "white",
           "zerolinewidth": 2
          }
         }
        },
        "xaxis": {
         "anchor": "y",
         "domain": [
          0,
          0.45
         ]
        },
        "xaxis2": {
         "anchor": "y2",
         "domain": [
          0.55,
          1
         ]
        },
        "yaxis": {
         "anchor": "x",
         "domain": [
          0,
          1
         ]
        },
        "yaxis2": {
         "anchor": "x2",
         "domain": [
          0,
          1
         ]
        }
       }
      }
     },
     "metadata": {}
    },
    {
     "output_type": "stream",
     "name": "stdout",
     "text": "0.0343865793857196\n"
    }
   ],
   "source": [
    "x, sin_data, sqr_data = data_gen(0, 2*np.pi)\n",
    "t_x, t_sin_data, t_sqr_data = data_gen(0.05, 2*np.pi)\n",
    "\n",
    "n = 10\n",
    "epochs = 1 # Actually only one iteration is enough for least squre method\n",
    "\n",
    "RBFNet = RBF_Network(n, x, add_noise=True)\n",
    "# RBFNet.init_cl(x, 50, 1e-2, useBias=True) # Uncomment this to use CL initialization\n",
    "RBFNet.train_network(epochs, x, sin_data, t_x, t_sin_data)\n",
    "res_error = RBFNet.validate(t_x, t_sin_data, _plot=True)\n",
    "\n",
    "print(res_error)"
   ]
  },
  {
   "source": [
    "Square(2x)"
   ],
   "cell_type": "markdown",
   "metadata": {}
  },
  {
   "cell_type": "code",
   "execution_count": 174,
   "metadata": {
    "tags": []
   },
   "outputs": [
    {
     "output_type": "display_data",
     "data": {
      "application/vnd.plotly.v1+json": {
       "config": {
        "plotlyServerURL": "https://plot.ly"
       },
       "data": [
        {
         "mode": "lines",
         "name": "Residual error",
         "type": "scatter",
         "x": [
          0,
          1
         ],
         "xaxis": "x2",
         "y": [
          0,
          0
         ],
         "yaxis": "y2"
        },
        {
         "mode": "lines",
         "name": "Original",
         "type": "scatter",
         "x": [
          0.05,
          0.1,
          0.15000000000000002,
          0.2,
          0.25,
          0.3,
          0.35000000000000003,
          0.4,
          0.45,
          0.5,
          0.55,
          0.6000000000000001,
          0.6500000000000001,
          0.7000000000000001,
          0.7500000000000001,
          0.8,
          0.8500000000000001,
          0.9000000000000001,
          0.9500000000000001,
          1,
          1.05,
          1.1,
          1.1500000000000001,
          1.2000000000000002,
          1.2500000000000002,
          1.3,
          1.35,
          1.4000000000000001,
          1.4500000000000002,
          1.5000000000000002,
          1.55,
          1.6,
          1.6500000000000001,
          1.7000000000000002,
          1.7500000000000002,
          1.8,
          1.85,
          1.9000000000000001,
          1.9500000000000002,
          2,
          2.05,
          2.1,
          2.15,
          2.1999999999999997,
          2.25,
          2.3,
          2.35,
          2.4,
          2.45,
          2.5,
          2.55,
          2.6,
          2.65,
          2.7,
          2.75,
          2.8,
          2.85,
          2.9,
          2.95,
          3,
          3.05,
          3.1,
          3.15,
          3.2,
          3.25,
          3.3,
          3.35,
          3.4,
          3.45,
          3.5,
          3.55,
          3.6,
          3.65,
          3.7,
          3.75,
          3.8,
          3.85,
          3.9,
          3.95,
          4,
          4.05,
          4.1,
          4.15,
          4.2,
          4.25,
          4.3,
          4.35,
          4.4,
          4.45,
          4.5,
          4.55,
          4.6,
          4.65,
          4.7,
          4.75,
          4.8,
          4.8500000000000005,
          4.9,
          4.95,
          5,
          5.05,
          5.1000000000000005,
          5.15,
          5.2,
          5.25,
          5.3,
          5.3500000000000005,
          5.4,
          5.45,
          5.5,
          5.55,
          5.6000000000000005,
          5.65,
          5.7,
          5.75,
          5.8,
          5.8500000000000005,
          5.9,
          5.95,
          6,
          6.05,
          6.1000000000000005,
          6.15,
          6.2,
          6.25
         ],
         "xaxis": "x",
         "y": [
          1,
          1,
          1,
          1,
          1,
          1,
          1,
          1,
          1,
          1,
          1,
          1,
          1,
          1,
          1,
          1,
          1,
          1,
          1,
          1,
          1,
          1,
          1,
          1,
          1,
          1,
          1,
          1,
          1,
          1,
          1,
          -1,
          -1,
          -1,
          -1,
          -1,
          -1,
          -1,
          -1,
          -1,
          -1,
          -1,
          -1,
          -1,
          -1,
          -1,
          -1,
          -1,
          -1,
          -1,
          -1,
          -1,
          -1,
          -1,
          -1,
          -1,
          -1,
          -1,
          -1,
          -1,
          -1,
          -1,
          1,
          1,
          1,
          1,
          1,
          1,
          1,
          1,
          1,
          1,
          1,
          1,
          1,
          1,
          1,
          1,
          1,
          1,
          1,
          1,
          1,
          1,
          1,
          1,
          1,
          1,
          1,
          1,
          1,
          1,
          1,
          1,
          -1,
          -1,
          -1,
          -1,
          -1,
          -1,
          -1,
          -1,
          -1,
          -1,
          -1,
          -1,
          -1,
          -1,
          -1,
          -1,
          -1,
          -1,
          -1,
          -1,
          -1,
          -1,
          -1,
          -1,
          -1,
          -1,
          -1,
          -1,
          -1,
          -1,
          -1
         ],
         "yaxis": "y"
        },
        {
         "mode": "lines",
         "name": "Approximated",
         "type": "scatter",
         "x": [
          0.05,
          0.1,
          0.15000000000000002,
          0.2,
          0.25,
          0.3,
          0.35000000000000003,
          0.4,
          0.45,
          0.5,
          0.55,
          0.6000000000000001,
          0.6500000000000001,
          0.7000000000000001,
          0.7500000000000001,
          0.8,
          0.8500000000000001,
          0.9000000000000001,
          0.9500000000000001,
          1,
          1.05,
          1.1,
          1.1500000000000001,
          1.2000000000000002,
          1.2500000000000002,
          1.3,
          1.35,
          1.4000000000000001,
          1.4500000000000002,
          1.5000000000000002,
          1.55,
          1.6,
          1.6500000000000001,
          1.7000000000000002,
          1.7500000000000002,
          1.8,
          1.85,
          1.9000000000000001,
          1.9500000000000002,
          2,
          2.05,
          2.1,
          2.15,
          2.1999999999999997,
          2.25,
          2.3,
          2.35,
          2.4,
          2.45,
          2.5,
          2.55,
          2.6,
          2.65,
          2.7,
          2.75,
          2.8,
          2.85,
          2.9,
          2.95,
          3,
          3.05,
          3.1,
          3.15,
          3.2,
          3.25,
          3.3,
          3.35,
          3.4,
          3.45,
          3.5,
          3.55,
          3.6,
          3.65,
          3.7,
          3.75,
          3.8,
          3.85,
          3.9,
          3.95,
          4,
          4.05,
          4.1,
          4.15,
          4.2,
          4.25,
          4.3,
          4.35,
          4.4,
          4.45,
          4.5,
          4.55,
          4.6,
          4.65,
          4.7,
          4.75,
          4.8,
          4.8500000000000005,
          4.9,
          4.95,
          5,
          5.05,
          5.1000000000000005,
          5.15,
          5.2,
          5.25,
          5.3,
          5.3500000000000005,
          5.4,
          5.45,
          5.5,
          5.55,
          5.6000000000000005,
          5.65,
          5.7,
          5.75,
          5.8,
          5.8500000000000005,
          5.9,
          5.95,
          6,
          6.05,
          6.1000000000000005,
          6.15,
          6.2,
          6.25
         ],
         "xaxis": "x",
         "y": [
          1,
          1,
          1,
          1,
          1,
          1,
          1,
          1,
          1,
          1,
          1,
          1,
          1,
          1,
          1,
          1,
          1,
          1,
          1,
          1,
          1,
          1,
          1,
          1,
          1,
          1,
          1,
          1,
          1,
          1,
          1,
          -1,
          -1,
          -1,
          -1,
          -1,
          -1,
          -1,
          -1,
          -1,
          -1,
          -1,
          -1,
          -1,
          -1,
          -1,
          -1,
          -1,
          -1,
          -1,
          -1,
          -1,
          -1,
          -1,
          -1,
          -1,
          -1,
          -1,
          -1,
          -1,
          -1,
          -1,
          1,
          1,
          1,
          1,
          1,
          1,
          1,
          1,
          1,
          1,
          1,
          1,
          1,
          1,
          1,
          1,
          1,
          1,
          1,
          1,
          1,
          1,
          1,
          1,
          1,
          1,
          1,
          1,
          1,
          1,
          1,
          1,
          -1,
          -1,
          -1,
          -1,
          -1,
          -1,
          -1,
          -1,
          -1,
          -1,
          -1,
          -1,
          -1,
          -1,
          -1,
          -1,
          -1,
          -1,
          -1,
          -1,
          -1,
          -1,
          -1,
          -1,
          -1,
          -1,
          -1,
          -1,
          -1,
          -1,
          -1
         ],
         "yaxis": "y"
        }
       ],
       "layout": {
        "annotations": [
         {
          "font": {
           "size": 16
          },
          "showarrow": false,
          "text": "Validation with n=10",
          "x": 0.225,
          "xanchor": "center",
          "xref": "paper",
          "y": 1,
          "yanchor": "bottom",
          "yref": "paper"
         },
         {
          "font": {
           "size": 16
          },
          "showarrow": false,
          "text": "Residual error",
          "x": 0.775,
          "xanchor": "center",
          "xref": "paper",
          "y": 1,
          "yanchor": "bottom",
          "yref": "paper"
         }
        ],
        "template": {
         "data": {
          "bar": [
           {
            "error_x": {
             "color": "#2a3f5f"
            },
            "error_y": {
             "color": "#2a3f5f"
            },
            "marker": {
             "line": {
              "color": "#E5ECF6",
              "width": 0.5
             }
            },
            "type": "bar"
           }
          ],
          "barpolar": [
           {
            "marker": {
             "line": {
              "color": "#E5ECF6",
              "width": 0.5
             }
            },
            "type": "barpolar"
           }
          ],
          "carpet": [
           {
            "aaxis": {
             "endlinecolor": "#2a3f5f",
             "gridcolor": "white",
             "linecolor": "white",
             "minorgridcolor": "white",
             "startlinecolor": "#2a3f5f"
            },
            "baxis": {
             "endlinecolor": "#2a3f5f",
             "gridcolor": "white",
             "linecolor": "white",
             "minorgridcolor": "white",
             "startlinecolor": "#2a3f5f"
            },
            "type": "carpet"
           }
          ],
          "choropleth": [
           {
            "colorbar": {
             "outlinewidth": 0,
             "ticks": ""
            },
            "type": "choropleth"
           }
          ],
          "contour": [
           {
            "colorbar": {
             "outlinewidth": 0,
             "ticks": ""
            },
            "colorscale": [
             [
              0,
              "#0d0887"
             ],
             [
              0.1111111111111111,
              "#46039f"
             ],
             [
              0.2222222222222222,
              "#7201a8"
             ],
             [
              0.3333333333333333,
              "#9c179e"
             ],
             [
              0.4444444444444444,
              "#bd3786"
             ],
             [
              0.5555555555555556,
              "#d8576b"
             ],
             [
              0.6666666666666666,
              "#ed7953"
             ],
             [
              0.7777777777777778,
              "#fb9f3a"
             ],
             [
              0.8888888888888888,
              "#fdca26"
             ],
             [
              1,
              "#f0f921"
             ]
            ],
            "type": "contour"
           }
          ],
          "contourcarpet": [
           {
            "colorbar": {
             "outlinewidth": 0,
             "ticks": ""
            },
            "type": "contourcarpet"
           }
          ],
          "heatmap": [
           {
            "colorbar": {
             "outlinewidth": 0,
             "ticks": ""
            },
            "colorscale": [
             [
              0,
              "#0d0887"
             ],
             [
              0.1111111111111111,
              "#46039f"
             ],
             [
              0.2222222222222222,
              "#7201a8"
             ],
             [
              0.3333333333333333,
              "#9c179e"
             ],
             [
              0.4444444444444444,
              "#bd3786"
             ],
             [
              0.5555555555555556,
              "#d8576b"
             ],
             [
              0.6666666666666666,
              "#ed7953"
             ],
             [
              0.7777777777777778,
              "#fb9f3a"
             ],
             [
              0.8888888888888888,
              "#fdca26"
             ],
             [
              1,
              "#f0f921"
             ]
            ],
            "type": "heatmap"
           }
          ],
          "heatmapgl": [
           {
            "colorbar": {
             "outlinewidth": 0,
             "ticks": ""
            },
            "colorscale": [
             [
              0,
              "#0d0887"
             ],
             [
              0.1111111111111111,
              "#46039f"
             ],
             [
              0.2222222222222222,
              "#7201a8"
             ],
             [
              0.3333333333333333,
              "#9c179e"
             ],
             [
              0.4444444444444444,
              "#bd3786"
             ],
             [
              0.5555555555555556,
              "#d8576b"
             ],
             [
              0.6666666666666666,
              "#ed7953"
             ],
             [
              0.7777777777777778,
              "#fb9f3a"
             ],
             [
              0.8888888888888888,
              "#fdca26"
             ],
             [
              1,
              "#f0f921"
             ]
            ],
            "type": "heatmapgl"
           }
          ],
          "histogram": [
           {
            "marker": {
             "colorbar": {
              "outlinewidth": 0,
              "ticks": ""
             }
            },
            "type": "histogram"
           }
          ],
          "histogram2d": [
           {
            "colorbar": {
             "outlinewidth": 0,
             "ticks": ""
            },
            "colorscale": [
             [
              0,
              "#0d0887"
             ],
             [
              0.1111111111111111,
              "#46039f"
             ],
             [
              0.2222222222222222,
              "#7201a8"
             ],
             [
              0.3333333333333333,
              "#9c179e"
             ],
             [
              0.4444444444444444,
              "#bd3786"
             ],
             [
              0.5555555555555556,
              "#d8576b"
             ],
             [
              0.6666666666666666,
              "#ed7953"
             ],
             [
              0.7777777777777778,
              "#fb9f3a"
             ],
             [
              0.8888888888888888,
              "#fdca26"
             ],
             [
              1,
              "#f0f921"
             ]
            ],
            "type": "histogram2d"
           }
          ],
          "histogram2dcontour": [
           {
            "colorbar": {
             "outlinewidth": 0,
             "ticks": ""
            },
            "colorscale": [
             [
              0,
              "#0d0887"
             ],
             [
              0.1111111111111111,
              "#46039f"
             ],
             [
              0.2222222222222222,
              "#7201a8"
             ],
             [
              0.3333333333333333,
              "#9c179e"
             ],
             [
              0.4444444444444444,
              "#bd3786"
             ],
             [
              0.5555555555555556,
              "#d8576b"
             ],
             [
              0.6666666666666666,
              "#ed7953"
             ],
             [
              0.7777777777777778,
              "#fb9f3a"
             ],
             [
              0.8888888888888888,
              "#fdca26"
             ],
             [
              1,
              "#f0f921"
             ]
            ],
            "type": "histogram2dcontour"
           }
          ],
          "mesh3d": [
           {
            "colorbar": {
             "outlinewidth": 0,
             "ticks": ""
            },
            "type": "mesh3d"
           }
          ],
          "parcoords": [
           {
            "line": {
             "colorbar": {
              "outlinewidth": 0,
              "ticks": ""
             }
            },
            "type": "parcoords"
           }
          ],
          "pie": [
           {
            "automargin": true,
            "type": "pie"
           }
          ],
          "scatter": [
           {
            "marker": {
             "colorbar": {
              "outlinewidth": 0,
              "ticks": ""
             }
            },
            "type": "scatter"
           }
          ],
          "scatter3d": [
           {
            "line": {
             "colorbar": {
              "outlinewidth": 0,
              "ticks": ""
             }
            },
            "marker": {
             "colorbar": {
              "outlinewidth": 0,
              "ticks": ""
             }
            },
            "type": "scatter3d"
           }
          ],
          "scattercarpet": [
           {
            "marker": {
             "colorbar": {
              "outlinewidth": 0,
              "ticks": ""
             }
            },
            "type": "scattercarpet"
           }
          ],
          "scattergeo": [
           {
            "marker": {
             "colorbar": {
              "outlinewidth": 0,
              "ticks": ""
             }
            },
            "type": "scattergeo"
           }
          ],
          "scattergl": [
           {
            "marker": {
             "colorbar": {
              "outlinewidth": 0,
              "ticks": ""
             }
            },
            "type": "scattergl"
           }
          ],
          "scattermapbox": [
           {
            "marker": {
             "colorbar": {
              "outlinewidth": 0,
              "ticks": ""
             }
            },
            "type": "scattermapbox"
           }
          ],
          "scatterpolar": [
           {
            "marker": {
             "colorbar": {
              "outlinewidth": 0,
              "ticks": ""
             }
            },
            "type": "scatterpolar"
           }
          ],
          "scatterpolargl": [
           {
            "marker": {
             "colorbar": {
              "outlinewidth": 0,
              "ticks": ""
             }
            },
            "type": "scatterpolargl"
           }
          ],
          "scatterternary": [
           {
            "marker": {
             "colorbar": {
              "outlinewidth": 0,
              "ticks": ""
             }
            },
            "type": "scatterternary"
           }
          ],
          "surface": [
           {
            "colorbar": {
             "outlinewidth": 0,
             "ticks": ""
            },
            "colorscale": [
             [
              0,
              "#0d0887"
             ],
             [
              0.1111111111111111,
              "#46039f"
             ],
             [
              0.2222222222222222,
              "#7201a8"
             ],
             [
              0.3333333333333333,
              "#9c179e"
             ],
             [
              0.4444444444444444,
              "#bd3786"
             ],
             [
              0.5555555555555556,
              "#d8576b"
             ],
             [
              0.6666666666666666,
              "#ed7953"
             ],
             [
              0.7777777777777778,
              "#fb9f3a"
             ],
             [
              0.8888888888888888,
              "#fdca26"
             ],
             [
              1,
              "#f0f921"
             ]
            ],
            "type": "surface"
           }
          ],
          "table": [
           {
            "cells": {
             "fill": {
              "color": "#EBF0F8"
             },
             "line": {
              "color": "white"
             }
            },
            "header": {
             "fill": {
              "color": "#C8D4E3"
             },
             "line": {
              "color": "white"
             }
            },
            "type": "table"
           }
          ]
         },
         "layout": {
          "annotationdefaults": {
           "arrowcolor": "#2a3f5f",
           "arrowhead": 0,
           "arrowwidth": 1
          },
          "coloraxis": {
           "colorbar": {
            "outlinewidth": 0,
            "ticks": ""
           }
          },
          "colorscale": {
           "diverging": [
            [
             0,
             "#8e0152"
            ],
            [
             0.1,
             "#c51b7d"
            ],
            [
             0.2,
             "#de77ae"
            ],
            [
             0.3,
             "#f1b6da"
            ],
            [
             0.4,
             "#fde0ef"
            ],
            [
             0.5,
             "#f7f7f7"
            ],
            [
             0.6,
             "#e6f5d0"
            ],
            [
             0.7,
             "#b8e186"
            ],
            [
             0.8,
             "#7fbc41"
            ],
            [
             0.9,
             "#4d9221"
            ],
            [
             1,
             "#276419"
            ]
           ],
           "sequential": [
            [
             0,
             "#0d0887"
            ],
            [
             0.1111111111111111,
             "#46039f"
            ],
            [
             0.2222222222222222,
             "#7201a8"
            ],
            [
             0.3333333333333333,
             "#9c179e"
            ],
            [
             0.4444444444444444,
             "#bd3786"
            ],
            [
             0.5555555555555556,
             "#d8576b"
            ],
            [
             0.6666666666666666,
             "#ed7953"
            ],
            [
             0.7777777777777778,
             "#fb9f3a"
            ],
            [
             0.8888888888888888,
             "#fdca26"
            ],
            [
             1,
             "#f0f921"
            ]
           ],
           "sequentialminus": [
            [
             0,
             "#0d0887"
            ],
            [
             0.1111111111111111,
             "#46039f"
            ],
            [
             0.2222222222222222,
             "#7201a8"
            ],
            [
             0.3333333333333333,
             "#9c179e"
            ],
            [
             0.4444444444444444,
             "#bd3786"
            ],
            [
             0.5555555555555556,
             "#d8576b"
            ],
            [
             0.6666666666666666,
             "#ed7953"
            ],
            [
             0.7777777777777778,
             "#fb9f3a"
            ],
            [
             0.8888888888888888,
             "#fdca26"
            ],
            [
             1,
             "#f0f921"
            ]
           ]
          },
          "colorway": [
           "#636efa",
           "#EF553B",
           "#00cc96",
           "#ab63fa",
           "#FFA15A",
           "#19d3f3",
           "#FF6692",
           "#B6E880",
           "#FF97FF",
           "#FECB52"
          ],
          "font": {
           "color": "#2a3f5f"
          },
          "geo": {
           "bgcolor": "white",
           "lakecolor": "white",
           "landcolor": "#E5ECF6",
           "showlakes": true,
           "showland": true,
           "subunitcolor": "white"
          },
          "hoverlabel": {
           "align": "left"
          },
          "hovermode": "closest",
          "mapbox": {
           "style": "light"
          },
          "paper_bgcolor": "white",
          "plot_bgcolor": "#E5ECF6",
          "polar": {
           "angularaxis": {
            "gridcolor": "white",
            "linecolor": "white",
            "ticks": ""
           },
           "bgcolor": "#E5ECF6",
           "radialaxis": {
            "gridcolor": "white",
            "linecolor": "white",
            "ticks": ""
           }
          },
          "scene": {
           "xaxis": {
            "backgroundcolor": "#E5ECF6",
            "gridcolor": "white",
            "gridwidth": 2,
            "linecolor": "white",
            "showbackground": true,
            "ticks": "",
            "zerolinecolor": "white"
           },
           "yaxis": {
            "backgroundcolor": "#E5ECF6",
            "gridcolor": "white",
            "gridwidth": 2,
            "linecolor": "white",
            "showbackground": true,
            "ticks": "",
            "zerolinecolor": "white"
           },
           "zaxis": {
            "backgroundcolor": "#E5ECF6",
            "gridcolor": "white",
            "gridwidth": 2,
            "linecolor": "white",
            "showbackground": true,
            "ticks": "",
            "zerolinecolor": "white"
           }
          },
          "shapedefaults": {
           "line": {
            "color": "#2a3f5f"
           }
          },
          "ternary": {
           "aaxis": {
            "gridcolor": "white",
            "linecolor": "white",
            "ticks": ""
           },
           "baxis": {
            "gridcolor": "white",
            "linecolor": "white",
            "ticks": ""
           },
           "bgcolor": "#E5ECF6",
           "caxis": {
            "gridcolor": "white",
            "linecolor": "white",
            "ticks": ""
           }
          },
          "title": {
           "x": 0.05
          },
          "xaxis": {
           "automargin": true,
           "gridcolor": "white",
           "linecolor": "white",
           "ticks": "",
           "title": {
            "standoff": 15
           },
           "zerolinecolor": "white",
           "zerolinewidth": 2
          },
          "yaxis": {
           "automargin": true,
           "gridcolor": "white",
           "linecolor": "white",
           "ticks": "",
           "title": {
            "standoff": 15
           },
           "zerolinecolor": "white",
           "zerolinewidth": 2
          }
         }
        },
        "xaxis": {
         "anchor": "y",
         "domain": [
          0,
          0.45
         ]
        },
        "xaxis2": {
         "anchor": "y2",
         "domain": [
          0.55,
          1
         ]
        },
        "yaxis": {
         "anchor": "x",
         "domain": [
          0,
          1
         ]
        },
        "yaxis2": {
         "anchor": "x2",
         "domain": [
          0,
          1
         ]
        }
       }
      }
     },
     "metadata": {}
    },
    {
     "output_type": "stream",
     "name": "stdout",
     "text": "0.0\n"
    }
   ],
   "source": [
    "x, sin_data, sqr_data = data_gen(0, 2*np.pi)\n",
    "t_x, t_sin_data, t_sqr_data = data_gen(0.05, 2*np.pi, step=0.05)\n",
    "\n",
    "n = 10\n",
    "epochs = 2\n",
    "\n",
    "RBFNet = RBF_Network(n, x, useSqr=True)\n",
    "\n",
    "# RBFNet.init_cl(x, 50, 1e-2) # Uncomment this to use CL initialization\n",
    "RBFNet.train_network(epochs, x, sqr_data, t_x, t_sqr_data)\n",
    "res_error = RBFNet.validate(t_x, t_sqr_data, _plot=True)\n",
    "\n",
    "print(res_error)"
   ]
  },
  {
   "source": [
    "Delta learining"
   ],
   "cell_type": "markdown",
   "metadata": {}
  },
  {
   "cell_type": "code",
   "execution_count": 6,
   "metadata": {
    "tags": []
   },
   "outputs": [
    {
     "output_type": "display_data",
     "data": {
      "application/vnd.plotly.v1+json": {
       "config": {
        "plotlyServerURL": "https://plot.ly"
       },
       "data": [
        {
         "mode": "lines",
         "name": "Residual error",
         "type": "scatter",
         "x": [
          0,
          1,
          2,
          3,
          4,
          5,
          6,
          7,
          8,
          9,
          10,
          11,
          12,
          13,
          14,
          15,
          16,
          17,
          18,
          19,
          20,
          21,
          22,
          23,
          24,
          25,
          26,
          27,
          28,
          29,
          30,
          31,
          32,
          33,
          34,
          35,
          36,
          37,
          38,
          39,
          40,
          41,
          42,
          43,
          44,
          45,
          46,
          47,
          48,
          49,
          50,
          51,
          52,
          53,
          54,
          55,
          56,
          57,
          58,
          59,
          60,
          61,
          62,
          63,
          64,
          65,
          66,
          67,
          68,
          69,
          70,
          71,
          72,
          73,
          74,
          75,
          76,
          77,
          78,
          79,
          80,
          81,
          82,
          83,
          84,
          85,
          86,
          87,
          88,
          89,
          90,
          91,
          92,
          93,
          94,
          95,
          96,
          97,
          98,
          99
         ],
         "xaxis": "x2",
         "y": [
          0.36432065499522237,
          0.3972117875580928,
          0.3798848651060302,
          0.3635487480597179,
          0.349177642026638,
          0.3364266207496242,
          0.3260645279985686,
          0.31794691953684084,
          0.310775462183847,
          0.3042181433219109,
          0.2980702341210479,
          0.2926763388137374,
          0.28765868291658125,
          0.28287128336192857,
          0.2782938782320546,
          0.27390824743520553,
          0.26969800316539266,
          0.265873457538244,
          0.26223224237201803,
          0.25869570837039796,
          0.2552563266073288,
          0.25190730153728225,
          0.24873850764986713,
          0.24567269255609575,
          0.24266476966136824,
          0.239711873509054,
          0.23681139400729567,
          0.23400207731809217,
          0.23126384847691214,
          0.22856741551398405,
          0.22591135387030956,
          0.2233415819570277,
          0.220826391866412,
          0.2183408743929592,
          0.21588472194833982,
          0.2134576236226479,
          0.21105926606184128,
          0.2086893342429526,
          0.20634751215798572,
          0.2040334834162753,
          0.20174693177406394,
          0.1994875415991352,
          0.19725499827752124,
          0.19504898856856773,
          0.19286920091397639,
          0.19071532570585917,
          0.18858705551830454,
          0.186484085306484,
          0.18440611257690015,
          0.18235283753199646,
          0.18032396319201247,
          0.17831919549665115,
          0.17633824338886578,
          0.17438081888281567,
          0.17244663711782854,
          0.1705354164000052,
          0.1686468782329322,
          0.16678074733880327,
          0.1649367516711135,
          0.16311462241996597,
          0.16131409401090985,
          0.15953490409813742,
          0.15777679355276822,
          0.15603950644687703,
          0.15432279003383473,
          0.15266267491163038,
          0.15102271944061252,
          0.1494021162462079,
          0.14780063683915826,
          0.1462180549572133,
          0.1446541466137668,
          0.14310869013695676,
          0.1415814662003239,
          0.1400722578459985,
          0.13858085050129498,
          0.13710703198948196,
          0.13565059253543463,
          0.13421132476677824,
          0.13278902371108048,
          0.13138348678959097,
          0.12999451380795124,
          0.12863775222028095,
          0.12731337245690832,
          0.12600461421441297,
          0.12471128928277436,
          0.12343321186051882,
          0.1221701985204932,
          0.12093740383533252,
          0.11971992058405781,
          0.11851678322934917,
          0.1173278187099094,
          0.11615285627525977,
          0.11499172743993459,
          0.11386710845048444,
          0.11276927815803475,
          0.11168436405815736,
          0.11061221147930907,
          0.10955266772174792,
          0.108505582026387,
          0.10747080554446545
         ],
         "yaxis": "y2"
        },
        {
         "mode": "lines",
         "name": "Original",
         "type": "scatter",
         "x": [
          0.05,
          0.15000000000000002,
          0.25000000000000006,
          0.35000000000000003,
          0.45000000000000007,
          0.5500000000000002,
          0.6500000000000001,
          0.7500000000000002,
          0.8500000000000002,
          0.9500000000000002,
          1.0500000000000003,
          1.1500000000000004,
          1.2500000000000002,
          1.3500000000000003,
          1.4500000000000004,
          1.5500000000000003,
          1.6500000000000004,
          1.7500000000000004,
          1.8500000000000003,
          1.9500000000000004,
          2.0500000000000003,
          2.1500000000000004,
          2.2500000000000004,
          2.35,
          2.45,
          2.5500000000000003,
          2.6500000000000004,
          2.7500000000000004,
          2.8500000000000005,
          2.95,
          3.0500000000000003,
          3.1500000000000004,
          3.2500000000000004,
          3.3500000000000005,
          3.4500000000000006,
          3.5500000000000007,
          3.6500000000000004,
          3.7500000000000004,
          3.8500000000000005,
          3.9500000000000006,
          4.050000000000001,
          4.15,
          4.250000000000001,
          4.3500000000000005,
          4.450000000000001,
          4.550000000000001,
          4.65,
          4.750000000000001,
          4.8500000000000005,
          4.950000000000001,
          5.050000000000001,
          5.150000000000001,
          5.250000000000001,
          5.3500000000000005,
          5.450000000000001,
          5.550000000000001,
          5.650000000000001,
          5.750000000000001,
          5.8500000000000005,
          5.950000000000001,
          6.050000000000001,
          6.150000000000001,
          6.250000000000001
         ],
         "xaxis": "x",
         "y": [
          0.09983341664682815,
          0.2955202066613396,
          0.4794255386042031,
          0.6442176872376911,
          0.7833269096274835,
          0.8912073600614355,
          0.9635581854171931,
          0.9974949866040544,
          0.9916648104524686,
          0.9463000876874144,
          0.8632093666488735,
          0.7457052121767197,
          0.5984721441039561,
          0.4273798802338294,
          0.23924932921398157,
          0.04158066243329005,
          -0.15774569414324907,
          -0.35078322768962067,
          -0.5298361409084937,
          -0.6877661591839744,
          -0.8182771110644108,
          -0.9161659367494552,
          -0.9775301176650972,
          -0.9999232575641008,
          -0.9824526126243325,
          -0.9258146823277321,
          -0.8322674422239008,
          -0.7055403255703913,
          -0.5506855425976369,
          -0.373876664830236,
          -0.18216250427209502,
          0.0168139004843506,
          0.2151199880878164,
          0.40484992061659913,
          0.5784397643882009,
          0.7289690401258772,
          0.8504366206285648,
          0.9379999767747391,
          0.9881682338770005,
          0.998941341839772,
          0.9698898108450859,
          0.9021718337562933,
          0.7984871126234893,
          0.662969230082182,
          0.5010208564578832,
          0.3190983623493504,
          0.1244544235070617,
          -0.07515112046181108,
          -0.2717606264109442,
          -0.45753589377532294,
          -0.6250706488928834,
          -0.7676858097635836,
          -0.8796957599716709,
          -0.9566350162701884,
          -0.9954362533063775,
          -0.9945525882039891,
          -0.9540192499020884,
          -0.8754521746884276,
          -0.7619835839190321,
          -0.6181371122370319,
          -0.44964746453459986,
          -0.2632317913657993,
          -0.06632189735119892
         ],
         "yaxis": "y"
        },
        {
         "mode": "lines",
         "name": "Approximated",
         "type": "scatter",
         "x": [
          0.05,
          0.15000000000000002,
          0.25000000000000006,
          0.35000000000000003,
          0.45000000000000007,
          0.5500000000000002,
          0.6500000000000001,
          0.7500000000000002,
          0.8500000000000002,
          0.9500000000000002,
          1.0500000000000003,
          1.1500000000000004,
          1.2500000000000002,
          1.3500000000000003,
          1.4500000000000004,
          1.5500000000000003,
          1.6500000000000004,
          1.7500000000000004,
          1.8500000000000003,
          1.9500000000000004,
          2.0500000000000003,
          2.1500000000000004,
          2.2500000000000004,
          2.35,
          2.45,
          2.5500000000000003,
          2.6500000000000004,
          2.7500000000000004,
          2.8500000000000005,
          2.95,
          3.0500000000000003,
          3.1500000000000004,
          3.2500000000000004,
          3.3500000000000005,
          3.4500000000000006,
          3.5500000000000007,
          3.6500000000000004,
          3.7500000000000004,
          3.8500000000000005,
          3.9500000000000006,
          4.050000000000001,
          4.15,
          4.250000000000001,
          4.3500000000000005,
          4.450000000000001,
          4.550000000000001,
          4.65,
          4.750000000000001,
          4.8500000000000005,
          4.950000000000001,
          5.050000000000001,
          5.150000000000001,
          5.250000000000001,
          5.3500000000000005,
          5.450000000000001,
          5.550000000000001,
          5.650000000000001,
          5.750000000000001,
          5.8500000000000005,
          5.950000000000001,
          6.050000000000001,
          6.150000000000001,
          6.250000000000001
         ],
         "xaxis": "x",
         "y": [
          0.9744626856373361,
          1.0463514775814289,
          1.1060356904740556,
          1.1500396746828843,
          1.1750721126269603,
          1.178209194703325,
          1.1570807343643956,
          1.1100486219779706,
          1.0363663593540613,
          0.9363084114681259,
          0.8112588125444905,
          0.6637498875326011,
          0.49744407576464295,
          0.3170546091835934,
          0.12820409810986477,
          -0.06277623629978077,
          -0.2491000659192829,
          -0.4238217447898896,
          -0.5801604107983886,
          -0.7118355052187022,
          -0.8133947777356202,
          -0.8805149453939285,
          -0.9102556062787774,
          -0.9012488736325934,
          -0.8538104768713811,
          -0.7699626226199031,
          -0.6533644368972507,
          -0.5091519153711913,
          -0.34369550210330085,
          -0.16428916886498945,
          0.021210335964185048,
          0.20477199568086074,
          0.3785830168821442,
          0.535421679003337,
          0.6689888749928167,
          0.7741802264855153,
          0.8472854267440509,
          0.8861069756943611,
          0.8899961966550675,
          0.8598098512748978,
          0.7977953574045341,
          0.7074162411165889,
          0.5931318397618857,
          0.4601463881208807,
          0.31414256913283145,
          0.16101360203619963,
          0.00660624266341725,
          -0.14351503236696517,
          -0.2842746342264286,
          -0.4112574300935221,
          -0.5208414391998912,
          -0.6102895816323745,
          -0.6777999249364769,
          -0.7225152075123007,
          -0.7444936325712828,
          -0.7446440802458214,
          -0.7246300077558838,
          -0.6867473877732548,
          -0.6337830217395948,
          -0.5688603741521445,
          -0.49528060610449076,
          -0.416366646468177,
          -0.3353178565983339
         ],
         "yaxis": "y"
        }
       ],
       "layout": {
        "annotations": [
         {
          "font": {
           "size": 16
          },
          "showarrow": false,
          "text": "Validation with n=10",
          "x": 0.225,
          "xanchor": "center",
          "xref": "paper",
          "y": 1,
          "yanchor": "bottom",
          "yref": "paper"
         },
         {
          "font": {
           "size": 16
          },
          "showarrow": false,
          "text": "Residual error",
          "x": 0.775,
          "xanchor": "center",
          "xref": "paper",
          "y": 1,
          "yanchor": "bottom",
          "yref": "paper"
         }
        ],
        "template": {
         "data": {
          "bar": [
           {
            "error_x": {
             "color": "#2a3f5f"
            },
            "error_y": {
             "color": "#2a3f5f"
            },
            "marker": {
             "line": {
              "color": "#E5ECF6",
              "width": 0.5
             }
            },
            "type": "bar"
           }
          ],
          "barpolar": [
           {
            "marker": {
             "line": {
              "color": "#E5ECF6",
              "width": 0.5
             }
            },
            "type": "barpolar"
           }
          ],
          "carpet": [
           {
            "aaxis": {
             "endlinecolor": "#2a3f5f",
             "gridcolor": "white",
             "linecolor": "white",
             "minorgridcolor": "white",
             "startlinecolor": "#2a3f5f"
            },
            "baxis": {
             "endlinecolor": "#2a3f5f",
             "gridcolor": "white",
             "linecolor": "white",
             "minorgridcolor": "white",
             "startlinecolor": "#2a3f5f"
            },
            "type": "carpet"
           }
          ],
          "choropleth": [
           {
            "colorbar": {
             "outlinewidth": 0,
             "ticks": ""
            },
            "type": "choropleth"
           }
          ],
          "contour": [
           {
            "colorbar": {
             "outlinewidth": 0,
             "ticks": ""
            },
            "colorscale": [
             [
              0,
              "#0d0887"
             ],
             [
              0.1111111111111111,
              "#46039f"
             ],
             [
              0.2222222222222222,
              "#7201a8"
             ],
             [
              0.3333333333333333,
              "#9c179e"
             ],
             [
              0.4444444444444444,
              "#bd3786"
             ],
             [
              0.5555555555555556,
              "#d8576b"
             ],
             [
              0.6666666666666666,
              "#ed7953"
             ],
             [
              0.7777777777777778,
              "#fb9f3a"
             ],
             [
              0.8888888888888888,
              "#fdca26"
             ],
             [
              1,
              "#f0f921"
             ]
            ],
            "type": "contour"
           }
          ],
          "contourcarpet": [
           {
            "colorbar": {
             "outlinewidth": 0,
             "ticks": ""
            },
            "type": "contourcarpet"
           }
          ],
          "heatmap": [
           {
            "colorbar": {
             "outlinewidth": 0,
             "ticks": ""
            },
            "colorscale": [
             [
              0,
              "#0d0887"
             ],
             [
              0.1111111111111111,
              "#46039f"
             ],
             [
              0.2222222222222222,
              "#7201a8"
             ],
             [
              0.3333333333333333,
              "#9c179e"
             ],
             [
              0.4444444444444444,
              "#bd3786"
             ],
             [
              0.5555555555555556,
              "#d8576b"
             ],
             [
              0.6666666666666666,
              "#ed7953"
             ],
             [
              0.7777777777777778,
              "#fb9f3a"
             ],
             [
              0.8888888888888888,
              "#fdca26"
             ],
             [
              1,
              "#f0f921"
             ]
            ],
            "type": "heatmap"
           }
          ],
          "heatmapgl": [
           {
            "colorbar": {
             "outlinewidth": 0,
             "ticks": ""
            },
            "colorscale": [
             [
              0,
              "#0d0887"
             ],
             [
              0.1111111111111111,
              "#46039f"
             ],
             [
              0.2222222222222222,
              "#7201a8"
             ],
             [
              0.3333333333333333,
              "#9c179e"
             ],
             [
              0.4444444444444444,
              "#bd3786"
             ],
             [
              0.5555555555555556,
              "#d8576b"
             ],
             [
              0.6666666666666666,
              "#ed7953"
             ],
             [
              0.7777777777777778,
              "#fb9f3a"
             ],
             [
              0.8888888888888888,
              "#fdca26"
             ],
             [
              1,
              "#f0f921"
             ]
            ],
            "type": "heatmapgl"
           }
          ],
          "histogram": [
           {
            "marker": {
             "colorbar": {
              "outlinewidth": 0,
              "ticks": ""
             }
            },
            "type": "histogram"
           }
          ],
          "histogram2d": [
           {
            "colorbar": {
             "outlinewidth": 0,
             "ticks": ""
            },
            "colorscale": [
             [
              0,
              "#0d0887"
             ],
             [
              0.1111111111111111,
              "#46039f"
             ],
             [
              0.2222222222222222,
              "#7201a8"
             ],
             [
              0.3333333333333333,
              "#9c179e"
             ],
             [
              0.4444444444444444,
              "#bd3786"
             ],
             [
              0.5555555555555556,
              "#d8576b"
             ],
             [
              0.6666666666666666,
              "#ed7953"
             ],
             [
              0.7777777777777778,
              "#fb9f3a"
             ],
             [
              0.8888888888888888,
              "#fdca26"
             ],
             [
              1,
              "#f0f921"
             ]
            ],
            "type": "histogram2d"
           }
          ],
          "histogram2dcontour": [
           {
            "colorbar": {
             "outlinewidth": 0,
             "ticks": ""
            },
            "colorscale": [
             [
              0,
              "#0d0887"
             ],
             [
              0.1111111111111111,
              "#46039f"
             ],
             [
              0.2222222222222222,
              "#7201a8"
             ],
             [
              0.3333333333333333,
              "#9c179e"
             ],
             [
              0.4444444444444444,
              "#bd3786"
             ],
             [
              0.5555555555555556,
              "#d8576b"
             ],
             [
              0.6666666666666666,
              "#ed7953"
             ],
             [
              0.7777777777777778,
              "#fb9f3a"
             ],
             [
              0.8888888888888888,
              "#fdca26"
             ],
             [
              1,
              "#f0f921"
             ]
            ],
            "type": "histogram2dcontour"
           }
          ],
          "mesh3d": [
           {
            "colorbar": {
             "outlinewidth": 0,
             "ticks": ""
            },
            "type": "mesh3d"
           }
          ],
          "parcoords": [
           {
            "line": {
             "colorbar": {
              "outlinewidth": 0,
              "ticks": ""
             }
            },
            "type": "parcoords"
           }
          ],
          "pie": [
           {
            "automargin": true,
            "type": "pie"
           }
          ],
          "scatter": [
           {
            "marker": {
             "colorbar": {
              "outlinewidth": 0,
              "ticks": ""
             }
            },
            "type": "scatter"
           }
          ],
          "scatter3d": [
           {
            "line": {
             "colorbar": {
              "outlinewidth": 0,
              "ticks": ""
             }
            },
            "marker": {
             "colorbar": {
              "outlinewidth": 0,
              "ticks": ""
             }
            },
            "type": "scatter3d"
           }
          ],
          "scattercarpet": [
           {
            "marker": {
             "colorbar": {
              "outlinewidth": 0,
              "ticks": ""
             }
            },
            "type": "scattercarpet"
           }
          ],
          "scattergeo": [
           {
            "marker": {
             "colorbar": {
              "outlinewidth": 0,
              "ticks": ""
             }
            },
            "type": "scattergeo"
           }
          ],
          "scattergl": [
           {
            "marker": {
             "colorbar": {
              "outlinewidth": 0,
              "ticks": ""
             }
            },
            "type": "scattergl"
           }
          ],
          "scattermapbox": [
           {
            "marker": {
             "colorbar": {
              "outlinewidth": 0,
              "ticks": ""
             }
            },
            "type": "scattermapbox"
           }
          ],
          "scatterpolar": [
           {
            "marker": {
             "colorbar": {
              "outlinewidth": 0,
              "ticks": ""
             }
            },
            "type": "scatterpolar"
           }
          ],
          "scatterpolargl": [
           {
            "marker": {
             "colorbar": {
              "outlinewidth": 0,
              "ticks": ""
             }
            },
            "type": "scatterpolargl"
           }
          ],
          "scatterternary": [
           {
            "marker": {
             "colorbar": {
              "outlinewidth": 0,
              "ticks": ""
             }
            },
            "type": "scatterternary"
           }
          ],
          "surface": [
           {
            "colorbar": {
             "outlinewidth": 0,
             "ticks": ""
            },
            "colorscale": [
             [
              0,
              "#0d0887"
             ],
             [
              0.1111111111111111,
              "#46039f"
             ],
             [
              0.2222222222222222,
              "#7201a8"
             ],
             [
              0.3333333333333333,
              "#9c179e"
             ],
             [
              0.4444444444444444,
              "#bd3786"
             ],
             [
              0.5555555555555556,
              "#d8576b"
             ],
             [
              0.6666666666666666,
              "#ed7953"
             ],
             [
              0.7777777777777778,
              "#fb9f3a"
             ],
             [
              0.8888888888888888,
              "#fdca26"
             ],
             [
              1,
              "#f0f921"
             ]
            ],
            "type": "surface"
           }
          ],
          "table": [
           {
            "cells": {
             "fill": {
              "color": "#EBF0F8"
             },
             "line": {
              "color": "white"
             }
            },
            "header": {
             "fill": {
              "color": "#C8D4E3"
             },
             "line": {
              "color": "white"
             }
            },
            "type": "table"
           }
          ]
         },
         "layout": {
          "annotationdefaults": {
           "arrowcolor": "#2a3f5f",
           "arrowhead": 0,
           "arrowwidth": 1
          },
          "coloraxis": {
           "colorbar": {
            "outlinewidth": 0,
            "ticks": ""
           }
          },
          "colorscale": {
           "diverging": [
            [
             0,
             "#8e0152"
            ],
            [
             0.1,
             "#c51b7d"
            ],
            [
             0.2,
             "#de77ae"
            ],
            [
             0.3,
             "#f1b6da"
            ],
            [
             0.4,
             "#fde0ef"
            ],
            [
             0.5,
             "#f7f7f7"
            ],
            [
             0.6,
             "#e6f5d0"
            ],
            [
             0.7,
             "#b8e186"
            ],
            [
             0.8,
             "#7fbc41"
            ],
            [
             0.9,
             "#4d9221"
            ],
            [
             1,
             "#276419"
            ]
           ],
           "sequential": [
            [
             0,
             "#0d0887"
            ],
            [
             0.1111111111111111,
             "#46039f"
            ],
            [
             0.2222222222222222,
             "#7201a8"
            ],
            [
             0.3333333333333333,
             "#9c179e"
            ],
            [
             0.4444444444444444,
             "#bd3786"
            ],
            [
             0.5555555555555556,
             "#d8576b"
            ],
            [
             0.6666666666666666,
             "#ed7953"
            ],
            [
             0.7777777777777778,
             "#fb9f3a"
            ],
            [
             0.8888888888888888,
             "#fdca26"
            ],
            [
             1,
             "#f0f921"
            ]
           ],
           "sequentialminus": [
            [
             0,
             "#0d0887"
            ],
            [
             0.1111111111111111,
             "#46039f"
            ],
            [
             0.2222222222222222,
             "#7201a8"
            ],
            [
             0.3333333333333333,
             "#9c179e"
            ],
            [
             0.4444444444444444,
             "#bd3786"
            ],
            [
             0.5555555555555556,
             "#d8576b"
            ],
            [
             0.6666666666666666,
             "#ed7953"
            ],
            [
             0.7777777777777778,
             "#fb9f3a"
            ],
            [
             0.8888888888888888,
             "#fdca26"
            ],
            [
             1,
             "#f0f921"
            ]
           ]
          },
          "colorway": [
           "#636efa",
           "#EF553B",
           "#00cc96",
           "#ab63fa",
           "#FFA15A",
           "#19d3f3",
           "#FF6692",
           "#B6E880",
           "#FF97FF",
           "#FECB52"
          ],
          "font": {
           "color": "#2a3f5f"
          },
          "geo": {
           "bgcolor": "white",
           "lakecolor": "white",
           "landcolor": "#E5ECF6",
           "showlakes": true,
           "showland": true,
           "subunitcolor": "white"
          },
          "hoverlabel": {
           "align": "left"
          },
          "hovermode": "closest",
          "mapbox": {
           "style": "light"
          },
          "paper_bgcolor": "white",
          "plot_bgcolor": "#E5ECF6",
          "polar": {
           "angularaxis": {
            "gridcolor": "white",
            "linecolor": "white",
            "ticks": ""
           },
           "bgcolor": "#E5ECF6",
           "radialaxis": {
            "gridcolor": "white",
            "linecolor": "white",
            "ticks": ""
           }
          },
          "scene": {
           "xaxis": {
            "backgroundcolor": "#E5ECF6",
            "gridcolor": "white",
            "gridwidth": 2,
            "linecolor": "white",
            "showbackground": true,
            "ticks": "",
            "zerolinecolor": "white"
           },
           "yaxis": {
            "backgroundcolor": "#E5ECF6",
            "gridcolor": "white",
            "gridwidth": 2,
            "linecolor": "white",
            "showbackground": true,
            "ticks": "",
            "zerolinecolor": "white"
           },
           "zaxis": {
            "backgroundcolor": "#E5ECF6",
            "gridcolor": "white",
            "gridwidth": 2,
            "linecolor": "white",
            "showbackground": true,
            "ticks": "",
            "zerolinecolor": "white"
           }
          },
          "shapedefaults": {
           "line": {
            "color": "#2a3f5f"
           }
          },
          "ternary": {
           "aaxis": {
            "gridcolor": "white",
            "linecolor": "white",
            "ticks": ""
           },
           "baxis": {
            "gridcolor": "white",
            "linecolor": "white",
            "ticks": ""
           },
           "bgcolor": "#E5ECF6",
           "caxis": {
            "gridcolor": "white",
            "linecolor": "white",
            "ticks": ""
           }
          },
          "title": {
           "x": 0.05
          },
          "xaxis": {
           "automargin": true,
           "gridcolor": "white",
           "linecolor": "white",
           "ticks": "",
           "title": {
            "standoff": 15
           },
           "zerolinecolor": "white",
           "zerolinewidth": 2
          },
          "yaxis": {
           "automargin": true,
           "gridcolor": "white",
           "linecolor": "white",
           "ticks": "",
           "title": {
            "standoff": 15
           },
           "zerolinecolor": "white",
           "zerolinewidth": 2
          }
         }
        },
        "xaxis": {
         "anchor": "y",
         "domain": [
          0,
          0.45
         ]
        },
        "xaxis2": {
         "anchor": "y2",
         "domain": [
          0.55,
          1
         ]
        },
        "yaxis": {
         "anchor": "x",
         "domain": [
          0,
          1
         ]
        },
        "yaxis2": {
         "anchor": "x2",
         "domain": [
          0,
          1
         ]
        }
       }
      }
     },
     "metadata": {}
    },
    {
     "output_type": "stream",
     "name": "stdout",
     "text": "0.8117172799116351\n"
    }
   ],
   "source": [
    "x, sin_data, sqr_data = data_gen(0, 2*np.pi)\n",
    "t_x, t_sin_data, t_sqr_data = data_gen(0.05, 2*np.pi)\n",
    "\n",
    "n = 10\n",
    "epochs = 100\n",
    "\n",
    "RBFNet = RBF_Network(n, x, eta=1e-1, useDelta=True)\n",
    "# RBFNet.init_cl(x, 100, 1e-1, useBias=True) # Uncomment this to use CL initialization\n",
    "RBFNet.train_network(epochs, x, sin_data, t_x, t_sin_data)\n",
    "res_error = RBFNet.validate(t_x, t_sin_data, _plot=True)\n",
    "\n",
    "print(res_error)"
   ]
  },
  {
   "source": [
    "CL initialization"
   ],
   "cell_type": "markdown",
   "metadata": {}
  },
  {
   "cell_type": "code",
   "execution_count": 194,
   "metadata": {
    "tags": []
   },
   "outputs": [
    {
     "output_type": "display_data",
     "data": {
      "application/vnd.plotly.v1+json": {
       "config": {
        "plotlyServerURL": "https://plot.ly"
       },
       "data": [
        {
         "mode": "lines",
         "name": "Residual error",
         "type": "scatter",
         "x": [
          0,
          1,
          2,
          3,
          4,
          5,
          6,
          7,
          8,
          9
         ],
         "xaxis": "x2",
         "y": [
          1.2006190596865336,
          0.7324910454653194,
          0.7543725704030556,
          0.7775738765849519,
          0.8077483631515603,
          0.8319550060309148,
          0.8471822220254798,
          0.8550529420557927,
          0.8578101680872288,
          0.8573057348528903
         ],
         "yaxis": "y2"
        },
        {
         "mode": "lines",
         "name": "Original",
         "type": "scatter",
         "x": [
          0.05,
          0.15000000000000002,
          0.25000000000000006,
          0.35000000000000003,
          0.45000000000000007,
          0.5500000000000002,
          0.6500000000000001,
          0.7500000000000002,
          0.8500000000000002,
          0.9500000000000002,
          1.0500000000000003,
          1.1500000000000004,
          1.2500000000000002,
          1.3500000000000003,
          1.4500000000000004,
          1.5500000000000003,
          1.6500000000000004,
          1.7500000000000004,
          1.8500000000000003,
          1.9500000000000004,
          2.0500000000000003,
          2.1500000000000004,
          2.2500000000000004,
          2.35,
          2.45,
          2.5500000000000003,
          2.6500000000000004,
          2.7500000000000004,
          2.8500000000000005,
          2.95,
          3.0500000000000003,
          3.1500000000000004,
          3.2500000000000004,
          3.3500000000000005,
          3.4500000000000006,
          3.5500000000000007,
          3.6500000000000004,
          3.7500000000000004,
          3.8500000000000005,
          3.9500000000000006,
          4.050000000000001,
          4.15,
          4.250000000000001,
          4.3500000000000005,
          4.450000000000001,
          4.550000000000001,
          4.65,
          4.750000000000001,
          4.8500000000000005,
          4.950000000000001,
          5.050000000000001,
          5.150000000000001,
          5.250000000000001,
          5.3500000000000005,
          5.450000000000001,
          5.550000000000001,
          5.650000000000001,
          5.750000000000001,
          5.8500000000000005,
          5.950000000000001,
          6.050000000000001,
          6.150000000000001,
          6.250000000000001
         ],
         "xaxis": "x",
         "y": [
          0.09983341664682815,
          0.2955202066613396,
          0.4794255386042031,
          0.6442176872376911,
          0.7833269096274835,
          0.8912073600614355,
          0.9635581854171931,
          0.9974949866040544,
          0.9916648104524686,
          0.9463000876874144,
          0.8632093666488735,
          0.7457052121767197,
          0.5984721441039561,
          0.4273798802338294,
          0.23924932921398157,
          0.04158066243329005,
          -0.15774569414324907,
          -0.35078322768962067,
          -0.5298361409084937,
          -0.6877661591839744,
          -0.8182771110644108,
          -0.9161659367494552,
          -0.9775301176650972,
          -0.9999232575641008,
          -0.9824526126243325,
          -0.9258146823277321,
          -0.8322674422239008,
          -0.7055403255703913,
          -0.5506855425976369,
          -0.373876664830236,
          -0.18216250427209502,
          0.0168139004843506,
          0.2151199880878164,
          0.40484992061659913,
          0.5784397643882009,
          0.7289690401258772,
          0.8504366206285648,
          0.9379999767747391,
          0.9881682338770005,
          0.998941341839772,
          0.9698898108450859,
          0.9021718337562933,
          0.7984871126234893,
          0.662969230082182,
          0.5010208564578832,
          0.3190983623493504,
          0.1244544235070617,
          -0.07515112046181108,
          -0.2717606264109442,
          -0.45753589377532294,
          -0.6250706488928834,
          -0.7676858097635836,
          -0.8796957599716709,
          -0.9566350162701884,
          -0.9954362533063775,
          -0.9945525882039891,
          -0.9540192499020884,
          -0.8754521746884276,
          -0.7619835839190321,
          -0.6181371122370319,
          -0.44964746453459986,
          -0.2632317913657993,
          -0.06632189735119892
         ],
         "yaxis": "y"
        },
        {
         "mode": "lines",
         "name": "Approximated",
         "type": "scatter",
         "x": [
          0.05,
          0.15000000000000002,
          0.25000000000000006,
          0.35000000000000003,
          0.45000000000000007,
          0.5500000000000002,
          0.6500000000000001,
          0.7500000000000002,
          0.8500000000000002,
          0.9500000000000002,
          1.0500000000000003,
          1.1500000000000004,
          1.2500000000000002,
          1.3500000000000003,
          1.4500000000000004,
          1.5500000000000003,
          1.6500000000000004,
          1.7500000000000004,
          1.8500000000000003,
          1.9500000000000004,
          2.0500000000000003,
          2.1500000000000004,
          2.2500000000000004,
          2.35,
          2.45,
          2.5500000000000003,
          2.6500000000000004,
          2.7500000000000004,
          2.8500000000000005,
          2.95,
          3.0500000000000003,
          3.1500000000000004,
          3.2500000000000004,
          3.3500000000000005,
          3.4500000000000006,
          3.5500000000000007,
          3.6500000000000004,
          3.7500000000000004,
          3.8500000000000005,
          3.9500000000000006,
          4.050000000000001,
          4.15,
          4.250000000000001,
          4.3500000000000005,
          4.450000000000001,
          4.550000000000001,
          4.65,
          4.750000000000001,
          4.8500000000000005,
          4.950000000000001,
          5.050000000000001,
          5.150000000000001,
          5.250000000000001,
          5.3500000000000005,
          5.450000000000001,
          5.550000000000001,
          5.650000000000001,
          5.750000000000001,
          5.8500000000000005,
          5.950000000000001,
          6.050000000000001,
          6.150000000000001,
          6.250000000000001
         ],
         "xaxis": "x",
         "y": [
          1.6659272645172412,
          1.6663608624014392,
          1.63988703380188,
          1.5851381926595955,
          1.5016074077253603,
          1.3897402532265437,
          1.250988484496563,
          1.0878200156598696,
          0.9036819346639506,
          0.7029158741010649,
          0.490627793173486,
          0.27251692866383687,
          0.05467115113504507,
          -0.15666195877507794,
          -0.35531746699748845,
          -0.5354571490649931,
          -0.6918033626548634,
          -0.8198513751537524,
          -0.9160499978222909,
          -0.9779421516236209,
          -1.0042591965797218,
          -0.9949653370463569,
          -0.9512509986752502,
          -0.8754765914765467,
          -0.7710703765770602,
          -0.6423861193672991,
          -0.49452775212343697,
          -0.33314933813911535,
          -0.16423921966495883,
          0.006102628604322951,
          0.17188527487487518,
          0.32743734778533085,
          0.4676000320003763,
          0.5878961681827157,
          0.6846701784521106,
          0.7551946914210822,
          0.7977409249779529,
          0.8116110900097139,
          0.7971323054948612,
          0.755612769717533,
          0.6892622134476495,
          0.6010799552294128,
          0.49471515380099,
          0.37430505421814647,
          0.244298079337815,
          0.10926944100786376,
          -0.026262552997366035,
          -0.1580112184027077,
          -0.28207931647104334,
          -0.39509288716006363,
          -0.49430529244219773,
          -0.577667353006028,
          -0.6438614327217667,
          -0.6922994433317405,
          -0.7230868466260713,
          -0.736956659006327,
          -0.7351790636561889,
          -0.719453388111789,
          -0.6917898317748321,
          -0.6543884006079445,
          -0.6095220480905283,
          -0.5594301027385522,
          -0.5062267908482523
         ],
         "yaxis": "y"
        }
       ],
       "layout": {
        "annotations": [
         {
          "font": {
           "size": 16
          },
          "showarrow": false,
          "text": "Validation with n=10",
          "x": 0.225,
          "xanchor": "center",
          "xref": "paper",
          "y": 1,
          "yanchor": "bottom",
          "yref": "paper"
         },
         {
          "font": {
           "size": 16
          },
          "showarrow": false,
          "text": "Residual error",
          "x": 0.775,
          "xanchor": "center",
          "xref": "paper",
          "y": 1,
          "yanchor": "bottom",
          "yref": "paper"
         }
        ],
        "template": {
         "data": {
          "bar": [
           {
            "error_x": {
             "color": "#2a3f5f"
            },
            "error_y": {
             "color": "#2a3f5f"
            },
            "marker": {
             "line": {
              "color": "#E5ECF6",
              "width": 0.5
             }
            },
            "type": "bar"
           }
          ],
          "barpolar": [
           {
            "marker": {
             "line": {
              "color": "#E5ECF6",
              "width": 0.5
             }
            },
            "type": "barpolar"
           }
          ],
          "carpet": [
           {
            "aaxis": {
             "endlinecolor": "#2a3f5f",
             "gridcolor": "white",
             "linecolor": "white",
             "minorgridcolor": "white",
             "startlinecolor": "#2a3f5f"
            },
            "baxis": {
             "endlinecolor": "#2a3f5f",
             "gridcolor": "white",
             "linecolor": "white",
             "minorgridcolor": "white",
             "startlinecolor": "#2a3f5f"
            },
            "type": "carpet"
           }
          ],
          "choropleth": [
           {
            "colorbar": {
             "outlinewidth": 0,
             "ticks": ""
            },
            "type": "choropleth"
           }
          ],
          "contour": [
           {
            "colorbar": {
             "outlinewidth": 0,
             "ticks": ""
            },
            "colorscale": [
             [
              0,
              "#0d0887"
             ],
             [
              0.1111111111111111,
              "#46039f"
             ],
             [
              0.2222222222222222,
              "#7201a8"
             ],
             [
              0.3333333333333333,
              "#9c179e"
             ],
             [
              0.4444444444444444,
              "#bd3786"
             ],
             [
              0.5555555555555556,
              "#d8576b"
             ],
             [
              0.6666666666666666,
              "#ed7953"
             ],
             [
              0.7777777777777778,
              "#fb9f3a"
             ],
             [
              0.8888888888888888,
              "#fdca26"
             ],
             [
              1,
              "#f0f921"
             ]
            ],
            "type": "contour"
           }
          ],
          "contourcarpet": [
           {
            "colorbar": {
             "outlinewidth": 0,
             "ticks": ""
            },
            "type": "contourcarpet"
           }
          ],
          "heatmap": [
           {
            "colorbar": {
             "outlinewidth": 0,
             "ticks": ""
            },
            "colorscale": [
             [
              0,
              "#0d0887"
             ],
             [
              0.1111111111111111,
              "#46039f"
             ],
             [
              0.2222222222222222,
              "#7201a8"
             ],
             [
              0.3333333333333333,
              "#9c179e"
             ],
             [
              0.4444444444444444,
              "#bd3786"
             ],
             [
              0.5555555555555556,
              "#d8576b"
             ],
             [
              0.6666666666666666,
              "#ed7953"
             ],
             [
              0.7777777777777778,
              "#fb9f3a"
             ],
             [
              0.8888888888888888,
              "#fdca26"
             ],
             [
              1,
              "#f0f921"
             ]
            ],
            "type": "heatmap"
           }
          ],
          "heatmapgl": [
           {
            "colorbar": {
             "outlinewidth": 0,
             "ticks": ""
            },
            "colorscale": [
             [
              0,
              "#0d0887"
             ],
             [
              0.1111111111111111,
              "#46039f"
             ],
             [
              0.2222222222222222,
              "#7201a8"
             ],
             [
              0.3333333333333333,
              "#9c179e"
             ],
             [
              0.4444444444444444,
              "#bd3786"
             ],
             [
              0.5555555555555556,
              "#d8576b"
             ],
             [
              0.6666666666666666,
              "#ed7953"
             ],
             [
              0.7777777777777778,
              "#fb9f3a"
             ],
             [
              0.8888888888888888,
              "#fdca26"
             ],
             [
              1,
              "#f0f921"
             ]
            ],
            "type": "heatmapgl"
           }
          ],
          "histogram": [
           {
            "marker": {
             "colorbar": {
              "outlinewidth": 0,
              "ticks": ""
             }
            },
            "type": "histogram"
           }
          ],
          "histogram2d": [
           {
            "colorbar": {
             "outlinewidth": 0,
             "ticks": ""
            },
            "colorscale": [
             [
              0,
              "#0d0887"
             ],
             [
              0.1111111111111111,
              "#46039f"
             ],
             [
              0.2222222222222222,
              "#7201a8"
             ],
             [
              0.3333333333333333,
              "#9c179e"
             ],
             [
              0.4444444444444444,
              "#bd3786"
             ],
             [
              0.5555555555555556,
              "#d8576b"
             ],
             [
              0.6666666666666666,
              "#ed7953"
             ],
             [
              0.7777777777777778,
              "#fb9f3a"
             ],
             [
              0.8888888888888888,
              "#fdca26"
             ],
             [
              1,
              "#f0f921"
             ]
            ],
            "type": "histogram2d"
           }
          ],
          "histogram2dcontour": [
           {
            "colorbar": {
             "outlinewidth": 0,
             "ticks": ""
            },
            "colorscale": [
             [
              0,
              "#0d0887"
             ],
             [
              0.1111111111111111,
              "#46039f"
             ],
             [
              0.2222222222222222,
              "#7201a8"
             ],
             [
              0.3333333333333333,
              "#9c179e"
             ],
             [
              0.4444444444444444,
              "#bd3786"
             ],
             [
              0.5555555555555556,
              "#d8576b"
             ],
             [
              0.6666666666666666,
              "#ed7953"
             ],
             [
              0.7777777777777778,
              "#fb9f3a"
             ],
             [
              0.8888888888888888,
              "#fdca26"
             ],
             [
              1,
              "#f0f921"
             ]
            ],
            "type": "histogram2dcontour"
           }
          ],
          "mesh3d": [
           {
            "colorbar": {
             "outlinewidth": 0,
             "ticks": ""
            },
            "type": "mesh3d"
           }
          ],
          "parcoords": [
           {
            "line": {
             "colorbar": {
              "outlinewidth": 0,
              "ticks": ""
             }
            },
            "type": "parcoords"
           }
          ],
          "pie": [
           {
            "automargin": true,
            "type": "pie"
           }
          ],
          "scatter": [
           {
            "marker": {
             "colorbar": {
              "outlinewidth": 0,
              "ticks": ""
             }
            },
            "type": "scatter"
           }
          ],
          "scatter3d": [
           {
            "line": {
             "colorbar": {
              "outlinewidth": 0,
              "ticks": ""
             }
            },
            "marker": {
             "colorbar": {
              "outlinewidth": 0,
              "ticks": ""
             }
            },
            "type": "scatter3d"
           }
          ],
          "scattercarpet": [
           {
            "marker": {
             "colorbar": {
              "outlinewidth": 0,
              "ticks": ""
             }
            },
            "type": "scattercarpet"
           }
          ],
          "scattergeo": [
           {
            "marker": {
             "colorbar": {
              "outlinewidth": 0,
              "ticks": ""
             }
            },
            "type": "scattergeo"
           }
          ],
          "scattergl": [
           {
            "marker": {
             "colorbar": {
              "outlinewidth": 0,
              "ticks": ""
             }
            },
            "type": "scattergl"
           }
          ],
          "scattermapbox": [
           {
            "marker": {
             "colorbar": {
              "outlinewidth": 0,
              "ticks": ""
             }
            },
            "type": "scattermapbox"
           }
          ],
          "scatterpolar": [
           {
            "marker": {
             "colorbar": {
              "outlinewidth": 0,
              "ticks": ""
             }
            },
            "type": "scatterpolar"
           }
          ],
          "scatterpolargl": [
           {
            "marker": {
             "colorbar": {
              "outlinewidth": 0,
              "ticks": ""
             }
            },
            "type": "scatterpolargl"
           }
          ],
          "scatterternary": [
           {
            "marker": {
             "colorbar": {
              "outlinewidth": 0,
              "ticks": ""
             }
            },
            "type": "scatterternary"
           }
          ],
          "surface": [
           {
            "colorbar": {
             "outlinewidth": 0,
             "ticks": ""
            },
            "colorscale": [
             [
              0,
              "#0d0887"
             ],
             [
              0.1111111111111111,
              "#46039f"
             ],
             [
              0.2222222222222222,
              "#7201a8"
             ],
             [
              0.3333333333333333,
              "#9c179e"
             ],
             [
              0.4444444444444444,
              "#bd3786"
             ],
             [
              0.5555555555555556,
              "#d8576b"
             ],
             [
              0.6666666666666666,
              "#ed7953"
             ],
             [
              0.7777777777777778,
              "#fb9f3a"
             ],
             [
              0.8888888888888888,
              "#fdca26"
             ],
             [
              1,
              "#f0f921"
             ]
            ],
            "type": "surface"
           }
          ],
          "table": [
           {
            "cells": {
             "fill": {
              "color": "#EBF0F8"
             },
             "line": {
              "color": "white"
             }
            },
            "header": {
             "fill": {
              "color": "#C8D4E3"
             },
             "line": {
              "color": "white"
             }
            },
            "type": "table"
           }
          ]
         },
         "layout": {
          "annotationdefaults": {
           "arrowcolor": "#2a3f5f",
           "arrowhead": 0,
           "arrowwidth": 1
          },
          "coloraxis": {
           "colorbar": {
            "outlinewidth": 0,
            "ticks": ""
           }
          },
          "colorscale": {
           "diverging": [
            [
             0,
             "#8e0152"
            ],
            [
             0.1,
             "#c51b7d"
            ],
            [
             0.2,
             "#de77ae"
            ],
            [
             0.3,
             "#f1b6da"
            ],
            [
             0.4,
             "#fde0ef"
            ],
            [
             0.5,
             "#f7f7f7"
            ],
            [
             0.6,
             "#e6f5d0"
            ],
            [
             0.7,
             "#b8e186"
            ],
            [
             0.8,
             "#7fbc41"
            ],
            [
             0.9,
             "#4d9221"
            ],
            [
             1,
             "#276419"
            ]
           ],
           "sequential": [
            [
             0,
             "#0d0887"
            ],
            [
             0.1111111111111111,
             "#46039f"
            ],
            [
             0.2222222222222222,
             "#7201a8"
            ],
            [
             0.3333333333333333,
             "#9c179e"
            ],
            [
             0.4444444444444444,
             "#bd3786"
            ],
            [
             0.5555555555555556,
             "#d8576b"
            ],
            [
             0.6666666666666666,
             "#ed7953"
            ],
            [
             0.7777777777777778,
             "#fb9f3a"
            ],
            [
             0.8888888888888888,
             "#fdca26"
            ],
            [
             1,
             "#f0f921"
            ]
           ],
           "sequentialminus": [
            [
             0,
             "#0d0887"
            ],
            [
             0.1111111111111111,
             "#46039f"
            ],
            [
             0.2222222222222222,
             "#7201a8"
            ],
            [
             0.3333333333333333,
             "#9c179e"
            ],
            [
             0.4444444444444444,
             "#bd3786"
            ],
            [
             0.5555555555555556,
             "#d8576b"
            ],
            [
             0.6666666666666666,
             "#ed7953"
            ],
            [
             0.7777777777777778,
             "#fb9f3a"
            ],
            [
             0.8888888888888888,
             "#fdca26"
            ],
            [
             1,
             "#f0f921"
            ]
           ]
          },
          "colorway": [
           "#636efa",
           "#EF553B",
           "#00cc96",
           "#ab63fa",
           "#FFA15A",
           "#19d3f3",
           "#FF6692",
           "#B6E880",
           "#FF97FF",
           "#FECB52"
          ],
          "font": {
           "color": "#2a3f5f"
          },
          "geo": {
           "bgcolor": "white",
           "lakecolor": "white",
           "landcolor": "#E5ECF6",
           "showlakes": true,
           "showland": true,
           "subunitcolor": "white"
          },
          "hoverlabel": {
           "align": "left"
          },
          "hovermode": "closest",
          "mapbox": {
           "style": "light"
          },
          "paper_bgcolor": "white",
          "plot_bgcolor": "#E5ECF6",
          "polar": {
           "angularaxis": {
            "gridcolor": "white",
            "linecolor": "white",
            "ticks": ""
           },
           "bgcolor": "#E5ECF6",
           "radialaxis": {
            "gridcolor": "white",
            "linecolor": "white",
            "ticks": ""
           }
          },
          "scene": {
           "xaxis": {
            "backgroundcolor": "#E5ECF6",
            "gridcolor": "white",
            "gridwidth": 2,
            "linecolor": "white",
            "showbackground": true,
            "ticks": "",
            "zerolinecolor": "white"
           },
           "yaxis": {
            "backgroundcolor": "#E5ECF6",
            "gridcolor": "white",
            "gridwidth": 2,
            "linecolor": "white",
            "showbackground": true,
            "ticks": "",
            "zerolinecolor": "white"
           },
           "zaxis": {
            "backgroundcolor": "#E5ECF6",
            "gridcolor": "white",
            "gridwidth": 2,
            "linecolor": "white",
            "showbackground": true,
            "ticks": "",
            "zerolinecolor": "white"
           }
          },
          "shapedefaults": {
           "line": {
            "color": "#2a3f5f"
           }
          },
          "ternary": {
           "aaxis": {
            "gridcolor": "white",
            "linecolor": "white",
            "ticks": ""
           },
           "baxis": {
            "gridcolor": "white",
            "linecolor": "white",
            "ticks": ""
           },
           "bgcolor": "#E5ECF6",
           "caxis": {
            "gridcolor": "white",
            "linecolor": "white",
            "ticks": ""
           }
          },
          "title": {
           "x": 0.05
          },
          "xaxis": {
           "automargin": true,
           "gridcolor": "white",
           "linecolor": "white",
           "ticks": "",
           "title": {
            "standoff": 15
           },
           "zerolinecolor": "white",
           "zerolinewidth": 2
          },
          "yaxis": {
           "automargin": true,
           "gridcolor": "white",
           "linecolor": "white",
           "ticks": "",
           "title": {
            "standoff": 15
           },
           "zerolinecolor": "white",
           "zerolinewidth": 2
          }
         }
        },
        "xaxis": {
         "anchor": "y",
         "domain": [
          0,
          0.45
         ]
        },
        "xaxis2": {
         "anchor": "y2",
         "domain": [
          0.55,
          1
         ]
        },
        "yaxis": {
         "anchor": "x",
         "domain": [
          0,
          1
         ]
        },
        "yaxis2": {
         "anchor": "x2",
         "domain": [
          0,
          1
         ]
        }
       }
      }
     },
     "metadata": {}
    },
    {
     "output_type": "stream",
     "name": "stdout",
     "text": "0.8573057348528903\n"
    }
   ],
   "source": [
    "x, sin_data, sqr_data = data_gen(0, 2*np.pi)\n",
    "t_x, t_sin_data, t_sqr_data = data_gen(0.05, 2*np.pi)\n",
    "\n",
    "n = 10\n",
    "epochs = 10\n",
    "\n",
    "RBFNet = RBF_Network(n, x, eta=1e-1, useDelta=True)\n",
    "RBFNet.init_cl(x, 100, 1e-1) # Uncomment this to use CL initialization\n",
    "RBFNet.train_network(epochs, x, sin_data, t_x, t_sin_data)\n",
    "res_error = RBFNet.validate(t_x, t_sin_data, _plot=True)\n",
    "\n",
    "print(res_error)"
   ]
  },
  {
   "source": [
    "Testing different n for least square method"
   ],
   "cell_type": "markdown",
   "metadata": {}
  },
  {
   "cell_type": "code",
   "execution_count": 234,
   "metadata": {},
   "outputs": [
    {
     "output_type": "display_data",
     "data": {
      "application/vnd.plotly.v1+json": {
       "config": {
        "plotlyServerURL": "https://plot.ly"
       },
       "data": [
        {
         "mode": "lines",
         "name": "error",
         "type": "scatter",
         "x": [
          0,
          1,
          2,
          3,
          4,
          5,
          6,
          7,
          8
         ],
         "xaxis": "x2",
         "y": [
          0.6347400990258355,
          0.5910421877305674,
          0.5579267055718891,
          0.5133123015289263,
          0.5133123015289262,
          0.08199061128107998,
          0.07545365277302987,
          0.07545365277302983,
          0.07567556759768827
         ],
         "yaxis": "y2"
        },
        {
         "mode": "lines",
         "name": "Original",
         "type": "scatter",
         "x": [
          0.05,
          0.15000000000000002,
          0.25000000000000006,
          0.35000000000000003,
          0.45000000000000007,
          0.5500000000000002,
          0.6500000000000001,
          0.7500000000000002,
          0.8500000000000002,
          0.9500000000000002,
          1.0500000000000003,
          1.1500000000000004,
          1.2500000000000002,
          1.3500000000000003,
          1.4500000000000004,
          1.5500000000000003,
          1.6500000000000004,
          1.7500000000000004,
          1.8500000000000003,
          1.9500000000000004,
          2.0500000000000003,
          2.1500000000000004,
          2.2500000000000004,
          2.35,
          2.45,
          2.5500000000000003,
          2.6500000000000004,
          2.7500000000000004,
          2.8500000000000005,
          2.95,
          3.0500000000000003,
          3.1500000000000004,
          3.2500000000000004,
          3.3500000000000005,
          3.4500000000000006,
          3.5500000000000007,
          3.6500000000000004,
          3.7500000000000004,
          3.8500000000000005,
          3.9500000000000006,
          4.050000000000001,
          4.15,
          4.250000000000001,
          4.3500000000000005,
          4.450000000000001,
          4.550000000000001,
          4.65,
          4.750000000000001,
          4.8500000000000005,
          4.950000000000001,
          5.050000000000001,
          5.150000000000001,
          5.250000000000001,
          5.3500000000000005,
          5.450000000000001,
          5.550000000000001,
          5.650000000000001,
          5.750000000000001,
          5.8500000000000005,
          5.950000000000001,
          6.050000000000001,
          6.150000000000001,
          6.250000000000001
         ],
         "xaxis": "x",
         "y": [
          0,
          0.19866933079506122,
          0.3894183423086505,
          0.5646424733950355,
          0.7173560908995228,
          0.8414709848078965,
          0.9320390859672264,
          0.9854497299884603,
          0.9995736030415051,
          0.9738476308781951,
          0.9092974268256817,
          0.8084964038195901,
          0.6754631805511506,
          0.5155013718214642,
          0.33498815015590466,
          0.1411200080598672,
          -0.058374143427580086,
          -0.25554110202683167,
          -0.44252044329485246,
          -0.6118578909427193,
          -0.7568024953079282,
          -0.8715757724135882,
          -0.951602073889516,
          -0.9936910036334645,
          -0.9961646088358406,
          -0.9589242746631385,
          -0.8834546557201531,
          -0.7727644875559871,
          -0.6312666378723208,
          -0.4646021794137566,
          -0.27941549819892586,
          -0.0830894028174964,
          0.11654920485049364,
          0.3115413635133787,
          0.49411335113860894,
          0.6569865987187891,
          0.7936678638491531,
          0.8987080958116269,
          0.9679196720314865,
          0.998543345374605,
          0.9893582466233818,
          0.9407305566797726,
          0.8545989080882804,
          0.7343970978741133,
          0.5849171928917617,
          0.4121184852417566,
          0.22288991410024592,
          0.024775425453357765,
          -0.1743267812229814,
          -0.3664791292519284,
          -0.5440211108893698,
          -0.6998746875935437,
          -0.8278264690856537,
          -0.9227754216128073,
          -0.9809362300664916,
          -0.9999902065507035,
          -0.979177729151317,
          -0.9193285256646757,
          -0.8228285949687079,
          -0.6935250847771224,
          -0.5365729180004349,
          -0.35822928223682704,
          -0.1656041754483094
         ],
         "yaxis": "y"
        },
        {
         "mode": "lines",
         "name": "n=1",
         "type": "scatter",
         "x": [
          0.05,
          0.15000000000000002,
          0.25000000000000006,
          0.35000000000000003,
          0.45000000000000007,
          0.5500000000000002,
          0.6500000000000001,
          0.7500000000000002,
          0.8500000000000002,
          0.9500000000000002,
          1.0500000000000003,
          1.1500000000000004,
          1.2500000000000002,
          1.3500000000000003,
          1.4500000000000004,
          1.5500000000000003,
          1.6500000000000004,
          1.7500000000000004,
          1.8500000000000003,
          1.9500000000000004,
          2.0500000000000003,
          2.1500000000000004,
          2.2500000000000004,
          2.35,
          2.45,
          2.5500000000000003,
          2.6500000000000004,
          2.7500000000000004,
          2.8500000000000005,
          2.95,
          3.0500000000000003,
          3.1500000000000004,
          3.2500000000000004,
          3.3500000000000005,
          3.4500000000000006,
          3.5500000000000007,
          3.6500000000000004,
          3.7500000000000004,
          3.8500000000000005,
          3.9500000000000006,
          4.050000000000001,
          4.15,
          4.250000000000001,
          4.3500000000000005,
          4.450000000000001,
          4.550000000000001,
          4.65,
          4.750000000000001,
          4.8500000000000005,
          4.950000000000001,
          5.050000000000001,
          5.150000000000001,
          5.250000000000001,
          5.3500000000000005,
          5.450000000000001,
          5.550000000000001,
          5.650000000000001,
          5.750000000000001,
          5.8500000000000005,
          5.950000000000001,
          6.050000000000001,
          6.150000000000001,
          6.250000000000001
         ],
         "xaxis": "x",
         "y": [
          0.3206046963532984,
          0.34369114321849364,
          0.3647278168184064,
          0.38313914382887526,
          0.39839340362678727,
          0.4100259543187205,
          0.41766012885663667,
          0.4210244798895415,
          0.41996527122463373,
          0.4144534269202026,
          0.40458552935846925,
          0.39057887109888956,
          0.37276097422450705,
          0.35155435816236746,
          0.3274576301748155,
          0.30102416771323004,
          0.27283974517591764,
          0.24350042779268571,
          0.21359192242899602,
          0.18367135900792034,
          0.15425220401323791,
          0.12579270976310053,
          0.09868801029713246,
          0.07326571370307816,
          0.04978463213491427,
          0.0284361472404513,
          0.009347634220473315,
          -0.007412641789963635,
          -0.021829698569482397,
          -0.03393553654423764,
          -0.04380271722938775,
          -0.05153806127467942,
          -0.05727660545899711,
          -0.06117587641683328,
          -0.06341048331365962,
          -0.06416700346212505,
          -0.06363913124395293,
          -0.06202307587898123,
          -0.05951322001284359,
          -0.056298080814867,
          -0.05255664110999457,
          -0.048455134531989866,
          -0.04414437253569001,
          -0.039757691484507286,
          -0.03540957625555893,
          -0.03119498589862523,
          -0.027189370922033947,
          -0.023449335193640685,
          -0.020013862389321884,
          -0.01690600075034368,
          -0.014134882854340116,
          -0.011697950132939498,
          -0.009583254743023144,
          -0.007771722864466047,
          -0.006239281577919933,
          -0.004958773803562183,
          -0.0039016099198671862,
          -0.003039128401793709,
          -0.0023436593001672293,
          -0.0017893023331458848,
          -0.0013524450402307127,
          -0.0010120556468421315,
          -0.0007497902284452519
         ],
         "yaxis": "y"
        },
        {
         "mode": "lines",
         "name": "n=3",
         "type": "scatter",
         "x": [
          0.05,
          0.15000000000000002,
          0.25000000000000006,
          0.35000000000000003,
          0.45000000000000007,
          0.5500000000000002,
          0.6500000000000001,
          0.7500000000000002,
          0.8500000000000002,
          0.9500000000000002,
          1.0500000000000003,
          1.1500000000000004,
          1.2500000000000002,
          1.3500000000000003,
          1.4500000000000004,
          1.5500000000000003,
          1.6500000000000004,
          1.7500000000000004,
          1.8500000000000003,
          1.9500000000000004,
          2.0500000000000003,
          2.1500000000000004,
          2.2500000000000004,
          2.35,
          2.45,
          2.5500000000000003,
          2.6500000000000004,
          2.7500000000000004,
          2.8500000000000005,
          2.95,
          3.0500000000000003,
          3.1500000000000004,
          3.2500000000000004,
          3.3500000000000005,
          3.4500000000000006,
          3.5500000000000007,
          3.6500000000000004,
          3.7500000000000004,
          3.8500000000000005,
          3.9500000000000006,
          4.050000000000001,
          4.15,
          4.250000000000001,
          4.3500000000000005,
          4.450000000000001,
          4.550000000000001,
          4.65,
          4.750000000000001,
          4.8500000000000005,
          4.950000000000001,
          5.050000000000001,
          5.150000000000001,
          5.250000000000001,
          5.3500000000000005,
          5.450000000000001,
          5.550000000000001,
          5.650000000000001,
          5.750000000000001,
          5.8500000000000005,
          5.950000000000001,
          6.050000000000001,
          6.150000000000001,
          6.250000000000001
         ],
         "xaxis": "x",
         "y": [
          1.0313033805596932,
          0.986187279888648,
          0.9262580932848644,
          0.8530871474819648,
          0.768772911506315,
          0.6758488652751314,
          0.5771659516583078,
          0.47575726022843146,
          0.3746939017206298,
          0.27694156794807673,
          0.18522699219846386,
          0.10192247597092388,
          0.028954954617804854,
          -0.032256075093729616,
          -0.08082982182290893,
          -0.11642508901704259,
          -0.13921335859587233,
          -0.14982837639434754,
          -0.14929775224257041,
          -0.13896270716466821,
          -0.12039214452356516,
          -0.09529675947174399,
          -0.06544804352792308,
          -0.03260592534331168,
          0.001542442224142405,
          0.03543145265075002,
          0.06765316703123966,
          0.09698146795610849,
          0.12238557542838287,
          0.14303465290807763,
          0.15829540030702197,
          0.16772450733000935,
          0.1710576726050561,
          0.16819663105332072,
          0.15919531903239123,
          0.14424598081757325,
          0.12366570813078577,
          0.09788362471156292,
          0.06742869116440298,
          0.032917917619676884,
          -0.0049553631559430674,
          -0.04543358872497618,
          -0.08770787327212293,
          -0.13093213483668464,
          -0.17423875123978516,
          -0.21675589628106084,
          -0.2576265043960016,
          -0.29602857653585296,
          -0.33119629352118735,
          -0.3624411708869841,
          -0.38917229853539437,
          -0.41091458522699303,
          -0.42732389305226587,
          -0.4381980133775224,
          -0.4434826056915219,
          -0.44327148504303854,
          -0.4378009819711407,
          -0.4274384814445847,
          -0.4126656388980853,
          -0.39405713473102044,
          -0.3722561289300893,
          -0.34794778669403764,
          -0.3218323457152393
         ],
         "yaxis": "y"
        },
        {
         "mode": "lines",
         "name": "n=5",
         "type": "scatter",
         "x": [
          0.05,
          0.15000000000000002,
          0.25000000000000006,
          0.35000000000000003,
          0.45000000000000007,
          0.5500000000000002,
          0.6500000000000001,
          0.7500000000000002,
          0.8500000000000002,
          0.9500000000000002,
          1.0500000000000003,
          1.1500000000000004,
          1.2500000000000002,
          1.3500000000000003,
          1.4500000000000004,
          1.5500000000000003,
          1.6500000000000004,
          1.7500000000000004,
          1.8500000000000003,
          1.9500000000000004,
          2.0500000000000003,
          2.1500000000000004,
          2.2500000000000004,
          2.35,
          2.45,
          2.5500000000000003,
          2.6500000000000004,
          2.7500000000000004,
          2.8500000000000005,
          2.95,
          3.0500000000000003,
          3.1500000000000004,
          3.2500000000000004,
          3.3500000000000005,
          3.4500000000000006,
          3.5500000000000007,
          3.6500000000000004,
          3.7500000000000004,
          3.8500000000000005,
          3.9500000000000006,
          4.050000000000001,
          4.15,
          4.250000000000001,
          4.3500000000000005,
          4.450000000000001,
          4.550000000000001,
          4.65,
          4.750000000000001,
          4.8500000000000005,
          4.950000000000001,
          5.050000000000001,
          5.150000000000001,
          5.250000000000001,
          5.3500000000000005,
          5.450000000000001,
          5.550000000000001,
          5.650000000000001,
          5.750000000000001,
          5.8500000000000005,
          5.950000000000001,
          6.050000000000001,
          6.150000000000001,
          6.250000000000001
         ],
         "xaxis": "x",
         "y": [
          0.21377439314669686,
          0.3462397482329871,
          0.47843086666225454,
          0.6046284913687046,
          0.718812211036593,
          0.8149691704680683,
          0.8874319092693905,
          0.931225234623414,
          0.9423998792195728,
          0.9183300779267235,
          0.8579532305537544,
          0.7619324880528643,
          0.6327272646972188,
          0.4745620848892393,
          0.2932904734363408,
          0.09615737801906102,
          -0.10852958209900587,
          -0.3118033823860935,
          -0.5044932417065849,
          -0.6777063444367482,
          -0.8233067860453075,
          -0.9343622286898283,
          -1.0055300919310415,
          -1.0333584315592133,
          -1.0164818151806652,
          -0.9556991746864424,
          -0.8539283525749926,
          -0.7160402993154091,
          -0.5485839907587676,
          -0.35942047063307137,
          -0.157290381723482,
          0.04865656382764529,
          0.24933984243188467,
          0.43620422766624894,
          0.6016265801114675,
          0.7392508155600818,
          0.8442347019953591,
          0.9133991790978727,
          0.9452781734076074,
          0.9400737582154711,
          0.8995274226934897,
          0.8267227494749261,
          0.725837705265304,
          0.6018659597284839,
          0.4603262702443295,
          0.3069772512349274,
          0.14755212952424043,
          -0.012475240685557921,
          -0.16808538554440725,
          -0.3148649726577583,
          -0.44911413794554716,
          -0.5679107379639184,
          -0.6691348241731786,
          -0.7514579655282363,
          -0.8143028322063246,
          -0.8577787956120728,
          -0.8825993099169182,
          -0.8899866234015805,
          -0.8815690089006423,
          -0.8592752606442646,
          -0.8252307127894715,
          -0.7816585052698871,
          -0.7307892549932535
         ],
         "yaxis": "y"
        },
        {
         "mode": "lines",
         "name": "n=7",
         "type": "scatter",
         "x": [
          0.05,
          0.15000000000000002,
          0.25000000000000006,
          0.35000000000000003,
          0.45000000000000007,
          0.5500000000000002,
          0.6500000000000001,
          0.7500000000000002,
          0.8500000000000002,
          0.9500000000000002,
          1.0500000000000003,
          1.1500000000000004,
          1.2500000000000002,
          1.3500000000000003,
          1.4500000000000004,
          1.5500000000000003,
          1.6500000000000004,
          1.7500000000000004,
          1.8500000000000003,
          1.9500000000000004,
          2.0500000000000003,
          2.1500000000000004,
          2.2500000000000004,
          2.35,
          2.45,
          2.5500000000000003,
          2.6500000000000004,
          2.7500000000000004,
          2.8500000000000005,
          2.95,
          3.0500000000000003,
          3.1500000000000004,
          3.2500000000000004,
          3.3500000000000005,
          3.4500000000000006,
          3.5500000000000007,
          3.6500000000000004,
          3.7500000000000004,
          3.8500000000000005,
          3.9500000000000006,
          4.050000000000001,
          4.15,
          4.250000000000001,
          4.3500000000000005,
          4.450000000000001,
          4.550000000000001,
          4.65,
          4.750000000000001,
          4.8500000000000005,
          4.950000000000001,
          5.050000000000001,
          5.150000000000001,
          5.250000000000001,
          5.3500000000000005,
          5.450000000000001,
          5.550000000000001,
          5.650000000000001,
          5.750000000000001,
          5.8500000000000005,
          5.950000000000001,
          6.050000000000001,
          6.150000000000001,
          6.250000000000001
         ],
         "xaxis": "x",
         "y": [
          0.1643219769469384,
          0.3090701077514696,
          0.4543004560865718,
          0.593750261928662,
          0.7208062193922496,
          0.8288447775453656,
          0.9116054487527069,
          0.9635748495775981,
          0.9803567562310833,
          0.9590027246848257,
          0.8982789360010874,
          0.7988478670036524,
          0.6633480004948539,
          0.4963607959100812,
          0.304261154130294,
          0.09495516635462742,
          -0.12248347165607204,
          -0.33825989370282705,
          -0.5423627446804926,
          -0.7250978393246313,
          -0.8776186810553409,
          -0.9924209693160281,
          -1.0637696994958783,
          -1.0880311500067847,
          -1.0638877752541478,
          -0.9924214333369643,
          -0.8770589727894175,
          -0.7233833606725554,
          -0.5388225563860147,
          -0.33223650761563367,
          -0.11342930472112198,
          0.10738186518357361,
          0.32010713808138014,
          0.5153003208651035,
          0.6846205760634622,
          0.821213863746116,
          0.9199952196536797,
          0.9778206136624056,
          0.993545103636232,
          0.9679715944805142,
          0.9037011386896598,
          0.8049009270412147,
          0.6770096510285712,
          0.5264016964492303,
          0.36003174888404815,
          0.18508009424624094,
          0.00861650959951889,
          -0.1627024724219458,
          -0.3228916224594003,
          -0.46684263603647974,
          -0.5904729302357187,
          -0.6908162802211641,
          -0.7660566172696042,
          -0.8155085542199825,
          -0.8395500542580214,
          -0.8395141456039695,
          -0.8175477327262336,
          -0.7764463716919615,
          -0.719474351097258,
          -0.6501795246343597,
          -0.5722120481540797,
          -0.489155465934391,
          -0.4043774751882704
         ],
         "yaxis": "y"
        }
       ],
       "layout": {
        "annotations": [
         {
          "font": {
           "size": 16
          },
          "showarrow": false,
          "text": "Validation",
          "x": 0.225,
          "xanchor": "center",
          "xref": "paper",
          "y": 1,
          "yanchor": "bottom",
          "yref": "paper"
         },
         {
          "font": {
           "size": 16
          },
          "showarrow": false,
          "text": "Residual error",
          "x": 0.775,
          "xanchor": "center",
          "xref": "paper",
          "y": 1,
          "yanchor": "bottom",
          "yref": "paper"
         }
        ],
        "template": {
         "data": {
          "bar": [
           {
            "error_x": {
             "color": "#2a3f5f"
            },
            "error_y": {
             "color": "#2a3f5f"
            },
            "marker": {
             "line": {
              "color": "#E5ECF6",
              "width": 0.5
             }
            },
            "type": "bar"
           }
          ],
          "barpolar": [
           {
            "marker": {
             "line": {
              "color": "#E5ECF6",
              "width": 0.5
             }
            },
            "type": "barpolar"
           }
          ],
          "carpet": [
           {
            "aaxis": {
             "endlinecolor": "#2a3f5f",
             "gridcolor": "white",
             "linecolor": "white",
             "minorgridcolor": "white",
             "startlinecolor": "#2a3f5f"
            },
            "baxis": {
             "endlinecolor": "#2a3f5f",
             "gridcolor": "white",
             "linecolor": "white",
             "minorgridcolor": "white",
             "startlinecolor": "#2a3f5f"
            },
            "type": "carpet"
           }
          ],
          "choropleth": [
           {
            "colorbar": {
             "outlinewidth": 0,
             "ticks": ""
            },
            "type": "choropleth"
           }
          ],
          "contour": [
           {
            "colorbar": {
             "outlinewidth": 0,
             "ticks": ""
            },
            "colorscale": [
             [
              0,
              "#0d0887"
             ],
             [
              0.1111111111111111,
              "#46039f"
             ],
             [
              0.2222222222222222,
              "#7201a8"
             ],
             [
              0.3333333333333333,
              "#9c179e"
             ],
             [
              0.4444444444444444,
              "#bd3786"
             ],
             [
              0.5555555555555556,
              "#d8576b"
             ],
             [
              0.6666666666666666,
              "#ed7953"
             ],
             [
              0.7777777777777778,
              "#fb9f3a"
             ],
             [
              0.8888888888888888,
              "#fdca26"
             ],
             [
              1,
              "#f0f921"
             ]
            ],
            "type": "contour"
           }
          ],
          "contourcarpet": [
           {
            "colorbar": {
             "outlinewidth": 0,
             "ticks": ""
            },
            "type": "contourcarpet"
           }
          ],
          "heatmap": [
           {
            "colorbar": {
             "outlinewidth": 0,
             "ticks": ""
            },
            "colorscale": [
             [
              0,
              "#0d0887"
             ],
             [
              0.1111111111111111,
              "#46039f"
             ],
             [
              0.2222222222222222,
              "#7201a8"
             ],
             [
              0.3333333333333333,
              "#9c179e"
             ],
             [
              0.4444444444444444,
              "#bd3786"
             ],
             [
              0.5555555555555556,
              "#d8576b"
             ],
             [
              0.6666666666666666,
              "#ed7953"
             ],
             [
              0.7777777777777778,
              "#fb9f3a"
             ],
             [
              0.8888888888888888,
              "#fdca26"
             ],
             [
              1,
              "#f0f921"
             ]
            ],
            "type": "heatmap"
           }
          ],
          "heatmapgl": [
           {
            "colorbar": {
             "outlinewidth": 0,
             "ticks": ""
            },
            "colorscale": [
             [
              0,
              "#0d0887"
             ],
             [
              0.1111111111111111,
              "#46039f"
             ],
             [
              0.2222222222222222,
              "#7201a8"
             ],
             [
              0.3333333333333333,
              "#9c179e"
             ],
             [
              0.4444444444444444,
              "#bd3786"
             ],
             [
              0.5555555555555556,
              "#d8576b"
             ],
             [
              0.6666666666666666,
              "#ed7953"
             ],
             [
              0.7777777777777778,
              "#fb9f3a"
             ],
             [
              0.8888888888888888,
              "#fdca26"
             ],
             [
              1,
              "#f0f921"
             ]
            ],
            "type": "heatmapgl"
           }
          ],
          "histogram": [
           {
            "marker": {
             "colorbar": {
              "outlinewidth": 0,
              "ticks": ""
             }
            },
            "type": "histogram"
           }
          ],
          "histogram2d": [
           {
            "colorbar": {
             "outlinewidth": 0,
             "ticks": ""
            },
            "colorscale": [
             [
              0,
              "#0d0887"
             ],
             [
              0.1111111111111111,
              "#46039f"
             ],
             [
              0.2222222222222222,
              "#7201a8"
             ],
             [
              0.3333333333333333,
              "#9c179e"
             ],
             [
              0.4444444444444444,
              "#bd3786"
             ],
             [
              0.5555555555555556,
              "#d8576b"
             ],
             [
              0.6666666666666666,
              "#ed7953"
             ],
             [
              0.7777777777777778,
              "#fb9f3a"
             ],
             [
              0.8888888888888888,
              "#fdca26"
             ],
             [
              1,
              "#f0f921"
             ]
            ],
            "type": "histogram2d"
           }
          ],
          "histogram2dcontour": [
           {
            "colorbar": {
             "outlinewidth": 0,
             "ticks": ""
            },
            "colorscale": [
             [
              0,
              "#0d0887"
             ],
             [
              0.1111111111111111,
              "#46039f"
             ],
             [
              0.2222222222222222,
              "#7201a8"
             ],
             [
              0.3333333333333333,
              "#9c179e"
             ],
             [
              0.4444444444444444,
              "#bd3786"
             ],
             [
              0.5555555555555556,
              "#d8576b"
             ],
             [
              0.6666666666666666,
              "#ed7953"
             ],
             [
              0.7777777777777778,
              "#fb9f3a"
             ],
             [
              0.8888888888888888,
              "#fdca26"
             ],
             [
              1,
              "#f0f921"
             ]
            ],
            "type": "histogram2dcontour"
           }
          ],
          "mesh3d": [
           {
            "colorbar": {
             "outlinewidth": 0,
             "ticks": ""
            },
            "type": "mesh3d"
           }
          ],
          "parcoords": [
           {
            "line": {
             "colorbar": {
              "outlinewidth": 0,
              "ticks": ""
             }
            },
            "type": "parcoords"
           }
          ],
          "pie": [
           {
            "automargin": true,
            "type": "pie"
           }
          ],
          "scatter": [
           {
            "marker": {
             "colorbar": {
              "outlinewidth": 0,
              "ticks": ""
             }
            },
            "type": "scatter"
           }
          ],
          "scatter3d": [
           {
            "line": {
             "colorbar": {
              "outlinewidth": 0,
              "ticks": ""
             }
            },
            "marker": {
             "colorbar": {
              "outlinewidth": 0,
              "ticks": ""
             }
            },
            "type": "scatter3d"
           }
          ],
          "scattercarpet": [
           {
            "marker": {
             "colorbar": {
              "outlinewidth": 0,
              "ticks": ""
             }
            },
            "type": "scattercarpet"
           }
          ],
          "scattergeo": [
           {
            "marker": {
             "colorbar": {
              "outlinewidth": 0,
              "ticks": ""
             }
            },
            "type": "scattergeo"
           }
          ],
          "scattergl": [
           {
            "marker": {
             "colorbar": {
              "outlinewidth": 0,
              "ticks": ""
             }
            },
            "type": "scattergl"
           }
          ],
          "scattermapbox": [
           {
            "marker": {
             "colorbar": {
              "outlinewidth": 0,
              "ticks": ""
             }
            },
            "type": "scattermapbox"
           }
          ],
          "scatterpolar": [
           {
            "marker": {
             "colorbar": {
              "outlinewidth": 0,
              "ticks": ""
             }
            },
            "type": "scatterpolar"
           }
          ],
          "scatterpolargl": [
           {
            "marker": {
             "colorbar": {
              "outlinewidth": 0,
              "ticks": ""
             }
            },
            "type": "scatterpolargl"
           }
          ],
          "scatterternary": [
           {
            "marker": {
             "colorbar": {
              "outlinewidth": 0,
              "ticks": ""
             }
            },
            "type": "scatterternary"
           }
          ],
          "surface": [
           {
            "colorbar": {
             "outlinewidth": 0,
             "ticks": ""
            },
            "colorscale": [
             [
              0,
              "#0d0887"
             ],
             [
              0.1111111111111111,
              "#46039f"
             ],
             [
              0.2222222222222222,
              "#7201a8"
             ],
             [
              0.3333333333333333,
              "#9c179e"
             ],
             [
              0.4444444444444444,
              "#bd3786"
             ],
             [
              0.5555555555555556,
              "#d8576b"
             ],
             [
              0.6666666666666666,
              "#ed7953"
             ],
             [
              0.7777777777777778,
              "#fb9f3a"
             ],
             [
              0.8888888888888888,
              "#fdca26"
             ],
             [
              1,
              "#f0f921"
             ]
            ],
            "type": "surface"
           }
          ],
          "table": [
           {
            "cells": {
             "fill": {
              "color": "#EBF0F8"
             },
             "line": {
              "color": "white"
             }
            },
            "header": {
             "fill": {
              "color": "#C8D4E3"
             },
             "line": {
              "color": "white"
             }
            },
            "type": "table"
           }
          ]
         },
         "layout": {
          "annotationdefaults": {
           "arrowcolor": "#2a3f5f",
           "arrowhead": 0,
           "arrowwidth": 1
          },
          "coloraxis": {
           "colorbar": {
            "outlinewidth": 0,
            "ticks": ""
           }
          },
          "colorscale": {
           "diverging": [
            [
             0,
             "#8e0152"
            ],
            [
             0.1,
             "#c51b7d"
            ],
            [
             0.2,
             "#de77ae"
            ],
            [
             0.3,
             "#f1b6da"
            ],
            [
             0.4,
             "#fde0ef"
            ],
            [
             0.5,
             "#f7f7f7"
            ],
            [
             0.6,
             "#e6f5d0"
            ],
            [
             0.7,
             "#b8e186"
            ],
            [
             0.8,
             "#7fbc41"
            ],
            [
             0.9,
             "#4d9221"
            ],
            [
             1,
             "#276419"
            ]
           ],
           "sequential": [
            [
             0,
             "#0d0887"
            ],
            [
             0.1111111111111111,
             "#46039f"
            ],
            [
             0.2222222222222222,
             "#7201a8"
            ],
            [
             0.3333333333333333,
             "#9c179e"
            ],
            [
             0.4444444444444444,
             "#bd3786"
            ],
            [
             0.5555555555555556,
             "#d8576b"
            ],
            [
             0.6666666666666666,
             "#ed7953"
            ],
            [
             0.7777777777777778,
             "#fb9f3a"
            ],
            [
             0.8888888888888888,
             "#fdca26"
            ],
            [
             1,
             "#f0f921"
            ]
           ],
           "sequentialminus": [
            [
             0,
             "#0d0887"
            ],
            [
             0.1111111111111111,
             "#46039f"
            ],
            [
             0.2222222222222222,
             "#7201a8"
            ],
            [
             0.3333333333333333,
             "#9c179e"
            ],
            [
             0.4444444444444444,
             "#bd3786"
            ],
            [
             0.5555555555555556,
             "#d8576b"
            ],
            [
             0.6666666666666666,
             "#ed7953"
            ],
            [
             0.7777777777777778,
             "#fb9f3a"
            ],
            [
             0.8888888888888888,
             "#fdca26"
            ],
            [
             1,
             "#f0f921"
            ]
           ]
          },
          "colorway": [
           "#636efa",
           "#EF553B",
           "#00cc96",
           "#ab63fa",
           "#FFA15A",
           "#19d3f3",
           "#FF6692",
           "#B6E880",
           "#FF97FF",
           "#FECB52"
          ],
          "font": {
           "color": "#2a3f5f"
          },
          "geo": {
           "bgcolor": "white",
           "lakecolor": "white",
           "landcolor": "#E5ECF6",
           "showlakes": true,
           "showland": true,
           "subunitcolor": "white"
          },
          "hoverlabel": {
           "align": "left"
          },
          "hovermode": "closest",
          "mapbox": {
           "style": "light"
          },
          "paper_bgcolor": "white",
          "plot_bgcolor": "#E5ECF6",
          "polar": {
           "angularaxis": {
            "gridcolor": "white",
            "linecolor": "white",
            "ticks": ""
           },
           "bgcolor": "#E5ECF6",
           "radialaxis": {
            "gridcolor": "white",
            "linecolor": "white",
            "ticks": ""
           }
          },
          "scene": {
           "xaxis": {
            "backgroundcolor": "#E5ECF6",
            "gridcolor": "white",
            "gridwidth": 2,
            "linecolor": "white",
            "showbackground": true,
            "ticks": "",
            "zerolinecolor": "white"
           },
           "yaxis": {
            "backgroundcolor": "#E5ECF6",
            "gridcolor": "white",
            "gridwidth": 2,
            "linecolor": "white",
            "showbackground": true,
            "ticks": "",
            "zerolinecolor": "white"
           },
           "zaxis": {
            "backgroundcolor": "#E5ECF6",
            "gridcolor": "white",
            "gridwidth": 2,
            "linecolor": "white",
            "showbackground": true,
            "ticks": "",
            "zerolinecolor": "white"
           }
          },
          "shapedefaults": {
           "line": {
            "color": "#2a3f5f"
           }
          },
          "ternary": {
           "aaxis": {
            "gridcolor": "white",
            "linecolor": "white",
            "ticks": ""
           },
           "baxis": {
            "gridcolor": "white",
            "linecolor": "white",
            "ticks": ""
           },
           "bgcolor": "#E5ECF6",
           "caxis": {
            "gridcolor": "white",
            "linecolor": "white",
            "ticks": ""
           }
          },
          "title": {
           "x": 0.05
          },
          "xaxis": {
           "automargin": true,
           "gridcolor": "white",
           "linecolor": "white",
           "ticks": "",
           "title": {
            "standoff": 15
           },
           "zerolinecolor": "white",
           "zerolinewidth": 2
          },
          "yaxis": {
           "automargin": true,
           "gridcolor": "white",
           "linecolor": "white",
           "ticks": "",
           "title": {
            "standoff": 15
           },
           "zerolinecolor": "white",
           "zerolinewidth": 2
          }
         }
        },
        "xaxis": {
         "anchor": "y",
         "domain": [
          0,
          0.45
         ]
        },
        "xaxis2": {
         "anchor": "y2",
         "domain": [
          0.55,
          1
         ]
        },
        "yaxis": {
         "anchor": "x",
         "domain": [
          0,
          1
         ]
        },
        "yaxis2": {
         "anchor": "x2",
         "domain": [
          0,
          1
         ]
        }
       }
      }
     },
     "metadata": {}
    }
   ],
   "source": [
    "x, sin_data, sqr_data = data_gen(0, 2*np.pi)\n",
    "t_x, t_sin_data, t_sqr_data = data_gen(0.05, 2*np.pi)\n",
    "\n",
    "n_nodes = np.arange(1,10)\n",
    "res_errors = []\n",
    "outputs = []\n",
    "\n",
    "epochs=100\n",
    "\n",
    "for n in n_nodes:\n",
    "    RBFNet = RBF_Network(n, x, useDelta=False, add_noise=False)\n",
    "    RBFNet.train_network(epochs, x, sin_data)\n",
    "    res_errors.append(RBFNet.validate(t_x, t_sin_data))\n",
    "    outputs.append(RBFNet.f_of_x)\n",
    "\n",
    "titles = [\"Validation\", \"Residual error\"]\n",
    "fig = make_subplots(rows=1, cols=2, subplot_titles=(titles[0], titles[1]))\n",
    "\n",
    "fig.add_trace(go.Scatter(x=np.arange(len(res_errors)), y=res_errors, mode=\"lines\", name=\"error\"), row=1, col=2)\n",
    "\n",
    "fig.add_trace(go.Scatter(x=t_x.ravel(), y=sin_data.ravel(), mode=\"lines\", name=\"Original\"), row=1, col=1)\n",
    "\n",
    "for i in range(1, len(outputs), 2):\n",
    "    fig.add_trace(go.Scatter(x=t_x.ravel(), y=outputs[i].ravel(), mode=\"lines\", name=\"n={}\".format(i)), row=1, col=1)\n",
    "\n",
    "fig.show()\n"
   ]
  },
  {
   "cell_type": "code",
   "execution_count": 108,
   "metadata": {},
   "outputs": [
    {
     "output_type": "display_data",
     "data": {
      "application/vnd.plotly.v1+json": {
       "config": {
        "plotlyServerURL": "https://plot.ly"
       },
       "data": [
        {
         "mode": "lines",
         "name": "error",
         "type": "scatter",
         "x": [
          0,
          1,
          2,
          3,
          4,
          5,
          6,
          7,
          8,
          9,
          10,
          11,
          12,
          13,
          14,
          15,
          16,
          17,
          18,
          19,
          20,
          21,
          22,
          23,
          24,
          25,
          26,
          27,
          28
         ],
         "xaxis": "x2",
         "y": [
          0.6447350273189696,
          0.6306613611429206,
          0.5702740064241352,
          0.5262123051558117,
          0.5330337904187067,
          0.16007521734680427,
          0.16728378431195995,
          0.1704846035119713,
          0.17659801985705453,
          0.16857141836835587,
          0.17406005600766927,
          0.18258065928936437,
          0.14772898844127,
          0.15970075553054572,
          0.10985166598797773,
          0.08930005991204264,
          0.1187019072220919,
          0.1283524358910409,
          0.12764278441841018,
          0.104174789723189,
          0.10547735333749061,
          0.10367123511505466,
          0.08420144473850302,
          0.05167011363027767,
          0.08601879085595748,
          0.054186686096639035,
          0.05953386777638306,
          0.07365715425217403,
          0.10753496894375994
         ],
         "yaxis": "y2"
        },
        {
         "mode": "lines",
         "name": "Original",
         "type": "scatter",
         "x": [
          0.05,
          0.15000000000000002,
          0.25000000000000006,
          0.35000000000000003,
          0.45000000000000007,
          0.5500000000000002,
          0.6500000000000001,
          0.7500000000000002,
          0.8500000000000002,
          0.9500000000000002,
          1.0500000000000003,
          1.1500000000000004,
          1.2500000000000002,
          1.3500000000000003,
          1.4500000000000004,
          1.5500000000000003,
          1.6500000000000004,
          1.7500000000000004,
          1.8500000000000003,
          1.9500000000000004,
          2.0500000000000003,
          2.1500000000000004,
          2.2500000000000004,
          2.35,
          2.45,
          2.5500000000000003,
          2.6500000000000004,
          2.7500000000000004,
          2.8500000000000005,
          2.95,
          3.0500000000000003,
          3.1500000000000004,
          3.2500000000000004,
          3.3500000000000005,
          3.4500000000000006,
          3.5500000000000007,
          3.6500000000000004,
          3.7500000000000004,
          3.8500000000000005,
          3.9500000000000006,
          4.050000000000001,
          4.15,
          4.250000000000001,
          4.3500000000000005,
          4.450000000000001,
          4.550000000000001,
          4.65,
          4.750000000000001,
          4.8500000000000005,
          4.950000000000001,
          5.050000000000001,
          5.150000000000001,
          5.250000000000001,
          5.3500000000000005,
          5.450000000000001,
          5.550000000000001,
          5.650000000000001,
          5.750000000000001,
          5.8500000000000005,
          5.950000000000001,
          6.050000000000001,
          6.150000000000001,
          6.250000000000001
         ],
         "xaxis": "x",
         "y": [
          0,
          0.19866933079506122,
          0.3894183423086505,
          0.5646424733950355,
          0.7173560908995228,
          0.8414709848078965,
          0.9320390859672264,
          0.9854497299884603,
          0.9995736030415051,
          0.9738476308781951,
          0.9092974268256817,
          0.8084964038195901,
          0.6754631805511506,
          0.5155013718214642,
          0.33498815015590466,
          0.1411200080598672,
          -0.058374143427580086,
          -0.25554110202683167,
          -0.44252044329485246,
          -0.6118578909427193,
          -0.7568024953079282,
          -0.8715757724135882,
          -0.951602073889516,
          -0.9936910036334645,
          -0.9961646088358406,
          -0.9589242746631385,
          -0.8834546557201531,
          -0.7727644875559871,
          -0.6312666378723208,
          -0.4646021794137566,
          -0.27941549819892586,
          -0.0830894028174964,
          0.11654920485049364,
          0.3115413635133787,
          0.49411335113860894,
          0.6569865987187891,
          0.7936678638491531,
          0.8987080958116269,
          0.9679196720314865,
          0.998543345374605,
          0.9893582466233818,
          0.9407305566797726,
          0.8545989080882804,
          0.7343970978741133,
          0.5849171928917617,
          0.4121184852417566,
          0.22288991410024592,
          0.024775425453357765,
          -0.1743267812229814,
          -0.3664791292519284,
          -0.5440211108893698,
          -0.6998746875935437,
          -0.8278264690856537,
          -0.9227754216128073,
          -0.9809362300664916,
          -0.9999902065507035,
          -0.979177729151317,
          -0.9193285256646757,
          -0.8228285949687079,
          -0.6935250847771224,
          -0.5365729180004349,
          -0.35822928223682704,
          -0.1656041754483094
         ],
         "yaxis": "y"
        },
        {
         "mode": "lines",
         "name": "n=1",
         "type": "scatter",
         "x": [
          0.05,
          0.15000000000000002,
          0.25000000000000006,
          0.35000000000000003,
          0.45000000000000007,
          0.5500000000000002,
          0.6500000000000001,
          0.7500000000000002,
          0.8500000000000002,
          0.9500000000000002,
          1.0500000000000003,
          1.1500000000000004,
          1.2500000000000002,
          1.3500000000000003,
          1.4500000000000004,
          1.5500000000000003,
          1.6500000000000004,
          1.7500000000000004,
          1.8500000000000003,
          1.9500000000000004,
          2.0500000000000003,
          2.1500000000000004,
          2.2500000000000004,
          2.35,
          2.45,
          2.5500000000000003,
          2.6500000000000004,
          2.7500000000000004,
          2.8500000000000005,
          2.95,
          3.0500000000000003,
          3.1500000000000004,
          3.2500000000000004,
          3.3500000000000005,
          3.4500000000000006,
          3.5500000000000007,
          3.6500000000000004,
          3.7500000000000004,
          3.8500000000000005,
          3.9500000000000006,
          4.050000000000001,
          4.15,
          4.250000000000001,
          4.3500000000000005,
          4.450000000000001,
          4.550000000000001,
          4.65,
          4.750000000000001,
          4.8500000000000005,
          4.950000000000001,
          5.050000000000001,
          5.150000000000001,
          5.250000000000001,
          5.3500000000000005,
          5.450000000000001,
          5.550000000000001,
          5.650000000000001,
          5.750000000000001,
          5.8500000000000005,
          5.950000000000001,
          6.050000000000001,
          6.150000000000001,
          6.250000000000001
         ],
         "xaxis": "x",
         "y": [
          0.07729785478562781,
          0.0835966749818953,
          0.08970293266145796,
          0.09555423669532047,
          0.10111061797712492,
          0.10636016379494356,
          0.11132346888155628,
          0.11605641831642877,
          0.12065087797276923,
          0.12523296864772204,
          0.12995873678754535,
          0.1350072009848865,
          0.14057093938447487,
          0.14684457654605623,
          0.15401171521983645,
          0.16223102411015142,
          0.17162232246964695,
          0.1822535830440894,
          0.19412979572761677,
          0.20718458813750637,
          0.22127538360209495,
          0.23618269452265916,
          0.25161390818025575,
          0.26721163691581107,
          0.28256639435080444,
          0.2972330469102835,
          0.3107502004344286,
          0.3226614401232355,
          0.3325371709684203,
          0.33999572281468604,
          0.34472239989651343,
          0.34648527125566947,
          0.34514670882120957,
          0.3406699682153637,
          0.33312045005629665,
          0.32266164782433815,
          0.30954615091620213,
          0.29410239771802993,
          0.2767181366197084,
          0.25782173264928376,
          0.23786254206553084,
          0.21729156442366165,
          0.19654347814988699,
          0.17602098637422897,
          0.15608216553153614,
          0.137031244351055,
          0.1191129703184392,
          0.10251046761851677,
          0.08734627401924015,
          0.07368607768090742,
          0.06154456577872289,
          0.05089274623853738,
          0.04166610747036704,
          0.03377303015638603,
          0.027102948566029364,
          0.0215338639872582,
          0.016938927368951383,
          0.013191921247882031,
          0.010171573766928212,
          0.007764723981508912,
          0.005868424284488893,
          0.004391111694038692,
          0.0032530059965891226
         ],
         "yaxis": "y"
        },
        {
         "mode": "lines",
         "name": "n=4",
         "type": "scatter",
         "x": [
          0.05,
          0.15000000000000002,
          0.25000000000000006,
          0.35000000000000003,
          0.45000000000000007,
          0.5500000000000002,
          0.6500000000000001,
          0.7500000000000002,
          0.8500000000000002,
          0.9500000000000002,
          1.0500000000000003,
          1.1500000000000004,
          1.2500000000000002,
          1.3500000000000003,
          1.4500000000000004,
          1.5500000000000003,
          1.6500000000000004,
          1.7500000000000004,
          1.8500000000000003,
          1.9500000000000004,
          2.0500000000000003,
          2.1500000000000004,
          2.2500000000000004,
          2.35,
          2.45,
          2.5500000000000003,
          2.6500000000000004,
          2.7500000000000004,
          2.8500000000000005,
          2.95,
          3.0500000000000003,
          3.1500000000000004,
          3.2500000000000004,
          3.3500000000000005,
          3.4500000000000006,
          3.5500000000000007,
          3.6500000000000004,
          3.7500000000000004,
          3.8500000000000005,
          3.9500000000000006,
          4.050000000000001,
          4.15,
          4.250000000000001,
          4.3500000000000005,
          4.450000000000001,
          4.550000000000001,
          4.65,
          4.750000000000001,
          4.8500000000000005,
          4.950000000000001,
          5.050000000000001,
          5.150000000000001,
          5.250000000000001,
          5.3500000000000005,
          5.450000000000001,
          5.550000000000001,
          5.650000000000001,
          5.750000000000001,
          5.8500000000000005,
          5.950000000000001,
          6.050000000000001,
          6.150000000000001,
          6.250000000000001
         ],
         "xaxis": "x",
         "y": [
          1.8585457316550804,
          1.7591595707342034,
          1.6319821907387504,
          1.480421462787307,
          1.3089021553777365,
          1.1226740557650847,
          0.9275711444543738,
          0.7297373548068,
          0.5353369110846459,
          0.35026814610331825,
          0.1798989900317424,
          0.028840102593444394,
          -0.09923184444044122,
          -0.20169255482146226,
          -0.2770267193010757,
          -0.3248240735066759,
          -0.34572029706738766,
          -0.34129147987679187,
          -0.31391314518943136,
          -0.26659592429308515,
          -0.2028099636806497,
          -0.12630916518458615,
          -0.04096464577669579,
          0.04938536666479004,
          0.14106433093514537,
          0.2306622813314595,
          0.3151161993978619,
          0.3917668501554651,
          0.4583941929998385,
          0.5132341518097805,
          0.5549798057708409,
          0.5827700299614673,
          0.5961683727227195,
          0.5951346001061223,
          0.5799909439411818,
          0.5513847132004934,
          0.510248597592941,
          0.4577597159292865,
          0.3952982337643899,
          0.3244061826914708,
          0.24674694575294318,
          0.16406572387777435,
          0.07815116925972503,
          -0.009201727313000415,
          -0.0962274633028084,
          -0.1812245317847966,
          -0.2625885092675208,
          -0.33884349466823127,
          -0.40867149143183845,
          -0.47093912135641786,
          -0.5247208639436498,
          -0.5693178664019838,
          -0.6042713022707359,
          -0.6293692985939426,
          -0.6446466172950586,
          -0.6503765643557516,
          -0.6470549920621006,
          -0.6353767211951428,
          -0.6162051966913018,
          -0.5905366516434358,
          -0.5594604413317894,
          -0.5241174794982975,
          -0.4856588342226885
         ],
         "yaxis": "y"
        },
        {
         "mode": "lines",
         "name": "n=7",
         "type": "scatter",
         "x": [
          0.05,
          0.15000000000000002,
          0.25000000000000006,
          0.35000000000000003,
          0.45000000000000007,
          0.5500000000000002,
          0.6500000000000001,
          0.7500000000000002,
          0.8500000000000002,
          0.9500000000000002,
          1.0500000000000003,
          1.1500000000000004,
          1.2500000000000002,
          1.3500000000000003,
          1.4500000000000004,
          1.5500000000000003,
          1.6500000000000004,
          1.7500000000000004,
          1.8500000000000003,
          1.9500000000000004,
          2.0500000000000003,
          2.1500000000000004,
          2.2500000000000004,
          2.35,
          2.45,
          2.5500000000000003,
          2.6500000000000004,
          2.7500000000000004,
          2.8500000000000005,
          2.95,
          3.0500000000000003,
          3.1500000000000004,
          3.2500000000000004,
          3.3500000000000005,
          3.4500000000000006,
          3.5500000000000007,
          3.6500000000000004,
          3.7500000000000004,
          3.8500000000000005,
          3.9500000000000006,
          4.050000000000001,
          4.15,
          4.250000000000001,
          4.3500000000000005,
          4.450000000000001,
          4.550000000000001,
          4.65,
          4.750000000000001,
          4.8500000000000005,
          4.950000000000001,
          5.050000000000001,
          5.150000000000001,
          5.250000000000001,
          5.3500000000000005,
          5.450000000000001,
          5.550000000000001,
          5.650000000000001,
          5.750000000000001,
          5.8500000000000005,
          5.950000000000001,
          6.050000000000001,
          6.150000000000001,
          6.250000000000001
         ],
         "xaxis": "x",
         "y": [
          0.9505694124943145,
          1.0215615688714776,
          1.080766990911655,
          1.12473751784595,
          1.1501889422014726,
          1.1541832016958011,
          1.1343150863958158,
          1.0888928847134585,
          1.0171015825980918,
          0.9191370779811819,
          0.7963004469351413,
          0.6510426309604086,
          0.4869519961433988,
          0.3086799889457712,
          0.12180347592526693,
          -0.06737384873023704,
          -0.25207457768912306,
          -0.4253448107133291,
          -0.5803813641094874,
          -0.7108717634277797,
          -0.8113276359025026,
          -0.8773911214877603,
          -0.9060943062914105,
          -0.8960535556062739,
          -0.8475839686806811,
          -0.7627238388358145,
          -0.6451646866998183,
          -0.5000887250220066,
          -0.33392200586619747,
          -0.15401744941789228,
          0.03171307079374504,
          0.21519486199212542,
          0.38859024240925155,
          0.5446776527409692,
          0.6771876182384693,
          0.7810767766674694,
          0.8527261220736172,
          0.8900553531167157,
          0.8925512186289924,
          0.8612134912071243,
          0.7984272077193113,
          0.7077737419042898,
          0.5937959082654205,
          0.4617335771914534,
          0.3172462856476836,
          0.16613824320306353,
          0.014099219036643598,
          -0.1335276585785248,
          -0.27194287264710804,
          -0.39704667341872607,
          -0.5055514081666448,
          -0.5950493102297345,
          -0.6640370016102123,
          -0.711899598142913,
          -0.7388586301931468,
          -0.7458890386342311,
          -0.7346113039946741,
          -0.7071653299236619,
          -0.6660730269058751,
          -0.6140966113171071,
          -0.5540994263580905,
          -0.4889155890022914,
          -0.42123397117657907
         ],
         "yaxis": "y"
        },
        {
         "mode": "lines",
         "name": "n=10",
         "type": "scatter",
         "x": [
          0.05,
          0.15000000000000002,
          0.25000000000000006,
          0.35000000000000003,
          0.45000000000000007,
          0.5500000000000002,
          0.6500000000000001,
          0.7500000000000002,
          0.8500000000000002,
          0.9500000000000002,
          1.0500000000000003,
          1.1500000000000004,
          1.2500000000000002,
          1.3500000000000003,
          1.4500000000000004,
          1.5500000000000003,
          1.6500000000000004,
          1.7500000000000004,
          1.8500000000000003,
          1.9500000000000004,
          2.0500000000000003,
          2.1500000000000004,
          2.2500000000000004,
          2.35,
          2.45,
          2.5500000000000003,
          2.6500000000000004,
          2.7500000000000004,
          2.8500000000000005,
          2.95,
          3.0500000000000003,
          3.1500000000000004,
          3.2500000000000004,
          3.3500000000000005,
          3.4500000000000006,
          3.5500000000000007,
          3.6500000000000004,
          3.7500000000000004,
          3.8500000000000005,
          3.9500000000000006,
          4.050000000000001,
          4.15,
          4.250000000000001,
          4.3500000000000005,
          4.450000000000001,
          4.550000000000001,
          4.65,
          4.750000000000001,
          4.8500000000000005,
          4.950000000000001,
          5.050000000000001,
          5.150000000000001,
          5.250000000000001,
          5.3500000000000005,
          5.450000000000001,
          5.550000000000001,
          5.650000000000001,
          5.750000000000001,
          5.8500000000000005,
          5.950000000000001,
          6.050000000000001,
          6.150000000000001,
          6.250000000000001
         ],
         "xaxis": "x",
         "y": [
          1.0044830681565928,
          1.070299690600899,
          1.1233488242325074,
          1.1604101941888258,
          1.1784784169008404,
          1.174930714475336,
          1.1476954660726313,
          1.0954122424957073,
          1.0175734808594619,
          0.914637997411814,
          0.7881071476605346,
          0.6405556404445973,
          0.4756107890694716,
          0.29787630415325667,
          0.11279953459157811,
          -0.07351575604946795,
          -0.254545572751946,
          -0.4236218586637905,
          -0.5742363864584883,
          -0.7003572512832346,
          -0.7967406987933883,
          -0.8592198463484819,
          -0.8849518701054182,
          -0.8726065788549614,
          -0.8224820144452824,
          -0.7365367183758745,
          -0.6183333586803237,
          -0.4728941674364898,
          -0.30647464341687636,
          -0.12626771483965604,
          0.05994448154876719,
          0.24417032715501663,
          0.4185969441335868,
          0.5759635580893818,
          0.7098981023189775,
          0.8151982609214014,
          0.888042557007208,
          0.9261223683876033,
          0.9286913862677024,
          0.896534509729405,
          0.8318630340014135,
          0.7381468925764018,
          0.6198974371954842,
          0.4824157171779876,
          0.3315215184141535,
          0.17327771902125172,
          0.013723058841093544,
          -0.14137552541432494,
          -0.2867420232904405,
          -0.4177751546121034,
          -0.5306921579893761,
          -0.6226297608026065,
          -0.6917012252031506,
          -0.737009900102449,
          -0.7586211335738521,
          -0.7574957574731183,
          -0.7353896635394435,
          -0.6947252271034954,
          -0.6384414414501298,
          -0.5698305137165351,
          -0.492369239459989,
          -0.4095536223516152,
          -0.32474487007237696
         ],
         "yaxis": "y"
        },
        {
         "mode": "lines",
         "name": "n=13",
         "type": "scatter",
         "x": [
          0.05,
          0.15000000000000002,
          0.25000000000000006,
          0.35000000000000003,
          0.45000000000000007,
          0.5500000000000002,
          0.6500000000000001,
          0.7500000000000002,
          0.8500000000000002,
          0.9500000000000002,
          1.0500000000000003,
          1.1500000000000004,
          1.2500000000000002,
          1.3500000000000003,
          1.4500000000000004,
          1.5500000000000003,
          1.6500000000000004,
          1.7500000000000004,
          1.8500000000000003,
          1.9500000000000004,
          2.0500000000000003,
          2.1500000000000004,
          2.2500000000000004,
          2.35,
          2.45,
          2.5500000000000003,
          2.6500000000000004,
          2.7500000000000004,
          2.8500000000000005,
          2.95,
          3.0500000000000003,
          3.1500000000000004,
          3.2500000000000004,
          3.3500000000000005,
          3.4500000000000006,
          3.5500000000000007,
          3.6500000000000004,
          3.7500000000000004,
          3.8500000000000005,
          3.9500000000000006,
          4.050000000000001,
          4.15,
          4.250000000000001,
          4.3500000000000005,
          4.450000000000001,
          4.550000000000001,
          4.65,
          4.750000000000001,
          4.8500000000000005,
          4.950000000000001,
          5.050000000000001,
          5.150000000000001,
          5.250000000000001,
          5.3500000000000005,
          5.450000000000001,
          5.550000000000001,
          5.650000000000001,
          5.750000000000001,
          5.8500000000000005,
          5.950000000000001,
          6.050000000000001,
          6.150000000000001,
          6.250000000000001
         ],
         "xaxis": "x",
         "y": [
          0.6772719571696808,
          0.8007221747095181,
          0.9155397341099681,
          1.0159747593682393,
          1.0963029571098482,
          1.1511498970250236,
          1.1758279114387507,
          1.1666640540029725,
          1.121296361215455,
          1.038916121127045,
          0.9204360294694818,
          0.7685679235848443,
          0.587799013538341,
          0.384261843603573,
          0.1655001882039551,
          -0.059859775571877695,
          -0.2825168884373558,
          -0.4929589602269814,
          -0.681956575622786,
          -0.8410571614631219,
          -0.9630487746763746,
          -1.0423642256389567,
          -1.0753993954863044,
          -1.0607247628778076,
          -0.9991758967406528,
          -0.893816530376869,
          -0.7497762367274847,
          -0.5739730396178476,
          -0.37473887692417557,
          -0.16137208268994524,
          0.05635451442773565,
          0.2686990054715782,
          0.46643848706535795,
          0.6413112516579639,
          0.786388775160369,
          0.8963590128469854,
          0.9677093379409764,
          0.9988046718805712,
          0.9898633492830818,
          0.9428394883709393,
          0.8612256710299995,
          0.7497932999026968,
          0.6142899832933753,
          0.46111375149111444,
          0.2969830131445752,
          0.1286191949240562,
          -0.037543701537792656,
          -0.19561151367177956,
          -0.34043642952386566,
          -0.46777284167178984,
          -0.574380624509162,
          -0.6580763816123031,
          -0.7177352790817244,
          -0.7532477706982534,
          -0.7654368705178052,
          -0.7559426790054489,
          -0.7270816478763176,
          -0.6816885839900984,
          -0.6229496314668476,
          -0.5542344082831261,
          -0.4789350822062109,
          -0.40031943586168134,
          -0.32140389990145407
         ],
         "yaxis": "y"
        },
        {
         "mode": "lines",
         "name": "n=16",
         "type": "scatter",
         "x": [
          0.05,
          0.15000000000000002,
          0.25000000000000006,
          0.35000000000000003,
          0.45000000000000007,
          0.5500000000000002,
          0.6500000000000001,
          0.7500000000000002,
          0.8500000000000002,
          0.9500000000000002,
          1.0500000000000003,
          1.1500000000000004,
          1.2500000000000002,
          1.3500000000000003,
          1.4500000000000004,
          1.5500000000000003,
          1.6500000000000004,
          1.7500000000000004,
          1.8500000000000003,
          1.9500000000000004,
          2.0500000000000003,
          2.1500000000000004,
          2.2500000000000004,
          2.35,
          2.45,
          2.5500000000000003,
          2.6500000000000004,
          2.7500000000000004,
          2.8500000000000005,
          2.95,
          3.0500000000000003,
          3.1500000000000004,
          3.2500000000000004,
          3.3500000000000005,
          3.4500000000000006,
          3.5500000000000007,
          3.6500000000000004,
          3.7500000000000004,
          3.8500000000000005,
          3.9500000000000006,
          4.050000000000001,
          4.15,
          4.250000000000001,
          4.3500000000000005,
          4.450000000000001,
          4.550000000000001,
          4.65,
          4.750000000000001,
          4.8500000000000005,
          4.950000000000001,
          5.050000000000001,
          5.150000000000001,
          5.250000000000001,
          5.3500000000000005,
          5.450000000000001,
          5.550000000000001,
          5.650000000000001,
          5.750000000000001,
          5.8500000000000005,
          5.950000000000001,
          6.050000000000001,
          6.150000000000001,
          6.250000000000001
         ],
         "xaxis": "x",
         "y": [
          0.35689346081143575,
          0.5036415715065053,
          0.6478800475140771,
          0.7830037672181765,
          0.9021409249808309,
          0.998526266356283,
          1.0659063880250395,
          1.0989515854922847,
          1.0936459696240508,
          1.0476268855243478,
          0.9604462530480086,
          0.8337303140722404,
          0.6712202237263192,
          0.4786835774185385,
          0.26369577733816624,
          0.035299447249838786,
          -0.19644082545447694,
          -0.4209630385724641,
          -0.6277797717054928,
          -0.8070615267522957,
          -0.9501936409730127,
          -1.0502701176747131,
          -1.1024915857554733,
          -1.1044409540439626,
          -1.0562186971973735,
          -0.9604294489063057,
          -0.8220219144345412,
          -0.6479942203419978,
          -0.4469858837268612,
          -0.22878488702972308,
          -0.0037833269786651776,
          0.2175825805531748,
          0.425372817832297,
          0.6106319676622849,
          0.765798793819216,
          0.8850170994927967,
          0.9643359558926354,
          1.001795630523394,
          0.9974033177238052,
          0.953009475808257,
          0.8721007569352592,
          0.7595289217807096,
          0.6211967071748078,
          0.46372149310944744,
          0.29409607714708447,
          0.11936328800795581,
          -0.05368202599291808,
          -0.21875351299991988,
          -0.370289514414275,
          -0.5036210561048776,
          -0.6150901934034497,
          -0.7021191956019631,
          -0.7632325196637861,
          -0.7980346357053738,
          -0.8071476590896913,
          -0.7921135327017859,
          -0.755266265854967,
          -0.699580496954497,
          -0.6285033729179539,
          -0.5457773502238463,
          -0.4552619134553612,
          -0.36076226686735074,
          -0.26587269344489417
         ],
         "yaxis": "y"
        },
        {
         "mode": "lines",
         "name": "n=19",
         "type": "scatter",
         "x": [
          0.05,
          0.15000000000000002,
          0.25000000000000006,
          0.35000000000000003,
          0.45000000000000007,
          0.5500000000000002,
          0.6500000000000001,
          0.7500000000000002,
          0.8500000000000002,
          0.9500000000000002,
          1.0500000000000003,
          1.1500000000000004,
          1.2500000000000002,
          1.3500000000000003,
          1.4500000000000004,
          1.5500000000000003,
          1.6500000000000004,
          1.7500000000000004,
          1.8500000000000003,
          1.9500000000000004,
          2.0500000000000003,
          2.1500000000000004,
          2.2500000000000004,
          2.35,
          2.45,
          2.5500000000000003,
          2.6500000000000004,
          2.7500000000000004,
          2.8500000000000005,
          2.95,
          3.0500000000000003,
          3.1500000000000004,
          3.2500000000000004,
          3.3500000000000005,
          3.4500000000000006,
          3.5500000000000007,
          3.6500000000000004,
          3.7500000000000004,
          3.8500000000000005,
          3.9500000000000006,
          4.050000000000001,
          4.15,
          4.250000000000001,
          4.3500000000000005,
          4.450000000000001,
          4.550000000000001,
          4.65,
          4.750000000000001,
          4.8500000000000005,
          4.950000000000001,
          5.050000000000001,
          5.150000000000001,
          5.250000000000001,
          5.3500000000000005,
          5.450000000000001,
          5.550000000000001,
          5.650000000000001,
          5.750000000000001,
          5.8500000000000005,
          5.950000000000001,
          6.050000000000001,
          6.150000000000001,
          6.250000000000001
         ],
         "xaxis": "x",
         "y": [
          0.35816220429409285,
          0.4947197991905186,
          0.6291311450224083,
          0.7552949530511217,
          0.866828759079516,
          0.9574076321288496,
          1.0211354980074563,
          1.0529264298738306,
          1.048870458819677,
          1.0065574581490198,
          0.9253336616630649,
          0.8064684321221651,
          0.6532138714425667,
          0.47074646188529295,
          0.2659877028953706,
          0.04730910218199692,
          -0.1758647388716103,
          -0.3935334897639708,
          -0.5956510236689732,
          -0.7726754428969804,
          -0.9161043744386851,
          -1.0189608609238368,
          -1.0761978697783001,
          -1.0849945391699027,
          -1.0449244212019324,
          -0.9579846400733012,
          -0.8284843868806178,
          -0.6628007722523869,
          -0.4690189859191804,
          -0.2564812564845619,
          -0.03527467608658526,
          0.18430885507083017,
          0.3923066884952242,
          0.5795815162547365,
          0.7382516609171086,
          0.8620336657072527,
          0.9464823876891972,
          0.9891214066476773,
          0.9894640151040514,
          0.9489317636035716,
          0.8706830450955713,
          0.7593682253123728,
          0.6208302540591398,
          0.46177058412148075,
          0.28939977465299327,
          0.11109064951901688,
          -0.06595035705931884,
          -0.23498068895715565,
          -0.38997781283374133,
          -0.5258465924152453,
          -0.63857305116521,
          -0.725322058483307,
          -0.7844786521340953,
          -0.8156347260057699,
          -0.8195247051756968,
          -0.7979156144201948,
          -0.7534585995055112,
          -0.6895104201938359,
          -0.6099346044070514,
          -0.5188927225121203,
          -0.4206365026544276,
          -0.3193111839074517,
          -0.21877956244172453
         ],
         "yaxis": "y"
        },
        {
         "mode": "lines",
         "name": "n=22",
         "type": "scatter",
         "x": [
          0.05,
          0.15000000000000002,
          0.25000000000000006,
          0.35000000000000003,
          0.45000000000000007,
          0.5500000000000002,
          0.6500000000000001,
          0.7500000000000002,
          0.8500000000000002,
          0.9500000000000002,
          1.0500000000000003,
          1.1500000000000004,
          1.2500000000000002,
          1.3500000000000003,
          1.4500000000000004,
          1.5500000000000003,
          1.6500000000000004,
          1.7500000000000004,
          1.8500000000000003,
          1.9500000000000004,
          2.0500000000000003,
          2.1500000000000004,
          2.2500000000000004,
          2.35,
          2.45,
          2.5500000000000003,
          2.6500000000000004,
          2.7500000000000004,
          2.8500000000000005,
          2.95,
          3.0500000000000003,
          3.1500000000000004,
          3.2500000000000004,
          3.3500000000000005,
          3.4500000000000006,
          3.5500000000000007,
          3.6500000000000004,
          3.7500000000000004,
          3.8500000000000005,
          3.9500000000000006,
          4.050000000000001,
          4.15,
          4.250000000000001,
          4.3500000000000005,
          4.450000000000001,
          4.550000000000001,
          4.65,
          4.750000000000001,
          4.8500000000000005,
          4.950000000000001,
          5.050000000000001,
          5.150000000000001,
          5.250000000000001,
          5.3500000000000005,
          5.450000000000001,
          5.550000000000001,
          5.650000000000001,
          5.750000000000001,
          5.8500000000000005,
          5.950000000000001,
          6.050000000000001,
          6.150000000000001,
          6.250000000000001
         ],
         "xaxis": "x",
         "y": [
          0.3507257000841885,
          0.46504862336923797,
          0.5794933493413648,
          0.689084469997501,
          0.7884198396922464,
          0.8719289048891867,
          0.9341741909117247,
          0.9701799292281205,
          0.9757680708244292,
          0.9478794111329051,
          0.8848565597736076,
          0.7866662205840421,
          0.65504076397449,
          0.49352328683419483,
          0.3074060318693488,
          0.10355881488251295,
          -0.10984848225163958,
          -0.3237177890918463,
          -0.528470490803662,
          -0.714546207363268,
          -0.8729235466357553,
          -0.9956310259557133,
          -1.0762158534088273,
          -1.1101399982512359,
          -1.0950768942019526,
          -1.0310879782348996,
          -0.9206656872913812,
          -0.7686380063344794,
          -0.5819385849669488,
          -0.3692551750974026,
          -0.14057705527669462,
          0.09333137628343169,
          0.32149900692982913,
          0.533324118339619,
          0.7191237858300404,
          0.8706243528729579,
          0.9813650761995241,
          1.0469931027911201,
          1.0654352823125357,
          1.03694038051708,
          0.9639934543377371,
          0.8511119091916087,
          0.704539575945033,
          0.5318606073980213,
          0.341558810469476,
          0.1425500413349798,
          -0.05628452925302042,
          -0.2465380260421377,
          -0.42066718063354036,
          -0.572312488143469,
          -0.696535560920603,
          -0.7899657479765115,
          -0.8508539281513667,
          -0.879036977390024,
          -0.8758214243773145,
          -0.8437989680074399,
          -0.7866096273487353,
          -0.7086702006103878,
          -0.6148863777041125,
          -0.510366317723495,
          -0.400151882113806,
          -0.2889811880203734,
          -0.18109294841554835
         ],
         "yaxis": "y"
        },
        {
         "mode": "lines",
         "name": "n=25",
         "type": "scatter",
         "x": [
          0.05,
          0.15000000000000002,
          0.25000000000000006,
          0.35000000000000003,
          0.45000000000000007,
          0.5500000000000002,
          0.6500000000000001,
          0.7500000000000002,
          0.8500000000000002,
          0.9500000000000002,
          1.0500000000000003,
          1.1500000000000004,
          1.2500000000000002,
          1.3500000000000003,
          1.4500000000000004,
          1.5500000000000003,
          1.6500000000000004,
          1.7500000000000004,
          1.8500000000000003,
          1.9500000000000004,
          2.0500000000000003,
          2.1500000000000004,
          2.2500000000000004,
          2.35,
          2.45,
          2.5500000000000003,
          2.6500000000000004,
          2.7500000000000004,
          2.8500000000000005,
          2.95,
          3.0500000000000003,
          3.1500000000000004,
          3.2500000000000004,
          3.3500000000000005,
          3.4500000000000006,
          3.5500000000000007,
          3.6500000000000004,
          3.7500000000000004,
          3.8500000000000005,
          3.9500000000000006,
          4.050000000000001,
          4.15,
          4.250000000000001,
          4.3500000000000005,
          4.450000000000001,
          4.550000000000001,
          4.65,
          4.750000000000001,
          4.8500000000000005,
          4.950000000000001,
          5.050000000000001,
          5.150000000000001,
          5.250000000000001,
          5.3500000000000005,
          5.450000000000001,
          5.550000000000001,
          5.650000000000001,
          5.750000000000001,
          5.8500000000000005,
          5.950000000000001,
          6.050000000000001,
          6.150000000000001,
          6.250000000000001
         ],
         "xaxis": "x",
         "y": [
          0.4365373712305659,
          0.5465914903243635,
          0.6526324584333224,
          0.7499047959708007,
          0.8335290439016564,
          0.8987480331148161,
          0.9411895107568736,
          0.957130026389868,
          0.9437439367490756,
          0.899321433463305,
          0.8234406465051527,
          0.7170810529564761,
          0.5826684752488028,
          0.4240456763870249,
          0.2463667060679391,
          0.055917460716567086,
          -0.14013086285000192,
          -0.3340248504865,
          -0.5177745607803744,
          -0.6835252285686241,
          -0.8239365490396917,
          -0.9325501853739669,
          -1.0041261881772718,
          -1.0349300479576478,
          -1.0229541032717822,
          -0.968059937064004,
          -0.8720321080570893,
          -0.7385379317069882,
          -0.5729928478426254,
          -0.38233594812251875,
          -0.17472521043046674,
          0.04083339516905557,
          0.2549047972890434,
          0.4580705337572323,
          0.6413782055802073,
          0.7967710031433943,
          0.9174744171570497,
          0.9983193909749027,
          1.0359845633038811,
          1.0291446920532297,
          0.9785175700491713,
          0.886807418793404,
          0.7585485269198564,
          0.59985843243248,
          0.41811490027011894,
          0.22157502913003566,
          0.018957801813753384,
          -0.18098689067806226,
          -0.3698993553328054,
          -0.5401989289341339,
          -0.6854204080918028,
          -0.8004813685556011,
          -0.8818680133355863,
          -0.9277322001536045,
          -0.9378976619810188,
          -0.9137788134522488,
          -0.8582205882333124,
          -0.7752721518315718,
          -0.6699107949039483,
          -0.5477346111227119,
          -0.41464356145178194,
          -0.2765281808937192,
          -0.13898355548298633
         ],
         "yaxis": "y"
        },
        {
         "mode": "lines",
         "name": "n=28",
         "type": "scatter",
         "x": [
          0.05,
          0.15000000000000002,
          0.25000000000000006,
          0.35000000000000003,
          0.45000000000000007,
          0.5500000000000002,
          0.6500000000000001,
          0.7500000000000002,
          0.8500000000000002,
          0.9500000000000002,
          1.0500000000000003,
          1.1500000000000004,
          1.2500000000000002,
          1.3500000000000003,
          1.4500000000000004,
          1.5500000000000003,
          1.6500000000000004,
          1.7500000000000004,
          1.8500000000000003,
          1.9500000000000004,
          2.0500000000000003,
          2.1500000000000004,
          2.2500000000000004,
          2.35,
          2.45,
          2.5500000000000003,
          2.6500000000000004,
          2.7500000000000004,
          2.8500000000000005,
          2.95,
          3.0500000000000003,
          3.1500000000000004,
          3.2500000000000004,
          3.3500000000000005,
          3.4500000000000006,
          3.5500000000000007,
          3.6500000000000004,
          3.7500000000000004,
          3.8500000000000005,
          3.9500000000000006,
          4.050000000000001,
          4.15,
          4.250000000000001,
          4.3500000000000005,
          4.450000000000001,
          4.550000000000001,
          4.65,
          4.750000000000001,
          4.8500000000000005,
          4.950000000000001,
          5.050000000000001,
          5.150000000000001,
          5.250000000000001,
          5.3500000000000005,
          5.450000000000001,
          5.550000000000001,
          5.650000000000001,
          5.750000000000001,
          5.8500000000000005,
          5.950000000000001,
          6.050000000000001,
          6.150000000000001,
          6.250000000000001
         ],
         "xaxis": "x",
         "y": [
          0.04006151189093934,
          0.20877513874856912,
          0.38078741707119684,
          0.5488190451407364,
          0.705079208516749,
          0.8416694163706115,
          0.9510317692936358,
          1.0264139296843755,
          1.0623197461313367,
          1.054913487228689,
          1.0023471638035062,
          0.9049844293998704,
          0.7655007869814793,
          0.5888478316187132,
          0.38207840267791665,
          0.1540390851730533,
          -0.0850542608714736,
          -0.3241340632346624,
          -0.5518612626218964,
          -0.7572333376497484,
          -0.9301832415960949,
          -1.0621328432346162,
          -1.1464673631081943,
          -1.1789023584489333,
          -1.157721639676056,
          -1.0838726012546964,
          -0.9609142589401554,
          -0.7948222204368051,
          -0.5936633087326494,
          -0.3671600874940871,
          -0.12617166483567585,
          0.11787846415115333,
          0.35359435610726514,
          0.5701857980483731,
          0.7580008455788444,
          0.9089843628868025,
          1.0170393186782072,
          1.078273929444383,
          1.0911248736520864,
          1.0563542607201384,
          0.9769253552813306,
          0.857768785007623,
          0.7054567091104935,
          0.5278068833166364,
          0.3334415105983124,
          0.1313271059827034,
          -0.06967867318165506,
          -0.261249072631565,
          -0.4359581213021285,
          -0.5875814860039947,
          -0.7113163704850057,
          -0.8039138655497791,
          -0.8637225530354727,
          -0.8906472907326867,
          -0.8860316627020297,
          -0.8524763269617123,
          -0.7936082516719745,
          -0.7138174952925965,
          -0.617978724495448,
          -0.5111741181683482,
          -0.39843278630261997,
          -0.28449950561159565,
          -0.17364264931339937
         ],
         "yaxis": "y"
        }
       ],
       "layout": {
        "annotations": [
         {
          "font": {
           "size": 16
          },
          "showarrow": false,
          "text": "Validation",
          "x": 0.225,
          "xanchor": "center",
          "xref": "paper",
          "y": 1,
          "yanchor": "bottom",
          "yref": "paper"
         },
         {
          "font": {
           "size": 16
          },
          "showarrow": false,
          "text": "Residual error",
          "x": 0.775,
          "xanchor": "center",
          "xref": "paper",
          "y": 1,
          "yanchor": "bottom",
          "yref": "paper"
         }
        ],
        "template": {
         "data": {
          "bar": [
           {
            "error_x": {
             "color": "#2a3f5f"
            },
            "error_y": {
             "color": "#2a3f5f"
            },
            "marker": {
             "line": {
              "color": "#E5ECF6",
              "width": 0.5
             }
            },
            "type": "bar"
           }
          ],
          "barpolar": [
           {
            "marker": {
             "line": {
              "color": "#E5ECF6",
              "width": 0.5
             }
            },
            "type": "barpolar"
           }
          ],
          "carpet": [
           {
            "aaxis": {
             "endlinecolor": "#2a3f5f",
             "gridcolor": "white",
             "linecolor": "white",
             "minorgridcolor": "white",
             "startlinecolor": "#2a3f5f"
            },
            "baxis": {
             "endlinecolor": "#2a3f5f",
             "gridcolor": "white",
             "linecolor": "white",
             "minorgridcolor": "white",
             "startlinecolor": "#2a3f5f"
            },
            "type": "carpet"
           }
          ],
          "choropleth": [
           {
            "colorbar": {
             "outlinewidth": 0,
             "ticks": ""
            },
            "type": "choropleth"
           }
          ],
          "contour": [
           {
            "colorbar": {
             "outlinewidth": 0,
             "ticks": ""
            },
            "colorscale": [
             [
              0,
              "#0d0887"
             ],
             [
              0.1111111111111111,
              "#46039f"
             ],
             [
              0.2222222222222222,
              "#7201a8"
             ],
             [
              0.3333333333333333,
              "#9c179e"
             ],
             [
              0.4444444444444444,
              "#bd3786"
             ],
             [
              0.5555555555555556,
              "#d8576b"
             ],
             [
              0.6666666666666666,
              "#ed7953"
             ],
             [
              0.7777777777777778,
              "#fb9f3a"
             ],
             [
              0.8888888888888888,
              "#fdca26"
             ],
             [
              1,
              "#f0f921"
             ]
            ],
            "type": "contour"
           }
          ],
          "contourcarpet": [
           {
            "colorbar": {
             "outlinewidth": 0,
             "ticks": ""
            },
            "type": "contourcarpet"
           }
          ],
          "heatmap": [
           {
            "colorbar": {
             "outlinewidth": 0,
             "ticks": ""
            },
            "colorscale": [
             [
              0,
              "#0d0887"
             ],
             [
              0.1111111111111111,
              "#46039f"
             ],
             [
              0.2222222222222222,
              "#7201a8"
             ],
             [
              0.3333333333333333,
              "#9c179e"
             ],
             [
              0.4444444444444444,
              "#bd3786"
             ],
             [
              0.5555555555555556,
              "#d8576b"
             ],
             [
              0.6666666666666666,
              "#ed7953"
             ],
             [
              0.7777777777777778,
              "#fb9f3a"
             ],
             [
              0.8888888888888888,
              "#fdca26"
             ],
             [
              1,
              "#f0f921"
             ]
            ],
            "type": "heatmap"
           }
          ],
          "heatmapgl": [
           {
            "colorbar": {
             "outlinewidth": 0,
             "ticks": ""
            },
            "colorscale": [
             [
              0,
              "#0d0887"
             ],
             [
              0.1111111111111111,
              "#46039f"
             ],
             [
              0.2222222222222222,
              "#7201a8"
             ],
             [
              0.3333333333333333,
              "#9c179e"
             ],
             [
              0.4444444444444444,
              "#bd3786"
             ],
             [
              0.5555555555555556,
              "#d8576b"
             ],
             [
              0.6666666666666666,
              "#ed7953"
             ],
             [
              0.7777777777777778,
              "#fb9f3a"
             ],
             [
              0.8888888888888888,
              "#fdca26"
             ],
             [
              1,
              "#f0f921"
             ]
            ],
            "type": "heatmapgl"
           }
          ],
          "histogram": [
           {
            "marker": {
             "colorbar": {
              "outlinewidth": 0,
              "ticks": ""
             }
            },
            "type": "histogram"
           }
          ],
          "histogram2d": [
           {
            "colorbar": {
             "outlinewidth": 0,
             "ticks": ""
            },
            "colorscale": [
             [
              0,
              "#0d0887"
             ],
             [
              0.1111111111111111,
              "#46039f"
             ],
             [
              0.2222222222222222,
              "#7201a8"
             ],
             [
              0.3333333333333333,
              "#9c179e"
             ],
             [
              0.4444444444444444,
              "#bd3786"
             ],
             [
              0.5555555555555556,
              "#d8576b"
             ],
             [
              0.6666666666666666,
              "#ed7953"
             ],
             [
              0.7777777777777778,
              "#fb9f3a"
             ],
             [
              0.8888888888888888,
              "#fdca26"
             ],
             [
              1,
              "#f0f921"
             ]
            ],
            "type": "histogram2d"
           }
          ],
          "histogram2dcontour": [
           {
            "colorbar": {
             "outlinewidth": 0,
             "ticks": ""
            },
            "colorscale": [
             [
              0,
              "#0d0887"
             ],
             [
              0.1111111111111111,
              "#46039f"
             ],
             [
              0.2222222222222222,
              "#7201a8"
             ],
             [
              0.3333333333333333,
              "#9c179e"
             ],
             [
              0.4444444444444444,
              "#bd3786"
             ],
             [
              0.5555555555555556,
              "#d8576b"
             ],
             [
              0.6666666666666666,
              "#ed7953"
             ],
             [
              0.7777777777777778,
              "#fb9f3a"
             ],
             [
              0.8888888888888888,
              "#fdca26"
             ],
             [
              1,
              "#f0f921"
             ]
            ],
            "type": "histogram2dcontour"
           }
          ],
          "mesh3d": [
           {
            "colorbar": {
             "outlinewidth": 0,
             "ticks": ""
            },
            "type": "mesh3d"
           }
          ],
          "parcoords": [
           {
            "line": {
             "colorbar": {
              "outlinewidth": 0,
              "ticks": ""
             }
            },
            "type": "parcoords"
           }
          ],
          "pie": [
           {
            "automargin": true,
            "type": "pie"
           }
          ],
          "scatter": [
           {
            "marker": {
             "colorbar": {
              "outlinewidth": 0,
              "ticks": ""
             }
            },
            "type": "scatter"
           }
          ],
          "scatter3d": [
           {
            "line": {
             "colorbar": {
              "outlinewidth": 0,
              "ticks": ""
             }
            },
            "marker": {
             "colorbar": {
              "outlinewidth": 0,
              "ticks": ""
             }
            },
            "type": "scatter3d"
           }
          ],
          "scattercarpet": [
           {
            "marker": {
             "colorbar": {
              "outlinewidth": 0,
              "ticks": ""
             }
            },
            "type": "scattercarpet"
           }
          ],
          "scattergeo": [
           {
            "marker": {
             "colorbar": {
              "outlinewidth": 0,
              "ticks": ""
             }
            },
            "type": "scattergeo"
           }
          ],
          "scattergl": [
           {
            "marker": {
             "colorbar": {
              "outlinewidth": 0,
              "ticks": ""
             }
            },
            "type": "scattergl"
           }
          ],
          "scattermapbox": [
           {
            "marker": {
             "colorbar": {
              "outlinewidth": 0,
              "ticks": ""
             }
            },
            "type": "scattermapbox"
           }
          ],
          "scatterpolar": [
           {
            "marker": {
             "colorbar": {
              "outlinewidth": 0,
              "ticks": ""
             }
            },
            "type": "scatterpolar"
           }
          ],
          "scatterpolargl": [
           {
            "marker": {
             "colorbar": {
              "outlinewidth": 0,
              "ticks": ""
             }
            },
            "type": "scatterpolargl"
           }
          ],
          "scatterternary": [
           {
            "marker": {
             "colorbar": {
              "outlinewidth": 0,
              "ticks": ""
             }
            },
            "type": "scatterternary"
           }
          ],
          "surface": [
           {
            "colorbar": {
             "outlinewidth": 0,
             "ticks": ""
            },
            "colorscale": [
             [
              0,
              "#0d0887"
             ],
             [
              0.1111111111111111,
              "#46039f"
             ],
             [
              0.2222222222222222,
              "#7201a8"
             ],
             [
              0.3333333333333333,
              "#9c179e"
             ],
             [
              0.4444444444444444,
              "#bd3786"
             ],
             [
              0.5555555555555556,
              "#d8576b"
             ],
             [
              0.6666666666666666,
              "#ed7953"
             ],
             [
              0.7777777777777778,
              "#fb9f3a"
             ],
             [
              0.8888888888888888,
              "#fdca26"
             ],
             [
              1,
              "#f0f921"
             ]
            ],
            "type": "surface"
           }
          ],
          "table": [
           {
            "cells": {
             "fill": {
              "color": "#EBF0F8"
             },
             "line": {
              "color": "white"
             }
            },
            "header": {
             "fill": {
              "color": "#C8D4E3"
             },
             "line": {
              "color": "white"
             }
            },
            "type": "table"
           }
          ]
         },
         "layout": {
          "annotationdefaults": {
           "arrowcolor": "#2a3f5f",
           "arrowhead": 0,
           "arrowwidth": 1
          },
          "coloraxis": {
           "colorbar": {
            "outlinewidth": 0,
            "ticks": ""
           }
          },
          "colorscale": {
           "diverging": [
            [
             0,
             "#8e0152"
            ],
            [
             0.1,
             "#c51b7d"
            ],
            [
             0.2,
             "#de77ae"
            ],
            [
             0.3,
             "#f1b6da"
            ],
            [
             0.4,
             "#fde0ef"
            ],
            [
             0.5,
             "#f7f7f7"
            ],
            [
             0.6,
             "#e6f5d0"
            ],
            [
             0.7,
             "#b8e186"
            ],
            [
             0.8,
             "#7fbc41"
            ],
            [
             0.9,
             "#4d9221"
            ],
            [
             1,
             "#276419"
            ]
           ],
           "sequential": [
            [
             0,
             "#0d0887"
            ],
            [
             0.1111111111111111,
             "#46039f"
            ],
            [
             0.2222222222222222,
             "#7201a8"
            ],
            [
             0.3333333333333333,
             "#9c179e"
            ],
            [
             0.4444444444444444,
             "#bd3786"
            ],
            [
             0.5555555555555556,
             "#d8576b"
            ],
            [
             0.6666666666666666,
             "#ed7953"
            ],
            [
             0.7777777777777778,
             "#fb9f3a"
            ],
            [
             0.8888888888888888,
             "#fdca26"
            ],
            [
             1,
             "#f0f921"
            ]
           ],
           "sequentialminus": [
            [
             0,
             "#0d0887"
            ],
            [
             0.1111111111111111,
             "#46039f"
            ],
            [
             0.2222222222222222,
             "#7201a8"
            ],
            [
             0.3333333333333333,
             "#9c179e"
            ],
            [
             0.4444444444444444,
             "#bd3786"
            ],
            [
             0.5555555555555556,
             "#d8576b"
            ],
            [
             0.6666666666666666,
             "#ed7953"
            ],
            [
             0.7777777777777778,
             "#fb9f3a"
            ],
            [
             0.8888888888888888,
             "#fdca26"
            ],
            [
             1,
             "#f0f921"
            ]
           ]
          },
          "colorway": [
           "#636efa",
           "#EF553B",
           "#00cc96",
           "#ab63fa",
           "#FFA15A",
           "#19d3f3",
           "#FF6692",
           "#B6E880",
           "#FF97FF",
           "#FECB52"
          ],
          "font": {
           "color": "#2a3f5f"
          },
          "geo": {
           "bgcolor": "white",
           "lakecolor": "white",
           "landcolor": "#E5ECF6",
           "showlakes": true,
           "showland": true,
           "subunitcolor": "white"
          },
          "hoverlabel": {
           "align": "left"
          },
          "hovermode": "closest",
          "mapbox": {
           "style": "light"
          },
          "paper_bgcolor": "white",
          "plot_bgcolor": "#E5ECF6",
          "polar": {
           "angularaxis": {
            "gridcolor": "white",
            "linecolor": "white",
            "ticks": ""
           },
           "bgcolor": "#E5ECF6",
           "radialaxis": {
            "gridcolor": "white",
            "linecolor": "white",
            "ticks": ""
           }
          },
          "scene": {
           "xaxis": {
            "backgroundcolor": "#E5ECF6",
            "gridcolor": "white",
            "gridwidth": 2,
            "linecolor": "white",
            "showbackground": true,
            "ticks": "",
            "zerolinecolor": "white"
           },
           "yaxis": {
            "backgroundcolor": "#E5ECF6",
            "gridcolor": "white",
            "gridwidth": 2,
            "linecolor": "white",
            "showbackground": true,
            "ticks": "",
            "zerolinecolor": "white"
           },
           "zaxis": {
            "backgroundcolor": "#E5ECF6",
            "gridcolor": "white",
            "gridwidth": 2,
            "linecolor": "white",
            "showbackground": true,
            "ticks": "",
            "zerolinecolor": "white"
           }
          },
          "shapedefaults": {
           "line": {
            "color": "#2a3f5f"
           }
          },
          "ternary": {
           "aaxis": {
            "gridcolor": "white",
            "linecolor": "white",
            "ticks": ""
           },
           "baxis": {
            "gridcolor": "white",
            "linecolor": "white",
            "ticks": ""
           },
           "bgcolor": "#E5ECF6",
           "caxis": {
            "gridcolor": "white",
            "linecolor": "white",
            "ticks": ""
           }
          },
          "title": {
           "x": 0.05
          },
          "xaxis": {
           "automargin": true,
           "gridcolor": "white",
           "linecolor": "white",
           "ticks": "",
           "title": {
            "standoff": 15
           },
           "zerolinecolor": "white",
           "zerolinewidth": 2
          },
          "yaxis": {
           "automargin": true,
           "gridcolor": "white",
           "linecolor": "white",
           "ticks": "",
           "title": {
            "standoff": 15
           },
           "zerolinecolor": "white",
           "zerolinewidth": 2
          }
         }
        },
        "xaxis": {
         "anchor": "y",
         "domain": [
          0,
          0.45
         ]
        },
        "xaxis2": {
         "anchor": "y2",
         "domain": [
          0.55,
          1
         ]
        },
        "yaxis": {
         "anchor": "x",
         "domain": [
          0,
          1
         ]
        },
        "yaxis2": {
         "anchor": "x2",
         "domain": [
          0,
          1
         ]
        }
       }
      }
     },
     "metadata": {}
    }
   ],
   "source": [
    "x, sin_data, sqr_data = data_gen(0, 2*np.pi)\n",
    "t_x, t_sin_data, t_sqr_data = data_gen(0.05, 2*np.pi)\n",
    "\n",
    "n_nodes = np.arange(1,30)\n",
    "res_errors = []\n",
    "outputs = []\n",
    "\n",
    "epochs=100\n",
    "\n",
    "for n in n_nodes:\n",
    "    RBFNet = RBF_Network(n, x, useDelta=True, add_noise=False)\n",
    "    RBFNet.train_network(epochs, x, sin_data)\n",
    "    res_errors.append(RBFNet.validate(t_x, t_sin_data))\n",
    "    outputs.append(RBFNet.f_of_x)\n",
    "\n",
    "titles = [\"Validation\", \"Residual error\"]\n",
    "fig = make_subplots(rows=1, cols=2, subplot_titles=(titles[0], titles[1]))\n",
    "\n",
    "fig.add_trace(go.Scatter(x=np.arange(len(res_errors)), y=res_errors, mode=\"lines\", name=\"error\"), row=1, col=2)\n",
    "\n",
    "fig.add_trace(go.Scatter(x=t_x.ravel(), y=sin_data.ravel(), mode=\"lines\", name=\"Original\"), row=1, col=1)\n",
    "\n",
    "for i in range(1, len(outputs), 3):\n",
    "    fig.add_trace(go.Scatter(x=t_x.ravel(), y=outputs[i].ravel(), mode=\"lines\", name=\"n={}\".format(i)), row=1, col=1)\n",
    "\n",
    "fig.show()\n"
   ]
  },
  {
   "source": [
    "## 3.3.1 - Compare CL-based approach with earlier RBF network"
   ],
   "cell_type": "markdown",
   "metadata": {}
  },
  {
   "source": [
    "N=10, Without noise"
   ],
   "cell_type": "markdown",
   "metadata": {}
  },
  {
   "cell_type": "code",
   "execution_count": 248,
   "metadata": {
    "tags": []
   },
   "outputs": [
    {
     "output_type": "display_data",
     "data": {
      "application/vnd.plotly.v1+json": {
       "config": {
        "plotlyServerURL": "https://plot.ly"
       },
       "data": [
        {
         "mode": "lines",
         "name": "Original",
         "type": "scatter",
         "x": [
          0.05,
          0.15000000000000002,
          0.25000000000000006,
          0.35000000000000003,
          0.45000000000000007,
          0.5500000000000002,
          0.6500000000000001,
          0.7500000000000002,
          0.8500000000000002,
          0.9500000000000002,
          1.0500000000000003,
          1.1500000000000004,
          1.2500000000000002,
          1.3500000000000003,
          1.4500000000000004,
          1.5500000000000003,
          1.6500000000000004,
          1.7500000000000004,
          1.8500000000000003,
          1.9500000000000004,
          2.0500000000000003,
          2.1500000000000004,
          2.2500000000000004,
          2.35,
          2.45,
          2.5500000000000003,
          2.6500000000000004,
          2.7500000000000004,
          2.8500000000000005,
          2.95,
          3.0500000000000003,
          3.1500000000000004,
          3.2500000000000004,
          3.3500000000000005,
          3.4500000000000006,
          3.5500000000000007,
          3.6500000000000004,
          3.7500000000000004,
          3.8500000000000005,
          3.9500000000000006,
          4.050000000000001,
          4.15,
          4.250000000000001,
          4.3500000000000005,
          4.450000000000001,
          4.550000000000001,
          4.65,
          4.750000000000001,
          4.8500000000000005,
          4.950000000000001,
          5.050000000000001,
          5.150000000000001,
          5.250000000000001,
          5.3500000000000005,
          5.450000000000001,
          5.550000000000001,
          5.650000000000001,
          5.750000000000001,
          5.8500000000000005,
          5.950000000000001,
          6.050000000000001,
          6.150000000000001,
          6.250000000000001
         ],
         "xaxis": "x",
         "y": [
          0,
          0.19866933079506122,
          0.3894183423086505,
          0.5646424733950355,
          0.7173560908995228,
          0.8414709848078965,
          0.9320390859672264,
          0.9854497299884603,
          0.9995736030415051,
          0.9738476308781951,
          0.9092974268256817,
          0.8084964038195901,
          0.6754631805511506,
          0.5155013718214642,
          0.33498815015590466,
          0.1411200080598672,
          -0.058374143427580086,
          -0.25554110202683167,
          -0.44252044329485246,
          -0.6118578909427193,
          -0.7568024953079282,
          -0.8715757724135882,
          -0.951602073889516,
          -0.9936910036334645,
          -0.9961646088358406,
          -0.9589242746631385,
          -0.8834546557201531,
          -0.7727644875559871,
          -0.6312666378723208,
          -0.4646021794137566,
          -0.27941549819892586,
          -0.0830894028174964,
          0.11654920485049364,
          0.3115413635133787,
          0.49411335113860894,
          0.6569865987187891,
          0.7936678638491531,
          0.8987080958116269,
          0.9679196720314865,
          0.998543345374605,
          0.9893582466233818,
          0.9407305566797726,
          0.8545989080882804,
          0.7343970978741133,
          0.5849171928917617,
          0.4121184852417566,
          0.22288991410024592,
          0.024775425453357765,
          -0.1743267812229814,
          -0.3664791292519284,
          -0.5440211108893698,
          -0.6998746875935437,
          -0.8278264690856537,
          -0.9227754216128073,
          -0.9809362300664916,
          -0.9999902065507035,
          -0.979177729151317,
          -0.9193285256646757,
          -0.8228285949687079,
          -0.6935250847771224,
          -0.5365729180004349,
          -0.35822928223682704,
          -0.1656041754483094
         ],
         "yaxis": "y"
        },
        {
         "mode": "lines",
         "name": "Error Without CL",
         "type": "scatter",
         "x": [
          0,
          1,
          2,
          3,
          4,
          5,
          6,
          7,
          8,
          9,
          10,
          11,
          12,
          13,
          14,
          15,
          16,
          17,
          18,
          19,
          20,
          21,
          22,
          23,
          24,
          25,
          26,
          27,
          28,
          29,
          30,
          31,
          32,
          33,
          34,
          35,
          36,
          37,
          38,
          39,
          40,
          41,
          42,
          43,
          44,
          45,
          46,
          47,
          48,
          49,
          50,
          51,
          52,
          53,
          54,
          55,
          56,
          57,
          58,
          59,
          60,
          61,
          62,
          63,
          64,
          65,
          66,
          67,
          68,
          69,
          70,
          71,
          72,
          73,
          74,
          75,
          76,
          77,
          78,
          79,
          80,
          81,
          82,
          83,
          84,
          85,
          86,
          87,
          88,
          89,
          90,
          91,
          92,
          93,
          94,
          95,
          96,
          97,
          98,
          99
         ],
         "xaxis": "x2",
         "y": [
          0.3643206549952223,
          0.3972117875580928,
          0.37988486510603015,
          0.3635487480597179,
          0.3491776420266379,
          0.33642662074962415,
          0.32606452799856855,
          0.3179469195368409,
          0.3107754621838469,
          0.30421814332191094,
          0.29807023412104783,
          0.29267633881373745,
          0.28765868291658114,
          0.2828712833619287,
          0.2782938782320546,
          0.2739082474352056,
          0.2696980031653928,
          0.2658734575382439,
          0.262232242372018,
          0.2586957083703979,
          0.2552563266073286,
          0.2519073015372822,
          0.24873850764986702,
          0.24567269255609567,
          0.24266476966136816,
          0.23971187350905396,
          0.23681139400729562,
          0.23400207731809222,
          0.2312638484769121,
          0.22856741551398388,
          0.22591135387030953,
          0.22334158195702775,
          0.22082639186641212,
          0.2183408743929591,
          0.21588472194833971,
          0.21345762362264772,
          0.21105926606184128,
          0.20868933424295252,
          0.20634751215798572,
          0.2040334834162753,
          0.20174693177406383,
          0.19948754159913498,
          0.19725499827752105,
          0.1950489885685677,
          0.19286920091397627,
          0.1907153257058592,
          0.18858705551830446,
          0.18648408530648405,
          0.18440611257690004,
          0.1823528375319963,
          0.18032396319201238,
          0.17831919549665115,
          0.1763382433888658,
          0.17438081888281567,
          0.17244663711782846,
          0.170535416400005,
          0.16864687823293212,
          0.16678074733880327,
          0.16493675167111344,
          0.163114622419966,
          0.16131409401090985,
          0.1595349040981373,
          0.1577767935527682,
          0.15603950644687672,
          0.15432279003383473,
          0.1526626749116304,
          0.1510227194406126,
          0.149402116246208,
          0.14780063683915814,
          0.14621805495721332,
          0.14465414661376663,
          0.14310869013695665,
          0.14158146620032377,
          0.1400722578459984,
          0.13858085050129484,
          0.13710703198948182,
          0.13565059253543457,
          0.13421132476677794,
          0.13278902371108056,
          0.1313834867895908,
          0.1299945138079512,
          0.12863775222028068,
          0.12731337245690827,
          0.12600461421441275,
          0.12471128928277438,
          0.12343321186051869,
          0.12217019852049307,
          0.12093740383533222,
          0.11971992058405768,
          0.1185167832293491,
          0.11732781870990898,
          0.11615285627525948,
          0.11499172743993441,
          0.11386710845048427,
          0.1127692781580344,
          0.11168436405815695,
          0.11061221147930883,
          0.10955266772174761,
          0.1085055820263869,
          0.10747080554446545
         ],
         "yaxis": "y2"
        },
        {
         "mode": "lines",
         "name": "Prediction Without CL",
         "type": "scatter",
         "x": [
          0.05,
          0.15000000000000002,
          0.25000000000000006,
          0.35000000000000003,
          0.45000000000000007,
          0.5500000000000002,
          0.6500000000000001,
          0.7500000000000002,
          0.8500000000000002,
          0.9500000000000002,
          1.0500000000000003,
          1.1500000000000004,
          1.2500000000000002,
          1.3500000000000003,
          1.4500000000000004,
          1.5500000000000003,
          1.6500000000000004,
          1.7500000000000004,
          1.8500000000000003,
          1.9500000000000004,
          2.0500000000000003,
          2.1500000000000004,
          2.2500000000000004,
          2.35,
          2.45,
          2.5500000000000003,
          2.6500000000000004,
          2.7500000000000004,
          2.8500000000000005,
          2.95,
          3.0500000000000003,
          3.1500000000000004,
          3.2500000000000004,
          3.3500000000000005,
          3.4500000000000006,
          3.5500000000000007,
          3.6500000000000004,
          3.7500000000000004,
          3.8500000000000005,
          3.9500000000000006,
          4.050000000000001,
          4.15,
          4.250000000000001,
          4.3500000000000005,
          4.450000000000001,
          4.550000000000001,
          4.65,
          4.750000000000001,
          4.8500000000000005,
          4.950000000000001,
          5.050000000000001,
          5.150000000000001,
          5.250000000000001,
          5.3500000000000005,
          5.450000000000001,
          5.550000000000001,
          5.650000000000001,
          5.750000000000001,
          5.8500000000000005,
          5.950000000000001,
          6.050000000000001,
          6.150000000000001,
          6.250000000000001
         ],
         "xaxis": "x",
         "y": [
          0.9744626856373347,
          1.0463514775814278,
          1.1060356904740545,
          1.1500396746828836,
          1.1750721126269599,
          1.1782091947033244,
          1.1570807343643956,
          1.1100486219779704,
          1.0363663593540613,
          0.9363084114681262,
          0.811258812544491,
          0.6637498875326017,
          0.49744407576464333,
          0.31705460918359346,
          0.12820409810986524,
          -0.0627762362997805,
          -0.2491000659192834,
          -0.4238217447898898,
          -0.5801604107983895,
          -0.7118355052187023,
          -0.8133947777356202,
          -0.8805149453939296,
          -0.9102556062787784,
          -0.9012488736325946,
          -0.853810476871382,
          -0.7699626226199038,
          -0.6533644368972508,
          -0.5091519153711934,
          -0.34369550210330196,
          -0.16428916886499031,
          0.021210335964185187,
          0.2047719956808606,
          0.3785830168821444,
          0.535421679003337,
          0.6689888749928172,
          0.7741802264855149,
          0.8472854267440498,
          0.8861069756943616,
          0.8899961966550672,
          0.859809851274898,
          0.7977953574045343,
          0.7074162411165894,
          0.5931318397618857,
          0.46014638812088093,
          0.3141425691328314,
          0.16101360203619994,
          0.006606242663417676,
          -0.14351503236696503,
          -0.2842746342264286,
          -0.41125743009352206,
          -0.5208414391998911,
          -0.6102895816323743,
          -0.677799924936477,
          -0.7225152075123009,
          -0.7444936325712829,
          -0.7446440802458214,
          -0.7246300077558836,
          -0.6867473877732545,
          -0.6337830217395948,
          -0.5688603741521444,
          -0.4952806061044908,
          -0.41636664646817717,
          -0.3353178565983338
         ],
         "yaxis": "y"
        },
        {
         "mode": "lines",
         "name": "Error With CL",
         "type": "scatter",
         "x": [
          0,
          1,
          2,
          3,
          4,
          5,
          6,
          7,
          8,
          9,
          10,
          11,
          12,
          13,
          14,
          15,
          16,
          17,
          18,
          19,
          20,
          21,
          22,
          23,
          24,
          25,
          26,
          27,
          28,
          29,
          30,
          31,
          32,
          33,
          34,
          35,
          36,
          37,
          38,
          39,
          40,
          41,
          42,
          43,
          44,
          45,
          46,
          47,
          48,
          49,
          50,
          51,
          52,
          53,
          54,
          55,
          56,
          57,
          58,
          59,
          60,
          61,
          62,
          63,
          64,
          65,
          66,
          67,
          68,
          69,
          70,
          71,
          72,
          73,
          74,
          75,
          76,
          77,
          78,
          79,
          80,
          81,
          82,
          83,
          84,
          85,
          86,
          87,
          88,
          89,
          90,
          91,
          92,
          93,
          94,
          95,
          96,
          97,
          98,
          99
         ],
         "xaxis": "x2",
         "y": [
          0.35809399338684206,
          0.30597226360314883,
          0.25497368927490893,
          0.24036736310062282,
          0.22934923496756038,
          0.22491037623094087,
          0.2206277260748784,
          0.21625849063166305,
          0.21178919923548306,
          0.2069191402858876,
          0.20173510049624901,
          0.19645972601470726,
          0.1912379405890539,
          0.18615302135337433,
          0.1812495572550879,
          0.17654816862548484,
          0.17209950121403236,
          0.16786612727473907,
          0.1638255921007917,
          0.15996735234727535,
          0.15628008003166205,
          0.15275237759475,
          0.1493731933613092,
          0.14613204925805062,
          0.14301915204987942,
          0.14002543338017973,
          0.13714254729256858,
          0.13436284330240547,
          0.131679326318362,
          0.12910532346925022,
          0.12665266107009382,
          0.12427472013110687,
          0.12196701833116054,
          0.1197254653975511,
          0.11754632608211837,
          0.11542618639889449,
          0.11336192294657889,
          0.11135067510357596,
          0.10938981987041124,
          0.10747694913494202,
          0.10560984914416384,
          0.10378648197898428,
          0.10202988161791604,
          0.10032365100295368,
          0.09865566176760918,
          0.09702439344943682,
          0.09542843725146065,
          0.0938664856119903,
          0.09233732280028897,
          0.0908398164365858,
          0.08937290984485917,
          0.0879489998043281,
          0.08659039827755045,
          0.08526595993072894,
          0.08396774716258931,
          0.08269498439709794,
          0.08144694137717572,
          0.08024184388473826,
          0.07907952160124375,
          0.07793932097172525,
          0.07682066179891639,
          0.07572299345740066,
          0.07464579243810902,
          0.07358856012894995,
          0.0725508208081901,
          0.07153211982953568,
          0.0705320219799541,
          0.06955010999316467,
          0.06858598320342803,
          0.06763925632578728,
          0.06672558464332652,
          0.0658485322459023,
          0.06498716878792296,
          0.06414117033675162,
          0.06331022369057697,
          0.062494025683869504,
          0.06169617634984772,
          0.06091540007282931,
          0.060150361048180154,
          0.059424605950963105,
          0.05872595072816998,
          0.05806266210615164,
          0.05742893813235235,
          0.05681979069995705,
          0.05624705674096706,
          0.0557230560566022,
          0.05520789425294917,
          0.05471493114507973,
          0.05425222889305992,
          0.05381036297917929,
          0.053383750471075506,
          0.05297881432509318,
          0.05260844307511432,
          0.05225036460051959,
          0.05192678189537717,
          0.051612147076856636,
          0.05130267210584918,
          0.05099826449953411,
          0.050698833710527316,
          0.05045875344602977
         ],
         "yaxis": "y2"
        },
        {
         "mode": "lines",
         "name": "Prediction With CL",
         "type": "scatter",
         "x": [
          0.05,
          0.15000000000000002,
          0.25000000000000006,
          0.35000000000000003,
          0.45000000000000007,
          0.5500000000000002,
          0.6500000000000001,
          0.7500000000000002,
          0.8500000000000002,
          0.9500000000000002,
          1.0500000000000003,
          1.1500000000000004,
          1.2500000000000002,
          1.3500000000000003,
          1.4500000000000004,
          1.5500000000000003,
          1.6500000000000004,
          1.7500000000000004,
          1.8500000000000003,
          1.9500000000000004,
          2.0500000000000003,
          2.1500000000000004,
          2.2500000000000004,
          2.35,
          2.45,
          2.5500000000000003,
          2.6500000000000004,
          2.7500000000000004,
          2.8500000000000005,
          2.95,
          3.0500000000000003,
          3.1500000000000004,
          3.2500000000000004,
          3.3500000000000005,
          3.4500000000000006,
          3.5500000000000007,
          3.6500000000000004,
          3.7500000000000004,
          3.8500000000000005,
          3.9500000000000006,
          4.050000000000001,
          4.15,
          4.250000000000001,
          4.3500000000000005,
          4.450000000000001,
          4.550000000000001,
          4.65,
          4.750000000000001,
          4.8500000000000005,
          4.950000000000001,
          5.050000000000001,
          5.150000000000001,
          5.250000000000001,
          5.3500000000000005,
          5.450000000000001,
          5.550000000000001,
          5.650000000000001,
          5.750000000000001,
          5.8500000000000005,
          5.950000000000001,
          6.050000000000001,
          6.150000000000001,
          6.250000000000001
         ],
         "xaxis": "x",
         "y": [
          0.32553401147155625,
          0.45598138017859496,
          0.5830012861653485,
          0.700888660403791,
          0.8037982431314021,
          0.8860550970227936,
          0.9424835462748224,
          0.9687341119898808,
          0.9615866823683109,
          0.9192084317158213,
          0.841346935384921,
          0.7294424229612759,
          0.5866479347021273,
          0.41775194378898,
          0.2290043413710148,
          0.027853069988016226,
          -0.17739534946984087,
          -0.3779730627280261,
          -0.5650837074615033,
          -0.7303462583893007,
          -0.8662245834279024,
          -0.9664182816326613,
          -1.026192768635972,
          -1.0426302729311903,
          -1.014788117514712,
          -0.9437560491589776,
          -0.8326100862323252,
          -0.6862660376491181,
          -0.51124118228001,
          -0.31533731805512644,
          -0.1072622768809801,
          0.10379010127403702,
          0.30857973233914093,
          0.49825730968503573,
          0.6647765524828296,
          0.801261180268552,
          0.9023086390339646,
          0.9642160063897315,
          0.9851176291055113,
          0.9650287103077424,
          0.9057940491833213,
          0.8109461984959291,
          0.6854821784235037,
          0.5355722925508164,
          0.368218261778629,
          0.1908805775165812,
          0.01109647630395887,
          -0.16388987842446046,
          -0.32746460091461455,
          -0.473930755650055,
          -0.5987302194642639,
          -0.6985909924628222,
          -0.7715953187714165,
          -0.8171692576963929,
          -0.8359993986290917,
          -0.829886853746287,
          -0.8015521624522647,
          -0.7544070597928683,
          -0.6923100673797605,
          -0.6193225501187549,
          -0.5394803536244223,
          -0.45659360645584907,
          -0.37408402548348135
         ],
         "yaxis": "y"
        }
       ],
       "layout": {
        "annotations": [
         {
          "font": {
           "size": 16
          },
          "showarrow": false,
          "text": "Validation",
          "x": 0.225,
          "xanchor": "center",
          "xref": "paper",
          "y": 1,
          "yanchor": "bottom",
          "yref": "paper"
         },
         {
          "font": {
           "size": 16
          },
          "showarrow": false,
          "text": "Residual error",
          "x": 0.775,
          "xanchor": "center",
          "xref": "paper",
          "y": 1,
          "yanchor": "bottom",
          "yref": "paper"
         }
        ],
        "template": {
         "data": {
          "bar": [
           {
            "error_x": {
             "color": "#2a3f5f"
            },
            "error_y": {
             "color": "#2a3f5f"
            },
            "marker": {
             "line": {
              "color": "#E5ECF6",
              "width": 0.5
             }
            },
            "type": "bar"
           }
          ],
          "barpolar": [
           {
            "marker": {
             "line": {
              "color": "#E5ECF6",
              "width": 0.5
             }
            },
            "type": "barpolar"
           }
          ],
          "carpet": [
           {
            "aaxis": {
             "endlinecolor": "#2a3f5f",
             "gridcolor": "white",
             "linecolor": "white",
             "minorgridcolor": "white",
             "startlinecolor": "#2a3f5f"
            },
            "baxis": {
             "endlinecolor": "#2a3f5f",
             "gridcolor": "white",
             "linecolor": "white",
             "minorgridcolor": "white",
             "startlinecolor": "#2a3f5f"
            },
            "type": "carpet"
           }
          ],
          "choropleth": [
           {
            "colorbar": {
             "outlinewidth": 0,
             "ticks": ""
            },
            "type": "choropleth"
           }
          ],
          "contour": [
           {
            "colorbar": {
             "outlinewidth": 0,
             "ticks": ""
            },
            "colorscale": [
             [
              0,
              "#0d0887"
             ],
             [
              0.1111111111111111,
              "#46039f"
             ],
             [
              0.2222222222222222,
              "#7201a8"
             ],
             [
              0.3333333333333333,
              "#9c179e"
             ],
             [
              0.4444444444444444,
              "#bd3786"
             ],
             [
              0.5555555555555556,
              "#d8576b"
             ],
             [
              0.6666666666666666,
              "#ed7953"
             ],
             [
              0.7777777777777778,
              "#fb9f3a"
             ],
             [
              0.8888888888888888,
              "#fdca26"
             ],
             [
              1,
              "#f0f921"
             ]
            ],
            "type": "contour"
           }
          ],
          "contourcarpet": [
           {
            "colorbar": {
             "outlinewidth": 0,
             "ticks": ""
            },
            "type": "contourcarpet"
           }
          ],
          "heatmap": [
           {
            "colorbar": {
             "outlinewidth": 0,
             "ticks": ""
            },
            "colorscale": [
             [
              0,
              "#0d0887"
             ],
             [
              0.1111111111111111,
              "#46039f"
             ],
             [
              0.2222222222222222,
              "#7201a8"
             ],
             [
              0.3333333333333333,
              "#9c179e"
             ],
             [
              0.4444444444444444,
              "#bd3786"
             ],
             [
              0.5555555555555556,
              "#d8576b"
             ],
             [
              0.6666666666666666,
              "#ed7953"
             ],
             [
              0.7777777777777778,
              "#fb9f3a"
             ],
             [
              0.8888888888888888,
              "#fdca26"
             ],
             [
              1,
              "#f0f921"
             ]
            ],
            "type": "heatmap"
           }
          ],
          "heatmapgl": [
           {
            "colorbar": {
             "outlinewidth": 0,
             "ticks": ""
            },
            "colorscale": [
             [
              0,
              "#0d0887"
             ],
             [
              0.1111111111111111,
              "#46039f"
             ],
             [
              0.2222222222222222,
              "#7201a8"
             ],
             [
              0.3333333333333333,
              "#9c179e"
             ],
             [
              0.4444444444444444,
              "#bd3786"
             ],
             [
              0.5555555555555556,
              "#d8576b"
             ],
             [
              0.6666666666666666,
              "#ed7953"
             ],
             [
              0.7777777777777778,
              "#fb9f3a"
             ],
             [
              0.8888888888888888,
              "#fdca26"
             ],
             [
              1,
              "#f0f921"
             ]
            ],
            "type": "heatmapgl"
           }
          ],
          "histogram": [
           {
            "marker": {
             "colorbar": {
              "outlinewidth": 0,
              "ticks": ""
             }
            },
            "type": "histogram"
           }
          ],
          "histogram2d": [
           {
            "colorbar": {
             "outlinewidth": 0,
             "ticks": ""
            },
            "colorscale": [
             [
              0,
              "#0d0887"
             ],
             [
              0.1111111111111111,
              "#46039f"
             ],
             [
              0.2222222222222222,
              "#7201a8"
             ],
             [
              0.3333333333333333,
              "#9c179e"
             ],
             [
              0.4444444444444444,
              "#bd3786"
             ],
             [
              0.5555555555555556,
              "#d8576b"
             ],
             [
              0.6666666666666666,
              "#ed7953"
             ],
             [
              0.7777777777777778,
              "#fb9f3a"
             ],
             [
              0.8888888888888888,
              "#fdca26"
             ],
             [
              1,
              "#f0f921"
             ]
            ],
            "type": "histogram2d"
           }
          ],
          "histogram2dcontour": [
           {
            "colorbar": {
             "outlinewidth": 0,
             "ticks": ""
            },
            "colorscale": [
             [
              0,
              "#0d0887"
             ],
             [
              0.1111111111111111,
              "#46039f"
             ],
             [
              0.2222222222222222,
              "#7201a8"
             ],
             [
              0.3333333333333333,
              "#9c179e"
             ],
             [
              0.4444444444444444,
              "#bd3786"
             ],
             [
              0.5555555555555556,
              "#d8576b"
             ],
             [
              0.6666666666666666,
              "#ed7953"
             ],
             [
              0.7777777777777778,
              "#fb9f3a"
             ],
             [
              0.8888888888888888,
              "#fdca26"
             ],
             [
              1,
              "#f0f921"
             ]
            ],
            "type": "histogram2dcontour"
           }
          ],
          "mesh3d": [
           {
            "colorbar": {
             "outlinewidth": 0,
             "ticks": ""
            },
            "type": "mesh3d"
           }
          ],
          "parcoords": [
           {
            "line": {
             "colorbar": {
              "outlinewidth": 0,
              "ticks": ""
             }
            },
            "type": "parcoords"
           }
          ],
          "pie": [
           {
            "automargin": true,
            "type": "pie"
           }
          ],
          "scatter": [
           {
            "marker": {
             "colorbar": {
              "outlinewidth": 0,
              "ticks": ""
             }
            },
            "type": "scatter"
           }
          ],
          "scatter3d": [
           {
            "line": {
             "colorbar": {
              "outlinewidth": 0,
              "ticks": ""
             }
            },
            "marker": {
             "colorbar": {
              "outlinewidth": 0,
              "ticks": ""
             }
            },
            "type": "scatter3d"
           }
          ],
          "scattercarpet": [
           {
            "marker": {
             "colorbar": {
              "outlinewidth": 0,
              "ticks": ""
             }
            },
            "type": "scattercarpet"
           }
          ],
          "scattergeo": [
           {
            "marker": {
             "colorbar": {
              "outlinewidth": 0,
              "ticks": ""
             }
            },
            "type": "scattergeo"
           }
          ],
          "scattergl": [
           {
            "marker": {
             "colorbar": {
              "outlinewidth": 0,
              "ticks": ""
             }
            },
            "type": "scattergl"
           }
          ],
          "scattermapbox": [
           {
            "marker": {
             "colorbar": {
              "outlinewidth": 0,
              "ticks": ""
             }
            },
            "type": "scattermapbox"
           }
          ],
          "scatterpolar": [
           {
            "marker": {
             "colorbar": {
              "outlinewidth": 0,
              "ticks": ""
             }
            },
            "type": "scatterpolar"
           }
          ],
          "scatterpolargl": [
           {
            "marker": {
             "colorbar": {
              "outlinewidth": 0,
              "ticks": ""
             }
            },
            "type": "scatterpolargl"
           }
          ],
          "scatterternary": [
           {
            "marker": {
             "colorbar": {
              "outlinewidth": 0,
              "ticks": ""
             }
            },
            "type": "scatterternary"
           }
          ],
          "surface": [
           {
            "colorbar": {
             "outlinewidth": 0,
             "ticks": ""
            },
            "colorscale": [
             [
              0,
              "#0d0887"
             ],
             [
              0.1111111111111111,
              "#46039f"
             ],
             [
              0.2222222222222222,
              "#7201a8"
             ],
             [
              0.3333333333333333,
              "#9c179e"
             ],
             [
              0.4444444444444444,
              "#bd3786"
             ],
             [
              0.5555555555555556,
              "#d8576b"
             ],
             [
              0.6666666666666666,
              "#ed7953"
             ],
             [
              0.7777777777777778,
              "#fb9f3a"
             ],
             [
              0.8888888888888888,
              "#fdca26"
             ],
             [
              1,
              "#f0f921"
             ]
            ],
            "type": "surface"
           }
          ],
          "table": [
           {
            "cells": {
             "fill": {
              "color": "#EBF0F8"
             },
             "line": {
              "color": "white"
             }
            },
            "header": {
             "fill": {
              "color": "#C8D4E3"
             },
             "line": {
              "color": "white"
             }
            },
            "type": "table"
           }
          ]
         },
         "layout": {
          "annotationdefaults": {
           "arrowcolor": "#2a3f5f",
           "arrowhead": 0,
           "arrowwidth": 1
          },
          "coloraxis": {
           "colorbar": {
            "outlinewidth": 0,
            "ticks": ""
           }
          },
          "colorscale": {
           "diverging": [
            [
             0,
             "#8e0152"
            ],
            [
             0.1,
             "#c51b7d"
            ],
            [
             0.2,
             "#de77ae"
            ],
            [
             0.3,
             "#f1b6da"
            ],
            [
             0.4,
             "#fde0ef"
            ],
            [
             0.5,
             "#f7f7f7"
            ],
            [
             0.6,
             "#e6f5d0"
            ],
            [
             0.7,
             "#b8e186"
            ],
            [
             0.8,
             "#7fbc41"
            ],
            [
             0.9,
             "#4d9221"
            ],
            [
             1,
             "#276419"
            ]
           ],
           "sequential": [
            [
             0,
             "#0d0887"
            ],
            [
             0.1111111111111111,
             "#46039f"
            ],
            [
             0.2222222222222222,
             "#7201a8"
            ],
            [
             0.3333333333333333,
             "#9c179e"
            ],
            [
             0.4444444444444444,
             "#bd3786"
            ],
            [
             0.5555555555555556,
             "#d8576b"
            ],
            [
             0.6666666666666666,
             "#ed7953"
            ],
            [
             0.7777777777777778,
             "#fb9f3a"
            ],
            [
             0.8888888888888888,
             "#fdca26"
            ],
            [
             1,
             "#f0f921"
            ]
           ],
           "sequentialminus": [
            [
             0,
             "#0d0887"
            ],
            [
             0.1111111111111111,
             "#46039f"
            ],
            [
             0.2222222222222222,
             "#7201a8"
            ],
            [
             0.3333333333333333,
             "#9c179e"
            ],
            [
             0.4444444444444444,
             "#bd3786"
            ],
            [
             0.5555555555555556,
             "#d8576b"
            ],
            [
             0.6666666666666666,
             "#ed7953"
            ],
            [
             0.7777777777777778,
             "#fb9f3a"
            ],
            [
             0.8888888888888888,
             "#fdca26"
            ],
            [
             1,
             "#f0f921"
            ]
           ]
          },
          "colorway": [
           "#636efa",
           "#EF553B",
           "#00cc96",
           "#ab63fa",
           "#FFA15A",
           "#19d3f3",
           "#FF6692",
           "#B6E880",
           "#FF97FF",
           "#FECB52"
          ],
          "font": {
           "color": "#2a3f5f"
          },
          "geo": {
           "bgcolor": "white",
           "lakecolor": "white",
           "landcolor": "#E5ECF6",
           "showlakes": true,
           "showland": true,
           "subunitcolor": "white"
          },
          "hoverlabel": {
           "align": "left"
          },
          "hovermode": "closest",
          "mapbox": {
           "style": "light"
          },
          "paper_bgcolor": "white",
          "plot_bgcolor": "#E5ECF6",
          "polar": {
           "angularaxis": {
            "gridcolor": "white",
            "linecolor": "white",
            "ticks": ""
           },
           "bgcolor": "#E5ECF6",
           "radialaxis": {
            "gridcolor": "white",
            "linecolor": "white",
            "ticks": ""
           }
          },
          "scene": {
           "xaxis": {
            "backgroundcolor": "#E5ECF6",
            "gridcolor": "white",
            "gridwidth": 2,
            "linecolor": "white",
            "showbackground": true,
            "ticks": "",
            "zerolinecolor": "white"
           },
           "yaxis": {
            "backgroundcolor": "#E5ECF6",
            "gridcolor": "white",
            "gridwidth": 2,
            "linecolor": "white",
            "showbackground": true,
            "ticks": "",
            "zerolinecolor": "white"
           },
           "zaxis": {
            "backgroundcolor": "#E5ECF6",
            "gridcolor": "white",
            "gridwidth": 2,
            "linecolor": "white",
            "showbackground": true,
            "ticks": "",
            "zerolinecolor": "white"
           }
          },
          "shapedefaults": {
           "line": {
            "color": "#2a3f5f"
           }
          },
          "ternary": {
           "aaxis": {
            "gridcolor": "white",
            "linecolor": "white",
            "ticks": ""
           },
           "baxis": {
            "gridcolor": "white",
            "linecolor": "white",
            "ticks": ""
           },
           "bgcolor": "#E5ECF6",
           "caxis": {
            "gridcolor": "white",
            "linecolor": "white",
            "ticks": ""
           }
          },
          "title": {
           "x": 0.05
          },
          "xaxis": {
           "automargin": true,
           "gridcolor": "white",
           "linecolor": "white",
           "ticks": "",
           "title": {
            "standoff": 15
           },
           "zerolinecolor": "white",
           "zerolinewidth": 2
          },
          "yaxis": {
           "automargin": true,
           "gridcolor": "white",
           "linecolor": "white",
           "ticks": "",
           "title": {
            "standoff": 15
           },
           "zerolinecolor": "white",
           "zerolinewidth": 2
          }
         }
        },
        "xaxis": {
         "anchor": "y",
         "domain": [
          0,
          0.45
         ]
        },
        "xaxis2": {
         "anchor": "y2",
         "domain": [
          0.55,
          1
         ]
        },
        "yaxis": {
         "anchor": "x",
         "domain": [
          0,
          1
         ]
        },
        "yaxis2": {
         "anchor": "x2",
         "domain": [
          0,
          1
         ]
        }
       }
      }
     },
     "metadata": {}
    }
   ],
   "source": [
    "x, sin_data, sqr_data = data_gen(0, 2*np.pi)\n",
    "t_x, t_sin_data, t_sqr_data = data_gen(0.05, 2*np.pi)\n",
    "\n",
    "epochs = 100\n",
    "n = 10\n",
    "\n",
    "fig = make_subplots(rows=1, cols=2, subplot_titles=(\"Validation\", \"Residual error\"))\n",
    "\n",
    "\n",
    "fig.add_trace(go.Scatter(x=t_x.ravel(), y=sin_data.ravel(), mode=\"lines\", name=\"Original\"), row=1, col=1)\n",
    "\n",
    "# Non-CL\n",
    "RBFNet = RBF_Network(n, x, eta=1e-1, useDelta=True)\n",
    "RBFNet.train_network(epochs, x, sin_data, t_x, t_sin_data)\n",
    "RBFNet.validate(t_x, t_sin_data)\n",
    "\n",
    "fig.add_trace(go.Scatter(x=np.arange(len(RBFNet.residual_error)), y=RBFNet.residual_error, mode=\"lines\", name=\"Error Without CL\"), row=1, col=2)\n",
    "fig.add_trace(go.Scatter(x=t_x.ravel(), y=RBFNet.f_of_x.ravel(), mode=\"lines\", name=\"Prediction Without CL\"), row=1, col=1)\n",
    "\n",
    "# Using CL\n",
    "RBFNet_cl = RBF_Network(n, x, eta=1e-1,useDelta=True)\n",
    "RBFNet_cl.init_cl(x, 100, 1e-1)\n",
    "RBFNet_cl.train_network(epochs, x, sin_data, t_x, t_sin_data)\n",
    "RBFNet_cl.validate(t_x, t_sin_data)\n",
    "\n",
    "fig.add_trace(go.Scatter(x=np.arange(len(RBFNet_cl.residual_error)), y=RBFNet_cl.residual_error, mode=\"lines\", name=\"Error With CL\"), row=1, col=2)\n",
    "fig.add_trace(go.Scatter(x=t_x.ravel(), y=RBFNet_cl.f_of_x.ravel(), mode=\"lines\", name=\"Prediction With CL\"), row=1, col=1)\n",
    "\n",
    "fig.show()\n",
    "\n",
    "\n"
   ]
  },
  {
   "source": [
    "N=10, With noise"
   ],
   "cell_type": "markdown",
   "metadata": {}
  },
  {
   "cell_type": "code",
   "execution_count": 249,
   "metadata": {},
   "outputs": [
    {
     "output_type": "display_data",
     "data": {
      "application/vnd.plotly.v1+json": {
       "config": {
        "plotlyServerURL": "https://plot.ly"
       },
       "data": [
        {
         "mode": "lines",
         "name": "Original",
         "type": "scatter",
         "x": [
          0.05,
          0.15000000000000002,
          0.25000000000000006,
          0.35000000000000003,
          0.45000000000000007,
          0.5500000000000002,
          0.6500000000000001,
          0.7500000000000002,
          0.8500000000000002,
          0.9500000000000002,
          1.0500000000000003,
          1.1500000000000004,
          1.2500000000000002,
          1.3500000000000003,
          1.4500000000000004,
          1.5500000000000003,
          1.6500000000000004,
          1.7500000000000004,
          1.8500000000000003,
          1.9500000000000004,
          2.0500000000000003,
          2.1500000000000004,
          2.2500000000000004,
          2.35,
          2.45,
          2.5500000000000003,
          2.6500000000000004,
          2.7500000000000004,
          2.8500000000000005,
          2.95,
          3.0500000000000003,
          3.1500000000000004,
          3.2500000000000004,
          3.3500000000000005,
          3.4500000000000006,
          3.5500000000000007,
          3.6500000000000004,
          3.7500000000000004,
          3.8500000000000005,
          3.9500000000000006,
          4.050000000000001,
          4.15,
          4.250000000000001,
          4.3500000000000005,
          4.450000000000001,
          4.550000000000001,
          4.65,
          4.750000000000001,
          4.8500000000000005,
          4.950000000000001,
          5.050000000000001,
          5.150000000000001,
          5.250000000000001,
          5.3500000000000005,
          5.450000000000001,
          5.550000000000001,
          5.650000000000001,
          5.750000000000001,
          5.8500000000000005,
          5.950000000000001,
          6.050000000000001,
          6.150000000000001,
          6.250000000000001
         ],
         "xaxis": "x",
         "y": [
          0,
          0.19866933079506122,
          0.3894183423086505,
          0.5646424733950355,
          0.7173560908995228,
          0.8414709848078965,
          0.9320390859672264,
          0.9854497299884603,
          0.9995736030415051,
          0.9738476308781951,
          0.9092974268256817,
          0.8084964038195901,
          0.6754631805511506,
          0.5155013718214642,
          0.33498815015590466,
          0.1411200080598672,
          -0.058374143427580086,
          -0.25554110202683167,
          -0.44252044329485246,
          -0.6118578909427193,
          -0.7568024953079282,
          -0.8715757724135882,
          -0.951602073889516,
          -0.9936910036334645,
          -0.9961646088358406,
          -0.9589242746631385,
          -0.8834546557201531,
          -0.7727644875559871,
          -0.6312666378723208,
          -0.4646021794137566,
          -0.27941549819892586,
          -0.0830894028174964,
          0.11654920485049364,
          0.3115413635133787,
          0.49411335113860894,
          0.6569865987187891,
          0.7936678638491531,
          0.8987080958116269,
          0.9679196720314865,
          0.998543345374605,
          0.9893582466233818,
          0.9407305566797726,
          0.8545989080882804,
          0.7343970978741133,
          0.5849171928917617,
          0.4121184852417566,
          0.22288991410024592,
          0.024775425453357765,
          -0.1743267812229814,
          -0.3664791292519284,
          -0.5440211108893698,
          -0.6998746875935437,
          -0.8278264690856537,
          -0.9227754216128073,
          -0.9809362300664916,
          -0.9999902065507035,
          -0.979177729151317,
          -0.9193285256646757,
          -0.8228285949687079,
          -0.6935250847771224,
          -0.5365729180004349,
          -0.35822928223682704,
          -0.1656041754483094
         ],
         "yaxis": "y"
        },
        {
         "mode": "lines",
         "name": "Error Without CL",
         "type": "scatter",
         "x": [
          0,
          1,
          2,
          3,
          4,
          5,
          6,
          7,
          8,
          9,
          10,
          11,
          12,
          13,
          14,
          15,
          16,
          17,
          18,
          19,
          20,
          21,
          22,
          23,
          24,
          25,
          26,
          27,
          28,
          29,
          30,
          31,
          32,
          33,
          34,
          35,
          36,
          37,
          38,
          39,
          40,
          41,
          42,
          43,
          44,
          45,
          46,
          47,
          48,
          49,
          50,
          51,
          52,
          53,
          54,
          55,
          56,
          57,
          58,
          59,
          60,
          61,
          62,
          63,
          64,
          65,
          66,
          67,
          68,
          69,
          70,
          71,
          72,
          73,
          74,
          75,
          76,
          77,
          78,
          79,
          80,
          81,
          82,
          83,
          84,
          85,
          86,
          87,
          88,
          89,
          90,
          91,
          92,
          93,
          94,
          95,
          96,
          97,
          98,
          99
         ],
         "xaxis": "x2",
         "y": [
          0.37672142080807414,
          0.397835936951699,
          0.374578555060571,
          0.36247068370217667,
          0.33787672941191516,
          0.3074790496634503,
          0.33641823538405247,
          0.31060182015815957,
          0.3285819032485693,
          0.3203428768987385,
          0.29701185225316706,
          0.2922073621659348,
          0.29663209933417667,
          0.3000675174022981,
          0.2908588291987197,
          0.306769952462137,
          0.28647598754382253,
          0.290639406369418,
          0.2645232978466036,
          0.28617936626200996,
          0.2753640047463453,
          0.2613664773649052,
          0.25783487545870265,
          0.264057991698588,
          0.25664422132417025,
          0.2402629569012792,
          0.27508233103558427,
          0.23312267461058125,
          0.22845895503873923,
          0.23211839242200294,
          0.23879539185820384,
          0.2344394974703094,
          0.22925503977315065,
          0.22508745130551122,
          0.23440985418093346,
          0.2442573262818669,
          0.23132264997884633,
          0.24691441961552216,
          0.192814786540946,
          0.23099574250126986,
          0.2196638246145544,
          0.20172871777638968,
          0.20173799187861594,
          0.21020599551955485,
          0.20548636421559122,
          0.2035784675441852,
          0.21457602151820662,
          0.21354181032112823,
          0.2123357056177826,
          0.2204112724585003,
          0.1858320555522896,
          0.18143975378484897,
          0.1840465541832299,
          0.21087883030558155,
          0.1744080750999199,
          0.2015810064028385,
          0.18421630018534055,
          0.18956521917458635,
          0.17942273509804035,
          0.18099966049745891,
          0.19482628729247498,
          0.16757552860308256,
          0.1454818514662481,
          0.18369995265691724,
          0.17919610756849177,
          0.1897925303188127,
          0.16580420232144608,
          0.1677913858271487,
          0.16603262735981958,
          0.1647409647818233,
          0.16863186824041315,
          0.17839671783246336,
          0.14511857543879428,
          0.14448195832760047,
          0.15674795661749244,
          0.17007080250603002,
          0.14581803968120738,
          0.12890206846042346,
          0.16339437674475601,
          0.1514650761577824,
          0.1330150747942854,
          0.16199113573550014,
          0.15277933729088636,
          0.15837175010149085,
          0.1605940073831113,
          0.1545116431761532,
          0.1495466932153871,
          0.13233611872608825,
          0.1568648292339933,
          0.1536361739015309,
          0.13585080271885183,
          0.1281827408553261,
          0.1444700511378721,
          0.15480007284099653,
          0.1312728086371457,
          0.13824028471488584,
          0.1309367134201844,
          0.13703672062696529,
          0.13738259056299676,
          0.12108549950483403
         ],
         "yaxis": "y2"
        },
        {
         "mode": "lines",
         "name": "Prediction Without CL",
         "type": "scatter",
         "x": [
          0.05,
          0.15000000000000002,
          0.25000000000000006,
          0.35000000000000003,
          0.45000000000000007,
          0.5500000000000002,
          0.6500000000000001,
          0.7500000000000002,
          0.8500000000000002,
          0.9500000000000002,
          1.0500000000000003,
          1.1500000000000004,
          1.2500000000000002,
          1.3500000000000003,
          1.4500000000000004,
          1.5500000000000003,
          1.6500000000000004,
          1.7500000000000004,
          1.8500000000000003,
          1.9500000000000004,
          2.0500000000000003,
          2.1500000000000004,
          2.2500000000000004,
          2.35,
          2.45,
          2.5500000000000003,
          2.6500000000000004,
          2.7500000000000004,
          2.8500000000000005,
          2.95,
          3.0500000000000003,
          3.1500000000000004,
          3.2500000000000004,
          3.3500000000000005,
          3.4500000000000006,
          3.5500000000000007,
          3.6500000000000004,
          3.7500000000000004,
          3.8500000000000005,
          3.9500000000000006,
          4.050000000000001,
          4.15,
          4.250000000000001,
          4.3500000000000005,
          4.450000000000001,
          4.550000000000001,
          4.65,
          4.750000000000001,
          4.8500000000000005,
          4.950000000000001,
          5.050000000000001,
          5.150000000000001,
          5.250000000000001,
          5.3500000000000005,
          5.450000000000001,
          5.550000000000001,
          5.650000000000001,
          5.750000000000001,
          5.8500000000000005,
          5.950000000000001,
          6.050000000000001,
          6.150000000000001,
          6.250000000000001
         ],
         "xaxis": "x",
         "y": [
          1.0468578915940228,
          1.1211394588074237,
          1.182555019901072,
          1.2275799664589542,
          1.2528935946335291,
          1.2555636667187944,
          1.2332329356016793,
          1.1842970074196222,
          1.1080623252458457,
          1.0048731126932868,
          0.8761968695250532,
          0.7246594748308187,
          0.5540231029648345,
          0.36910293000101696,
          0.17562189948690604,
          -0.019993521721219022,
          -0.21086982468836232,
          -0.38998461325469386,
          -0.550492394448118,
          -0.6860610909966514,
          -0.7912003673003195,
          -0.8615619967851389,
          -0.8941929580964721,
          -0.8877238303147938,
          -0.8424783467644889,
          -0.760494513989409,
          -0.6454532239967266,
          -0.5025163820933419,
          -0.33808275131479065,
          -0.15947544970194297,
          0.025420182943641248,
          0.20854624360389232,
          0.3820656580606534,
          0.538735674980926,
          0.6722397992524792,
          0.7774600598836059,
          0.8506762840065047,
          0.8896845645450091,
          0.8938328383084624,
          0.8639769213554318,
          0.8023650392833545,
          0.7124625187242729,
          0.5987306936771752,
          0.46637519660112675,
          0.3210787540109811,
          0.16873259709364583,
          0.015178897955711786,
          -0.13402546421462108,
          -0.2738157562552654,
          -0.3997910097058248,
          -0.5083465613929662,
          -0.5967654393390858,
          -0.6632680490373719,
          -0.7070209611377565,
          -0.7281068281528744,
          -0.727458622204931,
          -0.7067625165720016,
          -0.6683348194006928,
          -0.6149793561760546,
          -0.5498325042150946,
          -0.4762036078824753,
          -0.3974186525550742,
          -0.316674778882783
         ],
         "yaxis": "y"
        },
        {
         "mode": "lines",
         "name": "Error With CL",
         "type": "scatter",
         "x": [
          0,
          1,
          2,
          3,
          4,
          5,
          6,
          7,
          8,
          9,
          10,
          11,
          12,
          13,
          14,
          15,
          16,
          17,
          18,
          19,
          20,
          21,
          22,
          23,
          24,
          25,
          26,
          27,
          28,
          29,
          30,
          31,
          32,
          33,
          34,
          35,
          36,
          37,
          38,
          39,
          40,
          41,
          42,
          43,
          44,
          45,
          46,
          47,
          48,
          49,
          50,
          51,
          52,
          53,
          54,
          55,
          56,
          57,
          58,
          59,
          60,
          61,
          62,
          63,
          64,
          65,
          66,
          67,
          68,
          69,
          70,
          71,
          72,
          73,
          74,
          75,
          76,
          77,
          78,
          79,
          80,
          81,
          82,
          83,
          84,
          85,
          86,
          87,
          88,
          89,
          90,
          91,
          92,
          93,
          94,
          95,
          96,
          97,
          98,
          99
         ],
         "xaxis": "x2",
         "y": [
          0.37109700392593326,
          0.31468845748181784,
          0.28990863925132,
          0.2719502918815635,
          0.22361410664192755,
          0.26107889354019537,
          0.23460588364969434,
          0.21281654740634792,
          0.21499943943421304,
          0.20360068519399926,
          0.20804245996583226,
          0.20227282914170858,
          0.2053219920182041,
          0.20305367616211858,
          0.19288834328185522,
          0.22084744763059846,
          0.22446852133779302,
          0.19682465915838057,
          0.19114441022784115,
          0.1904637377570644,
          0.16868335786967623,
          0.15853660302612865,
          0.16711210938384397,
          0.1590708355446599,
          0.15398427369412912,
          0.1805780215269166,
          0.15320875070565082,
          0.1645467993767165,
          0.1513392062475264,
          0.15264562470468893,
          0.14378950543602345,
          0.13654507363959992,
          0.14327524955406995,
          0.14160616358388176,
          0.170988825443441,
          0.12426262155915868,
          0.16362091148614974,
          0.13401086100772616,
          0.13458101861864236,
          0.11439191495373471,
          0.13576423737574206,
          0.12250843963178219,
          0.11777368973601436,
          0.1245843634893438,
          0.12514276336370966,
          0.12195517267607758,
          0.12783476122462595,
          0.14878135538191814,
          0.13165253374633681,
          0.14100869172856684,
          0.13420388274464226,
          0.13256055273114947,
          0.1344661485267626,
          0.10883039228891014,
          0.13877156120112114,
          0.12487141713095448,
          0.08968617514631613,
          0.11717084753276068,
          0.09177524027876624,
          0.1268618391246646,
          0.10517815787721381,
          0.13723459908831404,
          0.10501348672608367,
          0.10357976361763936,
          0.10791548314541492,
          0.12551683233225294,
          0.10698376504081909,
          0.11543720178693288,
          0.10369965936581331,
          0.1183344528275003,
          0.09970984676654927,
          0.11697832384970118,
          0.1261619850082069,
          0.11282208701560947,
          0.11811791511801661,
          0.09176986252719364,
          0.11697618518084903,
          0.09123260923846659,
          0.10251443453197971,
          0.10142727935269027,
          0.11324318351736763,
          0.1193375805091078,
          0.10811043650755077,
          0.09288696978542324,
          0.10490518675342692,
          0.09318708446904826,
          0.09551646158272217,
          0.12119188149395616,
          0.10281072861289413,
          0.08184861834093005,
          0.10629233900099054,
          0.10135947640748419,
          0.09460168039880461,
          0.09374168911578819,
          0.10096803991337093,
          0.09884774895183117,
          0.09393774938562292,
          0.10001654822296842,
          0.08883202073896133,
          0.09901604667352497
         ],
         "yaxis": "y2"
        },
        {
         "mode": "lines",
         "name": "Prediction With CL",
         "type": "scatter",
         "x": [
          0.05,
          0.15000000000000002,
          0.25000000000000006,
          0.35000000000000003,
          0.45000000000000007,
          0.5500000000000002,
          0.6500000000000001,
          0.7500000000000002,
          0.8500000000000002,
          0.9500000000000002,
          1.0500000000000003,
          1.1500000000000004,
          1.2500000000000002,
          1.3500000000000003,
          1.4500000000000004,
          1.5500000000000003,
          1.6500000000000004,
          1.7500000000000004,
          1.8500000000000003,
          1.9500000000000004,
          2.0500000000000003,
          2.1500000000000004,
          2.2500000000000004,
          2.35,
          2.45,
          2.5500000000000003,
          2.6500000000000004,
          2.7500000000000004,
          2.8500000000000005,
          2.95,
          3.0500000000000003,
          3.1500000000000004,
          3.2500000000000004,
          3.3500000000000005,
          3.4500000000000006,
          3.5500000000000007,
          3.6500000000000004,
          3.7500000000000004,
          3.8500000000000005,
          3.9500000000000006,
          4.050000000000001,
          4.15,
          4.250000000000001,
          4.3500000000000005,
          4.450000000000001,
          4.550000000000001,
          4.65,
          4.750000000000001,
          4.8500000000000005,
          4.950000000000001,
          5.050000000000001,
          5.150000000000001,
          5.250000000000001,
          5.3500000000000005,
          5.450000000000001,
          5.550000000000001,
          5.650000000000001,
          5.750000000000001,
          5.8500000000000005,
          5.950000000000001,
          6.050000000000001,
          6.150000000000001,
          6.250000000000001
         ],
         "xaxis": "x",
         "y": [
          0.29177129264995766,
          0.42131879940178174,
          0.547753384133592,
          0.6653866380708071,
          0.7683803098421197,
          0.851056268362853,
          0.9082253360065572,
          0.9355145747379502,
          0.929671249531708,
          0.888821943590042,
          0.8126672106535922,
          0.7025956270375583,
          0.5617059164228901,
          0.39473161183016753,
          0.20786905367536226,
          0.008515917284717274,
          -0.19506656632133987,
          -0.39414942843143425,
          -0.5799676771095055,
          -0.7441633781211868,
          -0.8792148055951593,
          -0.9788272276164514,
          -1.0382632714305746,
          -1.0545944977240738,
          -1.0268605147647802,
          -0.9561273442183266,
          -0.845442455385475,
          -0.6996895652927697,
          -0.5253516401799935,
          -0.33019525708706104,
          -0.12289337581559352,
          0.08739352554574488,
          0.29145618260900336,
          0.480472690959263,
          0.646420056423988,
          0.7824406624742406,
          0.8831456871675035,
          0.944840897725548,
          0.9656643701914923,
          0.9456303393500791,
          0.8865783636772294,
          0.7920320469466575,
          0.6669764263177189,
          0.5175675399004677,
          0.3507913537176457,
          0.17409191203841642,
          -0.005009923994495104,
          -0.17928559887202358,
          -0.3421354709430885,
          -0.48787501315905374,
          -0.6119563455268769,
          -0.7111153674001307,
          -0.7834398501463751,
          -0.8283591210080545,
          -0.8465610131972959,
          -0.8398461909100353,
          -0.8109334527756198,
          -0.763231932890277,
          -0.7005971248283418,
          -0.6270873412488198,
          -0.5467356980081407,
          -0.4633501873884313,
          -0.3803511667692255
         ],
         "yaxis": "y"
        }
       ],
       "layout": {
        "annotations": [
         {
          "font": {
           "size": 16
          },
          "showarrow": false,
          "text": "Validation",
          "x": 0.225,
          "xanchor": "center",
          "xref": "paper",
          "y": 1,
          "yanchor": "bottom",
          "yref": "paper"
         },
         {
          "font": {
           "size": 16
          },
          "showarrow": false,
          "text": "Residual error",
          "x": 0.775,
          "xanchor": "center",
          "xref": "paper",
          "y": 1,
          "yanchor": "bottom",
          "yref": "paper"
         }
        ],
        "template": {
         "data": {
          "bar": [
           {
            "error_x": {
             "color": "#2a3f5f"
            },
            "error_y": {
             "color": "#2a3f5f"
            },
            "marker": {
             "line": {
              "color": "#E5ECF6",
              "width": 0.5
             }
            },
            "type": "bar"
           }
          ],
          "barpolar": [
           {
            "marker": {
             "line": {
              "color": "#E5ECF6",
              "width": 0.5
             }
            },
            "type": "barpolar"
           }
          ],
          "carpet": [
           {
            "aaxis": {
             "endlinecolor": "#2a3f5f",
             "gridcolor": "white",
             "linecolor": "white",
             "minorgridcolor": "white",
             "startlinecolor": "#2a3f5f"
            },
            "baxis": {
             "endlinecolor": "#2a3f5f",
             "gridcolor": "white",
             "linecolor": "white",
             "minorgridcolor": "white",
             "startlinecolor": "#2a3f5f"
            },
            "type": "carpet"
           }
          ],
          "choropleth": [
           {
            "colorbar": {
             "outlinewidth": 0,
             "ticks": ""
            },
            "type": "choropleth"
           }
          ],
          "contour": [
           {
            "colorbar": {
             "outlinewidth": 0,
             "ticks": ""
            },
            "colorscale": [
             [
              0,
              "#0d0887"
             ],
             [
              0.1111111111111111,
              "#46039f"
             ],
             [
              0.2222222222222222,
              "#7201a8"
             ],
             [
              0.3333333333333333,
              "#9c179e"
             ],
             [
              0.4444444444444444,
              "#bd3786"
             ],
             [
              0.5555555555555556,
              "#d8576b"
             ],
             [
              0.6666666666666666,
              "#ed7953"
             ],
             [
              0.7777777777777778,
              "#fb9f3a"
             ],
             [
              0.8888888888888888,
              "#fdca26"
             ],
             [
              1,
              "#f0f921"
             ]
            ],
            "type": "contour"
           }
          ],
          "contourcarpet": [
           {
            "colorbar": {
             "outlinewidth": 0,
             "ticks": ""
            },
            "type": "contourcarpet"
           }
          ],
          "heatmap": [
           {
            "colorbar": {
             "outlinewidth": 0,
             "ticks": ""
            },
            "colorscale": [
             [
              0,
              "#0d0887"
             ],
             [
              0.1111111111111111,
              "#46039f"
             ],
             [
              0.2222222222222222,
              "#7201a8"
             ],
             [
              0.3333333333333333,
              "#9c179e"
             ],
             [
              0.4444444444444444,
              "#bd3786"
             ],
             [
              0.5555555555555556,
              "#d8576b"
             ],
             [
              0.6666666666666666,
              "#ed7953"
             ],
             [
              0.7777777777777778,
              "#fb9f3a"
             ],
             [
              0.8888888888888888,
              "#fdca26"
             ],
             [
              1,
              "#f0f921"
             ]
            ],
            "type": "heatmap"
           }
          ],
          "heatmapgl": [
           {
            "colorbar": {
             "outlinewidth": 0,
             "ticks": ""
            },
            "colorscale": [
             [
              0,
              "#0d0887"
             ],
             [
              0.1111111111111111,
              "#46039f"
             ],
             [
              0.2222222222222222,
              "#7201a8"
             ],
             [
              0.3333333333333333,
              "#9c179e"
             ],
             [
              0.4444444444444444,
              "#bd3786"
             ],
             [
              0.5555555555555556,
              "#d8576b"
             ],
             [
              0.6666666666666666,
              "#ed7953"
             ],
             [
              0.7777777777777778,
              "#fb9f3a"
             ],
             [
              0.8888888888888888,
              "#fdca26"
             ],
             [
              1,
              "#f0f921"
             ]
            ],
            "type": "heatmapgl"
           }
          ],
          "histogram": [
           {
            "marker": {
             "colorbar": {
              "outlinewidth": 0,
              "ticks": ""
             }
            },
            "type": "histogram"
           }
          ],
          "histogram2d": [
           {
            "colorbar": {
             "outlinewidth": 0,
             "ticks": ""
            },
            "colorscale": [
             [
              0,
              "#0d0887"
             ],
             [
              0.1111111111111111,
              "#46039f"
             ],
             [
              0.2222222222222222,
              "#7201a8"
             ],
             [
              0.3333333333333333,
              "#9c179e"
             ],
             [
              0.4444444444444444,
              "#bd3786"
             ],
             [
              0.5555555555555556,
              "#d8576b"
             ],
             [
              0.6666666666666666,
              "#ed7953"
             ],
             [
              0.7777777777777778,
              "#fb9f3a"
             ],
             [
              0.8888888888888888,
              "#fdca26"
             ],
             [
              1,
              "#f0f921"
             ]
            ],
            "type": "histogram2d"
           }
          ],
          "histogram2dcontour": [
           {
            "colorbar": {
             "outlinewidth": 0,
             "ticks": ""
            },
            "colorscale": [
             [
              0,
              "#0d0887"
             ],
             [
              0.1111111111111111,
              "#46039f"
             ],
             [
              0.2222222222222222,
              "#7201a8"
             ],
             [
              0.3333333333333333,
              "#9c179e"
             ],
             [
              0.4444444444444444,
              "#bd3786"
             ],
             [
              0.5555555555555556,
              "#d8576b"
             ],
             [
              0.6666666666666666,
              "#ed7953"
             ],
             [
              0.7777777777777778,
              "#fb9f3a"
             ],
             [
              0.8888888888888888,
              "#fdca26"
             ],
             [
              1,
              "#f0f921"
             ]
            ],
            "type": "histogram2dcontour"
           }
          ],
          "mesh3d": [
           {
            "colorbar": {
             "outlinewidth": 0,
             "ticks": ""
            },
            "type": "mesh3d"
           }
          ],
          "parcoords": [
           {
            "line": {
             "colorbar": {
              "outlinewidth": 0,
              "ticks": ""
             }
            },
            "type": "parcoords"
           }
          ],
          "pie": [
           {
            "automargin": true,
            "type": "pie"
           }
          ],
          "scatter": [
           {
            "marker": {
             "colorbar": {
              "outlinewidth": 0,
              "ticks": ""
             }
            },
            "type": "scatter"
           }
          ],
          "scatter3d": [
           {
            "line": {
             "colorbar": {
              "outlinewidth": 0,
              "ticks": ""
             }
            },
            "marker": {
             "colorbar": {
              "outlinewidth": 0,
              "ticks": ""
             }
            },
            "type": "scatter3d"
           }
          ],
          "scattercarpet": [
           {
            "marker": {
             "colorbar": {
              "outlinewidth": 0,
              "ticks": ""
             }
            },
            "type": "scattercarpet"
           }
          ],
          "scattergeo": [
           {
            "marker": {
             "colorbar": {
              "outlinewidth": 0,
              "ticks": ""
             }
            },
            "type": "scattergeo"
           }
          ],
          "scattergl": [
           {
            "marker": {
             "colorbar": {
              "outlinewidth": 0,
              "ticks": ""
             }
            },
            "type": "scattergl"
           }
          ],
          "scattermapbox": [
           {
            "marker": {
             "colorbar": {
              "outlinewidth": 0,
              "ticks": ""
             }
            },
            "type": "scattermapbox"
           }
          ],
          "scatterpolar": [
           {
            "marker": {
             "colorbar": {
              "outlinewidth": 0,
              "ticks": ""
             }
            },
            "type": "scatterpolar"
           }
          ],
          "scatterpolargl": [
           {
            "marker": {
             "colorbar": {
              "outlinewidth": 0,
              "ticks": ""
             }
            },
            "type": "scatterpolargl"
           }
          ],
          "scatterternary": [
           {
            "marker": {
             "colorbar": {
              "outlinewidth": 0,
              "ticks": ""
             }
            },
            "type": "scatterternary"
           }
          ],
          "surface": [
           {
            "colorbar": {
             "outlinewidth": 0,
             "ticks": ""
            },
            "colorscale": [
             [
              0,
              "#0d0887"
             ],
             [
              0.1111111111111111,
              "#46039f"
             ],
             [
              0.2222222222222222,
              "#7201a8"
             ],
             [
              0.3333333333333333,
              "#9c179e"
             ],
             [
              0.4444444444444444,
              "#bd3786"
             ],
             [
              0.5555555555555556,
              "#d8576b"
             ],
             [
              0.6666666666666666,
              "#ed7953"
             ],
             [
              0.7777777777777778,
              "#fb9f3a"
             ],
             [
              0.8888888888888888,
              "#fdca26"
             ],
             [
              1,
              "#f0f921"
             ]
            ],
            "type": "surface"
           }
          ],
          "table": [
           {
            "cells": {
             "fill": {
              "color": "#EBF0F8"
             },
             "line": {
              "color": "white"
             }
            },
            "header": {
             "fill": {
              "color": "#C8D4E3"
             },
             "line": {
              "color": "white"
             }
            },
            "type": "table"
           }
          ]
         },
         "layout": {
          "annotationdefaults": {
           "arrowcolor": "#2a3f5f",
           "arrowhead": 0,
           "arrowwidth": 1
          },
          "coloraxis": {
           "colorbar": {
            "outlinewidth": 0,
            "ticks": ""
           }
          },
          "colorscale": {
           "diverging": [
            [
             0,
             "#8e0152"
            ],
            [
             0.1,
             "#c51b7d"
            ],
            [
             0.2,
             "#de77ae"
            ],
            [
             0.3,
             "#f1b6da"
            ],
            [
             0.4,
             "#fde0ef"
            ],
            [
             0.5,
             "#f7f7f7"
            ],
            [
             0.6,
             "#e6f5d0"
            ],
            [
             0.7,
             "#b8e186"
            ],
            [
             0.8,
             "#7fbc41"
            ],
            [
             0.9,
             "#4d9221"
            ],
            [
             1,
             "#276419"
            ]
           ],
           "sequential": [
            [
             0,
             "#0d0887"
            ],
            [
             0.1111111111111111,
             "#46039f"
            ],
            [
             0.2222222222222222,
             "#7201a8"
            ],
            [
             0.3333333333333333,
             "#9c179e"
            ],
            [
             0.4444444444444444,
             "#bd3786"
            ],
            [
             0.5555555555555556,
             "#d8576b"
            ],
            [
             0.6666666666666666,
             "#ed7953"
            ],
            [
             0.7777777777777778,
             "#fb9f3a"
            ],
            [
             0.8888888888888888,
             "#fdca26"
            ],
            [
             1,
             "#f0f921"
            ]
           ],
           "sequentialminus": [
            [
             0,
             "#0d0887"
            ],
            [
             0.1111111111111111,
             "#46039f"
            ],
            [
             0.2222222222222222,
             "#7201a8"
            ],
            [
             0.3333333333333333,
             "#9c179e"
            ],
            [
             0.4444444444444444,
             "#bd3786"
            ],
            [
             0.5555555555555556,
             "#d8576b"
            ],
            [
             0.6666666666666666,
             "#ed7953"
            ],
            [
             0.7777777777777778,
             "#fb9f3a"
            ],
            [
             0.8888888888888888,
             "#fdca26"
            ],
            [
             1,
             "#f0f921"
            ]
           ]
          },
          "colorway": [
           "#636efa",
           "#EF553B",
           "#00cc96",
           "#ab63fa",
           "#FFA15A",
           "#19d3f3",
           "#FF6692",
           "#B6E880",
           "#FF97FF",
           "#FECB52"
          ],
          "font": {
           "color": "#2a3f5f"
          },
          "geo": {
           "bgcolor": "white",
           "lakecolor": "white",
           "landcolor": "#E5ECF6",
           "showlakes": true,
           "showland": true,
           "subunitcolor": "white"
          },
          "hoverlabel": {
           "align": "left"
          },
          "hovermode": "closest",
          "mapbox": {
           "style": "light"
          },
          "paper_bgcolor": "white",
          "plot_bgcolor": "#E5ECF6",
          "polar": {
           "angularaxis": {
            "gridcolor": "white",
            "linecolor": "white",
            "ticks": ""
           },
           "bgcolor": "#E5ECF6",
           "radialaxis": {
            "gridcolor": "white",
            "linecolor": "white",
            "ticks": ""
           }
          },
          "scene": {
           "xaxis": {
            "backgroundcolor": "#E5ECF6",
            "gridcolor": "white",
            "gridwidth": 2,
            "linecolor": "white",
            "showbackground": true,
            "ticks": "",
            "zerolinecolor": "white"
           },
           "yaxis": {
            "backgroundcolor": "#E5ECF6",
            "gridcolor": "white",
            "gridwidth": 2,
            "linecolor": "white",
            "showbackground": true,
            "ticks": "",
            "zerolinecolor": "white"
           },
           "zaxis": {
            "backgroundcolor": "#E5ECF6",
            "gridcolor": "white",
            "gridwidth": 2,
            "linecolor": "white",
            "showbackground": true,
            "ticks": "",
            "zerolinecolor": "white"
           }
          },
          "shapedefaults": {
           "line": {
            "color": "#2a3f5f"
           }
          },
          "ternary": {
           "aaxis": {
            "gridcolor": "white",
            "linecolor": "white",
            "ticks": ""
           },
           "baxis": {
            "gridcolor": "white",
            "linecolor": "white",
            "ticks": ""
           },
           "bgcolor": "#E5ECF6",
           "caxis": {
            "gridcolor": "white",
            "linecolor": "white",
            "ticks": ""
           }
          },
          "title": {
           "x": 0.05
          },
          "xaxis": {
           "automargin": true,
           "gridcolor": "white",
           "linecolor": "white",
           "ticks": "",
           "title": {
            "standoff": 15
           },
           "zerolinecolor": "white",
           "zerolinewidth": 2
          },
          "yaxis": {
           "automargin": true,
           "gridcolor": "white",
           "linecolor": "white",
           "ticks": "",
           "title": {
            "standoff": 15
           },
           "zerolinecolor": "white",
           "zerolinewidth": 2
          }
         }
        },
        "xaxis": {
         "anchor": "y",
         "domain": [
          0,
          0.45
         ]
        },
        "xaxis2": {
         "anchor": "y2",
         "domain": [
          0.55,
          1
         ]
        },
        "yaxis": {
         "anchor": "x",
         "domain": [
          0,
          1
         ]
        },
        "yaxis2": {
         "anchor": "x2",
         "domain": [
          0,
          1
         ]
        }
       }
      }
     },
     "metadata": {}
    }
   ],
   "source": [
    "x, sin_data, sqr_data = data_gen(0, 2*np.pi)\n",
    "t_x, t_sin_data, t_sqr_data = data_gen(0.05, 2*np.pi)\n",
    "\n",
    "epochs = 100\n",
    "n = 10\n",
    "\n",
    "fig = make_subplots(rows=1, cols=2, subplot_titles=(\"Validation\", \"Residual error\"))\n",
    "\n",
    "\n",
    "fig.add_trace(go.Scatter(x=t_x.ravel(), y=sin_data.ravel(), mode=\"lines\", name=\"Original\"), row=1, col=1)\n",
    "\n",
    "# Non-CL\n",
    "RBFNet = RBF_Network(n, x, eta=1e-1, useDelta=True, add_noise=True)\n",
    "RBFNet.train_network(epochs, x, sin_data, t_x, t_sin_data)\n",
    "RBFNet.validate(t_x, t_sin_data)\n",
    "\n",
    "fig.add_trace(go.Scatter(x=np.arange(len(RBFNet.residual_error)), y=RBFNet.residual_error, mode=\"lines\", name=\"Error Without CL\"), row=1, col=2)\n",
    "fig.add_trace(go.Scatter(x=t_x.ravel(), y=RBFNet.f_of_x.ravel(), mode=\"lines\", name=\"Prediction Without CL\"), row=1, col=1)\n",
    "\n",
    "# Using CL\n",
    "RBFNet_cl = RBF_Network(n, x, eta=1e-1,useDelta=True,add_noise=True)\n",
    "RBFNet_cl.init_cl(x, 100, 1e-1)\n",
    "RBFNet_cl.train_network(epochs, x, sin_data, t_x, t_sin_data)\n",
    "RBFNet_cl.validate(t_x, t_sin_data)\n",
    "\n",
    "fig.add_trace(go.Scatter(x=np.arange(len(RBFNet_cl.residual_error)), y=RBFNet_cl.residual_error, mode=\"lines\", name=\"Error With CL\"), row=1, col=2)\n",
    "fig.add_trace(go.Scatter(x=t_x.ravel(), y=RBFNet_cl.f_of_x.ravel(), mode=\"lines\", name=\"Prediction With CL\"), row=1, col=1)\n",
    "\n",
    "fig.show()\n",
    "\n",
    "\n"
   ]
  },
  {
   "source": [
    "## 3.3.2 - Avoid dead nodes\n",
    "\n"
   ],
   "cell_type": "markdown",
   "metadata": {}
  },
  {
   "cell_type": "code",
   "execution_count": 280,
   "metadata": {},
   "outputs": [
    {
     "output_type": "display_data",
     "data": {
      "application/vnd.plotly.v1+json": {
       "config": {
        "plotlyServerURL": "https://plot.ly"
       },
       "data": [
        {
         "name": "Without bias",
         "type": "bar",
         "x": [
          0,
          1,
          2,
          3,
          4,
          5,
          6,
          7,
          8,
          9
         ],
         "y": [
          774,
          708,
          334,
          790,
          471,
          745,
          760,
          365,
          590,
          763
         ]
        },
        {
         "name": "With bias",
         "type": "bar",
         "x": [
          0,
          1,
          2,
          3,
          4,
          5,
          6,
          7,
          8,
          9
         ],
         "y": [
          623,
          631,
          636,
          617,
          642,
          628,
          626,
          640,
          636,
          621
         ]
        }
       ],
       "layout": {
        "template": {
         "data": {
          "bar": [
           {
            "error_x": {
             "color": "#2a3f5f"
            },
            "error_y": {
             "color": "#2a3f5f"
            },
            "marker": {
             "line": {
              "color": "#E5ECF6",
              "width": 0.5
             }
            },
            "type": "bar"
           }
          ],
          "barpolar": [
           {
            "marker": {
             "line": {
              "color": "#E5ECF6",
              "width": 0.5
             }
            },
            "type": "barpolar"
           }
          ],
          "carpet": [
           {
            "aaxis": {
             "endlinecolor": "#2a3f5f",
             "gridcolor": "white",
             "linecolor": "white",
             "minorgridcolor": "white",
             "startlinecolor": "#2a3f5f"
            },
            "baxis": {
             "endlinecolor": "#2a3f5f",
             "gridcolor": "white",
             "linecolor": "white",
             "minorgridcolor": "white",
             "startlinecolor": "#2a3f5f"
            },
            "type": "carpet"
           }
          ],
          "choropleth": [
           {
            "colorbar": {
             "outlinewidth": 0,
             "ticks": ""
            },
            "type": "choropleth"
           }
          ],
          "contour": [
           {
            "colorbar": {
             "outlinewidth": 0,
             "ticks": ""
            },
            "colorscale": [
             [
              0,
              "#0d0887"
             ],
             [
              0.1111111111111111,
              "#46039f"
             ],
             [
              0.2222222222222222,
              "#7201a8"
             ],
             [
              0.3333333333333333,
              "#9c179e"
             ],
             [
              0.4444444444444444,
              "#bd3786"
             ],
             [
              0.5555555555555556,
              "#d8576b"
             ],
             [
              0.6666666666666666,
              "#ed7953"
             ],
             [
              0.7777777777777778,
              "#fb9f3a"
             ],
             [
              0.8888888888888888,
              "#fdca26"
             ],
             [
              1,
              "#f0f921"
             ]
            ],
            "type": "contour"
           }
          ],
          "contourcarpet": [
           {
            "colorbar": {
             "outlinewidth": 0,
             "ticks": ""
            },
            "type": "contourcarpet"
           }
          ],
          "heatmap": [
           {
            "colorbar": {
             "outlinewidth": 0,
             "ticks": ""
            },
            "colorscale": [
             [
              0,
              "#0d0887"
             ],
             [
              0.1111111111111111,
              "#46039f"
             ],
             [
              0.2222222222222222,
              "#7201a8"
             ],
             [
              0.3333333333333333,
              "#9c179e"
             ],
             [
              0.4444444444444444,
              "#bd3786"
             ],
             [
              0.5555555555555556,
              "#d8576b"
             ],
             [
              0.6666666666666666,
              "#ed7953"
             ],
             [
              0.7777777777777778,
              "#fb9f3a"
             ],
             [
              0.8888888888888888,
              "#fdca26"
             ],
             [
              1,
              "#f0f921"
             ]
            ],
            "type": "heatmap"
           }
          ],
          "heatmapgl": [
           {
            "colorbar": {
             "outlinewidth": 0,
             "ticks": ""
            },
            "colorscale": [
             [
              0,
              "#0d0887"
             ],
             [
              0.1111111111111111,
              "#46039f"
             ],
             [
              0.2222222222222222,
              "#7201a8"
             ],
             [
              0.3333333333333333,
              "#9c179e"
             ],
             [
              0.4444444444444444,
              "#bd3786"
             ],
             [
              0.5555555555555556,
              "#d8576b"
             ],
             [
              0.6666666666666666,
              "#ed7953"
             ],
             [
              0.7777777777777778,
              "#fb9f3a"
             ],
             [
              0.8888888888888888,
              "#fdca26"
             ],
             [
              1,
              "#f0f921"
             ]
            ],
            "type": "heatmapgl"
           }
          ],
          "histogram": [
           {
            "marker": {
             "colorbar": {
              "outlinewidth": 0,
              "ticks": ""
             }
            },
            "type": "histogram"
           }
          ],
          "histogram2d": [
           {
            "colorbar": {
             "outlinewidth": 0,
             "ticks": ""
            },
            "colorscale": [
             [
              0,
              "#0d0887"
             ],
             [
              0.1111111111111111,
              "#46039f"
             ],
             [
              0.2222222222222222,
              "#7201a8"
             ],
             [
              0.3333333333333333,
              "#9c179e"
             ],
             [
              0.4444444444444444,
              "#bd3786"
             ],
             [
              0.5555555555555556,
              "#d8576b"
             ],
             [
              0.6666666666666666,
              "#ed7953"
             ],
             [
              0.7777777777777778,
              "#fb9f3a"
             ],
             [
              0.8888888888888888,
              "#fdca26"
             ],
             [
              1,
              "#f0f921"
             ]
            ],
            "type": "histogram2d"
           }
          ],
          "histogram2dcontour": [
           {
            "colorbar": {
             "outlinewidth": 0,
             "ticks": ""
            },
            "colorscale": [
             [
              0,
              "#0d0887"
             ],
             [
              0.1111111111111111,
              "#46039f"
             ],
             [
              0.2222222222222222,
              "#7201a8"
             ],
             [
              0.3333333333333333,
              "#9c179e"
             ],
             [
              0.4444444444444444,
              "#bd3786"
             ],
             [
              0.5555555555555556,
              "#d8576b"
             ],
             [
              0.6666666666666666,
              "#ed7953"
             ],
             [
              0.7777777777777778,
              "#fb9f3a"
             ],
             [
              0.8888888888888888,
              "#fdca26"
             ],
             [
              1,
              "#f0f921"
             ]
            ],
            "type": "histogram2dcontour"
           }
          ],
          "mesh3d": [
           {
            "colorbar": {
             "outlinewidth": 0,
             "ticks": ""
            },
            "type": "mesh3d"
           }
          ],
          "parcoords": [
           {
            "line": {
             "colorbar": {
              "outlinewidth": 0,
              "ticks": ""
             }
            },
            "type": "parcoords"
           }
          ],
          "pie": [
           {
            "automargin": true,
            "type": "pie"
           }
          ],
          "scatter": [
           {
            "marker": {
             "colorbar": {
              "outlinewidth": 0,
              "ticks": ""
             }
            },
            "type": "scatter"
           }
          ],
          "scatter3d": [
           {
            "line": {
             "colorbar": {
              "outlinewidth": 0,
              "ticks": ""
             }
            },
            "marker": {
             "colorbar": {
              "outlinewidth": 0,
              "ticks": ""
             }
            },
            "type": "scatter3d"
           }
          ],
          "scattercarpet": [
           {
            "marker": {
             "colorbar": {
              "outlinewidth": 0,
              "ticks": ""
             }
            },
            "type": "scattercarpet"
           }
          ],
          "scattergeo": [
           {
            "marker": {
             "colorbar": {
              "outlinewidth": 0,
              "ticks": ""
             }
            },
            "type": "scattergeo"
           }
          ],
          "scattergl": [
           {
            "marker": {
             "colorbar": {
              "outlinewidth": 0,
              "ticks": ""
             }
            },
            "type": "scattergl"
           }
          ],
          "scattermapbox": [
           {
            "marker": {
             "colorbar": {
              "outlinewidth": 0,
              "ticks": ""
             }
            },
            "type": "scattermapbox"
           }
          ],
          "scatterpolar": [
           {
            "marker": {
             "colorbar": {
              "outlinewidth": 0,
              "ticks": ""
             }
            },
            "type": "scatterpolar"
           }
          ],
          "scatterpolargl": [
           {
            "marker": {
             "colorbar": {
              "outlinewidth": 0,
              "ticks": ""
             }
            },
            "type": "scatterpolargl"
           }
          ],
          "scatterternary": [
           {
            "marker": {
             "colorbar": {
              "outlinewidth": 0,
              "ticks": ""
             }
            },
            "type": "scatterternary"
           }
          ],
          "surface": [
           {
            "colorbar": {
             "outlinewidth": 0,
             "ticks": ""
            },
            "colorscale": [
             [
              0,
              "#0d0887"
             ],
             [
              0.1111111111111111,
              "#46039f"
             ],
             [
              0.2222222222222222,
              "#7201a8"
             ],
             [
              0.3333333333333333,
              "#9c179e"
             ],
             [
              0.4444444444444444,
              "#bd3786"
             ],
             [
              0.5555555555555556,
              "#d8576b"
             ],
             [
              0.6666666666666666,
              "#ed7953"
             ],
             [
              0.7777777777777778,
              "#fb9f3a"
             ],
             [
              0.8888888888888888,
              "#fdca26"
             ],
             [
              1,
              "#f0f921"
             ]
            ],
            "type": "surface"
           }
          ],
          "table": [
           {
            "cells": {
             "fill": {
              "color": "#EBF0F8"
             },
             "line": {
              "color": "white"
             }
            },
            "header": {
             "fill": {
              "color": "#C8D4E3"
             },
             "line": {
              "color": "white"
             }
            },
            "type": "table"
           }
          ]
         },
         "layout": {
          "annotationdefaults": {
           "arrowcolor": "#2a3f5f",
           "arrowhead": 0,
           "arrowwidth": 1
          },
          "coloraxis": {
           "colorbar": {
            "outlinewidth": 0,
            "ticks": ""
           }
          },
          "colorscale": {
           "diverging": [
            [
             0,
             "#8e0152"
            ],
            [
             0.1,
             "#c51b7d"
            ],
            [
             0.2,
             "#de77ae"
            ],
            [
             0.3,
             "#f1b6da"
            ],
            [
             0.4,
             "#fde0ef"
            ],
            [
             0.5,
             "#f7f7f7"
            ],
            [
             0.6,
             "#e6f5d0"
            ],
            [
             0.7,
             "#b8e186"
            ],
            [
             0.8,
             "#7fbc41"
            ],
            [
             0.9,
             "#4d9221"
            ],
            [
             1,
             "#276419"
            ]
           ],
           "sequential": [
            [
             0,
             "#0d0887"
            ],
            [
             0.1111111111111111,
             "#46039f"
            ],
            [
             0.2222222222222222,
             "#7201a8"
            ],
            [
             0.3333333333333333,
             "#9c179e"
            ],
            [
             0.4444444444444444,
             "#bd3786"
            ],
            [
             0.5555555555555556,
             "#d8576b"
            ],
            [
             0.6666666666666666,
             "#ed7953"
            ],
            [
             0.7777777777777778,
             "#fb9f3a"
            ],
            [
             0.8888888888888888,
             "#fdca26"
            ],
            [
             1,
             "#f0f921"
            ]
           ],
           "sequentialminus": [
            [
             0,
             "#0d0887"
            ],
            [
             0.1111111111111111,
             "#46039f"
            ],
            [
             0.2222222222222222,
             "#7201a8"
            ],
            [
             0.3333333333333333,
             "#9c179e"
            ],
            [
             0.4444444444444444,
             "#bd3786"
            ],
            [
             0.5555555555555556,
             "#d8576b"
            ],
            [
             0.6666666666666666,
             "#ed7953"
            ],
            [
             0.7777777777777778,
             "#fb9f3a"
            ],
            [
             0.8888888888888888,
             "#fdca26"
            ],
            [
             1,
             "#f0f921"
            ]
           ]
          },
          "colorway": [
           "#636efa",
           "#EF553B",
           "#00cc96",
           "#ab63fa",
           "#FFA15A",
           "#19d3f3",
           "#FF6692",
           "#B6E880",
           "#FF97FF",
           "#FECB52"
          ],
          "font": {
           "color": "#2a3f5f"
          },
          "geo": {
           "bgcolor": "white",
           "lakecolor": "white",
           "landcolor": "#E5ECF6",
           "showlakes": true,
           "showland": true,
           "subunitcolor": "white"
          },
          "hoverlabel": {
           "align": "left"
          },
          "hovermode": "closest",
          "mapbox": {
           "style": "light"
          },
          "paper_bgcolor": "white",
          "plot_bgcolor": "#E5ECF6",
          "polar": {
           "angularaxis": {
            "gridcolor": "white",
            "linecolor": "white",
            "ticks": ""
           },
           "bgcolor": "#E5ECF6",
           "radialaxis": {
            "gridcolor": "white",
            "linecolor": "white",
            "ticks": ""
           }
          },
          "scene": {
           "xaxis": {
            "backgroundcolor": "#E5ECF6",
            "gridcolor": "white",
            "gridwidth": 2,
            "linecolor": "white",
            "showbackground": true,
            "ticks": "",
            "zerolinecolor": "white"
           },
           "yaxis": {
            "backgroundcolor": "#E5ECF6",
            "gridcolor": "white",
            "gridwidth": 2,
            "linecolor": "white",
            "showbackground": true,
            "ticks": "",
            "zerolinecolor": "white"
           },
           "zaxis": {
            "backgroundcolor": "#E5ECF6",
            "gridcolor": "white",
            "gridwidth": 2,
            "linecolor": "white",
            "showbackground": true,
            "ticks": "",
            "zerolinecolor": "white"
           }
          },
          "shapedefaults": {
           "line": {
            "color": "#2a3f5f"
           }
          },
          "ternary": {
           "aaxis": {
            "gridcolor": "white",
            "linecolor": "white",
            "ticks": ""
           },
           "baxis": {
            "gridcolor": "white",
            "linecolor": "white",
            "ticks": ""
           },
           "bgcolor": "#E5ECF6",
           "caxis": {
            "gridcolor": "white",
            "linecolor": "white",
            "ticks": ""
           }
          },
          "title": {
           "x": 0.05
          },
          "xaxis": {
           "automargin": true,
           "gridcolor": "white",
           "linecolor": "white",
           "ticks": "",
           "title": {
            "standoff": 15
           },
           "zerolinecolor": "white",
           "zerolinewidth": 2
          },
          "yaxis": {
           "automargin": true,
           "gridcolor": "white",
           "linecolor": "white",
           "ticks": "",
           "title": {
            "standoff": 15
           },
           "zerolinecolor": "white",
           "zerolinewidth": 2
          }
         }
        }
       }
      }
     },
     "metadata": {}
    }
   ],
   "source": [
    "x, sin_data, sqr_data = data_gen(0, 2*np.pi)\n",
    "t_x, t_sin_data, t_sqr_data = data_gen(0.05, 2*np.pi)\n",
    "\n",
    "\n",
    "epochs = 100\n",
    "n = 10\n",
    "\n",
    "# Without bias\n",
    "fig = go.Figure()\n",
    "RBFNet = RBF_Network(n, x, eta=1e-1, useDelta=True)\n",
    "wins1 = RBFNet.init_cl(x, 100, 1e-1)\n",
    "fig.add_trace(go.Bar(x=np.arange(len(wins1)), y=wins1.ravel(), name=\"Without bias\"))\n",
    "\n",
    "# With bias\n",
    "RBFNet = RBF_Network(n, x, eta=1e-1, useDelta=True)\n",
    "wins2 = RBFNet.init_cl(x, 100, 1e-1, useBias=True)\n",
    "fig.add_trace(go.Bar(x=np.arange(len(wins2)), y=wins2.ravel(), name=\"With bias\"))\n",
    "\n",
    "fig.show()\n"
   ]
  },
  {
   "source": [
    "## 3.3.3 - Approximate two dimensional function"
   ],
   "cell_type": "markdown",
   "metadata": {}
  },
  {
   "cell_type": "code",
   "execution_count": 4,
   "metadata": {
    "tags": []
   },
   "outputs": [],
   "source": [
    "def load():\n",
    "    inputs, targets = load_data(\"./jakob/data/ballist.dat\")\n",
    "    test_inputs, test_targets = load_data(\"./jakob/data/balltest.dat\")\n",
    "\n",
    "    return inputs, targets, test_inputs, test_targets\n",
    "\n",
    "def load_data(filepath):\n",
    "    data = np.fromfile(filepath, dtype=np.float32, sep=\" \")\n",
    "    inputs = []\n",
    "    targets = []\n",
    "    for i in range(0, len(data), 4):\n",
    "        inputs.append([data[i], data[i+1]])\n",
    "        targets.append([data[i+2], data[i+3]])\n",
    "    \n",
    "    return np.asarray(inputs), np.asarray(targets)\n",
    "\n"
   ]
  },
  {
   "cell_type": "code",
   "execution_count": 109,
   "metadata": {},
   "outputs": [
    {
     "output_type": "display_data",
     "data": {
      "application/vnd.plotly.v1+json": {
       "config": {
        "plotlyServerURL": "https://plot.ly"
       },
       "data": [
        {
         "mode": "markers",
         "name": "feature 1",
         "type": "scatter3d",
         "x": [
          0.8960000276565552,
          0.27900001406669617,
          0.3070000112056732,
          0.9739999771118164,
          0.0689999982714653,
          0.28999999165534973,
          0.014999999664723873,
          0.6859999895095825,
          0.2770000100135803,
          0.7429999709129333,
          0.43299999833106995,
          0.25099998712539673,
          0.6610000133514404,
          0.09600000083446503,
          0.7710000276565552,
          0.9919999837875366,
          0.9879999756813049,
          0.007000000216066837,
          0.6890000104904175,
          0.2280000001192093,
          0.8939999938011169,
          0.2759999930858612,
          0.22699999809265137,
          0.5419999957084656,
          0.9990000128746033,
          0.5299999713897705,
          0.0729999989271164,
          0.24400000274181366,
          0.0010000000474974513,
          0.012000000104308128,
          0.9829999804496765,
          0.8149999976158142,
          0.6309999823570251,
          0.6290000081062317,
          0.8029999732971191,
          0.06199999898672104,
          0.43799999356269836,
          0.9089999794960022,
          0.8600000143051147,
          0.460999995470047,
          0.7139999866485596,
          0.6100000143051147,
          0.8690000176429749,
          0.3659999966621399,
          0.7129999995231628,
          0.7649999856948853,
          0.8899999856948853,
          0.2160000056028366,
          0.039000000804662704,
          0.34299999475479126,
          0.2639999985694885,
          0.8149999976158142,
          0.03799999877810478,
          0.4830000102519989,
          0.1850000023841858,
          0.972000002861023,
          0.23899999260902405,
          0.5299999713897705,
          0.4950000047683716,
          0.9789999723434448,
          0.7360000014305115,
          0.20499999821186066,
          0.8270000219345093,
          0.8669999837875366,
          0.23199999332427979,
          0.6050000190734863,
          0.04500000178813934,
          0.12600000202655792,
          0.13500000536441803,
          0.9200000166893005,
          0.7239999771118164,
          0.9559999704360962,
          0.7839999794960022,
          0.2879999876022339,
          0.3490000069141388,
          0.8989999890327454,
          0.5580000281333923,
          0.4819999933242798,
          0.6520000100135803,
          0.0949999988079071,
          0.125,
          0.5759999752044678,
          0.06700000166893005,
          0.28600001335144043,
          0.3100000023841858,
          0.8500000238418579,
          0.4729999899864197,
          0.7049999833106995,
          0.9900000095367432,
          0.593999981880188,
          0.9089999794960022,
          0.27000001072883606,
          0.39899998903274536,
          0.847000002861023,
          0.3199999928474426,
          0.4449999928474426,
          0.6510000228881836,
          0.9169999957084656,
          0.7760000228881836,
          0.843999981880188
         ],
         "y": [
          0.5400000214576721,
          0.859000027179718,
          0.40299999713897705,
          0.5460000038146973,
          0.902999997138977,
          0.4480000138282776,
          0.08500000089406967,
          0.5070000290870667,
          0.4339999854564667,
          0.7049999833106995,
          0.7519999742507935,
          0.15399999916553497,
          0.6200000047683716,
          0.8230000138282776,
          0.40299999713897705,
          0.6430000066757202,
          0.7630000114440918,
          0.9100000262260437,
          0.8050000071525574,
          0.27399998903274536,
          0.753000020980835,
          0.10000000149011612,
          0.4819999933242798,
          0.2540000081062317,
          0.6729999780654907,
          0.5720000267028809,
          0.25699999928474426,
          0.4099999964237213,
          0.7179999947547913,
          0.9120000004768372,
          0.25099998712539673,
          0.3149999976158142,
          0.26100000739097595,
          0.25099998712539673,
          0.4659999907016754,
          0.5350000262260437,
          0.25,
          0.49900001287460327,
          0.4519999921321869,
          0.7020000219345093,
          0.6679999828338623,
          0.6949999928474426,
          0.46700000762939453,
          0.5260000228881836,
          0.9670000076293945,
          0.4050000011920929,
          0.47200000286102295,
          0.4620000123977661,
          0.4909999966621399,
          0.5659999847412109,
          0.05700000002980232,
          0.8980000019073486,
          0.7039999961853027,
          0.20399999618530273,
          0.18400000035762787,
          0.16200000047683716,
          0.828000009059906,
          0.19200000166893005,
          0.671999990940094,
          0.4740000069141388,
          0.8640000224113464,
          0.3799999952316284,
          0.6230000257492065,
          0.8569999933242798,
          0.6610000133514404,
          0.5849999785423279,
          0.550000011920929,
          0.3659999966621399,
          0.36399999260902405,
          0.3619999885559082,
          0.8429999947547913,
          0.9449999928474426,
          0.8040000200271606,
          0.8870000243186951,
          0.296999990940094,
          0.7459999918937683,
          0.11500000208616257,
          0.8379999995231628,
          0.6050000190734863,
          0.3440000116825104,
          0.8149999976158142,
          0.14300000667572021,
          0.25999999046325684,
          0.23800000548362732,
          0.6480000019073486,
          0.01899999938905239,
          0.5960000157356262,
          0.39399999380111694,
          0.06400000303983688,
          0.7900000214576721,
          0.5630000233650208,
          0.6269999742507935,
          0.3059999942779541,
          0.5899999737739563,
          0.6909999847412109,
          0.2630000114440918,
          0.8960000276565552,
          0.023000000044703484,
          0.13500000536441803,
          0.925000011920929
         ],
         "z": [
          0.09300000220537186,
          0.5659999847412109,
          0.13300000131130219,
          0.024000000208616257,
          0.17499999701976776,
          0.1589999943971634,
          0,
          0.2150000035762787,
          0.14399999380111694,
          0.35899999737739563,
          0.5519999861717224,
          0.017000000923871994,
          0.335999995470047,
          0.20200000703334808,
          0.10700000077486038,
          0.010999999940395355,
          0.02199999988079071,
          0.01899999938905239,
          0.5370000004768372,
          0.05000000074505806,
          0.1860000044107437,
          0.00800000037997961,
          0.15199999511241913,
          0.06400000303983688,
          0.0010000000474974513,
          0.32600000500679016,
          0.014999999664723873,
          0.11599999666213989,
          0.0010000000474974513,
          0.03099999949336052,
          0.003000000026077032,
          0.05400000140070915,
          0.06199999898672104,
          0.057999998331069946,
          0.12600000202655792,
          0.054999999701976776,
          0.061000000685453415,
          0.07000000029802322,
          0.08699999749660492,
          0.48899999260902405,
          0.3490000069141388,
          0.45399999618530273,
          0.08699999749660492,
          0.2529999911785126,
          0.734000027179718,
          0.10999999940395355,
          0.07500000298023224,
          0.1340000033378601,
          0.029999999329447746,
          0.28200000524520874,
          0.0020000000949949026,
          0.4440000057220459,
          0.05900000035762787,
          0.04100000113248825,
          0.01899999938905239,
          0.0020000000949949026,
          0.46700000762939453,
          0.03700000047683716,
          0.45100000500679016,
          0.014999999664723873,
          0.550000011920929,
          0.08699999749660492,
          0.20100000500679016,
          0.2980000078678131,
          0.28999999165534973,
          0.3240000009536743,
          0.0430000014603138,
          0.050999999046325684,
          0.05400000140070915,
          0.032999999821186066,
          0.5410000085830688,
          0.12200000137090683,
          0.4059999883174896,
          0.6200000047683716,
          0.07800000160932541,
          0.17399999499320984,
          0.013000000268220901,
          0.7009999752044678,
          0.32600000500679016,
          0.03500000014901161,
          0.2540000081062317,
          0.019999999552965164,
          0.014000000432133675,
          0.04399999976158142,
          0.34700000286102295,
          0,
          0.3529999852180481,
          0.12399999797344208,
          0,
          0.597000002861023,
          0.08900000154972076,
          0.29499998688697815,
          0.08900000154972076,
          0.16099999845027924,
          0.40299999713897705,
          0.06800000369548798,
          0.7139999866485596,
          0,
          0.012000000104308128,
          0.40299999713897705
         ]
        },
        {
         "mode": "markers",
         "name": "feature 2",
         "type": "scatter3d",
         "x": [
          0.8960000276565552,
          0.27900001406669617,
          0.3070000112056732,
          0.9739999771118164,
          0.0689999982714653,
          0.28999999165534973,
          0.014999999664723873,
          0.6859999895095825,
          0.2770000100135803,
          0.7429999709129333,
          0.43299999833106995,
          0.25099998712539673,
          0.6610000133514404,
          0.09600000083446503,
          0.7710000276565552,
          0.9919999837875366,
          0.9879999756813049,
          0.007000000216066837,
          0.6890000104904175,
          0.2280000001192093,
          0.8939999938011169,
          0.2759999930858612,
          0.22699999809265137,
          0.5419999957084656,
          0.9990000128746033,
          0.5299999713897705,
          0.0729999989271164,
          0.24400000274181366,
          0.0010000000474974513,
          0.012000000104308128,
          0.9829999804496765,
          0.8149999976158142,
          0.6309999823570251,
          0.6290000081062317,
          0.8029999732971191,
          0.06199999898672104,
          0.43799999356269836,
          0.9089999794960022,
          0.8600000143051147,
          0.460999995470047,
          0.7139999866485596,
          0.6100000143051147,
          0.8690000176429749,
          0.3659999966621399,
          0.7129999995231628,
          0.7649999856948853,
          0.8899999856948853,
          0.2160000056028366,
          0.039000000804662704,
          0.34299999475479126,
          0.2639999985694885,
          0.8149999976158142,
          0.03799999877810478,
          0.4830000102519989,
          0.1850000023841858,
          0.972000002861023,
          0.23899999260902405,
          0.5299999713897705,
          0.4950000047683716,
          0.9789999723434448,
          0.7360000014305115,
          0.20499999821186066,
          0.8270000219345093,
          0.8669999837875366,
          0.23199999332427979,
          0.6050000190734863,
          0.04500000178813934,
          0.12600000202655792,
          0.13500000536441803,
          0.9200000166893005,
          0.7239999771118164,
          0.9559999704360962,
          0.7839999794960022,
          0.2879999876022339,
          0.3490000069141388,
          0.8989999890327454,
          0.5580000281333923,
          0.4819999933242798,
          0.6520000100135803,
          0.0949999988079071,
          0.125,
          0.5759999752044678,
          0.06700000166893005,
          0.28600001335144043,
          0.3100000023841858,
          0.8500000238418579,
          0.4729999899864197,
          0.7049999833106995,
          0.9900000095367432,
          0.593999981880188,
          0.9089999794960022,
          0.27000001072883606,
          0.39899998903274536,
          0.847000002861023,
          0.3199999928474426,
          0.4449999928474426,
          0.6510000228881836,
          0.9169999957084656,
          0.7760000228881836,
          0.843999981880188
         ],
         "y": [
          0.5400000214576721,
          0.859000027179718,
          0.40299999713897705,
          0.5460000038146973,
          0.902999997138977,
          0.4480000138282776,
          0.08500000089406967,
          0.5070000290870667,
          0.4339999854564667,
          0.7049999833106995,
          0.7519999742507935,
          0.15399999916553497,
          0.6200000047683716,
          0.8230000138282776,
          0.40299999713897705,
          0.6430000066757202,
          0.7630000114440918,
          0.9100000262260437,
          0.8050000071525574,
          0.27399998903274536,
          0.753000020980835,
          0.10000000149011612,
          0.4819999933242798,
          0.2540000081062317,
          0.6729999780654907,
          0.5720000267028809,
          0.25699999928474426,
          0.4099999964237213,
          0.7179999947547913,
          0.9120000004768372,
          0.25099998712539673,
          0.3149999976158142,
          0.26100000739097595,
          0.25099998712539673,
          0.4659999907016754,
          0.5350000262260437,
          0.25,
          0.49900001287460327,
          0.4519999921321869,
          0.7020000219345093,
          0.6679999828338623,
          0.6949999928474426,
          0.46700000762939453,
          0.5260000228881836,
          0.9670000076293945,
          0.4050000011920929,
          0.47200000286102295,
          0.4620000123977661,
          0.4909999966621399,
          0.5659999847412109,
          0.05700000002980232,
          0.8980000019073486,
          0.7039999961853027,
          0.20399999618530273,
          0.18400000035762787,
          0.16200000047683716,
          0.828000009059906,
          0.19200000166893005,
          0.671999990940094,
          0.4740000069141388,
          0.8640000224113464,
          0.3799999952316284,
          0.6230000257492065,
          0.8569999933242798,
          0.6610000133514404,
          0.5849999785423279,
          0.550000011920929,
          0.3659999966621399,
          0.36399999260902405,
          0.3619999885559082,
          0.8429999947547913,
          0.9449999928474426,
          0.8040000200271606,
          0.8870000243186951,
          0.296999990940094,
          0.7459999918937683,
          0.11500000208616257,
          0.8379999995231628,
          0.6050000190734863,
          0.3440000116825104,
          0.8149999976158142,
          0.14300000667572021,
          0.25999999046325684,
          0.23800000548362732,
          0.6480000019073486,
          0.01899999938905239,
          0.5960000157356262,
          0.39399999380111694,
          0.06400000303983688,
          0.7900000214576721,
          0.5630000233650208,
          0.6269999742507935,
          0.3059999942779541,
          0.5899999737739563,
          0.6909999847412109,
          0.2630000114440918,
          0.8960000276565552,
          0.023000000044703484,
          0.13500000536441803,
          0.925000011920929
         ],
         "z": [
          0.25999999046325684,
          0.12200000137090683,
          0.03200000151991844,
          0.27300000190734863,
          0.008999999612569809,
          0.035999998450279236,
          0,
          0.18299999833106995,
          0.03099999949336052,
          0.38600000739097595,
          0.20499999821186066,
          0.003000000026077032,
          0.2619999945163727,
          0.014000000432133675,
          0.12999999523162842,
          0.3790000081062317,
          0.5329999923706055,
          0,
          0.46399998664855957,
          0.008999999612569809,
          0.5059999823570251,
          0.0020000000949949026,
          0.026000000536441803,
          0.032999999821186066,
          0.41499999165534973,
          0.164000004529953,
          0.0010000000474974513,
          0.02199999988079071,
          0,
          0,
          0.057999998331069946,
          0.08299999684095383,
          0.04399999976158142,
          0.03999999910593033,
          0.1809999942779541,
          0.0020000000949949026,
          0.023000000044703484,
          0.22300000488758087,
          0.17800000309944153,
          0.1979999989271164,
          0.3319999873638153,
          0.29600000381469727,
          0.19200000166893005,
          0.07500000298023224,
          0.6940000057220459,
          0.13099999725818634,
          0.1979999989271164,
          0.02199999988079071,
          0.0010000000474974513,
          0.07699999958276749,
          0,
          0.6790000200271606,
          0.0020000000949949026,
          0.017999999225139618,
          0.003000000026077032,
          0.024000000208616257,
          0.08399999886751175,
          0.017999999225139618,
          0.20399999618530273,
          0.20600000023841858,
          0.5730000138282776,
          0.013000000268220901,
          0.3310000002384186,
          0.6449999809265137,
          0.050999999046325684,
          0.20800000429153442,
          0.0010000000474974513,
          0.004999999888241291,
          0.004999999888241291,
          0.11800000071525574,
          0.5360000133514404,
          0.8159999847412109,
          0.5270000100135803,
          0.1379999965429306,
          0.02199999988079071,
          0.49799999594688416,
          0.007000000216066837,
          0.30399999022483826,
          0.24500000476837158,
          0.0020000000949949026,
          0.023000000044703484,
          0.012000000104308128,
          0.0010000000474974513,
          0.009999999776482582,
          0.08399999886751175,
          0,
          0.14900000393390656,
          0.11400000005960464,
          0.004000000189989805,
          0.36899998784065247,
          0.2849999964237213,
          0.061000000685453415,
          0.029999999329447746,
          0.3009999990463257,
          0.10100000351667404,
          0.026000000536441803,
          0.5360000133514404,
          0,
          0.014999999664723873,
          0.7379999756813049
         ]
        }
       ],
       "layout": {
        "template": {
         "data": {
          "bar": [
           {
            "error_x": {
             "color": "#2a3f5f"
            },
            "error_y": {
             "color": "#2a3f5f"
            },
            "marker": {
             "line": {
              "color": "#E5ECF6",
              "width": 0.5
             }
            },
            "type": "bar"
           }
          ],
          "barpolar": [
           {
            "marker": {
             "line": {
              "color": "#E5ECF6",
              "width": 0.5
             }
            },
            "type": "barpolar"
           }
          ],
          "carpet": [
           {
            "aaxis": {
             "endlinecolor": "#2a3f5f",
             "gridcolor": "white",
             "linecolor": "white",
             "minorgridcolor": "white",
             "startlinecolor": "#2a3f5f"
            },
            "baxis": {
             "endlinecolor": "#2a3f5f",
             "gridcolor": "white",
             "linecolor": "white",
             "minorgridcolor": "white",
             "startlinecolor": "#2a3f5f"
            },
            "type": "carpet"
           }
          ],
          "choropleth": [
           {
            "colorbar": {
             "outlinewidth": 0,
             "ticks": ""
            },
            "type": "choropleth"
           }
          ],
          "contour": [
           {
            "colorbar": {
             "outlinewidth": 0,
             "ticks": ""
            },
            "colorscale": [
             [
              0,
              "#0d0887"
             ],
             [
              0.1111111111111111,
              "#46039f"
             ],
             [
              0.2222222222222222,
              "#7201a8"
             ],
             [
              0.3333333333333333,
              "#9c179e"
             ],
             [
              0.4444444444444444,
              "#bd3786"
             ],
             [
              0.5555555555555556,
              "#d8576b"
             ],
             [
              0.6666666666666666,
              "#ed7953"
             ],
             [
              0.7777777777777778,
              "#fb9f3a"
             ],
             [
              0.8888888888888888,
              "#fdca26"
             ],
             [
              1,
              "#f0f921"
             ]
            ],
            "type": "contour"
           }
          ],
          "contourcarpet": [
           {
            "colorbar": {
             "outlinewidth": 0,
             "ticks": ""
            },
            "type": "contourcarpet"
           }
          ],
          "heatmap": [
           {
            "colorbar": {
             "outlinewidth": 0,
             "ticks": ""
            },
            "colorscale": [
             [
              0,
              "#0d0887"
             ],
             [
              0.1111111111111111,
              "#46039f"
             ],
             [
              0.2222222222222222,
              "#7201a8"
             ],
             [
              0.3333333333333333,
              "#9c179e"
             ],
             [
              0.4444444444444444,
              "#bd3786"
             ],
             [
              0.5555555555555556,
              "#d8576b"
             ],
             [
              0.6666666666666666,
              "#ed7953"
             ],
             [
              0.7777777777777778,
              "#fb9f3a"
             ],
             [
              0.8888888888888888,
              "#fdca26"
             ],
             [
              1,
              "#f0f921"
             ]
            ],
            "type": "heatmap"
           }
          ],
          "heatmapgl": [
           {
            "colorbar": {
             "outlinewidth": 0,
             "ticks": ""
            },
            "colorscale": [
             [
              0,
              "#0d0887"
             ],
             [
              0.1111111111111111,
              "#46039f"
             ],
             [
              0.2222222222222222,
              "#7201a8"
             ],
             [
              0.3333333333333333,
              "#9c179e"
             ],
             [
              0.4444444444444444,
              "#bd3786"
             ],
             [
              0.5555555555555556,
              "#d8576b"
             ],
             [
              0.6666666666666666,
              "#ed7953"
             ],
             [
              0.7777777777777778,
              "#fb9f3a"
             ],
             [
              0.8888888888888888,
              "#fdca26"
             ],
             [
              1,
              "#f0f921"
             ]
            ],
            "type": "heatmapgl"
           }
          ],
          "histogram": [
           {
            "marker": {
             "colorbar": {
              "outlinewidth": 0,
              "ticks": ""
             }
            },
            "type": "histogram"
           }
          ],
          "histogram2d": [
           {
            "colorbar": {
             "outlinewidth": 0,
             "ticks": ""
            },
            "colorscale": [
             [
              0,
              "#0d0887"
             ],
             [
              0.1111111111111111,
              "#46039f"
             ],
             [
              0.2222222222222222,
              "#7201a8"
             ],
             [
              0.3333333333333333,
              "#9c179e"
             ],
             [
              0.4444444444444444,
              "#bd3786"
             ],
             [
              0.5555555555555556,
              "#d8576b"
             ],
             [
              0.6666666666666666,
              "#ed7953"
             ],
             [
              0.7777777777777778,
              "#fb9f3a"
             ],
             [
              0.8888888888888888,
              "#fdca26"
             ],
             [
              1,
              "#f0f921"
             ]
            ],
            "type": "histogram2d"
           }
          ],
          "histogram2dcontour": [
           {
            "colorbar": {
             "outlinewidth": 0,
             "ticks": ""
            },
            "colorscale": [
             [
              0,
              "#0d0887"
             ],
             [
              0.1111111111111111,
              "#46039f"
             ],
             [
              0.2222222222222222,
              "#7201a8"
             ],
             [
              0.3333333333333333,
              "#9c179e"
             ],
             [
              0.4444444444444444,
              "#bd3786"
             ],
             [
              0.5555555555555556,
              "#d8576b"
             ],
             [
              0.6666666666666666,
              "#ed7953"
             ],
             [
              0.7777777777777778,
              "#fb9f3a"
             ],
             [
              0.8888888888888888,
              "#fdca26"
             ],
             [
              1,
              "#f0f921"
             ]
            ],
            "type": "histogram2dcontour"
           }
          ],
          "mesh3d": [
           {
            "colorbar": {
             "outlinewidth": 0,
             "ticks": ""
            },
            "type": "mesh3d"
           }
          ],
          "parcoords": [
           {
            "line": {
             "colorbar": {
              "outlinewidth": 0,
              "ticks": ""
             }
            },
            "type": "parcoords"
           }
          ],
          "pie": [
           {
            "automargin": true,
            "type": "pie"
           }
          ],
          "scatter": [
           {
            "marker": {
             "colorbar": {
              "outlinewidth": 0,
              "ticks": ""
             }
            },
            "type": "scatter"
           }
          ],
          "scatter3d": [
           {
            "line": {
             "colorbar": {
              "outlinewidth": 0,
              "ticks": ""
             }
            },
            "marker": {
             "colorbar": {
              "outlinewidth": 0,
              "ticks": ""
             }
            },
            "type": "scatter3d"
           }
          ],
          "scattercarpet": [
           {
            "marker": {
             "colorbar": {
              "outlinewidth": 0,
              "ticks": ""
             }
            },
            "type": "scattercarpet"
           }
          ],
          "scattergeo": [
           {
            "marker": {
             "colorbar": {
              "outlinewidth": 0,
              "ticks": ""
             }
            },
            "type": "scattergeo"
           }
          ],
          "scattergl": [
           {
            "marker": {
             "colorbar": {
              "outlinewidth": 0,
              "ticks": ""
             }
            },
            "type": "scattergl"
           }
          ],
          "scattermapbox": [
           {
            "marker": {
             "colorbar": {
              "outlinewidth": 0,
              "ticks": ""
             }
            },
            "type": "scattermapbox"
           }
          ],
          "scatterpolar": [
           {
            "marker": {
             "colorbar": {
              "outlinewidth": 0,
              "ticks": ""
             }
            },
            "type": "scatterpolar"
           }
          ],
          "scatterpolargl": [
           {
            "marker": {
             "colorbar": {
              "outlinewidth": 0,
              "ticks": ""
             }
            },
            "type": "scatterpolargl"
           }
          ],
          "scatterternary": [
           {
            "marker": {
             "colorbar": {
              "outlinewidth": 0,
              "ticks": ""
             }
            },
            "type": "scatterternary"
           }
          ],
          "surface": [
           {
            "colorbar": {
             "outlinewidth": 0,
             "ticks": ""
            },
            "colorscale": [
             [
              0,
              "#0d0887"
             ],
             [
              0.1111111111111111,
              "#46039f"
             ],
             [
              0.2222222222222222,
              "#7201a8"
             ],
             [
              0.3333333333333333,
              "#9c179e"
             ],
             [
              0.4444444444444444,
              "#bd3786"
             ],
             [
              0.5555555555555556,
              "#d8576b"
             ],
             [
              0.6666666666666666,
              "#ed7953"
             ],
             [
              0.7777777777777778,
              "#fb9f3a"
             ],
             [
              0.8888888888888888,
              "#fdca26"
             ],
             [
              1,
              "#f0f921"
             ]
            ],
            "type": "surface"
           }
          ],
          "table": [
           {
            "cells": {
             "fill": {
              "color": "#EBF0F8"
             },
             "line": {
              "color": "white"
             }
            },
            "header": {
             "fill": {
              "color": "#C8D4E3"
             },
             "line": {
              "color": "white"
             }
            },
            "type": "table"
           }
          ]
         },
         "layout": {
          "annotationdefaults": {
           "arrowcolor": "#2a3f5f",
           "arrowhead": 0,
           "arrowwidth": 1
          },
          "coloraxis": {
           "colorbar": {
            "outlinewidth": 0,
            "ticks": ""
           }
          },
          "colorscale": {
           "diverging": [
            [
             0,
             "#8e0152"
            ],
            [
             0.1,
             "#c51b7d"
            ],
            [
             0.2,
             "#de77ae"
            ],
            [
             0.3,
             "#f1b6da"
            ],
            [
             0.4,
             "#fde0ef"
            ],
            [
             0.5,
             "#f7f7f7"
            ],
            [
             0.6,
             "#e6f5d0"
            ],
            [
             0.7,
             "#b8e186"
            ],
            [
             0.8,
             "#7fbc41"
            ],
            [
             0.9,
             "#4d9221"
            ],
            [
             1,
             "#276419"
            ]
           ],
           "sequential": [
            [
             0,
             "#0d0887"
            ],
            [
             0.1111111111111111,
             "#46039f"
            ],
            [
             0.2222222222222222,
             "#7201a8"
            ],
            [
             0.3333333333333333,
             "#9c179e"
            ],
            [
             0.4444444444444444,
             "#bd3786"
            ],
            [
             0.5555555555555556,
             "#d8576b"
            ],
            [
             0.6666666666666666,
             "#ed7953"
            ],
            [
             0.7777777777777778,
             "#fb9f3a"
            ],
            [
             0.8888888888888888,
             "#fdca26"
            ],
            [
             1,
             "#f0f921"
            ]
           ],
           "sequentialminus": [
            [
             0,
             "#0d0887"
            ],
            [
             0.1111111111111111,
             "#46039f"
            ],
            [
             0.2222222222222222,
             "#7201a8"
            ],
            [
             0.3333333333333333,
             "#9c179e"
            ],
            [
             0.4444444444444444,
             "#bd3786"
            ],
            [
             0.5555555555555556,
             "#d8576b"
            ],
            [
             0.6666666666666666,
             "#ed7953"
            ],
            [
             0.7777777777777778,
             "#fb9f3a"
            ],
            [
             0.8888888888888888,
             "#fdca26"
            ],
            [
             1,
             "#f0f921"
            ]
           ]
          },
          "colorway": [
           "#636efa",
           "#EF553B",
           "#00cc96",
           "#ab63fa",
           "#FFA15A",
           "#19d3f3",
           "#FF6692",
           "#B6E880",
           "#FF97FF",
           "#FECB52"
          ],
          "font": {
           "color": "#2a3f5f"
          },
          "geo": {
           "bgcolor": "white",
           "lakecolor": "white",
           "landcolor": "#E5ECF6",
           "showlakes": true,
           "showland": true,
           "subunitcolor": "white"
          },
          "hoverlabel": {
           "align": "left"
          },
          "hovermode": "closest",
          "mapbox": {
           "style": "light"
          },
          "paper_bgcolor": "white",
          "plot_bgcolor": "#E5ECF6",
          "polar": {
           "angularaxis": {
            "gridcolor": "white",
            "linecolor": "white",
            "ticks": ""
           },
           "bgcolor": "#E5ECF6",
           "radialaxis": {
            "gridcolor": "white",
            "linecolor": "white",
            "ticks": ""
           }
          },
          "scene": {
           "xaxis": {
            "backgroundcolor": "#E5ECF6",
            "gridcolor": "white",
            "gridwidth": 2,
            "linecolor": "white",
            "showbackground": true,
            "ticks": "",
            "zerolinecolor": "white"
           },
           "yaxis": {
            "backgroundcolor": "#E5ECF6",
            "gridcolor": "white",
            "gridwidth": 2,
            "linecolor": "white",
            "showbackground": true,
            "ticks": "",
            "zerolinecolor": "white"
           },
           "zaxis": {
            "backgroundcolor": "#E5ECF6",
            "gridcolor": "white",
            "gridwidth": 2,
            "linecolor": "white",
            "showbackground": true,
            "ticks": "",
            "zerolinecolor": "white"
           }
          },
          "shapedefaults": {
           "line": {
            "color": "#2a3f5f"
           }
          },
          "ternary": {
           "aaxis": {
            "gridcolor": "white",
            "linecolor": "white",
            "ticks": ""
           },
           "baxis": {
            "gridcolor": "white",
            "linecolor": "white",
            "ticks": ""
           },
           "bgcolor": "#E5ECF6",
           "caxis": {
            "gridcolor": "white",
            "linecolor": "white",
            "ticks": ""
           }
          },
          "title": {
           "x": 0.05
          },
          "xaxis": {
           "automargin": true,
           "gridcolor": "white",
           "linecolor": "white",
           "ticks": "",
           "title": {
            "standoff": 15
           },
           "zerolinecolor": "white",
           "zerolinewidth": 2
          },
          "yaxis": {
           "automargin": true,
           "gridcolor": "white",
           "linecolor": "white",
           "ticks": "",
           "title": {
            "standoff": 15
           },
           "zerolinecolor": "white",
           "zerolinewidth": 2
          }
         }
        }
       }
      }
     },
     "metadata": {}
    }
   ],
   "source": [
    "x, y, tx, ty = load()\n",
    "\n",
    "fig = go.Figure().add_trace(go.Scatter3d(x=x[:,0], y=x[:,1], z=y[:,0], mode=\"markers\", name=\"feature 1\"))\n",
    "fig.add_trace(go.Scatter3d(x=x[:,0], y=x[:,1], z=y[:,1], mode=\"markers\",name=\"feature 2\"))\n",
    "fig.show()"
   ]
  },
  {
   "cell_type": "code",
   "execution_count": 17,
   "metadata": {
    "tags": []
   },
   "outputs": [
    {
     "output_type": "stream",
     "name": "stdout",
     "text": "0.18544722\n50\n0.01\n5\n0.18544722\n50\n0.01\n5\n0.18544722\n50\n0.01\n5\n0.18544722\n50\n0.01\n5\n"
    }
   ],
   "source": [
    "# Finding best CL initialization\n",
    "# 0.0035\n",
    "# bset epoch = 10 000\n",
    "# best eta = 1e-4\n",
    "epochs = [10, 50, 100, 200, 500, 1000, 5000, 10000, 20000]\n",
    "eta = [1e-2, 1e-3, 1e-4, 1e-5, 1e-6, 1e-7]\n",
    "nodes = [5, 10, 20, 30, 50]\n",
    "min_dist = np.inf\n",
    "min_et = 0\n",
    "min_ep = 0\n",
    "min_n = 0\n",
    "for n in nodes:\n",
    "    for ep in epochs:\n",
    "        for et in eta:\n",
    "            RBFNet = RBF_Network(n, x)\n",
    "            RBFNet.init_cl(x, ep, et, useBias=True)\n",
    "\n",
    "            dist = []\n",
    "            for mu in RBFNet.mean:\n",
    "                err = np.sum(x - mu, axis=0)\n",
    "                dist.append(err)\n",
    "            dist = np.array(dist)\n",
    "            s = np.abs(dist.sum())\n",
    "            if (s < min_dist):\n",
    "                min_dist = s\n",
    "                min_ep = ep\n",
    "                min_et = et\n",
    "                min_n = n\n",
    "\n",
    "    print(min_dist)\n",
    "    print(min_ep)\n",
    "    print(min_et)  \n",
    "    print(min_n)\n"
   ]
  },
  {
   "cell_type": "code",
   "execution_count": 48,
   "metadata": {
    "tags": []
   },
   "outputs": [
    {
     "output_type": "stream",
     "name": "stdout",
     "text": "0.18132744453965402\n2\n50\n0.01\n0.17902178924578968\n2\n50\n0.01\n0.17902178924578968\n2\n50\n0.01\n0.17902178924578968\n2\n50\n0.01\n0.16610913273839217\n2\n50\n0.01\n0.16610913273839217\n2\n50\n0.01\n0.16610913273839217\n2\n50\n0.01\n0.15458692741684288\n3\n50\n0.01\n0.15458692741684288\n3\n50\n0.01\n0.15458692741684288\n3\n50\n0.01\n0.15458692741684288\n3\n50\n0.01\n0.15458692741684288\n3\n50\n0.01\n0.15458692741684288\n3\n50\n0.01\n0.15458692741684288\n3\n50\n0.01\n0.15458692741684288\n3\n50\n0.01\n0.14605284781621997\n5\n50\n0.01\n0.14605284781621997\n5\n50\n0.01\n0.14605284781621997\n5\n50\n0.01\n0.14605284781621997\n5\n50\n0.01\n0.14605284781621997\n5\n50\n0.01\n0.14605284781621997\n5\n50\n0.01\n0.14605284781621997\n5\n50\n0.01\n0.14605284781621997\n5\n50\n0.01\n0.14605284781621997\n5\n50\n0.01\n0.14605284781621997\n5\n50\n0.01\n0.14605284781621997\n5\n50\n0.01\n0.14605284781621997\n5\n50\n0.01\n0.14605284781621997\n5\n50\n0.01\n0.14605284781621997\n5\n50\n0.01\n0.14605284781621997\n5\n50\n0.01\n0.14605284781621997\n5\n50\n0.01\n0.14605284781621997\n5\n50\n0.01\n0.14605284781621997\n5\n50\n0.01\n0.14605284781621997\n5\n50\n0.01\n0.14605284781621997\n5\n50\n0.01\n0.14605284781621997\n5\n50\n0.01\n0.14605284781621997\n5\n50\n0.01\n0.14605284781621997\n5\n50\n0.01\n0.14605284781621997\n5\n50\n0.01\n0.14605284781621997\n5\n50\n0.01\n0.14605284781621997\n5\n50\n0.01\n0.14605284781621997\n5\n50\n0.01\n0.14605284781621997\n5\n50\n0.01\n0.14605284781621997\n5\n50\n0.01\n0.14605284781621997\n5\n50\n0.01\n0.14605284781621997\n5\n50\n0.01\n0.14605284781621997\n5\n50\n0.01\n0.14605284781621997\n5\n50\n0.01\n0.14605284781621997\n5\n50\n0.01\n0.14605284781621997\n5\n50\n0.01\n"
    }
   ],
   "source": [
    "# Coarse search for best training settings\n",
    "np.random.seed(SEED)\n",
    "# nodes=[5, 10, 15, 20, 25, 30]\n",
    "nodes = [2, 3, 4, 5, 6, 7, 8, 9, 10, 15]\n",
    "epochs=[10, 30, 50, 100, 200]\n",
    "eta=[1e-1, 1e-2, 1e-3, 1e-4]\n",
    "\n",
    "min_error = np.inf\n",
    "min_n = nodes[0]\n",
    "min_epoch=epochs[0]\n",
    "# min_eta = eta[0]\n",
    "error = []\n",
    "\n",
    "for n in nodes:\n",
    "    n_err = []\n",
    "    for ep in epochs:\n",
    "        ep_err = []\n",
    "        for et in eta:\n",
    "            RBFNet = RBF_Network(n, x, eta=et, useDelta=True)\n",
    "            RBFNet.init_cl(x, ep, et, useBias=True)\n",
    "            RBFNet.train_network(ep, x, y, tx, ty)\n",
    "            err = RBFNet.validate(tx, ty, _plot=False)\n",
    "            \n",
    "            ep_err.append(err)\n",
    "            \n",
    "            if err < min_error:\n",
    "                min_error = err\n",
    "                min_n = n\n",
    "                min_epoch = ep\n",
    "                min_eta = et\n",
    "\n",
    "        print(min_error)\n",
    "        print(min_n)\n",
    "        print(min_ep)\n",
    "        print(min_et)\n",
    "\n",
    "        n_err.append(ep_err)\n",
    "    error.append(n_err)"
   ]
  },
  {
   "cell_type": "code",
   "execution_count": 207,
   "metadata": {
    "tags": []
   },
   "outputs": [
    {
     "output_type": "display_data",
     "data": {
      "application/vnd.plotly.v1+json": {
       "config": {
        "plotlyServerURL": "https://plot.ly"
       },
       "data": [
        {
         "alignmentgroup": "True",
         "hovertemplate": "x=%{x}<br>y=%{y}<extra></extra>",
         "legendgroup": "",
         "marker": {
          "color": "#636efa"
         },
         "name": "",
         "offsetgroup": "",
         "orientation": "v",
         "showlegend": false,
         "textposition": "auto",
         "type": "bar",
         "x": [
          0,
          1,
          2,
          3,
          4
         ],
         "xaxis": "x",
         "y": [
          735,
          1212,
          829,
          1192,
          1032
         ],
         "yaxis": "y"
        }
       ],
       "layout": {
        "barmode": "relative",
        "legend": {
         "tracegroupgap": 0
        },
        "margin": {
         "t": 60
        },
        "template": {
         "data": {
          "bar": [
           {
            "error_x": {
             "color": "#2a3f5f"
            },
            "error_y": {
             "color": "#2a3f5f"
            },
            "marker": {
             "line": {
              "color": "#E5ECF6",
              "width": 0.5
             }
            },
            "type": "bar"
           }
          ],
          "barpolar": [
           {
            "marker": {
             "line": {
              "color": "#E5ECF6",
              "width": 0.5
             }
            },
            "type": "barpolar"
           }
          ],
          "carpet": [
           {
            "aaxis": {
             "endlinecolor": "#2a3f5f",
             "gridcolor": "white",
             "linecolor": "white",
             "minorgridcolor": "white",
             "startlinecolor": "#2a3f5f"
            },
            "baxis": {
             "endlinecolor": "#2a3f5f",
             "gridcolor": "white",
             "linecolor": "white",
             "minorgridcolor": "white",
             "startlinecolor": "#2a3f5f"
            },
            "type": "carpet"
           }
          ],
          "choropleth": [
           {
            "colorbar": {
             "outlinewidth": 0,
             "ticks": ""
            },
            "type": "choropleth"
           }
          ],
          "contour": [
           {
            "colorbar": {
             "outlinewidth": 0,
             "ticks": ""
            },
            "colorscale": [
             [
              0,
              "#0d0887"
             ],
             [
              0.1111111111111111,
              "#46039f"
             ],
             [
              0.2222222222222222,
              "#7201a8"
             ],
             [
              0.3333333333333333,
              "#9c179e"
             ],
             [
              0.4444444444444444,
              "#bd3786"
             ],
             [
              0.5555555555555556,
              "#d8576b"
             ],
             [
              0.6666666666666666,
              "#ed7953"
             ],
             [
              0.7777777777777778,
              "#fb9f3a"
             ],
             [
              0.8888888888888888,
              "#fdca26"
             ],
             [
              1,
              "#f0f921"
             ]
            ],
            "type": "contour"
           }
          ],
          "contourcarpet": [
           {
            "colorbar": {
             "outlinewidth": 0,
             "ticks": ""
            },
            "type": "contourcarpet"
           }
          ],
          "heatmap": [
           {
            "colorbar": {
             "outlinewidth": 0,
             "ticks": ""
            },
            "colorscale": [
             [
              0,
              "#0d0887"
             ],
             [
              0.1111111111111111,
              "#46039f"
             ],
             [
              0.2222222222222222,
              "#7201a8"
             ],
             [
              0.3333333333333333,
              "#9c179e"
             ],
             [
              0.4444444444444444,
              "#bd3786"
             ],
             [
              0.5555555555555556,
              "#d8576b"
             ],
             [
              0.6666666666666666,
              "#ed7953"
             ],
             [
              0.7777777777777778,
              "#fb9f3a"
             ],
             [
              0.8888888888888888,
              "#fdca26"
             ],
             [
              1,
              "#f0f921"
             ]
            ],
            "type": "heatmap"
           }
          ],
          "heatmapgl": [
           {
            "colorbar": {
             "outlinewidth": 0,
             "ticks": ""
            },
            "colorscale": [
             [
              0,
              "#0d0887"
             ],
             [
              0.1111111111111111,
              "#46039f"
             ],
             [
              0.2222222222222222,
              "#7201a8"
             ],
             [
              0.3333333333333333,
              "#9c179e"
             ],
             [
              0.4444444444444444,
              "#bd3786"
             ],
             [
              0.5555555555555556,
              "#d8576b"
             ],
             [
              0.6666666666666666,
              "#ed7953"
             ],
             [
              0.7777777777777778,
              "#fb9f3a"
             ],
             [
              0.8888888888888888,
              "#fdca26"
             ],
             [
              1,
              "#f0f921"
             ]
            ],
            "type": "heatmapgl"
           }
          ],
          "histogram": [
           {
            "marker": {
             "colorbar": {
              "outlinewidth": 0,
              "ticks": ""
             }
            },
            "type": "histogram"
           }
          ],
          "histogram2d": [
           {
            "colorbar": {
             "outlinewidth": 0,
             "ticks": ""
            },
            "colorscale": [
             [
              0,
              "#0d0887"
             ],
             [
              0.1111111111111111,
              "#46039f"
             ],
             [
              0.2222222222222222,
              "#7201a8"
             ],
             [
              0.3333333333333333,
              "#9c179e"
             ],
             [
              0.4444444444444444,
              "#bd3786"
             ],
             [
              0.5555555555555556,
              "#d8576b"
             ],
             [
              0.6666666666666666,
              "#ed7953"
             ],
             [
              0.7777777777777778,
              "#fb9f3a"
             ],
             [
              0.8888888888888888,
              "#fdca26"
             ],
             [
              1,
              "#f0f921"
             ]
            ],
            "type": "histogram2d"
           }
          ],
          "histogram2dcontour": [
           {
            "colorbar": {
             "outlinewidth": 0,
             "ticks": ""
            },
            "colorscale": [
             [
              0,
              "#0d0887"
             ],
             [
              0.1111111111111111,
              "#46039f"
             ],
             [
              0.2222222222222222,
              "#7201a8"
             ],
             [
              0.3333333333333333,
              "#9c179e"
             ],
             [
              0.4444444444444444,
              "#bd3786"
             ],
             [
              0.5555555555555556,
              "#d8576b"
             ],
             [
              0.6666666666666666,
              "#ed7953"
             ],
             [
              0.7777777777777778,
              "#fb9f3a"
             ],
             [
              0.8888888888888888,
              "#fdca26"
             ],
             [
              1,
              "#f0f921"
             ]
            ],
            "type": "histogram2dcontour"
           }
          ],
          "mesh3d": [
           {
            "colorbar": {
             "outlinewidth": 0,
             "ticks": ""
            },
            "type": "mesh3d"
           }
          ],
          "parcoords": [
           {
            "line": {
             "colorbar": {
              "outlinewidth": 0,
              "ticks": ""
             }
            },
            "type": "parcoords"
           }
          ],
          "pie": [
           {
            "automargin": true,
            "type": "pie"
           }
          ],
          "scatter": [
           {
            "marker": {
             "colorbar": {
              "outlinewidth": 0,
              "ticks": ""
             }
            },
            "type": "scatter"
           }
          ],
          "scatter3d": [
           {
            "line": {
             "colorbar": {
              "outlinewidth": 0,
              "ticks": ""
             }
            },
            "marker": {
             "colorbar": {
              "outlinewidth": 0,
              "ticks": ""
             }
            },
            "type": "scatter3d"
           }
          ],
          "scattercarpet": [
           {
            "marker": {
             "colorbar": {
              "outlinewidth": 0,
              "ticks": ""
             }
            },
            "type": "scattercarpet"
           }
          ],
          "scattergeo": [
           {
            "marker": {
             "colorbar": {
              "outlinewidth": 0,
              "ticks": ""
             }
            },
            "type": "scattergeo"
           }
          ],
          "scattergl": [
           {
            "marker": {
             "colorbar": {
              "outlinewidth": 0,
              "ticks": ""
             }
            },
            "type": "scattergl"
           }
          ],
          "scattermapbox": [
           {
            "marker": {
             "colorbar": {
              "outlinewidth": 0,
              "ticks": ""
             }
            },
            "type": "scattermapbox"
           }
          ],
          "scatterpolar": [
           {
            "marker": {
             "colorbar": {
              "outlinewidth": 0,
              "ticks": ""
             }
            },
            "type": "scatterpolar"
           }
          ],
          "scatterpolargl": [
           {
            "marker": {
             "colorbar": {
              "outlinewidth": 0,
              "ticks": ""
             }
            },
            "type": "scatterpolargl"
           }
          ],
          "scatterternary": [
           {
            "marker": {
             "colorbar": {
              "outlinewidth": 0,
              "ticks": ""
             }
            },
            "type": "scatterternary"
           }
          ],
          "surface": [
           {
            "colorbar": {
             "outlinewidth": 0,
             "ticks": ""
            },
            "colorscale": [
             [
              0,
              "#0d0887"
             ],
             [
              0.1111111111111111,
              "#46039f"
             ],
             [
              0.2222222222222222,
              "#7201a8"
             ],
             [
              0.3333333333333333,
              "#9c179e"
             ],
             [
              0.4444444444444444,
              "#bd3786"
             ],
             [
              0.5555555555555556,
              "#d8576b"
             ],
             [
              0.6666666666666666,
              "#ed7953"
             ],
             [
              0.7777777777777778,
              "#fb9f3a"
             ],
             [
              0.8888888888888888,
              "#fdca26"
             ],
             [
              1,
              "#f0f921"
             ]
            ],
            "type": "surface"
           }
          ],
          "table": [
           {
            "cells": {
             "fill": {
              "color": "#EBF0F8"
             },
             "line": {
              "color": "white"
             }
            },
            "header": {
             "fill": {
              "color": "#C8D4E3"
             },
             "line": {
              "color": "white"
             }
            },
            "type": "table"
           }
          ]
         },
         "layout": {
          "annotationdefaults": {
           "arrowcolor": "#2a3f5f",
           "arrowhead": 0,
           "arrowwidth": 1
          },
          "coloraxis": {
           "colorbar": {
            "outlinewidth": 0,
            "ticks": ""
           }
          },
          "colorscale": {
           "diverging": [
            [
             0,
             "#8e0152"
            ],
            [
             0.1,
             "#c51b7d"
            ],
            [
             0.2,
             "#de77ae"
            ],
            [
             0.3,
             "#f1b6da"
            ],
            [
             0.4,
             "#fde0ef"
            ],
            [
             0.5,
             "#f7f7f7"
            ],
            [
             0.6,
             "#e6f5d0"
            ],
            [
             0.7,
             "#b8e186"
            ],
            [
             0.8,
             "#7fbc41"
            ],
            [
             0.9,
             "#4d9221"
            ],
            [
             1,
             "#276419"
            ]
           ],
           "sequential": [
            [
             0,
             "#0d0887"
            ],
            [
             0.1111111111111111,
             "#46039f"
            ],
            [
             0.2222222222222222,
             "#7201a8"
            ],
            [
             0.3333333333333333,
             "#9c179e"
            ],
            [
             0.4444444444444444,
             "#bd3786"
            ],
            [
             0.5555555555555556,
             "#d8576b"
            ],
            [
             0.6666666666666666,
             "#ed7953"
            ],
            [
             0.7777777777777778,
             "#fb9f3a"
            ],
            [
             0.8888888888888888,
             "#fdca26"
            ],
            [
             1,
             "#f0f921"
            ]
           ],
           "sequentialminus": [
            [
             0,
             "#0d0887"
            ],
            [
             0.1111111111111111,
             "#46039f"
            ],
            [
             0.2222222222222222,
             "#7201a8"
            ],
            [
             0.3333333333333333,
             "#9c179e"
            ],
            [
             0.4444444444444444,
             "#bd3786"
            ],
            [
             0.5555555555555556,
             "#d8576b"
            ],
            [
             0.6666666666666666,
             "#ed7953"
            ],
            [
             0.7777777777777778,
             "#fb9f3a"
            ],
            [
             0.8888888888888888,
             "#fdca26"
            ],
            [
             1,
             "#f0f921"
            ]
           ]
          },
          "colorway": [
           "#636efa",
           "#EF553B",
           "#00cc96",
           "#ab63fa",
           "#FFA15A",
           "#19d3f3",
           "#FF6692",
           "#B6E880",
           "#FF97FF",
           "#FECB52"
          ],
          "font": {
           "color": "#2a3f5f"
          },
          "geo": {
           "bgcolor": "white",
           "lakecolor": "white",
           "landcolor": "#E5ECF6",
           "showlakes": true,
           "showland": true,
           "subunitcolor": "white"
          },
          "hoverlabel": {
           "align": "left"
          },
          "hovermode": "closest",
          "mapbox": {
           "style": "light"
          },
          "paper_bgcolor": "white",
          "plot_bgcolor": "#E5ECF6",
          "polar": {
           "angularaxis": {
            "gridcolor": "white",
            "linecolor": "white",
            "ticks": ""
           },
           "bgcolor": "#E5ECF6",
           "radialaxis": {
            "gridcolor": "white",
            "linecolor": "white",
            "ticks": ""
           }
          },
          "scene": {
           "xaxis": {
            "backgroundcolor": "#E5ECF6",
            "gridcolor": "white",
            "gridwidth": 2,
            "linecolor": "white",
            "showbackground": true,
            "ticks": "",
            "zerolinecolor": "white"
           },
           "yaxis": {
            "backgroundcolor": "#E5ECF6",
            "gridcolor": "white",
            "gridwidth": 2,
            "linecolor": "white",
            "showbackground": true,
            "ticks": "",
            "zerolinecolor": "white"
           },
           "zaxis": {
            "backgroundcolor": "#E5ECF6",
            "gridcolor": "white",
            "gridwidth": 2,
            "linecolor": "white",
            "showbackground": true,
            "ticks": "",
            "zerolinecolor": "white"
           }
          },
          "shapedefaults": {
           "line": {
            "color": "#2a3f5f"
           }
          },
          "ternary": {
           "aaxis": {
            "gridcolor": "white",
            "linecolor": "white",
            "ticks": ""
           },
           "baxis": {
            "gridcolor": "white",
            "linecolor": "white",
            "ticks": ""
           },
           "bgcolor": "#E5ECF6",
           "caxis": {
            "gridcolor": "white",
            "linecolor": "white",
            "ticks": ""
           }
          },
          "title": {
           "x": 0.05
          },
          "xaxis": {
           "automargin": true,
           "gridcolor": "white",
           "linecolor": "white",
           "ticks": "",
           "title": {
            "standoff": 15
           },
           "zerolinecolor": "white",
           "zerolinewidth": 2
          },
          "yaxis": {
           "automargin": true,
           "gridcolor": "white",
           "linecolor": "white",
           "ticks": "",
           "title": {
            "standoff": 15
           },
           "zerolinecolor": "white",
           "zerolinewidth": 2
          }
         }
        },
        "xaxis": {
         "anchor": "y",
         "domain": [
          0,
          1
         ],
         "title": {
          "text": "x"
         }
        },
        "yaxis": {
         "anchor": "x",
         "domain": [
          0,
          1
         ],
         "title": {
          "text": "y"
         }
        }
       }
      }
     },
     "metadata": {}
    },
    {
     "output_type": "display_data",
     "data": {
      "application/vnd.plotly.v1+json": {
       "config": {
        "plotlyServerURL": "https://plot.ly"
       },
       "data": [
        {
         "hovertemplate": "x=%{x}<br>y=%{y}<extra></extra>",
         "legendgroup": "",
         "marker": {
          "color": "#636efa",
          "symbol": "circle"
         },
         "mode": "markers",
         "name": "",
         "orientation": "v",
         "showlegend": false,
         "type": "scatter",
         "x": [
          0.8960000276565552,
          0.27900001406669617,
          0.3070000112056732,
          0.9739999771118164,
          0.0689999982714653,
          0.28999999165534973,
          0.014999999664723873,
          0.6859999895095825,
          0.2770000100135803,
          0.7429999709129333,
          0.43299999833106995,
          0.25099998712539673,
          0.6610000133514404,
          0.09600000083446503,
          0.7710000276565552,
          0.9919999837875366,
          0.9879999756813049,
          0.007000000216066837,
          0.6890000104904175,
          0.2280000001192093,
          0.8939999938011169,
          0.2759999930858612,
          0.22699999809265137,
          0.5419999957084656,
          0.9990000128746033,
          0.5299999713897705,
          0.0729999989271164,
          0.24400000274181366,
          0.0010000000474974513,
          0.012000000104308128,
          0.9829999804496765,
          0.8149999976158142,
          0.6309999823570251,
          0.6290000081062317,
          0.8029999732971191,
          0.06199999898672104,
          0.43799999356269836,
          0.9089999794960022,
          0.8600000143051147,
          0.460999995470047,
          0.7139999866485596,
          0.6100000143051147,
          0.8690000176429749,
          0.3659999966621399,
          0.7129999995231628,
          0.7649999856948853,
          0.8899999856948853,
          0.2160000056028366,
          0.039000000804662704,
          0.34299999475479126,
          0.2639999985694885,
          0.8149999976158142,
          0.03799999877810478,
          0.4830000102519989,
          0.1850000023841858,
          0.972000002861023,
          0.23899999260902405,
          0.5299999713897705,
          0.4950000047683716,
          0.9789999723434448,
          0.7360000014305115,
          0.20499999821186066,
          0.8270000219345093,
          0.8669999837875366,
          0.23199999332427979,
          0.6050000190734863,
          0.04500000178813934,
          0.12600000202655792,
          0.13500000536441803,
          0.9200000166893005,
          0.7239999771118164,
          0.9559999704360962,
          0.7839999794960022,
          0.2879999876022339,
          0.3490000069141388,
          0.8989999890327454,
          0.5580000281333923,
          0.4819999933242798,
          0.6520000100135803,
          0.0949999988079071,
          0.125,
          0.5759999752044678,
          0.06700000166893005,
          0.28600001335144043,
          0.3100000023841858,
          0.8500000238418579,
          0.4729999899864197,
          0.7049999833106995,
          0.9900000095367432,
          0.593999981880188,
          0.9089999794960022,
          0.27000001072883606,
          0.39899998903274536,
          0.847000002861023,
          0.3199999928474426,
          0.4449999928474426,
          0.6510000228881836,
          0.9169999957084656,
          0.7760000228881836,
          0.843999981880188
         ],
         "xaxis": "x",
         "y": [
          0.5400000214576721,
          0.859000027179718,
          0.40299999713897705,
          0.5460000038146973,
          0.902999997138977,
          0.4480000138282776,
          0.08500000089406967,
          0.5070000290870667,
          0.4339999854564667,
          0.7049999833106995,
          0.7519999742507935,
          0.15399999916553497,
          0.6200000047683716,
          0.8230000138282776,
          0.40299999713897705,
          0.6430000066757202,
          0.7630000114440918,
          0.9100000262260437,
          0.8050000071525574,
          0.27399998903274536,
          0.753000020980835,
          0.10000000149011612,
          0.4819999933242798,
          0.2540000081062317,
          0.6729999780654907,
          0.5720000267028809,
          0.25699999928474426,
          0.4099999964237213,
          0.7179999947547913,
          0.9120000004768372,
          0.25099998712539673,
          0.3149999976158142,
          0.26100000739097595,
          0.25099998712539673,
          0.4659999907016754,
          0.5350000262260437,
          0.25,
          0.49900001287460327,
          0.4519999921321869,
          0.7020000219345093,
          0.6679999828338623,
          0.6949999928474426,
          0.46700000762939453,
          0.5260000228881836,
          0.9670000076293945,
          0.4050000011920929,
          0.47200000286102295,
          0.4620000123977661,
          0.4909999966621399,
          0.5659999847412109,
          0.05700000002980232,
          0.8980000019073486,
          0.7039999961853027,
          0.20399999618530273,
          0.18400000035762787,
          0.16200000047683716,
          0.828000009059906,
          0.19200000166893005,
          0.671999990940094,
          0.4740000069141388,
          0.8640000224113464,
          0.3799999952316284,
          0.6230000257492065,
          0.8569999933242798,
          0.6610000133514404,
          0.5849999785423279,
          0.550000011920929,
          0.3659999966621399,
          0.36399999260902405,
          0.3619999885559082,
          0.8429999947547913,
          0.9449999928474426,
          0.8040000200271606,
          0.8870000243186951,
          0.296999990940094,
          0.7459999918937683,
          0.11500000208616257,
          0.8379999995231628,
          0.6050000190734863,
          0.3440000116825104,
          0.8149999976158142,
          0.14300000667572021,
          0.25999999046325684,
          0.23800000548362732,
          0.6480000019073486,
          0.01899999938905239,
          0.5960000157356262,
          0.39399999380111694,
          0.06400000303983688,
          0.7900000214576721,
          0.5630000233650208,
          0.6269999742507935,
          0.3059999942779541,
          0.5899999737739563,
          0.6909999847412109,
          0.2630000114440918,
          0.8960000276565552,
          0.023000000044703484,
          0.13500000536441803,
          0.925000011920929
         ],
         "yaxis": "y"
        },
        {
         "marker": {
          "size": 10
         },
         "mode": "markers",
         "name": "Node positions",
         "type": "scatter",
         "x": [
          0.07273551821708679,
          0.28204047679901123,
          0.06295952200889587,
          0.6122567057609558,
          0.5342217087745667
         ],
         "y": [
          0.16149063408374786,
          0.9289700984954834,
          0.4131415784358978,
          0.5759856104850769,
          0.41108906269073486
         ]
        }
       ],
       "layout": {
        "legend": {
         "tracegroupgap": 0
        },
        "template": {
         "data": {
          "bar": [
           {
            "error_x": {
             "color": "#2a3f5f"
            },
            "error_y": {
             "color": "#2a3f5f"
            },
            "marker": {
             "line": {
              "color": "#E5ECF6",
              "width": 0.5
             }
            },
            "type": "bar"
           }
          ],
          "barpolar": [
           {
            "marker": {
             "line": {
              "color": "#E5ECF6",
              "width": 0.5
             }
            },
            "type": "barpolar"
           }
          ],
          "carpet": [
           {
            "aaxis": {
             "endlinecolor": "#2a3f5f",
             "gridcolor": "white",
             "linecolor": "white",
             "minorgridcolor": "white",
             "startlinecolor": "#2a3f5f"
            },
            "baxis": {
             "endlinecolor": "#2a3f5f",
             "gridcolor": "white",
             "linecolor": "white",
             "minorgridcolor": "white",
             "startlinecolor": "#2a3f5f"
            },
            "type": "carpet"
           }
          ],
          "choropleth": [
           {
            "colorbar": {
             "outlinewidth": 0,
             "ticks": ""
            },
            "type": "choropleth"
           }
          ],
          "contour": [
           {
            "colorbar": {
             "outlinewidth": 0,
             "ticks": ""
            },
            "colorscale": [
             [
              0,
              "#0d0887"
             ],
             [
              0.1111111111111111,
              "#46039f"
             ],
             [
              0.2222222222222222,
              "#7201a8"
             ],
             [
              0.3333333333333333,
              "#9c179e"
             ],
             [
              0.4444444444444444,
              "#bd3786"
             ],
             [
              0.5555555555555556,
              "#d8576b"
             ],
             [
              0.6666666666666666,
              "#ed7953"
             ],
             [
              0.7777777777777778,
              "#fb9f3a"
             ],
             [
              0.8888888888888888,
              "#fdca26"
             ],
             [
              1,
              "#f0f921"
             ]
            ],
            "type": "contour"
           }
          ],
          "contourcarpet": [
           {
            "colorbar": {
             "outlinewidth": 0,
             "ticks": ""
            },
            "type": "contourcarpet"
           }
          ],
          "heatmap": [
           {
            "colorbar": {
             "outlinewidth": 0,
             "ticks": ""
            },
            "colorscale": [
             [
              0,
              "#0d0887"
             ],
             [
              0.1111111111111111,
              "#46039f"
             ],
             [
              0.2222222222222222,
              "#7201a8"
             ],
             [
              0.3333333333333333,
              "#9c179e"
             ],
             [
              0.4444444444444444,
              "#bd3786"
             ],
             [
              0.5555555555555556,
              "#d8576b"
             ],
             [
              0.6666666666666666,
              "#ed7953"
             ],
             [
              0.7777777777777778,
              "#fb9f3a"
             ],
             [
              0.8888888888888888,
              "#fdca26"
             ],
             [
              1,
              "#f0f921"
             ]
            ],
            "type": "heatmap"
           }
          ],
          "heatmapgl": [
           {
            "colorbar": {
             "outlinewidth": 0,
             "ticks": ""
            },
            "colorscale": [
             [
              0,
              "#0d0887"
             ],
             [
              0.1111111111111111,
              "#46039f"
             ],
             [
              0.2222222222222222,
              "#7201a8"
             ],
             [
              0.3333333333333333,
              "#9c179e"
             ],
             [
              0.4444444444444444,
              "#bd3786"
             ],
             [
              0.5555555555555556,
              "#d8576b"
             ],
             [
              0.6666666666666666,
              "#ed7953"
             ],
             [
              0.7777777777777778,
              "#fb9f3a"
             ],
             [
              0.8888888888888888,
              "#fdca26"
             ],
             [
              1,
              "#f0f921"
             ]
            ],
            "type": "heatmapgl"
           }
          ],
          "histogram": [
           {
            "marker": {
             "colorbar": {
              "outlinewidth": 0,
              "ticks": ""
             }
            },
            "type": "histogram"
           }
          ],
          "histogram2d": [
           {
            "colorbar": {
             "outlinewidth": 0,
             "ticks": ""
            },
            "colorscale": [
             [
              0,
              "#0d0887"
             ],
             [
              0.1111111111111111,
              "#46039f"
             ],
             [
              0.2222222222222222,
              "#7201a8"
             ],
             [
              0.3333333333333333,
              "#9c179e"
             ],
             [
              0.4444444444444444,
              "#bd3786"
             ],
             [
              0.5555555555555556,
              "#d8576b"
             ],
             [
              0.6666666666666666,
              "#ed7953"
             ],
             [
              0.7777777777777778,
              "#fb9f3a"
             ],
             [
              0.8888888888888888,
              "#fdca26"
             ],
             [
              1,
              "#f0f921"
             ]
            ],
            "type": "histogram2d"
           }
          ],
          "histogram2dcontour": [
           {
            "colorbar": {
             "outlinewidth": 0,
             "ticks": ""
            },
            "colorscale": [
             [
              0,
              "#0d0887"
             ],
             [
              0.1111111111111111,
              "#46039f"
             ],
             [
              0.2222222222222222,
              "#7201a8"
             ],
             [
              0.3333333333333333,
              "#9c179e"
             ],
             [
              0.4444444444444444,
              "#bd3786"
             ],
             [
              0.5555555555555556,
              "#d8576b"
             ],
             [
              0.6666666666666666,
              "#ed7953"
             ],
             [
              0.7777777777777778,
              "#fb9f3a"
             ],
             [
              0.8888888888888888,
              "#fdca26"
             ],
             [
              1,
              "#f0f921"
             ]
            ],
            "type": "histogram2dcontour"
           }
          ],
          "mesh3d": [
           {
            "colorbar": {
             "outlinewidth": 0,
             "ticks": ""
            },
            "type": "mesh3d"
           }
          ],
          "parcoords": [
           {
            "line": {
             "colorbar": {
              "outlinewidth": 0,
              "ticks": ""
             }
            },
            "type": "parcoords"
           }
          ],
          "pie": [
           {
            "automargin": true,
            "type": "pie"
           }
          ],
          "scatter": [
           {
            "marker": {
             "colorbar": {
              "outlinewidth": 0,
              "ticks": ""
             }
            },
            "type": "scatter"
           }
          ],
          "scatter3d": [
           {
            "line": {
             "colorbar": {
              "outlinewidth": 0,
              "ticks": ""
             }
            },
            "marker": {
             "colorbar": {
              "outlinewidth": 0,
              "ticks": ""
             }
            },
            "type": "scatter3d"
           }
          ],
          "scattercarpet": [
           {
            "marker": {
             "colorbar": {
              "outlinewidth": 0,
              "ticks": ""
             }
            },
            "type": "scattercarpet"
           }
          ],
          "scattergeo": [
           {
            "marker": {
             "colorbar": {
              "outlinewidth": 0,
              "ticks": ""
             }
            },
            "type": "scattergeo"
           }
          ],
          "scattergl": [
           {
            "marker": {
             "colorbar": {
              "outlinewidth": 0,
              "ticks": ""
             }
            },
            "type": "scattergl"
           }
          ],
          "scattermapbox": [
           {
            "marker": {
             "colorbar": {
              "outlinewidth": 0,
              "ticks": ""
             }
            },
            "type": "scattermapbox"
           }
          ],
          "scatterpolar": [
           {
            "marker": {
             "colorbar": {
              "outlinewidth": 0,
              "ticks": ""
             }
            },
            "type": "scatterpolar"
           }
          ],
          "scatterpolargl": [
           {
            "marker": {
             "colorbar": {
              "outlinewidth": 0,
              "ticks": ""
             }
            },
            "type": "scatterpolargl"
           }
          ],
          "scatterternary": [
           {
            "marker": {
             "colorbar": {
              "outlinewidth": 0,
              "ticks": ""
             }
            },
            "type": "scatterternary"
           }
          ],
          "surface": [
           {
            "colorbar": {
             "outlinewidth": 0,
             "ticks": ""
            },
            "colorscale": [
             [
              0,
              "#0d0887"
             ],
             [
              0.1111111111111111,
              "#46039f"
             ],
             [
              0.2222222222222222,
              "#7201a8"
             ],
             [
              0.3333333333333333,
              "#9c179e"
             ],
             [
              0.4444444444444444,
              "#bd3786"
             ],
             [
              0.5555555555555556,
              "#d8576b"
             ],
             [
              0.6666666666666666,
              "#ed7953"
             ],
             [
              0.7777777777777778,
              "#fb9f3a"
             ],
             [
              0.8888888888888888,
              "#fdca26"
             ],
             [
              1,
              "#f0f921"
             ]
            ],
            "type": "surface"
           }
          ],
          "table": [
           {
            "cells": {
             "fill": {
              "color": "#EBF0F8"
             },
             "line": {
              "color": "white"
             }
            },
            "header": {
             "fill": {
              "color": "#C8D4E3"
             },
             "line": {
              "color": "white"
             }
            },
            "type": "table"
           }
          ]
         },
         "layout": {
          "annotationdefaults": {
           "arrowcolor": "#2a3f5f",
           "arrowhead": 0,
           "arrowwidth": 1
          },
          "coloraxis": {
           "colorbar": {
            "outlinewidth": 0,
            "ticks": ""
           }
          },
          "colorscale": {
           "diverging": [
            [
             0,
             "#8e0152"
            ],
            [
             0.1,
             "#c51b7d"
            ],
            [
             0.2,
             "#de77ae"
            ],
            [
             0.3,
             "#f1b6da"
            ],
            [
             0.4,
             "#fde0ef"
            ],
            [
             0.5,
             "#f7f7f7"
            ],
            [
             0.6,
             "#e6f5d0"
            ],
            [
             0.7,
             "#b8e186"
            ],
            [
             0.8,
             "#7fbc41"
            ],
            [
             0.9,
             "#4d9221"
            ],
            [
             1,
             "#276419"
            ]
           ],
           "sequential": [
            [
             0,
             "#0d0887"
            ],
            [
             0.1111111111111111,
             "#46039f"
            ],
            [
             0.2222222222222222,
             "#7201a8"
            ],
            [
             0.3333333333333333,
             "#9c179e"
            ],
            [
             0.4444444444444444,
             "#bd3786"
            ],
            [
             0.5555555555555556,
             "#d8576b"
            ],
            [
             0.6666666666666666,
             "#ed7953"
            ],
            [
             0.7777777777777778,
             "#fb9f3a"
            ],
            [
             0.8888888888888888,
             "#fdca26"
            ],
            [
             1,
             "#f0f921"
            ]
           ],
           "sequentialminus": [
            [
             0,
             "#0d0887"
            ],
            [
             0.1111111111111111,
             "#46039f"
            ],
            [
             0.2222222222222222,
             "#7201a8"
            ],
            [
             0.3333333333333333,
             "#9c179e"
            ],
            [
             0.4444444444444444,
             "#bd3786"
            ],
            [
             0.5555555555555556,
             "#d8576b"
            ],
            [
             0.6666666666666666,
             "#ed7953"
            ],
            [
             0.7777777777777778,
             "#fb9f3a"
            ],
            [
             0.8888888888888888,
             "#fdca26"
            ],
            [
             1,
             "#f0f921"
            ]
           ]
          },
          "colorway": [
           "#636efa",
           "#EF553B",
           "#00cc96",
           "#ab63fa",
           "#FFA15A",
           "#19d3f3",
           "#FF6692",
           "#B6E880",
           "#FF97FF",
           "#FECB52"
          ],
          "font": {
           "color": "#2a3f5f"
          },
          "geo": {
           "bgcolor": "white",
           "lakecolor": "white",
           "landcolor": "#E5ECF6",
           "showlakes": true,
           "showland": true,
           "subunitcolor": "white"
          },
          "hoverlabel": {
           "align": "left"
          },
          "hovermode": "closest",
          "mapbox": {
           "style": "light"
          },
          "paper_bgcolor": "white",
          "plot_bgcolor": "#E5ECF6",
          "polar": {
           "angularaxis": {
            "gridcolor": "white",
            "linecolor": "white",
            "ticks": ""
           },
           "bgcolor": "#E5ECF6",
           "radialaxis": {
            "gridcolor": "white",
            "linecolor": "white",
            "ticks": ""
           }
          },
          "scene": {
           "xaxis": {
            "backgroundcolor": "#E5ECF6",
            "gridcolor": "white",
            "gridwidth": 2,
            "linecolor": "white",
            "showbackground": true,
            "ticks": "",
            "zerolinecolor": "white"
           },
           "yaxis": {
            "backgroundcolor": "#E5ECF6",
            "gridcolor": "white",
            "gridwidth": 2,
            "linecolor": "white",
            "showbackground": true,
            "ticks": "",
            "zerolinecolor": "white"
           },
           "zaxis": {
            "backgroundcolor": "#E5ECF6",
            "gridcolor": "white",
            "gridwidth": 2,
            "linecolor": "white",
            "showbackground": true,
            "ticks": "",
            "zerolinecolor": "white"
           }
          },
          "shapedefaults": {
           "line": {
            "color": "#2a3f5f"
           }
          },
          "ternary": {
           "aaxis": {
            "gridcolor": "white",
            "linecolor": "white",
            "ticks": ""
           },
           "baxis": {
            "gridcolor": "white",
            "linecolor": "white",
            "ticks": ""
           },
           "bgcolor": "#E5ECF6",
           "caxis": {
            "gridcolor": "white",
            "linecolor": "white",
            "ticks": ""
           }
          },
          "title": {
           "x": 0.05
          },
          "xaxis": {
           "automargin": true,
           "gridcolor": "white",
           "linecolor": "white",
           "ticks": "",
           "title": {
            "standoff": 15
           },
           "zerolinecolor": "white",
           "zerolinewidth": 2
          },
          "yaxis": {
           "automargin": true,
           "gridcolor": "white",
           "linecolor": "white",
           "ticks": "",
           "title": {
            "standoff": 15
           },
           "zerolinecolor": "white",
           "zerolinewidth": 2
          }
         }
        },
        "title": {
         "text": "Input space"
        },
        "xaxis": {
         "anchor": "y",
         "domain": [
          0,
          1
         ],
         "title": {
          "text": "x"
         }
        },
        "yaxis": {
         "anchor": "x",
         "domain": [
          0,
          1
         ],
         "title": {
          "text": "y"
         }
        }
       }
      }
     },
     "metadata": {}
    },
    {
     "output_type": "execute_result",
     "data": {
      "text/plain": "0.15350854687160786"
     },
     "metadata": {},
     "execution_count": 207
    }
   ],
   "source": [
    "n=5\n",
    "epochs=700\n",
    "\n",
    "RBFNet = RBF_Network(n, x, variance=1, eta=1e-5, useDelta=True, add_noise=True)\n",
    "wins = RBFNet.init_cl(x, 50, 1e-4, useBias=True)\n",
    "\n",
    "meanFig = ex.bar(x=np.arange(len(wins)), y=wins.ravel())\n",
    "meanFig.show()\n",
    "\n",
    "clsFig = ex.scatter(x=x[:, 0], y=x[:,1],title=\"Input space\")\n",
    "clsFig.add_trace(go.Scatter(x=RBFNet.mean[:,0], y=RBFNet.mean[:,1], name=\"Node positions\", mode=\"markers\", marker_size=10))\n",
    "clsFig.show()\n",
    "\n",
    "RBFNet.train_network(epochs, x, y, tx, ty)\n",
    "RBFNet.validate(tx, ty, _plot=False)\n"
   ]
  },
  {
   "cell_type": "code",
   "execution_count": 208,
   "metadata": {},
   "outputs": [
    {
     "output_type": "display_data",
     "data": {
      "application/vnd.plotly.v1+json": {
       "config": {
        "plotlyServerURL": "https://plot.ly"
       },
       "data": [
        {
         "hovertemplate": "x=%{x}<br>y=%{y}<extra></extra>",
         "legendgroup": "",
         "line": {
          "color": "#636efa",
          "dash": "solid"
         },
         "mode": "lines",
         "name": "",
         "orientation": "v",
         "showlegend": false,
         "type": "scatter",
         "x": [
          0,
          1,
          2,
          3,
          4,
          5,
          6,
          7,
          8,
          9,
          10,
          11,
          12,
          13,
          14,
          15,
          16,
          17,
          18,
          19,
          20,
          21,
          22,
          23,
          24,
          25,
          26,
          27,
          28,
          29,
          30,
          31,
          32,
          33,
          34,
          35,
          36,
          37,
          38,
          39,
          40,
          41,
          42,
          43,
          44,
          45,
          46,
          47,
          48,
          49,
          50,
          51,
          52,
          53,
          54,
          55,
          56,
          57,
          58,
          59,
          60,
          61,
          62,
          63,
          64,
          65,
          66,
          67,
          68,
          69,
          70,
          71,
          72,
          73,
          74,
          75,
          76,
          77,
          78,
          79,
          80,
          81,
          82,
          83,
          84,
          85,
          86,
          87,
          88,
          89,
          90,
          91,
          92,
          93,
          94,
          95,
          96,
          97,
          98,
          99,
          100,
          101,
          102,
          103,
          104,
          105,
          106,
          107,
          108,
          109,
          110,
          111,
          112,
          113,
          114,
          115,
          116,
          117,
          118,
          119,
          120,
          121,
          122,
          123,
          124,
          125,
          126,
          127,
          128,
          129,
          130,
          131,
          132,
          133,
          134,
          135,
          136,
          137,
          138,
          139,
          140,
          141,
          142,
          143,
          144,
          145,
          146,
          147,
          148,
          149,
          150,
          151,
          152,
          153,
          154,
          155,
          156,
          157,
          158,
          159,
          160,
          161,
          162,
          163,
          164,
          165,
          166,
          167,
          168,
          169,
          170,
          171,
          172,
          173,
          174,
          175,
          176,
          177,
          178,
          179,
          180,
          181,
          182,
          183,
          184,
          185,
          186,
          187,
          188,
          189,
          190,
          191,
          192,
          193,
          194,
          195,
          196,
          197,
          198,
          199,
          200,
          201,
          202,
          203,
          204,
          205,
          206,
          207,
          208,
          209,
          210,
          211,
          212,
          213,
          214,
          215,
          216,
          217,
          218,
          219,
          220,
          221,
          222,
          223,
          224,
          225,
          226,
          227,
          228,
          229,
          230,
          231,
          232,
          233,
          234,
          235,
          236,
          237,
          238,
          239,
          240,
          241,
          242,
          243,
          244,
          245,
          246,
          247,
          248,
          249,
          250,
          251,
          252,
          253,
          254,
          255,
          256,
          257,
          258,
          259,
          260,
          261,
          262,
          263,
          264,
          265,
          266,
          267,
          268,
          269,
          270,
          271,
          272,
          273,
          274,
          275,
          276,
          277,
          278,
          279,
          280,
          281,
          282,
          283,
          284,
          285,
          286,
          287,
          288,
          289,
          290,
          291,
          292,
          293,
          294,
          295,
          296,
          297,
          298,
          299,
          300,
          301,
          302,
          303,
          304,
          305,
          306,
          307,
          308,
          309,
          310,
          311,
          312,
          313,
          314,
          315,
          316,
          317,
          318,
          319,
          320,
          321,
          322,
          323,
          324,
          325,
          326,
          327,
          328,
          329,
          330,
          331,
          332,
          333,
          334,
          335,
          336,
          337,
          338,
          339,
          340,
          341,
          342,
          343,
          344,
          345,
          346,
          347,
          348,
          349,
          350,
          351,
          352,
          353,
          354,
          355,
          356,
          357,
          358,
          359,
          360,
          361,
          362,
          363,
          364,
          365,
          366,
          367,
          368,
          369,
          370,
          371,
          372,
          373,
          374,
          375,
          376,
          377,
          378,
          379,
          380,
          381,
          382,
          383,
          384,
          385,
          386,
          387,
          388,
          389,
          390,
          391,
          392,
          393,
          394,
          395,
          396,
          397,
          398,
          399,
          400,
          401,
          402,
          403,
          404,
          405,
          406,
          407,
          408,
          409,
          410,
          411,
          412,
          413,
          414,
          415,
          416,
          417,
          418,
          419,
          420,
          421,
          422,
          423,
          424,
          425,
          426,
          427,
          428,
          429,
          430,
          431,
          432,
          433,
          434,
          435,
          436,
          437,
          438,
          439,
          440,
          441,
          442,
          443,
          444,
          445,
          446,
          447,
          448,
          449,
          450,
          451,
          452,
          453,
          454,
          455,
          456,
          457,
          458,
          459,
          460,
          461,
          462,
          463,
          464,
          465,
          466,
          467,
          468,
          469,
          470,
          471,
          472,
          473,
          474,
          475,
          476,
          477,
          478,
          479,
          480,
          481,
          482,
          483,
          484,
          485,
          486,
          487,
          488,
          489,
          490,
          491,
          492,
          493,
          494,
          495,
          496,
          497,
          498,
          499,
          500,
          501,
          502,
          503,
          504,
          505,
          506,
          507,
          508,
          509,
          510,
          511,
          512,
          513,
          514,
          515,
          516,
          517,
          518,
          519,
          520,
          521,
          522,
          523,
          524,
          525,
          526,
          527,
          528,
          529,
          530,
          531,
          532,
          533,
          534,
          535,
          536,
          537,
          538,
          539,
          540,
          541,
          542,
          543,
          544,
          545,
          546,
          547,
          548,
          549,
          550,
          551,
          552,
          553,
          554,
          555,
          556,
          557,
          558,
          559,
          560,
          561,
          562,
          563,
          564,
          565,
          566,
          567,
          568,
          569,
          570,
          571,
          572,
          573,
          574,
          575,
          576,
          577,
          578,
          579,
          580,
          581,
          582,
          583,
          584,
          585,
          586,
          587,
          588,
          589,
          590,
          591,
          592,
          593,
          594,
          595,
          596,
          597,
          598,
          599,
          600,
          601,
          602,
          603,
          604,
          605,
          606,
          607,
          608,
          609,
          610,
          611,
          612,
          613,
          614,
          615,
          616,
          617,
          618,
          619,
          620,
          621,
          622,
          623,
          624,
          625,
          626,
          627,
          628,
          629,
          630,
          631,
          632,
          633,
          634,
          635,
          636,
          637,
          638,
          639,
          640,
          641,
          642,
          643,
          644,
          645,
          646,
          647,
          648,
          649,
          650,
          651,
          652,
          653,
          654,
          655,
          656,
          657,
          658,
          659,
          660,
          661,
          662,
          663,
          664,
          665,
          666,
          667,
          668,
          669,
          670,
          671,
          672,
          673,
          674,
          675,
          676,
          677,
          678,
          679,
          680,
          681,
          682,
          683,
          684,
          685,
          686,
          687,
          688,
          689,
          690,
          691,
          692,
          693,
          694,
          695,
          696,
          697,
          698,
          699
         ],
         "xaxis": "x",
         "y": [
          1.2385763952402684,
          1.215104124565069,
          1.2149862145068222,
          1.2105410259360605,
          1.2002836909898276,
          1.199470150825802,
          1.1900567308142787,
          1.1907843199438664,
          1.1855611771862389,
          1.1721870184018441,
          1.168455170270859,
          1.166080949177588,
          1.1685419885621058,
          1.1710102396272903,
          1.1576649102806236,
          1.150346124302598,
          1.147690461025302,
          1.1524273457783818,
          1.1313794911601238,
          1.1362594211137838,
          1.1283086628018386,
          1.1285985588944971,
          1.1137647887149698,
          1.1165964976676919,
          1.105878532279747,
          1.097765109699473,
          1.1115226647721748,
          1.0995437829713541,
          1.07371657100973,
          1.0829372763864578,
          1.0821429389301775,
          1.0718004105194703,
          1.0708188589073024,
          1.0608261302126991,
          1.0656331061597293,
          1.04934197791539,
          1.0488711239616277,
          1.0554492202697145,
          1.039888407685676,
          1.0470412204600046,
          1.0321090824143377,
          1.0413473818860277,
          1.0301039339375502,
          1.028452474073442,
          1.0226894990753563,
          1.0048862712724498,
          1.0110773185682436,
          0.9934813322856061,
          1.0042189590433073,
          1.0135147428438513,
          0.9941829045313894,
          0.9884911945732009,
          0.9782936262099285,
          0.9801023326659971,
          0.9890729581953491,
          0.9760609388985785,
          0.9711822161367738,
          0.9689581970017231,
          0.9804018147312966,
          0.9485641403041138,
          0.9503022458227082,
          0.9534586352186628,
          0.9447334266048243,
          0.9390619281950419,
          0.937788336000694,
          0.9437745963312868,
          0.9249435037841696,
          0.9304182337309621,
          0.913191143069231,
          0.9167199452571103,
          0.9223999238053036,
          0.8994057332050377,
          0.9009263753060481,
          0.9009835282246113,
          0.9064564800348954,
          0.900366704551608,
          0.9040060123659114,
          0.8940242258146709,
          0.8899124437569571,
          0.8844495168227321,
          0.8894776707469524,
          0.871429833643196,
          0.8654100293578328,
          0.8687103951165404,
          0.865158647169089,
          0.8694999048146809,
          0.852901815357781,
          0.8601546830313205,
          0.8412048605298313,
          0.8563303242766477,
          0.829549371009356,
          0.8535397044611179,
          0.8243314673505918,
          0.823174920499783,
          0.8282189183883725,
          0.820222003405101,
          0.8329370906987431,
          0.8251658536770229,
          0.8237501970815179,
          0.8139856244654966,
          0.811094810531443,
          0.8017808154324392,
          0.8094247272839422,
          0.8005873271805467,
          0.7966738689039693,
          0.8020512498712833,
          0.7888971983959402,
          0.7846341535353659,
          0.7888461722470719,
          0.7883045093981528,
          0.7710162847480372,
          0.7745037215722712,
          0.7532463318093074,
          0.774919121883315,
          0.75614872523739,
          0.7613587430356743,
          0.7689813443630676,
          0.770460520727361,
          0.7587935837357552,
          0.7514575239817733,
          0.7556897318397076,
          0.7349280857442241,
          0.7353604491417888,
          0.7482088924438537,
          0.7487428324065745,
          0.7321169777660858,
          0.7310904803172914,
          0.732430907480377,
          0.7202987703826514,
          0.7218566964907914,
          0.7291642229283781,
          0.712262570581198,
          0.6971768443124782,
          0.7134329358500381,
          0.7078922643283488,
          0.7102988407235578,
          0.6997032998855967,
          0.7078397874673226,
          0.6923707214567387,
          0.6893439390450967,
          0.679353576242384,
          0.6997754955983233,
          0.6870988961571598,
          0.6854700747767584,
          0.680754156428371,
          0.6763766558039709,
          0.6801907986083289,
          0.6604965786578186,
          0.6728719212980668,
          0.668886461390563,
          0.6621961881359695,
          0.6630490765354128,
          0.6668709646103368,
          0.6538018443051241,
          0.6495846358235338,
          0.6424058807754724,
          0.6342593424340771,
          0.6416617710626755,
          0.6328070798614772,
          0.6326004207685234,
          0.6423803810818398,
          0.6419198869941104,
          0.6193195569891214,
          0.6338695082503754,
          0.635780784112809,
          0.636861643112071,
          0.6227155331620211,
          0.6125679678613607,
          0.6095222246656871,
          0.602107116366432,
          0.6007376812155178,
          0.6113728833593756,
          0.6166831904756956,
          0.6023364789365648,
          0.5984894986290041,
          0.6118364537263831,
          0.5923355600714685,
          0.596872857943673,
          0.59683196013277,
          0.5864566467691058,
          0.5817240394133608,
          0.5774787768662965,
          0.5929577614185669,
          0.5896241221680252,
          0.5784502311870114,
          0.5635123275167142,
          0.569279352526471,
          0.5644410020174151,
          0.5628259968943596,
          0.5722990756907891,
          0.566782617244612,
          0.563562404448499,
          0.5714358097627137,
          0.5597244942794483,
          0.554628956854011,
          0.5570238028673956,
          0.5545973384292722,
          0.5575793904923116,
          0.5515504843745663,
          0.5463295391051506,
          0.537885175656998,
          0.541504803044385,
          0.5317352938734987,
          0.5365859811303576,
          0.5412583278359192,
          0.5319891563617616,
          0.5274882378497481,
          0.5340439419504627,
          0.5279242835430177,
          0.5249482125978865,
          0.5008514089430905,
          0.5182816777652305,
          0.5225257335909563,
          0.521807733930531,
          0.5132521948944114,
          0.519189772697871,
          0.5133517805399083,
          0.5100352812241352,
          0.4959982909503557,
          0.5036522336655387,
          0.5026076937443416,
          0.5115181530452445,
          0.49534060784861816,
          0.4898457598814588,
          0.5006467304189142,
          0.4897640215610297,
          0.49258829281148875,
          0.4870651896411598,
          0.4773685706725853,
          0.49870016017177826,
          0.4782935437654567,
          0.4849060530967125,
          0.4915114688810624,
          0.48381625042652276,
          0.469272088064194,
          0.4757669450433631,
          0.4801963256102883,
          0.4696229377255963,
          0.4686358011694193,
          0.4634027587219807,
          0.47176191028205183,
          0.46383103943006354,
          0.4644662989508324,
          0.45964339032614226,
          0.4759360043900903,
          0.45663220697971213,
          0.45181256625792865,
          0.46633710956576474,
          0.4410298111204574,
          0.4379611567434382,
          0.4426427686322828,
          0.45196773112147376,
          0.45590204166442944,
          0.4413219188612117,
          0.43655223371021407,
          0.43490293299515265,
          0.4310949410465003,
          0.4356186143759024,
          0.435684553560655,
          0.43712598966734534,
          0.44227942871405107,
          0.4436688024272942,
          0.435798774248698,
          0.42607641540531205,
          0.42710025117633454,
          0.42186164769590745,
          0.4331601238459371,
          0.42387040759595357,
          0.43332355070081796,
          0.41833260648635506,
          0.42210373815219815,
          0.4237234713004176,
          0.42474371803924965,
          0.4273399500781492,
          0.4122674532743554,
          0.4103945938954734,
          0.408234890292119,
          0.4016576931195385,
          0.4080646181726657,
          0.4033018303204689,
          0.39597546561139774,
          0.4053862130768696,
          0.39727253036656074,
          0.40529743362573273,
          0.40119045893895716,
          0.39577342357334755,
          0.391457094834391,
          0.38315135946729856,
          0.3965983812017737,
          0.39803573652373603,
          0.39920761671873684,
          0.39280708567890454,
          0.37694158631403185,
          0.37706601491731795,
          0.38304526538269346,
          0.38058700644045557,
          0.3736070107283691,
          0.381289775739842,
          0.37636537622674754,
          0.3713552441947099,
          0.36647497471217344,
          0.3862927294460393,
          0.3796955336662798,
          0.3611460833322477,
          0.3635951307513874,
          0.3670601969461466,
          0.3747563696492185,
          0.36058067484982387,
          0.36960982591663244,
          0.35838833865928094,
          0.3508638379445747,
          0.3496925370231304,
          0.3649651178643466,
          0.3621130039988287,
          0.3749607992772699,
          0.3512851546933415,
          0.35993586148391216,
          0.35770528729551393,
          0.34554497404958684,
          0.3605614944054028,
          0.3581906969102953,
          0.3646512050988235,
          0.3516141565160938,
          0.34510986348592276,
          0.36158802759701464,
          0.35293295631459587,
          0.3379071698881556,
          0.3400021017828248,
          0.34707956243343757,
          0.3211854327414956,
          0.33775042260398197,
          0.3473114871919701,
          0.3340985819978481,
          0.32691268753489994,
          0.3438320460252916,
          0.3359896427117016,
          0.34007902198926165,
          0.3290128397064969,
          0.34030959797681226,
          0.3269496336901147,
          0.3253151883472876,
          0.3246552438327322,
          0.32489736757866644,
          0.3291773042068916,
          0.3371346344819618,
          0.3261965295699307,
          0.32784685890707166,
          0.3239205853585813,
          0.3269281965894721,
          0.31279366421004723,
          0.314640495943469,
          0.31687737268624633,
          0.32063840688195383,
          0.308256746274109,
          0.31821484961761093,
          0.3102382692611236,
          0.30720584887455304,
          0.3151125354435461,
          0.3061487695230553,
          0.308220813671493,
          0.2970653945028711,
          0.3119884844006709,
          0.30728205688132343,
          0.302868239488167,
          0.3029589953516974,
          0.2974695655931927,
          0.2995121405402577,
          0.3008542271794005,
          0.29314623015259406,
          0.30313276028532266,
          0.30059414743995566,
          0.28881156695618465,
          0.29475298689328183,
          0.2980947947228394,
          0.2897564864988459,
          0.28514767243902805,
          0.2998960209137688,
          0.296729034382761,
          0.2999693920164136,
          0.2906420422561522,
          0.2916540455365325,
          0.28244442470125647,
          0.29777202047002266,
          0.2791799408008486,
          0.2884869300456293,
          0.2785653258978306,
          0.2869465085310999,
          0.28109849249953744,
          0.2747951096547753,
          0.2902121772695937,
          0.2846463858556923,
          0.28172188947692733,
          0.28801798235031706,
          0.27674065363719713,
          0.2913308482791869,
          0.2731886545884768,
          0.275715516049854,
          0.27578391827321896,
          0.2701279944677598,
          0.2824405557989049,
          0.2738029554038085,
          0.2652137144177631,
          0.27786223638493307,
          0.26238849536298914,
          0.28409169566189674,
          0.2689706718421071,
          0.2738853370120731,
          0.272857589786587,
          0.26825772966655465,
          0.2749432139745886,
          0.2759211053428866,
          0.25784914527821395,
          0.26920329522179587,
          0.2718137737554789,
          0.2649731042878517,
          0.26087169280962214,
          0.2591432064170969,
          0.26691626042679684,
          0.2530904463913832,
          0.2524153816333281,
          0.2594104718360574,
          0.2576209706011231,
          0.25237708530580494,
          0.2646317275122076,
          0.27353367389272826,
          0.2545043580066751,
          0.256174961829268,
          0.2433633403301046,
          0.2559460446625109,
          0.25256935871343666,
          0.2582110103048725,
          0.25765373966419663,
          0.25944587755424015,
          0.2544444965067921,
          0.2464334231753536,
          0.2418027821549974,
          0.2375474138374704,
          0.2508461942100025,
          0.24685713433959677,
          0.23309712864988147,
          0.24980599235008186,
          0.24183152369606337,
          0.24048029547816424,
          0.24952558516531084,
          0.24676570323572056,
          0.2515338499794154,
          0.24438053808823354,
          0.24960072543986775,
          0.2473818089507909,
          0.24177240535629602,
          0.2511246654513926,
          0.23572866925360128,
          0.239834231827777,
          0.2363685563649106,
          0.2360891039563855,
          0.23279556581194563,
          0.23531397721159142,
          0.239772604941415,
          0.2210174976142214,
          0.23650474388157805,
          0.2364980616616219,
          0.2395266187141677,
          0.24183374843594774,
          0.2227386884349283,
          0.22648250344560222,
          0.22706974452964246,
          0.23420981103159405,
          0.23162570590701745,
          0.22364343063370215,
          0.23258222387989813,
          0.2318189071187086,
          0.22130403809777213,
          0.2198831107413178,
          0.22428359617929813,
          0.22846153742521885,
          0.23285998421603923,
          0.22577040964435025,
          0.23061412450583457,
          0.2169502044997175,
          0.21808615349642504,
          0.2304482314705316,
          0.22666721660217526,
          0.22645576401067202,
          0.22170226823154532,
          0.217374149107022,
          0.22875996554107453,
          0.22716251512392419,
          0.22403587219867255,
          0.21770559658912833,
          0.2181036419308601,
          0.21556249836816097,
          0.2206811121757582,
          0.21370925408247524,
          0.21279337471376233,
          0.22057596763780005,
          0.2170199547541017,
          0.23492439385904,
          0.21665941110077033,
          0.20812033373715216,
          0.2091355283112072,
          0.21626241784401368,
          0.2089779199359664,
          0.2214531879315716,
          0.20483003190638724,
          0.21262997212553608,
          0.21048996631214703,
          0.2079288700665528,
          0.2193923905965784,
          0.20782068366449405,
          0.21141686112877311,
          0.21315971181120616,
          0.22529574698303365,
          0.21171669664009113,
          0.204949609592705,
          0.21124559253788253,
          0.20560513462863397,
          0.20733391317321773,
          0.20427070591419416,
          0.21204855724125163,
          0.21301620314257327,
          0.20603430771470496,
          0.20834022155895554,
          0.1993938746564888,
          0.21327639813203558,
          0.21330866605448714,
          0.20336573296133392,
          0.21351818127281455,
          0.199743886320576,
          0.2083814853421903,
          0.2098162770376913,
          0.20241244484035004,
          0.21082350933395894,
          0.20868992600400454,
          0.2019691792182912,
          0.20407508380051836,
          0.1966816024600214,
          0.19091406802665511,
          0.20278379003316543,
          0.21512774497046117,
          0.19683358414438018,
          0.2052401078763374,
          0.19841744145257728,
          0.2042218109763793,
          0.20134221091495846,
          0.21262658491448982,
          0.19796950181611453,
          0.20828408771513146,
          0.19988894984162608,
          0.20526089554835758,
          0.19587873811422593,
          0.1994618497652204,
          0.1976869644813017,
          0.20078843351863637,
          0.19918552979367607,
          0.2024712302134186,
          0.19744284961839628,
          0.20283148116185776,
          0.19094763126022446,
          0.20072693836967467,
          0.2038754502197035,
          0.19944840391099253,
          0.19344832471845816,
          0.20030606701646245,
          0.1935546710804176,
          0.1887495007551443,
          0.1979903917078228,
          0.19135978285345626,
          0.18947548928073832,
          0.19346685282010148,
          0.1918023979725032,
          0.19262098113880718,
          0.18776573563512602,
          0.19594100495684313,
          0.1900185303583964,
          0.2000470895780116,
          0.18965591465966,
          0.18896431208545292,
          0.19213562201570888,
          0.19305042929973443,
          0.18870319329566485,
          0.18273795259289505,
          0.18789501747015794,
          0.19016108110653995,
          0.19403995499714338,
          0.18852877533664195,
          0.1901644812792025,
          0.1912896639270344,
          0.20064784324658308,
          0.1866958189642234,
          0.18783448443505182,
          0.1813355184960248,
          0.17674542593038278,
          0.17812010195356398,
          0.19568533876843383,
          0.18750527683620974,
          0.18732557939109978,
          0.18563719347336372,
          0.1943270742533194,
          0.20028286093408113,
          0.18693685900598145,
          0.1930837101618924,
          0.1939225620686976,
          0.19256784855455972,
          0.18173178686916588,
          0.191357624653587,
          0.18921018668640585,
          0.17895058642654893,
          0.18691943486848966,
          0.19414566555422375,
          0.1847500501233257,
          0.1829757596760753,
          0.18643567015376886,
          0.18387471094053048,
          0.1890791561888657,
          0.17992437968919223,
          0.19562607638618396,
          0.1895935377036941,
          0.18755428400101049,
          0.1696271112218099,
          0.19118021864515083,
          0.1895464325695513,
          0.18607773461681026,
          0.18436755522948747,
          0.18681527154365657,
          0.18537453256579725,
          0.17617994678146356,
          0.1935981245609354,
          0.18095210032067802,
          0.18392266304911448,
          0.17950107788975733,
          0.18906036533985876,
          0.1801963784065645,
          0.1788897630332314,
          0.1806435505026383,
          0.17922523809018853,
          0.1797355561469725,
          0.1878680806494562,
          0.18676619933732883,
          0.18462899945917408,
          0.18079663357695494,
          0.17287164781824946,
          0.18151482404662858,
          0.1802879610036651,
          0.18640223724958715,
          0.17878441109708249,
          0.17992438387720772,
          0.1738567314607015,
          0.1808271729863371,
          0.18682404468166047,
          0.17994782729766343,
          0.17837787436852817,
          0.17277546061718738,
          0.1827368154840828,
          0.1819714312257015,
          0.1788367001568161,
          0.17763466728307592,
          0.1831682242260222,
          0.1766527766107943,
          0.17900629848382166,
          0.17383345185210883,
          0.17251074702509603,
          0.1824743946534574,
          0.17793882912392708,
          0.17754333090455912,
          0.17976220474845397,
          0.1789921940218763,
          0.1851267061006892,
          0.17781021398563726,
          0.18520907240610332,
          0.18498663525218834,
          0.170297025026175,
          0.1768549529948027,
          0.17923238272739853,
          0.17884395057070318,
          0.1792052695150451,
          0.17327680040640847,
          0.16990432125657295,
          0.17949054258696578,
          0.18105260892618447,
          0.1746062734859515,
          0.18030009023789326,
          0.17650138078101435,
          0.17275126752431796,
          0.1826155624932315,
          0.17066218204091602,
          0.18257916470084923,
          0.1752724676609661,
          0.17682727482397761,
          0.1825443484670545,
          0.1785745107075458,
          0.16961454978334792,
          0.18042091833469664,
          0.1720475392136294,
          0.17454107725535972,
          0.18722311060798164,
          0.17420222674261793,
          0.17936230775590553,
          0.18214068685704912,
          0.1798966046754403,
          0.1809392645717818
         ],
         "yaxis": "y"
        }
       ],
       "layout": {
        "legend": {
         "tracegroupgap": 0
        },
        "template": {
         "data": {
          "bar": [
           {
            "error_x": {
             "color": "#2a3f5f"
            },
            "error_y": {
             "color": "#2a3f5f"
            },
            "marker": {
             "line": {
              "color": "#E5ECF6",
              "width": 0.5
             }
            },
            "type": "bar"
           }
          ],
          "barpolar": [
           {
            "marker": {
             "line": {
              "color": "#E5ECF6",
              "width": 0.5
             }
            },
            "type": "barpolar"
           }
          ],
          "carpet": [
           {
            "aaxis": {
             "endlinecolor": "#2a3f5f",
             "gridcolor": "white",
             "linecolor": "white",
             "minorgridcolor": "white",
             "startlinecolor": "#2a3f5f"
            },
            "baxis": {
             "endlinecolor": "#2a3f5f",
             "gridcolor": "white",
             "linecolor": "white",
             "minorgridcolor": "white",
             "startlinecolor": "#2a3f5f"
            },
            "type": "carpet"
           }
          ],
          "choropleth": [
           {
            "colorbar": {
             "outlinewidth": 0,
             "ticks": ""
            },
            "type": "choropleth"
           }
          ],
          "contour": [
           {
            "colorbar": {
             "outlinewidth": 0,
             "ticks": ""
            },
            "colorscale": [
             [
              0,
              "#0d0887"
             ],
             [
              0.1111111111111111,
              "#46039f"
             ],
             [
              0.2222222222222222,
              "#7201a8"
             ],
             [
              0.3333333333333333,
              "#9c179e"
             ],
             [
              0.4444444444444444,
              "#bd3786"
             ],
             [
              0.5555555555555556,
              "#d8576b"
             ],
             [
              0.6666666666666666,
              "#ed7953"
             ],
             [
              0.7777777777777778,
              "#fb9f3a"
             ],
             [
              0.8888888888888888,
              "#fdca26"
             ],
             [
              1,
              "#f0f921"
             ]
            ],
            "type": "contour"
           }
          ],
          "contourcarpet": [
           {
            "colorbar": {
             "outlinewidth": 0,
             "ticks": ""
            },
            "type": "contourcarpet"
           }
          ],
          "heatmap": [
           {
            "colorbar": {
             "outlinewidth": 0,
             "ticks": ""
            },
            "colorscale": [
             [
              0,
              "#0d0887"
             ],
             [
              0.1111111111111111,
              "#46039f"
             ],
             [
              0.2222222222222222,
              "#7201a8"
             ],
             [
              0.3333333333333333,
              "#9c179e"
             ],
             [
              0.4444444444444444,
              "#bd3786"
             ],
             [
              0.5555555555555556,
              "#d8576b"
             ],
             [
              0.6666666666666666,
              "#ed7953"
             ],
             [
              0.7777777777777778,
              "#fb9f3a"
             ],
             [
              0.8888888888888888,
              "#fdca26"
             ],
             [
              1,
              "#f0f921"
             ]
            ],
            "type": "heatmap"
           }
          ],
          "heatmapgl": [
           {
            "colorbar": {
             "outlinewidth": 0,
             "ticks": ""
            },
            "colorscale": [
             [
              0,
              "#0d0887"
             ],
             [
              0.1111111111111111,
              "#46039f"
             ],
             [
              0.2222222222222222,
              "#7201a8"
             ],
             [
              0.3333333333333333,
              "#9c179e"
             ],
             [
              0.4444444444444444,
              "#bd3786"
             ],
             [
              0.5555555555555556,
              "#d8576b"
             ],
             [
              0.6666666666666666,
              "#ed7953"
             ],
             [
              0.7777777777777778,
              "#fb9f3a"
             ],
             [
              0.8888888888888888,
              "#fdca26"
             ],
             [
              1,
              "#f0f921"
             ]
            ],
            "type": "heatmapgl"
           }
          ],
          "histogram": [
           {
            "marker": {
             "colorbar": {
              "outlinewidth": 0,
              "ticks": ""
             }
            },
            "type": "histogram"
           }
          ],
          "histogram2d": [
           {
            "colorbar": {
             "outlinewidth": 0,
             "ticks": ""
            },
            "colorscale": [
             [
              0,
              "#0d0887"
             ],
             [
              0.1111111111111111,
              "#46039f"
             ],
             [
              0.2222222222222222,
              "#7201a8"
             ],
             [
              0.3333333333333333,
              "#9c179e"
             ],
             [
              0.4444444444444444,
              "#bd3786"
             ],
             [
              0.5555555555555556,
              "#d8576b"
             ],
             [
              0.6666666666666666,
              "#ed7953"
             ],
             [
              0.7777777777777778,
              "#fb9f3a"
             ],
             [
              0.8888888888888888,
              "#fdca26"
             ],
             [
              1,
              "#f0f921"
             ]
            ],
            "type": "histogram2d"
           }
          ],
          "histogram2dcontour": [
           {
            "colorbar": {
             "outlinewidth": 0,
             "ticks": ""
            },
            "colorscale": [
             [
              0,
              "#0d0887"
             ],
             [
              0.1111111111111111,
              "#46039f"
             ],
             [
              0.2222222222222222,
              "#7201a8"
             ],
             [
              0.3333333333333333,
              "#9c179e"
             ],
             [
              0.4444444444444444,
              "#bd3786"
             ],
             [
              0.5555555555555556,
              "#d8576b"
             ],
             [
              0.6666666666666666,
              "#ed7953"
             ],
             [
              0.7777777777777778,
              "#fb9f3a"
             ],
             [
              0.8888888888888888,
              "#fdca26"
             ],
             [
              1,
              "#f0f921"
             ]
            ],
            "type": "histogram2dcontour"
           }
          ],
          "mesh3d": [
           {
            "colorbar": {
             "outlinewidth": 0,
             "ticks": ""
            },
            "type": "mesh3d"
           }
          ],
          "parcoords": [
           {
            "line": {
             "colorbar": {
              "outlinewidth": 0,
              "ticks": ""
             }
            },
            "type": "parcoords"
           }
          ],
          "pie": [
           {
            "automargin": true,
            "type": "pie"
           }
          ],
          "scatter": [
           {
            "marker": {
             "colorbar": {
              "outlinewidth": 0,
              "ticks": ""
             }
            },
            "type": "scatter"
           }
          ],
          "scatter3d": [
           {
            "line": {
             "colorbar": {
              "outlinewidth": 0,
              "ticks": ""
             }
            },
            "marker": {
             "colorbar": {
              "outlinewidth": 0,
              "ticks": ""
             }
            },
            "type": "scatter3d"
           }
          ],
          "scattercarpet": [
           {
            "marker": {
             "colorbar": {
              "outlinewidth": 0,
              "ticks": ""
             }
            },
            "type": "scattercarpet"
           }
          ],
          "scattergeo": [
           {
            "marker": {
             "colorbar": {
              "outlinewidth": 0,
              "ticks": ""
             }
            },
            "type": "scattergeo"
           }
          ],
          "scattergl": [
           {
            "marker": {
             "colorbar": {
              "outlinewidth": 0,
              "ticks": ""
             }
            },
            "type": "scattergl"
           }
          ],
          "scattermapbox": [
           {
            "marker": {
             "colorbar": {
              "outlinewidth": 0,
              "ticks": ""
             }
            },
            "type": "scattermapbox"
           }
          ],
          "scatterpolar": [
           {
            "marker": {
             "colorbar": {
              "outlinewidth": 0,
              "ticks": ""
             }
            },
            "type": "scatterpolar"
           }
          ],
          "scatterpolargl": [
           {
            "marker": {
             "colorbar": {
              "outlinewidth": 0,
              "ticks": ""
             }
            },
            "type": "scatterpolargl"
           }
          ],
          "scatterternary": [
           {
            "marker": {
             "colorbar": {
              "outlinewidth": 0,
              "ticks": ""
             }
            },
            "type": "scatterternary"
           }
          ],
          "surface": [
           {
            "colorbar": {
             "outlinewidth": 0,
             "ticks": ""
            },
            "colorscale": [
             [
              0,
              "#0d0887"
             ],
             [
              0.1111111111111111,
              "#46039f"
             ],
             [
              0.2222222222222222,
              "#7201a8"
             ],
             [
              0.3333333333333333,
              "#9c179e"
             ],
             [
              0.4444444444444444,
              "#bd3786"
             ],
             [
              0.5555555555555556,
              "#d8576b"
             ],
             [
              0.6666666666666666,
              "#ed7953"
             ],
             [
              0.7777777777777778,
              "#fb9f3a"
             ],
             [
              0.8888888888888888,
              "#fdca26"
             ],
             [
              1,
              "#f0f921"
             ]
            ],
            "type": "surface"
           }
          ],
          "table": [
           {
            "cells": {
             "fill": {
              "color": "#EBF0F8"
             },
             "line": {
              "color": "white"
             }
            },
            "header": {
             "fill": {
              "color": "#C8D4E3"
             },
             "line": {
              "color": "white"
             }
            },
            "type": "table"
           }
          ]
         },
         "layout": {
          "annotationdefaults": {
           "arrowcolor": "#2a3f5f",
           "arrowhead": 0,
           "arrowwidth": 1
          },
          "coloraxis": {
           "colorbar": {
            "outlinewidth": 0,
            "ticks": ""
           }
          },
          "colorscale": {
           "diverging": [
            [
             0,
             "#8e0152"
            ],
            [
             0.1,
             "#c51b7d"
            ],
            [
             0.2,
             "#de77ae"
            ],
            [
             0.3,
             "#f1b6da"
            ],
            [
             0.4,
             "#fde0ef"
            ],
            [
             0.5,
             "#f7f7f7"
            ],
            [
             0.6,
             "#e6f5d0"
            ],
            [
             0.7,
             "#b8e186"
            ],
            [
             0.8,
             "#7fbc41"
            ],
            [
             0.9,
             "#4d9221"
            ],
            [
             1,
             "#276419"
            ]
           ],
           "sequential": [
            [
             0,
             "#0d0887"
            ],
            [
             0.1111111111111111,
             "#46039f"
            ],
            [
             0.2222222222222222,
             "#7201a8"
            ],
            [
             0.3333333333333333,
             "#9c179e"
            ],
            [
             0.4444444444444444,
             "#bd3786"
            ],
            [
             0.5555555555555556,
             "#d8576b"
            ],
            [
             0.6666666666666666,
             "#ed7953"
            ],
            [
             0.7777777777777778,
             "#fb9f3a"
            ],
            [
             0.8888888888888888,
             "#fdca26"
            ],
            [
             1,
             "#f0f921"
            ]
           ],
           "sequentialminus": [
            [
             0,
             "#0d0887"
            ],
            [
             0.1111111111111111,
             "#46039f"
            ],
            [
             0.2222222222222222,
             "#7201a8"
            ],
            [
             0.3333333333333333,
             "#9c179e"
            ],
            [
             0.4444444444444444,
             "#bd3786"
            ],
            [
             0.5555555555555556,
             "#d8576b"
            ],
            [
             0.6666666666666666,
             "#ed7953"
            ],
            [
             0.7777777777777778,
             "#fb9f3a"
            ],
            [
             0.8888888888888888,
             "#fdca26"
            ],
            [
             1,
             "#f0f921"
            ]
           ]
          },
          "colorway": [
           "#636efa",
           "#EF553B",
           "#00cc96",
           "#ab63fa",
           "#FFA15A",
           "#19d3f3",
           "#FF6692",
           "#B6E880",
           "#FF97FF",
           "#FECB52"
          ],
          "font": {
           "color": "#2a3f5f"
          },
          "geo": {
           "bgcolor": "white",
           "lakecolor": "white",
           "landcolor": "#E5ECF6",
           "showlakes": true,
           "showland": true,
           "subunitcolor": "white"
          },
          "hoverlabel": {
           "align": "left"
          },
          "hovermode": "closest",
          "mapbox": {
           "style": "light"
          },
          "paper_bgcolor": "white",
          "plot_bgcolor": "#E5ECF6",
          "polar": {
           "angularaxis": {
            "gridcolor": "white",
            "linecolor": "white",
            "ticks": ""
           },
           "bgcolor": "#E5ECF6",
           "radialaxis": {
            "gridcolor": "white",
            "linecolor": "white",
            "ticks": ""
           }
          },
          "scene": {
           "xaxis": {
            "backgroundcolor": "#E5ECF6",
            "gridcolor": "white",
            "gridwidth": 2,
            "linecolor": "white",
            "showbackground": true,
            "ticks": "",
            "zerolinecolor": "white"
           },
           "yaxis": {
            "backgroundcolor": "#E5ECF6",
            "gridcolor": "white",
            "gridwidth": 2,
            "linecolor": "white",
            "showbackground": true,
            "ticks": "",
            "zerolinecolor": "white"
           },
           "zaxis": {
            "backgroundcolor": "#E5ECF6",
            "gridcolor": "white",
            "gridwidth": 2,
            "linecolor": "white",
            "showbackground": true,
            "ticks": "",
            "zerolinecolor": "white"
           }
          },
          "shapedefaults": {
           "line": {
            "color": "#2a3f5f"
           }
          },
          "ternary": {
           "aaxis": {
            "gridcolor": "white",
            "linecolor": "white",
            "ticks": ""
           },
           "baxis": {
            "gridcolor": "white",
            "linecolor": "white",
            "ticks": ""
           },
           "bgcolor": "#E5ECF6",
           "caxis": {
            "gridcolor": "white",
            "linecolor": "white",
            "ticks": ""
           }
          },
          "title": {
           "x": 0.05
          },
          "xaxis": {
           "automargin": true,
           "gridcolor": "white",
           "linecolor": "white",
           "ticks": "",
           "title": {
            "standoff": 15
           },
           "zerolinecolor": "white",
           "zerolinewidth": 2
          },
          "yaxis": {
           "automargin": true,
           "gridcolor": "white",
           "linecolor": "white",
           "ticks": "",
           "title": {
            "standoff": 15
           },
           "zerolinecolor": "white",
           "zerolinewidth": 2
          }
         }
        },
        "title": {
         "text": "Residual error"
        },
        "xaxis": {
         "anchor": "y",
         "domain": [
          0,
          1
         ],
         "title": {
          "text": "x"
         }
        },
        "yaxis": {
         "anchor": "x",
         "domain": [
          0,
          1
         ],
         "title": {
          "text": "y"
         }
        }
       }
      }
     },
     "metadata": {}
    }
   ],
   "source": [
    "errorFig = ex.line(x=np.arange(len(RBFNet.residual_error)), y=RBFNet.residual_error, title=\"Residual error\")\n",
    "errorFig.show()"
   ]
  },
  {
   "cell_type": "code",
   "execution_count": 209,
   "metadata": {
    "tags": []
   },
   "outputs": [
    {
     "output_type": "display_data",
     "data": {
      "application/vnd.plotly.v1+json": {
       "config": {
        "plotlyServerURL": "https://plot.ly"
       },
       "data": [
        {
         "hovertemplate": "x=%{x}<br>y=%{y}<br>z=%{z}<extra></extra>",
         "legendgroup": "",
         "marker": {
          "color": "#636efa",
          "symbol": "circle"
         },
         "mode": "markers",
         "name": "",
         "scene": "scene",
         "showlegend": false,
         "type": "scatter3d",
         "x": [
          0.6579999923706055,
          0.6669999957084656,
          0.7260000109672546,
          0.8320000171661377,
          0.9150000214576721,
          0.6060000061988831,
          0.012000000104308128,
          0.3700000047683716,
          0.05400000140070915,
          0.7300000190734863,
          0.5540000200271606,
          0.35100001096725464,
          0.13500000536441803,
          0.4909999966621399,
          0.6629999876022339,
          0.5139999985694885,
          0.640999972820282,
          0.16099999845027924,
          0.2759999930858612,
          0.17800000309944153,
          0.6480000019073486,
          0.07400000095367432,
          0.5590000152587891,
          0.3440000116825104,
          0.3630000054836273,
          0.9980000257492065,
          0.5519999861717224,
          0.5580000281333923,
          0.10300000011920929,
          0.28200000524520874,
          0.7609999775886536,
          0.421999990940094,
          0.6499999761581421,
          0.14100000262260437,
          0.22699999809265137,
          0.8240000009536743,
          0.17599999904632568,
          0.7829999923706055,
          0.7480000257492065,
          0.19599999487400055,
          0.6290000081062317,
          0.3179999887943268,
          0.6710000038146973,
          0.017000000923871994,
          0.1599999964237213,
          0.9240000247955322,
          0.9769999980926514,
          0.5860000252723694,
          0.25099998712539673,
          0.414000004529953,
          0.36399999260902405,
          0.7799999713897705,
          0.6980000138282776,
          0.6949999928474426,
          0.5490000247955322,
          0.017999999225139618,
          0.7059999704360962,
          0.9850000143051147,
          0.4009999930858612,
          0.574999988079071,
          0.8920000195503235,
          0.5450000166893005,
          0.9610000252723694,
          0.8999999761581421,
          0.46700000762939453,
          0.4440000057220459,
          0.878000020980835,
          0.6110000014305115,
          0.6940000057220459,
          0.06599999964237213,
          0.1340000033378601,
          0.06499999761581421,
          0.2980000078678131,
          0.8149999976158142,
          0.7360000014305115,
          0.3109999895095825,
          0.5230000019073486,
          0.20600000023841858,
          0.6700000166893005,
          0.5170000195503235,
          0.30799999833106995,
          0.4970000088214874,
          0.781000018119812,
          0.460999995470047,
          0.8999999761581421,
          0.9629999995231628,
          0.32600000500679016,
          0.12600000202655792,
          0.6259999871253967,
          0.052000001072883606,
          0.08799999952316284,
          0.15199999511241913,
          0.0560000017285347,
          0.34299999475479126,
          0.42500001192092896,
          0.07199999690055847,
          0.5929999947547913,
          0.9330000281333923,
          0.5920000076293945,
          0.5450000166893005
         ],
         "y": [
          0.36500000953674316,
          0.6579999923706055,
          0.20900000631809235,
          0.41100001335144043,
          0.6299999952316284,
          0.37700000405311584,
          0.16300000250339508,
          0.7929999828338623,
          0.718999981880188,
          0.7889999747276306,
          0.18400000035762787,
          0.6259999871253967,
          0.7459999918937683,
          0.3089999854564667,
          0.7540000081062317,
          0.009999999776482582,
          0.6850000023841858,
          0.4490000009536743,
          0.6679999828338623,
          0.7639999985694885,
          0.18000000715255737,
          0.4129999876022339,
          0.4020000100135803,
          0.8659999966621399,
          0.48899999260902405,
          0.765999972820282,
          0.9399999976158142,
          0.061000000685453415,
          0.6420000195503235,
          0.906000018119812,
          0.9340000152587891,
          0.8700000047683716,
          0.9340000152587891,
          0.9620000123977661,
          0.7160000205039978,
          0.5299999713897705,
          0.11900000274181366,
          0.8569999933242798,
          0.6620000004768372,
          0.31299999356269836,
          0.019999999552965164,
          0.2409999966621399,
          0.029999999329447746,
          0.11400000005960464,
          0.7749999761581421,
          0.36899998784065247,
          0.3230000138282776,
          0.3799999952316284,
          0.925000011920929,
          0.09099999815225601,
          0.8759999871253967,
          0.6169999837875366,
          0.4399999976158142,
          0.30300000309944153,
          0.6039999723434448,
          0.9100000262260437,
          0.2809999883174896,
          0.8489999771118164,
          0.23899999260902405,
          0.6200000047683716,
          0.7459999918937683,
          0.18700000643730164,
          0.7580000162124634,
          0.5329999923706055,
          0.2409999966621399,
          0.07999999821186066,
          0.2800000011920929,
          0.9570000171661377,
          0.9240000247955322,
          0.03999999910593033,
          0.2029999941587448,
          0.13600000739097595,
          0.5460000038146973,
          0.25,
          0.859000027179718,
          0.4830000102519989,
          0.44999998807907104,
          0.7720000147819519,
          0.7720000147819519,
          0.7229999899864197,
          0.4880000054836273,
          0.5899999737739563,
          0.7850000262260437,
          0.9679999947547913,
          0.40799999237060547,
          0.7670000195503235,
          0.23399999737739563,
          0.7979999780654907,
          0.8230000138282776,
          0.0020000000949949026,
          0.16899999976158142,
          0.609000027179718,
          0.9210000038146973,
          0.03799999877810478,
          0.5559999942779541,
          0.597000002861023,
          0.3310000002384186,
          0.20999999344348907,
          0.7870000004768372,
          0.9039999842643738
         ],
         "z": [
          0.11699999868869781,
          0.375,
          0.032999999821186066,
          0.08500000089406967,
          0.10400000214576721,
          0.1340000033378601,
          0.0010000000474974513,
          0.5759999752044678,
          0.08699999749660492,
          0.46700000762939453,
          0.032999999821186066,
          0.3499999940395355,
          0.23000000417232513,
          0.0949999988079071,
          0.4959999918937683,
          0,
          0.42399999499320984,
          0.09799999743700027,
          0.3400000035762787,
          0.3100000023841858,
          0.028999999165534973,
          0.03999999910593033,
          0.1589999943971634,
          0.6620000004768372,
          0.21799999475479126,
          0.003000000026077032,
          0.871999979019165,
          0.004000000189989805,
          0.13099999725818634,
          0.6359999775886536,
          0.593999981880188,
          0.7350000143051147,
          0.7770000100135803,
          0.3970000147819519,
          0.33500000834465027,
          0.1469999998807907,
          0.007000000216066837,
          0.46299999952316284,
          0.31200000643730164,
          0.05700000002980232,
          0,
          0.04899999871850014,
          0.0010000000474974513,
          0.0010000000474974513,
          0.289000004529953,
          0.03200000151991844,
          0.00800000037997961,
          0.13899999856948853,
          0.6069999933242798,
          0.00800000037997961,
          0.6980000138282776,
          0.24300000071525574,
          0.15700000524520874,
          0.07500000298023224,
          0.3610000014305115,
          0.04600000008940697,
          0.06300000101327896,
          0.03400000184774399,
          0.05400000140070915,
          0.37400001287460327,
          0.1860000044107437,
          0.03500000014901161,
          0.0689999982714653,
          0.08699999749660492,
          0.057999998331069946,
          0.006000000052154064,
          0.028999999165534973,
          0.8600000143051147,
          0.699999988079071,
          0,
          0.017000000923871994,
          0.004000000189989805,
          0.23999999463558197,
          0.03400000184774399,
          0.5440000295639038,
          0.19300000369548798,
          0.20100000500679016,
          0.35899999737739563,
          0.5120000243186951,
          0.5210000276565552,
          0.19599999487400055,
          0.3479999899864197,
          0.39100000262260437,
          0.9300000071525574,
          0.052000001072883606,
          0.0689999982714653,
          0.04699999839067459,
          0.24500000476837158,
          0.6259999871253967,
          0,
          0.00800000037997961,
          0.17100000381469727,
          0.1469999998807907,
          0.0010000000474974513,
          0.30000001192092896,
          0.07900000363588333,
          0.10499999672174454,
          0.008999999612569809,
          0.593999981880188,
          0.8080000281333923
         ]
        },
        {
         "mode": "markers",
         "name": "p1",
         "type": "scatter3d",
         "x": [
          0.6579999923706055,
          0.6669999957084656,
          0.7260000109672546,
          0.8320000171661377,
          0.9150000214576721,
          0.6060000061988831,
          0.012000000104308128,
          0.3700000047683716,
          0.05400000140070915,
          0.7300000190734863,
          0.5540000200271606,
          0.35100001096725464,
          0.13500000536441803,
          0.4909999966621399,
          0.6629999876022339,
          0.5139999985694885,
          0.640999972820282,
          0.16099999845027924,
          0.2759999930858612,
          0.17800000309944153,
          0.6480000019073486,
          0.07400000095367432,
          0.5590000152587891,
          0.3440000116825104,
          0.3630000054836273,
          0.9980000257492065,
          0.5519999861717224,
          0.5580000281333923,
          0.10300000011920929,
          0.28200000524520874,
          0.7609999775886536,
          0.421999990940094,
          0.6499999761581421,
          0.14100000262260437,
          0.22699999809265137,
          0.8240000009536743,
          0.17599999904632568,
          0.7829999923706055,
          0.7480000257492065,
          0.19599999487400055,
          0.6290000081062317,
          0.3179999887943268,
          0.6710000038146973,
          0.017000000923871994,
          0.1599999964237213,
          0.9240000247955322,
          0.9769999980926514,
          0.5860000252723694,
          0.25099998712539673,
          0.414000004529953,
          0.36399999260902405,
          0.7799999713897705,
          0.6980000138282776,
          0.6949999928474426,
          0.5490000247955322,
          0.017999999225139618,
          0.7059999704360962,
          0.9850000143051147,
          0.4009999930858612,
          0.574999988079071,
          0.8920000195503235,
          0.5450000166893005,
          0.9610000252723694,
          0.8999999761581421,
          0.46700000762939453,
          0.4440000057220459,
          0.878000020980835,
          0.6110000014305115,
          0.6940000057220459,
          0.06599999964237213,
          0.1340000033378601,
          0.06499999761581421,
          0.2980000078678131,
          0.8149999976158142,
          0.7360000014305115,
          0.3109999895095825,
          0.5230000019073486,
          0.20600000023841858,
          0.6700000166893005,
          0.5170000195503235,
          0.30799999833106995,
          0.4970000088214874,
          0.781000018119812,
          0.460999995470047,
          0.8999999761581421,
          0.9629999995231628,
          0.32600000500679016,
          0.12600000202655792,
          0.6259999871253967,
          0.052000001072883606,
          0.08799999952316284,
          0.15199999511241913,
          0.0560000017285347,
          0.34299999475479126,
          0.42500001192092896,
          0.07199999690055847,
          0.5929999947547913,
          0.9330000281333923,
          0.5920000076293945,
          0.5450000166893005
         ],
         "y": [
          0.36500000953674316,
          0.6579999923706055,
          0.20900000631809235,
          0.41100001335144043,
          0.6299999952316284,
          0.37700000405311584,
          0.16300000250339508,
          0.7929999828338623,
          0.718999981880188,
          0.7889999747276306,
          0.18400000035762787,
          0.6259999871253967,
          0.7459999918937683,
          0.3089999854564667,
          0.7540000081062317,
          0.009999999776482582,
          0.6850000023841858,
          0.4490000009536743,
          0.6679999828338623,
          0.7639999985694885,
          0.18000000715255737,
          0.4129999876022339,
          0.4020000100135803,
          0.8659999966621399,
          0.48899999260902405,
          0.765999972820282,
          0.9399999976158142,
          0.061000000685453415,
          0.6420000195503235,
          0.906000018119812,
          0.9340000152587891,
          0.8700000047683716,
          0.9340000152587891,
          0.9620000123977661,
          0.7160000205039978,
          0.5299999713897705,
          0.11900000274181366,
          0.8569999933242798,
          0.6620000004768372,
          0.31299999356269836,
          0.019999999552965164,
          0.2409999966621399,
          0.029999999329447746,
          0.11400000005960464,
          0.7749999761581421,
          0.36899998784065247,
          0.3230000138282776,
          0.3799999952316284,
          0.925000011920929,
          0.09099999815225601,
          0.8759999871253967,
          0.6169999837875366,
          0.4399999976158142,
          0.30300000309944153,
          0.6039999723434448,
          0.9100000262260437,
          0.2809999883174896,
          0.8489999771118164,
          0.23899999260902405,
          0.6200000047683716,
          0.7459999918937683,
          0.18700000643730164,
          0.7580000162124634,
          0.5329999923706055,
          0.2409999966621399,
          0.07999999821186066,
          0.2800000011920929,
          0.9570000171661377,
          0.9240000247955322,
          0.03999999910593033,
          0.2029999941587448,
          0.13600000739097595,
          0.5460000038146973,
          0.25,
          0.859000027179718,
          0.4830000102519989,
          0.44999998807907104,
          0.7720000147819519,
          0.7720000147819519,
          0.7229999899864197,
          0.4880000054836273,
          0.5899999737739563,
          0.7850000262260437,
          0.9679999947547913,
          0.40799999237060547,
          0.7670000195503235,
          0.23399999737739563,
          0.7979999780654907,
          0.8230000138282776,
          0.0020000000949949026,
          0.16899999976158142,
          0.609000027179718,
          0.9210000038146973,
          0.03799999877810478,
          0.5559999942779541,
          0.597000002861023,
          0.3310000002384186,
          0.20999999344348907,
          0.7870000004768372,
          0.9039999842643738
         ],
         "z": [
          0.1624132670350129,
          0.3853237729219836,
          0.05317658791364632,
          0.2003871153489274,
          0.36664788681924043,
          0.16903629648120666,
          -0.04372051844189806,
          0.46107292583200477,
          0.37101798471945924,
          0.4808132528656448,
          0.029066138321314217,
          0.3389450535952354,
          0.4011574692424609,
          0.11154244294724025,
          0.4545808502078297,
          -0.07724329751537118,
          0.40418855656058583,
          0.18169896037169608,
          0.3621495900822893,
          0.41931211799587476,
          0.031326531991523465,
          0.14273566327899956,
          0.1852120200427314,
          0.5062654975542409,
          0.23564312782445063,
          0.46302000089124307,
          0.5681913065686999,
          -0.04640915754444719,
          0.32120549274969235,
          0.5241497590309852,
          0.5730049392331937,
          0.5162908995728404,
          0.5698460733070325,
          0.539156590789649,
          0.3914095133483495,
          0.2913955370318768,
          -0.04935086045169812,
          0.5265409384089577,
          0.39055830154548987,
          0.08429900059015161,
          -0.06521753788959006,
          0.04732858193347633,
          -0.0581045227096012,
          -0.0737882008096522,
          0.4246270435384585,
          0.167790683878428,
          0.1323678861644999,
          0.1702218979656105,
          0.5318177896134386,
          -0.039989760910619565,
          0.5145563617756732,
          0.3573919987202845,
          0.22044590123756835,
          0.11813825930315858,
          0.3388659584399667,
          0.49254822621860717,
          0.10266463625631284,
          0.5190191422393247,
          0.05428001846844355,
          0.35252387208569846,
          0.4517130229634878,
          0.030476043745961245,
          0.45865790959730557,
          0.2931504555841409,
          0.06139655222501972,
          -0.04382672946559163,
          0.10344830265348981,
          0.5811080834663387,
          0.5656283586719886,
          -0.11000736772921837,
          -0.0007435610217645383,
          -0.05351923431870609,
          0.2725175559592521,
          0.08252333793564137,
          0.5270557895507129,
          0.22561723437177483,
          0.2193591860385189,
          0.4283607416424766,
          0.46736768698096554,
          0.42467317397360493,
          0.22912597755331388,
          0.32466478421350353,
          0.4789520483775862,
          0.5772756892623401,
          0.1975661494862042,
          0.4648651468639593,
          0.04334679691952292,
          0.4358861039572155,
          0.5000003486462499,
          -0.13227296582613168,
          -0.02933184628217478,
          0.3028685834966587,
          0.5043440371782586,
          -0.07717390761851861,
          0.2928677180440664,
          0.2831108041293582,
          0.13421657599625703,
          0.05390103132668522,
          0.47412823916696234,
          0.546637759458354
         ]
        }
       ],
       "layout": {
        "legend": {
         "tracegroupgap": 0
        },
        "scene": {
         "domain": {
          "x": [
           0,
           1
          ],
          "y": [
           0,
           1
          ]
         },
         "xaxis": {
          "title": {
           "text": "x"
          }
         },
         "yaxis": {
          "title": {
           "text": "y"
          }
         },
         "zaxis": {
          "title": {
           "text": "z"
          }
         }
        },
        "template": {
         "data": {
          "bar": [
           {
            "error_x": {
             "color": "#2a3f5f"
            },
            "error_y": {
             "color": "#2a3f5f"
            },
            "marker": {
             "line": {
              "color": "#E5ECF6",
              "width": 0.5
             }
            },
            "type": "bar"
           }
          ],
          "barpolar": [
           {
            "marker": {
             "line": {
              "color": "#E5ECF6",
              "width": 0.5
             }
            },
            "type": "barpolar"
           }
          ],
          "carpet": [
           {
            "aaxis": {
             "endlinecolor": "#2a3f5f",
             "gridcolor": "white",
             "linecolor": "white",
             "minorgridcolor": "white",
             "startlinecolor": "#2a3f5f"
            },
            "baxis": {
             "endlinecolor": "#2a3f5f",
             "gridcolor": "white",
             "linecolor": "white",
             "minorgridcolor": "white",
             "startlinecolor": "#2a3f5f"
            },
            "type": "carpet"
           }
          ],
          "choropleth": [
           {
            "colorbar": {
             "outlinewidth": 0,
             "ticks": ""
            },
            "type": "choropleth"
           }
          ],
          "contour": [
           {
            "colorbar": {
             "outlinewidth": 0,
             "ticks": ""
            },
            "colorscale": [
             [
              0,
              "#0d0887"
             ],
             [
              0.1111111111111111,
              "#46039f"
             ],
             [
              0.2222222222222222,
              "#7201a8"
             ],
             [
              0.3333333333333333,
              "#9c179e"
             ],
             [
              0.4444444444444444,
              "#bd3786"
             ],
             [
              0.5555555555555556,
              "#d8576b"
             ],
             [
              0.6666666666666666,
              "#ed7953"
             ],
             [
              0.7777777777777778,
              "#fb9f3a"
             ],
             [
              0.8888888888888888,
              "#fdca26"
             ],
             [
              1,
              "#f0f921"
             ]
            ],
            "type": "contour"
           }
          ],
          "contourcarpet": [
           {
            "colorbar": {
             "outlinewidth": 0,
             "ticks": ""
            },
            "type": "contourcarpet"
           }
          ],
          "heatmap": [
           {
            "colorbar": {
             "outlinewidth": 0,
             "ticks": ""
            },
            "colorscale": [
             [
              0,
              "#0d0887"
             ],
             [
              0.1111111111111111,
              "#46039f"
             ],
             [
              0.2222222222222222,
              "#7201a8"
             ],
             [
              0.3333333333333333,
              "#9c179e"
             ],
             [
              0.4444444444444444,
              "#bd3786"
             ],
             [
              0.5555555555555556,
              "#d8576b"
             ],
             [
              0.6666666666666666,
              "#ed7953"
             ],
             [
              0.7777777777777778,
              "#fb9f3a"
             ],
             [
              0.8888888888888888,
              "#fdca26"
             ],
             [
              1,
              "#f0f921"
             ]
            ],
            "type": "heatmap"
           }
          ],
          "heatmapgl": [
           {
            "colorbar": {
             "outlinewidth": 0,
             "ticks": ""
            },
            "colorscale": [
             [
              0,
              "#0d0887"
             ],
             [
              0.1111111111111111,
              "#46039f"
             ],
             [
              0.2222222222222222,
              "#7201a8"
             ],
             [
              0.3333333333333333,
              "#9c179e"
             ],
             [
              0.4444444444444444,
              "#bd3786"
             ],
             [
              0.5555555555555556,
              "#d8576b"
             ],
             [
              0.6666666666666666,
              "#ed7953"
             ],
             [
              0.7777777777777778,
              "#fb9f3a"
             ],
             [
              0.8888888888888888,
              "#fdca26"
             ],
             [
              1,
              "#f0f921"
             ]
            ],
            "type": "heatmapgl"
           }
          ],
          "histogram": [
           {
            "marker": {
             "colorbar": {
              "outlinewidth": 0,
              "ticks": ""
             }
            },
            "type": "histogram"
           }
          ],
          "histogram2d": [
           {
            "colorbar": {
             "outlinewidth": 0,
             "ticks": ""
            },
            "colorscale": [
             [
              0,
              "#0d0887"
             ],
             [
              0.1111111111111111,
              "#46039f"
             ],
             [
              0.2222222222222222,
              "#7201a8"
             ],
             [
              0.3333333333333333,
              "#9c179e"
             ],
             [
              0.4444444444444444,
              "#bd3786"
             ],
             [
              0.5555555555555556,
              "#d8576b"
             ],
             [
              0.6666666666666666,
              "#ed7953"
             ],
             [
              0.7777777777777778,
              "#fb9f3a"
             ],
             [
              0.8888888888888888,
              "#fdca26"
             ],
             [
              1,
              "#f0f921"
             ]
            ],
            "type": "histogram2d"
           }
          ],
          "histogram2dcontour": [
           {
            "colorbar": {
             "outlinewidth": 0,
             "ticks": ""
            },
            "colorscale": [
             [
              0,
              "#0d0887"
             ],
             [
              0.1111111111111111,
              "#46039f"
             ],
             [
              0.2222222222222222,
              "#7201a8"
             ],
             [
              0.3333333333333333,
              "#9c179e"
             ],
             [
              0.4444444444444444,
              "#bd3786"
             ],
             [
              0.5555555555555556,
              "#d8576b"
             ],
             [
              0.6666666666666666,
              "#ed7953"
             ],
             [
              0.7777777777777778,
              "#fb9f3a"
             ],
             [
              0.8888888888888888,
              "#fdca26"
             ],
             [
              1,
              "#f0f921"
             ]
            ],
            "type": "histogram2dcontour"
           }
          ],
          "mesh3d": [
           {
            "colorbar": {
             "outlinewidth": 0,
             "ticks": ""
            },
            "type": "mesh3d"
           }
          ],
          "parcoords": [
           {
            "line": {
             "colorbar": {
              "outlinewidth": 0,
              "ticks": ""
             }
            },
            "type": "parcoords"
           }
          ],
          "pie": [
           {
            "automargin": true,
            "type": "pie"
           }
          ],
          "scatter": [
           {
            "marker": {
             "colorbar": {
              "outlinewidth": 0,
              "ticks": ""
             }
            },
            "type": "scatter"
           }
          ],
          "scatter3d": [
           {
            "line": {
             "colorbar": {
              "outlinewidth": 0,
              "ticks": ""
             }
            },
            "marker": {
             "colorbar": {
              "outlinewidth": 0,
              "ticks": ""
             }
            },
            "type": "scatter3d"
           }
          ],
          "scattercarpet": [
           {
            "marker": {
             "colorbar": {
              "outlinewidth": 0,
              "ticks": ""
             }
            },
            "type": "scattercarpet"
           }
          ],
          "scattergeo": [
           {
            "marker": {
             "colorbar": {
              "outlinewidth": 0,
              "ticks": ""
             }
            },
            "type": "scattergeo"
           }
          ],
          "scattergl": [
           {
            "marker": {
             "colorbar": {
              "outlinewidth": 0,
              "ticks": ""
             }
            },
            "type": "scattergl"
           }
          ],
          "scattermapbox": [
           {
            "marker": {
             "colorbar": {
              "outlinewidth": 0,
              "ticks": ""
             }
            },
            "type": "scattermapbox"
           }
          ],
          "scatterpolar": [
           {
            "marker": {
             "colorbar": {
              "outlinewidth": 0,
              "ticks": ""
             }
            },
            "type": "scatterpolar"
           }
          ],
          "scatterpolargl": [
           {
            "marker": {
             "colorbar": {
              "outlinewidth": 0,
              "ticks": ""
             }
            },
            "type": "scatterpolargl"
           }
          ],
          "scatterternary": [
           {
            "marker": {
             "colorbar": {
              "outlinewidth": 0,
              "ticks": ""
             }
            },
            "type": "scatterternary"
           }
          ],
          "surface": [
           {
            "colorbar": {
             "outlinewidth": 0,
             "ticks": ""
            },
            "colorscale": [
             [
              0,
              "#0d0887"
             ],
             [
              0.1111111111111111,
              "#46039f"
             ],
             [
              0.2222222222222222,
              "#7201a8"
             ],
             [
              0.3333333333333333,
              "#9c179e"
             ],
             [
              0.4444444444444444,
              "#bd3786"
             ],
             [
              0.5555555555555556,
              "#d8576b"
             ],
             [
              0.6666666666666666,
              "#ed7953"
             ],
             [
              0.7777777777777778,
              "#fb9f3a"
             ],
             [
              0.8888888888888888,
              "#fdca26"
             ],
             [
              1,
              "#f0f921"
             ]
            ],
            "type": "surface"
           }
          ],
          "table": [
           {
            "cells": {
             "fill": {
              "color": "#EBF0F8"
             },
             "line": {
              "color": "white"
             }
            },
            "header": {
             "fill": {
              "color": "#C8D4E3"
             },
             "line": {
              "color": "white"
             }
            },
            "type": "table"
           }
          ]
         },
         "layout": {
          "annotationdefaults": {
           "arrowcolor": "#2a3f5f",
           "arrowhead": 0,
           "arrowwidth": 1
          },
          "coloraxis": {
           "colorbar": {
            "outlinewidth": 0,
            "ticks": ""
           }
          },
          "colorscale": {
           "diverging": [
            [
             0,
             "#8e0152"
            ],
            [
             0.1,
             "#c51b7d"
            ],
            [
             0.2,
             "#de77ae"
            ],
            [
             0.3,
             "#f1b6da"
            ],
            [
             0.4,
             "#fde0ef"
            ],
            [
             0.5,
             "#f7f7f7"
            ],
            [
             0.6,
             "#e6f5d0"
            ],
            [
             0.7,
             "#b8e186"
            ],
            [
             0.8,
             "#7fbc41"
            ],
            [
             0.9,
             "#4d9221"
            ],
            [
             1,
             "#276419"
            ]
           ],
           "sequential": [
            [
             0,
             "#0d0887"
            ],
            [
             0.1111111111111111,
             "#46039f"
            ],
            [
             0.2222222222222222,
             "#7201a8"
            ],
            [
             0.3333333333333333,
             "#9c179e"
            ],
            [
             0.4444444444444444,
             "#bd3786"
            ],
            [
             0.5555555555555556,
             "#d8576b"
            ],
            [
             0.6666666666666666,
             "#ed7953"
            ],
            [
             0.7777777777777778,
             "#fb9f3a"
            ],
            [
             0.8888888888888888,
             "#fdca26"
            ],
            [
             1,
             "#f0f921"
            ]
           ],
           "sequentialminus": [
            [
             0,
             "#0d0887"
            ],
            [
             0.1111111111111111,
             "#46039f"
            ],
            [
             0.2222222222222222,
             "#7201a8"
            ],
            [
             0.3333333333333333,
             "#9c179e"
            ],
            [
             0.4444444444444444,
             "#bd3786"
            ],
            [
             0.5555555555555556,
             "#d8576b"
            ],
            [
             0.6666666666666666,
             "#ed7953"
            ],
            [
             0.7777777777777778,
             "#fb9f3a"
            ],
            [
             0.8888888888888888,
             "#fdca26"
            ],
            [
             1,
             "#f0f921"
            ]
           ]
          },
          "colorway": [
           "#636efa",
           "#EF553B",
           "#00cc96",
           "#ab63fa",
           "#FFA15A",
           "#19d3f3",
           "#FF6692",
           "#B6E880",
           "#FF97FF",
           "#FECB52"
          ],
          "font": {
           "color": "#2a3f5f"
          },
          "geo": {
           "bgcolor": "white",
           "lakecolor": "white",
           "landcolor": "#E5ECF6",
           "showlakes": true,
           "showland": true,
           "subunitcolor": "white"
          },
          "hoverlabel": {
           "align": "left"
          },
          "hovermode": "closest",
          "mapbox": {
           "style": "light"
          },
          "paper_bgcolor": "white",
          "plot_bgcolor": "#E5ECF6",
          "polar": {
           "angularaxis": {
            "gridcolor": "white",
            "linecolor": "white",
            "ticks": ""
           },
           "bgcolor": "#E5ECF6",
           "radialaxis": {
            "gridcolor": "white",
            "linecolor": "white",
            "ticks": ""
           }
          },
          "scene": {
           "xaxis": {
            "backgroundcolor": "#E5ECF6",
            "gridcolor": "white",
            "gridwidth": 2,
            "linecolor": "white",
            "showbackground": true,
            "ticks": "",
            "zerolinecolor": "white"
           },
           "yaxis": {
            "backgroundcolor": "#E5ECF6",
            "gridcolor": "white",
            "gridwidth": 2,
            "linecolor": "white",
            "showbackground": true,
            "ticks": "",
            "zerolinecolor": "white"
           },
           "zaxis": {
            "backgroundcolor": "#E5ECF6",
            "gridcolor": "white",
            "gridwidth": 2,
            "linecolor": "white",
            "showbackground": true,
            "ticks": "",
            "zerolinecolor": "white"
           }
          },
          "shapedefaults": {
           "line": {
            "color": "#2a3f5f"
           }
          },
          "ternary": {
           "aaxis": {
            "gridcolor": "white",
            "linecolor": "white",
            "ticks": ""
           },
           "baxis": {
            "gridcolor": "white",
            "linecolor": "white",
            "ticks": ""
           },
           "bgcolor": "#E5ECF6",
           "caxis": {
            "gridcolor": "white",
            "linecolor": "white",
            "ticks": ""
           }
          },
          "title": {
           "x": 0.05
          },
          "xaxis": {
           "automargin": true,
           "gridcolor": "white",
           "linecolor": "white",
           "ticks": "",
           "title": {
            "standoff": 15
           },
           "zerolinecolor": "white",
           "zerolinewidth": 2
          },
          "yaxis": {
           "automargin": true,
           "gridcolor": "white",
           "linecolor": "white",
           "ticks": "",
           "title": {
            "standoff": 15
           },
           "zerolinecolor": "white",
           "zerolinewidth": 2
          }
         }
        },
        "title": {
         "text": "Feature 1"
        }
       }
      }
     },
     "metadata": {}
    },
    {
     "output_type": "display_data",
     "data": {
      "application/vnd.plotly.v1+json": {
       "config": {
        "plotlyServerURL": "https://plot.ly"
       },
       "data": [
        {
         "hovertemplate": "x=%{x}<br>y=%{y}<br>z=%{z}<extra></extra>",
         "legendgroup": "",
         "marker": {
          "color": "#636efa",
          "symbol": "circle"
         },
         "mode": "markers",
         "name": "",
         "scene": "scene",
         "showlegend": false,
         "type": "scatter3d",
         "x": [
          0.6579999923706055,
          0.6669999957084656,
          0.7260000109672546,
          0.8320000171661377,
          0.9150000214576721,
          0.6060000061988831,
          0.012000000104308128,
          0.3700000047683716,
          0.05400000140070915,
          0.7300000190734863,
          0.5540000200271606,
          0.35100001096725464,
          0.13500000536441803,
          0.4909999966621399,
          0.6629999876022339,
          0.5139999985694885,
          0.640999972820282,
          0.16099999845027924,
          0.2759999930858612,
          0.17800000309944153,
          0.6480000019073486,
          0.07400000095367432,
          0.5590000152587891,
          0.3440000116825104,
          0.3630000054836273,
          0.9980000257492065,
          0.5519999861717224,
          0.5580000281333923,
          0.10300000011920929,
          0.28200000524520874,
          0.7609999775886536,
          0.421999990940094,
          0.6499999761581421,
          0.14100000262260437,
          0.22699999809265137,
          0.8240000009536743,
          0.17599999904632568,
          0.7829999923706055,
          0.7480000257492065,
          0.19599999487400055,
          0.6290000081062317,
          0.3179999887943268,
          0.6710000038146973,
          0.017000000923871994,
          0.1599999964237213,
          0.9240000247955322,
          0.9769999980926514,
          0.5860000252723694,
          0.25099998712539673,
          0.414000004529953,
          0.36399999260902405,
          0.7799999713897705,
          0.6980000138282776,
          0.6949999928474426,
          0.5490000247955322,
          0.017999999225139618,
          0.7059999704360962,
          0.9850000143051147,
          0.4009999930858612,
          0.574999988079071,
          0.8920000195503235,
          0.5450000166893005,
          0.9610000252723694,
          0.8999999761581421,
          0.46700000762939453,
          0.4440000057220459,
          0.878000020980835,
          0.6110000014305115,
          0.6940000057220459,
          0.06599999964237213,
          0.1340000033378601,
          0.06499999761581421,
          0.2980000078678131,
          0.8149999976158142,
          0.7360000014305115,
          0.3109999895095825,
          0.5230000019073486,
          0.20600000023841858,
          0.6700000166893005,
          0.5170000195503235,
          0.30799999833106995,
          0.4970000088214874,
          0.781000018119812,
          0.460999995470047,
          0.8999999761581421,
          0.9629999995231628,
          0.32600000500679016,
          0.12600000202655792,
          0.6259999871253967,
          0.052000001072883606,
          0.08799999952316284,
          0.15199999511241913,
          0.0560000017285347,
          0.34299999475479126,
          0.42500001192092896,
          0.07199999690055847,
          0.5929999947547913,
          0.9330000281333923,
          0.5920000076293945,
          0.5450000166893005
         ],
         "y": [
          0.36500000953674316,
          0.6579999923706055,
          0.20900000631809235,
          0.41100001335144043,
          0.6299999952316284,
          0.37700000405311584,
          0.16300000250339508,
          0.7929999828338623,
          0.718999981880188,
          0.7889999747276306,
          0.18400000035762787,
          0.6259999871253967,
          0.7459999918937683,
          0.3089999854564667,
          0.7540000081062317,
          0.009999999776482582,
          0.6850000023841858,
          0.4490000009536743,
          0.6679999828338623,
          0.7639999985694885,
          0.18000000715255737,
          0.4129999876022339,
          0.4020000100135803,
          0.8659999966621399,
          0.48899999260902405,
          0.765999972820282,
          0.9399999976158142,
          0.061000000685453415,
          0.6420000195503235,
          0.906000018119812,
          0.9340000152587891,
          0.8700000047683716,
          0.9340000152587891,
          0.9620000123977661,
          0.7160000205039978,
          0.5299999713897705,
          0.11900000274181366,
          0.8569999933242798,
          0.6620000004768372,
          0.31299999356269836,
          0.019999999552965164,
          0.2409999966621399,
          0.029999999329447746,
          0.11400000005960464,
          0.7749999761581421,
          0.36899998784065247,
          0.3230000138282776,
          0.3799999952316284,
          0.925000011920929,
          0.09099999815225601,
          0.8759999871253967,
          0.6169999837875366,
          0.4399999976158142,
          0.30300000309944153,
          0.6039999723434448,
          0.9100000262260437,
          0.2809999883174896,
          0.8489999771118164,
          0.23899999260902405,
          0.6200000047683716,
          0.7459999918937683,
          0.18700000643730164,
          0.7580000162124634,
          0.5329999923706055,
          0.2409999966621399,
          0.07999999821186066,
          0.2800000011920929,
          0.9570000171661377,
          0.9240000247955322,
          0.03999999910593033,
          0.2029999941587448,
          0.13600000739097595,
          0.5460000038146973,
          0.25,
          0.859000027179718,
          0.4830000102519989,
          0.44999998807907104,
          0.7720000147819519,
          0.7720000147819519,
          0.7229999899864197,
          0.4880000054836273,
          0.5899999737739563,
          0.7850000262260437,
          0.9679999947547913,
          0.40799999237060547,
          0.7670000195503235,
          0.23399999737739563,
          0.7979999780654907,
          0.8230000138282776,
          0.0020000000949949026,
          0.16899999976158142,
          0.609000027179718,
          0.9210000038146973,
          0.03799999877810478,
          0.5559999942779541,
          0.597000002861023,
          0.3310000002384186,
          0.20999999344348907,
          0.7870000004768372,
          0.9039999842643738
         ],
         "z": [
          0.09000000357627869,
          0.2980000078678131,
          0.032999999821186066,
          0.14399999380111694,
          0.3580000102519989,
          0.08699999749660492,
          0,
          0.17399999499320984,
          0.003000000026077032,
          0.4749999940395355,
          0.017999999225139618,
          0.0989999994635582,
          0.023000000044703484,
          0.041999999433755875,
          0.3889999985694885,
          0,
          0.30799999833106995,
          0.012000000104308128,
          0.07199999690055847,
          0.04100000113248825,
          0.02199999988079071,
          0.0020000000949949026,
          0.08799999952316284,
          0.18299999833106995,
          0.06400000303983688,
          0.5379999876022339,
          0.47099998593330383,
          0.0020000000949949026,
          0.009999999776482582,
          0.1379999965429306,
          0.6930000185966492,
          0.2630000114440918,
          0.5809999704360962,
          0.04100000113248825,
          0.05700000002980232,
          0.23800000548362732,
          0.0010000000474974513,
          0.5979999899864197,
          0.34200000762939453,
          0.00800000037997961,
          0,
          0.012000000104308128,
          0.0010000000474974513,
          0,
          0.03400000184774399,
          0.12300000339746475,
          0.0949999988079071,
          0.08399999886751175,
          0.11599999666213989,
          0.003000000026077032,
          0.20600000023841858,
          0.3089999854564667,
          0.14100000262260437,
          0.06599999964237213,
          0.19300000369548798,
          0.0010000000474974513,
          0.057999998331069946,
          0.6600000262260437,
          0.017999999225139618,
          0.21699999272823334,
          0.4959999918937683,
          0.017999999225139618,
          0.5249999761581421,
          0.2540000081062317,
          0.024000000208616257,
          0.0020000000949949026,
          0.0689999982714653,
          0.5640000104904175,
          0.6150000095367432,
          0,
          0.0020000000949949026,
          0,
          0.0560000017285347,
          0.05299999937415123,
          0.5669999718666077,
          0.04699999839067459,
          0.0989999994635582,
          0.054999999701976776,
          0.41200000047683716,
          0.25200000405311584,
          0.04699999839067459,
          0.15800000727176666,
          0.5009999871253967,
          0.37700000405311584,
          0.14900000393390656,
          0.5379999876022339,
          0.012000000104308128,
          0.023000000044703484,
          0.4300000071525574,
          0,
          0,
          0.01899999938905239,
          0.006000000052154064,
          0,
          0.1080000028014183,
          0.004000000189989805,
          0.06499999761581421,
          0.03999999910593033,
          0.36500000953674316,
          0.4269999861717224
         ]
        },
        {
         "mode": "markers",
         "name": "p2",
         "type": "scatter3d",
         "x": [
          0.6579999923706055,
          0.6669999957084656,
          0.7260000109672546,
          0.8320000171661377,
          0.9150000214576721,
          0.6060000061988831,
          0.012000000104308128,
          0.3700000047683716,
          0.05400000140070915,
          0.7300000190734863,
          0.5540000200271606,
          0.35100001096725464,
          0.13500000536441803,
          0.4909999966621399,
          0.6629999876022339,
          0.5139999985694885,
          0.640999972820282,
          0.16099999845027924,
          0.2759999930858612,
          0.17800000309944153,
          0.6480000019073486,
          0.07400000095367432,
          0.5590000152587891,
          0.3440000116825104,
          0.3630000054836273,
          0.9980000257492065,
          0.5519999861717224,
          0.5580000281333923,
          0.10300000011920929,
          0.28200000524520874,
          0.7609999775886536,
          0.421999990940094,
          0.6499999761581421,
          0.14100000262260437,
          0.22699999809265137,
          0.8240000009536743,
          0.17599999904632568,
          0.7829999923706055,
          0.7480000257492065,
          0.19599999487400055,
          0.6290000081062317,
          0.3179999887943268,
          0.6710000038146973,
          0.017000000923871994,
          0.1599999964237213,
          0.9240000247955322,
          0.9769999980926514,
          0.5860000252723694,
          0.25099998712539673,
          0.414000004529953,
          0.36399999260902405,
          0.7799999713897705,
          0.6980000138282776,
          0.6949999928474426,
          0.5490000247955322,
          0.017999999225139618,
          0.7059999704360962,
          0.9850000143051147,
          0.4009999930858612,
          0.574999988079071,
          0.8920000195503235,
          0.5450000166893005,
          0.9610000252723694,
          0.8999999761581421,
          0.46700000762939453,
          0.4440000057220459,
          0.878000020980835,
          0.6110000014305115,
          0.6940000057220459,
          0.06599999964237213,
          0.1340000033378601,
          0.06499999761581421,
          0.2980000078678131,
          0.8149999976158142,
          0.7360000014305115,
          0.3109999895095825,
          0.5230000019073486,
          0.20600000023841858,
          0.6700000166893005,
          0.5170000195503235,
          0.30799999833106995,
          0.4970000088214874,
          0.781000018119812,
          0.460999995470047,
          0.8999999761581421,
          0.9629999995231628,
          0.32600000500679016,
          0.12600000202655792,
          0.6259999871253967,
          0.052000001072883606,
          0.08799999952316284,
          0.15199999511241913,
          0.0560000017285347,
          0.34299999475479126,
          0.42500001192092896,
          0.07199999690055847,
          0.5929999947547913,
          0.9330000281333923,
          0.5920000076293945,
          0.5450000166893005
         ],
         "y": [
          0.36500000953674316,
          0.6579999923706055,
          0.20900000631809235,
          0.41100001335144043,
          0.6299999952316284,
          0.37700000405311584,
          0.16300000250339508,
          0.7929999828338623,
          0.718999981880188,
          0.7889999747276306,
          0.18400000035762787,
          0.6259999871253967,
          0.7459999918937683,
          0.3089999854564667,
          0.7540000081062317,
          0.009999999776482582,
          0.6850000023841858,
          0.4490000009536743,
          0.6679999828338623,
          0.7639999985694885,
          0.18000000715255737,
          0.4129999876022339,
          0.4020000100135803,
          0.8659999966621399,
          0.48899999260902405,
          0.765999972820282,
          0.9399999976158142,
          0.061000000685453415,
          0.6420000195503235,
          0.906000018119812,
          0.9340000152587891,
          0.8700000047683716,
          0.9340000152587891,
          0.9620000123977661,
          0.7160000205039978,
          0.5299999713897705,
          0.11900000274181366,
          0.8569999933242798,
          0.6620000004768372,
          0.31299999356269836,
          0.019999999552965164,
          0.2409999966621399,
          0.029999999329447746,
          0.11400000005960464,
          0.7749999761581421,
          0.36899998784065247,
          0.3230000138282776,
          0.3799999952316284,
          0.925000011920929,
          0.09099999815225601,
          0.8759999871253967,
          0.6169999837875366,
          0.4399999976158142,
          0.30300000309944153,
          0.6039999723434448,
          0.9100000262260437,
          0.2809999883174896,
          0.8489999771118164,
          0.23899999260902405,
          0.6200000047683716,
          0.7459999918937683,
          0.18700000643730164,
          0.7580000162124634,
          0.5329999923706055,
          0.2409999966621399,
          0.07999999821186066,
          0.2800000011920929,
          0.9570000171661377,
          0.9240000247955322,
          0.03999999910593033,
          0.2029999941587448,
          0.13600000739097595,
          0.5460000038146973,
          0.25,
          0.859000027179718,
          0.4830000102519989,
          0.44999998807907104,
          0.7720000147819519,
          0.7720000147819519,
          0.7229999899864197,
          0.4880000054836273,
          0.5899999737739563,
          0.7850000262260437,
          0.9679999947547913,
          0.40799999237060547,
          0.7670000195503235,
          0.23399999737739563,
          0.7979999780654907,
          0.8230000138282776,
          0.0020000000949949026,
          0.16899999976158142,
          0.609000027179718,
          0.9210000038146973,
          0.03799999877810478,
          0.5559999942779541,
          0.597000002861023,
          0.3310000002384186,
          0.20999999344348907,
          0.7870000004768372,
          0.9039999842643738
         ],
         "z": [
          0.16481726763565308,
          0.25691793388317985,
          0.1276288314891969,
          0.21165798976306638,
          0.29133209777175273,
          0.15782401296545367,
          -0.04750450457858346,
          0.22439392595388885,
          0.13300343243904278,
          0.3027922276762507,
          0.08403163939219693,
          0.1763181942785601,
          0.15768117096536105,
          0.10993253195538721,
          0.28128875869768777,
          0.023012059479127323,
          0.25896458935060596,
          0.07730346957414946,
          0.17014687388634708,
          0.17194279523719025,
          0.10300847739168295,
          0.046273022367081196,
          0.15566727258182134,
          0.23402724048915868,
          0.13782027290302679,
          0.3373443617957437,
          0.2965204962440995,
          0.04747423630396064,
          0.1228385472323934,
          0.22694078163567633,
          0.3380576995786547,
          0.2534560264795551,
          0.3165863894217521,
          0.20365098753393074,
          0.1713401491430595,
          0.24807832316999034,
          -0.02506830474692323,
          0.327331399680138,
          0.27366510698874225,
          0.04126808034795504,
          0.05112474848337556,
          0.046846342453603085,
          0.06259900559660847,
          -0.06156269342065834,
          0.17044324095029995,
          0.211440833700822,
          0.20294699286324214,
          0.15447227601728508,
          0.22300472024854467,
          0.02302427980620736,
          0.24082220756335715,
          0.266672721763874,
          0.19710451379972316,
          0.15201240815162775,
          0.2162916019780443,
          0.16794603907350236,
          0.1469990307465343,
          0.3546780480165185,
          0.06606552125717036,
          0.226703312420673,
          0.3192399996837394,
          0.08296351454981066,
          0.3312117369286265,
          0.2604646986619795,
          0.08229870374431758,
          0.026854141412723465,
          0.17605567308814518,
          0.31226145403095384,
          0.3236912586755405,
          -0.07305386078745457,
          -0.008494247920881381,
          -0.044712952754702884,
          0.13992822201423427,
          0.15654224320472532,
          0.3192778184358456,
          0.12346733252876374,
          0.16302953206489923,
          0.18038560436768847,
          0.2870782281155776,
          0.24182371676027659,
          0.12432580340455712,
          0.20035196784125753,
          0.31109516750167265,
          0.28024811200890143,
          0.22086169270477418,
          0.33363719944151915,
          0.04651191669646659,
          0.1681056214689034,
          0.28972033770529204,
          -0.08673412692531324,
          -0.029470085867393303,
          0.12441296029271298,
          0.17793119936077795,
          -0.00942646112233958,
          0.17332253450976098,
          0.10308475707181464,
          0.14002358500924172,
          0.16105844155561044,
          0.2742699507455749,
          0.2885310770583238
         ]
        }
       ],
       "layout": {
        "legend": {
         "tracegroupgap": 0
        },
        "scene": {
         "domain": {
          "x": [
           0,
           1
          ],
          "y": [
           0,
           1
          ]
         },
         "xaxis": {
          "title": {
           "text": "x"
          }
         },
         "yaxis": {
          "title": {
           "text": "y"
          }
         },
         "zaxis": {
          "title": {
           "text": "z"
          }
         }
        },
        "template": {
         "data": {
          "bar": [
           {
            "error_x": {
             "color": "#2a3f5f"
            },
            "error_y": {
             "color": "#2a3f5f"
            },
            "marker": {
             "line": {
              "color": "#E5ECF6",
              "width": 0.5
             }
            },
            "type": "bar"
           }
          ],
          "barpolar": [
           {
            "marker": {
             "line": {
              "color": "#E5ECF6",
              "width": 0.5
             }
            },
            "type": "barpolar"
           }
          ],
          "carpet": [
           {
            "aaxis": {
             "endlinecolor": "#2a3f5f",
             "gridcolor": "white",
             "linecolor": "white",
             "minorgridcolor": "white",
             "startlinecolor": "#2a3f5f"
            },
            "baxis": {
             "endlinecolor": "#2a3f5f",
             "gridcolor": "white",
             "linecolor": "white",
             "minorgridcolor": "white",
             "startlinecolor": "#2a3f5f"
            },
            "type": "carpet"
           }
          ],
          "choropleth": [
           {
            "colorbar": {
             "outlinewidth": 0,
             "ticks": ""
            },
            "type": "choropleth"
           }
          ],
          "contour": [
           {
            "colorbar": {
             "outlinewidth": 0,
             "ticks": ""
            },
            "colorscale": [
             [
              0,
              "#0d0887"
             ],
             [
              0.1111111111111111,
              "#46039f"
             ],
             [
              0.2222222222222222,
              "#7201a8"
             ],
             [
              0.3333333333333333,
              "#9c179e"
             ],
             [
              0.4444444444444444,
              "#bd3786"
             ],
             [
              0.5555555555555556,
              "#d8576b"
             ],
             [
              0.6666666666666666,
              "#ed7953"
             ],
             [
              0.7777777777777778,
              "#fb9f3a"
             ],
             [
              0.8888888888888888,
              "#fdca26"
             ],
             [
              1,
              "#f0f921"
             ]
            ],
            "type": "contour"
           }
          ],
          "contourcarpet": [
           {
            "colorbar": {
             "outlinewidth": 0,
             "ticks": ""
            },
            "type": "contourcarpet"
           }
          ],
          "heatmap": [
           {
            "colorbar": {
             "outlinewidth": 0,
             "ticks": ""
            },
            "colorscale": [
             [
              0,
              "#0d0887"
             ],
             [
              0.1111111111111111,
              "#46039f"
             ],
             [
              0.2222222222222222,
              "#7201a8"
             ],
             [
              0.3333333333333333,
              "#9c179e"
             ],
             [
              0.4444444444444444,
              "#bd3786"
             ],
             [
              0.5555555555555556,
              "#d8576b"
             ],
             [
              0.6666666666666666,
              "#ed7953"
             ],
             [
              0.7777777777777778,
              "#fb9f3a"
             ],
             [
              0.8888888888888888,
              "#fdca26"
             ],
             [
              1,
              "#f0f921"
             ]
            ],
            "type": "heatmap"
           }
          ],
          "heatmapgl": [
           {
            "colorbar": {
             "outlinewidth": 0,
             "ticks": ""
            },
            "colorscale": [
             [
              0,
              "#0d0887"
             ],
             [
              0.1111111111111111,
              "#46039f"
             ],
             [
              0.2222222222222222,
              "#7201a8"
             ],
             [
              0.3333333333333333,
              "#9c179e"
             ],
             [
              0.4444444444444444,
              "#bd3786"
             ],
             [
              0.5555555555555556,
              "#d8576b"
             ],
             [
              0.6666666666666666,
              "#ed7953"
             ],
             [
              0.7777777777777778,
              "#fb9f3a"
             ],
             [
              0.8888888888888888,
              "#fdca26"
             ],
             [
              1,
              "#f0f921"
             ]
            ],
            "type": "heatmapgl"
           }
          ],
          "histogram": [
           {
            "marker": {
             "colorbar": {
              "outlinewidth": 0,
              "ticks": ""
             }
            },
            "type": "histogram"
           }
          ],
          "histogram2d": [
           {
            "colorbar": {
             "outlinewidth": 0,
             "ticks": ""
            },
            "colorscale": [
             [
              0,
              "#0d0887"
             ],
             [
              0.1111111111111111,
              "#46039f"
             ],
             [
              0.2222222222222222,
              "#7201a8"
             ],
             [
              0.3333333333333333,
              "#9c179e"
             ],
             [
              0.4444444444444444,
              "#bd3786"
             ],
             [
              0.5555555555555556,
              "#d8576b"
             ],
             [
              0.6666666666666666,
              "#ed7953"
             ],
             [
              0.7777777777777778,
              "#fb9f3a"
             ],
             [
              0.8888888888888888,
              "#fdca26"
             ],
             [
              1,
              "#f0f921"
             ]
            ],
            "type": "histogram2d"
           }
          ],
          "histogram2dcontour": [
           {
            "colorbar": {
             "outlinewidth": 0,
             "ticks": ""
            },
            "colorscale": [
             [
              0,
              "#0d0887"
             ],
             [
              0.1111111111111111,
              "#46039f"
             ],
             [
              0.2222222222222222,
              "#7201a8"
             ],
             [
              0.3333333333333333,
              "#9c179e"
             ],
             [
              0.4444444444444444,
              "#bd3786"
             ],
             [
              0.5555555555555556,
              "#d8576b"
             ],
             [
              0.6666666666666666,
              "#ed7953"
             ],
             [
              0.7777777777777778,
              "#fb9f3a"
             ],
             [
              0.8888888888888888,
              "#fdca26"
             ],
             [
              1,
              "#f0f921"
             ]
            ],
            "type": "histogram2dcontour"
           }
          ],
          "mesh3d": [
           {
            "colorbar": {
             "outlinewidth": 0,
             "ticks": ""
            },
            "type": "mesh3d"
           }
          ],
          "parcoords": [
           {
            "line": {
             "colorbar": {
              "outlinewidth": 0,
              "ticks": ""
             }
            },
            "type": "parcoords"
           }
          ],
          "pie": [
           {
            "automargin": true,
            "type": "pie"
           }
          ],
          "scatter": [
           {
            "marker": {
             "colorbar": {
              "outlinewidth": 0,
              "ticks": ""
             }
            },
            "type": "scatter"
           }
          ],
          "scatter3d": [
           {
            "line": {
             "colorbar": {
              "outlinewidth": 0,
              "ticks": ""
             }
            },
            "marker": {
             "colorbar": {
              "outlinewidth": 0,
              "ticks": ""
             }
            },
            "type": "scatter3d"
           }
          ],
          "scattercarpet": [
           {
            "marker": {
             "colorbar": {
              "outlinewidth": 0,
              "ticks": ""
             }
            },
            "type": "scattercarpet"
           }
          ],
          "scattergeo": [
           {
            "marker": {
             "colorbar": {
              "outlinewidth": 0,
              "ticks": ""
             }
            },
            "type": "scattergeo"
           }
          ],
          "scattergl": [
           {
            "marker": {
             "colorbar": {
              "outlinewidth": 0,
              "ticks": ""
             }
            },
            "type": "scattergl"
           }
          ],
          "scattermapbox": [
           {
            "marker": {
             "colorbar": {
              "outlinewidth": 0,
              "ticks": ""
             }
            },
            "type": "scattermapbox"
           }
          ],
          "scatterpolar": [
           {
            "marker": {
             "colorbar": {
              "outlinewidth": 0,
              "ticks": ""
             }
            },
            "type": "scatterpolar"
           }
          ],
          "scatterpolargl": [
           {
            "marker": {
             "colorbar": {
              "outlinewidth": 0,
              "ticks": ""
             }
            },
            "type": "scatterpolargl"
           }
          ],
          "scatterternary": [
           {
            "marker": {
             "colorbar": {
              "outlinewidth": 0,
              "ticks": ""
             }
            },
            "type": "scatterternary"
           }
          ],
          "surface": [
           {
            "colorbar": {
             "outlinewidth": 0,
             "ticks": ""
            },
            "colorscale": [
             [
              0,
              "#0d0887"
             ],
             [
              0.1111111111111111,
              "#46039f"
             ],
             [
              0.2222222222222222,
              "#7201a8"
             ],
             [
              0.3333333333333333,
              "#9c179e"
             ],
             [
              0.4444444444444444,
              "#bd3786"
             ],
             [
              0.5555555555555556,
              "#d8576b"
             ],
             [
              0.6666666666666666,
              "#ed7953"
             ],
             [
              0.7777777777777778,
              "#fb9f3a"
             ],
             [
              0.8888888888888888,
              "#fdca26"
             ],
             [
              1,
              "#f0f921"
             ]
            ],
            "type": "surface"
           }
          ],
          "table": [
           {
            "cells": {
             "fill": {
              "color": "#EBF0F8"
             },
             "line": {
              "color": "white"
             }
            },
            "header": {
             "fill": {
              "color": "#C8D4E3"
             },
             "line": {
              "color": "white"
             }
            },
            "type": "table"
           }
          ]
         },
         "layout": {
          "annotationdefaults": {
           "arrowcolor": "#2a3f5f",
           "arrowhead": 0,
           "arrowwidth": 1
          },
          "coloraxis": {
           "colorbar": {
            "outlinewidth": 0,
            "ticks": ""
           }
          },
          "colorscale": {
           "diverging": [
            [
             0,
             "#8e0152"
            ],
            [
             0.1,
             "#c51b7d"
            ],
            [
             0.2,
             "#de77ae"
            ],
            [
             0.3,
             "#f1b6da"
            ],
            [
             0.4,
             "#fde0ef"
            ],
            [
             0.5,
             "#f7f7f7"
            ],
            [
             0.6,
             "#e6f5d0"
            ],
            [
             0.7,
             "#b8e186"
            ],
            [
             0.8,
             "#7fbc41"
            ],
            [
             0.9,
             "#4d9221"
            ],
            [
             1,
             "#276419"
            ]
           ],
           "sequential": [
            [
             0,
             "#0d0887"
            ],
            [
             0.1111111111111111,
             "#46039f"
            ],
            [
             0.2222222222222222,
             "#7201a8"
            ],
            [
             0.3333333333333333,
             "#9c179e"
            ],
            [
             0.4444444444444444,
             "#bd3786"
            ],
            [
             0.5555555555555556,
             "#d8576b"
            ],
            [
             0.6666666666666666,
             "#ed7953"
            ],
            [
             0.7777777777777778,
             "#fb9f3a"
            ],
            [
             0.8888888888888888,
             "#fdca26"
            ],
            [
             1,
             "#f0f921"
            ]
           ],
           "sequentialminus": [
            [
             0,
             "#0d0887"
            ],
            [
             0.1111111111111111,
             "#46039f"
            ],
            [
             0.2222222222222222,
             "#7201a8"
            ],
            [
             0.3333333333333333,
             "#9c179e"
            ],
            [
             0.4444444444444444,
             "#bd3786"
            ],
            [
             0.5555555555555556,
             "#d8576b"
            ],
            [
             0.6666666666666666,
             "#ed7953"
            ],
            [
             0.7777777777777778,
             "#fb9f3a"
            ],
            [
             0.8888888888888888,
             "#fdca26"
            ],
            [
             1,
             "#f0f921"
            ]
           ]
          },
          "colorway": [
           "#636efa",
           "#EF553B",
           "#00cc96",
           "#ab63fa",
           "#FFA15A",
           "#19d3f3",
           "#FF6692",
           "#B6E880",
           "#FF97FF",
           "#FECB52"
          ],
          "font": {
           "color": "#2a3f5f"
          },
          "geo": {
           "bgcolor": "white",
           "lakecolor": "white",
           "landcolor": "#E5ECF6",
           "showlakes": true,
           "showland": true,
           "subunitcolor": "white"
          },
          "hoverlabel": {
           "align": "left"
          },
          "hovermode": "closest",
          "mapbox": {
           "style": "light"
          },
          "paper_bgcolor": "white",
          "plot_bgcolor": "#E5ECF6",
          "polar": {
           "angularaxis": {
            "gridcolor": "white",
            "linecolor": "white",
            "ticks": ""
           },
           "bgcolor": "#E5ECF6",
           "radialaxis": {
            "gridcolor": "white",
            "linecolor": "white",
            "ticks": ""
           }
          },
          "scene": {
           "xaxis": {
            "backgroundcolor": "#E5ECF6",
            "gridcolor": "white",
            "gridwidth": 2,
            "linecolor": "white",
            "showbackground": true,
            "ticks": "",
            "zerolinecolor": "white"
           },
           "yaxis": {
            "backgroundcolor": "#E5ECF6",
            "gridcolor": "white",
            "gridwidth": 2,
            "linecolor": "white",
            "showbackground": true,
            "ticks": "",
            "zerolinecolor": "white"
           },
           "zaxis": {
            "backgroundcolor": "#E5ECF6",
            "gridcolor": "white",
            "gridwidth": 2,
            "linecolor": "white",
            "showbackground": true,
            "ticks": "",
            "zerolinecolor": "white"
           }
          },
          "shapedefaults": {
           "line": {
            "color": "#2a3f5f"
           }
          },
          "ternary": {
           "aaxis": {
            "gridcolor": "white",
            "linecolor": "white",
            "ticks": ""
           },
           "baxis": {
            "gridcolor": "white",
            "linecolor": "white",
            "ticks": ""
           },
           "bgcolor": "#E5ECF6",
           "caxis": {
            "gridcolor": "white",
            "linecolor": "white",
            "ticks": ""
           }
          },
          "title": {
           "x": 0.05
          },
          "xaxis": {
           "automargin": true,
           "gridcolor": "white",
           "linecolor": "white",
           "ticks": "",
           "title": {
            "standoff": 15
           },
           "zerolinecolor": "white",
           "zerolinewidth": 2
          },
          "yaxis": {
           "automargin": true,
           "gridcolor": "white",
           "linecolor": "white",
           "ticks": "",
           "title": {
            "standoff": 15
           },
           "zerolinecolor": "white",
           "zerolinewidth": 2
          }
         }
        },
        "title": {
         "text": "Feature 2"
        }
       }
      }
     },
     "metadata": {}
    },
    {
     "output_type": "display_data",
     "data": {
      "application/vnd.plotly.v1+json": {
       "config": {
        "plotlyServerURL": "https://plot.ly"
       },
       "data": [
        {
         "hovertemplate": "x=%{x}<br>y=%{y}<br>z=%{z}<extra></extra>",
         "legendgroup": "",
         "marker": {
          "color": "#636efa",
          "symbol": "circle"
         },
         "mode": "markers",
         "name": "",
         "scene": "scene",
         "showlegend": false,
         "type": "scatter3d",
         "x": [
          0.6579999923706055,
          0.6669999957084656,
          0.7260000109672546,
          0.8320000171661377,
          0.9150000214576721,
          0.6060000061988831,
          0.012000000104308128,
          0.3700000047683716,
          0.05400000140070915,
          0.7300000190734863,
          0.5540000200271606,
          0.35100001096725464,
          0.13500000536441803,
          0.4909999966621399,
          0.6629999876022339,
          0.5139999985694885,
          0.640999972820282,
          0.16099999845027924,
          0.2759999930858612,
          0.17800000309944153,
          0.6480000019073486,
          0.07400000095367432,
          0.5590000152587891,
          0.3440000116825104,
          0.3630000054836273,
          0.9980000257492065,
          0.5519999861717224,
          0.5580000281333923,
          0.10300000011920929,
          0.28200000524520874,
          0.7609999775886536,
          0.421999990940094,
          0.6499999761581421,
          0.14100000262260437,
          0.22699999809265137,
          0.8240000009536743,
          0.17599999904632568,
          0.7829999923706055,
          0.7480000257492065,
          0.19599999487400055,
          0.6290000081062317,
          0.3179999887943268,
          0.6710000038146973,
          0.017000000923871994,
          0.1599999964237213,
          0.9240000247955322,
          0.9769999980926514,
          0.5860000252723694,
          0.25099998712539673,
          0.414000004529953,
          0.36399999260902405,
          0.7799999713897705,
          0.6980000138282776,
          0.6949999928474426,
          0.5490000247955322,
          0.017999999225139618,
          0.7059999704360962,
          0.9850000143051147,
          0.4009999930858612,
          0.574999988079071,
          0.8920000195503235,
          0.5450000166893005,
          0.9610000252723694,
          0.8999999761581421,
          0.46700000762939453,
          0.4440000057220459,
          0.878000020980835,
          0.6110000014305115,
          0.6940000057220459,
          0.06599999964237213,
          0.1340000033378601,
          0.06499999761581421,
          0.2980000078678131,
          0.8149999976158142,
          0.7360000014305115,
          0.3109999895095825,
          0.5230000019073486,
          0.20600000023841858,
          0.6700000166893005,
          0.5170000195503235,
          0.30799999833106995,
          0.4970000088214874,
          0.781000018119812,
          0.460999995470047,
          0.8999999761581421,
          0.9629999995231628,
          0.32600000500679016,
          0.12600000202655792,
          0.6259999871253967,
          0.052000001072883606,
          0.08799999952316284,
          0.15199999511241913,
          0.0560000017285347,
          0.34299999475479126,
          0.42500001192092896,
          0.07199999690055847,
          0.5929999947547913,
          0.9330000281333923,
          0.5920000076293945,
          0.5450000166893005
         ],
         "y": [
          0.36500000953674316,
          0.6579999923706055,
          0.20900000631809235,
          0.41100001335144043,
          0.6299999952316284,
          0.37700000405311584,
          0.16300000250339508,
          0.7929999828338623,
          0.718999981880188,
          0.7889999747276306,
          0.18400000035762787,
          0.6259999871253967,
          0.7459999918937683,
          0.3089999854564667,
          0.7540000081062317,
          0.009999999776482582,
          0.6850000023841858,
          0.4490000009536743,
          0.6679999828338623,
          0.7639999985694885,
          0.18000000715255737,
          0.4129999876022339,
          0.4020000100135803,
          0.8659999966621399,
          0.48899999260902405,
          0.765999972820282,
          0.9399999976158142,
          0.061000000685453415,
          0.6420000195503235,
          0.906000018119812,
          0.9340000152587891,
          0.8700000047683716,
          0.9340000152587891,
          0.9620000123977661,
          0.7160000205039978,
          0.5299999713897705,
          0.11900000274181366,
          0.8569999933242798,
          0.6620000004768372,
          0.31299999356269836,
          0.019999999552965164,
          0.2409999966621399,
          0.029999999329447746,
          0.11400000005960464,
          0.7749999761581421,
          0.36899998784065247,
          0.3230000138282776,
          0.3799999952316284,
          0.925000011920929,
          0.09099999815225601,
          0.8759999871253967,
          0.6169999837875366,
          0.4399999976158142,
          0.30300000309944153,
          0.6039999723434448,
          0.9100000262260437,
          0.2809999883174896,
          0.8489999771118164,
          0.23899999260902405,
          0.6200000047683716,
          0.7459999918937683,
          0.18700000643730164,
          0.7580000162124634,
          0.5329999923706055,
          0.2409999966621399,
          0.07999999821186066,
          0.2800000011920929,
          0.9570000171661377,
          0.9240000247955322,
          0.03999999910593033,
          0.2029999941587448,
          0.13600000739097595,
          0.5460000038146973,
          0.25,
          0.859000027179718,
          0.4830000102519989,
          0.44999998807907104,
          0.7720000147819519,
          0.7720000147819519,
          0.7229999899864197,
          0.4880000054836273,
          0.5899999737739563,
          0.7850000262260437,
          0.9679999947547913,
          0.40799999237060547,
          0.7670000195503235,
          0.23399999737739563,
          0.7979999780654907,
          0.8230000138282776,
          0.0020000000949949026,
          0.16899999976158142,
          0.609000027179718,
          0.9210000038146973,
          0.03799999877810478,
          0.5559999942779541,
          0.597000002861023,
          0.3310000002384186,
          0.20999999344348907,
          0.7870000004768372,
          0.9039999842643738
         ],
         "z": [
          0.06011526620284474,
          0.025702923453308435,
          0.05740270988023555,
          0.09152255520840358,
          0.1646578985768597,
          0.052930154306097654,
          0.046112511533989486,
          0.08266049016657101,
          0.20701070981791003,
          0.09301050579976755,
          0.03498275083346458,
          0.04418656762965101,
          0.15291931799539665,
          0.04223748833048224,
          0.0745651907788697,
          0.05012767849724925,
          0.034423423706544,
          0.07450121620226857,
          0.060148231745899616,
          0.12012745485819548,
          0.041667505168440366,
          0.07350434322257776,
          0.046939649352113255,
          0.1033808725403425,
          0.045731701466424635,
          0.3303378133358281,
          0.23914408106983476,
          0.047941696971701364,
          0.1515220214737084,
          0.10039550182520707,
          0.18796868083249435,
          0.11412654984840553,
          0.23578375886044595,
          0.15240378120456977,
          0.08537482705847821,
          0.07723692741872457,
          0.04120958273109282,
          0.16710476459603824,
          0.07344659787442026,
          0.030283540264162356,
          0.05817114318648281,
          0.01825887956715938,
          0.06035176415310484,
          0.068175447138904,
          0.13603513905553072,
          0.1121157563309334,
          0.11615743991992766,
          0.05084708827294765,
          0.09109346364862297,
          0.03400702053536475,
          0.10913292968877147,
          0.0783596308488107,
          0.0597752035847392,
          0.06457533241609098,
          0.022712820636550557,
          0.30674713257760255,
          0.06433183382924912,
          0.39517055930055295,
          0.024172769549882567,
          0.015589730240672228,
          0.2212365053813865,
          0.0347437358638607,
          0.29172307527767793,
          0.1063075743216419,
          0.030847628714825548,
          0.03734043541773713,
          0.09075198915231736,
          0.26531524364911985,
          0.21284019013414257,
          0.09153061425833647,
          0.014118904980756408,
          0.05111609363169939,
          0.058222890804684846,
          0.07603278995923574,
          0.13233319672197652,
          0.054542282407188,
          0.04119435681653488,
          0.09737317446539634,
          0.08477705484949455,
          0.05325157048789475,
          0.05522589384659793,
          0.032843583171203505,
          0.13892843268935295,
          0.22473810496721586,
          0.10871391859209412,
          0.30011396837660437,
          0.019082559031655066,
          0.16799586030652192,
          0.1331396539632061,
          0.10950354637572246,
          0.033400966264773846,
          0.118640770292811,
          0.2646376183030459,
          0.04380018439417782,
          0.03622741279260261,
          0.15159777868764984,
          0.05212008333397,
          0.08297973708189776,
          0.10530090075219695,
          0.19991558889421845
         ]
        }
       ],
       "layout": {
        "legend": {
         "tracegroupgap": 0
        },
        "scene": {
         "domain": {
          "x": [
           0,
           1
          ],
          "y": [
           0,
           1
          ]
         },
         "xaxis": {
          "title": {
           "text": "x"
          }
         },
         "yaxis": {
          "title": {
           "text": "y"
          }
         },
         "zaxis": {
          "title": {
           "text": "z"
          }
         }
        },
        "template": {
         "data": {
          "bar": [
           {
            "error_x": {
             "color": "#2a3f5f"
            },
            "error_y": {
             "color": "#2a3f5f"
            },
            "marker": {
             "line": {
              "color": "#E5ECF6",
              "width": 0.5
             }
            },
            "type": "bar"
           }
          ],
          "barpolar": [
           {
            "marker": {
             "line": {
              "color": "#E5ECF6",
              "width": 0.5
             }
            },
            "type": "barpolar"
           }
          ],
          "carpet": [
           {
            "aaxis": {
             "endlinecolor": "#2a3f5f",
             "gridcolor": "white",
             "linecolor": "white",
             "minorgridcolor": "white",
             "startlinecolor": "#2a3f5f"
            },
            "baxis": {
             "endlinecolor": "#2a3f5f",
             "gridcolor": "white",
             "linecolor": "white",
             "minorgridcolor": "white",
             "startlinecolor": "#2a3f5f"
            },
            "type": "carpet"
           }
          ],
          "choropleth": [
           {
            "colorbar": {
             "outlinewidth": 0,
             "ticks": ""
            },
            "type": "choropleth"
           }
          ],
          "contour": [
           {
            "colorbar": {
             "outlinewidth": 0,
             "ticks": ""
            },
            "colorscale": [
             [
              0,
              "#0d0887"
             ],
             [
              0.1111111111111111,
              "#46039f"
             ],
             [
              0.2222222222222222,
              "#7201a8"
             ],
             [
              0.3333333333333333,
              "#9c179e"
             ],
             [
              0.4444444444444444,
              "#bd3786"
             ],
             [
              0.5555555555555556,
              "#d8576b"
             ],
             [
              0.6666666666666666,
              "#ed7953"
             ],
             [
              0.7777777777777778,
              "#fb9f3a"
             ],
             [
              0.8888888888888888,
              "#fdca26"
             ],
             [
              1,
              "#f0f921"
             ]
            ],
            "type": "contour"
           }
          ],
          "contourcarpet": [
           {
            "colorbar": {
             "outlinewidth": 0,
             "ticks": ""
            },
            "type": "contourcarpet"
           }
          ],
          "heatmap": [
           {
            "colorbar": {
             "outlinewidth": 0,
             "ticks": ""
            },
            "colorscale": [
             [
              0,
              "#0d0887"
             ],
             [
              0.1111111111111111,
              "#46039f"
             ],
             [
              0.2222222222222222,
              "#7201a8"
             ],
             [
              0.3333333333333333,
              "#9c179e"
             ],
             [
              0.4444444444444444,
              "#bd3786"
             ],
             [
              0.5555555555555556,
              "#d8576b"
             ],
             [
              0.6666666666666666,
              "#ed7953"
             ],
             [
              0.7777777777777778,
              "#fb9f3a"
             ],
             [
              0.8888888888888888,
              "#fdca26"
             ],
             [
              1,
              "#f0f921"
             ]
            ],
            "type": "heatmap"
           }
          ],
          "heatmapgl": [
           {
            "colorbar": {
             "outlinewidth": 0,
             "ticks": ""
            },
            "colorscale": [
             [
              0,
              "#0d0887"
             ],
             [
              0.1111111111111111,
              "#46039f"
             ],
             [
              0.2222222222222222,
              "#7201a8"
             ],
             [
              0.3333333333333333,
              "#9c179e"
             ],
             [
              0.4444444444444444,
              "#bd3786"
             ],
             [
              0.5555555555555556,
              "#d8576b"
             ],
             [
              0.6666666666666666,
              "#ed7953"
             ],
             [
              0.7777777777777778,
              "#fb9f3a"
             ],
             [
              0.8888888888888888,
              "#fdca26"
             ],
             [
              1,
              "#f0f921"
             ]
            ],
            "type": "heatmapgl"
           }
          ],
          "histogram": [
           {
            "marker": {
             "colorbar": {
              "outlinewidth": 0,
              "ticks": ""
             }
            },
            "type": "histogram"
           }
          ],
          "histogram2d": [
           {
            "colorbar": {
             "outlinewidth": 0,
             "ticks": ""
            },
            "colorscale": [
             [
              0,
              "#0d0887"
             ],
             [
              0.1111111111111111,
              "#46039f"
             ],
             [
              0.2222222222222222,
              "#7201a8"
             ],
             [
              0.3333333333333333,
              "#9c179e"
             ],
             [
              0.4444444444444444,
              "#bd3786"
             ],
             [
              0.5555555555555556,
              "#d8576b"
             ],
             [
              0.6666666666666666,
              "#ed7953"
             ],
             [
              0.7777777777777778,
              "#fb9f3a"
             ],
             [
              0.8888888888888888,
              "#fdca26"
             ],
             [
              1,
              "#f0f921"
             ]
            ],
            "type": "histogram2d"
           }
          ],
          "histogram2dcontour": [
           {
            "colorbar": {
             "outlinewidth": 0,
             "ticks": ""
            },
            "colorscale": [
             [
              0,
              "#0d0887"
             ],
             [
              0.1111111111111111,
              "#46039f"
             ],
             [
              0.2222222222222222,
              "#7201a8"
             ],
             [
              0.3333333333333333,
              "#9c179e"
             ],
             [
              0.4444444444444444,
              "#bd3786"
             ],
             [
              0.5555555555555556,
              "#d8576b"
             ],
             [
              0.6666666666666666,
              "#ed7953"
             ],
             [
              0.7777777777777778,
              "#fb9f3a"
             ],
             [
              0.8888888888888888,
              "#fdca26"
             ],
             [
              1,
              "#f0f921"
             ]
            ],
            "type": "histogram2dcontour"
           }
          ],
          "mesh3d": [
           {
            "colorbar": {
             "outlinewidth": 0,
             "ticks": ""
            },
            "type": "mesh3d"
           }
          ],
          "parcoords": [
           {
            "line": {
             "colorbar": {
              "outlinewidth": 0,
              "ticks": ""
             }
            },
            "type": "parcoords"
           }
          ],
          "pie": [
           {
            "automargin": true,
            "type": "pie"
           }
          ],
          "scatter": [
           {
            "marker": {
             "colorbar": {
              "outlinewidth": 0,
              "ticks": ""
             }
            },
            "type": "scatter"
           }
          ],
          "scatter3d": [
           {
            "line": {
             "colorbar": {
              "outlinewidth": 0,
              "ticks": ""
             }
            },
            "marker": {
             "colorbar": {
              "outlinewidth": 0,
              "ticks": ""
             }
            },
            "type": "scatter3d"
           }
          ],
          "scattercarpet": [
           {
            "marker": {
             "colorbar": {
              "outlinewidth": 0,
              "ticks": ""
             }
            },
            "type": "scattercarpet"
           }
          ],
          "scattergeo": [
           {
            "marker": {
             "colorbar": {
              "outlinewidth": 0,
              "ticks": ""
             }
            },
            "type": "scattergeo"
           }
          ],
          "scattergl": [
           {
            "marker": {
             "colorbar": {
              "outlinewidth": 0,
              "ticks": ""
             }
            },
            "type": "scattergl"
           }
          ],
          "scattermapbox": [
           {
            "marker": {
             "colorbar": {
              "outlinewidth": 0,
              "ticks": ""
             }
            },
            "type": "scattermapbox"
           }
          ],
          "scatterpolar": [
           {
            "marker": {
             "colorbar": {
              "outlinewidth": 0,
              "ticks": ""
             }
            },
            "type": "scatterpolar"
           }
          ],
          "scatterpolargl": [
           {
            "marker": {
             "colorbar": {
              "outlinewidth": 0,
              "ticks": ""
             }
            },
            "type": "scatterpolargl"
           }
          ],
          "scatterternary": [
           {
            "marker": {
             "colorbar": {
              "outlinewidth": 0,
              "ticks": ""
             }
            },
            "type": "scatterternary"
           }
          ],
          "surface": [
           {
            "colorbar": {
             "outlinewidth": 0,
             "ticks": ""
            },
            "colorscale": [
             [
              0,
              "#0d0887"
             ],
             [
              0.1111111111111111,
              "#46039f"
             ],
             [
              0.2222222222222222,
              "#7201a8"
             ],
             [
              0.3333333333333333,
              "#9c179e"
             ],
             [
              0.4444444444444444,
              "#bd3786"
             ],
             [
              0.5555555555555556,
              "#d8576b"
             ],
             [
              0.6666666666666666,
              "#ed7953"
             ],
             [
              0.7777777777777778,
              "#fb9f3a"
             ],
             [
              0.8888888888888888,
              "#fdca26"
             ],
             [
              1,
              "#f0f921"
             ]
            ],
            "type": "surface"
           }
          ],
          "table": [
           {
            "cells": {
             "fill": {
              "color": "#EBF0F8"
             },
             "line": {
              "color": "white"
             }
            },
            "header": {
             "fill": {
              "color": "#C8D4E3"
             },
             "line": {
              "color": "white"
             }
            },
            "type": "table"
           }
          ]
         },
         "layout": {
          "annotationdefaults": {
           "arrowcolor": "#2a3f5f",
           "arrowhead": 0,
           "arrowwidth": 1
          },
          "coloraxis": {
           "colorbar": {
            "outlinewidth": 0,
            "ticks": ""
           }
          },
          "colorscale": {
           "diverging": [
            [
             0,
             "#8e0152"
            ],
            [
             0.1,
             "#c51b7d"
            ],
            [
             0.2,
             "#de77ae"
            ],
            [
             0.3,
             "#f1b6da"
            ],
            [
             0.4,
             "#fde0ef"
            ],
            [
             0.5,
             "#f7f7f7"
            ],
            [
             0.6,
             "#e6f5d0"
            ],
            [
             0.7,
             "#b8e186"
            ],
            [
             0.8,
             "#7fbc41"
            ],
            [
             0.9,
             "#4d9221"
            ],
            [
             1,
             "#276419"
            ]
           ],
           "sequential": [
            [
             0,
             "#0d0887"
            ],
            [
             0.1111111111111111,
             "#46039f"
            ],
            [
             0.2222222222222222,
             "#7201a8"
            ],
            [
             0.3333333333333333,
             "#9c179e"
            ],
            [
             0.4444444444444444,
             "#bd3786"
            ],
            [
             0.5555555555555556,
             "#d8576b"
            ],
            [
             0.6666666666666666,
             "#ed7953"
            ],
            [
             0.7777777777777778,
             "#fb9f3a"
            ],
            [
             0.8888888888888888,
             "#fdca26"
            ],
            [
             1,
             "#f0f921"
            ]
           ],
           "sequentialminus": [
            [
             0,
             "#0d0887"
            ],
            [
             0.1111111111111111,
             "#46039f"
            ],
            [
             0.2222222222222222,
             "#7201a8"
            ],
            [
             0.3333333333333333,
             "#9c179e"
            ],
            [
             0.4444444444444444,
             "#bd3786"
            ],
            [
             0.5555555555555556,
             "#d8576b"
            ],
            [
             0.6666666666666666,
             "#ed7953"
            ],
            [
             0.7777777777777778,
             "#fb9f3a"
            ],
            [
             0.8888888888888888,
             "#fdca26"
            ],
            [
             1,
             "#f0f921"
            ]
           ]
          },
          "colorway": [
           "#636efa",
           "#EF553B",
           "#00cc96",
           "#ab63fa",
           "#FFA15A",
           "#19d3f3",
           "#FF6692",
           "#B6E880",
           "#FF97FF",
           "#FECB52"
          ],
          "font": {
           "color": "#2a3f5f"
          },
          "geo": {
           "bgcolor": "white",
           "lakecolor": "white",
           "landcolor": "#E5ECF6",
           "showlakes": true,
           "showland": true,
           "subunitcolor": "white"
          },
          "hoverlabel": {
           "align": "left"
          },
          "hovermode": "closest",
          "mapbox": {
           "style": "light"
          },
          "paper_bgcolor": "white",
          "plot_bgcolor": "#E5ECF6",
          "polar": {
           "angularaxis": {
            "gridcolor": "white",
            "linecolor": "white",
            "ticks": ""
           },
           "bgcolor": "#E5ECF6",
           "radialaxis": {
            "gridcolor": "white",
            "linecolor": "white",
            "ticks": ""
           }
          },
          "scene": {
           "xaxis": {
            "backgroundcolor": "#E5ECF6",
            "gridcolor": "white",
            "gridwidth": 2,
            "linecolor": "white",
            "showbackground": true,
            "ticks": "",
            "zerolinecolor": "white"
           },
           "yaxis": {
            "backgroundcolor": "#E5ECF6",
            "gridcolor": "white",
            "gridwidth": 2,
            "linecolor": "white",
            "showbackground": true,
            "ticks": "",
            "zerolinecolor": "white"
           },
           "zaxis": {
            "backgroundcolor": "#E5ECF6",
            "gridcolor": "white",
            "gridwidth": 2,
            "linecolor": "white",
            "showbackground": true,
            "ticks": "",
            "zerolinecolor": "white"
           }
          },
          "shapedefaults": {
           "line": {
            "color": "#2a3f5f"
           }
          },
          "ternary": {
           "aaxis": {
            "gridcolor": "white",
            "linecolor": "white",
            "ticks": ""
           },
           "baxis": {
            "gridcolor": "white",
            "linecolor": "white",
            "ticks": ""
           },
           "bgcolor": "#E5ECF6",
           "caxis": {
            "gridcolor": "white",
            "linecolor": "white",
            "ticks": ""
           }
          },
          "title": {
           "x": 0.05
          },
          "xaxis": {
           "automargin": true,
           "gridcolor": "white",
           "linecolor": "white",
           "ticks": "",
           "title": {
            "standoff": 15
           },
           "zerolinecolor": "white",
           "zerolinewidth": 2
          },
          "yaxis": {
           "automargin": true,
           "gridcolor": "white",
           "linecolor": "white",
           "ticks": "",
           "title": {
            "standoff": 15
           },
           "zerolinecolor": "white",
           "zerolinewidth": 2
          }
         }
        },
        "title": {
         "text": "MAE"
        }
       }
      }
     },
     "metadata": {}
    }
   ],
   "source": [
    "outputs = np.sum(RBFNet.f_of_x, axis=0)\n",
    "# outputs = np.mean(RBFNet.f_of_x, axis=0)\n",
    "# outputs = RBFNet.f_of_x[1]\n",
    "# outputs = RBFNet.f_of_x[1] - RBFNet.f_of_x[0]\n",
    "# outputs = np.maximum(RBFNet.f_of_x[0], RBFNet.f_of_x[1])\n",
    "mae = np.mean(np.abs(ty-outputs), axis=1)\n",
    "maefig = ex.scatter_3d(x=tx[:,0], y=tx[:,1], z=mae, title=\"MAE\")\n",
    "\n",
    "fig1 = ex.scatter_3d(x=tx[:,0], y=tx[:,1], z=ty[:,0], title=\"Feature 1\")\n",
    "fig2 = ex.scatter_3d(x=tx[:,0], y=tx[:,1], z=ty[:,1], title=\"Feature 2\")\n",
    "\n",
    "fig1.add_trace(go.Scatter3d(x=tx[:,0], y=tx[:,1], z=outputs[:,0], mode=\"markers\",name=\"p1\"))\n",
    "fig2.add_trace(go.Scatter3d(x=tx[:,0], y=tx[:,1], z=outputs[:,1], mode=\"markers\",name=\"p2\"))\n",
    "\n",
    "\n",
    "fig1.show()\n",
    "fig2.show()\n",
    "maefig.show()"
   ]
  },
  {
   "cell_type": "code",
   "execution_count": 210,
   "metadata": {
    "tags": []
   },
   "outputs": [
    {
     "output_type": "stream",
     "name": "stdout",
     "text": "0.39517055930055295\n0.10225136196534343\n"
    }
   ],
   "source": [
    "print(np.max(mae))\n",
    "print(np.mean(mae))"
   ]
  },
  {
   "cell_type": "code",
   "execution_count": null,
   "metadata": {},
   "outputs": [],
   "source": []
  },
  {
   "cell_type": "code",
   "execution_count": null,
   "metadata": {},
   "outputs": [],
   "source": []
  }
 ]
}