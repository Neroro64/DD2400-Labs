{
 "metadata": {
  "language_info": {
   "codemirror_mode": {
    "name": "ipython",
    "version": 3
   },
   "file_extension": ".py",
   "mimetype": "text/x-python",
   "name": "python",
   "nbconvert_exporter": "python",
   "pygments_lexer": "ipython3",
   "version": "3.8.3-final"
  },
  "orig_nbformat": 2,
  "kernelspec": {
   "name": "python_defaultSpec_1600603101335",
   "display_name": "Python 3.8.3 64-bit ('anaconda3': virtualenv)"
  }
 },
 "nbformat": 4,
 "nbformat_minor": 2,
 "cells": [
  {
   "cell_type": "code",
   "execution_count": 169,
   "metadata": {},
   "outputs": [],
   "source": [
    "import numpy as np\n",
    "import plotly.express as ex\n",
    "import plotly.graph_objects as go\n",
    "from plotly.subplots import make_subplots\n",
    "\n",
    "\n",
    "SEED = 2020"
   ]
  },
  {
   "cell_type": "code",
   "execution_count": 276,
   "metadata": {},
   "outputs": [],
   "source": [
    "class RBF_Network:\n",
    "    def __init__(self, n, inputs, variance=1, add_noise=False, useDelta=False, eta=0.1, useSqr=False):\n",
    "        \"\"\"\n",
    "        weights : (n, 1)\n",
    "        mean : (n, 1)\n",
    "        variance : (n, 1)\n",
    "        \"\"\"\n",
    "        \n",
    "        np.random.seed(SEED)\n",
    "\n",
    "        self.n = n\n",
    "        self.add_noise = add_noise\n",
    "        self.useDelta = useDelta\n",
    "        self.eta = eta\n",
    "        self.useSqr=useSqr\n",
    "\n",
    "        # set position and width for each node\n",
    "        self.mean = self.mu_random_choice(inputs)\n",
    "        self.std = np.ones((n,variance))\n",
    "\n",
    "        self.W = np.random.randn(self.n, 1)\n",
    "        \n",
    "        self.phi_of_x = np.reshape(np.array(self.mean), (1,-1))\n",
    "        self.total_error = []\n",
    "        self.residual_error = []\n",
    "        self.f_of_x = []\n",
    "\n",
    "    def mu_random_choice(self, inputs):\n",
    "        \"\"\"\n",
    "        x = Input patterns\n",
    "        n = number of nodes\n",
    "        \"\"\"\n",
    "        return np.random.choice(x.ravel(), (self.n,1))\n",
    "\n",
    "    def train_network(self, epochs, train_data, train_label, test_data=[], test_label=[]):\n",
    "        \"\"\"\n",
    "        train_data, test_data : (N,1)\n",
    "        train_label test_label : (N,1)\n",
    "        \"\"\"\n",
    "        for e in range(0, epochs):\n",
    "            if (self.add_noise):\n",
    "                train_targets = self.add_noise_to_targets(train_label)\n",
    "                test_targets = self.add_noise_to_targets(test_label)\n",
    "            else:\n",
    "                train_targets = train_label\n",
    "                test_targets = test_label\n",
    "                 \n",
    "            if (self.useDelta):\n",
    "                self.delta_learning(train_data, train_targets, test_data, test_targets)\n",
    "            else:\n",
    "                self.lsqr(train_data, train_targets)\n",
    "            \n",
    "\n",
    "    def add_noise_to_targets(self, x, std=0.1):\n",
    "        t = np.copy(x)\n",
    "        noise = np.random.normal(0,std,(x.shape[0],1))\n",
    "        return t + noise\n",
    "    \n",
    "    def forward(self, x):\n",
    "        self.phi_of_x = np.array([self.activation_fxn(x, i) for i in range(self.n)]).T\n",
    "        self.f_of_x= self.phi_of_x @ self.W\n",
    "\n",
    "    def activation_fxn(self, x, i):\n",
    "        _x = x.ravel()\n",
    "        _mu = self.mean[i].ravel()\n",
    "        _std = self.std[i].ravel()\n",
    "        return np.exp((-(_x-_mu)**2) / 2*(_std**2))\n",
    "\n",
    "    def calc_total_error(self, label):\n",
    "        \"\"\"\n",
    "        MSE\n",
    "        \"\"\"\n",
    "        self.total_error.append(np.mean((self.f_of_x-label)**2))\n",
    "\n",
    "    def update_weights(self, label):\n",
    "        self.W, _,_,_ = np.linalg.lstsq(self.phi_of_x, label.ravel())\n",
    "        self.W.reshape((-1,1))\n",
    "\n",
    "    def lsqr(self, x, y):\n",
    "        self.forward(x)\n",
    "        self.update_weights(y)\n",
    "\n",
    "    def delta_learning(self, x, y, tx, ty):\n",
    "        errors = np.zeros(len(x))\n",
    "        for i in range(len(x)):\n",
    "            self.forward(x[i])\n",
    "            error = y[i] - self.f_of_x\n",
    "            self.W += (self.eta * error)[0] * self.phi_of_x.T\n",
    "\n",
    "            if (len(tx) > 0):\n",
    "                errors[i] = self.validate(tx[i], ty[i])\n",
    "        \n",
    "        self.residual_error.append(np.mean(errors))\n",
    "         \n",
    "    def validate(self, test_data, test_label, _plot=False):\n",
    "        self.forward(test_data)\n",
    "        if (self.useSqr):\n",
    "            output = np.sign(self.f_of_x)\n",
    "        else:\n",
    "            output = self.f_of_x\n",
    "        \n",
    "        if _plot == True:\n",
    "            fig = make_subplots(rows=1, cols=2, subplot_titles=(\"Validation with n={}\".format(self.n), \"Residual error\"))\n",
    "            fig.add_trace(go.Scatter(x=np.arange(len(self.residual_error)), y=self.residual_error, mode=\"lines\", name=\"Residual error\"), row=1, col=2)\n",
    "            fig.add_trace(go.Scatter(x=test_data.ravel(), y=test_label.ravel(), mode=\"lines\", name=\"Original\"), row=1, col=1)\n",
    "            fig.add_trace(go.Scatter(x=test_data.ravel(), y=output.ravel(), mode=\"lines\", name=\"Approximated\"), row=1, col=1)\n",
    "\n",
    "            fig.show()\n",
    "\n",
    "        return np.mean(np.abs(output-test_label.ravel())) \n",
    "        \n",
    "    def init_cl(self, inputs, epochs, eta, useBias=False, bias_w=1e-2):\n",
    "        \"\"\"\n",
    "        Run CL-algorithm for positioning the nodes\n",
    "        Use bias to eliminate dead nodes\n",
    "        \"\"\"\n",
    "        b = np.ones((self.n,1)) * 1/self.n # Bias for each node\n",
    "        wins = np.zeros((self.n,1)) # Counting the number of wins for each ndoe\n",
    "        x = np.copy(inputs)\n",
    "\n",
    "        for i in range(epochs):\n",
    "            np.random.shuffle(x)\n",
    "            for x_i in x:\n",
    "                error = x_i - self.mean\n",
    "                dist = error**2\n",
    "\n",
    "                if (useBias):\n",
    "                    dist -= bias_w * b\n",
    "\n",
    "                winner = np.argmin(dist)\n",
    "                self.mean[winner,:] += eta*error[winner,:]\n",
    "                wins[winner]+=1       \n",
    "\n",
    "                if (useBias):\n",
    "                    b = 1/self.n - wins/(winner+1)   \n",
    "             \n",
    "\n",
    "        return wins\n",
    "                \n",
    "\n",
    "\n",
    "\n",
    "\n",
    "\n"
   ]
  },
  {
   "cell_type": "code",
   "execution_count": 171,
   "metadata": {},
   "outputs": [],
   "source": [
    "def data_gen(start, end, step=0.1):\n",
    "    x = np.arange(start, end, step).reshape((-1,1))\n",
    "    sin_data = np.sin(2*x).reshape((-1,1))\n",
    "    sqr_data = np.sign(sin_data)\n",
    "    return x, sin_data, sqr_data\n",
    "\n",
    "def plot_fx_n_errror(patterns, targets, approximation, res_error, titles):\n",
    "    fig = make_subplots(rows=1, cols=2, subplot_titles=(titles[0], titles[1]))\n",
    "    fig.add_trace(go.Scatter(x=np.arange(len(res_error)), y=res_error, mode=\"lines\", name=\"Residual error\"), row=1, col=2)\n",
    "    fig.add_trace(go.Scatter(x=x.ravel(), y=y.ravel(), mode=\"lines\", name=\"Original\"), row=1, col=1)\n",
    "    fig.add_trace(go.Scatter(x=x.ravel(), y=approximation.ravel(), mode=\"lines\", name=\"Approximated\"), row=1, col=1)\n",
    "\n",
    "    fig.show()\n"
   ]
  },
  {
   "cell_type": "code",
   "execution_count": 172,
   "metadata": {
    "tags": []
   },
   "outputs": [
    {
     "output_type": "display_data",
     "data": {
      "application/vnd.plotly.v1+json": {
       "config": {
        "plotlyServerURL": "https://plot.ly"
       },
       "data": [
        {
         "mode": "lines",
         "name": "sin(x)",
         "type": "scatter",
         "x": [
          0,
          0.1,
          0.2,
          0.30000000000000004,
          0.4,
          0.5,
          0.6000000000000001,
          0.7000000000000001,
          0.8,
          0.9,
          1,
          1.1,
          1.2000000000000002,
          1.3,
          1.4000000000000001,
          1.5,
          1.6,
          1.7000000000000002,
          1.8,
          1.9000000000000001,
          2,
          2.1,
          2.2,
          2.3000000000000003,
          2.4000000000000004,
          2.5,
          2.6,
          2.7,
          2.8000000000000003,
          2.9000000000000004,
          3,
          3.1,
          3.2,
          3.3000000000000003,
          3.4000000000000004,
          3.5,
          3.6,
          3.7,
          3.8000000000000003,
          3.9000000000000004,
          4,
          4.1000000000000005,
          4.2,
          4.3,
          4.4,
          4.5,
          4.6000000000000005,
          4.7,
          4.800000000000001,
          4.9,
          5,
          5.1000000000000005,
          5.2,
          5.300000000000001,
          5.4,
          5.5,
          5.6000000000000005,
          5.7,
          5.800000000000001,
          5.9,
          6,
          6.1000000000000005,
          6.2
         ],
         "y": [
          0,
          0.19866933079506122,
          0.3894183423086505,
          0.5646424733950355,
          0.7173560908995228,
          0.8414709848078965,
          0.9320390859672264,
          0.9854497299884603,
          0.9995736030415051,
          0.9738476308781951,
          0.9092974268256817,
          0.8084964038195901,
          0.6754631805511506,
          0.5155013718214642,
          0.33498815015590466,
          0.1411200080598672,
          -0.058374143427580086,
          -0.25554110202683167,
          -0.44252044329485246,
          -0.6118578909427193,
          -0.7568024953079282,
          -0.8715757724135882,
          -0.951602073889516,
          -0.9936910036334645,
          -0.9961646088358406,
          -0.9589242746631385,
          -0.8834546557201531,
          -0.7727644875559871,
          -0.6312666378723208,
          -0.4646021794137566,
          -0.27941549819892586,
          -0.0830894028174964,
          0.11654920485049364,
          0.3115413635133787,
          0.49411335113860894,
          0.6569865987187891,
          0.7936678638491531,
          0.8987080958116269,
          0.9679196720314865,
          0.998543345374605,
          0.9893582466233818,
          0.9407305566797726,
          0.8545989080882804,
          0.7343970978741133,
          0.5849171928917617,
          0.4121184852417566,
          0.22288991410024592,
          0.024775425453357765,
          -0.1743267812229814,
          -0.3664791292519284,
          -0.5440211108893698,
          -0.6998746875935437,
          -0.8278264690856537,
          -0.9227754216128073,
          -0.9809362300664916,
          -0.9999902065507035,
          -0.979177729151317,
          -0.9193285256646757,
          -0.8228285949687079,
          -0.6935250847771224,
          -0.5365729180004349,
          -0.35822928223682704,
          -0.1656041754483094
         ]
        },
        {
         "mode": "lines",
         "name": "sqr(x)",
         "type": "scatter",
         "x": [
          0,
          0.1,
          0.2,
          0.30000000000000004,
          0.4,
          0.5,
          0.6000000000000001,
          0.7000000000000001,
          0.8,
          0.9,
          1,
          1.1,
          1.2000000000000002,
          1.3,
          1.4000000000000001,
          1.5,
          1.6,
          1.7000000000000002,
          1.8,
          1.9000000000000001,
          2,
          2.1,
          2.2,
          2.3000000000000003,
          2.4000000000000004,
          2.5,
          2.6,
          2.7,
          2.8000000000000003,
          2.9000000000000004,
          3,
          3.1,
          3.2,
          3.3000000000000003,
          3.4000000000000004,
          3.5,
          3.6,
          3.7,
          3.8000000000000003,
          3.9000000000000004,
          4,
          4.1000000000000005,
          4.2,
          4.3,
          4.4,
          4.5,
          4.6000000000000005,
          4.7,
          4.800000000000001,
          4.9,
          5,
          5.1000000000000005,
          5.2,
          5.300000000000001,
          5.4,
          5.5,
          5.6000000000000005,
          5.7,
          5.800000000000001,
          5.9,
          6,
          6.1000000000000005,
          6.2
         ],
         "y": [
          0,
          1,
          1,
          1,
          1,
          1,
          1,
          1,
          1,
          1,
          1,
          1,
          1,
          1,
          1,
          1,
          -1,
          -1,
          -1,
          -1,
          -1,
          -1,
          -1,
          -1,
          -1,
          -1,
          -1,
          -1,
          -1,
          -1,
          -1,
          -1,
          1,
          1,
          1,
          1,
          1,
          1,
          1,
          1,
          1,
          1,
          1,
          1,
          1,
          1,
          1,
          1,
          -1,
          -1,
          -1,
          -1,
          -1,
          -1,
          -1,
          -1,
          -1,
          -1,
          -1,
          -1,
          -1,
          -1,
          -1
         ]
        }
       ],
       "layout": {
        "template": {
         "data": {
          "bar": [
           {
            "error_x": {
             "color": "#2a3f5f"
            },
            "error_y": {
             "color": "#2a3f5f"
            },
            "marker": {
             "line": {
              "color": "#E5ECF6",
              "width": 0.5
             }
            },
            "type": "bar"
           }
          ],
          "barpolar": [
           {
            "marker": {
             "line": {
              "color": "#E5ECF6",
              "width": 0.5
             }
            },
            "type": "barpolar"
           }
          ],
          "carpet": [
           {
            "aaxis": {
             "endlinecolor": "#2a3f5f",
             "gridcolor": "white",
             "linecolor": "white",
             "minorgridcolor": "white",
             "startlinecolor": "#2a3f5f"
            },
            "baxis": {
             "endlinecolor": "#2a3f5f",
             "gridcolor": "white",
             "linecolor": "white",
             "minorgridcolor": "white",
             "startlinecolor": "#2a3f5f"
            },
            "type": "carpet"
           }
          ],
          "choropleth": [
           {
            "colorbar": {
             "outlinewidth": 0,
             "ticks": ""
            },
            "type": "choropleth"
           }
          ],
          "contour": [
           {
            "colorbar": {
             "outlinewidth": 0,
             "ticks": ""
            },
            "colorscale": [
             [
              0,
              "#0d0887"
             ],
             [
              0.1111111111111111,
              "#46039f"
             ],
             [
              0.2222222222222222,
              "#7201a8"
             ],
             [
              0.3333333333333333,
              "#9c179e"
             ],
             [
              0.4444444444444444,
              "#bd3786"
             ],
             [
              0.5555555555555556,
              "#d8576b"
             ],
             [
              0.6666666666666666,
              "#ed7953"
             ],
             [
              0.7777777777777778,
              "#fb9f3a"
             ],
             [
              0.8888888888888888,
              "#fdca26"
             ],
             [
              1,
              "#f0f921"
             ]
            ],
            "type": "contour"
           }
          ],
          "contourcarpet": [
           {
            "colorbar": {
             "outlinewidth": 0,
             "ticks": ""
            },
            "type": "contourcarpet"
           }
          ],
          "heatmap": [
           {
            "colorbar": {
             "outlinewidth": 0,
             "ticks": ""
            },
            "colorscale": [
             [
              0,
              "#0d0887"
             ],
             [
              0.1111111111111111,
              "#46039f"
             ],
             [
              0.2222222222222222,
              "#7201a8"
             ],
             [
              0.3333333333333333,
              "#9c179e"
             ],
             [
              0.4444444444444444,
              "#bd3786"
             ],
             [
              0.5555555555555556,
              "#d8576b"
             ],
             [
              0.6666666666666666,
              "#ed7953"
             ],
             [
              0.7777777777777778,
              "#fb9f3a"
             ],
             [
              0.8888888888888888,
              "#fdca26"
             ],
             [
              1,
              "#f0f921"
             ]
            ],
            "type": "heatmap"
           }
          ],
          "heatmapgl": [
           {
            "colorbar": {
             "outlinewidth": 0,
             "ticks": ""
            },
            "colorscale": [
             [
              0,
              "#0d0887"
             ],
             [
              0.1111111111111111,
              "#46039f"
             ],
             [
              0.2222222222222222,
              "#7201a8"
             ],
             [
              0.3333333333333333,
              "#9c179e"
             ],
             [
              0.4444444444444444,
              "#bd3786"
             ],
             [
              0.5555555555555556,
              "#d8576b"
             ],
             [
              0.6666666666666666,
              "#ed7953"
             ],
             [
              0.7777777777777778,
              "#fb9f3a"
             ],
             [
              0.8888888888888888,
              "#fdca26"
             ],
             [
              1,
              "#f0f921"
             ]
            ],
            "type": "heatmapgl"
           }
          ],
          "histogram": [
           {
            "marker": {
             "colorbar": {
              "outlinewidth": 0,
              "ticks": ""
             }
            },
            "type": "histogram"
           }
          ],
          "histogram2d": [
           {
            "colorbar": {
             "outlinewidth": 0,
             "ticks": ""
            },
            "colorscale": [
             [
              0,
              "#0d0887"
             ],
             [
              0.1111111111111111,
              "#46039f"
             ],
             [
              0.2222222222222222,
              "#7201a8"
             ],
             [
              0.3333333333333333,
              "#9c179e"
             ],
             [
              0.4444444444444444,
              "#bd3786"
             ],
             [
              0.5555555555555556,
              "#d8576b"
             ],
             [
              0.6666666666666666,
              "#ed7953"
             ],
             [
              0.7777777777777778,
              "#fb9f3a"
             ],
             [
              0.8888888888888888,
              "#fdca26"
             ],
             [
              1,
              "#f0f921"
             ]
            ],
            "type": "histogram2d"
           }
          ],
          "histogram2dcontour": [
           {
            "colorbar": {
             "outlinewidth": 0,
             "ticks": ""
            },
            "colorscale": [
             [
              0,
              "#0d0887"
             ],
             [
              0.1111111111111111,
              "#46039f"
             ],
             [
              0.2222222222222222,
              "#7201a8"
             ],
             [
              0.3333333333333333,
              "#9c179e"
             ],
             [
              0.4444444444444444,
              "#bd3786"
             ],
             [
              0.5555555555555556,
              "#d8576b"
             ],
             [
              0.6666666666666666,
              "#ed7953"
             ],
             [
              0.7777777777777778,
              "#fb9f3a"
             ],
             [
              0.8888888888888888,
              "#fdca26"
             ],
             [
              1,
              "#f0f921"
             ]
            ],
            "type": "histogram2dcontour"
           }
          ],
          "mesh3d": [
           {
            "colorbar": {
             "outlinewidth": 0,
             "ticks": ""
            },
            "type": "mesh3d"
           }
          ],
          "parcoords": [
           {
            "line": {
             "colorbar": {
              "outlinewidth": 0,
              "ticks": ""
             }
            },
            "type": "parcoords"
           }
          ],
          "pie": [
           {
            "automargin": true,
            "type": "pie"
           }
          ],
          "scatter": [
           {
            "marker": {
             "colorbar": {
              "outlinewidth": 0,
              "ticks": ""
             }
            },
            "type": "scatter"
           }
          ],
          "scatter3d": [
           {
            "line": {
             "colorbar": {
              "outlinewidth": 0,
              "ticks": ""
             }
            },
            "marker": {
             "colorbar": {
              "outlinewidth": 0,
              "ticks": ""
             }
            },
            "type": "scatter3d"
           }
          ],
          "scattercarpet": [
           {
            "marker": {
             "colorbar": {
              "outlinewidth": 0,
              "ticks": ""
             }
            },
            "type": "scattercarpet"
           }
          ],
          "scattergeo": [
           {
            "marker": {
             "colorbar": {
              "outlinewidth": 0,
              "ticks": ""
             }
            },
            "type": "scattergeo"
           }
          ],
          "scattergl": [
           {
            "marker": {
             "colorbar": {
              "outlinewidth": 0,
              "ticks": ""
             }
            },
            "type": "scattergl"
           }
          ],
          "scattermapbox": [
           {
            "marker": {
             "colorbar": {
              "outlinewidth": 0,
              "ticks": ""
             }
            },
            "type": "scattermapbox"
           }
          ],
          "scatterpolar": [
           {
            "marker": {
             "colorbar": {
              "outlinewidth": 0,
              "ticks": ""
             }
            },
            "type": "scatterpolar"
           }
          ],
          "scatterpolargl": [
           {
            "marker": {
             "colorbar": {
              "outlinewidth": 0,
              "ticks": ""
             }
            },
            "type": "scatterpolargl"
           }
          ],
          "scatterternary": [
           {
            "marker": {
             "colorbar": {
              "outlinewidth": 0,
              "ticks": ""
             }
            },
            "type": "scatterternary"
           }
          ],
          "surface": [
           {
            "colorbar": {
             "outlinewidth": 0,
             "ticks": ""
            },
            "colorscale": [
             [
              0,
              "#0d0887"
             ],
             [
              0.1111111111111111,
              "#46039f"
             ],
             [
              0.2222222222222222,
              "#7201a8"
             ],
             [
              0.3333333333333333,
              "#9c179e"
             ],
             [
              0.4444444444444444,
              "#bd3786"
             ],
             [
              0.5555555555555556,
              "#d8576b"
             ],
             [
              0.6666666666666666,
              "#ed7953"
             ],
             [
              0.7777777777777778,
              "#fb9f3a"
             ],
             [
              0.8888888888888888,
              "#fdca26"
             ],
             [
              1,
              "#f0f921"
             ]
            ],
            "type": "surface"
           }
          ],
          "table": [
           {
            "cells": {
             "fill": {
              "color": "#EBF0F8"
             },
             "line": {
              "color": "white"
             }
            },
            "header": {
             "fill": {
              "color": "#C8D4E3"
             },
             "line": {
              "color": "white"
             }
            },
            "type": "table"
           }
          ]
         },
         "layout": {
          "annotationdefaults": {
           "arrowcolor": "#2a3f5f",
           "arrowhead": 0,
           "arrowwidth": 1
          },
          "coloraxis": {
           "colorbar": {
            "outlinewidth": 0,
            "ticks": ""
           }
          },
          "colorscale": {
           "diverging": [
            [
             0,
             "#8e0152"
            ],
            [
             0.1,
             "#c51b7d"
            ],
            [
             0.2,
             "#de77ae"
            ],
            [
             0.3,
             "#f1b6da"
            ],
            [
             0.4,
             "#fde0ef"
            ],
            [
             0.5,
             "#f7f7f7"
            ],
            [
             0.6,
             "#e6f5d0"
            ],
            [
             0.7,
             "#b8e186"
            ],
            [
             0.8,
             "#7fbc41"
            ],
            [
             0.9,
             "#4d9221"
            ],
            [
             1,
             "#276419"
            ]
           ],
           "sequential": [
            [
             0,
             "#0d0887"
            ],
            [
             0.1111111111111111,
             "#46039f"
            ],
            [
             0.2222222222222222,
             "#7201a8"
            ],
            [
             0.3333333333333333,
             "#9c179e"
            ],
            [
             0.4444444444444444,
             "#bd3786"
            ],
            [
             0.5555555555555556,
             "#d8576b"
            ],
            [
             0.6666666666666666,
             "#ed7953"
            ],
            [
             0.7777777777777778,
             "#fb9f3a"
            ],
            [
             0.8888888888888888,
             "#fdca26"
            ],
            [
             1,
             "#f0f921"
            ]
           ],
           "sequentialminus": [
            [
             0,
             "#0d0887"
            ],
            [
             0.1111111111111111,
             "#46039f"
            ],
            [
             0.2222222222222222,
             "#7201a8"
            ],
            [
             0.3333333333333333,
             "#9c179e"
            ],
            [
             0.4444444444444444,
             "#bd3786"
            ],
            [
             0.5555555555555556,
             "#d8576b"
            ],
            [
             0.6666666666666666,
             "#ed7953"
            ],
            [
             0.7777777777777778,
             "#fb9f3a"
            ],
            [
             0.8888888888888888,
             "#fdca26"
            ],
            [
             1,
             "#f0f921"
            ]
           ]
          },
          "colorway": [
           "#636efa",
           "#EF553B",
           "#00cc96",
           "#ab63fa",
           "#FFA15A",
           "#19d3f3",
           "#FF6692",
           "#B6E880",
           "#FF97FF",
           "#FECB52"
          ],
          "font": {
           "color": "#2a3f5f"
          },
          "geo": {
           "bgcolor": "white",
           "lakecolor": "white",
           "landcolor": "#E5ECF6",
           "showlakes": true,
           "showland": true,
           "subunitcolor": "white"
          },
          "hoverlabel": {
           "align": "left"
          },
          "hovermode": "closest",
          "mapbox": {
           "style": "light"
          },
          "paper_bgcolor": "white",
          "plot_bgcolor": "#E5ECF6",
          "polar": {
           "angularaxis": {
            "gridcolor": "white",
            "linecolor": "white",
            "ticks": ""
           },
           "bgcolor": "#E5ECF6",
           "radialaxis": {
            "gridcolor": "white",
            "linecolor": "white",
            "ticks": ""
           }
          },
          "scene": {
           "xaxis": {
            "backgroundcolor": "#E5ECF6",
            "gridcolor": "white",
            "gridwidth": 2,
            "linecolor": "white",
            "showbackground": true,
            "ticks": "",
            "zerolinecolor": "white"
           },
           "yaxis": {
            "backgroundcolor": "#E5ECF6",
            "gridcolor": "white",
            "gridwidth": 2,
            "linecolor": "white",
            "showbackground": true,
            "ticks": "",
            "zerolinecolor": "white"
           },
           "zaxis": {
            "backgroundcolor": "#E5ECF6",
            "gridcolor": "white",
            "gridwidth": 2,
            "linecolor": "white",
            "showbackground": true,
            "ticks": "",
            "zerolinecolor": "white"
           }
          },
          "shapedefaults": {
           "line": {
            "color": "#2a3f5f"
           }
          },
          "ternary": {
           "aaxis": {
            "gridcolor": "white",
            "linecolor": "white",
            "ticks": ""
           },
           "baxis": {
            "gridcolor": "white",
            "linecolor": "white",
            "ticks": ""
           },
           "bgcolor": "#E5ECF6",
           "caxis": {
            "gridcolor": "white",
            "linecolor": "white",
            "ticks": ""
           }
          },
          "title": {
           "x": 0.05
          },
          "xaxis": {
           "automargin": true,
           "gridcolor": "white",
           "linecolor": "white",
           "ticks": "",
           "title": {
            "standoff": 15
           },
           "zerolinecolor": "white",
           "zerolinewidth": 2
          },
          "yaxis": {
           "automargin": true,
           "gridcolor": "white",
           "linecolor": "white",
           "ticks": "",
           "title": {
            "standoff": 15
           },
           "zerolinecolor": "white",
           "zerolinewidth": 2
          }
         }
        },
        "title": {
         "text": "Functions to approximate"
        }
       }
      }
     },
     "metadata": {}
    }
   ],
   "source": [
    "x, sin_data, sqr_data = data_gen(0, 2*np.pi)\n",
    "\n",
    "fig = go.Figure().add_trace(go.Scatter(x=x.ravel(), y=sin_data.ravel(), mode=\"lines\", name=\"sin(x)\"))\n",
    "fig.add_trace(go.Scatter(x=x.ravel(), y=sqr_data.ravel(), mode=\"lines\", name=\"sqr(x)\"))\n",
    "fig.update_layout(title=\"Functions to approximate\")\n",
    "fig.show()"
   ]
  },
  {
   "source": [
    "## Quick test of the model\n",
    "\n",
    "Sin(x)"
   ],
   "cell_type": "markdown",
   "metadata": {}
  },
  {
   "cell_type": "code",
   "execution_count": 192,
   "metadata": {
    "tags": []
   },
   "outputs": [
    {
     "output_type": "display_data",
     "data": {
      "application/vnd.plotly.v1+json": {
       "config": {
        "plotlyServerURL": "https://plot.ly"
       },
       "data": [
        {
         "mode": "lines",
         "name": "Residual error",
         "type": "scatter",
         "x": [
          0,
          1,
          2,
          3,
          4,
          5,
          6,
          7,
          8,
          9
         ],
         "xaxis": "x2",
         "y": [
          0.07776011919989634,
          0.07776011919989634,
          0.07776011919989634,
          0.07776011919989634,
          0.07776011919989634,
          0.07776011919989634,
          0.07776011919989634,
          0.07776011919989634,
          0.07776011919989634,
          0.07776011919989634
         ],
         "yaxis": "y2"
        },
        {
         "mode": "lines",
         "name": "Original",
         "type": "scatter",
         "x": [
          0.05,
          0.15000000000000002,
          0.25000000000000006,
          0.35000000000000003,
          0.45000000000000007,
          0.5500000000000002,
          0.6500000000000001,
          0.7500000000000002,
          0.8500000000000002,
          0.9500000000000002,
          1.0500000000000003,
          1.1500000000000004,
          1.2500000000000002,
          1.3500000000000003,
          1.4500000000000004,
          1.5500000000000003,
          1.6500000000000004,
          1.7500000000000004,
          1.8500000000000003,
          1.9500000000000004,
          2.0500000000000003,
          2.1500000000000004,
          2.2500000000000004,
          2.35,
          2.45,
          2.5500000000000003,
          2.6500000000000004,
          2.7500000000000004,
          2.8500000000000005,
          2.95,
          3.0500000000000003,
          3.1500000000000004,
          3.2500000000000004,
          3.3500000000000005,
          3.4500000000000006,
          3.5500000000000007,
          3.6500000000000004,
          3.7500000000000004,
          3.8500000000000005,
          3.9500000000000006,
          4.050000000000001,
          4.15,
          4.250000000000001,
          4.3500000000000005,
          4.450000000000001,
          4.550000000000001,
          4.65,
          4.750000000000001,
          4.8500000000000005,
          4.950000000000001,
          5.050000000000001,
          5.150000000000001,
          5.250000000000001,
          5.3500000000000005,
          5.450000000000001,
          5.550000000000001,
          5.650000000000001,
          5.750000000000001,
          5.8500000000000005,
          5.950000000000001,
          6.050000000000001,
          6.150000000000001,
          6.250000000000001
         ],
         "xaxis": "x",
         "y": [
          0.09983341664682815,
          0.2955202066613396,
          0.4794255386042031,
          0.6442176872376911,
          0.7833269096274835,
          0.8912073600614355,
          0.9635581854171931,
          0.9974949866040544,
          0.9916648104524686,
          0.9463000876874144,
          0.8632093666488735,
          0.7457052121767197,
          0.5984721441039561,
          0.4273798802338294,
          0.23924932921398157,
          0.04158066243329005,
          -0.15774569414324907,
          -0.35078322768962067,
          -0.5298361409084937,
          -0.6877661591839744,
          -0.8182771110644108,
          -0.9161659367494552,
          -0.9775301176650972,
          -0.9999232575641008,
          -0.9824526126243325,
          -0.9258146823277321,
          -0.8322674422239008,
          -0.7055403255703913,
          -0.5506855425976369,
          -0.373876664830236,
          -0.18216250427209502,
          0.0168139004843506,
          0.2151199880878164,
          0.40484992061659913,
          0.5784397643882009,
          0.7289690401258772,
          0.8504366206285648,
          0.9379999767747391,
          0.9881682338770005,
          0.998941341839772,
          0.9698898108450859,
          0.9021718337562933,
          0.7984871126234893,
          0.662969230082182,
          0.5010208564578832,
          0.3190983623493504,
          0.1244544235070617,
          -0.07515112046181108,
          -0.2717606264109442,
          -0.45753589377532294,
          -0.6250706488928834,
          -0.7676858097635836,
          -0.8796957599716709,
          -0.9566350162701884,
          -0.9954362533063775,
          -0.9945525882039891,
          -0.9540192499020884,
          -0.8754521746884276,
          -0.7619835839190321,
          -0.6181371122370319,
          -0.44964746453459986,
          -0.2632317913657993,
          -0.06632189735119892
         ],
         "yaxis": "y"
        },
        {
         "mode": "lines",
         "name": "Approximated",
         "type": "scatter",
         "x": [
          0.05,
          0.15000000000000002,
          0.25000000000000006,
          0.35000000000000003,
          0.45000000000000007,
          0.5500000000000002,
          0.6500000000000001,
          0.7500000000000002,
          0.8500000000000002,
          0.9500000000000002,
          1.0500000000000003,
          1.1500000000000004,
          1.2500000000000002,
          1.3500000000000003,
          1.4500000000000004,
          1.5500000000000003,
          1.6500000000000004,
          1.7500000000000004,
          1.8500000000000003,
          1.9500000000000004,
          2.0500000000000003,
          2.1500000000000004,
          2.2500000000000004,
          2.35,
          2.45,
          2.5500000000000003,
          2.6500000000000004,
          2.7500000000000004,
          2.8500000000000005,
          2.95,
          3.0500000000000003,
          3.1500000000000004,
          3.2500000000000004,
          3.3500000000000005,
          3.4500000000000006,
          3.5500000000000007,
          3.6500000000000004,
          3.7500000000000004,
          3.8500000000000005,
          3.9500000000000006,
          4.050000000000001,
          4.15,
          4.250000000000001,
          4.3500000000000005,
          4.450000000000001,
          4.550000000000001,
          4.65,
          4.750000000000001,
          4.8500000000000005,
          4.950000000000001,
          5.050000000000001,
          5.150000000000001,
          5.250000000000001,
          5.3500000000000005,
          5.450000000000001,
          5.550000000000001,
          5.650000000000001,
          5.750000000000001,
          5.8500000000000005,
          5.950000000000001,
          6.050000000000001,
          6.150000000000001,
          6.250000000000001
         ],
         "xaxis": "x",
         "y": [
          0.0992931494123052,
          0.27646420712722386,
          0.4473477888704573,
          0.6045631365227927,
          0.740999867726633,
          0.8502213507580253,
          0.9268413905302175,
          0.9668479312108312,
          0.9678513576201309,
          0.9292407009672867,
          0.8522380321884019,
          0.7398488581630088,
          0.5967137036828558,
          0.42887261403643745,
          0.24345953677778662,
          0.04834710874502573,
          -0.14823584079630286,
          -0.33809169537489087,
          -0.5134254297389254,
          -0.6671816551397156,
          -0.7933324804743439,
          -0.8871052632460287,
          -0.9451434042520718,
          -0.965597322605193,
          -0.9481464461615292,
          -0.8939563344467594,
          -0.8055778215879064,
          -0.6867972498218949,
          -0.5424483921950028,
          -0.37819747555783834,
          -0.20031276871327441,
          -0.015429488514757577,
          0.1696806502281775,
          0.3483279300028912,
          0.5141062523382718,
          0.6610754523528595,
          0.7839241173907596,
          0.8781143890593915,
          0.9400110319712868,
          0.9669968113016169,
          0.9575749072377518,
          0.9114568618105745,
          0.829631739960348,
          0.7144092825056634,
          0.5694274168088973,
          0.3996131620943579,
          0.21108622245311395,
          0.010996720636369297,
          -0.19270734900454156,
          -0.39158151804029984,
          -0.5770466189862618,
          -0.7407950167967889,
          -0.8752184636552695,
          -0.9738293409876829,
          -1.0316440251400727,
          -1.0454970873108977,
          -1.014258295059714,
          -0.938930797447865,
          -0.8226179145976912,
          -0.6703567267595054,
          -0.48882803224564053,
          -0.2859629794555229,
          -0.07047559502043722
         ],
         "yaxis": "y"
        }
       ],
       "layout": {
        "annotations": [
         {
          "font": {
           "size": 16
          },
          "showarrow": false,
          "text": "Validation with n=10",
          "x": 0.225,
          "xanchor": "center",
          "xref": "paper",
          "y": 1,
          "yanchor": "bottom",
          "yref": "paper"
         },
         {
          "font": {
           "size": 16
          },
          "showarrow": false,
          "text": "Residual error",
          "x": 0.775,
          "xanchor": "center",
          "xref": "paper",
          "y": 1,
          "yanchor": "bottom",
          "yref": "paper"
         }
        ],
        "template": {
         "data": {
          "bar": [
           {
            "error_x": {
             "color": "#2a3f5f"
            },
            "error_y": {
             "color": "#2a3f5f"
            },
            "marker": {
             "line": {
              "color": "#E5ECF6",
              "width": 0.5
             }
            },
            "type": "bar"
           }
          ],
          "barpolar": [
           {
            "marker": {
             "line": {
              "color": "#E5ECF6",
              "width": 0.5
             }
            },
            "type": "barpolar"
           }
          ],
          "carpet": [
           {
            "aaxis": {
             "endlinecolor": "#2a3f5f",
             "gridcolor": "white",
             "linecolor": "white",
             "minorgridcolor": "white",
             "startlinecolor": "#2a3f5f"
            },
            "baxis": {
             "endlinecolor": "#2a3f5f",
             "gridcolor": "white",
             "linecolor": "white",
             "minorgridcolor": "white",
             "startlinecolor": "#2a3f5f"
            },
            "type": "carpet"
           }
          ],
          "choropleth": [
           {
            "colorbar": {
             "outlinewidth": 0,
             "ticks": ""
            },
            "type": "choropleth"
           }
          ],
          "contour": [
           {
            "colorbar": {
             "outlinewidth": 0,
             "ticks": ""
            },
            "colorscale": [
             [
              0,
              "#0d0887"
             ],
             [
              0.1111111111111111,
              "#46039f"
             ],
             [
              0.2222222222222222,
              "#7201a8"
             ],
             [
              0.3333333333333333,
              "#9c179e"
             ],
             [
              0.4444444444444444,
              "#bd3786"
             ],
             [
              0.5555555555555556,
              "#d8576b"
             ],
             [
              0.6666666666666666,
              "#ed7953"
             ],
             [
              0.7777777777777778,
              "#fb9f3a"
             ],
             [
              0.8888888888888888,
              "#fdca26"
             ],
             [
              1,
              "#f0f921"
             ]
            ],
            "type": "contour"
           }
          ],
          "contourcarpet": [
           {
            "colorbar": {
             "outlinewidth": 0,
             "ticks": ""
            },
            "type": "contourcarpet"
           }
          ],
          "heatmap": [
           {
            "colorbar": {
             "outlinewidth": 0,
             "ticks": ""
            },
            "colorscale": [
             [
              0,
              "#0d0887"
             ],
             [
              0.1111111111111111,
              "#46039f"
             ],
             [
              0.2222222222222222,
              "#7201a8"
             ],
             [
              0.3333333333333333,
              "#9c179e"
             ],
             [
              0.4444444444444444,
              "#bd3786"
             ],
             [
              0.5555555555555556,
              "#d8576b"
             ],
             [
              0.6666666666666666,
              "#ed7953"
             ],
             [
              0.7777777777777778,
              "#fb9f3a"
             ],
             [
              0.8888888888888888,
              "#fdca26"
             ],
             [
              1,
              "#f0f921"
             ]
            ],
            "type": "heatmap"
           }
          ],
          "heatmapgl": [
           {
            "colorbar": {
             "outlinewidth": 0,
             "ticks": ""
            },
            "colorscale": [
             [
              0,
              "#0d0887"
             ],
             [
              0.1111111111111111,
              "#46039f"
             ],
             [
              0.2222222222222222,
              "#7201a8"
             ],
             [
              0.3333333333333333,
              "#9c179e"
             ],
             [
              0.4444444444444444,
              "#bd3786"
             ],
             [
              0.5555555555555556,
              "#d8576b"
             ],
             [
              0.6666666666666666,
              "#ed7953"
             ],
             [
              0.7777777777777778,
              "#fb9f3a"
             ],
             [
              0.8888888888888888,
              "#fdca26"
             ],
             [
              1,
              "#f0f921"
             ]
            ],
            "type": "heatmapgl"
           }
          ],
          "histogram": [
           {
            "marker": {
             "colorbar": {
              "outlinewidth": 0,
              "ticks": ""
             }
            },
            "type": "histogram"
           }
          ],
          "histogram2d": [
           {
            "colorbar": {
             "outlinewidth": 0,
             "ticks": ""
            },
            "colorscale": [
             [
              0,
              "#0d0887"
             ],
             [
              0.1111111111111111,
              "#46039f"
             ],
             [
              0.2222222222222222,
              "#7201a8"
             ],
             [
              0.3333333333333333,
              "#9c179e"
             ],
             [
              0.4444444444444444,
              "#bd3786"
             ],
             [
              0.5555555555555556,
              "#d8576b"
             ],
             [
              0.6666666666666666,
              "#ed7953"
             ],
             [
              0.7777777777777778,
              "#fb9f3a"
             ],
             [
              0.8888888888888888,
              "#fdca26"
             ],
             [
              1,
              "#f0f921"
             ]
            ],
            "type": "histogram2d"
           }
          ],
          "histogram2dcontour": [
           {
            "colorbar": {
             "outlinewidth": 0,
             "ticks": ""
            },
            "colorscale": [
             [
              0,
              "#0d0887"
             ],
             [
              0.1111111111111111,
              "#46039f"
             ],
             [
              0.2222222222222222,
              "#7201a8"
             ],
             [
              0.3333333333333333,
              "#9c179e"
             ],
             [
              0.4444444444444444,
              "#bd3786"
             ],
             [
              0.5555555555555556,
              "#d8576b"
             ],
             [
              0.6666666666666666,
              "#ed7953"
             ],
             [
              0.7777777777777778,
              "#fb9f3a"
             ],
             [
              0.8888888888888888,
              "#fdca26"
             ],
             [
              1,
              "#f0f921"
             ]
            ],
            "type": "histogram2dcontour"
           }
          ],
          "mesh3d": [
           {
            "colorbar": {
             "outlinewidth": 0,
             "ticks": ""
            },
            "type": "mesh3d"
           }
          ],
          "parcoords": [
           {
            "line": {
             "colorbar": {
              "outlinewidth": 0,
              "ticks": ""
             }
            },
            "type": "parcoords"
           }
          ],
          "pie": [
           {
            "automargin": true,
            "type": "pie"
           }
          ],
          "scatter": [
           {
            "marker": {
             "colorbar": {
              "outlinewidth": 0,
              "ticks": ""
             }
            },
            "type": "scatter"
           }
          ],
          "scatter3d": [
           {
            "line": {
             "colorbar": {
              "outlinewidth": 0,
              "ticks": ""
             }
            },
            "marker": {
             "colorbar": {
              "outlinewidth": 0,
              "ticks": ""
             }
            },
            "type": "scatter3d"
           }
          ],
          "scattercarpet": [
           {
            "marker": {
             "colorbar": {
              "outlinewidth": 0,
              "ticks": ""
             }
            },
            "type": "scattercarpet"
           }
          ],
          "scattergeo": [
           {
            "marker": {
             "colorbar": {
              "outlinewidth": 0,
              "ticks": ""
             }
            },
            "type": "scattergeo"
           }
          ],
          "scattergl": [
           {
            "marker": {
             "colorbar": {
              "outlinewidth": 0,
              "ticks": ""
             }
            },
            "type": "scattergl"
           }
          ],
          "scattermapbox": [
           {
            "marker": {
             "colorbar": {
              "outlinewidth": 0,
              "ticks": ""
             }
            },
            "type": "scattermapbox"
           }
          ],
          "scatterpolar": [
           {
            "marker": {
             "colorbar": {
              "outlinewidth": 0,
              "ticks": ""
             }
            },
            "type": "scatterpolar"
           }
          ],
          "scatterpolargl": [
           {
            "marker": {
             "colorbar": {
              "outlinewidth": 0,
              "ticks": ""
             }
            },
            "type": "scatterpolargl"
           }
          ],
          "scatterternary": [
           {
            "marker": {
             "colorbar": {
              "outlinewidth": 0,
              "ticks": ""
             }
            },
            "type": "scatterternary"
           }
          ],
          "surface": [
           {
            "colorbar": {
             "outlinewidth": 0,
             "ticks": ""
            },
            "colorscale": [
             [
              0,
              "#0d0887"
             ],
             [
              0.1111111111111111,
              "#46039f"
             ],
             [
              0.2222222222222222,
              "#7201a8"
             ],
             [
              0.3333333333333333,
              "#9c179e"
             ],
             [
              0.4444444444444444,
              "#bd3786"
             ],
             [
              0.5555555555555556,
              "#d8576b"
             ],
             [
              0.6666666666666666,
              "#ed7953"
             ],
             [
              0.7777777777777778,
              "#fb9f3a"
             ],
             [
              0.8888888888888888,
              "#fdca26"
             ],
             [
              1,
              "#f0f921"
             ]
            ],
            "type": "surface"
           }
          ],
          "table": [
           {
            "cells": {
             "fill": {
              "color": "#EBF0F8"
             },
             "line": {
              "color": "white"
             }
            },
            "header": {
             "fill": {
              "color": "#C8D4E3"
             },
             "line": {
              "color": "white"
             }
            },
            "type": "table"
           }
          ]
         },
         "layout": {
          "annotationdefaults": {
           "arrowcolor": "#2a3f5f",
           "arrowhead": 0,
           "arrowwidth": 1
          },
          "coloraxis": {
           "colorbar": {
            "outlinewidth": 0,
            "ticks": ""
           }
          },
          "colorscale": {
           "diverging": [
            [
             0,
             "#8e0152"
            ],
            [
             0.1,
             "#c51b7d"
            ],
            [
             0.2,
             "#de77ae"
            ],
            [
             0.3,
             "#f1b6da"
            ],
            [
             0.4,
             "#fde0ef"
            ],
            [
             0.5,
             "#f7f7f7"
            ],
            [
             0.6,
             "#e6f5d0"
            ],
            [
             0.7,
             "#b8e186"
            ],
            [
             0.8,
             "#7fbc41"
            ],
            [
             0.9,
             "#4d9221"
            ],
            [
             1,
             "#276419"
            ]
           ],
           "sequential": [
            [
             0,
             "#0d0887"
            ],
            [
             0.1111111111111111,
             "#46039f"
            ],
            [
             0.2222222222222222,
             "#7201a8"
            ],
            [
             0.3333333333333333,
             "#9c179e"
            ],
            [
             0.4444444444444444,
             "#bd3786"
            ],
            [
             0.5555555555555556,
             "#d8576b"
            ],
            [
             0.6666666666666666,
             "#ed7953"
            ],
            [
             0.7777777777777778,
             "#fb9f3a"
            ],
            [
             0.8888888888888888,
             "#fdca26"
            ],
            [
             1,
             "#f0f921"
            ]
           ],
           "sequentialminus": [
            [
             0,
             "#0d0887"
            ],
            [
             0.1111111111111111,
             "#46039f"
            ],
            [
             0.2222222222222222,
             "#7201a8"
            ],
            [
             0.3333333333333333,
             "#9c179e"
            ],
            [
             0.4444444444444444,
             "#bd3786"
            ],
            [
             0.5555555555555556,
             "#d8576b"
            ],
            [
             0.6666666666666666,
             "#ed7953"
            ],
            [
             0.7777777777777778,
             "#fb9f3a"
            ],
            [
             0.8888888888888888,
             "#fdca26"
            ],
            [
             1,
             "#f0f921"
            ]
           ]
          },
          "colorway": [
           "#636efa",
           "#EF553B",
           "#00cc96",
           "#ab63fa",
           "#FFA15A",
           "#19d3f3",
           "#FF6692",
           "#B6E880",
           "#FF97FF",
           "#FECB52"
          ],
          "font": {
           "color": "#2a3f5f"
          },
          "geo": {
           "bgcolor": "white",
           "lakecolor": "white",
           "landcolor": "#E5ECF6",
           "showlakes": true,
           "showland": true,
           "subunitcolor": "white"
          },
          "hoverlabel": {
           "align": "left"
          },
          "hovermode": "closest",
          "mapbox": {
           "style": "light"
          },
          "paper_bgcolor": "white",
          "plot_bgcolor": "#E5ECF6",
          "polar": {
           "angularaxis": {
            "gridcolor": "white",
            "linecolor": "white",
            "ticks": ""
           },
           "bgcolor": "#E5ECF6",
           "radialaxis": {
            "gridcolor": "white",
            "linecolor": "white",
            "ticks": ""
           }
          },
          "scene": {
           "xaxis": {
            "backgroundcolor": "#E5ECF6",
            "gridcolor": "white",
            "gridwidth": 2,
            "linecolor": "white",
            "showbackground": true,
            "ticks": "",
            "zerolinecolor": "white"
           },
           "yaxis": {
            "backgroundcolor": "#E5ECF6",
            "gridcolor": "white",
            "gridwidth": 2,
            "linecolor": "white",
            "showbackground": true,
            "ticks": "",
            "zerolinecolor": "white"
           },
           "zaxis": {
            "backgroundcolor": "#E5ECF6",
            "gridcolor": "white",
            "gridwidth": 2,
            "linecolor": "white",
            "showbackground": true,
            "ticks": "",
            "zerolinecolor": "white"
           }
          },
          "shapedefaults": {
           "line": {
            "color": "#2a3f5f"
           }
          },
          "ternary": {
           "aaxis": {
            "gridcolor": "white",
            "linecolor": "white",
            "ticks": ""
           },
           "baxis": {
            "gridcolor": "white",
            "linecolor": "white",
            "ticks": ""
           },
           "bgcolor": "#E5ECF6",
           "caxis": {
            "gridcolor": "white",
            "linecolor": "white",
            "ticks": ""
           }
          },
          "title": {
           "x": 0.05
          },
          "xaxis": {
           "automargin": true,
           "gridcolor": "white",
           "linecolor": "white",
           "ticks": "",
           "title": {
            "standoff": 15
           },
           "zerolinecolor": "white",
           "zerolinewidth": 2
          },
          "yaxis": {
           "automargin": true,
           "gridcolor": "white",
           "linecolor": "white",
           "ticks": "",
           "title": {
            "standoff": 15
           },
           "zerolinecolor": "white",
           "zerolinewidth": 2
          }
         }
        },
        "xaxis": {
         "anchor": "y",
         "domain": [
          0,
          0.45
         ]
        },
        "xaxis2": {
         "anchor": "y2",
         "domain": [
          0.55,
          1
         ]
        },
        "yaxis": {
         "anchor": "x",
         "domain": [
          0,
          1
         ]
        },
        "yaxis2": {
         "anchor": "x2",
         "domain": [
          0,
          1
         ]
        }
       }
      }
     },
     "metadata": {}
    },
    {
     "output_type": "stream",
     "name": "stdout",
     "text": "0.03438657938572104\n"
    }
   ],
   "source": [
    "x, sin_data, sqr_data = data_gen(0, 2*np.pi)\n",
    "t_x, t_sin_data, t_sqr_data = data_gen(0.05, 2*np.pi)\n",
    "\n",
    "n = 10\n",
    "epochs = 1 # Actually only one iteration is enough for least squre method\n",
    "\n",
    "RBFNet = RBF_Network(n, x, add_noise=True)\n",
    "# RBFNet.init_cl(x, 50, 1e-2, useBias=True) # Uncomment this to use CL initialization\n",
    "RBFNet.train_network(epochs, x, sin_data, t_x, t_sin_data)\n",
    "res_error = RBFNet.validate(t_x, t_sin_data, _plot=True)\n",
    "\n",
    "print(res_error)"
   ]
  },
  {
   "source": [
    "Square(2x)"
   ],
   "cell_type": "markdown",
   "metadata": {}
  },
  {
   "cell_type": "code",
   "execution_count": 174,
   "metadata": {
    "tags": []
   },
   "outputs": [
    {
     "output_type": "display_data",
     "data": {
      "application/vnd.plotly.v1+json": {
       "config": {
        "plotlyServerURL": "https://plot.ly"
       },
       "data": [
        {
         "mode": "lines",
         "name": "Residual error",
         "type": "scatter",
         "x": [
          0,
          1
         ],
         "xaxis": "x2",
         "y": [
          0,
          0
         ],
         "yaxis": "y2"
        },
        {
         "mode": "lines",
         "name": "Original",
         "type": "scatter",
         "x": [
          0.05,
          0.1,
          0.15000000000000002,
          0.2,
          0.25,
          0.3,
          0.35000000000000003,
          0.4,
          0.45,
          0.5,
          0.55,
          0.6000000000000001,
          0.6500000000000001,
          0.7000000000000001,
          0.7500000000000001,
          0.8,
          0.8500000000000001,
          0.9000000000000001,
          0.9500000000000001,
          1,
          1.05,
          1.1,
          1.1500000000000001,
          1.2000000000000002,
          1.2500000000000002,
          1.3,
          1.35,
          1.4000000000000001,
          1.4500000000000002,
          1.5000000000000002,
          1.55,
          1.6,
          1.6500000000000001,
          1.7000000000000002,
          1.7500000000000002,
          1.8,
          1.85,
          1.9000000000000001,
          1.9500000000000002,
          2,
          2.05,
          2.1,
          2.15,
          2.1999999999999997,
          2.25,
          2.3,
          2.35,
          2.4,
          2.45,
          2.5,
          2.55,
          2.6,
          2.65,
          2.7,
          2.75,
          2.8,
          2.85,
          2.9,
          2.95,
          3,
          3.05,
          3.1,
          3.15,
          3.2,
          3.25,
          3.3,
          3.35,
          3.4,
          3.45,
          3.5,
          3.55,
          3.6,
          3.65,
          3.7,
          3.75,
          3.8,
          3.85,
          3.9,
          3.95,
          4,
          4.05,
          4.1,
          4.15,
          4.2,
          4.25,
          4.3,
          4.35,
          4.4,
          4.45,
          4.5,
          4.55,
          4.6,
          4.65,
          4.7,
          4.75,
          4.8,
          4.8500000000000005,
          4.9,
          4.95,
          5,
          5.05,
          5.1000000000000005,
          5.15,
          5.2,
          5.25,
          5.3,
          5.3500000000000005,
          5.4,
          5.45,
          5.5,
          5.55,
          5.6000000000000005,
          5.65,
          5.7,
          5.75,
          5.8,
          5.8500000000000005,
          5.9,
          5.95,
          6,
          6.05,
          6.1000000000000005,
          6.15,
          6.2,
          6.25
         ],
         "xaxis": "x",
         "y": [
          1,
          1,
          1,
          1,
          1,
          1,
          1,
          1,
          1,
          1,
          1,
          1,
          1,
          1,
          1,
          1,
          1,
          1,
          1,
          1,
          1,
          1,
          1,
          1,
          1,
          1,
          1,
          1,
          1,
          1,
          1,
          -1,
          -1,
          -1,
          -1,
          -1,
          -1,
          -1,
          -1,
          -1,
          -1,
          -1,
          -1,
          -1,
          -1,
          -1,
          -1,
          -1,
          -1,
          -1,
          -1,
          -1,
          -1,
          -1,
          -1,
          -1,
          -1,
          -1,
          -1,
          -1,
          -1,
          -1,
          1,
          1,
          1,
          1,
          1,
          1,
          1,
          1,
          1,
          1,
          1,
          1,
          1,
          1,
          1,
          1,
          1,
          1,
          1,
          1,
          1,
          1,
          1,
          1,
          1,
          1,
          1,
          1,
          1,
          1,
          1,
          1,
          -1,
          -1,
          -1,
          -1,
          -1,
          -1,
          -1,
          -1,
          -1,
          -1,
          -1,
          -1,
          -1,
          -1,
          -1,
          -1,
          -1,
          -1,
          -1,
          -1,
          -1,
          -1,
          -1,
          -1,
          -1,
          -1,
          -1,
          -1,
          -1,
          -1,
          -1
         ],
         "yaxis": "y"
        },
        {
         "mode": "lines",
         "name": "Approximated",
         "type": "scatter",
         "x": [
          0.05,
          0.1,
          0.15000000000000002,
          0.2,
          0.25,
          0.3,
          0.35000000000000003,
          0.4,
          0.45,
          0.5,
          0.55,
          0.6000000000000001,
          0.6500000000000001,
          0.7000000000000001,
          0.7500000000000001,
          0.8,
          0.8500000000000001,
          0.9000000000000001,
          0.9500000000000001,
          1,
          1.05,
          1.1,
          1.1500000000000001,
          1.2000000000000002,
          1.2500000000000002,
          1.3,
          1.35,
          1.4000000000000001,
          1.4500000000000002,
          1.5000000000000002,
          1.55,
          1.6,
          1.6500000000000001,
          1.7000000000000002,
          1.7500000000000002,
          1.8,
          1.85,
          1.9000000000000001,
          1.9500000000000002,
          2,
          2.05,
          2.1,
          2.15,
          2.1999999999999997,
          2.25,
          2.3,
          2.35,
          2.4,
          2.45,
          2.5,
          2.55,
          2.6,
          2.65,
          2.7,
          2.75,
          2.8,
          2.85,
          2.9,
          2.95,
          3,
          3.05,
          3.1,
          3.15,
          3.2,
          3.25,
          3.3,
          3.35,
          3.4,
          3.45,
          3.5,
          3.55,
          3.6,
          3.65,
          3.7,
          3.75,
          3.8,
          3.85,
          3.9,
          3.95,
          4,
          4.05,
          4.1,
          4.15,
          4.2,
          4.25,
          4.3,
          4.35,
          4.4,
          4.45,
          4.5,
          4.55,
          4.6,
          4.65,
          4.7,
          4.75,
          4.8,
          4.8500000000000005,
          4.9,
          4.95,
          5,
          5.05,
          5.1000000000000005,
          5.15,
          5.2,
          5.25,
          5.3,
          5.3500000000000005,
          5.4,
          5.45,
          5.5,
          5.55,
          5.6000000000000005,
          5.65,
          5.7,
          5.75,
          5.8,
          5.8500000000000005,
          5.9,
          5.95,
          6,
          6.05,
          6.1000000000000005,
          6.15,
          6.2,
          6.25
         ],
         "xaxis": "x",
         "y": [
          1,
          1,
          1,
          1,
          1,
          1,
          1,
          1,
          1,
          1,
          1,
          1,
          1,
          1,
          1,
          1,
          1,
          1,
          1,
          1,
          1,
          1,
          1,
          1,
          1,
          1,
          1,
          1,
          1,
          1,
          1,
          -1,
          -1,
          -1,
          -1,
          -1,
          -1,
          -1,
          -1,
          -1,
          -1,
          -1,
          -1,
          -1,
          -1,
          -1,
          -1,
          -1,
          -1,
          -1,
          -1,
          -1,
          -1,
          -1,
          -1,
          -1,
          -1,
          -1,
          -1,
          -1,
          -1,
          -1,
          1,
          1,
          1,
          1,
          1,
          1,
          1,
          1,
          1,
          1,
          1,
          1,
          1,
          1,
          1,
          1,
          1,
          1,
          1,
          1,
          1,
          1,
          1,
          1,
          1,
          1,
          1,
          1,
          1,
          1,
          1,
          1,
          -1,
          -1,
          -1,
          -1,
          -1,
          -1,
          -1,
          -1,
          -1,
          -1,
          -1,
          -1,
          -1,
          -1,
          -1,
          -1,
          -1,
          -1,
          -1,
          -1,
          -1,
          -1,
          -1,
          -1,
          -1,
          -1,
          -1,
          -1,
          -1,
          -1,
          -1
         ],
         "yaxis": "y"
        }
       ],
       "layout": {
        "annotations": [
         {
          "font": {
           "size": 16
          },
          "showarrow": false,
          "text": "Validation with n=10",
          "x": 0.225,
          "xanchor": "center",
          "xref": "paper",
          "y": 1,
          "yanchor": "bottom",
          "yref": "paper"
         },
         {
          "font": {
           "size": 16
          },
          "showarrow": false,
          "text": "Residual error",
          "x": 0.775,
          "xanchor": "center",
          "xref": "paper",
          "y": 1,
          "yanchor": "bottom",
          "yref": "paper"
         }
        ],
        "template": {
         "data": {
          "bar": [
           {
            "error_x": {
             "color": "#2a3f5f"
            },
            "error_y": {
             "color": "#2a3f5f"
            },
            "marker": {
             "line": {
              "color": "#E5ECF6",
              "width": 0.5
             }
            },
            "type": "bar"
           }
          ],
          "barpolar": [
           {
            "marker": {
             "line": {
              "color": "#E5ECF6",
              "width": 0.5
             }
            },
            "type": "barpolar"
           }
          ],
          "carpet": [
           {
            "aaxis": {
             "endlinecolor": "#2a3f5f",
             "gridcolor": "white",
             "linecolor": "white",
             "minorgridcolor": "white",
             "startlinecolor": "#2a3f5f"
            },
            "baxis": {
             "endlinecolor": "#2a3f5f",
             "gridcolor": "white",
             "linecolor": "white",
             "minorgridcolor": "white",
             "startlinecolor": "#2a3f5f"
            },
            "type": "carpet"
           }
          ],
          "choropleth": [
           {
            "colorbar": {
             "outlinewidth": 0,
             "ticks": ""
            },
            "type": "choropleth"
           }
          ],
          "contour": [
           {
            "colorbar": {
             "outlinewidth": 0,
             "ticks": ""
            },
            "colorscale": [
             [
              0,
              "#0d0887"
             ],
             [
              0.1111111111111111,
              "#46039f"
             ],
             [
              0.2222222222222222,
              "#7201a8"
             ],
             [
              0.3333333333333333,
              "#9c179e"
             ],
             [
              0.4444444444444444,
              "#bd3786"
             ],
             [
              0.5555555555555556,
              "#d8576b"
             ],
             [
              0.6666666666666666,
              "#ed7953"
             ],
             [
              0.7777777777777778,
              "#fb9f3a"
             ],
             [
              0.8888888888888888,
              "#fdca26"
             ],
             [
              1,
              "#f0f921"
             ]
            ],
            "type": "contour"
           }
          ],
          "contourcarpet": [
           {
            "colorbar": {
             "outlinewidth": 0,
             "ticks": ""
            },
            "type": "contourcarpet"
           }
          ],
          "heatmap": [
           {
            "colorbar": {
             "outlinewidth": 0,
             "ticks": ""
            },
            "colorscale": [
             [
              0,
              "#0d0887"
             ],
             [
              0.1111111111111111,
              "#46039f"
             ],
             [
              0.2222222222222222,
              "#7201a8"
             ],
             [
              0.3333333333333333,
              "#9c179e"
             ],
             [
              0.4444444444444444,
              "#bd3786"
             ],
             [
              0.5555555555555556,
              "#d8576b"
             ],
             [
              0.6666666666666666,
              "#ed7953"
             ],
             [
              0.7777777777777778,
              "#fb9f3a"
             ],
             [
              0.8888888888888888,
              "#fdca26"
             ],
             [
              1,
              "#f0f921"
             ]
            ],
            "type": "heatmap"
           }
          ],
          "heatmapgl": [
           {
            "colorbar": {
             "outlinewidth": 0,
             "ticks": ""
            },
            "colorscale": [
             [
              0,
              "#0d0887"
             ],
             [
              0.1111111111111111,
              "#46039f"
             ],
             [
              0.2222222222222222,
              "#7201a8"
             ],
             [
              0.3333333333333333,
              "#9c179e"
             ],
             [
              0.4444444444444444,
              "#bd3786"
             ],
             [
              0.5555555555555556,
              "#d8576b"
             ],
             [
              0.6666666666666666,
              "#ed7953"
             ],
             [
              0.7777777777777778,
              "#fb9f3a"
             ],
             [
              0.8888888888888888,
              "#fdca26"
             ],
             [
              1,
              "#f0f921"
             ]
            ],
            "type": "heatmapgl"
           }
          ],
          "histogram": [
           {
            "marker": {
             "colorbar": {
              "outlinewidth": 0,
              "ticks": ""
             }
            },
            "type": "histogram"
           }
          ],
          "histogram2d": [
           {
            "colorbar": {
             "outlinewidth": 0,
             "ticks": ""
            },
            "colorscale": [
             [
              0,
              "#0d0887"
             ],
             [
              0.1111111111111111,
              "#46039f"
             ],
             [
              0.2222222222222222,
              "#7201a8"
             ],
             [
              0.3333333333333333,
              "#9c179e"
             ],
             [
              0.4444444444444444,
              "#bd3786"
             ],
             [
              0.5555555555555556,
              "#d8576b"
             ],
             [
              0.6666666666666666,
              "#ed7953"
             ],
             [
              0.7777777777777778,
              "#fb9f3a"
             ],
             [
              0.8888888888888888,
              "#fdca26"
             ],
             [
              1,
              "#f0f921"
             ]
            ],
            "type": "histogram2d"
           }
          ],
          "histogram2dcontour": [
           {
            "colorbar": {
             "outlinewidth": 0,
             "ticks": ""
            },
            "colorscale": [
             [
              0,
              "#0d0887"
             ],
             [
              0.1111111111111111,
              "#46039f"
             ],
             [
              0.2222222222222222,
              "#7201a8"
             ],
             [
              0.3333333333333333,
              "#9c179e"
             ],
             [
              0.4444444444444444,
              "#bd3786"
             ],
             [
              0.5555555555555556,
              "#d8576b"
             ],
             [
              0.6666666666666666,
              "#ed7953"
             ],
             [
              0.7777777777777778,
              "#fb9f3a"
             ],
             [
              0.8888888888888888,
              "#fdca26"
             ],
             [
              1,
              "#f0f921"
             ]
            ],
            "type": "histogram2dcontour"
           }
          ],
          "mesh3d": [
           {
            "colorbar": {
             "outlinewidth": 0,
             "ticks": ""
            },
            "type": "mesh3d"
           }
          ],
          "parcoords": [
           {
            "line": {
             "colorbar": {
              "outlinewidth": 0,
              "ticks": ""
             }
            },
            "type": "parcoords"
           }
          ],
          "pie": [
           {
            "automargin": true,
            "type": "pie"
           }
          ],
          "scatter": [
           {
            "marker": {
             "colorbar": {
              "outlinewidth": 0,
              "ticks": ""
             }
            },
            "type": "scatter"
           }
          ],
          "scatter3d": [
           {
            "line": {
             "colorbar": {
              "outlinewidth": 0,
              "ticks": ""
             }
            },
            "marker": {
             "colorbar": {
              "outlinewidth": 0,
              "ticks": ""
             }
            },
            "type": "scatter3d"
           }
          ],
          "scattercarpet": [
           {
            "marker": {
             "colorbar": {
              "outlinewidth": 0,
              "ticks": ""
             }
            },
            "type": "scattercarpet"
           }
          ],
          "scattergeo": [
           {
            "marker": {
             "colorbar": {
              "outlinewidth": 0,
              "ticks": ""
             }
            },
            "type": "scattergeo"
           }
          ],
          "scattergl": [
           {
            "marker": {
             "colorbar": {
              "outlinewidth": 0,
              "ticks": ""
             }
            },
            "type": "scattergl"
           }
          ],
          "scattermapbox": [
           {
            "marker": {
             "colorbar": {
              "outlinewidth": 0,
              "ticks": ""
             }
            },
            "type": "scattermapbox"
           }
          ],
          "scatterpolar": [
           {
            "marker": {
             "colorbar": {
              "outlinewidth": 0,
              "ticks": ""
             }
            },
            "type": "scatterpolar"
           }
          ],
          "scatterpolargl": [
           {
            "marker": {
             "colorbar": {
              "outlinewidth": 0,
              "ticks": ""
             }
            },
            "type": "scatterpolargl"
           }
          ],
          "scatterternary": [
           {
            "marker": {
             "colorbar": {
              "outlinewidth": 0,
              "ticks": ""
             }
            },
            "type": "scatterternary"
           }
          ],
          "surface": [
           {
            "colorbar": {
             "outlinewidth": 0,
             "ticks": ""
            },
            "colorscale": [
             [
              0,
              "#0d0887"
             ],
             [
              0.1111111111111111,
              "#46039f"
             ],
             [
              0.2222222222222222,
              "#7201a8"
             ],
             [
              0.3333333333333333,
              "#9c179e"
             ],
             [
              0.4444444444444444,
              "#bd3786"
             ],
             [
              0.5555555555555556,
              "#d8576b"
             ],
             [
              0.6666666666666666,
              "#ed7953"
             ],
             [
              0.7777777777777778,
              "#fb9f3a"
             ],
             [
              0.8888888888888888,
              "#fdca26"
             ],
             [
              1,
              "#f0f921"
             ]
            ],
            "type": "surface"
           }
          ],
          "table": [
           {
            "cells": {
             "fill": {
              "color": "#EBF0F8"
             },
             "line": {
              "color": "white"
             }
            },
            "header": {
             "fill": {
              "color": "#C8D4E3"
             },
             "line": {
              "color": "white"
             }
            },
            "type": "table"
           }
          ]
         },
         "layout": {
          "annotationdefaults": {
           "arrowcolor": "#2a3f5f",
           "arrowhead": 0,
           "arrowwidth": 1
          },
          "coloraxis": {
           "colorbar": {
            "outlinewidth": 0,
            "ticks": ""
           }
          },
          "colorscale": {
           "diverging": [
            [
             0,
             "#8e0152"
            ],
            [
             0.1,
             "#c51b7d"
            ],
            [
             0.2,
             "#de77ae"
            ],
            [
             0.3,
             "#f1b6da"
            ],
            [
             0.4,
             "#fde0ef"
            ],
            [
             0.5,
             "#f7f7f7"
            ],
            [
             0.6,
             "#e6f5d0"
            ],
            [
             0.7,
             "#b8e186"
            ],
            [
             0.8,
             "#7fbc41"
            ],
            [
             0.9,
             "#4d9221"
            ],
            [
             1,
             "#276419"
            ]
           ],
           "sequential": [
            [
             0,
             "#0d0887"
            ],
            [
             0.1111111111111111,
             "#46039f"
            ],
            [
             0.2222222222222222,
             "#7201a8"
            ],
            [
             0.3333333333333333,
             "#9c179e"
            ],
            [
             0.4444444444444444,
             "#bd3786"
            ],
            [
             0.5555555555555556,
             "#d8576b"
            ],
            [
             0.6666666666666666,
             "#ed7953"
            ],
            [
             0.7777777777777778,
             "#fb9f3a"
            ],
            [
             0.8888888888888888,
             "#fdca26"
            ],
            [
             1,
             "#f0f921"
            ]
           ],
           "sequentialminus": [
            [
             0,
             "#0d0887"
            ],
            [
             0.1111111111111111,
             "#46039f"
            ],
            [
             0.2222222222222222,
             "#7201a8"
            ],
            [
             0.3333333333333333,
             "#9c179e"
            ],
            [
             0.4444444444444444,
             "#bd3786"
            ],
            [
             0.5555555555555556,
             "#d8576b"
            ],
            [
             0.6666666666666666,
             "#ed7953"
            ],
            [
             0.7777777777777778,
             "#fb9f3a"
            ],
            [
             0.8888888888888888,
             "#fdca26"
            ],
            [
             1,
             "#f0f921"
            ]
           ]
          },
          "colorway": [
           "#636efa",
           "#EF553B",
           "#00cc96",
           "#ab63fa",
           "#FFA15A",
           "#19d3f3",
           "#FF6692",
           "#B6E880",
           "#FF97FF",
           "#FECB52"
          ],
          "font": {
           "color": "#2a3f5f"
          },
          "geo": {
           "bgcolor": "white",
           "lakecolor": "white",
           "landcolor": "#E5ECF6",
           "showlakes": true,
           "showland": true,
           "subunitcolor": "white"
          },
          "hoverlabel": {
           "align": "left"
          },
          "hovermode": "closest",
          "mapbox": {
           "style": "light"
          },
          "paper_bgcolor": "white",
          "plot_bgcolor": "#E5ECF6",
          "polar": {
           "angularaxis": {
            "gridcolor": "white",
            "linecolor": "white",
            "ticks": ""
           },
           "bgcolor": "#E5ECF6",
           "radialaxis": {
            "gridcolor": "white",
            "linecolor": "white",
            "ticks": ""
           }
          },
          "scene": {
           "xaxis": {
            "backgroundcolor": "#E5ECF6",
            "gridcolor": "white",
            "gridwidth": 2,
            "linecolor": "white",
            "showbackground": true,
            "ticks": "",
            "zerolinecolor": "white"
           },
           "yaxis": {
            "backgroundcolor": "#E5ECF6",
            "gridcolor": "white",
            "gridwidth": 2,
            "linecolor": "white",
            "showbackground": true,
            "ticks": "",
            "zerolinecolor": "white"
           },
           "zaxis": {
            "backgroundcolor": "#E5ECF6",
            "gridcolor": "white",
            "gridwidth": 2,
            "linecolor": "white",
            "showbackground": true,
            "ticks": "",
            "zerolinecolor": "white"
           }
          },
          "shapedefaults": {
           "line": {
            "color": "#2a3f5f"
           }
          },
          "ternary": {
           "aaxis": {
            "gridcolor": "white",
            "linecolor": "white",
            "ticks": ""
           },
           "baxis": {
            "gridcolor": "white",
            "linecolor": "white",
            "ticks": ""
           },
           "bgcolor": "#E5ECF6",
           "caxis": {
            "gridcolor": "white",
            "linecolor": "white",
            "ticks": ""
           }
          },
          "title": {
           "x": 0.05
          },
          "xaxis": {
           "automargin": true,
           "gridcolor": "white",
           "linecolor": "white",
           "ticks": "",
           "title": {
            "standoff": 15
           },
           "zerolinecolor": "white",
           "zerolinewidth": 2
          },
          "yaxis": {
           "automargin": true,
           "gridcolor": "white",
           "linecolor": "white",
           "ticks": "",
           "title": {
            "standoff": 15
           },
           "zerolinecolor": "white",
           "zerolinewidth": 2
          }
         }
        },
        "xaxis": {
         "anchor": "y",
         "domain": [
          0,
          0.45
         ]
        },
        "xaxis2": {
         "anchor": "y2",
         "domain": [
          0.55,
          1
         ]
        },
        "yaxis": {
         "anchor": "x",
         "domain": [
          0,
          1
         ]
        },
        "yaxis2": {
         "anchor": "x2",
         "domain": [
          0,
          1
         ]
        }
       }
      }
     },
     "metadata": {}
    },
    {
     "output_type": "stream",
     "name": "stdout",
     "text": "0.0\n"
    }
   ],
   "source": [
    "x, sin_data, sqr_data = data_gen(0, 2*np.pi)\n",
    "t_x, t_sin_data, t_sqr_data = data_gen(0.05, 2*np.pi, step=0.05)\n",
    "\n",
    "n = 10\n",
    "epochs = 2\n",
    "\n",
    "RBFNet = RBF_Network(n, x, useSqr=True)\n",
    "\n",
    "# RBFNet.init_cl(x, 50, 1e-2) # Uncomment this to use CL initialization\n",
    "RBFNet.train_network(epochs, x, sqr_data, t_x, t_sqr_data)\n",
    "res_error = RBFNet.validate(t_x, t_sqr_data, _plot=True)\n",
    "\n",
    "print(res_error)"
   ]
  },
  {
   "source": [
    "Delta learining"
   ],
   "cell_type": "markdown",
   "metadata": {}
  },
  {
   "cell_type": "code",
   "execution_count": 224,
   "metadata": {
    "tags": []
   },
   "outputs": [
    {
     "output_type": "error",
     "ename": "ValueError",
     "evalue": "operands could not be broadcast together with shapes (63,10) (63,) ",
     "traceback": [
      "\u001b[0;31m---------------------------------------------------------------------------\u001b[0m",
      "\u001b[0;31mValueError\u001b[0m                                Traceback (most recent call last)",
      "\u001b[0;32m<ipython-input-224-e214a168a744>\u001b[0m in \u001b[0;36m<module>\u001b[0;34m\u001b[0m\n\u001b[1;32m      7\u001b[0m \u001b[0mRBFNet\u001b[0m \u001b[0;34m=\u001b[0m \u001b[0mRBF_Network\u001b[0m\u001b[0;34m(\u001b[0m\u001b[0mn\u001b[0m\u001b[0;34m,\u001b[0m \u001b[0mx\u001b[0m\u001b[0;34m,\u001b[0m \u001b[0meta\u001b[0m\u001b[0;34m=\u001b[0m\u001b[0;36m1e-1\u001b[0m\u001b[0;34m,\u001b[0m \u001b[0museDelta\u001b[0m\u001b[0;34m=\u001b[0m\u001b[0;32mTrue\u001b[0m\u001b[0;34m)\u001b[0m\u001b[0;34m\u001b[0m\u001b[0;34m\u001b[0m\u001b[0m\n\u001b[1;32m      8\u001b[0m \u001b[0;31m# RBFNet.init_cl(x, 100, 1e-1, useBias=True) # Uncomment this to use CL initialization\u001b[0m\u001b[0;34m\u001b[0m\u001b[0;34m\u001b[0m\u001b[0;34m\u001b[0m\u001b[0m\n\u001b[0;32m----> 9\u001b[0;31m \u001b[0mRBFNet\u001b[0m\u001b[0;34m.\u001b[0m\u001b[0mtrain_network\u001b[0m\u001b[0;34m(\u001b[0m\u001b[0mepochs\u001b[0m\u001b[0;34m,\u001b[0m \u001b[0mx\u001b[0m\u001b[0;34m,\u001b[0m \u001b[0msin_data\u001b[0m\u001b[0;34m,\u001b[0m \u001b[0mt_x\u001b[0m\u001b[0;34m,\u001b[0m \u001b[0mt_sin_data\u001b[0m\u001b[0;34m)\u001b[0m\u001b[0;34m\u001b[0m\u001b[0;34m\u001b[0m\u001b[0m\n\u001b[0m\u001b[1;32m     10\u001b[0m \u001b[0mres_error\u001b[0m \u001b[0;34m=\u001b[0m \u001b[0mRBFNet\u001b[0m\u001b[0;34m.\u001b[0m\u001b[0mvalidate\u001b[0m\u001b[0;34m(\u001b[0m\u001b[0mt_x\u001b[0m\u001b[0;34m,\u001b[0m \u001b[0mt_sin_data\u001b[0m\u001b[0;34m,\u001b[0m \u001b[0m_plot\u001b[0m\u001b[0;34m=\u001b[0m\u001b[0;32mTrue\u001b[0m\u001b[0;34m)\u001b[0m\u001b[0;34m\u001b[0m\u001b[0;34m\u001b[0m\u001b[0m\n\u001b[1;32m     11\u001b[0m \u001b[0;34m\u001b[0m\u001b[0m\n",
      "\u001b[0;32m<ipython-input-223-9f849e6ca5a3>\u001b[0m in \u001b[0;36mtrain_network\u001b[0;34m(self, epochs, train_data, train_label, test_data, test_label)\u001b[0m\n\u001b[1;32m     52\u001b[0m \u001b[0;34m\u001b[0m\u001b[0m\n\u001b[1;32m     53\u001b[0m             \u001b[0;32mif\u001b[0m \u001b[0;34m(\u001b[0m\u001b[0mlen\u001b[0m\u001b[0;34m(\u001b[0m\u001b[0mtest_data\u001b[0m\u001b[0;34m)\u001b[0m \u001b[0;34m>\u001b[0m \u001b[0;36m0\u001b[0m\u001b[0;34m)\u001b[0m\u001b[0;34m:\u001b[0m\u001b[0;34m\u001b[0m\u001b[0;34m\u001b[0m\u001b[0m\n\u001b[0;32m---> 54\u001b[0;31m                 \u001b[0mself\u001b[0m\u001b[0;34m.\u001b[0m\u001b[0mresidual_error\u001b[0m\u001b[0;34m.\u001b[0m\u001b[0mappend\u001b[0m\u001b[0;34m(\u001b[0m\u001b[0mself\u001b[0m\u001b[0;34m.\u001b[0m\u001b[0mvalidate\u001b[0m\u001b[0;34m(\u001b[0m\u001b[0mtest_data\u001b[0m\u001b[0;34m,\u001b[0m \u001b[0mtest_targets\u001b[0m\u001b[0;34m)\u001b[0m\u001b[0;34m)\u001b[0m\u001b[0;34m\u001b[0m\u001b[0;34m\u001b[0m\u001b[0m\n\u001b[0m\u001b[1;32m     55\u001b[0m \u001b[0;34m\u001b[0m\u001b[0m\n\u001b[1;32m     56\u001b[0m \u001b[0;34m\u001b[0m\u001b[0m\n",
      "\u001b[0;32m<ipython-input-223-9f849e6ca5a3>\u001b[0m in \u001b[0;36mvalidate\u001b[0;34m(self, test_data, test_label, _plot)\u001b[0m\n\u001b[1;32m    105\u001b[0m             \u001b[0mfig\u001b[0m\u001b[0;34m.\u001b[0m\u001b[0mshow\u001b[0m\u001b[0;34m(\u001b[0m\u001b[0;34m)\u001b[0m\u001b[0;34m\u001b[0m\u001b[0;34m\u001b[0m\u001b[0m\n\u001b[1;32m    106\u001b[0m \u001b[0;34m\u001b[0m\u001b[0m\n\u001b[0;32m--> 107\u001b[0;31m         \u001b[0;32mreturn\u001b[0m \u001b[0mnp\u001b[0m\u001b[0;34m.\u001b[0m\u001b[0mmean\u001b[0m\u001b[0;34m(\u001b[0m\u001b[0mnp\u001b[0m\u001b[0;34m.\u001b[0m\u001b[0mabs\u001b[0m\u001b[0;34m(\u001b[0m\u001b[0moutput\u001b[0m\u001b[0;34m-\u001b[0m\u001b[0mtest_label\u001b[0m\u001b[0;34m.\u001b[0m\u001b[0mravel\u001b[0m\u001b[0;34m(\u001b[0m\u001b[0;34m)\u001b[0m\u001b[0;34m)\u001b[0m\u001b[0;34m)\u001b[0m\u001b[0;34m\u001b[0m\u001b[0;34m\u001b[0m\u001b[0m\n\u001b[0m\u001b[1;32m    108\u001b[0m \u001b[0;34m\u001b[0m\u001b[0m\n\u001b[1;32m    109\u001b[0m     \u001b[0;32mdef\u001b[0m \u001b[0minit_cl\u001b[0m\u001b[0;34m(\u001b[0m\u001b[0mself\u001b[0m\u001b[0;34m,\u001b[0m \u001b[0minputs\u001b[0m\u001b[0;34m,\u001b[0m \u001b[0mepochs\u001b[0m\u001b[0;34m,\u001b[0m \u001b[0meta\u001b[0m\u001b[0;34m,\u001b[0m \u001b[0museBias\u001b[0m\u001b[0;34m=\u001b[0m\u001b[0;32mFalse\u001b[0m\u001b[0;34m,\u001b[0m \u001b[0mbias_w\u001b[0m\u001b[0;34m=\u001b[0m\u001b[0;36m1e-2\u001b[0m\u001b[0;34m)\u001b[0m\u001b[0;34m:\u001b[0m\u001b[0;34m\u001b[0m\u001b[0;34m\u001b[0m\u001b[0m\n",
      "\u001b[0;31mValueError\u001b[0m: operands could not be broadcast together with shapes (63,10) (63,) "
     ]
    }
   ],
   "source": [
    "x, sin_data, sqr_data = data_gen(0, 2*np.pi)\n",
    "t_x, t_sin_data, t_sqr_data = data_gen(0.05, 2*np.pi)\n",
    "\n",
    "n = 10\n",
    "epochs = 100\n",
    "\n",
    "RBFNet = RBF_Network(n, x, eta=1e-1, useDelta=True)\n",
    "# RBFNet.init_cl(x, 100, 1e-1, useBias=True) # Uncomment this to use CL initialization\n",
    "RBFNet.train_network(epochs, x, sin_data, t_x, t_sin_data)\n",
    "res_error = RBFNet.validate(t_x, t_sin_data, _plot=True)\n",
    "\n",
    "print(res_error)"
   ]
  },
  {
   "source": [
    "CL initialization"
   ],
   "cell_type": "markdown",
   "metadata": {}
  },
  {
   "cell_type": "code",
   "execution_count": 194,
   "metadata": {
    "tags": []
   },
   "outputs": [
    {
     "output_type": "display_data",
     "data": {
      "application/vnd.plotly.v1+json": {
       "config": {
        "plotlyServerURL": "https://plot.ly"
       },
       "data": [
        {
         "mode": "lines",
         "name": "Residual error",
         "type": "scatter",
         "x": [
          0,
          1,
          2,
          3,
          4,
          5,
          6,
          7,
          8,
          9
         ],
         "xaxis": "x2",
         "y": [
          1.2006190596865336,
          0.7324910454653194,
          0.7543725704030556,
          0.7775738765849519,
          0.8077483631515603,
          0.8319550060309148,
          0.8471822220254798,
          0.8550529420557927,
          0.8578101680872288,
          0.8573057348528903
         ],
         "yaxis": "y2"
        },
        {
         "mode": "lines",
         "name": "Original",
         "type": "scatter",
         "x": [
          0.05,
          0.15000000000000002,
          0.25000000000000006,
          0.35000000000000003,
          0.45000000000000007,
          0.5500000000000002,
          0.6500000000000001,
          0.7500000000000002,
          0.8500000000000002,
          0.9500000000000002,
          1.0500000000000003,
          1.1500000000000004,
          1.2500000000000002,
          1.3500000000000003,
          1.4500000000000004,
          1.5500000000000003,
          1.6500000000000004,
          1.7500000000000004,
          1.8500000000000003,
          1.9500000000000004,
          2.0500000000000003,
          2.1500000000000004,
          2.2500000000000004,
          2.35,
          2.45,
          2.5500000000000003,
          2.6500000000000004,
          2.7500000000000004,
          2.8500000000000005,
          2.95,
          3.0500000000000003,
          3.1500000000000004,
          3.2500000000000004,
          3.3500000000000005,
          3.4500000000000006,
          3.5500000000000007,
          3.6500000000000004,
          3.7500000000000004,
          3.8500000000000005,
          3.9500000000000006,
          4.050000000000001,
          4.15,
          4.250000000000001,
          4.3500000000000005,
          4.450000000000001,
          4.550000000000001,
          4.65,
          4.750000000000001,
          4.8500000000000005,
          4.950000000000001,
          5.050000000000001,
          5.150000000000001,
          5.250000000000001,
          5.3500000000000005,
          5.450000000000001,
          5.550000000000001,
          5.650000000000001,
          5.750000000000001,
          5.8500000000000005,
          5.950000000000001,
          6.050000000000001,
          6.150000000000001,
          6.250000000000001
         ],
         "xaxis": "x",
         "y": [
          0.09983341664682815,
          0.2955202066613396,
          0.4794255386042031,
          0.6442176872376911,
          0.7833269096274835,
          0.8912073600614355,
          0.9635581854171931,
          0.9974949866040544,
          0.9916648104524686,
          0.9463000876874144,
          0.8632093666488735,
          0.7457052121767197,
          0.5984721441039561,
          0.4273798802338294,
          0.23924932921398157,
          0.04158066243329005,
          -0.15774569414324907,
          -0.35078322768962067,
          -0.5298361409084937,
          -0.6877661591839744,
          -0.8182771110644108,
          -0.9161659367494552,
          -0.9775301176650972,
          -0.9999232575641008,
          -0.9824526126243325,
          -0.9258146823277321,
          -0.8322674422239008,
          -0.7055403255703913,
          -0.5506855425976369,
          -0.373876664830236,
          -0.18216250427209502,
          0.0168139004843506,
          0.2151199880878164,
          0.40484992061659913,
          0.5784397643882009,
          0.7289690401258772,
          0.8504366206285648,
          0.9379999767747391,
          0.9881682338770005,
          0.998941341839772,
          0.9698898108450859,
          0.9021718337562933,
          0.7984871126234893,
          0.662969230082182,
          0.5010208564578832,
          0.3190983623493504,
          0.1244544235070617,
          -0.07515112046181108,
          -0.2717606264109442,
          -0.45753589377532294,
          -0.6250706488928834,
          -0.7676858097635836,
          -0.8796957599716709,
          -0.9566350162701884,
          -0.9954362533063775,
          -0.9945525882039891,
          -0.9540192499020884,
          -0.8754521746884276,
          -0.7619835839190321,
          -0.6181371122370319,
          -0.44964746453459986,
          -0.2632317913657993,
          -0.06632189735119892
         ],
         "yaxis": "y"
        },
        {
         "mode": "lines",
         "name": "Approximated",
         "type": "scatter",
         "x": [
          0.05,
          0.15000000000000002,
          0.25000000000000006,
          0.35000000000000003,
          0.45000000000000007,
          0.5500000000000002,
          0.6500000000000001,
          0.7500000000000002,
          0.8500000000000002,
          0.9500000000000002,
          1.0500000000000003,
          1.1500000000000004,
          1.2500000000000002,
          1.3500000000000003,
          1.4500000000000004,
          1.5500000000000003,
          1.6500000000000004,
          1.7500000000000004,
          1.8500000000000003,
          1.9500000000000004,
          2.0500000000000003,
          2.1500000000000004,
          2.2500000000000004,
          2.35,
          2.45,
          2.5500000000000003,
          2.6500000000000004,
          2.7500000000000004,
          2.8500000000000005,
          2.95,
          3.0500000000000003,
          3.1500000000000004,
          3.2500000000000004,
          3.3500000000000005,
          3.4500000000000006,
          3.5500000000000007,
          3.6500000000000004,
          3.7500000000000004,
          3.8500000000000005,
          3.9500000000000006,
          4.050000000000001,
          4.15,
          4.250000000000001,
          4.3500000000000005,
          4.450000000000001,
          4.550000000000001,
          4.65,
          4.750000000000001,
          4.8500000000000005,
          4.950000000000001,
          5.050000000000001,
          5.150000000000001,
          5.250000000000001,
          5.3500000000000005,
          5.450000000000001,
          5.550000000000001,
          5.650000000000001,
          5.750000000000001,
          5.8500000000000005,
          5.950000000000001,
          6.050000000000001,
          6.150000000000001,
          6.250000000000001
         ],
         "xaxis": "x",
         "y": [
          1.6659272645172412,
          1.6663608624014392,
          1.63988703380188,
          1.5851381926595955,
          1.5016074077253603,
          1.3897402532265437,
          1.250988484496563,
          1.0878200156598696,
          0.9036819346639506,
          0.7029158741010649,
          0.490627793173486,
          0.27251692866383687,
          0.05467115113504507,
          -0.15666195877507794,
          -0.35531746699748845,
          -0.5354571490649931,
          -0.6918033626548634,
          -0.8198513751537524,
          -0.9160499978222909,
          -0.9779421516236209,
          -1.0042591965797218,
          -0.9949653370463569,
          -0.9512509986752502,
          -0.8754765914765467,
          -0.7710703765770602,
          -0.6423861193672991,
          -0.49452775212343697,
          -0.33314933813911535,
          -0.16423921966495883,
          0.006102628604322951,
          0.17188527487487518,
          0.32743734778533085,
          0.4676000320003763,
          0.5878961681827157,
          0.6846701784521106,
          0.7551946914210822,
          0.7977409249779529,
          0.8116110900097139,
          0.7971323054948612,
          0.755612769717533,
          0.6892622134476495,
          0.6010799552294128,
          0.49471515380099,
          0.37430505421814647,
          0.244298079337815,
          0.10926944100786376,
          -0.026262552997366035,
          -0.1580112184027077,
          -0.28207931647104334,
          -0.39509288716006363,
          -0.49430529244219773,
          -0.577667353006028,
          -0.6438614327217667,
          -0.6922994433317405,
          -0.7230868466260713,
          -0.736956659006327,
          -0.7351790636561889,
          -0.719453388111789,
          -0.6917898317748321,
          -0.6543884006079445,
          -0.6095220480905283,
          -0.5594301027385522,
          -0.5062267908482523
         ],
         "yaxis": "y"
        }
       ],
       "layout": {
        "annotations": [
         {
          "font": {
           "size": 16
          },
          "showarrow": false,
          "text": "Validation with n=10",
          "x": 0.225,
          "xanchor": "center",
          "xref": "paper",
          "y": 1,
          "yanchor": "bottom",
          "yref": "paper"
         },
         {
          "font": {
           "size": 16
          },
          "showarrow": false,
          "text": "Residual error",
          "x": 0.775,
          "xanchor": "center",
          "xref": "paper",
          "y": 1,
          "yanchor": "bottom",
          "yref": "paper"
         }
        ],
        "template": {
         "data": {
          "bar": [
           {
            "error_x": {
             "color": "#2a3f5f"
            },
            "error_y": {
             "color": "#2a3f5f"
            },
            "marker": {
             "line": {
              "color": "#E5ECF6",
              "width": 0.5
             }
            },
            "type": "bar"
           }
          ],
          "barpolar": [
           {
            "marker": {
             "line": {
              "color": "#E5ECF6",
              "width": 0.5
             }
            },
            "type": "barpolar"
           }
          ],
          "carpet": [
           {
            "aaxis": {
             "endlinecolor": "#2a3f5f",
             "gridcolor": "white",
             "linecolor": "white",
             "minorgridcolor": "white",
             "startlinecolor": "#2a3f5f"
            },
            "baxis": {
             "endlinecolor": "#2a3f5f",
             "gridcolor": "white",
             "linecolor": "white",
             "minorgridcolor": "white",
             "startlinecolor": "#2a3f5f"
            },
            "type": "carpet"
           }
          ],
          "choropleth": [
           {
            "colorbar": {
             "outlinewidth": 0,
             "ticks": ""
            },
            "type": "choropleth"
           }
          ],
          "contour": [
           {
            "colorbar": {
             "outlinewidth": 0,
             "ticks": ""
            },
            "colorscale": [
             [
              0,
              "#0d0887"
             ],
             [
              0.1111111111111111,
              "#46039f"
             ],
             [
              0.2222222222222222,
              "#7201a8"
             ],
             [
              0.3333333333333333,
              "#9c179e"
             ],
             [
              0.4444444444444444,
              "#bd3786"
             ],
             [
              0.5555555555555556,
              "#d8576b"
             ],
             [
              0.6666666666666666,
              "#ed7953"
             ],
             [
              0.7777777777777778,
              "#fb9f3a"
             ],
             [
              0.8888888888888888,
              "#fdca26"
             ],
             [
              1,
              "#f0f921"
             ]
            ],
            "type": "contour"
           }
          ],
          "contourcarpet": [
           {
            "colorbar": {
             "outlinewidth": 0,
             "ticks": ""
            },
            "type": "contourcarpet"
           }
          ],
          "heatmap": [
           {
            "colorbar": {
             "outlinewidth": 0,
             "ticks": ""
            },
            "colorscale": [
             [
              0,
              "#0d0887"
             ],
             [
              0.1111111111111111,
              "#46039f"
             ],
             [
              0.2222222222222222,
              "#7201a8"
             ],
             [
              0.3333333333333333,
              "#9c179e"
             ],
             [
              0.4444444444444444,
              "#bd3786"
             ],
             [
              0.5555555555555556,
              "#d8576b"
             ],
             [
              0.6666666666666666,
              "#ed7953"
             ],
             [
              0.7777777777777778,
              "#fb9f3a"
             ],
             [
              0.8888888888888888,
              "#fdca26"
             ],
             [
              1,
              "#f0f921"
             ]
            ],
            "type": "heatmap"
           }
          ],
          "heatmapgl": [
           {
            "colorbar": {
             "outlinewidth": 0,
             "ticks": ""
            },
            "colorscale": [
             [
              0,
              "#0d0887"
             ],
             [
              0.1111111111111111,
              "#46039f"
             ],
             [
              0.2222222222222222,
              "#7201a8"
             ],
             [
              0.3333333333333333,
              "#9c179e"
             ],
             [
              0.4444444444444444,
              "#bd3786"
             ],
             [
              0.5555555555555556,
              "#d8576b"
             ],
             [
              0.6666666666666666,
              "#ed7953"
             ],
             [
              0.7777777777777778,
              "#fb9f3a"
             ],
             [
              0.8888888888888888,
              "#fdca26"
             ],
             [
              1,
              "#f0f921"
             ]
            ],
            "type": "heatmapgl"
           }
          ],
          "histogram": [
           {
            "marker": {
             "colorbar": {
              "outlinewidth": 0,
              "ticks": ""
             }
            },
            "type": "histogram"
           }
          ],
          "histogram2d": [
           {
            "colorbar": {
             "outlinewidth": 0,
             "ticks": ""
            },
            "colorscale": [
             [
              0,
              "#0d0887"
             ],
             [
              0.1111111111111111,
              "#46039f"
             ],
             [
              0.2222222222222222,
              "#7201a8"
             ],
             [
              0.3333333333333333,
              "#9c179e"
             ],
             [
              0.4444444444444444,
              "#bd3786"
             ],
             [
              0.5555555555555556,
              "#d8576b"
             ],
             [
              0.6666666666666666,
              "#ed7953"
             ],
             [
              0.7777777777777778,
              "#fb9f3a"
             ],
             [
              0.8888888888888888,
              "#fdca26"
             ],
             [
              1,
              "#f0f921"
             ]
            ],
            "type": "histogram2d"
           }
          ],
          "histogram2dcontour": [
           {
            "colorbar": {
             "outlinewidth": 0,
             "ticks": ""
            },
            "colorscale": [
             [
              0,
              "#0d0887"
             ],
             [
              0.1111111111111111,
              "#46039f"
             ],
             [
              0.2222222222222222,
              "#7201a8"
             ],
             [
              0.3333333333333333,
              "#9c179e"
             ],
             [
              0.4444444444444444,
              "#bd3786"
             ],
             [
              0.5555555555555556,
              "#d8576b"
             ],
             [
              0.6666666666666666,
              "#ed7953"
             ],
             [
              0.7777777777777778,
              "#fb9f3a"
             ],
             [
              0.8888888888888888,
              "#fdca26"
             ],
             [
              1,
              "#f0f921"
             ]
            ],
            "type": "histogram2dcontour"
           }
          ],
          "mesh3d": [
           {
            "colorbar": {
             "outlinewidth": 0,
             "ticks": ""
            },
            "type": "mesh3d"
           }
          ],
          "parcoords": [
           {
            "line": {
             "colorbar": {
              "outlinewidth": 0,
              "ticks": ""
             }
            },
            "type": "parcoords"
           }
          ],
          "pie": [
           {
            "automargin": true,
            "type": "pie"
           }
          ],
          "scatter": [
           {
            "marker": {
             "colorbar": {
              "outlinewidth": 0,
              "ticks": ""
             }
            },
            "type": "scatter"
           }
          ],
          "scatter3d": [
           {
            "line": {
             "colorbar": {
              "outlinewidth": 0,
              "ticks": ""
             }
            },
            "marker": {
             "colorbar": {
              "outlinewidth": 0,
              "ticks": ""
             }
            },
            "type": "scatter3d"
           }
          ],
          "scattercarpet": [
           {
            "marker": {
             "colorbar": {
              "outlinewidth": 0,
              "ticks": ""
             }
            },
            "type": "scattercarpet"
           }
          ],
          "scattergeo": [
           {
            "marker": {
             "colorbar": {
              "outlinewidth": 0,
              "ticks": ""
             }
            },
            "type": "scattergeo"
           }
          ],
          "scattergl": [
           {
            "marker": {
             "colorbar": {
              "outlinewidth": 0,
              "ticks": ""
             }
            },
            "type": "scattergl"
           }
          ],
          "scattermapbox": [
           {
            "marker": {
             "colorbar": {
              "outlinewidth": 0,
              "ticks": ""
             }
            },
            "type": "scattermapbox"
           }
          ],
          "scatterpolar": [
           {
            "marker": {
             "colorbar": {
              "outlinewidth": 0,
              "ticks": ""
             }
            },
            "type": "scatterpolar"
           }
          ],
          "scatterpolargl": [
           {
            "marker": {
             "colorbar": {
              "outlinewidth": 0,
              "ticks": ""
             }
            },
            "type": "scatterpolargl"
           }
          ],
          "scatterternary": [
           {
            "marker": {
             "colorbar": {
              "outlinewidth": 0,
              "ticks": ""
             }
            },
            "type": "scatterternary"
           }
          ],
          "surface": [
           {
            "colorbar": {
             "outlinewidth": 0,
             "ticks": ""
            },
            "colorscale": [
             [
              0,
              "#0d0887"
             ],
             [
              0.1111111111111111,
              "#46039f"
             ],
             [
              0.2222222222222222,
              "#7201a8"
             ],
             [
              0.3333333333333333,
              "#9c179e"
             ],
             [
              0.4444444444444444,
              "#bd3786"
             ],
             [
              0.5555555555555556,
              "#d8576b"
             ],
             [
              0.6666666666666666,
              "#ed7953"
             ],
             [
              0.7777777777777778,
              "#fb9f3a"
             ],
             [
              0.8888888888888888,
              "#fdca26"
             ],
             [
              1,
              "#f0f921"
             ]
            ],
            "type": "surface"
           }
          ],
          "table": [
           {
            "cells": {
             "fill": {
              "color": "#EBF0F8"
             },
             "line": {
              "color": "white"
             }
            },
            "header": {
             "fill": {
              "color": "#C8D4E3"
             },
             "line": {
              "color": "white"
             }
            },
            "type": "table"
           }
          ]
         },
         "layout": {
          "annotationdefaults": {
           "arrowcolor": "#2a3f5f",
           "arrowhead": 0,
           "arrowwidth": 1
          },
          "coloraxis": {
           "colorbar": {
            "outlinewidth": 0,
            "ticks": ""
           }
          },
          "colorscale": {
           "diverging": [
            [
             0,
             "#8e0152"
            ],
            [
             0.1,
             "#c51b7d"
            ],
            [
             0.2,
             "#de77ae"
            ],
            [
             0.3,
             "#f1b6da"
            ],
            [
             0.4,
             "#fde0ef"
            ],
            [
             0.5,
             "#f7f7f7"
            ],
            [
             0.6,
             "#e6f5d0"
            ],
            [
             0.7,
             "#b8e186"
            ],
            [
             0.8,
             "#7fbc41"
            ],
            [
             0.9,
             "#4d9221"
            ],
            [
             1,
             "#276419"
            ]
           ],
           "sequential": [
            [
             0,
             "#0d0887"
            ],
            [
             0.1111111111111111,
             "#46039f"
            ],
            [
             0.2222222222222222,
             "#7201a8"
            ],
            [
             0.3333333333333333,
             "#9c179e"
            ],
            [
             0.4444444444444444,
             "#bd3786"
            ],
            [
             0.5555555555555556,
             "#d8576b"
            ],
            [
             0.6666666666666666,
             "#ed7953"
            ],
            [
             0.7777777777777778,
             "#fb9f3a"
            ],
            [
             0.8888888888888888,
             "#fdca26"
            ],
            [
             1,
             "#f0f921"
            ]
           ],
           "sequentialminus": [
            [
             0,
             "#0d0887"
            ],
            [
             0.1111111111111111,
             "#46039f"
            ],
            [
             0.2222222222222222,
             "#7201a8"
            ],
            [
             0.3333333333333333,
             "#9c179e"
            ],
            [
             0.4444444444444444,
             "#bd3786"
            ],
            [
             0.5555555555555556,
             "#d8576b"
            ],
            [
             0.6666666666666666,
             "#ed7953"
            ],
            [
             0.7777777777777778,
             "#fb9f3a"
            ],
            [
             0.8888888888888888,
             "#fdca26"
            ],
            [
             1,
             "#f0f921"
            ]
           ]
          },
          "colorway": [
           "#636efa",
           "#EF553B",
           "#00cc96",
           "#ab63fa",
           "#FFA15A",
           "#19d3f3",
           "#FF6692",
           "#B6E880",
           "#FF97FF",
           "#FECB52"
          ],
          "font": {
           "color": "#2a3f5f"
          },
          "geo": {
           "bgcolor": "white",
           "lakecolor": "white",
           "landcolor": "#E5ECF6",
           "showlakes": true,
           "showland": true,
           "subunitcolor": "white"
          },
          "hoverlabel": {
           "align": "left"
          },
          "hovermode": "closest",
          "mapbox": {
           "style": "light"
          },
          "paper_bgcolor": "white",
          "plot_bgcolor": "#E5ECF6",
          "polar": {
           "angularaxis": {
            "gridcolor": "white",
            "linecolor": "white",
            "ticks": ""
           },
           "bgcolor": "#E5ECF6",
           "radialaxis": {
            "gridcolor": "white",
            "linecolor": "white",
            "ticks": ""
           }
          },
          "scene": {
           "xaxis": {
            "backgroundcolor": "#E5ECF6",
            "gridcolor": "white",
            "gridwidth": 2,
            "linecolor": "white",
            "showbackground": true,
            "ticks": "",
            "zerolinecolor": "white"
           },
           "yaxis": {
            "backgroundcolor": "#E5ECF6",
            "gridcolor": "white",
            "gridwidth": 2,
            "linecolor": "white",
            "showbackground": true,
            "ticks": "",
            "zerolinecolor": "white"
           },
           "zaxis": {
            "backgroundcolor": "#E5ECF6",
            "gridcolor": "white",
            "gridwidth": 2,
            "linecolor": "white",
            "showbackground": true,
            "ticks": "",
            "zerolinecolor": "white"
           }
          },
          "shapedefaults": {
           "line": {
            "color": "#2a3f5f"
           }
          },
          "ternary": {
           "aaxis": {
            "gridcolor": "white",
            "linecolor": "white",
            "ticks": ""
           },
           "baxis": {
            "gridcolor": "white",
            "linecolor": "white",
            "ticks": ""
           },
           "bgcolor": "#E5ECF6",
           "caxis": {
            "gridcolor": "white",
            "linecolor": "white",
            "ticks": ""
           }
          },
          "title": {
           "x": 0.05
          },
          "xaxis": {
           "automargin": true,
           "gridcolor": "white",
           "linecolor": "white",
           "ticks": "",
           "title": {
            "standoff": 15
           },
           "zerolinecolor": "white",
           "zerolinewidth": 2
          },
          "yaxis": {
           "automargin": true,
           "gridcolor": "white",
           "linecolor": "white",
           "ticks": "",
           "title": {
            "standoff": 15
           },
           "zerolinecolor": "white",
           "zerolinewidth": 2
          }
         }
        },
        "xaxis": {
         "anchor": "y",
         "domain": [
          0,
          0.45
         ]
        },
        "xaxis2": {
         "anchor": "y2",
         "domain": [
          0.55,
          1
         ]
        },
        "yaxis": {
         "anchor": "x",
         "domain": [
          0,
          1
         ]
        },
        "yaxis2": {
         "anchor": "x2",
         "domain": [
          0,
          1
         ]
        }
       }
      }
     },
     "metadata": {}
    },
    {
     "output_type": "stream",
     "name": "stdout",
     "text": "0.8573057348528903\n"
    }
   ],
   "source": [
    "x, sin_data, sqr_data = data_gen(0, 2*np.pi)\n",
    "t_x, t_sin_data, t_sqr_data = data_gen(0.05, 2*np.pi)\n",
    "\n",
    "n = 10\n",
    "epochs = 10\n",
    "\n",
    "RBFNet = RBF_Network(n, x, eta=1e-1, useDelta=True)\n",
    "RBFNet.init_cl(x, 100, 1e-1) # Uncomment this to use CL initialization\n",
    "RBFNet.train_network(epochs, x, sin_data, t_x, t_sin_data)\n",
    "res_error = RBFNet.validate(t_x, t_sin_data, _plot=True)\n",
    "\n",
    "print(res_error)"
   ]
  },
  {
   "source": [
    "Testing different n for least square method"
   ],
   "cell_type": "markdown",
   "metadata": {}
  },
  {
   "cell_type": "code",
   "execution_count": 234,
   "metadata": {},
   "outputs": [
    {
     "output_type": "display_data",
     "data": {
      "application/vnd.plotly.v1+json": {
       "config": {
        "plotlyServerURL": "https://plot.ly"
       },
       "data": [
        {
         "mode": "lines",
         "name": "error",
         "type": "scatter",
         "x": [
          0,
          1,
          2,
          3,
          4,
          5,
          6,
          7,
          8
         ],
         "xaxis": "x2",
         "y": [
          0.6347400990258355,
          0.5910421877305674,
          0.5579267055718891,
          0.5133123015289263,
          0.5133123015289262,
          0.08199061128107998,
          0.07545365277302987,
          0.07545365277302983,
          0.07567556759768827
         ],
         "yaxis": "y2"
        },
        {
         "mode": "lines",
         "name": "Original",
         "type": "scatter",
         "x": [
          0.05,
          0.15000000000000002,
          0.25000000000000006,
          0.35000000000000003,
          0.45000000000000007,
          0.5500000000000002,
          0.6500000000000001,
          0.7500000000000002,
          0.8500000000000002,
          0.9500000000000002,
          1.0500000000000003,
          1.1500000000000004,
          1.2500000000000002,
          1.3500000000000003,
          1.4500000000000004,
          1.5500000000000003,
          1.6500000000000004,
          1.7500000000000004,
          1.8500000000000003,
          1.9500000000000004,
          2.0500000000000003,
          2.1500000000000004,
          2.2500000000000004,
          2.35,
          2.45,
          2.5500000000000003,
          2.6500000000000004,
          2.7500000000000004,
          2.8500000000000005,
          2.95,
          3.0500000000000003,
          3.1500000000000004,
          3.2500000000000004,
          3.3500000000000005,
          3.4500000000000006,
          3.5500000000000007,
          3.6500000000000004,
          3.7500000000000004,
          3.8500000000000005,
          3.9500000000000006,
          4.050000000000001,
          4.15,
          4.250000000000001,
          4.3500000000000005,
          4.450000000000001,
          4.550000000000001,
          4.65,
          4.750000000000001,
          4.8500000000000005,
          4.950000000000001,
          5.050000000000001,
          5.150000000000001,
          5.250000000000001,
          5.3500000000000005,
          5.450000000000001,
          5.550000000000001,
          5.650000000000001,
          5.750000000000001,
          5.8500000000000005,
          5.950000000000001,
          6.050000000000001,
          6.150000000000001,
          6.250000000000001
         ],
         "xaxis": "x",
         "y": [
          0,
          0.19866933079506122,
          0.3894183423086505,
          0.5646424733950355,
          0.7173560908995228,
          0.8414709848078965,
          0.9320390859672264,
          0.9854497299884603,
          0.9995736030415051,
          0.9738476308781951,
          0.9092974268256817,
          0.8084964038195901,
          0.6754631805511506,
          0.5155013718214642,
          0.33498815015590466,
          0.1411200080598672,
          -0.058374143427580086,
          -0.25554110202683167,
          -0.44252044329485246,
          -0.6118578909427193,
          -0.7568024953079282,
          -0.8715757724135882,
          -0.951602073889516,
          -0.9936910036334645,
          -0.9961646088358406,
          -0.9589242746631385,
          -0.8834546557201531,
          -0.7727644875559871,
          -0.6312666378723208,
          -0.4646021794137566,
          -0.27941549819892586,
          -0.0830894028174964,
          0.11654920485049364,
          0.3115413635133787,
          0.49411335113860894,
          0.6569865987187891,
          0.7936678638491531,
          0.8987080958116269,
          0.9679196720314865,
          0.998543345374605,
          0.9893582466233818,
          0.9407305566797726,
          0.8545989080882804,
          0.7343970978741133,
          0.5849171928917617,
          0.4121184852417566,
          0.22288991410024592,
          0.024775425453357765,
          -0.1743267812229814,
          -0.3664791292519284,
          -0.5440211108893698,
          -0.6998746875935437,
          -0.8278264690856537,
          -0.9227754216128073,
          -0.9809362300664916,
          -0.9999902065507035,
          -0.979177729151317,
          -0.9193285256646757,
          -0.8228285949687079,
          -0.6935250847771224,
          -0.5365729180004349,
          -0.35822928223682704,
          -0.1656041754483094
         ],
         "yaxis": "y"
        },
        {
         "mode": "lines",
         "name": "n=1",
         "type": "scatter",
         "x": [
          0.05,
          0.15000000000000002,
          0.25000000000000006,
          0.35000000000000003,
          0.45000000000000007,
          0.5500000000000002,
          0.6500000000000001,
          0.7500000000000002,
          0.8500000000000002,
          0.9500000000000002,
          1.0500000000000003,
          1.1500000000000004,
          1.2500000000000002,
          1.3500000000000003,
          1.4500000000000004,
          1.5500000000000003,
          1.6500000000000004,
          1.7500000000000004,
          1.8500000000000003,
          1.9500000000000004,
          2.0500000000000003,
          2.1500000000000004,
          2.2500000000000004,
          2.35,
          2.45,
          2.5500000000000003,
          2.6500000000000004,
          2.7500000000000004,
          2.8500000000000005,
          2.95,
          3.0500000000000003,
          3.1500000000000004,
          3.2500000000000004,
          3.3500000000000005,
          3.4500000000000006,
          3.5500000000000007,
          3.6500000000000004,
          3.7500000000000004,
          3.8500000000000005,
          3.9500000000000006,
          4.050000000000001,
          4.15,
          4.250000000000001,
          4.3500000000000005,
          4.450000000000001,
          4.550000000000001,
          4.65,
          4.750000000000001,
          4.8500000000000005,
          4.950000000000001,
          5.050000000000001,
          5.150000000000001,
          5.250000000000001,
          5.3500000000000005,
          5.450000000000001,
          5.550000000000001,
          5.650000000000001,
          5.750000000000001,
          5.8500000000000005,
          5.950000000000001,
          6.050000000000001,
          6.150000000000001,
          6.250000000000001
         ],
         "xaxis": "x",
         "y": [
          0.3206046963532984,
          0.34369114321849364,
          0.3647278168184064,
          0.38313914382887526,
          0.39839340362678727,
          0.4100259543187205,
          0.41766012885663667,
          0.4210244798895415,
          0.41996527122463373,
          0.4144534269202026,
          0.40458552935846925,
          0.39057887109888956,
          0.37276097422450705,
          0.35155435816236746,
          0.3274576301748155,
          0.30102416771323004,
          0.27283974517591764,
          0.24350042779268571,
          0.21359192242899602,
          0.18367135900792034,
          0.15425220401323791,
          0.12579270976310053,
          0.09868801029713246,
          0.07326571370307816,
          0.04978463213491427,
          0.0284361472404513,
          0.009347634220473315,
          -0.007412641789963635,
          -0.021829698569482397,
          -0.03393553654423764,
          -0.04380271722938775,
          -0.05153806127467942,
          -0.05727660545899711,
          -0.06117587641683328,
          -0.06341048331365962,
          -0.06416700346212505,
          -0.06363913124395293,
          -0.06202307587898123,
          -0.05951322001284359,
          -0.056298080814867,
          -0.05255664110999457,
          -0.048455134531989866,
          -0.04414437253569001,
          -0.039757691484507286,
          -0.03540957625555893,
          -0.03119498589862523,
          -0.027189370922033947,
          -0.023449335193640685,
          -0.020013862389321884,
          -0.01690600075034368,
          -0.014134882854340116,
          -0.011697950132939498,
          -0.009583254743023144,
          -0.007771722864466047,
          -0.006239281577919933,
          -0.004958773803562183,
          -0.0039016099198671862,
          -0.003039128401793709,
          -0.0023436593001672293,
          -0.0017893023331458848,
          -0.0013524450402307127,
          -0.0010120556468421315,
          -0.0007497902284452519
         ],
         "yaxis": "y"
        },
        {
         "mode": "lines",
         "name": "n=3",
         "type": "scatter",
         "x": [
          0.05,
          0.15000000000000002,
          0.25000000000000006,
          0.35000000000000003,
          0.45000000000000007,
          0.5500000000000002,
          0.6500000000000001,
          0.7500000000000002,
          0.8500000000000002,
          0.9500000000000002,
          1.0500000000000003,
          1.1500000000000004,
          1.2500000000000002,
          1.3500000000000003,
          1.4500000000000004,
          1.5500000000000003,
          1.6500000000000004,
          1.7500000000000004,
          1.8500000000000003,
          1.9500000000000004,
          2.0500000000000003,
          2.1500000000000004,
          2.2500000000000004,
          2.35,
          2.45,
          2.5500000000000003,
          2.6500000000000004,
          2.7500000000000004,
          2.8500000000000005,
          2.95,
          3.0500000000000003,
          3.1500000000000004,
          3.2500000000000004,
          3.3500000000000005,
          3.4500000000000006,
          3.5500000000000007,
          3.6500000000000004,
          3.7500000000000004,
          3.8500000000000005,
          3.9500000000000006,
          4.050000000000001,
          4.15,
          4.250000000000001,
          4.3500000000000005,
          4.450000000000001,
          4.550000000000001,
          4.65,
          4.750000000000001,
          4.8500000000000005,
          4.950000000000001,
          5.050000000000001,
          5.150000000000001,
          5.250000000000001,
          5.3500000000000005,
          5.450000000000001,
          5.550000000000001,
          5.650000000000001,
          5.750000000000001,
          5.8500000000000005,
          5.950000000000001,
          6.050000000000001,
          6.150000000000001,
          6.250000000000001
         ],
         "xaxis": "x",
         "y": [
          1.0313033805596932,
          0.986187279888648,
          0.9262580932848644,
          0.8530871474819648,
          0.768772911506315,
          0.6758488652751314,
          0.5771659516583078,
          0.47575726022843146,
          0.3746939017206298,
          0.27694156794807673,
          0.18522699219846386,
          0.10192247597092388,
          0.028954954617804854,
          -0.032256075093729616,
          -0.08082982182290893,
          -0.11642508901704259,
          -0.13921335859587233,
          -0.14982837639434754,
          -0.14929775224257041,
          -0.13896270716466821,
          -0.12039214452356516,
          -0.09529675947174399,
          -0.06544804352792308,
          -0.03260592534331168,
          0.001542442224142405,
          0.03543145265075002,
          0.06765316703123966,
          0.09698146795610849,
          0.12238557542838287,
          0.14303465290807763,
          0.15829540030702197,
          0.16772450733000935,
          0.1710576726050561,
          0.16819663105332072,
          0.15919531903239123,
          0.14424598081757325,
          0.12366570813078577,
          0.09788362471156292,
          0.06742869116440298,
          0.032917917619676884,
          -0.0049553631559430674,
          -0.04543358872497618,
          -0.08770787327212293,
          -0.13093213483668464,
          -0.17423875123978516,
          -0.21675589628106084,
          -0.2576265043960016,
          -0.29602857653585296,
          -0.33119629352118735,
          -0.3624411708869841,
          -0.38917229853539437,
          -0.41091458522699303,
          -0.42732389305226587,
          -0.4381980133775224,
          -0.4434826056915219,
          -0.44327148504303854,
          -0.4378009819711407,
          -0.4274384814445847,
          -0.4126656388980853,
          -0.39405713473102044,
          -0.3722561289300893,
          -0.34794778669403764,
          -0.3218323457152393
         ],
         "yaxis": "y"
        },
        {
         "mode": "lines",
         "name": "n=5",
         "type": "scatter",
         "x": [
          0.05,
          0.15000000000000002,
          0.25000000000000006,
          0.35000000000000003,
          0.45000000000000007,
          0.5500000000000002,
          0.6500000000000001,
          0.7500000000000002,
          0.8500000000000002,
          0.9500000000000002,
          1.0500000000000003,
          1.1500000000000004,
          1.2500000000000002,
          1.3500000000000003,
          1.4500000000000004,
          1.5500000000000003,
          1.6500000000000004,
          1.7500000000000004,
          1.8500000000000003,
          1.9500000000000004,
          2.0500000000000003,
          2.1500000000000004,
          2.2500000000000004,
          2.35,
          2.45,
          2.5500000000000003,
          2.6500000000000004,
          2.7500000000000004,
          2.8500000000000005,
          2.95,
          3.0500000000000003,
          3.1500000000000004,
          3.2500000000000004,
          3.3500000000000005,
          3.4500000000000006,
          3.5500000000000007,
          3.6500000000000004,
          3.7500000000000004,
          3.8500000000000005,
          3.9500000000000006,
          4.050000000000001,
          4.15,
          4.250000000000001,
          4.3500000000000005,
          4.450000000000001,
          4.550000000000001,
          4.65,
          4.750000000000001,
          4.8500000000000005,
          4.950000000000001,
          5.050000000000001,
          5.150000000000001,
          5.250000000000001,
          5.3500000000000005,
          5.450000000000001,
          5.550000000000001,
          5.650000000000001,
          5.750000000000001,
          5.8500000000000005,
          5.950000000000001,
          6.050000000000001,
          6.150000000000001,
          6.250000000000001
         ],
         "xaxis": "x",
         "y": [
          0.21377439314669686,
          0.3462397482329871,
          0.47843086666225454,
          0.6046284913687046,
          0.718812211036593,
          0.8149691704680683,
          0.8874319092693905,
          0.931225234623414,
          0.9423998792195728,
          0.9183300779267235,
          0.8579532305537544,
          0.7619324880528643,
          0.6327272646972188,
          0.4745620848892393,
          0.2932904734363408,
          0.09615737801906102,
          -0.10852958209900587,
          -0.3118033823860935,
          -0.5044932417065849,
          -0.6777063444367482,
          -0.8233067860453075,
          -0.9343622286898283,
          -1.0055300919310415,
          -1.0333584315592133,
          -1.0164818151806652,
          -0.9556991746864424,
          -0.8539283525749926,
          -0.7160402993154091,
          -0.5485839907587676,
          -0.35942047063307137,
          -0.157290381723482,
          0.04865656382764529,
          0.24933984243188467,
          0.43620422766624894,
          0.6016265801114675,
          0.7392508155600818,
          0.8442347019953591,
          0.9133991790978727,
          0.9452781734076074,
          0.9400737582154711,
          0.8995274226934897,
          0.8267227494749261,
          0.725837705265304,
          0.6018659597284839,
          0.4603262702443295,
          0.3069772512349274,
          0.14755212952424043,
          -0.012475240685557921,
          -0.16808538554440725,
          -0.3148649726577583,
          -0.44911413794554716,
          -0.5679107379639184,
          -0.6691348241731786,
          -0.7514579655282363,
          -0.8143028322063246,
          -0.8577787956120728,
          -0.8825993099169182,
          -0.8899866234015805,
          -0.8815690089006423,
          -0.8592752606442646,
          -0.8252307127894715,
          -0.7816585052698871,
          -0.7307892549932535
         ],
         "yaxis": "y"
        },
        {
         "mode": "lines",
         "name": "n=7",
         "type": "scatter",
         "x": [
          0.05,
          0.15000000000000002,
          0.25000000000000006,
          0.35000000000000003,
          0.45000000000000007,
          0.5500000000000002,
          0.6500000000000001,
          0.7500000000000002,
          0.8500000000000002,
          0.9500000000000002,
          1.0500000000000003,
          1.1500000000000004,
          1.2500000000000002,
          1.3500000000000003,
          1.4500000000000004,
          1.5500000000000003,
          1.6500000000000004,
          1.7500000000000004,
          1.8500000000000003,
          1.9500000000000004,
          2.0500000000000003,
          2.1500000000000004,
          2.2500000000000004,
          2.35,
          2.45,
          2.5500000000000003,
          2.6500000000000004,
          2.7500000000000004,
          2.8500000000000005,
          2.95,
          3.0500000000000003,
          3.1500000000000004,
          3.2500000000000004,
          3.3500000000000005,
          3.4500000000000006,
          3.5500000000000007,
          3.6500000000000004,
          3.7500000000000004,
          3.8500000000000005,
          3.9500000000000006,
          4.050000000000001,
          4.15,
          4.250000000000001,
          4.3500000000000005,
          4.450000000000001,
          4.550000000000001,
          4.65,
          4.750000000000001,
          4.8500000000000005,
          4.950000000000001,
          5.050000000000001,
          5.150000000000001,
          5.250000000000001,
          5.3500000000000005,
          5.450000000000001,
          5.550000000000001,
          5.650000000000001,
          5.750000000000001,
          5.8500000000000005,
          5.950000000000001,
          6.050000000000001,
          6.150000000000001,
          6.250000000000001
         ],
         "xaxis": "x",
         "y": [
          0.1643219769469384,
          0.3090701077514696,
          0.4543004560865718,
          0.593750261928662,
          0.7208062193922496,
          0.8288447775453656,
          0.9116054487527069,
          0.9635748495775981,
          0.9803567562310833,
          0.9590027246848257,
          0.8982789360010874,
          0.7988478670036524,
          0.6633480004948539,
          0.4963607959100812,
          0.304261154130294,
          0.09495516635462742,
          -0.12248347165607204,
          -0.33825989370282705,
          -0.5423627446804926,
          -0.7250978393246313,
          -0.8776186810553409,
          -0.9924209693160281,
          -1.0637696994958783,
          -1.0880311500067847,
          -1.0638877752541478,
          -0.9924214333369643,
          -0.8770589727894175,
          -0.7233833606725554,
          -0.5388225563860147,
          -0.33223650761563367,
          -0.11342930472112198,
          0.10738186518357361,
          0.32010713808138014,
          0.5153003208651035,
          0.6846205760634622,
          0.821213863746116,
          0.9199952196536797,
          0.9778206136624056,
          0.993545103636232,
          0.9679715944805142,
          0.9037011386896598,
          0.8049009270412147,
          0.6770096510285712,
          0.5264016964492303,
          0.36003174888404815,
          0.18508009424624094,
          0.00861650959951889,
          -0.1627024724219458,
          -0.3228916224594003,
          -0.46684263603647974,
          -0.5904729302357187,
          -0.6908162802211641,
          -0.7660566172696042,
          -0.8155085542199825,
          -0.8395500542580214,
          -0.8395141456039695,
          -0.8175477327262336,
          -0.7764463716919615,
          -0.719474351097258,
          -0.6501795246343597,
          -0.5722120481540797,
          -0.489155465934391,
          -0.4043774751882704
         ],
         "yaxis": "y"
        }
       ],
       "layout": {
        "annotations": [
         {
          "font": {
           "size": 16
          },
          "showarrow": false,
          "text": "Validation",
          "x": 0.225,
          "xanchor": "center",
          "xref": "paper",
          "y": 1,
          "yanchor": "bottom",
          "yref": "paper"
         },
         {
          "font": {
           "size": 16
          },
          "showarrow": false,
          "text": "Residual error",
          "x": 0.775,
          "xanchor": "center",
          "xref": "paper",
          "y": 1,
          "yanchor": "bottom",
          "yref": "paper"
         }
        ],
        "template": {
         "data": {
          "bar": [
           {
            "error_x": {
             "color": "#2a3f5f"
            },
            "error_y": {
             "color": "#2a3f5f"
            },
            "marker": {
             "line": {
              "color": "#E5ECF6",
              "width": 0.5
             }
            },
            "type": "bar"
           }
          ],
          "barpolar": [
           {
            "marker": {
             "line": {
              "color": "#E5ECF6",
              "width": 0.5
             }
            },
            "type": "barpolar"
           }
          ],
          "carpet": [
           {
            "aaxis": {
             "endlinecolor": "#2a3f5f",
             "gridcolor": "white",
             "linecolor": "white",
             "minorgridcolor": "white",
             "startlinecolor": "#2a3f5f"
            },
            "baxis": {
             "endlinecolor": "#2a3f5f",
             "gridcolor": "white",
             "linecolor": "white",
             "minorgridcolor": "white",
             "startlinecolor": "#2a3f5f"
            },
            "type": "carpet"
           }
          ],
          "choropleth": [
           {
            "colorbar": {
             "outlinewidth": 0,
             "ticks": ""
            },
            "type": "choropleth"
           }
          ],
          "contour": [
           {
            "colorbar": {
             "outlinewidth": 0,
             "ticks": ""
            },
            "colorscale": [
             [
              0,
              "#0d0887"
             ],
             [
              0.1111111111111111,
              "#46039f"
             ],
             [
              0.2222222222222222,
              "#7201a8"
             ],
             [
              0.3333333333333333,
              "#9c179e"
             ],
             [
              0.4444444444444444,
              "#bd3786"
             ],
             [
              0.5555555555555556,
              "#d8576b"
             ],
             [
              0.6666666666666666,
              "#ed7953"
             ],
             [
              0.7777777777777778,
              "#fb9f3a"
             ],
             [
              0.8888888888888888,
              "#fdca26"
             ],
             [
              1,
              "#f0f921"
             ]
            ],
            "type": "contour"
           }
          ],
          "contourcarpet": [
           {
            "colorbar": {
             "outlinewidth": 0,
             "ticks": ""
            },
            "type": "contourcarpet"
           }
          ],
          "heatmap": [
           {
            "colorbar": {
             "outlinewidth": 0,
             "ticks": ""
            },
            "colorscale": [
             [
              0,
              "#0d0887"
             ],
             [
              0.1111111111111111,
              "#46039f"
             ],
             [
              0.2222222222222222,
              "#7201a8"
             ],
             [
              0.3333333333333333,
              "#9c179e"
             ],
             [
              0.4444444444444444,
              "#bd3786"
             ],
             [
              0.5555555555555556,
              "#d8576b"
             ],
             [
              0.6666666666666666,
              "#ed7953"
             ],
             [
              0.7777777777777778,
              "#fb9f3a"
             ],
             [
              0.8888888888888888,
              "#fdca26"
             ],
             [
              1,
              "#f0f921"
             ]
            ],
            "type": "heatmap"
           }
          ],
          "heatmapgl": [
           {
            "colorbar": {
             "outlinewidth": 0,
             "ticks": ""
            },
            "colorscale": [
             [
              0,
              "#0d0887"
             ],
             [
              0.1111111111111111,
              "#46039f"
             ],
             [
              0.2222222222222222,
              "#7201a8"
             ],
             [
              0.3333333333333333,
              "#9c179e"
             ],
             [
              0.4444444444444444,
              "#bd3786"
             ],
             [
              0.5555555555555556,
              "#d8576b"
             ],
             [
              0.6666666666666666,
              "#ed7953"
             ],
             [
              0.7777777777777778,
              "#fb9f3a"
             ],
             [
              0.8888888888888888,
              "#fdca26"
             ],
             [
              1,
              "#f0f921"
             ]
            ],
            "type": "heatmapgl"
           }
          ],
          "histogram": [
           {
            "marker": {
             "colorbar": {
              "outlinewidth": 0,
              "ticks": ""
             }
            },
            "type": "histogram"
           }
          ],
          "histogram2d": [
           {
            "colorbar": {
             "outlinewidth": 0,
             "ticks": ""
            },
            "colorscale": [
             [
              0,
              "#0d0887"
             ],
             [
              0.1111111111111111,
              "#46039f"
             ],
             [
              0.2222222222222222,
              "#7201a8"
             ],
             [
              0.3333333333333333,
              "#9c179e"
             ],
             [
              0.4444444444444444,
              "#bd3786"
             ],
             [
              0.5555555555555556,
              "#d8576b"
             ],
             [
              0.6666666666666666,
              "#ed7953"
             ],
             [
              0.7777777777777778,
              "#fb9f3a"
             ],
             [
              0.8888888888888888,
              "#fdca26"
             ],
             [
              1,
              "#f0f921"
             ]
            ],
            "type": "histogram2d"
           }
          ],
          "histogram2dcontour": [
           {
            "colorbar": {
             "outlinewidth": 0,
             "ticks": ""
            },
            "colorscale": [
             [
              0,
              "#0d0887"
             ],
             [
              0.1111111111111111,
              "#46039f"
             ],
             [
              0.2222222222222222,
              "#7201a8"
             ],
             [
              0.3333333333333333,
              "#9c179e"
             ],
             [
              0.4444444444444444,
              "#bd3786"
             ],
             [
              0.5555555555555556,
              "#d8576b"
             ],
             [
              0.6666666666666666,
              "#ed7953"
             ],
             [
              0.7777777777777778,
              "#fb9f3a"
             ],
             [
              0.8888888888888888,
              "#fdca26"
             ],
             [
              1,
              "#f0f921"
             ]
            ],
            "type": "histogram2dcontour"
           }
          ],
          "mesh3d": [
           {
            "colorbar": {
             "outlinewidth": 0,
             "ticks": ""
            },
            "type": "mesh3d"
           }
          ],
          "parcoords": [
           {
            "line": {
             "colorbar": {
              "outlinewidth": 0,
              "ticks": ""
             }
            },
            "type": "parcoords"
           }
          ],
          "pie": [
           {
            "automargin": true,
            "type": "pie"
           }
          ],
          "scatter": [
           {
            "marker": {
             "colorbar": {
              "outlinewidth": 0,
              "ticks": ""
             }
            },
            "type": "scatter"
           }
          ],
          "scatter3d": [
           {
            "line": {
             "colorbar": {
              "outlinewidth": 0,
              "ticks": ""
             }
            },
            "marker": {
             "colorbar": {
              "outlinewidth": 0,
              "ticks": ""
             }
            },
            "type": "scatter3d"
           }
          ],
          "scattercarpet": [
           {
            "marker": {
             "colorbar": {
              "outlinewidth": 0,
              "ticks": ""
             }
            },
            "type": "scattercarpet"
           }
          ],
          "scattergeo": [
           {
            "marker": {
             "colorbar": {
              "outlinewidth": 0,
              "ticks": ""
             }
            },
            "type": "scattergeo"
           }
          ],
          "scattergl": [
           {
            "marker": {
             "colorbar": {
              "outlinewidth": 0,
              "ticks": ""
             }
            },
            "type": "scattergl"
           }
          ],
          "scattermapbox": [
           {
            "marker": {
             "colorbar": {
              "outlinewidth": 0,
              "ticks": ""
             }
            },
            "type": "scattermapbox"
           }
          ],
          "scatterpolar": [
           {
            "marker": {
             "colorbar": {
              "outlinewidth": 0,
              "ticks": ""
             }
            },
            "type": "scatterpolar"
           }
          ],
          "scatterpolargl": [
           {
            "marker": {
             "colorbar": {
              "outlinewidth": 0,
              "ticks": ""
             }
            },
            "type": "scatterpolargl"
           }
          ],
          "scatterternary": [
           {
            "marker": {
             "colorbar": {
              "outlinewidth": 0,
              "ticks": ""
             }
            },
            "type": "scatterternary"
           }
          ],
          "surface": [
           {
            "colorbar": {
             "outlinewidth": 0,
             "ticks": ""
            },
            "colorscale": [
             [
              0,
              "#0d0887"
             ],
             [
              0.1111111111111111,
              "#46039f"
             ],
             [
              0.2222222222222222,
              "#7201a8"
             ],
             [
              0.3333333333333333,
              "#9c179e"
             ],
             [
              0.4444444444444444,
              "#bd3786"
             ],
             [
              0.5555555555555556,
              "#d8576b"
             ],
             [
              0.6666666666666666,
              "#ed7953"
             ],
             [
              0.7777777777777778,
              "#fb9f3a"
             ],
             [
              0.8888888888888888,
              "#fdca26"
             ],
             [
              1,
              "#f0f921"
             ]
            ],
            "type": "surface"
           }
          ],
          "table": [
           {
            "cells": {
             "fill": {
              "color": "#EBF0F8"
             },
             "line": {
              "color": "white"
             }
            },
            "header": {
             "fill": {
              "color": "#C8D4E3"
             },
             "line": {
              "color": "white"
             }
            },
            "type": "table"
           }
          ]
         },
         "layout": {
          "annotationdefaults": {
           "arrowcolor": "#2a3f5f",
           "arrowhead": 0,
           "arrowwidth": 1
          },
          "coloraxis": {
           "colorbar": {
            "outlinewidth": 0,
            "ticks": ""
           }
          },
          "colorscale": {
           "diverging": [
            [
             0,
             "#8e0152"
            ],
            [
             0.1,
             "#c51b7d"
            ],
            [
             0.2,
             "#de77ae"
            ],
            [
             0.3,
             "#f1b6da"
            ],
            [
             0.4,
             "#fde0ef"
            ],
            [
             0.5,
             "#f7f7f7"
            ],
            [
             0.6,
             "#e6f5d0"
            ],
            [
             0.7,
             "#b8e186"
            ],
            [
             0.8,
             "#7fbc41"
            ],
            [
             0.9,
             "#4d9221"
            ],
            [
             1,
             "#276419"
            ]
           ],
           "sequential": [
            [
             0,
             "#0d0887"
            ],
            [
             0.1111111111111111,
             "#46039f"
            ],
            [
             0.2222222222222222,
             "#7201a8"
            ],
            [
             0.3333333333333333,
             "#9c179e"
            ],
            [
             0.4444444444444444,
             "#bd3786"
            ],
            [
             0.5555555555555556,
             "#d8576b"
            ],
            [
             0.6666666666666666,
             "#ed7953"
            ],
            [
             0.7777777777777778,
             "#fb9f3a"
            ],
            [
             0.8888888888888888,
             "#fdca26"
            ],
            [
             1,
             "#f0f921"
            ]
           ],
           "sequentialminus": [
            [
             0,
             "#0d0887"
            ],
            [
             0.1111111111111111,
             "#46039f"
            ],
            [
             0.2222222222222222,
             "#7201a8"
            ],
            [
             0.3333333333333333,
             "#9c179e"
            ],
            [
             0.4444444444444444,
             "#bd3786"
            ],
            [
             0.5555555555555556,
             "#d8576b"
            ],
            [
             0.6666666666666666,
             "#ed7953"
            ],
            [
             0.7777777777777778,
             "#fb9f3a"
            ],
            [
             0.8888888888888888,
             "#fdca26"
            ],
            [
             1,
             "#f0f921"
            ]
           ]
          },
          "colorway": [
           "#636efa",
           "#EF553B",
           "#00cc96",
           "#ab63fa",
           "#FFA15A",
           "#19d3f3",
           "#FF6692",
           "#B6E880",
           "#FF97FF",
           "#FECB52"
          ],
          "font": {
           "color": "#2a3f5f"
          },
          "geo": {
           "bgcolor": "white",
           "lakecolor": "white",
           "landcolor": "#E5ECF6",
           "showlakes": true,
           "showland": true,
           "subunitcolor": "white"
          },
          "hoverlabel": {
           "align": "left"
          },
          "hovermode": "closest",
          "mapbox": {
           "style": "light"
          },
          "paper_bgcolor": "white",
          "plot_bgcolor": "#E5ECF6",
          "polar": {
           "angularaxis": {
            "gridcolor": "white",
            "linecolor": "white",
            "ticks": ""
           },
           "bgcolor": "#E5ECF6",
           "radialaxis": {
            "gridcolor": "white",
            "linecolor": "white",
            "ticks": ""
           }
          },
          "scene": {
           "xaxis": {
            "backgroundcolor": "#E5ECF6",
            "gridcolor": "white",
            "gridwidth": 2,
            "linecolor": "white",
            "showbackground": true,
            "ticks": "",
            "zerolinecolor": "white"
           },
           "yaxis": {
            "backgroundcolor": "#E5ECF6",
            "gridcolor": "white",
            "gridwidth": 2,
            "linecolor": "white",
            "showbackground": true,
            "ticks": "",
            "zerolinecolor": "white"
           },
           "zaxis": {
            "backgroundcolor": "#E5ECF6",
            "gridcolor": "white",
            "gridwidth": 2,
            "linecolor": "white",
            "showbackground": true,
            "ticks": "",
            "zerolinecolor": "white"
           }
          },
          "shapedefaults": {
           "line": {
            "color": "#2a3f5f"
           }
          },
          "ternary": {
           "aaxis": {
            "gridcolor": "white",
            "linecolor": "white",
            "ticks": ""
           },
           "baxis": {
            "gridcolor": "white",
            "linecolor": "white",
            "ticks": ""
           },
           "bgcolor": "#E5ECF6",
           "caxis": {
            "gridcolor": "white",
            "linecolor": "white",
            "ticks": ""
           }
          },
          "title": {
           "x": 0.05
          },
          "xaxis": {
           "automargin": true,
           "gridcolor": "white",
           "linecolor": "white",
           "ticks": "",
           "title": {
            "standoff": 15
           },
           "zerolinecolor": "white",
           "zerolinewidth": 2
          },
          "yaxis": {
           "automargin": true,
           "gridcolor": "white",
           "linecolor": "white",
           "ticks": "",
           "title": {
            "standoff": 15
           },
           "zerolinecolor": "white",
           "zerolinewidth": 2
          }
         }
        },
        "xaxis": {
         "anchor": "y",
         "domain": [
          0,
          0.45
         ]
        },
        "xaxis2": {
         "anchor": "y2",
         "domain": [
          0.55,
          1
         ]
        },
        "yaxis": {
         "anchor": "x",
         "domain": [
          0,
          1
         ]
        },
        "yaxis2": {
         "anchor": "x2",
         "domain": [
          0,
          1
         ]
        }
       }
      }
     },
     "metadata": {}
    }
   ],
   "source": [
    "x, sin_data, sqr_data = data_gen(0, 2*np.pi)\n",
    "t_x, t_sin_data, t_sqr_data = data_gen(0.05, 2*np.pi)\n",
    "\n",
    "n_nodes = np.arange(1,10)\n",
    "res_errors = []\n",
    "outputs = []\n",
    "\n",
    "epochs=100\n",
    "\n",
    "for n in n_nodes:\n",
    "    RBFNet = RBF_Network(n, x, useDelta=False, add_noise=False)\n",
    "    RBFNet.train_network(epochs, x, sin_data)\n",
    "    res_errors.append(RBFNet.validate(t_x, t_sin_data))\n",
    "    outputs.append(RBFNet.f_of_x)\n",
    "\n",
    "titles = [\"Validation\", \"Residual error\"]\n",
    "fig = make_subplots(rows=1, cols=2, subplot_titles=(titles[0], titles[1]))\n",
    "\n",
    "fig.add_trace(go.Scatter(x=np.arange(len(res_errors)), y=res_errors, mode=\"lines\", name=\"error\"), row=1, col=2)\n",
    "\n",
    "fig.add_trace(go.Scatter(x=t_x.ravel(), y=sin_data.ravel(), mode=\"lines\", name=\"Original\"), row=1, col=1)\n",
    "\n",
    "for i in range(1, len(outputs), 2):\n",
    "    fig.add_trace(go.Scatter(x=t_x.ravel(), y=outputs[i].ravel(), mode=\"lines\", name=\"n={}\".format(i)), row=1, col=1)\n",
    "\n",
    "fig.show()\n"
   ]
  },
  {
   "cell_type": "code",
   "execution_count": 245,
   "metadata": {},
   "outputs": [
    {
     "output_type": "display_data",
     "data": {
      "application/vnd.plotly.v1+json": {
       "config": {
        "plotlyServerURL": "https://plot.ly"
       },
       "data": [
        {
         "mode": "lines",
         "name": "error",
         "type": "scatter",
         "x": [
          0,
          1,
          2,
          3,
          4,
          5,
          6,
          7,
          8,
          9,
          10,
          11,
          12,
          13,
          14,
          15,
          16,
          17,
          18,
          19,
          20,
          21,
          22,
          23,
          24,
          25,
          26,
          27,
          28
         ],
         "xaxis": "x2",
         "y": [
          0.6475483592136156,
          0.6479364669237523,
          0.7073042523481978,
          0.7501822357332792,
          0.7799685430429303,
          0.7984240620796769,
          0.7968957262767151,
          0.8091301713408777,
          0.8144813718462349,
          0.8117172799116351,
          0.8137611001540608,
          0.810082146693992,
          0.8145869256965154,
          0.8320454097520654,
          0.8169471079500701,
          0.8159479278600084,
          0.8219530292653452,
          0.8227335588709329,
          0.8175154521737381,
          0.8135537253290466,
          0.8160404049155694,
          0.8159216668941929,
          0.8192764597415195,
          0.8131714081501574,
          0.8215543642012922,
          0.8130154702555685,
          0.8163700274431901,
          0.8196363991000314,
          0.8342962786124054
         ],
         "yaxis": "y2"
        },
        {
         "mode": "lines",
         "name": "Original",
         "type": "scatter",
         "x": [
          0.05,
          0.15000000000000002,
          0.25000000000000006,
          0.35000000000000003,
          0.45000000000000007,
          0.5500000000000002,
          0.6500000000000001,
          0.7500000000000002,
          0.8500000000000002,
          0.9500000000000002,
          1.0500000000000003,
          1.1500000000000004,
          1.2500000000000002,
          1.3500000000000003,
          1.4500000000000004,
          1.5500000000000003,
          1.6500000000000004,
          1.7500000000000004,
          1.8500000000000003,
          1.9500000000000004,
          2.0500000000000003,
          2.1500000000000004,
          2.2500000000000004,
          2.35,
          2.45,
          2.5500000000000003,
          2.6500000000000004,
          2.7500000000000004,
          2.8500000000000005,
          2.95,
          3.0500000000000003,
          3.1500000000000004,
          3.2500000000000004,
          3.3500000000000005,
          3.4500000000000006,
          3.5500000000000007,
          3.6500000000000004,
          3.7500000000000004,
          3.8500000000000005,
          3.9500000000000006,
          4.050000000000001,
          4.15,
          4.250000000000001,
          4.3500000000000005,
          4.450000000000001,
          4.550000000000001,
          4.65,
          4.750000000000001,
          4.8500000000000005,
          4.950000000000001,
          5.050000000000001,
          5.150000000000001,
          5.250000000000001,
          5.3500000000000005,
          5.450000000000001,
          5.550000000000001,
          5.650000000000001,
          5.750000000000001,
          5.8500000000000005,
          5.950000000000001,
          6.050000000000001,
          6.150000000000001,
          6.250000000000001
         ],
         "xaxis": "x",
         "y": [
          0,
          0.19866933079506122,
          0.3894183423086505,
          0.5646424733950355,
          0.7173560908995228,
          0.8414709848078965,
          0.9320390859672264,
          0.9854497299884603,
          0.9995736030415051,
          0.9738476308781951,
          0.9092974268256817,
          0.8084964038195901,
          0.6754631805511506,
          0.5155013718214642,
          0.33498815015590466,
          0.1411200080598672,
          -0.058374143427580086,
          -0.25554110202683167,
          -0.44252044329485246,
          -0.6118578909427193,
          -0.7568024953079282,
          -0.8715757724135882,
          -0.951602073889516,
          -0.9936910036334645,
          -0.9961646088358406,
          -0.9589242746631385,
          -0.8834546557201531,
          -0.7727644875559871,
          -0.6312666378723208,
          -0.4646021794137566,
          -0.27941549819892586,
          -0.0830894028174964,
          0.11654920485049364,
          0.3115413635133787,
          0.49411335113860894,
          0.6569865987187891,
          0.7936678638491531,
          0.8987080958116269,
          0.9679196720314865,
          0.998543345374605,
          0.9893582466233818,
          0.9407305566797726,
          0.8545989080882804,
          0.7343970978741133,
          0.5849171928917617,
          0.4121184852417566,
          0.22288991410024592,
          0.024775425453357765,
          -0.1743267812229814,
          -0.3664791292519284,
          -0.5440211108893698,
          -0.6998746875935437,
          -0.8278264690856537,
          -0.9227754216128073,
          -0.9809362300664916,
          -0.9999902065507035,
          -0.979177729151317,
          -0.9193285256646757,
          -0.8228285949687079,
          -0.6935250847771224,
          -0.5365729180004349,
          -0.35822928223682704,
          -0.1656041754483094
         ],
         "yaxis": "y"
        },
        {
         "mode": "lines",
         "name": "n=1",
         "type": "scatter",
         "x": [
          0.05,
          0.15000000000000002,
          0.25000000000000006,
          0.35000000000000003,
          0.45000000000000007,
          0.5500000000000002,
          0.6500000000000001,
          0.7500000000000002,
          0.8500000000000002,
          0.9500000000000002,
          1.0500000000000003,
          1.1500000000000004,
          1.2500000000000002,
          1.3500000000000003,
          1.4500000000000004,
          1.5500000000000003,
          1.6500000000000004,
          1.7500000000000004,
          1.8500000000000003,
          1.9500000000000004,
          2.0500000000000003,
          2.1500000000000004,
          2.2500000000000004,
          2.35,
          2.45,
          2.5500000000000003,
          2.6500000000000004,
          2.7500000000000004,
          2.8500000000000005,
          2.95,
          3.0500000000000003,
          3.1500000000000004,
          3.2500000000000004,
          3.3500000000000005,
          3.4500000000000006,
          3.5500000000000007,
          3.6500000000000004,
          3.7500000000000004,
          3.8500000000000005,
          3.9500000000000006,
          4.050000000000001,
          4.15,
          4.250000000000001,
          4.3500000000000005,
          4.450000000000001,
          4.550000000000001,
          4.65,
          4.750000000000001,
          4.8500000000000005,
          4.950000000000001,
          5.050000000000001,
          5.150000000000001,
          5.250000000000001,
          5.3500000000000005,
          5.450000000000001,
          5.550000000000001,
          5.650000000000001,
          5.750000000000001,
          5.8500000000000005,
          5.950000000000001,
          6.050000000000001,
          6.150000000000001,
          6.250000000000001
         ],
         "xaxis": "x",
         "y": [
          0.07729785478562781,
          0.0835966749818953,
          0.08970293266145796,
          0.09555423669532047,
          0.10111061797712492,
          0.10636016379494356,
          0.11132346888155628,
          0.11605641831642877,
          0.12065087797276923,
          0.12523296864772204,
          0.12995873678754535,
          0.1350072009848865,
          0.14057093938447487,
          0.14684457654605623,
          0.15401171521983645,
          0.16223102411015142,
          0.17162232246964695,
          0.1822535830440894,
          0.19412979572761677,
          0.20718458813750637,
          0.22127538360209495,
          0.23618269452265916,
          0.25161390818025575,
          0.26721163691581107,
          0.28256639435080444,
          0.2972330469102835,
          0.3107502004344286,
          0.3226614401232355,
          0.3325371709684203,
          0.33999572281468604,
          0.34472239989651343,
          0.34648527125566947,
          0.34514670882120957,
          0.3406699682153637,
          0.33312045005629665,
          0.32266164782433815,
          0.30954615091620213,
          0.29410239771802993,
          0.2767181366197084,
          0.25782173264928376,
          0.23786254206553084,
          0.21729156442366165,
          0.19654347814988699,
          0.17602098637422897,
          0.15608216553153614,
          0.137031244351055,
          0.1191129703184392,
          0.10251046761851677,
          0.08734627401924015,
          0.07368607768090742,
          0.06154456577872289,
          0.05089274623853738,
          0.04166610747036704,
          0.03377303015638603,
          0.027102948566029364,
          0.0215338639872582,
          0.016938927368951383,
          0.013191921247882031,
          0.010171573766928212,
          0.007764723981508912,
          0.005868424284488893,
          0.004391111694038692,
          0.0032530059965891226
         ],
         "yaxis": "y"
        },
        {
         "mode": "lines",
         "name": "n=4",
         "type": "scatter",
         "x": [
          0.05,
          0.15000000000000002,
          0.25000000000000006,
          0.35000000000000003,
          0.45000000000000007,
          0.5500000000000002,
          0.6500000000000001,
          0.7500000000000002,
          0.8500000000000002,
          0.9500000000000002,
          1.0500000000000003,
          1.1500000000000004,
          1.2500000000000002,
          1.3500000000000003,
          1.4500000000000004,
          1.5500000000000003,
          1.6500000000000004,
          1.7500000000000004,
          1.8500000000000003,
          1.9500000000000004,
          2.0500000000000003,
          2.1500000000000004,
          2.2500000000000004,
          2.35,
          2.45,
          2.5500000000000003,
          2.6500000000000004,
          2.7500000000000004,
          2.8500000000000005,
          2.95,
          3.0500000000000003,
          3.1500000000000004,
          3.2500000000000004,
          3.3500000000000005,
          3.4500000000000006,
          3.5500000000000007,
          3.6500000000000004,
          3.7500000000000004,
          3.8500000000000005,
          3.9500000000000006,
          4.050000000000001,
          4.15,
          4.250000000000001,
          4.3500000000000005,
          4.450000000000001,
          4.550000000000001,
          4.65,
          4.750000000000001,
          4.8500000000000005,
          4.950000000000001,
          5.050000000000001,
          5.150000000000001,
          5.250000000000001,
          5.3500000000000005,
          5.450000000000001,
          5.550000000000001,
          5.650000000000001,
          5.750000000000001,
          5.8500000000000005,
          5.950000000000001,
          6.050000000000001,
          6.150000000000001,
          6.250000000000001
         ],
         "xaxis": "x",
         "y": [
          1.8585457316550804,
          1.7591595707342034,
          1.6319821907387504,
          1.480421462787307,
          1.3089021553777365,
          1.1226740557650847,
          0.9275711444543738,
          0.7297373548068,
          0.5353369110846459,
          0.35026814610331825,
          0.1798989900317424,
          0.028840102593444394,
          -0.09923184444044122,
          -0.20169255482146226,
          -0.2770267193010757,
          -0.3248240735066759,
          -0.34572029706738766,
          -0.34129147987679187,
          -0.31391314518943136,
          -0.26659592429308515,
          -0.2028099636806497,
          -0.12630916518458615,
          -0.04096464577669579,
          0.04938536666479004,
          0.14106433093514537,
          0.2306622813314595,
          0.3151161993978619,
          0.3917668501554651,
          0.4583941929998385,
          0.5132341518097805,
          0.5549798057708409,
          0.5827700299614673,
          0.5961683727227195,
          0.5951346001061223,
          0.5799909439411818,
          0.5513847132004934,
          0.510248597592941,
          0.4577597159292865,
          0.3952982337643899,
          0.3244061826914708,
          0.24674694575294318,
          0.16406572387777435,
          0.07815116925972503,
          -0.009201727313000415,
          -0.0962274633028084,
          -0.1812245317847966,
          -0.2625885092675208,
          -0.33884349466823127,
          -0.40867149143183845,
          -0.47093912135641786,
          -0.5247208639436498,
          -0.5693178664019838,
          -0.6042713022707359,
          -0.6293692985939426,
          -0.6446466172950586,
          -0.6503765643557516,
          -0.6470549920621006,
          -0.6353767211951428,
          -0.6162051966913018,
          -0.5905366516434358,
          -0.5594604413317894,
          -0.5241174794982975,
          -0.4856588342226885
         ],
         "yaxis": "y"
        },
        {
         "mode": "lines",
         "name": "n=7",
         "type": "scatter",
         "x": [
          0.05,
          0.15000000000000002,
          0.25000000000000006,
          0.35000000000000003,
          0.45000000000000007,
          0.5500000000000002,
          0.6500000000000001,
          0.7500000000000002,
          0.8500000000000002,
          0.9500000000000002,
          1.0500000000000003,
          1.1500000000000004,
          1.2500000000000002,
          1.3500000000000003,
          1.4500000000000004,
          1.5500000000000003,
          1.6500000000000004,
          1.7500000000000004,
          1.8500000000000003,
          1.9500000000000004,
          2.0500000000000003,
          2.1500000000000004,
          2.2500000000000004,
          2.35,
          2.45,
          2.5500000000000003,
          2.6500000000000004,
          2.7500000000000004,
          2.8500000000000005,
          2.95,
          3.0500000000000003,
          3.1500000000000004,
          3.2500000000000004,
          3.3500000000000005,
          3.4500000000000006,
          3.5500000000000007,
          3.6500000000000004,
          3.7500000000000004,
          3.8500000000000005,
          3.9500000000000006,
          4.050000000000001,
          4.15,
          4.250000000000001,
          4.3500000000000005,
          4.450000000000001,
          4.550000000000001,
          4.65,
          4.750000000000001,
          4.8500000000000005,
          4.950000000000001,
          5.050000000000001,
          5.150000000000001,
          5.250000000000001,
          5.3500000000000005,
          5.450000000000001,
          5.550000000000001,
          5.650000000000001,
          5.750000000000001,
          5.8500000000000005,
          5.950000000000001,
          6.050000000000001,
          6.150000000000001,
          6.250000000000001
         ],
         "xaxis": "x",
         "y": [
          0.9505694124943145,
          1.0215615688714776,
          1.080766990911655,
          1.12473751784595,
          1.1501889422014726,
          1.1541832016958011,
          1.1343150863958158,
          1.0888928847134585,
          1.0171015825980918,
          0.9191370779811819,
          0.7963004469351413,
          0.6510426309604086,
          0.4869519961433988,
          0.3086799889457712,
          0.12180347592526693,
          -0.06737384873023704,
          -0.25207457768912306,
          -0.4253448107133291,
          -0.5803813641094874,
          -0.7108717634277797,
          -0.8113276359025026,
          -0.8773911214877603,
          -0.9060943062914105,
          -0.8960535556062739,
          -0.8475839686806811,
          -0.7627238388358145,
          -0.6451646866998183,
          -0.5000887250220066,
          -0.33392200586619747,
          -0.15401744941789228,
          0.03171307079374504,
          0.21519486199212542,
          0.38859024240925155,
          0.5446776527409692,
          0.6771876182384693,
          0.7810767766674694,
          0.8527261220736172,
          0.8900553531167157,
          0.8925512186289924,
          0.8612134912071243,
          0.7984272077193113,
          0.7077737419042898,
          0.5937959082654205,
          0.4617335771914534,
          0.3172462856476836,
          0.16613824320306353,
          0.014099219036643598,
          -0.1335276585785248,
          -0.27194287264710804,
          -0.39704667341872607,
          -0.5055514081666448,
          -0.5950493102297345,
          -0.6640370016102123,
          -0.711899598142913,
          -0.7388586301931468,
          -0.7458890386342311,
          -0.7346113039946741,
          -0.7071653299236619,
          -0.6660730269058751,
          -0.6140966113171071,
          -0.5540994263580905,
          -0.4889155890022914,
          -0.42123397117657907
         ],
         "yaxis": "y"
        },
        {
         "mode": "lines",
         "name": "n=10",
         "type": "scatter",
         "x": [
          0.05,
          0.15000000000000002,
          0.25000000000000006,
          0.35000000000000003,
          0.45000000000000007,
          0.5500000000000002,
          0.6500000000000001,
          0.7500000000000002,
          0.8500000000000002,
          0.9500000000000002,
          1.0500000000000003,
          1.1500000000000004,
          1.2500000000000002,
          1.3500000000000003,
          1.4500000000000004,
          1.5500000000000003,
          1.6500000000000004,
          1.7500000000000004,
          1.8500000000000003,
          1.9500000000000004,
          2.0500000000000003,
          2.1500000000000004,
          2.2500000000000004,
          2.35,
          2.45,
          2.5500000000000003,
          2.6500000000000004,
          2.7500000000000004,
          2.8500000000000005,
          2.95,
          3.0500000000000003,
          3.1500000000000004,
          3.2500000000000004,
          3.3500000000000005,
          3.4500000000000006,
          3.5500000000000007,
          3.6500000000000004,
          3.7500000000000004,
          3.8500000000000005,
          3.9500000000000006,
          4.050000000000001,
          4.15,
          4.250000000000001,
          4.3500000000000005,
          4.450000000000001,
          4.550000000000001,
          4.65,
          4.750000000000001,
          4.8500000000000005,
          4.950000000000001,
          5.050000000000001,
          5.150000000000001,
          5.250000000000001,
          5.3500000000000005,
          5.450000000000001,
          5.550000000000001,
          5.650000000000001,
          5.750000000000001,
          5.8500000000000005,
          5.950000000000001,
          6.050000000000001,
          6.150000000000001,
          6.250000000000001
         ],
         "xaxis": "x",
         "y": [
          1.0044830681565928,
          1.070299690600899,
          1.1233488242325074,
          1.1604101941888258,
          1.1784784169008404,
          1.174930714475336,
          1.1476954660726313,
          1.0954122424957073,
          1.0175734808594619,
          0.914637997411814,
          0.7881071476605346,
          0.6405556404445973,
          0.4756107890694716,
          0.29787630415325667,
          0.11279953459157811,
          -0.07351575604946795,
          -0.254545572751946,
          -0.4236218586637905,
          -0.5742363864584883,
          -0.7003572512832346,
          -0.7967406987933883,
          -0.8592198463484819,
          -0.8849518701054182,
          -0.8726065788549614,
          -0.8224820144452824,
          -0.7365367183758745,
          -0.6183333586803237,
          -0.4728941674364898,
          -0.30647464341687636,
          -0.12626771483965604,
          0.05994448154876719,
          0.24417032715501663,
          0.4185969441335868,
          0.5759635580893818,
          0.7098981023189775,
          0.8151982609214014,
          0.888042557007208,
          0.9261223683876033,
          0.9286913862677024,
          0.896534509729405,
          0.8318630340014135,
          0.7381468925764018,
          0.6198974371954842,
          0.4824157171779876,
          0.3315215184141535,
          0.17327771902125172,
          0.013723058841093544,
          -0.14137552541432494,
          -0.2867420232904405,
          -0.4177751546121034,
          -0.5306921579893761,
          -0.6226297608026065,
          -0.6917012252031506,
          -0.737009900102449,
          -0.7586211335738521,
          -0.7574957574731183,
          -0.7353896635394435,
          -0.6947252271034954,
          -0.6384414414501298,
          -0.5698305137165351,
          -0.492369239459989,
          -0.4095536223516152,
          -0.32474487007237696
         ],
         "yaxis": "y"
        },
        {
         "mode": "lines",
         "name": "n=13",
         "type": "scatter",
         "x": [
          0.05,
          0.15000000000000002,
          0.25000000000000006,
          0.35000000000000003,
          0.45000000000000007,
          0.5500000000000002,
          0.6500000000000001,
          0.7500000000000002,
          0.8500000000000002,
          0.9500000000000002,
          1.0500000000000003,
          1.1500000000000004,
          1.2500000000000002,
          1.3500000000000003,
          1.4500000000000004,
          1.5500000000000003,
          1.6500000000000004,
          1.7500000000000004,
          1.8500000000000003,
          1.9500000000000004,
          2.0500000000000003,
          2.1500000000000004,
          2.2500000000000004,
          2.35,
          2.45,
          2.5500000000000003,
          2.6500000000000004,
          2.7500000000000004,
          2.8500000000000005,
          2.95,
          3.0500000000000003,
          3.1500000000000004,
          3.2500000000000004,
          3.3500000000000005,
          3.4500000000000006,
          3.5500000000000007,
          3.6500000000000004,
          3.7500000000000004,
          3.8500000000000005,
          3.9500000000000006,
          4.050000000000001,
          4.15,
          4.250000000000001,
          4.3500000000000005,
          4.450000000000001,
          4.550000000000001,
          4.65,
          4.750000000000001,
          4.8500000000000005,
          4.950000000000001,
          5.050000000000001,
          5.150000000000001,
          5.250000000000001,
          5.3500000000000005,
          5.450000000000001,
          5.550000000000001,
          5.650000000000001,
          5.750000000000001,
          5.8500000000000005,
          5.950000000000001,
          6.050000000000001,
          6.150000000000001,
          6.250000000000001
         ],
         "xaxis": "x",
         "y": [
          0.6772719571696808,
          0.8007221747095181,
          0.9155397341099681,
          1.0159747593682393,
          1.0963029571098482,
          1.1511498970250236,
          1.1758279114387507,
          1.1666640540029725,
          1.121296361215455,
          1.038916121127045,
          0.9204360294694818,
          0.7685679235848443,
          0.587799013538341,
          0.384261843603573,
          0.1655001882039551,
          -0.059859775571877695,
          -0.2825168884373558,
          -0.4929589602269814,
          -0.681956575622786,
          -0.8410571614631219,
          -0.9630487746763746,
          -1.0423642256389567,
          -1.0753993954863044,
          -1.0607247628778076,
          -0.9991758967406528,
          -0.893816530376869,
          -0.7497762367274847,
          -0.5739730396178476,
          -0.37473887692417557,
          -0.16137208268994524,
          0.05635451442773565,
          0.2686990054715782,
          0.46643848706535795,
          0.6413112516579639,
          0.786388775160369,
          0.8963590128469854,
          0.9677093379409764,
          0.9988046718805712,
          0.9898633492830818,
          0.9428394883709393,
          0.8612256710299995,
          0.7497932999026968,
          0.6142899832933753,
          0.46111375149111444,
          0.2969830131445752,
          0.1286191949240562,
          -0.037543701537792656,
          -0.19561151367177956,
          -0.34043642952386566,
          -0.46777284167178984,
          -0.574380624509162,
          -0.6580763816123031,
          -0.7177352790817244,
          -0.7532477706982534,
          -0.7654368705178052,
          -0.7559426790054489,
          -0.7270816478763176,
          -0.6816885839900984,
          -0.6229496314668476,
          -0.5542344082831261,
          -0.4789350822062109,
          -0.40031943586168134,
          -0.32140389990145407
         ],
         "yaxis": "y"
        },
        {
         "mode": "lines",
         "name": "n=16",
         "type": "scatter",
         "x": [
          0.05,
          0.15000000000000002,
          0.25000000000000006,
          0.35000000000000003,
          0.45000000000000007,
          0.5500000000000002,
          0.6500000000000001,
          0.7500000000000002,
          0.8500000000000002,
          0.9500000000000002,
          1.0500000000000003,
          1.1500000000000004,
          1.2500000000000002,
          1.3500000000000003,
          1.4500000000000004,
          1.5500000000000003,
          1.6500000000000004,
          1.7500000000000004,
          1.8500000000000003,
          1.9500000000000004,
          2.0500000000000003,
          2.1500000000000004,
          2.2500000000000004,
          2.35,
          2.45,
          2.5500000000000003,
          2.6500000000000004,
          2.7500000000000004,
          2.8500000000000005,
          2.95,
          3.0500000000000003,
          3.1500000000000004,
          3.2500000000000004,
          3.3500000000000005,
          3.4500000000000006,
          3.5500000000000007,
          3.6500000000000004,
          3.7500000000000004,
          3.8500000000000005,
          3.9500000000000006,
          4.050000000000001,
          4.15,
          4.250000000000001,
          4.3500000000000005,
          4.450000000000001,
          4.550000000000001,
          4.65,
          4.750000000000001,
          4.8500000000000005,
          4.950000000000001,
          5.050000000000001,
          5.150000000000001,
          5.250000000000001,
          5.3500000000000005,
          5.450000000000001,
          5.550000000000001,
          5.650000000000001,
          5.750000000000001,
          5.8500000000000005,
          5.950000000000001,
          6.050000000000001,
          6.150000000000001,
          6.250000000000001
         ],
         "xaxis": "x",
         "y": [
          0.35689346081143575,
          0.5036415715065053,
          0.6478800475140771,
          0.7830037672181765,
          0.9021409249808309,
          0.998526266356283,
          1.0659063880250395,
          1.0989515854922847,
          1.0936459696240508,
          1.0476268855243478,
          0.9604462530480086,
          0.8337303140722404,
          0.6712202237263192,
          0.4786835774185385,
          0.26369577733816624,
          0.035299447249838786,
          -0.19644082545447694,
          -0.4209630385724641,
          -0.6277797717054928,
          -0.8070615267522957,
          -0.9501936409730127,
          -1.0502701176747131,
          -1.1024915857554733,
          -1.1044409540439626,
          -1.0562186971973735,
          -0.9604294489063057,
          -0.8220219144345412,
          -0.6479942203419978,
          -0.4469858837268612,
          -0.22878488702972308,
          -0.0037833269786651776,
          0.2175825805531748,
          0.425372817832297,
          0.6106319676622849,
          0.765798793819216,
          0.8850170994927967,
          0.9643359558926354,
          1.001795630523394,
          0.9974033177238052,
          0.953009475808257,
          0.8721007569352592,
          0.7595289217807096,
          0.6211967071748078,
          0.46372149310944744,
          0.29409607714708447,
          0.11936328800795581,
          -0.05368202599291808,
          -0.21875351299991988,
          -0.370289514414275,
          -0.5036210561048776,
          -0.6150901934034497,
          -0.7021191956019631,
          -0.7632325196637861,
          -0.7980346357053738,
          -0.8071476590896913,
          -0.7921135327017859,
          -0.755266265854967,
          -0.699580496954497,
          -0.6285033729179539,
          -0.5457773502238463,
          -0.4552619134553612,
          -0.36076226686735074,
          -0.26587269344489417
         ],
         "yaxis": "y"
        },
        {
         "mode": "lines",
         "name": "n=19",
         "type": "scatter",
         "x": [
          0.05,
          0.15000000000000002,
          0.25000000000000006,
          0.35000000000000003,
          0.45000000000000007,
          0.5500000000000002,
          0.6500000000000001,
          0.7500000000000002,
          0.8500000000000002,
          0.9500000000000002,
          1.0500000000000003,
          1.1500000000000004,
          1.2500000000000002,
          1.3500000000000003,
          1.4500000000000004,
          1.5500000000000003,
          1.6500000000000004,
          1.7500000000000004,
          1.8500000000000003,
          1.9500000000000004,
          2.0500000000000003,
          2.1500000000000004,
          2.2500000000000004,
          2.35,
          2.45,
          2.5500000000000003,
          2.6500000000000004,
          2.7500000000000004,
          2.8500000000000005,
          2.95,
          3.0500000000000003,
          3.1500000000000004,
          3.2500000000000004,
          3.3500000000000005,
          3.4500000000000006,
          3.5500000000000007,
          3.6500000000000004,
          3.7500000000000004,
          3.8500000000000005,
          3.9500000000000006,
          4.050000000000001,
          4.15,
          4.250000000000001,
          4.3500000000000005,
          4.450000000000001,
          4.550000000000001,
          4.65,
          4.750000000000001,
          4.8500000000000005,
          4.950000000000001,
          5.050000000000001,
          5.150000000000001,
          5.250000000000001,
          5.3500000000000005,
          5.450000000000001,
          5.550000000000001,
          5.650000000000001,
          5.750000000000001,
          5.8500000000000005,
          5.950000000000001,
          6.050000000000001,
          6.150000000000001,
          6.250000000000001
         ],
         "xaxis": "x",
         "y": [
          0.35816220429409285,
          0.4947197991905186,
          0.6291311450224083,
          0.7552949530511217,
          0.866828759079516,
          0.9574076321288496,
          1.0211354980074563,
          1.0529264298738306,
          1.048870458819677,
          1.0065574581490198,
          0.9253336616630649,
          0.8064684321221651,
          0.6532138714425667,
          0.47074646188529295,
          0.2659877028953706,
          0.04730910218199692,
          -0.1758647388716103,
          -0.3935334897639708,
          -0.5956510236689732,
          -0.7726754428969804,
          -0.9161043744386851,
          -1.0189608609238368,
          -1.0761978697783001,
          -1.0849945391699027,
          -1.0449244212019324,
          -0.9579846400733012,
          -0.8284843868806178,
          -0.6628007722523869,
          -0.4690189859191804,
          -0.2564812564845619,
          -0.03527467608658526,
          0.18430885507083017,
          0.3923066884952242,
          0.5795815162547365,
          0.7382516609171086,
          0.8620336657072527,
          0.9464823876891972,
          0.9891214066476773,
          0.9894640151040514,
          0.9489317636035716,
          0.8706830450955713,
          0.7593682253123728,
          0.6208302540591398,
          0.46177058412148075,
          0.28939977465299327,
          0.11109064951901688,
          -0.06595035705931884,
          -0.23498068895715565,
          -0.38997781283374133,
          -0.5258465924152453,
          -0.63857305116521,
          -0.725322058483307,
          -0.7844786521340953,
          -0.8156347260057699,
          -0.8195247051756968,
          -0.7979156144201948,
          -0.7534585995055112,
          -0.6895104201938359,
          -0.6099346044070514,
          -0.5188927225121203,
          -0.4206365026544276,
          -0.3193111839074517,
          -0.21877956244172453
         ],
         "yaxis": "y"
        },
        {
         "mode": "lines",
         "name": "n=22",
         "type": "scatter",
         "x": [
          0.05,
          0.15000000000000002,
          0.25000000000000006,
          0.35000000000000003,
          0.45000000000000007,
          0.5500000000000002,
          0.6500000000000001,
          0.7500000000000002,
          0.8500000000000002,
          0.9500000000000002,
          1.0500000000000003,
          1.1500000000000004,
          1.2500000000000002,
          1.3500000000000003,
          1.4500000000000004,
          1.5500000000000003,
          1.6500000000000004,
          1.7500000000000004,
          1.8500000000000003,
          1.9500000000000004,
          2.0500000000000003,
          2.1500000000000004,
          2.2500000000000004,
          2.35,
          2.45,
          2.5500000000000003,
          2.6500000000000004,
          2.7500000000000004,
          2.8500000000000005,
          2.95,
          3.0500000000000003,
          3.1500000000000004,
          3.2500000000000004,
          3.3500000000000005,
          3.4500000000000006,
          3.5500000000000007,
          3.6500000000000004,
          3.7500000000000004,
          3.8500000000000005,
          3.9500000000000006,
          4.050000000000001,
          4.15,
          4.250000000000001,
          4.3500000000000005,
          4.450000000000001,
          4.550000000000001,
          4.65,
          4.750000000000001,
          4.8500000000000005,
          4.950000000000001,
          5.050000000000001,
          5.150000000000001,
          5.250000000000001,
          5.3500000000000005,
          5.450000000000001,
          5.550000000000001,
          5.650000000000001,
          5.750000000000001,
          5.8500000000000005,
          5.950000000000001,
          6.050000000000001,
          6.150000000000001,
          6.250000000000001
         ],
         "xaxis": "x",
         "y": [
          0.3507257000841885,
          0.46504862336923797,
          0.5794933493413648,
          0.689084469997501,
          0.7884198396922464,
          0.8719289048891867,
          0.9341741909117247,
          0.9701799292281205,
          0.9757680708244292,
          0.9478794111329051,
          0.8848565597736076,
          0.7866662205840421,
          0.65504076397449,
          0.49352328683419483,
          0.3074060318693488,
          0.10355881488251295,
          -0.10984848225163958,
          -0.3237177890918463,
          -0.528470490803662,
          -0.714546207363268,
          -0.8729235466357553,
          -0.9956310259557133,
          -1.0762158534088273,
          -1.1101399982512359,
          -1.0950768942019526,
          -1.0310879782348996,
          -0.9206656872913812,
          -0.7686380063344794,
          -0.5819385849669488,
          -0.3692551750974026,
          -0.14057705527669462,
          0.09333137628343169,
          0.32149900692982913,
          0.533324118339619,
          0.7191237858300404,
          0.8706243528729579,
          0.9813650761995241,
          1.0469931027911201,
          1.0654352823125357,
          1.03694038051708,
          0.9639934543377371,
          0.8511119091916087,
          0.704539575945033,
          0.5318606073980213,
          0.341558810469476,
          0.1425500413349798,
          -0.05628452925302042,
          -0.2465380260421377,
          -0.42066718063354036,
          -0.572312488143469,
          -0.696535560920603,
          -0.7899657479765115,
          -0.8508539281513667,
          -0.879036977390024,
          -0.8758214243773145,
          -0.8437989680074399,
          -0.7866096273487353,
          -0.7086702006103878,
          -0.6148863777041125,
          -0.510366317723495,
          -0.400151882113806,
          -0.2889811880203734,
          -0.18109294841554835
         ],
         "yaxis": "y"
        },
        {
         "mode": "lines",
         "name": "n=25",
         "type": "scatter",
         "x": [
          0.05,
          0.15000000000000002,
          0.25000000000000006,
          0.35000000000000003,
          0.45000000000000007,
          0.5500000000000002,
          0.6500000000000001,
          0.7500000000000002,
          0.8500000000000002,
          0.9500000000000002,
          1.0500000000000003,
          1.1500000000000004,
          1.2500000000000002,
          1.3500000000000003,
          1.4500000000000004,
          1.5500000000000003,
          1.6500000000000004,
          1.7500000000000004,
          1.8500000000000003,
          1.9500000000000004,
          2.0500000000000003,
          2.1500000000000004,
          2.2500000000000004,
          2.35,
          2.45,
          2.5500000000000003,
          2.6500000000000004,
          2.7500000000000004,
          2.8500000000000005,
          2.95,
          3.0500000000000003,
          3.1500000000000004,
          3.2500000000000004,
          3.3500000000000005,
          3.4500000000000006,
          3.5500000000000007,
          3.6500000000000004,
          3.7500000000000004,
          3.8500000000000005,
          3.9500000000000006,
          4.050000000000001,
          4.15,
          4.250000000000001,
          4.3500000000000005,
          4.450000000000001,
          4.550000000000001,
          4.65,
          4.750000000000001,
          4.8500000000000005,
          4.950000000000001,
          5.050000000000001,
          5.150000000000001,
          5.250000000000001,
          5.3500000000000005,
          5.450000000000001,
          5.550000000000001,
          5.650000000000001,
          5.750000000000001,
          5.8500000000000005,
          5.950000000000001,
          6.050000000000001,
          6.150000000000001,
          6.250000000000001
         ],
         "xaxis": "x",
         "y": [
          0.4365373712305659,
          0.5465914903243635,
          0.6526324584333224,
          0.7499047959708007,
          0.8335290439016564,
          0.8987480331148161,
          0.9411895107568736,
          0.957130026389868,
          0.9437439367490756,
          0.899321433463305,
          0.8234406465051527,
          0.7170810529564761,
          0.5826684752488028,
          0.4240456763870249,
          0.2463667060679391,
          0.055917460716567086,
          -0.14013086285000192,
          -0.3340248504865,
          -0.5177745607803744,
          -0.6835252285686241,
          -0.8239365490396917,
          -0.9325501853739669,
          -1.0041261881772718,
          -1.0349300479576478,
          -1.0229541032717822,
          -0.968059937064004,
          -0.8720321080570893,
          -0.7385379317069882,
          -0.5729928478426254,
          -0.38233594812251875,
          -0.17472521043046674,
          0.04083339516905557,
          0.2549047972890434,
          0.4580705337572323,
          0.6413782055802073,
          0.7967710031433943,
          0.9174744171570497,
          0.9983193909749027,
          1.0359845633038811,
          1.0291446920532297,
          0.9785175700491713,
          0.886807418793404,
          0.7585485269198564,
          0.59985843243248,
          0.41811490027011894,
          0.22157502913003566,
          0.018957801813753384,
          -0.18098689067806226,
          -0.3698993553328054,
          -0.5401989289341339,
          -0.6854204080918028,
          -0.8004813685556011,
          -0.8818680133355863,
          -0.9277322001536045,
          -0.9378976619810188,
          -0.9137788134522488,
          -0.8582205882333124,
          -0.7752721518315718,
          -0.6699107949039483,
          -0.5477346111227119,
          -0.41464356145178194,
          -0.2765281808937192,
          -0.13898355548298633
         ],
         "yaxis": "y"
        },
        {
         "mode": "lines",
         "name": "n=28",
         "type": "scatter",
         "x": [
          0.05,
          0.15000000000000002,
          0.25000000000000006,
          0.35000000000000003,
          0.45000000000000007,
          0.5500000000000002,
          0.6500000000000001,
          0.7500000000000002,
          0.8500000000000002,
          0.9500000000000002,
          1.0500000000000003,
          1.1500000000000004,
          1.2500000000000002,
          1.3500000000000003,
          1.4500000000000004,
          1.5500000000000003,
          1.6500000000000004,
          1.7500000000000004,
          1.8500000000000003,
          1.9500000000000004,
          2.0500000000000003,
          2.1500000000000004,
          2.2500000000000004,
          2.35,
          2.45,
          2.5500000000000003,
          2.6500000000000004,
          2.7500000000000004,
          2.8500000000000005,
          2.95,
          3.0500000000000003,
          3.1500000000000004,
          3.2500000000000004,
          3.3500000000000005,
          3.4500000000000006,
          3.5500000000000007,
          3.6500000000000004,
          3.7500000000000004,
          3.8500000000000005,
          3.9500000000000006,
          4.050000000000001,
          4.15,
          4.250000000000001,
          4.3500000000000005,
          4.450000000000001,
          4.550000000000001,
          4.65,
          4.750000000000001,
          4.8500000000000005,
          4.950000000000001,
          5.050000000000001,
          5.150000000000001,
          5.250000000000001,
          5.3500000000000005,
          5.450000000000001,
          5.550000000000001,
          5.650000000000001,
          5.750000000000001,
          5.8500000000000005,
          5.950000000000001,
          6.050000000000001,
          6.150000000000001,
          6.250000000000001
         ],
         "xaxis": "x",
         "y": [
          0.04006151189093934,
          0.20877513874856912,
          0.38078741707119684,
          0.5488190451407364,
          0.705079208516749,
          0.8416694163706115,
          0.9510317692936358,
          1.0264139296843755,
          1.0623197461313367,
          1.054913487228689,
          1.0023471638035062,
          0.9049844293998704,
          0.7655007869814793,
          0.5888478316187132,
          0.38207840267791665,
          0.1540390851730533,
          -0.0850542608714736,
          -0.3241340632346624,
          -0.5518612626218964,
          -0.7572333376497484,
          -0.9301832415960949,
          -1.0621328432346162,
          -1.1464673631081943,
          -1.1789023584489333,
          -1.157721639676056,
          -1.0838726012546964,
          -0.9609142589401554,
          -0.7948222204368051,
          -0.5936633087326494,
          -0.3671600874940871,
          -0.12617166483567585,
          0.11787846415115333,
          0.35359435610726514,
          0.5701857980483731,
          0.7580008455788444,
          0.9089843628868025,
          1.0170393186782072,
          1.078273929444383,
          1.0911248736520864,
          1.0563542607201384,
          0.9769253552813306,
          0.857768785007623,
          0.7054567091104935,
          0.5278068833166364,
          0.3334415105983124,
          0.1313271059827034,
          -0.06967867318165506,
          -0.261249072631565,
          -0.4359581213021285,
          -0.5875814860039947,
          -0.7113163704850057,
          -0.8039138655497791,
          -0.8637225530354727,
          -0.8906472907326867,
          -0.8860316627020297,
          -0.8524763269617123,
          -0.7936082516719745,
          -0.7138174952925965,
          -0.617978724495448,
          -0.5111741181683482,
          -0.39843278630261997,
          -0.28449950561159565,
          -0.17364264931339937
         ],
         "yaxis": "y"
        }
       ],
       "layout": {
        "annotations": [
         {
          "font": {
           "size": 16
          },
          "showarrow": false,
          "text": "Validation",
          "x": 0.225,
          "xanchor": "center",
          "xref": "paper",
          "y": 1,
          "yanchor": "bottom",
          "yref": "paper"
         },
         {
          "font": {
           "size": 16
          },
          "showarrow": false,
          "text": "Residual error",
          "x": 0.775,
          "xanchor": "center",
          "xref": "paper",
          "y": 1,
          "yanchor": "bottom",
          "yref": "paper"
         }
        ],
        "template": {
         "data": {
          "bar": [
           {
            "error_x": {
             "color": "#2a3f5f"
            },
            "error_y": {
             "color": "#2a3f5f"
            },
            "marker": {
             "line": {
              "color": "#E5ECF6",
              "width": 0.5
             }
            },
            "type": "bar"
           }
          ],
          "barpolar": [
           {
            "marker": {
             "line": {
              "color": "#E5ECF6",
              "width": 0.5
             }
            },
            "type": "barpolar"
           }
          ],
          "carpet": [
           {
            "aaxis": {
             "endlinecolor": "#2a3f5f",
             "gridcolor": "white",
             "linecolor": "white",
             "minorgridcolor": "white",
             "startlinecolor": "#2a3f5f"
            },
            "baxis": {
             "endlinecolor": "#2a3f5f",
             "gridcolor": "white",
             "linecolor": "white",
             "minorgridcolor": "white",
             "startlinecolor": "#2a3f5f"
            },
            "type": "carpet"
           }
          ],
          "choropleth": [
           {
            "colorbar": {
             "outlinewidth": 0,
             "ticks": ""
            },
            "type": "choropleth"
           }
          ],
          "contour": [
           {
            "colorbar": {
             "outlinewidth": 0,
             "ticks": ""
            },
            "colorscale": [
             [
              0,
              "#0d0887"
             ],
             [
              0.1111111111111111,
              "#46039f"
             ],
             [
              0.2222222222222222,
              "#7201a8"
             ],
             [
              0.3333333333333333,
              "#9c179e"
             ],
             [
              0.4444444444444444,
              "#bd3786"
             ],
             [
              0.5555555555555556,
              "#d8576b"
             ],
             [
              0.6666666666666666,
              "#ed7953"
             ],
             [
              0.7777777777777778,
              "#fb9f3a"
             ],
             [
              0.8888888888888888,
              "#fdca26"
             ],
             [
              1,
              "#f0f921"
             ]
            ],
            "type": "contour"
           }
          ],
          "contourcarpet": [
           {
            "colorbar": {
             "outlinewidth": 0,
             "ticks": ""
            },
            "type": "contourcarpet"
           }
          ],
          "heatmap": [
           {
            "colorbar": {
             "outlinewidth": 0,
             "ticks": ""
            },
            "colorscale": [
             [
              0,
              "#0d0887"
             ],
             [
              0.1111111111111111,
              "#46039f"
             ],
             [
              0.2222222222222222,
              "#7201a8"
             ],
             [
              0.3333333333333333,
              "#9c179e"
             ],
             [
              0.4444444444444444,
              "#bd3786"
             ],
             [
              0.5555555555555556,
              "#d8576b"
             ],
             [
              0.6666666666666666,
              "#ed7953"
             ],
             [
              0.7777777777777778,
              "#fb9f3a"
             ],
             [
              0.8888888888888888,
              "#fdca26"
             ],
             [
              1,
              "#f0f921"
             ]
            ],
            "type": "heatmap"
           }
          ],
          "heatmapgl": [
           {
            "colorbar": {
             "outlinewidth": 0,
             "ticks": ""
            },
            "colorscale": [
             [
              0,
              "#0d0887"
             ],
             [
              0.1111111111111111,
              "#46039f"
             ],
             [
              0.2222222222222222,
              "#7201a8"
             ],
             [
              0.3333333333333333,
              "#9c179e"
             ],
             [
              0.4444444444444444,
              "#bd3786"
             ],
             [
              0.5555555555555556,
              "#d8576b"
             ],
             [
              0.6666666666666666,
              "#ed7953"
             ],
             [
              0.7777777777777778,
              "#fb9f3a"
             ],
             [
              0.8888888888888888,
              "#fdca26"
             ],
             [
              1,
              "#f0f921"
             ]
            ],
            "type": "heatmapgl"
           }
          ],
          "histogram": [
           {
            "marker": {
             "colorbar": {
              "outlinewidth": 0,
              "ticks": ""
             }
            },
            "type": "histogram"
           }
          ],
          "histogram2d": [
           {
            "colorbar": {
             "outlinewidth": 0,
             "ticks": ""
            },
            "colorscale": [
             [
              0,
              "#0d0887"
             ],
             [
              0.1111111111111111,
              "#46039f"
             ],
             [
              0.2222222222222222,
              "#7201a8"
             ],
             [
              0.3333333333333333,
              "#9c179e"
             ],
             [
              0.4444444444444444,
              "#bd3786"
             ],
             [
              0.5555555555555556,
              "#d8576b"
             ],
             [
              0.6666666666666666,
              "#ed7953"
             ],
             [
              0.7777777777777778,
              "#fb9f3a"
             ],
             [
              0.8888888888888888,
              "#fdca26"
             ],
             [
              1,
              "#f0f921"
             ]
            ],
            "type": "histogram2d"
           }
          ],
          "histogram2dcontour": [
           {
            "colorbar": {
             "outlinewidth": 0,
             "ticks": ""
            },
            "colorscale": [
             [
              0,
              "#0d0887"
             ],
             [
              0.1111111111111111,
              "#46039f"
             ],
             [
              0.2222222222222222,
              "#7201a8"
             ],
             [
              0.3333333333333333,
              "#9c179e"
             ],
             [
              0.4444444444444444,
              "#bd3786"
             ],
             [
              0.5555555555555556,
              "#d8576b"
             ],
             [
              0.6666666666666666,
              "#ed7953"
             ],
             [
              0.7777777777777778,
              "#fb9f3a"
             ],
             [
              0.8888888888888888,
              "#fdca26"
             ],
             [
              1,
              "#f0f921"
             ]
            ],
            "type": "histogram2dcontour"
           }
          ],
          "mesh3d": [
           {
            "colorbar": {
             "outlinewidth": 0,
             "ticks": ""
            },
            "type": "mesh3d"
           }
          ],
          "parcoords": [
           {
            "line": {
             "colorbar": {
              "outlinewidth": 0,
              "ticks": ""
             }
            },
            "type": "parcoords"
           }
          ],
          "pie": [
           {
            "automargin": true,
            "type": "pie"
           }
          ],
          "scatter": [
           {
            "marker": {
             "colorbar": {
              "outlinewidth": 0,
              "ticks": ""
             }
            },
            "type": "scatter"
           }
          ],
          "scatter3d": [
           {
            "line": {
             "colorbar": {
              "outlinewidth": 0,
              "ticks": ""
             }
            },
            "marker": {
             "colorbar": {
              "outlinewidth": 0,
              "ticks": ""
             }
            },
            "type": "scatter3d"
           }
          ],
          "scattercarpet": [
           {
            "marker": {
             "colorbar": {
              "outlinewidth": 0,
              "ticks": ""
             }
            },
            "type": "scattercarpet"
           }
          ],
          "scattergeo": [
           {
            "marker": {
             "colorbar": {
              "outlinewidth": 0,
              "ticks": ""
             }
            },
            "type": "scattergeo"
           }
          ],
          "scattergl": [
           {
            "marker": {
             "colorbar": {
              "outlinewidth": 0,
              "ticks": ""
             }
            },
            "type": "scattergl"
           }
          ],
          "scattermapbox": [
           {
            "marker": {
             "colorbar": {
              "outlinewidth": 0,
              "ticks": ""
             }
            },
            "type": "scattermapbox"
           }
          ],
          "scatterpolar": [
           {
            "marker": {
             "colorbar": {
              "outlinewidth": 0,
              "ticks": ""
             }
            },
            "type": "scatterpolar"
           }
          ],
          "scatterpolargl": [
           {
            "marker": {
             "colorbar": {
              "outlinewidth": 0,
              "ticks": ""
             }
            },
            "type": "scatterpolargl"
           }
          ],
          "scatterternary": [
           {
            "marker": {
             "colorbar": {
              "outlinewidth": 0,
              "ticks": ""
             }
            },
            "type": "scatterternary"
           }
          ],
          "surface": [
           {
            "colorbar": {
             "outlinewidth": 0,
             "ticks": ""
            },
            "colorscale": [
             [
              0,
              "#0d0887"
             ],
             [
              0.1111111111111111,
              "#46039f"
             ],
             [
              0.2222222222222222,
              "#7201a8"
             ],
             [
              0.3333333333333333,
              "#9c179e"
             ],
             [
              0.4444444444444444,
              "#bd3786"
             ],
             [
              0.5555555555555556,
              "#d8576b"
             ],
             [
              0.6666666666666666,
              "#ed7953"
             ],
             [
              0.7777777777777778,
              "#fb9f3a"
             ],
             [
              0.8888888888888888,
              "#fdca26"
             ],
             [
              1,
              "#f0f921"
             ]
            ],
            "type": "surface"
           }
          ],
          "table": [
           {
            "cells": {
             "fill": {
              "color": "#EBF0F8"
             },
             "line": {
              "color": "white"
             }
            },
            "header": {
             "fill": {
              "color": "#C8D4E3"
             },
             "line": {
              "color": "white"
             }
            },
            "type": "table"
           }
          ]
         },
         "layout": {
          "annotationdefaults": {
           "arrowcolor": "#2a3f5f",
           "arrowhead": 0,
           "arrowwidth": 1
          },
          "coloraxis": {
           "colorbar": {
            "outlinewidth": 0,
            "ticks": ""
           }
          },
          "colorscale": {
           "diverging": [
            [
             0,
             "#8e0152"
            ],
            [
             0.1,
             "#c51b7d"
            ],
            [
             0.2,
             "#de77ae"
            ],
            [
             0.3,
             "#f1b6da"
            ],
            [
             0.4,
             "#fde0ef"
            ],
            [
             0.5,
             "#f7f7f7"
            ],
            [
             0.6,
             "#e6f5d0"
            ],
            [
             0.7,
             "#b8e186"
            ],
            [
             0.8,
             "#7fbc41"
            ],
            [
             0.9,
             "#4d9221"
            ],
            [
             1,
             "#276419"
            ]
           ],
           "sequential": [
            [
             0,
             "#0d0887"
            ],
            [
             0.1111111111111111,
             "#46039f"
            ],
            [
             0.2222222222222222,
             "#7201a8"
            ],
            [
             0.3333333333333333,
             "#9c179e"
            ],
            [
             0.4444444444444444,
             "#bd3786"
            ],
            [
             0.5555555555555556,
             "#d8576b"
            ],
            [
             0.6666666666666666,
             "#ed7953"
            ],
            [
             0.7777777777777778,
             "#fb9f3a"
            ],
            [
             0.8888888888888888,
             "#fdca26"
            ],
            [
             1,
             "#f0f921"
            ]
           ],
           "sequentialminus": [
            [
             0,
             "#0d0887"
            ],
            [
             0.1111111111111111,
             "#46039f"
            ],
            [
             0.2222222222222222,
             "#7201a8"
            ],
            [
             0.3333333333333333,
             "#9c179e"
            ],
            [
             0.4444444444444444,
             "#bd3786"
            ],
            [
             0.5555555555555556,
             "#d8576b"
            ],
            [
             0.6666666666666666,
             "#ed7953"
            ],
            [
             0.7777777777777778,
             "#fb9f3a"
            ],
            [
             0.8888888888888888,
             "#fdca26"
            ],
            [
             1,
             "#f0f921"
            ]
           ]
          },
          "colorway": [
           "#636efa",
           "#EF553B",
           "#00cc96",
           "#ab63fa",
           "#FFA15A",
           "#19d3f3",
           "#FF6692",
           "#B6E880",
           "#FF97FF",
           "#FECB52"
          ],
          "font": {
           "color": "#2a3f5f"
          },
          "geo": {
           "bgcolor": "white",
           "lakecolor": "white",
           "landcolor": "#E5ECF6",
           "showlakes": true,
           "showland": true,
           "subunitcolor": "white"
          },
          "hoverlabel": {
           "align": "left"
          },
          "hovermode": "closest",
          "mapbox": {
           "style": "light"
          },
          "paper_bgcolor": "white",
          "plot_bgcolor": "#E5ECF6",
          "polar": {
           "angularaxis": {
            "gridcolor": "white",
            "linecolor": "white",
            "ticks": ""
           },
           "bgcolor": "#E5ECF6",
           "radialaxis": {
            "gridcolor": "white",
            "linecolor": "white",
            "ticks": ""
           }
          },
          "scene": {
           "xaxis": {
            "backgroundcolor": "#E5ECF6",
            "gridcolor": "white",
            "gridwidth": 2,
            "linecolor": "white",
            "showbackground": true,
            "ticks": "",
            "zerolinecolor": "white"
           },
           "yaxis": {
            "backgroundcolor": "#E5ECF6",
            "gridcolor": "white",
            "gridwidth": 2,
            "linecolor": "white",
            "showbackground": true,
            "ticks": "",
            "zerolinecolor": "white"
           },
           "zaxis": {
            "backgroundcolor": "#E5ECF6",
            "gridcolor": "white",
            "gridwidth": 2,
            "linecolor": "white",
            "showbackground": true,
            "ticks": "",
            "zerolinecolor": "white"
           }
          },
          "shapedefaults": {
           "line": {
            "color": "#2a3f5f"
           }
          },
          "ternary": {
           "aaxis": {
            "gridcolor": "white",
            "linecolor": "white",
            "ticks": ""
           },
           "baxis": {
            "gridcolor": "white",
            "linecolor": "white",
            "ticks": ""
           },
           "bgcolor": "#E5ECF6",
           "caxis": {
            "gridcolor": "white",
            "linecolor": "white",
            "ticks": ""
           }
          },
          "title": {
           "x": 0.05
          },
          "xaxis": {
           "automargin": true,
           "gridcolor": "white",
           "linecolor": "white",
           "ticks": "",
           "title": {
            "standoff": 15
           },
           "zerolinecolor": "white",
           "zerolinewidth": 2
          },
          "yaxis": {
           "automargin": true,
           "gridcolor": "white",
           "linecolor": "white",
           "ticks": "",
           "title": {
            "standoff": 15
           },
           "zerolinecolor": "white",
           "zerolinewidth": 2
          }
         }
        },
        "xaxis": {
         "anchor": "y",
         "domain": [
          0,
          0.45
         ]
        },
        "xaxis2": {
         "anchor": "y2",
         "domain": [
          0.55,
          1
         ]
        },
        "yaxis": {
         "anchor": "x",
         "domain": [
          0,
          1
         ]
        },
        "yaxis2": {
         "anchor": "x2",
         "domain": [
          0,
          1
         ]
        }
       }
      }
     },
     "metadata": {}
    }
   ],
   "source": [
    "x, sin_data, sqr_data = data_gen(0, 2*np.pi)\n",
    "t_x, t_sin_data, t_sqr_data = data_gen(0.05, 2*np.pi)\n",
    "\n",
    "n_nodes = np.arange(1,30)\n",
    "res_errors = []\n",
    "outputs = []\n",
    "\n",
    "epochs=100\n",
    "\n",
    "for n in n_nodes:\n",
    "    RBFNet = RBF_Network(n, x, useDelta=True, add_noise=False)\n",
    "    RBFNet.train_network(epochs, x, sin_data)\n",
    "    res_errors.append(RBFNet.validate(t_x, t_sin_data))\n",
    "    outputs.append(RBFNet.f_of_x)\n",
    "\n",
    "titles = [\"Validation\", \"Residual error\"]\n",
    "fig = make_subplots(rows=1, cols=2, subplot_titles=(titles[0], titles[1]))\n",
    "\n",
    "fig.add_trace(go.Scatter(x=np.arange(len(res_errors)), y=res_errors, mode=\"lines\", name=\"error\"), row=1, col=2)\n",
    "\n",
    "fig.add_trace(go.Scatter(x=t_x.ravel(), y=sin_data.ravel(), mode=\"lines\", name=\"Original\"), row=1, col=1)\n",
    "\n",
    "for i in range(1, len(outputs), 3):\n",
    "    fig.add_trace(go.Scatter(x=t_x.ravel(), y=outputs[i].ravel(), mode=\"lines\", name=\"n={}\".format(i)), row=1, col=1)\n",
    "\n",
    "fig.show()\n"
   ]
  },
  {
   "source": [
    "## 3.3.1 - Compare CL-based approach with earlier RBF network"
   ],
   "cell_type": "markdown",
   "metadata": {}
  },
  {
   "source": [
    "N=10, Without noise"
   ],
   "cell_type": "markdown",
   "metadata": {}
  },
  {
   "cell_type": "code",
   "execution_count": 248,
   "metadata": {
    "tags": []
   },
   "outputs": [
    {
     "output_type": "display_data",
     "data": {
      "application/vnd.plotly.v1+json": {
       "config": {
        "plotlyServerURL": "https://plot.ly"
       },
       "data": [
        {
         "mode": "lines",
         "name": "Original",
         "type": "scatter",
         "x": [
          0.05,
          0.15000000000000002,
          0.25000000000000006,
          0.35000000000000003,
          0.45000000000000007,
          0.5500000000000002,
          0.6500000000000001,
          0.7500000000000002,
          0.8500000000000002,
          0.9500000000000002,
          1.0500000000000003,
          1.1500000000000004,
          1.2500000000000002,
          1.3500000000000003,
          1.4500000000000004,
          1.5500000000000003,
          1.6500000000000004,
          1.7500000000000004,
          1.8500000000000003,
          1.9500000000000004,
          2.0500000000000003,
          2.1500000000000004,
          2.2500000000000004,
          2.35,
          2.45,
          2.5500000000000003,
          2.6500000000000004,
          2.7500000000000004,
          2.8500000000000005,
          2.95,
          3.0500000000000003,
          3.1500000000000004,
          3.2500000000000004,
          3.3500000000000005,
          3.4500000000000006,
          3.5500000000000007,
          3.6500000000000004,
          3.7500000000000004,
          3.8500000000000005,
          3.9500000000000006,
          4.050000000000001,
          4.15,
          4.250000000000001,
          4.3500000000000005,
          4.450000000000001,
          4.550000000000001,
          4.65,
          4.750000000000001,
          4.8500000000000005,
          4.950000000000001,
          5.050000000000001,
          5.150000000000001,
          5.250000000000001,
          5.3500000000000005,
          5.450000000000001,
          5.550000000000001,
          5.650000000000001,
          5.750000000000001,
          5.8500000000000005,
          5.950000000000001,
          6.050000000000001,
          6.150000000000001,
          6.250000000000001
         ],
         "xaxis": "x",
         "y": [
          0,
          0.19866933079506122,
          0.3894183423086505,
          0.5646424733950355,
          0.7173560908995228,
          0.8414709848078965,
          0.9320390859672264,
          0.9854497299884603,
          0.9995736030415051,
          0.9738476308781951,
          0.9092974268256817,
          0.8084964038195901,
          0.6754631805511506,
          0.5155013718214642,
          0.33498815015590466,
          0.1411200080598672,
          -0.058374143427580086,
          -0.25554110202683167,
          -0.44252044329485246,
          -0.6118578909427193,
          -0.7568024953079282,
          -0.8715757724135882,
          -0.951602073889516,
          -0.9936910036334645,
          -0.9961646088358406,
          -0.9589242746631385,
          -0.8834546557201531,
          -0.7727644875559871,
          -0.6312666378723208,
          -0.4646021794137566,
          -0.27941549819892586,
          -0.0830894028174964,
          0.11654920485049364,
          0.3115413635133787,
          0.49411335113860894,
          0.6569865987187891,
          0.7936678638491531,
          0.8987080958116269,
          0.9679196720314865,
          0.998543345374605,
          0.9893582466233818,
          0.9407305566797726,
          0.8545989080882804,
          0.7343970978741133,
          0.5849171928917617,
          0.4121184852417566,
          0.22288991410024592,
          0.024775425453357765,
          -0.1743267812229814,
          -0.3664791292519284,
          -0.5440211108893698,
          -0.6998746875935437,
          -0.8278264690856537,
          -0.9227754216128073,
          -0.9809362300664916,
          -0.9999902065507035,
          -0.979177729151317,
          -0.9193285256646757,
          -0.8228285949687079,
          -0.6935250847771224,
          -0.5365729180004349,
          -0.35822928223682704,
          -0.1656041754483094
         ],
         "yaxis": "y"
        },
        {
         "mode": "lines",
         "name": "Error Without CL",
         "type": "scatter",
         "x": [
          0,
          1,
          2,
          3,
          4,
          5,
          6,
          7,
          8,
          9,
          10,
          11,
          12,
          13,
          14,
          15,
          16,
          17,
          18,
          19,
          20,
          21,
          22,
          23,
          24,
          25,
          26,
          27,
          28,
          29,
          30,
          31,
          32,
          33,
          34,
          35,
          36,
          37,
          38,
          39,
          40,
          41,
          42,
          43,
          44,
          45,
          46,
          47,
          48,
          49,
          50,
          51,
          52,
          53,
          54,
          55,
          56,
          57,
          58,
          59,
          60,
          61,
          62,
          63,
          64,
          65,
          66,
          67,
          68,
          69,
          70,
          71,
          72,
          73,
          74,
          75,
          76,
          77,
          78,
          79,
          80,
          81,
          82,
          83,
          84,
          85,
          86,
          87,
          88,
          89,
          90,
          91,
          92,
          93,
          94,
          95,
          96,
          97,
          98,
          99
         ],
         "xaxis": "x2",
         "y": [
          0.3643206549952223,
          0.3972117875580928,
          0.37988486510603015,
          0.3635487480597179,
          0.3491776420266379,
          0.33642662074962415,
          0.32606452799856855,
          0.3179469195368409,
          0.3107754621838469,
          0.30421814332191094,
          0.29807023412104783,
          0.29267633881373745,
          0.28765868291658114,
          0.2828712833619287,
          0.2782938782320546,
          0.2739082474352056,
          0.2696980031653928,
          0.2658734575382439,
          0.262232242372018,
          0.2586957083703979,
          0.2552563266073286,
          0.2519073015372822,
          0.24873850764986702,
          0.24567269255609567,
          0.24266476966136816,
          0.23971187350905396,
          0.23681139400729562,
          0.23400207731809222,
          0.2312638484769121,
          0.22856741551398388,
          0.22591135387030953,
          0.22334158195702775,
          0.22082639186641212,
          0.2183408743929591,
          0.21588472194833971,
          0.21345762362264772,
          0.21105926606184128,
          0.20868933424295252,
          0.20634751215798572,
          0.2040334834162753,
          0.20174693177406383,
          0.19948754159913498,
          0.19725499827752105,
          0.1950489885685677,
          0.19286920091397627,
          0.1907153257058592,
          0.18858705551830446,
          0.18648408530648405,
          0.18440611257690004,
          0.1823528375319963,
          0.18032396319201238,
          0.17831919549665115,
          0.1763382433888658,
          0.17438081888281567,
          0.17244663711782846,
          0.170535416400005,
          0.16864687823293212,
          0.16678074733880327,
          0.16493675167111344,
          0.163114622419966,
          0.16131409401090985,
          0.1595349040981373,
          0.1577767935527682,
          0.15603950644687672,
          0.15432279003383473,
          0.1526626749116304,
          0.1510227194406126,
          0.149402116246208,
          0.14780063683915814,
          0.14621805495721332,
          0.14465414661376663,
          0.14310869013695665,
          0.14158146620032377,
          0.1400722578459984,
          0.13858085050129484,
          0.13710703198948182,
          0.13565059253543457,
          0.13421132476677794,
          0.13278902371108056,
          0.1313834867895908,
          0.1299945138079512,
          0.12863775222028068,
          0.12731337245690827,
          0.12600461421441275,
          0.12471128928277438,
          0.12343321186051869,
          0.12217019852049307,
          0.12093740383533222,
          0.11971992058405768,
          0.1185167832293491,
          0.11732781870990898,
          0.11615285627525948,
          0.11499172743993441,
          0.11386710845048427,
          0.1127692781580344,
          0.11168436405815695,
          0.11061221147930883,
          0.10955266772174761,
          0.1085055820263869,
          0.10747080554446545
         ],
         "yaxis": "y2"
        },
        {
         "mode": "lines",
         "name": "Prediction Without CL",
         "type": "scatter",
         "x": [
          0.05,
          0.15000000000000002,
          0.25000000000000006,
          0.35000000000000003,
          0.45000000000000007,
          0.5500000000000002,
          0.6500000000000001,
          0.7500000000000002,
          0.8500000000000002,
          0.9500000000000002,
          1.0500000000000003,
          1.1500000000000004,
          1.2500000000000002,
          1.3500000000000003,
          1.4500000000000004,
          1.5500000000000003,
          1.6500000000000004,
          1.7500000000000004,
          1.8500000000000003,
          1.9500000000000004,
          2.0500000000000003,
          2.1500000000000004,
          2.2500000000000004,
          2.35,
          2.45,
          2.5500000000000003,
          2.6500000000000004,
          2.7500000000000004,
          2.8500000000000005,
          2.95,
          3.0500000000000003,
          3.1500000000000004,
          3.2500000000000004,
          3.3500000000000005,
          3.4500000000000006,
          3.5500000000000007,
          3.6500000000000004,
          3.7500000000000004,
          3.8500000000000005,
          3.9500000000000006,
          4.050000000000001,
          4.15,
          4.250000000000001,
          4.3500000000000005,
          4.450000000000001,
          4.550000000000001,
          4.65,
          4.750000000000001,
          4.8500000000000005,
          4.950000000000001,
          5.050000000000001,
          5.150000000000001,
          5.250000000000001,
          5.3500000000000005,
          5.450000000000001,
          5.550000000000001,
          5.650000000000001,
          5.750000000000001,
          5.8500000000000005,
          5.950000000000001,
          6.050000000000001,
          6.150000000000001,
          6.250000000000001
         ],
         "xaxis": "x",
         "y": [
          0.9744626856373347,
          1.0463514775814278,
          1.1060356904740545,
          1.1500396746828836,
          1.1750721126269599,
          1.1782091947033244,
          1.1570807343643956,
          1.1100486219779704,
          1.0363663593540613,
          0.9363084114681262,
          0.811258812544491,
          0.6637498875326017,
          0.49744407576464333,
          0.31705460918359346,
          0.12820409810986524,
          -0.0627762362997805,
          -0.2491000659192834,
          -0.4238217447898898,
          -0.5801604107983895,
          -0.7118355052187023,
          -0.8133947777356202,
          -0.8805149453939296,
          -0.9102556062787784,
          -0.9012488736325946,
          -0.853810476871382,
          -0.7699626226199038,
          -0.6533644368972508,
          -0.5091519153711934,
          -0.34369550210330196,
          -0.16428916886499031,
          0.021210335964185187,
          0.2047719956808606,
          0.3785830168821444,
          0.535421679003337,
          0.6689888749928172,
          0.7741802264855149,
          0.8472854267440498,
          0.8861069756943616,
          0.8899961966550672,
          0.859809851274898,
          0.7977953574045343,
          0.7074162411165894,
          0.5931318397618857,
          0.46014638812088093,
          0.3141425691328314,
          0.16101360203619994,
          0.006606242663417676,
          -0.14351503236696503,
          -0.2842746342264286,
          -0.41125743009352206,
          -0.5208414391998911,
          -0.6102895816323743,
          -0.677799924936477,
          -0.7225152075123009,
          -0.7444936325712829,
          -0.7446440802458214,
          -0.7246300077558836,
          -0.6867473877732545,
          -0.6337830217395948,
          -0.5688603741521444,
          -0.4952806061044908,
          -0.41636664646817717,
          -0.3353178565983338
         ],
         "yaxis": "y"
        },
        {
         "mode": "lines",
         "name": "Error With CL",
         "type": "scatter",
         "x": [
          0,
          1,
          2,
          3,
          4,
          5,
          6,
          7,
          8,
          9,
          10,
          11,
          12,
          13,
          14,
          15,
          16,
          17,
          18,
          19,
          20,
          21,
          22,
          23,
          24,
          25,
          26,
          27,
          28,
          29,
          30,
          31,
          32,
          33,
          34,
          35,
          36,
          37,
          38,
          39,
          40,
          41,
          42,
          43,
          44,
          45,
          46,
          47,
          48,
          49,
          50,
          51,
          52,
          53,
          54,
          55,
          56,
          57,
          58,
          59,
          60,
          61,
          62,
          63,
          64,
          65,
          66,
          67,
          68,
          69,
          70,
          71,
          72,
          73,
          74,
          75,
          76,
          77,
          78,
          79,
          80,
          81,
          82,
          83,
          84,
          85,
          86,
          87,
          88,
          89,
          90,
          91,
          92,
          93,
          94,
          95,
          96,
          97,
          98,
          99
         ],
         "xaxis": "x2",
         "y": [
          0.35809399338684206,
          0.30597226360314883,
          0.25497368927490893,
          0.24036736310062282,
          0.22934923496756038,
          0.22491037623094087,
          0.2206277260748784,
          0.21625849063166305,
          0.21178919923548306,
          0.2069191402858876,
          0.20173510049624901,
          0.19645972601470726,
          0.1912379405890539,
          0.18615302135337433,
          0.1812495572550879,
          0.17654816862548484,
          0.17209950121403236,
          0.16786612727473907,
          0.1638255921007917,
          0.15996735234727535,
          0.15628008003166205,
          0.15275237759475,
          0.1493731933613092,
          0.14613204925805062,
          0.14301915204987942,
          0.14002543338017973,
          0.13714254729256858,
          0.13436284330240547,
          0.131679326318362,
          0.12910532346925022,
          0.12665266107009382,
          0.12427472013110687,
          0.12196701833116054,
          0.1197254653975511,
          0.11754632608211837,
          0.11542618639889449,
          0.11336192294657889,
          0.11135067510357596,
          0.10938981987041124,
          0.10747694913494202,
          0.10560984914416384,
          0.10378648197898428,
          0.10202988161791604,
          0.10032365100295368,
          0.09865566176760918,
          0.09702439344943682,
          0.09542843725146065,
          0.0938664856119903,
          0.09233732280028897,
          0.0908398164365858,
          0.08937290984485917,
          0.0879489998043281,
          0.08659039827755045,
          0.08526595993072894,
          0.08396774716258931,
          0.08269498439709794,
          0.08144694137717572,
          0.08024184388473826,
          0.07907952160124375,
          0.07793932097172525,
          0.07682066179891639,
          0.07572299345740066,
          0.07464579243810902,
          0.07358856012894995,
          0.0725508208081901,
          0.07153211982953568,
          0.0705320219799541,
          0.06955010999316467,
          0.06858598320342803,
          0.06763925632578728,
          0.06672558464332652,
          0.0658485322459023,
          0.06498716878792296,
          0.06414117033675162,
          0.06331022369057697,
          0.062494025683869504,
          0.06169617634984772,
          0.06091540007282931,
          0.060150361048180154,
          0.059424605950963105,
          0.05872595072816998,
          0.05806266210615164,
          0.05742893813235235,
          0.05681979069995705,
          0.05624705674096706,
          0.0557230560566022,
          0.05520789425294917,
          0.05471493114507973,
          0.05425222889305992,
          0.05381036297917929,
          0.053383750471075506,
          0.05297881432509318,
          0.05260844307511432,
          0.05225036460051959,
          0.05192678189537717,
          0.051612147076856636,
          0.05130267210584918,
          0.05099826449953411,
          0.050698833710527316,
          0.05045875344602977
         ],
         "yaxis": "y2"
        },
        {
         "mode": "lines",
         "name": "Prediction With CL",
         "type": "scatter",
         "x": [
          0.05,
          0.15000000000000002,
          0.25000000000000006,
          0.35000000000000003,
          0.45000000000000007,
          0.5500000000000002,
          0.6500000000000001,
          0.7500000000000002,
          0.8500000000000002,
          0.9500000000000002,
          1.0500000000000003,
          1.1500000000000004,
          1.2500000000000002,
          1.3500000000000003,
          1.4500000000000004,
          1.5500000000000003,
          1.6500000000000004,
          1.7500000000000004,
          1.8500000000000003,
          1.9500000000000004,
          2.0500000000000003,
          2.1500000000000004,
          2.2500000000000004,
          2.35,
          2.45,
          2.5500000000000003,
          2.6500000000000004,
          2.7500000000000004,
          2.8500000000000005,
          2.95,
          3.0500000000000003,
          3.1500000000000004,
          3.2500000000000004,
          3.3500000000000005,
          3.4500000000000006,
          3.5500000000000007,
          3.6500000000000004,
          3.7500000000000004,
          3.8500000000000005,
          3.9500000000000006,
          4.050000000000001,
          4.15,
          4.250000000000001,
          4.3500000000000005,
          4.450000000000001,
          4.550000000000001,
          4.65,
          4.750000000000001,
          4.8500000000000005,
          4.950000000000001,
          5.050000000000001,
          5.150000000000001,
          5.250000000000001,
          5.3500000000000005,
          5.450000000000001,
          5.550000000000001,
          5.650000000000001,
          5.750000000000001,
          5.8500000000000005,
          5.950000000000001,
          6.050000000000001,
          6.150000000000001,
          6.250000000000001
         ],
         "xaxis": "x",
         "y": [
          0.32553401147155625,
          0.45598138017859496,
          0.5830012861653485,
          0.700888660403791,
          0.8037982431314021,
          0.8860550970227936,
          0.9424835462748224,
          0.9687341119898808,
          0.9615866823683109,
          0.9192084317158213,
          0.841346935384921,
          0.7294424229612759,
          0.5866479347021273,
          0.41775194378898,
          0.2290043413710148,
          0.027853069988016226,
          -0.17739534946984087,
          -0.3779730627280261,
          -0.5650837074615033,
          -0.7303462583893007,
          -0.8662245834279024,
          -0.9664182816326613,
          -1.026192768635972,
          -1.0426302729311903,
          -1.014788117514712,
          -0.9437560491589776,
          -0.8326100862323252,
          -0.6862660376491181,
          -0.51124118228001,
          -0.31533731805512644,
          -0.1072622768809801,
          0.10379010127403702,
          0.30857973233914093,
          0.49825730968503573,
          0.6647765524828296,
          0.801261180268552,
          0.9023086390339646,
          0.9642160063897315,
          0.9851176291055113,
          0.9650287103077424,
          0.9057940491833213,
          0.8109461984959291,
          0.6854821784235037,
          0.5355722925508164,
          0.368218261778629,
          0.1908805775165812,
          0.01109647630395887,
          -0.16388987842446046,
          -0.32746460091461455,
          -0.473930755650055,
          -0.5987302194642639,
          -0.6985909924628222,
          -0.7715953187714165,
          -0.8171692576963929,
          -0.8359993986290917,
          -0.829886853746287,
          -0.8015521624522647,
          -0.7544070597928683,
          -0.6923100673797605,
          -0.6193225501187549,
          -0.5394803536244223,
          -0.45659360645584907,
          -0.37408402548348135
         ],
         "yaxis": "y"
        }
       ],
       "layout": {
        "annotations": [
         {
          "font": {
           "size": 16
          },
          "showarrow": false,
          "text": "Validation",
          "x": 0.225,
          "xanchor": "center",
          "xref": "paper",
          "y": 1,
          "yanchor": "bottom",
          "yref": "paper"
         },
         {
          "font": {
           "size": 16
          },
          "showarrow": false,
          "text": "Residual error",
          "x": 0.775,
          "xanchor": "center",
          "xref": "paper",
          "y": 1,
          "yanchor": "bottom",
          "yref": "paper"
         }
        ],
        "template": {
         "data": {
          "bar": [
           {
            "error_x": {
             "color": "#2a3f5f"
            },
            "error_y": {
             "color": "#2a3f5f"
            },
            "marker": {
             "line": {
              "color": "#E5ECF6",
              "width": 0.5
             }
            },
            "type": "bar"
           }
          ],
          "barpolar": [
           {
            "marker": {
             "line": {
              "color": "#E5ECF6",
              "width": 0.5
             }
            },
            "type": "barpolar"
           }
          ],
          "carpet": [
           {
            "aaxis": {
             "endlinecolor": "#2a3f5f",
             "gridcolor": "white",
             "linecolor": "white",
             "minorgridcolor": "white",
             "startlinecolor": "#2a3f5f"
            },
            "baxis": {
             "endlinecolor": "#2a3f5f",
             "gridcolor": "white",
             "linecolor": "white",
             "minorgridcolor": "white",
             "startlinecolor": "#2a3f5f"
            },
            "type": "carpet"
           }
          ],
          "choropleth": [
           {
            "colorbar": {
             "outlinewidth": 0,
             "ticks": ""
            },
            "type": "choropleth"
           }
          ],
          "contour": [
           {
            "colorbar": {
             "outlinewidth": 0,
             "ticks": ""
            },
            "colorscale": [
             [
              0,
              "#0d0887"
             ],
             [
              0.1111111111111111,
              "#46039f"
             ],
             [
              0.2222222222222222,
              "#7201a8"
             ],
             [
              0.3333333333333333,
              "#9c179e"
             ],
             [
              0.4444444444444444,
              "#bd3786"
             ],
             [
              0.5555555555555556,
              "#d8576b"
             ],
             [
              0.6666666666666666,
              "#ed7953"
             ],
             [
              0.7777777777777778,
              "#fb9f3a"
             ],
             [
              0.8888888888888888,
              "#fdca26"
             ],
             [
              1,
              "#f0f921"
             ]
            ],
            "type": "contour"
           }
          ],
          "contourcarpet": [
           {
            "colorbar": {
             "outlinewidth": 0,
             "ticks": ""
            },
            "type": "contourcarpet"
           }
          ],
          "heatmap": [
           {
            "colorbar": {
             "outlinewidth": 0,
             "ticks": ""
            },
            "colorscale": [
             [
              0,
              "#0d0887"
             ],
             [
              0.1111111111111111,
              "#46039f"
             ],
             [
              0.2222222222222222,
              "#7201a8"
             ],
             [
              0.3333333333333333,
              "#9c179e"
             ],
             [
              0.4444444444444444,
              "#bd3786"
             ],
             [
              0.5555555555555556,
              "#d8576b"
             ],
             [
              0.6666666666666666,
              "#ed7953"
             ],
             [
              0.7777777777777778,
              "#fb9f3a"
             ],
             [
              0.8888888888888888,
              "#fdca26"
             ],
             [
              1,
              "#f0f921"
             ]
            ],
            "type": "heatmap"
           }
          ],
          "heatmapgl": [
           {
            "colorbar": {
             "outlinewidth": 0,
             "ticks": ""
            },
            "colorscale": [
             [
              0,
              "#0d0887"
             ],
             [
              0.1111111111111111,
              "#46039f"
             ],
             [
              0.2222222222222222,
              "#7201a8"
             ],
             [
              0.3333333333333333,
              "#9c179e"
             ],
             [
              0.4444444444444444,
              "#bd3786"
             ],
             [
              0.5555555555555556,
              "#d8576b"
             ],
             [
              0.6666666666666666,
              "#ed7953"
             ],
             [
              0.7777777777777778,
              "#fb9f3a"
             ],
             [
              0.8888888888888888,
              "#fdca26"
             ],
             [
              1,
              "#f0f921"
             ]
            ],
            "type": "heatmapgl"
           }
          ],
          "histogram": [
           {
            "marker": {
             "colorbar": {
              "outlinewidth": 0,
              "ticks": ""
             }
            },
            "type": "histogram"
           }
          ],
          "histogram2d": [
           {
            "colorbar": {
             "outlinewidth": 0,
             "ticks": ""
            },
            "colorscale": [
             [
              0,
              "#0d0887"
             ],
             [
              0.1111111111111111,
              "#46039f"
             ],
             [
              0.2222222222222222,
              "#7201a8"
             ],
             [
              0.3333333333333333,
              "#9c179e"
             ],
             [
              0.4444444444444444,
              "#bd3786"
             ],
             [
              0.5555555555555556,
              "#d8576b"
             ],
             [
              0.6666666666666666,
              "#ed7953"
             ],
             [
              0.7777777777777778,
              "#fb9f3a"
             ],
             [
              0.8888888888888888,
              "#fdca26"
             ],
             [
              1,
              "#f0f921"
             ]
            ],
            "type": "histogram2d"
           }
          ],
          "histogram2dcontour": [
           {
            "colorbar": {
             "outlinewidth": 0,
             "ticks": ""
            },
            "colorscale": [
             [
              0,
              "#0d0887"
             ],
             [
              0.1111111111111111,
              "#46039f"
             ],
             [
              0.2222222222222222,
              "#7201a8"
             ],
             [
              0.3333333333333333,
              "#9c179e"
             ],
             [
              0.4444444444444444,
              "#bd3786"
             ],
             [
              0.5555555555555556,
              "#d8576b"
             ],
             [
              0.6666666666666666,
              "#ed7953"
             ],
             [
              0.7777777777777778,
              "#fb9f3a"
             ],
             [
              0.8888888888888888,
              "#fdca26"
             ],
             [
              1,
              "#f0f921"
             ]
            ],
            "type": "histogram2dcontour"
           }
          ],
          "mesh3d": [
           {
            "colorbar": {
             "outlinewidth": 0,
             "ticks": ""
            },
            "type": "mesh3d"
           }
          ],
          "parcoords": [
           {
            "line": {
             "colorbar": {
              "outlinewidth": 0,
              "ticks": ""
             }
            },
            "type": "parcoords"
           }
          ],
          "pie": [
           {
            "automargin": true,
            "type": "pie"
           }
          ],
          "scatter": [
           {
            "marker": {
             "colorbar": {
              "outlinewidth": 0,
              "ticks": ""
             }
            },
            "type": "scatter"
           }
          ],
          "scatter3d": [
           {
            "line": {
             "colorbar": {
              "outlinewidth": 0,
              "ticks": ""
             }
            },
            "marker": {
             "colorbar": {
              "outlinewidth": 0,
              "ticks": ""
             }
            },
            "type": "scatter3d"
           }
          ],
          "scattercarpet": [
           {
            "marker": {
             "colorbar": {
              "outlinewidth": 0,
              "ticks": ""
             }
            },
            "type": "scattercarpet"
           }
          ],
          "scattergeo": [
           {
            "marker": {
             "colorbar": {
              "outlinewidth": 0,
              "ticks": ""
             }
            },
            "type": "scattergeo"
           }
          ],
          "scattergl": [
           {
            "marker": {
             "colorbar": {
              "outlinewidth": 0,
              "ticks": ""
             }
            },
            "type": "scattergl"
           }
          ],
          "scattermapbox": [
           {
            "marker": {
             "colorbar": {
              "outlinewidth": 0,
              "ticks": ""
             }
            },
            "type": "scattermapbox"
           }
          ],
          "scatterpolar": [
           {
            "marker": {
             "colorbar": {
              "outlinewidth": 0,
              "ticks": ""
             }
            },
            "type": "scatterpolar"
           }
          ],
          "scatterpolargl": [
           {
            "marker": {
             "colorbar": {
              "outlinewidth": 0,
              "ticks": ""
             }
            },
            "type": "scatterpolargl"
           }
          ],
          "scatterternary": [
           {
            "marker": {
             "colorbar": {
              "outlinewidth": 0,
              "ticks": ""
             }
            },
            "type": "scatterternary"
           }
          ],
          "surface": [
           {
            "colorbar": {
             "outlinewidth": 0,
             "ticks": ""
            },
            "colorscale": [
             [
              0,
              "#0d0887"
             ],
             [
              0.1111111111111111,
              "#46039f"
             ],
             [
              0.2222222222222222,
              "#7201a8"
             ],
             [
              0.3333333333333333,
              "#9c179e"
             ],
             [
              0.4444444444444444,
              "#bd3786"
             ],
             [
              0.5555555555555556,
              "#d8576b"
             ],
             [
              0.6666666666666666,
              "#ed7953"
             ],
             [
              0.7777777777777778,
              "#fb9f3a"
             ],
             [
              0.8888888888888888,
              "#fdca26"
             ],
             [
              1,
              "#f0f921"
             ]
            ],
            "type": "surface"
           }
          ],
          "table": [
           {
            "cells": {
             "fill": {
              "color": "#EBF0F8"
             },
             "line": {
              "color": "white"
             }
            },
            "header": {
             "fill": {
              "color": "#C8D4E3"
             },
             "line": {
              "color": "white"
             }
            },
            "type": "table"
           }
          ]
         },
         "layout": {
          "annotationdefaults": {
           "arrowcolor": "#2a3f5f",
           "arrowhead": 0,
           "arrowwidth": 1
          },
          "coloraxis": {
           "colorbar": {
            "outlinewidth": 0,
            "ticks": ""
           }
          },
          "colorscale": {
           "diverging": [
            [
             0,
             "#8e0152"
            ],
            [
             0.1,
             "#c51b7d"
            ],
            [
             0.2,
             "#de77ae"
            ],
            [
             0.3,
             "#f1b6da"
            ],
            [
             0.4,
             "#fde0ef"
            ],
            [
             0.5,
             "#f7f7f7"
            ],
            [
             0.6,
             "#e6f5d0"
            ],
            [
             0.7,
             "#b8e186"
            ],
            [
             0.8,
             "#7fbc41"
            ],
            [
             0.9,
             "#4d9221"
            ],
            [
             1,
             "#276419"
            ]
           ],
           "sequential": [
            [
             0,
             "#0d0887"
            ],
            [
             0.1111111111111111,
             "#46039f"
            ],
            [
             0.2222222222222222,
             "#7201a8"
            ],
            [
             0.3333333333333333,
             "#9c179e"
            ],
            [
             0.4444444444444444,
             "#bd3786"
            ],
            [
             0.5555555555555556,
             "#d8576b"
            ],
            [
             0.6666666666666666,
             "#ed7953"
            ],
            [
             0.7777777777777778,
             "#fb9f3a"
            ],
            [
             0.8888888888888888,
             "#fdca26"
            ],
            [
             1,
             "#f0f921"
            ]
           ],
           "sequentialminus": [
            [
             0,
             "#0d0887"
            ],
            [
             0.1111111111111111,
             "#46039f"
            ],
            [
             0.2222222222222222,
             "#7201a8"
            ],
            [
             0.3333333333333333,
             "#9c179e"
            ],
            [
             0.4444444444444444,
             "#bd3786"
            ],
            [
             0.5555555555555556,
             "#d8576b"
            ],
            [
             0.6666666666666666,
             "#ed7953"
            ],
            [
             0.7777777777777778,
             "#fb9f3a"
            ],
            [
             0.8888888888888888,
             "#fdca26"
            ],
            [
             1,
             "#f0f921"
            ]
           ]
          },
          "colorway": [
           "#636efa",
           "#EF553B",
           "#00cc96",
           "#ab63fa",
           "#FFA15A",
           "#19d3f3",
           "#FF6692",
           "#B6E880",
           "#FF97FF",
           "#FECB52"
          ],
          "font": {
           "color": "#2a3f5f"
          },
          "geo": {
           "bgcolor": "white",
           "lakecolor": "white",
           "landcolor": "#E5ECF6",
           "showlakes": true,
           "showland": true,
           "subunitcolor": "white"
          },
          "hoverlabel": {
           "align": "left"
          },
          "hovermode": "closest",
          "mapbox": {
           "style": "light"
          },
          "paper_bgcolor": "white",
          "plot_bgcolor": "#E5ECF6",
          "polar": {
           "angularaxis": {
            "gridcolor": "white",
            "linecolor": "white",
            "ticks": ""
           },
           "bgcolor": "#E5ECF6",
           "radialaxis": {
            "gridcolor": "white",
            "linecolor": "white",
            "ticks": ""
           }
          },
          "scene": {
           "xaxis": {
            "backgroundcolor": "#E5ECF6",
            "gridcolor": "white",
            "gridwidth": 2,
            "linecolor": "white",
            "showbackground": true,
            "ticks": "",
            "zerolinecolor": "white"
           },
           "yaxis": {
            "backgroundcolor": "#E5ECF6",
            "gridcolor": "white",
            "gridwidth": 2,
            "linecolor": "white",
            "showbackground": true,
            "ticks": "",
            "zerolinecolor": "white"
           },
           "zaxis": {
            "backgroundcolor": "#E5ECF6",
            "gridcolor": "white",
            "gridwidth": 2,
            "linecolor": "white",
            "showbackground": true,
            "ticks": "",
            "zerolinecolor": "white"
           }
          },
          "shapedefaults": {
           "line": {
            "color": "#2a3f5f"
           }
          },
          "ternary": {
           "aaxis": {
            "gridcolor": "white",
            "linecolor": "white",
            "ticks": ""
           },
           "baxis": {
            "gridcolor": "white",
            "linecolor": "white",
            "ticks": ""
           },
           "bgcolor": "#E5ECF6",
           "caxis": {
            "gridcolor": "white",
            "linecolor": "white",
            "ticks": ""
           }
          },
          "title": {
           "x": 0.05
          },
          "xaxis": {
           "automargin": true,
           "gridcolor": "white",
           "linecolor": "white",
           "ticks": "",
           "title": {
            "standoff": 15
           },
           "zerolinecolor": "white",
           "zerolinewidth": 2
          },
          "yaxis": {
           "automargin": true,
           "gridcolor": "white",
           "linecolor": "white",
           "ticks": "",
           "title": {
            "standoff": 15
           },
           "zerolinecolor": "white",
           "zerolinewidth": 2
          }
         }
        },
        "xaxis": {
         "anchor": "y",
         "domain": [
          0,
          0.45
         ]
        },
        "xaxis2": {
         "anchor": "y2",
         "domain": [
          0.55,
          1
         ]
        },
        "yaxis": {
         "anchor": "x",
         "domain": [
          0,
          1
         ]
        },
        "yaxis2": {
         "anchor": "x2",
         "domain": [
          0,
          1
         ]
        }
       }
      }
     },
     "metadata": {}
    }
   ],
   "source": [
    "x, sin_data, sqr_data = data_gen(0, 2*np.pi)\n",
    "t_x, t_sin_data, t_sqr_data = data_gen(0.05, 2*np.pi)\n",
    "\n",
    "epochs = 100\n",
    "n = 10\n",
    "\n",
    "fig = make_subplots(rows=1, cols=2, subplot_titles=(\"Validation\", \"Residual error\"))\n",
    "\n",
    "\n",
    "fig.add_trace(go.Scatter(x=t_x.ravel(), y=sin_data.ravel(), mode=\"lines\", name=\"Original\"), row=1, col=1)\n",
    "\n",
    "# Non-CL\n",
    "RBFNet = RBF_Network(n, x, eta=1e-1, useDelta=True)\n",
    "RBFNet.train_network(epochs, x, sin_data, t_x, t_sin_data)\n",
    "RBFNet.validate(t_x, t_sin_data)\n",
    "\n",
    "fig.add_trace(go.Scatter(x=np.arange(len(RBFNet.residual_error)), y=RBFNet.residual_error, mode=\"lines\", name=\"Error Without CL\"), row=1, col=2)\n",
    "fig.add_trace(go.Scatter(x=t_x.ravel(), y=RBFNet.f_of_x.ravel(), mode=\"lines\", name=\"Prediction Without CL\"), row=1, col=1)\n",
    "\n",
    "# Using CL\n",
    "RBFNet_cl = RBF_Network(n, x, eta=1e-1,useDelta=True)\n",
    "RBFNet_cl.init_cl(x, 100, 1e-1)\n",
    "RBFNet_cl.train_network(epochs, x, sin_data, t_x, t_sin_data)\n",
    "RBFNet_cl.validate(t_x, t_sin_data)\n",
    "\n",
    "fig.add_trace(go.Scatter(x=np.arange(len(RBFNet_cl.residual_error)), y=RBFNet_cl.residual_error, mode=\"lines\", name=\"Error With CL\"), row=1, col=2)\n",
    "fig.add_trace(go.Scatter(x=t_x.ravel(), y=RBFNet_cl.f_of_x.ravel(), mode=\"lines\", name=\"Prediction With CL\"), row=1, col=1)\n",
    "\n",
    "fig.show()\n",
    "\n",
    "\n"
   ]
  },
  {
   "source": [
    "N=10, With noise"
   ],
   "cell_type": "markdown",
   "metadata": {}
  },
  {
   "cell_type": "code",
   "execution_count": 249,
   "metadata": {},
   "outputs": [
    {
     "output_type": "display_data",
     "data": {
      "application/vnd.plotly.v1+json": {
       "config": {
        "plotlyServerURL": "https://plot.ly"
       },
       "data": [
        {
         "mode": "lines",
         "name": "Original",
         "type": "scatter",
         "x": [
          0.05,
          0.15000000000000002,
          0.25000000000000006,
          0.35000000000000003,
          0.45000000000000007,
          0.5500000000000002,
          0.6500000000000001,
          0.7500000000000002,
          0.8500000000000002,
          0.9500000000000002,
          1.0500000000000003,
          1.1500000000000004,
          1.2500000000000002,
          1.3500000000000003,
          1.4500000000000004,
          1.5500000000000003,
          1.6500000000000004,
          1.7500000000000004,
          1.8500000000000003,
          1.9500000000000004,
          2.0500000000000003,
          2.1500000000000004,
          2.2500000000000004,
          2.35,
          2.45,
          2.5500000000000003,
          2.6500000000000004,
          2.7500000000000004,
          2.8500000000000005,
          2.95,
          3.0500000000000003,
          3.1500000000000004,
          3.2500000000000004,
          3.3500000000000005,
          3.4500000000000006,
          3.5500000000000007,
          3.6500000000000004,
          3.7500000000000004,
          3.8500000000000005,
          3.9500000000000006,
          4.050000000000001,
          4.15,
          4.250000000000001,
          4.3500000000000005,
          4.450000000000001,
          4.550000000000001,
          4.65,
          4.750000000000001,
          4.8500000000000005,
          4.950000000000001,
          5.050000000000001,
          5.150000000000001,
          5.250000000000001,
          5.3500000000000005,
          5.450000000000001,
          5.550000000000001,
          5.650000000000001,
          5.750000000000001,
          5.8500000000000005,
          5.950000000000001,
          6.050000000000001,
          6.150000000000001,
          6.250000000000001
         ],
         "xaxis": "x",
         "y": [
          0,
          0.19866933079506122,
          0.3894183423086505,
          0.5646424733950355,
          0.7173560908995228,
          0.8414709848078965,
          0.9320390859672264,
          0.9854497299884603,
          0.9995736030415051,
          0.9738476308781951,
          0.9092974268256817,
          0.8084964038195901,
          0.6754631805511506,
          0.5155013718214642,
          0.33498815015590466,
          0.1411200080598672,
          -0.058374143427580086,
          -0.25554110202683167,
          -0.44252044329485246,
          -0.6118578909427193,
          -0.7568024953079282,
          -0.8715757724135882,
          -0.951602073889516,
          -0.9936910036334645,
          -0.9961646088358406,
          -0.9589242746631385,
          -0.8834546557201531,
          -0.7727644875559871,
          -0.6312666378723208,
          -0.4646021794137566,
          -0.27941549819892586,
          -0.0830894028174964,
          0.11654920485049364,
          0.3115413635133787,
          0.49411335113860894,
          0.6569865987187891,
          0.7936678638491531,
          0.8987080958116269,
          0.9679196720314865,
          0.998543345374605,
          0.9893582466233818,
          0.9407305566797726,
          0.8545989080882804,
          0.7343970978741133,
          0.5849171928917617,
          0.4121184852417566,
          0.22288991410024592,
          0.024775425453357765,
          -0.1743267812229814,
          -0.3664791292519284,
          -0.5440211108893698,
          -0.6998746875935437,
          -0.8278264690856537,
          -0.9227754216128073,
          -0.9809362300664916,
          -0.9999902065507035,
          -0.979177729151317,
          -0.9193285256646757,
          -0.8228285949687079,
          -0.6935250847771224,
          -0.5365729180004349,
          -0.35822928223682704,
          -0.1656041754483094
         ],
         "yaxis": "y"
        },
        {
         "mode": "lines",
         "name": "Error Without CL",
         "type": "scatter",
         "x": [
          0,
          1,
          2,
          3,
          4,
          5,
          6,
          7,
          8,
          9,
          10,
          11,
          12,
          13,
          14,
          15,
          16,
          17,
          18,
          19,
          20,
          21,
          22,
          23,
          24,
          25,
          26,
          27,
          28,
          29,
          30,
          31,
          32,
          33,
          34,
          35,
          36,
          37,
          38,
          39,
          40,
          41,
          42,
          43,
          44,
          45,
          46,
          47,
          48,
          49,
          50,
          51,
          52,
          53,
          54,
          55,
          56,
          57,
          58,
          59,
          60,
          61,
          62,
          63,
          64,
          65,
          66,
          67,
          68,
          69,
          70,
          71,
          72,
          73,
          74,
          75,
          76,
          77,
          78,
          79,
          80,
          81,
          82,
          83,
          84,
          85,
          86,
          87,
          88,
          89,
          90,
          91,
          92,
          93,
          94,
          95,
          96,
          97,
          98,
          99
         ],
         "xaxis": "x2",
         "y": [
          0.37672142080807414,
          0.397835936951699,
          0.374578555060571,
          0.36247068370217667,
          0.33787672941191516,
          0.3074790496634503,
          0.33641823538405247,
          0.31060182015815957,
          0.3285819032485693,
          0.3203428768987385,
          0.29701185225316706,
          0.2922073621659348,
          0.29663209933417667,
          0.3000675174022981,
          0.2908588291987197,
          0.306769952462137,
          0.28647598754382253,
          0.290639406369418,
          0.2645232978466036,
          0.28617936626200996,
          0.2753640047463453,
          0.2613664773649052,
          0.25783487545870265,
          0.264057991698588,
          0.25664422132417025,
          0.2402629569012792,
          0.27508233103558427,
          0.23312267461058125,
          0.22845895503873923,
          0.23211839242200294,
          0.23879539185820384,
          0.2344394974703094,
          0.22925503977315065,
          0.22508745130551122,
          0.23440985418093346,
          0.2442573262818669,
          0.23132264997884633,
          0.24691441961552216,
          0.192814786540946,
          0.23099574250126986,
          0.2196638246145544,
          0.20172871777638968,
          0.20173799187861594,
          0.21020599551955485,
          0.20548636421559122,
          0.2035784675441852,
          0.21457602151820662,
          0.21354181032112823,
          0.2123357056177826,
          0.2204112724585003,
          0.1858320555522896,
          0.18143975378484897,
          0.1840465541832299,
          0.21087883030558155,
          0.1744080750999199,
          0.2015810064028385,
          0.18421630018534055,
          0.18956521917458635,
          0.17942273509804035,
          0.18099966049745891,
          0.19482628729247498,
          0.16757552860308256,
          0.1454818514662481,
          0.18369995265691724,
          0.17919610756849177,
          0.1897925303188127,
          0.16580420232144608,
          0.1677913858271487,
          0.16603262735981958,
          0.1647409647818233,
          0.16863186824041315,
          0.17839671783246336,
          0.14511857543879428,
          0.14448195832760047,
          0.15674795661749244,
          0.17007080250603002,
          0.14581803968120738,
          0.12890206846042346,
          0.16339437674475601,
          0.1514650761577824,
          0.1330150747942854,
          0.16199113573550014,
          0.15277933729088636,
          0.15837175010149085,
          0.1605940073831113,
          0.1545116431761532,
          0.1495466932153871,
          0.13233611872608825,
          0.1568648292339933,
          0.1536361739015309,
          0.13585080271885183,
          0.1281827408553261,
          0.1444700511378721,
          0.15480007284099653,
          0.1312728086371457,
          0.13824028471488584,
          0.1309367134201844,
          0.13703672062696529,
          0.13738259056299676,
          0.12108549950483403
         ],
         "yaxis": "y2"
        },
        {
         "mode": "lines",
         "name": "Prediction Without CL",
         "type": "scatter",
         "x": [
          0.05,
          0.15000000000000002,
          0.25000000000000006,
          0.35000000000000003,
          0.45000000000000007,
          0.5500000000000002,
          0.6500000000000001,
          0.7500000000000002,
          0.8500000000000002,
          0.9500000000000002,
          1.0500000000000003,
          1.1500000000000004,
          1.2500000000000002,
          1.3500000000000003,
          1.4500000000000004,
          1.5500000000000003,
          1.6500000000000004,
          1.7500000000000004,
          1.8500000000000003,
          1.9500000000000004,
          2.0500000000000003,
          2.1500000000000004,
          2.2500000000000004,
          2.35,
          2.45,
          2.5500000000000003,
          2.6500000000000004,
          2.7500000000000004,
          2.8500000000000005,
          2.95,
          3.0500000000000003,
          3.1500000000000004,
          3.2500000000000004,
          3.3500000000000005,
          3.4500000000000006,
          3.5500000000000007,
          3.6500000000000004,
          3.7500000000000004,
          3.8500000000000005,
          3.9500000000000006,
          4.050000000000001,
          4.15,
          4.250000000000001,
          4.3500000000000005,
          4.450000000000001,
          4.550000000000001,
          4.65,
          4.750000000000001,
          4.8500000000000005,
          4.950000000000001,
          5.050000000000001,
          5.150000000000001,
          5.250000000000001,
          5.3500000000000005,
          5.450000000000001,
          5.550000000000001,
          5.650000000000001,
          5.750000000000001,
          5.8500000000000005,
          5.950000000000001,
          6.050000000000001,
          6.150000000000001,
          6.250000000000001
         ],
         "xaxis": "x",
         "y": [
          1.0468578915940228,
          1.1211394588074237,
          1.182555019901072,
          1.2275799664589542,
          1.2528935946335291,
          1.2555636667187944,
          1.2332329356016793,
          1.1842970074196222,
          1.1080623252458457,
          1.0048731126932868,
          0.8761968695250532,
          0.7246594748308187,
          0.5540231029648345,
          0.36910293000101696,
          0.17562189948690604,
          -0.019993521721219022,
          -0.21086982468836232,
          -0.38998461325469386,
          -0.550492394448118,
          -0.6860610909966514,
          -0.7912003673003195,
          -0.8615619967851389,
          -0.8941929580964721,
          -0.8877238303147938,
          -0.8424783467644889,
          -0.760494513989409,
          -0.6454532239967266,
          -0.5025163820933419,
          -0.33808275131479065,
          -0.15947544970194297,
          0.025420182943641248,
          0.20854624360389232,
          0.3820656580606534,
          0.538735674980926,
          0.6722397992524792,
          0.7774600598836059,
          0.8506762840065047,
          0.8896845645450091,
          0.8938328383084624,
          0.8639769213554318,
          0.8023650392833545,
          0.7124625187242729,
          0.5987306936771752,
          0.46637519660112675,
          0.3210787540109811,
          0.16873259709364583,
          0.015178897955711786,
          -0.13402546421462108,
          -0.2738157562552654,
          -0.3997910097058248,
          -0.5083465613929662,
          -0.5967654393390858,
          -0.6632680490373719,
          -0.7070209611377565,
          -0.7281068281528744,
          -0.727458622204931,
          -0.7067625165720016,
          -0.6683348194006928,
          -0.6149793561760546,
          -0.5498325042150946,
          -0.4762036078824753,
          -0.3974186525550742,
          -0.316674778882783
         ],
         "yaxis": "y"
        },
        {
         "mode": "lines",
         "name": "Error With CL",
         "type": "scatter",
         "x": [
          0,
          1,
          2,
          3,
          4,
          5,
          6,
          7,
          8,
          9,
          10,
          11,
          12,
          13,
          14,
          15,
          16,
          17,
          18,
          19,
          20,
          21,
          22,
          23,
          24,
          25,
          26,
          27,
          28,
          29,
          30,
          31,
          32,
          33,
          34,
          35,
          36,
          37,
          38,
          39,
          40,
          41,
          42,
          43,
          44,
          45,
          46,
          47,
          48,
          49,
          50,
          51,
          52,
          53,
          54,
          55,
          56,
          57,
          58,
          59,
          60,
          61,
          62,
          63,
          64,
          65,
          66,
          67,
          68,
          69,
          70,
          71,
          72,
          73,
          74,
          75,
          76,
          77,
          78,
          79,
          80,
          81,
          82,
          83,
          84,
          85,
          86,
          87,
          88,
          89,
          90,
          91,
          92,
          93,
          94,
          95,
          96,
          97,
          98,
          99
         ],
         "xaxis": "x2",
         "y": [
          0.37109700392593326,
          0.31468845748181784,
          0.28990863925132,
          0.2719502918815635,
          0.22361410664192755,
          0.26107889354019537,
          0.23460588364969434,
          0.21281654740634792,
          0.21499943943421304,
          0.20360068519399926,
          0.20804245996583226,
          0.20227282914170858,
          0.2053219920182041,
          0.20305367616211858,
          0.19288834328185522,
          0.22084744763059846,
          0.22446852133779302,
          0.19682465915838057,
          0.19114441022784115,
          0.1904637377570644,
          0.16868335786967623,
          0.15853660302612865,
          0.16711210938384397,
          0.1590708355446599,
          0.15398427369412912,
          0.1805780215269166,
          0.15320875070565082,
          0.1645467993767165,
          0.1513392062475264,
          0.15264562470468893,
          0.14378950543602345,
          0.13654507363959992,
          0.14327524955406995,
          0.14160616358388176,
          0.170988825443441,
          0.12426262155915868,
          0.16362091148614974,
          0.13401086100772616,
          0.13458101861864236,
          0.11439191495373471,
          0.13576423737574206,
          0.12250843963178219,
          0.11777368973601436,
          0.1245843634893438,
          0.12514276336370966,
          0.12195517267607758,
          0.12783476122462595,
          0.14878135538191814,
          0.13165253374633681,
          0.14100869172856684,
          0.13420388274464226,
          0.13256055273114947,
          0.1344661485267626,
          0.10883039228891014,
          0.13877156120112114,
          0.12487141713095448,
          0.08968617514631613,
          0.11717084753276068,
          0.09177524027876624,
          0.1268618391246646,
          0.10517815787721381,
          0.13723459908831404,
          0.10501348672608367,
          0.10357976361763936,
          0.10791548314541492,
          0.12551683233225294,
          0.10698376504081909,
          0.11543720178693288,
          0.10369965936581331,
          0.1183344528275003,
          0.09970984676654927,
          0.11697832384970118,
          0.1261619850082069,
          0.11282208701560947,
          0.11811791511801661,
          0.09176986252719364,
          0.11697618518084903,
          0.09123260923846659,
          0.10251443453197971,
          0.10142727935269027,
          0.11324318351736763,
          0.1193375805091078,
          0.10811043650755077,
          0.09288696978542324,
          0.10490518675342692,
          0.09318708446904826,
          0.09551646158272217,
          0.12119188149395616,
          0.10281072861289413,
          0.08184861834093005,
          0.10629233900099054,
          0.10135947640748419,
          0.09460168039880461,
          0.09374168911578819,
          0.10096803991337093,
          0.09884774895183117,
          0.09393774938562292,
          0.10001654822296842,
          0.08883202073896133,
          0.09901604667352497
         ],
         "yaxis": "y2"
        },
        {
         "mode": "lines",
         "name": "Prediction With CL",
         "type": "scatter",
         "x": [
          0.05,
          0.15000000000000002,
          0.25000000000000006,
          0.35000000000000003,
          0.45000000000000007,
          0.5500000000000002,
          0.6500000000000001,
          0.7500000000000002,
          0.8500000000000002,
          0.9500000000000002,
          1.0500000000000003,
          1.1500000000000004,
          1.2500000000000002,
          1.3500000000000003,
          1.4500000000000004,
          1.5500000000000003,
          1.6500000000000004,
          1.7500000000000004,
          1.8500000000000003,
          1.9500000000000004,
          2.0500000000000003,
          2.1500000000000004,
          2.2500000000000004,
          2.35,
          2.45,
          2.5500000000000003,
          2.6500000000000004,
          2.7500000000000004,
          2.8500000000000005,
          2.95,
          3.0500000000000003,
          3.1500000000000004,
          3.2500000000000004,
          3.3500000000000005,
          3.4500000000000006,
          3.5500000000000007,
          3.6500000000000004,
          3.7500000000000004,
          3.8500000000000005,
          3.9500000000000006,
          4.050000000000001,
          4.15,
          4.250000000000001,
          4.3500000000000005,
          4.450000000000001,
          4.550000000000001,
          4.65,
          4.750000000000001,
          4.8500000000000005,
          4.950000000000001,
          5.050000000000001,
          5.150000000000001,
          5.250000000000001,
          5.3500000000000005,
          5.450000000000001,
          5.550000000000001,
          5.650000000000001,
          5.750000000000001,
          5.8500000000000005,
          5.950000000000001,
          6.050000000000001,
          6.150000000000001,
          6.250000000000001
         ],
         "xaxis": "x",
         "y": [
          0.29177129264995766,
          0.42131879940178174,
          0.547753384133592,
          0.6653866380708071,
          0.7683803098421197,
          0.851056268362853,
          0.9082253360065572,
          0.9355145747379502,
          0.929671249531708,
          0.888821943590042,
          0.8126672106535922,
          0.7025956270375583,
          0.5617059164228901,
          0.39473161183016753,
          0.20786905367536226,
          0.008515917284717274,
          -0.19506656632133987,
          -0.39414942843143425,
          -0.5799676771095055,
          -0.7441633781211868,
          -0.8792148055951593,
          -0.9788272276164514,
          -1.0382632714305746,
          -1.0545944977240738,
          -1.0268605147647802,
          -0.9561273442183266,
          -0.845442455385475,
          -0.6996895652927697,
          -0.5253516401799935,
          -0.33019525708706104,
          -0.12289337581559352,
          0.08739352554574488,
          0.29145618260900336,
          0.480472690959263,
          0.646420056423988,
          0.7824406624742406,
          0.8831456871675035,
          0.944840897725548,
          0.9656643701914923,
          0.9456303393500791,
          0.8865783636772294,
          0.7920320469466575,
          0.6669764263177189,
          0.5175675399004677,
          0.3507913537176457,
          0.17409191203841642,
          -0.005009923994495104,
          -0.17928559887202358,
          -0.3421354709430885,
          -0.48787501315905374,
          -0.6119563455268769,
          -0.7111153674001307,
          -0.7834398501463751,
          -0.8283591210080545,
          -0.8465610131972959,
          -0.8398461909100353,
          -0.8109334527756198,
          -0.763231932890277,
          -0.7005971248283418,
          -0.6270873412488198,
          -0.5467356980081407,
          -0.4633501873884313,
          -0.3803511667692255
         ],
         "yaxis": "y"
        }
       ],
       "layout": {
        "annotations": [
         {
          "font": {
           "size": 16
          },
          "showarrow": false,
          "text": "Validation",
          "x": 0.225,
          "xanchor": "center",
          "xref": "paper",
          "y": 1,
          "yanchor": "bottom",
          "yref": "paper"
         },
         {
          "font": {
           "size": 16
          },
          "showarrow": false,
          "text": "Residual error",
          "x": 0.775,
          "xanchor": "center",
          "xref": "paper",
          "y": 1,
          "yanchor": "bottom",
          "yref": "paper"
         }
        ],
        "template": {
         "data": {
          "bar": [
           {
            "error_x": {
             "color": "#2a3f5f"
            },
            "error_y": {
             "color": "#2a3f5f"
            },
            "marker": {
             "line": {
              "color": "#E5ECF6",
              "width": 0.5
             }
            },
            "type": "bar"
           }
          ],
          "barpolar": [
           {
            "marker": {
             "line": {
              "color": "#E5ECF6",
              "width": 0.5
             }
            },
            "type": "barpolar"
           }
          ],
          "carpet": [
           {
            "aaxis": {
             "endlinecolor": "#2a3f5f",
             "gridcolor": "white",
             "linecolor": "white",
             "minorgridcolor": "white",
             "startlinecolor": "#2a3f5f"
            },
            "baxis": {
             "endlinecolor": "#2a3f5f",
             "gridcolor": "white",
             "linecolor": "white",
             "minorgridcolor": "white",
             "startlinecolor": "#2a3f5f"
            },
            "type": "carpet"
           }
          ],
          "choropleth": [
           {
            "colorbar": {
             "outlinewidth": 0,
             "ticks": ""
            },
            "type": "choropleth"
           }
          ],
          "contour": [
           {
            "colorbar": {
             "outlinewidth": 0,
             "ticks": ""
            },
            "colorscale": [
             [
              0,
              "#0d0887"
             ],
             [
              0.1111111111111111,
              "#46039f"
             ],
             [
              0.2222222222222222,
              "#7201a8"
             ],
             [
              0.3333333333333333,
              "#9c179e"
             ],
             [
              0.4444444444444444,
              "#bd3786"
             ],
             [
              0.5555555555555556,
              "#d8576b"
             ],
             [
              0.6666666666666666,
              "#ed7953"
             ],
             [
              0.7777777777777778,
              "#fb9f3a"
             ],
             [
              0.8888888888888888,
              "#fdca26"
             ],
             [
              1,
              "#f0f921"
             ]
            ],
            "type": "contour"
           }
          ],
          "contourcarpet": [
           {
            "colorbar": {
             "outlinewidth": 0,
             "ticks": ""
            },
            "type": "contourcarpet"
           }
          ],
          "heatmap": [
           {
            "colorbar": {
             "outlinewidth": 0,
             "ticks": ""
            },
            "colorscale": [
             [
              0,
              "#0d0887"
             ],
             [
              0.1111111111111111,
              "#46039f"
             ],
             [
              0.2222222222222222,
              "#7201a8"
             ],
             [
              0.3333333333333333,
              "#9c179e"
             ],
             [
              0.4444444444444444,
              "#bd3786"
             ],
             [
              0.5555555555555556,
              "#d8576b"
             ],
             [
              0.6666666666666666,
              "#ed7953"
             ],
             [
              0.7777777777777778,
              "#fb9f3a"
             ],
             [
              0.8888888888888888,
              "#fdca26"
             ],
             [
              1,
              "#f0f921"
             ]
            ],
            "type": "heatmap"
           }
          ],
          "heatmapgl": [
           {
            "colorbar": {
             "outlinewidth": 0,
             "ticks": ""
            },
            "colorscale": [
             [
              0,
              "#0d0887"
             ],
             [
              0.1111111111111111,
              "#46039f"
             ],
             [
              0.2222222222222222,
              "#7201a8"
             ],
             [
              0.3333333333333333,
              "#9c179e"
             ],
             [
              0.4444444444444444,
              "#bd3786"
             ],
             [
              0.5555555555555556,
              "#d8576b"
             ],
             [
              0.6666666666666666,
              "#ed7953"
             ],
             [
              0.7777777777777778,
              "#fb9f3a"
             ],
             [
              0.8888888888888888,
              "#fdca26"
             ],
             [
              1,
              "#f0f921"
             ]
            ],
            "type": "heatmapgl"
           }
          ],
          "histogram": [
           {
            "marker": {
             "colorbar": {
              "outlinewidth": 0,
              "ticks": ""
             }
            },
            "type": "histogram"
           }
          ],
          "histogram2d": [
           {
            "colorbar": {
             "outlinewidth": 0,
             "ticks": ""
            },
            "colorscale": [
             [
              0,
              "#0d0887"
             ],
             [
              0.1111111111111111,
              "#46039f"
             ],
             [
              0.2222222222222222,
              "#7201a8"
             ],
             [
              0.3333333333333333,
              "#9c179e"
             ],
             [
              0.4444444444444444,
              "#bd3786"
             ],
             [
              0.5555555555555556,
              "#d8576b"
             ],
             [
              0.6666666666666666,
              "#ed7953"
             ],
             [
              0.7777777777777778,
              "#fb9f3a"
             ],
             [
              0.8888888888888888,
              "#fdca26"
             ],
             [
              1,
              "#f0f921"
             ]
            ],
            "type": "histogram2d"
           }
          ],
          "histogram2dcontour": [
           {
            "colorbar": {
             "outlinewidth": 0,
             "ticks": ""
            },
            "colorscale": [
             [
              0,
              "#0d0887"
             ],
             [
              0.1111111111111111,
              "#46039f"
             ],
             [
              0.2222222222222222,
              "#7201a8"
             ],
             [
              0.3333333333333333,
              "#9c179e"
             ],
             [
              0.4444444444444444,
              "#bd3786"
             ],
             [
              0.5555555555555556,
              "#d8576b"
             ],
             [
              0.6666666666666666,
              "#ed7953"
             ],
             [
              0.7777777777777778,
              "#fb9f3a"
             ],
             [
              0.8888888888888888,
              "#fdca26"
             ],
             [
              1,
              "#f0f921"
             ]
            ],
            "type": "histogram2dcontour"
           }
          ],
          "mesh3d": [
           {
            "colorbar": {
             "outlinewidth": 0,
             "ticks": ""
            },
            "type": "mesh3d"
           }
          ],
          "parcoords": [
           {
            "line": {
             "colorbar": {
              "outlinewidth": 0,
              "ticks": ""
             }
            },
            "type": "parcoords"
           }
          ],
          "pie": [
           {
            "automargin": true,
            "type": "pie"
           }
          ],
          "scatter": [
           {
            "marker": {
             "colorbar": {
              "outlinewidth": 0,
              "ticks": ""
             }
            },
            "type": "scatter"
           }
          ],
          "scatter3d": [
           {
            "line": {
             "colorbar": {
              "outlinewidth": 0,
              "ticks": ""
             }
            },
            "marker": {
             "colorbar": {
              "outlinewidth": 0,
              "ticks": ""
             }
            },
            "type": "scatter3d"
           }
          ],
          "scattercarpet": [
           {
            "marker": {
             "colorbar": {
              "outlinewidth": 0,
              "ticks": ""
             }
            },
            "type": "scattercarpet"
           }
          ],
          "scattergeo": [
           {
            "marker": {
             "colorbar": {
              "outlinewidth": 0,
              "ticks": ""
             }
            },
            "type": "scattergeo"
           }
          ],
          "scattergl": [
           {
            "marker": {
             "colorbar": {
              "outlinewidth": 0,
              "ticks": ""
             }
            },
            "type": "scattergl"
           }
          ],
          "scattermapbox": [
           {
            "marker": {
             "colorbar": {
              "outlinewidth": 0,
              "ticks": ""
             }
            },
            "type": "scattermapbox"
           }
          ],
          "scatterpolar": [
           {
            "marker": {
             "colorbar": {
              "outlinewidth": 0,
              "ticks": ""
             }
            },
            "type": "scatterpolar"
           }
          ],
          "scatterpolargl": [
           {
            "marker": {
             "colorbar": {
              "outlinewidth": 0,
              "ticks": ""
             }
            },
            "type": "scatterpolargl"
           }
          ],
          "scatterternary": [
           {
            "marker": {
             "colorbar": {
              "outlinewidth": 0,
              "ticks": ""
             }
            },
            "type": "scatterternary"
           }
          ],
          "surface": [
           {
            "colorbar": {
             "outlinewidth": 0,
             "ticks": ""
            },
            "colorscale": [
             [
              0,
              "#0d0887"
             ],
             [
              0.1111111111111111,
              "#46039f"
             ],
             [
              0.2222222222222222,
              "#7201a8"
             ],
             [
              0.3333333333333333,
              "#9c179e"
             ],
             [
              0.4444444444444444,
              "#bd3786"
             ],
             [
              0.5555555555555556,
              "#d8576b"
             ],
             [
              0.6666666666666666,
              "#ed7953"
             ],
             [
              0.7777777777777778,
              "#fb9f3a"
             ],
             [
              0.8888888888888888,
              "#fdca26"
             ],
             [
              1,
              "#f0f921"
             ]
            ],
            "type": "surface"
           }
          ],
          "table": [
           {
            "cells": {
             "fill": {
              "color": "#EBF0F8"
             },
             "line": {
              "color": "white"
             }
            },
            "header": {
             "fill": {
              "color": "#C8D4E3"
             },
             "line": {
              "color": "white"
             }
            },
            "type": "table"
           }
          ]
         },
         "layout": {
          "annotationdefaults": {
           "arrowcolor": "#2a3f5f",
           "arrowhead": 0,
           "arrowwidth": 1
          },
          "coloraxis": {
           "colorbar": {
            "outlinewidth": 0,
            "ticks": ""
           }
          },
          "colorscale": {
           "diverging": [
            [
             0,
             "#8e0152"
            ],
            [
             0.1,
             "#c51b7d"
            ],
            [
             0.2,
             "#de77ae"
            ],
            [
             0.3,
             "#f1b6da"
            ],
            [
             0.4,
             "#fde0ef"
            ],
            [
             0.5,
             "#f7f7f7"
            ],
            [
             0.6,
             "#e6f5d0"
            ],
            [
             0.7,
             "#b8e186"
            ],
            [
             0.8,
             "#7fbc41"
            ],
            [
             0.9,
             "#4d9221"
            ],
            [
             1,
             "#276419"
            ]
           ],
           "sequential": [
            [
             0,
             "#0d0887"
            ],
            [
             0.1111111111111111,
             "#46039f"
            ],
            [
             0.2222222222222222,
             "#7201a8"
            ],
            [
             0.3333333333333333,
             "#9c179e"
            ],
            [
             0.4444444444444444,
             "#bd3786"
            ],
            [
             0.5555555555555556,
             "#d8576b"
            ],
            [
             0.6666666666666666,
             "#ed7953"
            ],
            [
             0.7777777777777778,
             "#fb9f3a"
            ],
            [
             0.8888888888888888,
             "#fdca26"
            ],
            [
             1,
             "#f0f921"
            ]
           ],
           "sequentialminus": [
            [
             0,
             "#0d0887"
            ],
            [
             0.1111111111111111,
             "#46039f"
            ],
            [
             0.2222222222222222,
             "#7201a8"
            ],
            [
             0.3333333333333333,
             "#9c179e"
            ],
            [
             0.4444444444444444,
             "#bd3786"
            ],
            [
             0.5555555555555556,
             "#d8576b"
            ],
            [
             0.6666666666666666,
             "#ed7953"
            ],
            [
             0.7777777777777778,
             "#fb9f3a"
            ],
            [
             0.8888888888888888,
             "#fdca26"
            ],
            [
             1,
             "#f0f921"
            ]
           ]
          },
          "colorway": [
           "#636efa",
           "#EF553B",
           "#00cc96",
           "#ab63fa",
           "#FFA15A",
           "#19d3f3",
           "#FF6692",
           "#B6E880",
           "#FF97FF",
           "#FECB52"
          ],
          "font": {
           "color": "#2a3f5f"
          },
          "geo": {
           "bgcolor": "white",
           "lakecolor": "white",
           "landcolor": "#E5ECF6",
           "showlakes": true,
           "showland": true,
           "subunitcolor": "white"
          },
          "hoverlabel": {
           "align": "left"
          },
          "hovermode": "closest",
          "mapbox": {
           "style": "light"
          },
          "paper_bgcolor": "white",
          "plot_bgcolor": "#E5ECF6",
          "polar": {
           "angularaxis": {
            "gridcolor": "white",
            "linecolor": "white",
            "ticks": ""
           },
           "bgcolor": "#E5ECF6",
           "radialaxis": {
            "gridcolor": "white",
            "linecolor": "white",
            "ticks": ""
           }
          },
          "scene": {
           "xaxis": {
            "backgroundcolor": "#E5ECF6",
            "gridcolor": "white",
            "gridwidth": 2,
            "linecolor": "white",
            "showbackground": true,
            "ticks": "",
            "zerolinecolor": "white"
           },
           "yaxis": {
            "backgroundcolor": "#E5ECF6",
            "gridcolor": "white",
            "gridwidth": 2,
            "linecolor": "white",
            "showbackground": true,
            "ticks": "",
            "zerolinecolor": "white"
           },
           "zaxis": {
            "backgroundcolor": "#E5ECF6",
            "gridcolor": "white",
            "gridwidth": 2,
            "linecolor": "white",
            "showbackground": true,
            "ticks": "",
            "zerolinecolor": "white"
           }
          },
          "shapedefaults": {
           "line": {
            "color": "#2a3f5f"
           }
          },
          "ternary": {
           "aaxis": {
            "gridcolor": "white",
            "linecolor": "white",
            "ticks": ""
           },
           "baxis": {
            "gridcolor": "white",
            "linecolor": "white",
            "ticks": ""
           },
           "bgcolor": "#E5ECF6",
           "caxis": {
            "gridcolor": "white",
            "linecolor": "white",
            "ticks": ""
           }
          },
          "title": {
           "x": 0.05
          },
          "xaxis": {
           "automargin": true,
           "gridcolor": "white",
           "linecolor": "white",
           "ticks": "",
           "title": {
            "standoff": 15
           },
           "zerolinecolor": "white",
           "zerolinewidth": 2
          },
          "yaxis": {
           "automargin": true,
           "gridcolor": "white",
           "linecolor": "white",
           "ticks": "",
           "title": {
            "standoff": 15
           },
           "zerolinecolor": "white",
           "zerolinewidth": 2
          }
         }
        },
        "xaxis": {
         "anchor": "y",
         "domain": [
          0,
          0.45
         ]
        },
        "xaxis2": {
         "anchor": "y2",
         "domain": [
          0.55,
          1
         ]
        },
        "yaxis": {
         "anchor": "x",
         "domain": [
          0,
          1
         ]
        },
        "yaxis2": {
         "anchor": "x2",
         "domain": [
          0,
          1
         ]
        }
       }
      }
     },
     "metadata": {}
    }
   ],
   "source": [
    "x, sin_data, sqr_data = data_gen(0, 2*np.pi)\n",
    "t_x, t_sin_data, t_sqr_data = data_gen(0.05, 2*np.pi)\n",
    "\n",
    "epochs = 100\n",
    "n = 10\n",
    "\n",
    "fig = make_subplots(rows=1, cols=2, subplot_titles=(\"Validation\", \"Residual error\"))\n",
    "\n",
    "\n",
    "fig.add_trace(go.Scatter(x=t_x.ravel(), y=sin_data.ravel(), mode=\"lines\", name=\"Original\"), row=1, col=1)\n",
    "\n",
    "# Non-CL\n",
    "RBFNet = RBF_Network(n, x, eta=1e-1, useDelta=True, add_noise=True)\n",
    "RBFNet.train_network(epochs, x, sin_data, t_x, t_sin_data)\n",
    "RBFNet.validate(t_x, t_sin_data)\n",
    "\n",
    "fig.add_trace(go.Scatter(x=np.arange(len(RBFNet.residual_error)), y=RBFNet.residual_error, mode=\"lines\", name=\"Error Without CL\"), row=1, col=2)\n",
    "fig.add_trace(go.Scatter(x=t_x.ravel(), y=RBFNet.f_of_x.ravel(), mode=\"lines\", name=\"Prediction Without CL\"), row=1, col=1)\n",
    "\n",
    "# Using CL\n",
    "RBFNet_cl = RBF_Network(n, x, eta=1e-1,useDelta=True,add_noise=True)\n",
    "RBFNet_cl.init_cl(x, 100, 1e-1)\n",
    "RBFNet_cl.train_network(epochs, x, sin_data, t_x, t_sin_data)\n",
    "RBFNet_cl.validate(t_x, t_sin_data)\n",
    "\n",
    "fig.add_trace(go.Scatter(x=np.arange(len(RBFNet_cl.residual_error)), y=RBFNet_cl.residual_error, mode=\"lines\", name=\"Error With CL\"), row=1, col=2)\n",
    "fig.add_trace(go.Scatter(x=t_x.ravel(), y=RBFNet_cl.f_of_x.ravel(), mode=\"lines\", name=\"Prediction With CL\"), row=1, col=1)\n",
    "\n",
    "fig.show()\n",
    "\n",
    "\n"
   ]
  },
  {
   "source": [
    "## 3.3.2 - Avoid dead nodes\n",
    "\n"
   ],
   "cell_type": "markdown",
   "metadata": {}
  },
  {
   "cell_type": "code",
   "execution_count": 280,
   "metadata": {},
   "outputs": [
    {
     "output_type": "display_data",
     "data": {
      "application/vnd.plotly.v1+json": {
       "config": {
        "plotlyServerURL": "https://plot.ly"
       },
       "data": [
        {
         "name": "Without bias",
         "type": "bar",
         "x": [
          0,
          1,
          2,
          3,
          4,
          5,
          6,
          7,
          8,
          9
         ],
         "y": [
          774,
          708,
          334,
          790,
          471,
          745,
          760,
          365,
          590,
          763
         ]
        },
        {
         "name": "With bias",
         "type": "bar",
         "x": [
          0,
          1,
          2,
          3,
          4,
          5,
          6,
          7,
          8,
          9
         ],
         "y": [
          623,
          631,
          636,
          617,
          642,
          628,
          626,
          640,
          636,
          621
         ]
        }
       ],
       "layout": {
        "template": {
         "data": {
          "bar": [
           {
            "error_x": {
             "color": "#2a3f5f"
            },
            "error_y": {
             "color": "#2a3f5f"
            },
            "marker": {
             "line": {
              "color": "#E5ECF6",
              "width": 0.5
             }
            },
            "type": "bar"
           }
          ],
          "barpolar": [
           {
            "marker": {
             "line": {
              "color": "#E5ECF6",
              "width": 0.5
             }
            },
            "type": "barpolar"
           }
          ],
          "carpet": [
           {
            "aaxis": {
             "endlinecolor": "#2a3f5f",
             "gridcolor": "white",
             "linecolor": "white",
             "minorgridcolor": "white",
             "startlinecolor": "#2a3f5f"
            },
            "baxis": {
             "endlinecolor": "#2a3f5f",
             "gridcolor": "white",
             "linecolor": "white",
             "minorgridcolor": "white",
             "startlinecolor": "#2a3f5f"
            },
            "type": "carpet"
           }
          ],
          "choropleth": [
           {
            "colorbar": {
             "outlinewidth": 0,
             "ticks": ""
            },
            "type": "choropleth"
           }
          ],
          "contour": [
           {
            "colorbar": {
             "outlinewidth": 0,
             "ticks": ""
            },
            "colorscale": [
             [
              0,
              "#0d0887"
             ],
             [
              0.1111111111111111,
              "#46039f"
             ],
             [
              0.2222222222222222,
              "#7201a8"
             ],
             [
              0.3333333333333333,
              "#9c179e"
             ],
             [
              0.4444444444444444,
              "#bd3786"
             ],
             [
              0.5555555555555556,
              "#d8576b"
             ],
             [
              0.6666666666666666,
              "#ed7953"
             ],
             [
              0.7777777777777778,
              "#fb9f3a"
             ],
             [
              0.8888888888888888,
              "#fdca26"
             ],
             [
              1,
              "#f0f921"
             ]
            ],
            "type": "contour"
           }
          ],
          "contourcarpet": [
           {
            "colorbar": {
             "outlinewidth": 0,
             "ticks": ""
            },
            "type": "contourcarpet"
           }
          ],
          "heatmap": [
           {
            "colorbar": {
             "outlinewidth": 0,
             "ticks": ""
            },
            "colorscale": [
             [
              0,
              "#0d0887"
             ],
             [
              0.1111111111111111,
              "#46039f"
             ],
             [
              0.2222222222222222,
              "#7201a8"
             ],
             [
              0.3333333333333333,
              "#9c179e"
             ],
             [
              0.4444444444444444,
              "#bd3786"
             ],
             [
              0.5555555555555556,
              "#d8576b"
             ],
             [
              0.6666666666666666,
              "#ed7953"
             ],
             [
              0.7777777777777778,
              "#fb9f3a"
             ],
             [
              0.8888888888888888,
              "#fdca26"
             ],
             [
              1,
              "#f0f921"
             ]
            ],
            "type": "heatmap"
           }
          ],
          "heatmapgl": [
           {
            "colorbar": {
             "outlinewidth": 0,
             "ticks": ""
            },
            "colorscale": [
             [
              0,
              "#0d0887"
             ],
             [
              0.1111111111111111,
              "#46039f"
             ],
             [
              0.2222222222222222,
              "#7201a8"
             ],
             [
              0.3333333333333333,
              "#9c179e"
             ],
             [
              0.4444444444444444,
              "#bd3786"
             ],
             [
              0.5555555555555556,
              "#d8576b"
             ],
             [
              0.6666666666666666,
              "#ed7953"
             ],
             [
              0.7777777777777778,
              "#fb9f3a"
             ],
             [
              0.8888888888888888,
              "#fdca26"
             ],
             [
              1,
              "#f0f921"
             ]
            ],
            "type": "heatmapgl"
           }
          ],
          "histogram": [
           {
            "marker": {
             "colorbar": {
              "outlinewidth": 0,
              "ticks": ""
             }
            },
            "type": "histogram"
           }
          ],
          "histogram2d": [
           {
            "colorbar": {
             "outlinewidth": 0,
             "ticks": ""
            },
            "colorscale": [
             [
              0,
              "#0d0887"
             ],
             [
              0.1111111111111111,
              "#46039f"
             ],
             [
              0.2222222222222222,
              "#7201a8"
             ],
             [
              0.3333333333333333,
              "#9c179e"
             ],
             [
              0.4444444444444444,
              "#bd3786"
             ],
             [
              0.5555555555555556,
              "#d8576b"
             ],
             [
              0.6666666666666666,
              "#ed7953"
             ],
             [
              0.7777777777777778,
              "#fb9f3a"
             ],
             [
              0.8888888888888888,
              "#fdca26"
             ],
             [
              1,
              "#f0f921"
             ]
            ],
            "type": "histogram2d"
           }
          ],
          "histogram2dcontour": [
           {
            "colorbar": {
             "outlinewidth": 0,
             "ticks": ""
            },
            "colorscale": [
             [
              0,
              "#0d0887"
             ],
             [
              0.1111111111111111,
              "#46039f"
             ],
             [
              0.2222222222222222,
              "#7201a8"
             ],
             [
              0.3333333333333333,
              "#9c179e"
             ],
             [
              0.4444444444444444,
              "#bd3786"
             ],
             [
              0.5555555555555556,
              "#d8576b"
             ],
             [
              0.6666666666666666,
              "#ed7953"
             ],
             [
              0.7777777777777778,
              "#fb9f3a"
             ],
             [
              0.8888888888888888,
              "#fdca26"
             ],
             [
              1,
              "#f0f921"
             ]
            ],
            "type": "histogram2dcontour"
           }
          ],
          "mesh3d": [
           {
            "colorbar": {
             "outlinewidth": 0,
             "ticks": ""
            },
            "type": "mesh3d"
           }
          ],
          "parcoords": [
           {
            "line": {
             "colorbar": {
              "outlinewidth": 0,
              "ticks": ""
             }
            },
            "type": "parcoords"
           }
          ],
          "pie": [
           {
            "automargin": true,
            "type": "pie"
           }
          ],
          "scatter": [
           {
            "marker": {
             "colorbar": {
              "outlinewidth": 0,
              "ticks": ""
             }
            },
            "type": "scatter"
           }
          ],
          "scatter3d": [
           {
            "line": {
             "colorbar": {
              "outlinewidth": 0,
              "ticks": ""
             }
            },
            "marker": {
             "colorbar": {
              "outlinewidth": 0,
              "ticks": ""
             }
            },
            "type": "scatter3d"
           }
          ],
          "scattercarpet": [
           {
            "marker": {
             "colorbar": {
              "outlinewidth": 0,
              "ticks": ""
             }
            },
            "type": "scattercarpet"
           }
          ],
          "scattergeo": [
           {
            "marker": {
             "colorbar": {
              "outlinewidth": 0,
              "ticks": ""
             }
            },
            "type": "scattergeo"
           }
          ],
          "scattergl": [
           {
            "marker": {
             "colorbar": {
              "outlinewidth": 0,
              "ticks": ""
             }
            },
            "type": "scattergl"
           }
          ],
          "scattermapbox": [
           {
            "marker": {
             "colorbar": {
              "outlinewidth": 0,
              "ticks": ""
             }
            },
            "type": "scattermapbox"
           }
          ],
          "scatterpolar": [
           {
            "marker": {
             "colorbar": {
              "outlinewidth": 0,
              "ticks": ""
             }
            },
            "type": "scatterpolar"
           }
          ],
          "scatterpolargl": [
           {
            "marker": {
             "colorbar": {
              "outlinewidth": 0,
              "ticks": ""
             }
            },
            "type": "scatterpolargl"
           }
          ],
          "scatterternary": [
           {
            "marker": {
             "colorbar": {
              "outlinewidth": 0,
              "ticks": ""
             }
            },
            "type": "scatterternary"
           }
          ],
          "surface": [
           {
            "colorbar": {
             "outlinewidth": 0,
             "ticks": ""
            },
            "colorscale": [
             [
              0,
              "#0d0887"
             ],
             [
              0.1111111111111111,
              "#46039f"
             ],
             [
              0.2222222222222222,
              "#7201a8"
             ],
             [
              0.3333333333333333,
              "#9c179e"
             ],
             [
              0.4444444444444444,
              "#bd3786"
             ],
             [
              0.5555555555555556,
              "#d8576b"
             ],
             [
              0.6666666666666666,
              "#ed7953"
             ],
             [
              0.7777777777777778,
              "#fb9f3a"
             ],
             [
              0.8888888888888888,
              "#fdca26"
             ],
             [
              1,
              "#f0f921"
             ]
            ],
            "type": "surface"
           }
          ],
          "table": [
           {
            "cells": {
             "fill": {
              "color": "#EBF0F8"
             },
             "line": {
              "color": "white"
             }
            },
            "header": {
             "fill": {
              "color": "#C8D4E3"
             },
             "line": {
              "color": "white"
             }
            },
            "type": "table"
           }
          ]
         },
         "layout": {
          "annotationdefaults": {
           "arrowcolor": "#2a3f5f",
           "arrowhead": 0,
           "arrowwidth": 1
          },
          "coloraxis": {
           "colorbar": {
            "outlinewidth": 0,
            "ticks": ""
           }
          },
          "colorscale": {
           "diverging": [
            [
             0,
             "#8e0152"
            ],
            [
             0.1,
             "#c51b7d"
            ],
            [
             0.2,
             "#de77ae"
            ],
            [
             0.3,
             "#f1b6da"
            ],
            [
             0.4,
             "#fde0ef"
            ],
            [
             0.5,
             "#f7f7f7"
            ],
            [
             0.6,
             "#e6f5d0"
            ],
            [
             0.7,
             "#b8e186"
            ],
            [
             0.8,
             "#7fbc41"
            ],
            [
             0.9,
             "#4d9221"
            ],
            [
             1,
             "#276419"
            ]
           ],
           "sequential": [
            [
             0,
             "#0d0887"
            ],
            [
             0.1111111111111111,
             "#46039f"
            ],
            [
             0.2222222222222222,
             "#7201a8"
            ],
            [
             0.3333333333333333,
             "#9c179e"
            ],
            [
             0.4444444444444444,
             "#bd3786"
            ],
            [
             0.5555555555555556,
             "#d8576b"
            ],
            [
             0.6666666666666666,
             "#ed7953"
            ],
            [
             0.7777777777777778,
             "#fb9f3a"
            ],
            [
             0.8888888888888888,
             "#fdca26"
            ],
            [
             1,
             "#f0f921"
            ]
           ],
           "sequentialminus": [
            [
             0,
             "#0d0887"
            ],
            [
             0.1111111111111111,
             "#46039f"
            ],
            [
             0.2222222222222222,
             "#7201a8"
            ],
            [
             0.3333333333333333,
             "#9c179e"
            ],
            [
             0.4444444444444444,
             "#bd3786"
            ],
            [
             0.5555555555555556,
             "#d8576b"
            ],
            [
             0.6666666666666666,
             "#ed7953"
            ],
            [
             0.7777777777777778,
             "#fb9f3a"
            ],
            [
             0.8888888888888888,
             "#fdca26"
            ],
            [
             1,
             "#f0f921"
            ]
           ]
          },
          "colorway": [
           "#636efa",
           "#EF553B",
           "#00cc96",
           "#ab63fa",
           "#FFA15A",
           "#19d3f3",
           "#FF6692",
           "#B6E880",
           "#FF97FF",
           "#FECB52"
          ],
          "font": {
           "color": "#2a3f5f"
          },
          "geo": {
           "bgcolor": "white",
           "lakecolor": "white",
           "landcolor": "#E5ECF6",
           "showlakes": true,
           "showland": true,
           "subunitcolor": "white"
          },
          "hoverlabel": {
           "align": "left"
          },
          "hovermode": "closest",
          "mapbox": {
           "style": "light"
          },
          "paper_bgcolor": "white",
          "plot_bgcolor": "#E5ECF6",
          "polar": {
           "angularaxis": {
            "gridcolor": "white",
            "linecolor": "white",
            "ticks": ""
           },
           "bgcolor": "#E5ECF6",
           "radialaxis": {
            "gridcolor": "white",
            "linecolor": "white",
            "ticks": ""
           }
          },
          "scene": {
           "xaxis": {
            "backgroundcolor": "#E5ECF6",
            "gridcolor": "white",
            "gridwidth": 2,
            "linecolor": "white",
            "showbackground": true,
            "ticks": "",
            "zerolinecolor": "white"
           },
           "yaxis": {
            "backgroundcolor": "#E5ECF6",
            "gridcolor": "white",
            "gridwidth": 2,
            "linecolor": "white",
            "showbackground": true,
            "ticks": "",
            "zerolinecolor": "white"
           },
           "zaxis": {
            "backgroundcolor": "#E5ECF6",
            "gridcolor": "white",
            "gridwidth": 2,
            "linecolor": "white",
            "showbackground": true,
            "ticks": "",
            "zerolinecolor": "white"
           }
          },
          "shapedefaults": {
           "line": {
            "color": "#2a3f5f"
           }
          },
          "ternary": {
           "aaxis": {
            "gridcolor": "white",
            "linecolor": "white",
            "ticks": ""
           },
           "baxis": {
            "gridcolor": "white",
            "linecolor": "white",
            "ticks": ""
           },
           "bgcolor": "#E5ECF6",
           "caxis": {
            "gridcolor": "white",
            "linecolor": "white",
            "ticks": ""
           }
          },
          "title": {
           "x": 0.05
          },
          "xaxis": {
           "automargin": true,
           "gridcolor": "white",
           "linecolor": "white",
           "ticks": "",
           "title": {
            "standoff": 15
           },
           "zerolinecolor": "white",
           "zerolinewidth": 2
          },
          "yaxis": {
           "automargin": true,
           "gridcolor": "white",
           "linecolor": "white",
           "ticks": "",
           "title": {
            "standoff": 15
           },
           "zerolinecolor": "white",
           "zerolinewidth": 2
          }
         }
        }
       }
      }
     },
     "metadata": {}
    }
   ],
   "source": [
    "x, sin_data, sqr_data = data_gen(0, 2*np.pi)\n",
    "t_x, t_sin_data, t_sqr_data = data_gen(0.05, 2*np.pi)\n",
    "\n",
    "\n",
    "epochs = 100\n",
    "n = 10\n",
    "\n",
    "# Without bias\n",
    "fig = go.Figure()\n",
    "RBFNet = RBF_Network(n, x, eta=1e-1, useDelta=True)\n",
    "wins1 = RBFNet.init_cl(x, 100, 1e-1)\n",
    "fig.add_trace(go.Bar(x=np.arange(len(wins1)), y=wins1.ravel(), name=\"Without bias\"))\n",
    "\n",
    "# With bias\n",
    "RBFNet = RBF_Network(n, x, eta=1e-1, useDelta=True)\n",
    "wins2 = RBFNet.init_cl(x, 100, 1e-1, useBias=True)\n",
    "fig.add_trace(go.Bar(x=np.arange(len(wins2)), y=wins2.ravel(), name=\"With bias\"))\n",
    "\n",
    "fig.show()\n"
   ]
  },
  {
   "cell_type": "code",
   "execution_count": null,
   "metadata": {},
   "outputs": [],
   "source": []
  }
 ]
}