{
 "metadata": {
  "language_info": {
   "codemirror_mode": {
    "name": "ipython",
    "version": 3
   },
   "file_extension": ".py",
   "mimetype": "text/x-python",
   "name": "python",
   "nbconvert_exporter": "python",
   "pygments_lexer": "ipython3",
   "version": "3.8.3-final"
  },
  "orig_nbformat": 2,
  "kernelspec": {
   "name": "python3",
   "display_name": "Python 3"
  }
 },
 "nbformat": 4,
 "nbformat_minor": 2,
 "cells": [
  {
   "cell_type": "code",
   "execution_count": 167,
   "metadata": {},
   "outputs": [],
   "source": [
    "import pickle\n",
    "import numpy as np\n",
    "import plotly.express as ex\n",
    "import plotly.graph_objects as go\n",
    "from sklearn.model_selection import train_test_split\n",
    "import json\n",
    "\n",
    "__author__=\"Nuo Chen\"\n",
    "np.random.seed(2020)\n"
   ]
  },
  {
   "cell_type": "markdown",
   "metadata": {},
   "source": [
    "# MLP Model \n",
    "---\n",
    "A basic MLP network:\n",
    "\n",
    "**Input**:\n",
    "\n",
    "**Learning rule**:\n",
    "- Delta rule\n",
    "- Backpropagation (generalised delta rule)\n",
    "\n",
    "**Output**:\n",
    "\n",
    "\n",
    "    "
   ]
  },
  {
   "cell_type": "code",
   "execution_count": 74,
   "metadata": {},
   "outputs": [],
   "source": [
    "class Model:\n",
    "    def __init__(self, nodes):\n",
    "        \"\"\"\n",
    "        Arg:\n",
    "            layers - [in, n1, n2, ..., nj, out] an array of numbers of nodes in each layer.\n",
    "        Returns:\n",
    "            a fully-connected network with default weights and biases sampled from N(0, 1)\n",
    "        \"\"\"\n",
    "        self.n_layers = len(nodes)\n",
    "        self.NODES = nodes\n",
    "        self.init_param()\n",
    "    def init_param(self, useBias=True):\n",
    "        \"\"\"\n",
    "        Initialize the weights and biases with samples from normal distributions\n",
    "        W = [shape(n1,n2), shape(n2,n3), ..., shape(nj,nj+1)], where nj = number of nodes in the layer\n",
    "        B = [shape(n1,1), shape(n2,1), ..., shape(nj,1)]\n",
    "        \"\"\"\n",
    "        self.useBias = useBias\n",
    "\n",
    "        self.W = [np.random.normal(0,1,(i,j)) for i,j in zip(self.NODES[:-1], self.NODES[1:])]\n",
    "        if useBias:\n",
    "            self.B = [np.random.normal(0,1,(i,1)) for i in self.NODES[1:]]\n",
    "        else:\n",
    "            self.B = [np.zeros(i,1) for i in self.NODES[1:]]\n",
    "            \n",
    "    def init_training_param(self, n, batch_size, epochs, eta, lmbda, useMom=False):\n",
    "        \"\"\"\n",
    "        Initialize the hyper-parameters\n",
    "        \"\"\"\n",
    "        self.n_samples = n\n",
    "        self.BATCH_SIZE = batch_size\n",
    "        self.EPOCHS = epochs\n",
    "        self.BATCHES = int(n/batch_size)\n",
    "        self.LAMBDA = lmbda\n",
    "        self.ETA = eta\n",
    "        self.useMom = useMom\n",
    "        if (useMom):\n",
    "            self.alpha = .9\n",
    "            self.theta = 0\n",
    "            self.omega = 0\n",
    "\n",
    "    def normalize(self, x):\n",
    "        \"\"\"\n",
    "        Normalizes the inputs\n",
    "        \"\"\"\n",
    "        mean = np.mean(x, axis=1, keepdims=True)\n",
    "        std = np.std(x, axis=1, keepdims=True)\n",
    "        x = (x-mean) / std\n",
    "        return x\n",
    "\n",
    "    @staticmethod\n",
    "    def softmax():\n",
    "        return lambda x: np.exp(x-np.max(x,axis=0)) / np.sum(np.exp(x-np.max(x,axis=0)), axis=0)\n",
    "    @staticmethod\n",
    "    def relu():\n",
    "        return lambda x: np.maximum(0,x)\n",
    "    @staticmethod\n",
    "    def delta_rule():\n",
    "        return lambda x,w,t,eta: -eta*(w@x - t)@x.T    \n",
    "    @staticmethod\n",
    "    def sigmoid():\n",
    "        return lambda x: 2 / (1+np.exp(-x)) - 1\n",
    "    \n",
    "    def cross_entropy(self, p, y):\n",
    "        \"\"\"\n",
    "        Returns the cross-entropy cost of the prediciton\n",
    "        \"\"\"\n",
    "        p[p==0] = 1e-7\n",
    "        cost = 1/y.shape[1] * -np.sum(y*np.log(p))\n",
    "        w_sum = [w**2 for w in self.W]\n",
    "        s = 0\n",
    "        for w in w_sum: \n",
    "            s+= np.sum(w)\n",
    "        cost += self.LAMBDA * s\n",
    "        return cost\n",
    "    def feedforward(self, activations, act_fn, out_fn):\n",
    "        \"\"\"\n",
    "        s1 = w1 @ x + b1\n",
    "        h1 = act_fn(s1)\n",
    "        ....\n",
    "        sn = wn @ h(n-1) + bn\n",
    "        return out_fn(sn)\n",
    "        \"\"\"\n",
    "        a = activations[0]\n",
    "        for i in range(self.n_layers-1):\n",
    "            print(self.W[i].shape)\n",
    "            print(a.shape)\n",
    "            print(self.B[i].shape)\n",
    "            \n",
    "            s = self.W[i].T @ a + self.B[i]\n",
    "            a = act_fn(a)\n",
    "            activations.append(a)\n",
    "\n",
    "        return out_fn(a)\n",
    "    def backPropagation(self, y, p, activations):\n",
    "        \"\"\"\n",
    "        Back propagate the network and calculate the gradients\n",
    "        \"\"\"\n",
    "        dw = [np.zeros(w.shape) for w in self.W]\n",
    "        db = [np.zeros(b.shape) for b in self.B]\n",
    "\n",
    "        g = -(y - p)\n",
    "        for i in range(len(self.W)-1, -1, -1):\n",
    "            dw[i] = g @ activations[i].T * 1/self.BATCH_SIZE + 2 * self.LAMBDA * self.W[i].T\n",
    "            db[i] =  (np.sum(g, axis=1) * 1/self.BATCH_SIZE).reshape(self.B[i].shape)\n",
    "            g = self.W[i] @ g\n",
    "            g[np.where(activations[i]<=0)] = 0\n",
    "        \n",
    "        return (dw, db)\n",
    "    \n",
    "    def backPass(self, labels, predictions, activations):\n",
    "        dw = [np.zeros(w.shape) for w in self.W]\n",
    "        db = [np.zeros(b.shape) for b in self.B]\n",
    "\n",
    "        g = (p-y) * (1+p)*(1-p) * 0.5\n",
    "        for i in range(len(self.W)-1, -1, -1):\n",
    "            dw[i] = g\n",
    "            db[i] =  (np.sum(g, axis=1) * 1/self.BATCH_SIZE).reshape(self.B[i].shape)\n",
    "            g = g * ( (1+activations[i])*(1-activations[i]) * 0.5) * self.W[i].T\n",
    "\n",
    "        return (dw, db)\n",
    "            \n",
    "\n",
    "\n",
    "    def accuracy(self, p, y):\n",
    "        \"\"\"\n",
    "        Compute the accuracy of the predictions\n",
    "        \"\"\"\n",
    "        predictions = np.argmax(p, axis=0)\n",
    "        y = np.argmax(y, axis=0)\n",
    "        acc = predictions.T[predictions == y].shape[0] / p.shape[1]\n",
    "        return acc\n",
    "    \n",
    "    def update_batch(self, x, y):\n",
    "        \"\"\"\n",
    "        For each batch: \n",
    "            Pass the input into the network and compute the predictions.\n",
    "            Back propagate through the network to compute the gradients using the stored act>\n",
    "            Update the weights and biases using the gradients\n",
    "        \"\"\"\n",
    "        activations = [x]\n",
    "        p = self.feedforward(activations, Model.relu(), Model.softmax())\n",
    "        dw, db = self.backPropagation(y, p, activations)\n",
    "\n",
    "        if (not self.useMom):\n",
    "            for i in range(self.n_layers-1):\n",
    "                self.W[i] = self.W[i] - self.ETA * dw[i].T\n",
    "                if (self.useBias):\n",
    "                    self.B[i] = self.B[i] - self.ETA * db[i]\n",
    "        else:\n",
    "            for i in range(self.n_layers-1):\n",
    "                self.theta = self.alpha * self.theta - (1-self.alpha) * dw[i]\n",
    "                self.omega = self.alpha * self.omega - (1-self.alpha) * db[i]\n",
    "                self.W[i] = self.W[i] + self.ETA * self.theta\n",
    "                if (self.useBias):\n",
    "                    self.B[i] = self.B[i] + self.ETA * self.omega\n",
    "\n",
    "    def SGD(self, train_features, test_features, train_labels, test_labels, verbose=False):\n",
    "        \"\"\"\n",
    "        Stochastic gradient descend method\n",
    "        Trains the network a given number of epochs or cycles\n",
    "        Return:\n",
    "            Training cost and validation cost\n",
    "            Training accuracy and validation accuracy\n",
    "        \"\"\"\n",
    "\n",
    "        # train_features, test_features, train_labels, test_labels = train_test_split(features, targets, test_size = test_size, random_state = 2020)\n",
    "        # assert(train_features.shape[1] == train_labels.shape[1])\n",
    "        # assert(test_features.shape[1] == test_labels.shape[1])\n",
    "        \n",
    "        training_cost = []\n",
    "        validation_cost = []\n",
    "        training_accuracy = []\n",
    "        validation_accuracy = []\n",
    "\n",
    "        self.n_samples = train_features.shape[1]\n",
    "        self.BATCHES = int(self.n_samples/self.BATCH_SIZE)\n",
    "\n",
    "        for t in range(self.EPOCHS):\n",
    "            # Shuffles the order of samples \n",
    "            idx = np.random.permutation(self.n_samples)\n",
    "            for j in range(1, self.BATCHES):\n",
    "                start = (j-1) * self.BATCH_SIZE\n",
    "                end = j * self.BATCH_SIZE\n",
    "                indices = idx[start:end]\n",
    "                x_batch = train_features[:, indices]            \n",
    "                y_batch = train_labels[:, indices]    \n",
    "                self.update_batch(x_batch, y_batch)\n",
    "\n",
    "                    # Check cost and accuracy 10 times per cycle \n",
    "\n",
    "            p_t = self.feedforward([train_features], Model.relu(), Model.softmax())\n",
    "            p_v = self.feedforward([test_features],Model.relu(), Model.softmax())\n",
    "            training_cost.append(self.cross_entropy(p_t, train_labels))\n",
    "            validation_cost.append(self.cross_entropy(p_v, test_labels))\n",
    "            training_accuracy.append(self.accuracy(p_t, train_labels))\n",
    "            validation_accuracy.append(self.accuracy(p_v, test_labels))\n",
    "\n",
    "            if (verbose):\n",
    "                print(\"Epoch #{}--------------------------------------\".format(t))\n",
    "                print(\"Training Cost: {:.6f}\".format(training_cost[-1]))\n",
    "                print(\"Validation Cost: {:.6f}\".format(validation_cost[-1]))\n",
    "                print(\"Training Accuracy = {:.3f}\".format(training_accuracy[-1]))\n",
    "                print(\"Validation Accuracy = {:.3f}\".format(validation_accuracy[-1]))\n",
    "                print(\"-\"*50)\n",
    "\n",
    "        return (training_cost, validation_cost, training_accuracy, validation_accuracy)\n",
    "\n",
    "    def save(self, filename):\n",
    "        \"\"\"\n",
    "        Save the model to the file 'filename`.\n",
    "        \"\"\"\n",
    "        data = {\"Nodes\": self.NODES,\n",
    "                \"W\": [w.tolist() for w in self.W],\n",
    "                \"B\": [b.tolist() for b in self.B]}\n",
    "        with open(filename, \"w\") as f:\n",
    "            json.dump(data, f)\n",
    "\n",
    "    def load(self, filename):\n",
    "        \"\"\"\n",
    "        Load the model\n",
    "        \"\"\"\n",
    "        with open(filename, \"r\") as f:\n",
    "            data = json.load(f)\n",
    "        \n",
    "        self.NODES = data[\"Nodes\"]\n",
    "        self.W = [np.array(w) for w in data[\"W\"]]\n",
    "        self.B = [np.array(b) for b in data[\"B\"]]\n",
    "\n"
   ]
  },
  {
   "cell_type": "markdown",
   "metadata": {},
   "source": [
    "# Two-layer MLP according to lab 1 instruction\n"
   ]
  },
  {
   "cell_type": "code",
   "execution_count": 112,
   "metadata": {},
   "outputs": [],
   "source": [
    "class two_layer_model():\n",
    "    def __init__(self, N):\n",
    "        self.N = N\n",
    "    def init_param(self, eta):\n",
    "        self.W = np.random.uniform(0,1,(self.N,2))\n",
    "        self.V = np.random.uniform(0,1,(1, self.N))\n",
    "        self.dw = np.zeros((self.N,2))\n",
    "        self.dv = np.zeros((1,self.N))\n",
    "        self.ETA = eta\n",
    "\n",
    "    def act_fn(self, x):\n",
    "        return 2 / (1+np.exp(-x)) - 1\n",
    "\n",
    "    def forward(self, x):\n",
    "        # x = np.concatenate((x, np.ones((1, x.shape[1]))), axis=0)\n",
    "        h_in = self.W @ x\n",
    "        h_out = self.act_fn(h_in)\n",
    "        o_in = self.V @ h_out\n",
    "        o_out = self.act_fn(o_in)\n",
    "        return (h_out, o_out)\n",
    "\n",
    "    def backpass(self, y, h_out, o_out):\n",
    "        delta_o = (o_out - y) * ((1+o_out)*(1-o_out)) * .5\n",
    "        delta_h = (self.V.T * delta_o) * ((1+h_out)*(1-h_out)) * .5\n",
    "        # delta_h = delta_h[1:self.N, :]\n",
    "        return delta_h, delta_o\n",
    "\n",
    "    def update(self, x, h_out, delta_h, delta_o, alpha=.9):\n",
    "        self.dw = (self.dw * alpha) - (delta_h @ x.T) * (1-alpha)\n",
    "        self.dv = (self.dv * alpha) - (delta_o @ h_out.T) * (1-alpha)\n",
    "        self.W = self.W + self.dw * self.ETA\n",
    "        self.V = self.V + self.dv * self.ETA\n"
   ]
  },
  {
   "cell_type": "code",
   "execution_count": 189,
   "metadata": {},
   "outputs": [],
   "source": [
    "def delta_rule(x,y,w,eta):\n",
    "    return -eta * x.T@(x@w-y)\n",
    "\n",
    "def plot_boundary(fig, w):\n",
    "    lin_x = np.linspace(-5, 5, 100)\n",
    "    y = np.sum((lin_x.reshape(100,1)@w[:, 0].reshape((1,w.shape[0]))) / w[:, 1], axis=1) / w.shape[0]\n",
    "    # y = np.clip(y, -5, 5)\n",
    "    fig.add_trace(go.Scatter(x=lin_x, y=y, mode=\"markers\"))\n",
    "\n",
    "def delta_learning(x,y,w,epochs,eta):\n",
    "    mae = []\n",
    "    for e in range(epoch):\n",
    "        w += delta_rule(x, y, w, eta)\n",
    "        mae.append(np.mean(np.abs(x@w-y)))\n",
    "    return mae\n",
    "\n",
    "def perceptron_learning(x,y,n,epochs,eta):\n",
    "    model = two_layer_model(n)\n",
    "    model.init_param(eta)\n",
    "\n",
    "    mae = []\n",
    "    for e in range(epoch):\n",
    "        h_out, o_out = model.forward(features.T)\n",
    "        dh, do = model.backpass(targets.T, h_out, o_out)\n",
    "        model.update(features.T, h_out, dh, do)\n",
    "        mae.append(np.mean(np.abs(o_out-targets.T)))\n",
    "    return model, mae"
   ]
  },
  {
   "cell_type": "markdown",
   "metadata": {},
   "source": [
    "# Generate data"
   ]
  },
  {
   "cell_type": "code",
   "execution_count": 169,
   "metadata": {},
   "outputs": [],
   "source": [
    "def multivariate(n, m1,m2, sigma1, sigma2):\n",
    "    classA = np.random.normal(m1, sigma1, size=[n,2])\n",
    "    classB = np.random.normal(m2, sigma2, size=[n,2])\n",
    "    return classA, classB\n"
   ]
  },
  {
   "cell_type": "markdown",
   "metadata": {},
   "source": [
    "## 3.1.1 - 3.1.2\n",
    "\n"
   ]
  },
  {
   "cell_type": "code",
   "execution_count": 183,
   "metadata": {
    "tags": []
   },
   "outputs": [
    {
     "output_type": "display_data",
     "data": {
      "application/vnd.plotly.v1+json": {
       "config": {
        "plotlyServerURL": "https://plot.ly"
       },
       "data": [
        {
         "mode": "markers",
         "type": "scatter",
         "x": [
          -4.182367169493423,
          -1.5630094081328767,
          -0.7994039568417457,
          -4.1225322747307205,
          -2.94517324082475,
          -1.1973050440219215,
          -3.009290780970961,
          -2.9962137212465474,
          -2.9975309759501694,
          -1.344248666716071,
          -2.496541002820163,
          -3.440371483059244,
          -3.213848153671561,
          -4.039983177769964,
          -3.550008774534925,
          -3.201856541285115,
          -2.531822255016771,
          -3.137595266112307,
          -1.9208810614884568,
          -3.368860594019007,
          -3.484899948159059,
          -2.9957172249342645,
          -3.4490863298219,
          -2.845886097827224,
          -2.307554371440089,
          -2.9140594570129132,
          -1.8706898325087373,
          -4.728378151940184,
          -2.9061783747678733,
          -4.5204531958373835,
          -3.430863669023635,
          -1.6359032731879435,
          -1.7417523007140547,
          -3.8058632197810702,
          -3.226758156452855,
          -2.553472432481279,
          -3.412043917232304,
          -2.1917165755475736,
          -0.09530924374639582,
          -2.6274912522506066,
          -3.391960574793827,
          -3.386056073233898,
          -1.6074954501754866,
          -3.587823331627324,
          -3.0732616419348626,
          -2.6618077655493053,
          -3.5653647524863863,
          -3.2619557865338606,
          -2.868218738846109,
          -1.5413836818872073,
          -3.0696128809650416,
          -1.80715321721254,
          -2.76934557387316,
          -1.7511620139692712,
          -3.8227177655486457,
          -3.260327612528978,
          -3.4336999751454536,
          -3.3956416454384053,
          -1.7476443807074755,
          -2.592150703127225,
          -3.447518647064081,
          -4.013396839842791,
          -4.394522370093565,
          -3.943703876216132,
          -5.157254267464822,
          -2.31255189609665,
          -2.9371031972007224,
          -3.5925570445535353,
          -2.360875520384391,
          -5.2396091053370615,
          -4.580894570330402,
          -3.8318095721105774,
          -2.2615464814527515,
          -3.5855889665009713,
          -3.731330645341735,
          -2.5970582324000375,
          -3.194545810517152,
          -3.375643873893531,
          -3.218122392829813,
          -0.7752475561745822,
          -2.07239593951266,
          -3.9610676112830765,
          -3.0798022009992354,
          -4.4624898231845895,
          -4.0793353402794175,
          -2.2735427763452942,
          -1.9465599311418937,
          -1.5728018152994654,
          -4.793549719203134,
          -2.898644396256172,
          -3.1446892161796574,
          -1.7155130852363476,
          -3.2277665506889153,
          -2.4098951085205402,
          -3.667114998689973,
          -3.107110774636463,
          -3.8289103547652554,
          -1.61591185364123,
          -2.41041667716241,
          -3.623469835230633
         ],
         "y": [
          1.089498489291828,
          -0.20517177550562324,
          1.4725058695030042,
          -0.33140436618211083,
          -0.13544990029808948,
          0.998952826690217,
          -0.36143349491960436,
          -0.6669656855878576,
          1.9880666738965356,
          1.1514092036698984,
          -0.5449610362702096,
          -0.6941669911464979,
          -0.033454232579571856,
          -1.6588051610944872,
          1.0563745704273309,
          -1.406572240065247,
          0.9127364997205264,
          0.1436500652773144,
          -0.1196549641335528,
          -1.4395450321908283,
          0.3387742435725735,
          0.528211506192073,
          1.5853632645453837,
          1.0545469634082505,
          0.971731409367031,
          0.6113047077100374,
          0.29611722636422366,
          -1.1130624731756023,
          -0.4693846720224618,
          -1.002799772104845,
          -0.17511814982884305,
          0.07636759096993362,
          -0.17086097025815447,
          1.76837625801519,
          1.4138175329029974,
          -0.9044476868549929,
          -0.22089553009174018,
          0.7199958256458869,
          -0.17937221312231305,
          0.038464540792098253,
          0.09175992969068639,
          0.3357384395387078,
          -2.4819598398410014,
          1.0069076682722247,
          -0.35683690330957085,
          -0.20292713266620835,
          0.17144819583632043,
          -0.8589845089651349,
          2.725878970691243,
          -0.9372153013211527,
          0.0708888019611482,
          -0.6541704793412096,
          -0.2727425486034403,
          -0.8467561650825913,
          -0.24422894847666754,
          0.6506410427098581,
          -0.1861744190508835,
          -0.8956269102566035,
          -0.692933879639598,
          -0.7151625872073369,
          -1.0280867128056148,
          1.8738222379554146,
          -1.1460698919616537,
          -0.25201194793209086,
          0.8584385256695541,
          0.46247735415444985,
          -1.6910102417518305,
          1.1349877588208281,
          0.26317186582137236,
          -0.3276097170751255,
          1.2834891057957318,
          -1.0043834995319987,
          -1.5593283256921824,
          1.2347423773112394,
          -2.0575488753742586,
          2.2631712978747247,
          -0.2705546729560371,
          0.09469877126793169,
          0.622385443885305,
          -0.6943514696820551,
          -1.2753824411175176,
          1.089335829020961,
          -0.9525240911546883,
          -1.002461472542824,
          0.7677962369782186,
          -0.21103263900076916,
          0.3307086665670849,
          1.09299965835771,
          0.3568085338156347,
          -0.8240059223074279,
          0.46673253345977517,
          2.275616818686702,
          -0.9857032220843619,
          -1.7622247547136498,
          -0.12979388861112595,
          1.0401598435424355,
          0.49341961529626366,
          1.0717119968738607,
          -0.07755042764285137,
          -1.7756684173540782
         ]
        },
        {
         "mode": "markers",
         "type": "scatter",
         "x": [
          3.7553363395691974,
          0.9737920675292928,
          4.016273881520009,
          3.2223416021161038,
          3.02541633762104,
          3.6544032472037387,
          3.00817704212825,
          3.796374134398972,
          2.947639696856252,
          2.4962629418119167,
          4.797219559876234,
          3.1303785266321333,
          1.1814125052382112,
          2.9032599266172405,
          3.624304897632698,
          2.9535235233760657,
          2.5572689526473766,
          4.563969129834003,
          2.2972285324112747,
          2.5654805558463853,
          3.616997602105625,
          4.082139520616353,
          2.547748504200931,
          2.628724340202374,
          1.9535092157569702,
          4.695228414314637,
          3.213516883611549,
          3.615759944059873,
          3.276943054717177,
          3.021843801441021,
          2.1467688951515695,
          3.484449420262012,
          2.28788516949676,
          3.6404690518899434,
          2.7951862705142885,
          1.5904178644063627,
          1.6479702217113532,
          1.9360222738539292,
          4.173232029185978,
          1.6754124420231424,
          2.0829030512252267,
          6.177528277723221,
          3.452246732905355,
          2.8946132011389745,
          4.011871246527688,
          2.2944556556537763,
          3.0348374567907057,
          0.7406452597743427,
          2.161707310210248,
          3.8367391377104947,
          3.931250091665708,
          2.5923466952817202,
          3.2692369515358806,
          3.094556447465594,
          1.7453158783085183,
          2.4711013428354294,
          3.0349695715426552,
          3.073109953960547,
          3.970861354807772,
          2.5045986644786384,
          2.336273105678385,
          3.598667311896193,
          3.123147675907644,
          3.231662982584676,
          3.7491382613927517,
          2.796419775002387,
          1.65739046454929,
          2.9595815336869817,
          1.6485389644819008,
          2.79389351191786,
          3.658120013430313,
          2.115596291541685,
          4.251590166963067,
          2.817714338479231,
          3.2204567952458505,
          1.5113222686737995,
          3.4784440428713133,
          4.2001780110599585,
          1.99137608615988,
          2.1702089169154917,
          2.216957482264932,
          3.252014923926495,
          2.6545844349602907,
          2.4641729934362973,
          2.381101637425439,
          2.9617079527509445,
          2.3929819974405993,
          3.45473302753131,
          4.691617217802773,
          2.0364262822058046,
          3.910758993849073,
          1.8962052070100306,
          3.2223260568203607,
          1.0705705498542468,
          2.187572511318641,
          2.8723659793716094,
          3.537460774429484,
          1.976702104899336,
          2.3446536407596494,
          2.551154939918234
         ],
         "y": [
          -0.8616189020227638,
          0.37023578735137236,
          1.8443051280879645,
          -1.7288701487770795,
          -0.2666254550727171,
          -0.41255192887218434,
          -2.5889764582504635,
          0.8242286575493013,
          -1.196662450638302,
          -0.7994498886242503,
          -0.2467997444985628,
          1.6377205756536466,
          0.2738807776002638,
          0.029947381031135846,
          0.946011533520339,
          0.5379329573070742,
          0.9065561513560805,
          -2.595868949944162,
          -0.44604674196707467,
          -0.7156178141491177,
          1.5862590222238555,
          0.34412933186063793,
          0.5362685079959902,
          -1.644992598655212,
          0.02843954381853685,
          -0.267026644818395,
          -0.05458048605325794,
          0.60311576518824,
          -0.5910413068205391,
          -0.6950333441630805,
          -0.5652238700337708,
          -2.30943654623694,
          -0.29697325906387995,
          0.16117054137509607,
          0.3531426132379133,
          -0.1571804890920269,
          -0.7919650464187001,
          -0.9961464844344411,
          -0.8663677970349369,
          -0.5518073058351246,
          -2.191147219472767,
          -0.5215864503210319,
          1.3664351141864215,
          0.4682930744085776,
          2.1034970816844574,
          -1.7611320822491325,
          -0.9748812990110036,
          -1.5172304979255355,
          0.3808458544310749,
          0.00019699279507805006,
          -0.28439856333840474,
          -2.3756586777991306,
          -2.6969895312766545,
          1.0597660181039064,
          -0.3090931704006605,
          1.3090904483502261,
          0.5394559376934479,
          1.4541099572768796,
          -1.845710003419949,
          -0.4237536917030588,
          -0.6265448266848118,
          -1.3362344363147527,
          1.9286270519665758,
          0.7556314361345885,
          1.4183221391787464,
          0.5745141084666107,
          -0.28495323620005875,
          -2.3563280618664932,
          0.8171615242030731,
          -0.34282567544729997,
          -0.9132733977540114,
          1.0521999767141321,
          1.0564816731456546,
          1.4732688696446217,
          -1.3567632598721318,
          1.2327482696452405,
          -0.4904765431323141,
          -1.130192886212584,
          -3.0351540864787463,
          -1.0366316440187813,
          -0.5800181906624476,
          -0.037562424429633846,
          -1.142436854370498,
          -0.6378868532815808,
          0.28512657151407306,
          0.1635096158058793,
          1.4451140873612085,
          -0.30595315388745503,
          -1.6541529681058023,
          0.5386867259427501,
          -0.5013639577092615,
          -0.8718839560440371,
          -0.5436659073138297,
          0.6460093268441951,
          -0.3699662747489888,
          -3.374073871340563,
          0.22159126571559465,
          0.7187218253281003,
          -0.3900446906136583,
          -0.01470099776810636
         ]
        }
       ],
       "layout": {
        "template": {
         "data": {
          "bar": [
           {
            "error_x": {
             "color": "#2a3f5f"
            },
            "error_y": {
             "color": "#2a3f5f"
            },
            "marker": {
             "line": {
              "color": "#E5ECF6",
              "width": 0.5
             }
            },
            "type": "bar"
           }
          ],
          "barpolar": [
           {
            "marker": {
             "line": {
              "color": "#E5ECF6",
              "width": 0.5
             }
            },
            "type": "barpolar"
           }
          ],
          "carpet": [
           {
            "aaxis": {
             "endlinecolor": "#2a3f5f",
             "gridcolor": "white",
             "linecolor": "white",
             "minorgridcolor": "white",
             "startlinecolor": "#2a3f5f"
            },
            "baxis": {
             "endlinecolor": "#2a3f5f",
             "gridcolor": "white",
             "linecolor": "white",
             "minorgridcolor": "white",
             "startlinecolor": "#2a3f5f"
            },
            "type": "carpet"
           }
          ],
          "choropleth": [
           {
            "colorbar": {
             "outlinewidth": 0,
             "ticks": ""
            },
            "type": "choropleth"
           }
          ],
          "contour": [
           {
            "colorbar": {
             "outlinewidth": 0,
             "ticks": ""
            },
            "colorscale": [
             [
              0,
              "#0d0887"
             ],
             [
              0.1111111111111111,
              "#46039f"
             ],
             [
              0.2222222222222222,
              "#7201a8"
             ],
             [
              0.3333333333333333,
              "#9c179e"
             ],
             [
              0.4444444444444444,
              "#bd3786"
             ],
             [
              0.5555555555555556,
              "#d8576b"
             ],
             [
              0.6666666666666666,
              "#ed7953"
             ],
             [
              0.7777777777777778,
              "#fb9f3a"
             ],
             [
              0.8888888888888888,
              "#fdca26"
             ],
             [
              1,
              "#f0f921"
             ]
            ],
            "type": "contour"
           }
          ],
          "contourcarpet": [
           {
            "colorbar": {
             "outlinewidth": 0,
             "ticks": ""
            },
            "type": "contourcarpet"
           }
          ],
          "heatmap": [
           {
            "colorbar": {
             "outlinewidth": 0,
             "ticks": ""
            },
            "colorscale": [
             [
              0,
              "#0d0887"
             ],
             [
              0.1111111111111111,
              "#46039f"
             ],
             [
              0.2222222222222222,
              "#7201a8"
             ],
             [
              0.3333333333333333,
              "#9c179e"
             ],
             [
              0.4444444444444444,
              "#bd3786"
             ],
             [
              0.5555555555555556,
              "#d8576b"
             ],
             [
              0.6666666666666666,
              "#ed7953"
             ],
             [
              0.7777777777777778,
              "#fb9f3a"
             ],
             [
              0.8888888888888888,
              "#fdca26"
             ],
             [
              1,
              "#f0f921"
             ]
            ],
            "type": "heatmap"
           }
          ],
          "heatmapgl": [
           {
            "colorbar": {
             "outlinewidth": 0,
             "ticks": ""
            },
            "colorscale": [
             [
              0,
              "#0d0887"
             ],
             [
              0.1111111111111111,
              "#46039f"
             ],
             [
              0.2222222222222222,
              "#7201a8"
             ],
             [
              0.3333333333333333,
              "#9c179e"
             ],
             [
              0.4444444444444444,
              "#bd3786"
             ],
             [
              0.5555555555555556,
              "#d8576b"
             ],
             [
              0.6666666666666666,
              "#ed7953"
             ],
             [
              0.7777777777777778,
              "#fb9f3a"
             ],
             [
              0.8888888888888888,
              "#fdca26"
             ],
             [
              1,
              "#f0f921"
             ]
            ],
            "type": "heatmapgl"
           }
          ],
          "histogram": [
           {
            "marker": {
             "colorbar": {
              "outlinewidth": 0,
              "ticks": ""
             }
            },
            "type": "histogram"
           }
          ],
          "histogram2d": [
           {
            "colorbar": {
             "outlinewidth": 0,
             "ticks": ""
            },
            "colorscale": [
             [
              0,
              "#0d0887"
             ],
             [
              0.1111111111111111,
              "#46039f"
             ],
             [
              0.2222222222222222,
              "#7201a8"
             ],
             [
              0.3333333333333333,
              "#9c179e"
             ],
             [
              0.4444444444444444,
              "#bd3786"
             ],
             [
              0.5555555555555556,
              "#d8576b"
             ],
             [
              0.6666666666666666,
              "#ed7953"
             ],
             [
              0.7777777777777778,
              "#fb9f3a"
             ],
             [
              0.8888888888888888,
              "#fdca26"
             ],
             [
              1,
              "#f0f921"
             ]
            ],
            "type": "histogram2d"
           }
          ],
          "histogram2dcontour": [
           {
            "colorbar": {
             "outlinewidth": 0,
             "ticks": ""
            },
            "colorscale": [
             [
              0,
              "#0d0887"
             ],
             [
              0.1111111111111111,
              "#46039f"
             ],
             [
              0.2222222222222222,
              "#7201a8"
             ],
             [
              0.3333333333333333,
              "#9c179e"
             ],
             [
              0.4444444444444444,
              "#bd3786"
             ],
             [
              0.5555555555555556,
              "#d8576b"
             ],
             [
              0.6666666666666666,
              "#ed7953"
             ],
             [
              0.7777777777777778,
              "#fb9f3a"
             ],
             [
              0.8888888888888888,
              "#fdca26"
             ],
             [
              1,
              "#f0f921"
             ]
            ],
            "type": "histogram2dcontour"
           }
          ],
          "mesh3d": [
           {
            "colorbar": {
             "outlinewidth": 0,
             "ticks": ""
            },
            "type": "mesh3d"
           }
          ],
          "parcoords": [
           {
            "line": {
             "colorbar": {
              "outlinewidth": 0,
              "ticks": ""
             }
            },
            "type": "parcoords"
           }
          ],
          "pie": [
           {
            "automargin": true,
            "type": "pie"
           }
          ],
          "scatter": [
           {
            "marker": {
             "colorbar": {
              "outlinewidth": 0,
              "ticks": ""
             }
            },
            "type": "scatter"
           }
          ],
          "scatter3d": [
           {
            "line": {
             "colorbar": {
              "outlinewidth": 0,
              "ticks": ""
             }
            },
            "marker": {
             "colorbar": {
              "outlinewidth": 0,
              "ticks": ""
             }
            },
            "type": "scatter3d"
           }
          ],
          "scattercarpet": [
           {
            "marker": {
             "colorbar": {
              "outlinewidth": 0,
              "ticks": ""
             }
            },
            "type": "scattercarpet"
           }
          ],
          "scattergeo": [
           {
            "marker": {
             "colorbar": {
              "outlinewidth": 0,
              "ticks": ""
             }
            },
            "type": "scattergeo"
           }
          ],
          "scattergl": [
           {
            "marker": {
             "colorbar": {
              "outlinewidth": 0,
              "ticks": ""
             }
            },
            "type": "scattergl"
           }
          ],
          "scattermapbox": [
           {
            "marker": {
             "colorbar": {
              "outlinewidth": 0,
              "ticks": ""
             }
            },
            "type": "scattermapbox"
           }
          ],
          "scatterpolar": [
           {
            "marker": {
             "colorbar": {
              "outlinewidth": 0,
              "ticks": ""
             }
            },
            "type": "scatterpolar"
           }
          ],
          "scatterpolargl": [
           {
            "marker": {
             "colorbar": {
              "outlinewidth": 0,
              "ticks": ""
             }
            },
            "type": "scatterpolargl"
           }
          ],
          "scatterternary": [
           {
            "marker": {
             "colorbar": {
              "outlinewidth": 0,
              "ticks": ""
             }
            },
            "type": "scatterternary"
           }
          ],
          "surface": [
           {
            "colorbar": {
             "outlinewidth": 0,
             "ticks": ""
            },
            "colorscale": [
             [
              0,
              "#0d0887"
             ],
             [
              0.1111111111111111,
              "#46039f"
             ],
             [
              0.2222222222222222,
              "#7201a8"
             ],
             [
              0.3333333333333333,
              "#9c179e"
             ],
             [
              0.4444444444444444,
              "#bd3786"
             ],
             [
              0.5555555555555556,
              "#d8576b"
             ],
             [
              0.6666666666666666,
              "#ed7953"
             ],
             [
              0.7777777777777778,
              "#fb9f3a"
             ],
             [
              0.8888888888888888,
              "#fdca26"
             ],
             [
              1,
              "#f0f921"
             ]
            ],
            "type": "surface"
           }
          ],
          "table": [
           {
            "cells": {
             "fill": {
              "color": "#EBF0F8"
             },
             "line": {
              "color": "white"
             }
            },
            "header": {
             "fill": {
              "color": "#C8D4E3"
             },
             "line": {
              "color": "white"
             }
            },
            "type": "table"
           }
          ]
         },
         "layout": {
          "annotationdefaults": {
           "arrowcolor": "#2a3f5f",
           "arrowhead": 0,
           "arrowwidth": 1
          },
          "coloraxis": {
           "colorbar": {
            "outlinewidth": 0,
            "ticks": ""
           }
          },
          "colorscale": {
           "diverging": [
            [
             0,
             "#8e0152"
            ],
            [
             0.1,
             "#c51b7d"
            ],
            [
             0.2,
             "#de77ae"
            ],
            [
             0.3,
             "#f1b6da"
            ],
            [
             0.4,
             "#fde0ef"
            ],
            [
             0.5,
             "#f7f7f7"
            ],
            [
             0.6,
             "#e6f5d0"
            ],
            [
             0.7,
             "#b8e186"
            ],
            [
             0.8,
             "#7fbc41"
            ],
            [
             0.9,
             "#4d9221"
            ],
            [
             1,
             "#276419"
            ]
           ],
           "sequential": [
            [
             0,
             "#0d0887"
            ],
            [
             0.1111111111111111,
             "#46039f"
            ],
            [
             0.2222222222222222,
             "#7201a8"
            ],
            [
             0.3333333333333333,
             "#9c179e"
            ],
            [
             0.4444444444444444,
             "#bd3786"
            ],
            [
             0.5555555555555556,
             "#d8576b"
            ],
            [
             0.6666666666666666,
             "#ed7953"
            ],
            [
             0.7777777777777778,
             "#fb9f3a"
            ],
            [
             0.8888888888888888,
             "#fdca26"
            ],
            [
             1,
             "#f0f921"
            ]
           ],
           "sequentialminus": [
            [
             0,
             "#0d0887"
            ],
            [
             0.1111111111111111,
             "#46039f"
            ],
            [
             0.2222222222222222,
             "#7201a8"
            ],
            [
             0.3333333333333333,
             "#9c179e"
            ],
            [
             0.4444444444444444,
             "#bd3786"
            ],
            [
             0.5555555555555556,
             "#d8576b"
            ],
            [
             0.6666666666666666,
             "#ed7953"
            ],
            [
             0.7777777777777778,
             "#fb9f3a"
            ],
            [
             0.8888888888888888,
             "#fdca26"
            ],
            [
             1,
             "#f0f921"
            ]
           ]
          },
          "colorway": [
           "#636efa",
           "#EF553B",
           "#00cc96",
           "#ab63fa",
           "#FFA15A",
           "#19d3f3",
           "#FF6692",
           "#B6E880",
           "#FF97FF",
           "#FECB52"
          ],
          "font": {
           "color": "#2a3f5f"
          },
          "geo": {
           "bgcolor": "white",
           "lakecolor": "white",
           "landcolor": "#E5ECF6",
           "showlakes": true,
           "showland": true,
           "subunitcolor": "white"
          },
          "hoverlabel": {
           "align": "left"
          },
          "hovermode": "closest",
          "mapbox": {
           "style": "light"
          },
          "paper_bgcolor": "white",
          "plot_bgcolor": "#E5ECF6",
          "polar": {
           "angularaxis": {
            "gridcolor": "white",
            "linecolor": "white",
            "ticks": ""
           },
           "bgcolor": "#E5ECF6",
           "radialaxis": {
            "gridcolor": "white",
            "linecolor": "white",
            "ticks": ""
           }
          },
          "scene": {
           "xaxis": {
            "backgroundcolor": "#E5ECF6",
            "gridcolor": "white",
            "gridwidth": 2,
            "linecolor": "white",
            "showbackground": true,
            "ticks": "",
            "zerolinecolor": "white"
           },
           "yaxis": {
            "backgroundcolor": "#E5ECF6",
            "gridcolor": "white",
            "gridwidth": 2,
            "linecolor": "white",
            "showbackground": true,
            "ticks": "",
            "zerolinecolor": "white"
           },
           "zaxis": {
            "backgroundcolor": "#E5ECF6",
            "gridcolor": "white",
            "gridwidth": 2,
            "linecolor": "white",
            "showbackground": true,
            "ticks": "",
            "zerolinecolor": "white"
           }
          },
          "shapedefaults": {
           "line": {
            "color": "#2a3f5f"
           }
          },
          "ternary": {
           "aaxis": {
            "gridcolor": "white",
            "linecolor": "white",
            "ticks": ""
           },
           "baxis": {
            "gridcolor": "white",
            "linecolor": "white",
            "ticks": ""
           },
           "bgcolor": "#E5ECF6",
           "caxis": {
            "gridcolor": "white",
            "linecolor": "white",
            "ticks": ""
           }
          },
          "title": {
           "x": 0.05
          },
          "xaxis": {
           "automargin": true,
           "gridcolor": "white",
           "linecolor": "white",
           "ticks": "",
           "title": {
            "standoff": 15
           },
           "zerolinecolor": "white",
           "zerolinewidth": 2
          },
          "yaxis": {
           "automargin": true,
           "gridcolor": "white",
           "linecolor": "white",
           "ticks": "",
           "title": {
            "standoff": 15
           },
           "zerolinecolor": "white",
           "zerolinewidth": 2
          }
         }
        }
       }
      }
     },
     "metadata": {}
    },
    {
     "output_type": "stream",
     "name": "stdout",
     "text": "(200, 2)\n(200, 1)\n"
    }
   ],
   "source": [
    "N = 100\n",
    "(A, B) = multivariate(N, [-3,0], [3,0], 1, 1)\n",
    "\n",
    "fig = go.Figure()\n",
    "fig.add_trace(go.Scatter(x=A[:,0], y=A[:,1], mode=\"markers\"))\n",
    "fig.add_trace(go.Scatter(x=B[:,0], y=B[:,1], mode=\"markers\"))\n",
    "fig.show()\n",
    "\n",
    "features = np.concatenate([A,B],axis=0)\n",
    "targets = np.concatenate([-np.ones((A.shape[0],1)), np.ones((B.shape[0],1))], axis=0)\n",
    "print(features.shape)\n",
    "print(targets.shape)"
   ]
  },
  {
   "cell_type": "markdown",
   "metadata": {},
   "source": [
    "# Delta rule learning\n"
   ]
  },
  {
   "cell_type": "code",
   "execution_count": 184,
   "metadata": {
    "tags": []
   },
   "outputs": [
    {
     "output_type": "display_data",
     "data": {
      "application/vnd.plotly.v1+json": {
       "config": {
        "plotlyServerURL": "https://plot.ly"
       },
       "data": [
        {
         "hovertemplate": "x=%{x}<br>y=%{y}<extra></extra>",
         "legendgroup": "",
         "line": {
          "color": "#636efa",
          "dash": "solid"
         },
         "mode": "lines",
         "name": "",
         "orientation": "v",
         "showlegend": false,
         "type": "scatter",
         "x": [
          0,
          1,
          2,
          3,
          4,
          5,
          6,
          7,
          8,
          9,
          10,
          11,
          12,
          13,
          14,
          15,
          16,
          17,
          18,
          19,
          20,
          21,
          22,
          23,
          24,
          25,
          26,
          27,
          28,
          29,
          30,
          31,
          32,
          33,
          34,
          35,
          36,
          37,
          38,
          39,
          40,
          41,
          42,
          43,
          44,
          45,
          46,
          47,
          48,
          49
         ],
         "xaxis": "x",
         "y": [
          0.7050083100196031,
          0.6785723646985622,
          0.6565244367815264,
          0.6372470132433053,
          0.620168185259732,
          0.6045141542251065,
          0.5898551957019835,
          0.5761275391605929,
          0.563126091448219,
          0.551138497660473,
          0.5397543042642189,
          0.5289001651043217,
          0.5184604007969371,
          0.5085154312104241,
          0.49897044020645437,
          0.489790317044239,
          0.4809747534964234,
          0.4723942406251636,
          0.46403011011447853,
          0.4559301522499063,
          0.44803370118849145,
          0.4403580973836643,
          0.43298691650656146,
          0.42581656529893536,
          0.4189025590946552,
          0.4121596144697911,
          0.4055970912691961,
          0.3992208586598647,
          0.3930497245542779,
          0.3870520621043066,
          0.3812477494276307,
          0.3756869982879179,
          0.3703862666809753,
          0.36530297133062356,
          0.36039728771168766,
          0.35563576330370744,
          0.35102436574718965,
          0.3465252286198258,
          0.3421426372639107,
          0.3379525278905048,
          0.3338643512058166,
          0.3298853544344827,
          0.326092869774518,
          0.3224125225838139,
          0.31885020017588644,
          0.31538632729112914,
          0.31202436405819844,
          0.30875090032103514,
          0.3056517408865372,
          0.3026461264973936
         ],
         "yaxis": "y"
        }
       ],
       "layout": {
        "legend": {
         "tracegroupgap": 0
        },
        "margin": {
         "t": 60
        },
        "template": {
         "data": {
          "bar": [
           {
            "error_x": {
             "color": "#2a3f5f"
            },
            "error_y": {
             "color": "#2a3f5f"
            },
            "marker": {
             "line": {
              "color": "#E5ECF6",
              "width": 0.5
             }
            },
            "type": "bar"
           }
          ],
          "barpolar": [
           {
            "marker": {
             "line": {
              "color": "#E5ECF6",
              "width": 0.5
             }
            },
            "type": "barpolar"
           }
          ],
          "carpet": [
           {
            "aaxis": {
             "endlinecolor": "#2a3f5f",
             "gridcolor": "white",
             "linecolor": "white",
             "minorgridcolor": "white",
             "startlinecolor": "#2a3f5f"
            },
            "baxis": {
             "endlinecolor": "#2a3f5f",
             "gridcolor": "white",
             "linecolor": "white",
             "minorgridcolor": "white",
             "startlinecolor": "#2a3f5f"
            },
            "type": "carpet"
           }
          ],
          "choropleth": [
           {
            "colorbar": {
             "outlinewidth": 0,
             "ticks": ""
            },
            "type": "choropleth"
           }
          ],
          "contour": [
           {
            "colorbar": {
             "outlinewidth": 0,
             "ticks": ""
            },
            "colorscale": [
             [
              0,
              "#0d0887"
             ],
             [
              0.1111111111111111,
              "#46039f"
             ],
             [
              0.2222222222222222,
              "#7201a8"
             ],
             [
              0.3333333333333333,
              "#9c179e"
             ],
             [
              0.4444444444444444,
              "#bd3786"
             ],
             [
              0.5555555555555556,
              "#d8576b"
             ],
             [
              0.6666666666666666,
              "#ed7953"
             ],
             [
              0.7777777777777778,
              "#fb9f3a"
             ],
             [
              0.8888888888888888,
              "#fdca26"
             ],
             [
              1,
              "#f0f921"
             ]
            ],
            "type": "contour"
           }
          ],
          "contourcarpet": [
           {
            "colorbar": {
             "outlinewidth": 0,
             "ticks": ""
            },
            "type": "contourcarpet"
           }
          ],
          "heatmap": [
           {
            "colorbar": {
             "outlinewidth": 0,
             "ticks": ""
            },
            "colorscale": [
             [
              0,
              "#0d0887"
             ],
             [
              0.1111111111111111,
              "#46039f"
             ],
             [
              0.2222222222222222,
              "#7201a8"
             ],
             [
              0.3333333333333333,
              "#9c179e"
             ],
             [
              0.4444444444444444,
              "#bd3786"
             ],
             [
              0.5555555555555556,
              "#d8576b"
             ],
             [
              0.6666666666666666,
              "#ed7953"
             ],
             [
              0.7777777777777778,
              "#fb9f3a"
             ],
             [
              0.8888888888888888,
              "#fdca26"
             ],
             [
              1,
              "#f0f921"
             ]
            ],
            "type": "heatmap"
           }
          ],
          "heatmapgl": [
           {
            "colorbar": {
             "outlinewidth": 0,
             "ticks": ""
            },
            "colorscale": [
             [
              0,
              "#0d0887"
             ],
             [
              0.1111111111111111,
              "#46039f"
             ],
             [
              0.2222222222222222,
              "#7201a8"
             ],
             [
              0.3333333333333333,
              "#9c179e"
             ],
             [
              0.4444444444444444,
              "#bd3786"
             ],
             [
              0.5555555555555556,
              "#d8576b"
             ],
             [
              0.6666666666666666,
              "#ed7953"
             ],
             [
              0.7777777777777778,
              "#fb9f3a"
             ],
             [
              0.8888888888888888,
              "#fdca26"
             ],
             [
              1,
              "#f0f921"
             ]
            ],
            "type": "heatmapgl"
           }
          ],
          "histogram": [
           {
            "marker": {
             "colorbar": {
              "outlinewidth": 0,
              "ticks": ""
             }
            },
            "type": "histogram"
           }
          ],
          "histogram2d": [
           {
            "colorbar": {
             "outlinewidth": 0,
             "ticks": ""
            },
            "colorscale": [
             [
              0,
              "#0d0887"
             ],
             [
              0.1111111111111111,
              "#46039f"
             ],
             [
              0.2222222222222222,
              "#7201a8"
             ],
             [
              0.3333333333333333,
              "#9c179e"
             ],
             [
              0.4444444444444444,
              "#bd3786"
             ],
             [
              0.5555555555555556,
              "#d8576b"
             ],
             [
              0.6666666666666666,
              "#ed7953"
             ],
             [
              0.7777777777777778,
              "#fb9f3a"
             ],
             [
              0.8888888888888888,
              "#fdca26"
             ],
             [
              1,
              "#f0f921"
             ]
            ],
            "type": "histogram2d"
           }
          ],
          "histogram2dcontour": [
           {
            "colorbar": {
             "outlinewidth": 0,
             "ticks": ""
            },
            "colorscale": [
             [
              0,
              "#0d0887"
             ],
             [
              0.1111111111111111,
              "#46039f"
             ],
             [
              0.2222222222222222,
              "#7201a8"
             ],
             [
              0.3333333333333333,
              "#9c179e"
             ],
             [
              0.4444444444444444,
              "#bd3786"
             ],
             [
              0.5555555555555556,
              "#d8576b"
             ],
             [
              0.6666666666666666,
              "#ed7953"
             ],
             [
              0.7777777777777778,
              "#fb9f3a"
             ],
             [
              0.8888888888888888,
              "#fdca26"
             ],
             [
              1,
              "#f0f921"
             ]
            ],
            "type": "histogram2dcontour"
           }
          ],
          "mesh3d": [
           {
            "colorbar": {
             "outlinewidth": 0,
             "ticks": ""
            },
            "type": "mesh3d"
           }
          ],
          "parcoords": [
           {
            "line": {
             "colorbar": {
              "outlinewidth": 0,
              "ticks": ""
             }
            },
            "type": "parcoords"
           }
          ],
          "pie": [
           {
            "automargin": true,
            "type": "pie"
           }
          ],
          "scatter": [
           {
            "marker": {
             "colorbar": {
              "outlinewidth": 0,
              "ticks": ""
             }
            },
            "type": "scatter"
           }
          ],
          "scatter3d": [
           {
            "line": {
             "colorbar": {
              "outlinewidth": 0,
              "ticks": ""
             }
            },
            "marker": {
             "colorbar": {
              "outlinewidth": 0,
              "ticks": ""
             }
            },
            "type": "scatter3d"
           }
          ],
          "scattercarpet": [
           {
            "marker": {
             "colorbar": {
              "outlinewidth": 0,
              "ticks": ""
             }
            },
            "type": "scattercarpet"
           }
          ],
          "scattergeo": [
           {
            "marker": {
             "colorbar": {
              "outlinewidth": 0,
              "ticks": ""
             }
            },
            "type": "scattergeo"
           }
          ],
          "scattergl": [
           {
            "marker": {
             "colorbar": {
              "outlinewidth": 0,
              "ticks": ""
             }
            },
            "type": "scattergl"
           }
          ],
          "scattermapbox": [
           {
            "marker": {
             "colorbar": {
              "outlinewidth": 0,
              "ticks": ""
             }
            },
            "type": "scattermapbox"
           }
          ],
          "scatterpolar": [
           {
            "marker": {
             "colorbar": {
              "outlinewidth": 0,
              "ticks": ""
             }
            },
            "type": "scatterpolar"
           }
          ],
          "scatterpolargl": [
           {
            "marker": {
             "colorbar": {
              "outlinewidth": 0,
              "ticks": ""
             }
            },
            "type": "scatterpolargl"
           }
          ],
          "scatterternary": [
           {
            "marker": {
             "colorbar": {
              "outlinewidth": 0,
              "ticks": ""
             }
            },
            "type": "scatterternary"
           }
          ],
          "surface": [
           {
            "colorbar": {
             "outlinewidth": 0,
             "ticks": ""
            },
            "colorscale": [
             [
              0,
              "#0d0887"
             ],
             [
              0.1111111111111111,
              "#46039f"
             ],
             [
              0.2222222222222222,
              "#7201a8"
             ],
             [
              0.3333333333333333,
              "#9c179e"
             ],
             [
              0.4444444444444444,
              "#bd3786"
             ],
             [
              0.5555555555555556,
              "#d8576b"
             ],
             [
              0.6666666666666666,
              "#ed7953"
             ],
             [
              0.7777777777777778,
              "#fb9f3a"
             ],
             [
              0.8888888888888888,
              "#fdca26"
             ],
             [
              1,
              "#f0f921"
             ]
            ],
            "type": "surface"
           }
          ],
          "table": [
           {
            "cells": {
             "fill": {
              "color": "#EBF0F8"
             },
             "line": {
              "color": "white"
             }
            },
            "header": {
             "fill": {
              "color": "#C8D4E3"
             },
             "line": {
              "color": "white"
             }
            },
            "type": "table"
           }
          ]
         },
         "layout": {
          "annotationdefaults": {
           "arrowcolor": "#2a3f5f",
           "arrowhead": 0,
           "arrowwidth": 1
          },
          "coloraxis": {
           "colorbar": {
            "outlinewidth": 0,
            "ticks": ""
           }
          },
          "colorscale": {
           "diverging": [
            [
             0,
             "#8e0152"
            ],
            [
             0.1,
             "#c51b7d"
            ],
            [
             0.2,
             "#de77ae"
            ],
            [
             0.3,
             "#f1b6da"
            ],
            [
             0.4,
             "#fde0ef"
            ],
            [
             0.5,
             "#f7f7f7"
            ],
            [
             0.6,
             "#e6f5d0"
            ],
            [
             0.7,
             "#b8e186"
            ],
            [
             0.8,
             "#7fbc41"
            ],
            [
             0.9,
             "#4d9221"
            ],
            [
             1,
             "#276419"
            ]
           ],
           "sequential": [
            [
             0,
             "#0d0887"
            ],
            [
             0.1111111111111111,
             "#46039f"
            ],
            [
             0.2222222222222222,
             "#7201a8"
            ],
            [
             0.3333333333333333,
             "#9c179e"
            ],
            [
             0.4444444444444444,
             "#bd3786"
            ],
            [
             0.5555555555555556,
             "#d8576b"
            ],
            [
             0.6666666666666666,
             "#ed7953"
            ],
            [
             0.7777777777777778,
             "#fb9f3a"
            ],
            [
             0.8888888888888888,
             "#fdca26"
            ],
            [
             1,
             "#f0f921"
            ]
           ],
           "sequentialminus": [
            [
             0,
             "#0d0887"
            ],
            [
             0.1111111111111111,
             "#46039f"
            ],
            [
             0.2222222222222222,
             "#7201a8"
            ],
            [
             0.3333333333333333,
             "#9c179e"
            ],
            [
             0.4444444444444444,
             "#bd3786"
            ],
            [
             0.5555555555555556,
             "#d8576b"
            ],
            [
             0.6666666666666666,
             "#ed7953"
            ],
            [
             0.7777777777777778,
             "#fb9f3a"
            ],
            [
             0.8888888888888888,
             "#fdca26"
            ],
            [
             1,
             "#f0f921"
            ]
           ]
          },
          "colorway": [
           "#636efa",
           "#EF553B",
           "#00cc96",
           "#ab63fa",
           "#FFA15A",
           "#19d3f3",
           "#FF6692",
           "#B6E880",
           "#FF97FF",
           "#FECB52"
          ],
          "font": {
           "color": "#2a3f5f"
          },
          "geo": {
           "bgcolor": "white",
           "lakecolor": "white",
           "landcolor": "#E5ECF6",
           "showlakes": true,
           "showland": true,
           "subunitcolor": "white"
          },
          "hoverlabel": {
           "align": "left"
          },
          "hovermode": "closest",
          "mapbox": {
           "style": "light"
          },
          "paper_bgcolor": "white",
          "plot_bgcolor": "#E5ECF6",
          "polar": {
           "angularaxis": {
            "gridcolor": "white",
            "linecolor": "white",
            "ticks": ""
           },
           "bgcolor": "#E5ECF6",
           "radialaxis": {
            "gridcolor": "white",
            "linecolor": "white",
            "ticks": ""
           }
          },
          "scene": {
           "xaxis": {
            "backgroundcolor": "#E5ECF6",
            "gridcolor": "white",
            "gridwidth": 2,
            "linecolor": "white",
            "showbackground": true,
            "ticks": "",
            "zerolinecolor": "white"
           },
           "yaxis": {
            "backgroundcolor": "#E5ECF6",
            "gridcolor": "white",
            "gridwidth": 2,
            "linecolor": "white",
            "showbackground": true,
            "ticks": "",
            "zerolinecolor": "white"
           },
           "zaxis": {
            "backgroundcolor": "#E5ECF6",
            "gridcolor": "white",
            "gridwidth": 2,
            "linecolor": "white",
            "showbackground": true,
            "ticks": "",
            "zerolinecolor": "white"
           }
          },
          "shapedefaults": {
           "line": {
            "color": "#2a3f5f"
           }
          },
          "ternary": {
           "aaxis": {
            "gridcolor": "white",
            "linecolor": "white",
            "ticks": ""
           },
           "baxis": {
            "gridcolor": "white",
            "linecolor": "white",
            "ticks": ""
           },
           "bgcolor": "#E5ECF6",
           "caxis": {
            "gridcolor": "white",
            "linecolor": "white",
            "ticks": ""
           }
          },
          "title": {
           "x": 0.05
          },
          "xaxis": {
           "automargin": true,
           "gridcolor": "white",
           "linecolor": "white",
           "ticks": "",
           "title": {
            "standoff": 15
           },
           "zerolinecolor": "white",
           "zerolinewidth": 2
          },
          "yaxis": {
           "automargin": true,
           "gridcolor": "white",
           "linecolor": "white",
           "ticks": "",
           "title": {
            "standoff": 15
           },
           "zerolinecolor": "white",
           "zerolinewidth": 2
          }
         }
        },
        "xaxis": {
         "anchor": "y",
         "domain": [
          0,
          1
         ],
         "title": {
          "text": "x"
         }
        },
        "yaxis": {
         "anchor": "x",
         "domain": [
          0,
          1
         ],
         "title": {
          "text": "y"
         }
        }
       }
      }
     },
     "metadata": {}
    },
    {
     "output_type": "display_data",
     "data": {
      "application/vnd.plotly.v1+json": {
       "config": {
        "plotlyServerURL": "https://plot.ly"
       },
       "data": [
        {
         "mode": "markers",
         "type": "scatter",
         "x": [
          -4.182367169493423,
          -1.5630094081328767,
          -0.7994039568417457,
          -4.1225322747307205,
          -2.94517324082475,
          -1.1973050440219215,
          -3.009290780970961,
          -2.9962137212465474,
          -2.9975309759501694,
          -1.344248666716071,
          -2.496541002820163,
          -3.440371483059244,
          -3.213848153671561,
          -4.039983177769964,
          -3.550008774534925,
          -3.201856541285115,
          -2.531822255016771,
          -3.137595266112307,
          -1.9208810614884568,
          -3.368860594019007,
          -3.484899948159059,
          -2.9957172249342645,
          -3.4490863298219,
          -2.845886097827224,
          -2.307554371440089,
          -2.9140594570129132,
          -1.8706898325087373,
          -4.728378151940184,
          -2.9061783747678733,
          -4.5204531958373835,
          -3.430863669023635,
          -1.6359032731879435,
          -1.7417523007140547,
          -3.8058632197810702,
          -3.226758156452855,
          -2.553472432481279,
          -3.412043917232304,
          -2.1917165755475736,
          -0.09530924374639582,
          -2.6274912522506066,
          -3.391960574793827,
          -3.386056073233898,
          -1.6074954501754866,
          -3.587823331627324,
          -3.0732616419348626,
          -2.6618077655493053,
          -3.5653647524863863,
          -3.2619557865338606,
          -2.868218738846109,
          -1.5413836818872073,
          -3.0696128809650416,
          -1.80715321721254,
          -2.76934557387316,
          -1.7511620139692712,
          -3.8227177655486457,
          -3.260327612528978,
          -3.4336999751454536,
          -3.3956416454384053,
          -1.7476443807074755,
          -2.592150703127225,
          -3.447518647064081,
          -4.013396839842791,
          -4.394522370093565,
          -3.943703876216132,
          -5.157254267464822,
          -2.31255189609665,
          -2.9371031972007224,
          -3.5925570445535353,
          -2.360875520384391,
          -5.2396091053370615,
          -4.580894570330402,
          -3.8318095721105774,
          -2.2615464814527515,
          -3.5855889665009713,
          -3.731330645341735,
          -2.5970582324000375,
          -3.194545810517152,
          -3.375643873893531,
          -3.218122392829813,
          -0.7752475561745822,
          -2.07239593951266,
          -3.9610676112830765,
          -3.0798022009992354,
          -4.4624898231845895,
          -4.0793353402794175,
          -2.2735427763452942,
          -1.9465599311418937,
          -1.5728018152994654,
          -4.793549719203134,
          -2.898644396256172,
          -3.1446892161796574,
          -1.7155130852363476,
          -3.2277665506889153,
          -2.4098951085205402,
          -3.667114998689973,
          -3.107110774636463,
          -3.8289103547652554,
          -1.61591185364123,
          -2.41041667716241,
          -3.623469835230633
         ],
         "y": [
          1.089498489291828,
          -0.20517177550562324,
          1.4725058695030042,
          -0.33140436618211083,
          -0.13544990029808948,
          0.998952826690217,
          -0.36143349491960436,
          -0.6669656855878576,
          1.9880666738965356,
          1.1514092036698984,
          -0.5449610362702096,
          -0.6941669911464979,
          -0.033454232579571856,
          -1.6588051610944872,
          1.0563745704273309,
          -1.406572240065247,
          0.9127364997205264,
          0.1436500652773144,
          -0.1196549641335528,
          -1.4395450321908283,
          0.3387742435725735,
          0.528211506192073,
          1.5853632645453837,
          1.0545469634082505,
          0.971731409367031,
          0.6113047077100374,
          0.29611722636422366,
          -1.1130624731756023,
          -0.4693846720224618,
          -1.002799772104845,
          -0.17511814982884305,
          0.07636759096993362,
          -0.17086097025815447,
          1.76837625801519,
          1.4138175329029974,
          -0.9044476868549929,
          -0.22089553009174018,
          0.7199958256458869,
          -0.17937221312231305,
          0.038464540792098253,
          0.09175992969068639,
          0.3357384395387078,
          -2.4819598398410014,
          1.0069076682722247,
          -0.35683690330957085,
          -0.20292713266620835,
          0.17144819583632043,
          -0.8589845089651349,
          2.725878970691243,
          -0.9372153013211527,
          0.0708888019611482,
          -0.6541704793412096,
          -0.2727425486034403,
          -0.8467561650825913,
          -0.24422894847666754,
          0.6506410427098581,
          -0.1861744190508835,
          -0.8956269102566035,
          -0.692933879639598,
          -0.7151625872073369,
          -1.0280867128056148,
          1.8738222379554146,
          -1.1460698919616537,
          -0.25201194793209086,
          0.8584385256695541,
          0.46247735415444985,
          -1.6910102417518305,
          1.1349877588208281,
          0.26317186582137236,
          -0.3276097170751255,
          1.2834891057957318,
          -1.0043834995319987,
          -1.5593283256921824,
          1.2347423773112394,
          -2.0575488753742586,
          2.2631712978747247,
          -0.2705546729560371,
          0.09469877126793169,
          0.622385443885305,
          -0.6943514696820551,
          -1.2753824411175176,
          1.089335829020961,
          -0.9525240911546883,
          -1.002461472542824,
          0.7677962369782186,
          -0.21103263900076916,
          0.3307086665670849,
          1.09299965835771,
          0.3568085338156347,
          -0.8240059223074279,
          0.46673253345977517,
          2.275616818686702,
          -0.9857032220843619,
          -1.7622247547136498,
          -0.12979388861112595,
          1.0401598435424355,
          0.49341961529626366,
          1.0717119968738607,
          -0.07755042764285137,
          -1.7756684173540782
         ]
        },
        {
         "mode": "markers",
         "type": "scatter",
         "x": [
          3.7553363395691974,
          0.9737920675292928,
          4.016273881520009,
          3.2223416021161038,
          3.02541633762104,
          3.6544032472037387,
          3.00817704212825,
          3.796374134398972,
          2.947639696856252,
          2.4962629418119167,
          4.797219559876234,
          3.1303785266321333,
          1.1814125052382112,
          2.9032599266172405,
          3.624304897632698,
          2.9535235233760657,
          2.5572689526473766,
          4.563969129834003,
          2.2972285324112747,
          2.5654805558463853,
          3.616997602105625,
          4.082139520616353,
          2.547748504200931,
          2.628724340202374,
          1.9535092157569702,
          4.695228414314637,
          3.213516883611549,
          3.615759944059873,
          3.276943054717177,
          3.021843801441021,
          2.1467688951515695,
          3.484449420262012,
          2.28788516949676,
          3.6404690518899434,
          2.7951862705142885,
          1.5904178644063627,
          1.6479702217113532,
          1.9360222738539292,
          4.173232029185978,
          1.6754124420231424,
          2.0829030512252267,
          6.177528277723221,
          3.452246732905355,
          2.8946132011389745,
          4.011871246527688,
          2.2944556556537763,
          3.0348374567907057,
          0.7406452597743427,
          2.161707310210248,
          3.8367391377104947,
          3.931250091665708,
          2.5923466952817202,
          3.2692369515358806,
          3.094556447465594,
          1.7453158783085183,
          2.4711013428354294,
          3.0349695715426552,
          3.073109953960547,
          3.970861354807772,
          2.5045986644786384,
          2.336273105678385,
          3.598667311896193,
          3.123147675907644,
          3.231662982584676,
          3.7491382613927517,
          2.796419775002387,
          1.65739046454929,
          2.9595815336869817,
          1.6485389644819008,
          2.79389351191786,
          3.658120013430313,
          2.115596291541685,
          4.251590166963067,
          2.817714338479231,
          3.2204567952458505,
          1.5113222686737995,
          3.4784440428713133,
          4.2001780110599585,
          1.99137608615988,
          2.1702089169154917,
          2.216957482264932,
          3.252014923926495,
          2.6545844349602907,
          2.4641729934362973,
          2.381101637425439,
          2.9617079527509445,
          2.3929819974405993,
          3.45473302753131,
          4.691617217802773,
          2.0364262822058046,
          3.910758993849073,
          1.8962052070100306,
          3.2223260568203607,
          1.0705705498542468,
          2.187572511318641,
          2.8723659793716094,
          3.537460774429484,
          1.976702104899336,
          2.3446536407596494,
          2.551154939918234
         ],
         "y": [
          -0.8616189020227638,
          0.37023578735137236,
          1.8443051280879645,
          -1.7288701487770795,
          -0.2666254550727171,
          -0.41255192887218434,
          -2.5889764582504635,
          0.8242286575493013,
          -1.196662450638302,
          -0.7994498886242503,
          -0.2467997444985628,
          1.6377205756536466,
          0.2738807776002638,
          0.029947381031135846,
          0.946011533520339,
          0.5379329573070742,
          0.9065561513560805,
          -2.595868949944162,
          -0.44604674196707467,
          -0.7156178141491177,
          1.5862590222238555,
          0.34412933186063793,
          0.5362685079959902,
          -1.644992598655212,
          0.02843954381853685,
          -0.267026644818395,
          -0.05458048605325794,
          0.60311576518824,
          -0.5910413068205391,
          -0.6950333441630805,
          -0.5652238700337708,
          -2.30943654623694,
          -0.29697325906387995,
          0.16117054137509607,
          0.3531426132379133,
          -0.1571804890920269,
          -0.7919650464187001,
          -0.9961464844344411,
          -0.8663677970349369,
          -0.5518073058351246,
          -2.191147219472767,
          -0.5215864503210319,
          1.3664351141864215,
          0.4682930744085776,
          2.1034970816844574,
          -1.7611320822491325,
          -0.9748812990110036,
          -1.5172304979255355,
          0.3808458544310749,
          0.00019699279507805006,
          -0.28439856333840474,
          -2.3756586777991306,
          -2.6969895312766545,
          1.0597660181039064,
          -0.3090931704006605,
          1.3090904483502261,
          0.5394559376934479,
          1.4541099572768796,
          -1.845710003419949,
          -0.4237536917030588,
          -0.6265448266848118,
          -1.3362344363147527,
          1.9286270519665758,
          0.7556314361345885,
          1.4183221391787464,
          0.5745141084666107,
          -0.28495323620005875,
          -2.3563280618664932,
          0.8171615242030731,
          -0.34282567544729997,
          -0.9132733977540114,
          1.0521999767141321,
          1.0564816731456546,
          1.4732688696446217,
          -1.3567632598721318,
          1.2327482696452405,
          -0.4904765431323141,
          -1.130192886212584,
          -3.0351540864787463,
          -1.0366316440187813,
          -0.5800181906624476,
          -0.037562424429633846,
          -1.142436854370498,
          -0.6378868532815808,
          0.28512657151407306,
          0.1635096158058793,
          1.4451140873612085,
          -0.30595315388745503,
          -1.6541529681058023,
          0.5386867259427501,
          -0.5013639577092615,
          -0.8718839560440371,
          -0.5436659073138297,
          0.6460093268441951,
          -0.3699662747489888,
          -3.374073871340563,
          0.22159126571559465,
          0.7187218253281003,
          -0.3900446906136583,
          -0.01470099776810636
         ]
        },
        {
         "mode": "markers",
         "type": "scatter",
         "x": [
          -5,
          -4.898989898989899,
          -4.797979797979798,
          -4.696969696969697,
          -4.595959595959596,
          -4.494949494949495,
          -4.393939393939394,
          -4.292929292929293,
          -4.191919191919192,
          -4.090909090909091,
          -3.9898989898989896,
          -3.888888888888889,
          -3.787878787878788,
          -3.686868686868687,
          -3.5858585858585856,
          -3.484848484848485,
          -3.383838383838384,
          -3.282828282828283,
          -3.1818181818181817,
          -3.080808080808081,
          -2.9797979797979797,
          -2.878787878787879,
          -2.7777777777777777,
          -2.676767676767677,
          -2.5757575757575757,
          -2.474747474747475,
          -2.3737373737373737,
          -2.272727272727273,
          -2.1717171717171717,
          -2.070707070707071,
          -1.9696969696969697,
          -1.868686868686869,
          -1.7676767676767677,
          -1.6666666666666665,
          -1.5656565656565657,
          -1.4646464646464645,
          -1.3636363636363638,
          -1.2626262626262625,
          -1.1616161616161618,
          -1.0606060606060606,
          -0.9595959595959593,
          -0.858585858585859,
          -0.7575757575757578,
          -0.6565656565656566,
          -0.5555555555555554,
          -0.45454545454545503,
          -0.3535353535353538,
          -0.2525252525252526,
          -0.15151515151515138,
          -0.050505050505050164,
          0.050505050505050164,
          0.15151515151515138,
          0.2525252525252526,
          0.3535353535353538,
          0.45454545454545414,
          0.5555555555555554,
          0.6565656565656566,
          0.7575757575757578,
          0.8585858585858581,
          0.9595959595959593,
          1.0606060606060606,
          1.1616161616161618,
          1.262626262626262,
          1.3636363636363633,
          1.4646464646464645,
          1.5656565656565657,
          1.666666666666667,
          1.7676767676767673,
          1.8686868686868685,
          1.9696969696969697,
          2.070707070707071,
          2.1717171717171713,
          2.2727272727272725,
          2.3737373737373737,
          2.474747474747475,
          2.5757575757575752,
          2.6767676767676765,
          2.7777777777777777,
          2.878787878787879,
          2.9797979797979792,
          3.0808080808080813,
          3.1818181818181817,
          3.282828282828282,
          3.383838383838384,
          3.4848484848484844,
          3.5858585858585865,
          3.686868686868687,
          3.787878787878787,
          3.8888888888888893,
          3.9898989898989896,
          4.09090909090909,
          4.191919191919192,
          4.292929292929292,
          4.3939393939393945,
          4.494949494949495,
          4.595959595959595,
          4.696969696969697,
          4.797979797979798,
          4.8989898989899,
          5
         ],
         "y": [
          -8.049634144956462,
          -7.88701527334118,
          -7.7243964017258975,
          -7.561777530110616,
          -7.399158658495334,
          -7.236539786880051,
          -7.073920915264769,
          -6.911302043649488,
          -6.748683172034205,
          -6.586064300418923,
          -6.423445428803641,
          -6.260826557188359,
          -6.098207685573077,
          -5.935588813957795,
          -5.772969942342512,
          -5.610351070727232,
          -5.447732199111949,
          -5.285113327496667,
          -5.122494455881385,
          -4.959875584266103,
          -4.79725671265082,
          -4.634637841035539,
          -4.472018969420256,
          -4.309400097804975,
          -4.146781226189693,
          -3.9841623545744107,
          -3.8215434829591284,
          -3.6589246113438465,
          -3.496305739728564,
          -3.3336868681132823,
          -3.171067996498,
          -3.0084491248827185,
          -2.8458302532674358,
          -2.6832113816521534,
          -2.520592510036872,
          -2.3579736384215897,
          -2.195354766806308,
          -2.0327358951910255,
          -1.8701170235757438,
          -1.7074981519604615,
          -1.5448792803451792,
          -1.3822604087298982,
          -1.2196415371146159,
          -1.0570226654993333,
          -0.8944037938840509,
          -0.73178492226877,
          -0.5691660506534877,
          -0.40654717903820525,
          -0.24392830742292285,
          -0.08130943580764048,
          0.08130943580764048,
          0.24392830742292285,
          0.40654717903820525,
          0.5691660506534877,
          0.7317849222687686,
          0.8944037938840509,
          1.0570226654993333,
          1.2196415371146159,
          1.3822604087298969,
          1.5448792803451792,
          1.7074981519604615,
          1.8701170235757438,
          2.0327358951910246,
          2.1953547668063074,
          2.3579736384215897,
          2.520592510036872,
          2.6832113816521543,
          2.8458302532674353,
          3.0084491248827177,
          3.171067996498,
          3.3336868681132823,
          3.4963057397285637,
          3.658924611343846,
          3.8215434829591284,
          3.9841623545744107,
          4.146781226189692,
          4.309400097804974,
          4.472018969420256,
          4.634637841035539,
          4.797256712650819,
          4.959875584266103,
          5.122494455881385,
          5.285113327496665,
          5.447732199111949,
          5.61035107072723,
          5.772969942342514,
          5.935588813957795,
          6.098207685573076,
          6.260826557188359,
          6.423445428803641,
          6.586064300418922,
          6.748683172034205,
          6.911302043649487,
          7.07392091526477,
          7.236539786880051,
          7.399158658495333,
          7.561777530110616,
          7.7243964017258975,
          7.887015273341181,
          8.049634144956462
         ]
        }
       ],
       "layout": {
        "template": {
         "data": {
          "bar": [
           {
            "error_x": {
             "color": "#2a3f5f"
            },
            "error_y": {
             "color": "#2a3f5f"
            },
            "marker": {
             "line": {
              "color": "#E5ECF6",
              "width": 0.5
             }
            },
            "type": "bar"
           }
          ],
          "barpolar": [
           {
            "marker": {
             "line": {
              "color": "#E5ECF6",
              "width": 0.5
             }
            },
            "type": "barpolar"
           }
          ],
          "carpet": [
           {
            "aaxis": {
             "endlinecolor": "#2a3f5f",
             "gridcolor": "white",
             "linecolor": "white",
             "minorgridcolor": "white",
             "startlinecolor": "#2a3f5f"
            },
            "baxis": {
             "endlinecolor": "#2a3f5f",
             "gridcolor": "white",
             "linecolor": "white",
             "minorgridcolor": "white",
             "startlinecolor": "#2a3f5f"
            },
            "type": "carpet"
           }
          ],
          "choropleth": [
           {
            "colorbar": {
             "outlinewidth": 0,
             "ticks": ""
            },
            "type": "choropleth"
           }
          ],
          "contour": [
           {
            "colorbar": {
             "outlinewidth": 0,
             "ticks": ""
            },
            "colorscale": [
             [
              0,
              "#0d0887"
             ],
             [
              0.1111111111111111,
              "#46039f"
             ],
             [
              0.2222222222222222,
              "#7201a8"
             ],
             [
              0.3333333333333333,
              "#9c179e"
             ],
             [
              0.4444444444444444,
              "#bd3786"
             ],
             [
              0.5555555555555556,
              "#d8576b"
             ],
             [
              0.6666666666666666,
              "#ed7953"
             ],
             [
              0.7777777777777778,
              "#fb9f3a"
             ],
             [
              0.8888888888888888,
              "#fdca26"
             ],
             [
              1,
              "#f0f921"
             ]
            ],
            "type": "contour"
           }
          ],
          "contourcarpet": [
           {
            "colorbar": {
             "outlinewidth": 0,
             "ticks": ""
            },
            "type": "contourcarpet"
           }
          ],
          "heatmap": [
           {
            "colorbar": {
             "outlinewidth": 0,
             "ticks": ""
            },
            "colorscale": [
             [
              0,
              "#0d0887"
             ],
             [
              0.1111111111111111,
              "#46039f"
             ],
             [
              0.2222222222222222,
              "#7201a8"
             ],
             [
              0.3333333333333333,
              "#9c179e"
             ],
             [
              0.4444444444444444,
              "#bd3786"
             ],
             [
              0.5555555555555556,
              "#d8576b"
             ],
             [
              0.6666666666666666,
              "#ed7953"
             ],
             [
              0.7777777777777778,
              "#fb9f3a"
             ],
             [
              0.8888888888888888,
              "#fdca26"
             ],
             [
              1,
              "#f0f921"
             ]
            ],
            "type": "heatmap"
           }
          ],
          "heatmapgl": [
           {
            "colorbar": {
             "outlinewidth": 0,
             "ticks": ""
            },
            "colorscale": [
             [
              0,
              "#0d0887"
             ],
             [
              0.1111111111111111,
              "#46039f"
             ],
             [
              0.2222222222222222,
              "#7201a8"
             ],
             [
              0.3333333333333333,
              "#9c179e"
             ],
             [
              0.4444444444444444,
              "#bd3786"
             ],
             [
              0.5555555555555556,
              "#d8576b"
             ],
             [
              0.6666666666666666,
              "#ed7953"
             ],
             [
              0.7777777777777778,
              "#fb9f3a"
             ],
             [
              0.8888888888888888,
              "#fdca26"
             ],
             [
              1,
              "#f0f921"
             ]
            ],
            "type": "heatmapgl"
           }
          ],
          "histogram": [
           {
            "marker": {
             "colorbar": {
              "outlinewidth": 0,
              "ticks": ""
             }
            },
            "type": "histogram"
           }
          ],
          "histogram2d": [
           {
            "colorbar": {
             "outlinewidth": 0,
             "ticks": ""
            },
            "colorscale": [
             [
              0,
              "#0d0887"
             ],
             [
              0.1111111111111111,
              "#46039f"
             ],
             [
              0.2222222222222222,
              "#7201a8"
             ],
             [
              0.3333333333333333,
              "#9c179e"
             ],
             [
              0.4444444444444444,
              "#bd3786"
             ],
             [
              0.5555555555555556,
              "#d8576b"
             ],
             [
              0.6666666666666666,
              "#ed7953"
             ],
             [
              0.7777777777777778,
              "#fb9f3a"
             ],
             [
              0.8888888888888888,
              "#fdca26"
             ],
             [
              1,
              "#f0f921"
             ]
            ],
            "type": "histogram2d"
           }
          ],
          "histogram2dcontour": [
           {
            "colorbar": {
             "outlinewidth": 0,
             "ticks": ""
            },
            "colorscale": [
             [
              0,
              "#0d0887"
             ],
             [
              0.1111111111111111,
              "#46039f"
             ],
             [
              0.2222222222222222,
              "#7201a8"
             ],
             [
              0.3333333333333333,
              "#9c179e"
             ],
             [
              0.4444444444444444,
              "#bd3786"
             ],
             [
              0.5555555555555556,
              "#d8576b"
             ],
             [
              0.6666666666666666,
              "#ed7953"
             ],
             [
              0.7777777777777778,
              "#fb9f3a"
             ],
             [
              0.8888888888888888,
              "#fdca26"
             ],
             [
              1,
              "#f0f921"
             ]
            ],
            "type": "histogram2dcontour"
           }
          ],
          "mesh3d": [
           {
            "colorbar": {
             "outlinewidth": 0,
             "ticks": ""
            },
            "type": "mesh3d"
           }
          ],
          "parcoords": [
           {
            "line": {
             "colorbar": {
              "outlinewidth": 0,
              "ticks": ""
             }
            },
            "type": "parcoords"
           }
          ],
          "pie": [
           {
            "automargin": true,
            "type": "pie"
           }
          ],
          "scatter": [
           {
            "marker": {
             "colorbar": {
              "outlinewidth": 0,
              "ticks": ""
             }
            },
            "type": "scatter"
           }
          ],
          "scatter3d": [
           {
            "line": {
             "colorbar": {
              "outlinewidth": 0,
              "ticks": ""
             }
            },
            "marker": {
             "colorbar": {
              "outlinewidth": 0,
              "ticks": ""
             }
            },
            "type": "scatter3d"
           }
          ],
          "scattercarpet": [
           {
            "marker": {
             "colorbar": {
              "outlinewidth": 0,
              "ticks": ""
             }
            },
            "type": "scattercarpet"
           }
          ],
          "scattergeo": [
           {
            "marker": {
             "colorbar": {
              "outlinewidth": 0,
              "ticks": ""
             }
            },
            "type": "scattergeo"
           }
          ],
          "scattergl": [
           {
            "marker": {
             "colorbar": {
              "outlinewidth": 0,
              "ticks": ""
             }
            },
            "type": "scattergl"
           }
          ],
          "scattermapbox": [
           {
            "marker": {
             "colorbar": {
              "outlinewidth": 0,
              "ticks": ""
             }
            },
            "type": "scattermapbox"
           }
          ],
          "scatterpolar": [
           {
            "marker": {
             "colorbar": {
              "outlinewidth": 0,
              "ticks": ""
             }
            },
            "type": "scatterpolar"
           }
          ],
          "scatterpolargl": [
           {
            "marker": {
             "colorbar": {
              "outlinewidth": 0,
              "ticks": ""
             }
            },
            "type": "scatterpolargl"
           }
          ],
          "scatterternary": [
           {
            "marker": {
             "colorbar": {
              "outlinewidth": 0,
              "ticks": ""
             }
            },
            "type": "scatterternary"
           }
          ],
          "surface": [
           {
            "colorbar": {
             "outlinewidth": 0,
             "ticks": ""
            },
            "colorscale": [
             [
              0,
              "#0d0887"
             ],
             [
              0.1111111111111111,
              "#46039f"
             ],
             [
              0.2222222222222222,
              "#7201a8"
             ],
             [
              0.3333333333333333,
              "#9c179e"
             ],
             [
              0.4444444444444444,
              "#bd3786"
             ],
             [
              0.5555555555555556,
              "#d8576b"
             ],
             [
              0.6666666666666666,
              "#ed7953"
             ],
             [
              0.7777777777777778,
              "#fb9f3a"
             ],
             [
              0.8888888888888888,
              "#fdca26"
             ],
             [
              1,
              "#f0f921"
             ]
            ],
            "type": "surface"
           }
          ],
          "table": [
           {
            "cells": {
             "fill": {
              "color": "#EBF0F8"
             },
             "line": {
              "color": "white"
             }
            },
            "header": {
             "fill": {
              "color": "#C8D4E3"
             },
             "line": {
              "color": "white"
             }
            },
            "type": "table"
           }
          ]
         },
         "layout": {
          "annotationdefaults": {
           "arrowcolor": "#2a3f5f",
           "arrowhead": 0,
           "arrowwidth": 1
          },
          "coloraxis": {
           "colorbar": {
            "outlinewidth": 0,
            "ticks": ""
           }
          },
          "colorscale": {
           "diverging": [
            [
             0,
             "#8e0152"
            ],
            [
             0.1,
             "#c51b7d"
            ],
            [
             0.2,
             "#de77ae"
            ],
            [
             0.3,
             "#f1b6da"
            ],
            [
             0.4,
             "#fde0ef"
            ],
            [
             0.5,
             "#f7f7f7"
            ],
            [
             0.6,
             "#e6f5d0"
            ],
            [
             0.7,
             "#b8e186"
            ],
            [
             0.8,
             "#7fbc41"
            ],
            [
             0.9,
             "#4d9221"
            ],
            [
             1,
             "#276419"
            ]
           ],
           "sequential": [
            [
             0,
             "#0d0887"
            ],
            [
             0.1111111111111111,
             "#46039f"
            ],
            [
             0.2222222222222222,
             "#7201a8"
            ],
            [
             0.3333333333333333,
             "#9c179e"
            ],
            [
             0.4444444444444444,
             "#bd3786"
            ],
            [
             0.5555555555555556,
             "#d8576b"
            ],
            [
             0.6666666666666666,
             "#ed7953"
            ],
            [
             0.7777777777777778,
             "#fb9f3a"
            ],
            [
             0.8888888888888888,
             "#fdca26"
            ],
            [
             1,
             "#f0f921"
            ]
           ],
           "sequentialminus": [
            [
             0,
             "#0d0887"
            ],
            [
             0.1111111111111111,
             "#46039f"
            ],
            [
             0.2222222222222222,
             "#7201a8"
            ],
            [
             0.3333333333333333,
             "#9c179e"
            ],
            [
             0.4444444444444444,
             "#bd3786"
            ],
            [
             0.5555555555555556,
             "#d8576b"
            ],
            [
             0.6666666666666666,
             "#ed7953"
            ],
            [
             0.7777777777777778,
             "#fb9f3a"
            ],
            [
             0.8888888888888888,
             "#fdca26"
            ],
            [
             1,
             "#f0f921"
            ]
           ]
          },
          "colorway": [
           "#636efa",
           "#EF553B",
           "#00cc96",
           "#ab63fa",
           "#FFA15A",
           "#19d3f3",
           "#FF6692",
           "#B6E880",
           "#FF97FF",
           "#FECB52"
          ],
          "font": {
           "color": "#2a3f5f"
          },
          "geo": {
           "bgcolor": "white",
           "lakecolor": "white",
           "landcolor": "#E5ECF6",
           "showlakes": true,
           "showland": true,
           "subunitcolor": "white"
          },
          "hoverlabel": {
           "align": "left"
          },
          "hovermode": "closest",
          "mapbox": {
           "style": "light"
          },
          "paper_bgcolor": "white",
          "plot_bgcolor": "#E5ECF6",
          "polar": {
           "angularaxis": {
            "gridcolor": "white",
            "linecolor": "white",
            "ticks": ""
           },
           "bgcolor": "#E5ECF6",
           "radialaxis": {
            "gridcolor": "white",
            "linecolor": "white",
            "ticks": ""
           }
          },
          "scene": {
           "xaxis": {
            "backgroundcolor": "#E5ECF6",
            "gridcolor": "white",
            "gridwidth": 2,
            "linecolor": "white",
            "showbackground": true,
            "ticks": "",
            "zerolinecolor": "white"
           },
           "yaxis": {
            "backgroundcolor": "#E5ECF6",
            "gridcolor": "white",
            "gridwidth": 2,
            "linecolor": "white",
            "showbackground": true,
            "ticks": "",
            "zerolinecolor": "white"
           },
           "zaxis": {
            "backgroundcolor": "#E5ECF6",
            "gridcolor": "white",
            "gridwidth": 2,
            "linecolor": "white",
            "showbackground": true,
            "ticks": "",
            "zerolinecolor": "white"
           }
          },
          "shapedefaults": {
           "line": {
            "color": "#2a3f5f"
           }
          },
          "ternary": {
           "aaxis": {
            "gridcolor": "white",
            "linecolor": "white",
            "ticks": ""
           },
           "baxis": {
            "gridcolor": "white",
            "linecolor": "white",
            "ticks": ""
           },
           "bgcolor": "#E5ECF6",
           "caxis": {
            "gridcolor": "white",
            "linecolor": "white",
            "ticks": ""
           }
          },
          "title": {
           "x": 0.05
          },
          "xaxis": {
           "automargin": true,
           "gridcolor": "white",
           "linecolor": "white",
           "ticks": "",
           "title": {
            "standoff": 15
           },
           "zerolinecolor": "white",
           "zerolinewidth": 2
          },
          "yaxis": {
           "automargin": true,
           "gridcolor": "white",
           "linecolor": "white",
           "ticks": "",
           "title": {
            "standoff": 15
           },
           "zerolinecolor": "white",
           "zerolinewidth": 2
          }
         }
        }
       }
      }
     },
     "metadata": {}
    }
   ],
   "source": [
    "w = np.random.uniform(0,1,(2,1))\n",
    "epoch = 50\n",
    "eta = 1e-4\n",
    "mae = delta_learning(features, targets, w, epoch, eta)\n",
    "plot_boundary(fig, w.T)\n",
    "mae_fig = ex.line(x=np.arange(len(mae)), y=mae)\n",
    "mae_fig.show()\n",
    "fig.show()"
   ]
  },
  {
   "cell_type": "markdown",
   "metadata": {},
   "source": [
    "# Two-layer MLP\n"
   ]
  },
  {
   "cell_type": "code",
   "execution_count": 186,
   "metadata": {
    "tags": []
   },
   "outputs": [
    {
     "output_type": "display_data",
     "data": {
      "application/vnd.plotly.v1+json": {
       "config": {
        "plotlyServerURL": "https://plot.ly"
       },
       "data": [
        {
         "hovertemplate": "x=%{x}<br>y=%{y}<extra></extra>",
         "legendgroup": "",
         "line": {
          "color": "#636efa",
          "dash": "solid"
         },
         "mode": "lines",
         "name": "",
         "orientation": "v",
         "showlegend": false,
         "type": "scatter",
         "x": [
          0,
          1,
          2,
          3,
          4,
          5,
          6,
          7,
          8,
          9,
          10,
          11,
          12,
          13,
          14,
          15,
          16,
          17,
          18,
          19,
          20,
          21,
          22,
          23,
          24,
          25,
          26,
          27,
          28,
          29,
          30,
          31,
          32,
          33,
          34,
          35,
          36,
          37,
          38,
          39,
          40,
          41,
          42,
          43,
          44,
          45,
          46,
          47,
          48,
          49
         ],
         "xaxis": "x",
         "y": [
          0.11418208728898066,
          0.11416489291911336,
          0.1141322355272664,
          0.1140856832443313,
          0.11402665554013243,
          0.11395643663313795,
          0.11387618781366747,
          0.11378695874411665,
          0.11368969780141573,
          0.11358526152703555,
          0.11347442324876277,
          0.11335788093651214,
          0.11323626435188601,
          0.1131101415482317,
          0.11298002477474349,
          0.11284637583483065,
          0.11270961094561226,
          0.1125701051420818,
          0.11242819626624805,
          0.11228418857844932,
          0.1121383560250727,
          0.11199094519410636,
          0.11184217798732057,
          0.11169225403541144,
          0.11154135288015216,
          0.11138963594547611,
          0.11123724831745684,
          0.11108432035134559,
          0.11093096912216983,
          0.11077729973387752,
          0.1106234065006205,
          0.11046937401250245,
          0.11031527809695697,
          0.11016118668586776,
          0.11000716059758225,
          0.10985325424209812,
          0.10969951625690932,
          0.10954599008027983,
          0.10939271446806066,
          0.1092397239595763,
          0.1090870492975703,
          0.10893471780671621,
          0.1087827537347625,
          0.10863117855998196,
          0.1084800112682408,
          0.10832926860267551,
          0.10817896528867625,
          0.10802911423660884,
          0.10787972672447065,
          0.10773081256245903
         ],
         "yaxis": "y"
        }
       ],
       "layout": {
        "legend": {
         "tracegroupgap": 0
        },
        "margin": {
         "t": 60
        },
        "template": {
         "data": {
          "bar": [
           {
            "error_x": {
             "color": "#2a3f5f"
            },
            "error_y": {
             "color": "#2a3f5f"
            },
            "marker": {
             "line": {
              "color": "#E5ECF6",
              "width": 0.5
             }
            },
            "type": "bar"
           }
          ],
          "barpolar": [
           {
            "marker": {
             "line": {
              "color": "#E5ECF6",
              "width": 0.5
             }
            },
            "type": "barpolar"
           }
          ],
          "carpet": [
           {
            "aaxis": {
             "endlinecolor": "#2a3f5f",
             "gridcolor": "white",
             "linecolor": "white",
             "minorgridcolor": "white",
             "startlinecolor": "#2a3f5f"
            },
            "baxis": {
             "endlinecolor": "#2a3f5f",
             "gridcolor": "white",
             "linecolor": "white",
             "minorgridcolor": "white",
             "startlinecolor": "#2a3f5f"
            },
            "type": "carpet"
           }
          ],
          "choropleth": [
           {
            "colorbar": {
             "outlinewidth": 0,
             "ticks": ""
            },
            "type": "choropleth"
           }
          ],
          "contour": [
           {
            "colorbar": {
             "outlinewidth": 0,
             "ticks": ""
            },
            "colorscale": [
             [
              0,
              "#0d0887"
             ],
             [
              0.1111111111111111,
              "#46039f"
             ],
             [
              0.2222222222222222,
              "#7201a8"
             ],
             [
              0.3333333333333333,
              "#9c179e"
             ],
             [
              0.4444444444444444,
              "#bd3786"
             ],
             [
              0.5555555555555556,
              "#d8576b"
             ],
             [
              0.6666666666666666,
              "#ed7953"
             ],
             [
              0.7777777777777778,
              "#fb9f3a"
             ],
             [
              0.8888888888888888,
              "#fdca26"
             ],
             [
              1,
              "#f0f921"
             ]
            ],
            "type": "contour"
           }
          ],
          "contourcarpet": [
           {
            "colorbar": {
             "outlinewidth": 0,
             "ticks": ""
            },
            "type": "contourcarpet"
           }
          ],
          "heatmap": [
           {
            "colorbar": {
             "outlinewidth": 0,
             "ticks": ""
            },
            "colorscale": [
             [
              0,
              "#0d0887"
             ],
             [
              0.1111111111111111,
              "#46039f"
             ],
             [
              0.2222222222222222,
              "#7201a8"
             ],
             [
              0.3333333333333333,
              "#9c179e"
             ],
             [
              0.4444444444444444,
              "#bd3786"
             ],
             [
              0.5555555555555556,
              "#d8576b"
             ],
             [
              0.6666666666666666,
              "#ed7953"
             ],
             [
              0.7777777777777778,
              "#fb9f3a"
             ],
             [
              0.8888888888888888,
              "#fdca26"
             ],
             [
              1,
              "#f0f921"
             ]
            ],
            "type": "heatmap"
           }
          ],
          "heatmapgl": [
           {
            "colorbar": {
             "outlinewidth": 0,
             "ticks": ""
            },
            "colorscale": [
             [
              0,
              "#0d0887"
             ],
             [
              0.1111111111111111,
              "#46039f"
             ],
             [
              0.2222222222222222,
              "#7201a8"
             ],
             [
              0.3333333333333333,
              "#9c179e"
             ],
             [
              0.4444444444444444,
              "#bd3786"
             ],
             [
              0.5555555555555556,
              "#d8576b"
             ],
             [
              0.6666666666666666,
              "#ed7953"
             ],
             [
              0.7777777777777778,
              "#fb9f3a"
             ],
             [
              0.8888888888888888,
              "#fdca26"
             ],
             [
              1,
              "#f0f921"
             ]
            ],
            "type": "heatmapgl"
           }
          ],
          "histogram": [
           {
            "marker": {
             "colorbar": {
              "outlinewidth": 0,
              "ticks": ""
             }
            },
            "type": "histogram"
           }
          ],
          "histogram2d": [
           {
            "colorbar": {
             "outlinewidth": 0,
             "ticks": ""
            },
            "colorscale": [
             [
              0,
              "#0d0887"
             ],
             [
              0.1111111111111111,
              "#46039f"
             ],
             [
              0.2222222222222222,
              "#7201a8"
             ],
             [
              0.3333333333333333,
              "#9c179e"
             ],
             [
              0.4444444444444444,
              "#bd3786"
             ],
             [
              0.5555555555555556,
              "#d8576b"
             ],
             [
              0.6666666666666666,
              "#ed7953"
             ],
             [
              0.7777777777777778,
              "#fb9f3a"
             ],
             [
              0.8888888888888888,
              "#fdca26"
             ],
             [
              1,
              "#f0f921"
             ]
            ],
            "type": "histogram2d"
           }
          ],
          "histogram2dcontour": [
           {
            "colorbar": {
             "outlinewidth": 0,
             "ticks": ""
            },
            "colorscale": [
             [
              0,
              "#0d0887"
             ],
             [
              0.1111111111111111,
              "#46039f"
             ],
             [
              0.2222222222222222,
              "#7201a8"
             ],
             [
              0.3333333333333333,
              "#9c179e"
             ],
             [
              0.4444444444444444,
              "#bd3786"
             ],
             [
              0.5555555555555556,
              "#d8576b"
             ],
             [
              0.6666666666666666,
              "#ed7953"
             ],
             [
              0.7777777777777778,
              "#fb9f3a"
             ],
             [
              0.8888888888888888,
              "#fdca26"
             ],
             [
              1,
              "#f0f921"
             ]
            ],
            "type": "histogram2dcontour"
           }
          ],
          "mesh3d": [
           {
            "colorbar": {
             "outlinewidth": 0,
             "ticks": ""
            },
            "type": "mesh3d"
           }
          ],
          "parcoords": [
           {
            "line": {
             "colorbar": {
              "outlinewidth": 0,
              "ticks": ""
             }
            },
            "type": "parcoords"
           }
          ],
          "pie": [
           {
            "automargin": true,
            "type": "pie"
           }
          ],
          "scatter": [
           {
            "marker": {
             "colorbar": {
              "outlinewidth": 0,
              "ticks": ""
             }
            },
            "type": "scatter"
           }
          ],
          "scatter3d": [
           {
            "line": {
             "colorbar": {
              "outlinewidth": 0,
              "ticks": ""
             }
            },
            "marker": {
             "colorbar": {
              "outlinewidth": 0,
              "ticks": ""
             }
            },
            "type": "scatter3d"
           }
          ],
          "scattercarpet": [
           {
            "marker": {
             "colorbar": {
              "outlinewidth": 0,
              "ticks": ""
             }
            },
            "type": "scattercarpet"
           }
          ],
          "scattergeo": [
           {
            "marker": {
             "colorbar": {
              "outlinewidth": 0,
              "ticks": ""
             }
            },
            "type": "scattergeo"
           }
          ],
          "scattergl": [
           {
            "marker": {
             "colorbar": {
              "outlinewidth": 0,
              "ticks": ""
             }
            },
            "type": "scattergl"
           }
          ],
          "scattermapbox": [
           {
            "marker": {
             "colorbar": {
              "outlinewidth": 0,
              "ticks": ""
             }
            },
            "type": "scattermapbox"
           }
          ],
          "scatterpolar": [
           {
            "marker": {
             "colorbar": {
              "outlinewidth": 0,
              "ticks": ""
             }
            },
            "type": "scatterpolar"
           }
          ],
          "scatterpolargl": [
           {
            "marker": {
             "colorbar": {
              "outlinewidth": 0,
              "ticks": ""
             }
            },
            "type": "scatterpolargl"
           }
          ],
          "scatterternary": [
           {
            "marker": {
             "colorbar": {
              "outlinewidth": 0,
              "ticks": ""
             }
            },
            "type": "scatterternary"
           }
          ],
          "surface": [
           {
            "colorbar": {
             "outlinewidth": 0,
             "ticks": ""
            },
            "colorscale": [
             [
              0,
              "#0d0887"
             ],
             [
              0.1111111111111111,
              "#46039f"
             ],
             [
              0.2222222222222222,
              "#7201a8"
             ],
             [
              0.3333333333333333,
              "#9c179e"
             ],
             [
              0.4444444444444444,
              "#bd3786"
             ],
             [
              0.5555555555555556,
              "#d8576b"
             ],
             [
              0.6666666666666666,
              "#ed7953"
             ],
             [
              0.7777777777777778,
              "#fb9f3a"
             ],
             [
              0.8888888888888888,
              "#fdca26"
             ],
             [
              1,
              "#f0f921"
             ]
            ],
            "type": "surface"
           }
          ],
          "table": [
           {
            "cells": {
             "fill": {
              "color": "#EBF0F8"
             },
             "line": {
              "color": "white"
             }
            },
            "header": {
             "fill": {
              "color": "#C8D4E3"
             },
             "line": {
              "color": "white"
             }
            },
            "type": "table"
           }
          ]
         },
         "layout": {
          "annotationdefaults": {
           "arrowcolor": "#2a3f5f",
           "arrowhead": 0,
           "arrowwidth": 1
          },
          "coloraxis": {
           "colorbar": {
            "outlinewidth": 0,
            "ticks": ""
           }
          },
          "colorscale": {
           "diverging": [
            [
             0,
             "#8e0152"
            ],
            [
             0.1,
             "#c51b7d"
            ],
            [
             0.2,
             "#de77ae"
            ],
            [
             0.3,
             "#f1b6da"
            ],
            [
             0.4,
             "#fde0ef"
            ],
            [
             0.5,
             "#f7f7f7"
            ],
            [
             0.6,
             "#e6f5d0"
            ],
            [
             0.7,
             "#b8e186"
            ],
            [
             0.8,
             "#7fbc41"
            ],
            [
             0.9,
             "#4d9221"
            ],
            [
             1,
             "#276419"
            ]
           ],
           "sequential": [
            [
             0,
             "#0d0887"
            ],
            [
             0.1111111111111111,
             "#46039f"
            ],
            [
             0.2222222222222222,
             "#7201a8"
            ],
            [
             0.3333333333333333,
             "#9c179e"
            ],
            [
             0.4444444444444444,
             "#bd3786"
            ],
            [
             0.5555555555555556,
             "#d8576b"
            ],
            [
             0.6666666666666666,
             "#ed7953"
            ],
            [
             0.7777777777777778,
             "#fb9f3a"
            ],
            [
             0.8888888888888888,
             "#fdca26"
            ],
            [
             1,
             "#f0f921"
            ]
           ],
           "sequentialminus": [
            [
             0,
             "#0d0887"
            ],
            [
             0.1111111111111111,
             "#46039f"
            ],
            [
             0.2222222222222222,
             "#7201a8"
            ],
            [
             0.3333333333333333,
             "#9c179e"
            ],
            [
             0.4444444444444444,
             "#bd3786"
            ],
            [
             0.5555555555555556,
             "#d8576b"
            ],
            [
             0.6666666666666666,
             "#ed7953"
            ],
            [
             0.7777777777777778,
             "#fb9f3a"
            ],
            [
             0.8888888888888888,
             "#fdca26"
            ],
            [
             1,
             "#f0f921"
            ]
           ]
          },
          "colorway": [
           "#636efa",
           "#EF553B",
           "#00cc96",
           "#ab63fa",
           "#FFA15A",
           "#19d3f3",
           "#FF6692",
           "#B6E880",
           "#FF97FF",
           "#FECB52"
          ],
          "font": {
           "color": "#2a3f5f"
          },
          "geo": {
           "bgcolor": "white",
           "lakecolor": "white",
           "landcolor": "#E5ECF6",
           "showlakes": true,
           "showland": true,
           "subunitcolor": "white"
          },
          "hoverlabel": {
           "align": "left"
          },
          "hovermode": "closest",
          "mapbox": {
           "style": "light"
          },
          "paper_bgcolor": "white",
          "plot_bgcolor": "#E5ECF6",
          "polar": {
           "angularaxis": {
            "gridcolor": "white",
            "linecolor": "white",
            "ticks": ""
           },
           "bgcolor": "#E5ECF6",
           "radialaxis": {
            "gridcolor": "white",
            "linecolor": "white",
            "ticks": ""
           }
          },
          "scene": {
           "xaxis": {
            "backgroundcolor": "#E5ECF6",
            "gridcolor": "white",
            "gridwidth": 2,
            "linecolor": "white",
            "showbackground": true,
            "ticks": "",
            "zerolinecolor": "white"
           },
           "yaxis": {
            "backgroundcolor": "#E5ECF6",
            "gridcolor": "white",
            "gridwidth": 2,
            "linecolor": "white",
            "showbackground": true,
            "ticks": "",
            "zerolinecolor": "white"
           },
           "zaxis": {
            "backgroundcolor": "#E5ECF6",
            "gridcolor": "white",
            "gridwidth": 2,
            "linecolor": "white",
            "showbackground": true,
            "ticks": "",
            "zerolinecolor": "white"
           }
          },
          "shapedefaults": {
           "line": {
            "color": "#2a3f5f"
           }
          },
          "ternary": {
           "aaxis": {
            "gridcolor": "white",
            "linecolor": "white",
            "ticks": ""
           },
           "baxis": {
            "gridcolor": "white",
            "linecolor": "white",
            "ticks": ""
           },
           "bgcolor": "#E5ECF6",
           "caxis": {
            "gridcolor": "white",
            "linecolor": "white",
            "ticks": ""
           }
          },
          "title": {
           "x": 0.05
          },
          "xaxis": {
           "automargin": true,
           "gridcolor": "white",
           "linecolor": "white",
           "ticks": "",
           "title": {
            "standoff": 15
           },
           "zerolinecolor": "white",
           "zerolinewidth": 2
          },
          "yaxis": {
           "automargin": true,
           "gridcolor": "white",
           "linecolor": "white",
           "ticks": "",
           "title": {
            "standoff": 15
           },
           "zerolinecolor": "white",
           "zerolinewidth": 2
          }
         }
        },
        "xaxis": {
         "anchor": "y",
         "domain": [
          0,
          1
         ],
         "title": {
          "text": "x"
         }
        },
        "yaxis": {
         "anchor": "x",
         "domain": [
          0,
          1
         ],
         "title": {
          "text": "y"
         }
        }
       }
      }
     },
     "metadata": {}
    },
    {
     "output_type": "display_data",
     "data": {
      "application/vnd.plotly.v1+json": {
       "config": {
        "plotlyServerURL": "https://plot.ly"
       },
       "data": [
        {
         "mode": "markers",
         "type": "scatter",
         "x": [
          -2.7304804277119294,
          -4.942020292158986,
          -2.8493629098075446,
          -3.6223512584079787,
          -2.522037556872066,
          -2.8338496932880815,
          -2.7983778107327457,
          -2.390429189570309,
          -3.411007550915919,
          -2.6266963442089897,
          -1.946926883730434,
          -3.6287476506935326,
          -1.9069082199453897,
          -1.994652304076695,
          -3.5856303086872714,
          -3.3313405935167033,
          -3.3832093370942293,
          -2.9261538320974307,
          -1.8083843682787397,
          -2.7529671302348087,
          -4.448677528095691,
          -1.944459013832443,
          -3.634884495428448,
          -3.712943218939402,
          -4.276467614013986,
          -2.851409742507722,
          -1.4491089381122157,
          -3.5947049787982572,
          -3.3990729627407674,
          -4.208523328658987,
          -4.383215958615457,
          -3.6823937213279145,
          -3.9881106937206,
          -0.5033460886832541,
          -4.029699670743343,
          -2.827260513611685,
          -5.861375432813628,
          -3.477109334799112,
          -3.0510055063444645,
          -4.271847741494224,
          -1.9441056686262017,
          -0.8637476805888724,
          -2.02795890648083,
          -3.682264267966631,
          -4.078689045923855,
          -4.557026194568123,
          -3.469260367015618,
          -3.789088462336312,
          -3.2818991503654904,
          -3.092033305671525,
          -2.706447474183736,
          -3.416563485831883,
          -3.1781467352572363,
          -3.3355302036476866,
          -3.3814772279793313,
          -1.578626244388012,
          -3.9688225773969625,
          -3.269696292055233,
          -3.8350912364660923,
          -4.152185671877591,
          -1.0459477238450956,
          -3.4481090500528526,
          -3.6920003447541316,
          -2.306191851052982,
          -2.1847093704555336,
          -3.0660952557651053,
          -4.038968546302023,
          -2.527897935409602,
          -2.9702734693353694,
          -4.405329868967987,
          -4.418260404612263,
          -4.044233149219037,
          -2.3287992911190107,
          -3.090732336069442,
          -3.9170418923795856,
          -4.2964878368044594,
          -3.252027004589924,
          -3.4955467793152786,
          -0.759871644452025,
          -3.7430516033720913,
          -4.373972612760215,
          -3.403932719170015,
          -2.3005067221016513,
          -2.5697558562355907,
          -2.651733122283611,
          -2.697055012044303,
          -2.442221094938544,
          -0.4601828677878781,
          -2.824571514775169,
          -2.1399015484799593,
          -2.7179746637774107,
          -1.900508709835382,
          -2.7917977858962235,
          -2.5309395046584306,
          -3.6254199958744717,
          -4.99546064995147,
          -2.9687736320645284,
          -2.1341742640288075,
          -4.143912851822226,
          -2.0390689137200306
         ],
         "y": [
          -0.5836623154432995,
          3.054845783114621,
          1.2194227073847692,
          0.5324006946310665,
          0.5891797606007492,
          0.6505420040041321,
          -1.196194109986384,
          0.22035544053802833,
          0.16065162725980264,
          1.3638714711544542,
          -0.452665303753528,
          -0.949600127524164,
          0.2801791358644612,
          -0.2695414178899334,
          -0.7286141627674185,
          -0.19567184673463608,
          -0.03679987415114023,
          -2.4293603500382903,
          1.4250290829663343,
          0.15003752212101146,
          -2.3053071376077447,
          -0.6503889201520008,
          2.0196385415037903,
          -0.21350124254983283,
          -1.4235082834523094,
          -0.7797659785580298,
          0.791741156802512,
          0.6140794569244519,
          -0.3271696788785566,
          -0.806422999006424,
          0.12067623795418363,
          1.560227630186882,
          0.8693187308213829,
          0.8139669054879323,
          0.6391022072030609,
          2.5224246155490335,
          1.5581703459884986,
          0.8698772234220206,
          0.4105812774287119,
          -2.1787667743032664,
          1.4980079995629278,
          -1.2950361647628736,
          1.3009658746052144,
          -1.3980539278078796,
          -0.7982284371305447,
          0.13501348356078743,
          -0.32306626520524934,
          1.3670860020265378,
          -1.3859049752919201,
          -1.1059193930623519,
          -1.0937372307871749,
          0.47670229696833266,
          1.7086336308979557,
          -0.09159024803168517,
          1.0636547780490795,
          -0.11130055059109932,
          0.9908498220579502,
          -1.1172312788538168,
          0.4288493765831666,
          -0.4455065301990153,
          -0.24349769666685736,
          -0.2735388056685476,
          -1.3591611348802262,
          -1.4427894321616397,
          -0.5118945027849927,
          -0.7151959903853864,
          0.3848292383595542,
          0.31869386774302855,
          0.2173987973745072,
          0.8788687167681868,
          -0.6813089330623272,
          -0.8051910761039446,
          -0.28914577157076726,
          1.8231733874271228,
          -1.4570307943323,
          0.08000347992774451,
          1.2832057265569818,
          1.5005329243028542,
          -0.6676798469567921,
          -1.2519805317929045,
          0.06602661269075198,
          -0.8064546712905459,
          -0.546359802608007,
          0.435611140661397,
          0.14691820449790252,
          1.4874759965855375,
          -1.2944624204410309,
          -1.0365062588704823,
          0.44022745886255815,
          1.337511362258793,
          -0.8872779020963358,
          0.28068011699748463,
          1.4650202666703507,
          0.780822034080113,
          -1.2011336094955407,
          0.6304839574133602,
          -0.48095495361079527,
          -0.43025890984274817,
          0.46371003670111877,
          0.21611308464240417
         ]
        },
        {
         "mode": "markers",
         "type": "scatter",
         "x": [
          4.571088625483804,
          3.433772734225589,
          5.173122785545157,
          3.5720405261767825,
          1.929329795474892,
          2.0822008080499312,
          4.704322135309306,
          4.410858387638872,
          3.305196960408078,
          4.359582800217207,
          3.5993689799356634,
          3.9953575551283356,
          2.982454925759208,
          3.4047295295690367,
          3.5567620043002783,
          3.048882798160264,
          2.3264861269922497,
          4.806723269769407,
          2.629482391224919,
          1.6639369506370023,
          4.208648120745637,
          2.494241994434553,
          3.043303123216506,
          1.6980320613621744,
          3.080596959344316,
          4.495823400288359,
          1.8463170961838817,
          3.9907519450798894,
          2.4256335176555672,
          5.226765954748117,
          2.912608952747502,
          1.5756691327103105,
          2.717752183829738,
          2.9590827594960505,
          4.07114659965551,
          3.2220058214758804,
          3.9846197004141746,
          2.2698027238792187,
          2.6833249799253736,
          3.06542438358173,
          2.773141185103551,
          3.2247585687759,
          2.5260851396362045,
          3.0192894437128572,
          3.657656599580557,
          2.504728334870224,
          3.001002205184886,
          0.9715570019152167,
          2.3033906287983967,
          4.988753682269095,
          1.562551944723577,
          4.310508184311624,
          3.119512886691458,
          3.4754000908917115,
          1.6385418782314993,
          4.279598726307693,
          2.894178310463318,
          2.5837334257528077,
          2.5134682013191396,
          1.2626449404811002,
          3.892540346344901,
          2.5687852043011143,
          3.5301573944772713,
          4.58752046940458,
          3.140239419251931,
          3.04809533764098,
          4.396055717217742,
          1.760080253344988,
          3.462683805418637,
          1.5180104916627462,
          3.04676618737113,
          1.9531344056068818,
          2.988591537168945,
          5.032537408435945,
          3.632058293217194,
          2.816501118535069,
          4.006225379533813,
          1.7204479947313338,
          2.3447907090095113,
          3.7043444489707165,
          2.4796576447986043,
          4.5248517121147005,
          2.899648735478412,
          3.5877010951768726,
          2.3305384916827774,
          1.8774162868503743,
          3.5449756266279593,
          4.7455051693005315,
          1.7170442360710436,
          2.8863841950466367,
          3.1740618295886938,
          5.198036308999706,
          2.203190167224936,
          3.6438296395193004,
          3.076751414624773,
          2.902323366161906,
          3.4689755869267227,
          4.354909246024584,
          4.5651150729401175,
          2.4032955847498245
         ],
         "y": [
          -0.5392983781318482,
          -0.2574870405173333,
          0.2976223259456672,
          -0.03945660410396731,
          0.5376759094310675,
          -0.3816414068797167,
          -0.007470408685846745,
          0.7310875760000118,
          -0.2961407415371626,
          -1.2741952468249553,
          -0.7031576071866417,
          1.4121022188237617,
          0.37813137180778633,
          0.11007998282346425,
          0.5107252399846697,
          1.1536426530437514,
          2.2499432812495788,
          0.4695840961215051,
          1.3907642098882116,
          1.088893862985392,
          -1.7091657308790793,
          0.2108407039840717,
          0.8334336089133589,
          1.3561324397625842,
          -0.558655976408429,
          0.6362973212624293,
          0.4619830770963611,
          -0.14794819829798816,
          1.1700631935482044,
          -0.21615223873463194,
          -1.1639570189501303,
          -0.6478351124887225,
          0.5835439657928271,
          0.7517252516876213,
          0.1628208907125204,
          0.3129619056799513,
          -0.28884308518312807,
          -1.0640971975566664,
          -0.9346171547334823,
          -0.14892641622464273,
          -1.1275267778782,
          0.15251257775728227,
          -0.1256812776741053,
          1.320904825654303,
          -1.066397527210827,
          -1.3455201688220928,
          1.5780358880108543,
          1.2392556248057414,
          2.293014290755084,
          0.16949511905767406,
          -0.23278846407876863,
          -0.8925634019215386,
          -0.13853262586619935,
          -1.0047630471465026,
          -0.3996097994809984,
          -0.7729754526882799,
          0.6382037078743729,
          0.7809561804868379,
          -0.6245078771059691,
          0.35757687653768533,
          0.03643506649875569,
          0.43842316595441955,
          -0.8245399207812429,
          1.9649813924166433,
          -1.1775941167042931,
          -0.5234901608154814,
          0.6770337616797505,
          -0.794383721476574,
          1.3489467258546117,
          0.9959944772591531,
          1.3185873673596915,
          0.43674219632004957,
          0.4162349190446844,
          0.12983988854433684,
          0.7889062258900235,
          1.0254126737115323,
          -0.10610390698497416,
          1.5082223834132362,
          -1.4678396298759944,
          0.7107090336598706,
          -1.2716333558187511,
          0.8734884012972733,
          -0.09072469358478591,
          -1.8216864248148845,
          -1.8488660349863337,
          0.5416977985040067,
          0.0725397501526062,
          -0.5282376605538162,
          0.7147818776933804,
          0.12468021602017917,
          -0.22168576236536316,
          -0.01060342920898521,
          -0.5960672206181054,
          2.1481672563544616,
          0.0338967750532245,
          -0.339755052953886,
          -0.9285618833806,
          -0.030460400893935313,
          0.9376026363321485,
          0.1507728454968681
         ]
        },
        {
         "mode": "markers",
         "type": "scatter",
         "x": [
          -5,
          -4.898989898989899,
          -4.797979797979798,
          -4.696969696969697,
          -4.595959595959596,
          -4.494949494949495,
          -4.393939393939394,
          -4.292929292929293,
          -4.191919191919192,
          -4.090909090909091,
          -3.9898989898989896,
          -3.888888888888889,
          -3.787878787878788,
          -3.686868686868687,
          -3.5858585858585856,
          -3.484848484848485,
          -3.383838383838384,
          -3.282828282828283,
          -3.1818181818181817,
          -3.080808080808081,
          -2.9797979797979797,
          -2.878787878787879,
          -2.7777777777777777,
          -2.676767676767677,
          -2.5757575757575757,
          -2.474747474747475,
          -2.3737373737373737,
          -2.272727272727273,
          -2.1717171717171717,
          -2.070707070707071,
          -1.9696969696969697,
          -1.868686868686869,
          -1.7676767676767677,
          -1.6666666666666665,
          -1.5656565656565657,
          -1.4646464646464645,
          -1.3636363636363638,
          -1.2626262626262625,
          -1.1616161616161618,
          -1.0606060606060606,
          -0.9595959595959593,
          -0.858585858585859,
          -0.7575757575757578,
          -0.6565656565656566,
          -0.5555555555555554,
          -0.45454545454545503,
          -0.3535353535353538,
          -0.2525252525252526,
          -0.15151515151515138,
          -0.050505050505050164,
          0.050505050505050164,
          0.15151515151515138,
          0.2525252525252526,
          0.3535353535353538,
          0.45454545454545414,
          0.5555555555555554,
          0.6565656565656566,
          0.7575757575757578,
          0.8585858585858581,
          0.9595959595959593,
          1.0606060606060606,
          1.1616161616161618,
          1.262626262626262,
          1.3636363636363633,
          1.4646464646464645,
          1.5656565656565657,
          1.666666666666667,
          1.7676767676767673,
          1.8686868686868685,
          1.9696969696969697,
          2.070707070707071,
          2.1717171717171713,
          2.2727272727272725,
          2.3737373737373737,
          2.474747474747475,
          2.5757575757575752,
          2.6767676767676765,
          2.7777777777777777,
          2.878787878787879,
          2.9797979797979792,
          3.0808080808080813,
          3.1818181818181817,
          3.282828282828282,
          3.383838383838384,
          3.4848484848484844,
          3.5858585858585865,
          3.686868686868687,
          3.787878787878787,
          3.8888888888888893,
          3.9898989898989896,
          4.09090909090909,
          4.191919191919192,
          4.292929292929292,
          4.3939393939393945,
          4.494949494949495,
          4.595959595959595,
          4.696969696969697,
          4.797979797979798,
          4.8989898989899,
          5
         ],
         "y": [
          -19.06093633254659,
          -18.675866911687063,
          -18.290797490827536,
          -17.905728069968013,
          -17.520658649108483,
          -17.135589228248953,
          -16.750519807389423,
          -16.365450386529904,
          -15.980380965670374,
          -15.595311544810846,
          -15.210242123951314,
          -14.825172703091795,
          -14.440103282232268,
          -14.055033861372738,
          -13.669964440513208,
          -13.284895019653684,
          -12.899825598794157,
          -12.51475617793463,
          -12.129686757075104,
          -11.744617336215576,
          -11.359547915356048,
          -10.974478494496521,
          -10.589409073636993,
          -10.204339652777469,
          -9.81927023191794,
          -9.434200811058414,
          -9.049131390198884,
          -8.66406196933936,
          -8.278992548479831,
          -7.893923127620307,
          -7.508853706760779,
          -7.123784285901252,
          -6.7387148650417235,
          -6.353645444182196,
          -5.96857602332267,
          -5.583506602463142,
          -5.198437181603617,
          -4.813367760744088,
          -4.428298339884561,
          -4.043228919025034,
          -3.6581594981655057,
          -3.2730900773059814,
          -2.888020656446454,
          -2.502951235586926,
          -2.117881814727398,
          -1.7328123938678737,
          -1.3477429730083457,
          -0.9626735521488181,
          -0.57760413128929,
          -0.1925347104297622,
          0.1925347104297622,
          0.57760413128929,
          0.9626735521488181,
          1.3477429730083457,
          1.7328123938678701,
          2.117881814727398,
          2.502951235586926,
          2.888020656446454,
          3.273090077305978,
          3.6581594981655057,
          4.043228919025034,
          4.428298339884561,
          4.813367760744087,
          5.198437181603614,
          5.583506602463142,
          5.96857602332267,
          6.353645444182198,
          6.73871486504172,
          7.123784285901249,
          7.508853706760779,
          7.893923127620307,
          8.278992548479831,
          8.664061969339357,
          9.049131390198884,
          9.434200811058414,
          9.819270231917939,
          10.204339652777467,
          10.589409073636993,
          10.974478494496521,
          11.359547915356044,
          11.744617336215576,
          12.129686757075104,
          12.514756177934629,
          12.899825598794157,
          13.28489501965368,
          13.669964440513212,
          14.055033861372738,
          14.440103282232261,
          14.825172703091795,
          15.210242123951314,
          15.59531154481084,
          15.980380965670374,
          16.365450386529897,
          16.75051980738943,
          17.135589228248953,
          17.520658649108476,
          17.905728069968013,
          18.290797490827536,
          18.675866911687066,
          19.06093633254659
         ]
        }
       ],
       "layout": {
        "template": {
         "data": {
          "bar": [
           {
            "error_x": {
             "color": "#2a3f5f"
            },
            "error_y": {
             "color": "#2a3f5f"
            },
            "marker": {
             "line": {
              "color": "#E5ECF6",
              "width": 0.5
             }
            },
            "type": "bar"
           }
          ],
          "barpolar": [
           {
            "marker": {
             "line": {
              "color": "#E5ECF6",
              "width": 0.5
             }
            },
            "type": "barpolar"
           }
          ],
          "carpet": [
           {
            "aaxis": {
             "endlinecolor": "#2a3f5f",
             "gridcolor": "white",
             "linecolor": "white",
             "minorgridcolor": "white",
             "startlinecolor": "#2a3f5f"
            },
            "baxis": {
             "endlinecolor": "#2a3f5f",
             "gridcolor": "white",
             "linecolor": "white",
             "minorgridcolor": "white",
             "startlinecolor": "#2a3f5f"
            },
            "type": "carpet"
           }
          ],
          "choropleth": [
           {
            "colorbar": {
             "outlinewidth": 0,
             "ticks": ""
            },
            "type": "choropleth"
           }
          ],
          "contour": [
           {
            "colorbar": {
             "outlinewidth": 0,
             "ticks": ""
            },
            "colorscale": [
             [
              0,
              "#0d0887"
             ],
             [
              0.1111111111111111,
              "#46039f"
             ],
             [
              0.2222222222222222,
              "#7201a8"
             ],
             [
              0.3333333333333333,
              "#9c179e"
             ],
             [
              0.4444444444444444,
              "#bd3786"
             ],
             [
              0.5555555555555556,
              "#d8576b"
             ],
             [
              0.6666666666666666,
              "#ed7953"
             ],
             [
              0.7777777777777778,
              "#fb9f3a"
             ],
             [
              0.8888888888888888,
              "#fdca26"
             ],
             [
              1,
              "#f0f921"
             ]
            ],
            "type": "contour"
           }
          ],
          "contourcarpet": [
           {
            "colorbar": {
             "outlinewidth": 0,
             "ticks": ""
            },
            "type": "contourcarpet"
           }
          ],
          "heatmap": [
           {
            "colorbar": {
             "outlinewidth": 0,
             "ticks": ""
            },
            "colorscale": [
             [
              0,
              "#0d0887"
             ],
             [
              0.1111111111111111,
              "#46039f"
             ],
             [
              0.2222222222222222,
              "#7201a8"
             ],
             [
              0.3333333333333333,
              "#9c179e"
             ],
             [
              0.4444444444444444,
              "#bd3786"
             ],
             [
              0.5555555555555556,
              "#d8576b"
             ],
             [
              0.6666666666666666,
              "#ed7953"
             ],
             [
              0.7777777777777778,
              "#fb9f3a"
             ],
             [
              0.8888888888888888,
              "#fdca26"
             ],
             [
              1,
              "#f0f921"
             ]
            ],
            "type": "heatmap"
           }
          ],
          "heatmapgl": [
           {
            "colorbar": {
             "outlinewidth": 0,
             "ticks": ""
            },
            "colorscale": [
             [
              0,
              "#0d0887"
             ],
             [
              0.1111111111111111,
              "#46039f"
             ],
             [
              0.2222222222222222,
              "#7201a8"
             ],
             [
              0.3333333333333333,
              "#9c179e"
             ],
             [
              0.4444444444444444,
              "#bd3786"
             ],
             [
              0.5555555555555556,
              "#d8576b"
             ],
             [
              0.6666666666666666,
              "#ed7953"
             ],
             [
              0.7777777777777778,
              "#fb9f3a"
             ],
             [
              0.8888888888888888,
              "#fdca26"
             ],
             [
              1,
              "#f0f921"
             ]
            ],
            "type": "heatmapgl"
           }
          ],
          "histogram": [
           {
            "marker": {
             "colorbar": {
              "outlinewidth": 0,
              "ticks": ""
             }
            },
            "type": "histogram"
           }
          ],
          "histogram2d": [
           {
            "colorbar": {
             "outlinewidth": 0,
             "ticks": ""
            },
            "colorscale": [
             [
              0,
              "#0d0887"
             ],
             [
              0.1111111111111111,
              "#46039f"
             ],
             [
              0.2222222222222222,
              "#7201a8"
             ],
             [
              0.3333333333333333,
              "#9c179e"
             ],
             [
              0.4444444444444444,
              "#bd3786"
             ],
             [
              0.5555555555555556,
              "#d8576b"
             ],
             [
              0.6666666666666666,
              "#ed7953"
             ],
             [
              0.7777777777777778,
              "#fb9f3a"
             ],
             [
              0.8888888888888888,
              "#fdca26"
             ],
             [
              1,
              "#f0f921"
             ]
            ],
            "type": "histogram2d"
           }
          ],
          "histogram2dcontour": [
           {
            "colorbar": {
             "outlinewidth": 0,
             "ticks": ""
            },
            "colorscale": [
             [
              0,
              "#0d0887"
             ],
             [
              0.1111111111111111,
              "#46039f"
             ],
             [
              0.2222222222222222,
              "#7201a8"
             ],
             [
              0.3333333333333333,
              "#9c179e"
             ],
             [
              0.4444444444444444,
              "#bd3786"
             ],
             [
              0.5555555555555556,
              "#d8576b"
             ],
             [
              0.6666666666666666,
              "#ed7953"
             ],
             [
              0.7777777777777778,
              "#fb9f3a"
             ],
             [
              0.8888888888888888,
              "#fdca26"
             ],
             [
              1,
              "#f0f921"
             ]
            ],
            "type": "histogram2dcontour"
           }
          ],
          "mesh3d": [
           {
            "colorbar": {
             "outlinewidth": 0,
             "ticks": ""
            },
            "type": "mesh3d"
           }
          ],
          "parcoords": [
           {
            "line": {
             "colorbar": {
              "outlinewidth": 0,
              "ticks": ""
             }
            },
            "type": "parcoords"
           }
          ],
          "pie": [
           {
            "automargin": true,
            "type": "pie"
           }
          ],
          "scatter": [
           {
            "marker": {
             "colorbar": {
              "outlinewidth": 0,
              "ticks": ""
             }
            },
            "type": "scatter"
           }
          ],
          "scatter3d": [
           {
            "line": {
             "colorbar": {
              "outlinewidth": 0,
              "ticks": ""
             }
            },
            "marker": {
             "colorbar": {
              "outlinewidth": 0,
              "ticks": ""
             }
            },
            "type": "scatter3d"
           }
          ],
          "scattercarpet": [
           {
            "marker": {
             "colorbar": {
              "outlinewidth": 0,
              "ticks": ""
             }
            },
            "type": "scattercarpet"
           }
          ],
          "scattergeo": [
           {
            "marker": {
             "colorbar": {
              "outlinewidth": 0,
              "ticks": ""
             }
            },
            "type": "scattergeo"
           }
          ],
          "scattergl": [
           {
            "marker": {
             "colorbar": {
              "outlinewidth": 0,
              "ticks": ""
             }
            },
            "type": "scattergl"
           }
          ],
          "scattermapbox": [
           {
            "marker": {
             "colorbar": {
              "outlinewidth": 0,
              "ticks": ""
             }
            },
            "type": "scattermapbox"
           }
          ],
          "scatterpolar": [
           {
            "marker": {
             "colorbar": {
              "outlinewidth": 0,
              "ticks": ""
             }
            },
            "type": "scatterpolar"
           }
          ],
          "scatterpolargl": [
           {
            "marker": {
             "colorbar": {
              "outlinewidth": 0,
              "ticks": ""
             }
            },
            "type": "scatterpolargl"
           }
          ],
          "scatterternary": [
           {
            "marker": {
             "colorbar": {
              "outlinewidth": 0,
              "ticks": ""
             }
            },
            "type": "scatterternary"
           }
          ],
          "surface": [
           {
            "colorbar": {
             "outlinewidth": 0,
             "ticks": ""
            },
            "colorscale": [
             [
              0,
              "#0d0887"
             ],
             [
              0.1111111111111111,
              "#46039f"
             ],
             [
              0.2222222222222222,
              "#7201a8"
             ],
             [
              0.3333333333333333,
              "#9c179e"
             ],
             [
              0.4444444444444444,
              "#bd3786"
             ],
             [
              0.5555555555555556,
              "#d8576b"
             ],
             [
              0.6666666666666666,
              "#ed7953"
             ],
             [
              0.7777777777777778,
              "#fb9f3a"
             ],
             [
              0.8888888888888888,
              "#fdca26"
             ],
             [
              1,
              "#f0f921"
             ]
            ],
            "type": "surface"
           }
          ],
          "table": [
           {
            "cells": {
             "fill": {
              "color": "#EBF0F8"
             },
             "line": {
              "color": "white"
             }
            },
            "header": {
             "fill": {
              "color": "#C8D4E3"
             },
             "line": {
              "color": "white"
             }
            },
            "type": "table"
           }
          ]
         },
         "layout": {
          "annotationdefaults": {
           "arrowcolor": "#2a3f5f",
           "arrowhead": 0,
           "arrowwidth": 1
          },
          "coloraxis": {
           "colorbar": {
            "outlinewidth": 0,
            "ticks": ""
           }
          },
          "colorscale": {
           "diverging": [
            [
             0,
             "#8e0152"
            ],
            [
             0.1,
             "#c51b7d"
            ],
            [
             0.2,
             "#de77ae"
            ],
            [
             0.3,
             "#f1b6da"
            ],
            [
             0.4,
             "#fde0ef"
            ],
            [
             0.5,
             "#f7f7f7"
            ],
            [
             0.6,
             "#e6f5d0"
            ],
            [
             0.7,
             "#b8e186"
            ],
            [
             0.8,
             "#7fbc41"
            ],
            [
             0.9,
             "#4d9221"
            ],
            [
             1,
             "#276419"
            ]
           ],
           "sequential": [
            [
             0,
             "#0d0887"
            ],
            [
             0.1111111111111111,
             "#46039f"
            ],
            [
             0.2222222222222222,
             "#7201a8"
            ],
            [
             0.3333333333333333,
             "#9c179e"
            ],
            [
             0.4444444444444444,
             "#bd3786"
            ],
            [
             0.5555555555555556,
             "#d8576b"
            ],
            [
             0.6666666666666666,
             "#ed7953"
            ],
            [
             0.7777777777777778,
             "#fb9f3a"
            ],
            [
             0.8888888888888888,
             "#fdca26"
            ],
            [
             1,
             "#f0f921"
            ]
           ],
           "sequentialminus": [
            [
             0,
             "#0d0887"
            ],
            [
             0.1111111111111111,
             "#46039f"
            ],
            [
             0.2222222222222222,
             "#7201a8"
            ],
            [
             0.3333333333333333,
             "#9c179e"
            ],
            [
             0.4444444444444444,
             "#bd3786"
            ],
            [
             0.5555555555555556,
             "#d8576b"
            ],
            [
             0.6666666666666666,
             "#ed7953"
            ],
            [
             0.7777777777777778,
             "#fb9f3a"
            ],
            [
             0.8888888888888888,
             "#fdca26"
            ],
            [
             1,
             "#f0f921"
            ]
           ]
          },
          "colorway": [
           "#636efa",
           "#EF553B",
           "#00cc96",
           "#ab63fa",
           "#FFA15A",
           "#19d3f3",
           "#FF6692",
           "#B6E880",
           "#FF97FF",
           "#FECB52"
          ],
          "font": {
           "color": "#2a3f5f"
          },
          "geo": {
           "bgcolor": "white",
           "lakecolor": "white",
           "landcolor": "#E5ECF6",
           "showlakes": true,
           "showland": true,
           "subunitcolor": "white"
          },
          "hoverlabel": {
           "align": "left"
          },
          "hovermode": "closest",
          "mapbox": {
           "style": "light"
          },
          "paper_bgcolor": "white",
          "plot_bgcolor": "#E5ECF6",
          "polar": {
           "angularaxis": {
            "gridcolor": "white",
            "linecolor": "white",
            "ticks": ""
           },
           "bgcolor": "#E5ECF6",
           "radialaxis": {
            "gridcolor": "white",
            "linecolor": "white",
            "ticks": ""
           }
          },
          "scene": {
           "xaxis": {
            "backgroundcolor": "#E5ECF6",
            "gridcolor": "white",
            "gridwidth": 2,
            "linecolor": "white",
            "showbackground": true,
            "ticks": "",
            "zerolinecolor": "white"
           },
           "yaxis": {
            "backgroundcolor": "#E5ECF6",
            "gridcolor": "white",
            "gridwidth": 2,
            "linecolor": "white",
            "showbackground": true,
            "ticks": "",
            "zerolinecolor": "white"
           },
           "zaxis": {
            "backgroundcolor": "#E5ECF6",
            "gridcolor": "white",
            "gridwidth": 2,
            "linecolor": "white",
            "showbackground": true,
            "ticks": "",
            "zerolinecolor": "white"
           }
          },
          "shapedefaults": {
           "line": {
            "color": "#2a3f5f"
           }
          },
          "ternary": {
           "aaxis": {
            "gridcolor": "white",
            "linecolor": "white",
            "ticks": ""
           },
           "baxis": {
            "gridcolor": "white",
            "linecolor": "white",
            "ticks": ""
           },
           "bgcolor": "#E5ECF6",
           "caxis": {
            "gridcolor": "white",
            "linecolor": "white",
            "ticks": ""
           }
          },
          "title": {
           "x": 0.05
          },
          "xaxis": {
           "automargin": true,
           "gridcolor": "white",
           "linecolor": "white",
           "ticks": "",
           "title": {
            "standoff": 15
           },
           "zerolinecolor": "white",
           "zerolinewidth": 2
          },
          "yaxis": {
           "automargin": true,
           "gridcolor": "white",
           "linecolor": "white",
           "ticks": "",
           "title": {
            "standoff": 15
           },
           "zerolinecolor": "white",
           "zerolinewidth": 2
          }
         }
        }
       }
      }
     },
     "metadata": {}
    }
   ],
   "source": [
    "N = 100\n",
    "(A, B) = multivariate(N, [-3,0], [3,0], 1, 1)\n",
    "\n",
    "fig = go.Figure()\n",
    "fig.add_trace(go.Scatter(x=A[:,0], y=A[:,1], mode=\"markers\"))\n",
    "fig.add_trace(go.Scatter(x=B[:,0], y=B[:,1], mode=\"markers\"))\n",
    "\n",
    "model, mae = perceptron_learning(features, targets, 10, epoch, eta)\n",
    "\n",
    "plot_boundary(fig, model.W)\n",
    "mae_fig = ex.line(x=np.arange(len(mae)), y=mae)\n",
    "mae_fig.show()\n",
    "fig.show()\n",
    "\n"
   ]
  },
  {
   "cell_type": "markdown",
   "metadata": {},
   "source": [
    "# Sequential mode vs batch mode"
   ]
  },
  {
   "cell_type": "code",
   "execution_count": 173,
   "metadata": {},
   "outputs": [
    {
     "output_type": "display_data",
     "data": {
      "application/vnd.plotly.v1+json": {
       "config": {
        "plotlyServerURL": "https://plot.ly"
       },
       "data": [
        {
         "mode": "markers",
         "type": "scatter",
         "x": [
          -2.6566670482428463,
          -3.6853927004140155,
          -4.370536653579729,
          -1.6360487819668814,
          -0.6973377982145701,
          -3.3834516836340147,
          -3.2360636638003872,
          -3.391790938363799,
          -2.112574337304966,
          -1.394762095370466,
          -3.681847797284679,
          -0.71210212042162,
          -3.413644148405262,
          -4.6136881366626925,
          -2.8526461488126094,
          -2.3285683094864345,
          -2.7951206144266267,
          -3.738194257474058,
          -3.1657197113031286,
          -3.095692394991324,
          -3.235297576338573,
          -2.1235321706465062,
          -2.2605297546835414,
          -1.6182499151516945,
          -2.540494316064713,
          -2.0213474345767737,
          -3.276233717004078,
          -2.8630235230779766,
          -1.9149359800394754,
          -1.3745634287793238,
          -2.566098575622529,
          -4.488132023451384,
          -3.3141300538298366,
          -2.4801831496957814,
          -4.03361906634391,
          -1.1383117417983841,
          -5.020581957819683,
          -3.160524464286939,
          -2.596756486293257,
          -3.7397653663840025,
          -5.0284488115800166,
          -3.353249123665541,
          -2.7124541366913975,
          -0.31280403464438233,
          -3.7559006079104265,
          -3.740779739394765,
          -2.2159330704220097,
          -2.456640963671661,
          -3.371003927451194,
          -1.67872536843553,
          -4.06744816835583,
          -2.0459722689862625,
          -1.0248082948939716,
          -2.56443965610269,
          -3.6908062414001943,
          -3.3317624436987243,
          -5.263035435450806,
          -1.7668920939928165,
          -2.574455371221635,
          -2.0701661035247447,
          -3.685703643844349,
          -1.8104728574592572,
          -2.135743649759662,
          -5.01828194341484,
          -3.5845793043100747,
          -4.276590862226431,
          -3.8300184322585555,
          -3.492118897946734,
          -0.08831484594982841,
          -2.7308310156339806,
          -2.434426902294354,
          -4.1884772053152215,
          -1.3875075535436767,
          -3.034988021826458,
          -3.8275068386760482,
          -3.167069501392201,
          -3.0439175890295873,
          -4.1144707040703645,
          -3.9638369028777953,
          -2.7393740788239174,
          -3.8575338984412926,
          -4.61012786645154,
          -2.6824298187013467,
          -4.075789420144921,
          -2.440074213800636,
          -3.7956474230204647,
          -4.88683945993478,
          -4.05857096680189,
          -2.615094822830501,
          -2.1270218221430235,
          -2.0847907344785424,
          -2.117594337676117,
          -2.565967790032176,
          -3.03693426212435,
          -4.271813822690535,
          -1.110399165911434,
          -2.0056909273093133,
          -2.261505439299942,
          -4.16786936333745,
          -3.5992287611798575
         ],
         "y": [
          0.3793166202523702,
          -0.4669839947639388,
          -1.4582641233647629,
          -1.013692136459109,
          -1.253013583886973,
          1.8092662533245614,
          -0.12346228525268657,
          1.5566574210247237,
          0.54548674839158,
          1.5944334723982703,
          1.0856092800658241,
          -0.4081368297736721,
          -0.5503721345878361,
          0.48294320131479535,
          -0.013292697285212077,
          -2.2889213272261246,
          1.2433966091069737,
          -1.1622481358081413,
          0.0969032055798335,
          -0.68228274927989,
          1.1776857649588253,
          -0.372984254326806,
          -0.6045527962589767,
          -0.434536195668654,
          1.63738215666382,
          0.9500813477639768,
          -1.2936324705976614,
          0.442274687370015,
          -0.5671679506977286,
          -0.022986609859251692,
          -1.2286338730654867,
          0.39938081408126697,
          -2.1929964405616924,
          -0.3527295698384578,
          -0.21769588211306845,
          -0.08303813097660863,
          0.9598780072428472,
          -0.5089504170743115,
          -2.3076087936058856,
          -2.4366191767013183,
          -1.1303778557583528,
          -1.129781700484015,
          0.08906713985247681,
          -2.3031494579440306,
          0.11862499878413836,
          0.11641514662202261,
          0.0058080222972982185,
          -1.1848076697654337,
          0.15087590414787994,
          -0.42029940253291326,
          -0.4131857505870813,
          0.7603674980050236,
          0.4812058670552434,
          -0.29168639806276275,
          -0.20201627987881793,
          -0.38733326924028505,
          -0.6579232391981399,
          0.27905438089182727,
          -0.2783552284816987,
          -1.5114956539389708,
          -0.2764725116611673,
          1.348479083951129,
          -0.30914488878284685,
          -0.34403980404216455,
          1.1005254296490599,
          1.2469254988624086,
          -0.5045319176989446,
          0.3584676585983306,
          -0.0786641584815318,
          -0.7676056063323988,
          -1.1331643751677964,
          0.4397788540914303,
          -1.328986987395312,
          -0.02286009987845697,
          1.4396018289923473,
          -0.7377079245991482,
          1.4449056902008608,
          0.3775055216455597,
          -1.5002803609244943,
          0.4173196650005601,
          -0.09473280097421886,
          -1.3737392264870156,
          0.6641649293996589,
          -0.16003532405854778,
          0.9950834185160262,
          -0.2521073563049567,
          1.0359543931545658,
          -0.9334403241057845,
          -0.9711171814288893,
          0.6301217867019269,
          0.33103467970292416,
          -1.0808755276383422,
          0.4356963073644669,
          -1.908642967217735,
          0.7329621182694731,
          1.1296048839666992,
          -0.24343111251968488,
          1.3553134416338448,
          1.44360233984032,
          0.4707256504940966
         ]
        },
        {
         "mode": "markers",
         "type": "scatter",
         "x": [
          3.779095968345,
          4.8677893476661165,
          3.7049223180030317,
          3.1860236082537945,
          3.534572924582338,
          1.9111114331236716,
          3.2502145458494205,
          4.056236215127754,
          3.737177599198536,
          3.1827583909618133,
          2.6391755641764534,
          1.9467645810221672,
          4.609705259837975,
          2.325432613086712,
          1.7260195223649282,
          2.3412908019046164,
          1.8133493650733172,
          4.238987246509028,
          2.4921817459146722,
          3.0137619843914494,
          2.292520698193868,
          2.968835246361517,
          2.500106746974469,
          3.3931996002153,
          3.463373020479663,
          3.8881319261539513,
          2.5356228879775355,
          0.973470919558344,
          1.6839471890890745,
          1.8621176472179404,
          3.6406792704952577,
          4.613693656934657,
          2.881153108660623,
          4.227876600575101,
          3.9838655180722795,
          3.4322984165697057,
          0.9746312185970889,
          4.259362581251216,
          1.8605681369949834,
          2.144061229620998,
          4.015129967039064,
          1.567295428790139,
          1.9410905624969021,
          2.658923014573904,
          3.9756020933513723,
          3.0547846358718562,
          2.90653536858554,
          2.8346693551225646,
          3.8471210986071056,
          3.0000064388402077,
          2.5021744161724073,
          2.8021784428358556,
          2.471207087301526,
          3.3322835902431867,
          1.9686449060802869,
          3.856495097869174,
          2.513379085819328,
          3.6020414053398655,
          3.5813908918127906,
          3.5935849298857,
          2.66574515491207,
          1.873377659827636,
          2.8004332641701013,
          4.645104071109737,
          3.562043444412366,
          1.825980596532675,
          2.419536065100208,
          2.6191636698556944,
          3.366131315687016,
          1.6008952167258517,
          3.594275311412434,
          3.491942812837781,
          1.6213396873517172,
          3.858106658557815,
          3.098364558676858,
          3.5206971854743006,
          4.712100984300492,
          4.260968627469429,
          2.861162973033791,
          3.08868499755355,
          3.011327506126853,
          3.1121145681343663,
          4.440613964948067,
          3.868612887211066,
          1.5484379758541453,
          3.8294498106243036,
          2.684158882899514,
          4.388475736263937,
          1.8672131832179972,
          3.470940684429886,
          1.2191331611479284,
          3.65652771506785,
          2.4614166368708665,
          3.0983981280527244,
          3.502410482498566,
          0.3056072875096918,
          2.4524082088669084,
          1.7716219238595083,
          3.835458256836872,
          3.3685996963700293
         ],
         "y": [
          0.04311943908238526,
          -0.4844477570526288,
          0.1873301788302629,
          0.33265050706397314,
          0.7123347385245218,
          0.03059222820710533,
          -0.3089108986315486,
          1.193530226340911,
          0.24554896739206725,
          -1.0642964640421058,
          -0.3581076289166517,
          -0.9710489534473659,
          0.24958085164581414,
          -0.5286224515313979,
          0.8247821519685475,
          -1.4017392878955472,
          -0.29426509946543056,
          -0.9982430242338091,
          0.4333717940570078,
          -0.7027991175989076,
          0.031890136612920186,
          1.1176622242885104,
          -0.44577778388848865,
          -0.6008104715341096,
          0.8552146364982294,
          -0.3082306267012598,
          -0.6487905456598927,
          -1.160117045011955,
          0.20358860299964998,
          0.1739198762386474,
          1.713366502345156,
          0.19566901652836188,
          0.6905116957801141,
          1.0220783838360847,
          -0.3144279580921577,
          -0.2531277951200456,
          0.037333576717732464,
          -1.0382188065129303,
          0.2788702424305321,
          0.7120705160525643,
          -1.9029164449708968,
          0.8039261426330668,
          -1.7529629205941162,
          -0.266423059128913,
          0.11478838687560851,
          0.3667449065896534,
          -0.8506931164870973,
          0.037687021686923595,
          -0.8112138615119382,
          1.9417420099618512,
          0.26198933974168825,
          0.016430622226659388,
          0.872808991232514,
          1.1206074627815432,
          -0.31493464498789586,
          -0.09620564750214598,
          -1.6696908631353993,
          0.3092664079146768,
          -0.7564950127007986,
          0.08982968895102125,
          -0.6161640318572091,
          -1.0270766225613248,
          0.0113841986903657,
          0.028495423935886853,
          1.4966382652289163,
          -0.8594219965561736,
          1.3627730031446506,
          -0.6154716551598137,
          0.6381853830287245,
          -0.35761841381826415,
          -0.13487966544536617,
          0.22047683931137954,
          -1.187091965821733,
          -1.32844040262952,
          -0.3158984450489113,
          -1.210124382127656,
          -0.4649173917757423,
          1.1626640280823723,
          -0.4223431404498449,
          1.1339092950608765,
          -0.5493991312934705,
          0.13949693210964662,
          -0.20548270887875336,
          -0.7385042768980584,
          -0.7036680168296962,
          0.41144995302355,
          -0.1314425074803624,
          0.7121213989738665,
          -0.059608032856547685,
          0.01743283274925587,
          -1.064907046048123,
          -1.4240559927403273,
          0.21618394975065391,
          -0.06363890353897218,
          0.4315980068113558,
          -0.7053720765953004,
          -0.08506492529890142,
          -0.9274634735189932,
          -0.7377351173130138,
          -0.4124283221444751
         ]
        },
        {
         "mode": "markers",
         "type": "scatter",
         "x": [
          -5,
          -4.898989898989899,
          -4.797979797979798,
          -4.696969696969697,
          -4.595959595959596,
          -4.494949494949495,
          -4.393939393939394,
          -4.292929292929293,
          -4.191919191919192,
          -4.090909090909091,
          -3.9898989898989896,
          -3.888888888888889,
          -3.787878787878788,
          -3.686868686868687,
          -3.5858585858585856,
          -3.484848484848485,
          -3.383838383838384,
          -3.282828282828283,
          -3.1818181818181817,
          -3.080808080808081,
          -2.9797979797979797,
          -2.878787878787879,
          -2.7777777777777777,
          -2.676767676767677,
          -2.5757575757575757,
          -2.474747474747475,
          -2.3737373737373737,
          -2.272727272727273,
          -2.1717171717171717,
          -2.070707070707071,
          -1.9696969696969697,
          -1.868686868686869,
          -1.7676767676767677,
          -1.6666666666666665,
          -1.5656565656565657,
          -1.4646464646464645,
          -1.3636363636363638,
          -1.2626262626262625,
          -1.1616161616161618,
          -1.0606060606060606,
          -0.9595959595959593,
          -0.858585858585859,
          -0.7575757575757578,
          -0.6565656565656566,
          -0.5555555555555554,
          -0.45454545454545503,
          -0.3535353535353538,
          -0.2525252525252526,
          -0.15151515151515138,
          -0.050505050505050164,
          0.050505050505050164,
          0.15151515151515138,
          0.2525252525252526,
          0.3535353535353538,
          0.45454545454545414,
          0.5555555555555554,
          0.6565656565656566,
          0.7575757575757578,
          0.8585858585858581,
          0.9595959595959593,
          1.0606060606060606,
          1.1616161616161618,
          1.262626262626262,
          1.3636363636363633,
          1.4646464646464645,
          1.5656565656565657,
          1.666666666666667,
          1.7676767676767673,
          1.8686868686868685,
          1.9696969696969697,
          2.070707070707071,
          2.1717171717171713,
          2.2727272727272725,
          2.3737373737373737,
          2.474747474747475,
          2.5757575757575752,
          2.6767676767676765,
          2.7777777777777777,
          2.878787878787879,
          2.9797979797979792,
          3.0808080808080813,
          3.1818181818181817,
          3.282828282828282,
          3.383838383838384,
          3.4848484848484844,
          3.5858585858585865,
          3.686868686868687,
          3.787878787878787,
          3.8888888888888893,
          3.9898989898989896,
          4.09090909090909,
          4.191919191919192,
          4.292929292929292,
          4.3939393939393945,
          4.494949494949495,
          4.595959595959595,
          4.696969696969697,
          4.797979797979798,
          4.8989898989899,
          5
         ],
         "y": [
          -27.951717378344966,
          -27.387036219186484,
          -26.822355060027995,
          -26.257673900869516,
          -25.69299274171103,
          -25.128311582552545,
          -24.56363042339406,
          -23.998949264235577,
          -23.434268105077095,
          -22.86958694591861,
          -22.304905786760123,
          -21.74022462760164,
          -21.17554346844316,
          -20.610862309284673,
          -20.046181150126188,
          -19.481499990967702,
          -18.916818831809223,
          -18.352137672650738,
          -17.78745651349225,
          -17.22277535433377,
          -16.658094195175284,
          -16.0934130360168,
          -15.528731876858316,
          -14.964050717699832,
          -14.399369558541345,
          -13.834688399382864,
          -13.270007240224379,
          -12.705326081065897,
          -12.140644921907409,
          -11.575963762748927,
          -11.011282603590443,
          -10.446601444431959,
          -9.881920285273473,
          -9.317239126114988,
          -8.752557966956505,
          -8.18787680779802,
          -7.623195648639538,
          -7.058514489481053,
          -6.493833330322569,
          -5.929152171164084,
          -5.364471012005598,
          -4.799789852847118,
          -4.235108693688632,
          -3.6704275345301474,
          -3.105746375371662,
          -2.5410652162131817,
          -1.9763840570546964,
          -1.411702897896211,
          -0.8470217387377256,
          -0.2823405795792402,
          0.2823405795792402,
          0.8470217387377256,
          1.411702897896211,
          1.9763840570546964,
          2.5410652162131764,
          3.105746375371662,
          3.6704275345301474,
          4.235108693688632,
          4.799789852847113,
          5.364471012005598,
          5.929152171164084,
          6.493833330322569,
          7.058514489481049,
          7.623195648639535,
          8.18787680779802,
          8.752557966956505,
          9.317239126114991,
          9.88192028527347,
          10.446601444431957,
          11.011282603590443,
          11.575963762748927,
          12.140644921907407,
          12.705326081065893,
          13.270007240224379,
          13.834688399382864,
          14.399369558541345,
          14.964050717699829,
          15.528731876858316,
          16.0934130360168,
          16.65809419517528,
          17.22277535433377,
          17.78745651349225,
          18.35213767265073,
          18.916818831809223,
          19.481499990967702,
          20.046181150126195,
          20.610862309284673,
          21.175543468443156,
          21.740224627601645,
          22.304905786760123,
          22.869586945918606,
          23.434268105077095,
          23.998949264235577,
          24.563630423394066,
          25.128311582552545,
          25.692992741711027,
          26.257673900869516,
          26.822355060027995,
          27.387036219186488,
          27.951717378344966
         ]
        },
        {
         "mode": "markers",
         "type": "scatter",
         "x": [
          -5,
          -4.898989898989899,
          -4.797979797979798,
          -4.696969696969697,
          -4.595959595959596,
          -4.494949494949495,
          -4.393939393939394,
          -4.292929292929293,
          -4.191919191919192,
          -4.090909090909091,
          -3.9898989898989896,
          -3.888888888888889,
          -3.787878787878788,
          -3.686868686868687,
          -3.5858585858585856,
          -3.484848484848485,
          -3.383838383838384,
          -3.282828282828283,
          -3.1818181818181817,
          -3.080808080808081,
          -2.9797979797979797,
          -2.878787878787879,
          -2.7777777777777777,
          -2.676767676767677,
          -2.5757575757575757,
          -2.474747474747475,
          -2.3737373737373737,
          -2.272727272727273,
          -2.1717171717171717,
          -2.070707070707071,
          -1.9696969696969697,
          -1.868686868686869,
          -1.7676767676767677,
          -1.6666666666666665,
          -1.5656565656565657,
          -1.4646464646464645,
          -1.3636363636363638,
          -1.2626262626262625,
          -1.1616161616161618,
          -1.0606060606060606,
          -0.9595959595959593,
          -0.858585858585859,
          -0.7575757575757578,
          -0.6565656565656566,
          -0.5555555555555554,
          -0.45454545454545503,
          -0.3535353535353538,
          -0.2525252525252526,
          -0.15151515151515138,
          -0.050505050505050164,
          0.050505050505050164,
          0.15151515151515138,
          0.2525252525252526,
          0.3535353535353538,
          0.45454545454545414,
          0.5555555555555554,
          0.6565656565656566,
          0.7575757575757578,
          0.8585858585858581,
          0.9595959595959593,
          1.0606060606060606,
          1.1616161616161618,
          1.262626262626262,
          1.3636363636363633,
          1.4646464646464645,
          1.5656565656565657,
          1.666666666666667,
          1.7676767676767673,
          1.8686868686868685,
          1.9696969696969697,
          2.070707070707071,
          2.1717171717171713,
          2.2727272727272725,
          2.3737373737373737,
          2.474747474747475,
          2.5757575757575752,
          2.6767676767676765,
          2.7777777777777777,
          2.878787878787879,
          2.9797979797979792,
          3.0808080808080813,
          3.1818181818181817,
          3.282828282828282,
          3.383838383838384,
          3.4848484848484844,
          3.5858585858585865,
          3.686868686868687,
          3.787878787878787,
          3.8888888888888893,
          3.9898989898989896,
          4.09090909090909,
          4.191919191919192,
          4.292929292929292,
          4.3939393939393945,
          4.494949494949495,
          4.595959595959595,
          4.696969696969697,
          4.797979797979798,
          4.8989898989899,
          5
         ],
         "y": [
          -5.249113448470952,
          -5.143070752542246,
          -5.037028056613539,
          -4.930985360684834,
          -4.8249426647561275,
          -4.718899968827421,
          -4.612857272898714,
          -4.506814576970009,
          -4.400771881041304,
          -4.2947291851125975,
          -4.188686489183891,
          -4.082643793255184,
          -3.976601097326479,
          -3.8705584013977727,
          -3.764515705469066,
          -3.658473009540361,
          -3.5524303136116546,
          -3.4463876176829484,
          -3.340344921754242,
          -3.234302225825536,
          -3.12825952989683,
          -3.022216833968124,
          -2.916174138039418,
          -2.8101314421107118,
          -2.7040887461820056,
          -2.5980460502532994,
          -2.492003354324593,
          -2.3859606583958874,
          -2.2799179624671813,
          -2.173875266538475,
          -2.067832570609769,
          -1.9617898746810634,
          -1.855747178752357,
          -1.7497044828236505,
          -1.6436617868949446,
          -1.5376190909662382,
          -1.4315763950375324,
          -1.325533699108826,
          -1.2194910031801203,
          -1.113448307251414,
          -1.0074056113227077,
          -0.9013629153940023,
          -0.795320219465296,
          -0.6892775235365897,
          -0.5832348276078834,
          -0.47719213167917796,
          -0.3711494357504716,
          -0.2651067398217653,
          -0.159064043893059,
          -0.05302134796435269,
          0.05302134796435269,
          0.159064043893059,
          0.2651067398217653,
          0.3711494357504716,
          0.477192131679177,
          0.5832348276078834,
          0.6892775235365897,
          0.795320219465296,
          0.9013629153940014,
          1.0074056113227077,
          1.113448307251414,
          1.2194910031801203,
          1.3255336991088258,
          1.431576395037532,
          1.5376190909662382,
          1.6436617868949446,
          1.749704482823651,
          1.8557471787523565,
          1.9617898746810625,
          2.067832570609769,
          2.173875266538475,
          2.279917962467181,
          2.385960658395887,
          2.492003354324593,
          2.5980460502532994,
          2.704088746182005,
          2.8101314421107113,
          2.916174138039418,
          3.022216833968124,
          3.1282595298968294,
          3.2343022258255365,
          3.340344921754242,
          3.446387617682947,
          3.5524303136116546,
          3.65847300954036,
          3.764515705469067,
          3.8705584013977727,
          3.976601097326478,
          4.082643793255185,
          4.188686489183891,
          4.294729185112596,
          4.400771881041304,
          4.506814576970008,
          4.612857272898715,
          4.718899968827421,
          4.824942664756127,
          4.930985360684834,
          5.037028056613539,
          5.143070752542246,
          5.249113448470952
         ]
        }
       ],
       "layout": {
        "template": {
         "data": {
          "bar": [
           {
            "error_x": {
             "color": "#2a3f5f"
            },
            "error_y": {
             "color": "#2a3f5f"
            },
            "marker": {
             "line": {
              "color": "#E5ECF6",
              "width": 0.5
             }
            },
            "type": "bar"
           }
          ],
          "barpolar": [
           {
            "marker": {
             "line": {
              "color": "#E5ECF6",
              "width": 0.5
             }
            },
            "type": "barpolar"
           }
          ],
          "carpet": [
           {
            "aaxis": {
             "endlinecolor": "#2a3f5f",
             "gridcolor": "white",
             "linecolor": "white",
             "minorgridcolor": "white",
             "startlinecolor": "#2a3f5f"
            },
            "baxis": {
             "endlinecolor": "#2a3f5f",
             "gridcolor": "white",
             "linecolor": "white",
             "minorgridcolor": "white",
             "startlinecolor": "#2a3f5f"
            },
            "type": "carpet"
           }
          ],
          "choropleth": [
           {
            "colorbar": {
             "outlinewidth": 0,
             "ticks": ""
            },
            "type": "choropleth"
           }
          ],
          "contour": [
           {
            "colorbar": {
             "outlinewidth": 0,
             "ticks": ""
            },
            "colorscale": [
             [
              0,
              "#0d0887"
             ],
             [
              0.1111111111111111,
              "#46039f"
             ],
             [
              0.2222222222222222,
              "#7201a8"
             ],
             [
              0.3333333333333333,
              "#9c179e"
             ],
             [
              0.4444444444444444,
              "#bd3786"
             ],
             [
              0.5555555555555556,
              "#d8576b"
             ],
             [
              0.6666666666666666,
              "#ed7953"
             ],
             [
              0.7777777777777778,
              "#fb9f3a"
             ],
             [
              0.8888888888888888,
              "#fdca26"
             ],
             [
              1,
              "#f0f921"
             ]
            ],
            "type": "contour"
           }
          ],
          "contourcarpet": [
           {
            "colorbar": {
             "outlinewidth": 0,
             "ticks": ""
            },
            "type": "contourcarpet"
           }
          ],
          "heatmap": [
           {
            "colorbar": {
             "outlinewidth": 0,
             "ticks": ""
            },
            "colorscale": [
             [
              0,
              "#0d0887"
             ],
             [
              0.1111111111111111,
              "#46039f"
             ],
             [
              0.2222222222222222,
              "#7201a8"
             ],
             [
              0.3333333333333333,
              "#9c179e"
             ],
             [
              0.4444444444444444,
              "#bd3786"
             ],
             [
              0.5555555555555556,
              "#d8576b"
             ],
             [
              0.6666666666666666,
              "#ed7953"
             ],
             [
              0.7777777777777778,
              "#fb9f3a"
             ],
             [
              0.8888888888888888,
              "#fdca26"
             ],
             [
              1,
              "#f0f921"
             ]
            ],
            "type": "heatmap"
           }
          ],
          "heatmapgl": [
           {
            "colorbar": {
             "outlinewidth": 0,
             "ticks": ""
            },
            "colorscale": [
             [
              0,
              "#0d0887"
             ],
             [
              0.1111111111111111,
              "#46039f"
             ],
             [
              0.2222222222222222,
              "#7201a8"
             ],
             [
              0.3333333333333333,
              "#9c179e"
             ],
             [
              0.4444444444444444,
              "#bd3786"
             ],
             [
              0.5555555555555556,
              "#d8576b"
             ],
             [
              0.6666666666666666,
              "#ed7953"
             ],
             [
              0.7777777777777778,
              "#fb9f3a"
             ],
             [
              0.8888888888888888,
              "#fdca26"
             ],
             [
              1,
              "#f0f921"
             ]
            ],
            "type": "heatmapgl"
           }
          ],
          "histogram": [
           {
            "marker": {
             "colorbar": {
              "outlinewidth": 0,
              "ticks": ""
             }
            },
            "type": "histogram"
           }
          ],
          "histogram2d": [
           {
            "colorbar": {
             "outlinewidth": 0,
             "ticks": ""
            },
            "colorscale": [
             [
              0,
              "#0d0887"
             ],
             [
              0.1111111111111111,
              "#46039f"
             ],
             [
              0.2222222222222222,
              "#7201a8"
             ],
             [
              0.3333333333333333,
              "#9c179e"
             ],
             [
              0.4444444444444444,
              "#bd3786"
             ],
             [
              0.5555555555555556,
              "#d8576b"
             ],
             [
              0.6666666666666666,
              "#ed7953"
             ],
             [
              0.7777777777777778,
              "#fb9f3a"
             ],
             [
              0.8888888888888888,
              "#fdca26"
             ],
             [
              1,
              "#f0f921"
             ]
            ],
            "type": "histogram2d"
           }
          ],
          "histogram2dcontour": [
           {
            "colorbar": {
             "outlinewidth": 0,
             "ticks": ""
            },
            "colorscale": [
             [
              0,
              "#0d0887"
             ],
             [
              0.1111111111111111,
              "#46039f"
             ],
             [
              0.2222222222222222,
              "#7201a8"
             ],
             [
              0.3333333333333333,
              "#9c179e"
             ],
             [
              0.4444444444444444,
              "#bd3786"
             ],
             [
              0.5555555555555556,
              "#d8576b"
             ],
             [
              0.6666666666666666,
              "#ed7953"
             ],
             [
              0.7777777777777778,
              "#fb9f3a"
             ],
             [
              0.8888888888888888,
              "#fdca26"
             ],
             [
              1,
              "#f0f921"
             ]
            ],
            "type": "histogram2dcontour"
           }
          ],
          "mesh3d": [
           {
            "colorbar": {
             "outlinewidth": 0,
             "ticks": ""
            },
            "type": "mesh3d"
           }
          ],
          "parcoords": [
           {
            "line": {
             "colorbar": {
              "outlinewidth": 0,
              "ticks": ""
             }
            },
            "type": "parcoords"
           }
          ],
          "pie": [
           {
            "automargin": true,
            "type": "pie"
           }
          ],
          "scatter": [
           {
            "marker": {
             "colorbar": {
              "outlinewidth": 0,
              "ticks": ""
             }
            },
            "type": "scatter"
           }
          ],
          "scatter3d": [
           {
            "line": {
             "colorbar": {
              "outlinewidth": 0,
              "ticks": ""
             }
            },
            "marker": {
             "colorbar": {
              "outlinewidth": 0,
              "ticks": ""
             }
            },
            "type": "scatter3d"
           }
          ],
          "scattercarpet": [
           {
            "marker": {
             "colorbar": {
              "outlinewidth": 0,
              "ticks": ""
             }
            },
            "type": "scattercarpet"
           }
          ],
          "scattergeo": [
           {
            "marker": {
             "colorbar": {
              "outlinewidth": 0,
              "ticks": ""
             }
            },
            "type": "scattergeo"
           }
          ],
          "scattergl": [
           {
            "marker": {
             "colorbar": {
              "outlinewidth": 0,
              "ticks": ""
             }
            },
            "type": "scattergl"
           }
          ],
          "scattermapbox": [
           {
            "marker": {
             "colorbar": {
              "outlinewidth": 0,
              "ticks": ""
             }
            },
            "type": "scattermapbox"
           }
          ],
          "scatterpolar": [
           {
            "marker": {
             "colorbar": {
              "outlinewidth": 0,
              "ticks": ""
             }
            },
            "type": "scatterpolar"
           }
          ],
          "scatterpolargl": [
           {
            "marker": {
             "colorbar": {
              "outlinewidth": 0,
              "ticks": ""
             }
            },
            "type": "scatterpolargl"
           }
          ],
          "scatterternary": [
           {
            "marker": {
             "colorbar": {
              "outlinewidth": 0,
              "ticks": ""
             }
            },
            "type": "scatterternary"
           }
          ],
          "surface": [
           {
            "colorbar": {
             "outlinewidth": 0,
             "ticks": ""
            },
            "colorscale": [
             [
              0,
              "#0d0887"
             ],
             [
              0.1111111111111111,
              "#46039f"
             ],
             [
              0.2222222222222222,
              "#7201a8"
             ],
             [
              0.3333333333333333,
              "#9c179e"
             ],
             [
              0.4444444444444444,
              "#bd3786"
             ],
             [
              0.5555555555555556,
              "#d8576b"
             ],
             [
              0.6666666666666666,
              "#ed7953"
             ],
             [
              0.7777777777777778,
              "#fb9f3a"
             ],
             [
              0.8888888888888888,
              "#fdca26"
             ],
             [
              1,
              "#f0f921"
             ]
            ],
            "type": "surface"
           }
          ],
          "table": [
           {
            "cells": {
             "fill": {
              "color": "#EBF0F8"
             },
             "line": {
              "color": "white"
             }
            },
            "header": {
             "fill": {
              "color": "#C8D4E3"
             },
             "line": {
              "color": "white"
             }
            },
            "type": "table"
           }
          ]
         },
         "layout": {
          "annotationdefaults": {
           "arrowcolor": "#2a3f5f",
           "arrowhead": 0,
           "arrowwidth": 1
          },
          "coloraxis": {
           "colorbar": {
            "outlinewidth": 0,
            "ticks": ""
           }
          },
          "colorscale": {
           "diverging": [
            [
             0,
             "#8e0152"
            ],
            [
             0.1,
             "#c51b7d"
            ],
            [
             0.2,
             "#de77ae"
            ],
            [
             0.3,
             "#f1b6da"
            ],
            [
             0.4,
             "#fde0ef"
            ],
            [
             0.5,
             "#f7f7f7"
            ],
            [
             0.6,
             "#e6f5d0"
            ],
            [
             0.7,
             "#b8e186"
            ],
            [
             0.8,
             "#7fbc41"
            ],
            [
             0.9,
             "#4d9221"
            ],
            [
             1,
             "#276419"
            ]
           ],
           "sequential": [
            [
             0,
             "#0d0887"
            ],
            [
             0.1111111111111111,
             "#46039f"
            ],
            [
             0.2222222222222222,
             "#7201a8"
            ],
            [
             0.3333333333333333,
             "#9c179e"
            ],
            [
             0.4444444444444444,
             "#bd3786"
            ],
            [
             0.5555555555555556,
             "#d8576b"
            ],
            [
             0.6666666666666666,
             "#ed7953"
            ],
            [
             0.7777777777777778,
             "#fb9f3a"
            ],
            [
             0.8888888888888888,
             "#fdca26"
            ],
            [
             1,
             "#f0f921"
            ]
           ],
           "sequentialminus": [
            [
             0,
             "#0d0887"
            ],
            [
             0.1111111111111111,
             "#46039f"
            ],
            [
             0.2222222222222222,
             "#7201a8"
            ],
            [
             0.3333333333333333,
             "#9c179e"
            ],
            [
             0.4444444444444444,
             "#bd3786"
            ],
            [
             0.5555555555555556,
             "#d8576b"
            ],
            [
             0.6666666666666666,
             "#ed7953"
            ],
            [
             0.7777777777777778,
             "#fb9f3a"
            ],
            [
             0.8888888888888888,
             "#fdca26"
            ],
            [
             1,
             "#f0f921"
            ]
           ]
          },
          "colorway": [
           "#636efa",
           "#EF553B",
           "#00cc96",
           "#ab63fa",
           "#FFA15A",
           "#19d3f3",
           "#FF6692",
           "#B6E880",
           "#FF97FF",
           "#FECB52"
          ],
          "font": {
           "color": "#2a3f5f"
          },
          "geo": {
           "bgcolor": "white",
           "lakecolor": "white",
           "landcolor": "#E5ECF6",
           "showlakes": true,
           "showland": true,
           "subunitcolor": "white"
          },
          "hoverlabel": {
           "align": "left"
          },
          "hovermode": "closest",
          "mapbox": {
           "style": "light"
          },
          "paper_bgcolor": "white",
          "plot_bgcolor": "#E5ECF6",
          "polar": {
           "angularaxis": {
            "gridcolor": "white",
            "linecolor": "white",
            "ticks": ""
           },
           "bgcolor": "#E5ECF6",
           "radialaxis": {
            "gridcolor": "white",
            "linecolor": "white",
            "ticks": ""
           }
          },
          "scene": {
           "xaxis": {
            "backgroundcolor": "#E5ECF6",
            "gridcolor": "white",
            "gridwidth": 2,
            "linecolor": "white",
            "showbackground": true,
            "ticks": "",
            "zerolinecolor": "white"
           },
           "yaxis": {
            "backgroundcolor": "#E5ECF6",
            "gridcolor": "white",
            "gridwidth": 2,
            "linecolor": "white",
            "showbackground": true,
            "ticks": "",
            "zerolinecolor": "white"
           },
           "zaxis": {
            "backgroundcolor": "#E5ECF6",
            "gridcolor": "white",
            "gridwidth": 2,
            "linecolor": "white",
            "showbackground": true,
            "ticks": "",
            "zerolinecolor": "white"
           }
          },
          "shapedefaults": {
           "line": {
            "color": "#2a3f5f"
           }
          },
          "ternary": {
           "aaxis": {
            "gridcolor": "white",
            "linecolor": "white",
            "ticks": ""
           },
           "baxis": {
            "gridcolor": "white",
            "linecolor": "white",
            "ticks": ""
           },
           "bgcolor": "#E5ECF6",
           "caxis": {
            "gridcolor": "white",
            "linecolor": "white",
            "ticks": ""
           }
          },
          "title": {
           "x": 0.05
          },
          "xaxis": {
           "automargin": true,
           "gridcolor": "white",
           "linecolor": "white",
           "ticks": "",
           "title": {
            "standoff": 15
           },
           "zerolinecolor": "white",
           "zerolinewidth": 2
          },
          "yaxis": {
           "automargin": true,
           "gridcolor": "white",
           "linecolor": "white",
           "ticks": "",
           "title": {
            "standoff": 15
           },
           "zerolinecolor": "white",
           "zerolinewidth": 2
          }
         }
        }
       }
      }
     },
     "metadata": {}
    },
    {
     "output_type": "display_data",
     "data": {
      "application/vnd.plotly.v1+json": {
       "config": {
        "plotlyServerURL": "https://plot.ly"
       },
       "data": [
        {
         "name": "Sequential",
         "type": "scatter",
         "x": [
          0,
          1,
          2,
          3,
          4,
          5,
          6,
          7,
          8,
          9,
          10,
          11,
          12,
          13,
          14,
          15,
          16,
          17,
          18,
          19,
          20,
          21,
          22,
          23,
          24,
          25,
          26,
          27,
          28,
          29
         ],
         "y": [
          0.7718122674603939,
          0.7636968040856664,
          0.7559166661378964,
          0.7487084985177649,
          0.7417765562079714,
          0.735372914806816,
          0.7292175057387809,
          0.7232979465685694,
          0.717605213623751,
          0.7121306282446779,
          0.7068658435974116,
          0.7018028319906202,
          0.6969338726771714,
          0.6922877382980377,
          0.6880733904591088,
          0.6840234426617949,
          0.680128512980287,
          0.6765430281038792,
          0.6733725062940651,
          0.6705258539349167,
          0.6677880534557099,
          0.6651549441001201,
          0.6626907044895257,
          0.6604112632113381,
          0.6582671114937796,
          0.6562403366119574,
          0.6543405450038421,
          0.6525133587755527,
          0.6507560033739423,
          0.6490658102686367
         ]
        },
        {
         "name": "Batch",
         "type": "scatter",
         "x": [
          0,
          1,
          2,
          3,
          4,
          5,
          6,
          7,
          8,
          9,
          10,
          11,
          12,
          13,
          14,
          15,
          16,
          17,
          18,
          19,
          20,
          21,
          22,
          23,
          24,
          25,
          26,
          27,
          28,
          29
         ],
         "y": [
          0.8945121399969989,
          0.8840398868388,
          0.8738146000964753,
          0.8638113261283175,
          0.8541528711969076,
          0.8450435863828705,
          0.8364815982949527,
          0.8283270113652638,
          0.8204955007938127,
          0.8131812840106174,
          0.8060702998808256,
          0.7991097530281311,
          0.7923080576447155,
          0.7858288934492071,
          0.7796305981678252,
          0.7735813597316352,
          0.7677482730978835,
          0.7624647951146014,
          0.757462311939792,
          0.7525626942362694,
          0.7477636019888294,
          0.7432411815126103,
          0.7390232890042816,
          0.7349081913785267,
          0.7308753369622204,
          0.726922936372248,
          0.7230492443019776,
          0.7192525582686935,
          0.7155312174014071,
          0.7118836012676226
         ]
        }
       ],
       "layout": {
        "template": {
         "data": {
          "bar": [
           {
            "error_x": {
             "color": "#2a3f5f"
            },
            "error_y": {
             "color": "#2a3f5f"
            },
            "marker": {
             "line": {
              "color": "#E5ECF6",
              "width": 0.5
             }
            },
            "type": "bar"
           }
          ],
          "barpolar": [
           {
            "marker": {
             "line": {
              "color": "#E5ECF6",
              "width": 0.5
             }
            },
            "type": "barpolar"
           }
          ],
          "carpet": [
           {
            "aaxis": {
             "endlinecolor": "#2a3f5f",
             "gridcolor": "white",
             "linecolor": "white",
             "minorgridcolor": "white",
             "startlinecolor": "#2a3f5f"
            },
            "baxis": {
             "endlinecolor": "#2a3f5f",
             "gridcolor": "white",
             "linecolor": "white",
             "minorgridcolor": "white",
             "startlinecolor": "#2a3f5f"
            },
            "type": "carpet"
           }
          ],
          "choropleth": [
           {
            "colorbar": {
             "outlinewidth": 0,
             "ticks": ""
            },
            "type": "choropleth"
           }
          ],
          "contour": [
           {
            "colorbar": {
             "outlinewidth": 0,
             "ticks": ""
            },
            "colorscale": [
             [
              0,
              "#0d0887"
             ],
             [
              0.1111111111111111,
              "#46039f"
             ],
             [
              0.2222222222222222,
              "#7201a8"
             ],
             [
              0.3333333333333333,
              "#9c179e"
             ],
             [
              0.4444444444444444,
              "#bd3786"
             ],
             [
              0.5555555555555556,
              "#d8576b"
             ],
             [
              0.6666666666666666,
              "#ed7953"
             ],
             [
              0.7777777777777778,
              "#fb9f3a"
             ],
             [
              0.8888888888888888,
              "#fdca26"
             ],
             [
              1,
              "#f0f921"
             ]
            ],
            "type": "contour"
           }
          ],
          "contourcarpet": [
           {
            "colorbar": {
             "outlinewidth": 0,
             "ticks": ""
            },
            "type": "contourcarpet"
           }
          ],
          "heatmap": [
           {
            "colorbar": {
             "outlinewidth": 0,
             "ticks": ""
            },
            "colorscale": [
             [
              0,
              "#0d0887"
             ],
             [
              0.1111111111111111,
              "#46039f"
             ],
             [
              0.2222222222222222,
              "#7201a8"
             ],
             [
              0.3333333333333333,
              "#9c179e"
             ],
             [
              0.4444444444444444,
              "#bd3786"
             ],
             [
              0.5555555555555556,
              "#d8576b"
             ],
             [
              0.6666666666666666,
              "#ed7953"
             ],
             [
              0.7777777777777778,
              "#fb9f3a"
             ],
             [
              0.8888888888888888,
              "#fdca26"
             ],
             [
              1,
              "#f0f921"
             ]
            ],
            "type": "heatmap"
           }
          ],
          "heatmapgl": [
           {
            "colorbar": {
             "outlinewidth": 0,
             "ticks": ""
            },
            "colorscale": [
             [
              0,
              "#0d0887"
             ],
             [
              0.1111111111111111,
              "#46039f"
             ],
             [
              0.2222222222222222,
              "#7201a8"
             ],
             [
              0.3333333333333333,
              "#9c179e"
             ],
             [
              0.4444444444444444,
              "#bd3786"
             ],
             [
              0.5555555555555556,
              "#d8576b"
             ],
             [
              0.6666666666666666,
              "#ed7953"
             ],
             [
              0.7777777777777778,
              "#fb9f3a"
             ],
             [
              0.8888888888888888,
              "#fdca26"
             ],
             [
              1,
              "#f0f921"
             ]
            ],
            "type": "heatmapgl"
           }
          ],
          "histogram": [
           {
            "marker": {
             "colorbar": {
              "outlinewidth": 0,
              "ticks": ""
             }
            },
            "type": "histogram"
           }
          ],
          "histogram2d": [
           {
            "colorbar": {
             "outlinewidth": 0,
             "ticks": ""
            },
            "colorscale": [
             [
              0,
              "#0d0887"
             ],
             [
              0.1111111111111111,
              "#46039f"
             ],
             [
              0.2222222222222222,
              "#7201a8"
             ],
             [
              0.3333333333333333,
              "#9c179e"
             ],
             [
              0.4444444444444444,
              "#bd3786"
             ],
             [
              0.5555555555555556,
              "#d8576b"
             ],
             [
              0.6666666666666666,
              "#ed7953"
             ],
             [
              0.7777777777777778,
              "#fb9f3a"
             ],
             [
              0.8888888888888888,
              "#fdca26"
             ],
             [
              1,
              "#f0f921"
             ]
            ],
            "type": "histogram2d"
           }
          ],
          "histogram2dcontour": [
           {
            "colorbar": {
             "outlinewidth": 0,
             "ticks": ""
            },
            "colorscale": [
             [
              0,
              "#0d0887"
             ],
             [
              0.1111111111111111,
              "#46039f"
             ],
             [
              0.2222222222222222,
              "#7201a8"
             ],
             [
              0.3333333333333333,
              "#9c179e"
             ],
             [
              0.4444444444444444,
              "#bd3786"
             ],
             [
              0.5555555555555556,
              "#d8576b"
             ],
             [
              0.6666666666666666,
              "#ed7953"
             ],
             [
              0.7777777777777778,
              "#fb9f3a"
             ],
             [
              0.8888888888888888,
              "#fdca26"
             ],
             [
              1,
              "#f0f921"
             ]
            ],
            "type": "histogram2dcontour"
           }
          ],
          "mesh3d": [
           {
            "colorbar": {
             "outlinewidth": 0,
             "ticks": ""
            },
            "type": "mesh3d"
           }
          ],
          "parcoords": [
           {
            "line": {
             "colorbar": {
              "outlinewidth": 0,
              "ticks": ""
             }
            },
            "type": "parcoords"
           }
          ],
          "pie": [
           {
            "automargin": true,
            "type": "pie"
           }
          ],
          "scatter": [
           {
            "marker": {
             "colorbar": {
              "outlinewidth": 0,
              "ticks": ""
             }
            },
            "type": "scatter"
           }
          ],
          "scatter3d": [
           {
            "line": {
             "colorbar": {
              "outlinewidth": 0,
              "ticks": ""
             }
            },
            "marker": {
             "colorbar": {
              "outlinewidth": 0,
              "ticks": ""
             }
            },
            "type": "scatter3d"
           }
          ],
          "scattercarpet": [
           {
            "marker": {
             "colorbar": {
              "outlinewidth": 0,
              "ticks": ""
             }
            },
            "type": "scattercarpet"
           }
          ],
          "scattergeo": [
           {
            "marker": {
             "colorbar": {
              "outlinewidth": 0,
              "ticks": ""
             }
            },
            "type": "scattergeo"
           }
          ],
          "scattergl": [
           {
            "marker": {
             "colorbar": {
              "outlinewidth": 0,
              "ticks": ""
             }
            },
            "type": "scattergl"
           }
          ],
          "scattermapbox": [
           {
            "marker": {
             "colorbar": {
              "outlinewidth": 0,
              "ticks": ""
             }
            },
            "type": "scattermapbox"
           }
          ],
          "scatterpolar": [
           {
            "marker": {
             "colorbar": {
              "outlinewidth": 0,
              "ticks": ""
             }
            },
            "type": "scatterpolar"
           }
          ],
          "scatterpolargl": [
           {
            "marker": {
             "colorbar": {
              "outlinewidth": 0,
              "ticks": ""
             }
            },
            "type": "scatterpolargl"
           }
          ],
          "scatterternary": [
           {
            "marker": {
             "colorbar": {
              "outlinewidth": 0,
              "ticks": ""
             }
            },
            "type": "scatterternary"
           }
          ],
          "surface": [
           {
            "colorbar": {
             "outlinewidth": 0,
             "ticks": ""
            },
            "colorscale": [
             [
              0,
              "#0d0887"
             ],
             [
              0.1111111111111111,
              "#46039f"
             ],
             [
              0.2222222222222222,
              "#7201a8"
             ],
             [
              0.3333333333333333,
              "#9c179e"
             ],
             [
              0.4444444444444444,
              "#bd3786"
             ],
             [
              0.5555555555555556,
              "#d8576b"
             ],
             [
              0.6666666666666666,
              "#ed7953"
             ],
             [
              0.7777777777777778,
              "#fb9f3a"
             ],
             [
              0.8888888888888888,
              "#fdca26"
             ],
             [
              1,
              "#f0f921"
             ]
            ],
            "type": "surface"
           }
          ],
          "table": [
           {
            "cells": {
             "fill": {
              "color": "#EBF0F8"
             },
             "line": {
              "color": "white"
             }
            },
            "header": {
             "fill": {
              "color": "#C8D4E3"
             },
             "line": {
              "color": "white"
             }
            },
            "type": "table"
           }
          ]
         },
         "layout": {
          "annotationdefaults": {
           "arrowcolor": "#2a3f5f",
           "arrowhead": 0,
           "arrowwidth": 1
          },
          "coloraxis": {
           "colorbar": {
            "outlinewidth": 0,
            "ticks": ""
           }
          },
          "colorscale": {
           "diverging": [
            [
             0,
             "#8e0152"
            ],
            [
             0.1,
             "#c51b7d"
            ],
            [
             0.2,
             "#de77ae"
            ],
            [
             0.3,
             "#f1b6da"
            ],
            [
             0.4,
             "#fde0ef"
            ],
            [
             0.5,
             "#f7f7f7"
            ],
            [
             0.6,
             "#e6f5d0"
            ],
            [
             0.7,
             "#b8e186"
            ],
            [
             0.8,
             "#7fbc41"
            ],
            [
             0.9,
             "#4d9221"
            ],
            [
             1,
             "#276419"
            ]
           ],
           "sequential": [
            [
             0,
             "#0d0887"
            ],
            [
             0.1111111111111111,
             "#46039f"
            ],
            [
             0.2222222222222222,
             "#7201a8"
            ],
            [
             0.3333333333333333,
             "#9c179e"
            ],
            [
             0.4444444444444444,
             "#bd3786"
            ],
            [
             0.5555555555555556,
             "#d8576b"
            ],
            [
             0.6666666666666666,
             "#ed7953"
            ],
            [
             0.7777777777777778,
             "#fb9f3a"
            ],
            [
             0.8888888888888888,
             "#fdca26"
            ],
            [
             1,
             "#f0f921"
            ]
           ],
           "sequentialminus": [
            [
             0,
             "#0d0887"
            ],
            [
             0.1111111111111111,
             "#46039f"
            ],
            [
             0.2222222222222222,
             "#7201a8"
            ],
            [
             0.3333333333333333,
             "#9c179e"
            ],
            [
             0.4444444444444444,
             "#bd3786"
            ],
            [
             0.5555555555555556,
             "#d8576b"
            ],
            [
             0.6666666666666666,
             "#ed7953"
            ],
            [
             0.7777777777777778,
             "#fb9f3a"
            ],
            [
             0.8888888888888888,
             "#fdca26"
            ],
            [
             1,
             "#f0f921"
            ]
           ]
          },
          "colorway": [
           "#636efa",
           "#EF553B",
           "#00cc96",
           "#ab63fa",
           "#FFA15A",
           "#19d3f3",
           "#FF6692",
           "#B6E880",
           "#FF97FF",
           "#FECB52"
          ],
          "font": {
           "color": "#2a3f5f"
          },
          "geo": {
           "bgcolor": "white",
           "lakecolor": "white",
           "landcolor": "#E5ECF6",
           "showlakes": true,
           "showland": true,
           "subunitcolor": "white"
          },
          "hoverlabel": {
           "align": "left"
          },
          "hovermode": "closest",
          "mapbox": {
           "style": "light"
          },
          "paper_bgcolor": "white",
          "plot_bgcolor": "#E5ECF6",
          "polar": {
           "angularaxis": {
            "gridcolor": "white",
            "linecolor": "white",
            "ticks": ""
           },
           "bgcolor": "#E5ECF6",
           "radialaxis": {
            "gridcolor": "white",
            "linecolor": "white",
            "ticks": ""
           }
          },
          "scene": {
           "xaxis": {
            "backgroundcolor": "#E5ECF6",
            "gridcolor": "white",
            "gridwidth": 2,
            "linecolor": "white",
            "showbackground": true,
            "ticks": "",
            "zerolinecolor": "white"
           },
           "yaxis": {
            "backgroundcolor": "#E5ECF6",
            "gridcolor": "white",
            "gridwidth": 2,
            "linecolor": "white",
            "showbackground": true,
            "ticks": "",
            "zerolinecolor": "white"
           },
           "zaxis": {
            "backgroundcolor": "#E5ECF6",
            "gridcolor": "white",
            "gridwidth": 2,
            "linecolor": "white",
            "showbackground": true,
            "ticks": "",
            "zerolinecolor": "white"
           }
          },
          "shapedefaults": {
           "line": {
            "color": "#2a3f5f"
           }
          },
          "ternary": {
           "aaxis": {
            "gridcolor": "white",
            "linecolor": "white",
            "ticks": ""
           },
           "baxis": {
            "gridcolor": "white",
            "linecolor": "white",
            "ticks": ""
           },
           "bgcolor": "#E5ECF6",
           "caxis": {
            "gridcolor": "white",
            "linecolor": "white",
            "ticks": ""
           }
          },
          "title": {
           "x": 0.05
          },
          "xaxis": {
           "automargin": true,
           "gridcolor": "white",
           "linecolor": "white",
           "ticks": "",
           "title": {
            "standoff": 15
           },
           "zerolinecolor": "white",
           "zerolinewidth": 2
          },
          "yaxis": {
           "automargin": true,
           "gridcolor": "white",
           "linecolor": "white",
           "ticks": "",
           "title": {
            "standoff": 15
           },
           "zerolinecolor": "white",
           "zerolinewidth": 2
          }
         }
        }
       }
      }
     },
     "metadata": {}
    }
   ],
   "source": [
    "N = 100\n",
    "(A, B) = multivariate(N, [-3,0], [3,0], 1, 1)\n",
    "\n",
    "fig = go.Figure()\n",
    "fig.add_trace(go.Scatter(x=A[:,0], y=A[:,1], mode=\"markers\"))\n",
    "fig.add_trace(go.Scatter(x=B[:,0], y=B[:,1], mode=\"markers\"))\n",
    "\n",
    "w_seq = np.random.uniform(0,1,(2,1))\n",
    "w_batch = np.random.uniform(0,1,(2,1))\n",
    "\n",
    "epoch = 30\n",
    "eta = 1e-4\n",
    "\n",
    "mae_seq = []\n",
    "mae_batch = []\n",
    "\n",
    "for e in range(epoch):\n",
    "    for feat,targ in zip(features, targets):\n",
    "        w_seq += delta_rule(feat.reshape((1,2)), targ.reshape((1,1)), w_seq, eta)\n",
    "\n",
    "    w_batch += delta_rule(features, targets, w_batch, eta)\n",
    "\n",
    "    mae_seq.append(np.mean(np.abs(features@w_seq-targets)))\n",
    "    mae_batch.append(np.mean(np.abs(features@w_batch-targets)))\n",
    "\n",
    "plot_boundary(fig, w_seq.T)\n",
    "plot_boundary(fig, w_batch.T)\n",
    "\n",
    "fig.show()\n",
    "\n",
    "mae_fig = go.Figure()\n",
    "mae_fig.add_trace(go.Scatter(x=np.arange(len(mae_seq)), y=mae_seq, name=\"Sequential\"))\n",
    "mae_fig.add_trace(go.Scatter(x=np.arange(len(mae_batch)), y=mae_batch,name=\"Batch\"))\n",
    "mae_fig.show()"
   ]
  },
  {
   "cell_type": "markdown",
   "metadata": {},
   "source": [
    "# 3.1.3"
   ]
  },
  {
   "cell_type": "code",
   "execution_count": 198,
   "metadata": {
    "tags": []
   },
   "outputs": [
    {
     "output_type": "display_data",
     "data": {
      "application/vnd.plotly.v1+json": {
       "config": {
        "plotlyServerURL": "https://plot.ly"
       },
       "data": [
        {
         "mode": "markers",
         "type": "scatter",
         "x": [
          -0.41469269513431106,
          -0.06412776998618486,
          0.6640831340314557,
          -0.29246802343169764,
          1.579396252423095,
          -0.903952661928549,
          0.15263010708052072,
          -1.9671972013988392,
          -0.09987100740903299,
          -0.2810915612158018,
          -0.8405209919574947,
          -1.9363595818166477,
          -1.6683890657012577,
          -0.1799242600696761,
          -1.774223233829548,
          -0.6420114739612303,
          0.33748717869714007,
          -1.7708796364266999,
          -2.7365605422418424,
          -1.8038948338632799,
          -0.8046225473704227,
          -0.8394308460105824,
          0.2186510060703053,
          -0.44035725550851434,
          -2.1780342550842864,
          -3.5016510387758206,
          0.48207098453903585,
          0.0642787725839129,
          -0.9543269999473661,
          -2.761677501590627,
          -1.3048075373357466,
          -0.5369949196040671,
          -0.9282727037303828,
          -1.2392325438568086,
          -1.9843480490617764,
          -0.6212359851617973,
          -3.242378976837225,
          -0.7429321678463492,
          -2.3811221560711306,
          -1.3540678975542553,
          -2.5482023786276127,
          -0.3628155884535935,
          -1.822701941649321,
          0.9486863658469633,
          -0.8248232903696653,
          -2.0744460927340924,
          -1.7840457077917193,
          -1.9385953101378854,
          -1.2710773833479165,
          -0.5278186763170252,
          -0.7863133343432693,
          -1.3300804072654264,
          0.7679048895134402,
          1.144364731609202,
          -0.10729150683549937,
          -0.8940185540385238,
          1.2519254295883666,
          -0.9242374356077866,
          -1.1770994434087902,
          -1.950973268299852,
          -1.1077387210244496,
          -2.4891548403347414,
          -1.1605414858919878,
          -0.9541263603338512,
          -2.079216812330058,
          -1.8377888257081398,
          -0.12946265213125607,
          -0.041479096071171506,
          0.4367068506409495,
          0.09801443660115705,
          -1.6276058189984433,
          -0.7912406433100458,
          0.24038352258048223,
          -2.0620173890339277,
          -2.2272449647868227,
          -0.48993409292612,
          -1.2925621018288513,
          -0.5922544964500311,
          -1.0715170681777095,
          -1.796064694780698,
          -1.3484949163672046,
          0.6173537282199701,
          -1.4803831508570369,
          -0.4908818329637681,
          -0.5931070286883964,
          -0.6390150233619946,
          -1.0519306086827755,
          -0.7481806438304541,
          -0.9134944294820214,
          -0.25998619592669236,
          -1.380556011951625,
          -1.3810685274517986,
          -2.404555498980825,
          -0.40354751385005916,
          -1.095453084769284,
          -2.365158612346728,
          -0.27571111934815096,
          -1.698059108133101,
          -1.823627160802211,
          -0.35255358438780604
         ],
         "y": [
          -0.5416727183411763,
          -0.11196343922936966,
          1.3494080299278979,
          -1.943967647923393,
          0.41342407105501133,
          -0.1906313119306561,
          -0.12918407165286064,
          0.11370002133173147,
          -0.3256996965193384,
          -1.4111729094314014,
          -1.7843370128495335,
          -0.6556058980480922,
          1.187508973689782,
          -1.9298929906920015,
          -0.6211373628401905,
          0.18521740207669843,
          -1.6810662915078736,
          -1.0092932229225837,
          -1.0373713619348748,
          2.833625346398967,
          1.4788480280740046,
          -1.6083228441601347,
          0.929358063951922,
          -0.476741204173561,
          -0.6327763536182689,
          1.189713546990809,
          1.1766557474856505,
          1.3149572836456906,
          -0.38405802467547273,
          -0.46581928607401063,
          -0.6548271325556961,
          -1.4390945133035378,
          1.3762569986764328,
          0.5038970606208626,
          0.4197795044753889,
          -0.14654917072703555,
          -0.136824224009662,
          0.3791775713702325,
          0.8511611606123839,
          -1.3038019450623735,
          -0.9185975374568949,
          -0.6719307484941287,
          0.16150381909271608,
          1.4585115242833162,
          0.7371749147005947,
          0.232421045713931,
          -0.7420005619031862,
          1.558751831922074,
          -1.351983990318827,
          0.5241542761095691,
          -3.057211163875975,
          -0.05148333021000848,
          -0.14151274898860214,
          0.573181823147482,
          0.3615416280099714,
          1.267241613464405,
          0.33362456830028164,
          2.431937420502419,
          0.4017980122329421,
          0.26231641948827394,
          0.0714251097658905,
          -1.7860034973543688,
          -1.0875804443163037,
          0.8180381874681202,
          0.9977084717512269,
          0.21112158224129712,
          -1.2506921977726313,
          1.8956910430500913,
          0.21892609815420885,
          0.9566304961756599,
          -0.9347192762717972,
          -1.2520224747779518,
          -0.02016956309746642,
          -1.9893596295660712,
          0.6906350485611504,
          -0.9861509696952951,
          1.6935651512089265,
          -0.015369696864189165,
          -0.21207900148334216,
          0.1100240726105268,
          -0.4296702194264968,
          -0.0018346912335210927,
          -0.4420797738688711,
          -0.7293936893751555,
          0.8201609793952496,
          -1.8493582133932531,
          -1.2354715162575332,
          1.1322200891198277,
          -1.9609466789955452,
          0.058890160542700166,
          0.08071085515935039,
          -0.18525807117849796,
          -0.7878077764753798,
          -0.27519530720194574,
          1.9081955658582366,
          0.0027231424359267045,
          1.9261996906871284,
          0.6317261549803648,
          -0.9267655905412892,
          0.6097798267594134
         ]
        },
        {
         "mode": "markers",
         "type": "scatter",
         "x": [
          0.8455245691039841,
          0.9482799005513581,
          2.3883745452894676,
          0.6111062124297394,
          -0.14891761078217702,
          2.296521594212978,
          1.7897495809429662,
          2.7923731287188076,
          -0.57647457979494,
          0.5067382162404814,
          2.1077590929173735,
          0.6225597388815032,
          0.06746490348106982,
          0.21279699293013665,
          0.3685120108128619,
          -0.4936405019421011,
          -0.06105885353271634,
          1.8790968131349586,
          0.7268872571523315,
          1.5008483043975689,
          0.7270237266175426,
          0.04461332553838748,
          2.376331167200644,
          -0.12714144867221777,
          -0.39533446980274123,
          1.4044914352732691,
          -0.0556294038216929,
          0.9639997103290456,
          1.469453907091843,
          0.7108109445602647,
          1.1947269051036558,
          1.7340462893292643,
          -0.2831178206408611,
          0.7971487395293808,
          -0.4810024233692045,
          4.152136362133993,
          1.5191654457098773,
          0.699502952827586,
          1.0246487717572592,
          0.633370792175779,
          1.5221437785486427,
          0.40222696895530097,
          1.3175396772413728,
          -0.30491786926319997,
          1.2725580751776637,
          2.286356936442542,
          1.591603970632895,
          0.7319803667726987,
          1.8540098980067836,
          1.8559066313820325,
          1.5617620515256134,
          1.176943776828639,
          -0.5622315296668938,
          -0.2787784224066523,
          0.18564172047313177,
          1.8802321316534254,
          1.6038916303233934,
          1.0971371848925702,
          1.7970852554460786,
          1.6089524638209705,
          1.2126234663719924,
          3.445515524990045,
          -0.059966066372517224,
          1.6351193723400548,
          0.5498900661761054,
          2.64482761848205,
          2.4648868797783967,
          0.9362328593714461,
          1.6787595323631828,
          2.2475677487754653,
          0.6205193328758252,
          0.5873525084164921,
          0.3392560310886754,
          0.5826862758893068,
          1.4957305828382632,
          -0.11029443160455532,
          0.23838485893159678,
          -1.781942767521489,
          0.376370768578955,
          1.0738710861294876,
          1.3264959266691687,
          -0.9755552183240799,
          1.635698125704781,
          -0.706085852671462,
          2.6829395571201244,
          0.8296796613619156,
          0.6109534723320633,
          0.2268086117017417,
          1.2528747741588604,
          1.6720161699083804,
          1.5180230758915665,
          0.22503788366222932,
          1.6828017261559967,
          0.7417216276598944,
          -0.30344750002133924,
          -0.15098183601714288,
          1.6511287197463531,
          0.8397448058767137,
          1.5709658449784079,
          1.2514844753533283
         ],
         "y": [
          2.5866806340708197,
          -0.2357105026555376,
          -0.09143835267678088,
          -0.020944252192849146,
          0.9062673283181363,
          -0.3031722679801913,
          1.4033285489972371,
          0.5060743971720669,
          2.10583567956771,
          1.1698069971751925,
          0.956260293893054,
          -1.4803361344472115,
          -2.160319265384635,
          -0.22131878427102683,
          -0.660136225067944,
          -1.2594802862782497,
          -0.4953618336749135,
          -0.028407786711993566,
          -2.041706978613638,
          1.046336236919161,
          0.5938620151661727,
          -0.32196092035512497,
          0.29134017177139976,
          0.16665531053778113,
          -1.1087600372477462,
          -0.21105933898260623,
          -1.2775309494340183,
          -0.006694207098576816,
          0.8326512076431739,
          -1.5277744444825643,
          0.6356830250079393,
          -0.4325874520479289,
          -0.9566249850293,
          -0.6782592176448166,
          -0.5480895320852779,
          -0.9292635487658958,
          1.127022456474358,
          0.6843752677685854,
          1.250055781745519,
          -0.5086675770605186,
          -0.7114902106172971,
          0.5303093228742153,
          -0.6191213478456298,
          0.836863640944076,
          -0.571523013492293,
          0.24325212746392477,
          0.8518459252329181,
          0.3371051075616795,
          -0.40533350878753194,
          0.4067918204113659,
          -1.4071373027446281,
          0.3336049686789421,
          -0.6963483741135007,
          -1.852217699603395,
          -0.6414680912489228,
          1.009464547270209,
          -0.06746148249213331,
          -1.3355657175910929,
          0.7190092682493905,
          0.48346357275198776,
          0.9427191256626356,
          -0.5628790534434135,
          -1.3250785362568125,
          1.9885999917289008,
          1.3340542825356416,
          0.6072230320601809,
          1.0004571050432407,
          -0.30633386021364467,
          -1.5045274952811722,
          0.44458113958855133,
          0.8782962980149599,
          -0.8429110121411648,
          -0.6317162088587901,
          -0.5794587445822694,
          -0.8779702750942736,
          0.6849901262809741,
          -0.5892051648356534,
          -0.5832139025533081,
          0.5951014563264764,
          0.4463917618951386,
          1.6776491589814246,
          -0.1941156460912951,
          -0.32882413823391454,
          -0.7122609501813093,
          0.15661609727678352,
          1.0191958136076134,
          0.5036154547565185,
          -0.5421919097828861,
          1.0118357411149124,
          -1.0089193537733656,
          0.17013933377807117,
          -0.4875805881452152,
          1.0168267531537578,
          -0.2601119093454163,
          -1.0342910956852598,
          -0.4927859097124589,
          0.2024614901024886,
          0.60676159269248,
          -0.11386611251352441,
          1.1424223902334438
         ]
        }
       ],
       "layout": {
        "template": {
         "data": {
          "bar": [
           {
            "error_x": {
             "color": "#2a3f5f"
            },
            "error_y": {
             "color": "#2a3f5f"
            },
            "marker": {
             "line": {
              "color": "#E5ECF6",
              "width": 0.5
             }
            },
            "type": "bar"
           }
          ],
          "barpolar": [
           {
            "marker": {
             "line": {
              "color": "#E5ECF6",
              "width": 0.5
             }
            },
            "type": "barpolar"
           }
          ],
          "carpet": [
           {
            "aaxis": {
             "endlinecolor": "#2a3f5f",
             "gridcolor": "white",
             "linecolor": "white",
             "minorgridcolor": "white",
             "startlinecolor": "#2a3f5f"
            },
            "baxis": {
             "endlinecolor": "#2a3f5f",
             "gridcolor": "white",
             "linecolor": "white",
             "minorgridcolor": "white",
             "startlinecolor": "#2a3f5f"
            },
            "type": "carpet"
           }
          ],
          "choropleth": [
           {
            "colorbar": {
             "outlinewidth": 0,
             "ticks": ""
            },
            "type": "choropleth"
           }
          ],
          "contour": [
           {
            "colorbar": {
             "outlinewidth": 0,
             "ticks": ""
            },
            "colorscale": [
             [
              0,
              "#0d0887"
             ],
             [
              0.1111111111111111,
              "#46039f"
             ],
             [
              0.2222222222222222,
              "#7201a8"
             ],
             [
              0.3333333333333333,
              "#9c179e"
             ],
             [
              0.4444444444444444,
              "#bd3786"
             ],
             [
              0.5555555555555556,
              "#d8576b"
             ],
             [
              0.6666666666666666,
              "#ed7953"
             ],
             [
              0.7777777777777778,
              "#fb9f3a"
             ],
             [
              0.8888888888888888,
              "#fdca26"
             ],
             [
              1,
              "#f0f921"
             ]
            ],
            "type": "contour"
           }
          ],
          "contourcarpet": [
           {
            "colorbar": {
             "outlinewidth": 0,
             "ticks": ""
            },
            "type": "contourcarpet"
           }
          ],
          "heatmap": [
           {
            "colorbar": {
             "outlinewidth": 0,
             "ticks": ""
            },
            "colorscale": [
             [
              0,
              "#0d0887"
             ],
             [
              0.1111111111111111,
              "#46039f"
             ],
             [
              0.2222222222222222,
              "#7201a8"
             ],
             [
              0.3333333333333333,
              "#9c179e"
             ],
             [
              0.4444444444444444,
              "#bd3786"
             ],
             [
              0.5555555555555556,
              "#d8576b"
             ],
             [
              0.6666666666666666,
              "#ed7953"
             ],
             [
              0.7777777777777778,
              "#fb9f3a"
             ],
             [
              0.8888888888888888,
              "#fdca26"
             ],
             [
              1,
              "#f0f921"
             ]
            ],
            "type": "heatmap"
           }
          ],
          "heatmapgl": [
           {
            "colorbar": {
             "outlinewidth": 0,
             "ticks": ""
            },
            "colorscale": [
             [
              0,
              "#0d0887"
             ],
             [
              0.1111111111111111,
              "#46039f"
             ],
             [
              0.2222222222222222,
              "#7201a8"
             ],
             [
              0.3333333333333333,
              "#9c179e"
             ],
             [
              0.4444444444444444,
              "#bd3786"
             ],
             [
              0.5555555555555556,
              "#d8576b"
             ],
             [
              0.6666666666666666,
              "#ed7953"
             ],
             [
              0.7777777777777778,
              "#fb9f3a"
             ],
             [
              0.8888888888888888,
              "#fdca26"
             ],
             [
              1,
              "#f0f921"
             ]
            ],
            "type": "heatmapgl"
           }
          ],
          "histogram": [
           {
            "marker": {
             "colorbar": {
              "outlinewidth": 0,
              "ticks": ""
             }
            },
            "type": "histogram"
           }
          ],
          "histogram2d": [
           {
            "colorbar": {
             "outlinewidth": 0,
             "ticks": ""
            },
            "colorscale": [
             [
              0,
              "#0d0887"
             ],
             [
              0.1111111111111111,
              "#46039f"
             ],
             [
              0.2222222222222222,
              "#7201a8"
             ],
             [
              0.3333333333333333,
              "#9c179e"
             ],
             [
              0.4444444444444444,
              "#bd3786"
             ],
             [
              0.5555555555555556,
              "#d8576b"
             ],
             [
              0.6666666666666666,
              "#ed7953"
             ],
             [
              0.7777777777777778,
              "#fb9f3a"
             ],
             [
              0.8888888888888888,
              "#fdca26"
             ],
             [
              1,
              "#f0f921"
             ]
            ],
            "type": "histogram2d"
           }
          ],
          "histogram2dcontour": [
           {
            "colorbar": {
             "outlinewidth": 0,
             "ticks": ""
            },
            "colorscale": [
             [
              0,
              "#0d0887"
             ],
             [
              0.1111111111111111,
              "#46039f"
             ],
             [
              0.2222222222222222,
              "#7201a8"
             ],
             [
              0.3333333333333333,
              "#9c179e"
             ],
             [
              0.4444444444444444,
              "#bd3786"
             ],
             [
              0.5555555555555556,
              "#d8576b"
             ],
             [
              0.6666666666666666,
              "#ed7953"
             ],
             [
              0.7777777777777778,
              "#fb9f3a"
             ],
             [
              0.8888888888888888,
              "#fdca26"
             ],
             [
              1,
              "#f0f921"
             ]
            ],
            "type": "histogram2dcontour"
           }
          ],
          "mesh3d": [
           {
            "colorbar": {
             "outlinewidth": 0,
             "ticks": ""
            },
            "type": "mesh3d"
           }
          ],
          "parcoords": [
           {
            "line": {
             "colorbar": {
              "outlinewidth": 0,
              "ticks": ""
             }
            },
            "type": "parcoords"
           }
          ],
          "pie": [
           {
            "automargin": true,
            "type": "pie"
           }
          ],
          "scatter": [
           {
            "marker": {
             "colorbar": {
              "outlinewidth": 0,
              "ticks": ""
             }
            },
            "type": "scatter"
           }
          ],
          "scatter3d": [
           {
            "line": {
             "colorbar": {
              "outlinewidth": 0,
              "ticks": ""
             }
            },
            "marker": {
             "colorbar": {
              "outlinewidth": 0,
              "ticks": ""
             }
            },
            "type": "scatter3d"
           }
          ],
          "scattercarpet": [
           {
            "marker": {
             "colorbar": {
              "outlinewidth": 0,
              "ticks": ""
             }
            },
            "type": "scattercarpet"
           }
          ],
          "scattergeo": [
           {
            "marker": {
             "colorbar": {
              "outlinewidth": 0,
              "ticks": ""
             }
            },
            "type": "scattergeo"
           }
          ],
          "scattergl": [
           {
            "marker": {
             "colorbar": {
              "outlinewidth": 0,
              "ticks": ""
             }
            },
            "type": "scattergl"
           }
          ],
          "scattermapbox": [
           {
            "marker": {
             "colorbar": {
              "outlinewidth": 0,
              "ticks": ""
             }
            },
            "type": "scattermapbox"
           }
          ],
          "scatterpolar": [
           {
            "marker": {
             "colorbar": {
              "outlinewidth": 0,
              "ticks": ""
             }
            },
            "type": "scatterpolar"
           }
          ],
          "scatterpolargl": [
           {
            "marker": {
             "colorbar": {
              "outlinewidth": 0,
              "ticks": ""
             }
            },
            "type": "scatterpolargl"
           }
          ],
          "scatterternary": [
           {
            "marker": {
             "colorbar": {
              "outlinewidth": 0,
              "ticks": ""
             }
            },
            "type": "scatterternary"
           }
          ],
          "surface": [
           {
            "colorbar": {
             "outlinewidth": 0,
             "ticks": ""
            },
            "colorscale": [
             [
              0,
              "#0d0887"
             ],
             [
              0.1111111111111111,
              "#46039f"
             ],
             [
              0.2222222222222222,
              "#7201a8"
             ],
             [
              0.3333333333333333,
              "#9c179e"
             ],
             [
              0.4444444444444444,
              "#bd3786"
             ],
             [
              0.5555555555555556,
              "#d8576b"
             ],
             [
              0.6666666666666666,
              "#ed7953"
             ],
             [
              0.7777777777777778,
              "#fb9f3a"
             ],
             [
              0.8888888888888888,
              "#fdca26"
             ],
             [
              1,
              "#f0f921"
             ]
            ],
            "type": "surface"
           }
          ],
          "table": [
           {
            "cells": {
             "fill": {
              "color": "#EBF0F8"
             },
             "line": {
              "color": "white"
             }
            },
            "header": {
             "fill": {
              "color": "#C8D4E3"
             },
             "line": {
              "color": "white"
             }
            },
            "type": "table"
           }
          ]
         },
         "layout": {
          "annotationdefaults": {
           "arrowcolor": "#2a3f5f",
           "arrowhead": 0,
           "arrowwidth": 1
          },
          "coloraxis": {
           "colorbar": {
            "outlinewidth": 0,
            "ticks": ""
           }
          },
          "colorscale": {
           "diverging": [
            [
             0,
             "#8e0152"
            ],
            [
             0.1,
             "#c51b7d"
            ],
            [
             0.2,
             "#de77ae"
            ],
            [
             0.3,
             "#f1b6da"
            ],
            [
             0.4,
             "#fde0ef"
            ],
            [
             0.5,
             "#f7f7f7"
            ],
            [
             0.6,
             "#e6f5d0"
            ],
            [
             0.7,
             "#b8e186"
            ],
            [
             0.8,
             "#7fbc41"
            ],
            [
             0.9,
             "#4d9221"
            ],
            [
             1,
             "#276419"
            ]
           ],
           "sequential": [
            [
             0,
             "#0d0887"
            ],
            [
             0.1111111111111111,
             "#46039f"
            ],
            [
             0.2222222222222222,
             "#7201a8"
            ],
            [
             0.3333333333333333,
             "#9c179e"
            ],
            [
             0.4444444444444444,
             "#bd3786"
            ],
            [
             0.5555555555555556,
             "#d8576b"
            ],
            [
             0.6666666666666666,
             "#ed7953"
            ],
            [
             0.7777777777777778,
             "#fb9f3a"
            ],
            [
             0.8888888888888888,
             "#fdca26"
            ],
            [
             1,
             "#f0f921"
            ]
           ],
           "sequentialminus": [
            [
             0,
             "#0d0887"
            ],
            [
             0.1111111111111111,
             "#46039f"
            ],
            [
             0.2222222222222222,
             "#7201a8"
            ],
            [
             0.3333333333333333,
             "#9c179e"
            ],
            [
             0.4444444444444444,
             "#bd3786"
            ],
            [
             0.5555555555555556,
             "#d8576b"
            ],
            [
             0.6666666666666666,
             "#ed7953"
            ],
            [
             0.7777777777777778,
             "#fb9f3a"
            ],
            [
             0.8888888888888888,
             "#fdca26"
            ],
            [
             1,
             "#f0f921"
            ]
           ]
          },
          "colorway": [
           "#636efa",
           "#EF553B",
           "#00cc96",
           "#ab63fa",
           "#FFA15A",
           "#19d3f3",
           "#FF6692",
           "#B6E880",
           "#FF97FF",
           "#FECB52"
          ],
          "font": {
           "color": "#2a3f5f"
          },
          "geo": {
           "bgcolor": "white",
           "lakecolor": "white",
           "landcolor": "#E5ECF6",
           "showlakes": true,
           "showland": true,
           "subunitcolor": "white"
          },
          "hoverlabel": {
           "align": "left"
          },
          "hovermode": "closest",
          "mapbox": {
           "style": "light"
          },
          "paper_bgcolor": "white",
          "plot_bgcolor": "#E5ECF6",
          "polar": {
           "angularaxis": {
            "gridcolor": "white",
            "linecolor": "white",
            "ticks": ""
           },
           "bgcolor": "#E5ECF6",
           "radialaxis": {
            "gridcolor": "white",
            "linecolor": "white",
            "ticks": ""
           }
          },
          "scene": {
           "xaxis": {
            "backgroundcolor": "#E5ECF6",
            "gridcolor": "white",
            "gridwidth": 2,
            "linecolor": "white",
            "showbackground": true,
            "ticks": "",
            "zerolinecolor": "white"
           },
           "yaxis": {
            "backgroundcolor": "#E5ECF6",
            "gridcolor": "white",
            "gridwidth": 2,
            "linecolor": "white",
            "showbackground": true,
            "ticks": "",
            "zerolinecolor": "white"
           },
           "zaxis": {
            "backgroundcolor": "#E5ECF6",
            "gridcolor": "white",
            "gridwidth": 2,
            "linecolor": "white",
            "showbackground": true,
            "ticks": "",
            "zerolinecolor": "white"
           }
          },
          "shapedefaults": {
           "line": {
            "color": "#2a3f5f"
           }
          },
          "ternary": {
           "aaxis": {
            "gridcolor": "white",
            "linecolor": "white",
            "ticks": ""
           },
           "baxis": {
            "gridcolor": "white",
            "linecolor": "white",
            "ticks": ""
           },
           "bgcolor": "#E5ECF6",
           "caxis": {
            "gridcolor": "white",
            "linecolor": "white",
            "ticks": ""
           }
          },
          "title": {
           "x": 0.05
          },
          "xaxis": {
           "automargin": true,
           "gridcolor": "white",
           "linecolor": "white",
           "ticks": "",
           "title": {
            "standoff": 15
           },
           "zerolinecolor": "white",
           "zerolinewidth": 2
          },
          "yaxis": {
           "automargin": true,
           "gridcolor": "white",
           "linecolor": "white",
           "ticks": "",
           "title": {
            "standoff": 15
           },
           "zerolinecolor": "white",
           "zerolinewidth": 2
          }
         }
        }
       }
      }
     },
     "metadata": {}
    },
    {
     "output_type": "stream",
     "name": "stdout",
     "text": "(200, 2)\n(200, 1)\n"
    }
   ],
   "source": [
    "N = 100\n",
    "(A, B) = multivariate(N, [-1,0], [1,0], 1, 1)\n",
    "\n",
    "fig = go.Figure()\n",
    "fig.add_trace(go.Scatter(x=A[:,0], y=A[:,1], mode=\"markers\"))\n",
    "fig.add_trace(go.Scatter(x=B[:,0], y=B[:,1], mode=\"markers\"))\n",
    "fig.show()\n",
    "features = np.concatenate([A,B],axis=0)\n",
    "targets = np.concatenate([-np.ones((A.shape[0],1)), np.ones((B.shape[0],1))], axis=0)\n",
    "print(features.shape)\n",
    "print(targets.shape)\n"
   ]
  },
  {
   "cell_type": "code",
   "execution_count": 208,
   "metadata": {},
   "outputs": [
    {
     "output_type": "display_data",
     "data": {
      "application/vnd.plotly.v1+json": {
       "config": {
        "plotlyServerURL": "https://plot.ly"
       },
       "data": [
        {
         "name": "Delta",
         "type": "scatter",
         "x": [
          0,
          1,
          2,
          3,
          4,
          5,
          6,
          7,
          8,
          9,
          10,
          11,
          12,
          13,
          14,
          15,
          16,
          17,
          18,
          19,
          20,
          21,
          22,
          23,
          24,
          25,
          26,
          27,
          28,
          29,
          30,
          31,
          32,
          33,
          34,
          35,
          36,
          37,
          38,
          39,
          40,
          41,
          42,
          43,
          44,
          45,
          46,
          47,
          48,
          49
         ],
         "y": [
          1.3059904817979322,
          1.2949310849920577,
          1.2839989593352006,
          1.2731926368192013,
          1.2625106663717307,
          1.251951613660907,
          1.2415140609021627,
          1.2311966066673445,
          1.2209978656960105,
          1.2109164687089098,
          1.2009510622236086,
          1.1911003083722465,
          1.1813628847213957,
          1.1717374840939976,
          1.1622228143933524,
          1.1528175984291398,
          1.1435205737454501,
          1.1343304924507946,
          1.1252461210500795,
          1.1162662402785195,
          1.107389644937463,
          1.098615143732117,
          1.0899415591111403,
          1.0813677271080901,
          1.072892497184693,
          1.0645147320759296,
          1.0562333076369035,
          1.0480471126914783,
          1.0399550488826579,
          1.0319560305246975,
          1.024048984456916,
          1.0162328498991993,
          1.0085065783091671,
          1.0008691332409898,
          0.9933194902058324,
          0.9858566365339111,
          0.9784795712381384,
          0.9711873048793424,
          0.9639788594330423,
          0.9568532681577585,
          0.9498095754648443,
          0.9428468367898173,
          0.9359641184651771,
          0.9291604975946897,
          0.9224350619291193,
          0.9157869097433998,
          0.9092151497152179,
          0.9027189008049997,
          0.8962972921372805,
          0.8899494628834445
         ]
        },
        {
         "name": "Perceptron",
         "type": "scatter",
         "x": [
          0,
          1,
          2,
          3,
          4,
          5,
          6,
          7,
          8,
          9,
          10,
          11,
          12,
          13,
          14,
          15,
          16,
          17,
          18,
          19,
          20,
          21,
          22,
          23,
          24,
          25,
          26,
          27,
          28,
          29,
          30,
          31,
          32,
          33,
          34,
          35,
          36,
          37,
          38,
          39,
          40,
          41,
          42,
          43,
          44,
          45,
          46,
          47,
          48,
          49
         ],
         "y": [
          1.4631560434827555,
          1.46300766775573,
          1.4627256070579358,
          1.4623229640368236,
          1.4618114365489863,
          1.4612014779745097,
          1.4605024376895077,
          1.4597226843917557,
          1.4588697145780523,
          1.4579502481362894,
          1.4569703127311409,
          1.4559353184219332,
          1.4548501237478684,
          1.4537190943434208,
          1.4525461550006067,
          1.4513348359706113,
          1.450088314191597,
          1.4488094500393394,
          1.4475008201202753,
          1.4461647465604826,
          1.4448033231873703,
          1.4434184389519717,
          1.4420117988975203,
          1.4405849429434352,
          1.439139262722128,
          1.437676016678408,
          1.4361963436172005,
          1.4347012748642145,
          1.4331917451857366,
          1.4316686025975154,
          1.4301326171784239,
          1.4285844889920007,
          1.4270248552078544,
          1.425454296505062,
          1.423873342830982,
          1.4222824785811399,
          1.4206821472589752,
          1.4190727556680984,
          1.4174546776842498,
          1.4158282576492802,
          1.4141938134251197,
          1.4125516391418194,
          1.410902007670267,
          1.4092451728470683,
          1.4075813714762986,
          1.4059108251303265,
          1.4042337417696777,
          1.4025503171998948,
          1.4008607363815382,
          1.3991651746078666
         ]
        }
       ],
       "layout": {
        "template": {
         "data": {
          "bar": [
           {
            "error_x": {
             "color": "#2a3f5f"
            },
            "error_y": {
             "color": "#2a3f5f"
            },
            "marker": {
             "line": {
              "color": "#E5ECF6",
              "width": 0.5
             }
            },
            "type": "bar"
           }
          ],
          "barpolar": [
           {
            "marker": {
             "line": {
              "color": "#E5ECF6",
              "width": 0.5
             }
            },
            "type": "barpolar"
           }
          ],
          "carpet": [
           {
            "aaxis": {
             "endlinecolor": "#2a3f5f",
             "gridcolor": "white",
             "linecolor": "white",
             "minorgridcolor": "white",
             "startlinecolor": "#2a3f5f"
            },
            "baxis": {
             "endlinecolor": "#2a3f5f",
             "gridcolor": "white",
             "linecolor": "white",
             "minorgridcolor": "white",
             "startlinecolor": "#2a3f5f"
            },
            "type": "carpet"
           }
          ],
          "choropleth": [
           {
            "colorbar": {
             "outlinewidth": 0,
             "ticks": ""
            },
            "type": "choropleth"
           }
          ],
          "contour": [
           {
            "colorbar": {
             "outlinewidth": 0,
             "ticks": ""
            },
            "colorscale": [
             [
              0,
              "#0d0887"
             ],
             [
              0.1111111111111111,
              "#46039f"
             ],
             [
              0.2222222222222222,
              "#7201a8"
             ],
             [
              0.3333333333333333,
              "#9c179e"
             ],
             [
              0.4444444444444444,
              "#bd3786"
             ],
             [
              0.5555555555555556,
              "#d8576b"
             ],
             [
              0.6666666666666666,
              "#ed7953"
             ],
             [
              0.7777777777777778,
              "#fb9f3a"
             ],
             [
              0.8888888888888888,
              "#fdca26"
             ],
             [
              1,
              "#f0f921"
             ]
            ],
            "type": "contour"
           }
          ],
          "contourcarpet": [
           {
            "colorbar": {
             "outlinewidth": 0,
             "ticks": ""
            },
            "type": "contourcarpet"
           }
          ],
          "heatmap": [
           {
            "colorbar": {
             "outlinewidth": 0,
             "ticks": ""
            },
            "colorscale": [
             [
              0,
              "#0d0887"
             ],
             [
              0.1111111111111111,
              "#46039f"
             ],
             [
              0.2222222222222222,
              "#7201a8"
             ],
             [
              0.3333333333333333,
              "#9c179e"
             ],
             [
              0.4444444444444444,
              "#bd3786"
             ],
             [
              0.5555555555555556,
              "#d8576b"
             ],
             [
              0.6666666666666666,
              "#ed7953"
             ],
             [
              0.7777777777777778,
              "#fb9f3a"
             ],
             [
              0.8888888888888888,
              "#fdca26"
             ],
             [
              1,
              "#f0f921"
             ]
            ],
            "type": "heatmap"
           }
          ],
          "heatmapgl": [
           {
            "colorbar": {
             "outlinewidth": 0,
             "ticks": ""
            },
            "colorscale": [
             [
              0,
              "#0d0887"
             ],
             [
              0.1111111111111111,
              "#46039f"
             ],
             [
              0.2222222222222222,
              "#7201a8"
             ],
             [
              0.3333333333333333,
              "#9c179e"
             ],
             [
              0.4444444444444444,
              "#bd3786"
             ],
             [
              0.5555555555555556,
              "#d8576b"
             ],
             [
              0.6666666666666666,
              "#ed7953"
             ],
             [
              0.7777777777777778,
              "#fb9f3a"
             ],
             [
              0.8888888888888888,
              "#fdca26"
             ],
             [
              1,
              "#f0f921"
             ]
            ],
            "type": "heatmapgl"
           }
          ],
          "histogram": [
           {
            "marker": {
             "colorbar": {
              "outlinewidth": 0,
              "ticks": ""
             }
            },
            "type": "histogram"
           }
          ],
          "histogram2d": [
           {
            "colorbar": {
             "outlinewidth": 0,
             "ticks": ""
            },
            "colorscale": [
             [
              0,
              "#0d0887"
             ],
             [
              0.1111111111111111,
              "#46039f"
             ],
             [
              0.2222222222222222,
              "#7201a8"
             ],
             [
              0.3333333333333333,
              "#9c179e"
             ],
             [
              0.4444444444444444,
              "#bd3786"
             ],
             [
              0.5555555555555556,
              "#d8576b"
             ],
             [
              0.6666666666666666,
              "#ed7953"
             ],
             [
              0.7777777777777778,
              "#fb9f3a"
             ],
             [
              0.8888888888888888,
              "#fdca26"
             ],
             [
              1,
              "#f0f921"
             ]
            ],
            "type": "histogram2d"
           }
          ],
          "histogram2dcontour": [
           {
            "colorbar": {
             "outlinewidth": 0,
             "ticks": ""
            },
            "colorscale": [
             [
              0,
              "#0d0887"
             ],
             [
              0.1111111111111111,
              "#46039f"
             ],
             [
              0.2222222222222222,
              "#7201a8"
             ],
             [
              0.3333333333333333,
              "#9c179e"
             ],
             [
              0.4444444444444444,
              "#bd3786"
             ],
             [
              0.5555555555555556,
              "#d8576b"
             ],
             [
              0.6666666666666666,
              "#ed7953"
             ],
             [
              0.7777777777777778,
              "#fb9f3a"
             ],
             [
              0.8888888888888888,
              "#fdca26"
             ],
             [
              1,
              "#f0f921"
             ]
            ],
            "type": "histogram2dcontour"
           }
          ],
          "mesh3d": [
           {
            "colorbar": {
             "outlinewidth": 0,
             "ticks": ""
            },
            "type": "mesh3d"
           }
          ],
          "parcoords": [
           {
            "line": {
             "colorbar": {
              "outlinewidth": 0,
              "ticks": ""
             }
            },
            "type": "parcoords"
           }
          ],
          "pie": [
           {
            "automargin": true,
            "type": "pie"
           }
          ],
          "scatter": [
           {
            "marker": {
             "colorbar": {
              "outlinewidth": 0,
              "ticks": ""
             }
            },
            "type": "scatter"
           }
          ],
          "scatter3d": [
           {
            "line": {
             "colorbar": {
              "outlinewidth": 0,
              "ticks": ""
             }
            },
            "marker": {
             "colorbar": {
              "outlinewidth": 0,
              "ticks": ""
             }
            },
            "type": "scatter3d"
           }
          ],
          "scattercarpet": [
           {
            "marker": {
             "colorbar": {
              "outlinewidth": 0,
              "ticks": ""
             }
            },
            "type": "scattercarpet"
           }
          ],
          "scattergeo": [
           {
            "marker": {
             "colorbar": {
              "outlinewidth": 0,
              "ticks": ""
             }
            },
            "type": "scattergeo"
           }
          ],
          "scattergl": [
           {
            "marker": {
             "colorbar": {
              "outlinewidth": 0,
              "ticks": ""
             }
            },
            "type": "scattergl"
           }
          ],
          "scattermapbox": [
           {
            "marker": {
             "colorbar": {
              "outlinewidth": 0,
              "ticks": ""
             }
            },
            "type": "scattermapbox"
           }
          ],
          "scatterpolar": [
           {
            "marker": {
             "colorbar": {
              "outlinewidth": 0,
              "ticks": ""
             }
            },
            "type": "scatterpolar"
           }
          ],
          "scatterpolargl": [
           {
            "marker": {
             "colorbar": {
              "outlinewidth": 0,
              "ticks": ""
             }
            },
            "type": "scatterpolargl"
           }
          ],
          "scatterternary": [
           {
            "marker": {
             "colorbar": {
              "outlinewidth": 0,
              "ticks": ""
             }
            },
            "type": "scatterternary"
           }
          ],
          "surface": [
           {
            "colorbar": {
             "outlinewidth": 0,
             "ticks": ""
            },
            "colorscale": [
             [
              0,
              "#0d0887"
             ],
             [
              0.1111111111111111,
              "#46039f"
             ],
             [
              0.2222222222222222,
              "#7201a8"
             ],
             [
              0.3333333333333333,
              "#9c179e"
             ],
             [
              0.4444444444444444,
              "#bd3786"
             ],
             [
              0.5555555555555556,
              "#d8576b"
             ],
             [
              0.6666666666666666,
              "#ed7953"
             ],
             [
              0.7777777777777778,
              "#fb9f3a"
             ],
             [
              0.8888888888888888,
              "#fdca26"
             ],
             [
              1,
              "#f0f921"
             ]
            ],
            "type": "surface"
           }
          ],
          "table": [
           {
            "cells": {
             "fill": {
              "color": "#EBF0F8"
             },
             "line": {
              "color": "white"
             }
            },
            "header": {
             "fill": {
              "color": "#C8D4E3"
             },
             "line": {
              "color": "white"
             }
            },
            "type": "table"
           }
          ]
         },
         "layout": {
          "annotationdefaults": {
           "arrowcolor": "#2a3f5f",
           "arrowhead": 0,
           "arrowwidth": 1
          },
          "coloraxis": {
           "colorbar": {
            "outlinewidth": 0,
            "ticks": ""
           }
          },
          "colorscale": {
           "diverging": [
            [
             0,
             "#8e0152"
            ],
            [
             0.1,
             "#c51b7d"
            ],
            [
             0.2,
             "#de77ae"
            ],
            [
             0.3,
             "#f1b6da"
            ],
            [
             0.4,
             "#fde0ef"
            ],
            [
             0.5,
             "#f7f7f7"
            ],
            [
             0.6,
             "#e6f5d0"
            ],
            [
             0.7,
             "#b8e186"
            ],
            [
             0.8,
             "#7fbc41"
            ],
            [
             0.9,
             "#4d9221"
            ],
            [
             1,
             "#276419"
            ]
           ],
           "sequential": [
            [
             0,
             "#0d0887"
            ],
            [
             0.1111111111111111,
             "#46039f"
            ],
            [
             0.2222222222222222,
             "#7201a8"
            ],
            [
             0.3333333333333333,
             "#9c179e"
            ],
            [
             0.4444444444444444,
             "#bd3786"
            ],
            [
             0.5555555555555556,
             "#d8576b"
            ],
            [
             0.6666666666666666,
             "#ed7953"
            ],
            [
             0.7777777777777778,
             "#fb9f3a"
            ],
            [
             0.8888888888888888,
             "#fdca26"
            ],
            [
             1,
             "#f0f921"
            ]
           ],
           "sequentialminus": [
            [
             0,
             "#0d0887"
            ],
            [
             0.1111111111111111,
             "#46039f"
            ],
            [
             0.2222222222222222,
             "#7201a8"
            ],
            [
             0.3333333333333333,
             "#9c179e"
            ],
            [
             0.4444444444444444,
             "#bd3786"
            ],
            [
             0.5555555555555556,
             "#d8576b"
            ],
            [
             0.6666666666666666,
             "#ed7953"
            ],
            [
             0.7777777777777778,
             "#fb9f3a"
            ],
            [
             0.8888888888888888,
             "#fdca26"
            ],
            [
             1,
             "#f0f921"
            ]
           ]
          },
          "colorway": [
           "#636efa",
           "#EF553B",
           "#00cc96",
           "#ab63fa",
           "#FFA15A",
           "#19d3f3",
           "#FF6692",
           "#B6E880",
           "#FF97FF",
           "#FECB52"
          ],
          "font": {
           "color": "#2a3f5f"
          },
          "geo": {
           "bgcolor": "white",
           "lakecolor": "white",
           "landcolor": "#E5ECF6",
           "showlakes": true,
           "showland": true,
           "subunitcolor": "white"
          },
          "hoverlabel": {
           "align": "left"
          },
          "hovermode": "closest",
          "mapbox": {
           "style": "light"
          },
          "paper_bgcolor": "white",
          "plot_bgcolor": "#E5ECF6",
          "polar": {
           "angularaxis": {
            "gridcolor": "white",
            "linecolor": "white",
            "ticks": ""
           },
           "bgcolor": "#E5ECF6",
           "radialaxis": {
            "gridcolor": "white",
            "linecolor": "white",
            "ticks": ""
           }
          },
          "scene": {
           "xaxis": {
            "backgroundcolor": "#E5ECF6",
            "gridcolor": "white",
            "gridwidth": 2,
            "linecolor": "white",
            "showbackground": true,
            "ticks": "",
            "zerolinecolor": "white"
           },
           "yaxis": {
            "backgroundcolor": "#E5ECF6",
            "gridcolor": "white",
            "gridwidth": 2,
            "linecolor": "white",
            "showbackground": true,
            "ticks": "",
            "zerolinecolor": "white"
           },
           "zaxis": {
            "backgroundcolor": "#E5ECF6",
            "gridcolor": "white",
            "gridwidth": 2,
            "linecolor": "white",
            "showbackground": true,
            "ticks": "",
            "zerolinecolor": "white"
           }
          },
          "shapedefaults": {
           "line": {
            "color": "#2a3f5f"
           }
          },
          "ternary": {
           "aaxis": {
            "gridcolor": "white",
            "linecolor": "white",
            "ticks": ""
           },
           "baxis": {
            "gridcolor": "white",
            "linecolor": "white",
            "ticks": ""
           },
           "bgcolor": "#E5ECF6",
           "caxis": {
            "gridcolor": "white",
            "linecolor": "white",
            "ticks": ""
           }
          },
          "title": {
           "x": 0.05
          },
          "xaxis": {
           "automargin": true,
           "gridcolor": "white",
           "linecolor": "white",
           "ticks": "",
           "title": {
            "standoff": 15
           },
           "zerolinecolor": "white",
           "zerolinewidth": 2
          },
          "yaxis": {
           "automargin": true,
           "gridcolor": "white",
           "linecolor": "white",
           "ticks": "",
           "title": {
            "standoff": 15
           },
           "zerolinecolor": "white",
           "zerolinewidth": 2
          }
         }
        }
       }
      }
     },
     "metadata": {}
    },
    {
     "output_type": "display_data",
     "data": {
      "application/vnd.plotly.v1+json": {
       "config": {
        "plotlyServerURL": "https://plot.ly"
       },
       "data": [
        {
         "mode": "markers",
         "type": "scatter",
         "x": [
          0.9641957490981389,
          1.0926976384748162,
          0.8497358130343562,
          1.1598331653111085,
          0.8220289391670175,
          0.8047434075379396,
          1.1553640114087556,
          0.6481905079544086,
          1.2225346988506862,
          0.6780858712406904,
          0.8466668727613156,
          0.828901712722111,
          0.9450513253336074,
          0.925943292838548,
          1.3154642419553941,
          1.001729365274684,
          0.7073224525756832,
          0.8578319263137159,
          1.286086418199561,
          1.0488688962170205,
          0.9588868615353858,
          0.7990231744708997,
          0.8149433600279092,
          1.319181390187353,
          1.0462392576811843,
          1.1438922282721133,
          0.9709612879991718,
          1.0610179228108902,
          1.0409556862607192,
          0.9354614933398087,
          1.0581166351150693,
          0.9862449116603997,
          0.6559596041635829,
          0.7104104105618778,
          0.8485310601875511,
          0.7751444464505992,
          1.1799896414284934,
          0.979633319435529,
          0.7995860693339274,
          1.2738778648683482,
          0.9599369138390859,
          0.8702260788755247,
          0.8990155519814438,
          0.938911403994015,
          1.0006926036972956,
          0.7115201521222904,
          1.055178260104055,
          0.9656235672557706,
          0.9479472629872345,
          0.8890032864846105,
          1.3093699578267592,
          0.87037999300522,
          1.03929729296177,
          0.9413831168109879,
          1.1611180111968702,
          0.9268844588347858,
          0.97549761665943,
          1.1377776862392694,
          1.3538256026811504,
          0.6347553609290983,
          0.8762776764150085,
          0.6377069158392517,
          1.057732716375938,
          0.8992784303591995,
          0.9266142723583408,
          0.8298746512146535,
          1.0006645814486246,
          1.3117334211405234,
          0.9307254048728766,
          1.258657293082083,
          1.029657781363445,
          0.6839504929928079,
          1.2617446024952885,
          1.0876093648059348,
          1.1728051429147903,
          0.9268627084383532,
          0.8530096045728001,
          1.1134653661684841,
          0.7084446202732617,
          0.8563215775848343,
          1.0067131596587497,
          1.2278348754819737,
          1.0866939872746824,
          0.7287287286513519,
          1.1070390060568722,
          1.193661083032553,
          0.7843411034864256,
          0.8999042921590098,
          0.8551418278192575,
          1.0470735751117946,
          0.8846873211827112,
          0.9812418684792579,
          1.2525983504275615,
          1.229221036327299,
          0.7729041924219421,
          1.0390781684938029,
          1.3470989816073256,
          0.8511607821813738,
          1.2174622004615998,
          1.0441672361557621
         ],
         "y": [
          0.4384416836459144,
          0.42134143582482586,
          0.4838314098734015,
          0.27625375228602744,
          -0.14437018711286814,
          0.33050261235594947,
          0.16549626843291954,
          0.34323886562653216,
          0.6688146684545819,
          0.508043751841661,
          -0.12969002855517414,
          0.3402641651236303,
          0.035352001153858004,
          0.23774711634940968,
          0.5622232806462899,
          0.17528297301062062,
          0.3994254909955607,
          0.20068006305836877,
          0.3029059066578746,
          0.18225433972990182,
          0.4569521055908765,
          0.10519591143848911,
          0.3169444996488577,
          0.3071056322652474,
          -0.03668793080645749,
          0.5122016935327716,
          0.3631171467798264,
          0.08286860772367774,
          0.4171986040792492,
          0.1854211123681121,
          0.3854066204250351,
          0.34723685255578957,
          0.217709175397436,
          0.09625395752991597,
          0.265210371053309,
          0.32695673833573946,
          0.056924118531453266,
          0.07937919593307316,
          0.18697993708066313,
          0.2318994236092664,
          0.7080769345434965,
          0.34402927321203863,
          0.16832555286046288,
          0.09184694271973595,
          0.11020215526379121,
          0.1088434528703553,
          0.3134367699775695,
          0.18732052012579775,
          0.13624345726268672,
          0.6686265052185392,
          0.009768090325568135,
          0.41579937209967066,
          0.4595142595943788,
          0.43406874665508066,
          0.07540704853112323,
          0.22236067421324757,
          0.22268581104736723,
          0.3593344407035552,
          -0.03046774366387739,
          0.13483515267778864,
          0.181589669452088,
          0.17073166950734808,
          0.12097666778599223,
          -0.07748396065670649,
          -0.0948944263482066,
          0.3370764006776512,
          0.41244034630885845,
          0.13892303527410774,
          0.4840778023982675,
          0.37515741318910656,
          0.30645256710042074,
          0.537307573714765,
          0.3519756863533553,
          0.1300130495726578,
          0.4381796884860044,
          0.18523741057531,
          0.1045182693057965,
          0.12583210147404003,
          0.20228936189322272,
          0.6007044804471617,
          0.11858521144167766,
          0.34113693955643315,
          0.2608186873985951,
          0.23558793013292317,
          0.4346766260395208,
          0.3130452344546892,
          0.2500789735317515,
          0.17658982167010442,
          -0.044346588474914406,
          0.38151180694463066,
          0.1948163436565048,
          0.3240726868797895,
          0.682106668711886,
          0.7525537697700952,
          0.5582757160930076,
          0.5128205622634331,
          0.2041751061353124,
          0.4078556412378951,
          0.5045958886923918,
          0.1693397864521888
         ]
        },
        {
         "mode": "markers",
         "type": "scatter",
         "x": [
          -0.4804362001487695,
          -0.16875498988070325,
          0.40644749911912026,
          0.26648176100386034,
          -0.17599666057957247,
          0.30124071214274517,
          -0.035602529146315995,
          0.28692308984658477,
          -0.11925458972991684,
          -0.45916878835130437,
          0.26919183703943483,
          0.40829148804913246,
          -0.2808116463387565,
          0.18069349965411932,
          0.3035363308889049,
          0.18622578337038634,
          0.2193920430570267,
          0.19220989717475392,
          0.011589863064040242,
          0.6451538634942892,
          -0.24348068831638137,
          -0.13093439227836723,
          -0.4429804520086513,
          -0.17708769105298364,
          0.020291689021184545,
          -0.24415210940080337,
          -0.01458070010067972,
          0.09764017743721376,
          -0.031111481583811485,
          -0.14272836457335009,
          0.11653974882035459,
          -0.1569782577930489,
          0.12458056325843171,
          0.14317478781693208,
          0.11569933487851974,
          -0.2958071180379428,
          -0.1715218434794181,
          -0.08082613519950212,
          0.4595022116122187,
          0.48012633444987896,
          -0.6032671893466208,
          0.22675197185566953,
          0.09626556345588595,
          -0.1872505621799502,
          -0.002421338916689015,
          -0.7368625255251752,
          0.6078645191970554,
          0.5522963740285535,
          0.43274108991734567,
          -0.08635472823225311,
          -0.24107284274908056,
          -0.23444645200291328,
          -0.28403044105864333,
          -0.5929013709119673,
          -0.08036660863784112,
          -0.1906416740797093,
          0.1042138270767719,
          0.1876945651300772,
          -0.1623177738039731,
          0.2770036114926694,
          0.007532044111033549,
          0.1694034233207546,
          -0.16974556165961674,
          0.1438979964201327,
          0.12961278745175248,
          0.08069255604549723,
          -0.14347316935224577,
          -0.049137770244084854,
          0.25158705527990344,
          0.060038645602197405,
          0.6124499576451592,
          0.19513562317652278,
          0.31377391958858125,
          -0.1819398937272401,
          0.15881813307431597,
          0.029313734827059464,
          -0.19647921660331374,
          0.0600999071499569,
          0.26259592522280556,
          0.34332107435644776,
          0.17739677809497686,
          0.03245108095863703,
          -0.413821821679824,
          0.14339749567434185,
          -0.0868592211612224,
          0.08624338317677264,
          -0.4837962949928017,
          0.1524935396125355,
          0.03742893115807777,
          -0.29915257004394097,
          0.022980463869313583,
          -0.10182685987452324,
          -0.3214642224894823,
          0.22609089475477248,
          -0.3186926468442693,
          -0.035733488566255904,
          -0.20119976614056426,
          -0.1075969399064436,
          -0.04393574036662317,
          -0.1240171640338065
         ],
         "y": [
          0.002960314535308886,
          -0.10314802819314879,
          0.01604708390817397,
          0.08100791589859616,
          -0.4278976101865687,
          -0.6104897483152074,
          0.05909597260938532,
          -0.16448877523450073,
          -0.3708966538488345,
          0.17227776383157714,
          0.368638248891795,
          -0.21333521251836868,
          0.047062655911221135,
          -0.3311030713414627,
          -0.0750321811369209,
          -0.1527078040491553,
          -0.139166174187037,
          -0.039744824960715026,
          -0.005840786044814639,
          -0.10671001269162998,
          -0.24777128607888013,
          0.5120292276045826,
          -0.12241774703444877,
          -0.19072000590259083,
          0.0463258695391949,
          0.5128206708030727,
          -0.055788846601155316,
          -0.5842097498220624,
          -0.2952940720356869,
          0.053595666404079756,
          0.3116873325373647,
          0.06957686148188932,
          0.018931712214564245,
          0.28289702767601477,
          -0.4648564082472737,
          -0.34278776720738463,
          -0.040022886976370534,
          -0.506749488652322,
          -0.35376849126200394,
          -0.24823193743373587,
          0.14612091723386558,
          -0.29801324545928576,
          -0.547274466360831,
          -0.34000545830018625,
          -0.01517312230595104,
          0.24151822266363812,
          -0.03524672268358334,
          -0.6083975126490274,
          -0.16516453792380065,
          -0.302738416937553,
          0.043666428952163494,
          0.14114775971013588,
          0.16158553798072803,
          0.009743645836199688,
          0.4169910584883737,
          -0.09543289000990283,
          -0.43008213962755615,
          -0.08449900273624787,
          0.0770492047047775,
          -0.5094586588518013,
          -0.09708739151883473,
          0.4958253237789294,
          -0.2591523436883156,
          0.4970996324726915,
          -0.4208961871586592,
          0.21842092248393305,
          -0.52017589674916,
          -0.26717157189625984,
          0.03330376605979893,
          -0.5595106876223842,
          -0.32407075687881215,
          -0.3500632584373162,
          -0.41420801284636577,
          0.2177437787491249,
          0.06434347498446805,
          -0.15712019430898136,
          -0.128133677694518,
          -0.35399415256304056,
          -0.08153998892028795,
          0.48902533647082813,
          0.01407664311430308,
          -0.08504392376220696,
          0.22243104125202276,
          -0.10059286485803123,
          0.31249531877548564,
          0.2833133022632308,
          0.3020208586679437,
          -0.20288735539367003,
          -0.1616745096134235,
          0.0428632052593802,
          -0.5978302132054273,
          0.4259382842865591,
          -0.18346310644005792,
          -0.04553495649297576,
          0.006663603734116452,
          -0.03807502219581044,
          -0.14379571091093446,
          0.17911022875221813,
          -0.3939841507304701,
          -0.4807089354748886
         ]
        },
        {
         "mode": "markers",
         "type": "scatter",
         "x": [
          -5,
          -4.898989898989899,
          -4.797979797979798,
          -4.696969696969697,
          -4.595959595959596,
          -4.494949494949495,
          -4.393939393939394,
          -4.292929292929293,
          -4.191919191919192,
          -4.090909090909091,
          -3.9898989898989896,
          -3.888888888888889,
          -3.787878787878788,
          -3.686868686868687,
          -3.5858585858585856,
          -3.484848484848485,
          -3.383838383838384,
          -3.282828282828283,
          -3.1818181818181817,
          -3.080808080808081,
          -2.9797979797979797,
          -2.878787878787879,
          -2.7777777777777777,
          -2.676767676767677,
          -2.5757575757575757,
          -2.474747474747475,
          -2.3737373737373737,
          -2.272727272727273,
          -2.1717171717171717,
          -2.070707070707071,
          -1.9696969696969697,
          -1.868686868686869,
          -1.7676767676767677,
          -1.6666666666666665,
          -1.5656565656565657,
          -1.4646464646464645,
          -1.3636363636363638,
          -1.2626262626262625,
          -1.1616161616161618,
          -1.0606060606060606,
          -0.9595959595959593,
          -0.858585858585859,
          -0.7575757575757578,
          -0.6565656565656566,
          -0.5555555555555554,
          -0.45454545454545503,
          -0.3535353535353538,
          -0.2525252525252526,
          -0.15151515151515138,
          -0.050505050505050164,
          0.050505050505050164,
          0.15151515151515138,
          0.2525252525252526,
          0.3535353535353538,
          0.45454545454545414,
          0.5555555555555554,
          0.6565656565656566,
          0.7575757575757578,
          0.8585858585858581,
          0.9595959595959593,
          1.0606060606060606,
          1.1616161616161618,
          1.262626262626262,
          1.3636363636363633,
          1.4646464646464645,
          1.5656565656565657,
          1.666666666666667,
          1.7676767676767673,
          1.8686868686868685,
          1.9696969696969697,
          2.070707070707071,
          2.1717171717171713,
          2.2727272727272725,
          2.3737373737373737,
          2.474747474747475,
          2.5757575757575752,
          2.6767676767676765,
          2.7777777777777777,
          2.878787878787879,
          2.9797979797979792,
          3.0808080808080813,
          3.1818181818181817,
          3.282828282828282,
          3.383838383838384,
          3.4848484848484844,
          3.5858585858585865,
          3.686868686868687,
          3.787878787878787,
          3.8888888888888893,
          3.9898989898989896,
          4.09090909090909,
          4.191919191919192,
          4.292929292929292,
          4.3939393939393945,
          4.494949494949495,
          4.595959595959595,
          4.696969696969697,
          4.797979797979798,
          4.8989898989899,
          5
         ],
         "y": [
          35.897013717715694,
          35.1718215213982,
          34.446629325080714,
          33.72143712876323,
          32.99624493244574,
          32.27105273612825,
          31.545860539810757,
          30.820668343493274,
          30.095476147175784,
          29.370283950858294,
          28.645091754540804,
          27.919899558223317,
          27.19470736190583,
          26.46951516558834,
          25.744322969270847,
          25.019130772953364,
          24.293938576635874,
          23.568746380318387,
          22.843554184000894,
          22.118361987683407,
          21.393169791365917,
          20.66797759504843,
          19.94278539873094,
          19.217593202413454,
          18.492401006095964,
          17.767208809778477,
          17.042016613460984,
          16.316824417143497,
          15.591632220826009,
          14.86644002450852,
          14.141247828191032,
          13.416055631873546,
          12.690863435556054,
          11.965671239238564,
          11.240479042921077,
          10.515286846603585,
          9.790094650286099,
          9.064902453968608,
          8.339710257651122,
          7.614518061333631,
          6.889325865016142,
          6.164133668698658,
          5.438941472381167,
          4.713749276063678,
          3.9885570797461867,
          3.263364883428703,
          2.538172687111213,
          1.8129804907937226,
          1.087788294476232,
          0.36259609815874194,
          -0.36259609815874194,
          -1.087788294476232,
          -1.8129804907937226,
          -2.538172687111213,
          -3.2633648834286966,
          -3.9885570797461867,
          -4.713749276063678,
          -5.438941472381167,
          -6.164133668698651,
          -6.889325865016142,
          -7.614518061333631,
          -8.339710257651122,
          -9.064902453968605,
          -9.790094650286097,
          -10.515286846603585,
          -11.240479042921077,
          -11.965671239238567,
          -12.69086343555605,
          -13.41605563187354,
          -14.141247828191032,
          -14.86644002450852,
          -15.591632220826005,
          -16.316824417143497,
          -17.042016613460984,
          -17.767208809778477,
          -18.49240100609596,
          -19.21759320241345,
          -19.94278539873094,
          -20.66797759504843,
          -21.393169791365917,
          -22.118361987683414,
          -22.843554184000894,
          -23.568746380318377,
          -24.293938576635874,
          -25.01913077295336,
          -25.744322969270858,
          -26.46951516558834,
          -27.19470736190582,
          -27.919899558223317,
          -28.645091754540804,
          -29.370283950858287,
          -30.095476147175784,
          -30.82066834349327,
          -31.545860539810764,
          -32.27105273612825,
          -32.996244932445734,
          -33.72143712876323,
          -34.446629325080714,
          -35.17182152139821,
          -35.897013717715694
         ]
        },
        {
         "mode": "markers",
         "type": "scatter",
         "x": [
          -5,
          -4.898989898989899,
          -4.797979797979798,
          -4.696969696969697,
          -4.595959595959596,
          -4.494949494949495,
          -4.393939393939394,
          -4.292929292929293,
          -4.191919191919192,
          -4.090909090909091,
          -3.9898989898989896,
          -3.888888888888889,
          -3.787878787878788,
          -3.686868686868687,
          -3.5858585858585856,
          -3.484848484848485,
          -3.383838383838384,
          -3.282828282828283,
          -3.1818181818181817,
          -3.080808080808081,
          -2.9797979797979797,
          -2.878787878787879,
          -2.7777777777777777,
          -2.676767676767677,
          -2.5757575757575757,
          -2.474747474747475,
          -2.3737373737373737,
          -2.272727272727273,
          -2.1717171717171717,
          -2.070707070707071,
          -1.9696969696969697,
          -1.868686868686869,
          -1.7676767676767677,
          -1.6666666666666665,
          -1.5656565656565657,
          -1.4646464646464645,
          -1.3636363636363638,
          -1.2626262626262625,
          -1.1616161616161618,
          -1.0606060606060606,
          -0.9595959595959593,
          -0.858585858585859,
          -0.7575757575757578,
          -0.6565656565656566,
          -0.5555555555555554,
          -0.45454545454545503,
          -0.3535353535353538,
          -0.2525252525252526,
          -0.15151515151515138,
          -0.050505050505050164,
          0.050505050505050164,
          0.15151515151515138,
          0.2525252525252526,
          0.3535353535353538,
          0.45454545454545414,
          0.5555555555555554,
          0.6565656565656566,
          0.7575757575757578,
          0.8585858585858581,
          0.9595959595959593,
          1.0606060606060606,
          1.1616161616161618,
          1.262626262626262,
          1.3636363636363633,
          1.4646464646464645,
          1.5656565656565657,
          1.666666666666667,
          1.7676767676767673,
          1.8686868686868685,
          1.9696969696969697,
          2.070707070707071,
          2.1717171717171713,
          2.2727272727272725,
          2.3737373737373737,
          2.474747474747475,
          2.5757575757575752,
          2.6767676767676765,
          2.7777777777777777,
          2.878787878787879,
          2.9797979797979792,
          3.0808080808080813,
          3.1818181818181817,
          3.282828282828282,
          3.383838383838384,
          3.4848484848484844,
          3.5858585858585865,
          3.686868686868687,
          3.787878787878787,
          3.8888888888888893,
          3.9898989898989896,
          4.09090909090909,
          4.191919191919192,
          4.292929292929292,
          4.3939393939393945,
          4.494949494949495,
          4.595959595959595,
          4.696969696969697,
          4.797979797979798,
          4.8989898989899,
          5
         ],
         "y": [
          -18.88628449732856,
          -18.504743396372426,
          -18.12320229541629,
          -17.741661194460164,
          -17.36012009350403,
          -16.978578992547895,
          -16.597037891591764,
          -16.215496790635633,
          -15.833955689679499,
          -15.452414588723366,
          -15.070873487767235,
          -14.689332386811103,
          -14.30779128585497,
          -13.926250184898837,
          -13.544709083942703,
          -13.163167982986574,
          -12.78162688203044,
          -12.400085781074306,
          -12.018544680118174,
          -11.637003579162043,
          -11.255462478205908,
          -10.873921377249777,
          -10.492380276293645,
          -10.110839175337512,
          -9.72929807438138,
          -9.347756973425248,
          -8.966215872469112,
          -8.584674771512983,
          -8.203133670556849,
          -7.821592569600718,
          -7.440051468644585,
          -7.058510367688453,
          -6.6769692667323195,
          -6.295428165776185,
          -5.913887064820054,
          -5.5323459638639205,
          -5.150804862907789,
          -4.769263761951657,
          -4.387722660995524,
          -4.0061815600393915,
          -3.6246404590832584,
          -3.243099358127128,
          -2.8615582571709948,
          -2.480017156214861,
          -2.098476055258728,
          -1.716934954302598,
          -1.3353938533464649,
          -0.9538527523903315,
          -0.5723116514341983,
          -0.19077055047806496,
          0.19077055047806496,
          0.5723116514341983,
          0.9538527523903315,
          1.3353938533464649,
          1.716934954302595,
          2.098476055258728,
          2.480017156214861,
          2.8615582571709948,
          3.2430993581271244,
          3.6246404590832584,
          4.0061815600393915,
          4.387722660995524,
          4.769263761951654,
          5.150804862907788,
          5.5323459638639205,
          5.913887064820054,
          6.295428165776189,
          6.676969266732319,
          7.058510367688451,
          7.440051468644585,
          7.821592569600718,
          8.203133670556849,
          8.58467477151298,
          8.966215872469112,
          9.347756973425248,
          9.729298074381378,
          10.110839175337512,
          10.492380276293645,
          10.873921377249777,
          11.255462478205907,
          11.637003579162045,
          12.018544680118174,
          12.400085781074305,
          12.78162688203044,
          13.163167982986574,
          13.544709083942706,
          13.926250184898837,
          14.307791285854966,
          14.689332386811106,
          15.070873487767235,
          15.452414588723366,
          15.833955689679499,
          16.215496790635626,
          16.597037891591764,
          16.978578992547895,
          17.360120093504026,
          17.741661194460164,
          18.12320229541629,
          18.50474339637243,
          18.88628449732856
         ]
        },
        {
         "mode": "markers",
         "type": "scatter",
         "x": [
          -5,
          -4.898989898989899,
          -4.797979797979798,
          -4.696969696969697,
          -4.595959595959596,
          -4.494949494949495,
          -4.393939393939394,
          -4.292929292929293,
          -4.191919191919192,
          -4.090909090909091,
          -3.9898989898989896,
          -3.888888888888889,
          -3.787878787878788,
          -3.686868686868687,
          -3.5858585858585856,
          -3.484848484848485,
          -3.383838383838384,
          -3.282828282828283,
          -3.1818181818181817,
          -3.080808080808081,
          -2.9797979797979797,
          -2.878787878787879,
          -2.7777777777777777,
          -2.676767676767677,
          -2.5757575757575757,
          -2.474747474747475,
          -2.3737373737373737,
          -2.272727272727273,
          -2.1717171717171717,
          -2.070707070707071,
          -1.9696969696969697,
          -1.868686868686869,
          -1.7676767676767677,
          -1.6666666666666665,
          -1.5656565656565657,
          -1.4646464646464645,
          -1.3636363636363638,
          -1.2626262626262625,
          -1.1616161616161618,
          -1.0606060606060606,
          -0.9595959595959593,
          -0.858585858585859,
          -0.7575757575757578,
          -0.6565656565656566,
          -0.5555555555555554,
          -0.45454545454545503,
          -0.3535353535353538,
          -0.2525252525252526,
          -0.15151515151515138,
          -0.050505050505050164,
          0.050505050505050164,
          0.15151515151515138,
          0.2525252525252526,
          0.3535353535353538,
          0.45454545454545414,
          0.5555555555555554,
          0.6565656565656566,
          0.7575757575757578,
          0.8585858585858581,
          0.9595959595959593,
          1.0606060606060606,
          1.1616161616161618,
          1.262626262626262,
          1.3636363636363633,
          1.4646464646464645,
          1.5656565656565657,
          1.666666666666667,
          1.7676767676767673,
          1.8686868686868685,
          1.9696969696969697,
          2.070707070707071,
          2.1717171717171713,
          2.2727272727272725,
          2.3737373737373737,
          2.474747474747475,
          2.5757575757575752,
          2.6767676767676765,
          2.7777777777777777,
          2.878787878787879,
          2.9797979797979792,
          3.0808080808080813,
          3.1818181818181817,
          3.282828282828282,
          3.383838383838384,
          3.4848484848484844,
          3.5858585858585865,
          3.686868686868687,
          3.787878787878787,
          3.8888888888888893,
          3.9898989898989896,
          4.09090909090909,
          4.191919191919192,
          4.292929292929292,
          4.3939393939393945,
          4.494949494949495,
          4.595959595959595,
          4.696969696969697,
          4.797979797979798,
          4.8989898989899,
          5
         ],
         "y": [
          3.7480149323167073,
          3.6722974589365713,
          3.5965799855564358,
          3.520862512176301,
          3.445145038796165,
          3.3694275654160295,
          3.2937100920358944,
          3.2179926186557593,
          3.1422751452756232,
          3.0665576718954877,
          2.9908401985153517,
          2.915122725135217,
          2.8394052517550814,
          2.763687778374946,
          2.68797030499481,
          2.6122528316146747,
          2.5365353582345396,
          2.4608178848544036,
          2.385100411474268,
          2.309382938094133,
          2.2336654647139973,
          2.1579479913338617,
          2.082230517953726,
          2.006513044573591,
          1.9307955711934552,
          1.85507809781332,
          1.7793606244331843,
          1.7036431510530488,
          1.6279256776729134,
          1.5522082042927778,
          1.4764907309126423,
          1.400773257532507,
          1.3250557841523714,
          1.2493383107722356,
          1.1736208373921004,
          1.0979033640119646,
          1.0221858906318293,
          0.9464684172516937,
          0.8707509438715584,
          0.7950334704914227,
          0.7193159971112871,
          0.643598523731152,
          0.5678810503510164,
          0.4921635769708808,
          0.41644610359074513,
          0.34072863021061006,
          0.26501115683047444,
          0.1892936834503388,
          0.11357621007020315,
          0.03785873669006749,
          -0.03785873669006749,
          -0.11357621007020315,
          -0.1892936834503388,
          -0.26501115683047444,
          -0.34072863021060945,
          -0.41644610359074513,
          -0.4921635769708808,
          -0.5678810503510164,
          -0.6435985237311513,
          -0.7193159971112871,
          -0.7950334704914227,
          -0.8707509438715584,
          -0.9464684172516933,
          -1.022185890631829,
          -1.0979033640119646,
          -1.1736208373921004,
          -1.249338310772236,
          -1.325055784152371,
          -1.4007732575325067,
          -1.4764907309126423,
          -1.5522082042927778,
          -1.6279256776729127,
          -1.7036431510530485,
          -1.7793606244331843,
          -1.85507809781332,
          -1.9307955711934548,
          -2.0065130445735906,
          -2.082230517953726,
          -2.1579479913338617,
          -2.233665464713997,
          -2.3093829380941333,
          -2.385100411474268,
          -2.460817884854403,
          -2.5365353582345396,
          -2.6122528316146747,
          -2.6879703049948107,
          -2.763687778374946,
          -2.839405251755081,
          -2.915122725135217,
          -2.9908401985153517,
          -3.0665576718954872,
          -3.1422751452756232,
          -3.2179926186557584,
          -3.293710092035895,
          -3.3694275654160295,
          -3.4451450387961646,
          -3.520862512176301,
          -3.5965799855564358,
          -3.6722974589365727,
          -3.7480149323167073
         ]
        },
        {
         "mode": "markers",
         "type": "scatter",
         "x": [
          -5,
          -4.898989898989899,
          -4.797979797979798,
          -4.696969696969697,
          -4.595959595959596,
          -4.494949494949495,
          -4.393939393939394,
          -4.292929292929293,
          -4.191919191919192,
          -4.090909090909091,
          -3.9898989898989896,
          -3.888888888888889,
          -3.787878787878788,
          -3.686868686868687,
          -3.5858585858585856,
          -3.484848484848485,
          -3.383838383838384,
          -3.282828282828283,
          -3.1818181818181817,
          -3.080808080808081,
          -2.9797979797979797,
          -2.878787878787879,
          -2.7777777777777777,
          -2.676767676767677,
          -2.5757575757575757,
          -2.474747474747475,
          -2.3737373737373737,
          -2.272727272727273,
          -2.1717171717171717,
          -2.070707070707071,
          -1.9696969696969697,
          -1.868686868686869,
          -1.7676767676767677,
          -1.6666666666666665,
          -1.5656565656565657,
          -1.4646464646464645,
          -1.3636363636363638,
          -1.2626262626262625,
          -1.1616161616161618,
          -1.0606060606060606,
          -0.9595959595959593,
          -0.858585858585859,
          -0.7575757575757578,
          -0.6565656565656566,
          -0.5555555555555554,
          -0.45454545454545503,
          -0.3535353535353538,
          -0.2525252525252526,
          -0.15151515151515138,
          -0.050505050505050164,
          0.050505050505050164,
          0.15151515151515138,
          0.2525252525252526,
          0.3535353535353538,
          0.45454545454545414,
          0.5555555555555554,
          0.6565656565656566,
          0.7575757575757578,
          0.8585858585858581,
          0.9595959595959593,
          1.0606060606060606,
          1.1616161616161618,
          1.262626262626262,
          1.3636363636363633,
          1.4646464646464645,
          1.5656565656565657,
          1.666666666666667,
          1.7676767676767673,
          1.8686868686868685,
          1.9696969696969697,
          2.070707070707071,
          2.1717171717171713,
          2.2727272727272725,
          2.3737373737373737,
          2.474747474747475,
          2.5757575757575752,
          2.6767676767676765,
          2.7777777777777777,
          2.878787878787879,
          2.9797979797979792,
          3.0808080808080813,
          3.1818181818181817,
          3.282828282828282,
          3.383838383838384,
          3.4848484848484844,
          3.5858585858585865,
          3.686868686868687,
          3.787878787878787,
          3.8888888888888893,
          3.9898989898989896,
          4.09090909090909,
          4.191919191919192,
          4.292929292929292,
          4.3939393939393945,
          4.494949494949495,
          4.595959595959595,
          4.696969696969697,
          4.797979797979798,
          4.8989898989899,
          5
         ],
         "y": [
          -8.191861365822744,
          -8.026369217018246,
          -7.860877068213744,
          -7.6953849194092445,
          -7.529892770604745,
          -7.364400621800246,
          -7.198908472995745,
          -7.033416324191246,
          -6.8679241753867455,
          -6.702432026582246,
          -6.536939877777745,
          -6.371447728973246,
          -6.205955580168746,
          -6.0404634313642465,
          -5.874971282559746,
          -5.709479133755246,
          -5.543986984950747,
          -5.3784948361462455,
          -5.2130026873417465,
          -5.047510538537247,
          -4.882018389732747,
          -4.716526240928247,
          -4.551034092123746,
          -4.3855419433192475,
          -4.220049794514748,
          -4.054557645710248,
          -3.889065496905747,
          -3.7235733481012474,
          -3.5580811992967476,
          -3.392589050492248,
          -3.227096901687748,
          -3.061604752883248,
          -2.8961126040787484,
          -2.7306204552742477,
          -2.5651283064697483,
          -2.399636157665248,
          -2.2341440088607487,
          -2.0686518600562485,
          -1.9031597112517489,
          -1.737667562447249,
          -1.5721754136427486,
          -1.4066832648382497,
          -1.2411911160337494,
          -1.0756989672292492,
          -0.9102068184247492,
          -0.7447146696202502,
          -0.57922252081575,
          -0.41373037201124985,
          -0.24823822320674963,
          -0.08274607440224938,
          0.08274607440224938,
          0.24823822320674963,
          0.41373037201124985,
          0.57922252081575,
          0.7447146696202489,
          0.9102068184247492,
          1.0756989672292492,
          1.2411911160337494,
          1.4066832648382483,
          1.5721754136427486,
          1.737667562447249,
          1.9031597112517489,
          2.0686518600562476,
          2.2341440088607483,
          2.399636157665248,
          2.5651283064697483,
          2.730620455274249,
          2.8961126040787475,
          3.0616047528832477,
          3.227096901687748,
          3.392589050492248,
          3.5580811992967467,
          3.7235733481012474,
          3.889065496905747,
          4.054557645710248,
          4.220049794514746,
          4.385541943319247,
          4.551034092123746,
          4.716526240928247,
          4.882018389732746,
          5.047510538537248,
          5.2130026873417465,
          5.3784948361462455,
          5.543986984950747,
          5.709479133755245,
          5.874971282559747,
          6.0404634313642465,
          6.205955580168744,
          6.371447728973246,
          6.536939877777745,
          6.702432026582244,
          6.8679241753867455,
          7.033416324191245,
          7.198908472995745,
          7.364400621800246,
          7.529892770604744,
          7.6953849194092445,
          7.860877068213744,
          8.026369217018246,
          8.191861365822744
         ]
        }
       ],
       "layout": {
        "template": {
         "data": {
          "bar": [
           {
            "error_x": {
             "color": "#2a3f5f"
            },
            "error_y": {
             "color": "#2a3f5f"
            },
            "marker": {
             "line": {
              "color": "#E5ECF6",
              "width": 0.5
             }
            },
            "type": "bar"
           }
          ],
          "barpolar": [
           {
            "marker": {
             "line": {
              "color": "#E5ECF6",
              "width": 0.5
             }
            },
            "type": "barpolar"
           }
          ],
          "carpet": [
           {
            "aaxis": {
             "endlinecolor": "#2a3f5f",
             "gridcolor": "white",
             "linecolor": "white",
             "minorgridcolor": "white",
             "startlinecolor": "#2a3f5f"
            },
            "baxis": {
             "endlinecolor": "#2a3f5f",
             "gridcolor": "white",
             "linecolor": "white",
             "minorgridcolor": "white",
             "startlinecolor": "#2a3f5f"
            },
            "type": "carpet"
           }
          ],
          "choropleth": [
           {
            "colorbar": {
             "outlinewidth": 0,
             "ticks": ""
            },
            "type": "choropleth"
           }
          ],
          "contour": [
           {
            "colorbar": {
             "outlinewidth": 0,
             "ticks": ""
            },
            "colorscale": [
             [
              0,
              "#0d0887"
             ],
             [
              0.1111111111111111,
              "#46039f"
             ],
             [
              0.2222222222222222,
              "#7201a8"
             ],
             [
              0.3333333333333333,
              "#9c179e"
             ],
             [
              0.4444444444444444,
              "#bd3786"
             ],
             [
              0.5555555555555556,
              "#d8576b"
             ],
             [
              0.6666666666666666,
              "#ed7953"
             ],
             [
              0.7777777777777778,
              "#fb9f3a"
             ],
             [
              0.8888888888888888,
              "#fdca26"
             ],
             [
              1,
              "#f0f921"
             ]
            ],
            "type": "contour"
           }
          ],
          "contourcarpet": [
           {
            "colorbar": {
             "outlinewidth": 0,
             "ticks": ""
            },
            "type": "contourcarpet"
           }
          ],
          "heatmap": [
           {
            "colorbar": {
             "outlinewidth": 0,
             "ticks": ""
            },
            "colorscale": [
             [
              0,
              "#0d0887"
             ],
             [
              0.1111111111111111,
              "#46039f"
             ],
             [
              0.2222222222222222,
              "#7201a8"
             ],
             [
              0.3333333333333333,
              "#9c179e"
             ],
             [
              0.4444444444444444,
              "#bd3786"
             ],
             [
              0.5555555555555556,
              "#d8576b"
             ],
             [
              0.6666666666666666,
              "#ed7953"
             ],
             [
              0.7777777777777778,
              "#fb9f3a"
             ],
             [
              0.8888888888888888,
              "#fdca26"
             ],
             [
              1,
              "#f0f921"
             ]
            ],
            "type": "heatmap"
           }
          ],
          "heatmapgl": [
           {
            "colorbar": {
             "outlinewidth": 0,
             "ticks": ""
            },
            "colorscale": [
             [
              0,
              "#0d0887"
             ],
             [
              0.1111111111111111,
              "#46039f"
             ],
             [
              0.2222222222222222,
              "#7201a8"
             ],
             [
              0.3333333333333333,
              "#9c179e"
             ],
             [
              0.4444444444444444,
              "#bd3786"
             ],
             [
              0.5555555555555556,
              "#d8576b"
             ],
             [
              0.6666666666666666,
              "#ed7953"
             ],
             [
              0.7777777777777778,
              "#fb9f3a"
             ],
             [
              0.8888888888888888,
              "#fdca26"
             ],
             [
              1,
              "#f0f921"
             ]
            ],
            "type": "heatmapgl"
           }
          ],
          "histogram": [
           {
            "marker": {
             "colorbar": {
              "outlinewidth": 0,
              "ticks": ""
             }
            },
            "type": "histogram"
           }
          ],
          "histogram2d": [
           {
            "colorbar": {
             "outlinewidth": 0,
             "ticks": ""
            },
            "colorscale": [
             [
              0,
              "#0d0887"
             ],
             [
              0.1111111111111111,
              "#46039f"
             ],
             [
              0.2222222222222222,
              "#7201a8"
             ],
             [
              0.3333333333333333,
              "#9c179e"
             ],
             [
              0.4444444444444444,
              "#bd3786"
             ],
             [
              0.5555555555555556,
              "#d8576b"
             ],
             [
              0.6666666666666666,
              "#ed7953"
             ],
             [
              0.7777777777777778,
              "#fb9f3a"
             ],
             [
              0.8888888888888888,
              "#fdca26"
             ],
             [
              1,
              "#f0f921"
             ]
            ],
            "type": "histogram2d"
           }
          ],
          "histogram2dcontour": [
           {
            "colorbar": {
             "outlinewidth": 0,
             "ticks": ""
            },
            "colorscale": [
             [
              0,
              "#0d0887"
             ],
             [
              0.1111111111111111,
              "#46039f"
             ],
             [
              0.2222222222222222,
              "#7201a8"
             ],
             [
              0.3333333333333333,
              "#9c179e"
             ],
             [
              0.4444444444444444,
              "#bd3786"
             ],
             [
              0.5555555555555556,
              "#d8576b"
             ],
             [
              0.6666666666666666,
              "#ed7953"
             ],
             [
              0.7777777777777778,
              "#fb9f3a"
             ],
             [
              0.8888888888888888,
              "#fdca26"
             ],
             [
              1,
              "#f0f921"
             ]
            ],
            "type": "histogram2dcontour"
           }
          ],
          "mesh3d": [
           {
            "colorbar": {
             "outlinewidth": 0,
             "ticks": ""
            },
            "type": "mesh3d"
           }
          ],
          "parcoords": [
           {
            "line": {
             "colorbar": {
              "outlinewidth": 0,
              "ticks": ""
             }
            },
            "type": "parcoords"
           }
          ],
          "pie": [
           {
            "automargin": true,
            "type": "pie"
           }
          ],
          "scatter": [
           {
            "marker": {
             "colorbar": {
              "outlinewidth": 0,
              "ticks": ""
             }
            },
            "type": "scatter"
           }
          ],
          "scatter3d": [
           {
            "line": {
             "colorbar": {
              "outlinewidth": 0,
              "ticks": ""
             }
            },
            "marker": {
             "colorbar": {
              "outlinewidth": 0,
              "ticks": ""
             }
            },
            "type": "scatter3d"
           }
          ],
          "scattercarpet": [
           {
            "marker": {
             "colorbar": {
              "outlinewidth": 0,
              "ticks": ""
             }
            },
            "type": "scattercarpet"
           }
          ],
          "scattergeo": [
           {
            "marker": {
             "colorbar": {
              "outlinewidth": 0,
              "ticks": ""
             }
            },
            "type": "scattergeo"
           }
          ],
          "scattergl": [
           {
            "marker": {
             "colorbar": {
              "outlinewidth": 0,
              "ticks": ""
             }
            },
            "type": "scattergl"
           }
          ],
          "scattermapbox": [
           {
            "marker": {
             "colorbar": {
              "outlinewidth": 0,
              "ticks": ""
             }
            },
            "type": "scattermapbox"
           }
          ],
          "scatterpolar": [
           {
            "marker": {
             "colorbar": {
              "outlinewidth": 0,
              "ticks": ""
             }
            },
            "type": "scatterpolar"
           }
          ],
          "scatterpolargl": [
           {
            "marker": {
             "colorbar": {
              "outlinewidth": 0,
              "ticks": ""
             }
            },
            "type": "scatterpolargl"
           }
          ],
          "scatterternary": [
           {
            "marker": {
             "colorbar": {
              "outlinewidth": 0,
              "ticks": ""
             }
            },
            "type": "scatterternary"
           }
          ],
          "surface": [
           {
            "colorbar": {
             "outlinewidth": 0,
             "ticks": ""
            },
            "colorscale": [
             [
              0,
              "#0d0887"
             ],
             [
              0.1111111111111111,
              "#46039f"
             ],
             [
              0.2222222222222222,
              "#7201a8"
             ],
             [
              0.3333333333333333,
              "#9c179e"
             ],
             [
              0.4444444444444444,
              "#bd3786"
             ],
             [
              0.5555555555555556,
              "#d8576b"
             ],
             [
              0.6666666666666666,
              "#ed7953"
             ],
             [
              0.7777777777777778,
              "#fb9f3a"
             ],
             [
              0.8888888888888888,
              "#fdca26"
             ],
             [
              1,
              "#f0f921"
             ]
            ],
            "type": "surface"
           }
          ],
          "table": [
           {
            "cells": {
             "fill": {
              "color": "#EBF0F8"
             },
             "line": {
              "color": "white"
             }
            },
            "header": {
             "fill": {
              "color": "#C8D4E3"
             },
             "line": {
              "color": "white"
             }
            },
            "type": "table"
           }
          ]
         },
         "layout": {
          "annotationdefaults": {
           "arrowcolor": "#2a3f5f",
           "arrowhead": 0,
           "arrowwidth": 1
          },
          "coloraxis": {
           "colorbar": {
            "outlinewidth": 0,
            "ticks": ""
           }
          },
          "colorscale": {
           "diverging": [
            [
             0,
             "#8e0152"
            ],
            [
             0.1,
             "#c51b7d"
            ],
            [
             0.2,
             "#de77ae"
            ],
            [
             0.3,
             "#f1b6da"
            ],
            [
             0.4,
             "#fde0ef"
            ],
            [
             0.5,
             "#f7f7f7"
            ],
            [
             0.6,
             "#e6f5d0"
            ],
            [
             0.7,
             "#b8e186"
            ],
            [
             0.8,
             "#7fbc41"
            ],
            [
             0.9,
             "#4d9221"
            ],
            [
             1,
             "#276419"
            ]
           ],
           "sequential": [
            [
             0,
             "#0d0887"
            ],
            [
             0.1111111111111111,
             "#46039f"
            ],
            [
             0.2222222222222222,
             "#7201a8"
            ],
            [
             0.3333333333333333,
             "#9c179e"
            ],
            [
             0.4444444444444444,
             "#bd3786"
            ],
            [
             0.5555555555555556,
             "#d8576b"
            ],
            [
             0.6666666666666666,
             "#ed7953"
            ],
            [
             0.7777777777777778,
             "#fb9f3a"
            ],
            [
             0.8888888888888888,
             "#fdca26"
            ],
            [
             1,
             "#f0f921"
            ]
           ],
           "sequentialminus": [
            [
             0,
             "#0d0887"
            ],
            [
             0.1111111111111111,
             "#46039f"
            ],
            [
             0.2222222222222222,
             "#7201a8"
            ],
            [
             0.3333333333333333,
             "#9c179e"
            ],
            [
             0.4444444444444444,
             "#bd3786"
            ],
            [
             0.5555555555555556,
             "#d8576b"
            ],
            [
             0.6666666666666666,
             "#ed7953"
            ],
            [
             0.7777777777777778,
             "#fb9f3a"
            ],
            [
             0.8888888888888888,
             "#fdca26"
            ],
            [
             1,
             "#f0f921"
            ]
           ]
          },
          "colorway": [
           "#636efa",
           "#EF553B",
           "#00cc96",
           "#ab63fa",
           "#FFA15A",
           "#19d3f3",
           "#FF6692",
           "#B6E880",
           "#FF97FF",
           "#FECB52"
          ],
          "font": {
           "color": "#2a3f5f"
          },
          "geo": {
           "bgcolor": "white",
           "lakecolor": "white",
           "landcolor": "#E5ECF6",
           "showlakes": true,
           "showland": true,
           "subunitcolor": "white"
          },
          "hoverlabel": {
           "align": "left"
          },
          "hovermode": "closest",
          "mapbox": {
           "style": "light"
          },
          "paper_bgcolor": "white",
          "plot_bgcolor": "#E5ECF6",
          "polar": {
           "angularaxis": {
            "gridcolor": "white",
            "linecolor": "white",
            "ticks": ""
           },
           "bgcolor": "#E5ECF6",
           "radialaxis": {
            "gridcolor": "white",
            "linecolor": "white",
            "ticks": ""
           }
          },
          "scene": {
           "xaxis": {
            "backgroundcolor": "#E5ECF6",
            "gridcolor": "white",
            "gridwidth": 2,
            "linecolor": "white",
            "showbackground": true,
            "ticks": "",
            "zerolinecolor": "white"
           },
           "yaxis": {
            "backgroundcolor": "#E5ECF6",
            "gridcolor": "white",
            "gridwidth": 2,
            "linecolor": "white",
            "showbackground": true,
            "ticks": "",
            "zerolinecolor": "white"
           },
           "zaxis": {
            "backgroundcolor": "#E5ECF6",
            "gridcolor": "white",
            "gridwidth": 2,
            "linecolor": "white",
            "showbackground": true,
            "ticks": "",
            "zerolinecolor": "white"
           }
          },
          "shapedefaults": {
           "line": {
            "color": "#2a3f5f"
           }
          },
          "ternary": {
           "aaxis": {
            "gridcolor": "white",
            "linecolor": "white",
            "ticks": ""
           },
           "baxis": {
            "gridcolor": "white",
            "linecolor": "white",
            "ticks": ""
           },
           "bgcolor": "#E5ECF6",
           "caxis": {
            "gridcolor": "white",
            "linecolor": "white",
            "ticks": ""
           }
          },
          "title": {
           "x": 0.05
          },
          "xaxis": {
           "automargin": true,
           "gridcolor": "white",
           "linecolor": "white",
           "ticks": "",
           "title": {
            "standoff": 15
           },
           "zerolinecolor": "white",
           "zerolinewidth": 2
          },
          "yaxis": {
           "automargin": true,
           "gridcolor": "white",
           "linecolor": "white",
           "ticks": "",
           "title": {
            "standoff": 15
           },
           "zerolinecolor": "white",
           "zerolinewidth": 2
          }
         }
        }
       }
      }
     },
     "metadata": {}
    }
   ],
   "source": [
    "w = np.random.uniform(0,1,(2,1))\n",
    "epoch = 50\n",
    "eta = 1e-4\n",
    "\n",
    "mae_delta = delta_learning(features, targets, w, epoch, eta)\n",
    "plot_boundary(fig, w.T)\n",
    "mae_fig = go.Figure()\n",
    "mae_fig.add_trace(go.Scatter(x=np.arange(len(mae_delta)), y=mae_delta, name=\"Delta\"))\n",
    "\n",
    "model, mae_per = perceptron_learning(features, targets, 10, epoch, eta)\n",
    "plot_boundary(fig, model.W)\n",
    "mae_fig.add_trace(go.Scatter(x=np.arange(len(mae_per)), y=mae_per, name=\"Perceptron\"))\n",
    "mae_fig.show()\n",
    "fig.show()"
   ]
  },
  {
   "cell_type": "code",
   "execution_count": 214,
   "metadata": {
    "tags": []
   },
   "outputs": [
    {
     "output_type": "display_data",
     "data": {
      "application/vnd.plotly.v1+json": {
       "config": {
        "plotlyServerURL": "https://plot.ly"
       },
       "data": [
        {
         "mode": "markers",
         "type": "scatter",
         "x": [
          1.03177792345853,
          0.8413322662647593,
          1.1091629834027423,
          0.5079128531842934,
          0.8229102192147582,
          1.1455972369939238,
          0.9820619427310658,
          0.778259239227957,
          1.0042904472425505,
          1.1023598785724074,
          0.9438231031963606,
          1.2900636681296453,
          1.198449679667458,
          1.0856810939383184,
          0.9169137597879199,
          1.0495991907141722,
          1.1615846752489525,
          1.1149183078665164,
          1.0879509042330198,
          1.093454503455609,
          1.350065641209108,
          0.8931259621776,
          0.9256579211341729,
          0.7803612394699654,
          1.2293390133701783,
          1.073016257721962,
          1.006050764598504,
          0.9041048456980948,
          0.6885594690447805,
          0.8777119994765403,
          1.1429226197343734,
          1.0235650128250313,
          1.2842048974373808,
          1.0317831985402774,
          1.1496924387017438,
          1.1117300798994676,
          0.7372933176435198,
          1.303693354042484,
          0.9769091955986049,
          1.1323639378402544,
          1.0725309601274542,
          1.076765136330408,
          0.8905545932858859,
          1.1672680029644071,
          0.9633556900773015,
          0.7750620221036824,
          1.3248857977019655,
          1.2180924652119813,
          0.90190612143125,
          1.005312733318932,
          1.0614306300640084,
          0.9855945516553026,
          1.1470452339595922,
          0.9208553477825481,
          0.9166431043551942,
          1.2625558048828043,
          1.1426413264863815,
          1.055138533941214,
          0.8940337239998286,
          1.0335798220465604,
          0.8410203988449401,
          0.9457758241377107,
          1.1878463076585135,
          1.1433714264768058,
          1.0215065909953482,
          1.045423655128899,
          0.9388812244563585,
          0.8523827743959693,
          0.666110912213379,
          1.1311875601914976,
          0.8825649709398317,
          1.0912410297486737,
          1.1358720114207697,
          1.3540387382354009,
          1.0746872098037634,
          0.9166405607089357,
          0.9817637104451029,
          1.159014126021877,
          0.9745973352795866,
          0.8681196950877016,
          0.8653194676649353,
          1.2307639027129755,
          1.0058318914505764,
          0.9149361140923344,
          1.3624321622308164,
          0.9429577995498539,
          1.0390030334773175,
          0.8796526309161709,
          1.1201710210000528,
          0.9466572490582607,
          0.9610447453698572,
          1.515529177600308,
          0.9619592990333403,
          0.83169643186245,
          1.2032169917992972,
          0.6783704585669341,
          0.8403850821992604,
          0.8252942492116893,
          1.2285206252861613,
          1.1081555367821894
         ],
         "y": [
          0.6564015878402056,
          0.4028084221792949,
          0.04900013013622484,
          0.17069530901770819,
          0.07500519760141494,
          0.1286669302699683,
          0.3302399718850146,
          0.04266480487536367,
          0.02467815621515751,
          0.5557053165686595,
          0.4784870609489241,
          0.19259187765125463,
          0.5381880959633555,
          0.13096165478825803,
          0.3808738991736963,
          0.5014032162829065,
          0.4645704331463747,
          0.6184140738450141,
          0.289831988993425,
          0.10006727580647626,
          0.3486154608000749,
          0.19005524707359683,
          0.3019202279490377,
          -0.039935929203271214,
          0.5248589476108592,
          0.23534187323437397,
          0.15360548964811355,
          0.7634037018177351,
          0.4029665767925764,
          0.4749287175541324,
          0.18008976622086031,
          0.7721614615383661,
          0.16497178267341026,
          0.19453562368682778,
          0.4486857604695319,
          0.2660265512059743,
          0.1053477731753423,
          0.101674187984404,
          0.17678419984423113,
          0.27426767455889134,
          0.5279719697647501,
          0.4161120311217711,
          0.20024666263745491,
          0.5014906168696944,
          0.034153031006942336,
          0.16056641981852002,
          0.3194161087655581,
          0.4407300957573819,
          0.023727837553780717,
          0.5385309218894209,
          0.23014756036559475,
          0.4159254655379537,
          0.23573628985078277,
          0.26158731362354537,
          0.28790234576778734,
          0.33436567306220705,
          0.30153354296833534,
          0.06271165560167177,
          0.5853658265153906,
          0.19505983307362554,
          0.04734592182493119,
          0.008710834230494235,
          0.4612901729465556,
          0.21471663713680494,
          0.28862175710952914,
          0.5145001121200522,
          0.5735169027466234,
          0.06841414343112989,
          0.612243061517604,
          0.4212080593063263,
          0.5688866435044172,
          0.10236946203056602,
          0.46464986052540436,
          0.20912235280350255,
          0.6681006641121727,
          0.1877870462733408,
          0.12627999227385117,
          0.5074643104356281,
          0.3593246459920932,
          0.4493154014353223,
          0.26284053903508936,
          0.2778946116734259,
          0.29079851879829227,
          -0.15619704228822573,
          0.0999662922105515,
          0.2270604271386376,
          0.13646082686569622,
          0.7067214992620448,
          0.008819031591631665,
          0.4381155225620763,
          0.09065559838829013,
          0.41504404678586443,
          0.011802235248069948,
          0.4613185903675978,
          0.40782804791001465,
          0.17583565027830542,
          0.7004759191065875,
          0.23326612331390245,
          0.2507167924595435,
          0.49334769215974805
         ]
        },
        {
         "mode": "markers",
         "type": "scatter",
         "x": [
          -0.28904411028989646,
          0.1637032079979594,
          -0.27577900707012176,
          0.6798935982002211,
          0.12543472499240602,
          0.1511550121427275,
          0.20751121089497523,
          -0.08374083451777904,
          -0.08855917901180783,
          0.060426672380469844,
          -0.40323863001761673,
          0.09864737568481455,
          -0.21426966141207648,
          -0.07863497365110794,
          0.06440322403504438,
          -0.035952581242476585,
          -0.32913608006523887,
          -0.0948908744211107,
          -0.3566079568965111,
          0.040821475757027166,
          0.3110904037328982,
          -0.15717420018203554,
          -0.5464642359575068,
          0.18457196804827677,
          0.18394036482374795,
          -0.09871107804612443,
          -0.034484672190505154,
          -0.28557065267415227,
          -0.07586293741426853,
          -0.23129663347979043,
          0.05057645818920221,
          0.3650859959023865,
          -0.1473198762417704,
          0.03376529016045589,
          -0.002390624400868116,
          -0.3174626547575385,
          0.14445461820111713,
          -0.03575977390973093,
          0.34689353979006643,
          -0.12683361056126186,
          0.22196996137788874,
          -0.4225862901983914,
          -0.032342110811367245,
          0.11475466966070394,
          -0.42070683566628725,
          -0.3477893144319602,
          -0.13492900985675585,
          -0.06984758920400572,
          -0.2689333135465785,
          0.3436498350236547,
          0.17781994712651603,
          -0.18957978236581827,
          -0.42563073639246424,
          0.2625916340576669,
          -0.12529291173707804,
          0.0020768397677506946,
          -0.19303519242362724,
          0.18816435184987662,
          -0.07048700346220155,
          0.5360872472018936,
          0.026398154068843074,
          -0.049884386594529165,
          0.6902637887467235,
          0.2752794327295356,
          -0.12640630247701107,
          0.07262363593760227,
          0.0003400711293390578,
          0.2527155819964333,
          -0.16087279468858745,
          0.04146452701536779,
          0.04358098055584498,
          0.19587252735794797,
          0.4676306538318554,
          -0.48741406040811186,
          0.2247768744127138,
          0.33203104345855394,
          -0.1723459366670245,
          0.6717376515681391,
          -0.26343949369804565,
          0.2665929103774139,
          -0.4882530445038173,
          -0.00726066541153555,
          0.08700363682549436,
          -0.20873593606174054,
          0.04688757796329062,
          -0.03841452219289201,
          0.3264255988463853,
          0.5574934146054288,
          -0.008711148787874302,
          0.3147177426861954,
          -0.059833361484459766,
          -0.2734373914802979,
          -0.1397925743957992,
          -0.23043218806940105,
          -0.11754842873872155,
          -0.1798237040568637,
          -0.25030980192752544,
          0.18548382456219967,
          0.06361429082283121,
          -0.46378653214303794
         ],
         "y": [
          -0.5479788599340789,
          -0.03578369844497134,
          -0.12408248378093932,
          -0.16996015231584993,
          -0.07633917875757774,
          0.11538947139822023,
          0.1431924583118004,
          0.0021768824745144327,
          -0.020114515922530538,
          0.11720151777320198,
          -0.3825083372133291,
          0.17076536753047436,
          -0.2954792922130096,
          -0.255154622947188,
          -0.010974930424981086,
          0.1948225345087645,
          0.20379798572630273,
          -0.4304125517378703,
          -0.5715076173515926,
          -0.060115145827687656,
          0.5023329609728573,
          -0.48273034564389194,
          0.37181453448545876,
          -0.18521845565871292,
          -0.1622364702686343,
          0.0475125761126064,
          -0.14518967545192604,
          0.47668279017356774,
          -0.10940497241088624,
          0.3988374344726475,
          -0.031041573142302867,
          -0.4320616819650577,
          0.17709429925548917,
          -0.001162067372999176,
          -0.004499833774958675,
          0.11827795627731957,
          0.2659537898079182,
          0.00870014331607652,
          -0.038435343691346435,
          -0.22114559294950964,
          0.22821478906186102,
          -0.09722091071752934,
          -0.5516841933655494,
          -0.7726268233473561,
          -0.7280933614321896,
          -0.25907536915790125,
          -0.29244209597628446,
          -0.2564039539661499,
          -0.25007642551679354,
          -0.24083180323378653,
          0.14318972114777184,
          -0.3952560903913511,
          0.10613687855481246,
          0.6120687619435428,
          0.31812360528028205,
          -0.24916798742192683,
          -0.42699155895044294,
          0.007969902317018052,
          0.16592666673472847,
          -0.12215492553925862,
          -0.19246059071511074,
          -0.2601724454125163,
          -0.26642068630635035,
          -0.21635720016218693,
          -0.20259247940628222,
          -0.1800279928603321,
          -0.5768962922142563,
          -0.3211756012066681,
          -0.2420258967567655,
          -0.35931488381976395,
          -0.12467933708457207,
          0.4086694454038544,
          -0.24827762808271528,
          -0.07261209649930292,
          0.2150358398172084,
          -0.06991361840244961,
          0.30276534697620394,
          0.20127376593307142,
          0.20000059961925923,
          0.22518899339029483,
          -0.15976300553722916,
          -0.12471072787316581,
          0.0005835469448155772,
          -0.12049618846454033,
          -0.2480694424847663,
          0.19553274354189945,
          -0.5165592457122947,
          -0.0577945098817302,
          -0.32811959058080353,
          0.09697384154639521,
          -0.20953988863171108,
          -0.10617762026838941,
          0.03143478630122487,
          -0.003103823443529899,
          -0.1597856787369354,
          -0.3333940247149076,
          -0.5101545253009337,
          -0.4509530627518046,
          -0.5118619394871812,
          -0.013236872803833857
         ]
        }
       ],
       "layout": {
        "template": {
         "data": {
          "bar": [
           {
            "error_x": {
             "color": "#2a3f5f"
            },
            "error_y": {
             "color": "#2a3f5f"
            },
            "marker": {
             "line": {
              "color": "#E5ECF6",
              "width": 0.5
             }
            },
            "type": "bar"
           }
          ],
          "barpolar": [
           {
            "marker": {
             "line": {
              "color": "#E5ECF6",
              "width": 0.5
             }
            },
            "type": "barpolar"
           }
          ],
          "carpet": [
           {
            "aaxis": {
             "endlinecolor": "#2a3f5f",
             "gridcolor": "white",
             "linecolor": "white",
             "minorgridcolor": "white",
             "startlinecolor": "#2a3f5f"
            },
            "baxis": {
             "endlinecolor": "#2a3f5f",
             "gridcolor": "white",
             "linecolor": "white",
             "minorgridcolor": "white",
             "startlinecolor": "#2a3f5f"
            },
            "type": "carpet"
           }
          ],
          "choropleth": [
           {
            "colorbar": {
             "outlinewidth": 0,
             "ticks": ""
            },
            "type": "choropleth"
           }
          ],
          "contour": [
           {
            "colorbar": {
             "outlinewidth": 0,
             "ticks": ""
            },
            "colorscale": [
             [
              0,
              "#0d0887"
             ],
             [
              0.1111111111111111,
              "#46039f"
             ],
             [
              0.2222222222222222,
              "#7201a8"
             ],
             [
              0.3333333333333333,
              "#9c179e"
             ],
             [
              0.4444444444444444,
              "#bd3786"
             ],
             [
              0.5555555555555556,
              "#d8576b"
             ],
             [
              0.6666666666666666,
              "#ed7953"
             ],
             [
              0.7777777777777778,
              "#fb9f3a"
             ],
             [
              0.8888888888888888,
              "#fdca26"
             ],
             [
              1,
              "#f0f921"
             ]
            ],
            "type": "contour"
           }
          ],
          "contourcarpet": [
           {
            "colorbar": {
             "outlinewidth": 0,
             "ticks": ""
            },
            "type": "contourcarpet"
           }
          ],
          "heatmap": [
           {
            "colorbar": {
             "outlinewidth": 0,
             "ticks": ""
            },
            "colorscale": [
             [
              0,
              "#0d0887"
             ],
             [
              0.1111111111111111,
              "#46039f"
             ],
             [
              0.2222222222222222,
              "#7201a8"
             ],
             [
              0.3333333333333333,
              "#9c179e"
             ],
             [
              0.4444444444444444,
              "#bd3786"
             ],
             [
              0.5555555555555556,
              "#d8576b"
             ],
             [
              0.6666666666666666,
              "#ed7953"
             ],
             [
              0.7777777777777778,
              "#fb9f3a"
             ],
             [
              0.8888888888888888,
              "#fdca26"
             ],
             [
              1,
              "#f0f921"
             ]
            ],
            "type": "heatmap"
           }
          ],
          "heatmapgl": [
           {
            "colorbar": {
             "outlinewidth": 0,
             "ticks": ""
            },
            "colorscale": [
             [
              0,
              "#0d0887"
             ],
             [
              0.1111111111111111,
              "#46039f"
             ],
             [
              0.2222222222222222,
              "#7201a8"
             ],
             [
              0.3333333333333333,
              "#9c179e"
             ],
             [
              0.4444444444444444,
              "#bd3786"
             ],
             [
              0.5555555555555556,
              "#d8576b"
             ],
             [
              0.6666666666666666,
              "#ed7953"
             ],
             [
              0.7777777777777778,
              "#fb9f3a"
             ],
             [
              0.8888888888888888,
              "#fdca26"
             ],
             [
              1,
              "#f0f921"
             ]
            ],
            "type": "heatmapgl"
           }
          ],
          "histogram": [
           {
            "marker": {
             "colorbar": {
              "outlinewidth": 0,
              "ticks": ""
             }
            },
            "type": "histogram"
           }
          ],
          "histogram2d": [
           {
            "colorbar": {
             "outlinewidth": 0,
             "ticks": ""
            },
            "colorscale": [
             [
              0,
              "#0d0887"
             ],
             [
              0.1111111111111111,
              "#46039f"
             ],
             [
              0.2222222222222222,
              "#7201a8"
             ],
             [
              0.3333333333333333,
              "#9c179e"
             ],
             [
              0.4444444444444444,
              "#bd3786"
             ],
             [
              0.5555555555555556,
              "#d8576b"
             ],
             [
              0.6666666666666666,
              "#ed7953"
             ],
             [
              0.7777777777777778,
              "#fb9f3a"
             ],
             [
              0.8888888888888888,
              "#fdca26"
             ],
             [
              1,
              "#f0f921"
             ]
            ],
            "type": "histogram2d"
           }
          ],
          "histogram2dcontour": [
           {
            "colorbar": {
             "outlinewidth": 0,
             "ticks": ""
            },
            "colorscale": [
             [
              0,
              "#0d0887"
             ],
             [
              0.1111111111111111,
              "#46039f"
             ],
             [
              0.2222222222222222,
              "#7201a8"
             ],
             [
              0.3333333333333333,
              "#9c179e"
             ],
             [
              0.4444444444444444,
              "#bd3786"
             ],
             [
              0.5555555555555556,
              "#d8576b"
             ],
             [
              0.6666666666666666,
              "#ed7953"
             ],
             [
              0.7777777777777778,
              "#fb9f3a"
             ],
             [
              0.8888888888888888,
              "#fdca26"
             ],
             [
              1,
              "#f0f921"
             ]
            ],
            "type": "histogram2dcontour"
           }
          ],
          "mesh3d": [
           {
            "colorbar": {
             "outlinewidth": 0,
             "ticks": ""
            },
            "type": "mesh3d"
           }
          ],
          "parcoords": [
           {
            "line": {
             "colorbar": {
              "outlinewidth": 0,
              "ticks": ""
             }
            },
            "type": "parcoords"
           }
          ],
          "pie": [
           {
            "automargin": true,
            "type": "pie"
           }
          ],
          "scatter": [
           {
            "marker": {
             "colorbar": {
              "outlinewidth": 0,
              "ticks": ""
             }
            },
            "type": "scatter"
           }
          ],
          "scatter3d": [
           {
            "line": {
             "colorbar": {
              "outlinewidth": 0,
              "ticks": ""
             }
            },
            "marker": {
             "colorbar": {
              "outlinewidth": 0,
              "ticks": ""
             }
            },
            "type": "scatter3d"
           }
          ],
          "scattercarpet": [
           {
            "marker": {
             "colorbar": {
              "outlinewidth": 0,
              "ticks": ""
             }
            },
            "type": "scattercarpet"
           }
          ],
          "scattergeo": [
           {
            "marker": {
             "colorbar": {
              "outlinewidth": 0,
              "ticks": ""
             }
            },
            "type": "scattergeo"
           }
          ],
          "scattergl": [
           {
            "marker": {
             "colorbar": {
              "outlinewidth": 0,
              "ticks": ""
             }
            },
            "type": "scattergl"
           }
          ],
          "scattermapbox": [
           {
            "marker": {
             "colorbar": {
              "outlinewidth": 0,
              "ticks": ""
             }
            },
            "type": "scattermapbox"
           }
          ],
          "scatterpolar": [
           {
            "marker": {
             "colorbar": {
              "outlinewidth": 0,
              "ticks": ""
             }
            },
            "type": "scatterpolar"
           }
          ],
          "scatterpolargl": [
           {
            "marker": {
             "colorbar": {
              "outlinewidth": 0,
              "ticks": ""
             }
            },
            "type": "scatterpolargl"
           }
          ],
          "scatterternary": [
           {
            "marker": {
             "colorbar": {
              "outlinewidth": 0,
              "ticks": ""
             }
            },
            "type": "scatterternary"
           }
          ],
          "surface": [
           {
            "colorbar": {
             "outlinewidth": 0,
             "ticks": ""
            },
            "colorscale": [
             [
              0,
              "#0d0887"
             ],
             [
              0.1111111111111111,
              "#46039f"
             ],
             [
              0.2222222222222222,
              "#7201a8"
             ],
             [
              0.3333333333333333,
              "#9c179e"
             ],
             [
              0.4444444444444444,
              "#bd3786"
             ],
             [
              0.5555555555555556,
              "#d8576b"
             ],
             [
              0.6666666666666666,
              "#ed7953"
             ],
             [
              0.7777777777777778,
              "#fb9f3a"
             ],
             [
              0.8888888888888888,
              "#fdca26"
             ],
             [
              1,
              "#f0f921"
             ]
            ],
            "type": "surface"
           }
          ],
          "table": [
           {
            "cells": {
             "fill": {
              "color": "#EBF0F8"
             },
             "line": {
              "color": "white"
             }
            },
            "header": {
             "fill": {
              "color": "#C8D4E3"
             },
             "line": {
              "color": "white"
             }
            },
            "type": "table"
           }
          ]
         },
         "layout": {
          "annotationdefaults": {
           "arrowcolor": "#2a3f5f",
           "arrowhead": 0,
           "arrowwidth": 1
          },
          "coloraxis": {
           "colorbar": {
            "outlinewidth": 0,
            "ticks": ""
           }
          },
          "colorscale": {
           "diverging": [
            [
             0,
             "#8e0152"
            ],
            [
             0.1,
             "#c51b7d"
            ],
            [
             0.2,
             "#de77ae"
            ],
            [
             0.3,
             "#f1b6da"
            ],
            [
             0.4,
             "#fde0ef"
            ],
            [
             0.5,
             "#f7f7f7"
            ],
            [
             0.6,
             "#e6f5d0"
            ],
            [
             0.7,
             "#b8e186"
            ],
            [
             0.8,
             "#7fbc41"
            ],
            [
             0.9,
             "#4d9221"
            ],
            [
             1,
             "#276419"
            ]
           ],
           "sequential": [
            [
             0,
             "#0d0887"
            ],
            [
             0.1111111111111111,
             "#46039f"
            ],
            [
             0.2222222222222222,
             "#7201a8"
            ],
            [
             0.3333333333333333,
             "#9c179e"
            ],
            [
             0.4444444444444444,
             "#bd3786"
            ],
            [
             0.5555555555555556,
             "#d8576b"
            ],
            [
             0.6666666666666666,
             "#ed7953"
            ],
            [
             0.7777777777777778,
             "#fb9f3a"
            ],
            [
             0.8888888888888888,
             "#fdca26"
            ],
            [
             1,
             "#f0f921"
            ]
           ],
           "sequentialminus": [
            [
             0,
             "#0d0887"
            ],
            [
             0.1111111111111111,
             "#46039f"
            ],
            [
             0.2222222222222222,
             "#7201a8"
            ],
            [
             0.3333333333333333,
             "#9c179e"
            ],
            [
             0.4444444444444444,
             "#bd3786"
            ],
            [
             0.5555555555555556,
             "#d8576b"
            ],
            [
             0.6666666666666666,
             "#ed7953"
            ],
            [
             0.7777777777777778,
             "#fb9f3a"
            ],
            [
             0.8888888888888888,
             "#fdca26"
            ],
            [
             1,
             "#f0f921"
            ]
           ]
          },
          "colorway": [
           "#636efa",
           "#EF553B",
           "#00cc96",
           "#ab63fa",
           "#FFA15A",
           "#19d3f3",
           "#FF6692",
           "#B6E880",
           "#FF97FF",
           "#FECB52"
          ],
          "font": {
           "color": "#2a3f5f"
          },
          "geo": {
           "bgcolor": "white",
           "lakecolor": "white",
           "landcolor": "#E5ECF6",
           "showlakes": true,
           "showland": true,
           "subunitcolor": "white"
          },
          "hoverlabel": {
           "align": "left"
          },
          "hovermode": "closest",
          "mapbox": {
           "style": "light"
          },
          "paper_bgcolor": "white",
          "plot_bgcolor": "#E5ECF6",
          "polar": {
           "angularaxis": {
            "gridcolor": "white",
            "linecolor": "white",
            "ticks": ""
           },
           "bgcolor": "#E5ECF6",
           "radialaxis": {
            "gridcolor": "white",
            "linecolor": "white",
            "ticks": ""
           }
          },
          "scene": {
           "xaxis": {
            "backgroundcolor": "#E5ECF6",
            "gridcolor": "white",
            "gridwidth": 2,
            "linecolor": "white",
            "showbackground": true,
            "ticks": "",
            "zerolinecolor": "white"
           },
           "yaxis": {
            "backgroundcolor": "#E5ECF6",
            "gridcolor": "white",
            "gridwidth": 2,
            "linecolor": "white",
            "showbackground": true,
            "ticks": "",
            "zerolinecolor": "white"
           },
           "zaxis": {
            "backgroundcolor": "#E5ECF6",
            "gridcolor": "white",
            "gridwidth": 2,
            "linecolor": "white",
            "showbackground": true,
            "ticks": "",
            "zerolinecolor": "white"
           }
          },
          "shapedefaults": {
           "line": {
            "color": "#2a3f5f"
           }
          },
          "ternary": {
           "aaxis": {
            "gridcolor": "white",
            "linecolor": "white",
            "ticks": ""
           },
           "baxis": {
            "gridcolor": "white",
            "linecolor": "white",
            "ticks": ""
           },
           "bgcolor": "#E5ECF6",
           "caxis": {
            "gridcolor": "white",
            "linecolor": "white",
            "ticks": ""
           }
          },
          "title": {
           "x": 0.05
          },
          "xaxis": {
           "automargin": true,
           "gridcolor": "white",
           "linecolor": "white",
           "ticks": "",
           "title": {
            "standoff": 15
           },
           "zerolinecolor": "white",
           "zerolinewidth": 2
          },
          "yaxis": {
           "automargin": true,
           "gridcolor": "white",
           "linecolor": "white",
           "ticks": "",
           "title": {
            "standoff": 15
           },
           "zerolinecolor": "white",
           "zerolinewidth": 2
          }
         }
        }
       }
      }
     },
     "metadata": {}
    },
    {
     "output_type": "stream",
     "name": "stdout",
     "text": "(200, 2)\n(200, 1)\n"
    }
   ],
   "source": [
    "N = 100\n",
    "(A, B) = multivariate(N, [1,0.3], [0,-0.1], .2, .3)\n",
    "\n",
    "fig = go.Figure()\n",
    "fig.add_trace(go.Scatter(x=A[:,0], y=A[:,1], mode=\"markers\"))\n",
    "fig.add_trace(go.Scatter(x=B[:,0], y=B[:,1], mode=\"markers\"))\n",
    "fig.show()\n",
    "\n",
    "features = np.concatenate([A,B],axis=0)\n",
    "targets = np.concatenate([-np.ones((A.shape[0],1)), np.ones((B.shape[0],1))], axis=0)\n",
    "print(features.shape)\n",
    "print(targets.shape)\n",
    "\n"
   ]
  },
  {
   "cell_type": "code",
   "execution_count": 215,
   "metadata": {},
   "outputs": [
    {
     "output_type": "display_data",
     "data": {
      "application/vnd.plotly.v1+json": {
       "config": {
        "plotlyServerURL": "https://plot.ly"
       },
       "data": [
        {
         "name": "Delta",
         "type": "scatter",
         "x": [
          0,
          1,
          2,
          3,
          4,
          5,
          6,
          7,
          8,
          9,
          10,
          11,
          12,
          13,
          14,
          15,
          16,
          17,
          18,
          19,
          20,
          21,
          22,
          23,
          24,
          25,
          26,
          27,
          28,
          29,
          30,
          31,
          32,
          33,
          34,
          35,
          36,
          37,
          38,
          39,
          40,
          41,
          42,
          43,
          44,
          45,
          46,
          47,
          48,
          49
         ],
         "y": [
          0.68106740683762,
          0.6773082657310575,
          0.6735945992251047,
          0.6699258523314859,
          0.6663014768394274,
          0.6627209312328878,
          0.6591836806087968,
          0.6556891965962963,
          0.652236957276964,
          0.6488264471060137,
          0.6454571568344573,
          0.6421285834322176,
          0.6388402300121787,
          0.6355916057551666,
          0.6323822258358429,
          0.6292116113495063,
          0.6260792892397861,
          0.6229847922272195,
          0.6199276587387015,
          0.6169074328377957,
          0.6139236641558963,
          0.6109759078242312,
          0.6080637244066955,
          0.6051866798335049,
          0.6023443453356588,
          0.5995362973802058,
          0.5967621176062976,
          0.5940213927620245,
          0.5913137146420232,
          0.5886502845515458,
          0.5861843860597649,
          0.5837480226087034,
          0.581340833997837,
          0.5790082047072732,
          0.5767288745411078,
          0.5744767920051804,
          0.5722516248417485,
          0.5700530448503494,
          0.5678807278382514,
          0.5657343535715101,
          0.5636136057266212,
          0.5615710385504143,
          0.5596641217885513,
          0.5578180354139507,
          0.5559937444537859,
          0.5541909833741052,
          0.552409489883251,
          0.5506490048922636,
          0.5489092724757685,
          0.5471900398333416
         ]
        },
        {
         "name": "Perceptron",
         "type": "scatter",
         "x": [
          0,
          1,
          2,
          3,
          4,
          5,
          6,
          7,
          8,
          9,
          10,
          11,
          12,
          13,
          14,
          15,
          16,
          17,
          18,
          19,
          20,
          21,
          22,
          23,
          24,
          25,
          26,
          27,
          28,
          29,
          30,
          31,
          32,
          33,
          34,
          35,
          36,
          37,
          38,
          39,
          40,
          41,
          42,
          43,
          44,
          45,
          46,
          47,
          48,
          49
         ],
         "y": [
          1.5132518025388628,
          1.5131299066625419,
          1.5128981271819055,
          1.5125671303167163,
          1.5121463992193218,
          1.5116443750770747,
          1.5110685796101853,
          1.5104257217047714,
          1.5097217904765523,
          1.5089621366933466,
          1.5081515441804505,
          1.5072942925808073,
          1.506394212632315,
          1.505454734950062,
          1.5044789331555428,
          1.5034695620728886,
          1.5024290916097192,
          1.5013597368539702,
          1.5002634848452379,
          1.4991421184174767,
          1.4979972374574917,
          1.4968302778789644,
          1.4956425285735804,
          1.4944351465680525,
          1.4932091705876485,
          1.4919655332025155,
          1.4907050717120562,
          1.4894285379043242,
          1.488136606811537,
          1.486829884568912,
          1.4855089154719172,
          1.4841741883163744,
          1.4828261420965247,
          1.4814651711279123,
          1.480091629654702,
          1.478705835994607,
          1.4773080762689361,
          1.4758986077602092,
          1.4744776619353321,
          1.473045447168327,
          1.471602151193071,
          1.470147943313339,
          1.4686829763946279,
          1.467207388659707,
          1.4657213053076095,
          1.464224839973746,
          1.4627180960470263,
          1.4612011678582637,
          1.4596741417526757,
          1.458137097058012
         ]
        }
       ],
       "layout": {
        "template": {
         "data": {
          "bar": [
           {
            "error_x": {
             "color": "#2a3f5f"
            },
            "error_y": {
             "color": "#2a3f5f"
            },
            "marker": {
             "line": {
              "color": "#E5ECF6",
              "width": 0.5
             }
            },
            "type": "bar"
           }
          ],
          "barpolar": [
           {
            "marker": {
             "line": {
              "color": "#E5ECF6",
              "width": 0.5
             }
            },
            "type": "barpolar"
           }
          ],
          "carpet": [
           {
            "aaxis": {
             "endlinecolor": "#2a3f5f",
             "gridcolor": "white",
             "linecolor": "white",
             "minorgridcolor": "white",
             "startlinecolor": "#2a3f5f"
            },
            "baxis": {
             "endlinecolor": "#2a3f5f",
             "gridcolor": "white",
             "linecolor": "white",
             "minorgridcolor": "white",
             "startlinecolor": "#2a3f5f"
            },
            "type": "carpet"
           }
          ],
          "choropleth": [
           {
            "colorbar": {
             "outlinewidth": 0,
             "ticks": ""
            },
            "type": "choropleth"
           }
          ],
          "contour": [
           {
            "colorbar": {
             "outlinewidth": 0,
             "ticks": ""
            },
            "colorscale": [
             [
              0,
              "#0d0887"
             ],
             [
              0.1111111111111111,
              "#46039f"
             ],
             [
              0.2222222222222222,
              "#7201a8"
             ],
             [
              0.3333333333333333,
              "#9c179e"
             ],
             [
              0.4444444444444444,
              "#bd3786"
             ],
             [
              0.5555555555555556,
              "#d8576b"
             ],
             [
              0.6666666666666666,
              "#ed7953"
             ],
             [
              0.7777777777777778,
              "#fb9f3a"
             ],
             [
              0.8888888888888888,
              "#fdca26"
             ],
             [
              1,
              "#f0f921"
             ]
            ],
            "type": "contour"
           }
          ],
          "contourcarpet": [
           {
            "colorbar": {
             "outlinewidth": 0,
             "ticks": ""
            },
            "type": "contourcarpet"
           }
          ],
          "heatmap": [
           {
            "colorbar": {
             "outlinewidth": 0,
             "ticks": ""
            },
            "colorscale": [
             [
              0,
              "#0d0887"
             ],
             [
              0.1111111111111111,
              "#46039f"
             ],
             [
              0.2222222222222222,
              "#7201a8"
             ],
             [
              0.3333333333333333,
              "#9c179e"
             ],
             [
              0.4444444444444444,
              "#bd3786"
             ],
             [
              0.5555555555555556,
              "#d8576b"
             ],
             [
              0.6666666666666666,
              "#ed7953"
             ],
             [
              0.7777777777777778,
              "#fb9f3a"
             ],
             [
              0.8888888888888888,
              "#fdca26"
             ],
             [
              1,
              "#f0f921"
             ]
            ],
            "type": "heatmap"
           }
          ],
          "heatmapgl": [
           {
            "colorbar": {
             "outlinewidth": 0,
             "ticks": ""
            },
            "colorscale": [
             [
              0,
              "#0d0887"
             ],
             [
              0.1111111111111111,
              "#46039f"
             ],
             [
              0.2222222222222222,
              "#7201a8"
             ],
             [
              0.3333333333333333,
              "#9c179e"
             ],
             [
              0.4444444444444444,
              "#bd3786"
             ],
             [
              0.5555555555555556,
              "#d8576b"
             ],
             [
              0.6666666666666666,
              "#ed7953"
             ],
             [
              0.7777777777777778,
              "#fb9f3a"
             ],
             [
              0.8888888888888888,
              "#fdca26"
             ],
             [
              1,
              "#f0f921"
             ]
            ],
            "type": "heatmapgl"
           }
          ],
          "histogram": [
           {
            "marker": {
             "colorbar": {
              "outlinewidth": 0,
              "ticks": ""
             }
            },
            "type": "histogram"
           }
          ],
          "histogram2d": [
           {
            "colorbar": {
             "outlinewidth": 0,
             "ticks": ""
            },
            "colorscale": [
             [
              0,
              "#0d0887"
             ],
             [
              0.1111111111111111,
              "#46039f"
             ],
             [
              0.2222222222222222,
              "#7201a8"
             ],
             [
              0.3333333333333333,
              "#9c179e"
             ],
             [
              0.4444444444444444,
              "#bd3786"
             ],
             [
              0.5555555555555556,
              "#d8576b"
             ],
             [
              0.6666666666666666,
              "#ed7953"
             ],
             [
              0.7777777777777778,
              "#fb9f3a"
             ],
             [
              0.8888888888888888,
              "#fdca26"
             ],
             [
              1,
              "#f0f921"
             ]
            ],
            "type": "histogram2d"
           }
          ],
          "histogram2dcontour": [
           {
            "colorbar": {
             "outlinewidth": 0,
             "ticks": ""
            },
            "colorscale": [
             [
              0,
              "#0d0887"
             ],
             [
              0.1111111111111111,
              "#46039f"
             ],
             [
              0.2222222222222222,
              "#7201a8"
             ],
             [
              0.3333333333333333,
              "#9c179e"
             ],
             [
              0.4444444444444444,
              "#bd3786"
             ],
             [
              0.5555555555555556,
              "#d8576b"
             ],
             [
              0.6666666666666666,
              "#ed7953"
             ],
             [
              0.7777777777777778,
              "#fb9f3a"
             ],
             [
              0.8888888888888888,
              "#fdca26"
             ],
             [
              1,
              "#f0f921"
             ]
            ],
            "type": "histogram2dcontour"
           }
          ],
          "mesh3d": [
           {
            "colorbar": {
             "outlinewidth": 0,
             "ticks": ""
            },
            "type": "mesh3d"
           }
          ],
          "parcoords": [
           {
            "line": {
             "colorbar": {
              "outlinewidth": 0,
              "ticks": ""
             }
            },
            "type": "parcoords"
           }
          ],
          "pie": [
           {
            "automargin": true,
            "type": "pie"
           }
          ],
          "scatter": [
           {
            "marker": {
             "colorbar": {
              "outlinewidth": 0,
              "ticks": ""
             }
            },
            "type": "scatter"
           }
          ],
          "scatter3d": [
           {
            "line": {
             "colorbar": {
              "outlinewidth": 0,
              "ticks": ""
             }
            },
            "marker": {
             "colorbar": {
              "outlinewidth": 0,
              "ticks": ""
             }
            },
            "type": "scatter3d"
           }
          ],
          "scattercarpet": [
           {
            "marker": {
             "colorbar": {
              "outlinewidth": 0,
              "ticks": ""
             }
            },
            "type": "scattercarpet"
           }
          ],
          "scattergeo": [
           {
            "marker": {
             "colorbar": {
              "outlinewidth": 0,
              "ticks": ""
             }
            },
            "type": "scattergeo"
           }
          ],
          "scattergl": [
           {
            "marker": {
             "colorbar": {
              "outlinewidth": 0,
              "ticks": ""
             }
            },
            "type": "scattergl"
           }
          ],
          "scattermapbox": [
           {
            "marker": {
             "colorbar": {
              "outlinewidth": 0,
              "ticks": ""
             }
            },
            "type": "scattermapbox"
           }
          ],
          "scatterpolar": [
           {
            "marker": {
             "colorbar": {
              "outlinewidth": 0,
              "ticks": ""
             }
            },
            "type": "scatterpolar"
           }
          ],
          "scatterpolargl": [
           {
            "marker": {
             "colorbar": {
              "outlinewidth": 0,
              "ticks": ""
             }
            },
            "type": "scatterpolargl"
           }
          ],
          "scatterternary": [
           {
            "marker": {
             "colorbar": {
              "outlinewidth": 0,
              "ticks": ""
             }
            },
            "type": "scatterternary"
           }
          ],
          "surface": [
           {
            "colorbar": {
             "outlinewidth": 0,
             "ticks": ""
            },
            "colorscale": [
             [
              0,
              "#0d0887"
             ],
             [
              0.1111111111111111,
              "#46039f"
             ],
             [
              0.2222222222222222,
              "#7201a8"
             ],
             [
              0.3333333333333333,
              "#9c179e"
             ],
             [
              0.4444444444444444,
              "#bd3786"
             ],
             [
              0.5555555555555556,
              "#d8576b"
             ],
             [
              0.6666666666666666,
              "#ed7953"
             ],
             [
              0.7777777777777778,
              "#fb9f3a"
             ],
             [
              0.8888888888888888,
              "#fdca26"
             ],
             [
              1,
              "#f0f921"
             ]
            ],
            "type": "surface"
           }
          ],
          "table": [
           {
            "cells": {
             "fill": {
              "color": "#EBF0F8"
             },
             "line": {
              "color": "white"
             }
            },
            "header": {
             "fill": {
              "color": "#C8D4E3"
             },
             "line": {
              "color": "white"
             }
            },
            "type": "table"
           }
          ]
         },
         "layout": {
          "annotationdefaults": {
           "arrowcolor": "#2a3f5f",
           "arrowhead": 0,
           "arrowwidth": 1
          },
          "coloraxis": {
           "colorbar": {
            "outlinewidth": 0,
            "ticks": ""
           }
          },
          "colorscale": {
           "diverging": [
            [
             0,
             "#8e0152"
            ],
            [
             0.1,
             "#c51b7d"
            ],
            [
             0.2,
             "#de77ae"
            ],
            [
             0.3,
             "#f1b6da"
            ],
            [
             0.4,
             "#fde0ef"
            ],
            [
             0.5,
             "#f7f7f7"
            ],
            [
             0.6,
             "#e6f5d0"
            ],
            [
             0.7,
             "#b8e186"
            ],
            [
             0.8,
             "#7fbc41"
            ],
            [
             0.9,
             "#4d9221"
            ],
            [
             1,
             "#276419"
            ]
           ],
           "sequential": [
            [
             0,
             "#0d0887"
            ],
            [
             0.1111111111111111,
             "#46039f"
            ],
            [
             0.2222222222222222,
             "#7201a8"
            ],
            [
             0.3333333333333333,
             "#9c179e"
            ],
            [
             0.4444444444444444,
             "#bd3786"
            ],
            [
             0.5555555555555556,
             "#d8576b"
            ],
            [
             0.6666666666666666,
             "#ed7953"
            ],
            [
             0.7777777777777778,
             "#fb9f3a"
            ],
            [
             0.8888888888888888,
             "#fdca26"
            ],
            [
             1,
             "#f0f921"
            ]
           ],
           "sequentialminus": [
            [
             0,
             "#0d0887"
            ],
            [
             0.1111111111111111,
             "#46039f"
            ],
            [
             0.2222222222222222,
             "#7201a8"
            ],
            [
             0.3333333333333333,
             "#9c179e"
            ],
            [
             0.4444444444444444,
             "#bd3786"
            ],
            [
             0.5555555555555556,
             "#d8576b"
            ],
            [
             0.6666666666666666,
             "#ed7953"
            ],
            [
             0.7777777777777778,
             "#fb9f3a"
            ],
            [
             0.8888888888888888,
             "#fdca26"
            ],
            [
             1,
             "#f0f921"
            ]
           ]
          },
          "colorway": [
           "#636efa",
           "#EF553B",
           "#00cc96",
           "#ab63fa",
           "#FFA15A",
           "#19d3f3",
           "#FF6692",
           "#B6E880",
           "#FF97FF",
           "#FECB52"
          ],
          "font": {
           "color": "#2a3f5f"
          },
          "geo": {
           "bgcolor": "white",
           "lakecolor": "white",
           "landcolor": "#E5ECF6",
           "showlakes": true,
           "showland": true,
           "subunitcolor": "white"
          },
          "hoverlabel": {
           "align": "left"
          },
          "hovermode": "closest",
          "mapbox": {
           "style": "light"
          },
          "paper_bgcolor": "white",
          "plot_bgcolor": "#E5ECF6",
          "polar": {
           "angularaxis": {
            "gridcolor": "white",
            "linecolor": "white",
            "ticks": ""
           },
           "bgcolor": "#E5ECF6",
           "radialaxis": {
            "gridcolor": "white",
            "linecolor": "white",
            "ticks": ""
           }
          },
          "scene": {
           "xaxis": {
            "backgroundcolor": "#E5ECF6",
            "gridcolor": "white",
            "gridwidth": 2,
            "linecolor": "white",
            "showbackground": true,
            "ticks": "",
            "zerolinecolor": "white"
           },
           "yaxis": {
            "backgroundcolor": "#E5ECF6",
            "gridcolor": "white",
            "gridwidth": 2,
            "linecolor": "white",
            "showbackground": true,
            "ticks": "",
            "zerolinecolor": "white"
           },
           "zaxis": {
            "backgroundcolor": "#E5ECF6",
            "gridcolor": "white",
            "gridwidth": 2,
            "linecolor": "white",
            "showbackground": true,
            "ticks": "",
            "zerolinecolor": "white"
           }
          },
          "shapedefaults": {
           "line": {
            "color": "#2a3f5f"
           }
          },
          "ternary": {
           "aaxis": {
            "gridcolor": "white",
            "linecolor": "white",
            "ticks": ""
           },
           "baxis": {
            "gridcolor": "white",
            "linecolor": "white",
            "ticks": ""
           },
           "bgcolor": "#E5ECF6",
           "caxis": {
            "gridcolor": "white",
            "linecolor": "white",
            "ticks": ""
           }
          },
          "title": {
           "x": 0.05
          },
          "xaxis": {
           "automargin": true,
           "gridcolor": "white",
           "linecolor": "white",
           "ticks": "",
           "title": {
            "standoff": 15
           },
           "zerolinecolor": "white",
           "zerolinewidth": 2
          },
          "yaxis": {
           "automargin": true,
           "gridcolor": "white",
           "linecolor": "white",
           "ticks": "",
           "title": {
            "standoff": 15
           },
           "zerolinecolor": "white",
           "zerolinewidth": 2
          }
         }
        }
       }
      }
     },
     "metadata": {}
    },
    {
     "output_type": "display_data",
     "data": {
      "application/vnd.plotly.v1+json": {
       "config": {
        "plotlyServerURL": "https://plot.ly"
       },
       "data": [
        {
         "mode": "markers",
         "type": "scatter",
         "x": [
          1.03177792345853,
          0.8413322662647593,
          1.1091629834027423,
          0.5079128531842934,
          0.8229102192147582,
          1.1455972369939238,
          0.9820619427310658,
          0.778259239227957,
          1.0042904472425505,
          1.1023598785724074,
          0.9438231031963606,
          1.2900636681296453,
          1.198449679667458,
          1.0856810939383184,
          0.9169137597879199,
          1.0495991907141722,
          1.1615846752489525,
          1.1149183078665164,
          1.0879509042330198,
          1.093454503455609,
          1.350065641209108,
          0.8931259621776,
          0.9256579211341729,
          0.7803612394699654,
          1.2293390133701783,
          1.073016257721962,
          1.006050764598504,
          0.9041048456980948,
          0.6885594690447805,
          0.8777119994765403,
          1.1429226197343734,
          1.0235650128250313,
          1.2842048974373808,
          1.0317831985402774,
          1.1496924387017438,
          1.1117300798994676,
          0.7372933176435198,
          1.303693354042484,
          0.9769091955986049,
          1.1323639378402544,
          1.0725309601274542,
          1.076765136330408,
          0.8905545932858859,
          1.1672680029644071,
          0.9633556900773015,
          0.7750620221036824,
          1.3248857977019655,
          1.2180924652119813,
          0.90190612143125,
          1.005312733318932,
          1.0614306300640084,
          0.9855945516553026,
          1.1470452339595922,
          0.9208553477825481,
          0.9166431043551942,
          1.2625558048828043,
          1.1426413264863815,
          1.055138533941214,
          0.8940337239998286,
          1.0335798220465604,
          0.8410203988449401,
          0.9457758241377107,
          1.1878463076585135,
          1.1433714264768058,
          1.0215065909953482,
          1.045423655128899,
          0.9388812244563585,
          0.8523827743959693,
          0.666110912213379,
          1.1311875601914976,
          0.8825649709398317,
          1.0912410297486737,
          1.1358720114207697,
          1.3540387382354009,
          1.0746872098037634,
          0.9166405607089357,
          0.9817637104451029,
          1.159014126021877,
          0.9745973352795866,
          0.8681196950877016,
          0.8653194676649353,
          1.2307639027129755,
          1.0058318914505764,
          0.9149361140923344,
          1.3624321622308164,
          0.9429577995498539,
          1.0390030334773175,
          0.8796526309161709,
          1.1201710210000528,
          0.9466572490582607,
          0.9610447453698572,
          1.515529177600308,
          0.9619592990333403,
          0.83169643186245,
          1.2032169917992972,
          0.6783704585669341,
          0.8403850821992604,
          0.8252942492116893,
          1.2285206252861613,
          1.1081555367821894
         ],
         "y": [
          0.6564015878402056,
          0.4028084221792949,
          0.04900013013622484,
          0.17069530901770819,
          0.07500519760141494,
          0.1286669302699683,
          0.3302399718850146,
          0.04266480487536367,
          0.02467815621515751,
          0.5557053165686595,
          0.4784870609489241,
          0.19259187765125463,
          0.5381880959633555,
          0.13096165478825803,
          0.3808738991736963,
          0.5014032162829065,
          0.4645704331463747,
          0.6184140738450141,
          0.289831988993425,
          0.10006727580647626,
          0.3486154608000749,
          0.19005524707359683,
          0.3019202279490377,
          -0.039935929203271214,
          0.5248589476108592,
          0.23534187323437397,
          0.15360548964811355,
          0.7634037018177351,
          0.4029665767925764,
          0.4749287175541324,
          0.18008976622086031,
          0.7721614615383661,
          0.16497178267341026,
          0.19453562368682778,
          0.4486857604695319,
          0.2660265512059743,
          0.1053477731753423,
          0.101674187984404,
          0.17678419984423113,
          0.27426767455889134,
          0.5279719697647501,
          0.4161120311217711,
          0.20024666263745491,
          0.5014906168696944,
          0.034153031006942336,
          0.16056641981852002,
          0.3194161087655581,
          0.4407300957573819,
          0.023727837553780717,
          0.5385309218894209,
          0.23014756036559475,
          0.4159254655379537,
          0.23573628985078277,
          0.26158731362354537,
          0.28790234576778734,
          0.33436567306220705,
          0.30153354296833534,
          0.06271165560167177,
          0.5853658265153906,
          0.19505983307362554,
          0.04734592182493119,
          0.008710834230494235,
          0.4612901729465556,
          0.21471663713680494,
          0.28862175710952914,
          0.5145001121200522,
          0.5735169027466234,
          0.06841414343112989,
          0.612243061517604,
          0.4212080593063263,
          0.5688866435044172,
          0.10236946203056602,
          0.46464986052540436,
          0.20912235280350255,
          0.6681006641121727,
          0.1877870462733408,
          0.12627999227385117,
          0.5074643104356281,
          0.3593246459920932,
          0.4493154014353223,
          0.26284053903508936,
          0.2778946116734259,
          0.29079851879829227,
          -0.15619704228822573,
          0.0999662922105515,
          0.2270604271386376,
          0.13646082686569622,
          0.7067214992620448,
          0.008819031591631665,
          0.4381155225620763,
          0.09065559838829013,
          0.41504404678586443,
          0.011802235248069948,
          0.4613185903675978,
          0.40782804791001465,
          0.17583565027830542,
          0.7004759191065875,
          0.23326612331390245,
          0.2507167924595435,
          0.49334769215974805
         ]
        },
        {
         "mode": "markers",
         "type": "scatter",
         "x": [
          -0.28904411028989646,
          0.1637032079979594,
          -0.27577900707012176,
          0.6798935982002211,
          0.12543472499240602,
          0.1511550121427275,
          0.20751121089497523,
          -0.08374083451777904,
          -0.08855917901180783,
          0.060426672380469844,
          -0.40323863001761673,
          0.09864737568481455,
          -0.21426966141207648,
          -0.07863497365110794,
          0.06440322403504438,
          -0.035952581242476585,
          -0.32913608006523887,
          -0.0948908744211107,
          -0.3566079568965111,
          0.040821475757027166,
          0.3110904037328982,
          -0.15717420018203554,
          -0.5464642359575068,
          0.18457196804827677,
          0.18394036482374795,
          -0.09871107804612443,
          -0.034484672190505154,
          -0.28557065267415227,
          -0.07586293741426853,
          -0.23129663347979043,
          0.05057645818920221,
          0.3650859959023865,
          -0.1473198762417704,
          0.03376529016045589,
          -0.002390624400868116,
          -0.3174626547575385,
          0.14445461820111713,
          -0.03575977390973093,
          0.34689353979006643,
          -0.12683361056126186,
          0.22196996137788874,
          -0.4225862901983914,
          -0.032342110811367245,
          0.11475466966070394,
          -0.42070683566628725,
          -0.3477893144319602,
          -0.13492900985675585,
          -0.06984758920400572,
          -0.2689333135465785,
          0.3436498350236547,
          0.17781994712651603,
          -0.18957978236581827,
          -0.42563073639246424,
          0.2625916340576669,
          -0.12529291173707804,
          0.0020768397677506946,
          -0.19303519242362724,
          0.18816435184987662,
          -0.07048700346220155,
          0.5360872472018936,
          0.026398154068843074,
          -0.049884386594529165,
          0.6902637887467235,
          0.2752794327295356,
          -0.12640630247701107,
          0.07262363593760227,
          0.0003400711293390578,
          0.2527155819964333,
          -0.16087279468858745,
          0.04146452701536779,
          0.04358098055584498,
          0.19587252735794797,
          0.4676306538318554,
          -0.48741406040811186,
          0.2247768744127138,
          0.33203104345855394,
          -0.1723459366670245,
          0.6717376515681391,
          -0.26343949369804565,
          0.2665929103774139,
          -0.4882530445038173,
          -0.00726066541153555,
          0.08700363682549436,
          -0.20873593606174054,
          0.04688757796329062,
          -0.03841452219289201,
          0.3264255988463853,
          0.5574934146054288,
          -0.008711148787874302,
          0.3147177426861954,
          -0.059833361484459766,
          -0.2734373914802979,
          -0.1397925743957992,
          -0.23043218806940105,
          -0.11754842873872155,
          -0.1798237040568637,
          -0.25030980192752544,
          0.18548382456219967,
          0.06361429082283121,
          -0.46378653214303794
         ],
         "y": [
          -0.5479788599340789,
          -0.03578369844497134,
          -0.12408248378093932,
          -0.16996015231584993,
          -0.07633917875757774,
          0.11538947139822023,
          0.1431924583118004,
          0.0021768824745144327,
          -0.020114515922530538,
          0.11720151777320198,
          -0.3825083372133291,
          0.17076536753047436,
          -0.2954792922130096,
          -0.255154622947188,
          -0.010974930424981086,
          0.1948225345087645,
          0.20379798572630273,
          -0.4304125517378703,
          -0.5715076173515926,
          -0.060115145827687656,
          0.5023329609728573,
          -0.48273034564389194,
          0.37181453448545876,
          -0.18521845565871292,
          -0.1622364702686343,
          0.0475125761126064,
          -0.14518967545192604,
          0.47668279017356774,
          -0.10940497241088624,
          0.3988374344726475,
          -0.031041573142302867,
          -0.4320616819650577,
          0.17709429925548917,
          -0.001162067372999176,
          -0.004499833774958675,
          0.11827795627731957,
          0.2659537898079182,
          0.00870014331607652,
          -0.038435343691346435,
          -0.22114559294950964,
          0.22821478906186102,
          -0.09722091071752934,
          -0.5516841933655494,
          -0.7726268233473561,
          -0.7280933614321896,
          -0.25907536915790125,
          -0.29244209597628446,
          -0.2564039539661499,
          -0.25007642551679354,
          -0.24083180323378653,
          0.14318972114777184,
          -0.3952560903913511,
          0.10613687855481246,
          0.6120687619435428,
          0.31812360528028205,
          -0.24916798742192683,
          -0.42699155895044294,
          0.007969902317018052,
          0.16592666673472847,
          -0.12215492553925862,
          -0.19246059071511074,
          -0.2601724454125163,
          -0.26642068630635035,
          -0.21635720016218693,
          -0.20259247940628222,
          -0.1800279928603321,
          -0.5768962922142563,
          -0.3211756012066681,
          -0.2420258967567655,
          -0.35931488381976395,
          -0.12467933708457207,
          0.4086694454038544,
          -0.24827762808271528,
          -0.07261209649930292,
          0.2150358398172084,
          -0.06991361840244961,
          0.30276534697620394,
          0.20127376593307142,
          0.20000059961925923,
          0.22518899339029483,
          -0.15976300553722916,
          -0.12471072787316581,
          0.0005835469448155772,
          -0.12049618846454033,
          -0.2480694424847663,
          0.19553274354189945,
          -0.5165592457122947,
          -0.0577945098817302,
          -0.32811959058080353,
          0.09697384154639521,
          -0.20953988863171108,
          -0.10617762026838941,
          0.03143478630122487,
          -0.003103823443529899,
          -0.1597856787369354,
          -0.3333940247149076,
          -0.5101545253009337,
          -0.4509530627518046,
          -0.5118619394871812,
          -0.013236872803833857
         ]
        },
        {
         "mode": "markers",
         "type": "scatter",
         "x": [
          -5,
          -4.898989898989899,
          -4.797979797979798,
          -4.696969696969697,
          -4.595959595959596,
          -4.494949494949495,
          -4.393939393939394,
          -4.292929292929293,
          -4.191919191919192,
          -4.090909090909091,
          -3.9898989898989896,
          -3.888888888888889,
          -3.787878787878788,
          -3.686868686868687,
          -3.5858585858585856,
          -3.484848484848485,
          -3.383838383838384,
          -3.282828282828283,
          -3.1818181818181817,
          -3.080808080808081,
          -2.9797979797979797,
          -2.878787878787879,
          -2.7777777777777777,
          -2.676767676767677,
          -2.5757575757575757,
          -2.474747474747475,
          -2.3737373737373737,
          -2.272727272727273,
          -2.1717171717171717,
          -2.070707070707071,
          -1.9696969696969697,
          -1.868686868686869,
          -1.7676767676767677,
          -1.6666666666666665,
          -1.5656565656565657,
          -1.4646464646464645,
          -1.3636363636363638,
          -1.2626262626262625,
          -1.1616161616161618,
          -1.0606060606060606,
          -0.9595959595959593,
          -0.858585858585859,
          -0.7575757575757578,
          -0.6565656565656566,
          -0.5555555555555554,
          -0.45454545454545503,
          -0.3535353535353538,
          -0.2525252525252526,
          -0.15151515151515138,
          -0.050505050505050164,
          0.050505050505050164,
          0.15151515151515138,
          0.2525252525252526,
          0.3535353535353538,
          0.45454545454545414,
          0.5555555555555554,
          0.6565656565656566,
          0.7575757575757578,
          0.8585858585858581,
          0.9595959595959593,
          1.0606060606060606,
          1.1616161616161618,
          1.262626262626262,
          1.3636363636363633,
          1.4646464646464645,
          1.5656565656565657,
          1.666666666666667,
          1.7676767676767673,
          1.8686868686868685,
          1.9696969696969697,
          2.070707070707071,
          2.1717171717171713,
          2.2727272727272725,
          2.3737373737373737,
          2.474747474747475,
          2.5757575757575752,
          2.6767676767676765,
          2.7777777777777777,
          2.878787878787879,
          2.9797979797979792,
          3.0808080808080813,
          3.1818181818181817,
          3.282828282828282,
          3.383838383838384,
          3.4848484848484844,
          3.5858585858585865,
          3.686868686868687,
          3.787878787878787,
          3.8888888888888893,
          3.9898989898989896,
          4.09090909090909,
          4.191919191919192,
          4.292929292929292,
          4.3939393939393945,
          4.494949494949495,
          4.595959595959595,
          4.696969696969697,
          4.797979797979798,
          4.8989898989899,
          5
         ],
         "y": [
          10.47289210259975,
          10.261318524769454,
          10.049744946939155,
          9.838171369108858,
          9.62659779127856,
          9.41502421344826,
          9.203450635617962,
          8.991877057787667,
          8.780303479957368,
          8.56872990212707,
          8.35715632429677,
          8.145582746466474,
          7.934009168636176,
          7.722435590805877,
          7.510862012975579,
          7.299288435145282,
          7.0877148573149835,
          6.876141279484686,
          6.664567701654387,
          6.452994123824089,
          6.24142054599379,
          6.029846968163493,
          5.818273390333196,
          5.606699812502897,
          5.395126234672599,
          5.183552656842302,
          4.971979079012003,
          4.7604055011817055,
          4.548831923351407,
          4.33725834552111,
          4.125684767690811,
          3.914111189860514,
          3.7025376120302154,
          3.490964034199917,
          3.2793904563696192,
          3.067816878539321,
          2.8562433007090235,
          2.6446697228787253,
          2.4330961450484274,
          2.221522567218129,
          2.0099489893878304,
          1.7983754115575339,
          1.5868018337272356,
          1.375228255896937,
          1.1636546780666386,
          0.9520811002363421,
          0.7405075224060436,
          0.5289339445757452,
          0.3173603667454467,
          0.10578678891514828,
          -0.10578678891514828,
          -0.3173603667454467,
          -0.5289339445757452,
          -0.7405075224060436,
          -0.9520811002363402,
          -1.1636546780666386,
          -1.375228255896937,
          -1.5868018337272356,
          -1.798375411557532,
          -2.0099489893878304,
          -2.221522567218129,
          -2.4330961450484274,
          -2.644669722878724,
          -2.856243300709022,
          -3.067816878539321,
          -3.2793904563696192,
          -3.4909640341999175,
          -3.7025376120302145,
          -3.9141111898605128,
          -4.125684767690811,
          -4.33725834552111,
          -4.548831923351407,
          -4.760405501181705,
          -4.971979079012003,
          -5.183552656842302,
          -5.395126234672598,
          -5.606699812502897,
          -5.818273390333196,
          -6.029846968163493,
          -6.2414205459937895,
          -6.45299412382409,
          -6.664567701654387,
          -6.876141279484683,
          -7.0877148573149835,
          -7.2992884351452805,
          -7.510862012975581,
          -7.722435590805877,
          -7.934009168636174,
          -8.145582746466474,
          -8.35715632429677,
          -8.568729902127068,
          -8.780303479957368,
          -8.991877057787665,
          -9.203450635617966,
          -9.41502421344826,
          -9.626597791278558,
          -9.838171369108858,
          -10.049744946939155,
          -10.261318524769454,
          -10.47289210259975
         ]
        },
        {
         "mode": "markers",
         "type": "scatter",
         "x": [
          -5,
          -4.898989898989899,
          -4.797979797979798,
          -4.696969696969697,
          -4.595959595959596,
          -4.494949494949495,
          -4.393939393939394,
          -4.292929292929293,
          -4.191919191919192,
          -4.090909090909091,
          -3.9898989898989896,
          -3.888888888888889,
          -3.787878787878788,
          -3.686868686868687,
          -3.5858585858585856,
          -3.484848484848485,
          -3.383838383838384,
          -3.282828282828283,
          -3.1818181818181817,
          -3.080808080808081,
          -2.9797979797979797,
          -2.878787878787879,
          -2.7777777777777777,
          -2.676767676767677,
          -2.5757575757575757,
          -2.474747474747475,
          -2.3737373737373737,
          -2.272727272727273,
          -2.1717171717171717,
          -2.070707070707071,
          -1.9696969696969697,
          -1.868686868686869,
          -1.7676767676767677,
          -1.6666666666666665,
          -1.5656565656565657,
          -1.4646464646464645,
          -1.3636363636363638,
          -1.2626262626262625,
          -1.1616161616161618,
          -1.0606060606060606,
          -0.9595959595959593,
          -0.858585858585859,
          -0.7575757575757578,
          -0.6565656565656566,
          -0.5555555555555554,
          -0.45454545454545503,
          -0.3535353535353538,
          -0.2525252525252526,
          -0.15151515151515138,
          -0.050505050505050164,
          0.050505050505050164,
          0.15151515151515138,
          0.2525252525252526,
          0.3535353535353538,
          0.45454545454545414,
          0.5555555555555554,
          0.6565656565656566,
          0.7575757575757578,
          0.8585858585858581,
          0.9595959595959593,
          1.0606060606060606,
          1.1616161616161618,
          1.262626262626262,
          1.3636363636363633,
          1.4646464646464645,
          1.5656565656565657,
          1.666666666666667,
          1.7676767676767673,
          1.8686868686868685,
          1.9696969696969697,
          2.070707070707071,
          2.1717171717171713,
          2.2727272727272725,
          2.3737373737373737,
          2.474747474747475,
          2.5757575757575752,
          2.6767676767676765,
          2.7777777777777777,
          2.878787878787879,
          2.9797979797979792,
          3.0808080808080813,
          3.1818181818181817,
          3.282828282828282,
          3.383838383838384,
          3.4848484848484844,
          3.5858585858585865,
          3.686868686868687,
          3.787878787878787,
          3.8888888888888893,
          3.9898989898989896,
          4.09090909090909,
          4.191919191919192,
          4.292929292929292,
          4.3939393939393945,
          4.494949494949495,
          4.595959595959595,
          4.696969696969697,
          4.797979797979798,
          4.8989898989899,
          5
         ],
         "y": [
          -11.206759612993183,
          -10.98036042889231,
          -10.753961244791437,
          -10.527562060690565,
          -10.301162876589695,
          -10.07476369248882,
          -9.848364508387949,
          -9.621965324287077,
          -9.395566140186203,
          -9.16916695608533,
          -8.942767771984458,
          -8.716368587883586,
          -8.489969403782712,
          -8.263570219681842,
          -8.037171035580968,
          -7.810771851480098,
          -7.584372667379226,
          -7.357973483278352,
          -7.13157429917748,
          -6.905175115076607,
          -6.678775930975735,
          -6.452376746874863,
          -6.22597756277399,
          -5.999578378673118,
          -5.773179194572245,
          -5.546780010471373,
          -5.320380826370501,
          -5.093981642269629,
          -4.867582458168755,
          -4.641183274067885,
          -4.4147840899670125,
          -4.1883849058661395,
          -3.9619857217652674,
          -3.735586537664395,
          -3.5091873535635214,
          -3.2827881694626493,
          -3.056388985361777,
          -2.829989801260904,
          -2.603590617160033,
          -2.3771914330591595,
          -2.150792248958287,
          -1.9243930648574161,
          -1.6979938807565431,
          -1.4715946966556703,
          -1.2451955125547978,
          -1.0187963284539268,
          -0.792397144353054,
          -0.5659979602521811,
          -0.3395987761513083,
          -0.11319959205043544,
          0.11319959205043544,
          0.3395987761513083,
          0.5659979602521811,
          0.792397144353054,
          1.0187963284539248,
          1.2451955125547978,
          1.4715946966556703,
          1.6979938807565431,
          1.9243930648574143,
          2.150792248958287,
          2.3771914330591595,
          2.603590617160033,
          2.8299898012609033,
          3.0563889853617763,
          3.2827881694626493,
          3.5091873535635214,
          3.7355865376643953,
          3.9619857217652656,
          4.188384905866139,
          4.4147840899670125,
          4.641183274067885,
          4.867582458168755,
          5.093981642269627,
          5.320380826370501,
          5.546780010471373,
          5.773179194572245,
          5.999578378673117,
          6.22597756277399,
          6.452376746874863,
          6.678775930975734,
          6.905175115076608,
          7.13157429917748,
          7.357973483278348,
          7.584372667379226,
          7.810771851480096,
          8.037171035580972,
          8.263570219681842,
          8.48996940378271,
          8.716368587883588,
          8.942767771984458,
          9.169166956085329,
          9.395566140186203,
          9.621965324287073,
          9.848364508387949,
          10.07476369248882,
          10.301162876589691,
          10.527562060690565,
          10.753961244791437,
          10.980360428892311,
          11.206759612993183
         ]
        }
       ],
       "layout": {
        "template": {
         "data": {
          "bar": [
           {
            "error_x": {
             "color": "#2a3f5f"
            },
            "error_y": {
             "color": "#2a3f5f"
            },
            "marker": {
             "line": {
              "color": "#E5ECF6",
              "width": 0.5
             }
            },
            "type": "bar"
           }
          ],
          "barpolar": [
           {
            "marker": {
             "line": {
              "color": "#E5ECF6",
              "width": 0.5
             }
            },
            "type": "barpolar"
           }
          ],
          "carpet": [
           {
            "aaxis": {
             "endlinecolor": "#2a3f5f",
             "gridcolor": "white",
             "linecolor": "white",
             "minorgridcolor": "white",
             "startlinecolor": "#2a3f5f"
            },
            "baxis": {
             "endlinecolor": "#2a3f5f",
             "gridcolor": "white",
             "linecolor": "white",
             "minorgridcolor": "white",
             "startlinecolor": "#2a3f5f"
            },
            "type": "carpet"
           }
          ],
          "choropleth": [
           {
            "colorbar": {
             "outlinewidth": 0,
             "ticks": ""
            },
            "type": "choropleth"
           }
          ],
          "contour": [
           {
            "colorbar": {
             "outlinewidth": 0,
             "ticks": ""
            },
            "colorscale": [
             [
              0,
              "#0d0887"
             ],
             [
              0.1111111111111111,
              "#46039f"
             ],
             [
              0.2222222222222222,
              "#7201a8"
             ],
             [
              0.3333333333333333,
              "#9c179e"
             ],
             [
              0.4444444444444444,
              "#bd3786"
             ],
             [
              0.5555555555555556,
              "#d8576b"
             ],
             [
              0.6666666666666666,
              "#ed7953"
             ],
             [
              0.7777777777777778,
              "#fb9f3a"
             ],
             [
              0.8888888888888888,
              "#fdca26"
             ],
             [
              1,
              "#f0f921"
             ]
            ],
            "type": "contour"
           }
          ],
          "contourcarpet": [
           {
            "colorbar": {
             "outlinewidth": 0,
             "ticks": ""
            },
            "type": "contourcarpet"
           }
          ],
          "heatmap": [
           {
            "colorbar": {
             "outlinewidth": 0,
             "ticks": ""
            },
            "colorscale": [
             [
              0,
              "#0d0887"
             ],
             [
              0.1111111111111111,
              "#46039f"
             ],
             [
              0.2222222222222222,
              "#7201a8"
             ],
             [
              0.3333333333333333,
              "#9c179e"
             ],
             [
              0.4444444444444444,
              "#bd3786"
             ],
             [
              0.5555555555555556,
              "#d8576b"
             ],
             [
              0.6666666666666666,
              "#ed7953"
             ],
             [
              0.7777777777777778,
              "#fb9f3a"
             ],
             [
              0.8888888888888888,
              "#fdca26"
             ],
             [
              1,
              "#f0f921"
             ]
            ],
            "type": "heatmap"
           }
          ],
          "heatmapgl": [
           {
            "colorbar": {
             "outlinewidth": 0,
             "ticks": ""
            },
            "colorscale": [
             [
              0,
              "#0d0887"
             ],
             [
              0.1111111111111111,
              "#46039f"
             ],
             [
              0.2222222222222222,
              "#7201a8"
             ],
             [
              0.3333333333333333,
              "#9c179e"
             ],
             [
              0.4444444444444444,
              "#bd3786"
             ],
             [
              0.5555555555555556,
              "#d8576b"
             ],
             [
              0.6666666666666666,
              "#ed7953"
             ],
             [
              0.7777777777777778,
              "#fb9f3a"
             ],
             [
              0.8888888888888888,
              "#fdca26"
             ],
             [
              1,
              "#f0f921"
             ]
            ],
            "type": "heatmapgl"
           }
          ],
          "histogram": [
           {
            "marker": {
             "colorbar": {
              "outlinewidth": 0,
              "ticks": ""
             }
            },
            "type": "histogram"
           }
          ],
          "histogram2d": [
           {
            "colorbar": {
             "outlinewidth": 0,
             "ticks": ""
            },
            "colorscale": [
             [
              0,
              "#0d0887"
             ],
             [
              0.1111111111111111,
              "#46039f"
             ],
             [
              0.2222222222222222,
              "#7201a8"
             ],
             [
              0.3333333333333333,
              "#9c179e"
             ],
             [
              0.4444444444444444,
              "#bd3786"
             ],
             [
              0.5555555555555556,
              "#d8576b"
             ],
             [
              0.6666666666666666,
              "#ed7953"
             ],
             [
              0.7777777777777778,
              "#fb9f3a"
             ],
             [
              0.8888888888888888,
              "#fdca26"
             ],
             [
              1,
              "#f0f921"
             ]
            ],
            "type": "histogram2d"
           }
          ],
          "histogram2dcontour": [
           {
            "colorbar": {
             "outlinewidth": 0,
             "ticks": ""
            },
            "colorscale": [
             [
              0,
              "#0d0887"
             ],
             [
              0.1111111111111111,
              "#46039f"
             ],
             [
              0.2222222222222222,
              "#7201a8"
             ],
             [
              0.3333333333333333,
              "#9c179e"
             ],
             [
              0.4444444444444444,
              "#bd3786"
             ],
             [
              0.5555555555555556,
              "#d8576b"
             ],
             [
              0.6666666666666666,
              "#ed7953"
             ],
             [
              0.7777777777777778,
              "#fb9f3a"
             ],
             [
              0.8888888888888888,
              "#fdca26"
             ],
             [
              1,
              "#f0f921"
             ]
            ],
            "type": "histogram2dcontour"
           }
          ],
          "mesh3d": [
           {
            "colorbar": {
             "outlinewidth": 0,
             "ticks": ""
            },
            "type": "mesh3d"
           }
          ],
          "parcoords": [
           {
            "line": {
             "colorbar": {
              "outlinewidth": 0,
              "ticks": ""
             }
            },
            "type": "parcoords"
           }
          ],
          "pie": [
           {
            "automargin": true,
            "type": "pie"
           }
          ],
          "scatter": [
           {
            "marker": {
             "colorbar": {
              "outlinewidth": 0,
              "ticks": ""
             }
            },
            "type": "scatter"
           }
          ],
          "scatter3d": [
           {
            "line": {
             "colorbar": {
              "outlinewidth": 0,
              "ticks": ""
             }
            },
            "marker": {
             "colorbar": {
              "outlinewidth": 0,
              "ticks": ""
             }
            },
            "type": "scatter3d"
           }
          ],
          "scattercarpet": [
           {
            "marker": {
             "colorbar": {
              "outlinewidth": 0,
              "ticks": ""
             }
            },
            "type": "scattercarpet"
           }
          ],
          "scattergeo": [
           {
            "marker": {
             "colorbar": {
              "outlinewidth": 0,
              "ticks": ""
             }
            },
            "type": "scattergeo"
           }
          ],
          "scattergl": [
           {
            "marker": {
             "colorbar": {
              "outlinewidth": 0,
              "ticks": ""
             }
            },
            "type": "scattergl"
           }
          ],
          "scattermapbox": [
           {
            "marker": {
             "colorbar": {
              "outlinewidth": 0,
              "ticks": ""
             }
            },
            "type": "scattermapbox"
           }
          ],
          "scatterpolar": [
           {
            "marker": {
             "colorbar": {
              "outlinewidth": 0,
              "ticks": ""
             }
            },
            "type": "scatterpolar"
           }
          ],
          "scatterpolargl": [
           {
            "marker": {
             "colorbar": {
              "outlinewidth": 0,
              "ticks": ""
             }
            },
            "type": "scatterpolargl"
           }
          ],
          "scatterternary": [
           {
            "marker": {
             "colorbar": {
              "outlinewidth": 0,
              "ticks": ""
             }
            },
            "type": "scatterternary"
           }
          ],
          "surface": [
           {
            "colorbar": {
             "outlinewidth": 0,
             "ticks": ""
            },
            "colorscale": [
             [
              0,
              "#0d0887"
             ],
             [
              0.1111111111111111,
              "#46039f"
             ],
             [
              0.2222222222222222,
              "#7201a8"
             ],
             [
              0.3333333333333333,
              "#9c179e"
             ],
             [
              0.4444444444444444,
              "#bd3786"
             ],
             [
              0.5555555555555556,
              "#d8576b"
             ],
             [
              0.6666666666666666,
              "#ed7953"
             ],
             [
              0.7777777777777778,
              "#fb9f3a"
             ],
             [
              0.8888888888888888,
              "#fdca26"
             ],
             [
              1,
              "#f0f921"
             ]
            ],
            "type": "surface"
           }
          ],
          "table": [
           {
            "cells": {
             "fill": {
              "color": "#EBF0F8"
             },
             "line": {
              "color": "white"
             }
            },
            "header": {
             "fill": {
              "color": "#C8D4E3"
             },
             "line": {
              "color": "white"
             }
            },
            "type": "table"
           }
          ]
         },
         "layout": {
          "annotationdefaults": {
           "arrowcolor": "#2a3f5f",
           "arrowhead": 0,
           "arrowwidth": 1
          },
          "coloraxis": {
           "colorbar": {
            "outlinewidth": 0,
            "ticks": ""
           }
          },
          "colorscale": {
           "diverging": [
            [
             0,
             "#8e0152"
            ],
            [
             0.1,
             "#c51b7d"
            ],
            [
             0.2,
             "#de77ae"
            ],
            [
             0.3,
             "#f1b6da"
            ],
            [
             0.4,
             "#fde0ef"
            ],
            [
             0.5,
             "#f7f7f7"
            ],
            [
             0.6,
             "#e6f5d0"
            ],
            [
             0.7,
             "#b8e186"
            ],
            [
             0.8,
             "#7fbc41"
            ],
            [
             0.9,
             "#4d9221"
            ],
            [
             1,
             "#276419"
            ]
           ],
           "sequential": [
            [
             0,
             "#0d0887"
            ],
            [
             0.1111111111111111,
             "#46039f"
            ],
            [
             0.2222222222222222,
             "#7201a8"
            ],
            [
             0.3333333333333333,
             "#9c179e"
            ],
            [
             0.4444444444444444,
             "#bd3786"
            ],
            [
             0.5555555555555556,
             "#d8576b"
            ],
            [
             0.6666666666666666,
             "#ed7953"
            ],
            [
             0.7777777777777778,
             "#fb9f3a"
            ],
            [
             0.8888888888888888,
             "#fdca26"
            ],
            [
             1,
             "#f0f921"
            ]
           ],
           "sequentialminus": [
            [
             0,
             "#0d0887"
            ],
            [
             0.1111111111111111,
             "#46039f"
            ],
            [
             0.2222222222222222,
             "#7201a8"
            ],
            [
             0.3333333333333333,
             "#9c179e"
            ],
            [
             0.4444444444444444,
             "#bd3786"
            ],
            [
             0.5555555555555556,
             "#d8576b"
            ],
            [
             0.6666666666666666,
             "#ed7953"
            ],
            [
             0.7777777777777778,
             "#fb9f3a"
            ],
            [
             0.8888888888888888,
             "#fdca26"
            ],
            [
             1,
             "#f0f921"
            ]
           ]
          },
          "colorway": [
           "#636efa",
           "#EF553B",
           "#00cc96",
           "#ab63fa",
           "#FFA15A",
           "#19d3f3",
           "#FF6692",
           "#B6E880",
           "#FF97FF",
           "#FECB52"
          ],
          "font": {
           "color": "#2a3f5f"
          },
          "geo": {
           "bgcolor": "white",
           "lakecolor": "white",
           "landcolor": "#E5ECF6",
           "showlakes": true,
           "showland": true,
           "subunitcolor": "white"
          },
          "hoverlabel": {
           "align": "left"
          },
          "hovermode": "closest",
          "mapbox": {
           "style": "light"
          },
          "paper_bgcolor": "white",
          "plot_bgcolor": "#E5ECF6",
          "polar": {
           "angularaxis": {
            "gridcolor": "white",
            "linecolor": "white",
            "ticks": ""
           },
           "bgcolor": "#E5ECF6",
           "radialaxis": {
            "gridcolor": "white",
            "linecolor": "white",
            "ticks": ""
           }
          },
          "scene": {
           "xaxis": {
            "backgroundcolor": "#E5ECF6",
            "gridcolor": "white",
            "gridwidth": 2,
            "linecolor": "white",
            "showbackground": true,
            "ticks": "",
            "zerolinecolor": "white"
           },
           "yaxis": {
            "backgroundcolor": "#E5ECF6",
            "gridcolor": "white",
            "gridwidth": 2,
            "linecolor": "white",
            "showbackground": true,
            "ticks": "",
            "zerolinecolor": "white"
           },
           "zaxis": {
            "backgroundcolor": "#E5ECF6",
            "gridcolor": "white",
            "gridwidth": 2,
            "linecolor": "white",
            "showbackground": true,
            "ticks": "",
            "zerolinecolor": "white"
           }
          },
          "shapedefaults": {
           "line": {
            "color": "#2a3f5f"
           }
          },
          "ternary": {
           "aaxis": {
            "gridcolor": "white",
            "linecolor": "white",
            "ticks": ""
           },
           "baxis": {
            "gridcolor": "white",
            "linecolor": "white",
            "ticks": ""
           },
           "bgcolor": "#E5ECF6",
           "caxis": {
            "gridcolor": "white",
            "linecolor": "white",
            "ticks": ""
           }
          },
          "title": {
           "x": 0.05
          },
          "xaxis": {
           "automargin": true,
           "gridcolor": "white",
           "linecolor": "white",
           "ticks": "",
           "title": {
            "standoff": 15
           },
           "zerolinecolor": "white",
           "zerolinewidth": 2
          },
          "yaxis": {
           "automargin": true,
           "gridcolor": "white",
           "linecolor": "white",
           "ticks": "",
           "title": {
            "standoff": 15
           },
           "zerolinecolor": "white",
           "zerolinewidth": 2
          }
         }
        }
       }
      }
     },
     "metadata": {}
    }
   ],
   "source": [
    "# 1-3\n",
    "N = 100\n",
    "(A, B) = multivariate(N, [1,0.3], [0,-0.1], .2, .3)\n",
    "\n",
    "fig = go.Figure()\n",
    "fig.add_trace(go.Scatter(x=A[:,0], y=A[:,1], mode=\"markers\"))\n",
    "fig.add_trace(go.Scatter(x=B[:,0], y=B[:,1], mode=\"markers\"))\n",
    "fig.show()\n",
    "\n",
    "w = np.random.uniform(0,1,(2,1))\n",
    "epoch = 50\n",
    "eta = 1e-4\n",
    "\n",
    "t = 3\n",
    "idx = np.arange(100)\n",
    "for i in range(3):\n",
    "    idx_a = np.random.choice(idx, 100)\n",
    "    idx_b = np.random.choice(idx, 50)\n",
    "    a = A[idx_a]\n",
    "    b = B[idx_b]\n",
    "    features = np.concatenate([a,b],axis=0)\n",
    "    targets = np.concatenate([-np.ones((a.shape[0],1)), np.ones((b.shape[0],1))], axis=0)\n",
    "\n",
    "    mae_delta = delta_learning(features, targets, w, epoch, eta)\n",
    "    model, mae_per = perceptron_learning(features, targets, 10, epoch, eta)\n",
    "\n",
    "plot_boundary(fig, w.T)\n",
    "mae_fig = go.Figure()\n",
    "mae_fig.add_trace(go.Scatter(x=np.arange(len(mae_delta)), y=mae_delta, name=\"Delta\"))\n",
    "\n",
    "plot_boundary(fig, model.W)\n",
    "mae_fig.add_trace(go.Scatter(x=np.arange(len(mae_per)), y=mae_per, name=\"Perceptron\"))\n",
    "mae_fig.show()\n",
    "fig.show()\n",
    "\n"
   ]
  },
  {
   "cell_type": "code",
   "execution_count": 218,
   "metadata": {},
   "outputs": [
    {
     "output_type": "display_data",
     "data": {
      "application/vnd.plotly.v1+json": {
       "config": {
        "plotlyServerURL": "https://plot.ly"
       },
       "data": [
        {
         "mode": "markers",
         "type": "scatter",
         "x": [
          0.7094366628281238,
          1.0294130997504816,
          1.2710142140120573,
          1.058271593763663,
          1.0092716109372204,
          0.8234327824336599,
          0.9198493844945882,
          0.8000581001252407,
          0.5574560438891458,
          0.9110135614961395,
          0.7977997542207431,
          0.6912605807833163,
          1.0023778173891196,
          0.8275645518534375,
          0.8849792346772074,
          1.095541828932493,
          1.12064538569737,
          0.9052160825786721,
          1.3284530589680967,
          0.9832775509746166,
          0.962444738296044,
          0.8611643899089513,
          1.0522964326391975,
          1.4142350785733946,
          1.1849296667988207,
          1.1479537188480937,
          0.6721645786609527,
          1.0821814378177768,
          1.191304060436971,
          1.1308292074919137,
          1.095699736195943,
          0.9253372935577374,
          1.0175708361928506,
          0.8053120309927606,
          0.7114168411961298,
          0.908949172569764,
          0.9130344477656214,
          0.9395248639325811,
          1.3817234069253572,
          0.9333579963078666,
          1.1807410571779975,
          1.1720111534205808,
          1.028209419111833,
          0.8582353435457529,
          1.2367287182995501,
          1.1039840667311027,
          1.0199284097340768,
          0.6979629220976833,
          0.8870245336947274,
          1.1061800886058915,
          0.4936780498490899,
          1.2387443580638213,
          0.9417920414387705,
          1.417299490507733,
          1.066733191339217,
          0.7347221229039804,
          0.8912688123467438,
          0.8418763217602392,
          0.7522835456280743,
          0.7037424400659388,
          1.1804706009519286,
          1.0095325586534734,
          1.0606193235481913,
          1.293273638269982,
          1.1852774567505227,
          1.1276212935165708,
          0.8358750457098589,
          1.106593659349903,
          0.962306572621254,
          1.1400965424112337,
          0.8567434539606011,
          1.0498858399110864,
          1.1152443245284318,
          0.848521529513814,
          1.099594413471133,
          1.014818704070167,
          0.8356740523715205,
          1.2452893012623114,
          1.536755785038593,
          1.2071515583861663,
          0.7173225518861686,
          1.041274730452235,
          0.993430924141163,
          0.9715565549014564,
          1.1148049579860413,
          1.2138146644248746,
          1.0603677095919481,
          0.757322430201347,
          0.4302469330975339,
          0.9030043739098134,
          1.2381660102210579,
          1.0039899115158288,
          0.9873638583894816,
          0.7245935877404217,
          1.1499196300522874,
          0.6882289942944887,
          0.8109650128663438,
          0.804225734019166,
          0.8646770913094922,
          1.3977166031174952
         ],
         "y": [
          0.23227709814770436,
          0.23052538166089942,
          0.23065982074768998,
          0.12333851229239515,
          0.3000783405632403,
          0.40030126740480815,
          0.8603034955328832,
          0.1365312370910128,
          0.33632794714303593,
          -0.12532484368678037,
          0.008621479200741744,
          0.28488375739729876,
          0.04369824922741755,
          0.27409822857253857,
          0.2209645382346505,
          -0.056439258794033,
          0.07896957753952855,
          0.29062420028978564,
          0.09696359046113615,
          0.7770474659735134,
          0.5330897326106445,
          0.5772029281435611,
          -0.0025458867579439826,
          0.45946051651172926,
          0.39858868970777817,
          0.27618225379570344,
          0.5073038136257647,
          0.14347014974573863,
          0.36535987115652113,
          0.6621992078158628,
          0.47459696220386505,
          0.15352684301423167,
          0.41363791982134057,
          -0.2090406063149241,
          0.4200314917282203,
          0.6091482119964207,
          0.3182020768073085,
          0.1726000730017128,
          0.23127821930134257,
          0.32717215962114043,
          0.44360949645321984,
          0.7564814910704336,
          -0.011535449365105477,
          0.3540962559291434,
          0.17124341744396124,
          0.6670617222208128,
          0.3771694923316552,
          0.10719883940929464,
          -0.0049345470538681435,
          0.28684772039347556,
          0.3418249919928228,
          0.18522006780874972,
          0.3706013583883154,
          0.10132570732983462,
          0.09924560588823358,
          0.11781560258288598,
          0.30857590672807444,
          0.3040055549336837,
          0.3154179206192203,
          -0.16221879303214126,
          0.22008548354764496,
          0.0577005152733322,
          0.4098624467692591,
          0.2918782705468262,
          0.38228308828488444,
          0.30544657361918803,
          0.45565058318880025,
          0.5892895707647615,
          0.30412373121447595,
          0.39527962840961234,
          0.4637532535624021,
          0.6837815989703826,
          0.18320201385194804,
          0.1642430778301097,
          -0.4614154343068974,
          0.23770159390120205,
          0.4379091973326579,
          0.348989732244142,
          0.11629833357088229,
          0.37898685889620726,
          0.4455689375948023,
          0.6283465321718091,
          0.5291851776759098,
          0.4780277021349514,
          0.4687324813078167,
          0.19530623709210942,
          0.2788120558391515,
          0.6054922157897661,
          0.34889138709083656,
          0.3934313420813631,
          0.14601182424488507,
          0.43115799847469094,
          0.4600282770196381,
          0.3771656064810926,
          0.4529889728122233,
          0.4584880659829197,
          0.5530502605336275,
          0.4581289366462516,
          0.2882377918821665,
          0.3999111628445725
         ]
        },
        {
         "mode": "markers",
         "type": "scatter",
         "x": [
          -0.07033226310705278,
          -0.11023200947528249,
          0.054309929794105004,
          0.16861940375105156,
          0.12323591133593549,
          0.10939725382389384,
          0.11900220076348085,
          0.26104266866682074,
          0.49954362439151284,
          0.4222729571770624,
          -0.08046075169824388,
          0.32714956979470167,
          -0.6642677390979562,
          0.17817665095866636,
          -0.1647921593370451,
          0.40141538271523947,
          -0.47952060429636767,
          0.11783324234919576,
          0.18697657486817595,
          0.20387020193800479,
          -0.042523482967694246,
          -0.0683904484053642,
          0.16300254293469918,
          -0.631692771250147,
          -0.42847290508862756,
          -0.17040893482783537,
          0.35629480154445814,
          -0.48905152782945915,
          0.42951636014283195,
          0.2809648363752497,
          0.6049875837178896,
          0.0165127541006639,
          0.1280350272520867,
          -0.1703893599398953,
          0.12543047993920245,
          -0.486569649360853,
          -0.18578991133307787,
          0.09136238462797533,
          0.3717505180612615,
          0.3164101724220981,
          0.1363487271077403,
          -0.19717096747077736,
          -0.008566808123106126,
          -0.012026366327953682,
          -0.0989433263295238,
          -0.3733385312078879,
          -0.23625339069409046,
          0.29403299292244023,
          0.14728561117261563,
          0.4848887585671524,
          -0.28411480167361625,
          -0.4528799229956636,
          -0.18771192220383853,
          -0.02900045276209192,
          -0.19814236973364804,
          -0.26948513142923297,
          -0.10732750186981159,
          0.2625919168881102,
          0.2409669567570305,
          -0.10125653160906636,
          -0.20490955403827624,
          -0.7711274706305499,
          0.10565100411159214,
          -0.04405866676436678,
          -0.48006744597400064,
          -0.3308817468968134,
          -0.380016733886143,
          -0.002306169439879676,
          0.3794999877423965,
          0.43053982288988357,
          -0.07257023931212268,
          -0.573095457855898,
          0.14852249529845798,
          -0.03358831234202582,
          -0.20498546102635845,
          0.10017164359321369,
          0.16736104792181342,
          -0.258646042773733,
          -0.1999322551231969,
          -0.0807487099403079,
          0.5057337612141224,
          -0.006412880922566366,
          0.47193543419610645,
          -0.02792147382144247,
          0.09951128896534457,
          -0.25708117356696275,
          0.020681410259217364,
          -0.06512883774304125,
          -0.24242870263654304,
          0.12802657581044014,
          -0.014886750638128457,
          0.10662185825810803,
          0.11742845485636355,
          0.06619200034886835,
          0.1771445807166604,
          0.358556985206902,
          -0.11678897256474072,
          0.17510816641562577,
          0.2004635250957113,
          0.6416304596966572
         ],
         "y": [
          0.29981633324868995,
          0.4402086054091122,
          -0.04685749162704203,
          0.3237735298261969,
          -0.07462596376836089,
          -0.16604644084406264,
          -0.03732262565157754,
          0.11022953137062635,
          0.2953577780640677,
          -0.24552279062972293,
          0.12190862700567076,
          -0.5724917189231516,
          0.05676864037271079,
          0.000757117848645239,
          -0.09290018318016828,
          0.05204684887116584,
          -0.31046341227049606,
          -0.41800623674854187,
          -0.0035731356775698803,
          -0.6235059679610622,
          0.04730191438605083,
          0.06435189480057849,
          0.00071734670293222,
          0.12686460484996143,
          -0.33646299278156844,
          0.1213171404702493,
          0.49465979849565955,
          -0.7305764008110371,
          -0.5016206445034781,
          -0.42381480392183346,
          -0.40782862800005404,
          -0.6922955811175817,
          0.38271315481752477,
          -0.08021046244617083,
          -0.031461278702177145,
          -0.337148416963311,
          -0.2553095663650492,
          0.18791726504129933,
          -0.3364452634325026,
          -0.31146347489627585,
          -0.28828173461983425,
          0.25378108950632583,
          0.14238720471371188,
          -0.6191911475425501,
          -0.02275740221577592,
          -0.17817033875416444,
          0.05100939621718634,
          0.5219551239185155,
          -0.05599577966214587,
          0.4283620702710432,
          0.09296936546148532,
          -0.25285738710365735,
          -0.371652581728368,
          0.22613849675232736,
          -0.15031856955563153,
          0.24543339602212208,
          -0.924492336366787,
          0.025352474093388866,
          -0.5254741289485847,
          -0.25993368352853696,
          -0.37920562726950724,
          0.12284110332147374,
          -0.012700896427285835,
          0.1776867533191043,
          -0.06838334949986853,
          -0.12947442681285806,
          -0.3495802626825051,
          0.03475525072035879,
          -0.5994557201672608,
          -0.8786438720134259,
          0.019181848709901486,
          0.12215843215867439,
          -0.020196117816142542,
          0.0579615518870763,
          -0.30109116814514003,
          0.4456785589773766,
          0.11266827681352448,
          0.06738207665712909,
          -0.43600980931654676,
          0.238061780650326,
          0.5132833486737952,
          -0.2775685295591714,
          -0.30817560047160597,
          0.01715972521449244,
          -0.02726436566808292,
          0.15119045441897114,
          -0.07885262018937923,
          -0.37296348075120056,
          0.30322282936253897,
          -0.03689078983576724,
          0.013716948166945298,
          -0.19503389795628778,
          -0.0064297681508927035,
          -0.1412341853646411,
          0.09204468869803378,
          -0.20768251328506177,
          -0.5285864674323505,
          -0.7595212820316644,
          0.10987135798467268,
          0.034270225626644696
         ]
        }
       ],
       "layout": {
        "template": {
         "data": {
          "bar": [
           {
            "error_x": {
             "color": "#2a3f5f"
            },
            "error_y": {
             "color": "#2a3f5f"
            },
            "marker": {
             "line": {
              "color": "#E5ECF6",
              "width": 0.5
             }
            },
            "type": "bar"
           }
          ],
          "barpolar": [
           {
            "marker": {
             "line": {
              "color": "#E5ECF6",
              "width": 0.5
             }
            },
            "type": "barpolar"
           }
          ],
          "carpet": [
           {
            "aaxis": {
             "endlinecolor": "#2a3f5f",
             "gridcolor": "white",
             "linecolor": "white",
             "minorgridcolor": "white",
             "startlinecolor": "#2a3f5f"
            },
            "baxis": {
             "endlinecolor": "#2a3f5f",
             "gridcolor": "white",
             "linecolor": "white",
             "minorgridcolor": "white",
             "startlinecolor": "#2a3f5f"
            },
            "type": "carpet"
           }
          ],
          "choropleth": [
           {
            "colorbar": {
             "outlinewidth": 0,
             "ticks": ""
            },
            "type": "choropleth"
           }
          ],
          "contour": [
           {
            "colorbar": {
             "outlinewidth": 0,
             "ticks": ""
            },
            "colorscale": [
             [
              0,
              "#0d0887"
             ],
             [
              0.1111111111111111,
              "#46039f"
             ],
             [
              0.2222222222222222,
              "#7201a8"
             ],
             [
              0.3333333333333333,
              "#9c179e"
             ],
             [
              0.4444444444444444,
              "#bd3786"
             ],
             [
              0.5555555555555556,
              "#d8576b"
             ],
             [
              0.6666666666666666,
              "#ed7953"
             ],
             [
              0.7777777777777778,
              "#fb9f3a"
             ],
             [
              0.8888888888888888,
              "#fdca26"
             ],
             [
              1,
              "#f0f921"
             ]
            ],
            "type": "contour"
           }
          ],
          "contourcarpet": [
           {
            "colorbar": {
             "outlinewidth": 0,
             "ticks": ""
            },
            "type": "contourcarpet"
           }
          ],
          "heatmap": [
           {
            "colorbar": {
             "outlinewidth": 0,
             "ticks": ""
            },
            "colorscale": [
             [
              0,
              "#0d0887"
             ],
             [
              0.1111111111111111,
              "#46039f"
             ],
             [
              0.2222222222222222,
              "#7201a8"
             ],
             [
              0.3333333333333333,
              "#9c179e"
             ],
             [
              0.4444444444444444,
              "#bd3786"
             ],
             [
              0.5555555555555556,
              "#d8576b"
             ],
             [
              0.6666666666666666,
              "#ed7953"
             ],
             [
              0.7777777777777778,
              "#fb9f3a"
             ],
             [
              0.8888888888888888,
              "#fdca26"
             ],
             [
              1,
              "#f0f921"
             ]
            ],
            "type": "heatmap"
           }
          ],
          "heatmapgl": [
           {
            "colorbar": {
             "outlinewidth": 0,
             "ticks": ""
            },
            "colorscale": [
             [
              0,
              "#0d0887"
             ],
             [
              0.1111111111111111,
              "#46039f"
             ],
             [
              0.2222222222222222,
              "#7201a8"
             ],
             [
              0.3333333333333333,
              "#9c179e"
             ],
             [
              0.4444444444444444,
              "#bd3786"
             ],
             [
              0.5555555555555556,
              "#d8576b"
             ],
             [
              0.6666666666666666,
              "#ed7953"
             ],
             [
              0.7777777777777778,
              "#fb9f3a"
             ],
             [
              0.8888888888888888,
              "#fdca26"
             ],
             [
              1,
              "#f0f921"
             ]
            ],
            "type": "heatmapgl"
           }
          ],
          "histogram": [
           {
            "marker": {
             "colorbar": {
              "outlinewidth": 0,
              "ticks": ""
             }
            },
            "type": "histogram"
           }
          ],
          "histogram2d": [
           {
            "colorbar": {
             "outlinewidth": 0,
             "ticks": ""
            },
            "colorscale": [
             [
              0,
              "#0d0887"
             ],
             [
              0.1111111111111111,
              "#46039f"
             ],
             [
              0.2222222222222222,
              "#7201a8"
             ],
             [
              0.3333333333333333,
              "#9c179e"
             ],
             [
              0.4444444444444444,
              "#bd3786"
             ],
             [
              0.5555555555555556,
              "#d8576b"
             ],
             [
              0.6666666666666666,
              "#ed7953"
             ],
             [
              0.7777777777777778,
              "#fb9f3a"
             ],
             [
              0.8888888888888888,
              "#fdca26"
             ],
             [
              1,
              "#f0f921"
             ]
            ],
            "type": "histogram2d"
           }
          ],
          "histogram2dcontour": [
           {
            "colorbar": {
             "outlinewidth": 0,
             "ticks": ""
            },
            "colorscale": [
             [
              0,
              "#0d0887"
             ],
             [
              0.1111111111111111,
              "#46039f"
             ],
             [
              0.2222222222222222,
              "#7201a8"
             ],
             [
              0.3333333333333333,
              "#9c179e"
             ],
             [
              0.4444444444444444,
              "#bd3786"
             ],
             [
              0.5555555555555556,
              "#d8576b"
             ],
             [
              0.6666666666666666,
              "#ed7953"
             ],
             [
              0.7777777777777778,
              "#fb9f3a"
             ],
             [
              0.8888888888888888,
              "#fdca26"
             ],
             [
              1,
              "#f0f921"
             ]
            ],
            "type": "histogram2dcontour"
           }
          ],
          "mesh3d": [
           {
            "colorbar": {
             "outlinewidth": 0,
             "ticks": ""
            },
            "type": "mesh3d"
           }
          ],
          "parcoords": [
           {
            "line": {
             "colorbar": {
              "outlinewidth": 0,
              "ticks": ""
             }
            },
            "type": "parcoords"
           }
          ],
          "pie": [
           {
            "automargin": true,
            "type": "pie"
           }
          ],
          "scatter": [
           {
            "marker": {
             "colorbar": {
              "outlinewidth": 0,
              "ticks": ""
             }
            },
            "type": "scatter"
           }
          ],
          "scatter3d": [
           {
            "line": {
             "colorbar": {
              "outlinewidth": 0,
              "ticks": ""
             }
            },
            "marker": {
             "colorbar": {
              "outlinewidth": 0,
              "ticks": ""
             }
            },
            "type": "scatter3d"
           }
          ],
          "scattercarpet": [
           {
            "marker": {
             "colorbar": {
              "outlinewidth": 0,
              "ticks": ""
             }
            },
            "type": "scattercarpet"
           }
          ],
          "scattergeo": [
           {
            "marker": {
             "colorbar": {
              "outlinewidth": 0,
              "ticks": ""
             }
            },
            "type": "scattergeo"
           }
          ],
          "scattergl": [
           {
            "marker": {
             "colorbar": {
              "outlinewidth": 0,
              "ticks": ""
             }
            },
            "type": "scattergl"
           }
          ],
          "scattermapbox": [
           {
            "marker": {
             "colorbar": {
              "outlinewidth": 0,
              "ticks": ""
             }
            },
            "type": "scattermapbox"
           }
          ],
          "scatterpolar": [
           {
            "marker": {
             "colorbar": {
              "outlinewidth": 0,
              "ticks": ""
             }
            },
            "type": "scatterpolar"
           }
          ],
          "scatterpolargl": [
           {
            "marker": {
             "colorbar": {
              "outlinewidth": 0,
              "ticks": ""
             }
            },
            "type": "scatterpolargl"
           }
          ],
          "scatterternary": [
           {
            "marker": {
             "colorbar": {
              "outlinewidth": 0,
              "ticks": ""
             }
            },
            "type": "scatterternary"
           }
          ],
          "surface": [
           {
            "colorbar": {
             "outlinewidth": 0,
             "ticks": ""
            },
            "colorscale": [
             [
              0,
              "#0d0887"
             ],
             [
              0.1111111111111111,
              "#46039f"
             ],
             [
              0.2222222222222222,
              "#7201a8"
             ],
             [
              0.3333333333333333,
              "#9c179e"
             ],
             [
              0.4444444444444444,
              "#bd3786"
             ],
             [
              0.5555555555555556,
              "#d8576b"
             ],
             [
              0.6666666666666666,
              "#ed7953"
             ],
             [
              0.7777777777777778,
              "#fb9f3a"
             ],
             [
              0.8888888888888888,
              "#fdca26"
             ],
             [
              1,
              "#f0f921"
             ]
            ],
            "type": "surface"
           }
          ],
          "table": [
           {
            "cells": {
             "fill": {
              "color": "#EBF0F8"
             },
             "line": {
              "color": "white"
             }
            },
            "header": {
             "fill": {
              "color": "#C8D4E3"
             },
             "line": {
              "color": "white"
             }
            },
            "type": "table"
           }
          ]
         },
         "layout": {
          "annotationdefaults": {
           "arrowcolor": "#2a3f5f",
           "arrowhead": 0,
           "arrowwidth": 1
          },
          "coloraxis": {
           "colorbar": {
            "outlinewidth": 0,
            "ticks": ""
           }
          },
          "colorscale": {
           "diverging": [
            [
             0,
             "#8e0152"
            ],
            [
             0.1,
             "#c51b7d"
            ],
            [
             0.2,
             "#de77ae"
            ],
            [
             0.3,
             "#f1b6da"
            ],
            [
             0.4,
             "#fde0ef"
            ],
            [
             0.5,
             "#f7f7f7"
            ],
            [
             0.6,
             "#e6f5d0"
            ],
            [
             0.7,
             "#b8e186"
            ],
            [
             0.8,
             "#7fbc41"
            ],
            [
             0.9,
             "#4d9221"
            ],
            [
             1,
             "#276419"
            ]
           ],
           "sequential": [
            [
             0,
             "#0d0887"
            ],
            [
             0.1111111111111111,
             "#46039f"
            ],
            [
             0.2222222222222222,
             "#7201a8"
            ],
            [
             0.3333333333333333,
             "#9c179e"
            ],
            [
             0.4444444444444444,
             "#bd3786"
            ],
            [
             0.5555555555555556,
             "#d8576b"
            ],
            [
             0.6666666666666666,
             "#ed7953"
            ],
            [
             0.7777777777777778,
             "#fb9f3a"
            ],
            [
             0.8888888888888888,
             "#fdca26"
            ],
            [
             1,
             "#f0f921"
            ]
           ],
           "sequentialminus": [
            [
             0,
             "#0d0887"
            ],
            [
             0.1111111111111111,
             "#46039f"
            ],
            [
             0.2222222222222222,
             "#7201a8"
            ],
            [
             0.3333333333333333,
             "#9c179e"
            ],
            [
             0.4444444444444444,
             "#bd3786"
            ],
            [
             0.5555555555555556,
             "#d8576b"
            ],
            [
             0.6666666666666666,
             "#ed7953"
            ],
            [
             0.7777777777777778,
             "#fb9f3a"
            ],
            [
             0.8888888888888888,
             "#fdca26"
            ],
            [
             1,
             "#f0f921"
            ]
           ]
          },
          "colorway": [
           "#636efa",
           "#EF553B",
           "#00cc96",
           "#ab63fa",
           "#FFA15A",
           "#19d3f3",
           "#FF6692",
           "#B6E880",
           "#FF97FF",
           "#FECB52"
          ],
          "font": {
           "color": "#2a3f5f"
          },
          "geo": {
           "bgcolor": "white",
           "lakecolor": "white",
           "landcolor": "#E5ECF6",
           "showlakes": true,
           "showland": true,
           "subunitcolor": "white"
          },
          "hoverlabel": {
           "align": "left"
          },
          "hovermode": "closest",
          "mapbox": {
           "style": "light"
          },
          "paper_bgcolor": "white",
          "plot_bgcolor": "#E5ECF6",
          "polar": {
           "angularaxis": {
            "gridcolor": "white",
            "linecolor": "white",
            "ticks": ""
           },
           "bgcolor": "#E5ECF6",
           "radialaxis": {
            "gridcolor": "white",
            "linecolor": "white",
            "ticks": ""
           }
          },
          "scene": {
           "xaxis": {
            "backgroundcolor": "#E5ECF6",
            "gridcolor": "white",
            "gridwidth": 2,
            "linecolor": "white",
            "showbackground": true,
            "ticks": "",
            "zerolinecolor": "white"
           },
           "yaxis": {
            "backgroundcolor": "#E5ECF6",
            "gridcolor": "white",
            "gridwidth": 2,
            "linecolor": "white",
            "showbackground": true,
            "ticks": "",
            "zerolinecolor": "white"
           },
           "zaxis": {
            "backgroundcolor": "#E5ECF6",
            "gridcolor": "white",
            "gridwidth": 2,
            "linecolor": "white",
            "showbackground": true,
            "ticks": "",
            "zerolinecolor": "white"
           }
          },
          "shapedefaults": {
           "line": {
            "color": "#2a3f5f"
           }
          },
          "ternary": {
           "aaxis": {
            "gridcolor": "white",
            "linecolor": "white",
            "ticks": ""
           },
           "baxis": {
            "gridcolor": "white",
            "linecolor": "white",
            "ticks": ""
           },
           "bgcolor": "#E5ECF6",
           "caxis": {
            "gridcolor": "white",
            "linecolor": "white",
            "ticks": ""
           }
          },
          "title": {
           "x": 0.05
          },
          "xaxis": {
           "automargin": true,
           "gridcolor": "white",
           "linecolor": "white",
           "ticks": "",
           "title": {
            "standoff": 15
           },
           "zerolinecolor": "white",
           "zerolinewidth": 2
          },
          "yaxis": {
           "automargin": true,
           "gridcolor": "white",
           "linecolor": "white",
           "ticks": "",
           "title": {
            "standoff": 15
           },
           "zerolinecolor": "white",
           "zerolinewidth": 2
          }
         }
        }
       }
      }
     },
     "metadata": {}
    },
    {
     "output_type": "display_data",
     "data": {
      "application/vnd.plotly.v1+json": {
       "config": {
        "plotlyServerURL": "https://plot.ly"
       },
       "data": [
        {
         "name": "Delta",
         "type": "scatter",
         "x": [
          0,
          1,
          2,
          3,
          4,
          5,
          6,
          7,
          8,
          9,
          10,
          11,
          12,
          13,
          14,
          15,
          16,
          17,
          18,
          19,
          20,
          21,
          22,
          23,
          24,
          25,
          26,
          27,
          28,
          29,
          30,
          31,
          32,
          33,
          34,
          35,
          36,
          37,
          38,
          39,
          40,
          41,
          42,
          43,
          44,
          45,
          46,
          47,
          48,
          49
         ],
         "y": [
          0.9908809357700936,
          0.9907948117233235,
          0.9907089118707291,
          0.9906232356287069,
          0.9905377824151722,
          0.9904525516495553,
          0.9903675427527979,
          0.9902827551473489,
          0.9901981882571611,
          0.9901138415076864,
          0.9900297143258726,
          0.9899458061401586,
          0.9898621163804718,
          0.9897786444782232,
          0.9896953898663043,
          0.9896123519790824,
          0.9895295302523975,
          0.9894469241235576,
          0.9893645330313363,
          0.9892823564159676,
          0.9892003937191428,
          0.9891186443840065,
          0.9890371078551528,
          0.9889557835786212,
          0.9888746710018944,
          0.9887937695738923,
          0.9887130787449692,
          0.9886325979669113,
          0.9885523266929306,
          0.9884722643776631,
          0.9883924104771648,
          0.9883127644489066,
          0.9882333257517726,
          0.9881540938460551,
          0.9880750681934513,
          0.9879962482570597,
          0.9879176335013763,
          0.9878392233922917,
          0.9877610173970856,
          0.9876830149844258,
          0.9876052156243624,
          0.9875276187883248,
          0.9874502239491195,
          0.9873730305809242,
          0.9872960381592855,
          0.9872192461611158,
          0.9871426540646886,
          0.9870662613496358,
          0.9869900674969437,
          0.9869140719889498
         ]
        },
        {
         "name": "Perceptron",
         "type": "scatter",
         "x": [
          0,
          1,
          2,
          3,
          4,
          5,
          6,
          7,
          8,
          9,
          10,
          11,
          12,
          13,
          14,
          15,
          16,
          17,
          18,
          19,
          20,
          21,
          22,
          23,
          24,
          25,
          26,
          27,
          28,
          29,
          30,
          31,
          32,
          33,
          34,
          35,
          36,
          37,
          38,
          39,
          40,
          41,
          42,
          43,
          44,
          45,
          46,
          47,
          48,
          49
         ],
         "y": [
          1.024874821082546,
          1.0248702935869913,
          1.0248616909750345,
          1.0248494201119216,
          1.0248338469829568,
          1.0248153008459153,
          1.0247940779536504,
          1.0247704448928072,
          1.0247446415794,
          1.0247168839474974,
          1.0246873663632514,
          1.0246562637929855,
          1.02462373375094,
          1.02458991804951,
          1.0245549443723592,
          1.0245189276886455,
          1.0244819715246278,
          1.0244441691072494,
          1.0244056043927392,
          1.0243663529919216,
          1.0243264830027194,
          1.0242860557592368,
          1.0242451265058556,
          1.0242037450039077,
          1.024161956077711,
          1.0241198001060703,
          1.024077313464716,
          1.0240345289246051,
          1.0239914760105078,
          1.0239481813238527,
          1.0239046688334097,
          1.0238609601370212,
          1.0238170746972777,
          1.0237730300537349,
          1.0237288420140158,
          1.0236845248259,
          1.0236400913322987,
          1.0235955531108167,
          1.0235509205994417,
          1.023506203209735,
          1.0234614094287746,
          1.0234165469109648,
          1.0233716225607232,
          1.0233266426069523,
          1.0232816126701092,
          1.0232365378226163,
          1.0231914226432652,
          1.0231462712662236,
          1.023101087425166,
          1.0230558744930283
         ]
        }
       ],
       "layout": {
        "template": {
         "data": {
          "bar": [
           {
            "error_x": {
             "color": "#2a3f5f"
            },
            "error_y": {
             "color": "#2a3f5f"
            },
            "marker": {
             "line": {
              "color": "#E5ECF6",
              "width": 0.5
             }
            },
            "type": "bar"
           }
          ],
          "barpolar": [
           {
            "marker": {
             "line": {
              "color": "#E5ECF6",
              "width": 0.5
             }
            },
            "type": "barpolar"
           }
          ],
          "carpet": [
           {
            "aaxis": {
             "endlinecolor": "#2a3f5f",
             "gridcolor": "white",
             "linecolor": "white",
             "minorgridcolor": "white",
             "startlinecolor": "#2a3f5f"
            },
            "baxis": {
             "endlinecolor": "#2a3f5f",
             "gridcolor": "white",
             "linecolor": "white",
             "minorgridcolor": "white",
             "startlinecolor": "#2a3f5f"
            },
            "type": "carpet"
           }
          ],
          "choropleth": [
           {
            "colorbar": {
             "outlinewidth": 0,
             "ticks": ""
            },
            "type": "choropleth"
           }
          ],
          "contour": [
           {
            "colorbar": {
             "outlinewidth": 0,
             "ticks": ""
            },
            "colorscale": [
             [
              0,
              "#0d0887"
             ],
             [
              0.1111111111111111,
              "#46039f"
             ],
             [
              0.2222222222222222,
              "#7201a8"
             ],
             [
              0.3333333333333333,
              "#9c179e"
             ],
             [
              0.4444444444444444,
              "#bd3786"
             ],
             [
              0.5555555555555556,
              "#d8576b"
             ],
             [
              0.6666666666666666,
              "#ed7953"
             ],
             [
              0.7777777777777778,
              "#fb9f3a"
             ],
             [
              0.8888888888888888,
              "#fdca26"
             ],
             [
              1,
              "#f0f921"
             ]
            ],
            "type": "contour"
           }
          ],
          "contourcarpet": [
           {
            "colorbar": {
             "outlinewidth": 0,
             "ticks": ""
            },
            "type": "contourcarpet"
           }
          ],
          "heatmap": [
           {
            "colorbar": {
             "outlinewidth": 0,
             "ticks": ""
            },
            "colorscale": [
             [
              0,
              "#0d0887"
             ],
             [
              0.1111111111111111,
              "#46039f"
             ],
             [
              0.2222222222222222,
              "#7201a8"
             ],
             [
              0.3333333333333333,
              "#9c179e"
             ],
             [
              0.4444444444444444,
              "#bd3786"
             ],
             [
              0.5555555555555556,
              "#d8576b"
             ],
             [
              0.6666666666666666,
              "#ed7953"
             ],
             [
              0.7777777777777778,
              "#fb9f3a"
             ],
             [
              0.8888888888888888,
              "#fdca26"
             ],
             [
              1,
              "#f0f921"
             ]
            ],
            "type": "heatmap"
           }
          ],
          "heatmapgl": [
           {
            "colorbar": {
             "outlinewidth": 0,
             "ticks": ""
            },
            "colorscale": [
             [
              0,
              "#0d0887"
             ],
             [
              0.1111111111111111,
              "#46039f"
             ],
             [
              0.2222222222222222,
              "#7201a8"
             ],
             [
              0.3333333333333333,
              "#9c179e"
             ],
             [
              0.4444444444444444,
              "#bd3786"
             ],
             [
              0.5555555555555556,
              "#d8576b"
             ],
             [
              0.6666666666666666,
              "#ed7953"
             ],
             [
              0.7777777777777778,
              "#fb9f3a"
             ],
             [
              0.8888888888888888,
              "#fdca26"
             ],
             [
              1,
              "#f0f921"
             ]
            ],
            "type": "heatmapgl"
           }
          ],
          "histogram": [
           {
            "marker": {
             "colorbar": {
              "outlinewidth": 0,
              "ticks": ""
             }
            },
            "type": "histogram"
           }
          ],
          "histogram2d": [
           {
            "colorbar": {
             "outlinewidth": 0,
             "ticks": ""
            },
            "colorscale": [
             [
              0,
              "#0d0887"
             ],
             [
              0.1111111111111111,
              "#46039f"
             ],
             [
              0.2222222222222222,
              "#7201a8"
             ],
             [
              0.3333333333333333,
              "#9c179e"
             ],
             [
              0.4444444444444444,
              "#bd3786"
             ],
             [
              0.5555555555555556,
              "#d8576b"
             ],
             [
              0.6666666666666666,
              "#ed7953"
             ],
             [
              0.7777777777777778,
              "#fb9f3a"
             ],
             [
              0.8888888888888888,
              "#fdca26"
             ],
             [
              1,
              "#f0f921"
             ]
            ],
            "type": "histogram2d"
           }
          ],
          "histogram2dcontour": [
           {
            "colorbar": {
             "outlinewidth": 0,
             "ticks": ""
            },
            "colorscale": [
             [
              0,
              "#0d0887"
             ],
             [
              0.1111111111111111,
              "#46039f"
             ],
             [
              0.2222222222222222,
              "#7201a8"
             ],
             [
              0.3333333333333333,
              "#9c179e"
             ],
             [
              0.4444444444444444,
              "#bd3786"
             ],
             [
              0.5555555555555556,
              "#d8576b"
             ],
             [
              0.6666666666666666,
              "#ed7953"
             ],
             [
              0.7777777777777778,
              "#fb9f3a"
             ],
             [
              0.8888888888888888,
              "#fdca26"
             ],
             [
              1,
              "#f0f921"
             ]
            ],
            "type": "histogram2dcontour"
           }
          ],
          "mesh3d": [
           {
            "colorbar": {
             "outlinewidth": 0,
             "ticks": ""
            },
            "type": "mesh3d"
           }
          ],
          "parcoords": [
           {
            "line": {
             "colorbar": {
              "outlinewidth": 0,
              "ticks": ""
             }
            },
            "type": "parcoords"
           }
          ],
          "pie": [
           {
            "automargin": true,
            "type": "pie"
           }
          ],
          "scatter": [
           {
            "marker": {
             "colorbar": {
              "outlinewidth": 0,
              "ticks": ""
             }
            },
            "type": "scatter"
           }
          ],
          "scatter3d": [
           {
            "line": {
             "colorbar": {
              "outlinewidth": 0,
              "ticks": ""
             }
            },
            "marker": {
             "colorbar": {
              "outlinewidth": 0,
              "ticks": ""
             }
            },
            "type": "scatter3d"
           }
          ],
          "scattercarpet": [
           {
            "marker": {
             "colorbar": {
              "outlinewidth": 0,
              "ticks": ""
             }
            },
            "type": "scattercarpet"
           }
          ],
          "scattergeo": [
           {
            "marker": {
             "colorbar": {
              "outlinewidth": 0,
              "ticks": ""
             }
            },
            "type": "scattergeo"
           }
          ],
          "scattergl": [
           {
            "marker": {
             "colorbar": {
              "outlinewidth": 0,
              "ticks": ""
             }
            },
            "type": "scattergl"
           }
          ],
          "scattermapbox": [
           {
            "marker": {
             "colorbar": {
              "outlinewidth": 0,
              "ticks": ""
             }
            },
            "type": "scattermapbox"
           }
          ],
          "scatterpolar": [
           {
            "marker": {
             "colorbar": {
              "outlinewidth": 0,
              "ticks": ""
             }
            },
            "type": "scatterpolar"
           }
          ],
          "scatterpolargl": [
           {
            "marker": {
             "colorbar": {
              "outlinewidth": 0,
              "ticks": ""
             }
            },
            "type": "scatterpolargl"
           }
          ],
          "scatterternary": [
           {
            "marker": {
             "colorbar": {
              "outlinewidth": 0,
              "ticks": ""
             }
            },
            "type": "scatterternary"
           }
          ],
          "surface": [
           {
            "colorbar": {
             "outlinewidth": 0,
             "ticks": ""
            },
            "colorscale": [
             [
              0,
              "#0d0887"
             ],
             [
              0.1111111111111111,
              "#46039f"
             ],
             [
              0.2222222222222222,
              "#7201a8"
             ],
             [
              0.3333333333333333,
              "#9c179e"
             ],
             [
              0.4444444444444444,
              "#bd3786"
             ],
             [
              0.5555555555555556,
              "#d8576b"
             ],
             [
              0.6666666666666666,
              "#ed7953"
             ],
             [
              0.7777777777777778,
              "#fb9f3a"
             ],
             [
              0.8888888888888888,
              "#fdca26"
             ],
             [
              1,
              "#f0f921"
             ]
            ],
            "type": "surface"
           }
          ],
          "table": [
           {
            "cells": {
             "fill": {
              "color": "#EBF0F8"
             },
             "line": {
              "color": "white"
             }
            },
            "header": {
             "fill": {
              "color": "#C8D4E3"
             },
             "line": {
              "color": "white"
             }
            },
            "type": "table"
           }
          ]
         },
         "layout": {
          "annotationdefaults": {
           "arrowcolor": "#2a3f5f",
           "arrowhead": 0,
           "arrowwidth": 1
          },
          "coloraxis": {
           "colorbar": {
            "outlinewidth": 0,
            "ticks": ""
           }
          },
          "colorscale": {
           "diverging": [
            [
             0,
             "#8e0152"
            ],
            [
             0.1,
             "#c51b7d"
            ],
            [
             0.2,
             "#de77ae"
            ],
            [
             0.3,
             "#f1b6da"
            ],
            [
             0.4,
             "#fde0ef"
            ],
            [
             0.5,
             "#f7f7f7"
            ],
            [
             0.6,
             "#e6f5d0"
            ],
            [
             0.7,
             "#b8e186"
            ],
            [
             0.8,
             "#7fbc41"
            ],
            [
             0.9,
             "#4d9221"
            ],
            [
             1,
             "#276419"
            ]
           ],
           "sequential": [
            [
             0,
             "#0d0887"
            ],
            [
             0.1111111111111111,
             "#46039f"
            ],
            [
             0.2222222222222222,
             "#7201a8"
            ],
            [
             0.3333333333333333,
             "#9c179e"
            ],
            [
             0.4444444444444444,
             "#bd3786"
            ],
            [
             0.5555555555555556,
             "#d8576b"
            ],
            [
             0.6666666666666666,
             "#ed7953"
            ],
            [
             0.7777777777777778,
             "#fb9f3a"
            ],
            [
             0.8888888888888888,
             "#fdca26"
            ],
            [
             1,
             "#f0f921"
            ]
           ],
           "sequentialminus": [
            [
             0,
             "#0d0887"
            ],
            [
             0.1111111111111111,
             "#46039f"
            ],
            [
             0.2222222222222222,
             "#7201a8"
            ],
            [
             0.3333333333333333,
             "#9c179e"
            ],
            [
             0.4444444444444444,
             "#bd3786"
            ],
            [
             0.5555555555555556,
             "#d8576b"
            ],
            [
             0.6666666666666666,
             "#ed7953"
            ],
            [
             0.7777777777777778,
             "#fb9f3a"
            ],
            [
             0.8888888888888888,
             "#fdca26"
            ],
            [
             1,
             "#f0f921"
            ]
           ]
          },
          "colorway": [
           "#636efa",
           "#EF553B",
           "#00cc96",
           "#ab63fa",
           "#FFA15A",
           "#19d3f3",
           "#FF6692",
           "#B6E880",
           "#FF97FF",
           "#FECB52"
          ],
          "font": {
           "color": "#2a3f5f"
          },
          "geo": {
           "bgcolor": "white",
           "lakecolor": "white",
           "landcolor": "#E5ECF6",
           "showlakes": true,
           "showland": true,
           "subunitcolor": "white"
          },
          "hoverlabel": {
           "align": "left"
          },
          "hovermode": "closest",
          "mapbox": {
           "style": "light"
          },
          "paper_bgcolor": "white",
          "plot_bgcolor": "#E5ECF6",
          "polar": {
           "angularaxis": {
            "gridcolor": "white",
            "linecolor": "white",
            "ticks": ""
           },
           "bgcolor": "#E5ECF6",
           "radialaxis": {
            "gridcolor": "white",
            "linecolor": "white",
            "ticks": ""
           }
          },
          "scene": {
           "xaxis": {
            "backgroundcolor": "#E5ECF6",
            "gridcolor": "white",
            "gridwidth": 2,
            "linecolor": "white",
            "showbackground": true,
            "ticks": "",
            "zerolinecolor": "white"
           },
           "yaxis": {
            "backgroundcolor": "#E5ECF6",
            "gridcolor": "white",
            "gridwidth": 2,
            "linecolor": "white",
            "showbackground": true,
            "ticks": "",
            "zerolinecolor": "white"
           },
           "zaxis": {
            "backgroundcolor": "#E5ECF6",
            "gridcolor": "white",
            "gridwidth": 2,
            "linecolor": "white",
            "showbackground": true,
            "ticks": "",
            "zerolinecolor": "white"
           }
          },
          "shapedefaults": {
           "line": {
            "color": "#2a3f5f"
           }
          },
          "ternary": {
           "aaxis": {
            "gridcolor": "white",
            "linecolor": "white",
            "ticks": ""
           },
           "baxis": {
            "gridcolor": "white",
            "linecolor": "white",
            "ticks": ""
           },
           "bgcolor": "#E5ECF6",
           "caxis": {
            "gridcolor": "white",
            "linecolor": "white",
            "ticks": ""
           }
          },
          "title": {
           "x": 0.05
          },
          "xaxis": {
           "automargin": true,
           "gridcolor": "white",
           "linecolor": "white",
           "ticks": "",
           "title": {
            "standoff": 15
           },
           "zerolinecolor": "white",
           "zerolinewidth": 2
          },
          "yaxis": {
           "automargin": true,
           "gridcolor": "white",
           "linecolor": "white",
           "ticks": "",
           "title": {
            "standoff": 15
           },
           "zerolinecolor": "white",
           "zerolinewidth": 2
          }
         }
        }
       }
      }
     },
     "metadata": {}
    },
    {
     "output_type": "display_data",
     "data": {
      "application/vnd.plotly.v1+json": {
       "config": {
        "plotlyServerURL": "https://plot.ly"
       },
       "data": [
        {
         "mode": "markers",
         "type": "scatter",
         "x": [
          0.7094366628281238,
          1.0294130997504816,
          1.2710142140120573,
          1.058271593763663,
          1.0092716109372204,
          0.8234327824336599,
          0.9198493844945882,
          0.8000581001252407,
          0.5574560438891458,
          0.9110135614961395,
          0.7977997542207431,
          0.6912605807833163,
          1.0023778173891196,
          0.8275645518534375,
          0.8849792346772074,
          1.095541828932493,
          1.12064538569737,
          0.9052160825786721,
          1.3284530589680967,
          0.9832775509746166,
          0.962444738296044,
          0.8611643899089513,
          1.0522964326391975,
          1.4142350785733946,
          1.1849296667988207,
          1.1479537188480937,
          0.6721645786609527,
          1.0821814378177768,
          1.191304060436971,
          1.1308292074919137,
          1.095699736195943,
          0.9253372935577374,
          1.0175708361928506,
          0.8053120309927606,
          0.7114168411961298,
          0.908949172569764,
          0.9130344477656214,
          0.9395248639325811,
          1.3817234069253572,
          0.9333579963078666,
          1.1807410571779975,
          1.1720111534205808,
          1.028209419111833,
          0.8582353435457529,
          1.2367287182995501,
          1.1039840667311027,
          1.0199284097340768,
          0.6979629220976833,
          0.8870245336947274,
          1.1061800886058915,
          0.4936780498490899,
          1.2387443580638213,
          0.9417920414387705,
          1.417299490507733,
          1.066733191339217,
          0.7347221229039804,
          0.8912688123467438,
          0.8418763217602392,
          0.7522835456280743,
          0.7037424400659388,
          1.1804706009519286,
          1.0095325586534734,
          1.0606193235481913,
          1.293273638269982,
          1.1852774567505227,
          1.1276212935165708,
          0.8358750457098589,
          1.106593659349903,
          0.962306572621254,
          1.1400965424112337,
          0.8567434539606011,
          1.0498858399110864,
          1.1152443245284318,
          0.848521529513814,
          1.099594413471133,
          1.014818704070167,
          0.8356740523715205,
          1.2452893012623114,
          1.536755785038593,
          1.2071515583861663,
          0.7173225518861686,
          1.041274730452235,
          0.993430924141163,
          0.9715565549014564,
          1.1148049579860413,
          1.2138146644248746,
          1.0603677095919481,
          0.757322430201347,
          0.4302469330975339,
          0.9030043739098134,
          1.2381660102210579,
          1.0039899115158288,
          0.9873638583894816,
          0.7245935877404217,
          1.1499196300522874,
          0.6882289942944887,
          0.8109650128663438,
          0.804225734019166,
          0.8646770913094922,
          1.3977166031174952
         ],
         "y": [
          0.23227709814770436,
          0.23052538166089942,
          0.23065982074768998,
          0.12333851229239515,
          0.3000783405632403,
          0.40030126740480815,
          0.8603034955328832,
          0.1365312370910128,
          0.33632794714303593,
          -0.12532484368678037,
          0.008621479200741744,
          0.28488375739729876,
          0.04369824922741755,
          0.27409822857253857,
          0.2209645382346505,
          -0.056439258794033,
          0.07896957753952855,
          0.29062420028978564,
          0.09696359046113615,
          0.7770474659735134,
          0.5330897326106445,
          0.5772029281435611,
          -0.0025458867579439826,
          0.45946051651172926,
          0.39858868970777817,
          0.27618225379570344,
          0.5073038136257647,
          0.14347014974573863,
          0.36535987115652113,
          0.6621992078158628,
          0.47459696220386505,
          0.15352684301423167,
          0.41363791982134057,
          -0.2090406063149241,
          0.4200314917282203,
          0.6091482119964207,
          0.3182020768073085,
          0.1726000730017128,
          0.23127821930134257,
          0.32717215962114043,
          0.44360949645321984,
          0.7564814910704336,
          -0.011535449365105477,
          0.3540962559291434,
          0.17124341744396124,
          0.6670617222208128,
          0.3771694923316552,
          0.10719883940929464,
          -0.0049345470538681435,
          0.28684772039347556,
          0.3418249919928228,
          0.18522006780874972,
          0.3706013583883154,
          0.10132570732983462,
          0.09924560588823358,
          0.11781560258288598,
          0.30857590672807444,
          0.3040055549336837,
          0.3154179206192203,
          -0.16221879303214126,
          0.22008548354764496,
          0.0577005152733322,
          0.4098624467692591,
          0.2918782705468262,
          0.38228308828488444,
          0.30544657361918803,
          0.45565058318880025,
          0.5892895707647615,
          0.30412373121447595,
          0.39527962840961234,
          0.4637532535624021,
          0.6837815989703826,
          0.18320201385194804,
          0.1642430778301097,
          -0.4614154343068974,
          0.23770159390120205,
          0.4379091973326579,
          0.348989732244142,
          0.11629833357088229,
          0.37898685889620726,
          0.4455689375948023,
          0.6283465321718091,
          0.5291851776759098,
          0.4780277021349514,
          0.4687324813078167,
          0.19530623709210942,
          0.2788120558391515,
          0.6054922157897661,
          0.34889138709083656,
          0.3934313420813631,
          0.14601182424488507,
          0.43115799847469094,
          0.4600282770196381,
          0.3771656064810926,
          0.4529889728122233,
          0.4584880659829197,
          0.5530502605336275,
          0.4581289366462516,
          0.2882377918821665,
          0.3999111628445725
         ]
        },
        {
         "mode": "markers",
         "type": "scatter",
         "x": [
          -0.07033226310705278,
          -0.11023200947528249,
          0.054309929794105004,
          0.16861940375105156,
          0.12323591133593549,
          0.10939725382389384,
          0.11900220076348085,
          0.26104266866682074,
          0.49954362439151284,
          0.4222729571770624,
          -0.08046075169824388,
          0.32714956979470167,
          -0.6642677390979562,
          0.17817665095866636,
          -0.1647921593370451,
          0.40141538271523947,
          -0.47952060429636767,
          0.11783324234919576,
          0.18697657486817595,
          0.20387020193800479,
          -0.042523482967694246,
          -0.0683904484053642,
          0.16300254293469918,
          -0.631692771250147,
          -0.42847290508862756,
          -0.17040893482783537,
          0.35629480154445814,
          -0.48905152782945915,
          0.42951636014283195,
          0.2809648363752497,
          0.6049875837178896,
          0.0165127541006639,
          0.1280350272520867,
          -0.1703893599398953,
          0.12543047993920245,
          -0.486569649360853,
          -0.18578991133307787,
          0.09136238462797533,
          0.3717505180612615,
          0.3164101724220981,
          0.1363487271077403,
          -0.19717096747077736,
          -0.008566808123106126,
          -0.012026366327953682,
          -0.0989433263295238,
          -0.3733385312078879,
          -0.23625339069409046,
          0.29403299292244023,
          0.14728561117261563,
          0.4848887585671524,
          -0.28411480167361625,
          -0.4528799229956636,
          -0.18771192220383853,
          -0.02900045276209192,
          -0.19814236973364804,
          -0.26948513142923297,
          -0.10732750186981159,
          0.2625919168881102,
          0.2409669567570305,
          -0.10125653160906636,
          -0.20490955403827624,
          -0.7711274706305499,
          0.10565100411159214,
          -0.04405866676436678,
          -0.48006744597400064,
          -0.3308817468968134,
          -0.380016733886143,
          -0.002306169439879676,
          0.3794999877423965,
          0.43053982288988357,
          -0.07257023931212268,
          -0.573095457855898,
          0.14852249529845798,
          -0.03358831234202582,
          -0.20498546102635845,
          0.10017164359321369,
          0.16736104792181342,
          -0.258646042773733,
          -0.1999322551231969,
          -0.0807487099403079,
          0.5057337612141224,
          -0.006412880922566366,
          0.47193543419610645,
          -0.02792147382144247,
          0.09951128896534457,
          -0.25708117356696275,
          0.020681410259217364,
          -0.06512883774304125,
          -0.24242870263654304,
          0.12802657581044014,
          -0.014886750638128457,
          0.10662185825810803,
          0.11742845485636355,
          0.06619200034886835,
          0.1771445807166604,
          0.358556985206902,
          -0.11678897256474072,
          0.17510816641562577,
          0.2004635250957113,
          0.6416304596966572
         ],
         "y": [
          0.29981633324868995,
          0.4402086054091122,
          -0.04685749162704203,
          0.3237735298261969,
          -0.07462596376836089,
          -0.16604644084406264,
          -0.03732262565157754,
          0.11022953137062635,
          0.2953577780640677,
          -0.24552279062972293,
          0.12190862700567076,
          -0.5724917189231516,
          0.05676864037271079,
          0.000757117848645239,
          -0.09290018318016828,
          0.05204684887116584,
          -0.31046341227049606,
          -0.41800623674854187,
          -0.0035731356775698803,
          -0.6235059679610622,
          0.04730191438605083,
          0.06435189480057849,
          0.00071734670293222,
          0.12686460484996143,
          -0.33646299278156844,
          0.1213171404702493,
          0.49465979849565955,
          -0.7305764008110371,
          -0.5016206445034781,
          -0.42381480392183346,
          -0.40782862800005404,
          -0.6922955811175817,
          0.38271315481752477,
          -0.08021046244617083,
          -0.031461278702177145,
          -0.337148416963311,
          -0.2553095663650492,
          0.18791726504129933,
          -0.3364452634325026,
          -0.31146347489627585,
          -0.28828173461983425,
          0.25378108950632583,
          0.14238720471371188,
          -0.6191911475425501,
          -0.02275740221577592,
          -0.17817033875416444,
          0.05100939621718634,
          0.5219551239185155,
          -0.05599577966214587,
          0.4283620702710432,
          0.09296936546148532,
          -0.25285738710365735,
          -0.371652581728368,
          0.22613849675232736,
          -0.15031856955563153,
          0.24543339602212208,
          -0.924492336366787,
          0.025352474093388866,
          -0.5254741289485847,
          -0.25993368352853696,
          -0.37920562726950724,
          0.12284110332147374,
          -0.012700896427285835,
          0.1776867533191043,
          -0.06838334949986853,
          -0.12947442681285806,
          -0.3495802626825051,
          0.03475525072035879,
          -0.5994557201672608,
          -0.8786438720134259,
          0.019181848709901486,
          0.12215843215867439,
          -0.020196117816142542,
          0.0579615518870763,
          -0.30109116814514003,
          0.4456785589773766,
          0.11266827681352448,
          0.06738207665712909,
          -0.43600980931654676,
          0.238061780650326,
          0.5132833486737952,
          -0.2775685295591714,
          -0.30817560047160597,
          0.01715972521449244,
          -0.02726436566808292,
          0.15119045441897114,
          -0.07885262018937923,
          -0.37296348075120056,
          0.30322282936253897,
          -0.03689078983576724,
          0.013716948166945298,
          -0.19503389795628778,
          -0.0064297681508927035,
          -0.1412341853646411,
          0.09204468869803378,
          -0.20768251328506177,
          -0.5285864674323505,
          -0.7595212820316644,
          0.10987135798467268,
          0.034270225626644696
         ]
        },
        {
         "mode": "markers",
         "type": "scatter",
         "x": [
          -5,
          -4.898989898989899,
          -4.797979797979798,
          -4.696969696969697,
          -4.595959595959596,
          -4.494949494949495,
          -4.393939393939394,
          -4.292929292929293,
          -4.191919191919192,
          -4.090909090909091,
          -3.9898989898989896,
          -3.888888888888889,
          -3.787878787878788,
          -3.686868686868687,
          -3.5858585858585856,
          -3.484848484848485,
          -3.383838383838384,
          -3.282828282828283,
          -3.1818181818181817,
          -3.080808080808081,
          -2.9797979797979797,
          -2.878787878787879,
          -2.7777777777777777,
          -2.676767676767677,
          -2.5757575757575757,
          -2.474747474747475,
          -2.3737373737373737,
          -2.272727272727273,
          -2.1717171717171717,
          -2.070707070707071,
          -1.9696969696969697,
          -1.868686868686869,
          -1.7676767676767677,
          -1.6666666666666665,
          -1.5656565656565657,
          -1.4646464646464645,
          -1.3636363636363638,
          -1.2626262626262625,
          -1.1616161616161618,
          -1.0606060606060606,
          -0.9595959595959593,
          -0.858585858585859,
          -0.7575757575757578,
          -0.6565656565656566,
          -0.5555555555555554,
          -0.45454545454545503,
          -0.3535353535353538,
          -0.2525252525252526,
          -0.15151515151515138,
          -0.050505050505050164,
          0.050505050505050164,
          0.15151515151515138,
          0.2525252525252526,
          0.3535353535353538,
          0.45454545454545414,
          0.5555555555555554,
          0.6565656565656566,
          0.7575757575757578,
          0.8585858585858581,
          0.9595959595959593,
          1.0606060606060606,
          1.1616161616161618,
          1.262626262626262,
          1.3636363636363633,
          1.4646464646464645,
          1.5656565656565657,
          1.666666666666667,
          1.7676767676767673,
          1.8686868686868685,
          1.9696969696969697,
          2.070707070707071,
          2.1717171717171713,
          2.2727272727272725,
          2.3737373737373737,
          2.474747474747475,
          2.5757575757575752,
          2.6767676767676765,
          2.7777777777777777,
          2.878787878787879,
          2.9797979797979792,
          3.0808080808080813,
          3.1818181818181817,
          3.282828282828282,
          3.383838383838384,
          3.4848484848484844,
          3.5858585858585865,
          3.686868686868687,
          3.787878787878787,
          3.8888888888888893,
          3.9898989898989896,
          4.09090909090909,
          4.191919191919192,
          4.292929292929292,
          4.3939393939393945,
          4.494949494949495,
          4.595959595959595,
          4.696969696969697,
          4.797979797979798,
          4.8989898989899,
          5
         ],
         "y": [
          12.107984154705434,
          11.863378414206336,
          11.618772673707234,
          11.374166933208135,
          11.129561192709037,
          10.884955452209935,
          10.640349711710837,
          10.395743971211738,
          10.151138230712638,
          9.906532490213538,
          9.661926749714437,
          9.417321009215339,
          9.17271526871624,
          8.928109528217139,
          8.683503787718038,
          8.43889804721894,
          8.19429230671984,
          7.94968656622074,
          7.70508082572164,
          7.460475085222542,
          7.2158693447234405,
          6.971263604224341,
          6.726657863725242,
          6.4820521232261425,
          6.237446382727041,
          5.992840642227943,
          5.748234901728843,
          5.503629161229743,
          5.259023420730643,
          5.014417680231545,
          4.769811939732444,
          4.525206199233345,
          4.280600458734245,
          4.035994718235145,
          3.7913889777360454,
          3.5467832372369457,
          3.3021774967378463,
          3.057571756238746,
          2.8129660157396468,
          2.5683602752405466,
          2.3237545347414463,
          2.0791487942423483,
          1.8345430537432483,
          1.589937313244148,
          1.3453315727450479,
          1.1007258322459499,
          0.8561200917468496,
          0.6115143512477494,
          0.3669086107486492,
          0.12230287024954903,
          -0.12230287024954903,
          -0.3669086107486492,
          -0.6115143512477494,
          -0.8561200917468496,
          -1.1007258322459477,
          -1.3453315727450479,
          -1.589937313244148,
          -1.8345430537432483,
          -2.079148794242346,
          -2.3237545347414463,
          -2.5683602752405466,
          -2.8129660157396468,
          -3.057571756238745,
          -3.302177496737845,
          -3.5467832372369457,
          -3.7913889777360454,
          -4.035994718235146,
          -4.280600458734243,
          -4.525206199233344,
          -4.769811939732444,
          -5.014417680231545,
          -5.259023420730642,
          -5.503629161229743,
          -5.748234901728843,
          -5.992840642227943,
          -6.2374463827270406,
          -6.482052123226142,
          -6.726657863725242,
          -6.971263604224341,
          -7.215869344723439,
          -7.4604750852225425,
          -7.70508082572164,
          -7.949686566220738,
          -8.19429230671984,
          -8.438898047218938,
          -8.683503787718042,
          -8.928109528217139,
          -9.172715268716237,
          -9.417321009215339,
          -9.661926749714437,
          -9.906532490213534,
          -10.151138230712638,
          -10.395743971211736,
          -10.64034971171084,
          -10.884955452209935,
          -11.129561192709035,
          -11.374166933208135,
          -11.618772673707234,
          -11.863378414206338,
          -12.107984154705434
         ]
        },
        {
         "mode": "markers",
         "type": "scatter",
         "x": [
          -5,
          -4.898989898989899,
          -4.797979797979798,
          -4.696969696969697,
          -4.595959595959596,
          -4.494949494949495,
          -4.393939393939394,
          -4.292929292929293,
          -4.191919191919192,
          -4.090909090909091,
          -3.9898989898989896,
          -3.888888888888889,
          -3.787878787878788,
          -3.686868686868687,
          -3.5858585858585856,
          -3.484848484848485,
          -3.383838383838384,
          -3.282828282828283,
          -3.1818181818181817,
          -3.080808080808081,
          -2.9797979797979797,
          -2.878787878787879,
          -2.7777777777777777,
          -2.676767676767677,
          -2.5757575757575757,
          -2.474747474747475,
          -2.3737373737373737,
          -2.272727272727273,
          -2.1717171717171717,
          -2.070707070707071,
          -1.9696969696969697,
          -1.868686868686869,
          -1.7676767676767677,
          -1.6666666666666665,
          -1.5656565656565657,
          -1.4646464646464645,
          -1.3636363636363638,
          -1.2626262626262625,
          -1.1616161616161618,
          -1.0606060606060606,
          -0.9595959595959593,
          -0.858585858585859,
          -0.7575757575757578,
          -0.6565656565656566,
          -0.5555555555555554,
          -0.45454545454545503,
          -0.3535353535353538,
          -0.2525252525252526,
          -0.15151515151515138,
          -0.050505050505050164,
          0.050505050505050164,
          0.15151515151515138,
          0.2525252525252526,
          0.3535353535353538,
          0.45454545454545414,
          0.5555555555555554,
          0.6565656565656566,
          0.7575757575757578,
          0.8585858585858581,
          0.9595959595959593,
          1.0606060606060606,
          1.1616161616161618,
          1.262626262626262,
          1.3636363636363633,
          1.4646464646464645,
          1.5656565656565657,
          1.666666666666667,
          1.7676767676767673,
          1.8686868686868685,
          1.9696969696969697,
          2.070707070707071,
          2.1717171717171713,
          2.2727272727272725,
          2.3737373737373737,
          2.474747474747475,
          2.5757575757575752,
          2.6767676767676765,
          2.7777777777777777,
          2.878787878787879,
          2.9797979797979792,
          3.0808080808080813,
          3.1818181818181817,
          3.282828282828282,
          3.383838383838384,
          3.4848484848484844,
          3.5858585858585865,
          3.686868686868687,
          3.787878787878787,
          3.8888888888888893,
          3.9898989898989896,
          4.09090909090909,
          4.191919191919192,
          4.292929292929292,
          4.3939393939393945,
          4.494949494949495,
          4.595959595959595,
          4.696969696969697,
          4.797979797979798,
          4.8989898989899,
          5
         ],
         "y": [
          -12.178860983895765,
          -11.932823388261507,
          -11.68678579262725,
          -11.440748196992992,
          -11.194710601358736,
          -10.948673005724476,
          -10.702635410090217,
          -10.456597814455963,
          -10.210560218821701,
          -9.964522623187445,
          -9.718485027553186,
          -9.472447431918928,
          -9.226409836284672,
          -8.980372240650413,
          -8.734334645016157,
          -8.488297049381899,
          -8.24225945374764,
          -7.996221858113382,
          -7.750184262479122,
          -7.504146666844865,
          -7.258109071210607,
          -7.0120714755763505,
          -6.766033879942091,
          -6.519996284307834,
          -6.273958688673575,
          -6.0279210930393194,
          -5.78188349740506,
          -5.535845901770803,
          -5.289808306136544,
          -5.0437707105022875,
          -4.797733114868029,
          -4.551695519233772,
          -4.305657923599513,
          -4.059620327965255,
          -3.8135827323309974,
          -3.5675451366967392,
          -3.3215075410624815,
          -3.0754699454282237,
          -2.829432349793966,
          -2.583394754159708,
          -2.337357158525449,
          -2.091319562891193,
          -1.8452819672569352,
          -1.5992443716226765,
          -1.353206775988418,
          -1.1071691803541617,
          -0.8611315847199033,
          -0.6150939890856448,
          -0.3690563934513865,
          -0.1230187978171281,
          0.1230187978171281,
          0.3690563934513865,
          0.6150939890856448,
          0.8611315847199033,
          1.1071691803541595,
          1.353206775988418,
          1.5992443716226765,
          1.8452819672569352,
          2.091319562891191,
          2.337357158525449,
          2.583394754159708,
          2.829432349793966,
          3.075469945428222,
          3.3215075410624806,
          3.5675451366967392,
          3.8135827323309974,
          4.0596203279652565,
          4.3056579235995125,
          4.551695519233769,
          4.797733114868029,
          5.0437707105022875,
          5.2898083061365435,
          5.535845901770801,
          5.78188349740506,
          6.0279210930393194,
          6.273958688673575,
          6.519996284307834,
          6.766033879942091,
          7.0120714755763505,
          7.2581090712106064,
          7.504146666844868,
          7.750184262479122,
          7.9962218581133815,
          8.24225945374764,
          8.488297049381895,
          8.734334645016158,
          8.980372240650413,
          9.22640983628467,
          9.472447431918928,
          9.718485027553186,
          9.964522623187442,
          10.210560218821701,
          10.456597814455959,
          10.70263541009022,
          10.948673005724476,
          11.194710601358732,
          11.440748196992992,
          11.68678579262725,
          11.932823388261511,
          12.178860983895765
         ]
        }
       ],
       "layout": {
        "template": {
         "data": {
          "bar": [
           {
            "error_x": {
             "color": "#2a3f5f"
            },
            "error_y": {
             "color": "#2a3f5f"
            },
            "marker": {
             "line": {
              "color": "#E5ECF6",
              "width": 0.5
             }
            },
            "type": "bar"
           }
          ],
          "barpolar": [
           {
            "marker": {
             "line": {
              "color": "#E5ECF6",
              "width": 0.5
             }
            },
            "type": "barpolar"
           }
          ],
          "carpet": [
           {
            "aaxis": {
             "endlinecolor": "#2a3f5f",
             "gridcolor": "white",
             "linecolor": "white",
             "minorgridcolor": "white",
             "startlinecolor": "#2a3f5f"
            },
            "baxis": {
             "endlinecolor": "#2a3f5f",
             "gridcolor": "white",
             "linecolor": "white",
             "minorgridcolor": "white",
             "startlinecolor": "#2a3f5f"
            },
            "type": "carpet"
           }
          ],
          "choropleth": [
           {
            "colorbar": {
             "outlinewidth": 0,
             "ticks": ""
            },
            "type": "choropleth"
           }
          ],
          "contour": [
           {
            "colorbar": {
             "outlinewidth": 0,
             "ticks": ""
            },
            "colorscale": [
             [
              0,
              "#0d0887"
             ],
             [
              0.1111111111111111,
              "#46039f"
             ],
             [
              0.2222222222222222,
              "#7201a8"
             ],
             [
              0.3333333333333333,
              "#9c179e"
             ],
             [
              0.4444444444444444,
              "#bd3786"
             ],
             [
              0.5555555555555556,
              "#d8576b"
             ],
             [
              0.6666666666666666,
              "#ed7953"
             ],
             [
              0.7777777777777778,
              "#fb9f3a"
             ],
             [
              0.8888888888888888,
              "#fdca26"
             ],
             [
              1,
              "#f0f921"
             ]
            ],
            "type": "contour"
           }
          ],
          "contourcarpet": [
           {
            "colorbar": {
             "outlinewidth": 0,
             "ticks": ""
            },
            "type": "contourcarpet"
           }
          ],
          "heatmap": [
           {
            "colorbar": {
             "outlinewidth": 0,
             "ticks": ""
            },
            "colorscale": [
             [
              0,
              "#0d0887"
             ],
             [
              0.1111111111111111,
              "#46039f"
             ],
             [
              0.2222222222222222,
              "#7201a8"
             ],
             [
              0.3333333333333333,
              "#9c179e"
             ],
             [
              0.4444444444444444,
              "#bd3786"
             ],
             [
              0.5555555555555556,
              "#d8576b"
             ],
             [
              0.6666666666666666,
              "#ed7953"
             ],
             [
              0.7777777777777778,
              "#fb9f3a"
             ],
             [
              0.8888888888888888,
              "#fdca26"
             ],
             [
              1,
              "#f0f921"
             ]
            ],
            "type": "heatmap"
           }
          ],
          "heatmapgl": [
           {
            "colorbar": {
             "outlinewidth": 0,
             "ticks": ""
            },
            "colorscale": [
             [
              0,
              "#0d0887"
             ],
             [
              0.1111111111111111,
              "#46039f"
             ],
             [
              0.2222222222222222,
              "#7201a8"
             ],
             [
              0.3333333333333333,
              "#9c179e"
             ],
             [
              0.4444444444444444,
              "#bd3786"
             ],
             [
              0.5555555555555556,
              "#d8576b"
             ],
             [
              0.6666666666666666,
              "#ed7953"
             ],
             [
              0.7777777777777778,
              "#fb9f3a"
             ],
             [
              0.8888888888888888,
              "#fdca26"
             ],
             [
              1,
              "#f0f921"
             ]
            ],
            "type": "heatmapgl"
           }
          ],
          "histogram": [
           {
            "marker": {
             "colorbar": {
              "outlinewidth": 0,
              "ticks": ""
             }
            },
            "type": "histogram"
           }
          ],
          "histogram2d": [
           {
            "colorbar": {
             "outlinewidth": 0,
             "ticks": ""
            },
            "colorscale": [
             [
              0,
              "#0d0887"
             ],
             [
              0.1111111111111111,
              "#46039f"
             ],
             [
              0.2222222222222222,
              "#7201a8"
             ],
             [
              0.3333333333333333,
              "#9c179e"
             ],
             [
              0.4444444444444444,
              "#bd3786"
             ],
             [
              0.5555555555555556,
              "#d8576b"
             ],
             [
              0.6666666666666666,
              "#ed7953"
             ],
             [
              0.7777777777777778,
              "#fb9f3a"
             ],
             [
              0.8888888888888888,
              "#fdca26"
             ],
             [
              1,
              "#f0f921"
             ]
            ],
            "type": "histogram2d"
           }
          ],
          "histogram2dcontour": [
           {
            "colorbar": {
             "outlinewidth": 0,
             "ticks": ""
            },
            "colorscale": [
             [
              0,
              "#0d0887"
             ],
             [
              0.1111111111111111,
              "#46039f"
             ],
             [
              0.2222222222222222,
              "#7201a8"
             ],
             [
              0.3333333333333333,
              "#9c179e"
             ],
             [
              0.4444444444444444,
              "#bd3786"
             ],
             [
              0.5555555555555556,
              "#d8576b"
             ],
             [
              0.6666666666666666,
              "#ed7953"
             ],
             [
              0.7777777777777778,
              "#fb9f3a"
             ],
             [
              0.8888888888888888,
              "#fdca26"
             ],
             [
              1,
              "#f0f921"
             ]
            ],
            "type": "histogram2dcontour"
           }
          ],
          "mesh3d": [
           {
            "colorbar": {
             "outlinewidth": 0,
             "ticks": ""
            },
            "type": "mesh3d"
           }
          ],
          "parcoords": [
           {
            "line": {
             "colorbar": {
              "outlinewidth": 0,
              "ticks": ""
             }
            },
            "type": "parcoords"
           }
          ],
          "pie": [
           {
            "automargin": true,
            "type": "pie"
           }
          ],
          "scatter": [
           {
            "marker": {
             "colorbar": {
              "outlinewidth": 0,
              "ticks": ""
             }
            },
            "type": "scatter"
           }
          ],
          "scatter3d": [
           {
            "line": {
             "colorbar": {
              "outlinewidth": 0,
              "ticks": ""
             }
            },
            "marker": {
             "colorbar": {
              "outlinewidth": 0,
              "ticks": ""
             }
            },
            "type": "scatter3d"
           }
          ],
          "scattercarpet": [
           {
            "marker": {
             "colorbar": {
              "outlinewidth": 0,
              "ticks": ""
             }
            },
            "type": "scattercarpet"
           }
          ],
          "scattergeo": [
           {
            "marker": {
             "colorbar": {
              "outlinewidth": 0,
              "ticks": ""
             }
            },
            "type": "scattergeo"
           }
          ],
          "scattergl": [
           {
            "marker": {
             "colorbar": {
              "outlinewidth": 0,
              "ticks": ""
             }
            },
            "type": "scattergl"
           }
          ],
          "scattermapbox": [
           {
            "marker": {
             "colorbar": {
              "outlinewidth": 0,
              "ticks": ""
             }
            },
            "type": "scattermapbox"
           }
          ],
          "scatterpolar": [
           {
            "marker": {
             "colorbar": {
              "outlinewidth": 0,
              "ticks": ""
             }
            },
            "type": "scatterpolar"
           }
          ],
          "scatterpolargl": [
           {
            "marker": {
             "colorbar": {
              "outlinewidth": 0,
              "ticks": ""
             }
            },
            "type": "scatterpolargl"
           }
          ],
          "scatterternary": [
           {
            "marker": {
             "colorbar": {
              "outlinewidth": 0,
              "ticks": ""
             }
            },
            "type": "scatterternary"
           }
          ],
          "surface": [
           {
            "colorbar": {
             "outlinewidth": 0,
             "ticks": ""
            },
            "colorscale": [
             [
              0,
              "#0d0887"
             ],
             [
              0.1111111111111111,
              "#46039f"
             ],
             [
              0.2222222222222222,
              "#7201a8"
             ],
             [
              0.3333333333333333,
              "#9c179e"
             ],
             [
              0.4444444444444444,
              "#bd3786"
             ],
             [
              0.5555555555555556,
              "#d8576b"
             ],
             [
              0.6666666666666666,
              "#ed7953"
             ],
             [
              0.7777777777777778,
              "#fb9f3a"
             ],
             [
              0.8888888888888888,
              "#fdca26"
             ],
             [
              1,
              "#f0f921"
             ]
            ],
            "type": "surface"
           }
          ],
          "table": [
           {
            "cells": {
             "fill": {
              "color": "#EBF0F8"
             },
             "line": {
              "color": "white"
             }
            },
            "header": {
             "fill": {
              "color": "#C8D4E3"
             },
             "line": {
              "color": "white"
             }
            },
            "type": "table"
           }
          ]
         },
         "layout": {
          "annotationdefaults": {
           "arrowcolor": "#2a3f5f",
           "arrowhead": 0,
           "arrowwidth": 1
          },
          "coloraxis": {
           "colorbar": {
            "outlinewidth": 0,
            "ticks": ""
           }
          },
          "colorscale": {
           "diverging": [
            [
             0,
             "#8e0152"
            ],
            [
             0.1,
             "#c51b7d"
            ],
            [
             0.2,
             "#de77ae"
            ],
            [
             0.3,
             "#f1b6da"
            ],
            [
             0.4,
             "#fde0ef"
            ],
            [
             0.5,
             "#f7f7f7"
            ],
            [
             0.6,
             "#e6f5d0"
            ],
            [
             0.7,
             "#b8e186"
            ],
            [
             0.8,
             "#7fbc41"
            ],
            [
             0.9,
             "#4d9221"
            ],
            [
             1,
             "#276419"
            ]
           ],
           "sequential": [
            [
             0,
             "#0d0887"
            ],
            [
             0.1111111111111111,
             "#46039f"
            ],
            [
             0.2222222222222222,
             "#7201a8"
            ],
            [
             0.3333333333333333,
             "#9c179e"
            ],
            [
             0.4444444444444444,
             "#bd3786"
            ],
            [
             0.5555555555555556,
             "#d8576b"
            ],
            [
             0.6666666666666666,
             "#ed7953"
            ],
            [
             0.7777777777777778,
             "#fb9f3a"
            ],
            [
             0.8888888888888888,
             "#fdca26"
            ],
            [
             1,
             "#f0f921"
            ]
           ],
           "sequentialminus": [
            [
             0,
             "#0d0887"
            ],
            [
             0.1111111111111111,
             "#46039f"
            ],
            [
             0.2222222222222222,
             "#7201a8"
            ],
            [
             0.3333333333333333,
             "#9c179e"
            ],
            [
             0.4444444444444444,
             "#bd3786"
            ],
            [
             0.5555555555555556,
             "#d8576b"
            ],
            [
             0.6666666666666666,
             "#ed7953"
            ],
            [
             0.7777777777777778,
             "#fb9f3a"
            ],
            [
             0.8888888888888888,
             "#fdca26"
            ],
            [
             1,
             "#f0f921"
            ]
           ]
          },
          "colorway": [
           "#636efa",
           "#EF553B",
           "#00cc96",
           "#ab63fa",
           "#FFA15A",
           "#19d3f3",
           "#FF6692",
           "#B6E880",
           "#FF97FF",
           "#FECB52"
          ],
          "font": {
           "color": "#2a3f5f"
          },
          "geo": {
           "bgcolor": "white",
           "lakecolor": "white",
           "landcolor": "#E5ECF6",
           "showlakes": true,
           "showland": true,
           "subunitcolor": "white"
          },
          "hoverlabel": {
           "align": "left"
          },
          "hovermode": "closest",
          "mapbox": {
           "style": "light"
          },
          "paper_bgcolor": "white",
          "plot_bgcolor": "#E5ECF6",
          "polar": {
           "angularaxis": {
            "gridcolor": "white",
            "linecolor": "white",
            "ticks": ""
           },
           "bgcolor": "#E5ECF6",
           "radialaxis": {
            "gridcolor": "white",
            "linecolor": "white",
            "ticks": ""
           }
          },
          "scene": {
           "xaxis": {
            "backgroundcolor": "#E5ECF6",
            "gridcolor": "white",
            "gridwidth": 2,
            "linecolor": "white",
            "showbackground": true,
            "ticks": "",
            "zerolinecolor": "white"
           },
           "yaxis": {
            "backgroundcolor": "#E5ECF6",
            "gridcolor": "white",
            "gridwidth": 2,
            "linecolor": "white",
            "showbackground": true,
            "ticks": "",
            "zerolinecolor": "white"
           },
           "zaxis": {
            "backgroundcolor": "#E5ECF6",
            "gridcolor": "white",
            "gridwidth": 2,
            "linecolor": "white",
            "showbackground": true,
            "ticks": "",
            "zerolinecolor": "white"
           }
          },
          "shapedefaults": {
           "line": {
            "color": "#2a3f5f"
           }
          },
          "ternary": {
           "aaxis": {
            "gridcolor": "white",
            "linecolor": "white",
            "ticks": ""
           },
           "baxis": {
            "gridcolor": "white",
            "linecolor": "white",
            "ticks": ""
           },
           "bgcolor": "#E5ECF6",
           "caxis": {
            "gridcolor": "white",
            "linecolor": "white",
            "ticks": ""
           }
          },
          "title": {
           "x": 0.05
          },
          "xaxis": {
           "automargin": true,
           "gridcolor": "white",
           "linecolor": "white",
           "ticks": "",
           "title": {
            "standoff": 15
           },
           "zerolinecolor": "white",
           "zerolinewidth": 2
          },
          "yaxis": {
           "automargin": true,
           "gridcolor": "white",
           "linecolor": "white",
           "ticks": "",
           "title": {
            "standoff": 15
           },
           "zerolinecolor": "white",
           "zerolinewidth": 2
          }
         }
        }
       }
      }
     },
     "metadata": {}
    }
   ],
   "source": [
    "# 4\n",
    "N = 100\n",
    "(A, B) = multivariate(N, [1,0.3], [0,-0.1], .2, .3)\n",
    "\n",
    "fig = go.Figure()\n",
    "fig.add_trace(go.Scatter(x=A[:,0], y=A[:,1], mode=\"markers\"))\n",
    "fig.add_trace(go.Scatter(x=B[:,0], y=B[:,1], mode=\"markers\"))\n",
    "fig.show()\n",
    "\n",
    "w = np.random.uniform(0,1,(2,1))\n",
    "epoch = 50\n",
    "eta = 1e-4\n",
    "\n",
    "t = 3\n",
    "idx = np.arange(100)\n",
    "for i in range(3):\n",
    "    idx_a = np.random.choice(np.where(A<0)[0], 20)\n",
    "    idx_b = np.random.choice(np.where(B>0)[0], 80)\n",
    "    a = A[idx_a]\n",
    "    b = B[idx_b]\n",
    "    features = np.concatenate([a,b],axis=0)\n",
    "    targets = np.concatenate([-np.ones((a.shape[0],1)), np.ones((b.shape[0],1))], axis=0)\n",
    "\n",
    "    mae_delta = delta_learning(features, targets, w, epoch, eta)\n",
    "    model, mae_per = perceptron_learning(features, targets, 10, epoch, eta)\n",
    "\n",
    "plot_boundary(fig, w.T)\n",
    "mae_fig = go.Figure()\n",
    "mae_fig.add_trace(go.Scatter(x=np.arange(len(mae_delta)), y=mae_delta, name=\"Delta\"))\n",
    "\n",
    "plot_boundary(fig, model.W)\n",
    "mae_fig.add_trace(go.Scatter(x=np.arange(len(mae_per)), y=mae_per, name=\"Perceptron\"))\n",
    "mae_fig.show()\n",
    "fig.show()"
   ]
  },
  {
   "cell_type": "code",
   "execution_count": null,
   "metadata": {},
   "outputs": [],
   "source": []
  }
 ]
}