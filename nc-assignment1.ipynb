{
 "metadata": {
  "language_info": {
   "codemirror_mode": {
    "name": "ipython",
    "version": 3
   },
   "file_extension": ".py",
   "mimetype": "text/x-python",
   "name": "python",
   "nbconvert_exporter": "python",
   "pygments_lexer": "ipython3",
   "version": "3.8.3-final"
  },
  "orig_nbformat": 2,
  "kernelspec": {
   "name": "python3",
   "display_name": "Python 3"
  }
 },
 "nbformat": 4,
 "nbformat_minor": 2,
 "cells": [
  {
   "cell_type": "code",
   "execution_count": 16,
   "metadata": {},
   "outputs": [],
   "source": [
    "import pickle\n",
    "import numpy as np\n",
    "import plotly.express as ex\n",
    "import plotly.graph_objects as go\n",
    "from sklearn.model_selection import train_test_split\n",
    "import json\n",
    "\n",
    "__author__=\"Nuo Chen\""
   ]
  },
  {
   "cell_type": "markdown",
   "metadata": {},
   "source": [
    "# MLP Model \n",
    "---\n",
    "A basic MLP network:\n",
    "\n",
    "**Input**:\n",
    "\n",
    "**Learning rule**:\n",
    "- Delta rule\n",
    "- Backpropagation (generalised delta rule)\n",
    "\n",
    "**Output**:\n",
    "\n",
    "\n",
    "    "
   ]
  },
  {
   "cell_type": "code",
   "execution_count": 46,
   "metadata": {},
   "outputs": [],
   "source": [
    "class Model:\n",
    "    def __init__(self, nodes):\n",
    "        \"\"\"\n",
    "        Arg:\n",
    "            layers - [in, n1, n2, ..., nj, out] an array of numbers of nodes in each layer.\n",
    "        Returns:\n",
    "            a fully-connected network with default weights and biases sampled from N(0, 1)\n",
    "        \"\"\"\n",
    "        self.n_layers = len(nodes)\n",
    "        self.NODES = nodes\n",
    "        self.init_param()\n",
    "    def init_param(self, useBias=True):\n",
    "        \"\"\"\n",
    "        Initialize the weights and biases with samples from normal distributions\n",
    "        W = [shape(n1,n2), shape(n2,n3), ..., shape(nj,nj+1)], where nj = number of nodes in the layer\n",
    "        B = [shape(n1,1), shape(n2,1), ..., shape(nj,1)]\n",
    "        \"\"\"\n",
    "        self.useBias = useBias\n",
    "\n",
    "        self.W = [np.random.normal(0,1,(i,j)) for i,j in zip(self.NODES[:-1], self.NODES[1:])]\n",
    "        if useBias:\n",
    "            self.B = [np.random.normal(0,1,(i,1)) for i in self.NODES[1:]]\n",
    "        else:\n",
    "            self.B = [np.zeros(i,1) for i in self.NODES[1:]]\n",
    "            \n",
    "    def init_training_param(self, n, batch_size, epochs, eta, lmbda, useMom=False):\n",
    "        \"\"\"\n",
    "        Initialize the hyper-parameters\n",
    "        \"\"\"\n",
    "        self.n_samples = n\n",
    "        self.BATCH_SIZE = batch_size\n",
    "        self.EPOCHS = epochs\n",
    "        self.BATCHES = int(n/batch_size)\n",
    "        self.LAMBDA = lmbda\n",
    "        self.ETA = eta\n",
    "        self.useMom = useMom\n",
    "        if (useMom):\n",
    "            self.alpha = .9\n",
    "            self.theta = 0\n",
    "            self.omega = 0\n",
    "\n",
    "    def normalize(self, x):\n",
    "        \"\"\"\n",
    "        Normalizes the inputs\n",
    "        \"\"\"\n",
    "        mean = np.mean(x, axis=1, keepdims=True)\n",
    "        std = np.std(x, axis=1, keepdims=True)\n",
    "        x = (x-mean) / std\n",
    "        return x\n",
    "\n",
    "    @staticmethod\n",
    "    def softmax():\n",
    "        return lambda x: np.exp(x-np.max(x,axis=0)) / np.sum(np.exp(x-np.max(x,axis=0)), axis=0)\n",
    "    @staticmethod\n",
    "    def relu():\n",
    "        return lambda x: np.maximum(0,x)\n",
    "    @staticmethod\n",
    "    def delta_rule():\n",
    "        return lambda x,w,t,eta: -eta*(w@x - t)@x.T    \n",
    "    @staticmethod\n",
    "    def sigmoid():\n",
    "        return lambda x: 2 / (1+np.exp(-x)) - 1\n",
    "    \n",
    "    def cross_entropy(self, p, y):\n",
    "        \"\"\"\n",
    "        Returns the cross-entropy cost of the prediciton\n",
    "        \"\"\"\n",
    "        p[p==0] = 1e-7\n",
    "        cost = 1/y.shape[1] * -np.sum(y*np.log(p))\n",
    "        w_sum = [w**2 for w in self.W]\n",
    "        s = 0\n",
    "        for w in w_sum: \n",
    "            s+= np.sum(w)\n",
    "        cost += self.LAMBDA * s\n",
    "        return cost\n",
    "    def feedforward(self, activations, act_fn, out_fn):\n",
    "        \"\"\"\n",
    "        s1 = w1 @ x + b1\n",
    "        h1 = act_fn(s1)\n",
    "        ....\n",
    "        sn = wn @ h(n-1) + bn\n",
    "        return out_fn(sn)\n",
    "        \"\"\"\n",
    "        a = activations[0]\n",
    "        for i in range(self.n_layers-1):\n",
    "            s = self.W[i].T @ a + self.B[i]\n",
    "            a = act_fn(a)\n",
    "            activations.append(a)\n",
    "\n",
    "        return out_fn(a)\n",
    "    def backPropagation(self, y, p, activations):\n",
    "        \"\"\"\n",
    "        Back propagate the network and calculate the gradients\n",
    "        \"\"\"\n",
    "        dw = [np.zeros(w.shape) for w in self.W]\n",
    "        db = [np.zeros(b.shape) for b in self.B]\n",
    "\n",
    "        g = -(y - p)\n",
    "        for i in range(len(self.W)-1, -1, -1):\n",
    "            dw[i] = g @ activations[i].T * 1/self.BATCH_SIZE + 2 * self.LAMBDA * self.W[i].T\n",
    "            db[i] =  (np.sum(g, axis=1) * 1/self.BATCH_SIZE).reshape(self.B[i].shape)\n",
    "            g = self.W[i] @ g\n",
    "            g[np.where(activations[i]<=0)] = 0\n",
    "        \n",
    "        return (dw, db)\n",
    "    \n",
    "    def backPass(self, labels, predictions, activations):\n",
    "        dw = [np.zeros(w.shape) for w in self.W]\n",
    "        db = [np.zeros(b.shape) for b in self.B]\n",
    "\n",
    "        g = (p-y) * (1+p)*(1-p) * 0.5\n",
    "        for i in range(len(self.W)-1, -1, -1):\n",
    "            dw[i] = g\n",
    "            db[i] =  (np.sum(g, axis=1) * 1/self.BATCH_SIZE).reshape(self.B[i].shape)\n",
    "            g = g * ( (1+activations[i])*(1-activations[i]) * 0.5) * self.W[i].T\n",
    "\n",
    "        return (dw, db)\n",
    "            \n",
    "\n",
    "\n",
    "    def accuracy(self, p, y):\n",
    "        \"\"\"\n",
    "        Compute the accuracy of the predictions\n",
    "        \"\"\"\n",
    "        predictions = np.argmax(p, axis=0)\n",
    "        y = np.argmax(y, axis=0)\n",
    "        acc = predictions.T[predictions == y].shape[0] / p.shape[1]\n",
    "        return acc\n",
    "    \n",
    "    def update_batch(self, x, y):\n",
    "        \"\"\"\n",
    "        For each batch: \n",
    "            Pass the input into the network and compute the predictions.\n",
    "            Back propagate through the network to compute the gradients using the stored act>\n",
    "            Update the weights and biases using the gradients\n",
    "        \"\"\"\n",
    "        activations = [x]\n",
    "        p = self.feedforward(activations, Model.relu(), Model.softmax())\n",
    "        dw, db = self.backPropagation(y, p, activations)\n",
    "\n",
    "        if (not self.useMom):\n",
    "            for i in range(self.n_layers-1):\n",
    "                self.W[i] = self.W[i] - self.ETA * dw[i].T\n",
    "                if (self.useBias):\n",
    "                    self.B[i] = self.B[i] - self.ETA * db[i]\n",
    "        else:\n",
    "            for i in range(self.n_layers-1):\n",
    "                self.theta = self.alpha * self.theta - (1-self.alpha) * dw[i]\n",
    "                self.omega = self.alpha * self.omega - (1-self.alpha) * db[i]\n",
    "                self.W[i] = self.W[i] + self.ETA * self.theta\n",
    "                if (self.useBias):\n",
    "                    self.B[i] = self.B[i] + self.ETA * self.omega\n",
    "\n",
    "    def SGD(self, features, targets, test_size, verbose=False):\n",
    "        \"\"\"\n",
    "        Stochastic gradient descend method\n",
    "        Trains the network a given number of epochs or cycles\n",
    "        Return:\n",
    "            Training cost and validation cost\n",
    "            Training accuracy and validation accuracy\n",
    "        \"\"\"\n",
    "\n",
    "        train_features, test_features, train_labels, test_labels = train_test_split(features, targets, test_size = test_size, random_state = 2020)\n",
    "\n",
    "        training_cost = []\n",
    "        validation_cost = []\n",
    "        training_accuracy = []\n",
    "        validation_accuracy = []\n",
    "        for t in range(self.EPOCHS):\n",
    "            # Shuffles the order of samples \n",
    "            idx = np.random.permutation(self.n_samples)\n",
    "            for j in range(1, self.BATCHES):\n",
    "                start = (j-1) * self.BATCH_SIZE\n",
    "                end = j * self.BATCH_SIZE\n",
    "                indices = idx[start:end]\n",
    "                x_batch = train_features[:, indices]            \n",
    "                y_batch = train_labels[:, indices]    \n",
    "                self.update_batch(x_batch, y_batch)\n",
    "\n",
    "                    # Check cost and accuracy 10 times per cycle \n",
    "\n",
    "            p_t = self.feedforward([train_features], Model.relu(), Model.softmax())\n",
    "            p_v = self.feedforward([test_features],Model.relu(), Model.softmax())\n",
    "            training_cost.append(self.cross_entropy(p_t, train_labels))\n",
    "            validation_cost.append(self.cross_entropy(p_v, test_labels))\n",
    "            training_accuracy.append(self.accuracy(p_t, train_labels))\n",
    "            validation_accuracy.append(self.accuracy(p_v, test_labels))\n",
    "\n",
    "            if (verbose):\n",
    "                print(\"Epoch #{}--------------------------------------\".format(t))\n",
    "                print(\"Training Cost: {:.6f}\".format(training_cost[-1]))\n",
    "                print(\"Validation Cost: {:.6f}\".format(validation_cost[-1]))\n",
    "                print(\"Training Accuracy = {:.3f}\".format(training_accuracy[-1]))\n",
    "                print(\"Validation Accuracy = {:.3f}\".format(validation_accuracy[-1]))\n",
    "                print(\"-\"*50)\n",
    "\n",
    "        return (training_cost, validation_cost, training_accuracy, validation_accuracy)\n",
    "\n",
    "    def save(self, filename):\n",
    "        \"\"\"\n",
    "        Save the model to the file 'filename`.\n",
    "        \"\"\"\n",
    "        data = {\"Nodes\": self.NODES,\n",
    "                \"W\": [w.tolist() for w in self.W],\n",
    "                \"B\": [b.tolist() for b in self.B]}\n",
    "        with open(filename, \"w\") as f:\n",
    "            json.dump(data, f)\n",
    "\n",
    "    def load(self, filename):\n",
    "        \"\"\"\n",
    "        Load the model\n",
    "        \"\"\"\n",
    "        with open(filename, \"r\") as f:\n",
    "            data = json.load(f)\n",
    "        \n",
    "        self.NODES = data[\"Nodes\"]\n",
    "        self.W = [np.array(w) for w in data[\"W\"]]\n",
    "        self.B = [np.array(b) for b in data[\"B\"]]\n",
    "\n"
   ]
  },
  {
   "cell_type": "markdown",
   "metadata": {},
   "source": [
    "# Two-layer MLP according to lab 1 instruction\n"
   ]
  },
  {
   "cell_type": "code",
   "execution_count": 9,
   "metadata": {},
   "outputs": [],
   "source": [
    "class two_layer_model():\n",
    "    def __init__(self, N):\n",
    "        self.N = N\n",
    "    def init_param(self, eta):\n",
    "        self.W = np.random.uniform(0,1,(self.N,1))\n",
    "        self.V = np.random.uniform(0,1,(self.N,1))\n",
    "        self.dw = np.zeros((self.N,1))\n",
    "        self.dv = np.zeros((self.N,1))\n",
    "        self.ETA = eta\n",
    "\n",
    "    def act_fn(self, x):\n",
    "        return 2 / (1+np.exp(-x)) - 1\n",
    "\n",
    "    def forward(self, x):\n",
    "        x = np.concatenate(x, np.ones(1, x.shape[1]), axis=0)\n",
    "        h_in = self.W * x\n",
    "        h_out = act_fn(h_in)\n",
    "        o_in = self.V * h_out\n",
    "        o_out = act_fn(o_in)\n",
    "        return (h_out, o_out)\n",
    "\n",
    "    def backpass(self, x, y, h_out, o_out):\n",
    "        delta_o = (o_out - y) * ((1+o_out)*(1-o_out)) * .5\n",
    "        delta_h = (self.V.T * delta_o) * ((1+h_out)*(1-h_out)) * .5\n",
    "        delta_h = delta_h[1:self.N, :]\n",
    "        return delta_h, delta_o\n",
    "\n",
    "    def update(self, x, h_out, delta_h, delta_o, alpha=.9):\n",
    "        self.dw = (self.dw * alpha) - (delta_h * x.T) * (1-alpha)\n",
    "        self.dv = (self.dv * alpha) - (delta-o * h_out.T) * (1-alpha)\n",
    "        self.W = self.W + self.dw * self.ETA\n",
    "        self.V = self.V + self.dv * self.ETA\n"
   ]
  },
  {
   "cell_type": "code",
   "execution_count": 66,
   "metadata": {},
   "outputs": [],
   "source": [
    "def delta_rule(x,y,w,eta):\n",
    "    return -eta * (w*x-y)*x\n"
   ]
  },
  {
   "cell_type": "markdown",
   "metadata": {},
   "source": [
    "# Generate data"
   ]
  },
  {
   "cell_type": "code",
   "execution_count": 11,
   "metadata": {},
   "outputs": [],
   "source": [
    "def linearly_separable(n, m1,m2, sigma1, sigma2):\n",
    "    classA = np.random.normal(m1, sigma1, size=[n,2])\n",
    "    classB = np.random.normal(m2, sigma2, size=[n,2])\n",
    "    return classA, classB\n"
   ]
  },
  {
   "cell_type": "markdown",
   "metadata": {},
   "source": [
    "## 3.1.1 - 3.1.2\n",
    "\n"
   ]
  },
  {
   "cell_type": "code",
   "execution_count": 31,
   "metadata": {
    "tags": []
   },
   "outputs": [
    {
     "output_type": "display_data",
     "data": {
      "application/vnd.plotly.v1+json": {
       "config": {
        "plotlyServerURL": "https://plot.ly"
       },
       "data": [
        {
         "mode": "markers",
         "type": "scatter",
         "x": [
          -2.0449891818016006,
          -1.9524441259833785,
          -2.9580083196952978,
          -2.578508245622408,
          -3.612064952625828,
          -3.4593041072282666,
          -3.828727793286945,
          -5.205086362098374,
          -4.69220777005211,
          -3.1638902486408638,
          -3.3011196895308137,
          -1.940521240624035,
          -2.3439286752865107,
          -3.5267537126152466,
          -3.1154379701593062,
          -4.335943341848627,
          -4.2232982041482385,
          -3.1149569367617547,
          -1.979653853242095,
          -4.320551074778594,
          -5.209855986931618,
          -3.8982191738594216,
          -2.9215497654354268,
          -2.8941155871401985,
          -0.6138741652474073,
          -2.8754444952189373,
          -3.4677650696796527,
          -1.148542739587404,
          -2.705169477336693,
          -3.942135694327278,
          -3.2635555882389355,
          -4.799490947040605,
          -2.493369738156927,
          -4.249550516661321,
          -4.298156661675773,
          -3.582173173273036,
          -2.7571763686394033,
          -2.3355646234525445,
          -1.9636917476086417,
          -3.2396177004165136,
          -2.0016635451772915,
          -3.5953758544570116,
          -2.236766986292323,
          -2.96588565629429,
          -3.3905702654794982,
          -3.106473867056494,
          -2.499092652522041,
          -3.4840419070553903,
          -4.13745707420166,
          -2.5384241167446886,
          -1.4801214505107296,
          -2.488183508172663,
          -3.5837042350360804,
          -4.403637695361253,
          -2.999755112902279,
          -3.862061695404504,
          -3.397682827720875,
          -2.5841650229559505,
          -3.1320488629056724,
          -1.3323179015574647,
          -4.184143498020808,
          -2.4669806895714825,
          -4.152173133901292,
          -1.9353290026787189,
          -1.455614907502983,
          -4.2744140021083075,
          -3.0015512959034605,
          -3.0076273436462375,
          -4.286088941392156,
          -2.497917286289458,
          -3.424789482278468,
          -2.6869380769027353,
          -2.4977126224198027,
          -2.276084894181597,
          -2.969213295786831,
          -4.94288955403549,
          -2.904893173470234,
          -3.1659246619231327,
          -2.335907075489689,
          -2.2983076141957195,
          -4.8298283026723805,
          -2.5134215681563523,
          -3.3924853331717846,
          -1.982315234931956,
          -2.6241141696507624,
          -2.241057525484415,
          -3.908369482234921,
          -3.3244886024623495,
          -1.4196628915240481,
          -1.8153646500997214,
          -2.0003030325936155,
          -2.9839598753474568,
          -3.699922624933413,
          -1.8184876164907904,
          -3.319256727464239,
          -3.763988883677918,
          -4.039064743252542,
          -2.659402869617465,
          -3.6881808736640957,
          -3.4881002292730248
         ],
         "y": [
          -0.24015120785947686,
          0.6084163176980559,
          0.4085630520831484,
          1.2456286522285183,
          -1.2496631412031334,
          0.64813939434253,
          -1.239522822046062,
          0.4424867120549978,
          -0.9320854489106082,
          0.46402208792658894,
          -0.9084401256244273,
          -0.4645052432190105,
          -0.8821373546234014,
          -0.8246744101720123,
          -0.9681030731708223,
          -2.088146155677647,
          -1.3793239495556138,
          0.3607037307683494,
          0.8599296582094176,
          -0.7671090070484033,
          0.9828646484729813,
          -0.4219066896925452,
          0.4543245542413524,
          -0.823438745571554,
          0.03227839807663193,
          -0.4774199812689772,
          0.6953839006573085,
          -0.3239570832380809,
          -0.7498477663360238,
          -0.4625226385789123,
          0.0789243774674272,
          0.09876800093263186,
          0.4215996010168182,
          1.8590225466173769,
          1.0336031198947793,
          0.1700922753399581,
          -0.11147125940662685,
          0.39305457766639684,
          0.7554120845773123,
          -0.05641494581269387,
          -0.5049157882447354,
          -0.05063780715363302,
          -0.28654877723571304,
          0.06284877811862459,
          1.0098843995659987,
          0.693923830004106,
          2.1638533070503803,
          -0.031950276553280886,
          0.47592098957547846,
          -1.0582915135054183,
          -1.243745153852573,
          0.4989636481460188,
          1.1963661686839695,
          -1.1941884416071573,
          0.6540223168124907,
          -1.7990680509550323,
          -0.551149987987336,
          1.3290549591215357,
          -0.8516659709492275,
          0.869348848882358,
          1.2631915216140819,
          -0.13822510910068547,
          -1.2895872326952338,
          -0.49202302276648907,
          -1.8781717255689439,
          -1.5891562565200335,
          0.15779451745568498,
          -0.7123215606932709,
          0.7663940415409927,
          0.4552560860580846,
          0.5555934525746321,
          0.3414246828151178,
          0.1986719577190504,
          0.7599829552963371,
          -1.0385184832331318,
          1.4599783837297418,
          -0.39818520070655855,
          0.01444830284074498,
          0.5546123549343707,
          -1.373231026210843,
          -0.5597110266001135,
          0.980192587240801,
          1.0872956398537126,
          -0.3960773926335699,
          0.1936530544600291,
          0.17569458500456567,
          0.025679611654045604,
          1.0580067963873085,
          -0.36728058670953784,
          -0.5258819945102645,
          0.449631712594926,
          1.5577185917992313,
          -0.1453042349308413,
          0.08592723388403328,
          -1.3028215629806532,
          -0.6939642784844807,
          0.1405479126138568,
          0.7412947371035709,
          -0.20865810143351354,
          -2.0461977025521034
         ]
        },
        {
         "mode": "markers",
         "type": "scatter",
         "x": [
          2.2972771799073133,
          1.3486071643766715,
          3.316325771559306,
          3.0923873032708604,
          3.6682874587059744,
          4.085309876125271,
          4.12458572083302,
          3.1922470086922763,
          3.1973746065704782,
          2.5037282513514203,
          3.460681157153468,
          3.68502261665013,
          1.8427967935755136,
          1.286794840610648,
          4.296253470933978,
          3.5115718071514523,
          3.2845881968411947,
          3.367562358668084,
          3.410145822980578,
          3.969261814792649,
          0.7558565976821798,
          1.734142388264217,
          3.226844252479363,
          3.7599676592010236,
          3.25090320778875,
          2.2147628269767066,
          2.821165426602828,
          2.583217605301486,
          2.8884872087446674,
          2.529531986489605,
          3.28824779194753,
          3.196705677879265,
          2.4591372092846853,
          2.9654391743099584,
          4.286179260793255,
          1.6554272651548716,
          2.8996936504821904,
          1.979195147829634,
          3.1528830309992353,
          2.1384582637279923,
          2.733162887472501,
          4.186324382935649,
          2.769605764047199,
          2.740572028744327,
          1.9167152450071823,
          3.707447254398107,
          3.446686050909913,
          1.5260658721426041,
          3.7180514730880616,
          3.214889514605042,
          3.368516253174423,
          2.245779535811842,
          2.5939551761138366,
          2.4632060494638637,
          2.957309264825471,
          4.122169523920381,
          3.0008389669953286,
          2.5263277949750007,
          1.8699712631024816,
          2.1711490473320234,
          3.39881122161008,
          2.2965086793081624,
          2.1078568923145333,
          2.1377870298853416,
          4.301584389575974,
          2.8319503066567413,
          2.3599775780848127,
          1.6215592760693887,
          2.1874577781462405,
          4.797921447001762,
          5.495937493205588,
          4.3835976727648305,
          4.460976317308081,
          3.39417727385495,
          2.2281809071765446,
          2.895237118164202,
          3.9043932029501236,
          3.5334900062142367,
          2.638481081120077,
          1.7748213164538724,
          0.7149235947358887,
          5.180942953732387,
          3.429376348023985,
          3.2110873063821166,
          1.7698447016506453,
          2.028230051521714,
          2.3577539395779357,
          1.8908444085818283,
          2.517599513358219,
          3.106927734671781,
          1.3566325528333036,
          3.303803915139145,
          2.5814709907490108,
          3.5770819132537977,
          3.201867762423786,
          3.631609633815599,
          2.110050428529971,
          3.126736313687219,
          2.0105595091797763,
          1.7623663848547315
         ],
         "y": [
          -0.6315370492250588,
          1.2793988983906983,
          -0.2830974272946238,
          -0.5195320268329792,
          -0.33907764692584585,
          0.14171382147438538,
          0.309971365866991,
          -1.162000650708352,
          0.13978341674457437,
          -0.1812352743961937,
          -0.7018244854180747,
          0.30114507336961693,
          0.17860160159343189,
          0.2941326105786507,
          0.6280163052765102,
          0.565332676439309,
          -1.2353322320232485,
          0.19102271572236232,
          0.059696551000265725,
          -0.9522120345536842,
          -1.3275564195146952,
          -0.07684188059925466,
          1.7027839394273612,
          -0.5348563005480426,
          1.102437370483759,
          -1.4055862818234177,
          0.005682333800575935,
          -0.4528251365845287,
          -0.7113058893538347,
          -1.9375575183227884,
          -0.028611381512553907,
          -0.29732922906440146,
          -0.4234744052817,
          0.11439088781136354,
          1.0724326704635776,
          0.5760596587746756,
          1.3269090741823162,
          -0.8660807949716448,
          2.306930584057891,
          0.5198123973427675,
          0.9145261036330022,
          0.8454971201542678,
          2.0941409540312033,
          0.19932612345492765,
          -0.20261009994390147,
          2.021392496638026,
          -1.8454738162673539,
          -1.3897078475869131,
          -0.6180519961948456,
          1.0586680846171654,
          -0.38802353742111284,
          -0.6368999348992204,
          -0.22619774572031529,
          0.13471175663616358,
          0.34996792641183583,
          1.2650081003180444,
          -1.0276344047719694,
          -0.4967735938585217,
          0.5866574271345941,
          0.560148594004323,
          -1.5211161539208327,
          -0.2122586298977636,
          -1.549152022788591,
          1.051323750164969,
          1.942953731423082,
          -1.1460788615150397,
          -0.011376704081285133,
          0.8570036818487652,
          1.3124349907357136,
          0.7649193182762417,
          0.0018135843270530585,
          -0.6532160343174197,
          -0.29343859504711717,
          0.9590776215385124,
          -0.23234930075415408,
          0.7207565200702288,
          -0.14068070021289242,
          -0.47872504345347805,
          -1.0672194705255995,
          -2.0029560286992742,
          -0.7960744301872671,
          0.22232702843774385,
          0.46646280197835116,
          0.3783751969088546,
          -1.7185863494427671,
          0.4968323901245629,
          0.3215139569096359,
          -0.7933441311958235,
          -1.5851048039346698,
          0.7462226999332989,
          -1.7200691315747694,
          0.47428457982706373,
          1.6637297194361553,
          1.1932347000897612,
          -0.5068982985496966,
          0.916406566792783,
          0.10190397019566987,
          0.10910569055878394,
          0.7032439053820169,
          -0.4162155559133067
         ]
        }
       ],
       "layout": {
        "template": {
         "data": {
          "bar": [
           {
            "error_x": {
             "color": "#2a3f5f"
            },
            "error_y": {
             "color": "#2a3f5f"
            },
            "marker": {
             "line": {
              "color": "#E5ECF6",
              "width": 0.5
             }
            },
            "type": "bar"
           }
          ],
          "barpolar": [
           {
            "marker": {
             "line": {
              "color": "#E5ECF6",
              "width": 0.5
             }
            },
            "type": "barpolar"
           }
          ],
          "carpet": [
           {
            "aaxis": {
             "endlinecolor": "#2a3f5f",
             "gridcolor": "white",
             "linecolor": "white",
             "minorgridcolor": "white",
             "startlinecolor": "#2a3f5f"
            },
            "baxis": {
             "endlinecolor": "#2a3f5f",
             "gridcolor": "white",
             "linecolor": "white",
             "minorgridcolor": "white",
             "startlinecolor": "#2a3f5f"
            },
            "type": "carpet"
           }
          ],
          "choropleth": [
           {
            "colorbar": {
             "outlinewidth": 0,
             "ticks": ""
            },
            "type": "choropleth"
           }
          ],
          "contour": [
           {
            "colorbar": {
             "outlinewidth": 0,
             "ticks": ""
            },
            "colorscale": [
             [
              0,
              "#0d0887"
             ],
             [
              0.1111111111111111,
              "#46039f"
             ],
             [
              0.2222222222222222,
              "#7201a8"
             ],
             [
              0.3333333333333333,
              "#9c179e"
             ],
             [
              0.4444444444444444,
              "#bd3786"
             ],
             [
              0.5555555555555556,
              "#d8576b"
             ],
             [
              0.6666666666666666,
              "#ed7953"
             ],
             [
              0.7777777777777778,
              "#fb9f3a"
             ],
             [
              0.8888888888888888,
              "#fdca26"
             ],
             [
              1,
              "#f0f921"
             ]
            ],
            "type": "contour"
           }
          ],
          "contourcarpet": [
           {
            "colorbar": {
             "outlinewidth": 0,
             "ticks": ""
            },
            "type": "contourcarpet"
           }
          ],
          "heatmap": [
           {
            "colorbar": {
             "outlinewidth": 0,
             "ticks": ""
            },
            "colorscale": [
             [
              0,
              "#0d0887"
             ],
             [
              0.1111111111111111,
              "#46039f"
             ],
             [
              0.2222222222222222,
              "#7201a8"
             ],
             [
              0.3333333333333333,
              "#9c179e"
             ],
             [
              0.4444444444444444,
              "#bd3786"
             ],
             [
              0.5555555555555556,
              "#d8576b"
             ],
             [
              0.6666666666666666,
              "#ed7953"
             ],
             [
              0.7777777777777778,
              "#fb9f3a"
             ],
             [
              0.8888888888888888,
              "#fdca26"
             ],
             [
              1,
              "#f0f921"
             ]
            ],
            "type": "heatmap"
           }
          ],
          "heatmapgl": [
           {
            "colorbar": {
             "outlinewidth": 0,
             "ticks": ""
            },
            "colorscale": [
             [
              0,
              "#0d0887"
             ],
             [
              0.1111111111111111,
              "#46039f"
             ],
             [
              0.2222222222222222,
              "#7201a8"
             ],
             [
              0.3333333333333333,
              "#9c179e"
             ],
             [
              0.4444444444444444,
              "#bd3786"
             ],
             [
              0.5555555555555556,
              "#d8576b"
             ],
             [
              0.6666666666666666,
              "#ed7953"
             ],
             [
              0.7777777777777778,
              "#fb9f3a"
             ],
             [
              0.8888888888888888,
              "#fdca26"
             ],
             [
              1,
              "#f0f921"
             ]
            ],
            "type": "heatmapgl"
           }
          ],
          "histogram": [
           {
            "marker": {
             "colorbar": {
              "outlinewidth": 0,
              "ticks": ""
             }
            },
            "type": "histogram"
           }
          ],
          "histogram2d": [
           {
            "colorbar": {
             "outlinewidth": 0,
             "ticks": ""
            },
            "colorscale": [
             [
              0,
              "#0d0887"
             ],
             [
              0.1111111111111111,
              "#46039f"
             ],
             [
              0.2222222222222222,
              "#7201a8"
             ],
             [
              0.3333333333333333,
              "#9c179e"
             ],
             [
              0.4444444444444444,
              "#bd3786"
             ],
             [
              0.5555555555555556,
              "#d8576b"
             ],
             [
              0.6666666666666666,
              "#ed7953"
             ],
             [
              0.7777777777777778,
              "#fb9f3a"
             ],
             [
              0.8888888888888888,
              "#fdca26"
             ],
             [
              1,
              "#f0f921"
             ]
            ],
            "type": "histogram2d"
           }
          ],
          "histogram2dcontour": [
           {
            "colorbar": {
             "outlinewidth": 0,
             "ticks": ""
            },
            "colorscale": [
             [
              0,
              "#0d0887"
             ],
             [
              0.1111111111111111,
              "#46039f"
             ],
             [
              0.2222222222222222,
              "#7201a8"
             ],
             [
              0.3333333333333333,
              "#9c179e"
             ],
             [
              0.4444444444444444,
              "#bd3786"
             ],
             [
              0.5555555555555556,
              "#d8576b"
             ],
             [
              0.6666666666666666,
              "#ed7953"
             ],
             [
              0.7777777777777778,
              "#fb9f3a"
             ],
             [
              0.8888888888888888,
              "#fdca26"
             ],
             [
              1,
              "#f0f921"
             ]
            ],
            "type": "histogram2dcontour"
           }
          ],
          "mesh3d": [
           {
            "colorbar": {
             "outlinewidth": 0,
             "ticks": ""
            },
            "type": "mesh3d"
           }
          ],
          "parcoords": [
           {
            "line": {
             "colorbar": {
              "outlinewidth": 0,
              "ticks": ""
             }
            },
            "type": "parcoords"
           }
          ],
          "pie": [
           {
            "automargin": true,
            "type": "pie"
           }
          ],
          "scatter": [
           {
            "marker": {
             "colorbar": {
              "outlinewidth": 0,
              "ticks": ""
             }
            },
            "type": "scatter"
           }
          ],
          "scatter3d": [
           {
            "line": {
             "colorbar": {
              "outlinewidth": 0,
              "ticks": ""
             }
            },
            "marker": {
             "colorbar": {
              "outlinewidth": 0,
              "ticks": ""
             }
            },
            "type": "scatter3d"
           }
          ],
          "scattercarpet": [
           {
            "marker": {
             "colorbar": {
              "outlinewidth": 0,
              "ticks": ""
             }
            },
            "type": "scattercarpet"
           }
          ],
          "scattergeo": [
           {
            "marker": {
             "colorbar": {
              "outlinewidth": 0,
              "ticks": ""
             }
            },
            "type": "scattergeo"
           }
          ],
          "scattergl": [
           {
            "marker": {
             "colorbar": {
              "outlinewidth": 0,
              "ticks": ""
             }
            },
            "type": "scattergl"
           }
          ],
          "scattermapbox": [
           {
            "marker": {
             "colorbar": {
              "outlinewidth": 0,
              "ticks": ""
             }
            },
            "type": "scattermapbox"
           }
          ],
          "scatterpolar": [
           {
            "marker": {
             "colorbar": {
              "outlinewidth": 0,
              "ticks": ""
             }
            },
            "type": "scatterpolar"
           }
          ],
          "scatterpolargl": [
           {
            "marker": {
             "colorbar": {
              "outlinewidth": 0,
              "ticks": ""
             }
            },
            "type": "scatterpolargl"
           }
          ],
          "scatterternary": [
           {
            "marker": {
             "colorbar": {
              "outlinewidth": 0,
              "ticks": ""
             }
            },
            "type": "scatterternary"
           }
          ],
          "surface": [
           {
            "colorbar": {
             "outlinewidth": 0,
             "ticks": ""
            },
            "colorscale": [
             [
              0,
              "#0d0887"
             ],
             [
              0.1111111111111111,
              "#46039f"
             ],
             [
              0.2222222222222222,
              "#7201a8"
             ],
             [
              0.3333333333333333,
              "#9c179e"
             ],
             [
              0.4444444444444444,
              "#bd3786"
             ],
             [
              0.5555555555555556,
              "#d8576b"
             ],
             [
              0.6666666666666666,
              "#ed7953"
             ],
             [
              0.7777777777777778,
              "#fb9f3a"
             ],
             [
              0.8888888888888888,
              "#fdca26"
             ],
             [
              1,
              "#f0f921"
             ]
            ],
            "type": "surface"
           }
          ],
          "table": [
           {
            "cells": {
             "fill": {
              "color": "#EBF0F8"
             },
             "line": {
              "color": "white"
             }
            },
            "header": {
             "fill": {
              "color": "#C8D4E3"
             },
             "line": {
              "color": "white"
             }
            },
            "type": "table"
           }
          ]
         },
         "layout": {
          "annotationdefaults": {
           "arrowcolor": "#2a3f5f",
           "arrowhead": 0,
           "arrowwidth": 1
          },
          "coloraxis": {
           "colorbar": {
            "outlinewidth": 0,
            "ticks": ""
           }
          },
          "colorscale": {
           "diverging": [
            [
             0,
             "#8e0152"
            ],
            [
             0.1,
             "#c51b7d"
            ],
            [
             0.2,
             "#de77ae"
            ],
            [
             0.3,
             "#f1b6da"
            ],
            [
             0.4,
             "#fde0ef"
            ],
            [
             0.5,
             "#f7f7f7"
            ],
            [
             0.6,
             "#e6f5d0"
            ],
            [
             0.7,
             "#b8e186"
            ],
            [
             0.8,
             "#7fbc41"
            ],
            [
             0.9,
             "#4d9221"
            ],
            [
             1,
             "#276419"
            ]
           ],
           "sequential": [
            [
             0,
             "#0d0887"
            ],
            [
             0.1111111111111111,
             "#46039f"
            ],
            [
             0.2222222222222222,
             "#7201a8"
            ],
            [
             0.3333333333333333,
             "#9c179e"
            ],
            [
             0.4444444444444444,
             "#bd3786"
            ],
            [
             0.5555555555555556,
             "#d8576b"
            ],
            [
             0.6666666666666666,
             "#ed7953"
            ],
            [
             0.7777777777777778,
             "#fb9f3a"
            ],
            [
             0.8888888888888888,
             "#fdca26"
            ],
            [
             1,
             "#f0f921"
            ]
           ],
           "sequentialminus": [
            [
             0,
             "#0d0887"
            ],
            [
             0.1111111111111111,
             "#46039f"
            ],
            [
             0.2222222222222222,
             "#7201a8"
            ],
            [
             0.3333333333333333,
             "#9c179e"
            ],
            [
             0.4444444444444444,
             "#bd3786"
            ],
            [
             0.5555555555555556,
             "#d8576b"
            ],
            [
             0.6666666666666666,
             "#ed7953"
            ],
            [
             0.7777777777777778,
             "#fb9f3a"
            ],
            [
             0.8888888888888888,
             "#fdca26"
            ],
            [
             1,
             "#f0f921"
            ]
           ]
          },
          "colorway": [
           "#636efa",
           "#EF553B",
           "#00cc96",
           "#ab63fa",
           "#FFA15A",
           "#19d3f3",
           "#FF6692",
           "#B6E880",
           "#FF97FF",
           "#FECB52"
          ],
          "font": {
           "color": "#2a3f5f"
          },
          "geo": {
           "bgcolor": "white",
           "lakecolor": "white",
           "landcolor": "#E5ECF6",
           "showlakes": true,
           "showland": true,
           "subunitcolor": "white"
          },
          "hoverlabel": {
           "align": "left"
          },
          "hovermode": "closest",
          "mapbox": {
           "style": "light"
          },
          "paper_bgcolor": "white",
          "plot_bgcolor": "#E5ECF6",
          "polar": {
           "angularaxis": {
            "gridcolor": "white",
            "linecolor": "white",
            "ticks": ""
           },
           "bgcolor": "#E5ECF6",
           "radialaxis": {
            "gridcolor": "white",
            "linecolor": "white",
            "ticks": ""
           }
          },
          "scene": {
           "xaxis": {
            "backgroundcolor": "#E5ECF6",
            "gridcolor": "white",
            "gridwidth": 2,
            "linecolor": "white",
            "showbackground": true,
            "ticks": "",
            "zerolinecolor": "white"
           },
           "yaxis": {
            "backgroundcolor": "#E5ECF6",
            "gridcolor": "white",
            "gridwidth": 2,
            "linecolor": "white",
            "showbackground": true,
            "ticks": "",
            "zerolinecolor": "white"
           },
           "zaxis": {
            "backgroundcolor": "#E5ECF6",
            "gridcolor": "white",
            "gridwidth": 2,
            "linecolor": "white",
            "showbackground": true,
            "ticks": "",
            "zerolinecolor": "white"
           }
          },
          "shapedefaults": {
           "line": {
            "color": "#2a3f5f"
           }
          },
          "ternary": {
           "aaxis": {
            "gridcolor": "white",
            "linecolor": "white",
            "ticks": ""
           },
           "baxis": {
            "gridcolor": "white",
            "linecolor": "white",
            "ticks": ""
           },
           "bgcolor": "#E5ECF6",
           "caxis": {
            "gridcolor": "white",
            "linecolor": "white",
            "ticks": ""
           }
          },
          "title": {
           "x": 0.05
          },
          "xaxis": {
           "automargin": true,
           "gridcolor": "white",
           "linecolor": "white",
           "ticks": "",
           "title": {
            "standoff": 15
           },
           "zerolinecolor": "white",
           "zerolinewidth": 2
          },
          "yaxis": {
           "automargin": true,
           "gridcolor": "white",
           "linecolor": "white",
           "ticks": "",
           "title": {
            "standoff": 15
           },
           "zerolinecolor": "white",
           "zerolinewidth": 2
          }
         }
        }
       }
      }
     },
     "metadata": {}
    }
   ],
   "source": [
    "N = 100\n",
    "(A, B) = linearly_separable(N, [-3,0], [3,0], 1, 1)\n",
    "\n",
    "fig = go.Figure()\n",
    "fig.add_trace(go.Scatter(x=A[:,0], y=A[:,1], mode=\"markers\"))\n",
    "fig.add_trace(go.Scatter(x=B[:,0], y=B[:,1], mode=\"markers\"))\n",
    "fig.show()"
   ]
  },
  {
   "cell_type": "code",
   "execution_count": 67,
   "metadata": {
    "tags": []
   },
   "outputs": [
    {
     "output_type": "stream",
     "name": "stdout",
     "text": "[[0.94567952 0.60252332]]\n"
    },
    {
     "output_type": "error",
     "ename": "ValueError",
     "evalue": "non-broadcastable output operand with shape (1,2) doesn't match the broadcast shape (200,2)",
     "traceback": [
      "\u001b[0;31m---------------------------------------------------------------------------\u001b[0m",
      "\u001b[0;31mValueError\u001b[0m                                Traceback (most recent call last)",
      "\u001b[0;32m<ipython-input-67-57c17c028bd2>\u001b[0m in \u001b[0;36m<module>\u001b[0;34m\u001b[0m\n\u001b[1;32m     10\u001b[0m \u001b[0mprint\u001b[0m\u001b[0;34m(\u001b[0m\u001b[0mw\u001b[0m\u001b[0;34m[\u001b[0m\u001b[0;34m:\u001b[0m\u001b[0;36m10\u001b[0m\u001b[0;34m]\u001b[0m\u001b[0;34m)\u001b[0m\u001b[0;34m\u001b[0m\u001b[0;34m\u001b[0m\u001b[0m\n\u001b[1;32m     11\u001b[0m \u001b[0;32mfor\u001b[0m \u001b[0mi\u001b[0m \u001b[0;32min\u001b[0m \u001b[0mrange\u001b[0m\u001b[0;34m(\u001b[0m\u001b[0;36m3\u001b[0m\u001b[0;34m)\u001b[0m\u001b[0;34m:\u001b[0m\u001b[0;34m\u001b[0m\u001b[0;34m\u001b[0m\u001b[0m\n\u001b[0;32m---> 12\u001b[0;31m     \u001b[0mw\u001b[0m \u001b[0;34m+=\u001b[0m \u001b[0mdelta_rule\u001b[0m\u001b[0;34m(\u001b[0m\u001b[0mfeatures\u001b[0m\u001b[0;34m,\u001b[0m \u001b[0mtargets\u001b[0m\u001b[0;34m,\u001b[0m \u001b[0mw\u001b[0m\u001b[0;34m,\u001b[0m \u001b[0;36m.01\u001b[0m\u001b[0;34m)\u001b[0m\u001b[0;34m\u001b[0m\u001b[0;34m\u001b[0m\u001b[0m\n\u001b[0m\u001b[1;32m     13\u001b[0m \u001b[0mprint\u001b[0m\u001b[0;34m(\u001b[0m\u001b[0mw\u001b[0m\u001b[0;34m[\u001b[0m\u001b[0;34m:\u001b[0m\u001b[0;36m10\u001b[0m\u001b[0;34m]\u001b[0m \u001b[0;34m)\u001b[0m\u001b[0;34m\u001b[0m\u001b[0;34m\u001b[0m\u001b[0m\n",
      "\u001b[0;31mValueError\u001b[0m: non-broadcastable output operand with shape (1,2) doesn't match the broadcast shape (200,2)"
     ]
    }
   ],
   "source": [
    "features = np.concatenate([A,B],axis=0)\n",
    "targets = np.concatenate([-np.ones((A.shape[0],1)), np.ones((B.shape[0],1))], axis=0)\n",
    "\n",
    "# model1 = Model([N,2,1])\n",
    "# model1.init_param(useBias=True)\n",
    "# model1.init_training_param(N, 10, 3, .01, 0)\n",
    "# t_cost, v_cost, t_acc, v_acc = model1.SGD(features, targets, .1, True)\n",
    "\n",
    "w = np.random.uniform(0,1,(1,2))\n",
    "print(w[:10])\n",
    "for i in range(3):\n",
    "    w += delta_rule(features, targets, w, .01)\n",
    "print(w[:10] )"
   ]
  },
  {
   "cell_type": "code",
   "execution_count": 48,
   "metadata": {
    "tags": []
   },
   "outputs": [
    {
     "output_type": "stream",
     "name": "stdout",
     "text": "[]\n"
    }
   ],
   "source": []
  },
  {
   "cell_type": "code",
   "execution_count": null,
   "metadata": {},
   "outputs": [],
   "source": []
  }
 ]
}