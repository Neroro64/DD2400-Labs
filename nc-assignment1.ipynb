{
 "metadata": {
  "language_info": {
   "codemirror_mode": {
    "name": "ipython",
    "version": 3
   },
   "file_extension": ".py",
   "mimetype": "text/x-python",
   "name": "python",
   "nbconvert_exporter": "python",
   "pygments_lexer": "ipython3",
   "version": "3.8.3-final"
  },
  "orig_nbformat": 2,
  "kernelspec": {
   "name": "python3",
   "display_name": "Python 3"
  }
 },
 "nbformat": 4,
 "nbformat_minor": 2,
 "cells": [
  {
   "cell_type": "code",
   "execution_count": 4,
   "metadata": {},
   "outputs": [],
   "source": [
    "import pickle\n",
    "import numpy as np\n",
    "import plotly.express as ex\n",
    "import plotly.graph_objects as go\n",
    "from sklearn.model_selection import train_test_split\n",
    "import json\n",
    "\n",
    "__author__=\"Nuo Chen\"\n",
    "np.random.seed(2020)\n"
   ]
  },
  {
   "cell_type": "markdown",
   "metadata": {},
   "source": [
    "# MLP Model \n",
    "---\n",
    "A basic MLP network:\n",
    "\n",
    "**Input**:\n",
    "\n",
    "**Learning rule**:\n",
    "- Delta rule\n",
    "- Backpropagation (generalised delta rule)\n",
    "\n",
    "**Output**:\n",
    "\n",
    "\n",
    "    "
   ]
  },
  {
   "cell_type": "code",
   "execution_count": 5,
   "metadata": {},
   "outputs": [],
   "source": [
    "class Model:\n",
    "    def __init__(self, nodes):\n",
    "        \"\"\"\n",
    "        Arg:\n",
    "            layers - [in, n1, n2, ..., nj, out] an array of numbers of nodes in each layer.\n",
    "        Returns:\n",
    "            a fully-connected network with default weights and biases sampled from N(0, 1)\n",
    "        \"\"\"\n",
    "        self.n_layers = len(nodes)\n",
    "        self.NODES = nodes\n",
    "        self.init_param()\n",
    "    def init_param(self, useBias=True):\n",
    "        \"\"\"\n",
    "        Initialize the weights and biases with samples from normal distributions\n",
    "        W = [shape(n1,n2), shape(n2,n3), ..., shape(nj,nj+1)], where nj = number of nodes in the layer\n",
    "        B = [shape(n1,1), shape(n2,1), ..., shape(nj,1)]\n",
    "        \"\"\"\n",
    "        self.useBias = useBias\n",
    "\n",
    "        self.W = [np.random.normal(0,1,(i,j)) for i,j in zip(self.NODES[:-1], self.NODES[1:])]\n",
    "        if useBias:\n",
    "            self.B = [np.random.normal(0,1,(i,1)) for i in self.NODES[1:]]\n",
    "        else:\n",
    "            self.B = [np.zeros(i,1) for i in self.NODES[1:]]\n",
    "            \n",
    "    def init_training_param(self, n, batch_size, epochs, eta, lmbda, useMom=False):\n",
    "        \"\"\"\n",
    "        Initialize the hyper-parameters\n",
    "        \"\"\"\n",
    "        self.n_samples = n\n",
    "        self.BATCH_SIZE = batch_size\n",
    "        self.EPOCHS = epochs\n",
    "        self.BATCHES = int(n/batch_size)\n",
    "        self.LAMBDA = lmbda\n",
    "        self.ETA = eta\n",
    "        self.useMom = useMom\n",
    "        if (useMom):\n",
    "            self.alpha = .9\n",
    "            self.theta = 0\n",
    "            self.omega = 0\n",
    "\n",
    "    def normalize(self, x):\n",
    "        \"\"\"\n",
    "        Normalizes the inputs\n",
    "        \"\"\"\n",
    "        mean = np.mean(x, axis=1, keepdims=True)\n",
    "        std = np.std(x, axis=1, keepdims=True)\n",
    "        x = (x-mean) / std\n",
    "        return x\n",
    "\n",
    "    @staticmethod\n",
    "    def softmax():\n",
    "        return lambda x: np.exp(x-np.max(x,axis=0)) / np.sum(np.exp(x-np.max(x,axis=0)), axis=0)\n",
    "    @staticmethod\n",
    "    def relu():\n",
    "        return lambda x: np.maximum(0,x)\n",
    "    @staticmethod\n",
    "    def delta_rule():\n",
    "        return lambda x,w,t,eta: -eta*(w@x - t)@x.T    \n",
    "    @staticmethod\n",
    "    def sigmoid():\n",
    "        return lambda x: 2 / (1+np.exp(-x)) - 1\n",
    "    \n",
    "    def cross_entropy(self, p, y):\n",
    "        \"\"\"\n",
    "        Returns the cross-entropy cost of the prediciton\n",
    "        \"\"\"\n",
    "        p[p==0] = 1e-7\n",
    "        cost = 1/y.shape[1] * -np.sum(y*np.log(p))\n",
    "        w_sum = [w**2 for w in self.W]\n",
    "        s = 0\n",
    "        for w in w_sum: \n",
    "            s+= np.sum(w)\n",
    "        cost += self.LAMBDA * s\n",
    "        return cost\n",
    "    def feedforward(self, activations, act_fn, out_fn):\n",
    "        \"\"\"\n",
    "        s1 = w1 @ x + b1\n",
    "        h1 = act_fn(s1)\n",
    "        ....\n",
    "        sn = wn @ h(n-1) + bn\n",
    "        return out_fn(sn)\n",
    "        \"\"\"\n",
    "        a = activations[0]\n",
    "        for i in range(self.n_layers-1):\n",
    "            print(self.W[i].shape)\n",
    "            print(a.shape)\n",
    "            print(self.B[i].shape)\n",
    "            \n",
    "            s = self.W[i].T @ a + self.B[i]\n",
    "            a = act_fn(a)\n",
    "            activations.append(a)\n",
    "\n",
    "        return out_fn(a)\n",
    "    def backPropagation(self, y, p, activations):\n",
    "        \"\"\"\n",
    "        Back propagate the network and calculate the gradients\n",
    "        \"\"\"\n",
    "        dw = [np.zeros(w.shape) for w in self.W]\n",
    "        db = [np.zeros(b.shape) for b in self.B]\n",
    "\n",
    "        g = -(y - p)\n",
    "        for i in range(len(self.W)-1, -1, -1):\n",
    "            dw[i] = g @ activations[i].T * 1/self.BATCH_SIZE + 2 * self.LAMBDA * self.W[i].T\n",
    "            db[i] =  (np.sum(g, axis=1) * 1/self.BATCH_SIZE).reshape(self.B[i].shape)\n",
    "            g = self.W[i] @ g\n",
    "            g[np.where(activations[i]<=0)] = 0\n",
    "        \n",
    "        return (dw, db)\n",
    "    \n",
    "    def backPass(self, labels, predictions, activations):\n",
    "        dw = [np.zeros(w.shape) for w in self.W]\n",
    "        db = [np.zeros(b.shape) for b in self.B]\n",
    "\n",
    "        g = (p-y) * (1+p)*(1-p) * 0.5\n",
    "        for i in range(len(self.W)-1, -1, -1):\n",
    "            dw[i] = g\n",
    "            db[i] =  (np.sum(g, axis=1) * 1/self.BATCH_SIZE).reshape(self.B[i].shape)\n",
    "            g = g * ( (1+activations[i])*(1-activations[i]) * 0.5) * self.W[i].T\n",
    "\n",
    "        return (dw, db)\n",
    "            \n",
    "\n",
    "\n",
    "    def accuracy(self, p, y):\n",
    "        \"\"\"\n",
    "        Compute the accuracy of the predictions\n",
    "        \"\"\"\n",
    "        predictions = np.argmax(p, axis=0)\n",
    "        y = np.argmax(y, axis=0)\n",
    "        acc = predictions.T[predictions == y].shape[0] / p.shape[1]\n",
    "        return acc\n",
    "    \n",
    "    def update_batch(self, x, y):\n",
    "        \"\"\"\n",
    "        For each batch: \n",
    "            Pass the input into the network and compute the predictions.\n",
    "            Back propagate through the network to compute the gradients using the stored act>\n",
    "            Update the weights and biases using the gradients\n",
    "        \"\"\"\n",
    "        activations = [x]\n",
    "        p = self.feedforward(activations, Model.relu(), Model.softmax())\n",
    "        dw, db = self.backPropagation(y, p, activations)\n",
    "\n",
    "        if (not self.useMom):\n",
    "            for i in range(self.n_layers-1):\n",
    "                self.W[i] = self.W[i] - self.ETA * dw[i].T\n",
    "                if (self.useBias):\n",
    "                    self.B[i] = self.B[i] - self.ETA * db[i]\n",
    "        else:\n",
    "            for i in range(self.n_layers-1):\n",
    "                self.theta = self.alpha * self.theta - (1-self.alpha) * dw[i]\n",
    "                self.omega = self.alpha * self.omega - (1-self.alpha) * db[i]\n",
    "                self.W[i] = self.W[i] + self.ETA * self.theta\n",
    "                if (self.useBias):\n",
    "                    self.B[i] = self.B[i] + self.ETA * self.omega\n",
    "\n",
    "    def SGD(self, train_features, test_features, train_labels, test_labels, verbose=False):\n",
    "        \"\"\"\n",
    "        Stochastic gradient descend method\n",
    "        Trains the network a given number of epochs or cycles\n",
    "        Return:\n",
    "            Training cost and validation cost\n",
    "            Training accuracy and validation accuracy\n",
    "        \"\"\"\n",
    "\n",
    "        # train_features, test_features, train_labels, test_labels = train_test_split(features, targets, test_size = test_size, random_state = 2020)\n",
    "        # assert(train_features.shape[1] == train_labels.shape[1])\n",
    "        # assert(test_features.shape[1] == test_labels.shape[1])\n",
    "        \n",
    "        training_cost = []\n",
    "        validation_cost = []\n",
    "        training_accuracy = []\n",
    "        validation_accuracy = []\n",
    "\n",
    "        self.n_samples = train_features.shape[1]\n",
    "        self.BATCHES = int(self.n_samples/self.BATCH_SIZE)\n",
    "\n",
    "        for t in range(self.EPOCHS):\n",
    "            # Shuffles the order of samples \n",
    "            idx = np.random.permutation(self.n_samples)\n",
    "            for j in range(1, self.BATCHES):\n",
    "                start = (j-1) * self.BATCH_SIZE\n",
    "                end = j * self.BATCH_SIZE\n",
    "                indices = idx[start:end]\n",
    "                x_batch = train_features[:, indices]            \n",
    "                y_batch = train_labels[:, indices]    \n",
    "                self.update_batch(x_batch, y_batch)\n",
    "\n",
    "                    # Check cost and accuracy 10 times per cycle \n",
    "\n",
    "            p_t = self.feedforward([train_features], Model.relu(), Model.softmax())\n",
    "            p_v = self.feedforward([test_features],Model.relu(), Model.softmax())\n",
    "            training_cost.append(self.cross_entropy(p_t, train_labels))\n",
    "            validation_cost.append(self.cross_entropy(p_v, test_labels))\n",
    "            training_accuracy.append(self.accuracy(p_t, train_labels))\n",
    "            validation_accuracy.append(self.accuracy(p_v, test_labels))\n",
    "\n",
    "            if (verbose):\n",
    "                print(\"Epoch #{}--------------------------------------\".format(t))\n",
    "                print(\"Training Cost: {:.6f}\".format(training_cost[-1]))\n",
    "                print(\"Validation Cost: {:.6f}\".format(validation_cost[-1]))\n",
    "                print(\"Training Accuracy = {:.3f}\".format(training_accuracy[-1]))\n",
    "                print(\"Validation Accuracy = {:.3f}\".format(validation_accuracy[-1]))\n",
    "                print(\"-\"*50)\n",
    "\n",
    "        return (training_cost, validation_cost, training_accuracy, validation_accuracy)\n",
    "\n",
    "    def save(self, filename):\n",
    "        \"\"\"\n",
    "        Save the model to the file 'filename`.\n",
    "        \"\"\"\n",
    "        data = {\"Nodes\": self.NODES,\n",
    "                \"W\": [w.tolist() for w in self.W],\n",
    "                \"B\": [b.tolist() for b in self.B]}\n",
    "        with open(filename, \"w\") as f:\n",
    "            json.dump(data, f)\n",
    "\n",
    "    def load(self, filename):\n",
    "        \"\"\"\n",
    "        Load the model\n",
    "        \"\"\"\n",
    "        with open(filename, \"r\") as f:\n",
    "            data = json.load(f)\n",
    "        \n",
    "        self.NODES = data[\"Nodes\"]\n",
    "        self.W = [np.array(w) for w in data[\"W\"]]\n",
    "        self.B = [np.array(b) for b in data[\"B\"]]\n",
    "\n"
   ]
  },
  {
   "cell_type": "markdown",
   "metadata": {},
   "source": [
    "# Two-layer MLP according to lab 1 instruction\n"
   ]
  },
  {
   "cell_type": "code",
   "execution_count": 40,
   "metadata": {},
   "outputs": [],
   "source": [
    "class two_layer_model():\n",
    "    def __init__(self, N):\n",
    "        self.N = N\n",
    "    def init_param(self, eta):\n",
    "        self.W = np.random.uniform(0,1,(self.N,3))\n",
    "        self.V = np.random.uniform(0,1,(1, self.N+1))\n",
    "        self.dw = np.zeros((self.N,3))\n",
    "        self.dv = np.zeros((1,self.N+1))\n",
    "        self.ETA = eta\n",
    "\n",
    "    def act_fn(self, x):\n",
    "        return 2 / (1+np.exp(-x)) - 1\n",
    "\n",
    "    def forward(self, x):\n",
    "        x = np.concatenate((x, np.ones((1, x.shape[1]))), axis=0)\n",
    "        h_in = self.W @ x\n",
    "        h_out = self.act_fn(h_in)\n",
    "        h_out = np.concatenate((h_out, np.ones((1, h_out.shape[1]))), axis=0)\n",
    "        o_in = self.V @ h_out\n",
    "        o_out = self.act_fn(o_in)\n",
    "        return (h_out, o_out)\n",
    "\n",
    "    def backpass(self, y, h_out, o_out):\n",
    "        delta_o = (o_out - y) * ((1+o_out)*(1-o_out)) * .5\n",
    "        delta_h = (self.V.T * delta_o) * ((1+h_out)*(1-h_out)) * .5\n",
    "        delta_h = delta_h[1:]\n",
    "        return delta_h, delta_o\n",
    "\n",
    "    def update(self, x, h_out, delta_h, delta_o, alpha=.9):\n",
    "        x = np.concatenate((x, np.ones((1, x.shape[1]))), axis=0)\n",
    "        self.dw = (self.dw * alpha) - (delta_h @ x.T) * (1-alpha)\n",
    "        self.dv = (self.dv * alpha) - (delta_o @ h_out.T) * (1-alpha)\n",
    "        self.W = self.W + self.dw * self.ETA\n",
    "        self.V = self.V + self.dv * self.ETA\n",
    "\n",
    "class two_layer_model_no_bias():\n",
    "    def __init__(self, N):\n",
    "        self.N = N\n",
    "    def init_param(self, eta):\n",
    "        self.W = np.random.uniform(0,1,(self.N,2))\n",
    "        self.V = np.random.uniform(0,1,(1, self.N))\n",
    "        self.dw = np.zeros((self.N,2))\n",
    "        self.dv = np.zeros((1,self.N))\n",
    "        self.ETA = eta\n",
    "\n",
    "    def act_fn(self, x):\n",
    "        return 2 / (1+np.exp(-x)) - 1\n",
    "\n",
    "    def forward(self, x):\n",
    "        h_in = self.W @ x\n",
    "        h_out = self.act_fn(h_in)\n",
    "        o_in = self.V @ h_out\n",
    "        o_out = self.act_fn(o_in)\n",
    "        return (h_out, o_out)\n",
    "\n",
    "    def backpass(self, y, h_out, o_out):\n",
    "        delta_o = (o_out - y) * ((1+o_out)*(1-o_out)) * .5\n",
    "        delta_h = (self.V.T * delta_o) * ((1+h_out)*(1-h_out)) * .5\n",
    "        return delta_h, delta_o\n",
    "\n",
    "    def update(self, x, h_out, delta_h, delta_o, alpha=.9):\n",
    "        self.dw = (self.dw * alpha) - (delta_h @ x.T) * (1-alpha)\n",
    "        self.dv = (self.dv * alpha) - (delta_o @ h_out.T) * (1-alpha)\n",
    "        self.W = self.W + self.dw * self.ETA\n",
    "        self.V = self.V + self.dv * self.ETA\n"
   ]
  },
  {
   "cell_type": "code",
   "execution_count": 38,
   "metadata": {},
   "outputs": [],
   "source": [
    "def delta_rule(x,y,w,eta):\n",
    "    return -eta * x.T@(x@w-y)\n",
    "\n",
    "def plot_boundary(fig, w):\n",
    "    lin_x = np.linspace(-5, 5, 100)\n",
    "    y = np.sum((lin_x.reshape(100,1)@w[:, 0].reshape((1,w.shape[0]))) / w[:, 1], axis=1) / w.shape[0]\n",
    "    y = np.clip(y, -5, 5)\n",
    "    fig.add_trace(go.Scatter(x=lin_x, y=y, mode=\"markers\"))\n",
    "\n",
    "def delta_learning(x,y,w,epochs,eta):\n",
    "    mae = []\n",
    "    for e in range(epoch):\n",
    "        w += delta_rule(x, y, w, eta)\n",
    "        mae.append(np.mean(np.abs(x@w-y)))\n",
    "    return mae\n",
    "\n",
    "def perceptron_learning(x,y,n,epochs,eta, ignore_bias=False):\n",
    "    if not ignore_bias:\n",
    "        model = two_layer_model(n)\n",
    "    else:\n",
    "        model = two_layer_model_no_bias(n)\n",
    "            \n",
    "    model.init_param(eta)\n",
    "\n",
    "    mae = []\n",
    "    for e in range(epoch):\n",
    "        h_out, o_out = model.forward(features.T)\n",
    "        dh, do = model.backpass(targets.T, h_out, o_out)\n",
    "        model.update(features.T, h_out, dh, do)\n",
    "        mae.append(np.mean(np.abs(o_out-targets.T)))\n",
    "    return model, mae"
   ]
  },
  {
   "cell_type": "markdown",
   "metadata": {},
   "source": [
    "# Generate data"
   ]
  },
  {
   "cell_type": "code",
   "execution_count": 8,
   "metadata": {},
   "outputs": [],
   "source": [
    "def multivariate(n, m1,m2, sigma1, sigma2):\n",
    "    classA = np.random.normal(m1, sigma1, size=[n,2])\n",
    "    classB = np.random.normal(m2, sigma2, size=[n,2])\n",
    "    return classA, classB\n"
   ]
  },
  {
   "cell_type": "markdown",
   "metadata": {},
   "source": [
    "## 3.1.1 - 3.1.2\n",
    "\n"
   ]
  },
  {
   "cell_type": "code",
   "execution_count": 19,
   "metadata": {
    "tags": []
   },
   "outputs": [
    {
     "output_type": "display_data",
     "data": {
      "application/vnd.plotly.v1+json": {
       "config": {
        "plotlyServerURL": "https://plot.ly"
       },
       "data": [
        {
         "mode": "markers",
         "type": "scatter",
         "x": [
          -3.9917534161860075,
          -1.7737913164219918,
          -3.0105277600755387,
          -3.061459071912731,
          -1.947487748044996,
          -3.293435846038711,
          -2.7597296629080876,
          -3.0477124555178015,
          -2.439445728237083,
          -1.5131429049006324,
          -2.834463817784431,
          -3.596195271140929,
          -0.5927687844067719,
          -3.3621515764762817,
          -3.3164485754365796,
          -2.4131101760475007,
          -4.617109941494432,
          -2.930370013856408,
          -2.385979404436897,
          -2.308139354446049,
          -2.173157184697051,
          -2.836816797659587,
          -4.738590070256153,
          -1.8396118550617553,
          -5.411048589371471,
          -4.396342911334141,
          -3.7557399024321603,
          -4.220757819724889,
          -2.054391756346857,
          -4.5463266635840025,
          -3.6206292310442287,
          -2.292018126359539,
          -1.8604691120560786,
          -1.7666228112320377,
          -2.504309098459478,
          -4.8393842191204985,
          -2.3361841629654667,
          -3.3748801789548692,
          -3.2784594360123585,
          -4.375182805339752,
          -4.185609942239832,
          -4.027867015652847,
          -2.0241934688706675,
          -3.1101071037303125,
          -2.112159512650112,
          -3.5211988785006163,
          -3.6113908186333545,
          -3.88876829741585,
          -2.5097334389133383,
          -3.3836222163273386,
          -4.865799046110965,
          -3.1516123724299683,
          -2.431901514288066,
          -2.484842389473681,
          -2.4400993433870513,
          -3.468516532137749,
          -3.7441420040227995,
          -3.662586110224914,
          -3.516081226062285,
          -1.2895989768619964,
          -2.12181093604308,
          -1.4476173367859007,
          -4.789178728083756,
          -1.8957180741899287,
          -3.889051128810473,
          -2.8343533780225414,
          -3.9960430657994666,
          -0.7474448750805651,
          -4.531565271822268,
          -3.1353560357975967,
          -3.2297894391735817,
          -4.010188662619814,
          -2.8249575619458103,
          -3.108705758942059,
          -2.3155669896042346,
          -2.8048395063986264,
          -3.6553114483465654,
          -2.009017300038354,
          -1.4400491071900885,
          -5.242737423221904,
          -4.358330684632841,
          -3.862992420014034,
          -3.5341597326906804,
          -3.135212689649454,
          -3.0187827161562066,
          -3.276273715124157,
          -1.7588256040335855,
          -2.529059289298555,
          -1.5343781605329203,
          -5.618828801321481,
          -2.136296153258004,
          -2.411063326606663,
          -0.7666585632618728,
          -2.415053001304751,
          -4.345378767307353,
          -2.642924148777198,
          -3.4931624063147257,
          -3.430463457119062,
          -2.2863834329651906,
          -2.2157527568640023
         ],
         "y": [
          1.0717680068169917,
          0.3543475886640584,
          0.6473019195535411,
          1.545752455849991,
          0.08392691027298621,
          -0.470103667087865,
          0.8582276021960685,
          -1.0737580688118993,
          -0.07147179541754806,
          -1.9938676534108337,
          -0.34380263178260506,
          0.03008679558671981,
          1.6647455615509223,
          -1.569123084627745,
          2.3390963963479243,
          -1.542837245265297,
          1.3324995997006297,
          0.06218282112922564,
          -1.155349619988314,
          1.3215621491590066,
          -0.5219711339790996,
          -1.1275426427465496,
          -0.15407976054386036,
          0.8972396787817203,
          -0.8264464093276022,
          1.0258615831619748,
          -2.2584495557660538,
          -0.39769570164168594,
          0.36476583310410693,
          -0.9212624387671324,
          1.5512788279689167,
          1.4877745442302386,
          1.1131630344443881,
          -2.009568835852763,
          0.5488683458096886,
          1.7301766192675776,
          -0.0664100698462282,
          0.039790864684562555,
          -0.6406584731700147,
          0.11877253464483033,
          1.511033888180224,
          -0.0258438957989265,
          0.29942222936915563,
          -0.09947323890920559,
          1.1117297282372254,
          0.5976432409876409,
          -0.268445886447397,
          -0.2974740842139679,
          0.703395482794924,
          -0.06914699046650694,
          0.33241201045287166,
          0.4766896089848379,
          0.3387761720578628,
          1.43614402624488,
          0.9782037277153651,
          0.24300234674973378,
          0.7052987723808052,
          -0.23665368774447632,
          2.2117945831173027,
          -2.398219162862545,
          -0.49129393783073677,
          0.9221867848720761,
          -1.381977833180643,
          0.30340597618067505,
          1.5176353971881873,
          0.9729807922535084,
          -1.1332239322171425,
          -0.40688622033128186,
          -0.6331291646105099,
          1.6559273763154205,
          0.19830887716338538,
          0.21672898689540865,
          1.1552322633140424,
          -0.35580969655331773,
          1.9783325393370204,
          -0.19294849458829355,
          -0.3930957020113583,
          -1.3761424646180622,
          -1.1405368361899286,
          1.2846896012702158,
          1.3580267143529594,
          -0.19458472780669442,
          0.11514879271420554,
          -2.2530924771259104,
          -0.14059541193923325,
          1.3218543064265729,
          -0.8790177061895861,
          0.4441463060835812,
          -0.9878863678818117,
          -1.2174634726009215,
          -0.5580507238235299,
          -0.15633453017818874,
          -0.29807517306266035,
          1.1890713306583645,
          -0.43878670370574696,
          -0.4450519442137807,
          -0.6118658763599355,
          -0.0603080366334346,
          0.9340045056703038,
          1.1244403481368652
         ]
        },
        {
         "mode": "markers",
         "type": "scatter",
         "x": [
          1.8558097053168954,
          2.8050023976321397,
          4.812576479326202,
          1.4531481833030742,
          4.550632206864588,
          2.4444082557773767,
          4.791268378236769,
          3.209526598474863,
          3.9280135192387844,
          2.9755153782425956,
          3.0594706469571284,
          1.1270405837605444,
          2.448844313616059,
          1.994353881896466,
          3.912168519313565,
          2.4941168845363157,
          4.77219194090439,
          2.12366992131871,
          1.8979845121175924,
          2.1205783871508324,
          0.7136876744313483,
          4.002262589159345,
          2.068993137310409,
          3.7779221354802752,
          4.631472337761913,
          2.050111003972774,
          3.3061663026064982,
          2.3885001389878013,
          1.8081053437584902,
          3.844953334407228,
          3.9794541250271602,
          0.24514860719063414,
          1.2016333505572925,
          3.3918657233021547,
          3.5255596748184006,
          2.0939678498787337,
          3.4402468694846418,
          2.9290142006293833,
          2.7887839152457348,
          3.6681698950931643,
          1.365023932741915,
          3.950647075384687,
          2.771743893400087,
          3.0006223006344017,
          2.862793680500393,
          2.429411314255181,
          3.5648617002763556,
          2.4910865083122515,
          3.0184042659083787,
          3.524129516560099,
          2.507297487489143,
          3.94952726909359,
          2.4927194604971064,
          3.1652744110528634,
          3.498294159832733,
          1.9943290878007938,
          2.799969369712421,
          0.7067316433788458,
          5.267832983996865,
          3.9233881672281012,
          1.262945684813378,
          5.698668299184851,
          0.4909921837624944,
          5.041521845203741,
          1.9278593319156772,
          3.3118285510787038,
          3.7990584139831434,
          2.5776464845228313,
          4.476782412143285,
          2.5232189187870837,
          1.9161422696960304,
          3.453329650167685,
          2.70900061688643,
          2.2775464380298613,
          3.123404077091724,
          3.626276894541987,
          1.5488940480234192,
          3.2481225370924816,
          4.342672890994804,
          3.428038220289696,
          3.784614625093226,
          2.302982979480735,
          3.46428233345537,
          2.8367183523417037,
          3.699521914122045,
          2.265508453629614,
          3.7733678828987616,
          3.006112054243274,
          3.0165828809156503,
          3.6085074938219304,
          6.164579437635497,
          2.3368421636835093,
          4.370564696629897,
          4.849038463118358,
          2.5142637000897787,
          3.778785033748104,
          2.2989425891811024,
          1.6987511258840284,
          3.1463839706869146,
          4.971091590958971
         ],
         "y": [
          0.21486086747366684,
          0.5063119896378572,
          -0.5217045968580837,
          0.886434323474596,
          0.007149148324313209,
          0.18104003280182032,
          1.1538366731928458,
          -0.2377623807331417,
          -0.257232538921729,
          -0.673406340476656,
          -0.44488885734669154,
          -1.087184601737406,
          0.5243338867964664,
          1.622546114856178,
          0.21493474041310623,
          0.538900268198317,
          -0.10669221617037002,
          0.6121279672030159,
          -1.6172998999729817,
          0.10221689228550694,
          1.661226307780667,
          -0.6156275123160874,
          0.32260340217610883,
          -0.06298176164630703,
          -0.998505723488458,
          -0.06844805058962655,
          -1.1135676215825585,
          2.5027221615062976,
          0.86634356315252,
          0.5904105360400369,
          -2.803852896563946,
          -0.41886645118717614,
          0.40076280779918555,
          -0.08448576161440666,
          -0.07533687750364583,
          0.5024035761762928,
          -0.18925319878003416,
          2.341363792559465,
          0.5498301372540647,
          2.6370381535840557,
          1.2088007963692504,
          -0.14426004785190794,
          1.684459201760386,
          -0.43215866161192096,
          -0.7139612772722038,
          1.2372756362782178,
          0.6050014092926547,
          0.5606452495818182,
          0.035812604025867986,
          -2.398175171384083,
          1.144998287746452,
          -0.4774634413445586,
          0.526706674286427,
          0.4069185531205392,
          0.8738565630346896,
          -1.6882989029158573,
          -1.0008610054715916,
          0.6625205837636597,
          0.9347144682879563,
          0.4716043955011535,
          0.6385825244143037,
          0.7485745346206983,
          1.4753569784618106,
          -1.2668688934057113,
          -0.7202109388213778,
          1.2107439609348962,
          -0.5993119277776405,
          1.073783612870723,
          1.0347820930327922,
          -0.23276730463620485,
          -0.2521369959850063,
          0.7385309673710387,
          0.3817593141255055,
          0.039931456908357046,
          0.24553074545947048,
          -0.7377885486232134,
          0.1283442139308473,
          -1.7525134105001725,
          -0.375445819989144,
          0.2152346294259194,
          -0.41345769898792667,
          0.9920595319369726,
          -0.6787243729450408,
          0.7727779927135948,
          0.6636190972665897,
          1.5556102522542317,
          -1.072199191894935,
          -0.1892886501462194,
          -0.9022409181040336,
          -0.2216097110323161,
          -0.14330554172427887,
          -0.7760198396375356,
          2.0756394980610278,
          -1.1987711047211254,
          1.0811416633605446,
          0.5094896731740332,
          0.03650120389181407,
          -0.18033146812066458,
          -1.4754773192963517,
          -1.252977259265946
         ]
        }
       ],
       "layout": {
        "template": {
         "data": {
          "bar": [
           {
            "error_x": {
             "color": "#2a3f5f"
            },
            "error_y": {
             "color": "#2a3f5f"
            },
            "marker": {
             "line": {
              "color": "#E5ECF6",
              "width": 0.5
             }
            },
            "type": "bar"
           }
          ],
          "barpolar": [
           {
            "marker": {
             "line": {
              "color": "#E5ECF6",
              "width": 0.5
             }
            },
            "type": "barpolar"
           }
          ],
          "carpet": [
           {
            "aaxis": {
             "endlinecolor": "#2a3f5f",
             "gridcolor": "white",
             "linecolor": "white",
             "minorgridcolor": "white",
             "startlinecolor": "#2a3f5f"
            },
            "baxis": {
             "endlinecolor": "#2a3f5f",
             "gridcolor": "white",
             "linecolor": "white",
             "minorgridcolor": "white",
             "startlinecolor": "#2a3f5f"
            },
            "type": "carpet"
           }
          ],
          "choropleth": [
           {
            "colorbar": {
             "outlinewidth": 0,
             "ticks": ""
            },
            "type": "choropleth"
           }
          ],
          "contour": [
           {
            "colorbar": {
             "outlinewidth": 0,
             "ticks": ""
            },
            "colorscale": [
             [
              0,
              "#0d0887"
             ],
             [
              0.1111111111111111,
              "#46039f"
             ],
             [
              0.2222222222222222,
              "#7201a8"
             ],
             [
              0.3333333333333333,
              "#9c179e"
             ],
             [
              0.4444444444444444,
              "#bd3786"
             ],
             [
              0.5555555555555556,
              "#d8576b"
             ],
             [
              0.6666666666666666,
              "#ed7953"
             ],
             [
              0.7777777777777778,
              "#fb9f3a"
             ],
             [
              0.8888888888888888,
              "#fdca26"
             ],
             [
              1,
              "#f0f921"
             ]
            ],
            "type": "contour"
           }
          ],
          "contourcarpet": [
           {
            "colorbar": {
             "outlinewidth": 0,
             "ticks": ""
            },
            "type": "contourcarpet"
           }
          ],
          "heatmap": [
           {
            "colorbar": {
             "outlinewidth": 0,
             "ticks": ""
            },
            "colorscale": [
             [
              0,
              "#0d0887"
             ],
             [
              0.1111111111111111,
              "#46039f"
             ],
             [
              0.2222222222222222,
              "#7201a8"
             ],
             [
              0.3333333333333333,
              "#9c179e"
             ],
             [
              0.4444444444444444,
              "#bd3786"
             ],
             [
              0.5555555555555556,
              "#d8576b"
             ],
             [
              0.6666666666666666,
              "#ed7953"
             ],
             [
              0.7777777777777778,
              "#fb9f3a"
             ],
             [
              0.8888888888888888,
              "#fdca26"
             ],
             [
              1,
              "#f0f921"
             ]
            ],
            "type": "heatmap"
           }
          ],
          "heatmapgl": [
           {
            "colorbar": {
             "outlinewidth": 0,
             "ticks": ""
            },
            "colorscale": [
             [
              0,
              "#0d0887"
             ],
             [
              0.1111111111111111,
              "#46039f"
             ],
             [
              0.2222222222222222,
              "#7201a8"
             ],
             [
              0.3333333333333333,
              "#9c179e"
             ],
             [
              0.4444444444444444,
              "#bd3786"
             ],
             [
              0.5555555555555556,
              "#d8576b"
             ],
             [
              0.6666666666666666,
              "#ed7953"
             ],
             [
              0.7777777777777778,
              "#fb9f3a"
             ],
             [
              0.8888888888888888,
              "#fdca26"
             ],
             [
              1,
              "#f0f921"
             ]
            ],
            "type": "heatmapgl"
           }
          ],
          "histogram": [
           {
            "marker": {
             "colorbar": {
              "outlinewidth": 0,
              "ticks": ""
             }
            },
            "type": "histogram"
           }
          ],
          "histogram2d": [
           {
            "colorbar": {
             "outlinewidth": 0,
             "ticks": ""
            },
            "colorscale": [
             [
              0,
              "#0d0887"
             ],
             [
              0.1111111111111111,
              "#46039f"
             ],
             [
              0.2222222222222222,
              "#7201a8"
             ],
             [
              0.3333333333333333,
              "#9c179e"
             ],
             [
              0.4444444444444444,
              "#bd3786"
             ],
             [
              0.5555555555555556,
              "#d8576b"
             ],
             [
              0.6666666666666666,
              "#ed7953"
             ],
             [
              0.7777777777777778,
              "#fb9f3a"
             ],
             [
              0.8888888888888888,
              "#fdca26"
             ],
             [
              1,
              "#f0f921"
             ]
            ],
            "type": "histogram2d"
           }
          ],
          "histogram2dcontour": [
           {
            "colorbar": {
             "outlinewidth": 0,
             "ticks": ""
            },
            "colorscale": [
             [
              0,
              "#0d0887"
             ],
             [
              0.1111111111111111,
              "#46039f"
             ],
             [
              0.2222222222222222,
              "#7201a8"
             ],
             [
              0.3333333333333333,
              "#9c179e"
             ],
             [
              0.4444444444444444,
              "#bd3786"
             ],
             [
              0.5555555555555556,
              "#d8576b"
             ],
             [
              0.6666666666666666,
              "#ed7953"
             ],
             [
              0.7777777777777778,
              "#fb9f3a"
             ],
             [
              0.8888888888888888,
              "#fdca26"
             ],
             [
              1,
              "#f0f921"
             ]
            ],
            "type": "histogram2dcontour"
           }
          ],
          "mesh3d": [
           {
            "colorbar": {
             "outlinewidth": 0,
             "ticks": ""
            },
            "type": "mesh3d"
           }
          ],
          "parcoords": [
           {
            "line": {
             "colorbar": {
              "outlinewidth": 0,
              "ticks": ""
             }
            },
            "type": "parcoords"
           }
          ],
          "pie": [
           {
            "automargin": true,
            "type": "pie"
           }
          ],
          "scatter": [
           {
            "marker": {
             "colorbar": {
              "outlinewidth": 0,
              "ticks": ""
             }
            },
            "type": "scatter"
           }
          ],
          "scatter3d": [
           {
            "line": {
             "colorbar": {
              "outlinewidth": 0,
              "ticks": ""
             }
            },
            "marker": {
             "colorbar": {
              "outlinewidth": 0,
              "ticks": ""
             }
            },
            "type": "scatter3d"
           }
          ],
          "scattercarpet": [
           {
            "marker": {
             "colorbar": {
              "outlinewidth": 0,
              "ticks": ""
             }
            },
            "type": "scattercarpet"
           }
          ],
          "scattergeo": [
           {
            "marker": {
             "colorbar": {
              "outlinewidth": 0,
              "ticks": ""
             }
            },
            "type": "scattergeo"
           }
          ],
          "scattergl": [
           {
            "marker": {
             "colorbar": {
              "outlinewidth": 0,
              "ticks": ""
             }
            },
            "type": "scattergl"
           }
          ],
          "scattermapbox": [
           {
            "marker": {
             "colorbar": {
              "outlinewidth": 0,
              "ticks": ""
             }
            },
            "type": "scattermapbox"
           }
          ],
          "scatterpolar": [
           {
            "marker": {
             "colorbar": {
              "outlinewidth": 0,
              "ticks": ""
             }
            },
            "type": "scatterpolar"
           }
          ],
          "scatterpolargl": [
           {
            "marker": {
             "colorbar": {
              "outlinewidth": 0,
              "ticks": ""
             }
            },
            "type": "scatterpolargl"
           }
          ],
          "scatterternary": [
           {
            "marker": {
             "colorbar": {
              "outlinewidth": 0,
              "ticks": ""
             }
            },
            "type": "scatterternary"
           }
          ],
          "surface": [
           {
            "colorbar": {
             "outlinewidth": 0,
             "ticks": ""
            },
            "colorscale": [
             [
              0,
              "#0d0887"
             ],
             [
              0.1111111111111111,
              "#46039f"
             ],
             [
              0.2222222222222222,
              "#7201a8"
             ],
             [
              0.3333333333333333,
              "#9c179e"
             ],
             [
              0.4444444444444444,
              "#bd3786"
             ],
             [
              0.5555555555555556,
              "#d8576b"
             ],
             [
              0.6666666666666666,
              "#ed7953"
             ],
             [
              0.7777777777777778,
              "#fb9f3a"
             ],
             [
              0.8888888888888888,
              "#fdca26"
             ],
             [
              1,
              "#f0f921"
             ]
            ],
            "type": "surface"
           }
          ],
          "table": [
           {
            "cells": {
             "fill": {
              "color": "#EBF0F8"
             },
             "line": {
              "color": "white"
             }
            },
            "header": {
             "fill": {
              "color": "#C8D4E3"
             },
             "line": {
              "color": "white"
             }
            },
            "type": "table"
           }
          ]
         },
         "layout": {
          "annotationdefaults": {
           "arrowcolor": "#2a3f5f",
           "arrowhead": 0,
           "arrowwidth": 1
          },
          "coloraxis": {
           "colorbar": {
            "outlinewidth": 0,
            "ticks": ""
           }
          },
          "colorscale": {
           "diverging": [
            [
             0,
             "#8e0152"
            ],
            [
             0.1,
             "#c51b7d"
            ],
            [
             0.2,
             "#de77ae"
            ],
            [
             0.3,
             "#f1b6da"
            ],
            [
             0.4,
             "#fde0ef"
            ],
            [
             0.5,
             "#f7f7f7"
            ],
            [
             0.6,
             "#e6f5d0"
            ],
            [
             0.7,
             "#b8e186"
            ],
            [
             0.8,
             "#7fbc41"
            ],
            [
             0.9,
             "#4d9221"
            ],
            [
             1,
             "#276419"
            ]
           ],
           "sequential": [
            [
             0,
             "#0d0887"
            ],
            [
             0.1111111111111111,
             "#46039f"
            ],
            [
             0.2222222222222222,
             "#7201a8"
            ],
            [
             0.3333333333333333,
             "#9c179e"
            ],
            [
             0.4444444444444444,
             "#bd3786"
            ],
            [
             0.5555555555555556,
             "#d8576b"
            ],
            [
             0.6666666666666666,
             "#ed7953"
            ],
            [
             0.7777777777777778,
             "#fb9f3a"
            ],
            [
             0.8888888888888888,
             "#fdca26"
            ],
            [
             1,
             "#f0f921"
            ]
           ],
           "sequentialminus": [
            [
             0,
             "#0d0887"
            ],
            [
             0.1111111111111111,
             "#46039f"
            ],
            [
             0.2222222222222222,
             "#7201a8"
            ],
            [
             0.3333333333333333,
             "#9c179e"
            ],
            [
             0.4444444444444444,
             "#bd3786"
            ],
            [
             0.5555555555555556,
             "#d8576b"
            ],
            [
             0.6666666666666666,
             "#ed7953"
            ],
            [
             0.7777777777777778,
             "#fb9f3a"
            ],
            [
             0.8888888888888888,
             "#fdca26"
            ],
            [
             1,
             "#f0f921"
            ]
           ]
          },
          "colorway": [
           "#636efa",
           "#EF553B",
           "#00cc96",
           "#ab63fa",
           "#FFA15A",
           "#19d3f3",
           "#FF6692",
           "#B6E880",
           "#FF97FF",
           "#FECB52"
          ],
          "font": {
           "color": "#2a3f5f"
          },
          "geo": {
           "bgcolor": "white",
           "lakecolor": "white",
           "landcolor": "#E5ECF6",
           "showlakes": true,
           "showland": true,
           "subunitcolor": "white"
          },
          "hoverlabel": {
           "align": "left"
          },
          "hovermode": "closest",
          "mapbox": {
           "style": "light"
          },
          "paper_bgcolor": "white",
          "plot_bgcolor": "#E5ECF6",
          "polar": {
           "angularaxis": {
            "gridcolor": "white",
            "linecolor": "white",
            "ticks": ""
           },
           "bgcolor": "#E5ECF6",
           "radialaxis": {
            "gridcolor": "white",
            "linecolor": "white",
            "ticks": ""
           }
          },
          "scene": {
           "xaxis": {
            "backgroundcolor": "#E5ECF6",
            "gridcolor": "white",
            "gridwidth": 2,
            "linecolor": "white",
            "showbackground": true,
            "ticks": "",
            "zerolinecolor": "white"
           },
           "yaxis": {
            "backgroundcolor": "#E5ECF6",
            "gridcolor": "white",
            "gridwidth": 2,
            "linecolor": "white",
            "showbackground": true,
            "ticks": "",
            "zerolinecolor": "white"
           },
           "zaxis": {
            "backgroundcolor": "#E5ECF6",
            "gridcolor": "white",
            "gridwidth": 2,
            "linecolor": "white",
            "showbackground": true,
            "ticks": "",
            "zerolinecolor": "white"
           }
          },
          "shapedefaults": {
           "line": {
            "color": "#2a3f5f"
           }
          },
          "ternary": {
           "aaxis": {
            "gridcolor": "white",
            "linecolor": "white",
            "ticks": ""
           },
           "baxis": {
            "gridcolor": "white",
            "linecolor": "white",
            "ticks": ""
           },
           "bgcolor": "#E5ECF6",
           "caxis": {
            "gridcolor": "white",
            "linecolor": "white",
            "ticks": ""
           }
          },
          "title": {
           "x": 0.05
          },
          "xaxis": {
           "automargin": true,
           "gridcolor": "white",
           "linecolor": "white",
           "ticks": "",
           "title": {
            "standoff": 15
           },
           "zerolinecolor": "white",
           "zerolinewidth": 2
          },
          "yaxis": {
           "automargin": true,
           "gridcolor": "white",
           "linecolor": "white",
           "ticks": "",
           "title": {
            "standoff": 15
           },
           "zerolinecolor": "white",
           "zerolinewidth": 2
          }
         }
        }
       }
      }
     },
     "metadata": {}
    },
    {
     "output_type": "stream",
     "name": "stdout",
     "text": "(200, 2)\n(200, 1)\n"
    }
   ],
   "source": [
    "N = 100\n",
    "(A, B) = multivariate(N, [-3,0], [3,0], 1, 1)\n",
    "\n",
    "fig = go.Figure()\n",
    "fig.add_trace(go.Scatter(x=A[:,0], y=A[:,1], mode=\"markers\"))\n",
    "fig.add_trace(go.Scatter(x=B[:,0], y=B[:,1], mode=\"markers\"))\n",
    "fig.show()\n",
    "\n",
    "features = np.concatenate([A,B],axis=0)\n",
    "targets = np.concatenate([-np.ones((A.shape[0],1)), np.ones((B.shape[0],1))], axis=0)\n",
    "print(features.shape)\n",
    "print(targets.shape)"
   ]
  },
  {
   "cell_type": "markdown",
   "metadata": {},
   "source": [
    "# Delta rule learning\n"
   ]
  },
  {
   "cell_type": "code",
   "execution_count": 10,
   "metadata": {
    "tags": []
   },
   "outputs": [
    {
     "output_type": "display_data",
     "data": {
      "application/vnd.plotly.v1+json": {
       "config": {
        "plotlyServerURL": "https://plot.ly"
       },
       "data": [
        {
         "hovertemplate": "x=%{x}<br>y=%{y}<extra></extra>",
         "legendgroup": "",
         "line": {
          "color": "#636efa",
          "dash": "solid"
         },
         "mode": "lines",
         "name": "",
         "orientation": "v",
         "showlegend": false,
         "type": "scatter",
         "x": [
          0,
          1,
          2,
          3,
          4,
          5,
          6,
          7,
          8,
          9,
          10,
          11,
          12,
          13,
          14,
          15,
          16,
          17,
          18,
          19,
          20,
          21,
          22,
          23,
          24,
          25,
          26,
          27,
          28,
          29,
          30,
          31,
          32,
          33,
          34,
          35,
          36,
          37,
          38,
          39,
          40,
          41,
          42,
          43,
          44,
          45,
          46,
          47,
          48,
          49
         ],
         "xaxis": "x",
         "y": [
          1.003123209311446,
          0.8150735383610396,
          0.6686567848124126,
          0.5557697933241994,
          0.4698365995259345,
          0.4066427140381452,
          0.362124101986511,
          0.3317235825495237,
          0.31054979119072845,
          0.2969467895127556,
          0.2880549118728868,
          0.28201193245527734,
          0.27830514083977553,
          0.2756254474376455,
          0.2739193151778842,
          0.2726963817105909,
          0.27184419746864985,
          0.2711963733990522,
          0.2707321174376516,
          0.27042393847860646,
          0.2701784690946847,
          0.2700225220765394,
          0.26991663983535175,
          0.26982503674439406,
          0.26974946832783436,
          0.26967344445387265,
          0.26959732741221465,
          0.2695214044715713,
          0.26944590247146705,
          0.26937099959192723,
          0.2692971129010289,
          0.26922541762731256,
          0.269153976714414,
          0.26908298869467634,
          0.26901260921580605,
          0.2689455539306424,
          0.26887999727804496,
          0.26881506180322445,
          0.2687508468523508,
          0.2686880704780923,
          0.2686267149354341,
          0.2685708301323041,
          0.2685158914828127,
          0.2684617982161119,
          0.26840856488944764,
          0.26835620000592075,
          0.2683047072436991,
          0.268254086446561,
          0.2682043344219197,
          0.268155445583562
         ],
         "yaxis": "y"
        }
       ],
       "layout": {
        "legend": {
         "tracegroupgap": 0
        },
        "margin": {
         "t": 60
        },
        "template": {
         "data": {
          "bar": [
           {
            "error_x": {
             "color": "#2a3f5f"
            },
            "error_y": {
             "color": "#2a3f5f"
            },
            "marker": {
             "line": {
              "color": "#E5ECF6",
              "width": 0.5
             }
            },
            "type": "bar"
           }
          ],
          "barpolar": [
           {
            "marker": {
             "line": {
              "color": "#E5ECF6",
              "width": 0.5
             }
            },
            "type": "barpolar"
           }
          ],
          "carpet": [
           {
            "aaxis": {
             "endlinecolor": "#2a3f5f",
             "gridcolor": "white",
             "linecolor": "white",
             "minorgridcolor": "white",
             "startlinecolor": "#2a3f5f"
            },
            "baxis": {
             "endlinecolor": "#2a3f5f",
             "gridcolor": "white",
             "linecolor": "white",
             "minorgridcolor": "white",
             "startlinecolor": "#2a3f5f"
            },
            "type": "carpet"
           }
          ],
          "choropleth": [
           {
            "colorbar": {
             "outlinewidth": 0,
             "ticks": ""
            },
            "type": "choropleth"
           }
          ],
          "contour": [
           {
            "colorbar": {
             "outlinewidth": 0,
             "ticks": ""
            },
            "colorscale": [
             [
              0,
              "#0d0887"
             ],
             [
              0.1111111111111111,
              "#46039f"
             ],
             [
              0.2222222222222222,
              "#7201a8"
             ],
             [
              0.3333333333333333,
              "#9c179e"
             ],
             [
              0.4444444444444444,
              "#bd3786"
             ],
             [
              0.5555555555555556,
              "#d8576b"
             ],
             [
              0.6666666666666666,
              "#ed7953"
             ],
             [
              0.7777777777777778,
              "#fb9f3a"
             ],
             [
              0.8888888888888888,
              "#fdca26"
             ],
             [
              1,
              "#f0f921"
             ]
            ],
            "type": "contour"
           }
          ],
          "contourcarpet": [
           {
            "colorbar": {
             "outlinewidth": 0,
             "ticks": ""
            },
            "type": "contourcarpet"
           }
          ],
          "heatmap": [
           {
            "colorbar": {
             "outlinewidth": 0,
             "ticks": ""
            },
            "colorscale": [
             [
              0,
              "#0d0887"
             ],
             [
              0.1111111111111111,
              "#46039f"
             ],
             [
              0.2222222222222222,
              "#7201a8"
             ],
             [
              0.3333333333333333,
              "#9c179e"
             ],
             [
              0.4444444444444444,
              "#bd3786"
             ],
             [
              0.5555555555555556,
              "#d8576b"
             ],
             [
              0.6666666666666666,
              "#ed7953"
             ],
             [
              0.7777777777777778,
              "#fb9f3a"
             ],
             [
              0.8888888888888888,
              "#fdca26"
             ],
             [
              1,
              "#f0f921"
             ]
            ],
            "type": "heatmap"
           }
          ],
          "heatmapgl": [
           {
            "colorbar": {
             "outlinewidth": 0,
             "ticks": ""
            },
            "colorscale": [
             [
              0,
              "#0d0887"
             ],
             [
              0.1111111111111111,
              "#46039f"
             ],
             [
              0.2222222222222222,
              "#7201a8"
             ],
             [
              0.3333333333333333,
              "#9c179e"
             ],
             [
              0.4444444444444444,
              "#bd3786"
             ],
             [
              0.5555555555555556,
              "#d8576b"
             ],
             [
              0.6666666666666666,
              "#ed7953"
             ],
             [
              0.7777777777777778,
              "#fb9f3a"
             ],
             [
              0.8888888888888888,
              "#fdca26"
             ],
             [
              1,
              "#f0f921"
             ]
            ],
            "type": "heatmapgl"
           }
          ],
          "histogram": [
           {
            "marker": {
             "colorbar": {
              "outlinewidth": 0,
              "ticks": ""
             }
            },
            "type": "histogram"
           }
          ],
          "histogram2d": [
           {
            "colorbar": {
             "outlinewidth": 0,
             "ticks": ""
            },
            "colorscale": [
             [
              0,
              "#0d0887"
             ],
             [
              0.1111111111111111,
              "#46039f"
             ],
             [
              0.2222222222222222,
              "#7201a8"
             ],
             [
              0.3333333333333333,
              "#9c179e"
             ],
             [
              0.4444444444444444,
              "#bd3786"
             ],
             [
              0.5555555555555556,
              "#d8576b"
             ],
             [
              0.6666666666666666,
              "#ed7953"
             ],
             [
              0.7777777777777778,
              "#fb9f3a"
             ],
             [
              0.8888888888888888,
              "#fdca26"
             ],
             [
              1,
              "#f0f921"
             ]
            ],
            "type": "histogram2d"
           }
          ],
          "histogram2dcontour": [
           {
            "colorbar": {
             "outlinewidth": 0,
             "ticks": ""
            },
            "colorscale": [
             [
              0,
              "#0d0887"
             ],
             [
              0.1111111111111111,
              "#46039f"
             ],
             [
              0.2222222222222222,
              "#7201a8"
             ],
             [
              0.3333333333333333,
              "#9c179e"
             ],
             [
              0.4444444444444444,
              "#bd3786"
             ],
             [
              0.5555555555555556,
              "#d8576b"
             ],
             [
              0.6666666666666666,
              "#ed7953"
             ],
             [
              0.7777777777777778,
              "#fb9f3a"
             ],
             [
              0.8888888888888888,
              "#fdca26"
             ],
             [
              1,
              "#f0f921"
             ]
            ],
            "type": "histogram2dcontour"
           }
          ],
          "mesh3d": [
           {
            "colorbar": {
             "outlinewidth": 0,
             "ticks": ""
            },
            "type": "mesh3d"
           }
          ],
          "parcoords": [
           {
            "line": {
             "colorbar": {
              "outlinewidth": 0,
              "ticks": ""
             }
            },
            "type": "parcoords"
           }
          ],
          "pie": [
           {
            "automargin": true,
            "type": "pie"
           }
          ],
          "scatter": [
           {
            "marker": {
             "colorbar": {
              "outlinewidth": 0,
              "ticks": ""
             }
            },
            "type": "scatter"
           }
          ],
          "scatter3d": [
           {
            "line": {
             "colorbar": {
              "outlinewidth": 0,
              "ticks": ""
             }
            },
            "marker": {
             "colorbar": {
              "outlinewidth": 0,
              "ticks": ""
             }
            },
            "type": "scatter3d"
           }
          ],
          "scattercarpet": [
           {
            "marker": {
             "colorbar": {
              "outlinewidth": 0,
              "ticks": ""
             }
            },
            "type": "scattercarpet"
           }
          ],
          "scattergeo": [
           {
            "marker": {
             "colorbar": {
              "outlinewidth": 0,
              "ticks": ""
             }
            },
            "type": "scattergeo"
           }
          ],
          "scattergl": [
           {
            "marker": {
             "colorbar": {
              "outlinewidth": 0,
              "ticks": ""
             }
            },
            "type": "scattergl"
           }
          ],
          "scattermapbox": [
           {
            "marker": {
             "colorbar": {
              "outlinewidth": 0,
              "ticks": ""
             }
            },
            "type": "scattermapbox"
           }
          ],
          "scatterpolar": [
           {
            "marker": {
             "colorbar": {
              "outlinewidth": 0,
              "ticks": ""
             }
            },
            "type": "scatterpolar"
           }
          ],
          "scatterpolargl": [
           {
            "marker": {
             "colorbar": {
              "outlinewidth": 0,
              "ticks": ""
             }
            },
            "type": "scatterpolargl"
           }
          ],
          "scatterternary": [
           {
            "marker": {
             "colorbar": {
              "outlinewidth": 0,
              "ticks": ""
             }
            },
            "type": "scatterternary"
           }
          ],
          "surface": [
           {
            "colorbar": {
             "outlinewidth": 0,
             "ticks": ""
            },
            "colorscale": [
             [
              0,
              "#0d0887"
             ],
             [
              0.1111111111111111,
              "#46039f"
             ],
             [
              0.2222222222222222,
              "#7201a8"
             ],
             [
              0.3333333333333333,
              "#9c179e"
             ],
             [
              0.4444444444444444,
              "#bd3786"
             ],
             [
              0.5555555555555556,
              "#d8576b"
             ],
             [
              0.6666666666666666,
              "#ed7953"
             ],
             [
              0.7777777777777778,
              "#fb9f3a"
             ],
             [
              0.8888888888888888,
              "#fdca26"
             ],
             [
              1,
              "#f0f921"
             ]
            ],
            "type": "surface"
           }
          ],
          "table": [
           {
            "cells": {
             "fill": {
              "color": "#EBF0F8"
             },
             "line": {
              "color": "white"
             }
            },
            "header": {
             "fill": {
              "color": "#C8D4E3"
             },
             "line": {
              "color": "white"
             }
            },
            "type": "table"
           }
          ]
         },
         "layout": {
          "annotationdefaults": {
           "arrowcolor": "#2a3f5f",
           "arrowhead": 0,
           "arrowwidth": 1
          },
          "coloraxis": {
           "colorbar": {
            "outlinewidth": 0,
            "ticks": ""
           }
          },
          "colorscale": {
           "diverging": [
            [
             0,
             "#8e0152"
            ],
            [
             0.1,
             "#c51b7d"
            ],
            [
             0.2,
             "#de77ae"
            ],
            [
             0.3,
             "#f1b6da"
            ],
            [
             0.4,
             "#fde0ef"
            ],
            [
             0.5,
             "#f7f7f7"
            ],
            [
             0.6,
             "#e6f5d0"
            ],
            [
             0.7,
             "#b8e186"
            ],
            [
             0.8,
             "#7fbc41"
            ],
            [
             0.9,
             "#4d9221"
            ],
            [
             1,
             "#276419"
            ]
           ],
           "sequential": [
            [
             0,
             "#0d0887"
            ],
            [
             0.1111111111111111,
             "#46039f"
            ],
            [
             0.2222222222222222,
             "#7201a8"
            ],
            [
             0.3333333333333333,
             "#9c179e"
            ],
            [
             0.4444444444444444,
             "#bd3786"
            ],
            [
             0.5555555555555556,
             "#d8576b"
            ],
            [
             0.6666666666666666,
             "#ed7953"
            ],
            [
             0.7777777777777778,
             "#fb9f3a"
            ],
            [
             0.8888888888888888,
             "#fdca26"
            ],
            [
             1,
             "#f0f921"
            ]
           ],
           "sequentialminus": [
            [
             0,
             "#0d0887"
            ],
            [
             0.1111111111111111,
             "#46039f"
            ],
            [
             0.2222222222222222,
             "#7201a8"
            ],
            [
             0.3333333333333333,
             "#9c179e"
            ],
            [
             0.4444444444444444,
             "#bd3786"
            ],
            [
             0.5555555555555556,
             "#d8576b"
            ],
            [
             0.6666666666666666,
             "#ed7953"
            ],
            [
             0.7777777777777778,
             "#fb9f3a"
            ],
            [
             0.8888888888888888,
             "#fdca26"
            ],
            [
             1,
             "#f0f921"
            ]
           ]
          },
          "colorway": [
           "#636efa",
           "#EF553B",
           "#00cc96",
           "#ab63fa",
           "#FFA15A",
           "#19d3f3",
           "#FF6692",
           "#B6E880",
           "#FF97FF",
           "#FECB52"
          ],
          "font": {
           "color": "#2a3f5f"
          },
          "geo": {
           "bgcolor": "white",
           "lakecolor": "white",
           "landcolor": "#E5ECF6",
           "showlakes": true,
           "showland": true,
           "subunitcolor": "white"
          },
          "hoverlabel": {
           "align": "left"
          },
          "hovermode": "closest",
          "mapbox": {
           "style": "light"
          },
          "paper_bgcolor": "white",
          "plot_bgcolor": "#E5ECF6",
          "polar": {
           "angularaxis": {
            "gridcolor": "white",
            "linecolor": "white",
            "ticks": ""
           },
           "bgcolor": "#E5ECF6",
           "radialaxis": {
            "gridcolor": "white",
            "linecolor": "white",
            "ticks": ""
           }
          },
          "scene": {
           "xaxis": {
            "backgroundcolor": "#E5ECF6",
            "gridcolor": "white",
            "gridwidth": 2,
            "linecolor": "white",
            "showbackground": true,
            "ticks": "",
            "zerolinecolor": "white"
           },
           "yaxis": {
            "backgroundcolor": "#E5ECF6",
            "gridcolor": "white",
            "gridwidth": 2,
            "linecolor": "white",
            "showbackground": true,
            "ticks": "",
            "zerolinecolor": "white"
           },
           "zaxis": {
            "backgroundcolor": "#E5ECF6",
            "gridcolor": "white",
            "gridwidth": 2,
            "linecolor": "white",
            "showbackground": true,
            "ticks": "",
            "zerolinecolor": "white"
           }
          },
          "shapedefaults": {
           "line": {
            "color": "#2a3f5f"
           }
          },
          "ternary": {
           "aaxis": {
            "gridcolor": "white",
            "linecolor": "white",
            "ticks": ""
           },
           "baxis": {
            "gridcolor": "white",
            "linecolor": "white",
            "ticks": ""
           },
           "bgcolor": "#E5ECF6",
           "caxis": {
            "gridcolor": "white",
            "linecolor": "white",
            "ticks": ""
           }
          },
          "title": {
           "x": 0.05
          },
          "xaxis": {
           "automargin": true,
           "gridcolor": "white",
           "linecolor": "white",
           "ticks": "",
           "title": {
            "standoff": 15
           },
           "zerolinecolor": "white",
           "zerolinewidth": 2
          },
          "yaxis": {
           "automargin": true,
           "gridcolor": "white",
           "linecolor": "white",
           "ticks": "",
           "title": {
            "standoff": 15
           },
           "zerolinecolor": "white",
           "zerolinewidth": 2
          }
         }
        },
        "xaxis": {
         "anchor": "y",
         "domain": [
          0,
          1
         ],
         "title": {
          "text": "x"
         }
        },
        "yaxis": {
         "anchor": "x",
         "domain": [
          0,
          1
         ],
         "title": {
          "text": "y"
         }
        }
       }
      }
     },
     "metadata": {}
    },
    {
     "output_type": "display_data",
     "data": {
      "application/vnd.plotly.v1+json": {
       "config": {
        "plotlyServerURL": "https://plot.ly"
       },
       "data": [
        {
         "mode": "markers",
         "type": "scatter",
         "x": [
          -4.76884570557595,
          -4.130629702805342,
          -3.8931156263199003,
          -3.0611544319533484,
          -2.589887050200553,
          -3.8013336248612375,
          -1.7253011258058442,
          -2.6862805934206238,
          -3.3689613005828587,
          -2.607383896130822,
          -0.9100211595712255,
          -3.0483407219138856,
          -3.0845892805121764,
          -4.412930734157163,
          -2.6177751394434945,
          -1.2273219551883312,
          -2.668280877635718,
          -1.7597338501493562,
          -2.8440705194081124,
          -2.1679041544792303,
          -3.3168139226122113,
          -4.754457459361013,
          -4.361502081028213,
          -3.2083287409233114,
          -2.297311839241213,
          -2.3787636164177166,
          -0.9621864784028427,
          -2.792845101135608,
          -3.4882074021895924,
          -2.53108443971688,
          -3.646649716508854,
          -3.1600898520151066,
          -1.966167041449059,
          -4.246736649886034,
          -0.8590375984974763,
          -3.060002379526972,
          -4.531269656971877,
          -3.146014129005614,
          -3.139520658243753,
          -3.113387463262779,
          -3.7961413076110455,
          -2.3410939259324675,
          -2.8265564399593885,
          -1.96548263759598,
          -1.2800174815110237,
          -2.6774310551075042,
          -4.819600295467991,
          -2.8754511679615042,
          -3.965575856861882,
          -2.033316224399538,
          -2.448551971376891,
          -3.245303730600139,
          -2.4580803205130497,
          -3.2754263784374653,
          -5.49328624512191,
          -1.3399765121229341,
          -3.5009982373197777,
          -2.4211439606032856,
          -4.018342679960206,
          -2.343499204808839,
          -2.8405617154947067,
          -3.420518246595956,
          -2.8708032151721463,
          -1.7613175326628763,
          -4.113084080673107,
          -2.7294568438767395,
          -0.4790324701935931,
          -3.260059000754236,
          -3.9021348818425685,
          -3.383852176673224,
          -4.103037798726698,
          -4.232590352036447,
          -3.259299735896493,
          -3.3916975255788127,
          -3.7634333587848925,
          -2.4380317035294494,
          -4.432714709000358,
          -2.0672579416874677,
          -2.512137294486596,
          -3.4406428942525693,
          -3.715594300279694,
          -3.688004207740813,
          -0.8009280355052306,
          -2.7492416144297995,
          -2.818729287619846,
          -4.857789945422484,
          -3.155481181901916,
          -3.250482909538545,
          -0.5325534992849899,
          -3.4191359310645715,
          -4.826016094069929,
          -4.085569075334774,
          -2.68211811602161,
          -3.1929445910355208,
          -2.4712794294987583,
          -2.4436502459411336,
          -0.9041861360169783,
          -3.4662781097483304,
          -4.041709833974537,
          -4.140528695644311
         ],
         "y": [
          0.07555227120810952,
          -0.6514301669047348,
          -1.2741009767999079,
          0.06451384411861422,
          -0.572882490081088,
          1.3120351922129225,
          -1.2143576048675497,
          -1.4448214158760575,
          -0.7692265766402782,
          0.05729383491769795,
          0.04197130874313722,
          -0.5131539215889244,
          -1.2154500811056095,
          -1.4869105500437665,
          0.937673002293889,
          0.8788280104918113,
          -0.3060356654958885,
          -0.21562684367029447,
          0.0980555277712655,
          2.045205418015863,
          -1.3128329117852449,
          0.10209408233512726,
          0.48178487730093505,
          -0.09186350551815603,
          0.10365505872088553,
          0.9541149695182084,
          -0.4844512154843961,
          1.6442421566750873,
          -0.017828264652960304,
          0.27987266232880875,
          -0.5440600189936792,
          0.037811717144137155,
          -1.2309611709554868,
          0.2957205504134418,
          -0.9202022677002495,
          0.2797839136139441,
          -0.30293100794470446,
          0.277461594950063,
          0.6951596590307412,
          -1.2332670041255587,
          -0.4673913800460258,
          -0.4106311492763196,
          0.28946174322166685,
          1.2266171239072605,
          0.4080683433582826,
          1.047227484052662,
          -0.4258215716601716,
          2.3125663352168884,
          -0.34627486479945074,
          -0.9255019192696887,
          -1.1510118219064798,
          -0.1691688501362951,
          -0.21796285466857956,
          0.12781997294019887,
          -0.11911365835319425,
          0.4412660756357818,
          0.08545318558484957,
          -1.0613350018832135,
          1.1593237285691083,
          -0.4910609354391374,
          -0.2587660071562613,
          1.7500889178933399,
          -0.33769453147857004,
          0.22110608456209052,
          -0.606371553958277,
          0.006484989564555053,
          -0.024353386995095615,
          -0.9477162275750468,
          2.3035690492825704,
          -0.2565263674555911,
          0.3363540800928614,
          0.9979680805619786,
          -0.5725859606424538,
          -1.5043562516600681,
          -0.5328172378400762,
          -0.18503557927135758,
          0.45665952194767995,
          1.0167957254812046,
          -0.7973297990659896,
          2.1127211544915396,
          1.7002807032387355,
          -0.8623866096131584,
          -0.7225611747696392,
          0.30001165431592836,
          1.0715629986858386,
          0.45358816272476465,
          -1.5288009870537673,
          0.22842104068484054,
          0.6341238156355335,
          1.0148832605221738,
          -0.36064248650079506,
          0.035365484720678055,
          -1.3324305175017501,
          -0.43933790794464034,
          0.3048919736638376,
          1.0183850378918438,
          1.0397174211949989,
          0.26572919481413393,
          -2.057544603670995,
          0.4961320010862672
         ]
        },
        {
         "mode": "markers",
         "type": "scatter",
         "x": [
          2.5147518657059327,
          3.4829006480370306,
          3.417369763793958,
          2.3809361132280653,
          2.4950155418734554,
          1.9824263120989913,
          2.971872366767794,
          3.2855165224144653,
          3.067893225127617,
          2.0638496457209774,
          1.7971553588449174,
          0.6158360336615663,
          0.7145112555856339,
          2.6506590425360406,
          3.923099874695669,
          2.280812168356199,
          0.4886785633942705,
          2.1321874368211575,
          2.284177623762921,
          2.915578531644627,
          2.008568421089461,
          1.740302869133218,
          4.184677996681135,
          4.04960714676811,
          2.696712026634695,
          2.6551782766092873,
          1.4738715415619832,
          3.0307120413866695,
          3.2426866116128745,
          1.3114970856609294,
          2.7598018357237066,
          3.457185623967151,
          4.260506528870855,
          2.2110190689166522,
          2.6225904447355135,
          3.314697321574549,
          2.384914257341329,
          2.1302228921930073,
          3.033183712944068,
          2.572101868712633,
          5.500082700788916,
          1.9991208178576463,
          3.043093507967549,
          2.005288751116619,
          4.524000389971331,
          4.0724663268407,
          5.074420965163699,
          3.2463710040748435,
          1.5124530967803695,
          4.779614380254481,
          3.1534697453606944,
          4.402286478005295,
          1.7300485718828222,
          2.654280042878078,
          3.9228623486495344,
          2.3580883175435696,
          1.6276159186285462,
          2.7536554316089004,
          3.89954282265408,
          2.630633042085194,
          2.447247288113215,
          3.0575096861580664,
          2.8104636544298223,
          2.423582422547468,
          2.8171474368597913,
          2.5234980160254485,
          4.26340947512353,
          3.940444847529242,
          1.3514789447039726,
          1.3026338456559534,
          4.402215690798653,
          1.869834844575056,
          2.5350718686373592,
          3.43128674713051,
          4.150384347950277,
          1.6716222805197236,
          2.2225740812790526,
          5.648024166027321,
          3.70919231161768,
          2.6118833360969846,
          4.008348955696519,
          3.942934990562911,
          2.0684225357855004,
          2.2991776662187933,
          1.9288943724564271,
          2.6579169905003717,
          2.190010957666593,
          4.275747162357259,
          1.6246066120263978,
          3.43438054828351,
          4.339947653094011,
          2.440084688078808,
          2.7301116746217944,
          4.140695110566231,
          3.1604889734815633,
          3.1251303806495656,
          3.3397618128195763,
          1.7818592638070698,
          2.7250919620364136,
          2.0774065148682777
         ],
         "y": [
          0.27222135539778824,
          0.5850512821586256,
          -0.31801094439057387,
          0.2970334197888018,
          0.2818546293996347,
          -2.304107127312821,
          0.8330673376744835,
          -1.0591940217368774,
          -0.32109166729170224,
          1.0472617745290238,
          -1.5705839093591256,
          0.23843217772480807,
          0.7412158499843307,
          -1.367989893330135,
          -0.376400287816961,
          0.1520512724119427,
          0.5224110859002908,
          1.0589201891378301,
          -0.8211022757563229,
          -0.3751266523281013,
          0.2738710800158772,
          -0.38907366369730395,
          -0.07459525345467442,
          1.3580273233172626,
          -0.6797592113395436,
          1.320342510736139,
          1.9286077327731213,
          -1.61745347181909,
          0.40446595951049236,
          -1.5809547120096148,
          -2.7030220841457626,
          -0.615155704098689,
          -0.3769567994174514,
          -0.7136354436802806,
          0.22384490381939506,
          0.2706447575162348,
          0.5743837656776579,
          1.259090512105618,
          0.11861784414169468,
          0.37999047748631876,
          1.5097914149656568,
          0.07359665587340009,
          -0.8420216121997183,
          -1.6496144964485553,
          0.1082492611971675,
          0.47185274395724774,
          -1.1544549395739863,
          -0.12223891355984928,
          1.5895126662896277,
          -0.7244504113417636,
          0.7242255270694324,
          -1.5355582869169881,
          -1.599859376327718,
          -0.9895083448445563,
          1.7748581496015348,
          -0.4160653406955119,
          1.5723928097536348,
          -0.20659117535724228,
          0.31743304727076416,
          0.44512672460388414,
          0.46628839944299033,
          0.7298647184059996,
          0.3501485642776822,
          -0.17468382997245832,
          0.37901467692924434,
          -1.7510168717545496,
          -2.8703412308022354,
          0.01905991367905417,
          -0.377961361191499,
          -0.8623209832223425,
          -0.5423355061038043,
          0.7219660311195736,
          0.9832962875130818,
          -0.9745524249958627,
          0.01706441083359193,
          1.1472976089440845,
          1.0515738679968167,
          0.2759595883594575,
          0.35016044800517493,
          0.3758302968533096,
          -1.1536733148571057,
          -1.2693488928510774,
          0.8022372006641393,
          -0.14930598675545673,
          0.9958214307393709,
          0.7157211787418037,
          1.6909640849273497,
          -0.21142843858397484,
          -0.8502035027471162,
          -0.5246705393054818,
          0.21338503844220066,
          0.9712159079278438,
          0.5807690374968547,
          -0.7625522572927391,
          -1.9476222528942229,
          -0.6338724029111966,
          -0.24346247227183046,
          0.1480744692155761,
          1.8432076069132692,
          0.5259331612805738
         ]
        },
        {
         "mode": "markers",
         "type": "scatter",
         "x": [
          -5,
          -4.898989898989899,
          -4.797979797979798,
          -4.696969696969697,
          -4.595959595959596,
          -4.494949494949495,
          -4.393939393939394,
          -4.292929292929293,
          -4.191919191919192,
          -4.090909090909091,
          -3.9898989898989896,
          -3.888888888888889,
          -3.787878787878788,
          -3.686868686868687,
          -3.5858585858585856,
          -3.484848484848485,
          -3.383838383838384,
          -3.282828282828283,
          -3.1818181818181817,
          -3.080808080808081,
          -2.9797979797979797,
          -2.878787878787879,
          -2.7777777777777777,
          -2.676767676767677,
          -2.5757575757575757,
          -2.474747474747475,
          -2.3737373737373737,
          -2.272727272727273,
          -2.1717171717171717,
          -2.070707070707071,
          -1.9696969696969697,
          -1.868686868686869,
          -1.7676767676767677,
          -1.6666666666666665,
          -1.5656565656565657,
          -1.4646464646464645,
          -1.3636363636363638,
          -1.2626262626262625,
          -1.1616161616161618,
          -1.0606060606060606,
          -0.9595959595959593,
          -0.858585858585859,
          -0.7575757575757578,
          -0.6565656565656566,
          -0.5555555555555554,
          -0.45454545454545503,
          -0.3535353535353538,
          -0.2525252525252526,
          -0.15151515151515138,
          -0.050505050505050164,
          0.050505050505050164,
          0.15151515151515138,
          0.2525252525252526,
          0.3535353535353538,
          0.45454545454545414,
          0.5555555555555554,
          0.6565656565656566,
          0.7575757575757578,
          0.8585858585858581,
          0.9595959595959593,
          1.0606060606060606,
          1.1616161616161618,
          1.262626262626262,
          1.3636363636363633,
          1.4646464646464645,
          1.5656565656565657,
          1.666666666666667,
          1.7676767676767673,
          1.8686868686868685,
          1.9696969696969697,
          2.070707070707071,
          2.1717171717171713,
          2.2727272727272725,
          2.3737373737373737,
          2.474747474747475,
          2.5757575757575752,
          2.6767676767676765,
          2.7777777777777777,
          2.878787878787879,
          2.9797979797979792,
          3.0808080808080813,
          3.1818181818181817,
          3.282828282828282,
          3.383838383838384,
          3.4848484848484844,
          3.5858585858585865,
          3.686868686868687,
          3.787878787878787,
          3.8888888888888893,
          3.9898989898989896,
          4.09090909090909,
          4.191919191919192,
          4.292929292929292,
          4.3939393939393945,
          4.494949494949495,
          4.595959595959595,
          4.696969696969697,
          4.797979797979798,
          4.8989898989899,
          5
         ],
         "y": [
          -26.268820081429162,
          -25.738136847460897,
          -25.20745361349263,
          -24.676770379524367,
          -24.1460871455561,
          -23.61540391158783,
          -23.084720677619565,
          -22.554037443651303,
          -22.02335420968304,
          -21.49267097571477,
          -20.9619877417465,
          -20.431304507778236,
          -19.90062127380997,
          -19.369938039841706,
          -18.839254805873438,
          -18.308571571905173,
          -17.77788833793691,
          -17.247205103968643,
          -16.716521870000374,
          -16.18583863603211,
          -15.655155402063844,
          -15.12447216809558,
          -14.593788934127312,
          -14.06310570015905,
          -13.53242246619078,
          -13.001739232222516,
          -12.471055998254249,
          -11.940372764285984,
          -11.409689530317719,
          -10.879006296349454,
          -10.348323062381185,
          -9.81763982841292,
          -9.286956594444653,
          -8.756273360476388,
          -8.225590126508122,
          -7.694906892539855,
          -7.16422365857159,
          -6.633540424603324,
          -6.102857190635059,
          -5.572173956666792,
          -5.041490722698525,
          -4.510807488730263,
          -3.9801242547619955,
          -3.4494410207937287,
          -2.9187577868254615,
          -2.388074552857199,
          -1.8573913188889322,
          -1.3267080849206652,
          -0.7960248509523983,
          -0.26534161698413117,
          0.26534161698413117,
          0.7960248509523983,
          1.3267080849206652,
          1.8573913188889322,
          2.3880745528571947,
          2.9187577868254615,
          3.4494410207937287,
          3.9801242547619955,
          4.510807488730258,
          5.041490722698525,
          5.572173956666792,
          6.102857190635059,
          6.633540424603321,
          7.164223658571588,
          7.694906892539855,
          8.225590126508122,
          8.75627336047639,
          9.286956594444652,
          9.817639828412918,
          10.348323062381185,
          10.879006296349454,
          11.409689530317713,
          11.940372764285982,
          12.471055998254249,
          13.001739232222516,
          13.532422466190779,
          14.063105700159044,
          14.593788934127312,
          15.12447216809558,
          15.655155402063842,
          16.185838636032113,
          16.716521870000374,
          17.24720510396864,
          17.77788833793691,
          18.30857157190517,
          18.83925480587344,
          19.369938039841706,
          19.900621273809968,
          20.43130450777824,
          20.9619877417465,
          21.492670975714766,
          22.02335420968304,
          22.5540374436513,
          23.084720677619572,
          23.61540391158783,
          24.146087145556095,
          24.676770379524367,
          25.20745361349263,
          25.7381368474609,
          26.268820081429162
         ]
        }
       ],
       "layout": {
        "template": {
         "data": {
          "bar": [
           {
            "error_x": {
             "color": "#2a3f5f"
            },
            "error_y": {
             "color": "#2a3f5f"
            },
            "marker": {
             "line": {
              "color": "#E5ECF6",
              "width": 0.5
             }
            },
            "type": "bar"
           }
          ],
          "barpolar": [
           {
            "marker": {
             "line": {
              "color": "#E5ECF6",
              "width": 0.5
             }
            },
            "type": "barpolar"
           }
          ],
          "carpet": [
           {
            "aaxis": {
             "endlinecolor": "#2a3f5f",
             "gridcolor": "white",
             "linecolor": "white",
             "minorgridcolor": "white",
             "startlinecolor": "#2a3f5f"
            },
            "baxis": {
             "endlinecolor": "#2a3f5f",
             "gridcolor": "white",
             "linecolor": "white",
             "minorgridcolor": "white",
             "startlinecolor": "#2a3f5f"
            },
            "type": "carpet"
           }
          ],
          "choropleth": [
           {
            "colorbar": {
             "outlinewidth": 0,
             "ticks": ""
            },
            "type": "choropleth"
           }
          ],
          "contour": [
           {
            "colorbar": {
             "outlinewidth": 0,
             "ticks": ""
            },
            "colorscale": [
             [
              0,
              "#0d0887"
             ],
             [
              0.1111111111111111,
              "#46039f"
             ],
             [
              0.2222222222222222,
              "#7201a8"
             ],
             [
              0.3333333333333333,
              "#9c179e"
             ],
             [
              0.4444444444444444,
              "#bd3786"
             ],
             [
              0.5555555555555556,
              "#d8576b"
             ],
             [
              0.6666666666666666,
              "#ed7953"
             ],
             [
              0.7777777777777778,
              "#fb9f3a"
             ],
             [
              0.8888888888888888,
              "#fdca26"
             ],
             [
              1,
              "#f0f921"
             ]
            ],
            "type": "contour"
           }
          ],
          "contourcarpet": [
           {
            "colorbar": {
             "outlinewidth": 0,
             "ticks": ""
            },
            "type": "contourcarpet"
           }
          ],
          "heatmap": [
           {
            "colorbar": {
             "outlinewidth": 0,
             "ticks": ""
            },
            "colorscale": [
             [
              0,
              "#0d0887"
             ],
             [
              0.1111111111111111,
              "#46039f"
             ],
             [
              0.2222222222222222,
              "#7201a8"
             ],
             [
              0.3333333333333333,
              "#9c179e"
             ],
             [
              0.4444444444444444,
              "#bd3786"
             ],
             [
              0.5555555555555556,
              "#d8576b"
             ],
             [
              0.6666666666666666,
              "#ed7953"
             ],
             [
              0.7777777777777778,
              "#fb9f3a"
             ],
             [
              0.8888888888888888,
              "#fdca26"
             ],
             [
              1,
              "#f0f921"
             ]
            ],
            "type": "heatmap"
           }
          ],
          "heatmapgl": [
           {
            "colorbar": {
             "outlinewidth": 0,
             "ticks": ""
            },
            "colorscale": [
             [
              0,
              "#0d0887"
             ],
             [
              0.1111111111111111,
              "#46039f"
             ],
             [
              0.2222222222222222,
              "#7201a8"
             ],
             [
              0.3333333333333333,
              "#9c179e"
             ],
             [
              0.4444444444444444,
              "#bd3786"
             ],
             [
              0.5555555555555556,
              "#d8576b"
             ],
             [
              0.6666666666666666,
              "#ed7953"
             ],
             [
              0.7777777777777778,
              "#fb9f3a"
             ],
             [
              0.8888888888888888,
              "#fdca26"
             ],
             [
              1,
              "#f0f921"
             ]
            ],
            "type": "heatmapgl"
           }
          ],
          "histogram": [
           {
            "marker": {
             "colorbar": {
              "outlinewidth": 0,
              "ticks": ""
             }
            },
            "type": "histogram"
           }
          ],
          "histogram2d": [
           {
            "colorbar": {
             "outlinewidth": 0,
             "ticks": ""
            },
            "colorscale": [
             [
              0,
              "#0d0887"
             ],
             [
              0.1111111111111111,
              "#46039f"
             ],
             [
              0.2222222222222222,
              "#7201a8"
             ],
             [
              0.3333333333333333,
              "#9c179e"
             ],
             [
              0.4444444444444444,
              "#bd3786"
             ],
             [
              0.5555555555555556,
              "#d8576b"
             ],
             [
              0.6666666666666666,
              "#ed7953"
             ],
             [
              0.7777777777777778,
              "#fb9f3a"
             ],
             [
              0.8888888888888888,
              "#fdca26"
             ],
             [
              1,
              "#f0f921"
             ]
            ],
            "type": "histogram2d"
           }
          ],
          "histogram2dcontour": [
           {
            "colorbar": {
             "outlinewidth": 0,
             "ticks": ""
            },
            "colorscale": [
             [
              0,
              "#0d0887"
             ],
             [
              0.1111111111111111,
              "#46039f"
             ],
             [
              0.2222222222222222,
              "#7201a8"
             ],
             [
              0.3333333333333333,
              "#9c179e"
             ],
             [
              0.4444444444444444,
              "#bd3786"
             ],
             [
              0.5555555555555556,
              "#d8576b"
             ],
             [
              0.6666666666666666,
              "#ed7953"
             ],
             [
              0.7777777777777778,
              "#fb9f3a"
             ],
             [
              0.8888888888888888,
              "#fdca26"
             ],
             [
              1,
              "#f0f921"
             ]
            ],
            "type": "histogram2dcontour"
           }
          ],
          "mesh3d": [
           {
            "colorbar": {
             "outlinewidth": 0,
             "ticks": ""
            },
            "type": "mesh3d"
           }
          ],
          "parcoords": [
           {
            "line": {
             "colorbar": {
              "outlinewidth": 0,
              "ticks": ""
             }
            },
            "type": "parcoords"
           }
          ],
          "pie": [
           {
            "automargin": true,
            "type": "pie"
           }
          ],
          "scatter": [
           {
            "marker": {
             "colorbar": {
              "outlinewidth": 0,
              "ticks": ""
             }
            },
            "type": "scatter"
           }
          ],
          "scatter3d": [
           {
            "line": {
             "colorbar": {
              "outlinewidth": 0,
              "ticks": ""
             }
            },
            "marker": {
             "colorbar": {
              "outlinewidth": 0,
              "ticks": ""
             }
            },
            "type": "scatter3d"
           }
          ],
          "scattercarpet": [
           {
            "marker": {
             "colorbar": {
              "outlinewidth": 0,
              "ticks": ""
             }
            },
            "type": "scattercarpet"
           }
          ],
          "scattergeo": [
           {
            "marker": {
             "colorbar": {
              "outlinewidth": 0,
              "ticks": ""
             }
            },
            "type": "scattergeo"
           }
          ],
          "scattergl": [
           {
            "marker": {
             "colorbar": {
              "outlinewidth": 0,
              "ticks": ""
             }
            },
            "type": "scattergl"
           }
          ],
          "scattermapbox": [
           {
            "marker": {
             "colorbar": {
              "outlinewidth": 0,
              "ticks": ""
             }
            },
            "type": "scattermapbox"
           }
          ],
          "scatterpolar": [
           {
            "marker": {
             "colorbar": {
              "outlinewidth": 0,
              "ticks": ""
             }
            },
            "type": "scatterpolar"
           }
          ],
          "scatterpolargl": [
           {
            "marker": {
             "colorbar": {
              "outlinewidth": 0,
              "ticks": ""
             }
            },
            "type": "scatterpolargl"
           }
          ],
          "scatterternary": [
           {
            "marker": {
             "colorbar": {
              "outlinewidth": 0,
              "ticks": ""
             }
            },
            "type": "scatterternary"
           }
          ],
          "surface": [
           {
            "colorbar": {
             "outlinewidth": 0,
             "ticks": ""
            },
            "colorscale": [
             [
              0,
              "#0d0887"
             ],
             [
              0.1111111111111111,
              "#46039f"
             ],
             [
              0.2222222222222222,
              "#7201a8"
             ],
             [
              0.3333333333333333,
              "#9c179e"
             ],
             [
              0.4444444444444444,
              "#bd3786"
             ],
             [
              0.5555555555555556,
              "#d8576b"
             ],
             [
              0.6666666666666666,
              "#ed7953"
             ],
             [
              0.7777777777777778,
              "#fb9f3a"
             ],
             [
              0.8888888888888888,
              "#fdca26"
             ],
             [
              1,
              "#f0f921"
             ]
            ],
            "type": "surface"
           }
          ],
          "table": [
           {
            "cells": {
             "fill": {
              "color": "#EBF0F8"
             },
             "line": {
              "color": "white"
             }
            },
            "header": {
             "fill": {
              "color": "#C8D4E3"
             },
             "line": {
              "color": "white"
             }
            },
            "type": "table"
           }
          ]
         },
         "layout": {
          "annotationdefaults": {
           "arrowcolor": "#2a3f5f",
           "arrowhead": 0,
           "arrowwidth": 1
          },
          "coloraxis": {
           "colorbar": {
            "outlinewidth": 0,
            "ticks": ""
           }
          },
          "colorscale": {
           "diverging": [
            [
             0,
             "#8e0152"
            ],
            [
             0.1,
             "#c51b7d"
            ],
            [
             0.2,
             "#de77ae"
            ],
            [
             0.3,
             "#f1b6da"
            ],
            [
             0.4,
             "#fde0ef"
            ],
            [
             0.5,
             "#f7f7f7"
            ],
            [
             0.6,
             "#e6f5d0"
            ],
            [
             0.7,
             "#b8e186"
            ],
            [
             0.8,
             "#7fbc41"
            ],
            [
             0.9,
             "#4d9221"
            ],
            [
             1,
             "#276419"
            ]
           ],
           "sequential": [
            [
             0,
             "#0d0887"
            ],
            [
             0.1111111111111111,
             "#46039f"
            ],
            [
             0.2222222222222222,
             "#7201a8"
            ],
            [
             0.3333333333333333,
             "#9c179e"
            ],
            [
             0.4444444444444444,
             "#bd3786"
            ],
            [
             0.5555555555555556,
             "#d8576b"
            ],
            [
             0.6666666666666666,
             "#ed7953"
            ],
            [
             0.7777777777777778,
             "#fb9f3a"
            ],
            [
             0.8888888888888888,
             "#fdca26"
            ],
            [
             1,
             "#f0f921"
            ]
           ],
           "sequentialminus": [
            [
             0,
             "#0d0887"
            ],
            [
             0.1111111111111111,
             "#46039f"
            ],
            [
             0.2222222222222222,
             "#7201a8"
            ],
            [
             0.3333333333333333,
             "#9c179e"
            ],
            [
             0.4444444444444444,
             "#bd3786"
            ],
            [
             0.5555555555555556,
             "#d8576b"
            ],
            [
             0.6666666666666666,
             "#ed7953"
            ],
            [
             0.7777777777777778,
             "#fb9f3a"
            ],
            [
             0.8888888888888888,
             "#fdca26"
            ],
            [
             1,
             "#f0f921"
            ]
           ]
          },
          "colorway": [
           "#636efa",
           "#EF553B",
           "#00cc96",
           "#ab63fa",
           "#FFA15A",
           "#19d3f3",
           "#FF6692",
           "#B6E880",
           "#FF97FF",
           "#FECB52"
          ],
          "font": {
           "color": "#2a3f5f"
          },
          "geo": {
           "bgcolor": "white",
           "lakecolor": "white",
           "landcolor": "#E5ECF6",
           "showlakes": true,
           "showland": true,
           "subunitcolor": "white"
          },
          "hoverlabel": {
           "align": "left"
          },
          "hovermode": "closest",
          "mapbox": {
           "style": "light"
          },
          "paper_bgcolor": "white",
          "plot_bgcolor": "#E5ECF6",
          "polar": {
           "angularaxis": {
            "gridcolor": "white",
            "linecolor": "white",
            "ticks": ""
           },
           "bgcolor": "#E5ECF6",
           "radialaxis": {
            "gridcolor": "white",
            "linecolor": "white",
            "ticks": ""
           }
          },
          "scene": {
           "xaxis": {
            "backgroundcolor": "#E5ECF6",
            "gridcolor": "white",
            "gridwidth": 2,
            "linecolor": "white",
            "showbackground": true,
            "ticks": "",
            "zerolinecolor": "white"
           },
           "yaxis": {
            "backgroundcolor": "#E5ECF6",
            "gridcolor": "white",
            "gridwidth": 2,
            "linecolor": "white",
            "showbackground": true,
            "ticks": "",
            "zerolinecolor": "white"
           },
           "zaxis": {
            "backgroundcolor": "#E5ECF6",
            "gridcolor": "white",
            "gridwidth": 2,
            "linecolor": "white",
            "showbackground": true,
            "ticks": "",
            "zerolinecolor": "white"
           }
          },
          "shapedefaults": {
           "line": {
            "color": "#2a3f5f"
           }
          },
          "ternary": {
           "aaxis": {
            "gridcolor": "white",
            "linecolor": "white",
            "ticks": ""
           },
           "baxis": {
            "gridcolor": "white",
            "linecolor": "white",
            "ticks": ""
           },
           "bgcolor": "#E5ECF6",
           "caxis": {
            "gridcolor": "white",
            "linecolor": "white",
            "ticks": ""
           }
          },
          "title": {
           "x": 0.05
          },
          "xaxis": {
           "automargin": true,
           "gridcolor": "white",
           "linecolor": "white",
           "ticks": "",
           "title": {
            "standoff": 15
           },
           "zerolinecolor": "white",
           "zerolinewidth": 2
          },
          "yaxis": {
           "automargin": true,
           "gridcolor": "white",
           "linecolor": "white",
           "ticks": "",
           "title": {
            "standoff": 15
           },
           "zerolinecolor": "white",
           "zerolinewidth": 2
          }
         }
        }
       }
      }
     },
     "metadata": {}
    }
   ],
   "source": [
    "w = np.random.uniform(0,1,(2,1))\n",
    "epoch = 50\n",
    "eta = 1e-4\n",
    "mae = delta_learning(features, targets, w, epoch, eta)\n",
    "plot_boundary(fig, w.T)\n",
    "mae_fig = ex.line(x=np.arange(len(mae)), y=mae)\n",
    "mae_fig.show()\n",
    "fig.show()"
   ]
  },
  {
   "cell_type": "markdown",
   "metadata": {},
   "source": [
    "# Two-layer MLP\n"
   ]
  },
  {
   "cell_type": "code",
   "execution_count": 41,
   "metadata": {
    "tags": []
   },
   "outputs": [
    {
     "output_type": "display_data",
     "data": {
      "application/vnd.plotly.v1+json": {
       "config": {
        "plotlyServerURL": "https://plot.ly"
       },
       "data": [
        {
         "hovertemplate": "x=%{x}<br>y=%{y}<extra></extra>",
         "legendgroup": "",
         "line": {
          "color": "#636efa",
          "dash": "solid"
         },
         "mode": "lines",
         "name": "",
         "orientation": "v",
         "showlegend": false,
         "type": "scatter",
         "x": [
          0,
          1,
          2,
          3,
          4,
          5,
          6,
          7,
          8,
          9,
          10,
          11,
          12,
          13,
          14,
          15,
          16,
          17,
          18,
          19,
          20,
          21,
          22,
          23,
          24,
          25,
          26,
          27,
          28,
          29
         ],
         "xaxis": "x",
         "y": [
          0.1573074557201668,
          0.15726369885360916,
          0.15718061106244446,
          0.1570622175169269,
          0.1569121751963407,
          0.15673380350223856,
          0.15653011287642285,
          0.15630383143788407,
          0.15605742968388586,
          0.15579314332262656,
          0.15551299432024193,
          0.15521881025485296,
          0.15491224207611032,
          0.15459478037122193,
          0.15426777023855423,
          0.15393242486819822,
          0.1535898379258806,
          0.1532409948326726,
          0.15288678302841194,
          0.1525280013018409,
          0.15216536826536245,
          0.15179953004716723,
          0.15143106726838604,
          0.15106050136795476,
          0.1506883003330966,
          0.15031488388876402,
          0.14994062819506254,
          0.14956587009762,
          0.14919091097206247,
          0.1488160202002212
         ],
         "yaxis": "y"
        }
       ],
       "layout": {
        "legend": {
         "tracegroupgap": 0
        },
        "margin": {
         "t": 60
        },
        "template": {
         "data": {
          "bar": [
           {
            "error_x": {
             "color": "#2a3f5f"
            },
            "error_y": {
             "color": "#2a3f5f"
            },
            "marker": {
             "line": {
              "color": "#E5ECF6",
              "width": 0.5
             }
            },
            "type": "bar"
           }
          ],
          "barpolar": [
           {
            "marker": {
             "line": {
              "color": "#E5ECF6",
              "width": 0.5
             }
            },
            "type": "barpolar"
           }
          ],
          "carpet": [
           {
            "aaxis": {
             "endlinecolor": "#2a3f5f",
             "gridcolor": "white",
             "linecolor": "white",
             "minorgridcolor": "white",
             "startlinecolor": "#2a3f5f"
            },
            "baxis": {
             "endlinecolor": "#2a3f5f",
             "gridcolor": "white",
             "linecolor": "white",
             "minorgridcolor": "white",
             "startlinecolor": "#2a3f5f"
            },
            "type": "carpet"
           }
          ],
          "choropleth": [
           {
            "colorbar": {
             "outlinewidth": 0,
             "ticks": ""
            },
            "type": "choropleth"
           }
          ],
          "contour": [
           {
            "colorbar": {
             "outlinewidth": 0,
             "ticks": ""
            },
            "colorscale": [
             [
              0,
              "#0d0887"
             ],
             [
              0.1111111111111111,
              "#46039f"
             ],
             [
              0.2222222222222222,
              "#7201a8"
             ],
             [
              0.3333333333333333,
              "#9c179e"
             ],
             [
              0.4444444444444444,
              "#bd3786"
             ],
             [
              0.5555555555555556,
              "#d8576b"
             ],
             [
              0.6666666666666666,
              "#ed7953"
             ],
             [
              0.7777777777777778,
              "#fb9f3a"
             ],
             [
              0.8888888888888888,
              "#fdca26"
             ],
             [
              1,
              "#f0f921"
             ]
            ],
            "type": "contour"
           }
          ],
          "contourcarpet": [
           {
            "colorbar": {
             "outlinewidth": 0,
             "ticks": ""
            },
            "type": "contourcarpet"
           }
          ],
          "heatmap": [
           {
            "colorbar": {
             "outlinewidth": 0,
             "ticks": ""
            },
            "colorscale": [
             [
              0,
              "#0d0887"
             ],
             [
              0.1111111111111111,
              "#46039f"
             ],
             [
              0.2222222222222222,
              "#7201a8"
             ],
             [
              0.3333333333333333,
              "#9c179e"
             ],
             [
              0.4444444444444444,
              "#bd3786"
             ],
             [
              0.5555555555555556,
              "#d8576b"
             ],
             [
              0.6666666666666666,
              "#ed7953"
             ],
             [
              0.7777777777777778,
              "#fb9f3a"
             ],
             [
              0.8888888888888888,
              "#fdca26"
             ],
             [
              1,
              "#f0f921"
             ]
            ],
            "type": "heatmap"
           }
          ],
          "heatmapgl": [
           {
            "colorbar": {
             "outlinewidth": 0,
             "ticks": ""
            },
            "colorscale": [
             [
              0,
              "#0d0887"
             ],
             [
              0.1111111111111111,
              "#46039f"
             ],
             [
              0.2222222222222222,
              "#7201a8"
             ],
             [
              0.3333333333333333,
              "#9c179e"
             ],
             [
              0.4444444444444444,
              "#bd3786"
             ],
             [
              0.5555555555555556,
              "#d8576b"
             ],
             [
              0.6666666666666666,
              "#ed7953"
             ],
             [
              0.7777777777777778,
              "#fb9f3a"
             ],
             [
              0.8888888888888888,
              "#fdca26"
             ],
             [
              1,
              "#f0f921"
             ]
            ],
            "type": "heatmapgl"
           }
          ],
          "histogram": [
           {
            "marker": {
             "colorbar": {
              "outlinewidth": 0,
              "ticks": ""
             }
            },
            "type": "histogram"
           }
          ],
          "histogram2d": [
           {
            "colorbar": {
             "outlinewidth": 0,
             "ticks": ""
            },
            "colorscale": [
             [
              0,
              "#0d0887"
             ],
             [
              0.1111111111111111,
              "#46039f"
             ],
             [
              0.2222222222222222,
              "#7201a8"
             ],
             [
              0.3333333333333333,
              "#9c179e"
             ],
             [
              0.4444444444444444,
              "#bd3786"
             ],
             [
              0.5555555555555556,
              "#d8576b"
             ],
             [
              0.6666666666666666,
              "#ed7953"
             ],
             [
              0.7777777777777778,
              "#fb9f3a"
             ],
             [
              0.8888888888888888,
              "#fdca26"
             ],
             [
              1,
              "#f0f921"
             ]
            ],
            "type": "histogram2d"
           }
          ],
          "histogram2dcontour": [
           {
            "colorbar": {
             "outlinewidth": 0,
             "ticks": ""
            },
            "colorscale": [
             [
              0,
              "#0d0887"
             ],
             [
              0.1111111111111111,
              "#46039f"
             ],
             [
              0.2222222222222222,
              "#7201a8"
             ],
             [
              0.3333333333333333,
              "#9c179e"
             ],
             [
              0.4444444444444444,
              "#bd3786"
             ],
             [
              0.5555555555555556,
              "#d8576b"
             ],
             [
              0.6666666666666666,
              "#ed7953"
             ],
             [
              0.7777777777777778,
              "#fb9f3a"
             ],
             [
              0.8888888888888888,
              "#fdca26"
             ],
             [
              1,
              "#f0f921"
             ]
            ],
            "type": "histogram2dcontour"
           }
          ],
          "mesh3d": [
           {
            "colorbar": {
             "outlinewidth": 0,
             "ticks": ""
            },
            "type": "mesh3d"
           }
          ],
          "parcoords": [
           {
            "line": {
             "colorbar": {
              "outlinewidth": 0,
              "ticks": ""
             }
            },
            "type": "parcoords"
           }
          ],
          "pie": [
           {
            "automargin": true,
            "type": "pie"
           }
          ],
          "scatter": [
           {
            "marker": {
             "colorbar": {
              "outlinewidth": 0,
              "ticks": ""
             }
            },
            "type": "scatter"
           }
          ],
          "scatter3d": [
           {
            "line": {
             "colorbar": {
              "outlinewidth": 0,
              "ticks": ""
             }
            },
            "marker": {
             "colorbar": {
              "outlinewidth": 0,
              "ticks": ""
             }
            },
            "type": "scatter3d"
           }
          ],
          "scattercarpet": [
           {
            "marker": {
             "colorbar": {
              "outlinewidth": 0,
              "ticks": ""
             }
            },
            "type": "scattercarpet"
           }
          ],
          "scattergeo": [
           {
            "marker": {
             "colorbar": {
              "outlinewidth": 0,
              "ticks": ""
             }
            },
            "type": "scattergeo"
           }
          ],
          "scattergl": [
           {
            "marker": {
             "colorbar": {
              "outlinewidth": 0,
              "ticks": ""
             }
            },
            "type": "scattergl"
           }
          ],
          "scattermapbox": [
           {
            "marker": {
             "colorbar": {
              "outlinewidth": 0,
              "ticks": ""
             }
            },
            "type": "scattermapbox"
           }
          ],
          "scatterpolar": [
           {
            "marker": {
             "colorbar": {
              "outlinewidth": 0,
              "ticks": ""
             }
            },
            "type": "scatterpolar"
           }
          ],
          "scatterpolargl": [
           {
            "marker": {
             "colorbar": {
              "outlinewidth": 0,
              "ticks": ""
             }
            },
            "type": "scatterpolargl"
           }
          ],
          "scatterternary": [
           {
            "marker": {
             "colorbar": {
              "outlinewidth": 0,
              "ticks": ""
             }
            },
            "type": "scatterternary"
           }
          ],
          "surface": [
           {
            "colorbar": {
             "outlinewidth": 0,
             "ticks": ""
            },
            "colorscale": [
             [
              0,
              "#0d0887"
             ],
             [
              0.1111111111111111,
              "#46039f"
             ],
             [
              0.2222222222222222,
              "#7201a8"
             ],
             [
              0.3333333333333333,
              "#9c179e"
             ],
             [
              0.4444444444444444,
              "#bd3786"
             ],
             [
              0.5555555555555556,
              "#d8576b"
             ],
             [
              0.6666666666666666,
              "#ed7953"
             ],
             [
              0.7777777777777778,
              "#fb9f3a"
             ],
             [
              0.8888888888888888,
              "#fdca26"
             ],
             [
              1,
              "#f0f921"
             ]
            ],
            "type": "surface"
           }
          ],
          "table": [
           {
            "cells": {
             "fill": {
              "color": "#EBF0F8"
             },
             "line": {
              "color": "white"
             }
            },
            "header": {
             "fill": {
              "color": "#C8D4E3"
             },
             "line": {
              "color": "white"
             }
            },
            "type": "table"
           }
          ]
         },
         "layout": {
          "annotationdefaults": {
           "arrowcolor": "#2a3f5f",
           "arrowhead": 0,
           "arrowwidth": 1
          },
          "coloraxis": {
           "colorbar": {
            "outlinewidth": 0,
            "ticks": ""
           }
          },
          "colorscale": {
           "diverging": [
            [
             0,
             "#8e0152"
            ],
            [
             0.1,
             "#c51b7d"
            ],
            [
             0.2,
             "#de77ae"
            ],
            [
             0.3,
             "#f1b6da"
            ],
            [
             0.4,
             "#fde0ef"
            ],
            [
             0.5,
             "#f7f7f7"
            ],
            [
             0.6,
             "#e6f5d0"
            ],
            [
             0.7,
             "#b8e186"
            ],
            [
             0.8,
             "#7fbc41"
            ],
            [
             0.9,
             "#4d9221"
            ],
            [
             1,
             "#276419"
            ]
           ],
           "sequential": [
            [
             0,
             "#0d0887"
            ],
            [
             0.1111111111111111,
             "#46039f"
            ],
            [
             0.2222222222222222,
             "#7201a8"
            ],
            [
             0.3333333333333333,
             "#9c179e"
            ],
            [
             0.4444444444444444,
             "#bd3786"
            ],
            [
             0.5555555555555556,
             "#d8576b"
            ],
            [
             0.6666666666666666,
             "#ed7953"
            ],
            [
             0.7777777777777778,
             "#fb9f3a"
            ],
            [
             0.8888888888888888,
             "#fdca26"
            ],
            [
             1,
             "#f0f921"
            ]
           ],
           "sequentialminus": [
            [
             0,
             "#0d0887"
            ],
            [
             0.1111111111111111,
             "#46039f"
            ],
            [
             0.2222222222222222,
             "#7201a8"
            ],
            [
             0.3333333333333333,
             "#9c179e"
            ],
            [
             0.4444444444444444,
             "#bd3786"
            ],
            [
             0.5555555555555556,
             "#d8576b"
            ],
            [
             0.6666666666666666,
             "#ed7953"
            ],
            [
             0.7777777777777778,
             "#fb9f3a"
            ],
            [
             0.8888888888888888,
             "#fdca26"
            ],
            [
             1,
             "#f0f921"
            ]
           ]
          },
          "colorway": [
           "#636efa",
           "#EF553B",
           "#00cc96",
           "#ab63fa",
           "#FFA15A",
           "#19d3f3",
           "#FF6692",
           "#B6E880",
           "#FF97FF",
           "#FECB52"
          ],
          "font": {
           "color": "#2a3f5f"
          },
          "geo": {
           "bgcolor": "white",
           "lakecolor": "white",
           "landcolor": "#E5ECF6",
           "showlakes": true,
           "showland": true,
           "subunitcolor": "white"
          },
          "hoverlabel": {
           "align": "left"
          },
          "hovermode": "closest",
          "mapbox": {
           "style": "light"
          },
          "paper_bgcolor": "white",
          "plot_bgcolor": "#E5ECF6",
          "polar": {
           "angularaxis": {
            "gridcolor": "white",
            "linecolor": "white",
            "ticks": ""
           },
           "bgcolor": "#E5ECF6",
           "radialaxis": {
            "gridcolor": "white",
            "linecolor": "white",
            "ticks": ""
           }
          },
          "scene": {
           "xaxis": {
            "backgroundcolor": "#E5ECF6",
            "gridcolor": "white",
            "gridwidth": 2,
            "linecolor": "white",
            "showbackground": true,
            "ticks": "",
            "zerolinecolor": "white"
           },
           "yaxis": {
            "backgroundcolor": "#E5ECF6",
            "gridcolor": "white",
            "gridwidth": 2,
            "linecolor": "white",
            "showbackground": true,
            "ticks": "",
            "zerolinecolor": "white"
           },
           "zaxis": {
            "backgroundcolor": "#E5ECF6",
            "gridcolor": "white",
            "gridwidth": 2,
            "linecolor": "white",
            "showbackground": true,
            "ticks": "",
            "zerolinecolor": "white"
           }
          },
          "shapedefaults": {
           "line": {
            "color": "#2a3f5f"
           }
          },
          "ternary": {
           "aaxis": {
            "gridcolor": "white",
            "linecolor": "white",
            "ticks": ""
           },
           "baxis": {
            "gridcolor": "white",
            "linecolor": "white",
            "ticks": ""
           },
           "bgcolor": "#E5ECF6",
           "caxis": {
            "gridcolor": "white",
            "linecolor": "white",
            "ticks": ""
           }
          },
          "title": {
           "x": 0.05
          },
          "xaxis": {
           "automargin": true,
           "gridcolor": "white",
           "linecolor": "white",
           "ticks": "",
           "title": {
            "standoff": 15
           },
           "zerolinecolor": "white",
           "zerolinewidth": 2
          },
          "yaxis": {
           "automargin": true,
           "gridcolor": "white",
           "linecolor": "white",
           "ticks": "",
           "title": {
            "standoff": 15
           },
           "zerolinecolor": "white",
           "zerolinewidth": 2
          }
         }
        },
        "xaxis": {
         "anchor": "y",
         "domain": [
          0,
          1
         ],
         "title": {
          "text": "x"
         }
        },
        "yaxis": {
         "anchor": "x",
         "domain": [
          0,
          1
         ],
         "title": {
          "text": "y"
         }
        }
       }
      }
     },
     "metadata": {}
    },
    {
     "output_type": "display_data",
     "data": {
      "application/vnd.plotly.v1+json": {
       "config": {
        "plotlyServerURL": "https://plot.ly"
       },
       "data": [
        {
         "mode": "markers",
         "type": "scatter",
         "x": [
          -3.9452186283922472,
          -3.383670840910087,
          -4.001565079264726,
          -1.822698033447555,
          -3.0632417452665393,
          -2.222764761187922,
          -4.016043230933697,
          -2.846835557025056,
          -2.611039275524788,
          -3.9887110092662095,
          -1.7484200508066383,
          -2.343587822149208,
          -2.860154891163306,
          -2.1823242276079435,
          -3.3871064082158724,
          -1.9807834450879256,
          -3.5105464821276575,
          -1.6579095295798423,
          -3.182297605627467,
          -3.9985778562278265,
          -2.688783812310412,
          -2.5673373227828535,
          -2.9572006208917285,
          -2.9717333109587325,
          -3.3375479411386535,
          -4.1905813487864645,
          -5.334739813496713,
          -3.117978765615497,
          -2.392060372460831,
          -2.29072326284104,
          -2.7051144370743945,
          -3.85661880647605,
          -2.617219602275952,
          -4.157953959845007,
          -3.3321597794907345,
          -2.0685335892954715,
          -1.1048440378695323,
          -2.3150848069030183,
          -2.999178904743259,
          -2.2081437317140242,
          -2.8303711573650356,
          -0.4058087612249004,
          -4.560606424468828,
          -4.3062419234478195,
          -3.274258716955935,
          -2.61207565530157,
          -4.55371499218833,
          -1.475886096313573,
          -3.823926725242424,
          -2.513812163866159,
          -2.1257320313596484,
          -3.662308421617561,
          -3.5734903120219066,
          -3.3991612799070725,
          -2.550309124686276,
          -2.328158067798897,
          -2.608628607012629,
          -2.683024380904726,
          -3.6669307333973302,
          -3.005208812359302,
          -4.126935607248128,
          -4.459597758792537,
          -1.5424184080953134,
          -2.1552775117896155,
          -2.4624284218208,
          -1.8999895894450602,
          -2.193965078422277,
          -2.51865499496862,
          -1.6168293616898137,
          -5.080095352048998,
          -3.7210376008502513,
          -4.016075126371361,
          -1.5693980052668208,
          -4.498517437637975,
          -3.1611381133355945,
          -4.138227640265658,
          -2.308821463984522,
          -3.4201304238854893,
          -1.7263750383430625,
          -3.091614697555988,
          -2.3475870376041246,
          -4.685558191406109,
          -3.2183533957841566,
          -3.7047599476502997,
          -2.1380777879565374,
          -1.2141405870711508,
          -1.9141331920631308,
          -1.8013316589878758,
          -1.1502075810493815,
          -3.410754287221178,
          -4.573656135233646,
          -1.9080038949607578,
          -3.0665969372258863,
          -3.726431903503205,
          -3.684633722090512,
          -4.099043747048009,
          -3.603323802672878,
          -4.845048909843602,
          -1.5188830130190742,
          -2.359868901996947
         ],
         "y": [
          0.5650244828162885,
          0.7709248185011989,
          -0.11136479950852952,
          -0.006813020914886407,
          -0.34483027398254595,
          -0.566567249126574,
          0.6562872101725589,
          0.18307264202945117,
          1.7588202189144042,
          -0.37646481787148095,
          -1.911901769460298,
          0.5077414484214083,
          -0.9057273200088184,
          -1.5478551457298237,
          -0.8572369261731627,
          1.0712063291809684,
          -0.03873787692577923,
          -0.9064871473713672,
          -1.34113363423891,
          1.5041908156604569,
          -2.098651037167873,
          -0.3899664398056954,
          0.9566432272608483,
          -0.8176022215498944,
          0.13757705406509574,
          0.3341160714801584,
          -1.3294548649486306,
          0.09045491326291738,
          0.38212400109351413,
          -0.4944522325701702,
          0.07564581015876248,
          0.5800132514234826,
          -1.4096353114842948,
          -1.413237380002718,
          0.4721789506033375,
          0.8717526533688199,
          -0.7307732188319048,
          -0.3650983385810555,
          1.0273223183086408,
          -0.9894564929733568,
          -0.11985369696082313,
          2.733039733369542,
          1.0304656214022019,
          2.549446939824488,
          1.1113520088222872,
          0.7279817870824703,
          1.3991754101819438,
          0.5989596443110927,
          0.9999610780192856,
          -0.747849449928569,
          0.002610061489582197,
          0.5031938161446351,
          -0.9390194332019296,
          -0.44121549178530145,
          -0.3817392887610651,
          0.43370982568750993,
          -1.2226419379016047,
          0.13335501638197134,
          0.8674669841238181,
          0.39130432836532597,
          -0.5006634211431549,
          0.1804780779481709,
          1.777579783831814,
          0.5883406715031276,
          -1.1316935826311096,
          0.8113198141779013,
          1.0745384830219242,
          0.16479636669118686,
          -0.042021806077773304,
          1.1500895620037905,
          -0.061200225462866194,
          -0.5080956742367089,
          2.369256070430437,
          0.6414102845657634,
          2.1352624898108417,
          -0.5537751773513017,
          0.5883558167919724,
          0.012805093073811927,
          0.3816745741518249,
          2.1953766593194293,
          -0.6341602782806993,
          2.21378195796748,
          -0.42931059215690326,
          -2.0139209686900155,
          -0.81533827930347,
          -0.3610050288574831,
          1.1271988361725591,
          1.1433873105202952,
          0.2238726003575353,
          -0.628838102878285,
          0.7468281388890187,
          -1.0355622849225958,
          -1.7504549576988269,
          0.2982831400682909,
          1.2844094842733504,
          1.2233434602698423,
          -0.40476045269305283,
          1.0544206824427975,
          0.4070580022824846,
          -0.6238301034893518
         ]
        },
        {
         "mode": "markers",
         "type": "scatter",
         "x": [
          3.620586135835844,
          3.6408224534401157,
          1.2711837534365593,
          4.003209433665848,
          4.091148099684283,
          2.9911029737254458,
          2.5260322774950206,
          4.3770653963941175,
          3.1646007906605425,
          1.1425183538097003,
          3.6925476412838383,
          3.6603219026824014,
          3.5368965401902015,
          2.9414109487631617,
          3.589353758592013,
          2.7660777278110684,
          2.5250079085010966,
          4.278016034343716,
          4.193750035042415,
          2.391922698884405,
          3.634041110505064,
          1.339072483776584,
          2.8453427695278686,
          3.640681578443062,
          2.6105853915416413,
          3.297516199898088,
          3.4738405184252956,
          2.6060355482513744,
          4.006349798399436,
          3.584888829409084,
          1.8670952249983992,
          3.421302338403491,
          2.8394915740269386,
          2.5647538546721265,
          4.515484813321473,
          5.36425986704337,
          2.3416151310715243,
          2.4499631360644876,
          1.962405849363314,
          2.2532954505789453,
          3.5229035651674403,
          3.4220695687437477,
          2.7210178077904867,
          4.680477211693901,
          2.0800830455918407,
          4.236750112267668,
          5.019263470439915,
          1.1075715420899355,
          2.0792197523904705,
          4.864394962043615,
          3.4545595709657233,
          2.273737996561734,
          3.303493520793486,
          1.1886806866365835,
          2.808898648973172,
          3.2966973712361147,
          2.2230520905561697,
          3.1588896172926497,
          2.206661331323797,
          3.5458149170137117,
          0.5395642659214666,
          2.1145510960737908,
          3.7279861849696188,
          2.910309713655329,
          1.8912961961397852,
          3.021452236212752,
          3.511799392862037,
          2.7191155159818035,
          4.450318340648227,
          3.9922483983372903,
          3.4284054696915915,
          2.5845687989396,
          3.2479959535708613,
          3.807923376244762,
          3.574591539332582,
          3.4397545211650993,
          3.4672725172780448,
          4.75032820604554,
          2.465629810888,
          2.6282896056708647,
          1.9018061973498268,
          4.14669506685089,
          3.36508128860981,
          3.0302538229925196,
          2.520524228490474,
          1.4427973452239022,
          2.3885599973827016,
          3.7146130986718666,
          3.1178250641251566,
          4.421024487186903,
          3.1589159927013877,
          3.7484621935087192,
          3.558650399497338,
          1.686466588217599,
          4.51846677021242,
          2.8845459779930245,
          3.6618196892012715,
          3.362654800637271,
          3.3838256816520405,
          2.4527729664294298
         ],
         "y": [
          -0.14992969205928353,
          -1.7449557106948366,
          -0.1916246623286827,
          0.5483844002276425,
          -1.2285538304762473,
          -1.2119676418307719,
          -0.23495204756647975,
          -1.6971238867419802,
          0.12687877910666576,
          0.3724277099788967,
          -0.8624605836264098,
          0.28447450637430444,
          0.8661538837137479,
          0.6007120100128925,
          1.7442097245840453,
          -0.0036365894935921177,
          0.17281064819322214,
          -1.2842345938521373,
          -0.506345654645536,
          -0.43091162707806646,
          1.1853624428668346,
          -3.1216739467160153,
          0.43299214538367903,
          0.9823282463590076,
          2.270402751815886,
          -0.47263942194793396,
          0.16280788159858686,
          0.09568079540827396,
          1.1669931990656088,
          -2.3092196902683297,
          2.0827138012665234,
          -0.26880283902381874,
          -1.2276413092518934,
          -0.7339637697832766,
          0.6968311613498204,
          1.5355628964780008,
          0.49749693355338165,
          -0.40409724385363394,
          0.3083357506741469,
          1.848721632599871,
          -0.0446936908403161,
          -0.26433334071337966,
          0.1953842633348469,
          -1.1362001491464475,
          0.6712801638602481,
          0.9576979110412213,
          -0.479125572170368,
          -1.5373156996494297,
          0.27109870789348856,
          0.9378384375538716,
          -2.406666204954208,
          -0.08954480847836736,
          -0.6470898246933072,
          2.9443019830464365,
          -2.037513948514156,
          0.1806385873965099,
          -1.080464784497386,
          1.7820079392010284,
          0.5140421108964746,
          -1.2549993493188758,
          -0.646523454911459,
          -1.1249740119929252,
          -0.8566653486501583,
          0.1511998594250729,
          -1.2866759756231816,
          -1.3766092189242123,
          1.2785265828432977,
          0.8924353047446206,
          -0.5370406117437267,
          1.1909404798167775,
          -0.8451917260587097,
          0.4043694958684816,
          1.0070160814145324,
          0.8228521657318734,
          1.5920703692250708,
          -0.050840055032874885,
          -0.9996636209676186,
          0.2430773040003743,
          -0.5497237646320158,
          0.009601139745188657,
          -1.699679646016356,
          1.124294738054296,
          -0.32329063382813006,
          -0.7319725517594322,
          2.3170185090886757,
          0.514832883962882,
          0.8746435877706621,
          -0.5995511688956983,
          2.36080730769183,
          -0.6751410866329487,
          -0.527321881565861,
          0.7434288023476594,
          -0.1698672439701285,
          -0.9732611341232884,
          -0.9916290600779799,
          -0.6160790007788443,
          -0.12866162720554317,
          1.1398598488237508,
          0.5805601556088553,
          -0.49876668681272535
         ]
        },
        {
         "mode": "markers",
         "type": "scatter",
         "x": [
          -5,
          -4.898989898989899,
          -4.797979797979798,
          -4.696969696969697,
          -4.595959595959596,
          -4.494949494949495,
          -4.393939393939394,
          -4.292929292929293,
          -4.191919191919192,
          -4.090909090909091,
          -3.9898989898989896,
          -3.888888888888889,
          -3.787878787878788,
          -3.686868686868687,
          -3.5858585858585856,
          -3.484848484848485,
          -3.383838383838384,
          -3.282828282828283,
          -3.1818181818181817,
          -3.080808080808081,
          -2.9797979797979797,
          -2.878787878787879,
          -2.7777777777777777,
          -2.676767676767677,
          -2.5757575757575757,
          -2.474747474747475,
          -2.3737373737373737,
          -2.272727272727273,
          -2.1717171717171717,
          -2.070707070707071,
          -1.9696969696969697,
          -1.868686868686869,
          -1.7676767676767677,
          -1.6666666666666665,
          -1.5656565656565657,
          -1.4646464646464645,
          -1.3636363636363638,
          -1.2626262626262625,
          -1.1616161616161618,
          -1.0606060606060606,
          -0.9595959595959593,
          -0.858585858585859,
          -0.7575757575757578,
          -0.6565656565656566,
          -0.5555555555555554,
          -0.45454545454545503,
          -0.3535353535353538,
          -0.2525252525252526,
          -0.15151515151515138,
          -0.050505050505050164,
          0.050505050505050164,
          0.15151515151515138,
          0.2525252525252526,
          0.3535353535353538,
          0.45454545454545414,
          0.5555555555555554,
          0.6565656565656566,
          0.7575757575757578,
          0.8585858585858581,
          0.9595959595959593,
          1.0606060606060606,
          1.1616161616161618,
          1.262626262626262,
          1.3636363636363633,
          1.4646464646464645,
          1.5656565656565657,
          1.666666666666667,
          1.7676767676767673,
          1.8686868686868685,
          1.9696969696969697,
          2.070707070707071,
          2.1717171717171713,
          2.2727272727272725,
          2.3737373737373737,
          2.474747474747475,
          2.5757575757575752,
          2.6767676767676765,
          2.7777777777777777,
          2.878787878787879,
          2.9797979797979792,
          3.0808080808080813,
          3.1818181818181817,
          3.282828282828282,
          3.383838383838384,
          3.4848484848484844,
          3.5858585858585865,
          3.686868686868687,
          3.787878787878787,
          3.8888888888888893,
          3.9898989898989896,
          4.09090909090909,
          4.191919191919192,
          4.292929292929292,
          4.3939393939393945,
          4.494949494949495,
          4.595959595959595,
          4.696969696969697,
          4.797979797979798,
          4.8989898989899,
          5
         ],
         "y": [
          -5,
          -5,
          -5,
          -5,
          -5,
          -5,
          -5,
          -5,
          -5,
          -5,
          -5,
          -5,
          -5,
          -5,
          -5,
          -5,
          -5,
          -5,
          -4.856844531644218,
          -4.7026589909571,
          -4.548473450269982,
          -4.394287909582864,
          -4.240102368895746,
          -4.085916828208628,
          -3.9317312875215094,
          -3.7775457468343916,
          -3.623360206147274,
          -3.469174665460156,
          -3.314989124773038,
          -3.1608035840859197,
          -3.006618043398802,
          -2.8524325027116837,
          -2.698246962024565,
          -2.5440614213374473,
          -2.3898758806503295,
          -2.2356903399632113,
          -2.081504799276094,
          -1.9273192585889753,
          -1.7731337179018578,
          -1.6189481772147392,
          -1.464762636527621,
          -1.3105770958405039,
          -1.1563915551533857,
          -1.002206014466267,
          -0.8480204737791489,
          -0.6938349330920318,
          -0.5396493924049135,
          -0.3854638517177952,
          -0.2312783110306768,
          -0.0770927703435585,
          0.0770927703435585,
          0.2312783110306768,
          0.3854638517177952,
          0.5396493924049135,
          0.6938349330920305,
          0.8480204737791489,
          1.002206014466267,
          1.1563915551533857,
          1.3105770958405025,
          1.464762636527621,
          1.6189481772147392,
          1.7731337179018578,
          1.9273192585889745,
          2.081504799276093,
          2.2356903399632113,
          2.3898758806503295,
          2.544061421337448,
          2.698246962024565,
          2.8524325027116832,
          3.006618043398802,
          3.1608035840859197,
          3.3149891247730374,
          3.469174665460155,
          3.623360206147274,
          3.7775457468343916,
          3.9317312875215094,
          4.085916828208627,
          4.240102368895746,
          4.394287909582864,
          4.548473450269981,
          4.702658990957101,
          4.856844531644218,
          5,
          5,
          5,
          5,
          5,
          5,
          5,
          5,
          5,
          5,
          5,
          5,
          5,
          5,
          5,
          5,
          5,
          5
         ]
        }
       ],
       "layout": {
        "template": {
         "data": {
          "bar": [
           {
            "error_x": {
             "color": "#2a3f5f"
            },
            "error_y": {
             "color": "#2a3f5f"
            },
            "marker": {
             "line": {
              "color": "#E5ECF6",
              "width": 0.5
             }
            },
            "type": "bar"
           }
          ],
          "barpolar": [
           {
            "marker": {
             "line": {
              "color": "#E5ECF6",
              "width": 0.5
             }
            },
            "type": "barpolar"
           }
          ],
          "carpet": [
           {
            "aaxis": {
             "endlinecolor": "#2a3f5f",
             "gridcolor": "white",
             "linecolor": "white",
             "minorgridcolor": "white",
             "startlinecolor": "#2a3f5f"
            },
            "baxis": {
             "endlinecolor": "#2a3f5f",
             "gridcolor": "white",
             "linecolor": "white",
             "minorgridcolor": "white",
             "startlinecolor": "#2a3f5f"
            },
            "type": "carpet"
           }
          ],
          "choropleth": [
           {
            "colorbar": {
             "outlinewidth": 0,
             "ticks": ""
            },
            "type": "choropleth"
           }
          ],
          "contour": [
           {
            "colorbar": {
             "outlinewidth": 0,
             "ticks": ""
            },
            "colorscale": [
             [
              0,
              "#0d0887"
             ],
             [
              0.1111111111111111,
              "#46039f"
             ],
             [
              0.2222222222222222,
              "#7201a8"
             ],
             [
              0.3333333333333333,
              "#9c179e"
             ],
             [
              0.4444444444444444,
              "#bd3786"
             ],
             [
              0.5555555555555556,
              "#d8576b"
             ],
             [
              0.6666666666666666,
              "#ed7953"
             ],
             [
              0.7777777777777778,
              "#fb9f3a"
             ],
             [
              0.8888888888888888,
              "#fdca26"
             ],
             [
              1,
              "#f0f921"
             ]
            ],
            "type": "contour"
           }
          ],
          "contourcarpet": [
           {
            "colorbar": {
             "outlinewidth": 0,
             "ticks": ""
            },
            "type": "contourcarpet"
           }
          ],
          "heatmap": [
           {
            "colorbar": {
             "outlinewidth": 0,
             "ticks": ""
            },
            "colorscale": [
             [
              0,
              "#0d0887"
             ],
             [
              0.1111111111111111,
              "#46039f"
             ],
             [
              0.2222222222222222,
              "#7201a8"
             ],
             [
              0.3333333333333333,
              "#9c179e"
             ],
             [
              0.4444444444444444,
              "#bd3786"
             ],
             [
              0.5555555555555556,
              "#d8576b"
             ],
             [
              0.6666666666666666,
              "#ed7953"
             ],
             [
              0.7777777777777778,
              "#fb9f3a"
             ],
             [
              0.8888888888888888,
              "#fdca26"
             ],
             [
              1,
              "#f0f921"
             ]
            ],
            "type": "heatmap"
           }
          ],
          "heatmapgl": [
           {
            "colorbar": {
             "outlinewidth": 0,
             "ticks": ""
            },
            "colorscale": [
             [
              0,
              "#0d0887"
             ],
             [
              0.1111111111111111,
              "#46039f"
             ],
             [
              0.2222222222222222,
              "#7201a8"
             ],
             [
              0.3333333333333333,
              "#9c179e"
             ],
             [
              0.4444444444444444,
              "#bd3786"
             ],
             [
              0.5555555555555556,
              "#d8576b"
             ],
             [
              0.6666666666666666,
              "#ed7953"
             ],
             [
              0.7777777777777778,
              "#fb9f3a"
             ],
             [
              0.8888888888888888,
              "#fdca26"
             ],
             [
              1,
              "#f0f921"
             ]
            ],
            "type": "heatmapgl"
           }
          ],
          "histogram": [
           {
            "marker": {
             "colorbar": {
              "outlinewidth": 0,
              "ticks": ""
             }
            },
            "type": "histogram"
           }
          ],
          "histogram2d": [
           {
            "colorbar": {
             "outlinewidth": 0,
             "ticks": ""
            },
            "colorscale": [
             [
              0,
              "#0d0887"
             ],
             [
              0.1111111111111111,
              "#46039f"
             ],
             [
              0.2222222222222222,
              "#7201a8"
             ],
             [
              0.3333333333333333,
              "#9c179e"
             ],
             [
              0.4444444444444444,
              "#bd3786"
             ],
             [
              0.5555555555555556,
              "#d8576b"
             ],
             [
              0.6666666666666666,
              "#ed7953"
             ],
             [
              0.7777777777777778,
              "#fb9f3a"
             ],
             [
              0.8888888888888888,
              "#fdca26"
             ],
             [
              1,
              "#f0f921"
             ]
            ],
            "type": "histogram2d"
           }
          ],
          "histogram2dcontour": [
           {
            "colorbar": {
             "outlinewidth": 0,
             "ticks": ""
            },
            "colorscale": [
             [
              0,
              "#0d0887"
             ],
             [
              0.1111111111111111,
              "#46039f"
             ],
             [
              0.2222222222222222,
              "#7201a8"
             ],
             [
              0.3333333333333333,
              "#9c179e"
             ],
             [
              0.4444444444444444,
              "#bd3786"
             ],
             [
              0.5555555555555556,
              "#d8576b"
             ],
             [
              0.6666666666666666,
              "#ed7953"
             ],
             [
              0.7777777777777778,
              "#fb9f3a"
             ],
             [
              0.8888888888888888,
              "#fdca26"
             ],
             [
              1,
              "#f0f921"
             ]
            ],
            "type": "histogram2dcontour"
           }
          ],
          "mesh3d": [
           {
            "colorbar": {
             "outlinewidth": 0,
             "ticks": ""
            },
            "type": "mesh3d"
           }
          ],
          "parcoords": [
           {
            "line": {
             "colorbar": {
              "outlinewidth": 0,
              "ticks": ""
             }
            },
            "type": "parcoords"
           }
          ],
          "pie": [
           {
            "automargin": true,
            "type": "pie"
           }
          ],
          "scatter": [
           {
            "marker": {
             "colorbar": {
              "outlinewidth": 0,
              "ticks": ""
             }
            },
            "type": "scatter"
           }
          ],
          "scatter3d": [
           {
            "line": {
             "colorbar": {
              "outlinewidth": 0,
              "ticks": ""
             }
            },
            "marker": {
             "colorbar": {
              "outlinewidth": 0,
              "ticks": ""
             }
            },
            "type": "scatter3d"
           }
          ],
          "scattercarpet": [
           {
            "marker": {
             "colorbar": {
              "outlinewidth": 0,
              "ticks": ""
             }
            },
            "type": "scattercarpet"
           }
          ],
          "scattergeo": [
           {
            "marker": {
             "colorbar": {
              "outlinewidth": 0,
              "ticks": ""
             }
            },
            "type": "scattergeo"
           }
          ],
          "scattergl": [
           {
            "marker": {
             "colorbar": {
              "outlinewidth": 0,
              "ticks": ""
             }
            },
            "type": "scattergl"
           }
          ],
          "scattermapbox": [
           {
            "marker": {
             "colorbar": {
              "outlinewidth": 0,
              "ticks": ""
             }
            },
            "type": "scattermapbox"
           }
          ],
          "scatterpolar": [
           {
            "marker": {
             "colorbar": {
              "outlinewidth": 0,
              "ticks": ""
             }
            },
            "type": "scatterpolar"
           }
          ],
          "scatterpolargl": [
           {
            "marker": {
             "colorbar": {
              "outlinewidth": 0,
              "ticks": ""
             }
            },
            "type": "scatterpolargl"
           }
          ],
          "scatterternary": [
           {
            "marker": {
             "colorbar": {
              "outlinewidth": 0,
              "ticks": ""
             }
            },
            "type": "scatterternary"
           }
          ],
          "surface": [
           {
            "colorbar": {
             "outlinewidth": 0,
             "ticks": ""
            },
            "colorscale": [
             [
              0,
              "#0d0887"
             ],
             [
              0.1111111111111111,
              "#46039f"
             ],
             [
              0.2222222222222222,
              "#7201a8"
             ],
             [
              0.3333333333333333,
              "#9c179e"
             ],
             [
              0.4444444444444444,
              "#bd3786"
             ],
             [
              0.5555555555555556,
              "#d8576b"
             ],
             [
              0.6666666666666666,
              "#ed7953"
             ],
             [
              0.7777777777777778,
              "#fb9f3a"
             ],
             [
              0.8888888888888888,
              "#fdca26"
             ],
             [
              1,
              "#f0f921"
             ]
            ],
            "type": "surface"
           }
          ],
          "table": [
           {
            "cells": {
             "fill": {
              "color": "#EBF0F8"
             },
             "line": {
              "color": "white"
             }
            },
            "header": {
             "fill": {
              "color": "#C8D4E3"
             },
             "line": {
              "color": "white"
             }
            },
            "type": "table"
           }
          ]
         },
         "layout": {
          "annotationdefaults": {
           "arrowcolor": "#2a3f5f",
           "arrowhead": 0,
           "arrowwidth": 1
          },
          "coloraxis": {
           "colorbar": {
            "outlinewidth": 0,
            "ticks": ""
           }
          },
          "colorscale": {
           "diverging": [
            [
             0,
             "#8e0152"
            ],
            [
             0.1,
             "#c51b7d"
            ],
            [
             0.2,
             "#de77ae"
            ],
            [
             0.3,
             "#f1b6da"
            ],
            [
             0.4,
             "#fde0ef"
            ],
            [
             0.5,
             "#f7f7f7"
            ],
            [
             0.6,
             "#e6f5d0"
            ],
            [
             0.7,
             "#b8e186"
            ],
            [
             0.8,
             "#7fbc41"
            ],
            [
             0.9,
             "#4d9221"
            ],
            [
             1,
             "#276419"
            ]
           ],
           "sequential": [
            [
             0,
             "#0d0887"
            ],
            [
             0.1111111111111111,
             "#46039f"
            ],
            [
             0.2222222222222222,
             "#7201a8"
            ],
            [
             0.3333333333333333,
             "#9c179e"
            ],
            [
             0.4444444444444444,
             "#bd3786"
            ],
            [
             0.5555555555555556,
             "#d8576b"
            ],
            [
             0.6666666666666666,
             "#ed7953"
            ],
            [
             0.7777777777777778,
             "#fb9f3a"
            ],
            [
             0.8888888888888888,
             "#fdca26"
            ],
            [
             1,
             "#f0f921"
            ]
           ],
           "sequentialminus": [
            [
             0,
             "#0d0887"
            ],
            [
             0.1111111111111111,
             "#46039f"
            ],
            [
             0.2222222222222222,
             "#7201a8"
            ],
            [
             0.3333333333333333,
             "#9c179e"
            ],
            [
             0.4444444444444444,
             "#bd3786"
            ],
            [
             0.5555555555555556,
             "#d8576b"
            ],
            [
             0.6666666666666666,
             "#ed7953"
            ],
            [
             0.7777777777777778,
             "#fb9f3a"
            ],
            [
             0.8888888888888888,
             "#fdca26"
            ],
            [
             1,
             "#f0f921"
            ]
           ]
          },
          "colorway": [
           "#636efa",
           "#EF553B",
           "#00cc96",
           "#ab63fa",
           "#FFA15A",
           "#19d3f3",
           "#FF6692",
           "#B6E880",
           "#FF97FF",
           "#FECB52"
          ],
          "font": {
           "color": "#2a3f5f"
          },
          "geo": {
           "bgcolor": "white",
           "lakecolor": "white",
           "landcolor": "#E5ECF6",
           "showlakes": true,
           "showland": true,
           "subunitcolor": "white"
          },
          "hoverlabel": {
           "align": "left"
          },
          "hovermode": "closest",
          "mapbox": {
           "style": "light"
          },
          "paper_bgcolor": "white",
          "plot_bgcolor": "#E5ECF6",
          "polar": {
           "angularaxis": {
            "gridcolor": "white",
            "linecolor": "white",
            "ticks": ""
           },
           "bgcolor": "#E5ECF6",
           "radialaxis": {
            "gridcolor": "white",
            "linecolor": "white",
            "ticks": ""
           }
          },
          "scene": {
           "xaxis": {
            "backgroundcolor": "#E5ECF6",
            "gridcolor": "white",
            "gridwidth": 2,
            "linecolor": "white",
            "showbackground": true,
            "ticks": "",
            "zerolinecolor": "white"
           },
           "yaxis": {
            "backgroundcolor": "#E5ECF6",
            "gridcolor": "white",
            "gridwidth": 2,
            "linecolor": "white",
            "showbackground": true,
            "ticks": "",
            "zerolinecolor": "white"
           },
           "zaxis": {
            "backgroundcolor": "#E5ECF6",
            "gridcolor": "white",
            "gridwidth": 2,
            "linecolor": "white",
            "showbackground": true,
            "ticks": "",
            "zerolinecolor": "white"
           }
          },
          "shapedefaults": {
           "line": {
            "color": "#2a3f5f"
           }
          },
          "ternary": {
           "aaxis": {
            "gridcolor": "white",
            "linecolor": "white",
            "ticks": ""
           },
           "baxis": {
            "gridcolor": "white",
            "linecolor": "white",
            "ticks": ""
           },
           "bgcolor": "#E5ECF6",
           "caxis": {
            "gridcolor": "white",
            "linecolor": "white",
            "ticks": ""
           }
          },
          "title": {
           "x": 0.05
          },
          "xaxis": {
           "automargin": true,
           "gridcolor": "white",
           "linecolor": "white",
           "ticks": "",
           "title": {
            "standoff": 15
           },
           "zerolinecolor": "white",
           "zerolinewidth": 2
          },
          "yaxis": {
           "automargin": true,
           "gridcolor": "white",
           "linecolor": "white",
           "ticks": "",
           "title": {
            "standoff": 15
           },
           "zerolinecolor": "white",
           "zerolinewidth": 2
          }
         }
        }
       }
      }
     },
     "metadata": {}
    },
    {
     "output_type": "display_data",
     "data": {
      "application/vnd.plotly.v1+json": {
       "config": {
        "plotlyServerURL": "https://plot.ly"
       },
       "data": [
        {
         "hovertemplate": "x=%{x}<br>y=%{y}<extra></extra>",
         "legendgroup": "",
         "line": {
          "color": "#636efa",
          "dash": "solid"
         },
         "mode": "lines",
         "name": "",
         "orientation": "v",
         "showlegend": false,
         "type": "scatter",
         "x": [
          0,
          1,
          2,
          3,
          4,
          5,
          6,
          7,
          8,
          9,
          10,
          11,
          12,
          13,
          14,
          15,
          16,
          17,
          18,
          19,
          20,
          21,
          22,
          23,
          24,
          25,
          26,
          27,
          28,
          29
         ],
         "xaxis": "x",
         "y": [
          0.1573074557201668,
          0.15726369885360916,
          0.15718061106244446,
          0.1570622175169269,
          0.1569121751963407,
          0.15673380350223856,
          0.15653011287642285,
          0.15630383143788407,
          0.15605742968388586,
          0.15579314332262656,
          0.15551299432024193,
          0.15521881025485296,
          0.15491224207611032,
          0.15459478037122193,
          0.15426777023855423,
          0.15393242486819822,
          0.1535898379258806,
          0.1532409948326726,
          0.15288678302841194,
          0.1525280013018409,
          0.15216536826536245,
          0.15179953004716723,
          0.15143106726838604,
          0.15106050136795476,
          0.1506883003330966,
          0.15031488388876402,
          0.14994062819506254,
          0.14956587009762,
          0.14919091097206247,
          0.1488160202002212
         ],
         "yaxis": "y"
        }
       ],
       "layout": {
        "legend": {
         "tracegroupgap": 0
        },
        "margin": {
         "t": 60
        },
        "template": {
         "data": {
          "bar": [
           {
            "error_x": {
             "color": "#2a3f5f"
            },
            "error_y": {
             "color": "#2a3f5f"
            },
            "marker": {
             "line": {
              "color": "#E5ECF6",
              "width": 0.5
             }
            },
            "type": "bar"
           }
          ],
          "barpolar": [
           {
            "marker": {
             "line": {
              "color": "#E5ECF6",
              "width": 0.5
             }
            },
            "type": "barpolar"
           }
          ],
          "carpet": [
           {
            "aaxis": {
             "endlinecolor": "#2a3f5f",
             "gridcolor": "white",
             "linecolor": "white",
             "minorgridcolor": "white",
             "startlinecolor": "#2a3f5f"
            },
            "baxis": {
             "endlinecolor": "#2a3f5f",
             "gridcolor": "white",
             "linecolor": "white",
             "minorgridcolor": "white",
             "startlinecolor": "#2a3f5f"
            },
            "type": "carpet"
           }
          ],
          "choropleth": [
           {
            "colorbar": {
             "outlinewidth": 0,
             "ticks": ""
            },
            "type": "choropleth"
           }
          ],
          "contour": [
           {
            "colorbar": {
             "outlinewidth": 0,
             "ticks": ""
            },
            "colorscale": [
             [
              0,
              "#0d0887"
             ],
             [
              0.1111111111111111,
              "#46039f"
             ],
             [
              0.2222222222222222,
              "#7201a8"
             ],
             [
              0.3333333333333333,
              "#9c179e"
             ],
             [
              0.4444444444444444,
              "#bd3786"
             ],
             [
              0.5555555555555556,
              "#d8576b"
             ],
             [
              0.6666666666666666,
              "#ed7953"
             ],
             [
              0.7777777777777778,
              "#fb9f3a"
             ],
             [
              0.8888888888888888,
              "#fdca26"
             ],
             [
              1,
              "#f0f921"
             ]
            ],
            "type": "contour"
           }
          ],
          "contourcarpet": [
           {
            "colorbar": {
             "outlinewidth": 0,
             "ticks": ""
            },
            "type": "contourcarpet"
           }
          ],
          "heatmap": [
           {
            "colorbar": {
             "outlinewidth": 0,
             "ticks": ""
            },
            "colorscale": [
             [
              0,
              "#0d0887"
             ],
             [
              0.1111111111111111,
              "#46039f"
             ],
             [
              0.2222222222222222,
              "#7201a8"
             ],
             [
              0.3333333333333333,
              "#9c179e"
             ],
             [
              0.4444444444444444,
              "#bd3786"
             ],
             [
              0.5555555555555556,
              "#d8576b"
             ],
             [
              0.6666666666666666,
              "#ed7953"
             ],
             [
              0.7777777777777778,
              "#fb9f3a"
             ],
             [
              0.8888888888888888,
              "#fdca26"
             ],
             [
              1,
              "#f0f921"
             ]
            ],
            "type": "heatmap"
           }
          ],
          "heatmapgl": [
           {
            "colorbar": {
             "outlinewidth": 0,
             "ticks": ""
            },
            "colorscale": [
             [
              0,
              "#0d0887"
             ],
             [
              0.1111111111111111,
              "#46039f"
             ],
             [
              0.2222222222222222,
              "#7201a8"
             ],
             [
              0.3333333333333333,
              "#9c179e"
             ],
             [
              0.4444444444444444,
              "#bd3786"
             ],
             [
              0.5555555555555556,
              "#d8576b"
             ],
             [
              0.6666666666666666,
              "#ed7953"
             ],
             [
              0.7777777777777778,
              "#fb9f3a"
             ],
             [
              0.8888888888888888,
              "#fdca26"
             ],
             [
              1,
              "#f0f921"
             ]
            ],
            "type": "heatmapgl"
           }
          ],
          "histogram": [
           {
            "marker": {
             "colorbar": {
              "outlinewidth": 0,
              "ticks": ""
             }
            },
            "type": "histogram"
           }
          ],
          "histogram2d": [
           {
            "colorbar": {
             "outlinewidth": 0,
             "ticks": ""
            },
            "colorscale": [
             [
              0,
              "#0d0887"
             ],
             [
              0.1111111111111111,
              "#46039f"
             ],
             [
              0.2222222222222222,
              "#7201a8"
             ],
             [
              0.3333333333333333,
              "#9c179e"
             ],
             [
              0.4444444444444444,
              "#bd3786"
             ],
             [
              0.5555555555555556,
              "#d8576b"
             ],
             [
              0.6666666666666666,
              "#ed7953"
             ],
             [
              0.7777777777777778,
              "#fb9f3a"
             ],
             [
              0.8888888888888888,
              "#fdca26"
             ],
             [
              1,
              "#f0f921"
             ]
            ],
            "type": "histogram2d"
           }
          ],
          "histogram2dcontour": [
           {
            "colorbar": {
             "outlinewidth": 0,
             "ticks": ""
            },
            "colorscale": [
             [
              0,
              "#0d0887"
             ],
             [
              0.1111111111111111,
              "#46039f"
             ],
             [
              0.2222222222222222,
              "#7201a8"
             ],
             [
              0.3333333333333333,
              "#9c179e"
             ],
             [
              0.4444444444444444,
              "#bd3786"
             ],
             [
              0.5555555555555556,
              "#d8576b"
             ],
             [
              0.6666666666666666,
              "#ed7953"
             ],
             [
              0.7777777777777778,
              "#fb9f3a"
             ],
             [
              0.8888888888888888,
              "#fdca26"
             ],
             [
              1,
              "#f0f921"
             ]
            ],
            "type": "histogram2dcontour"
           }
          ],
          "mesh3d": [
           {
            "colorbar": {
             "outlinewidth": 0,
             "ticks": ""
            },
            "type": "mesh3d"
           }
          ],
          "parcoords": [
           {
            "line": {
             "colorbar": {
              "outlinewidth": 0,
              "ticks": ""
             }
            },
            "type": "parcoords"
           }
          ],
          "pie": [
           {
            "automargin": true,
            "type": "pie"
           }
          ],
          "scatter": [
           {
            "marker": {
             "colorbar": {
              "outlinewidth": 0,
              "ticks": ""
             }
            },
            "type": "scatter"
           }
          ],
          "scatter3d": [
           {
            "line": {
             "colorbar": {
              "outlinewidth": 0,
              "ticks": ""
             }
            },
            "marker": {
             "colorbar": {
              "outlinewidth": 0,
              "ticks": ""
             }
            },
            "type": "scatter3d"
           }
          ],
          "scattercarpet": [
           {
            "marker": {
             "colorbar": {
              "outlinewidth": 0,
              "ticks": ""
             }
            },
            "type": "scattercarpet"
           }
          ],
          "scattergeo": [
           {
            "marker": {
             "colorbar": {
              "outlinewidth": 0,
              "ticks": ""
             }
            },
            "type": "scattergeo"
           }
          ],
          "scattergl": [
           {
            "marker": {
             "colorbar": {
              "outlinewidth": 0,
              "ticks": ""
             }
            },
            "type": "scattergl"
           }
          ],
          "scattermapbox": [
           {
            "marker": {
             "colorbar": {
              "outlinewidth": 0,
              "ticks": ""
             }
            },
            "type": "scattermapbox"
           }
          ],
          "scatterpolar": [
           {
            "marker": {
             "colorbar": {
              "outlinewidth": 0,
              "ticks": ""
             }
            },
            "type": "scatterpolar"
           }
          ],
          "scatterpolargl": [
           {
            "marker": {
             "colorbar": {
              "outlinewidth": 0,
              "ticks": ""
             }
            },
            "type": "scatterpolargl"
           }
          ],
          "scatterternary": [
           {
            "marker": {
             "colorbar": {
              "outlinewidth": 0,
              "ticks": ""
             }
            },
            "type": "scatterternary"
           }
          ],
          "surface": [
           {
            "colorbar": {
             "outlinewidth": 0,
             "ticks": ""
            },
            "colorscale": [
             [
              0,
              "#0d0887"
             ],
             [
              0.1111111111111111,
              "#46039f"
             ],
             [
              0.2222222222222222,
              "#7201a8"
             ],
             [
              0.3333333333333333,
              "#9c179e"
             ],
             [
              0.4444444444444444,
              "#bd3786"
             ],
             [
              0.5555555555555556,
              "#d8576b"
             ],
             [
              0.6666666666666666,
              "#ed7953"
             ],
             [
              0.7777777777777778,
              "#fb9f3a"
             ],
             [
              0.8888888888888888,
              "#fdca26"
             ],
             [
              1,
              "#f0f921"
             ]
            ],
            "type": "surface"
           }
          ],
          "table": [
           {
            "cells": {
             "fill": {
              "color": "#EBF0F8"
             },
             "line": {
              "color": "white"
             }
            },
            "header": {
             "fill": {
              "color": "#C8D4E3"
             },
             "line": {
              "color": "white"
             }
            },
            "type": "table"
           }
          ]
         },
         "layout": {
          "annotationdefaults": {
           "arrowcolor": "#2a3f5f",
           "arrowhead": 0,
           "arrowwidth": 1
          },
          "coloraxis": {
           "colorbar": {
            "outlinewidth": 0,
            "ticks": ""
           }
          },
          "colorscale": {
           "diverging": [
            [
             0,
             "#8e0152"
            ],
            [
             0.1,
             "#c51b7d"
            ],
            [
             0.2,
             "#de77ae"
            ],
            [
             0.3,
             "#f1b6da"
            ],
            [
             0.4,
             "#fde0ef"
            ],
            [
             0.5,
             "#f7f7f7"
            ],
            [
             0.6,
             "#e6f5d0"
            ],
            [
             0.7,
             "#b8e186"
            ],
            [
             0.8,
             "#7fbc41"
            ],
            [
             0.9,
             "#4d9221"
            ],
            [
             1,
             "#276419"
            ]
           ],
           "sequential": [
            [
             0,
             "#0d0887"
            ],
            [
             0.1111111111111111,
             "#46039f"
            ],
            [
             0.2222222222222222,
             "#7201a8"
            ],
            [
             0.3333333333333333,
             "#9c179e"
            ],
            [
             0.4444444444444444,
             "#bd3786"
            ],
            [
             0.5555555555555556,
             "#d8576b"
            ],
            [
             0.6666666666666666,
             "#ed7953"
            ],
            [
             0.7777777777777778,
             "#fb9f3a"
            ],
            [
             0.8888888888888888,
             "#fdca26"
            ],
            [
             1,
             "#f0f921"
            ]
           ],
           "sequentialminus": [
            [
             0,
             "#0d0887"
            ],
            [
             0.1111111111111111,
             "#46039f"
            ],
            [
             0.2222222222222222,
             "#7201a8"
            ],
            [
             0.3333333333333333,
             "#9c179e"
            ],
            [
             0.4444444444444444,
             "#bd3786"
            ],
            [
             0.5555555555555556,
             "#d8576b"
            ],
            [
             0.6666666666666666,
             "#ed7953"
            ],
            [
             0.7777777777777778,
             "#fb9f3a"
            ],
            [
             0.8888888888888888,
             "#fdca26"
            ],
            [
             1,
             "#f0f921"
            ]
           ]
          },
          "colorway": [
           "#636efa",
           "#EF553B",
           "#00cc96",
           "#ab63fa",
           "#FFA15A",
           "#19d3f3",
           "#FF6692",
           "#B6E880",
           "#FF97FF",
           "#FECB52"
          ],
          "font": {
           "color": "#2a3f5f"
          },
          "geo": {
           "bgcolor": "white",
           "lakecolor": "white",
           "landcolor": "#E5ECF6",
           "showlakes": true,
           "showland": true,
           "subunitcolor": "white"
          },
          "hoverlabel": {
           "align": "left"
          },
          "hovermode": "closest",
          "mapbox": {
           "style": "light"
          },
          "paper_bgcolor": "white",
          "plot_bgcolor": "#E5ECF6",
          "polar": {
           "angularaxis": {
            "gridcolor": "white",
            "linecolor": "white",
            "ticks": ""
           },
           "bgcolor": "#E5ECF6",
           "radialaxis": {
            "gridcolor": "white",
            "linecolor": "white",
            "ticks": ""
           }
          },
          "scene": {
           "xaxis": {
            "backgroundcolor": "#E5ECF6",
            "gridcolor": "white",
            "gridwidth": 2,
            "linecolor": "white",
            "showbackground": true,
            "ticks": "",
            "zerolinecolor": "white"
           },
           "yaxis": {
            "backgroundcolor": "#E5ECF6",
            "gridcolor": "white",
            "gridwidth": 2,
            "linecolor": "white",
            "showbackground": true,
            "ticks": "",
            "zerolinecolor": "white"
           },
           "zaxis": {
            "backgroundcolor": "#E5ECF6",
            "gridcolor": "white",
            "gridwidth": 2,
            "linecolor": "white",
            "showbackground": true,
            "ticks": "",
            "zerolinecolor": "white"
           }
          },
          "shapedefaults": {
           "line": {
            "color": "#2a3f5f"
           }
          },
          "ternary": {
           "aaxis": {
            "gridcolor": "white",
            "linecolor": "white",
            "ticks": ""
           },
           "baxis": {
            "gridcolor": "white",
            "linecolor": "white",
            "ticks": ""
           },
           "bgcolor": "#E5ECF6",
           "caxis": {
            "gridcolor": "white",
            "linecolor": "white",
            "ticks": ""
           }
          },
          "title": {
           "x": 0.05
          },
          "xaxis": {
           "automargin": true,
           "gridcolor": "white",
           "linecolor": "white",
           "ticks": "",
           "title": {
            "standoff": 15
           },
           "zerolinecolor": "white",
           "zerolinewidth": 2
          },
          "yaxis": {
           "automargin": true,
           "gridcolor": "white",
           "linecolor": "white",
           "ticks": "",
           "title": {
            "standoff": 15
           },
           "zerolinecolor": "white",
           "zerolinewidth": 2
          }
         }
        },
        "xaxis": {
         "anchor": "y",
         "domain": [
          0,
          1
         ],
         "title": {
          "text": "x"
         }
        },
        "yaxis": {
         "anchor": "x",
         "domain": [
          0,
          1
         ],
         "title": {
          "text": "y"
         }
        }
       }
      }
     },
     "metadata": {}
    },
    {
     "output_type": "display_data",
     "data": {
      "application/vnd.plotly.v1+json": {
       "config": {
        "plotlyServerURL": "https://plot.ly"
       },
       "data": [
        {
         "mode": "markers",
         "type": "scatter",
         "x": [
          -3.9452186283922472,
          -3.383670840910087,
          -4.001565079264726,
          -1.822698033447555,
          -3.0632417452665393,
          -2.222764761187922,
          -4.016043230933697,
          -2.846835557025056,
          -2.611039275524788,
          -3.9887110092662095,
          -1.7484200508066383,
          -2.343587822149208,
          -2.860154891163306,
          -2.1823242276079435,
          -3.3871064082158724,
          -1.9807834450879256,
          -3.5105464821276575,
          -1.6579095295798423,
          -3.182297605627467,
          -3.9985778562278265,
          -2.688783812310412,
          -2.5673373227828535,
          -2.9572006208917285,
          -2.9717333109587325,
          -3.3375479411386535,
          -4.1905813487864645,
          -5.334739813496713,
          -3.117978765615497,
          -2.392060372460831,
          -2.29072326284104,
          -2.7051144370743945,
          -3.85661880647605,
          -2.617219602275952,
          -4.157953959845007,
          -3.3321597794907345,
          -2.0685335892954715,
          -1.1048440378695323,
          -2.3150848069030183,
          -2.999178904743259,
          -2.2081437317140242,
          -2.8303711573650356,
          -0.4058087612249004,
          -4.560606424468828,
          -4.3062419234478195,
          -3.274258716955935,
          -2.61207565530157,
          -4.55371499218833,
          -1.475886096313573,
          -3.823926725242424,
          -2.513812163866159,
          -2.1257320313596484,
          -3.662308421617561,
          -3.5734903120219066,
          -3.3991612799070725,
          -2.550309124686276,
          -2.328158067798897,
          -2.608628607012629,
          -2.683024380904726,
          -3.6669307333973302,
          -3.005208812359302,
          -4.126935607248128,
          -4.459597758792537,
          -1.5424184080953134,
          -2.1552775117896155,
          -2.4624284218208,
          -1.8999895894450602,
          -2.193965078422277,
          -2.51865499496862,
          -1.6168293616898137,
          -5.080095352048998,
          -3.7210376008502513,
          -4.016075126371361,
          -1.5693980052668208,
          -4.498517437637975,
          -3.1611381133355945,
          -4.138227640265658,
          -2.308821463984522,
          -3.4201304238854893,
          -1.7263750383430625,
          -3.091614697555988,
          -2.3475870376041246,
          -4.685558191406109,
          -3.2183533957841566,
          -3.7047599476502997,
          -2.1380777879565374,
          -1.2141405870711508,
          -1.9141331920631308,
          -1.8013316589878758,
          -1.1502075810493815,
          -3.410754287221178,
          -4.573656135233646,
          -1.9080038949607578,
          -3.0665969372258863,
          -3.726431903503205,
          -3.684633722090512,
          -4.099043747048009,
          -3.603323802672878,
          -4.845048909843602,
          -1.5188830130190742,
          -2.359868901996947
         ],
         "y": [
          0.5650244828162885,
          0.7709248185011989,
          -0.11136479950852952,
          -0.006813020914886407,
          -0.34483027398254595,
          -0.566567249126574,
          0.6562872101725589,
          0.18307264202945117,
          1.7588202189144042,
          -0.37646481787148095,
          -1.911901769460298,
          0.5077414484214083,
          -0.9057273200088184,
          -1.5478551457298237,
          -0.8572369261731627,
          1.0712063291809684,
          -0.03873787692577923,
          -0.9064871473713672,
          -1.34113363423891,
          1.5041908156604569,
          -2.098651037167873,
          -0.3899664398056954,
          0.9566432272608483,
          -0.8176022215498944,
          0.13757705406509574,
          0.3341160714801584,
          -1.3294548649486306,
          0.09045491326291738,
          0.38212400109351413,
          -0.4944522325701702,
          0.07564581015876248,
          0.5800132514234826,
          -1.4096353114842948,
          -1.413237380002718,
          0.4721789506033375,
          0.8717526533688199,
          -0.7307732188319048,
          -0.3650983385810555,
          1.0273223183086408,
          -0.9894564929733568,
          -0.11985369696082313,
          2.733039733369542,
          1.0304656214022019,
          2.549446939824488,
          1.1113520088222872,
          0.7279817870824703,
          1.3991754101819438,
          0.5989596443110927,
          0.9999610780192856,
          -0.747849449928569,
          0.002610061489582197,
          0.5031938161446351,
          -0.9390194332019296,
          -0.44121549178530145,
          -0.3817392887610651,
          0.43370982568750993,
          -1.2226419379016047,
          0.13335501638197134,
          0.8674669841238181,
          0.39130432836532597,
          -0.5006634211431549,
          0.1804780779481709,
          1.777579783831814,
          0.5883406715031276,
          -1.1316935826311096,
          0.8113198141779013,
          1.0745384830219242,
          0.16479636669118686,
          -0.042021806077773304,
          1.1500895620037905,
          -0.061200225462866194,
          -0.5080956742367089,
          2.369256070430437,
          0.6414102845657634,
          2.1352624898108417,
          -0.5537751773513017,
          0.5883558167919724,
          0.012805093073811927,
          0.3816745741518249,
          2.1953766593194293,
          -0.6341602782806993,
          2.21378195796748,
          -0.42931059215690326,
          -2.0139209686900155,
          -0.81533827930347,
          -0.3610050288574831,
          1.1271988361725591,
          1.1433873105202952,
          0.2238726003575353,
          -0.628838102878285,
          0.7468281388890187,
          -1.0355622849225958,
          -1.7504549576988269,
          0.2982831400682909,
          1.2844094842733504,
          1.2233434602698423,
          -0.40476045269305283,
          1.0544206824427975,
          0.4070580022824846,
          -0.6238301034893518
         ]
        },
        {
         "mode": "markers",
         "type": "scatter",
         "x": [
          3.620586135835844,
          3.6408224534401157,
          1.2711837534365593,
          4.003209433665848,
          4.091148099684283,
          2.9911029737254458,
          2.5260322774950206,
          4.3770653963941175,
          3.1646007906605425,
          1.1425183538097003,
          3.6925476412838383,
          3.6603219026824014,
          3.5368965401902015,
          2.9414109487631617,
          3.589353758592013,
          2.7660777278110684,
          2.5250079085010966,
          4.278016034343716,
          4.193750035042415,
          2.391922698884405,
          3.634041110505064,
          1.339072483776584,
          2.8453427695278686,
          3.640681578443062,
          2.6105853915416413,
          3.297516199898088,
          3.4738405184252956,
          2.6060355482513744,
          4.006349798399436,
          3.584888829409084,
          1.8670952249983992,
          3.421302338403491,
          2.8394915740269386,
          2.5647538546721265,
          4.515484813321473,
          5.36425986704337,
          2.3416151310715243,
          2.4499631360644876,
          1.962405849363314,
          2.2532954505789453,
          3.5229035651674403,
          3.4220695687437477,
          2.7210178077904867,
          4.680477211693901,
          2.0800830455918407,
          4.236750112267668,
          5.019263470439915,
          1.1075715420899355,
          2.0792197523904705,
          4.864394962043615,
          3.4545595709657233,
          2.273737996561734,
          3.303493520793486,
          1.1886806866365835,
          2.808898648973172,
          3.2966973712361147,
          2.2230520905561697,
          3.1588896172926497,
          2.206661331323797,
          3.5458149170137117,
          0.5395642659214666,
          2.1145510960737908,
          3.7279861849696188,
          2.910309713655329,
          1.8912961961397852,
          3.021452236212752,
          3.511799392862037,
          2.7191155159818035,
          4.450318340648227,
          3.9922483983372903,
          3.4284054696915915,
          2.5845687989396,
          3.2479959535708613,
          3.807923376244762,
          3.574591539332582,
          3.4397545211650993,
          3.4672725172780448,
          4.75032820604554,
          2.465629810888,
          2.6282896056708647,
          1.9018061973498268,
          4.14669506685089,
          3.36508128860981,
          3.0302538229925196,
          2.520524228490474,
          1.4427973452239022,
          2.3885599973827016,
          3.7146130986718666,
          3.1178250641251566,
          4.421024487186903,
          3.1589159927013877,
          3.7484621935087192,
          3.558650399497338,
          1.686466588217599,
          4.51846677021242,
          2.8845459779930245,
          3.6618196892012715,
          3.362654800637271,
          3.3838256816520405,
          2.4527729664294298
         ],
         "y": [
          -0.14992969205928353,
          -1.7449557106948366,
          -0.1916246623286827,
          0.5483844002276425,
          -1.2285538304762473,
          -1.2119676418307719,
          -0.23495204756647975,
          -1.6971238867419802,
          0.12687877910666576,
          0.3724277099788967,
          -0.8624605836264098,
          0.28447450637430444,
          0.8661538837137479,
          0.6007120100128925,
          1.7442097245840453,
          -0.0036365894935921177,
          0.17281064819322214,
          -1.2842345938521373,
          -0.506345654645536,
          -0.43091162707806646,
          1.1853624428668346,
          -3.1216739467160153,
          0.43299214538367903,
          0.9823282463590076,
          2.270402751815886,
          -0.47263942194793396,
          0.16280788159858686,
          0.09568079540827396,
          1.1669931990656088,
          -2.3092196902683297,
          2.0827138012665234,
          -0.26880283902381874,
          -1.2276413092518934,
          -0.7339637697832766,
          0.6968311613498204,
          1.5355628964780008,
          0.49749693355338165,
          -0.40409724385363394,
          0.3083357506741469,
          1.848721632599871,
          -0.0446936908403161,
          -0.26433334071337966,
          0.1953842633348469,
          -1.1362001491464475,
          0.6712801638602481,
          0.9576979110412213,
          -0.479125572170368,
          -1.5373156996494297,
          0.27109870789348856,
          0.9378384375538716,
          -2.406666204954208,
          -0.08954480847836736,
          -0.6470898246933072,
          2.9443019830464365,
          -2.037513948514156,
          0.1806385873965099,
          -1.080464784497386,
          1.7820079392010284,
          0.5140421108964746,
          -1.2549993493188758,
          -0.646523454911459,
          -1.1249740119929252,
          -0.8566653486501583,
          0.1511998594250729,
          -1.2866759756231816,
          -1.3766092189242123,
          1.2785265828432977,
          0.8924353047446206,
          -0.5370406117437267,
          1.1909404798167775,
          -0.8451917260587097,
          0.4043694958684816,
          1.0070160814145324,
          0.8228521657318734,
          1.5920703692250708,
          -0.050840055032874885,
          -0.9996636209676186,
          0.2430773040003743,
          -0.5497237646320158,
          0.009601139745188657,
          -1.699679646016356,
          1.124294738054296,
          -0.32329063382813006,
          -0.7319725517594322,
          2.3170185090886757,
          0.514832883962882,
          0.8746435877706621,
          -0.5995511688956983,
          2.36080730769183,
          -0.6751410866329487,
          -0.527321881565861,
          0.7434288023476594,
          -0.1698672439701285,
          -0.9732611341232884,
          -0.9916290600779799,
          -0.6160790007788443,
          -0.12866162720554317,
          1.1398598488237508,
          0.5805601556088553,
          -0.49876668681272535
         ]
        },
        {
         "mode": "markers",
         "type": "scatter",
         "x": [
          -5,
          -4.898989898989899,
          -4.797979797979798,
          -4.696969696969697,
          -4.595959595959596,
          -4.494949494949495,
          -4.393939393939394,
          -4.292929292929293,
          -4.191919191919192,
          -4.090909090909091,
          -3.9898989898989896,
          -3.888888888888889,
          -3.787878787878788,
          -3.686868686868687,
          -3.5858585858585856,
          -3.484848484848485,
          -3.383838383838384,
          -3.282828282828283,
          -3.1818181818181817,
          -3.080808080808081,
          -2.9797979797979797,
          -2.878787878787879,
          -2.7777777777777777,
          -2.676767676767677,
          -2.5757575757575757,
          -2.474747474747475,
          -2.3737373737373737,
          -2.272727272727273,
          -2.1717171717171717,
          -2.070707070707071,
          -1.9696969696969697,
          -1.868686868686869,
          -1.7676767676767677,
          -1.6666666666666665,
          -1.5656565656565657,
          -1.4646464646464645,
          -1.3636363636363638,
          -1.2626262626262625,
          -1.1616161616161618,
          -1.0606060606060606,
          -0.9595959595959593,
          -0.858585858585859,
          -0.7575757575757578,
          -0.6565656565656566,
          -0.5555555555555554,
          -0.45454545454545503,
          -0.3535353535353538,
          -0.2525252525252526,
          -0.15151515151515138,
          -0.050505050505050164,
          0.050505050505050164,
          0.15151515151515138,
          0.2525252525252526,
          0.3535353535353538,
          0.45454545454545414,
          0.5555555555555554,
          0.6565656565656566,
          0.7575757575757578,
          0.8585858585858581,
          0.9595959595959593,
          1.0606060606060606,
          1.1616161616161618,
          1.262626262626262,
          1.3636363636363633,
          1.4646464646464645,
          1.5656565656565657,
          1.666666666666667,
          1.7676767676767673,
          1.8686868686868685,
          1.9696969696969697,
          2.070707070707071,
          2.1717171717171713,
          2.2727272727272725,
          2.3737373737373737,
          2.474747474747475,
          2.5757575757575752,
          2.6767676767676765,
          2.7777777777777777,
          2.878787878787879,
          2.9797979797979792,
          3.0808080808080813,
          3.1818181818181817,
          3.282828282828282,
          3.383838383838384,
          3.4848484848484844,
          3.5858585858585865,
          3.686868686868687,
          3.787878787878787,
          3.8888888888888893,
          3.9898989898989896,
          4.09090909090909,
          4.191919191919192,
          4.292929292929292,
          4.3939393939393945,
          4.494949494949495,
          4.595959595959595,
          4.696969696969697,
          4.797979797979798,
          4.8989898989899,
          5
         ],
         "y": [
          -5,
          -5,
          -5,
          -5,
          -5,
          -5,
          -5,
          -5,
          -5,
          -5,
          -5,
          -5,
          -5,
          -5,
          -5,
          -5,
          -5,
          -5,
          -4.856844531644218,
          -4.7026589909571,
          -4.548473450269982,
          -4.394287909582864,
          -4.240102368895746,
          -4.085916828208628,
          -3.9317312875215094,
          -3.7775457468343916,
          -3.623360206147274,
          -3.469174665460156,
          -3.314989124773038,
          -3.1608035840859197,
          -3.006618043398802,
          -2.8524325027116837,
          -2.698246962024565,
          -2.5440614213374473,
          -2.3898758806503295,
          -2.2356903399632113,
          -2.081504799276094,
          -1.9273192585889753,
          -1.7731337179018578,
          -1.6189481772147392,
          -1.464762636527621,
          -1.3105770958405039,
          -1.1563915551533857,
          -1.002206014466267,
          -0.8480204737791489,
          -0.6938349330920318,
          -0.5396493924049135,
          -0.3854638517177952,
          -0.2312783110306768,
          -0.0770927703435585,
          0.0770927703435585,
          0.2312783110306768,
          0.3854638517177952,
          0.5396493924049135,
          0.6938349330920305,
          0.8480204737791489,
          1.002206014466267,
          1.1563915551533857,
          1.3105770958405025,
          1.464762636527621,
          1.6189481772147392,
          1.7731337179018578,
          1.9273192585889745,
          2.081504799276093,
          2.2356903399632113,
          2.3898758806503295,
          2.544061421337448,
          2.698246962024565,
          2.8524325027116832,
          3.006618043398802,
          3.1608035840859197,
          3.3149891247730374,
          3.469174665460155,
          3.623360206147274,
          3.7775457468343916,
          3.9317312875215094,
          4.085916828208627,
          4.240102368895746,
          4.394287909582864,
          4.548473450269981,
          4.702658990957101,
          4.856844531644218,
          5,
          5,
          5,
          5,
          5,
          5,
          5,
          5,
          5,
          5,
          5,
          5,
          5,
          5,
          5,
          5,
          5,
          5
         ]
        },
        {
         "mode": "markers",
         "type": "scatter",
         "x": [
          -5,
          -4.898989898989899,
          -4.797979797979798,
          -4.696969696969697,
          -4.595959595959596,
          -4.494949494949495,
          -4.393939393939394,
          -4.292929292929293,
          -4.191919191919192,
          -4.090909090909091,
          -3.9898989898989896,
          -3.888888888888889,
          -3.787878787878788,
          -3.686868686868687,
          -3.5858585858585856,
          -3.484848484848485,
          -3.383838383838384,
          -3.282828282828283,
          -3.1818181818181817,
          -3.080808080808081,
          -2.9797979797979797,
          -2.878787878787879,
          -2.7777777777777777,
          -2.676767676767677,
          -2.5757575757575757,
          -2.474747474747475,
          -2.3737373737373737,
          -2.272727272727273,
          -2.1717171717171717,
          -2.070707070707071,
          -1.9696969696969697,
          -1.868686868686869,
          -1.7676767676767677,
          -1.6666666666666665,
          -1.5656565656565657,
          -1.4646464646464645,
          -1.3636363636363638,
          -1.2626262626262625,
          -1.1616161616161618,
          -1.0606060606060606,
          -0.9595959595959593,
          -0.858585858585859,
          -0.7575757575757578,
          -0.6565656565656566,
          -0.5555555555555554,
          -0.45454545454545503,
          -0.3535353535353538,
          -0.2525252525252526,
          -0.15151515151515138,
          -0.050505050505050164,
          0.050505050505050164,
          0.15151515151515138,
          0.2525252525252526,
          0.3535353535353538,
          0.45454545454545414,
          0.5555555555555554,
          0.6565656565656566,
          0.7575757575757578,
          0.8585858585858581,
          0.9595959595959593,
          1.0606060606060606,
          1.1616161616161618,
          1.262626262626262,
          1.3636363636363633,
          1.4646464646464645,
          1.5656565656565657,
          1.666666666666667,
          1.7676767676767673,
          1.8686868686868685,
          1.9696969696969697,
          2.070707070707071,
          2.1717171717171713,
          2.2727272727272725,
          2.3737373737373737,
          2.474747474747475,
          2.5757575757575752,
          2.6767676767676765,
          2.7777777777777777,
          2.878787878787879,
          2.9797979797979792,
          3.0808080808080813,
          3.1818181818181817,
          3.282828282828282,
          3.383838383838384,
          3.4848484848484844,
          3.5858585858585865,
          3.686868686868687,
          3.787878787878787,
          3.8888888888888893,
          3.9898989898989896,
          4.09090909090909,
          4.191919191919192,
          4.292929292929292,
          4.3939393939393945,
          4.494949494949495,
          4.595959595959595,
          4.696969696969697,
          4.797979797979798,
          4.8989898989899,
          5
         ],
         "y": [
          -5,
          -5,
          -5,
          -5,
          -5,
          -5,
          -5,
          -5,
          -5,
          -5,
          -5,
          -5,
          -5,
          -5,
          -5,
          -5,
          -5,
          -5,
          -5,
          -5,
          -5,
          -5,
          -5,
          -5,
          -5,
          -5,
          -5,
          -5,
          -4.986603569267241,
          -4.754668519533881,
          -4.522733469800521,
          -4.29079842006716,
          -4.058863370333801,
          -3.8269283206004396,
          -3.5949932708670795,
          -3.36305822113372,
          -3.1311231714003602,
          -2.8991881216669997,
          -2.667253071933641,
          -2.43531802220028,
          -2.20338297246692,
          -1.9714479227335613,
          -1.7395128730002007,
          -1.5075778232668398,
          -1.2756427735334797,
          -1.0437077238001211,
          -0.8117726740667607,
          -0.5798376243334002,
          -0.3479025746000397,
          -0.1159675248666792,
          0.1159675248666792,
          0.3479025746000397,
          0.5798376243334002,
          0.8117726740667607,
          1.0437077238001191,
          1.2756427735334797,
          1.5075778232668398,
          1.7395128730002007,
          1.9714479227335588,
          2.20338297246692,
          2.43531802220028,
          2.667253071933641,
          2.899188121666999,
          3.1311231714003593,
          3.36305822113372,
          3.5949932708670795,
          3.826928320600441,
          4.058863370333799,
          4.29079842006716,
          4.522733469800521,
          4.754668519533881,
          4.98660356926724,
          5,
          5,
          5,
          5,
          5,
          5,
          5,
          5,
          5,
          5,
          5,
          5,
          5,
          5,
          5,
          5,
          5,
          5,
          5,
          5,
          5,
          5,
          5,
          5,
          5,
          5,
          5,
          5
         ]
        }
       ],
       "layout": {
        "template": {
         "data": {
          "bar": [
           {
            "error_x": {
             "color": "#2a3f5f"
            },
            "error_y": {
             "color": "#2a3f5f"
            },
            "marker": {
             "line": {
              "color": "#E5ECF6",
              "width": 0.5
             }
            },
            "type": "bar"
           }
          ],
          "barpolar": [
           {
            "marker": {
             "line": {
              "color": "#E5ECF6",
              "width": 0.5
             }
            },
            "type": "barpolar"
           }
          ],
          "carpet": [
           {
            "aaxis": {
             "endlinecolor": "#2a3f5f",
             "gridcolor": "white",
             "linecolor": "white",
             "minorgridcolor": "white",
             "startlinecolor": "#2a3f5f"
            },
            "baxis": {
             "endlinecolor": "#2a3f5f",
             "gridcolor": "white",
             "linecolor": "white",
             "minorgridcolor": "white",
             "startlinecolor": "#2a3f5f"
            },
            "type": "carpet"
           }
          ],
          "choropleth": [
           {
            "colorbar": {
             "outlinewidth": 0,
             "ticks": ""
            },
            "type": "choropleth"
           }
          ],
          "contour": [
           {
            "colorbar": {
             "outlinewidth": 0,
             "ticks": ""
            },
            "colorscale": [
             [
              0,
              "#0d0887"
             ],
             [
              0.1111111111111111,
              "#46039f"
             ],
             [
              0.2222222222222222,
              "#7201a8"
             ],
             [
              0.3333333333333333,
              "#9c179e"
             ],
             [
              0.4444444444444444,
              "#bd3786"
             ],
             [
              0.5555555555555556,
              "#d8576b"
             ],
             [
              0.6666666666666666,
              "#ed7953"
             ],
             [
              0.7777777777777778,
              "#fb9f3a"
             ],
             [
              0.8888888888888888,
              "#fdca26"
             ],
             [
              1,
              "#f0f921"
             ]
            ],
            "type": "contour"
           }
          ],
          "contourcarpet": [
           {
            "colorbar": {
             "outlinewidth": 0,
             "ticks": ""
            },
            "type": "contourcarpet"
           }
          ],
          "heatmap": [
           {
            "colorbar": {
             "outlinewidth": 0,
             "ticks": ""
            },
            "colorscale": [
             [
              0,
              "#0d0887"
             ],
             [
              0.1111111111111111,
              "#46039f"
             ],
             [
              0.2222222222222222,
              "#7201a8"
             ],
             [
              0.3333333333333333,
              "#9c179e"
             ],
             [
              0.4444444444444444,
              "#bd3786"
             ],
             [
              0.5555555555555556,
              "#d8576b"
             ],
             [
              0.6666666666666666,
              "#ed7953"
             ],
             [
              0.7777777777777778,
              "#fb9f3a"
             ],
             [
              0.8888888888888888,
              "#fdca26"
             ],
             [
              1,
              "#f0f921"
             ]
            ],
            "type": "heatmap"
           }
          ],
          "heatmapgl": [
           {
            "colorbar": {
             "outlinewidth": 0,
             "ticks": ""
            },
            "colorscale": [
             [
              0,
              "#0d0887"
             ],
             [
              0.1111111111111111,
              "#46039f"
             ],
             [
              0.2222222222222222,
              "#7201a8"
             ],
             [
              0.3333333333333333,
              "#9c179e"
             ],
             [
              0.4444444444444444,
              "#bd3786"
             ],
             [
              0.5555555555555556,
              "#d8576b"
             ],
             [
              0.6666666666666666,
              "#ed7953"
             ],
             [
              0.7777777777777778,
              "#fb9f3a"
             ],
             [
              0.8888888888888888,
              "#fdca26"
             ],
             [
              1,
              "#f0f921"
             ]
            ],
            "type": "heatmapgl"
           }
          ],
          "histogram": [
           {
            "marker": {
             "colorbar": {
              "outlinewidth": 0,
              "ticks": ""
             }
            },
            "type": "histogram"
           }
          ],
          "histogram2d": [
           {
            "colorbar": {
             "outlinewidth": 0,
             "ticks": ""
            },
            "colorscale": [
             [
              0,
              "#0d0887"
             ],
             [
              0.1111111111111111,
              "#46039f"
             ],
             [
              0.2222222222222222,
              "#7201a8"
             ],
             [
              0.3333333333333333,
              "#9c179e"
             ],
             [
              0.4444444444444444,
              "#bd3786"
             ],
             [
              0.5555555555555556,
              "#d8576b"
             ],
             [
              0.6666666666666666,
              "#ed7953"
             ],
             [
              0.7777777777777778,
              "#fb9f3a"
             ],
             [
              0.8888888888888888,
              "#fdca26"
             ],
             [
              1,
              "#f0f921"
             ]
            ],
            "type": "histogram2d"
           }
          ],
          "histogram2dcontour": [
           {
            "colorbar": {
             "outlinewidth": 0,
             "ticks": ""
            },
            "colorscale": [
             [
              0,
              "#0d0887"
             ],
             [
              0.1111111111111111,
              "#46039f"
             ],
             [
              0.2222222222222222,
              "#7201a8"
             ],
             [
              0.3333333333333333,
              "#9c179e"
             ],
             [
              0.4444444444444444,
              "#bd3786"
             ],
             [
              0.5555555555555556,
              "#d8576b"
             ],
             [
              0.6666666666666666,
              "#ed7953"
             ],
             [
              0.7777777777777778,
              "#fb9f3a"
             ],
             [
              0.8888888888888888,
              "#fdca26"
             ],
             [
              1,
              "#f0f921"
             ]
            ],
            "type": "histogram2dcontour"
           }
          ],
          "mesh3d": [
           {
            "colorbar": {
             "outlinewidth": 0,
             "ticks": ""
            },
            "type": "mesh3d"
           }
          ],
          "parcoords": [
           {
            "line": {
             "colorbar": {
              "outlinewidth": 0,
              "ticks": ""
             }
            },
            "type": "parcoords"
           }
          ],
          "pie": [
           {
            "automargin": true,
            "type": "pie"
           }
          ],
          "scatter": [
           {
            "marker": {
             "colorbar": {
              "outlinewidth": 0,
              "ticks": ""
             }
            },
            "type": "scatter"
           }
          ],
          "scatter3d": [
           {
            "line": {
             "colorbar": {
              "outlinewidth": 0,
              "ticks": ""
             }
            },
            "marker": {
             "colorbar": {
              "outlinewidth": 0,
              "ticks": ""
             }
            },
            "type": "scatter3d"
           }
          ],
          "scattercarpet": [
           {
            "marker": {
             "colorbar": {
              "outlinewidth": 0,
              "ticks": ""
             }
            },
            "type": "scattercarpet"
           }
          ],
          "scattergeo": [
           {
            "marker": {
             "colorbar": {
              "outlinewidth": 0,
              "ticks": ""
             }
            },
            "type": "scattergeo"
           }
          ],
          "scattergl": [
           {
            "marker": {
             "colorbar": {
              "outlinewidth": 0,
              "ticks": ""
             }
            },
            "type": "scattergl"
           }
          ],
          "scattermapbox": [
           {
            "marker": {
             "colorbar": {
              "outlinewidth": 0,
              "ticks": ""
             }
            },
            "type": "scattermapbox"
           }
          ],
          "scatterpolar": [
           {
            "marker": {
             "colorbar": {
              "outlinewidth": 0,
              "ticks": ""
             }
            },
            "type": "scatterpolar"
           }
          ],
          "scatterpolargl": [
           {
            "marker": {
             "colorbar": {
              "outlinewidth": 0,
              "ticks": ""
             }
            },
            "type": "scatterpolargl"
           }
          ],
          "scatterternary": [
           {
            "marker": {
             "colorbar": {
              "outlinewidth": 0,
              "ticks": ""
             }
            },
            "type": "scatterternary"
           }
          ],
          "surface": [
           {
            "colorbar": {
             "outlinewidth": 0,
             "ticks": ""
            },
            "colorscale": [
             [
              0,
              "#0d0887"
             ],
             [
              0.1111111111111111,
              "#46039f"
             ],
             [
              0.2222222222222222,
              "#7201a8"
             ],
             [
              0.3333333333333333,
              "#9c179e"
             ],
             [
              0.4444444444444444,
              "#bd3786"
             ],
             [
              0.5555555555555556,
              "#d8576b"
             ],
             [
              0.6666666666666666,
              "#ed7953"
             ],
             [
              0.7777777777777778,
              "#fb9f3a"
             ],
             [
              0.8888888888888888,
              "#fdca26"
             ],
             [
              1,
              "#f0f921"
             ]
            ],
            "type": "surface"
           }
          ],
          "table": [
           {
            "cells": {
             "fill": {
              "color": "#EBF0F8"
             },
             "line": {
              "color": "white"
             }
            },
            "header": {
             "fill": {
              "color": "#C8D4E3"
             },
             "line": {
              "color": "white"
             }
            },
            "type": "table"
           }
          ]
         },
         "layout": {
          "annotationdefaults": {
           "arrowcolor": "#2a3f5f",
           "arrowhead": 0,
           "arrowwidth": 1
          },
          "coloraxis": {
           "colorbar": {
            "outlinewidth": 0,
            "ticks": ""
           }
          },
          "colorscale": {
           "diverging": [
            [
             0,
             "#8e0152"
            ],
            [
             0.1,
             "#c51b7d"
            ],
            [
             0.2,
             "#de77ae"
            ],
            [
             0.3,
             "#f1b6da"
            ],
            [
             0.4,
             "#fde0ef"
            ],
            [
             0.5,
             "#f7f7f7"
            ],
            [
             0.6,
             "#e6f5d0"
            ],
            [
             0.7,
             "#b8e186"
            ],
            [
             0.8,
             "#7fbc41"
            ],
            [
             0.9,
             "#4d9221"
            ],
            [
             1,
             "#276419"
            ]
           ],
           "sequential": [
            [
             0,
             "#0d0887"
            ],
            [
             0.1111111111111111,
             "#46039f"
            ],
            [
             0.2222222222222222,
             "#7201a8"
            ],
            [
             0.3333333333333333,
             "#9c179e"
            ],
            [
             0.4444444444444444,
             "#bd3786"
            ],
            [
             0.5555555555555556,
             "#d8576b"
            ],
            [
             0.6666666666666666,
             "#ed7953"
            ],
            [
             0.7777777777777778,
             "#fb9f3a"
            ],
            [
             0.8888888888888888,
             "#fdca26"
            ],
            [
             1,
             "#f0f921"
            ]
           ],
           "sequentialminus": [
            [
             0,
             "#0d0887"
            ],
            [
             0.1111111111111111,
             "#46039f"
            ],
            [
             0.2222222222222222,
             "#7201a8"
            ],
            [
             0.3333333333333333,
             "#9c179e"
            ],
            [
             0.4444444444444444,
             "#bd3786"
            ],
            [
             0.5555555555555556,
             "#d8576b"
            ],
            [
             0.6666666666666666,
             "#ed7953"
            ],
            [
             0.7777777777777778,
             "#fb9f3a"
            ],
            [
             0.8888888888888888,
             "#fdca26"
            ],
            [
             1,
             "#f0f921"
            ]
           ]
          },
          "colorway": [
           "#636efa",
           "#EF553B",
           "#00cc96",
           "#ab63fa",
           "#FFA15A",
           "#19d3f3",
           "#FF6692",
           "#B6E880",
           "#FF97FF",
           "#FECB52"
          ],
          "font": {
           "color": "#2a3f5f"
          },
          "geo": {
           "bgcolor": "white",
           "lakecolor": "white",
           "landcolor": "#E5ECF6",
           "showlakes": true,
           "showland": true,
           "subunitcolor": "white"
          },
          "hoverlabel": {
           "align": "left"
          },
          "hovermode": "closest",
          "mapbox": {
           "style": "light"
          },
          "paper_bgcolor": "white",
          "plot_bgcolor": "#E5ECF6",
          "polar": {
           "angularaxis": {
            "gridcolor": "white",
            "linecolor": "white",
            "ticks": ""
           },
           "bgcolor": "#E5ECF6",
           "radialaxis": {
            "gridcolor": "white",
            "linecolor": "white",
            "ticks": ""
           }
          },
          "scene": {
           "xaxis": {
            "backgroundcolor": "#E5ECF6",
            "gridcolor": "white",
            "gridwidth": 2,
            "linecolor": "white",
            "showbackground": true,
            "ticks": "",
            "zerolinecolor": "white"
           },
           "yaxis": {
            "backgroundcolor": "#E5ECF6",
            "gridcolor": "white",
            "gridwidth": 2,
            "linecolor": "white",
            "showbackground": true,
            "ticks": "",
            "zerolinecolor": "white"
           },
           "zaxis": {
            "backgroundcolor": "#E5ECF6",
            "gridcolor": "white",
            "gridwidth": 2,
            "linecolor": "white",
            "showbackground": true,
            "ticks": "",
            "zerolinecolor": "white"
           }
          },
          "shapedefaults": {
           "line": {
            "color": "#2a3f5f"
           }
          },
          "ternary": {
           "aaxis": {
            "gridcolor": "white",
            "linecolor": "white",
            "ticks": ""
           },
           "baxis": {
            "gridcolor": "white",
            "linecolor": "white",
            "ticks": ""
           },
           "bgcolor": "#E5ECF6",
           "caxis": {
            "gridcolor": "white",
            "linecolor": "white",
            "ticks": ""
           }
          },
          "title": {
           "x": 0.05
          },
          "xaxis": {
           "automargin": true,
           "gridcolor": "white",
           "linecolor": "white",
           "ticks": "",
           "title": {
            "standoff": 15
           },
           "zerolinecolor": "white",
           "zerolinewidth": 2
          },
          "yaxis": {
           "automargin": true,
           "gridcolor": "white",
           "linecolor": "white",
           "ticks": "",
           "title": {
            "standoff": 15
           },
           "zerolinecolor": "white",
           "zerolinewidth": 2
          }
         }
        }
       }
      }
     },
     "metadata": {}
    }
   ],
   "source": [
    "N = 100\n",
    "(A, B) = multivariate(N, [-3,0], [3,0], 1, 1)\n",
    "\n",
    "fig = go.Figure()\n",
    "fig.add_trace(go.Scatter(x=A[:,0], y=A[:,1], mode=\"markers\"))\n",
    "fig.add_trace(go.Scatter(x=B[:,0], y=B[:,1], mode=\"markers\"))\n",
    "\n",
    "model, mae = perceptron_learning(features, targets, 10, epoch, eta)\n",
    "model2, mae2 = perceptron_learning(features, targets, 10, epoch, eta, True)\n",
    "\n",
    "plot_boundary(fig, model.W)\n",
    "mae_fig = ex.line(x=np.arange(len(mae)), y=mae)\n",
    "mae_fig.show()\n",
    "fig.show()\n",
    "\n",
    "plot_boundary(fig, model2.W)\n",
    "mae_fig = ex.line(x=np.arange(len(mae2)), y=mae)\n",
    "mae_fig.show()\n",
    "fig.show()\n",
    "\n"
   ]
  },
  {
   "cell_type": "markdown",
   "metadata": {},
   "source": [
    "# Sequential mode vs batch mode"
   ]
  },
  {
   "cell_type": "code",
   "execution_count": 37,
   "metadata": {},
   "outputs": [
    {
     "output_type": "display_data",
     "data": {
      "application/vnd.plotly.v1+json": {
       "config": {
        "plotlyServerURL": "https://plot.ly"
       },
       "data": [
        {
         "mode": "markers",
         "type": "scatter",
         "x": [
          -1.5992039037036887,
          -3.43682443252813,
          -4.550364457670452,
          -1.7814464229232585,
          -4.054799523324705,
          -3.7112818005119403,
          -4.315358701818811,
          -2.697404764988555,
          -3.642596833743981,
          -3.7671561946912457,
          -3.090683390224882,
          -1.6903829077096388,
          -3.1723280972673296,
          -3.9463717562109863,
          -3.034720326709828,
          -3.3179708628409346,
          -4.200596208946237,
          -2.1616944582544177,
          -3.0061676421451207,
          -1.0791393302167862,
          -2.2169674323367112,
          -5.2082605703176945,
          -0.5573187591722806,
          -3.401549974101366,
          -4.007607925511609,
          -4.132529786216256,
          -1.1194320035701633,
          -3.726930679249075,
          -2.8536166527470024,
          -4.095348328824725,
          -3.4852374258621337,
          -1.316859632733598,
          -5.649966953346334,
          -2.227595185593187,
          -3.0486119450792413,
          -2.7528195622183937,
          -0.9324080894898548,
          -4.391261292145702,
          -3.1534649222654867,
          -3.741645233669168,
          -4.019064542333332,
          -0.9072626156087762,
          -4.179048405458233,
          -4.756404908369052,
          -4.278284975644673,
          -4.241180357808696,
          -2.7530772166416897,
          -4.567126192463995,
          -3.0118663242540817,
          -2.4292357953061363,
          -3.5624692342497197,
          -2.6551439481626087,
          -4.191285297197197,
          -2.8367061445315906,
          -1.8569033525091143,
          -4.353411923148731,
          -1.9131853671948713,
          -3.8356040581854196,
          -0.7887802231069898,
          -3.587892325931886,
          -1.7800140758548868,
          -1.4514051415986162,
          -3.8577421988715725,
          -4.598879238713773,
          -3.992074767147808,
          -3.425154206547358,
          -4.214596900274433,
          -3.902457945497945,
          -2.8120760530294366,
          -3.4074296793638412,
          -2.9405389719886545,
          -4.4558048893567115,
          -2.28642243180583,
          -3.302041819806954,
          -1.740094067831099,
          -2.1465453776733354,
          -3.862366407938414,
          -2.0038649319151234,
          -0.6848369633213784,
          -3.611270132987987,
          -1.9860032168138737,
          -3.4797827763371716,
          -1.9498157768989717,
          -2.471255663756496,
          -1.8231438081417797,
          -4.167356502764145,
          -4.518682234806166,
          -3.0467352696277707,
          -2.584164268632018,
          -2.810172337526139,
          -1.5717964954746293,
          -2.7865221730508036,
          -4.09506813285358,
          -3.8918223210133256,
          -4.091204062961317,
          -2.767347072715335,
          -1.6590023471905169,
          -3.0718695229564825,
          -2.8751104545229142,
          -0.9876684873708541
         ],
         "y": [
          0.6894689672351579,
          -0.726413373665909,
          -1.1907180367728287,
          -1.868023966489268,
          -0.5748540476974063,
          0.08977964931114259,
          1.315323497916882,
          -0.01937890783165168,
          -0.2220193079309169,
          -0.07641254069654241,
          -0.1096697532647965,
          -0.24336087404656973,
          -1.5382804313562992,
          -0.9733967317590199,
          -0.06213390234184467,
          -0.06899964666578576,
          0.46345318128114665,
          -0.4072903858826792,
          0.911654211020998,
          0.8642795524266743,
          0.6198597978760418,
          0.1221396508310233,
          2.0005155655218765,
          -0.9388242240873454,
          -1.4124518322957293,
          1.4416012326462624,
          -0.361822388324398,
          0.46345389037874846,
          0.2730359219632908,
          0.6950840653133071,
          0.6382176708193008,
          -1.2372658147104796,
          -1.1444797978888315,
          -1.0139650716510533,
          0.15715142360231138,
          -0.6052399777413228,
          0.3457828082737302,
          -0.15116138229467038,
          0.23107107881619765,
          -0.0911022369461,
          -0.9775606439606854,
          -0.10017815691340597,
          2.2156196920997018,
          -1.4640574962882476,
          -1.0878024758946097,
          -0.18761442752792803,
          0.6902569700640111,
          0.9579893535505404,
          -1.5114957180042665,
          -1.3473333078157719,
          0.5998435644197677,
          -2.855385999815681,
          -1.1303739576961274,
          -1.2168853389367522,
          0.19683444058496735,
          -1.1844765699310746,
          0.7489254809370423,
          1.2419396046411506,
          0.4470993820441329,
          -0.38387884339076683,
          0.02376428916739348,
          2.3618830415471095,
          -0.09117399779538254,
          2.130587747832176,
          0.5009772149147472,
          -0.03617200857747308,
          1.2710466247607266,
          -1.639537194671121,
          -0.4306076969693216,
          -0.3176964279570005,
          0.19045867009152737,
          1.8644370021483023,
          0.160680455750584,
          -0.018244970947817973,
          1.4652815981221463,
          -1.2743754773014093,
          0.641193819090779,
          1.5941166263097963,
          1.1515776743342325,
          1.3858062952386025,
          0.1574599834982027,
          1.125099784139,
          -0.7050691414862158,
          -0.011766616806618863,
          -0.9077721771787617,
          -1.159493214915177,
          0.5013036940225826,
          0.9008789551704149,
          -1.9843616138144922,
          0.3644908669974073,
          1.3786786428086881,
          -1.221345163367383,
          -0.25281038297117386,
          0.47885839221619053,
          -1.0576281473651343,
          -0.5356776119764562,
          -0.3367444508627934,
          -0.0895740208404651,
          -0.14425793316723365,
          0.4470196160681926
         ]
        },
        {
         "mode": "markers",
         "type": "scatter",
         "x": [
          1.3185794774736788,
          2.3557773097031514,
          2.586722013436184,
          2.31405694111461,
          3.270273978356266,
          2.387089504073879,
          3.1786068734485915,
          2.2025341196538797,
          1.5828313827631915,
          2.7966659752251637,
          2.589460643835035,
          2.0095576455871162,
          3.361115964343637,
          2.62933435897837,
          2.0818917771769057,
          2.78546178437814,
          3.4464223191193932,
          2.476952263325047,
          2.9213837847528414,
          2.6520697688318187,
          2.7449673758382485,
          3.3907341406735103,
          3.248826107313026,
          3.770012251062097,
          3.888573164573887,
          3.712945823547605,
          2.1514264625620547,
          3.9533334275299667,
          1.2981719898099138,
          3.724626624228826,
          3.246826576665583,
          3.950695108224859,
          6.752923007849727,
          3.415913379350262,
          3.4623861319986213,
          5.113905014464313,
          3.128753712286771,
          2.02404714846185,
          2.486019266802871,
          1.511836594464241,
          2.2371166487364578,
          3.5377434790762363,
          1.693578487274445,
          2.579773739293614,
          3.8007971959714135,
          4.179326572116317,
          3.5456197314409654,
          2.9020146420628996,
          3.0412271904404777,
          4.303463192165937,
          2.896761233927494,
          2.7281329237770513,
          3.494392025259134,
          1.386339058114951,
          2.9904218316940514,
          5.275161305998591,
          1.6161351459534088,
          4.009887817612422,
          4.02478081514237,
          6.148406377373288,
          1.4088081490544329,
          4.148716813418401,
          3.100191738844114,
          3.211629193747084,
          2.2358690024075094,
          1.804988808380115,
          3.7999133129366793,
          4.339175159345771,
          3.0044239814458473,
          2.475581065683328,
          2.9709089602857346,
          2.3189443732366564,
          2.767400085050493,
          4.349586580987997,
          3.939578254059376,
          3.944702473303361,
          2.3244877733057914,
          4.0384332335043265,
          3.045879243108791,
          3.764394350465181,
          2.720839106774151,
          3.0615768679416475,
          2.700568043864775,
          3.5116826103714525,
          2.7087035550990453,
          3.8472535119421662,
          3.1670411214528063,
          2.094236636816565,
          3.5688026080405475,
          3.6967887195432882,
          1.5057992529138056,
          3.6526881558099054,
          3.6225366465824815,
          4.8112063534175595,
          3.2930144501138865,
          3.1692589328365974,
          2.4935300578089206,
          3.731536030822155,
          4.690924090525721,
          4.28337523823982
         ],
         "y": [
          0.43511631897898106,
          0.4550438746151805,
          -1.691714015949392,
          -0.30588447384493744,
          -0.7086037587739686,
          0.2664742355197431,
          -0.3873137926215545,
          -0.5047466883032878,
          0.804023498764461,
          1.1593058970810213,
          -0.1399875350611255,
          0.23342425962766522,
          0.6977188016220642,
          -0.6298669491539115,
          -0.8631873816487242,
          -0.6312885710940449,
          -2.044383473751292,
          0.9520764117787166,
          0.42221077217841396,
          -0.8152114074214272,
          -0.22375828912862686,
          -1.0106410777009323,
          -0.7272270263232116,
          0.8538719477426642,
          -0.994496270319421,
          1.3093321247136007,
          0.3739956376206581,
          0.5730095886744726,
          -0.9296916565151174,
          0.5893749111925709,
          1.1175584282397941,
          -0.4418292951019543,
          -0.5839593266909001,
          0.6999457212092006,
          1.6192479932172485,
          -1.8315785554527888,
          0.6496233651940085,
          -2.9291676221201692,
          0.9405998034900935,
          0.3346400727798368,
          -0.5480545904054331,
          0.8583407286442374,
          -0.3780722111390571,
          -0.04618834790164568,
          -1.5164131589392467,
          0.3411457518710775,
          0.42981618290527,
          0.18381032948899376,
          0.2413484724779867,
          -0.8314821409859189,
          -0.6794805718174978,
          0.0238338122207861,
          -0.3300006118532988,
          -0.6183202790295641,
          0.37927017983675065,
          -0.5016943501793252,
          1.2852382824532798,
          -0.25962959518317175,
          -1.76009355560411,
          1.5819426945271966,
          -0.9075018634847914,
          -0.8400375896475015,
          -0.17719751428408723,
          0.9743650327210819,
          -1.1346163684489248,
          1.2160228791034606,
          -1.6700125109056154,
          0.15975203403636326,
          1.9279322556687681,
          0.6570057367950225,
          0.20179406579351544,
          0.27029530376959443,
          -0.12105683797188752,
          -0.3401732591017898,
          -0.5181119844836557,
          0.8624340246790152,
          0.37495212658832994,
          -0.0031377612108245473,
          -1.6238138273893439,
          -0.196422994041838,
          -0.59212117965647,
          0.026235783205718437,
          1.5047229550679675,
          0.2880959557252192,
          0.10517717974253751,
          -0.05202747657664394,
          0.9721228301554186,
          -0.9692750232797918,
          0.535809289776712,
          0.1382878308200729,
          -0.3806131862937281,
          0.09732168967209982,
          1.6730539727329155,
          -0.533375048232006,
          -0.41494317169017014,
          1.2797068870846415,
          0.7698604319689061,
          -0.7071367718361846,
          1.1762235132500902,
          0.5252228987328617
         ]
        },
        {
         "mode": "markers",
         "type": "scatter",
         "x": [
          -5,
          -4.898989898989899,
          -4.797979797979798,
          -4.696969696969697,
          -4.595959595959596,
          -4.494949494949495,
          -4.393939393939394,
          -4.292929292929293,
          -4.191919191919192,
          -4.090909090909091,
          -3.9898989898989896,
          -3.888888888888889,
          -3.787878787878788,
          -3.686868686868687,
          -3.5858585858585856,
          -3.484848484848485,
          -3.383838383838384,
          -3.282828282828283,
          -3.1818181818181817,
          -3.080808080808081,
          -2.9797979797979797,
          -2.878787878787879,
          -2.7777777777777777,
          -2.676767676767677,
          -2.5757575757575757,
          -2.474747474747475,
          -2.3737373737373737,
          -2.272727272727273,
          -2.1717171717171717,
          -2.070707070707071,
          -1.9696969696969697,
          -1.868686868686869,
          -1.7676767676767677,
          -1.6666666666666665,
          -1.5656565656565657,
          -1.4646464646464645,
          -1.3636363636363638,
          -1.2626262626262625,
          -1.1616161616161618,
          -1.0606060606060606,
          -0.9595959595959593,
          -0.858585858585859,
          -0.7575757575757578,
          -0.6565656565656566,
          -0.5555555555555554,
          -0.45454545454545503,
          -0.3535353535353538,
          -0.2525252525252526,
          -0.15151515151515138,
          -0.050505050505050164,
          0.050505050505050164,
          0.15151515151515138,
          0.2525252525252526,
          0.3535353535353538,
          0.45454545454545414,
          0.5555555555555554,
          0.6565656565656566,
          0.7575757575757578,
          0.8585858585858581,
          0.9595959595959593,
          1.0606060606060606,
          1.1616161616161618,
          1.262626262626262,
          1.3636363636363633,
          1.4646464646464645,
          1.5656565656565657,
          1.666666666666667,
          1.7676767676767673,
          1.8686868686868685,
          1.9696969696969697,
          2.070707070707071,
          2.1717171717171713,
          2.2727272727272725,
          2.3737373737373737,
          2.474747474747475,
          2.5757575757575752,
          2.6767676767676765,
          2.7777777777777777,
          2.878787878787879,
          2.9797979797979792,
          3.0808080808080813,
          3.1818181818181817,
          3.282828282828282,
          3.383838383838384,
          3.4848484848484844,
          3.5858585858585865,
          3.686868686868687,
          3.787878787878787,
          3.8888888888888893,
          3.9898989898989896,
          4.09090909090909,
          4.191919191919192,
          4.292929292929292,
          4.3939393939393945,
          4.494949494949495,
          4.595959595959595,
          4.696969696969697,
          4.797979797979798,
          4.8989898989899,
          5
         ],
         "y": [
          -5,
          -5,
          -5,
          -5,
          -5,
          -5,
          -5,
          -5,
          -5,
          -5,
          -5,
          -5,
          -5,
          -5,
          -5,
          -5,
          -5,
          -5,
          -5,
          -5,
          -5,
          -5,
          -5,
          -5,
          -5,
          -5,
          -5,
          -5,
          -5,
          -5,
          -5,
          -5,
          -5,
          -5,
          -5,
          -5,
          -5,
          -5,
          -5,
          -5,
          -5,
          -5,
          -5,
          -5,
          -5,
          -4.156911671722158,
          -3.233153522450566,
          -2.3093953731789743,
          -1.385637223907383,
          -0.4618790746357917,
          0.4618790746357917,
          1.385637223907383,
          2.3093953731789743,
          3.233153522450566,
          4.15691167172215,
          5,
          5,
          5,
          5,
          5,
          5,
          5,
          5,
          5,
          5,
          5,
          5,
          5,
          5,
          5,
          5,
          5,
          5,
          5,
          5,
          5,
          5,
          5,
          5,
          5,
          5,
          5,
          5,
          5,
          5,
          5,
          5,
          5,
          5,
          5,
          5,
          5,
          5,
          5,
          5,
          5,
          5,
          5,
          5,
          5
         ]
        },
        {
         "mode": "markers",
         "type": "scatter",
         "x": [
          -5,
          -4.898989898989899,
          -4.797979797979798,
          -4.696969696969697,
          -4.595959595959596,
          -4.494949494949495,
          -4.393939393939394,
          -4.292929292929293,
          -4.191919191919192,
          -4.090909090909091,
          -3.9898989898989896,
          -3.888888888888889,
          -3.787878787878788,
          -3.686868686868687,
          -3.5858585858585856,
          -3.484848484848485,
          -3.383838383838384,
          -3.282828282828283,
          -3.1818181818181817,
          -3.080808080808081,
          -2.9797979797979797,
          -2.878787878787879,
          -2.7777777777777777,
          -2.676767676767677,
          -2.5757575757575757,
          -2.474747474747475,
          -2.3737373737373737,
          -2.272727272727273,
          -2.1717171717171717,
          -2.070707070707071,
          -1.9696969696969697,
          -1.868686868686869,
          -1.7676767676767677,
          -1.6666666666666665,
          -1.5656565656565657,
          -1.4646464646464645,
          -1.3636363636363638,
          -1.2626262626262625,
          -1.1616161616161618,
          -1.0606060606060606,
          -0.9595959595959593,
          -0.858585858585859,
          -0.7575757575757578,
          -0.6565656565656566,
          -0.5555555555555554,
          -0.45454545454545503,
          -0.3535353535353538,
          -0.2525252525252526,
          -0.15151515151515138,
          -0.050505050505050164,
          0.050505050505050164,
          0.15151515151515138,
          0.2525252525252526,
          0.3535353535353538,
          0.45454545454545414,
          0.5555555555555554,
          0.6565656565656566,
          0.7575757575757578,
          0.8585858585858581,
          0.9595959595959593,
          1.0606060606060606,
          1.1616161616161618,
          1.262626262626262,
          1.3636363636363633,
          1.4646464646464645,
          1.5656565656565657,
          1.666666666666667,
          1.7676767676767673,
          1.8686868686868685,
          1.9696969696969697,
          2.070707070707071,
          2.1717171717171713,
          2.2727272727272725,
          2.3737373737373737,
          2.474747474747475,
          2.5757575757575752,
          2.6767676767676765,
          2.7777777777777777,
          2.878787878787879,
          2.9797979797979792,
          3.0808080808080813,
          3.1818181818181817,
          3.282828282828282,
          3.383838383838384,
          3.4848484848484844,
          3.5858585858585865,
          3.686868686868687,
          3.787878787878787,
          3.8888888888888893,
          3.9898989898989896,
          4.09090909090909,
          4.191919191919192,
          4.292929292929292,
          4.3939393939393945,
          4.494949494949495,
          4.595959595959595,
          4.696969696969697,
          4.797979797979798,
          4.8989898989899,
          5
         ],
         "y": [
          -5,
          -5,
          -5,
          -5,
          -5,
          -5,
          -5,
          -5,
          -5,
          -5,
          -5,
          -5,
          -5,
          -5,
          -5,
          -5,
          -5,
          -5,
          -5,
          -5,
          -5,
          -5,
          -5,
          -5,
          -5,
          -5,
          -5,
          -5,
          -5,
          -5,
          -5,
          -5,
          -5,
          -5,
          -5,
          -5,
          -5,
          -5,
          -5,
          -5,
          -5,
          -4.526707490214154,
          -3.9941536678360174,
          -3.4615998454578807,
          -2.9290460230797444,
          -2.396492200701612,
          -1.8639383783234758,
          -1.331384555945339,
          -0.7988307335672026,
          -0.26627691118906593,
          0.26627691118906593,
          0.7988307335672026,
          1.331384555945339,
          1.8639383783234758,
          2.3964922007016076,
          2.9290460230797444,
          3.4615998454578807,
          3.9941536678360174,
          4.526707490214149,
          5,
          5,
          5,
          5,
          5,
          5,
          5,
          5,
          5,
          5,
          5,
          5,
          5,
          5,
          5,
          5,
          5,
          5,
          5,
          5,
          5,
          5,
          5,
          5,
          5,
          5,
          5,
          5,
          5,
          5,
          5,
          5,
          5,
          5,
          5,
          5,
          5,
          5,
          5,
          5,
          5
         ]
        }
       ],
       "layout": {
        "template": {
         "data": {
          "bar": [
           {
            "error_x": {
             "color": "#2a3f5f"
            },
            "error_y": {
             "color": "#2a3f5f"
            },
            "marker": {
             "line": {
              "color": "#E5ECF6",
              "width": 0.5
             }
            },
            "type": "bar"
           }
          ],
          "barpolar": [
           {
            "marker": {
             "line": {
              "color": "#E5ECF6",
              "width": 0.5
             }
            },
            "type": "barpolar"
           }
          ],
          "carpet": [
           {
            "aaxis": {
             "endlinecolor": "#2a3f5f",
             "gridcolor": "white",
             "linecolor": "white",
             "minorgridcolor": "white",
             "startlinecolor": "#2a3f5f"
            },
            "baxis": {
             "endlinecolor": "#2a3f5f",
             "gridcolor": "white",
             "linecolor": "white",
             "minorgridcolor": "white",
             "startlinecolor": "#2a3f5f"
            },
            "type": "carpet"
           }
          ],
          "choropleth": [
           {
            "colorbar": {
             "outlinewidth": 0,
             "ticks": ""
            },
            "type": "choropleth"
           }
          ],
          "contour": [
           {
            "colorbar": {
             "outlinewidth": 0,
             "ticks": ""
            },
            "colorscale": [
             [
              0,
              "#0d0887"
             ],
             [
              0.1111111111111111,
              "#46039f"
             ],
             [
              0.2222222222222222,
              "#7201a8"
             ],
             [
              0.3333333333333333,
              "#9c179e"
             ],
             [
              0.4444444444444444,
              "#bd3786"
             ],
             [
              0.5555555555555556,
              "#d8576b"
             ],
             [
              0.6666666666666666,
              "#ed7953"
             ],
             [
              0.7777777777777778,
              "#fb9f3a"
             ],
             [
              0.8888888888888888,
              "#fdca26"
             ],
             [
              1,
              "#f0f921"
             ]
            ],
            "type": "contour"
           }
          ],
          "contourcarpet": [
           {
            "colorbar": {
             "outlinewidth": 0,
             "ticks": ""
            },
            "type": "contourcarpet"
           }
          ],
          "heatmap": [
           {
            "colorbar": {
             "outlinewidth": 0,
             "ticks": ""
            },
            "colorscale": [
             [
              0,
              "#0d0887"
             ],
             [
              0.1111111111111111,
              "#46039f"
             ],
             [
              0.2222222222222222,
              "#7201a8"
             ],
             [
              0.3333333333333333,
              "#9c179e"
             ],
             [
              0.4444444444444444,
              "#bd3786"
             ],
             [
              0.5555555555555556,
              "#d8576b"
             ],
             [
              0.6666666666666666,
              "#ed7953"
             ],
             [
              0.7777777777777778,
              "#fb9f3a"
             ],
             [
              0.8888888888888888,
              "#fdca26"
             ],
             [
              1,
              "#f0f921"
             ]
            ],
            "type": "heatmap"
           }
          ],
          "heatmapgl": [
           {
            "colorbar": {
             "outlinewidth": 0,
             "ticks": ""
            },
            "colorscale": [
             [
              0,
              "#0d0887"
             ],
             [
              0.1111111111111111,
              "#46039f"
             ],
             [
              0.2222222222222222,
              "#7201a8"
             ],
             [
              0.3333333333333333,
              "#9c179e"
             ],
             [
              0.4444444444444444,
              "#bd3786"
             ],
             [
              0.5555555555555556,
              "#d8576b"
             ],
             [
              0.6666666666666666,
              "#ed7953"
             ],
             [
              0.7777777777777778,
              "#fb9f3a"
             ],
             [
              0.8888888888888888,
              "#fdca26"
             ],
             [
              1,
              "#f0f921"
             ]
            ],
            "type": "heatmapgl"
           }
          ],
          "histogram": [
           {
            "marker": {
             "colorbar": {
              "outlinewidth": 0,
              "ticks": ""
             }
            },
            "type": "histogram"
           }
          ],
          "histogram2d": [
           {
            "colorbar": {
             "outlinewidth": 0,
             "ticks": ""
            },
            "colorscale": [
             [
              0,
              "#0d0887"
             ],
             [
              0.1111111111111111,
              "#46039f"
             ],
             [
              0.2222222222222222,
              "#7201a8"
             ],
             [
              0.3333333333333333,
              "#9c179e"
             ],
             [
              0.4444444444444444,
              "#bd3786"
             ],
             [
              0.5555555555555556,
              "#d8576b"
             ],
             [
              0.6666666666666666,
              "#ed7953"
             ],
             [
              0.7777777777777778,
              "#fb9f3a"
             ],
             [
              0.8888888888888888,
              "#fdca26"
             ],
             [
              1,
              "#f0f921"
             ]
            ],
            "type": "histogram2d"
           }
          ],
          "histogram2dcontour": [
           {
            "colorbar": {
             "outlinewidth": 0,
             "ticks": ""
            },
            "colorscale": [
             [
              0,
              "#0d0887"
             ],
             [
              0.1111111111111111,
              "#46039f"
             ],
             [
              0.2222222222222222,
              "#7201a8"
             ],
             [
              0.3333333333333333,
              "#9c179e"
             ],
             [
              0.4444444444444444,
              "#bd3786"
             ],
             [
              0.5555555555555556,
              "#d8576b"
             ],
             [
              0.6666666666666666,
              "#ed7953"
             ],
             [
              0.7777777777777778,
              "#fb9f3a"
             ],
             [
              0.8888888888888888,
              "#fdca26"
             ],
             [
              1,
              "#f0f921"
             ]
            ],
            "type": "histogram2dcontour"
           }
          ],
          "mesh3d": [
           {
            "colorbar": {
             "outlinewidth": 0,
             "ticks": ""
            },
            "type": "mesh3d"
           }
          ],
          "parcoords": [
           {
            "line": {
             "colorbar": {
              "outlinewidth": 0,
              "ticks": ""
             }
            },
            "type": "parcoords"
           }
          ],
          "pie": [
           {
            "automargin": true,
            "type": "pie"
           }
          ],
          "scatter": [
           {
            "marker": {
             "colorbar": {
              "outlinewidth": 0,
              "ticks": ""
             }
            },
            "type": "scatter"
           }
          ],
          "scatter3d": [
           {
            "line": {
             "colorbar": {
              "outlinewidth": 0,
              "ticks": ""
             }
            },
            "marker": {
             "colorbar": {
              "outlinewidth": 0,
              "ticks": ""
             }
            },
            "type": "scatter3d"
           }
          ],
          "scattercarpet": [
           {
            "marker": {
             "colorbar": {
              "outlinewidth": 0,
              "ticks": ""
             }
            },
            "type": "scattercarpet"
           }
          ],
          "scattergeo": [
           {
            "marker": {
             "colorbar": {
              "outlinewidth": 0,
              "ticks": ""
             }
            },
            "type": "scattergeo"
           }
          ],
          "scattergl": [
           {
            "marker": {
             "colorbar": {
              "outlinewidth": 0,
              "ticks": ""
             }
            },
            "type": "scattergl"
           }
          ],
          "scattermapbox": [
           {
            "marker": {
             "colorbar": {
              "outlinewidth": 0,
              "ticks": ""
             }
            },
            "type": "scattermapbox"
           }
          ],
          "scatterpolar": [
           {
            "marker": {
             "colorbar": {
              "outlinewidth": 0,
              "ticks": ""
             }
            },
            "type": "scatterpolar"
           }
          ],
          "scatterpolargl": [
           {
            "marker": {
             "colorbar": {
              "outlinewidth": 0,
              "ticks": ""
             }
            },
            "type": "scatterpolargl"
           }
          ],
          "scatterternary": [
           {
            "marker": {
             "colorbar": {
              "outlinewidth": 0,
              "ticks": ""
             }
            },
            "type": "scatterternary"
           }
          ],
          "surface": [
           {
            "colorbar": {
             "outlinewidth": 0,
             "ticks": ""
            },
            "colorscale": [
             [
              0,
              "#0d0887"
             ],
             [
              0.1111111111111111,
              "#46039f"
             ],
             [
              0.2222222222222222,
              "#7201a8"
             ],
             [
              0.3333333333333333,
              "#9c179e"
             ],
             [
              0.4444444444444444,
              "#bd3786"
             ],
             [
              0.5555555555555556,
              "#d8576b"
             ],
             [
              0.6666666666666666,
              "#ed7953"
             ],
             [
              0.7777777777777778,
              "#fb9f3a"
             ],
             [
              0.8888888888888888,
              "#fdca26"
             ],
             [
              1,
              "#f0f921"
             ]
            ],
            "type": "surface"
           }
          ],
          "table": [
           {
            "cells": {
             "fill": {
              "color": "#EBF0F8"
             },
             "line": {
              "color": "white"
             }
            },
            "header": {
             "fill": {
              "color": "#C8D4E3"
             },
             "line": {
              "color": "white"
             }
            },
            "type": "table"
           }
          ]
         },
         "layout": {
          "annotationdefaults": {
           "arrowcolor": "#2a3f5f",
           "arrowhead": 0,
           "arrowwidth": 1
          },
          "coloraxis": {
           "colorbar": {
            "outlinewidth": 0,
            "ticks": ""
           }
          },
          "colorscale": {
           "diverging": [
            [
             0,
             "#8e0152"
            ],
            [
             0.1,
             "#c51b7d"
            ],
            [
             0.2,
             "#de77ae"
            ],
            [
             0.3,
             "#f1b6da"
            ],
            [
             0.4,
             "#fde0ef"
            ],
            [
             0.5,
             "#f7f7f7"
            ],
            [
             0.6,
             "#e6f5d0"
            ],
            [
             0.7,
             "#b8e186"
            ],
            [
             0.8,
             "#7fbc41"
            ],
            [
             0.9,
             "#4d9221"
            ],
            [
             1,
             "#276419"
            ]
           ],
           "sequential": [
            [
             0,
             "#0d0887"
            ],
            [
             0.1111111111111111,
             "#46039f"
            ],
            [
             0.2222222222222222,
             "#7201a8"
            ],
            [
             0.3333333333333333,
             "#9c179e"
            ],
            [
             0.4444444444444444,
             "#bd3786"
            ],
            [
             0.5555555555555556,
             "#d8576b"
            ],
            [
             0.6666666666666666,
             "#ed7953"
            ],
            [
             0.7777777777777778,
             "#fb9f3a"
            ],
            [
             0.8888888888888888,
             "#fdca26"
            ],
            [
             1,
             "#f0f921"
            ]
           ],
           "sequentialminus": [
            [
             0,
             "#0d0887"
            ],
            [
             0.1111111111111111,
             "#46039f"
            ],
            [
             0.2222222222222222,
             "#7201a8"
            ],
            [
             0.3333333333333333,
             "#9c179e"
            ],
            [
             0.4444444444444444,
             "#bd3786"
            ],
            [
             0.5555555555555556,
             "#d8576b"
            ],
            [
             0.6666666666666666,
             "#ed7953"
            ],
            [
             0.7777777777777778,
             "#fb9f3a"
            ],
            [
             0.8888888888888888,
             "#fdca26"
            ],
            [
             1,
             "#f0f921"
            ]
           ]
          },
          "colorway": [
           "#636efa",
           "#EF553B",
           "#00cc96",
           "#ab63fa",
           "#FFA15A",
           "#19d3f3",
           "#FF6692",
           "#B6E880",
           "#FF97FF",
           "#FECB52"
          ],
          "font": {
           "color": "#2a3f5f"
          },
          "geo": {
           "bgcolor": "white",
           "lakecolor": "white",
           "landcolor": "#E5ECF6",
           "showlakes": true,
           "showland": true,
           "subunitcolor": "white"
          },
          "hoverlabel": {
           "align": "left"
          },
          "hovermode": "closest",
          "mapbox": {
           "style": "light"
          },
          "paper_bgcolor": "white",
          "plot_bgcolor": "#E5ECF6",
          "polar": {
           "angularaxis": {
            "gridcolor": "white",
            "linecolor": "white",
            "ticks": ""
           },
           "bgcolor": "#E5ECF6",
           "radialaxis": {
            "gridcolor": "white",
            "linecolor": "white",
            "ticks": ""
           }
          },
          "scene": {
           "xaxis": {
            "backgroundcolor": "#E5ECF6",
            "gridcolor": "white",
            "gridwidth": 2,
            "linecolor": "white",
            "showbackground": true,
            "ticks": "",
            "zerolinecolor": "white"
           },
           "yaxis": {
            "backgroundcolor": "#E5ECF6",
            "gridcolor": "white",
            "gridwidth": 2,
            "linecolor": "white",
            "showbackground": true,
            "ticks": "",
            "zerolinecolor": "white"
           },
           "zaxis": {
            "backgroundcolor": "#E5ECF6",
            "gridcolor": "white",
            "gridwidth": 2,
            "linecolor": "white",
            "showbackground": true,
            "ticks": "",
            "zerolinecolor": "white"
           }
          },
          "shapedefaults": {
           "line": {
            "color": "#2a3f5f"
           }
          },
          "ternary": {
           "aaxis": {
            "gridcolor": "white",
            "linecolor": "white",
            "ticks": ""
           },
           "baxis": {
            "gridcolor": "white",
            "linecolor": "white",
            "ticks": ""
           },
           "bgcolor": "#E5ECF6",
           "caxis": {
            "gridcolor": "white",
            "linecolor": "white",
            "ticks": ""
           }
          },
          "title": {
           "x": 0.05
          },
          "xaxis": {
           "automargin": true,
           "gridcolor": "white",
           "linecolor": "white",
           "ticks": "",
           "title": {
            "standoff": 15
           },
           "zerolinecolor": "white",
           "zerolinewidth": 2
          },
          "yaxis": {
           "automargin": true,
           "gridcolor": "white",
           "linecolor": "white",
           "ticks": "",
           "title": {
            "standoff": 15
           },
           "zerolinecolor": "white",
           "zerolinewidth": 2
          }
         }
        }
       }
      }
     },
     "metadata": {}
    },
    {
     "output_type": "display_data",
     "data": {
      "application/vnd.plotly.v1+json": {
       "config": {
        "plotlyServerURL": "https://plot.ly"
       },
       "data": [
        {
         "name": "Sequential",
         "type": "scatter",
         "x": [
          0,
          1,
          2,
          3,
          4,
          5,
          6,
          7,
          8,
          9,
          10,
          11,
          12,
          13,
          14,
          15,
          16,
          17,
          18,
          19,
          20,
          21,
          22,
          23,
          24,
          25,
          26,
          27,
          28,
          29
         ],
         "y": [
          0.5393812676431184,
          0.46147757487075763,
          0.4024808479542373,
          0.36000285110247104,
          0.33283867245091414,
          0.3134970400874264,
          0.29904494533081993,
          0.2899559294847783,
          0.28396853209763123,
          0.2798181392195262,
          0.2771553331696785,
          0.27537623124000843,
          0.27415639533350666,
          0.2733274407324496,
          0.2727676157802818,
          0.27247462789303273,
          0.2722406933412151,
          0.2720506552758168,
          0.27189627181688963,
          0.27177084865883594,
          0.2716982126080723,
          0.27164656166962575,
          0.27161110115303594,
          0.2715854873032271,
          0.2715744487535546,
          0.27156870605130384,
          0.27156833699700406,
          0.2715678234178363,
          0.2715671968643854,
          0.27156648287187013
         ]
        },
        {
         "name": "Batch",
         "type": "scatter",
         "x": [
          0,
          1,
          2,
          3,
          4,
          5,
          6,
          7,
          8,
          9,
          10,
          11,
          12,
          13,
          14,
          15,
          16,
          17,
          18,
          19,
          20,
          21,
          22,
          23,
          24,
          25,
          26,
          27,
          28,
          29
         ],
         "y": [
          0.9033076639694968,
          0.7195798244939485,
          0.5832514444347252,
          0.4845017292622353,
          0.416124357764292,
          0.3677374142392027,
          0.3344166251304324,
          0.31187359912449275,
          0.2972087215106918,
          0.28843894664339986,
          0.28284955525094824,
          0.279522013184528,
          0.2773657261109593,
          0.27587338010104023,
          0.274841462512699,
          0.27406008718867186,
          0.27351211911350415,
          0.2731168271678074,
          0.2727983088653791,
          0.2725631570994809,
          0.2724057097989529,
          0.27228944080347545,
          0.2722181705099878,
          0.27217553960263724,
          0.27214950913060904,
          0.27214464457482374,
          0.2721383006507149,
          0.2721308366785511,
          0.2721225362282495,
          0.2721136228832547
         ]
        }
       ],
       "layout": {
        "template": {
         "data": {
          "bar": [
           {
            "error_x": {
             "color": "#2a3f5f"
            },
            "error_y": {
             "color": "#2a3f5f"
            },
            "marker": {
             "line": {
              "color": "#E5ECF6",
              "width": 0.5
             }
            },
            "type": "bar"
           }
          ],
          "barpolar": [
           {
            "marker": {
             "line": {
              "color": "#E5ECF6",
              "width": 0.5
             }
            },
            "type": "barpolar"
           }
          ],
          "carpet": [
           {
            "aaxis": {
             "endlinecolor": "#2a3f5f",
             "gridcolor": "white",
             "linecolor": "white",
             "minorgridcolor": "white",
             "startlinecolor": "#2a3f5f"
            },
            "baxis": {
             "endlinecolor": "#2a3f5f",
             "gridcolor": "white",
             "linecolor": "white",
             "minorgridcolor": "white",
             "startlinecolor": "#2a3f5f"
            },
            "type": "carpet"
           }
          ],
          "choropleth": [
           {
            "colorbar": {
             "outlinewidth": 0,
             "ticks": ""
            },
            "type": "choropleth"
           }
          ],
          "contour": [
           {
            "colorbar": {
             "outlinewidth": 0,
             "ticks": ""
            },
            "colorscale": [
             [
              0,
              "#0d0887"
             ],
             [
              0.1111111111111111,
              "#46039f"
             ],
             [
              0.2222222222222222,
              "#7201a8"
             ],
             [
              0.3333333333333333,
              "#9c179e"
             ],
             [
              0.4444444444444444,
              "#bd3786"
             ],
             [
              0.5555555555555556,
              "#d8576b"
             ],
             [
              0.6666666666666666,
              "#ed7953"
             ],
             [
              0.7777777777777778,
              "#fb9f3a"
             ],
             [
              0.8888888888888888,
              "#fdca26"
             ],
             [
              1,
              "#f0f921"
             ]
            ],
            "type": "contour"
           }
          ],
          "contourcarpet": [
           {
            "colorbar": {
             "outlinewidth": 0,
             "ticks": ""
            },
            "type": "contourcarpet"
           }
          ],
          "heatmap": [
           {
            "colorbar": {
             "outlinewidth": 0,
             "ticks": ""
            },
            "colorscale": [
             [
              0,
              "#0d0887"
             ],
             [
              0.1111111111111111,
              "#46039f"
             ],
             [
              0.2222222222222222,
              "#7201a8"
             ],
             [
              0.3333333333333333,
              "#9c179e"
             ],
             [
              0.4444444444444444,
              "#bd3786"
             ],
             [
              0.5555555555555556,
              "#d8576b"
             ],
             [
              0.6666666666666666,
              "#ed7953"
             ],
             [
              0.7777777777777778,
              "#fb9f3a"
             ],
             [
              0.8888888888888888,
              "#fdca26"
             ],
             [
              1,
              "#f0f921"
             ]
            ],
            "type": "heatmap"
           }
          ],
          "heatmapgl": [
           {
            "colorbar": {
             "outlinewidth": 0,
             "ticks": ""
            },
            "colorscale": [
             [
              0,
              "#0d0887"
             ],
             [
              0.1111111111111111,
              "#46039f"
             ],
             [
              0.2222222222222222,
              "#7201a8"
             ],
             [
              0.3333333333333333,
              "#9c179e"
             ],
             [
              0.4444444444444444,
              "#bd3786"
             ],
             [
              0.5555555555555556,
              "#d8576b"
             ],
             [
              0.6666666666666666,
              "#ed7953"
             ],
             [
              0.7777777777777778,
              "#fb9f3a"
             ],
             [
              0.8888888888888888,
              "#fdca26"
             ],
             [
              1,
              "#f0f921"
             ]
            ],
            "type": "heatmapgl"
           }
          ],
          "histogram": [
           {
            "marker": {
             "colorbar": {
              "outlinewidth": 0,
              "ticks": ""
             }
            },
            "type": "histogram"
           }
          ],
          "histogram2d": [
           {
            "colorbar": {
             "outlinewidth": 0,
             "ticks": ""
            },
            "colorscale": [
             [
              0,
              "#0d0887"
             ],
             [
              0.1111111111111111,
              "#46039f"
             ],
             [
              0.2222222222222222,
              "#7201a8"
             ],
             [
              0.3333333333333333,
              "#9c179e"
             ],
             [
              0.4444444444444444,
              "#bd3786"
             ],
             [
              0.5555555555555556,
              "#d8576b"
             ],
             [
              0.6666666666666666,
              "#ed7953"
             ],
             [
              0.7777777777777778,
              "#fb9f3a"
             ],
             [
              0.8888888888888888,
              "#fdca26"
             ],
             [
              1,
              "#f0f921"
             ]
            ],
            "type": "histogram2d"
           }
          ],
          "histogram2dcontour": [
           {
            "colorbar": {
             "outlinewidth": 0,
             "ticks": ""
            },
            "colorscale": [
             [
              0,
              "#0d0887"
             ],
             [
              0.1111111111111111,
              "#46039f"
             ],
             [
              0.2222222222222222,
              "#7201a8"
             ],
             [
              0.3333333333333333,
              "#9c179e"
             ],
             [
              0.4444444444444444,
              "#bd3786"
             ],
             [
              0.5555555555555556,
              "#d8576b"
             ],
             [
              0.6666666666666666,
              "#ed7953"
             ],
             [
              0.7777777777777778,
              "#fb9f3a"
             ],
             [
              0.8888888888888888,
              "#fdca26"
             ],
             [
              1,
              "#f0f921"
             ]
            ],
            "type": "histogram2dcontour"
           }
          ],
          "mesh3d": [
           {
            "colorbar": {
             "outlinewidth": 0,
             "ticks": ""
            },
            "type": "mesh3d"
           }
          ],
          "parcoords": [
           {
            "line": {
             "colorbar": {
              "outlinewidth": 0,
              "ticks": ""
             }
            },
            "type": "parcoords"
           }
          ],
          "pie": [
           {
            "automargin": true,
            "type": "pie"
           }
          ],
          "scatter": [
           {
            "marker": {
             "colorbar": {
              "outlinewidth": 0,
              "ticks": ""
             }
            },
            "type": "scatter"
           }
          ],
          "scatter3d": [
           {
            "line": {
             "colorbar": {
              "outlinewidth": 0,
              "ticks": ""
             }
            },
            "marker": {
             "colorbar": {
              "outlinewidth": 0,
              "ticks": ""
             }
            },
            "type": "scatter3d"
           }
          ],
          "scattercarpet": [
           {
            "marker": {
             "colorbar": {
              "outlinewidth": 0,
              "ticks": ""
             }
            },
            "type": "scattercarpet"
           }
          ],
          "scattergeo": [
           {
            "marker": {
             "colorbar": {
              "outlinewidth": 0,
              "ticks": ""
             }
            },
            "type": "scattergeo"
           }
          ],
          "scattergl": [
           {
            "marker": {
             "colorbar": {
              "outlinewidth": 0,
              "ticks": ""
             }
            },
            "type": "scattergl"
           }
          ],
          "scattermapbox": [
           {
            "marker": {
             "colorbar": {
              "outlinewidth": 0,
              "ticks": ""
             }
            },
            "type": "scattermapbox"
           }
          ],
          "scatterpolar": [
           {
            "marker": {
             "colorbar": {
              "outlinewidth": 0,
              "ticks": ""
             }
            },
            "type": "scatterpolar"
           }
          ],
          "scatterpolargl": [
           {
            "marker": {
             "colorbar": {
              "outlinewidth": 0,
              "ticks": ""
             }
            },
            "type": "scatterpolargl"
           }
          ],
          "scatterternary": [
           {
            "marker": {
             "colorbar": {
              "outlinewidth": 0,
              "ticks": ""
             }
            },
            "type": "scatterternary"
           }
          ],
          "surface": [
           {
            "colorbar": {
             "outlinewidth": 0,
             "ticks": ""
            },
            "colorscale": [
             [
              0,
              "#0d0887"
             ],
             [
              0.1111111111111111,
              "#46039f"
             ],
             [
              0.2222222222222222,
              "#7201a8"
             ],
             [
              0.3333333333333333,
              "#9c179e"
             ],
             [
              0.4444444444444444,
              "#bd3786"
             ],
             [
              0.5555555555555556,
              "#d8576b"
             ],
             [
              0.6666666666666666,
              "#ed7953"
             ],
             [
              0.7777777777777778,
              "#fb9f3a"
             ],
             [
              0.8888888888888888,
              "#fdca26"
             ],
             [
              1,
              "#f0f921"
             ]
            ],
            "type": "surface"
           }
          ],
          "table": [
           {
            "cells": {
             "fill": {
              "color": "#EBF0F8"
             },
             "line": {
              "color": "white"
             }
            },
            "header": {
             "fill": {
              "color": "#C8D4E3"
             },
             "line": {
              "color": "white"
             }
            },
            "type": "table"
           }
          ]
         },
         "layout": {
          "annotationdefaults": {
           "arrowcolor": "#2a3f5f",
           "arrowhead": 0,
           "arrowwidth": 1
          },
          "coloraxis": {
           "colorbar": {
            "outlinewidth": 0,
            "ticks": ""
           }
          },
          "colorscale": {
           "diverging": [
            [
             0,
             "#8e0152"
            ],
            [
             0.1,
             "#c51b7d"
            ],
            [
             0.2,
             "#de77ae"
            ],
            [
             0.3,
             "#f1b6da"
            ],
            [
             0.4,
             "#fde0ef"
            ],
            [
             0.5,
             "#f7f7f7"
            ],
            [
             0.6,
             "#e6f5d0"
            ],
            [
             0.7,
             "#b8e186"
            ],
            [
             0.8,
             "#7fbc41"
            ],
            [
             0.9,
             "#4d9221"
            ],
            [
             1,
             "#276419"
            ]
           ],
           "sequential": [
            [
             0,
             "#0d0887"
            ],
            [
             0.1111111111111111,
             "#46039f"
            ],
            [
             0.2222222222222222,
             "#7201a8"
            ],
            [
             0.3333333333333333,
             "#9c179e"
            ],
            [
             0.4444444444444444,
             "#bd3786"
            ],
            [
             0.5555555555555556,
             "#d8576b"
            ],
            [
             0.6666666666666666,
             "#ed7953"
            ],
            [
             0.7777777777777778,
             "#fb9f3a"
            ],
            [
             0.8888888888888888,
             "#fdca26"
            ],
            [
             1,
             "#f0f921"
            ]
           ],
           "sequentialminus": [
            [
             0,
             "#0d0887"
            ],
            [
             0.1111111111111111,
             "#46039f"
            ],
            [
             0.2222222222222222,
             "#7201a8"
            ],
            [
             0.3333333333333333,
             "#9c179e"
            ],
            [
             0.4444444444444444,
             "#bd3786"
            ],
            [
             0.5555555555555556,
             "#d8576b"
            ],
            [
             0.6666666666666666,
             "#ed7953"
            ],
            [
             0.7777777777777778,
             "#fb9f3a"
            ],
            [
             0.8888888888888888,
             "#fdca26"
            ],
            [
             1,
             "#f0f921"
            ]
           ]
          },
          "colorway": [
           "#636efa",
           "#EF553B",
           "#00cc96",
           "#ab63fa",
           "#FFA15A",
           "#19d3f3",
           "#FF6692",
           "#B6E880",
           "#FF97FF",
           "#FECB52"
          ],
          "font": {
           "color": "#2a3f5f"
          },
          "geo": {
           "bgcolor": "white",
           "lakecolor": "white",
           "landcolor": "#E5ECF6",
           "showlakes": true,
           "showland": true,
           "subunitcolor": "white"
          },
          "hoverlabel": {
           "align": "left"
          },
          "hovermode": "closest",
          "mapbox": {
           "style": "light"
          },
          "paper_bgcolor": "white",
          "plot_bgcolor": "#E5ECF6",
          "polar": {
           "angularaxis": {
            "gridcolor": "white",
            "linecolor": "white",
            "ticks": ""
           },
           "bgcolor": "#E5ECF6",
           "radialaxis": {
            "gridcolor": "white",
            "linecolor": "white",
            "ticks": ""
           }
          },
          "scene": {
           "xaxis": {
            "backgroundcolor": "#E5ECF6",
            "gridcolor": "white",
            "gridwidth": 2,
            "linecolor": "white",
            "showbackground": true,
            "ticks": "",
            "zerolinecolor": "white"
           },
           "yaxis": {
            "backgroundcolor": "#E5ECF6",
            "gridcolor": "white",
            "gridwidth": 2,
            "linecolor": "white",
            "showbackground": true,
            "ticks": "",
            "zerolinecolor": "white"
           },
           "zaxis": {
            "backgroundcolor": "#E5ECF6",
            "gridcolor": "white",
            "gridwidth": 2,
            "linecolor": "white",
            "showbackground": true,
            "ticks": "",
            "zerolinecolor": "white"
           }
          },
          "shapedefaults": {
           "line": {
            "color": "#2a3f5f"
           }
          },
          "ternary": {
           "aaxis": {
            "gridcolor": "white",
            "linecolor": "white",
            "ticks": ""
           },
           "baxis": {
            "gridcolor": "white",
            "linecolor": "white",
            "ticks": ""
           },
           "bgcolor": "#E5ECF6",
           "caxis": {
            "gridcolor": "white",
            "linecolor": "white",
            "ticks": ""
           }
          },
          "title": {
           "x": 0.05
          },
          "xaxis": {
           "automargin": true,
           "gridcolor": "white",
           "linecolor": "white",
           "ticks": "",
           "title": {
            "standoff": 15
           },
           "zerolinecolor": "white",
           "zerolinewidth": 2
          },
          "yaxis": {
           "automargin": true,
           "gridcolor": "white",
           "linecolor": "white",
           "ticks": "",
           "title": {
            "standoff": 15
           },
           "zerolinecolor": "white",
           "zerolinewidth": 2
          }
         }
        }
       }
      }
     },
     "metadata": {}
    }
   ],
   "source": [
    "N = 100\n",
    "(A, B) = multivariate(N, [-3,0], [3,0], 1, 1)\n",
    "\n",
    "fig = go.Figure()\n",
    "fig.add_trace(go.Scatter(x=A[:,0], y=A[:,1], mode=\"markers\"))\n",
    "fig.add_trace(go.Scatter(x=B[:,0], y=B[:,1], mode=\"markers\"))\n",
    "\n",
    "w_seq = np.random.uniform(0,1,(2,1))\n",
    "w_batch = np.random.uniform(0,1,(2,1))\n",
    "\n",
    "epoch = 30\n",
    "eta = 1e-4\n",
    "\n",
    "mae_seq = []\n",
    "mae_batch = []\n",
    "\n",
    "for e in range(epoch):\n",
    "    for feat,targ in zip(features, targets):\n",
    "        w_seq += delta_rule(feat.reshape((1,2)), targ.reshape((1,1)), w_seq, eta)\n",
    "\n",
    "    w_batch += delta_rule(features, targets, w_batch, eta)\n",
    "\n",
    "    mae_seq.append(np.mean(np.abs(features@w_seq-targets)))\n",
    "    mae_batch.append(np.mean(np.abs(features@w_batch-targets)))\n",
    "\n",
    "plot_boundary(fig, w_seq.T)\n",
    "plot_boundary(fig, w_batch.T)\n",
    "\n",
    "fig.show()\n",
    "\n",
    "mae_fig = go.Figure()\n",
    "mae_fig.add_trace(go.Scatter(x=np.arange(len(mae_seq)), y=mae_seq, name=\"Sequential\"))\n",
    "mae_fig.add_trace(go.Scatter(x=np.arange(len(mae_batch)), y=mae_batch,name=\"Batch\"))\n",
    "mae_fig.show()"
   ]
  },
  {
   "cell_type": "markdown",
   "metadata": {},
   "source": [
    "# 3.1.3"
   ]
  },
  {
   "cell_type": "code",
   "execution_count": 42,
   "metadata": {
    "tags": []
   },
   "outputs": [
    {
     "output_type": "display_data",
     "data": {
      "application/vnd.plotly.v1+json": {
       "config": {
        "plotlyServerURL": "https://plot.ly"
       },
       "data": [
        {
         "mode": "markers",
         "type": "scatter",
         "x": [
          -0.5460346964867743,
          -0.8773826303517259,
          -2.0958417151585245,
          0.13860034337682725,
          -1.3709255538026421,
          0.018561376199790258,
          -2.1502004855994428,
          -1.2581993847747377,
          0.5836888527166955,
          -0.7378210013540015,
          0.00006914232624755101,
          -1.6625989183878072,
          -1.1462812122881023,
          -0.8326775866778556,
          -1.0485991016876792,
          -1.345580343411078,
          -2.7307607352972116,
          -1.1121271131312913,
          -1.8652338151152756,
          0.6982377654839236,
          -2.6238946971919788,
          -0.18717587735105823,
          -1.858988518616714,
          -0.2569299903864489,
          -1.8569303501963743,
          0.6481797196577881,
          -0.23521460124524174,
          -0.6118513840120766,
          -1.2343840163575075,
          -0.12748142427903653,
          -3.0087299914495054,
          -1.2023092742995312,
          -0.6802451959431041,
          -2.220544201651652,
          0.5099049743801625,
          -1.0643974041595152,
          -1.032264733701938,
          0.15893423192947975,
          -0.1608906300281151,
          -0.4151292031994728,
          -0.4848110322099618,
          -2.552557585387282,
          -2.2762442543649803,
          -0.38793692487878517,
          -0.6807118816915607,
          0.8602916202076982,
          -1.7842220097417494,
          -2.684968092430278,
          -2.317375257478099,
          -0.6466506122783923,
          -2.4202100401952604,
          0.2276681192955461,
          -2.6959895260181277,
          -1.5278277044334172,
          -1.4238900237942298,
          -0.4547007166815119,
          -2.6948227906316538,
          -0.6504405082304434,
          -0.10723531733394809,
          -1.639816249966167,
          -0.10733766419211577,
          0.9740574143002545,
          -0.3276893214841774,
          -0.3010644115093829,
          0.33071477838565766,
          -0.95199858193952,
          -1.3269709887237238,
          -0.49928869880204174,
          -0.37053274557129323,
          -0.9927388911289267,
          -1.586490707402581,
          -3.2523938385840485,
          0.1549302273984703,
          -1.048329067692683,
          -3.031382784726157,
          -1.230469586864979,
          -1.3057454936047115,
          -1.2741635561051659,
          -1.5702843735957686,
          -1.4129381657608677,
          -0.5177402052757465,
          -1.8441642230912074,
          -0.06861394446840352,
          -0.40948017410764237,
          -1.8431354024715114,
          -1.4221504468198012,
          -2.482528254143377,
          0.2123195185091964,
          -0.6313059974285333,
          -1.0289668131750553,
          -1.8675706010416109,
          -1.4731742264673802,
          -1.4632850804053026,
          -2.530167420784588,
          -1.3478115092291638,
          -1.5281314352865323,
          -2.709906067579656,
          -1.684673310663579,
          -2.5941354982625766,
          -0.8184690757271773
         ],
         "y": [
          0.39786356019478536,
          -0.19013952420816685,
          -0.3792759349222236,
          0.6118076190835326,
          1.6461537582877335,
          1.0548212765952607,
          0.13329956623787997,
          -0.16580575800645278,
          -0.2638602690246386,
          0.11618142487785535,
          -0.6557831004662811,
          -0.5190306163285339,
          -0.5534695686870644,
          -0.3103131521623283,
          0.6412237552623771,
          0.9743855347964873,
          -0.17691379452259476,
          -0.6056533008897652,
          0.3476443501656207,
          1.0599597540814942,
          -0.301048133466055,
          0.20503903551617583,
          -0.36441328061497075,
          -2.688595277736571,
          0.18107160630040706,
          -0.25815144506405563,
          -1.1675051088055581,
          0.36067832087035034,
          1.0158286587250145,
          -1.3318988572286103,
          -0.8116972587763863,
          -1.013780110780201,
          0.345895708675532,
          1.0909399057373048,
          -1.109134049836238,
          0.782425854623085,
          -0.9291024086218551,
          1.777669466110394,
          0.6943997857612074,
          0.38788721026029804,
          -0.4832014065506973,
          1.2347923642652014,
          0.6501617083497265,
          -0.3246886015931498,
          0.23293609164749318,
          -0.45369168375756674,
          -0.4768379794805267,
          -1.1087319963811852,
          -0.5399810360257764,
          1.0104495871723325,
          0.3162174400007513,
          -1.8869402665513593,
          -0.8074593396791456,
          1.1252355590320093,
          -0.27414447586921264,
          -1.1557736682518962,
          -1.9666909765325034,
          0.6855827979691974,
          -0.20521996481908641,
          1.08397564551083,
          0.4998450253149714,
          -0.12838927263286945,
          -0.6062107273168488,
          0.197978690081465,
          -1.1653743420126648,
          -0.37134195744767856,
          0.35962696454019205,
          -0.6206925620023627,
          0.28122456162403975,
          -1.2369174730829358,
          -0.6328550536253374,
          -0.336507733489472,
          0.07464006980203221,
          -0.27482750033323206,
          -0.834138746626748,
          -0.18161606200239788,
          0.28331748851626454,
          -0.16041098607421198,
          -0.2598454656768826,
          -1.0717996719768308,
          0.48492297663238537,
          0.647813054497142,
          -1.5264460194907914,
          -1.507382947435128,
          0.07068833262605004,
          -0.07593855154367678,
          0.03362848348806245,
          -0.9455058565885904,
          -0.08123307382441822,
          -1.1321894756944488,
          0.6573445132513832,
          0.1707445834237783,
          -2.205225178638841,
          1.206954494021919,
          0.4269823792877971,
          0.6462496331522335,
          0.0013464733761791704,
          0.6467579321769497,
          0.4247026439731165,
          0.3836856395729416
         ]
        },
        {
         "mode": "markers",
         "type": "scatter",
         "x": [
          -0.7237959308257569,
          1.0999826725502908,
          1.784888394030056,
          1.331306534940712,
          1.3671314572602302,
          1.8644493529252402,
          2.4840577378099367,
          2.0036222866704634,
          0.694740741860308,
          1.9450243172454948,
          0.812652331474845,
          1.8250332115460726,
          -0.9072701072016196,
          1.2489877505021918,
          1.809465049264947,
          3.004263435467771,
          1.61112153068591,
          0.9295577090016546,
          1.4485849790935252,
          0.627407421384522,
          0.11398164107609665,
          -0.21850134101753094,
          1.65339893887771,
          0.6935147284302214,
          3.044315573085443,
          0.2336471205363163,
          0.6796927018214113,
          -0.13841803340531267,
          1.1193592015811569,
          1.936315923857269,
          1.9509102540219687,
          1.0877935501674243,
          1.378552476471429,
          0.5612720648875305,
          2.2330109810230265,
          1.6820324126762478,
          2.4970384832265227,
          0.11623116378051546,
          -0.4828200161576459,
          1.453465100618957,
          2.317867519718819,
          -0.1348513516095542,
          0.9949028737428957,
          -0.6078453161630448,
          1.5882103827494034,
          1.7523298659987279,
          1.0200024517295234,
          0.5685721507864581,
          0.9024257175745112,
          -0.1927325831376525,
          1.1770242168382827,
          2.2728456450940993,
          0.15291303359899389,
          -0.5168199079737172,
          0.19478886446492705,
          1.0466899239200942,
          1.726753533724864,
          0.6672775360219366,
          1.8735651028227507,
          1.1733176539095311,
          -1.515474020759588,
          0.514055358444227,
          1.8205596839560994,
          0.6469640785813164,
          1.6524259725069959,
          0.7444013980570512,
          1.2083447680661406,
          0.647669859405356,
          1.5346454334354676,
          0.9260322267748404,
          0.9021007820150936,
          0.9140116677652155,
          1.8164561662625984,
          -0.03618848644591921,
          1.2867374344404785,
          0.3020770786780155,
          0.5258271895494956,
          0.49619629367121376,
          0.3799767696984946,
          -1.0928692637191952,
          2.1934621781438706,
          -0.8700297813718147,
          0.6359945340206736,
          0.9462830956695383,
          1.6886386261417856,
          2.818624352314805,
          0.784271197170767,
          -0.04879401822829044,
          0.15332917162427906,
          1.9885695381562203,
          1.3943035557734622,
          1.1856974476965947,
          0.645846224350954,
          -0.725849489690336,
          0.4616419276989209,
          0.5397680678501215,
          0.00526811370302227,
          1.580065752413148,
          0.35418395608702313,
          1.30475065830038
         ],
         "y": [
          1.752007235179648,
          1.6877956056054417,
          -0.752756069179192,
          1.9153904472664647,
          0.4977372091006876,
          -2.197529401535692,
          0.6226162839396999,
          -0.8987713358052917,
          1.9088890334498902,
          -0.36930479577042497,
          1.3492823178065387,
          0.30060403903959465,
          -0.5313190805015622,
          2.226638371407203,
          0.49878291279296566,
          -0.1829211505816391,
          0.5844020157143588,
          -1.7623996627882639,
          -0.4838949765393274,
          -0.6503728385866708,
          -0.9452764800906837,
          -0.5856813927159521,
          0.23648837769962291,
          -0.36271093815051547,
          1.9441709385929382,
          -1.0481395987702076,
          0.7450918754610782,
          -0.23728072728723532,
          -0.05953491555049221,
          -0.10607429654214266,
          1.1203643960813023,
          -1.2828751258294413,
          1.47821047280914,
          -0.4546263281099964,
          0.4253909855495792,
          0.982736069484177,
          2.475781915092251,
          0.19104253535478546,
          -0.15197848673517006,
          -1.8583526117209035,
          0.07851378749952745,
          0.6646442414442933,
          -0.34954607809174726,
          0.6162584543562659,
          0.046448472254520735,
          -0.011735242103875582,
          -0.5435739199754533,
          0.40171126898930476,
          0.5506869682854898,
          1.395068902760185,
          1.1651815616890389,
          -0.12873744277170798,
          0.6789583655448752,
          -1.945537402359198,
          -1.058104977595884,
          -1.6520606829361189,
          0.6801476422127443,
          -0.12392756680468098,
          -0.07670273872641618,
          -0.04849618530228705,
          1.2180747144665214,
          1.2128962565489956,
          0.3762516339308745,
          -0.5565011190469488,
          -0.1364181562279877,
          -0.19437748178413206,
          1.4026668982667079,
          0.8073417026377024,
          -0.6350747690552392,
          0.730674678452586,
          0.31451203468104755,
          0.36147776311752927,
          0.334481654381724,
          -0.4519032567803592,
          1.1689208754206821,
          -1.0381074473755387,
          -1.236952861527988,
          -1.184021753155884,
          1.5877481634363442,
          0.37656973045526426,
          1.253968105624739,
          -0.273961523604545,
          -0.6227322325482498,
          0.2778810494439011,
          0.7038105235713742,
          1.8581078015635768,
          0.8160820061935568,
          0.29782056676250757,
          0.445918108190454,
          2.179356464510833,
          -1.9169911601817897,
          0.47077040244627666,
          1.8008732957668332,
          2.1653391637887998,
          2.1163207436551366,
          0.32100313067784947,
          -0.35375994754141865,
          1.1950870728064251,
          -2.369214356329446,
          0.6572204125779151
         ]
        }
       ],
       "layout": {
        "template": {
         "data": {
          "bar": [
           {
            "error_x": {
             "color": "#2a3f5f"
            },
            "error_y": {
             "color": "#2a3f5f"
            },
            "marker": {
             "line": {
              "color": "#E5ECF6",
              "width": 0.5
             }
            },
            "type": "bar"
           }
          ],
          "barpolar": [
           {
            "marker": {
             "line": {
              "color": "#E5ECF6",
              "width": 0.5
             }
            },
            "type": "barpolar"
           }
          ],
          "carpet": [
           {
            "aaxis": {
             "endlinecolor": "#2a3f5f",
             "gridcolor": "white",
             "linecolor": "white",
             "minorgridcolor": "white",
             "startlinecolor": "#2a3f5f"
            },
            "baxis": {
             "endlinecolor": "#2a3f5f",
             "gridcolor": "white",
             "linecolor": "white",
             "minorgridcolor": "white",
             "startlinecolor": "#2a3f5f"
            },
            "type": "carpet"
           }
          ],
          "choropleth": [
           {
            "colorbar": {
             "outlinewidth": 0,
             "ticks": ""
            },
            "type": "choropleth"
           }
          ],
          "contour": [
           {
            "colorbar": {
             "outlinewidth": 0,
             "ticks": ""
            },
            "colorscale": [
             [
              0,
              "#0d0887"
             ],
             [
              0.1111111111111111,
              "#46039f"
             ],
             [
              0.2222222222222222,
              "#7201a8"
             ],
             [
              0.3333333333333333,
              "#9c179e"
             ],
             [
              0.4444444444444444,
              "#bd3786"
             ],
             [
              0.5555555555555556,
              "#d8576b"
             ],
             [
              0.6666666666666666,
              "#ed7953"
             ],
             [
              0.7777777777777778,
              "#fb9f3a"
             ],
             [
              0.8888888888888888,
              "#fdca26"
             ],
             [
              1,
              "#f0f921"
             ]
            ],
            "type": "contour"
           }
          ],
          "contourcarpet": [
           {
            "colorbar": {
             "outlinewidth": 0,
             "ticks": ""
            },
            "type": "contourcarpet"
           }
          ],
          "heatmap": [
           {
            "colorbar": {
             "outlinewidth": 0,
             "ticks": ""
            },
            "colorscale": [
             [
              0,
              "#0d0887"
             ],
             [
              0.1111111111111111,
              "#46039f"
             ],
             [
              0.2222222222222222,
              "#7201a8"
             ],
             [
              0.3333333333333333,
              "#9c179e"
             ],
             [
              0.4444444444444444,
              "#bd3786"
             ],
             [
              0.5555555555555556,
              "#d8576b"
             ],
             [
              0.6666666666666666,
              "#ed7953"
             ],
             [
              0.7777777777777778,
              "#fb9f3a"
             ],
             [
              0.8888888888888888,
              "#fdca26"
             ],
             [
              1,
              "#f0f921"
             ]
            ],
            "type": "heatmap"
           }
          ],
          "heatmapgl": [
           {
            "colorbar": {
             "outlinewidth": 0,
             "ticks": ""
            },
            "colorscale": [
             [
              0,
              "#0d0887"
             ],
             [
              0.1111111111111111,
              "#46039f"
             ],
             [
              0.2222222222222222,
              "#7201a8"
             ],
             [
              0.3333333333333333,
              "#9c179e"
             ],
             [
              0.4444444444444444,
              "#bd3786"
             ],
             [
              0.5555555555555556,
              "#d8576b"
             ],
             [
              0.6666666666666666,
              "#ed7953"
             ],
             [
              0.7777777777777778,
              "#fb9f3a"
             ],
             [
              0.8888888888888888,
              "#fdca26"
             ],
             [
              1,
              "#f0f921"
             ]
            ],
            "type": "heatmapgl"
           }
          ],
          "histogram": [
           {
            "marker": {
             "colorbar": {
              "outlinewidth": 0,
              "ticks": ""
             }
            },
            "type": "histogram"
           }
          ],
          "histogram2d": [
           {
            "colorbar": {
             "outlinewidth": 0,
             "ticks": ""
            },
            "colorscale": [
             [
              0,
              "#0d0887"
             ],
             [
              0.1111111111111111,
              "#46039f"
             ],
             [
              0.2222222222222222,
              "#7201a8"
             ],
             [
              0.3333333333333333,
              "#9c179e"
             ],
             [
              0.4444444444444444,
              "#bd3786"
             ],
             [
              0.5555555555555556,
              "#d8576b"
             ],
             [
              0.6666666666666666,
              "#ed7953"
             ],
             [
              0.7777777777777778,
              "#fb9f3a"
             ],
             [
              0.8888888888888888,
              "#fdca26"
             ],
             [
              1,
              "#f0f921"
             ]
            ],
            "type": "histogram2d"
           }
          ],
          "histogram2dcontour": [
           {
            "colorbar": {
             "outlinewidth": 0,
             "ticks": ""
            },
            "colorscale": [
             [
              0,
              "#0d0887"
             ],
             [
              0.1111111111111111,
              "#46039f"
             ],
             [
              0.2222222222222222,
              "#7201a8"
             ],
             [
              0.3333333333333333,
              "#9c179e"
             ],
             [
              0.4444444444444444,
              "#bd3786"
             ],
             [
              0.5555555555555556,
              "#d8576b"
             ],
             [
              0.6666666666666666,
              "#ed7953"
             ],
             [
              0.7777777777777778,
              "#fb9f3a"
             ],
             [
              0.8888888888888888,
              "#fdca26"
             ],
             [
              1,
              "#f0f921"
             ]
            ],
            "type": "histogram2dcontour"
           }
          ],
          "mesh3d": [
           {
            "colorbar": {
             "outlinewidth": 0,
             "ticks": ""
            },
            "type": "mesh3d"
           }
          ],
          "parcoords": [
           {
            "line": {
             "colorbar": {
              "outlinewidth": 0,
              "ticks": ""
             }
            },
            "type": "parcoords"
           }
          ],
          "pie": [
           {
            "automargin": true,
            "type": "pie"
           }
          ],
          "scatter": [
           {
            "marker": {
             "colorbar": {
              "outlinewidth": 0,
              "ticks": ""
             }
            },
            "type": "scatter"
           }
          ],
          "scatter3d": [
           {
            "line": {
             "colorbar": {
              "outlinewidth": 0,
              "ticks": ""
             }
            },
            "marker": {
             "colorbar": {
              "outlinewidth": 0,
              "ticks": ""
             }
            },
            "type": "scatter3d"
           }
          ],
          "scattercarpet": [
           {
            "marker": {
             "colorbar": {
              "outlinewidth": 0,
              "ticks": ""
             }
            },
            "type": "scattercarpet"
           }
          ],
          "scattergeo": [
           {
            "marker": {
             "colorbar": {
              "outlinewidth": 0,
              "ticks": ""
             }
            },
            "type": "scattergeo"
           }
          ],
          "scattergl": [
           {
            "marker": {
             "colorbar": {
              "outlinewidth": 0,
              "ticks": ""
             }
            },
            "type": "scattergl"
           }
          ],
          "scattermapbox": [
           {
            "marker": {
             "colorbar": {
              "outlinewidth": 0,
              "ticks": ""
             }
            },
            "type": "scattermapbox"
           }
          ],
          "scatterpolar": [
           {
            "marker": {
             "colorbar": {
              "outlinewidth": 0,
              "ticks": ""
             }
            },
            "type": "scatterpolar"
           }
          ],
          "scatterpolargl": [
           {
            "marker": {
             "colorbar": {
              "outlinewidth": 0,
              "ticks": ""
             }
            },
            "type": "scatterpolargl"
           }
          ],
          "scatterternary": [
           {
            "marker": {
             "colorbar": {
              "outlinewidth": 0,
              "ticks": ""
             }
            },
            "type": "scatterternary"
           }
          ],
          "surface": [
           {
            "colorbar": {
             "outlinewidth": 0,
             "ticks": ""
            },
            "colorscale": [
             [
              0,
              "#0d0887"
             ],
             [
              0.1111111111111111,
              "#46039f"
             ],
             [
              0.2222222222222222,
              "#7201a8"
             ],
             [
              0.3333333333333333,
              "#9c179e"
             ],
             [
              0.4444444444444444,
              "#bd3786"
             ],
             [
              0.5555555555555556,
              "#d8576b"
             ],
             [
              0.6666666666666666,
              "#ed7953"
             ],
             [
              0.7777777777777778,
              "#fb9f3a"
             ],
             [
              0.8888888888888888,
              "#fdca26"
             ],
             [
              1,
              "#f0f921"
             ]
            ],
            "type": "surface"
           }
          ],
          "table": [
           {
            "cells": {
             "fill": {
              "color": "#EBF0F8"
             },
             "line": {
              "color": "white"
             }
            },
            "header": {
             "fill": {
              "color": "#C8D4E3"
             },
             "line": {
              "color": "white"
             }
            },
            "type": "table"
           }
          ]
         },
         "layout": {
          "annotationdefaults": {
           "arrowcolor": "#2a3f5f",
           "arrowhead": 0,
           "arrowwidth": 1
          },
          "coloraxis": {
           "colorbar": {
            "outlinewidth": 0,
            "ticks": ""
           }
          },
          "colorscale": {
           "diverging": [
            [
             0,
             "#8e0152"
            ],
            [
             0.1,
             "#c51b7d"
            ],
            [
             0.2,
             "#de77ae"
            ],
            [
             0.3,
             "#f1b6da"
            ],
            [
             0.4,
             "#fde0ef"
            ],
            [
             0.5,
             "#f7f7f7"
            ],
            [
             0.6,
             "#e6f5d0"
            ],
            [
             0.7,
             "#b8e186"
            ],
            [
             0.8,
             "#7fbc41"
            ],
            [
             0.9,
             "#4d9221"
            ],
            [
             1,
             "#276419"
            ]
           ],
           "sequential": [
            [
             0,
             "#0d0887"
            ],
            [
             0.1111111111111111,
             "#46039f"
            ],
            [
             0.2222222222222222,
             "#7201a8"
            ],
            [
             0.3333333333333333,
             "#9c179e"
            ],
            [
             0.4444444444444444,
             "#bd3786"
            ],
            [
             0.5555555555555556,
             "#d8576b"
            ],
            [
             0.6666666666666666,
             "#ed7953"
            ],
            [
             0.7777777777777778,
             "#fb9f3a"
            ],
            [
             0.8888888888888888,
             "#fdca26"
            ],
            [
             1,
             "#f0f921"
            ]
           ],
           "sequentialminus": [
            [
             0,
             "#0d0887"
            ],
            [
             0.1111111111111111,
             "#46039f"
            ],
            [
             0.2222222222222222,
             "#7201a8"
            ],
            [
             0.3333333333333333,
             "#9c179e"
            ],
            [
             0.4444444444444444,
             "#bd3786"
            ],
            [
             0.5555555555555556,
             "#d8576b"
            ],
            [
             0.6666666666666666,
             "#ed7953"
            ],
            [
             0.7777777777777778,
             "#fb9f3a"
            ],
            [
             0.8888888888888888,
             "#fdca26"
            ],
            [
             1,
             "#f0f921"
            ]
           ]
          },
          "colorway": [
           "#636efa",
           "#EF553B",
           "#00cc96",
           "#ab63fa",
           "#FFA15A",
           "#19d3f3",
           "#FF6692",
           "#B6E880",
           "#FF97FF",
           "#FECB52"
          ],
          "font": {
           "color": "#2a3f5f"
          },
          "geo": {
           "bgcolor": "white",
           "lakecolor": "white",
           "landcolor": "#E5ECF6",
           "showlakes": true,
           "showland": true,
           "subunitcolor": "white"
          },
          "hoverlabel": {
           "align": "left"
          },
          "hovermode": "closest",
          "mapbox": {
           "style": "light"
          },
          "paper_bgcolor": "white",
          "plot_bgcolor": "#E5ECF6",
          "polar": {
           "angularaxis": {
            "gridcolor": "white",
            "linecolor": "white",
            "ticks": ""
           },
           "bgcolor": "#E5ECF6",
           "radialaxis": {
            "gridcolor": "white",
            "linecolor": "white",
            "ticks": ""
           }
          },
          "scene": {
           "xaxis": {
            "backgroundcolor": "#E5ECF6",
            "gridcolor": "white",
            "gridwidth": 2,
            "linecolor": "white",
            "showbackground": true,
            "ticks": "",
            "zerolinecolor": "white"
           },
           "yaxis": {
            "backgroundcolor": "#E5ECF6",
            "gridcolor": "white",
            "gridwidth": 2,
            "linecolor": "white",
            "showbackground": true,
            "ticks": "",
            "zerolinecolor": "white"
           },
           "zaxis": {
            "backgroundcolor": "#E5ECF6",
            "gridcolor": "white",
            "gridwidth": 2,
            "linecolor": "white",
            "showbackground": true,
            "ticks": "",
            "zerolinecolor": "white"
           }
          },
          "shapedefaults": {
           "line": {
            "color": "#2a3f5f"
           }
          },
          "ternary": {
           "aaxis": {
            "gridcolor": "white",
            "linecolor": "white",
            "ticks": ""
           },
           "baxis": {
            "gridcolor": "white",
            "linecolor": "white",
            "ticks": ""
           },
           "bgcolor": "#E5ECF6",
           "caxis": {
            "gridcolor": "white",
            "linecolor": "white",
            "ticks": ""
           }
          },
          "title": {
           "x": 0.05
          },
          "xaxis": {
           "automargin": true,
           "gridcolor": "white",
           "linecolor": "white",
           "ticks": "",
           "title": {
            "standoff": 15
           },
           "zerolinecolor": "white",
           "zerolinewidth": 2
          },
          "yaxis": {
           "automargin": true,
           "gridcolor": "white",
           "linecolor": "white",
           "ticks": "",
           "title": {
            "standoff": 15
           },
           "zerolinecolor": "white",
           "zerolinewidth": 2
          }
         }
        }
       }
      }
     },
     "metadata": {}
    },
    {
     "output_type": "stream",
     "name": "stdout",
     "text": "(200, 2)\n(200, 1)\n"
    },
    {
     "output_type": "display_data",
     "data": {
      "application/vnd.plotly.v1+json": {
       "config": {
        "plotlyServerURL": "https://plot.ly"
       },
       "data": [
        {
         "name": "Delta",
         "type": "scatter",
         "x": [
          0,
          1,
          2,
          3,
          4,
          5,
          6,
          7,
          8,
          9,
          10,
          11,
          12,
          13,
          14,
          15,
          16,
          17,
          18,
          19,
          20,
          21,
          22,
          23,
          24,
          25,
          26,
          27,
          28,
          29,
          30,
          31,
          32,
          33,
          34,
          35,
          36,
          37,
          38,
          39,
          40,
          41,
          42,
          43,
          44,
          45,
          46,
          47,
          48,
          49
         ],
         "y": [
          0.7262246269416127,
          0.7182624958711449,
          0.710591597885749,
          0.7032007231528005,
          0.6962685383365611,
          0.6896945233236983,
          0.6835256148379745,
          0.6775781434941359,
          0.6718436708058442,
          0.6663140899300198,
          0.6610407908424967,
          0.6560545319650912,
          0.6513128209201834,
          0.6467366799678519,
          0.6423198949229065,
          0.6381414538677576,
          0.6343421148844581,
          0.6307654085790021,
          0.6275241046521356,
          0.6244325344501249,
          0.6214471569812383,
          0.6186883839198312,
          0.6160288464244355,
          0.6134595799544132,
          0.6109772512806111,
          0.6085786561057076,
          0.6063293755202186,
          0.6041593788764288,
          0.602061384299308,
          0.6000327690705857,
          0.5981508424597038,
          0.5963371510974715,
          0.5945826170069197,
          0.5928851080871539,
          0.5912425736640209,
          0.5897154197934573,
          0.5882470001680115,
          0.5869002926382649,
          0.5856330851140706,
          0.5844111576661212,
          0.5832273825145838,
          0.5820804231441048,
          0.5809689932928235,
          0.5799108655500608,
          0.5789263559888643,
          0.5779719229893544,
          0.5770465286042614,
          0.5761519072957982,
          0.575326426504811,
          0.5745256410897993
         ]
        },
        {
         "name": "Perceptron",
         "type": "scatter",
         "x": [
          0,
          1,
          2,
          3,
          4,
          5,
          6,
          7,
          8,
          9,
          10,
          11,
          12,
          13,
          14,
          15,
          16,
          17,
          18,
          19,
          20,
          21,
          22,
          23,
          24,
          25,
          26,
          27,
          28,
          29,
          30,
          31,
          32,
          33,
          34,
          35,
          36,
          37,
          38,
          39,
          40,
          41,
          42,
          43,
          44,
          45,
          46,
          47,
          48,
          49
         ],
         "y": [
          0.6568703661052634,
          0.6567740858770518,
          0.6565912173083851,
          0.6563305372794902,
          0.6559999906969626,
          0.655606766712069,
          0.6551573685098149,
          0.6546576770808389,
          0.6541130093963349,
          0.6535281714021818,
          0.6529075062362338,
          0.6522549380551738,
          0.6515740118365272,
          0.6508679294988967,
          0.6501395826602231,
          0.649391582330699,
          0.6486262858143051,
          0.6478458210711855,
          0.6470521087724113,
          0.6462468822592219,
          0.6454317056006488,
          0.6446079899265116,
          0.6437770081971249,
          0.6429399085566129,
          0.6420977264034485,
          0.6412513952996513,
          0.6404017568289225,
          0.6395495695037992,
          0.6386955168126014,
          0.6378402144884717,
          0.6369842170750711,
          0.6361280238564802,
          0.6352720842124585,
          0.6344168024544264,
          0.6335625421922529,
          0.632709630277174,
          0.6318583603618191,
          0.6310089961144114,
          0.630161774120643,
          0.6293169065035096,
          0.6284745832884743,
          0.6276349745386895,
          0.6267982322826214,
          0.6259644922542611,
          0.6251338754641518,
          0.6243064896176992,
          0.6234824303956349,
          0.6226617826100574,
          0.6218446212481772,
          0.6210310124147064
         ]
        }
       ],
       "layout": {
        "template": {
         "data": {
          "bar": [
           {
            "error_x": {
             "color": "#2a3f5f"
            },
            "error_y": {
             "color": "#2a3f5f"
            },
            "marker": {
             "line": {
              "color": "#E5ECF6",
              "width": 0.5
             }
            },
            "type": "bar"
           }
          ],
          "barpolar": [
           {
            "marker": {
             "line": {
              "color": "#E5ECF6",
              "width": 0.5
             }
            },
            "type": "barpolar"
           }
          ],
          "carpet": [
           {
            "aaxis": {
             "endlinecolor": "#2a3f5f",
             "gridcolor": "white",
             "linecolor": "white",
             "minorgridcolor": "white",
             "startlinecolor": "#2a3f5f"
            },
            "baxis": {
             "endlinecolor": "#2a3f5f",
             "gridcolor": "white",
             "linecolor": "white",
             "minorgridcolor": "white",
             "startlinecolor": "#2a3f5f"
            },
            "type": "carpet"
           }
          ],
          "choropleth": [
           {
            "colorbar": {
             "outlinewidth": 0,
             "ticks": ""
            },
            "type": "choropleth"
           }
          ],
          "contour": [
           {
            "colorbar": {
             "outlinewidth": 0,
             "ticks": ""
            },
            "colorscale": [
             [
              0,
              "#0d0887"
             ],
             [
              0.1111111111111111,
              "#46039f"
             ],
             [
              0.2222222222222222,
              "#7201a8"
             ],
             [
              0.3333333333333333,
              "#9c179e"
             ],
             [
              0.4444444444444444,
              "#bd3786"
             ],
             [
              0.5555555555555556,
              "#d8576b"
             ],
             [
              0.6666666666666666,
              "#ed7953"
             ],
             [
              0.7777777777777778,
              "#fb9f3a"
             ],
             [
              0.8888888888888888,
              "#fdca26"
             ],
             [
              1,
              "#f0f921"
             ]
            ],
            "type": "contour"
           }
          ],
          "contourcarpet": [
           {
            "colorbar": {
             "outlinewidth": 0,
             "ticks": ""
            },
            "type": "contourcarpet"
           }
          ],
          "heatmap": [
           {
            "colorbar": {
             "outlinewidth": 0,
             "ticks": ""
            },
            "colorscale": [
             [
              0,
              "#0d0887"
             ],
             [
              0.1111111111111111,
              "#46039f"
             ],
             [
              0.2222222222222222,
              "#7201a8"
             ],
             [
              0.3333333333333333,
              "#9c179e"
             ],
             [
              0.4444444444444444,
              "#bd3786"
             ],
             [
              0.5555555555555556,
              "#d8576b"
             ],
             [
              0.6666666666666666,
              "#ed7953"
             ],
             [
              0.7777777777777778,
              "#fb9f3a"
             ],
             [
              0.8888888888888888,
              "#fdca26"
             ],
             [
              1,
              "#f0f921"
             ]
            ],
            "type": "heatmap"
           }
          ],
          "heatmapgl": [
           {
            "colorbar": {
             "outlinewidth": 0,
             "ticks": ""
            },
            "colorscale": [
             [
              0,
              "#0d0887"
             ],
             [
              0.1111111111111111,
              "#46039f"
             ],
             [
              0.2222222222222222,
              "#7201a8"
             ],
             [
              0.3333333333333333,
              "#9c179e"
             ],
             [
              0.4444444444444444,
              "#bd3786"
             ],
             [
              0.5555555555555556,
              "#d8576b"
             ],
             [
              0.6666666666666666,
              "#ed7953"
             ],
             [
              0.7777777777777778,
              "#fb9f3a"
             ],
             [
              0.8888888888888888,
              "#fdca26"
             ],
             [
              1,
              "#f0f921"
             ]
            ],
            "type": "heatmapgl"
           }
          ],
          "histogram": [
           {
            "marker": {
             "colorbar": {
              "outlinewidth": 0,
              "ticks": ""
             }
            },
            "type": "histogram"
           }
          ],
          "histogram2d": [
           {
            "colorbar": {
             "outlinewidth": 0,
             "ticks": ""
            },
            "colorscale": [
             [
              0,
              "#0d0887"
             ],
             [
              0.1111111111111111,
              "#46039f"
             ],
             [
              0.2222222222222222,
              "#7201a8"
             ],
             [
              0.3333333333333333,
              "#9c179e"
             ],
             [
              0.4444444444444444,
              "#bd3786"
             ],
             [
              0.5555555555555556,
              "#d8576b"
             ],
             [
              0.6666666666666666,
              "#ed7953"
             ],
             [
              0.7777777777777778,
              "#fb9f3a"
             ],
             [
              0.8888888888888888,
              "#fdca26"
             ],
             [
              1,
              "#f0f921"
             ]
            ],
            "type": "histogram2d"
           }
          ],
          "histogram2dcontour": [
           {
            "colorbar": {
             "outlinewidth": 0,
             "ticks": ""
            },
            "colorscale": [
             [
              0,
              "#0d0887"
             ],
             [
              0.1111111111111111,
              "#46039f"
             ],
             [
              0.2222222222222222,
              "#7201a8"
             ],
             [
              0.3333333333333333,
              "#9c179e"
             ],
             [
              0.4444444444444444,
              "#bd3786"
             ],
             [
              0.5555555555555556,
              "#d8576b"
             ],
             [
              0.6666666666666666,
              "#ed7953"
             ],
             [
              0.7777777777777778,
              "#fb9f3a"
             ],
             [
              0.8888888888888888,
              "#fdca26"
             ],
             [
              1,
              "#f0f921"
             ]
            ],
            "type": "histogram2dcontour"
           }
          ],
          "mesh3d": [
           {
            "colorbar": {
             "outlinewidth": 0,
             "ticks": ""
            },
            "type": "mesh3d"
           }
          ],
          "parcoords": [
           {
            "line": {
             "colorbar": {
              "outlinewidth": 0,
              "ticks": ""
             }
            },
            "type": "parcoords"
           }
          ],
          "pie": [
           {
            "automargin": true,
            "type": "pie"
           }
          ],
          "scatter": [
           {
            "marker": {
             "colorbar": {
              "outlinewidth": 0,
              "ticks": ""
             }
            },
            "type": "scatter"
           }
          ],
          "scatter3d": [
           {
            "line": {
             "colorbar": {
              "outlinewidth": 0,
              "ticks": ""
             }
            },
            "marker": {
             "colorbar": {
              "outlinewidth": 0,
              "ticks": ""
             }
            },
            "type": "scatter3d"
           }
          ],
          "scattercarpet": [
           {
            "marker": {
             "colorbar": {
              "outlinewidth": 0,
              "ticks": ""
             }
            },
            "type": "scattercarpet"
           }
          ],
          "scattergeo": [
           {
            "marker": {
             "colorbar": {
              "outlinewidth": 0,
              "ticks": ""
             }
            },
            "type": "scattergeo"
           }
          ],
          "scattergl": [
           {
            "marker": {
             "colorbar": {
              "outlinewidth": 0,
              "ticks": ""
             }
            },
            "type": "scattergl"
           }
          ],
          "scattermapbox": [
           {
            "marker": {
             "colorbar": {
              "outlinewidth": 0,
              "ticks": ""
             }
            },
            "type": "scattermapbox"
           }
          ],
          "scatterpolar": [
           {
            "marker": {
             "colorbar": {
              "outlinewidth": 0,
              "ticks": ""
             }
            },
            "type": "scatterpolar"
           }
          ],
          "scatterpolargl": [
           {
            "marker": {
             "colorbar": {
              "outlinewidth": 0,
              "ticks": ""
             }
            },
            "type": "scatterpolargl"
           }
          ],
          "scatterternary": [
           {
            "marker": {
             "colorbar": {
              "outlinewidth": 0,
              "ticks": ""
             }
            },
            "type": "scatterternary"
           }
          ],
          "surface": [
           {
            "colorbar": {
             "outlinewidth": 0,
             "ticks": ""
            },
            "colorscale": [
             [
              0,
              "#0d0887"
             ],
             [
              0.1111111111111111,
              "#46039f"
             ],
             [
              0.2222222222222222,
              "#7201a8"
             ],
             [
              0.3333333333333333,
              "#9c179e"
             ],
             [
              0.4444444444444444,
              "#bd3786"
             ],
             [
              0.5555555555555556,
              "#d8576b"
             ],
             [
              0.6666666666666666,
              "#ed7953"
             ],
             [
              0.7777777777777778,
              "#fb9f3a"
             ],
             [
              0.8888888888888888,
              "#fdca26"
             ],
             [
              1,
              "#f0f921"
             ]
            ],
            "type": "surface"
           }
          ],
          "table": [
           {
            "cells": {
             "fill": {
              "color": "#EBF0F8"
             },
             "line": {
              "color": "white"
             }
            },
            "header": {
             "fill": {
              "color": "#C8D4E3"
             },
             "line": {
              "color": "white"
             }
            },
            "type": "table"
           }
          ]
         },
         "layout": {
          "annotationdefaults": {
           "arrowcolor": "#2a3f5f",
           "arrowhead": 0,
           "arrowwidth": 1
          },
          "coloraxis": {
           "colorbar": {
            "outlinewidth": 0,
            "ticks": ""
           }
          },
          "colorscale": {
           "diverging": [
            [
             0,
             "#8e0152"
            ],
            [
             0.1,
             "#c51b7d"
            ],
            [
             0.2,
             "#de77ae"
            ],
            [
             0.3,
             "#f1b6da"
            ],
            [
             0.4,
             "#fde0ef"
            ],
            [
             0.5,
             "#f7f7f7"
            ],
            [
             0.6,
             "#e6f5d0"
            ],
            [
             0.7,
             "#b8e186"
            ],
            [
             0.8,
             "#7fbc41"
            ],
            [
             0.9,
             "#4d9221"
            ],
            [
             1,
             "#276419"
            ]
           ],
           "sequential": [
            [
             0,
             "#0d0887"
            ],
            [
             0.1111111111111111,
             "#46039f"
            ],
            [
             0.2222222222222222,
             "#7201a8"
            ],
            [
             0.3333333333333333,
             "#9c179e"
            ],
            [
             0.4444444444444444,
             "#bd3786"
            ],
            [
             0.5555555555555556,
             "#d8576b"
            ],
            [
             0.6666666666666666,
             "#ed7953"
            ],
            [
             0.7777777777777778,
             "#fb9f3a"
            ],
            [
             0.8888888888888888,
             "#fdca26"
            ],
            [
             1,
             "#f0f921"
            ]
           ],
           "sequentialminus": [
            [
             0,
             "#0d0887"
            ],
            [
             0.1111111111111111,
             "#46039f"
            ],
            [
             0.2222222222222222,
             "#7201a8"
            ],
            [
             0.3333333333333333,
             "#9c179e"
            ],
            [
             0.4444444444444444,
             "#bd3786"
            ],
            [
             0.5555555555555556,
             "#d8576b"
            ],
            [
             0.6666666666666666,
             "#ed7953"
            ],
            [
             0.7777777777777778,
             "#fb9f3a"
            ],
            [
             0.8888888888888888,
             "#fdca26"
            ],
            [
             1,
             "#f0f921"
            ]
           ]
          },
          "colorway": [
           "#636efa",
           "#EF553B",
           "#00cc96",
           "#ab63fa",
           "#FFA15A",
           "#19d3f3",
           "#FF6692",
           "#B6E880",
           "#FF97FF",
           "#FECB52"
          ],
          "font": {
           "color": "#2a3f5f"
          },
          "geo": {
           "bgcolor": "white",
           "lakecolor": "white",
           "landcolor": "#E5ECF6",
           "showlakes": true,
           "showland": true,
           "subunitcolor": "white"
          },
          "hoverlabel": {
           "align": "left"
          },
          "hovermode": "closest",
          "mapbox": {
           "style": "light"
          },
          "paper_bgcolor": "white",
          "plot_bgcolor": "#E5ECF6",
          "polar": {
           "angularaxis": {
            "gridcolor": "white",
            "linecolor": "white",
            "ticks": ""
           },
           "bgcolor": "#E5ECF6",
           "radialaxis": {
            "gridcolor": "white",
            "linecolor": "white",
            "ticks": ""
           }
          },
          "scene": {
           "xaxis": {
            "backgroundcolor": "#E5ECF6",
            "gridcolor": "white",
            "gridwidth": 2,
            "linecolor": "white",
            "showbackground": true,
            "ticks": "",
            "zerolinecolor": "white"
           },
           "yaxis": {
            "backgroundcolor": "#E5ECF6",
            "gridcolor": "white",
            "gridwidth": 2,
            "linecolor": "white",
            "showbackground": true,
            "ticks": "",
            "zerolinecolor": "white"
           },
           "zaxis": {
            "backgroundcolor": "#E5ECF6",
            "gridcolor": "white",
            "gridwidth": 2,
            "linecolor": "white",
            "showbackground": true,
            "ticks": "",
            "zerolinecolor": "white"
           }
          },
          "shapedefaults": {
           "line": {
            "color": "#2a3f5f"
           }
          },
          "ternary": {
           "aaxis": {
            "gridcolor": "white",
            "linecolor": "white",
            "ticks": ""
           },
           "baxis": {
            "gridcolor": "white",
            "linecolor": "white",
            "ticks": ""
           },
           "bgcolor": "#E5ECF6",
           "caxis": {
            "gridcolor": "white",
            "linecolor": "white",
            "ticks": ""
           }
          },
          "title": {
           "x": 0.05
          },
          "xaxis": {
           "automargin": true,
           "gridcolor": "white",
           "linecolor": "white",
           "ticks": "",
           "title": {
            "standoff": 15
           },
           "zerolinecolor": "white",
           "zerolinewidth": 2
          },
          "yaxis": {
           "automargin": true,
           "gridcolor": "white",
           "linecolor": "white",
           "ticks": "",
           "title": {
            "standoff": 15
           },
           "zerolinecolor": "white",
           "zerolinewidth": 2
          }
         }
        }
       }
      }
     },
     "metadata": {}
    },
    {
     "output_type": "display_data",
     "data": {
      "application/vnd.plotly.v1+json": {
       "config": {
        "plotlyServerURL": "https://plot.ly"
       },
       "data": [
        {
         "mode": "markers",
         "type": "scatter",
         "x": [
          -0.5460346964867743,
          -0.8773826303517259,
          -2.0958417151585245,
          0.13860034337682725,
          -1.3709255538026421,
          0.018561376199790258,
          -2.1502004855994428,
          -1.2581993847747377,
          0.5836888527166955,
          -0.7378210013540015,
          0.00006914232624755101,
          -1.6625989183878072,
          -1.1462812122881023,
          -0.8326775866778556,
          -1.0485991016876792,
          -1.345580343411078,
          -2.7307607352972116,
          -1.1121271131312913,
          -1.8652338151152756,
          0.6982377654839236,
          -2.6238946971919788,
          -0.18717587735105823,
          -1.858988518616714,
          -0.2569299903864489,
          -1.8569303501963743,
          0.6481797196577881,
          -0.23521460124524174,
          -0.6118513840120766,
          -1.2343840163575075,
          -0.12748142427903653,
          -3.0087299914495054,
          -1.2023092742995312,
          -0.6802451959431041,
          -2.220544201651652,
          0.5099049743801625,
          -1.0643974041595152,
          -1.032264733701938,
          0.15893423192947975,
          -0.1608906300281151,
          -0.4151292031994728,
          -0.4848110322099618,
          -2.552557585387282,
          -2.2762442543649803,
          -0.38793692487878517,
          -0.6807118816915607,
          0.8602916202076982,
          -1.7842220097417494,
          -2.684968092430278,
          -2.317375257478099,
          -0.6466506122783923,
          -2.4202100401952604,
          0.2276681192955461,
          -2.6959895260181277,
          -1.5278277044334172,
          -1.4238900237942298,
          -0.4547007166815119,
          -2.6948227906316538,
          -0.6504405082304434,
          -0.10723531733394809,
          -1.639816249966167,
          -0.10733766419211577,
          0.9740574143002545,
          -0.3276893214841774,
          -0.3010644115093829,
          0.33071477838565766,
          -0.95199858193952,
          -1.3269709887237238,
          -0.49928869880204174,
          -0.37053274557129323,
          -0.9927388911289267,
          -1.586490707402581,
          -3.2523938385840485,
          0.1549302273984703,
          -1.048329067692683,
          -3.031382784726157,
          -1.230469586864979,
          -1.3057454936047115,
          -1.2741635561051659,
          -1.5702843735957686,
          -1.4129381657608677,
          -0.5177402052757465,
          -1.8441642230912074,
          -0.06861394446840352,
          -0.40948017410764237,
          -1.8431354024715114,
          -1.4221504468198012,
          -2.482528254143377,
          0.2123195185091964,
          -0.6313059974285333,
          -1.0289668131750553,
          -1.8675706010416109,
          -1.4731742264673802,
          -1.4632850804053026,
          -2.530167420784588,
          -1.3478115092291638,
          -1.5281314352865323,
          -2.709906067579656,
          -1.684673310663579,
          -2.5941354982625766,
          -0.8184690757271773
         ],
         "y": [
          0.39786356019478536,
          -0.19013952420816685,
          -0.3792759349222236,
          0.6118076190835326,
          1.6461537582877335,
          1.0548212765952607,
          0.13329956623787997,
          -0.16580575800645278,
          -0.2638602690246386,
          0.11618142487785535,
          -0.6557831004662811,
          -0.5190306163285339,
          -0.5534695686870644,
          -0.3103131521623283,
          0.6412237552623771,
          0.9743855347964873,
          -0.17691379452259476,
          -0.6056533008897652,
          0.3476443501656207,
          1.0599597540814942,
          -0.301048133466055,
          0.20503903551617583,
          -0.36441328061497075,
          -2.688595277736571,
          0.18107160630040706,
          -0.25815144506405563,
          -1.1675051088055581,
          0.36067832087035034,
          1.0158286587250145,
          -1.3318988572286103,
          -0.8116972587763863,
          -1.013780110780201,
          0.345895708675532,
          1.0909399057373048,
          -1.109134049836238,
          0.782425854623085,
          -0.9291024086218551,
          1.777669466110394,
          0.6943997857612074,
          0.38788721026029804,
          -0.4832014065506973,
          1.2347923642652014,
          0.6501617083497265,
          -0.3246886015931498,
          0.23293609164749318,
          -0.45369168375756674,
          -0.4768379794805267,
          -1.1087319963811852,
          -0.5399810360257764,
          1.0104495871723325,
          0.3162174400007513,
          -1.8869402665513593,
          -0.8074593396791456,
          1.1252355590320093,
          -0.27414447586921264,
          -1.1557736682518962,
          -1.9666909765325034,
          0.6855827979691974,
          -0.20521996481908641,
          1.08397564551083,
          0.4998450253149714,
          -0.12838927263286945,
          -0.6062107273168488,
          0.197978690081465,
          -1.1653743420126648,
          -0.37134195744767856,
          0.35962696454019205,
          -0.6206925620023627,
          0.28122456162403975,
          -1.2369174730829358,
          -0.6328550536253374,
          -0.336507733489472,
          0.07464006980203221,
          -0.27482750033323206,
          -0.834138746626748,
          -0.18161606200239788,
          0.28331748851626454,
          -0.16041098607421198,
          -0.2598454656768826,
          -1.0717996719768308,
          0.48492297663238537,
          0.647813054497142,
          -1.5264460194907914,
          -1.507382947435128,
          0.07068833262605004,
          -0.07593855154367678,
          0.03362848348806245,
          -0.9455058565885904,
          -0.08123307382441822,
          -1.1321894756944488,
          0.6573445132513832,
          0.1707445834237783,
          -2.205225178638841,
          1.206954494021919,
          0.4269823792877971,
          0.6462496331522335,
          0.0013464733761791704,
          0.6467579321769497,
          0.4247026439731165,
          0.3836856395729416
         ]
        },
        {
         "mode": "markers",
         "type": "scatter",
         "x": [
          -0.7237959308257569,
          1.0999826725502908,
          1.784888394030056,
          1.331306534940712,
          1.3671314572602302,
          1.8644493529252402,
          2.4840577378099367,
          2.0036222866704634,
          0.694740741860308,
          1.9450243172454948,
          0.812652331474845,
          1.8250332115460726,
          -0.9072701072016196,
          1.2489877505021918,
          1.809465049264947,
          3.004263435467771,
          1.61112153068591,
          0.9295577090016546,
          1.4485849790935252,
          0.627407421384522,
          0.11398164107609665,
          -0.21850134101753094,
          1.65339893887771,
          0.6935147284302214,
          3.044315573085443,
          0.2336471205363163,
          0.6796927018214113,
          -0.13841803340531267,
          1.1193592015811569,
          1.936315923857269,
          1.9509102540219687,
          1.0877935501674243,
          1.378552476471429,
          0.5612720648875305,
          2.2330109810230265,
          1.6820324126762478,
          2.4970384832265227,
          0.11623116378051546,
          -0.4828200161576459,
          1.453465100618957,
          2.317867519718819,
          -0.1348513516095542,
          0.9949028737428957,
          -0.6078453161630448,
          1.5882103827494034,
          1.7523298659987279,
          1.0200024517295234,
          0.5685721507864581,
          0.9024257175745112,
          -0.1927325831376525,
          1.1770242168382827,
          2.2728456450940993,
          0.15291303359899389,
          -0.5168199079737172,
          0.19478886446492705,
          1.0466899239200942,
          1.726753533724864,
          0.6672775360219366,
          1.8735651028227507,
          1.1733176539095311,
          -1.515474020759588,
          0.514055358444227,
          1.8205596839560994,
          0.6469640785813164,
          1.6524259725069959,
          0.7444013980570512,
          1.2083447680661406,
          0.647669859405356,
          1.5346454334354676,
          0.9260322267748404,
          0.9021007820150936,
          0.9140116677652155,
          1.8164561662625984,
          -0.03618848644591921,
          1.2867374344404785,
          0.3020770786780155,
          0.5258271895494956,
          0.49619629367121376,
          0.3799767696984946,
          -1.0928692637191952,
          2.1934621781438706,
          -0.8700297813718147,
          0.6359945340206736,
          0.9462830956695383,
          1.6886386261417856,
          2.818624352314805,
          0.784271197170767,
          -0.04879401822829044,
          0.15332917162427906,
          1.9885695381562203,
          1.3943035557734622,
          1.1856974476965947,
          0.645846224350954,
          -0.725849489690336,
          0.4616419276989209,
          0.5397680678501215,
          0.00526811370302227,
          1.580065752413148,
          0.35418395608702313,
          1.30475065830038
         ],
         "y": [
          1.752007235179648,
          1.6877956056054417,
          -0.752756069179192,
          1.9153904472664647,
          0.4977372091006876,
          -2.197529401535692,
          0.6226162839396999,
          -0.8987713358052917,
          1.9088890334498902,
          -0.36930479577042497,
          1.3492823178065387,
          0.30060403903959465,
          -0.5313190805015622,
          2.226638371407203,
          0.49878291279296566,
          -0.1829211505816391,
          0.5844020157143588,
          -1.7623996627882639,
          -0.4838949765393274,
          -0.6503728385866708,
          -0.9452764800906837,
          -0.5856813927159521,
          0.23648837769962291,
          -0.36271093815051547,
          1.9441709385929382,
          -1.0481395987702076,
          0.7450918754610782,
          -0.23728072728723532,
          -0.05953491555049221,
          -0.10607429654214266,
          1.1203643960813023,
          -1.2828751258294413,
          1.47821047280914,
          -0.4546263281099964,
          0.4253909855495792,
          0.982736069484177,
          2.475781915092251,
          0.19104253535478546,
          -0.15197848673517006,
          -1.8583526117209035,
          0.07851378749952745,
          0.6646442414442933,
          -0.34954607809174726,
          0.6162584543562659,
          0.046448472254520735,
          -0.011735242103875582,
          -0.5435739199754533,
          0.40171126898930476,
          0.5506869682854898,
          1.395068902760185,
          1.1651815616890389,
          -0.12873744277170798,
          0.6789583655448752,
          -1.945537402359198,
          -1.058104977595884,
          -1.6520606829361189,
          0.6801476422127443,
          -0.12392756680468098,
          -0.07670273872641618,
          -0.04849618530228705,
          1.2180747144665214,
          1.2128962565489956,
          0.3762516339308745,
          -0.5565011190469488,
          -0.1364181562279877,
          -0.19437748178413206,
          1.4026668982667079,
          0.8073417026377024,
          -0.6350747690552392,
          0.730674678452586,
          0.31451203468104755,
          0.36147776311752927,
          0.334481654381724,
          -0.4519032567803592,
          1.1689208754206821,
          -1.0381074473755387,
          -1.236952861527988,
          -1.184021753155884,
          1.5877481634363442,
          0.37656973045526426,
          1.253968105624739,
          -0.273961523604545,
          -0.6227322325482498,
          0.2778810494439011,
          0.7038105235713742,
          1.8581078015635768,
          0.8160820061935568,
          0.29782056676250757,
          0.445918108190454,
          2.179356464510833,
          -1.9169911601817897,
          0.47077040244627666,
          1.8008732957668332,
          2.1653391637887998,
          2.1163207436551366,
          0.32100313067784947,
          -0.35375994754141865,
          1.1950870728064251,
          -2.369214356329446,
          0.6572204125779151
         ]
        },
        {
         "mode": "markers",
         "type": "scatter",
         "x": [
          -5,
          -4.898989898989899,
          -4.797979797979798,
          -4.696969696969697,
          -4.595959595959596,
          -4.494949494949495,
          -4.393939393939394,
          -4.292929292929293,
          -4.191919191919192,
          -4.090909090909091,
          -3.9898989898989896,
          -3.888888888888889,
          -3.787878787878788,
          -3.686868686868687,
          -3.5858585858585856,
          -3.484848484848485,
          -3.383838383838384,
          -3.282828282828283,
          -3.1818181818181817,
          -3.080808080808081,
          -2.9797979797979797,
          -2.878787878787879,
          -2.7777777777777777,
          -2.676767676767677,
          -2.5757575757575757,
          -2.474747474747475,
          -2.3737373737373737,
          -2.272727272727273,
          -2.1717171717171717,
          -2.070707070707071,
          -1.9696969696969697,
          -1.868686868686869,
          -1.7676767676767677,
          -1.6666666666666665,
          -1.5656565656565657,
          -1.4646464646464645,
          -1.3636363636363638,
          -1.2626262626262625,
          -1.1616161616161618,
          -1.0606060606060606,
          -0.9595959595959593,
          -0.858585858585859,
          -0.7575757575757578,
          -0.6565656565656566,
          -0.5555555555555554,
          -0.45454545454545503,
          -0.3535353535353538,
          -0.2525252525252526,
          -0.15151515151515138,
          -0.050505050505050164,
          0.050505050505050164,
          0.15151515151515138,
          0.2525252525252526,
          0.3535353535353538,
          0.45454545454545414,
          0.5555555555555554,
          0.6565656565656566,
          0.7575757575757578,
          0.8585858585858581,
          0.9595959595959593,
          1.0606060606060606,
          1.1616161616161618,
          1.262626262626262,
          1.3636363636363633,
          1.4646464646464645,
          1.5656565656565657,
          1.666666666666667,
          1.7676767676767673,
          1.8686868686868685,
          1.9696969696969697,
          2.070707070707071,
          2.1717171717171713,
          2.2727272727272725,
          2.3737373737373737,
          2.474747474747475,
          2.5757575757575752,
          2.6767676767676765,
          2.7777777777777777,
          2.878787878787879,
          2.9797979797979792,
          3.0808080808080813,
          3.1818181818181817,
          3.282828282828282,
          3.383838383838384,
          3.4848484848484844,
          3.5858585858585865,
          3.686868686868687,
          3.787878787878787,
          3.8888888888888893,
          3.9898989898989896,
          4.09090909090909,
          4.191919191919192,
          4.292929292929292,
          4.3939393939393945,
          4.494949494949495,
          4.595959595959595,
          4.696969696969697,
          4.797979797979798,
          4.8989898989899,
          5
         ],
         "y": [
          -5,
          -5,
          -5,
          -5,
          -5,
          -5,
          -5,
          -5,
          -5,
          -5,
          -5,
          -5,
          -5,
          -5,
          -5,
          -5,
          -5,
          -5,
          -5,
          -5,
          -5,
          -5,
          -5,
          -5,
          -5,
          -5,
          -4.904023340753955,
          -4.695341496466553,
          -4.48665965217915,
          -4.277977807891748,
          -4.069295963604345,
          -3.860614119316944,
          -3.651932275029541,
          -3.4432504307421383,
          -3.2345685864547367,
          -3.0258867421673337,
          -2.817204897879932,
          -2.608523053592529,
          -2.399841209305127,
          -2.1911593650177243,
          -1.9824775207303218,
          -1.7737956764429208,
          -1.565113832155518,
          -1.3564319878681153,
          -1.1477501435807125,
          -0.9390682992933116,
          -0.7303864550059088,
          -0.5217046107185059,
          -0.3130227664311032,
          -0.10434092214370047,
          0.10434092214370047,
          0.3130227664311032,
          0.5217046107185059,
          0.7303864550059088,
          0.9390682992933097,
          1.1477501435807125,
          1.3564319878681153,
          1.565113832155518,
          1.773795676442919,
          1.9824775207303218,
          2.1911593650177243,
          2.399841209305127,
          2.608523053592528,
          2.817204897879931,
          3.0258867421673337,
          3.2345685864547367,
          3.443250430742139,
          3.65193227502954,
          3.860614119316943,
          4.069295963604345,
          4.277977807891748,
          4.486659652179149,
          4.695341496466551,
          4.904023340753955,
          5,
          5,
          5,
          5,
          5,
          5,
          5,
          5,
          5,
          5,
          5,
          5,
          5,
          5,
          5,
          5,
          5,
          5,
          5,
          5,
          5,
          5,
          5,
          5,
          5,
          5
         ]
        },
        {
         "mode": "markers",
         "type": "scatter",
         "x": [
          -5,
          -4.898989898989899,
          -4.797979797979798,
          -4.696969696969697,
          -4.595959595959596,
          -4.494949494949495,
          -4.393939393939394,
          -4.292929292929293,
          -4.191919191919192,
          -4.090909090909091,
          -3.9898989898989896,
          -3.888888888888889,
          -3.787878787878788,
          -3.686868686868687,
          -3.5858585858585856,
          -3.484848484848485,
          -3.383838383838384,
          -3.282828282828283,
          -3.1818181818181817,
          -3.080808080808081,
          -2.9797979797979797,
          -2.878787878787879,
          -2.7777777777777777,
          -2.676767676767677,
          -2.5757575757575757,
          -2.474747474747475,
          -2.3737373737373737,
          -2.272727272727273,
          -2.1717171717171717,
          -2.070707070707071,
          -1.9696969696969697,
          -1.868686868686869,
          -1.7676767676767677,
          -1.6666666666666665,
          -1.5656565656565657,
          -1.4646464646464645,
          -1.3636363636363638,
          -1.2626262626262625,
          -1.1616161616161618,
          -1.0606060606060606,
          -0.9595959595959593,
          -0.858585858585859,
          -0.7575757575757578,
          -0.6565656565656566,
          -0.5555555555555554,
          -0.45454545454545503,
          -0.3535353535353538,
          -0.2525252525252526,
          -0.15151515151515138,
          -0.050505050505050164,
          0.050505050505050164,
          0.15151515151515138,
          0.2525252525252526,
          0.3535353535353538,
          0.45454545454545414,
          0.5555555555555554,
          0.6565656565656566,
          0.7575757575757578,
          0.8585858585858581,
          0.9595959595959593,
          1.0606060606060606,
          1.1616161616161618,
          1.262626262626262,
          1.3636363636363633,
          1.4646464646464645,
          1.5656565656565657,
          1.666666666666667,
          1.7676767676767673,
          1.8686868686868685,
          1.9696969696969697,
          2.070707070707071,
          2.1717171717171713,
          2.2727272727272725,
          2.3737373737373737,
          2.474747474747475,
          2.5757575757575752,
          2.6767676767676765,
          2.7777777777777777,
          2.878787878787879,
          2.9797979797979792,
          3.0808080808080813,
          3.1818181818181817,
          3.282828282828282,
          3.383838383838384,
          3.4848484848484844,
          3.5858585858585865,
          3.686868686868687,
          3.787878787878787,
          3.8888888888888893,
          3.9898989898989896,
          4.09090909090909,
          4.191919191919192,
          4.292929292929292,
          4.3939393939393945,
          4.494949494949495,
          4.595959595959595,
          4.696969696969697,
          4.797979797979798,
          4.8989898989899,
          5
         ],
         "y": [
          -5,
          -5,
          -5,
          -5,
          -5,
          -5,
          -5,
          -5,
          -5,
          -5,
          -5,
          -5,
          -5,
          -5,
          -5,
          -5,
          -5,
          -5,
          -5,
          -5,
          -5,
          -5,
          -5,
          -5,
          -5,
          -5,
          -5,
          -5,
          -5,
          -5,
          -5,
          -5,
          -5,
          -5,
          -4.931068305352802,
          -4.612934866297782,
          -4.2948014272427635,
          -3.9766679881877436,
          -3.6585345491327246,
          -3.3404011100777047,
          -3.0222676710226843,
          -2.704134231967667,
          -2.3860007929126468,
          -2.0678673538576264,
          -1.7497339148026068,
          -1.431600475747589,
          -1.113467036692569,
          -0.795333597637549,
          -0.47720015858252884,
          -0.15906671952750867,
          0.15906671952750867,
          0.47720015858252884,
          0.795333597637549,
          1.113467036692569,
          1.4316004757475862,
          1.7497339148026068,
          2.0678673538576264,
          2.3860007929126468,
          2.704134231967664,
          3.0222676710226843,
          3.3404011100777047,
          3.6585345491327246,
          3.9766679881877423,
          4.294801427242762,
          4.612934866297782,
          4.931068305352802,
          5,
          5,
          5,
          5,
          5,
          5,
          5,
          5,
          5,
          5,
          5,
          5,
          5,
          5,
          5,
          5,
          5,
          5,
          5,
          5,
          5,
          5,
          5,
          5,
          5,
          5,
          5,
          5,
          5,
          5,
          5,
          5,
          5,
          5
         ]
        }
       ],
       "layout": {
        "template": {
         "data": {
          "bar": [
           {
            "error_x": {
             "color": "#2a3f5f"
            },
            "error_y": {
             "color": "#2a3f5f"
            },
            "marker": {
             "line": {
              "color": "#E5ECF6",
              "width": 0.5
             }
            },
            "type": "bar"
           }
          ],
          "barpolar": [
           {
            "marker": {
             "line": {
              "color": "#E5ECF6",
              "width": 0.5
             }
            },
            "type": "barpolar"
           }
          ],
          "carpet": [
           {
            "aaxis": {
             "endlinecolor": "#2a3f5f",
             "gridcolor": "white",
             "linecolor": "white",
             "minorgridcolor": "white",
             "startlinecolor": "#2a3f5f"
            },
            "baxis": {
             "endlinecolor": "#2a3f5f",
             "gridcolor": "white",
             "linecolor": "white",
             "minorgridcolor": "white",
             "startlinecolor": "#2a3f5f"
            },
            "type": "carpet"
           }
          ],
          "choropleth": [
           {
            "colorbar": {
             "outlinewidth": 0,
             "ticks": ""
            },
            "type": "choropleth"
           }
          ],
          "contour": [
           {
            "colorbar": {
             "outlinewidth": 0,
             "ticks": ""
            },
            "colorscale": [
             [
              0,
              "#0d0887"
             ],
             [
              0.1111111111111111,
              "#46039f"
             ],
             [
              0.2222222222222222,
              "#7201a8"
             ],
             [
              0.3333333333333333,
              "#9c179e"
             ],
             [
              0.4444444444444444,
              "#bd3786"
             ],
             [
              0.5555555555555556,
              "#d8576b"
             ],
             [
              0.6666666666666666,
              "#ed7953"
             ],
             [
              0.7777777777777778,
              "#fb9f3a"
             ],
             [
              0.8888888888888888,
              "#fdca26"
             ],
             [
              1,
              "#f0f921"
             ]
            ],
            "type": "contour"
           }
          ],
          "contourcarpet": [
           {
            "colorbar": {
             "outlinewidth": 0,
             "ticks": ""
            },
            "type": "contourcarpet"
           }
          ],
          "heatmap": [
           {
            "colorbar": {
             "outlinewidth": 0,
             "ticks": ""
            },
            "colorscale": [
             [
              0,
              "#0d0887"
             ],
             [
              0.1111111111111111,
              "#46039f"
             ],
             [
              0.2222222222222222,
              "#7201a8"
             ],
             [
              0.3333333333333333,
              "#9c179e"
             ],
             [
              0.4444444444444444,
              "#bd3786"
             ],
             [
              0.5555555555555556,
              "#d8576b"
             ],
             [
              0.6666666666666666,
              "#ed7953"
             ],
             [
              0.7777777777777778,
              "#fb9f3a"
             ],
             [
              0.8888888888888888,
              "#fdca26"
             ],
             [
              1,
              "#f0f921"
             ]
            ],
            "type": "heatmap"
           }
          ],
          "heatmapgl": [
           {
            "colorbar": {
             "outlinewidth": 0,
             "ticks": ""
            },
            "colorscale": [
             [
              0,
              "#0d0887"
             ],
             [
              0.1111111111111111,
              "#46039f"
             ],
             [
              0.2222222222222222,
              "#7201a8"
             ],
             [
              0.3333333333333333,
              "#9c179e"
             ],
             [
              0.4444444444444444,
              "#bd3786"
             ],
             [
              0.5555555555555556,
              "#d8576b"
             ],
             [
              0.6666666666666666,
              "#ed7953"
             ],
             [
              0.7777777777777778,
              "#fb9f3a"
             ],
             [
              0.8888888888888888,
              "#fdca26"
             ],
             [
              1,
              "#f0f921"
             ]
            ],
            "type": "heatmapgl"
           }
          ],
          "histogram": [
           {
            "marker": {
             "colorbar": {
              "outlinewidth": 0,
              "ticks": ""
             }
            },
            "type": "histogram"
           }
          ],
          "histogram2d": [
           {
            "colorbar": {
             "outlinewidth": 0,
             "ticks": ""
            },
            "colorscale": [
             [
              0,
              "#0d0887"
             ],
             [
              0.1111111111111111,
              "#46039f"
             ],
             [
              0.2222222222222222,
              "#7201a8"
             ],
             [
              0.3333333333333333,
              "#9c179e"
             ],
             [
              0.4444444444444444,
              "#bd3786"
             ],
             [
              0.5555555555555556,
              "#d8576b"
             ],
             [
              0.6666666666666666,
              "#ed7953"
             ],
             [
              0.7777777777777778,
              "#fb9f3a"
             ],
             [
              0.8888888888888888,
              "#fdca26"
             ],
             [
              1,
              "#f0f921"
             ]
            ],
            "type": "histogram2d"
           }
          ],
          "histogram2dcontour": [
           {
            "colorbar": {
             "outlinewidth": 0,
             "ticks": ""
            },
            "colorscale": [
             [
              0,
              "#0d0887"
             ],
             [
              0.1111111111111111,
              "#46039f"
             ],
             [
              0.2222222222222222,
              "#7201a8"
             ],
             [
              0.3333333333333333,
              "#9c179e"
             ],
             [
              0.4444444444444444,
              "#bd3786"
             ],
             [
              0.5555555555555556,
              "#d8576b"
             ],
             [
              0.6666666666666666,
              "#ed7953"
             ],
             [
              0.7777777777777778,
              "#fb9f3a"
             ],
             [
              0.8888888888888888,
              "#fdca26"
             ],
             [
              1,
              "#f0f921"
             ]
            ],
            "type": "histogram2dcontour"
           }
          ],
          "mesh3d": [
           {
            "colorbar": {
             "outlinewidth": 0,
             "ticks": ""
            },
            "type": "mesh3d"
           }
          ],
          "parcoords": [
           {
            "line": {
             "colorbar": {
              "outlinewidth": 0,
              "ticks": ""
             }
            },
            "type": "parcoords"
           }
          ],
          "pie": [
           {
            "automargin": true,
            "type": "pie"
           }
          ],
          "scatter": [
           {
            "marker": {
             "colorbar": {
              "outlinewidth": 0,
              "ticks": ""
             }
            },
            "type": "scatter"
           }
          ],
          "scatter3d": [
           {
            "line": {
             "colorbar": {
              "outlinewidth": 0,
              "ticks": ""
             }
            },
            "marker": {
             "colorbar": {
              "outlinewidth": 0,
              "ticks": ""
             }
            },
            "type": "scatter3d"
           }
          ],
          "scattercarpet": [
           {
            "marker": {
             "colorbar": {
              "outlinewidth": 0,
              "ticks": ""
             }
            },
            "type": "scattercarpet"
           }
          ],
          "scattergeo": [
           {
            "marker": {
             "colorbar": {
              "outlinewidth": 0,
              "ticks": ""
             }
            },
            "type": "scattergeo"
           }
          ],
          "scattergl": [
           {
            "marker": {
             "colorbar": {
              "outlinewidth": 0,
              "ticks": ""
             }
            },
            "type": "scattergl"
           }
          ],
          "scattermapbox": [
           {
            "marker": {
             "colorbar": {
              "outlinewidth": 0,
              "ticks": ""
             }
            },
            "type": "scattermapbox"
           }
          ],
          "scatterpolar": [
           {
            "marker": {
             "colorbar": {
              "outlinewidth": 0,
              "ticks": ""
             }
            },
            "type": "scatterpolar"
           }
          ],
          "scatterpolargl": [
           {
            "marker": {
             "colorbar": {
              "outlinewidth": 0,
              "ticks": ""
             }
            },
            "type": "scatterpolargl"
           }
          ],
          "scatterternary": [
           {
            "marker": {
             "colorbar": {
              "outlinewidth": 0,
              "ticks": ""
             }
            },
            "type": "scatterternary"
           }
          ],
          "surface": [
           {
            "colorbar": {
             "outlinewidth": 0,
             "ticks": ""
            },
            "colorscale": [
             [
              0,
              "#0d0887"
             ],
             [
              0.1111111111111111,
              "#46039f"
             ],
             [
              0.2222222222222222,
              "#7201a8"
             ],
             [
              0.3333333333333333,
              "#9c179e"
             ],
             [
              0.4444444444444444,
              "#bd3786"
             ],
             [
              0.5555555555555556,
              "#d8576b"
             ],
             [
              0.6666666666666666,
              "#ed7953"
             ],
             [
              0.7777777777777778,
              "#fb9f3a"
             ],
             [
              0.8888888888888888,
              "#fdca26"
             ],
             [
              1,
              "#f0f921"
             ]
            ],
            "type": "surface"
           }
          ],
          "table": [
           {
            "cells": {
             "fill": {
              "color": "#EBF0F8"
             },
             "line": {
              "color": "white"
             }
            },
            "header": {
             "fill": {
              "color": "#C8D4E3"
             },
             "line": {
              "color": "white"
             }
            },
            "type": "table"
           }
          ]
         },
         "layout": {
          "annotationdefaults": {
           "arrowcolor": "#2a3f5f",
           "arrowhead": 0,
           "arrowwidth": 1
          },
          "coloraxis": {
           "colorbar": {
            "outlinewidth": 0,
            "ticks": ""
           }
          },
          "colorscale": {
           "diverging": [
            [
             0,
             "#8e0152"
            ],
            [
             0.1,
             "#c51b7d"
            ],
            [
             0.2,
             "#de77ae"
            ],
            [
             0.3,
             "#f1b6da"
            ],
            [
             0.4,
             "#fde0ef"
            ],
            [
             0.5,
             "#f7f7f7"
            ],
            [
             0.6,
             "#e6f5d0"
            ],
            [
             0.7,
             "#b8e186"
            ],
            [
             0.8,
             "#7fbc41"
            ],
            [
             0.9,
             "#4d9221"
            ],
            [
             1,
             "#276419"
            ]
           ],
           "sequential": [
            [
             0,
             "#0d0887"
            ],
            [
             0.1111111111111111,
             "#46039f"
            ],
            [
             0.2222222222222222,
             "#7201a8"
            ],
            [
             0.3333333333333333,
             "#9c179e"
            ],
            [
             0.4444444444444444,
             "#bd3786"
            ],
            [
             0.5555555555555556,
             "#d8576b"
            ],
            [
             0.6666666666666666,
             "#ed7953"
            ],
            [
             0.7777777777777778,
             "#fb9f3a"
            ],
            [
             0.8888888888888888,
             "#fdca26"
            ],
            [
             1,
             "#f0f921"
            ]
           ],
           "sequentialminus": [
            [
             0,
             "#0d0887"
            ],
            [
             0.1111111111111111,
             "#46039f"
            ],
            [
             0.2222222222222222,
             "#7201a8"
            ],
            [
             0.3333333333333333,
             "#9c179e"
            ],
            [
             0.4444444444444444,
             "#bd3786"
            ],
            [
             0.5555555555555556,
             "#d8576b"
            ],
            [
             0.6666666666666666,
             "#ed7953"
            ],
            [
             0.7777777777777778,
             "#fb9f3a"
            ],
            [
             0.8888888888888888,
             "#fdca26"
            ],
            [
             1,
             "#f0f921"
            ]
           ]
          },
          "colorway": [
           "#636efa",
           "#EF553B",
           "#00cc96",
           "#ab63fa",
           "#FFA15A",
           "#19d3f3",
           "#FF6692",
           "#B6E880",
           "#FF97FF",
           "#FECB52"
          ],
          "font": {
           "color": "#2a3f5f"
          },
          "geo": {
           "bgcolor": "white",
           "lakecolor": "white",
           "landcolor": "#E5ECF6",
           "showlakes": true,
           "showland": true,
           "subunitcolor": "white"
          },
          "hoverlabel": {
           "align": "left"
          },
          "hovermode": "closest",
          "mapbox": {
           "style": "light"
          },
          "paper_bgcolor": "white",
          "plot_bgcolor": "#E5ECF6",
          "polar": {
           "angularaxis": {
            "gridcolor": "white",
            "linecolor": "white",
            "ticks": ""
           },
           "bgcolor": "#E5ECF6",
           "radialaxis": {
            "gridcolor": "white",
            "linecolor": "white",
            "ticks": ""
           }
          },
          "scene": {
           "xaxis": {
            "backgroundcolor": "#E5ECF6",
            "gridcolor": "white",
            "gridwidth": 2,
            "linecolor": "white",
            "showbackground": true,
            "ticks": "",
            "zerolinecolor": "white"
           },
           "yaxis": {
            "backgroundcolor": "#E5ECF6",
            "gridcolor": "white",
            "gridwidth": 2,
            "linecolor": "white",
            "showbackground": true,
            "ticks": "",
            "zerolinecolor": "white"
           },
           "zaxis": {
            "backgroundcolor": "#E5ECF6",
            "gridcolor": "white",
            "gridwidth": 2,
            "linecolor": "white",
            "showbackground": true,
            "ticks": "",
            "zerolinecolor": "white"
           }
          },
          "shapedefaults": {
           "line": {
            "color": "#2a3f5f"
           }
          },
          "ternary": {
           "aaxis": {
            "gridcolor": "white",
            "linecolor": "white",
            "ticks": ""
           },
           "baxis": {
            "gridcolor": "white",
            "linecolor": "white",
            "ticks": ""
           },
           "bgcolor": "#E5ECF6",
           "caxis": {
            "gridcolor": "white",
            "linecolor": "white",
            "ticks": ""
           }
          },
          "title": {
           "x": 0.05
          },
          "xaxis": {
           "automargin": true,
           "gridcolor": "white",
           "linecolor": "white",
           "ticks": "",
           "title": {
            "standoff": 15
           },
           "zerolinecolor": "white",
           "zerolinewidth": 2
          },
          "yaxis": {
           "automargin": true,
           "gridcolor": "white",
           "linecolor": "white",
           "ticks": "",
           "title": {
            "standoff": 15
           },
           "zerolinecolor": "white",
           "zerolinewidth": 2
          }
         }
        }
       }
      }
     },
     "metadata": {}
    }
   ],
   "source": [
    "N = 100\n",
    "(A, B) = multivariate(N, [-1,0], [1,0], 1, 1)\n",
    "\n",
    "fig = go.Figure()\n",
    "fig.add_trace(go.Scatter(x=A[:,0], y=A[:,1], mode=\"markers\"))\n",
    "fig.add_trace(go.Scatter(x=B[:,0], y=B[:,1], mode=\"markers\"))\n",
    "fig.show()\n",
    "features = np.concatenate([A,B],axis=0)\n",
    "targets = np.concatenate([-np.ones((A.shape[0],1)), np.ones((B.shape[0],1))], axis=0)\n",
    "print(features.shape)\n",
    "print(targets.shape)\n",
    "\n",
    "w = np.random.uniform(0,1,(2,1))\n",
    "epoch = 50\n",
    "eta = 1e-4\n",
    "\n",
    "mae_delta = delta_learning(features, targets, w, epoch, eta)\n",
    "plot_boundary(fig, w.T)\n",
    "mae_fig = go.Figure()\n",
    "mae_fig.add_trace(go.Scatter(x=np.arange(len(mae_delta)), y=mae_delta, name=\"Delta\"))\n",
    "\n",
    "model, mae_per = perceptron_learning(features, targets, 10, epoch, eta)\n",
    "plot_boundary(fig, model.W)\n",
    "mae_fig.add_trace(go.Scatter(x=np.arange(len(mae_per)), y=mae_per, name=\"Perceptron\"))\n",
    "mae_fig.show()\n",
    "fig.show()"
   ]
  },
  {
   "cell_type": "code",
   "execution_count": 17,
   "metadata": {},
   "outputs": [
    {
     "output_type": "display_data",
     "data": {
      "application/vnd.plotly.v1+json": {
       "config": {
        "plotlyServerURL": "https://plot.ly"
       },
       "data": [
        {
         "mode": "markers",
         "type": "scatter",
         "x": [
          -1.0510662271816147,
          -1.05701248210199,
          -1.138995828144977,
          -0.9157337988413744,
          -1.0249115128911839,
          -0.9636379162770147,
          -1.1331296938057127,
          -0.6194553715842943,
          -0.8715889908885325,
          -1.070801423088751,
          -1.1190263372823162,
          -1.0435150954598646,
          -0.9331744169986627,
          -0.9410160571217223,
          -0.8145218493815152,
          -0.5137081383124518,
          -1.1751395857995475,
          -1.040366605531354,
          -1.024226204510073,
          -0.9469627131993371,
          -1.0887357531539417,
          -1.0217289026924095,
          -0.8037808977821275,
          -0.9659187731633417,
          -1.0404749353542886,
          -0.9485579246422992,
          -0.9510842783692386,
          -1.196061031973486,
          -1.0369537470761865,
          -1.1435073241002862,
          -1.0873754218928728,
          -0.9553116115696136,
          -1.087507592617166,
          -1.2856996550285706,
          -0.9135804695019141,
          -0.7160653223638849,
          -1.1342533476576977,
          -0.684396435421935,
          -1.0714664632293847,
          -0.9533002390049469,
          -1.1673346181024626,
          -0.7727205522460618,
          -1.1874292711067371,
          -1.1426451621389553,
          -1.0471078778624558,
          -1.0132048347895957,
          -1.0422394889781903,
          -0.9941172162600073,
          -0.9853495055464729,
          -0.9996959917736525,
          1.4232001878140526,
          1.2272892195060485,
          0.9633774765476866,
          0.7554438567995114,
          0.757462919431337,
          0.9394615994215864,
          1.0853922057469323,
          1.0538955989829677,
          0.8635311195892299,
          1.2623657333682374,
          1.3098249862178724,
          1.1867870807611456,
          1.2648995524251032,
          1.2466471403106985,
          0.874932004834899,
          1.4730084192278015,
          0.8557517730121077,
          0.8162256166448603,
          0.8044157475464505,
          1.289078627381294,
          0.9645556734581913,
          0.8563876127508313,
          1.2024026303972932,
          1.0093730696333383,
          1.1913068554108521,
          1.3462767803421447,
          0.8158327122261997,
          1.1064629862029733,
          1.0202287861705508,
          0.7901615195907431,
          0.6045232645192294,
          0.9276561129975798,
          0.9448334753399555,
          1.308280140352449,
          1.2373349625147163,
          0.7832688323365657,
          0.8590853539419777,
          1.0273638342840758,
          0.8790916948896439,
          1.1077741441710678,
          1.1758932610988366,
          0.9423332175356138,
          0.9875432249675997,
          0.8337966952718986,
          1.0156377068220457,
          1.009083789440688,
          1.1454169447590217,
          1.1116567020971708,
          1.0898866819036663,
          1.2917827928680365
         ],
         "y": [
          0.00010609440848180496,
          0.4196724413125915,
          0.009370875434108028,
          0.4388880549408345,
          0.5666583491575465,
          0.25137553415984465,
          0.5870284196560123,
          -0.0060906612508042635,
          0.2151219112540365,
          0.5292425935233196,
          0.19662082603529513,
          0.5918509541942211,
          0.47796426474655884,
          0.4348849245112615,
          0.5355687764030493,
          0.3128088610926602,
          0.3800142150792142,
          -0.013422187201540814,
          0.1706738839464527,
          0.3765185055336445,
          0.025081011369932238,
          0.29598534193532827,
          0.2876597630173871,
          0.4763745543748866,
          0.1399700450920342,
          0.3905131796840835,
          0.28074878720505914,
          -0.02040597569003394,
          0.3858803263961037,
          0.2900728157551575,
          -0.09347937367217679,
          0.5020093588386045,
          0.25162371731885097,
          0.14695952198714687,
          0.5922292080771517,
          0.3099525036359229,
          0.6657980528093257,
          0.6005151410652042,
          0.2022768098588829,
          0.011965461570770608,
          0.4548078727859729,
          0.14188985437412488,
          0.37135801013081116,
          0.4544527756062263,
          0.6212771715605548,
          0.3182246604762193,
          0.32878824613570296,
          0.421363577664128,
          0.20004979492987124,
          0.2092173856514053,
          0.3870102946594648,
          0.6189041985482959,
          0.4008795183035891,
          0.25197380822266763,
          0.118951828362855,
          0.07765486094706425,
          0.29265893716988695,
          0.4630556028588795,
          0.04530945986206608,
          0.18084004118847657,
          0.29906458082496834,
          0.5559712568186055,
          0.4939719936451388,
          0.1936209492368241,
          0.6009172598938577,
          0.5719750587147434,
          0.22103466738843697,
          0.23021104195540226,
          0.19575601120086317,
          0.18565596128275635,
          0.3825121342943656,
          -0.2798609606266174,
          -0.07244702169534906,
          0.2494236108031649,
          -0.10043475966576776,
          0.25184558760904846,
          0.6017305585287457,
          0.21249629434358788,
          -0.23982712517766863,
          0.49760840837981574,
          0.3241167750366443,
          0.29246506401452815,
          0.32658351267454544,
          0.36061196655926575,
          0.4180483380410532,
          0.08058676586899341,
          0.4952688676109113,
          0.525306331560923,
          0.5075556924254311,
          0.48011805919349454,
          0.38653169774615226,
          -0.08212546401585713,
          0.2730579557299599,
          0.41840774128530683,
          0.47566712313924575,
          0.40739041678909177,
          0.41715061298596556,
          0.3672036771564927,
          0.6028451983786272,
          0.3044885514575517
         ]
        },
        {
         "mode": "markers",
         "type": "scatter",
         "x": [
          -0.20971847603607818,
          0.4320203506874623,
          -0.07826425970470328,
          0.2953120904001963,
          0.20542423054582712,
          -0.1455798340086482,
          -0.1384320149855099,
          -0.024289097927438687,
          0.19398341330828414,
          -0.19280679331159792,
          0.17892230245049642,
          0.2748008305632983,
          0.3886884269919096,
          -0.35350825992988544,
          -0.8824071123896361,
          -0.11953220337216137,
          0.11840273193977378,
          0.0867842774762008,
          0.2675647689804076,
          0.13019387846162583,
          -0.06745148483130346,
          -0.5965928978138476,
          0.06929594861718294,
          0.14073990279293366,
          0.2340305290952538,
          -0.21658884573776374,
          -0.40158975961780596,
          -0.3850308961231875,
          -0.060614634070988,
          0.14025158600969867,
          -0.2356253642915943,
          -0.06585028457005619,
          0.2720819641676015,
          0.22811685065696205,
          -0.10099925781451811,
          -0.30072730061611697,
          -0.1812109141416831,
          -0.2184212433464395,
          -0.016878274815146522,
          0.13207945195228807,
          0.04200320212242795,
          -0.3658218530404995,
          0.1616259203539376,
          0.06705132274350163,
          -0.07972733504749989,
          0.6526199343752669,
          0.07969907492484658,
          -0.13569260819119325,
          -0.208265388477023,
          0.015198138487734554,
          0.24407966846538862,
          -0.10124564762886602,
          -0.15293691316157754,
          -0.1895508931532891,
          -0.2579725068011402,
          -0.7023806291549076,
          0.6659155981237953,
          0.3322537684528067,
          -0.2210060124448452,
          -0.6179098652122342,
          0.18714401792371804,
          -0.27465609310732664,
          0.23119449037646045,
          -0.005062666167180751,
          -0.12675530661108453,
          -0.005247415075625801,
          0.37759677234063593,
          -0.29701144342945157,
          -0.38884324131990067,
          -0.037925842885411135,
          0.02602365966735547,
          -0.04698425247549733,
          0.2774087965286129,
          -0.2294353769130491,
          0.21974413505184995,
          0.55767567457819,
          -0.2512141210415364,
          -0.9123824728837484,
          -0.07507529148142639,
          -0.04501288887772887,
          -0.28919459350599447,
          -0.24018345481360331,
          0.21486969558267865,
          0.008669078382690251,
          -0.7815082158875843,
          0.2815225392205148,
          -0.17572730073149262,
          -0.524943388948308,
          -0.18535933179279157,
          0.2748486940423396,
          -0.5145193983204731,
          0.2174473031885447,
          0.41690138198341636,
          -0.15828288241139507,
          0.13412140214494567,
          -0.13351462748224924,
          -0.2236224939094904,
          -0.3727192239834452,
          0.27028942114171695,
          -0.26831527847763637
         ],
         "y": [
          0.26335027821199875,
          -0.014760931014904152,
          -0.12362907219470268,
          -0.6858273616033143,
          -0.13369852278718047,
          -0.3756060076150811,
          -0.3283709400907744,
          0.01027153256137546,
          -0.08268164461995313,
          -0.0167547389025188,
          0.043923546162523947,
          -0.08877764597592112,
          -0.025721026438803488,
          0.2091566762722261,
          -0.00981877571115973,
          0.5546828211291613,
          0.08554129396909615,
          0.2268362108965052,
          0.2561919093616335,
          0.04690013538748897,
          -0.6711351409881267,
          0.2984540047143789,
          -0.33729032439875495,
          -0.07608959694475537,
          0.3404720317455051,
          -0.7389562581388422,
          -0.14751105831082145,
          0.19799034734435686,
          -0.1328028443316543,
          -0.01866010142067495,
          -0.39264784814107434,
          -0.2555236021991517,
          0.09278453837167133,
          -0.12924374289116103,
          0.40136103109605914,
          -0.2826827153528179,
          -0.05284074670341896,
          -0.02517324663680895,
          0.24683470465218846,
          -0.23583130955206796,
          -0.6140767529571066,
          -0.01691006912730074,
          0.29379819211396263,
          0.3524697738682181,
          -0.027783808702782964,
          -0.11770239494920876,
          -0.1857369488612129,
          -0.10425545568000795,
          0.07014072916847652,
          -0.36765734638526104,
          -0.06937463915951886,
          0.0801854690001341,
          0.2514550606070367,
          -0.22901462533162562,
          -0.38782591189310156,
          -0.47026192111084175,
          0.12675247044908555,
          0.353707165525008,
          -0.3244076148356273,
          -0.6806929280622426,
          -0.10051850161434249,
          -0.03876665152232138,
          -0.3663101351118926,
          0.0035208627286796718,
          -0.12266381760724057,
          0.03839892033734632,
          -0.29539544241616866,
          -0.6232849864156081,
          0.08694743812188138,
          -0.04684599265405979,
          0.12528458761777372,
          -0.011095735201998233,
          0.4259440554946987,
          -0.446051805726431,
          0.08343854184709967,
          -0.17083541212545683,
          -0.058829855975023874,
          -0.7667088214740911,
          -0.10956852080690185,
          -0.6118641027369648,
          0.11328265252253863,
          0.0523404072951793,
          0.08084923950130876,
          -0.5216644055112571,
          0.0875570282489353,
          -0.4766893730455656,
          0.4830164163450079,
          0.16217924396381297,
          -0.26905574502677265,
          -0.21750191732111554,
          0.3382654493965389,
          -0.43098200621979177,
          0.07834543248573536,
          0.15070769010948418,
          -0.21104592799876268,
          0.19550893956962964,
          -0.001831518827088055,
          -0.17412481512297073,
          0.04742961005247434,
          -0.34007035635258165
         ]
        }
       ],
       "layout": {
        "template": {
         "data": {
          "bar": [
           {
            "error_x": {
             "color": "#2a3f5f"
            },
            "error_y": {
             "color": "#2a3f5f"
            },
            "marker": {
             "line": {
              "color": "#E5ECF6",
              "width": 0.5
             }
            },
            "type": "bar"
           }
          ],
          "barpolar": [
           {
            "marker": {
             "line": {
              "color": "#E5ECF6",
              "width": 0.5
             }
            },
            "type": "barpolar"
           }
          ],
          "carpet": [
           {
            "aaxis": {
             "endlinecolor": "#2a3f5f",
             "gridcolor": "white",
             "linecolor": "white",
             "minorgridcolor": "white",
             "startlinecolor": "#2a3f5f"
            },
            "baxis": {
             "endlinecolor": "#2a3f5f",
             "gridcolor": "white",
             "linecolor": "white",
             "minorgridcolor": "white",
             "startlinecolor": "#2a3f5f"
            },
            "type": "carpet"
           }
          ],
          "choropleth": [
           {
            "colorbar": {
             "outlinewidth": 0,
             "ticks": ""
            },
            "type": "choropleth"
           }
          ],
          "contour": [
           {
            "colorbar": {
             "outlinewidth": 0,
             "ticks": ""
            },
            "colorscale": [
             [
              0,
              "#0d0887"
             ],
             [
              0.1111111111111111,
              "#46039f"
             ],
             [
              0.2222222222222222,
              "#7201a8"
             ],
             [
              0.3333333333333333,
              "#9c179e"
             ],
             [
              0.4444444444444444,
              "#bd3786"
             ],
             [
              0.5555555555555556,
              "#d8576b"
             ],
             [
              0.6666666666666666,
              "#ed7953"
             ],
             [
              0.7777777777777778,
              "#fb9f3a"
             ],
             [
              0.8888888888888888,
              "#fdca26"
             ],
             [
              1,
              "#f0f921"
             ]
            ],
            "type": "contour"
           }
          ],
          "contourcarpet": [
           {
            "colorbar": {
             "outlinewidth": 0,
             "ticks": ""
            },
            "type": "contourcarpet"
           }
          ],
          "heatmap": [
           {
            "colorbar": {
             "outlinewidth": 0,
             "ticks": ""
            },
            "colorscale": [
             [
              0,
              "#0d0887"
             ],
             [
              0.1111111111111111,
              "#46039f"
             ],
             [
              0.2222222222222222,
              "#7201a8"
             ],
             [
              0.3333333333333333,
              "#9c179e"
             ],
             [
              0.4444444444444444,
              "#bd3786"
             ],
             [
              0.5555555555555556,
              "#d8576b"
             ],
             [
              0.6666666666666666,
              "#ed7953"
             ],
             [
              0.7777777777777778,
              "#fb9f3a"
             ],
             [
              0.8888888888888888,
              "#fdca26"
             ],
             [
              1,
              "#f0f921"
             ]
            ],
            "type": "heatmap"
           }
          ],
          "heatmapgl": [
           {
            "colorbar": {
             "outlinewidth": 0,
             "ticks": ""
            },
            "colorscale": [
             [
              0,
              "#0d0887"
             ],
             [
              0.1111111111111111,
              "#46039f"
             ],
             [
              0.2222222222222222,
              "#7201a8"
             ],
             [
              0.3333333333333333,
              "#9c179e"
             ],
             [
              0.4444444444444444,
              "#bd3786"
             ],
             [
              0.5555555555555556,
              "#d8576b"
             ],
             [
              0.6666666666666666,
              "#ed7953"
             ],
             [
              0.7777777777777778,
              "#fb9f3a"
             ],
             [
              0.8888888888888888,
              "#fdca26"
             ],
             [
              1,
              "#f0f921"
             ]
            ],
            "type": "heatmapgl"
           }
          ],
          "histogram": [
           {
            "marker": {
             "colorbar": {
              "outlinewidth": 0,
              "ticks": ""
             }
            },
            "type": "histogram"
           }
          ],
          "histogram2d": [
           {
            "colorbar": {
             "outlinewidth": 0,
             "ticks": ""
            },
            "colorscale": [
             [
              0,
              "#0d0887"
             ],
             [
              0.1111111111111111,
              "#46039f"
             ],
             [
              0.2222222222222222,
              "#7201a8"
             ],
             [
              0.3333333333333333,
              "#9c179e"
             ],
             [
              0.4444444444444444,
              "#bd3786"
             ],
             [
              0.5555555555555556,
              "#d8576b"
             ],
             [
              0.6666666666666666,
              "#ed7953"
             ],
             [
              0.7777777777777778,
              "#fb9f3a"
             ],
             [
              0.8888888888888888,
              "#fdca26"
             ],
             [
              1,
              "#f0f921"
             ]
            ],
            "type": "histogram2d"
           }
          ],
          "histogram2dcontour": [
           {
            "colorbar": {
             "outlinewidth": 0,
             "ticks": ""
            },
            "colorscale": [
             [
              0,
              "#0d0887"
             ],
             [
              0.1111111111111111,
              "#46039f"
             ],
             [
              0.2222222222222222,
              "#7201a8"
             ],
             [
              0.3333333333333333,
              "#9c179e"
             ],
             [
              0.4444444444444444,
              "#bd3786"
             ],
             [
              0.5555555555555556,
              "#d8576b"
             ],
             [
              0.6666666666666666,
              "#ed7953"
             ],
             [
              0.7777777777777778,
              "#fb9f3a"
             ],
             [
              0.8888888888888888,
              "#fdca26"
             ],
             [
              1,
              "#f0f921"
             ]
            ],
            "type": "histogram2dcontour"
           }
          ],
          "mesh3d": [
           {
            "colorbar": {
             "outlinewidth": 0,
             "ticks": ""
            },
            "type": "mesh3d"
           }
          ],
          "parcoords": [
           {
            "line": {
             "colorbar": {
              "outlinewidth": 0,
              "ticks": ""
             }
            },
            "type": "parcoords"
           }
          ],
          "pie": [
           {
            "automargin": true,
            "type": "pie"
           }
          ],
          "scatter": [
           {
            "marker": {
             "colorbar": {
              "outlinewidth": 0,
              "ticks": ""
             }
            },
            "type": "scatter"
           }
          ],
          "scatter3d": [
           {
            "line": {
             "colorbar": {
              "outlinewidth": 0,
              "ticks": ""
             }
            },
            "marker": {
             "colorbar": {
              "outlinewidth": 0,
              "ticks": ""
             }
            },
            "type": "scatter3d"
           }
          ],
          "scattercarpet": [
           {
            "marker": {
             "colorbar": {
              "outlinewidth": 0,
              "ticks": ""
             }
            },
            "type": "scattercarpet"
           }
          ],
          "scattergeo": [
           {
            "marker": {
             "colorbar": {
              "outlinewidth": 0,
              "ticks": ""
             }
            },
            "type": "scattergeo"
           }
          ],
          "scattergl": [
           {
            "marker": {
             "colorbar": {
              "outlinewidth": 0,
              "ticks": ""
             }
            },
            "type": "scattergl"
           }
          ],
          "scattermapbox": [
           {
            "marker": {
             "colorbar": {
              "outlinewidth": 0,
              "ticks": ""
             }
            },
            "type": "scattermapbox"
           }
          ],
          "scatterpolar": [
           {
            "marker": {
             "colorbar": {
              "outlinewidth": 0,
              "ticks": ""
             }
            },
            "type": "scatterpolar"
           }
          ],
          "scatterpolargl": [
           {
            "marker": {
             "colorbar": {
              "outlinewidth": 0,
              "ticks": ""
             }
            },
            "type": "scatterpolargl"
           }
          ],
          "scatterternary": [
           {
            "marker": {
             "colorbar": {
              "outlinewidth": 0,
              "ticks": ""
             }
            },
            "type": "scatterternary"
           }
          ],
          "surface": [
           {
            "colorbar": {
             "outlinewidth": 0,
             "ticks": ""
            },
            "colorscale": [
             [
              0,
              "#0d0887"
             ],
             [
              0.1111111111111111,
              "#46039f"
             ],
             [
              0.2222222222222222,
              "#7201a8"
             ],
             [
              0.3333333333333333,
              "#9c179e"
             ],
             [
              0.4444444444444444,
              "#bd3786"
             ],
             [
              0.5555555555555556,
              "#d8576b"
             ],
             [
              0.6666666666666666,
              "#ed7953"
             ],
             [
              0.7777777777777778,
              "#fb9f3a"
             ],
             [
              0.8888888888888888,
              "#fdca26"
             ],
             [
              1,
              "#f0f921"
             ]
            ],
            "type": "surface"
           }
          ],
          "table": [
           {
            "cells": {
             "fill": {
              "color": "#EBF0F8"
             },
             "line": {
              "color": "white"
             }
            },
            "header": {
             "fill": {
              "color": "#C8D4E3"
             },
             "line": {
              "color": "white"
             }
            },
            "type": "table"
           }
          ]
         },
         "layout": {
          "annotationdefaults": {
           "arrowcolor": "#2a3f5f",
           "arrowhead": 0,
           "arrowwidth": 1
          },
          "coloraxis": {
           "colorbar": {
            "outlinewidth": 0,
            "ticks": ""
           }
          },
          "colorscale": {
           "diverging": [
            [
             0,
             "#8e0152"
            ],
            [
             0.1,
             "#c51b7d"
            ],
            [
             0.2,
             "#de77ae"
            ],
            [
             0.3,
             "#f1b6da"
            ],
            [
             0.4,
             "#fde0ef"
            ],
            [
             0.5,
             "#f7f7f7"
            ],
            [
             0.6,
             "#e6f5d0"
            ],
            [
             0.7,
             "#b8e186"
            ],
            [
             0.8,
             "#7fbc41"
            ],
            [
             0.9,
             "#4d9221"
            ],
            [
             1,
             "#276419"
            ]
           ],
           "sequential": [
            [
             0,
             "#0d0887"
            ],
            [
             0.1111111111111111,
             "#46039f"
            ],
            [
             0.2222222222222222,
             "#7201a8"
            ],
            [
             0.3333333333333333,
             "#9c179e"
            ],
            [
             0.4444444444444444,
             "#bd3786"
            ],
            [
             0.5555555555555556,
             "#d8576b"
            ],
            [
             0.6666666666666666,
             "#ed7953"
            ],
            [
             0.7777777777777778,
             "#fb9f3a"
            ],
            [
             0.8888888888888888,
             "#fdca26"
            ],
            [
             1,
             "#f0f921"
            ]
           ],
           "sequentialminus": [
            [
             0,
             "#0d0887"
            ],
            [
             0.1111111111111111,
             "#46039f"
            ],
            [
             0.2222222222222222,
             "#7201a8"
            ],
            [
             0.3333333333333333,
             "#9c179e"
            ],
            [
             0.4444444444444444,
             "#bd3786"
            ],
            [
             0.5555555555555556,
             "#d8576b"
            ],
            [
             0.6666666666666666,
             "#ed7953"
            ],
            [
             0.7777777777777778,
             "#fb9f3a"
            ],
            [
             0.8888888888888888,
             "#fdca26"
            ],
            [
             1,
             "#f0f921"
            ]
           ]
          },
          "colorway": [
           "#636efa",
           "#EF553B",
           "#00cc96",
           "#ab63fa",
           "#FFA15A",
           "#19d3f3",
           "#FF6692",
           "#B6E880",
           "#FF97FF",
           "#FECB52"
          ],
          "font": {
           "color": "#2a3f5f"
          },
          "geo": {
           "bgcolor": "white",
           "lakecolor": "white",
           "landcolor": "#E5ECF6",
           "showlakes": true,
           "showland": true,
           "subunitcolor": "white"
          },
          "hoverlabel": {
           "align": "left"
          },
          "hovermode": "closest",
          "mapbox": {
           "style": "light"
          },
          "paper_bgcolor": "white",
          "plot_bgcolor": "#E5ECF6",
          "polar": {
           "angularaxis": {
            "gridcolor": "white",
            "linecolor": "white",
            "ticks": ""
           },
           "bgcolor": "#E5ECF6",
           "radialaxis": {
            "gridcolor": "white",
            "linecolor": "white",
            "ticks": ""
           }
          },
          "scene": {
           "xaxis": {
            "backgroundcolor": "#E5ECF6",
            "gridcolor": "white",
            "gridwidth": 2,
            "linecolor": "white",
            "showbackground": true,
            "ticks": "",
            "zerolinecolor": "white"
           },
           "yaxis": {
            "backgroundcolor": "#E5ECF6",
            "gridcolor": "white",
            "gridwidth": 2,
            "linecolor": "white",
            "showbackground": true,
            "ticks": "",
            "zerolinecolor": "white"
           },
           "zaxis": {
            "backgroundcolor": "#E5ECF6",
            "gridcolor": "white",
            "gridwidth": 2,
            "linecolor": "white",
            "showbackground": true,
            "ticks": "",
            "zerolinecolor": "white"
           }
          },
          "shapedefaults": {
           "line": {
            "color": "#2a3f5f"
           }
          },
          "ternary": {
           "aaxis": {
            "gridcolor": "white",
            "linecolor": "white",
            "ticks": ""
           },
           "baxis": {
            "gridcolor": "white",
            "linecolor": "white",
            "ticks": ""
           },
           "bgcolor": "#E5ECF6",
           "caxis": {
            "gridcolor": "white",
            "linecolor": "white",
            "ticks": ""
           }
          },
          "title": {
           "x": 0.05
          },
          "xaxis": {
           "automargin": true,
           "gridcolor": "white",
           "linecolor": "white",
           "ticks": "",
           "title": {
            "standoff": 15
           },
           "zerolinecolor": "white",
           "zerolinewidth": 2
          },
          "yaxis": {
           "automargin": true,
           "gridcolor": "white",
           "linecolor": "white",
           "ticks": "",
           "title": {
            "standoff": 15
           },
           "zerolinecolor": "white",
           "zerolinewidth": 2
          }
         }
        }
       }
      }
     },
     "metadata": {}
    },
    {
     "output_type": "display_data",
     "data": {
      "application/vnd.plotly.v1+json": {
       "config": {
        "plotlyServerURL": "https://plot.ly"
       },
       "data": [
        {
         "name": "Delta",
         "type": "scatter",
         "x": [
          0,
          1,
          2,
          3,
          4,
          5,
          6,
          7,
          8,
          9,
          10,
          11,
          12,
          13,
          14,
          15,
          16,
          17,
          18,
          19,
          20,
          21,
          22,
          23,
          24,
          25,
          26,
          27,
          28,
          29,
          30,
          31,
          32,
          33,
          34,
          35,
          36,
          37,
          38,
          39,
          40,
          41,
          42,
          43,
          44,
          45,
          46,
          47,
          48,
          49
         ],
         "y": [
          0.9663586464756675,
          0.9658230892868032,
          0.9652878451643983,
          0.9647529199663101,
          0.9642183194705899,
          0.9636840493763846,
          0.9631501153048286,
          0.9626165227999248,
          0.962083277329419,
          0.96155038428566,
          0.9610178489864548,
          0.960485676675911,
          0.9599538725252716,
          0.9594224416337401,
          0.9588913890292967,
          0.958360719669505,
          0.9578304384423113,
          0.9573005501668327,
          0.9567710595941386,
          0.9562419714080223,
          0.9557132902257649,
          0.9551850205988904,
          0.9546571670139121,
          0.954129733893072,
          0.9536027255950705,
          0.9530761464157892,
          0.952550000589005,
          0.9520242922870963,
          0.9514990256217428,
          0.9509742046446157,
          0.9504498333480614,
          0.9499259156657772,
          0.9494024554734793,
          0.948879456589565,
          0.9483569227757646,
          0.9478348577377902,
          0.947313265125973,
          0.9467921485358968,
          0.9462715115090231,
          0.9457513575333089,
          0.9452316900438192,
          0.9447125124233318,
          0.9441938280029342,
          0.9436756400626166,
          0.9431579518318575,
          0.9426407664901993,
          0.9421240871678235,
          0.9416079169461156,
          0.9410922588582241,
          0.9405771158896145
         ]
        },
        {
         "name": "Perceptron",
         "type": "scatter",
         "x": [
          0,
          1,
          2,
          3,
          4,
          5,
          6,
          7,
          8,
          9,
          10,
          11,
          12,
          13,
          14,
          15,
          16,
          17,
          18,
          19,
          20,
          21,
          22,
          23,
          24,
          25,
          26,
          27,
          28,
          29,
          30,
          31,
          32,
          33,
          34,
          35,
          36,
          37,
          38,
          39,
          40,
          41,
          42,
          43,
          44,
          45,
          46,
          47,
          48,
          49
         ],
         "y": [
          0.9951081486685405,
          0.9951081769053897,
          0.9951082274854229,
          0.9951082926296455,
          0.9951083633821641,
          0.9951084301430736,
          0.995108483063964,
          0.9951085123363798,
          0.9951085083972888,
          0.9951084620706079,
          0.9951083646598285,
          0.9951082080035822,
          0.9951079845034472,
          0.9951076871312603,
          0.9951073094215929,
          0.9951068454537703,
          0.995106289826801,
          0.9951056376297819,
          0.9951048844097223,
          0.995104026138237,
          0.9951030591781616,
          0.9951019802508618,
          0.9951007864047676,
          0.9950994749854787,
          0.9950980436076721,
          0.9950964901289209,
          0.9950948126254702,
          0.995093009369956,
          0.9950910788110165,
          0.9950890195547129,
          0.9950868303476706,
          0.9950845100618225,
          0.9950820576806522,
          0.9950794722868168,
          0.9950767530510378,
          0.9950738992221572,
          0.9950709101182437,
          0.9950677851186643,
          0.9950645236570184,
          0.995061125214857,
          0.9950575893161052,
          0.9950539155221153,
          0.9950501034272873,
          0.9950461526551968,
          0.995042062855172,
          0.9950378336992759,
          0.9950334648796453,
          0.9950289561061512,
          0.9950243071043383,
          0.9950195176136204
         ]
        }
       ],
       "layout": {
        "template": {
         "data": {
          "bar": [
           {
            "error_x": {
             "color": "#2a3f5f"
            },
            "error_y": {
             "color": "#2a3f5f"
            },
            "marker": {
             "line": {
              "color": "#E5ECF6",
              "width": 0.5
             }
            },
            "type": "bar"
           }
          ],
          "barpolar": [
           {
            "marker": {
             "line": {
              "color": "#E5ECF6",
              "width": 0.5
             }
            },
            "type": "barpolar"
           }
          ],
          "carpet": [
           {
            "aaxis": {
             "endlinecolor": "#2a3f5f",
             "gridcolor": "white",
             "linecolor": "white",
             "minorgridcolor": "white",
             "startlinecolor": "#2a3f5f"
            },
            "baxis": {
             "endlinecolor": "#2a3f5f",
             "gridcolor": "white",
             "linecolor": "white",
             "minorgridcolor": "white",
             "startlinecolor": "#2a3f5f"
            },
            "type": "carpet"
           }
          ],
          "choropleth": [
           {
            "colorbar": {
             "outlinewidth": 0,
             "ticks": ""
            },
            "type": "choropleth"
           }
          ],
          "contour": [
           {
            "colorbar": {
             "outlinewidth": 0,
             "ticks": ""
            },
            "colorscale": [
             [
              0,
              "#0d0887"
             ],
             [
              0.1111111111111111,
              "#46039f"
             ],
             [
              0.2222222222222222,
              "#7201a8"
             ],
             [
              0.3333333333333333,
              "#9c179e"
             ],
             [
              0.4444444444444444,
              "#bd3786"
             ],
             [
              0.5555555555555556,
              "#d8576b"
             ],
             [
              0.6666666666666666,
              "#ed7953"
             ],
             [
              0.7777777777777778,
              "#fb9f3a"
             ],
             [
              0.8888888888888888,
              "#fdca26"
             ],
             [
              1,
              "#f0f921"
             ]
            ],
            "type": "contour"
           }
          ],
          "contourcarpet": [
           {
            "colorbar": {
             "outlinewidth": 0,
             "ticks": ""
            },
            "type": "contourcarpet"
           }
          ],
          "heatmap": [
           {
            "colorbar": {
             "outlinewidth": 0,
             "ticks": ""
            },
            "colorscale": [
             [
              0,
              "#0d0887"
             ],
             [
              0.1111111111111111,
              "#46039f"
             ],
             [
              0.2222222222222222,
              "#7201a8"
             ],
             [
              0.3333333333333333,
              "#9c179e"
             ],
             [
              0.4444444444444444,
              "#bd3786"
             ],
             [
              0.5555555555555556,
              "#d8576b"
             ],
             [
              0.6666666666666666,
              "#ed7953"
             ],
             [
              0.7777777777777778,
              "#fb9f3a"
             ],
             [
              0.8888888888888888,
              "#fdca26"
             ],
             [
              1,
              "#f0f921"
             ]
            ],
            "type": "heatmap"
           }
          ],
          "heatmapgl": [
           {
            "colorbar": {
             "outlinewidth": 0,
             "ticks": ""
            },
            "colorscale": [
             [
              0,
              "#0d0887"
             ],
             [
              0.1111111111111111,
              "#46039f"
             ],
             [
              0.2222222222222222,
              "#7201a8"
             ],
             [
              0.3333333333333333,
              "#9c179e"
             ],
             [
              0.4444444444444444,
              "#bd3786"
             ],
             [
              0.5555555555555556,
              "#d8576b"
             ],
             [
              0.6666666666666666,
              "#ed7953"
             ],
             [
              0.7777777777777778,
              "#fb9f3a"
             ],
             [
              0.8888888888888888,
              "#fdca26"
             ],
             [
              1,
              "#f0f921"
             ]
            ],
            "type": "heatmapgl"
           }
          ],
          "histogram": [
           {
            "marker": {
             "colorbar": {
              "outlinewidth": 0,
              "ticks": ""
             }
            },
            "type": "histogram"
           }
          ],
          "histogram2d": [
           {
            "colorbar": {
             "outlinewidth": 0,
             "ticks": ""
            },
            "colorscale": [
             [
              0,
              "#0d0887"
             ],
             [
              0.1111111111111111,
              "#46039f"
             ],
             [
              0.2222222222222222,
              "#7201a8"
             ],
             [
              0.3333333333333333,
              "#9c179e"
             ],
             [
              0.4444444444444444,
              "#bd3786"
             ],
             [
              0.5555555555555556,
              "#d8576b"
             ],
             [
              0.6666666666666666,
              "#ed7953"
             ],
             [
              0.7777777777777778,
              "#fb9f3a"
             ],
             [
              0.8888888888888888,
              "#fdca26"
             ],
             [
              1,
              "#f0f921"
             ]
            ],
            "type": "histogram2d"
           }
          ],
          "histogram2dcontour": [
           {
            "colorbar": {
             "outlinewidth": 0,
             "ticks": ""
            },
            "colorscale": [
             [
              0,
              "#0d0887"
             ],
             [
              0.1111111111111111,
              "#46039f"
             ],
             [
              0.2222222222222222,
              "#7201a8"
             ],
             [
              0.3333333333333333,
              "#9c179e"
             ],
             [
              0.4444444444444444,
              "#bd3786"
             ],
             [
              0.5555555555555556,
              "#d8576b"
             ],
             [
              0.6666666666666666,
              "#ed7953"
             ],
             [
              0.7777777777777778,
              "#fb9f3a"
             ],
             [
              0.8888888888888888,
              "#fdca26"
             ],
             [
              1,
              "#f0f921"
             ]
            ],
            "type": "histogram2dcontour"
           }
          ],
          "mesh3d": [
           {
            "colorbar": {
             "outlinewidth": 0,
             "ticks": ""
            },
            "type": "mesh3d"
           }
          ],
          "parcoords": [
           {
            "line": {
             "colorbar": {
              "outlinewidth": 0,
              "ticks": ""
             }
            },
            "type": "parcoords"
           }
          ],
          "pie": [
           {
            "automargin": true,
            "type": "pie"
           }
          ],
          "scatter": [
           {
            "marker": {
             "colorbar": {
              "outlinewidth": 0,
              "ticks": ""
             }
            },
            "type": "scatter"
           }
          ],
          "scatter3d": [
           {
            "line": {
             "colorbar": {
              "outlinewidth": 0,
              "ticks": ""
             }
            },
            "marker": {
             "colorbar": {
              "outlinewidth": 0,
              "ticks": ""
             }
            },
            "type": "scatter3d"
           }
          ],
          "scattercarpet": [
           {
            "marker": {
             "colorbar": {
              "outlinewidth": 0,
              "ticks": ""
             }
            },
            "type": "scattercarpet"
           }
          ],
          "scattergeo": [
           {
            "marker": {
             "colorbar": {
              "outlinewidth": 0,
              "ticks": ""
             }
            },
            "type": "scattergeo"
           }
          ],
          "scattergl": [
           {
            "marker": {
             "colorbar": {
              "outlinewidth": 0,
              "ticks": ""
             }
            },
            "type": "scattergl"
           }
          ],
          "scattermapbox": [
           {
            "marker": {
             "colorbar": {
              "outlinewidth": 0,
              "ticks": ""
             }
            },
            "type": "scattermapbox"
           }
          ],
          "scatterpolar": [
           {
            "marker": {
             "colorbar": {
              "outlinewidth": 0,
              "ticks": ""
             }
            },
            "type": "scatterpolar"
           }
          ],
          "scatterpolargl": [
           {
            "marker": {
             "colorbar": {
              "outlinewidth": 0,
              "ticks": ""
             }
            },
            "type": "scatterpolargl"
           }
          ],
          "scatterternary": [
           {
            "marker": {
             "colorbar": {
              "outlinewidth": 0,
              "ticks": ""
             }
            },
            "type": "scatterternary"
           }
          ],
          "surface": [
           {
            "colorbar": {
             "outlinewidth": 0,
             "ticks": ""
            },
            "colorscale": [
             [
              0,
              "#0d0887"
             ],
             [
              0.1111111111111111,
              "#46039f"
             ],
             [
              0.2222222222222222,
              "#7201a8"
             ],
             [
              0.3333333333333333,
              "#9c179e"
             ],
             [
              0.4444444444444444,
              "#bd3786"
             ],
             [
              0.5555555555555556,
              "#d8576b"
             ],
             [
              0.6666666666666666,
              "#ed7953"
             ],
             [
              0.7777777777777778,
              "#fb9f3a"
             ],
             [
              0.8888888888888888,
              "#fdca26"
             ],
             [
              1,
              "#f0f921"
             ]
            ],
            "type": "surface"
           }
          ],
          "table": [
           {
            "cells": {
             "fill": {
              "color": "#EBF0F8"
             },
             "line": {
              "color": "white"
             }
            },
            "header": {
             "fill": {
              "color": "#C8D4E3"
             },
             "line": {
              "color": "white"
             }
            },
            "type": "table"
           }
          ]
         },
         "layout": {
          "annotationdefaults": {
           "arrowcolor": "#2a3f5f",
           "arrowhead": 0,
           "arrowwidth": 1
          },
          "coloraxis": {
           "colorbar": {
            "outlinewidth": 0,
            "ticks": ""
           }
          },
          "colorscale": {
           "diverging": [
            [
             0,
             "#8e0152"
            ],
            [
             0.1,
             "#c51b7d"
            ],
            [
             0.2,
             "#de77ae"
            ],
            [
             0.3,
             "#f1b6da"
            ],
            [
             0.4,
             "#fde0ef"
            ],
            [
             0.5,
             "#f7f7f7"
            ],
            [
             0.6,
             "#e6f5d0"
            ],
            [
             0.7,
             "#b8e186"
            ],
            [
             0.8,
             "#7fbc41"
            ],
            [
             0.9,
             "#4d9221"
            ],
            [
             1,
             "#276419"
            ]
           ],
           "sequential": [
            [
             0,
             "#0d0887"
            ],
            [
             0.1111111111111111,
             "#46039f"
            ],
            [
             0.2222222222222222,
             "#7201a8"
            ],
            [
             0.3333333333333333,
             "#9c179e"
            ],
            [
             0.4444444444444444,
             "#bd3786"
            ],
            [
             0.5555555555555556,
             "#d8576b"
            ],
            [
             0.6666666666666666,
             "#ed7953"
            ],
            [
             0.7777777777777778,
             "#fb9f3a"
            ],
            [
             0.8888888888888888,
             "#fdca26"
            ],
            [
             1,
             "#f0f921"
            ]
           ],
           "sequentialminus": [
            [
             0,
             "#0d0887"
            ],
            [
             0.1111111111111111,
             "#46039f"
            ],
            [
             0.2222222222222222,
             "#7201a8"
            ],
            [
             0.3333333333333333,
             "#9c179e"
            ],
            [
             0.4444444444444444,
             "#bd3786"
            ],
            [
             0.5555555555555556,
             "#d8576b"
            ],
            [
             0.6666666666666666,
             "#ed7953"
            ],
            [
             0.7777777777777778,
             "#fb9f3a"
            ],
            [
             0.8888888888888888,
             "#fdca26"
            ],
            [
             1,
             "#f0f921"
            ]
           ]
          },
          "colorway": [
           "#636efa",
           "#EF553B",
           "#00cc96",
           "#ab63fa",
           "#FFA15A",
           "#19d3f3",
           "#FF6692",
           "#B6E880",
           "#FF97FF",
           "#FECB52"
          ],
          "font": {
           "color": "#2a3f5f"
          },
          "geo": {
           "bgcolor": "white",
           "lakecolor": "white",
           "landcolor": "#E5ECF6",
           "showlakes": true,
           "showland": true,
           "subunitcolor": "white"
          },
          "hoverlabel": {
           "align": "left"
          },
          "hovermode": "closest",
          "mapbox": {
           "style": "light"
          },
          "paper_bgcolor": "white",
          "plot_bgcolor": "#E5ECF6",
          "polar": {
           "angularaxis": {
            "gridcolor": "white",
            "linecolor": "white",
            "ticks": ""
           },
           "bgcolor": "#E5ECF6",
           "radialaxis": {
            "gridcolor": "white",
            "linecolor": "white",
            "ticks": ""
           }
          },
          "scene": {
           "xaxis": {
            "backgroundcolor": "#E5ECF6",
            "gridcolor": "white",
            "gridwidth": 2,
            "linecolor": "white",
            "showbackground": true,
            "ticks": "",
            "zerolinecolor": "white"
           },
           "yaxis": {
            "backgroundcolor": "#E5ECF6",
            "gridcolor": "white",
            "gridwidth": 2,
            "linecolor": "white",
            "showbackground": true,
            "ticks": "",
            "zerolinecolor": "white"
           },
           "zaxis": {
            "backgroundcolor": "#E5ECF6",
            "gridcolor": "white",
            "gridwidth": 2,
            "linecolor": "white",
            "showbackground": true,
            "ticks": "",
            "zerolinecolor": "white"
           }
          },
          "shapedefaults": {
           "line": {
            "color": "#2a3f5f"
           }
          },
          "ternary": {
           "aaxis": {
            "gridcolor": "white",
            "linecolor": "white",
            "ticks": ""
           },
           "baxis": {
            "gridcolor": "white",
            "linecolor": "white",
            "ticks": ""
           },
           "bgcolor": "#E5ECF6",
           "caxis": {
            "gridcolor": "white",
            "linecolor": "white",
            "ticks": ""
           }
          },
          "title": {
           "x": 0.05
          },
          "xaxis": {
           "automargin": true,
           "gridcolor": "white",
           "linecolor": "white",
           "ticks": "",
           "title": {
            "standoff": 15
           },
           "zerolinecolor": "white",
           "zerolinewidth": 2
          },
          "yaxis": {
           "automargin": true,
           "gridcolor": "white",
           "linecolor": "white",
           "ticks": "",
           "title": {
            "standoff": 15
           },
           "zerolinecolor": "white",
           "zerolinewidth": 2
          }
         }
        }
       }
      }
     },
     "metadata": {}
    },
    {
     "output_type": "display_data",
     "data": {
      "application/vnd.plotly.v1+json": {
       "config": {
        "plotlyServerURL": "https://plot.ly"
       },
       "data": [
        {
         "mode": "markers",
         "type": "scatter",
         "x": [
          -1.0510662271816147,
          -1.05701248210199,
          -1.138995828144977,
          -0.9157337988413744,
          -1.0249115128911839,
          -0.9636379162770147,
          -1.1331296938057127,
          -0.6194553715842943,
          -0.8715889908885325,
          -1.070801423088751,
          -1.1190263372823162,
          -1.0435150954598646,
          -0.9331744169986627,
          -0.9410160571217223,
          -0.8145218493815152,
          -0.5137081383124518,
          -1.1751395857995475,
          -1.040366605531354,
          -1.024226204510073,
          -0.9469627131993371,
          -1.0887357531539417,
          -1.0217289026924095,
          -0.8037808977821275,
          -0.9659187731633417,
          -1.0404749353542886,
          -0.9485579246422992,
          -0.9510842783692386,
          -1.196061031973486,
          -1.0369537470761865,
          -1.1435073241002862,
          -1.0873754218928728,
          -0.9553116115696136,
          -1.087507592617166,
          -1.2856996550285706,
          -0.9135804695019141,
          -0.7160653223638849,
          -1.1342533476576977,
          -0.684396435421935,
          -1.0714664632293847,
          -0.9533002390049469,
          -1.1673346181024626,
          -0.7727205522460618,
          -1.1874292711067371,
          -1.1426451621389553,
          -1.0471078778624558,
          -1.0132048347895957,
          -1.0422394889781903,
          -0.9941172162600073,
          -0.9853495055464729,
          -0.9996959917736525,
          1.4232001878140526,
          1.2272892195060485,
          0.9633774765476866,
          0.7554438567995114,
          0.757462919431337,
          0.9394615994215864,
          1.0853922057469323,
          1.0538955989829677,
          0.8635311195892299,
          1.2623657333682374,
          1.3098249862178724,
          1.1867870807611456,
          1.2648995524251032,
          1.2466471403106985,
          0.874932004834899,
          1.4730084192278015,
          0.8557517730121077,
          0.8162256166448603,
          0.8044157475464505,
          1.289078627381294,
          0.9645556734581913,
          0.8563876127508313,
          1.2024026303972932,
          1.0093730696333383,
          1.1913068554108521,
          1.3462767803421447,
          0.8158327122261997,
          1.1064629862029733,
          1.0202287861705508,
          0.7901615195907431,
          0.6045232645192294,
          0.9276561129975798,
          0.9448334753399555,
          1.308280140352449,
          1.2373349625147163,
          0.7832688323365657,
          0.8590853539419777,
          1.0273638342840758,
          0.8790916948896439,
          1.1077741441710678,
          1.1758932610988366,
          0.9423332175356138,
          0.9875432249675997,
          0.8337966952718986,
          1.0156377068220457,
          1.009083789440688,
          1.1454169447590217,
          1.1116567020971708,
          1.0898866819036663,
          1.2917827928680365
         ],
         "y": [
          0.00010609440848180496,
          0.4196724413125915,
          0.009370875434108028,
          0.4388880549408345,
          0.5666583491575465,
          0.25137553415984465,
          0.5870284196560123,
          -0.0060906612508042635,
          0.2151219112540365,
          0.5292425935233196,
          0.19662082603529513,
          0.5918509541942211,
          0.47796426474655884,
          0.4348849245112615,
          0.5355687764030493,
          0.3128088610926602,
          0.3800142150792142,
          -0.013422187201540814,
          0.1706738839464527,
          0.3765185055336445,
          0.025081011369932238,
          0.29598534193532827,
          0.2876597630173871,
          0.4763745543748866,
          0.1399700450920342,
          0.3905131796840835,
          0.28074878720505914,
          -0.02040597569003394,
          0.3858803263961037,
          0.2900728157551575,
          -0.09347937367217679,
          0.5020093588386045,
          0.25162371731885097,
          0.14695952198714687,
          0.5922292080771517,
          0.3099525036359229,
          0.6657980528093257,
          0.6005151410652042,
          0.2022768098588829,
          0.011965461570770608,
          0.4548078727859729,
          0.14188985437412488,
          0.37135801013081116,
          0.4544527756062263,
          0.6212771715605548,
          0.3182246604762193,
          0.32878824613570296,
          0.421363577664128,
          0.20004979492987124,
          0.2092173856514053,
          0.3870102946594648,
          0.6189041985482959,
          0.4008795183035891,
          0.25197380822266763,
          0.118951828362855,
          0.07765486094706425,
          0.29265893716988695,
          0.4630556028588795,
          0.04530945986206608,
          0.18084004118847657,
          0.29906458082496834,
          0.5559712568186055,
          0.4939719936451388,
          0.1936209492368241,
          0.6009172598938577,
          0.5719750587147434,
          0.22103466738843697,
          0.23021104195540226,
          0.19575601120086317,
          0.18565596128275635,
          0.3825121342943656,
          -0.2798609606266174,
          -0.07244702169534906,
          0.2494236108031649,
          -0.10043475966576776,
          0.25184558760904846,
          0.6017305585287457,
          0.21249629434358788,
          -0.23982712517766863,
          0.49760840837981574,
          0.3241167750366443,
          0.29246506401452815,
          0.32658351267454544,
          0.36061196655926575,
          0.4180483380410532,
          0.08058676586899341,
          0.4952688676109113,
          0.525306331560923,
          0.5075556924254311,
          0.48011805919349454,
          0.38653169774615226,
          -0.08212546401585713,
          0.2730579557299599,
          0.41840774128530683,
          0.47566712313924575,
          0.40739041678909177,
          0.41715061298596556,
          0.3672036771564927,
          0.6028451983786272,
          0.3044885514575517
         ]
        },
        {
         "mode": "markers",
         "type": "scatter",
         "x": [
          -0.20971847603607818,
          0.4320203506874623,
          -0.07826425970470328,
          0.2953120904001963,
          0.20542423054582712,
          -0.1455798340086482,
          -0.1384320149855099,
          -0.024289097927438687,
          0.19398341330828414,
          -0.19280679331159792,
          0.17892230245049642,
          0.2748008305632983,
          0.3886884269919096,
          -0.35350825992988544,
          -0.8824071123896361,
          -0.11953220337216137,
          0.11840273193977378,
          0.0867842774762008,
          0.2675647689804076,
          0.13019387846162583,
          -0.06745148483130346,
          -0.5965928978138476,
          0.06929594861718294,
          0.14073990279293366,
          0.2340305290952538,
          -0.21658884573776374,
          -0.40158975961780596,
          -0.3850308961231875,
          -0.060614634070988,
          0.14025158600969867,
          -0.2356253642915943,
          -0.06585028457005619,
          0.2720819641676015,
          0.22811685065696205,
          -0.10099925781451811,
          -0.30072730061611697,
          -0.1812109141416831,
          -0.2184212433464395,
          -0.016878274815146522,
          0.13207945195228807,
          0.04200320212242795,
          -0.3658218530404995,
          0.1616259203539376,
          0.06705132274350163,
          -0.07972733504749989,
          0.6526199343752669,
          0.07969907492484658,
          -0.13569260819119325,
          -0.208265388477023,
          0.015198138487734554,
          0.24407966846538862,
          -0.10124564762886602,
          -0.15293691316157754,
          -0.1895508931532891,
          -0.2579725068011402,
          -0.7023806291549076,
          0.6659155981237953,
          0.3322537684528067,
          -0.2210060124448452,
          -0.6179098652122342,
          0.18714401792371804,
          -0.27465609310732664,
          0.23119449037646045,
          -0.005062666167180751,
          -0.12675530661108453,
          -0.005247415075625801,
          0.37759677234063593,
          -0.29701144342945157,
          -0.38884324131990067,
          -0.037925842885411135,
          0.02602365966735547,
          -0.04698425247549733,
          0.2774087965286129,
          -0.2294353769130491,
          0.21974413505184995,
          0.55767567457819,
          -0.2512141210415364,
          -0.9123824728837484,
          -0.07507529148142639,
          -0.04501288887772887,
          -0.28919459350599447,
          -0.24018345481360331,
          0.21486969558267865,
          0.008669078382690251,
          -0.7815082158875843,
          0.2815225392205148,
          -0.17572730073149262,
          -0.524943388948308,
          -0.18535933179279157,
          0.2748486940423396,
          -0.5145193983204731,
          0.2174473031885447,
          0.41690138198341636,
          -0.15828288241139507,
          0.13412140214494567,
          -0.13351462748224924,
          -0.2236224939094904,
          -0.3727192239834452,
          0.27028942114171695,
          -0.26831527847763637
         ],
         "y": [
          0.26335027821199875,
          -0.014760931014904152,
          -0.12362907219470268,
          -0.6858273616033143,
          -0.13369852278718047,
          -0.3756060076150811,
          -0.3283709400907744,
          0.01027153256137546,
          -0.08268164461995313,
          -0.0167547389025188,
          0.043923546162523947,
          -0.08877764597592112,
          -0.025721026438803488,
          0.2091566762722261,
          -0.00981877571115973,
          0.5546828211291613,
          0.08554129396909615,
          0.2268362108965052,
          0.2561919093616335,
          0.04690013538748897,
          -0.6711351409881267,
          0.2984540047143789,
          -0.33729032439875495,
          -0.07608959694475537,
          0.3404720317455051,
          -0.7389562581388422,
          -0.14751105831082145,
          0.19799034734435686,
          -0.1328028443316543,
          -0.01866010142067495,
          -0.39264784814107434,
          -0.2555236021991517,
          0.09278453837167133,
          -0.12924374289116103,
          0.40136103109605914,
          -0.2826827153528179,
          -0.05284074670341896,
          -0.02517324663680895,
          0.24683470465218846,
          -0.23583130955206796,
          -0.6140767529571066,
          -0.01691006912730074,
          0.29379819211396263,
          0.3524697738682181,
          -0.027783808702782964,
          -0.11770239494920876,
          -0.1857369488612129,
          -0.10425545568000795,
          0.07014072916847652,
          -0.36765734638526104,
          -0.06937463915951886,
          0.0801854690001341,
          0.2514550606070367,
          -0.22901462533162562,
          -0.38782591189310156,
          -0.47026192111084175,
          0.12675247044908555,
          0.353707165525008,
          -0.3244076148356273,
          -0.6806929280622426,
          -0.10051850161434249,
          -0.03876665152232138,
          -0.3663101351118926,
          0.0035208627286796718,
          -0.12266381760724057,
          0.03839892033734632,
          -0.29539544241616866,
          -0.6232849864156081,
          0.08694743812188138,
          -0.04684599265405979,
          0.12528458761777372,
          -0.011095735201998233,
          0.4259440554946987,
          -0.446051805726431,
          0.08343854184709967,
          -0.17083541212545683,
          -0.058829855975023874,
          -0.7667088214740911,
          -0.10956852080690185,
          -0.6118641027369648,
          0.11328265252253863,
          0.0523404072951793,
          0.08084923950130876,
          -0.5216644055112571,
          0.0875570282489353,
          -0.4766893730455656,
          0.4830164163450079,
          0.16217924396381297,
          -0.26905574502677265,
          -0.21750191732111554,
          0.3382654493965389,
          -0.43098200621979177,
          0.07834543248573536,
          0.15070769010948418,
          -0.21104592799876268,
          0.19550893956962964,
          -0.001831518827088055,
          -0.17412481512297073,
          0.04742961005247434,
          -0.34007035635258165
         ]
        },
        {
         "mode": "markers",
         "type": "scatter",
         "x": [
          -5,
          -4.898989898989899,
          -4.797979797979798,
          -4.696969696969697,
          -4.595959595959596,
          -4.494949494949495,
          -4.393939393939394,
          -4.292929292929293,
          -4.191919191919192,
          -4.090909090909091,
          -3.9898989898989896,
          -3.888888888888889,
          -3.787878787878788,
          -3.686868686868687,
          -3.5858585858585856,
          -3.484848484848485,
          -3.383838383838384,
          -3.282828282828283,
          -3.1818181818181817,
          -3.080808080808081,
          -2.9797979797979797,
          -2.878787878787879,
          -2.7777777777777777,
          -2.676767676767677,
          -2.5757575757575757,
          -2.474747474747475,
          -2.3737373737373737,
          -2.272727272727273,
          -2.1717171717171717,
          -2.070707070707071,
          -1.9696969696969697,
          -1.868686868686869,
          -1.7676767676767677,
          -1.6666666666666665,
          -1.5656565656565657,
          -1.4646464646464645,
          -1.3636363636363638,
          -1.2626262626262625,
          -1.1616161616161618,
          -1.0606060606060606,
          -0.9595959595959593,
          -0.858585858585859,
          -0.7575757575757578,
          -0.6565656565656566,
          -0.5555555555555554,
          -0.45454545454545503,
          -0.3535353535353538,
          -0.2525252525252526,
          -0.15151515151515138,
          -0.050505050505050164,
          0.050505050505050164,
          0.15151515151515138,
          0.2525252525252526,
          0.3535353535353538,
          0.45454545454545414,
          0.5555555555555554,
          0.6565656565656566,
          0.7575757575757578,
          0.8585858585858581,
          0.9595959595959593,
          1.0606060606060606,
          1.1616161616161618,
          1.262626262626262,
          1.3636363636363633,
          1.4646464646464645,
          1.5656565656565657,
          1.666666666666667,
          1.7676767676767673,
          1.8686868686868685,
          1.9696969696969697,
          2.070707070707071,
          2.1717171717171713,
          2.2727272727272725,
          2.3737373737373737,
          2.474747474747475,
          2.5757575757575752,
          2.6767676767676765,
          2.7777777777777777,
          2.878787878787879,
          2.9797979797979792,
          3.0808080808080813,
          3.1818181818181817,
          3.282828282828282,
          3.383838383838384,
          3.4848484848484844,
          3.5858585858585865,
          3.686868686868687,
          3.787878787878787,
          3.8888888888888893,
          3.9898989898989896,
          4.09090909090909,
          4.191919191919192,
          4.292929292929292,
          4.3939393939393945,
          4.494949494949495,
          4.595959595959595,
          4.696969696969697,
          4.797979797979798,
          4.8989898989899,
          5
         ],
         "y": [
          5,
          5,
          5,
          5,
          5,
          5,
          5,
          5,
          5,
          5,
          5,
          4.997639990934155,
          4.8678311600008,
          4.738022329067445,
          4.60821349813409,
          4.478404667200736,
          4.348595836267381,
          4.218787005334026,
          4.088978174400672,
          3.9591693434673174,
          3.8293605125339627,
          3.699551681600608,
          3.5697428506672533,
          3.439934019733899,
          3.3101251888005443,
          3.1803163578671896,
          3.0505075269338344,
          2.92069869600048,
          2.790889865067125,
          2.6610810341337707,
          2.531272203200416,
          2.4014633722670617,
          2.271654541333707,
          2.141845710400352,
          2.0120368794669976,
          1.8822280485336425,
          1.7524192176002882,
          1.6226103866669332,
          1.492801555733579,
          1.3629927248002238,
          1.2331838938668689,
          1.103375062933515,
          0.9735662320001602,
          0.8437574010668053,
          0.7139485701334505,
          0.5841397392000967,
          0.45433090826674166,
          0.3245220773333868,
          0.19471324640003185,
          0.0649044154666769,
          -0.0649044154666769,
          -0.19471324640003185,
          -0.3245220773333868,
          -0.45433090826674166,
          -0.5841397392000954,
          -0.7139485701334505,
          -0.8437574010668053,
          -0.9735662320001602,
          -1.1033750629335142,
          -1.2331838938668689,
          -1.3629927248002238,
          -1.492801555733579,
          -1.6226103866669326,
          -1.7524192176002875,
          -1.8822280485336425,
          -2.0120368794669976,
          -2.1418457104003523,
          -2.271654541333706,
          -2.4014633722670613,
          -2.531272203200416,
          -2.6610810341337707,
          -2.790889865067125,
          -2.9206986960004797,
          -3.0505075269338344,
          -3.1803163578671896,
          -3.3101251888005434,
          -3.439934019733898,
          -3.5697428506672533,
          -3.699551681600608,
          -3.8293605125339623,
          -3.9591693434673183,
          -4.088978174400672,
          -4.2187870053340255,
          -4.348595836267381,
          -4.478404667200736,
          -4.608213498134091,
          -4.738022329067445,
          -4.867831160000799,
          -4.997639990934156,
          -5,
          -5,
          -5,
          -5,
          -5,
          -5,
          -5,
          -5,
          -5,
          -5,
          -5
         ]
        },
        {
         "mode": "markers",
         "type": "scatter",
         "x": [
          -5,
          -4.898989898989899,
          -4.797979797979798,
          -4.696969696969697,
          -4.595959595959596,
          -4.494949494949495,
          -4.393939393939394,
          -4.292929292929293,
          -4.191919191919192,
          -4.090909090909091,
          -3.9898989898989896,
          -3.888888888888889,
          -3.787878787878788,
          -3.686868686868687,
          -3.5858585858585856,
          -3.484848484848485,
          -3.383838383838384,
          -3.282828282828283,
          -3.1818181818181817,
          -3.080808080808081,
          -2.9797979797979797,
          -2.878787878787879,
          -2.7777777777777777,
          -2.676767676767677,
          -2.5757575757575757,
          -2.474747474747475,
          -2.3737373737373737,
          -2.272727272727273,
          -2.1717171717171717,
          -2.070707070707071,
          -1.9696969696969697,
          -1.868686868686869,
          -1.7676767676767677,
          -1.6666666666666665,
          -1.5656565656565657,
          -1.4646464646464645,
          -1.3636363636363638,
          -1.2626262626262625,
          -1.1616161616161618,
          -1.0606060606060606,
          -0.9595959595959593,
          -0.858585858585859,
          -0.7575757575757578,
          -0.6565656565656566,
          -0.5555555555555554,
          -0.45454545454545503,
          -0.3535353535353538,
          -0.2525252525252526,
          -0.15151515151515138,
          -0.050505050505050164,
          0.050505050505050164,
          0.15151515151515138,
          0.2525252525252526,
          0.3535353535353538,
          0.45454545454545414,
          0.5555555555555554,
          0.6565656565656566,
          0.7575757575757578,
          0.8585858585858581,
          0.9595959595959593,
          1.0606060606060606,
          1.1616161616161618,
          1.262626262626262,
          1.3636363636363633,
          1.4646464646464645,
          1.5656565656565657,
          1.666666666666667,
          1.7676767676767673,
          1.8686868686868685,
          1.9696969696969697,
          2.070707070707071,
          2.1717171717171713,
          2.2727272727272725,
          2.3737373737373737,
          2.474747474747475,
          2.5757575757575752,
          2.6767676767676765,
          2.7777777777777777,
          2.878787878787879,
          2.9797979797979792,
          3.0808080808080813,
          3.1818181818181817,
          3.282828282828282,
          3.383838383838384,
          3.4848484848484844,
          3.5858585858585865,
          3.686868686868687,
          3.787878787878787,
          3.8888888888888893,
          3.9898989898989896,
          4.09090909090909,
          4.191919191919192,
          4.292929292929292,
          4.3939393939393945,
          4.494949494949495,
          4.595959595959595,
          4.696969696969697,
          4.797979797979798,
          4.8989898989899,
          5
         ],
         "y": [
          -5,
          -5,
          -5,
          -5,
          -5,
          -5,
          -5,
          -5,
          -5,
          -5,
          -5,
          -5,
          -5,
          -5,
          -5,
          -5,
          -5,
          -5,
          -5,
          -5,
          -5,
          -5,
          -5,
          -5,
          -5,
          -5,
          -5,
          -5,
          -4.914582044233237,
          -4.685996832873553,
          -4.457411621513867,
          -4.228826410154182,
          -4.0002411987944955,
          -3.77165598743481,
          -3.543070776075125,
          -3.3144855647154388,
          -3.085900353355754,
          -2.8573151419960685,
          -2.628729930636383,
          -2.4001447192766974,
          -2.1715595079170114,
          -1.9429742965573271,
          -1.714389085197641,
          -1.4858038738379555,
          -1.2572186624782697,
          -1.0286334511185857,
          -0.8000482397588998,
          -0.5714630283992139,
          -0.34287781703952785,
          -0.11429260567984197,
          0.11429260567984197,
          0.34287781703952785,
          0.5714630283992139,
          0.8000482397588998,
          1.0286334511185837,
          1.2572186624782697,
          1.4858038738379555,
          1.714389085197641,
          1.9429742965573253,
          2.1715595079170114,
          2.4001447192766974,
          2.628729930636383,
          2.857315141996067,
          3.0859003533557527,
          3.3144855647154388,
          3.543070776075125,
          3.771655987434811,
          4.000241198794495,
          4.228826410154181,
          4.457411621513867,
          4.685996832873553,
          4.914582044233236,
          5,
          5,
          5,
          5,
          5,
          5,
          5,
          5,
          5,
          5,
          5,
          5,
          5,
          5,
          5,
          5,
          5,
          5,
          5,
          5,
          5,
          5,
          5,
          5,
          5,
          5,
          5,
          5
         ]
        }
       ],
       "layout": {
        "template": {
         "data": {
          "bar": [
           {
            "error_x": {
             "color": "#2a3f5f"
            },
            "error_y": {
             "color": "#2a3f5f"
            },
            "marker": {
             "line": {
              "color": "#E5ECF6",
              "width": 0.5
             }
            },
            "type": "bar"
           }
          ],
          "barpolar": [
           {
            "marker": {
             "line": {
              "color": "#E5ECF6",
              "width": 0.5
             }
            },
            "type": "barpolar"
           }
          ],
          "carpet": [
           {
            "aaxis": {
             "endlinecolor": "#2a3f5f",
             "gridcolor": "white",
             "linecolor": "white",
             "minorgridcolor": "white",
             "startlinecolor": "#2a3f5f"
            },
            "baxis": {
             "endlinecolor": "#2a3f5f",
             "gridcolor": "white",
             "linecolor": "white",
             "minorgridcolor": "white",
             "startlinecolor": "#2a3f5f"
            },
            "type": "carpet"
           }
          ],
          "choropleth": [
           {
            "colorbar": {
             "outlinewidth": 0,
             "ticks": ""
            },
            "type": "choropleth"
           }
          ],
          "contour": [
           {
            "colorbar": {
             "outlinewidth": 0,
             "ticks": ""
            },
            "colorscale": [
             [
              0,
              "#0d0887"
             ],
             [
              0.1111111111111111,
              "#46039f"
             ],
             [
              0.2222222222222222,
              "#7201a8"
             ],
             [
              0.3333333333333333,
              "#9c179e"
             ],
             [
              0.4444444444444444,
              "#bd3786"
             ],
             [
              0.5555555555555556,
              "#d8576b"
             ],
             [
              0.6666666666666666,
              "#ed7953"
             ],
             [
              0.7777777777777778,
              "#fb9f3a"
             ],
             [
              0.8888888888888888,
              "#fdca26"
             ],
             [
              1,
              "#f0f921"
             ]
            ],
            "type": "contour"
           }
          ],
          "contourcarpet": [
           {
            "colorbar": {
             "outlinewidth": 0,
             "ticks": ""
            },
            "type": "contourcarpet"
           }
          ],
          "heatmap": [
           {
            "colorbar": {
             "outlinewidth": 0,
             "ticks": ""
            },
            "colorscale": [
             [
              0,
              "#0d0887"
             ],
             [
              0.1111111111111111,
              "#46039f"
             ],
             [
              0.2222222222222222,
              "#7201a8"
             ],
             [
              0.3333333333333333,
              "#9c179e"
             ],
             [
              0.4444444444444444,
              "#bd3786"
             ],
             [
              0.5555555555555556,
              "#d8576b"
             ],
             [
              0.6666666666666666,
              "#ed7953"
             ],
             [
              0.7777777777777778,
              "#fb9f3a"
             ],
             [
              0.8888888888888888,
              "#fdca26"
             ],
             [
              1,
              "#f0f921"
             ]
            ],
            "type": "heatmap"
           }
          ],
          "heatmapgl": [
           {
            "colorbar": {
             "outlinewidth": 0,
             "ticks": ""
            },
            "colorscale": [
             [
              0,
              "#0d0887"
             ],
             [
              0.1111111111111111,
              "#46039f"
             ],
             [
              0.2222222222222222,
              "#7201a8"
             ],
             [
              0.3333333333333333,
              "#9c179e"
             ],
             [
              0.4444444444444444,
              "#bd3786"
             ],
             [
              0.5555555555555556,
              "#d8576b"
             ],
             [
              0.6666666666666666,
              "#ed7953"
             ],
             [
              0.7777777777777778,
              "#fb9f3a"
             ],
             [
              0.8888888888888888,
              "#fdca26"
             ],
             [
              1,
              "#f0f921"
             ]
            ],
            "type": "heatmapgl"
           }
          ],
          "histogram": [
           {
            "marker": {
             "colorbar": {
              "outlinewidth": 0,
              "ticks": ""
             }
            },
            "type": "histogram"
           }
          ],
          "histogram2d": [
           {
            "colorbar": {
             "outlinewidth": 0,
             "ticks": ""
            },
            "colorscale": [
             [
              0,
              "#0d0887"
             ],
             [
              0.1111111111111111,
              "#46039f"
             ],
             [
              0.2222222222222222,
              "#7201a8"
             ],
             [
              0.3333333333333333,
              "#9c179e"
             ],
             [
              0.4444444444444444,
              "#bd3786"
             ],
             [
              0.5555555555555556,
              "#d8576b"
             ],
             [
              0.6666666666666666,
              "#ed7953"
             ],
             [
              0.7777777777777778,
              "#fb9f3a"
             ],
             [
              0.8888888888888888,
              "#fdca26"
             ],
             [
              1,
              "#f0f921"
             ]
            ],
            "type": "histogram2d"
           }
          ],
          "histogram2dcontour": [
           {
            "colorbar": {
             "outlinewidth": 0,
             "ticks": ""
            },
            "colorscale": [
             [
              0,
              "#0d0887"
             ],
             [
              0.1111111111111111,
              "#46039f"
             ],
             [
              0.2222222222222222,
              "#7201a8"
             ],
             [
              0.3333333333333333,
              "#9c179e"
             ],
             [
              0.4444444444444444,
              "#bd3786"
             ],
             [
              0.5555555555555556,
              "#d8576b"
             ],
             [
              0.6666666666666666,
              "#ed7953"
             ],
             [
              0.7777777777777778,
              "#fb9f3a"
             ],
             [
              0.8888888888888888,
              "#fdca26"
             ],
             [
              1,
              "#f0f921"
             ]
            ],
            "type": "histogram2dcontour"
           }
          ],
          "mesh3d": [
           {
            "colorbar": {
             "outlinewidth": 0,
             "ticks": ""
            },
            "type": "mesh3d"
           }
          ],
          "parcoords": [
           {
            "line": {
             "colorbar": {
              "outlinewidth": 0,
              "ticks": ""
             }
            },
            "type": "parcoords"
           }
          ],
          "pie": [
           {
            "automargin": true,
            "type": "pie"
           }
          ],
          "scatter": [
           {
            "marker": {
             "colorbar": {
              "outlinewidth": 0,
              "ticks": ""
             }
            },
            "type": "scatter"
           }
          ],
          "scatter3d": [
           {
            "line": {
             "colorbar": {
              "outlinewidth": 0,
              "ticks": ""
             }
            },
            "marker": {
             "colorbar": {
              "outlinewidth": 0,
              "ticks": ""
             }
            },
            "type": "scatter3d"
           }
          ],
          "scattercarpet": [
           {
            "marker": {
             "colorbar": {
              "outlinewidth": 0,
              "ticks": ""
             }
            },
            "type": "scattercarpet"
           }
          ],
          "scattergeo": [
           {
            "marker": {
             "colorbar": {
              "outlinewidth": 0,
              "ticks": ""
             }
            },
            "type": "scattergeo"
           }
          ],
          "scattergl": [
           {
            "marker": {
             "colorbar": {
              "outlinewidth": 0,
              "ticks": ""
             }
            },
            "type": "scattergl"
           }
          ],
          "scattermapbox": [
           {
            "marker": {
             "colorbar": {
              "outlinewidth": 0,
              "ticks": ""
             }
            },
            "type": "scattermapbox"
           }
          ],
          "scatterpolar": [
           {
            "marker": {
             "colorbar": {
              "outlinewidth": 0,
              "ticks": ""
             }
            },
            "type": "scatterpolar"
           }
          ],
          "scatterpolargl": [
           {
            "marker": {
             "colorbar": {
              "outlinewidth": 0,
              "ticks": ""
             }
            },
            "type": "scatterpolargl"
           }
          ],
          "scatterternary": [
           {
            "marker": {
             "colorbar": {
              "outlinewidth": 0,
              "ticks": ""
             }
            },
            "type": "scatterternary"
           }
          ],
          "surface": [
           {
            "colorbar": {
             "outlinewidth": 0,
             "ticks": ""
            },
            "colorscale": [
             [
              0,
              "#0d0887"
             ],
             [
              0.1111111111111111,
              "#46039f"
             ],
             [
              0.2222222222222222,
              "#7201a8"
             ],
             [
              0.3333333333333333,
              "#9c179e"
             ],
             [
              0.4444444444444444,
              "#bd3786"
             ],
             [
              0.5555555555555556,
              "#d8576b"
             ],
             [
              0.6666666666666666,
              "#ed7953"
             ],
             [
              0.7777777777777778,
              "#fb9f3a"
             ],
             [
              0.8888888888888888,
              "#fdca26"
             ],
             [
              1,
              "#f0f921"
             ]
            ],
            "type": "surface"
           }
          ],
          "table": [
           {
            "cells": {
             "fill": {
              "color": "#EBF0F8"
             },
             "line": {
              "color": "white"
             }
            },
            "header": {
             "fill": {
              "color": "#C8D4E3"
             },
             "line": {
              "color": "white"
             }
            },
            "type": "table"
           }
          ]
         },
         "layout": {
          "annotationdefaults": {
           "arrowcolor": "#2a3f5f",
           "arrowhead": 0,
           "arrowwidth": 1
          },
          "coloraxis": {
           "colorbar": {
            "outlinewidth": 0,
            "ticks": ""
           }
          },
          "colorscale": {
           "diverging": [
            [
             0,
             "#8e0152"
            ],
            [
             0.1,
             "#c51b7d"
            ],
            [
             0.2,
             "#de77ae"
            ],
            [
             0.3,
             "#f1b6da"
            ],
            [
             0.4,
             "#fde0ef"
            ],
            [
             0.5,
             "#f7f7f7"
            ],
            [
             0.6,
             "#e6f5d0"
            ],
            [
             0.7,
             "#b8e186"
            ],
            [
             0.8,
             "#7fbc41"
            ],
            [
             0.9,
             "#4d9221"
            ],
            [
             1,
             "#276419"
            ]
           ],
           "sequential": [
            [
             0,
             "#0d0887"
            ],
            [
             0.1111111111111111,
             "#46039f"
            ],
            [
             0.2222222222222222,
             "#7201a8"
            ],
            [
             0.3333333333333333,
             "#9c179e"
            ],
            [
             0.4444444444444444,
             "#bd3786"
            ],
            [
             0.5555555555555556,
             "#d8576b"
            ],
            [
             0.6666666666666666,
             "#ed7953"
            ],
            [
             0.7777777777777778,
             "#fb9f3a"
            ],
            [
             0.8888888888888888,
             "#fdca26"
            ],
            [
             1,
             "#f0f921"
            ]
           ],
           "sequentialminus": [
            [
             0,
             "#0d0887"
            ],
            [
             0.1111111111111111,
             "#46039f"
            ],
            [
             0.2222222222222222,
             "#7201a8"
            ],
            [
             0.3333333333333333,
             "#9c179e"
            ],
            [
             0.4444444444444444,
             "#bd3786"
            ],
            [
             0.5555555555555556,
             "#d8576b"
            ],
            [
             0.6666666666666666,
             "#ed7953"
            ],
            [
             0.7777777777777778,
             "#fb9f3a"
            ],
            [
             0.8888888888888888,
             "#fdca26"
            ],
            [
             1,
             "#f0f921"
            ]
           ]
          },
          "colorway": [
           "#636efa",
           "#EF553B",
           "#00cc96",
           "#ab63fa",
           "#FFA15A",
           "#19d3f3",
           "#FF6692",
           "#B6E880",
           "#FF97FF",
           "#FECB52"
          ],
          "font": {
           "color": "#2a3f5f"
          },
          "geo": {
           "bgcolor": "white",
           "lakecolor": "white",
           "landcolor": "#E5ECF6",
           "showlakes": true,
           "showland": true,
           "subunitcolor": "white"
          },
          "hoverlabel": {
           "align": "left"
          },
          "hovermode": "closest",
          "mapbox": {
           "style": "light"
          },
          "paper_bgcolor": "white",
          "plot_bgcolor": "#E5ECF6",
          "polar": {
           "angularaxis": {
            "gridcolor": "white",
            "linecolor": "white",
            "ticks": ""
           },
           "bgcolor": "#E5ECF6",
           "radialaxis": {
            "gridcolor": "white",
            "linecolor": "white",
            "ticks": ""
           }
          },
          "scene": {
           "xaxis": {
            "backgroundcolor": "#E5ECF6",
            "gridcolor": "white",
            "gridwidth": 2,
            "linecolor": "white",
            "showbackground": true,
            "ticks": "",
            "zerolinecolor": "white"
           },
           "yaxis": {
            "backgroundcolor": "#E5ECF6",
            "gridcolor": "white",
            "gridwidth": 2,
            "linecolor": "white",
            "showbackground": true,
            "ticks": "",
            "zerolinecolor": "white"
           },
           "zaxis": {
            "backgroundcolor": "#E5ECF6",
            "gridcolor": "white",
            "gridwidth": 2,
            "linecolor": "white",
            "showbackground": true,
            "ticks": "",
            "zerolinecolor": "white"
           }
          },
          "shapedefaults": {
           "line": {
            "color": "#2a3f5f"
           }
          },
          "ternary": {
           "aaxis": {
            "gridcolor": "white",
            "linecolor": "white",
            "ticks": ""
           },
           "baxis": {
            "gridcolor": "white",
            "linecolor": "white",
            "ticks": ""
           },
           "bgcolor": "#E5ECF6",
           "caxis": {
            "gridcolor": "white",
            "linecolor": "white",
            "ticks": ""
           }
          },
          "title": {
           "x": 0.05
          },
          "xaxis": {
           "automargin": true,
           "gridcolor": "white",
           "linecolor": "white",
           "ticks": "",
           "title": {
            "standoff": 15
           },
           "zerolinecolor": "white",
           "zerolinewidth": 2
          },
          "yaxis": {
           "automargin": true,
           "gridcolor": "white",
           "linecolor": "white",
           "ticks": "",
           "title": {
            "standoff": 15
           },
           "zerolinecolor": "white",
           "zerolinewidth": 2
          }
         }
        }
       }
      }
     },
     "metadata": {}
    }
   ],
   "source": [
    "# 1-3\n",
    "from Data_gen import *\n",
    "\n",
    "A, B = non_linear(100, g_mA, g_mB, g_sigmaA, g_sigmaB)\n",
    "fig = go.Figure()\n",
    "fig.add_trace(go.Scatter(x=A[:,0], y=A[:,1], mode=\"markers\"))\n",
    "fig.add_trace(go.Scatter(x=B[:,0], y=B[:,1], mode=\"markers\"))\n",
    "fig.show()\n",
    "\n",
    "w = np.random.uniform(0,1,(2,1))\n",
    "epoch = 50\n",
    "eta = 1e-4\n",
    "\n",
    "t = 3\n",
    "idx = np.arange(100)\n",
    "for i in range(3):\n",
    "    idx_a = np.random.choice(idx, 100)\n",
    "    idx_b = np.random.choice(idx, 50)\n",
    "    a = A[idx_a]\n",
    "    b = B[idx_b]\n",
    "    features = np.concatenate([a,b],axis=0)\n",
    "    targets = np.concatenate([-np.ones((a.shape[0],1)), np.ones((b.shape[0],1))], axis=0)\n",
    "\n",
    "    mae_delta = delta_learning(features, targets, w, epoch, eta)\n",
    "    model, mae_per = perceptron_learning(features, targets, 10, epoch, eta)\n",
    "\n",
    "plot_boundary(fig, w.T)\n",
    "mae_fig = go.Figure()\n",
    "mae_fig.add_trace(go.Scatter(x=np.arange(len(mae_delta)), y=mae_delta, name=\"Delta\"))\n",
    "\n",
    "plot_boundary(fig, model.W)\n",
    "mae_fig.add_trace(go.Scatter(x=np.arange(len(mae_per)), y=mae_per, name=\"Perceptron\"))\n",
    "mae_fig.show()\n",
    "fig.show()\n",
    "\n"
   ]
  },
  {
   "cell_type": "code",
   "execution_count": 43,
   "metadata": {},
   "outputs": [
    {
     "output_type": "display_data",
     "data": {
      "application/vnd.plotly.v1+json": {
       "config": {
        "plotlyServerURL": "https://plot.ly"
       },
       "data": [
        {
         "name": "Delta",
         "type": "scatter",
         "x": [
          0,
          1,
          2,
          3,
          4,
          5,
          6,
          7,
          8,
          9,
          10,
          11,
          12,
          13,
          14,
          15,
          16,
          17,
          18,
          19,
          20,
          21,
          22,
          23,
          24,
          25,
          26,
          27,
          28,
          29,
          30,
          31,
          32,
          33,
          34,
          35,
          36,
          37,
          38,
          39,
          40,
          41,
          42,
          43,
          44,
          45,
          46,
          47,
          48,
          49
         ],
         "y": [
          0.7536968062920875,
          0.7534883413988942,
          0.7532805563169354,
          0.7530734489197696,
          0.7528670170875403,
          0.7526612587069568,
          0.7524561716712707,
          0.7522517538802589,
          0.7520480032402018,
          0.7518449176638637,
          0.7516424950704728,
          0.7514407333857005,
          0.7512396305416427,
          0.7510391844767994,
          0.7508393931360543,
          0.7506402544706559,
          0.7504417664381982,
          0.7502439270025993,
          0.7500467341340845,
          0.7498501858091641,
          0.7496542800106156,
          0.7494590147274646,
          0.7492643879549642,
          0.7490703976945765,
          0.7488920108464459,
          0.74871484645428,
          0.7485382609560706,
          0.7483622525401945,
          0.7481868194006386,
          0.7480119597369833,
          0.747837671754385,
          0.747663953663559,
          0.7474908036807615,
          0.7473182200277749,
          0.7471462009318873,
          0.7469747446258779,
          0.7468038493479999,
          0.7466335133419624,
          0.746463734856914,
          0.7462945121474271,
          0.7461258434734793,
          0.7459577271004388,
          0.7457901612990454,
          0.7456231443453959,
          0.7454566745209266,
          0.7452907501123965,
          0.7451253694118718,
          0.7449605307167094,
          0.7447962323295393,
          0.7446324725582499
         ]
        },
        {
         "name": "Perceptron",
         "type": "scatter",
         "x": [
          0,
          1,
          2,
          3,
          4,
          5,
          6,
          7,
          8,
          9,
          10,
          11,
          12,
          13,
          14,
          15,
          16,
          17,
          18,
          19,
          20,
          21,
          22,
          23,
          24,
          25,
          26,
          27,
          28,
          29,
          30,
          31,
          32,
          33,
          34,
          35,
          36,
          37,
          38,
          39,
          40,
          41,
          42,
          43,
          44,
          45,
          46,
          47,
          48,
          49
         ],
         "y": [
          0.44154045683710225,
          0.44154119621516313,
          0.4415426004837182,
          0.44154460204807977,
          0.44154713951499525,
          0.44155015708136697,
          0.44155360399165355,
          0.4415574340545278,
          0.4415616052109785,
          0.4415660791473314,
          0.441570820947695,
          0.44157579878116127,
          0.441580983619776,
          0.4415863489838482,
          0.4415918707116235,
          0.44159752675074143,
          0.4416032969692099,
          0.4416091629839138,
          0.44161510800489884,
          0.44162111669388193,
          0.44162717503560495,
          0.44163327022080145,
          0.4416393905396812,
          0.44164552528493944,
          0.44165166466341504,
          0.44165779971559593,
          0.44166392224225753,
          0.44167002473758676,
          0.441676100328204,
          0.44168214271755923,
          0.4416881461352158,
          0.441694105290591,
          0.4417000153307579,
          0.44170587180194787,
          0.4417116706144283,
          0.44171740801045983,
          0.4417230805350604,
          0.4417286850093315,
          0.4417342185061227,
          0.4417396783278281,
          0.4417450619861312,
          0.44175036718352345,
          0.44175559179644813,
          0.4417607338599212,
          0.44176579155350426,
          0.4417707631885107,
          0.4417756471963359,
          0.44178044211781625,
          0.441785146593524,
          0.44178975935491804
         ]
        }
       ],
       "layout": {
        "template": {
         "data": {
          "bar": [
           {
            "error_x": {
             "color": "#2a3f5f"
            },
            "error_y": {
             "color": "#2a3f5f"
            },
            "marker": {
             "line": {
              "color": "#E5ECF6",
              "width": 0.5
             }
            },
            "type": "bar"
           }
          ],
          "barpolar": [
           {
            "marker": {
             "line": {
              "color": "#E5ECF6",
              "width": 0.5
             }
            },
            "type": "barpolar"
           }
          ],
          "carpet": [
           {
            "aaxis": {
             "endlinecolor": "#2a3f5f",
             "gridcolor": "white",
             "linecolor": "white",
             "minorgridcolor": "white",
             "startlinecolor": "#2a3f5f"
            },
            "baxis": {
             "endlinecolor": "#2a3f5f",
             "gridcolor": "white",
             "linecolor": "white",
             "minorgridcolor": "white",
             "startlinecolor": "#2a3f5f"
            },
            "type": "carpet"
           }
          ],
          "choropleth": [
           {
            "colorbar": {
             "outlinewidth": 0,
             "ticks": ""
            },
            "type": "choropleth"
           }
          ],
          "contour": [
           {
            "colorbar": {
             "outlinewidth": 0,
             "ticks": ""
            },
            "colorscale": [
             [
              0,
              "#0d0887"
             ],
             [
              0.1111111111111111,
              "#46039f"
             ],
             [
              0.2222222222222222,
              "#7201a8"
             ],
             [
              0.3333333333333333,
              "#9c179e"
             ],
             [
              0.4444444444444444,
              "#bd3786"
             ],
             [
              0.5555555555555556,
              "#d8576b"
             ],
             [
              0.6666666666666666,
              "#ed7953"
             ],
             [
              0.7777777777777778,
              "#fb9f3a"
             ],
             [
              0.8888888888888888,
              "#fdca26"
             ],
             [
              1,
              "#f0f921"
             ]
            ],
            "type": "contour"
           }
          ],
          "contourcarpet": [
           {
            "colorbar": {
             "outlinewidth": 0,
             "ticks": ""
            },
            "type": "contourcarpet"
           }
          ],
          "heatmap": [
           {
            "colorbar": {
             "outlinewidth": 0,
             "ticks": ""
            },
            "colorscale": [
             [
              0,
              "#0d0887"
             ],
             [
              0.1111111111111111,
              "#46039f"
             ],
             [
              0.2222222222222222,
              "#7201a8"
             ],
             [
              0.3333333333333333,
              "#9c179e"
             ],
             [
              0.4444444444444444,
              "#bd3786"
             ],
             [
              0.5555555555555556,
              "#d8576b"
             ],
             [
              0.6666666666666666,
              "#ed7953"
             ],
             [
              0.7777777777777778,
              "#fb9f3a"
             ],
             [
              0.8888888888888888,
              "#fdca26"
             ],
             [
              1,
              "#f0f921"
             ]
            ],
            "type": "heatmap"
           }
          ],
          "heatmapgl": [
           {
            "colorbar": {
             "outlinewidth": 0,
             "ticks": ""
            },
            "colorscale": [
             [
              0,
              "#0d0887"
             ],
             [
              0.1111111111111111,
              "#46039f"
             ],
             [
              0.2222222222222222,
              "#7201a8"
             ],
             [
              0.3333333333333333,
              "#9c179e"
             ],
             [
              0.4444444444444444,
              "#bd3786"
             ],
             [
              0.5555555555555556,
              "#d8576b"
             ],
             [
              0.6666666666666666,
              "#ed7953"
             ],
             [
              0.7777777777777778,
              "#fb9f3a"
             ],
             [
              0.8888888888888888,
              "#fdca26"
             ],
             [
              1,
              "#f0f921"
             ]
            ],
            "type": "heatmapgl"
           }
          ],
          "histogram": [
           {
            "marker": {
             "colorbar": {
              "outlinewidth": 0,
              "ticks": ""
             }
            },
            "type": "histogram"
           }
          ],
          "histogram2d": [
           {
            "colorbar": {
             "outlinewidth": 0,
             "ticks": ""
            },
            "colorscale": [
             [
              0,
              "#0d0887"
             ],
             [
              0.1111111111111111,
              "#46039f"
             ],
             [
              0.2222222222222222,
              "#7201a8"
             ],
             [
              0.3333333333333333,
              "#9c179e"
             ],
             [
              0.4444444444444444,
              "#bd3786"
             ],
             [
              0.5555555555555556,
              "#d8576b"
             ],
             [
              0.6666666666666666,
              "#ed7953"
             ],
             [
              0.7777777777777778,
              "#fb9f3a"
             ],
             [
              0.8888888888888888,
              "#fdca26"
             ],
             [
              1,
              "#f0f921"
             ]
            ],
            "type": "histogram2d"
           }
          ],
          "histogram2dcontour": [
           {
            "colorbar": {
             "outlinewidth": 0,
             "ticks": ""
            },
            "colorscale": [
             [
              0,
              "#0d0887"
             ],
             [
              0.1111111111111111,
              "#46039f"
             ],
             [
              0.2222222222222222,
              "#7201a8"
             ],
             [
              0.3333333333333333,
              "#9c179e"
             ],
             [
              0.4444444444444444,
              "#bd3786"
             ],
             [
              0.5555555555555556,
              "#d8576b"
             ],
             [
              0.6666666666666666,
              "#ed7953"
             ],
             [
              0.7777777777777778,
              "#fb9f3a"
             ],
             [
              0.8888888888888888,
              "#fdca26"
             ],
             [
              1,
              "#f0f921"
             ]
            ],
            "type": "histogram2dcontour"
           }
          ],
          "mesh3d": [
           {
            "colorbar": {
             "outlinewidth": 0,
             "ticks": ""
            },
            "type": "mesh3d"
           }
          ],
          "parcoords": [
           {
            "line": {
             "colorbar": {
              "outlinewidth": 0,
              "ticks": ""
             }
            },
            "type": "parcoords"
           }
          ],
          "pie": [
           {
            "automargin": true,
            "type": "pie"
           }
          ],
          "scatter": [
           {
            "marker": {
             "colorbar": {
              "outlinewidth": 0,
              "ticks": ""
             }
            },
            "type": "scatter"
           }
          ],
          "scatter3d": [
           {
            "line": {
             "colorbar": {
              "outlinewidth": 0,
              "ticks": ""
             }
            },
            "marker": {
             "colorbar": {
              "outlinewidth": 0,
              "ticks": ""
             }
            },
            "type": "scatter3d"
           }
          ],
          "scattercarpet": [
           {
            "marker": {
             "colorbar": {
              "outlinewidth": 0,
              "ticks": ""
             }
            },
            "type": "scattercarpet"
           }
          ],
          "scattergeo": [
           {
            "marker": {
             "colorbar": {
              "outlinewidth": 0,
              "ticks": ""
             }
            },
            "type": "scattergeo"
           }
          ],
          "scattergl": [
           {
            "marker": {
             "colorbar": {
              "outlinewidth": 0,
              "ticks": ""
             }
            },
            "type": "scattergl"
           }
          ],
          "scattermapbox": [
           {
            "marker": {
             "colorbar": {
              "outlinewidth": 0,
              "ticks": ""
             }
            },
            "type": "scattermapbox"
           }
          ],
          "scatterpolar": [
           {
            "marker": {
             "colorbar": {
              "outlinewidth": 0,
              "ticks": ""
             }
            },
            "type": "scatterpolar"
           }
          ],
          "scatterpolargl": [
           {
            "marker": {
             "colorbar": {
              "outlinewidth": 0,
              "ticks": ""
             }
            },
            "type": "scatterpolargl"
           }
          ],
          "scatterternary": [
           {
            "marker": {
             "colorbar": {
              "outlinewidth": 0,
              "ticks": ""
             }
            },
            "type": "scatterternary"
           }
          ],
          "surface": [
           {
            "colorbar": {
             "outlinewidth": 0,
             "ticks": ""
            },
            "colorscale": [
             [
              0,
              "#0d0887"
             ],
             [
              0.1111111111111111,
              "#46039f"
             ],
             [
              0.2222222222222222,
              "#7201a8"
             ],
             [
              0.3333333333333333,
              "#9c179e"
             ],
             [
              0.4444444444444444,
              "#bd3786"
             ],
             [
              0.5555555555555556,
              "#d8576b"
             ],
             [
              0.6666666666666666,
              "#ed7953"
             ],
             [
              0.7777777777777778,
              "#fb9f3a"
             ],
             [
              0.8888888888888888,
              "#fdca26"
             ],
             [
              1,
              "#f0f921"
             ]
            ],
            "type": "surface"
           }
          ],
          "table": [
           {
            "cells": {
             "fill": {
              "color": "#EBF0F8"
             },
             "line": {
              "color": "white"
             }
            },
            "header": {
             "fill": {
              "color": "#C8D4E3"
             },
             "line": {
              "color": "white"
             }
            },
            "type": "table"
           }
          ]
         },
         "layout": {
          "annotationdefaults": {
           "arrowcolor": "#2a3f5f",
           "arrowhead": 0,
           "arrowwidth": 1
          },
          "coloraxis": {
           "colorbar": {
            "outlinewidth": 0,
            "ticks": ""
           }
          },
          "colorscale": {
           "diverging": [
            [
             0,
             "#8e0152"
            ],
            [
             0.1,
             "#c51b7d"
            ],
            [
             0.2,
             "#de77ae"
            ],
            [
             0.3,
             "#f1b6da"
            ],
            [
             0.4,
             "#fde0ef"
            ],
            [
             0.5,
             "#f7f7f7"
            ],
            [
             0.6,
             "#e6f5d0"
            ],
            [
             0.7,
             "#b8e186"
            ],
            [
             0.8,
             "#7fbc41"
            ],
            [
             0.9,
             "#4d9221"
            ],
            [
             1,
             "#276419"
            ]
           ],
           "sequential": [
            [
             0,
             "#0d0887"
            ],
            [
             0.1111111111111111,
             "#46039f"
            ],
            [
             0.2222222222222222,
             "#7201a8"
            ],
            [
             0.3333333333333333,
             "#9c179e"
            ],
            [
             0.4444444444444444,
             "#bd3786"
            ],
            [
             0.5555555555555556,
             "#d8576b"
            ],
            [
             0.6666666666666666,
             "#ed7953"
            ],
            [
             0.7777777777777778,
             "#fb9f3a"
            ],
            [
             0.8888888888888888,
             "#fdca26"
            ],
            [
             1,
             "#f0f921"
            ]
           ],
           "sequentialminus": [
            [
             0,
             "#0d0887"
            ],
            [
             0.1111111111111111,
             "#46039f"
            ],
            [
             0.2222222222222222,
             "#7201a8"
            ],
            [
             0.3333333333333333,
             "#9c179e"
            ],
            [
             0.4444444444444444,
             "#bd3786"
            ],
            [
             0.5555555555555556,
             "#d8576b"
            ],
            [
             0.6666666666666666,
             "#ed7953"
            ],
            [
             0.7777777777777778,
             "#fb9f3a"
            ],
            [
             0.8888888888888888,
             "#fdca26"
            ],
            [
             1,
             "#f0f921"
            ]
           ]
          },
          "colorway": [
           "#636efa",
           "#EF553B",
           "#00cc96",
           "#ab63fa",
           "#FFA15A",
           "#19d3f3",
           "#FF6692",
           "#B6E880",
           "#FF97FF",
           "#FECB52"
          ],
          "font": {
           "color": "#2a3f5f"
          },
          "geo": {
           "bgcolor": "white",
           "lakecolor": "white",
           "landcolor": "#E5ECF6",
           "showlakes": true,
           "showland": true,
           "subunitcolor": "white"
          },
          "hoverlabel": {
           "align": "left"
          },
          "hovermode": "closest",
          "mapbox": {
           "style": "light"
          },
          "paper_bgcolor": "white",
          "plot_bgcolor": "#E5ECF6",
          "polar": {
           "angularaxis": {
            "gridcolor": "white",
            "linecolor": "white",
            "ticks": ""
           },
           "bgcolor": "#E5ECF6",
           "radialaxis": {
            "gridcolor": "white",
            "linecolor": "white",
            "ticks": ""
           }
          },
          "scene": {
           "xaxis": {
            "backgroundcolor": "#E5ECF6",
            "gridcolor": "white",
            "gridwidth": 2,
            "linecolor": "white",
            "showbackground": true,
            "ticks": "",
            "zerolinecolor": "white"
           },
           "yaxis": {
            "backgroundcolor": "#E5ECF6",
            "gridcolor": "white",
            "gridwidth": 2,
            "linecolor": "white",
            "showbackground": true,
            "ticks": "",
            "zerolinecolor": "white"
           },
           "zaxis": {
            "backgroundcolor": "#E5ECF6",
            "gridcolor": "white",
            "gridwidth": 2,
            "linecolor": "white",
            "showbackground": true,
            "ticks": "",
            "zerolinecolor": "white"
           }
          },
          "shapedefaults": {
           "line": {
            "color": "#2a3f5f"
           }
          },
          "ternary": {
           "aaxis": {
            "gridcolor": "white",
            "linecolor": "white",
            "ticks": ""
           },
           "baxis": {
            "gridcolor": "white",
            "linecolor": "white",
            "ticks": ""
           },
           "bgcolor": "#E5ECF6",
           "caxis": {
            "gridcolor": "white",
            "linecolor": "white",
            "ticks": ""
           }
          },
          "title": {
           "x": 0.05
          },
          "xaxis": {
           "automargin": true,
           "gridcolor": "white",
           "linecolor": "white",
           "ticks": "",
           "title": {
            "standoff": 15
           },
           "zerolinecolor": "white",
           "zerolinewidth": 2
          },
          "yaxis": {
           "automargin": true,
           "gridcolor": "white",
           "linecolor": "white",
           "ticks": "",
           "title": {
            "standoff": 15
           },
           "zerolinecolor": "white",
           "zerolinewidth": 2
          }
         }
        }
       }
      }
     },
     "metadata": {}
    },
    {
     "output_type": "display_data",
     "data": {
      "application/vnd.plotly.v1+json": {
       "config": {
        "plotlyServerURL": "https://plot.ly"
       },
       "data": [
        {
         "mode": "markers",
         "type": "scatter",
         "x": [
          -1.391737438217304,
          -0.7471563494188974,
          -1.1388252919853337,
          -0.9179931069501012,
          -1.3034691010668353,
          -1.1069777445712472,
          -1.0194925450083678,
          -1.1496548587754831,
          -0.927834578783058,
          -1.0943432308528147,
          -0.8875166649837731,
          -1.0942373705662636,
          -1.00614431534487,
          -1.1578281529925145,
          -0.7597550610403563,
          -1.1299146858478444,
          -0.9001230207226671,
          -1.2025903763189796,
          -0.8397288446572935,
          -0.7822254602879202,
          -0.7846812948231265,
          -1.1159017864777985,
          -0.8781091790356337,
          -1.0532480680420762,
          -0.900005087923226,
          -0.9087768284808586,
          -1.5308366084524128,
          -1.1975637318432089,
          -0.9640870856505698,
          -1.0371989499600514,
          -0.9129928074849671,
          -1.2273471824887194,
          -0.7903944903290568,
          -1.0238482448644037,
          -0.9666299395858997,
          -1.0226740661475222,
          -1.3923786990183622,
          -1.0941416552722971,
          -0.9167738757560875,
          -0.7623332328630636,
          -1.0390718481326227,
          -1.1844700969649937,
          -1.073655601786621,
          -0.7495584371982527,
          -1.0723646325260012,
          -1.0860062964249504,
          -1.078419461156223,
          -1.192773242483464,
          -0.6628092282324191,
          -0.9046057391333371,
          0.8973198210503541,
          0.9194558357763556,
          1.1980633043707873,
          1.1724439371201787,
          0.8011821196091354,
          1.203653892273537,
          0.7321087844371605,
          0.7338356216040378,
          0.9778888339103641,
          0.4839123795476006,
          0.9098698210791512,
          0.8520288503918118,
          0.9096009416375411,
          1.3693462777207221,
          0.9891389208175294,
          0.9298334348076454,
          0.7751713694734845,
          0.7594607970651375,
          0.9357180086003598,
          0.9455842332521099,
          0.9435215455057546,
          0.8086098807778821,
          1.3539703124230438,
          1.3026113861980264,
          1.307486752805134,
          1.101794910097045,
          1.1113735733282288,
          0.9615552960645831,
          0.8022686989325509,
          0.9124673682170603,
          1.0595969988712428,
          1.13783785777069,
          1.3551735297099357,
          0.916509595892794,
          1.1673432213042683,
          0.918761814069716,
          0.7116983002288095,
          0.9582023190173905,
          0.6693305622596217,
          1.0500642467997339,
          0.7905880788125406,
          0.9373547726839302,
          1.272729746314801,
          1.0375373077115309,
          1.2724690751941974,
          0.8922792586151675,
          1.0464640283480777,
          1.2347918396395925,
          0.936255740774349,
          1.3516098783115047
         ],
         "y": [
          0.4900422024833051,
          0.18348071578357797,
          0.0006276420881998201,
          0.5526684606325964,
          0.2857161404953842,
          0.09313060765830097,
          0.20512562597413087,
          0.3974728130917955,
          0.1387469704791461,
          0.10485236954745208,
          0.2803690454672073,
          0.542683295576468,
          0.4220902565440513,
          0.3047210806297796,
          -0.059097140178233865,
          0.15752735582397548,
          0.27038620185582224,
          0.4192411615625164,
          0.3831334909775513,
          0.6275145097881913,
          0.5600193644649509,
          -0.028932240308687185,
          0.4922427310198011,
          0.6249041332807539,
          -0.06935777296285406,
          0.04556065326710801,
          0.41021924277069444,
          0.013845470676340288,
          0.738395984267294,
          0.05622164345071029,
          0.5382990047226025,
          0.1269582081092733,
          0.4660286088833317,
          0.20934204462365935,
          0.5538821107962426,
          0.2619616295320422,
          0.24635296802894213,
          0.06805272398178122,
          0.5208668624887315,
          0.4903375698327052,
          0.22870740560295227,
          0.36371307042435125,
          0.7604663049018148,
          0.4746331401430148,
          0.06345709816218231,
          0.37847051044505237,
          0.18822762456475908,
          0.08639720531595677,
          0.26124608343046885,
          0.46486723947225195,
          0.4253427971266571,
          0.8419926357026533,
          0.38473782421469493,
          0.351103171975672,
          0.3432132821021564,
          0.22862174050869244,
          -0.17942461198166387,
          0.1243609968564123,
          0.28324282984723403,
          0.29926422122742363,
          0.28499801455161383,
          0.4969974093029022,
          0.15503745518108658,
          0.38588709324916015,
          0.443522832084306,
          0.07241378375396915,
          0.5580690482106516,
          0.3525615692427141,
          0.6491110687443954,
          0.21193213240921044,
          0.6880738597879588,
          0.32549804473895083,
          0.5626605087510435,
          0.4385812062021165,
          0.15073161169367924,
          0.1604531357408559,
          0.3459986962887069,
          0.5184826055266284,
          0.1888156463993131,
          0.11650080411200633,
          0.14772158662711246,
          0.43972648096504197,
          0.48944621585631803,
          0.23369077752555534,
          0.3591889945927572,
          0.11691331514113504,
          0.4229615284334694,
          0.2508604420732965,
          0.20117268024105112,
          0.3101647856428418,
          0.32036668046540884,
          0.00595999342859338,
          -0.11554159693762656,
          -0.04277448651858201,
          0.35049136528151914,
          0.084089007517194,
          0.408820876802138,
          -0.22931898777336907,
          0.4161898203509161,
          -0.10557377735185042
         ]
        },
        {
         "mode": "markers",
         "type": "scatter",
         "x": [
          0.15835250443340176,
          0.035532500577358496,
          -0.09732270453830316,
          -0.3913597695192373,
          0.07353080199173365,
          -0.34820432291049336,
          0.7362248354199884,
          -0.442157115254697,
          0.2932308594919431,
          -0.36247712546899674,
          -0.3218967571255753,
          0.4952621310206613,
          0.4260681251950462,
          -0.6386383937295176,
          1.0817859396560248,
          -0.27850956125426396,
          0.08886200484958753,
          -0.3146804772984789,
          0.3583465518928873,
          0.003953311502667809,
          -0.10194356441812276,
          0.205633905049072,
          0.01649709541399212,
          -0.03404580757854507,
          -0.07856738737648611,
          0.02344437685481075,
          0.06032701631822915,
          0.27958693864808815,
          0.48119593975532865,
          -0.07846861601363064,
          -0.3139183279315326,
          -0.30190797902912186,
          0.22157294512025014,
          0.23724563220000336,
          0.3840254025377786,
          -0.03457471054047867,
          -0.4168393026591567,
          -0.02901239397187954,
          0.15473336818903166,
          -0.0019330330629348498,
          0.4928104198834879,
          -0.0065018364431653165,
          0.020622230246707403,
          0.06344691643984912,
          -0.11241693029413967,
          -0.6496218968964218,
          -0.2501496242419213,
          0.35646958534698003,
          -0.28107065701200146,
          0.07071779041806675,
          0.011402487840093714,
          -0.6595511877481638,
          -0.38180210286788746,
          -0.004270579444580155,
          0.1027917019627739,
          -0.009379264902004325,
          -0.4018320538092895,
          0.2589731273200297,
          0.18360747909058378,
          0.08862959190898495,
          0.09961768350232766,
          0.041740293029692815,
          -0.132413728149205,
          0.39595056961825553,
          -0.00046772296213777907,
          -0.16973237196894975,
          0.5336428269169989,
          -0.21455998784384964,
          0.08329348093555264,
          -0.1074129306541179,
          0.8368075398871485,
          -0.05070205076883937,
          -0.14934414412213676,
          -0.5518237893639811,
          -0.17817636058616296,
          0.11956385555840064,
          0.7116972764481498,
          0.05509037419495523,
          -0.14935894459810536,
          -0.17936170551437425,
          0.1436360089047994,
          -0.17015035717442262,
          0.10076266809846908,
          0.4579407507946717,
          0.4556088124066792,
          0.24032545114252227,
          -0.11386431739689234,
          -0.2940559302909137,
          0.5429518314390679,
          -0.11071502060044175,
          -0.07885495476862661,
          0.26109529023255346,
          -0.040849009194867746,
          -0.1257521315582582,
          0.45529102697873547,
          0.05870739455023648,
          0.1826235997064136,
          0.15896011592015472,
          -0.350538246868074,
          0.2512721134700833
         ],
         "y": [
          0.0896306756434758,
          -0.026199980930197375,
          -0.4111104366846413,
          -0.028190826380426165,
          0.08290844299465558,
          -0.23884188668723316,
          -0.22100178342164156,
          -0.6147777423724289,
          0.1333769822152043,
          0.3247817258773139,
          -0.5414194473571052,
          0.4991048716682449,
          -0.03415333021041636,
          -0.6294896397069302,
          -0.5199834884702713,
          -0.5823334734457387,
          0.44206751024854796,
          -0.2542779589058498,
          -0.4675995700314044,
          0.1648786013784959,
          -0.0983697142718408,
          0.14798403362543727,
          0.007024715068017023,
          0.04803790345939987,
          -0.34081333096110267,
          -0.025310525186864746,
          0.13706963476274467,
          -0.4798418449508306,
          0.22715974428613608,
          0.15066600418817191,
          0.07726628902944566,
          0.19317628833796527,
          -0.3424400543415166,
          0.4004194053797455,
          0.1778128900532748,
          -0.24007225371315985,
          0.41579346874801715,
          -0.20267534183903047,
          -0.4933655048015596,
          0.13083037083727517,
          0.4050115496161447,
          0.019829563540358114,
          -0.14266298674006148,
          0.02352410704323396,
          -0.5137838274261064,
          -0.12895501836152043,
          0.2949397278805116,
          -0.05978273974421729,
          -0.4950647560663409,
          -0.08434070956167691,
          -0.4713154786296908,
          -0.04565849578948782,
          0.12898164982259525,
          -0.014916969920287834,
          -0.027481728116810503,
          -0.6128816938828535,
          -0.3836074206088843,
          0.32164458560621134,
          0.2120871626520953,
          -0.3032438601840663,
          0.2884361879340118,
          -0.3768362376796358,
          -0.18412264424068914,
          -0.19716192213109865,
          0.1758045233414394,
          0.5443859217394666,
          0.2982728207976708,
          -0.1407413759353569,
          -0.54501272015646,
          -0.20099468862757186,
          0.26021620944413437,
          -0.09934920028558948,
          -0.07282119517433126,
          -0.027254470849190596,
          0.31323818217327704,
          -0.6074699808253962,
          0.07659530189487845,
          -0.2799343790082322,
          -0.5180488737419644,
          -0.055427045756404884,
          -0.28238209916859863,
          0.20764143840752283,
          -0.24014544462051418,
          -0.3120401722942863,
          -0.12456344161298469,
          0.0009218646949550463,
          0.27591730176877594,
          -0.21210715219596182,
          -0.1627677637365399,
          0.26976327904604747,
          -0.035698584788003015,
          -0.49208258468558175,
          -0.4017904749422133,
          -0.37187238368712416,
          0.3399474331413902,
          -0.33826018538562364,
          0.21962332325574765,
          -0.5661518766434563,
          -0.24980901935635508,
          -0.4619448305525078
         ]
        },
        {
         "mode": "markers",
         "type": "scatter",
         "x": [
          -5,
          -4.898989898989899,
          -4.797979797979798,
          -4.696969696969697,
          -4.595959595959596,
          -4.494949494949495,
          -4.393939393939394,
          -4.292929292929293,
          -4.191919191919192,
          -4.090909090909091,
          -3.9898989898989896,
          -3.888888888888889,
          -3.787878787878788,
          -3.686868686868687,
          -3.5858585858585856,
          -3.484848484848485,
          -3.383838383838384,
          -3.282828282828283,
          -3.1818181818181817,
          -3.080808080808081,
          -2.9797979797979797,
          -2.878787878787879,
          -2.7777777777777777,
          -2.676767676767677,
          -2.5757575757575757,
          -2.474747474747475,
          -2.3737373737373737,
          -2.272727272727273,
          -2.1717171717171717,
          -2.070707070707071,
          -1.9696969696969697,
          -1.868686868686869,
          -1.7676767676767677,
          -1.6666666666666665,
          -1.5656565656565657,
          -1.4646464646464645,
          -1.3636363636363638,
          -1.2626262626262625,
          -1.1616161616161618,
          -1.0606060606060606,
          -0.9595959595959593,
          -0.858585858585859,
          -0.7575757575757578,
          -0.6565656565656566,
          -0.5555555555555554,
          -0.45454545454545503,
          -0.3535353535353538,
          -0.2525252525252526,
          -0.15151515151515138,
          -0.050505050505050164,
          0.050505050505050164,
          0.15151515151515138,
          0.2525252525252526,
          0.3535353535353538,
          0.45454545454545414,
          0.5555555555555554,
          0.6565656565656566,
          0.7575757575757578,
          0.8585858585858581,
          0.9595959595959593,
          1.0606060606060606,
          1.1616161616161618,
          1.262626262626262,
          1.3636363636363633,
          1.4646464646464645,
          1.5656565656565657,
          1.666666666666667,
          1.7676767676767673,
          1.8686868686868685,
          1.9696969696969697,
          2.070707070707071,
          2.1717171717171713,
          2.2727272727272725,
          2.3737373737373737,
          2.474747474747475,
          2.5757575757575752,
          2.6767676767676765,
          2.7777777777777777,
          2.878787878787879,
          2.9797979797979792,
          3.0808080808080813,
          3.1818181818181817,
          3.282828282828282,
          3.383838383838384,
          3.4848484848484844,
          3.5858585858585865,
          3.686868686868687,
          3.787878787878787,
          3.8888888888888893,
          3.9898989898989896,
          4.09090909090909,
          4.191919191919192,
          4.292929292929292,
          4.3939393939393945,
          4.494949494949495,
          4.595959595959595,
          4.696969696969697,
          4.797979797979798,
          4.8989898989899,
          5
         ],
         "y": [
          -4.821632142382376,
          -4.724225432435257,
          -4.626818722488138,
          -4.5294120125410195,
          -4.432005302593902,
          -4.334598592646783,
          -4.237191882699664,
          -4.139785172752545,
          -4.042378462805427,
          -3.9449717528583075,
          -3.847565042911189,
          -3.7501583329640704,
          -3.6527516230169517,
          -3.555344913069833,
          -3.457938203122714,
          -3.3605314931755954,
          -3.263124783228477,
          -3.165718073281358,
          -3.068311363334239,
          -2.970904653387121,
          -2.8734979434400016,
          -2.776091233492883,
          -2.6786845235457646,
          -2.581277813598646,
          -2.483871103651527,
          -2.3864643937044088,
          -2.2890576837572896,
          -2.1916509738101713,
          -2.094244263863052,
          -1.9968375539159338,
          -1.899430843968815,
          -1.8020241340216963,
          -1.7046174240745775,
          -1.6072107141274585,
          -1.5098040041803402,
          -1.412397294233221,
          -1.3149905842861027,
          -1.2175838743389837,
          -1.1201771643918652,
          -1.0227704544447465,
          -0.9253637444976275,
          -0.8279570345505094,
          -0.7305503246033905,
          -0.6331436146562716,
          -0.5357369047091527,
          -0.43833019476203466,
          -0.34092348481491574,
          -0.24351677486779685,
          -0.14611006492067793,
          -0.04870335497355903,
          0.04870335497355903,
          0.14611006492067793,
          0.24351677486779685,
          0.34092348481491574,
          0.43833019476203383,
          0.5357369047091527,
          0.6331436146562716,
          0.7305503246033905,
          0.8279570345505086,
          0.9253637444976275,
          1.0227704544447465,
          1.1201771643918652,
          1.2175838743389833,
          1.3149905842861023,
          1.412397294233221,
          1.5098040041803402,
          1.607210714127459,
          1.704617424074577,
          1.8020241340216958,
          1.899430843968815,
          1.9968375539159338,
          2.0942442638630516,
          2.191650973810171,
          2.2890576837572896,
          2.3864643937044088,
          2.4838711036515266,
          2.5812778135986454,
          2.6786845235457646,
          2.776091233492883,
          2.873497943440001,
          2.9709046533871213,
          3.068311363334239,
          3.165718073281357,
          3.263124783228477,
          3.360531493175595,
          3.457938203122715,
          3.555344913069833,
          3.6527516230169508,
          3.750158332964071,
          3.847565042911189,
          3.9449717528583066,
          4.042378462805427,
          4.1397851727525445,
          4.237191882699665,
          4.334598592646783,
          4.4320053025939,
          4.5294120125410195,
          4.626818722488138,
          4.724225432435258,
          4.821632142382376
         ]
        },
        {
         "mode": "markers",
         "type": "scatter",
         "x": [
          -5,
          -4.898989898989899,
          -4.797979797979798,
          -4.696969696969697,
          -4.595959595959596,
          -4.494949494949495,
          -4.393939393939394,
          -4.292929292929293,
          -4.191919191919192,
          -4.090909090909091,
          -3.9898989898989896,
          -3.888888888888889,
          -3.787878787878788,
          -3.686868686868687,
          -3.5858585858585856,
          -3.484848484848485,
          -3.383838383838384,
          -3.282828282828283,
          -3.1818181818181817,
          -3.080808080808081,
          -2.9797979797979797,
          -2.878787878787879,
          -2.7777777777777777,
          -2.676767676767677,
          -2.5757575757575757,
          -2.474747474747475,
          -2.3737373737373737,
          -2.272727272727273,
          -2.1717171717171717,
          -2.070707070707071,
          -1.9696969696969697,
          -1.868686868686869,
          -1.7676767676767677,
          -1.6666666666666665,
          -1.5656565656565657,
          -1.4646464646464645,
          -1.3636363636363638,
          -1.2626262626262625,
          -1.1616161616161618,
          -1.0606060606060606,
          -0.9595959595959593,
          -0.858585858585859,
          -0.7575757575757578,
          -0.6565656565656566,
          -0.5555555555555554,
          -0.45454545454545503,
          -0.3535353535353538,
          -0.2525252525252526,
          -0.15151515151515138,
          -0.050505050505050164,
          0.050505050505050164,
          0.15151515151515138,
          0.2525252525252526,
          0.3535353535353538,
          0.45454545454545414,
          0.5555555555555554,
          0.6565656565656566,
          0.7575757575757578,
          0.8585858585858581,
          0.9595959595959593,
          1.0606060606060606,
          1.1616161616161618,
          1.262626262626262,
          1.3636363636363633,
          1.4646464646464645,
          1.5656565656565657,
          1.666666666666667,
          1.7676767676767673,
          1.8686868686868685,
          1.9696969696969697,
          2.070707070707071,
          2.1717171717171713,
          2.2727272727272725,
          2.3737373737373737,
          2.474747474747475,
          2.5757575757575752,
          2.6767676767676765,
          2.7777777777777777,
          2.878787878787879,
          2.9797979797979792,
          3.0808080808080813,
          3.1818181818181817,
          3.282828282828282,
          3.383838383838384,
          3.4848484848484844,
          3.5858585858585865,
          3.686868686868687,
          3.787878787878787,
          3.8888888888888893,
          3.9898989898989896,
          4.09090909090909,
          4.191919191919192,
          4.292929292929292,
          4.3939393939393945,
          4.494949494949495,
          4.595959595959595,
          4.696969696969697,
          4.797979797979798,
          4.8989898989899,
          5
         ],
         "y": [
          -5,
          -5,
          -5,
          -5,
          -5,
          -5,
          -5,
          -5,
          -5,
          -5,
          -5,
          -5,
          -5,
          -5,
          -5,
          -5,
          -5,
          -5,
          -5,
          -5,
          -5,
          -5,
          -5,
          -5,
          -5,
          -5,
          -5,
          -5,
          -5,
          -5,
          -5,
          -5,
          -5,
          -5,
          -5,
          -5,
          -5,
          -5,
          -5,
          -5,
          -5,
          -5,
          -5,
          -5,
          -5,
          -5,
          -5,
          -5,
          -4.86689491411442,
          -1.6222983047047965,
          1.6222983047047965,
          4.86689491411442,
          5,
          5,
          5,
          5,
          5,
          5,
          5,
          5,
          5,
          5,
          5,
          5,
          5,
          5,
          5,
          5,
          5,
          5,
          5,
          5,
          5,
          5,
          5,
          5,
          5,
          5,
          5,
          5,
          5,
          5,
          5,
          5,
          5,
          5,
          5,
          5,
          5,
          5,
          5,
          5,
          5,
          5,
          5,
          5,
          5,
          5,
          5,
          5
         ]
        }
       ],
       "layout": {
        "template": {
         "data": {
          "bar": [
           {
            "error_x": {
             "color": "#2a3f5f"
            },
            "error_y": {
             "color": "#2a3f5f"
            },
            "marker": {
             "line": {
              "color": "#E5ECF6",
              "width": 0.5
             }
            },
            "type": "bar"
           }
          ],
          "barpolar": [
           {
            "marker": {
             "line": {
              "color": "#E5ECF6",
              "width": 0.5
             }
            },
            "type": "barpolar"
           }
          ],
          "carpet": [
           {
            "aaxis": {
             "endlinecolor": "#2a3f5f",
             "gridcolor": "white",
             "linecolor": "white",
             "minorgridcolor": "white",
             "startlinecolor": "#2a3f5f"
            },
            "baxis": {
             "endlinecolor": "#2a3f5f",
             "gridcolor": "white",
             "linecolor": "white",
             "minorgridcolor": "white",
             "startlinecolor": "#2a3f5f"
            },
            "type": "carpet"
           }
          ],
          "choropleth": [
           {
            "colorbar": {
             "outlinewidth": 0,
             "ticks": ""
            },
            "type": "choropleth"
           }
          ],
          "contour": [
           {
            "colorbar": {
             "outlinewidth": 0,
             "ticks": ""
            },
            "colorscale": [
             [
              0,
              "#0d0887"
             ],
             [
              0.1111111111111111,
              "#46039f"
             ],
             [
              0.2222222222222222,
              "#7201a8"
             ],
             [
              0.3333333333333333,
              "#9c179e"
             ],
             [
              0.4444444444444444,
              "#bd3786"
             ],
             [
              0.5555555555555556,
              "#d8576b"
             ],
             [
              0.6666666666666666,
              "#ed7953"
             ],
             [
              0.7777777777777778,
              "#fb9f3a"
             ],
             [
              0.8888888888888888,
              "#fdca26"
             ],
             [
              1,
              "#f0f921"
             ]
            ],
            "type": "contour"
           }
          ],
          "contourcarpet": [
           {
            "colorbar": {
             "outlinewidth": 0,
             "ticks": ""
            },
            "type": "contourcarpet"
           }
          ],
          "heatmap": [
           {
            "colorbar": {
             "outlinewidth": 0,
             "ticks": ""
            },
            "colorscale": [
             [
              0,
              "#0d0887"
             ],
             [
              0.1111111111111111,
              "#46039f"
             ],
             [
              0.2222222222222222,
              "#7201a8"
             ],
             [
              0.3333333333333333,
              "#9c179e"
             ],
             [
              0.4444444444444444,
              "#bd3786"
             ],
             [
              0.5555555555555556,
              "#d8576b"
             ],
             [
              0.6666666666666666,
              "#ed7953"
             ],
             [
              0.7777777777777778,
              "#fb9f3a"
             ],
             [
              0.8888888888888888,
              "#fdca26"
             ],
             [
              1,
              "#f0f921"
             ]
            ],
            "type": "heatmap"
           }
          ],
          "heatmapgl": [
           {
            "colorbar": {
             "outlinewidth": 0,
             "ticks": ""
            },
            "colorscale": [
             [
              0,
              "#0d0887"
             ],
             [
              0.1111111111111111,
              "#46039f"
             ],
             [
              0.2222222222222222,
              "#7201a8"
             ],
             [
              0.3333333333333333,
              "#9c179e"
             ],
             [
              0.4444444444444444,
              "#bd3786"
             ],
             [
              0.5555555555555556,
              "#d8576b"
             ],
             [
              0.6666666666666666,
              "#ed7953"
             ],
             [
              0.7777777777777778,
              "#fb9f3a"
             ],
             [
              0.8888888888888888,
              "#fdca26"
             ],
             [
              1,
              "#f0f921"
             ]
            ],
            "type": "heatmapgl"
           }
          ],
          "histogram": [
           {
            "marker": {
             "colorbar": {
              "outlinewidth": 0,
              "ticks": ""
             }
            },
            "type": "histogram"
           }
          ],
          "histogram2d": [
           {
            "colorbar": {
             "outlinewidth": 0,
             "ticks": ""
            },
            "colorscale": [
             [
              0,
              "#0d0887"
             ],
             [
              0.1111111111111111,
              "#46039f"
             ],
             [
              0.2222222222222222,
              "#7201a8"
             ],
             [
              0.3333333333333333,
              "#9c179e"
             ],
             [
              0.4444444444444444,
              "#bd3786"
             ],
             [
              0.5555555555555556,
              "#d8576b"
             ],
             [
              0.6666666666666666,
              "#ed7953"
             ],
             [
              0.7777777777777778,
              "#fb9f3a"
             ],
             [
              0.8888888888888888,
              "#fdca26"
             ],
             [
              1,
              "#f0f921"
             ]
            ],
            "type": "histogram2d"
           }
          ],
          "histogram2dcontour": [
           {
            "colorbar": {
             "outlinewidth": 0,
             "ticks": ""
            },
            "colorscale": [
             [
              0,
              "#0d0887"
             ],
             [
              0.1111111111111111,
              "#46039f"
             ],
             [
              0.2222222222222222,
              "#7201a8"
             ],
             [
              0.3333333333333333,
              "#9c179e"
             ],
             [
              0.4444444444444444,
              "#bd3786"
             ],
             [
              0.5555555555555556,
              "#d8576b"
             ],
             [
              0.6666666666666666,
              "#ed7953"
             ],
             [
              0.7777777777777778,
              "#fb9f3a"
             ],
             [
              0.8888888888888888,
              "#fdca26"
             ],
             [
              1,
              "#f0f921"
             ]
            ],
            "type": "histogram2dcontour"
           }
          ],
          "mesh3d": [
           {
            "colorbar": {
             "outlinewidth": 0,
             "ticks": ""
            },
            "type": "mesh3d"
           }
          ],
          "parcoords": [
           {
            "line": {
             "colorbar": {
              "outlinewidth": 0,
              "ticks": ""
             }
            },
            "type": "parcoords"
           }
          ],
          "pie": [
           {
            "automargin": true,
            "type": "pie"
           }
          ],
          "scatter": [
           {
            "marker": {
             "colorbar": {
              "outlinewidth": 0,
              "ticks": ""
             }
            },
            "type": "scatter"
           }
          ],
          "scatter3d": [
           {
            "line": {
             "colorbar": {
              "outlinewidth": 0,
              "ticks": ""
             }
            },
            "marker": {
             "colorbar": {
              "outlinewidth": 0,
              "ticks": ""
             }
            },
            "type": "scatter3d"
           }
          ],
          "scattercarpet": [
           {
            "marker": {
             "colorbar": {
              "outlinewidth": 0,
              "ticks": ""
             }
            },
            "type": "scattercarpet"
           }
          ],
          "scattergeo": [
           {
            "marker": {
             "colorbar": {
              "outlinewidth": 0,
              "ticks": ""
             }
            },
            "type": "scattergeo"
           }
          ],
          "scattergl": [
           {
            "marker": {
             "colorbar": {
              "outlinewidth": 0,
              "ticks": ""
             }
            },
            "type": "scattergl"
           }
          ],
          "scattermapbox": [
           {
            "marker": {
             "colorbar": {
              "outlinewidth": 0,
              "ticks": ""
             }
            },
            "type": "scattermapbox"
           }
          ],
          "scatterpolar": [
           {
            "marker": {
             "colorbar": {
              "outlinewidth": 0,
              "ticks": ""
             }
            },
            "type": "scatterpolar"
           }
          ],
          "scatterpolargl": [
           {
            "marker": {
             "colorbar": {
              "outlinewidth": 0,
              "ticks": ""
             }
            },
            "type": "scatterpolargl"
           }
          ],
          "scatterternary": [
           {
            "marker": {
             "colorbar": {
              "outlinewidth": 0,
              "ticks": ""
             }
            },
            "type": "scatterternary"
           }
          ],
          "surface": [
           {
            "colorbar": {
             "outlinewidth": 0,
             "ticks": ""
            },
            "colorscale": [
             [
              0,
              "#0d0887"
             ],
             [
              0.1111111111111111,
              "#46039f"
             ],
             [
              0.2222222222222222,
              "#7201a8"
             ],
             [
              0.3333333333333333,
              "#9c179e"
             ],
             [
              0.4444444444444444,
              "#bd3786"
             ],
             [
              0.5555555555555556,
              "#d8576b"
             ],
             [
              0.6666666666666666,
              "#ed7953"
             ],
             [
              0.7777777777777778,
              "#fb9f3a"
             ],
             [
              0.8888888888888888,
              "#fdca26"
             ],
             [
              1,
              "#f0f921"
             ]
            ],
            "type": "surface"
           }
          ],
          "table": [
           {
            "cells": {
             "fill": {
              "color": "#EBF0F8"
             },
             "line": {
              "color": "white"
             }
            },
            "header": {
             "fill": {
              "color": "#C8D4E3"
             },
             "line": {
              "color": "white"
             }
            },
            "type": "table"
           }
          ]
         },
         "layout": {
          "annotationdefaults": {
           "arrowcolor": "#2a3f5f",
           "arrowhead": 0,
           "arrowwidth": 1
          },
          "coloraxis": {
           "colorbar": {
            "outlinewidth": 0,
            "ticks": ""
           }
          },
          "colorscale": {
           "diverging": [
            [
             0,
             "#8e0152"
            ],
            [
             0.1,
             "#c51b7d"
            ],
            [
             0.2,
             "#de77ae"
            ],
            [
             0.3,
             "#f1b6da"
            ],
            [
             0.4,
             "#fde0ef"
            ],
            [
             0.5,
             "#f7f7f7"
            ],
            [
             0.6,
             "#e6f5d0"
            ],
            [
             0.7,
             "#b8e186"
            ],
            [
             0.8,
             "#7fbc41"
            ],
            [
             0.9,
             "#4d9221"
            ],
            [
             1,
             "#276419"
            ]
           ],
           "sequential": [
            [
             0,
             "#0d0887"
            ],
            [
             0.1111111111111111,
             "#46039f"
            ],
            [
             0.2222222222222222,
             "#7201a8"
            ],
            [
             0.3333333333333333,
             "#9c179e"
            ],
            [
             0.4444444444444444,
             "#bd3786"
            ],
            [
             0.5555555555555556,
             "#d8576b"
            ],
            [
             0.6666666666666666,
             "#ed7953"
            ],
            [
             0.7777777777777778,
             "#fb9f3a"
            ],
            [
             0.8888888888888888,
             "#fdca26"
            ],
            [
             1,
             "#f0f921"
            ]
           ],
           "sequentialminus": [
            [
             0,
             "#0d0887"
            ],
            [
             0.1111111111111111,
             "#46039f"
            ],
            [
             0.2222222222222222,
             "#7201a8"
            ],
            [
             0.3333333333333333,
             "#9c179e"
            ],
            [
             0.4444444444444444,
             "#bd3786"
            ],
            [
             0.5555555555555556,
             "#d8576b"
            ],
            [
             0.6666666666666666,
             "#ed7953"
            ],
            [
             0.7777777777777778,
             "#fb9f3a"
            ],
            [
             0.8888888888888888,
             "#fdca26"
            ],
            [
             1,
             "#f0f921"
            ]
           ]
          },
          "colorway": [
           "#636efa",
           "#EF553B",
           "#00cc96",
           "#ab63fa",
           "#FFA15A",
           "#19d3f3",
           "#FF6692",
           "#B6E880",
           "#FF97FF",
           "#FECB52"
          ],
          "font": {
           "color": "#2a3f5f"
          },
          "geo": {
           "bgcolor": "white",
           "lakecolor": "white",
           "landcolor": "#E5ECF6",
           "showlakes": true,
           "showland": true,
           "subunitcolor": "white"
          },
          "hoverlabel": {
           "align": "left"
          },
          "hovermode": "closest",
          "mapbox": {
           "style": "light"
          },
          "paper_bgcolor": "white",
          "plot_bgcolor": "#E5ECF6",
          "polar": {
           "angularaxis": {
            "gridcolor": "white",
            "linecolor": "white",
            "ticks": ""
           },
           "bgcolor": "#E5ECF6",
           "radialaxis": {
            "gridcolor": "white",
            "linecolor": "white",
            "ticks": ""
           }
          },
          "scene": {
           "xaxis": {
            "backgroundcolor": "#E5ECF6",
            "gridcolor": "white",
            "gridwidth": 2,
            "linecolor": "white",
            "showbackground": true,
            "ticks": "",
            "zerolinecolor": "white"
           },
           "yaxis": {
            "backgroundcolor": "#E5ECF6",
            "gridcolor": "white",
            "gridwidth": 2,
            "linecolor": "white",
            "showbackground": true,
            "ticks": "",
            "zerolinecolor": "white"
           },
           "zaxis": {
            "backgroundcolor": "#E5ECF6",
            "gridcolor": "white",
            "gridwidth": 2,
            "linecolor": "white",
            "showbackground": true,
            "ticks": "",
            "zerolinecolor": "white"
           }
          },
          "shapedefaults": {
           "line": {
            "color": "#2a3f5f"
           }
          },
          "ternary": {
           "aaxis": {
            "gridcolor": "white",
            "linecolor": "white",
            "ticks": ""
           },
           "baxis": {
            "gridcolor": "white",
            "linecolor": "white",
            "ticks": ""
           },
           "bgcolor": "#E5ECF6",
           "caxis": {
            "gridcolor": "white",
            "linecolor": "white",
            "ticks": ""
           }
          },
          "title": {
           "x": 0.05
          },
          "xaxis": {
           "automargin": true,
           "gridcolor": "white",
           "linecolor": "white",
           "ticks": "",
           "title": {
            "standoff": 15
           },
           "zerolinecolor": "white",
           "zerolinewidth": 2
          },
          "yaxis": {
           "automargin": true,
           "gridcolor": "white",
           "linecolor": "white",
           "ticks": "",
           "title": {
            "standoff": 15
           },
           "zerolinecolor": "white",
           "zerolinewidth": 2
          }
         }
        }
       }
      }
     },
     "metadata": {}
    }
   ],
   "source": [
    "# 4\n",
    "A, B = non_linear(100, g_mA, g_mB, g_sigmaA, g_sigmaB)\n",
    "fig = go.Figure()\n",
    "fig.add_trace(go.Scatter(x=A[:,0], y=A[:,1], mode=\"markers\"))\n",
    "fig.add_trace(go.Scatter(x=B[:,0], y=B[:,1], mode=\"markers\"))\n",
    "\n",
    "w = np.random.uniform(0,1,(2,1))\n",
    "epoch = 50\n",
    "eta = 1e-4\n",
    "\n",
    "t = 3\n",
    "idx = np.arange(100)\n",
    "for i in range(3):\n",
    "    idx_a = np.random.choice(np.where(A<0)[0], 20)\n",
    "    idx_b = np.random.choice(np.where(B>0)[0], 80)\n",
    "    a = A[idx_a]\n",
    "    b = B[idx_b]\n",
    "    features = np.concatenate([a,b],axis=0)\n",
    "    targets = np.concatenate([-np.ones((a.shape[0],1)), np.ones((b.shape[0],1))], axis=0)\n",
    "\n",
    "    mae_delta = delta_learning(features, targets, w, epoch, eta)\n",
    "    model, mae_per = perceptron_learning(features, targets, 10, epoch, eta)\n",
    "\n",
    "plot_boundary(fig, w.T)\n",
    "mae_fig = go.Figure()\n",
    "mae_fig.add_trace(go.Scatter(x=np.arange(len(mae_delta)), y=mae_delta, name=\"Delta\"))\n",
    "\n",
    "plot_boundary(fig, model.W)\n",
    "mae_fig.add_trace(go.Scatter(x=np.arange(len(mae_per)), y=mae_per, name=\"Perceptron\"))\n",
    "mae_fig.show()\n",
    "fig.show()"
   ]
  },
  {
   "cell_type": "code",
   "execution_count": 1,
   "metadata": {},
   "outputs": [
    {
     "output_type": "display_data",
     "data": {
      "application/vnd.plotly.v1+json": {
       "config": {
        "plotlyServerURL": "https://plot.ly"
       },
       "data": [
        {
         "mode": "markers",
         "type": "scatter",
         "x": [
          -1.0905618686633691,
          -1.1327076094815476,
          -0.8673695023477622,
          -0.6541896088476902,
          -0.9928813532759009,
          -1.0652789227643902,
          -1.1931702875998131,
          -0.869492770535718,
          -0.7669805375194907,
          -1.0260319890037828,
          -0.9957576951350057,
          -0.8030517190748001,
          -1.19998565426079,
          -0.7648267242915573,
          -1.0518811815390954,
          -0.9474735854343977,
          -1.099384309496223,
          -0.8312983067111195,
          -1.0192137592916624,
          -0.9647970868502888,
          -1.003106215729189,
          -0.7952859472810451,
          -0.9935524309687801,
          -0.813063083478811,
          -0.9193299324736818,
          -0.9800310410650149,
          -1.4058001170189558,
          -1.0331282376872681,
          -0.9352997032465082,
          -1.193800257942824,
          -0.9132288937598598,
          -0.8480337357896542,
          -1.1199439803054987,
          -1.1896299383843636,
          -0.8078887025088511,
          -1.0148918671059306,
          -1.111900579687253,
          -0.9302171137009272,
          -0.8114818234554362,
          -0.7964663111050619,
          -0.7083395184827281,
          -0.8953939671319214,
          -0.896878450928774,
          -1.191041216505678,
          -0.9653277935949864,
          -1.0097677707685486,
          -0.7990941394011071,
          -1.0516658197203521,
          -1.1128277519654137,
          -0.8467136599506799,
          1.1626345988043005,
          1.2875311832442653,
          1.2245394898446151,
          0.9690207517699707,
          0.7323659032451382,
          0.8367360922996714,
          1.3642739260330043,
          0.9355633168244633,
          0.8081755037313437,
          0.6764865454447593,
          1.0453359007863197,
          0.9988011857840978,
          0.9752911441615539,
          1.162635700405977,
          1.142171943688801,
          0.9245882320760614,
          1.04310350996449,
          0.8017395448024667,
          0.808242404680741,
          0.95872067489436,
          1.1251888703704185,
          1.0604089261724667,
          1.195772026437774,
          0.9680961902610757,
          0.9942564029042172,
          1.0735546931539355,
          0.8079776522566179,
          1.2187459413129218,
          0.9587752169944024,
          0.9710320906003699,
          1.0567035015866253,
          0.9560039373993283,
          0.9542915561772582,
          1.0435249035871892,
          0.7373146923583838,
          1.0866880827193788,
          0.85787893433778,
          1.071500207435764,
          1.2357979365408491,
          1.0568998526259368,
          1.0028296310623483,
          1.2207525248751971,
          1.1696302656650606,
          1.2227537859910191,
          1.0545981491197012,
          1.0178587627189988,
          0.8847748575653526,
          0.9114336243778207,
          1.0374619785111276,
          1.3218419638955803
         ],
         "y": [
          0.059981051332943264,
          0.8188815922265091,
          0.055836822770880284,
          0.1152074361784014,
          0.6926997931113845,
          0.0726440245809003,
          0.4852498467801553,
          0.3169252827054945,
          0.6999749075627841,
          -0.19740141942963035,
          -0.018390154620895216,
          0.4044670873101757,
          0.1454768080197642,
          0.2376293791083487,
          0.33985240779080433,
          0.23617128531659076,
          0.7543944066053232,
          0.5870853221572406,
          0.2622281144869826,
          0.004169690478696142,
          0.5622720023711687,
          0.16448248093292459,
          -0.16250171376463468,
          0.7313269881029596,
          0.06710752710383686,
          0.5284784120162664,
          0.46760909299935893,
          0.007719201758469185,
          0.6059998831763131,
          0.009504375668653808,
          0.0578032378063327,
          0.30649275691277167,
          0.17738079243496746,
          0.6360755657272055,
          0.17759737044629853,
          0.038702249193244165,
          0.5259483416172355,
          0.20260463702899537,
          0.4359457716575008,
          -0.02024451150989115,
          0.4116485011165838,
          0.30917524627638415,
          -0.27570504608325347,
          0.3381265553869166,
          0.5057596184382438,
          0.1685854817201008,
          0.1471668684890298,
          0.08472507130494786,
          0.20495152292950697,
          0.2798283856861722,
          0.1235815226448902,
          0.2972970010615007,
          0.1817030902550979,
          0.33051684852106655,
          0.34969968883682256,
          0.1633062315398787,
          0.2630413684815295,
          0.27909928000622103,
          0.39675153253681594,
          0.3456161437138099,
          0.5286325492808237,
          0.18758000247319695,
          0.24565929965457634,
          0.12787162249078646,
          0.240832220396362,
          0.251772063695447,
          0.42661354087700015,
          0.2850285619670278,
          0.4316013637494793,
          0.2785138379995454,
          0.787022060767351,
          0.18520896322450278,
          0.35858805827551987,
          -0.031574666405935814,
          0.22350988949823938,
          0.5537085437768229,
          0.5224089841173521,
          0.4359568954040177,
          0.2357042459305113,
          0.6654992515234847,
          0.38068710701491804,
          0.4097883497411603,
          0.22490240532301564,
          0.4516413449489503,
          0.2527786723756147,
          0.22244895067644993,
          0.5323838735698888,
          0.2390234629124403,
          0.3442550052239506,
          0.29853084468463187,
          0.4100774821204348,
          0.3045864969147875,
          0.13326204084344018,
          0.26302198621967515,
          0.37853896272848914,
          0.44345178724796874,
          0.3500678535063966,
          0.5700949637397323,
          0.6080435001648901,
          0.24226508771400143
         ]
        },
        {
         "mode": "markers",
         "type": "scatter",
         "x": [
          0.059087836406607544,
          0.0035118919136496074,
          -0.27663732600475693,
          -0.11003051985517802,
          0.20735793338430553,
          -0.49078367900186903,
          0.04030676313885009,
          -0.2201875985708007,
          -0.48842241731837277,
          0.48350340356073906,
          0.14724325326375223,
          -0.07528686594921977,
          -0.08811506382726138,
          0.19170718473668638,
          -0.1528756904744441,
          0.43961873044422684,
          0.24346268457228043,
          0.2761218525995534,
          -0.14559385962742255,
          0.5478751790743437,
          -0.36566397831873615,
          -0.2161205700200545,
          0.28241135893999664,
          0.22302288808312556,
          0.14808195668371849,
          0.5453892494571413,
          0.2566428872321433,
          -0.23506027682546643,
          0.04403902911960571,
          -0.15451675657325792,
          0.24696192120264748,
          -0.3321039145531542,
          0.32807531027097564,
          -0.046454334867997,
          0.07743527291865078,
          -0.20977313462241948,
          -0.13329094080011233,
          0.24092473974613873,
          -0.26670165932683076,
          -0.09329888564646609,
          0.22478695803987989,
          0.48632379005340914,
          0.19850440871811154,
          0.3727370324153538,
          -0.12708954763192798,
          -0.35952696257309774,
          -0.32533161277024936,
          0.011055323636407908,
          0.5509767231819864,
          0.4279287025386438,
          0.04713980464851676,
          -0.39369676377667223,
          -0.6970741402909001,
          0.05133091556589164,
          0.050079361664698535,
          -0.09367548246444918,
          0.47562371180085594,
          -0.35680935122498836,
          0.1682927134617135,
          -0.2696223062403981,
          0.22840604905462836,
          -0.14308360390668748,
          0.04825312338927306,
          -0.2169471306823502,
          0.08257622345097426,
          -0.34186558122538696,
          -0.42448040906282714,
          0.026066752893437257,
          0.46872794189211253,
          -0.19196410955900933,
          0.04074090446152614,
          0.6280249429878588,
          -0.06369489513408215,
          0.2409518537354574,
          -0.3185520889531357,
          0.2224336634799247,
          -0.18136072025582406,
          -0.9309511278729294,
          0.18493766672969367,
          -0.09275470470777468,
          -0.31008386839945956,
          0.38634067770913927,
          0.16182201382371797,
          0.1154007319912207,
          0.08018779796793801,
          0.22730470985619952,
          0.1626725826241639,
          -0.20421583946504987,
          -0.23163067991225594,
          0.37313038463082093,
          0.05077078407569419,
          -0.30854148370868534,
          0.12103741830927536,
          -0.32342602597479897,
          -0.04089013211197468,
          -0.10332363387274165,
          -0.17620718636046437,
          -0.09826536563664372,
          -0.05914805348618477,
          -0.49980160820263303
         ],
         "y": [
          -0.28883623865142155,
          -0.3761742641382865,
          0.16792476507106327,
          -0.5528054061937688,
          -0.14997340423374322,
          0.013230693622173856,
          0.2587864653158388,
          -0.30451527804744877,
          0.13966216310404186,
          0.6288190611293274,
          -0.01625119500861695,
          -0.13835645373376207,
          -0.13201691275097094,
          -0.15966910884047003,
          -0.10462558921501536,
          -0.06508820092714962,
          0.09711366261902316,
          -0.09822465312916426,
          0.08009675884628192,
          -0.2690110173544653,
          0.06684059531498718,
          0.2311996838841531,
          0.023862017610414094,
          0.288600750684745,
          0.13662076546153792,
          -0.1305359000767653,
          -0.08674909336663908,
          -0.1466992027020683,
          -0.09922313220344686,
          -0.39221161154222617,
          -0.20277117595436106,
          -0.023905606543840982,
          -0.03299370027728889,
          -0.5454839919867928,
          -0.02759997074422095,
          0.04063978229449394,
          0.5086035807021684,
          -0.5473347853199596,
          0.3321281635708234,
          -0.05693935035896824,
          -0.7675315796851975,
          0.09942271224531052,
          0.1390351878831775,
          -0.4967504297926675,
          -0.2606616708216709,
          -0.3964366894991571,
          0.17998691219244686,
          -0.43562907107560456,
          -0.2768172600390776,
          0.059257376260334976,
          -0.1454535322500622,
          -0.5312044983973054,
          -0.07960761251471567,
          -0.03524628583902166,
          -0.003696180329918655,
          -0.2078176466534421,
          0.1710981790915724,
          -0.13162002089470654,
          -0.11043966280229635,
          -0.5515843430153613,
          -0.11131196632403374,
          -0.017551075903688915,
          0.23958181117448094,
          0.07976721619517163,
          0.19253989739185043,
          0.1101742792082242,
          -0.2550133747244887,
          -0.018808895613175128,
          -0.3832921488121179,
          -0.5526035927499954,
          -0.19522200411816482,
          0.2378901069795,
          0.4639252682756093,
          0.17701062180283353,
          0.10676756666462373,
          -0.0591988799742245,
          0.3932111773343264,
          -0.38642276994289126,
          -0.20605706602007687,
          0.43141204406372125,
          0.05959681985200385,
          0.35149798733715254,
          -0.5167142618870378,
          -0.46087729554199075,
          0.15554474138170296,
          -0.050037946352462545,
          0.27891842613860396,
          0.2837472724239498,
          -0.6727001652557302,
          -0.3592954174108055,
          -0.45213479078852603,
          -0.10518997772298311,
          0.2280980080027293,
          0.09685675241426056,
          -0.6495039712633944,
          -0.14498183718720875,
          -0.2747783722367418,
          -0.74659116454218,
          0.17485152481167823,
          -0.1433285331313469
         ]
        }
       ],
       "layout": {
        "template": {
         "data": {
          "bar": [
           {
            "error_x": {
             "color": "#2a3f5f"
            },
            "error_y": {
             "color": "#2a3f5f"
            },
            "marker": {
             "line": {
              "color": "#E5ECF6",
              "width": 0.5
             }
            },
            "type": "bar"
           }
          ],
          "barpolar": [
           {
            "marker": {
             "line": {
              "color": "#E5ECF6",
              "width": 0.5
             }
            },
            "type": "barpolar"
           }
          ],
          "carpet": [
           {
            "aaxis": {
             "endlinecolor": "#2a3f5f",
             "gridcolor": "white",
             "linecolor": "white",
             "minorgridcolor": "white",
             "startlinecolor": "#2a3f5f"
            },
            "baxis": {
             "endlinecolor": "#2a3f5f",
             "gridcolor": "white",
             "linecolor": "white",
             "minorgridcolor": "white",
             "startlinecolor": "#2a3f5f"
            },
            "type": "carpet"
           }
          ],
          "choropleth": [
           {
            "colorbar": {
             "outlinewidth": 0,
             "ticks": ""
            },
            "type": "choropleth"
           }
          ],
          "contour": [
           {
            "colorbar": {
             "outlinewidth": 0,
             "ticks": ""
            },
            "colorscale": [
             [
              0,
              "#0d0887"
             ],
             [
              0.1111111111111111,
              "#46039f"
             ],
             [
              0.2222222222222222,
              "#7201a8"
             ],
             [
              0.3333333333333333,
              "#9c179e"
             ],
             [
              0.4444444444444444,
              "#bd3786"
             ],
             [
              0.5555555555555556,
              "#d8576b"
             ],
             [
              0.6666666666666666,
              "#ed7953"
             ],
             [
              0.7777777777777778,
              "#fb9f3a"
             ],
             [
              0.8888888888888888,
              "#fdca26"
             ],
             [
              1,
              "#f0f921"
             ]
            ],
            "type": "contour"
           }
          ],
          "contourcarpet": [
           {
            "colorbar": {
             "outlinewidth": 0,
             "ticks": ""
            },
            "type": "contourcarpet"
           }
          ],
          "heatmap": [
           {
            "colorbar": {
             "outlinewidth": 0,
             "ticks": ""
            },
            "colorscale": [
             [
              0,
              "#0d0887"
             ],
             [
              0.1111111111111111,
              "#46039f"
             ],
             [
              0.2222222222222222,
              "#7201a8"
             ],
             [
              0.3333333333333333,
              "#9c179e"
             ],
             [
              0.4444444444444444,
              "#bd3786"
             ],
             [
              0.5555555555555556,
              "#d8576b"
             ],
             [
              0.6666666666666666,
              "#ed7953"
             ],
             [
              0.7777777777777778,
              "#fb9f3a"
             ],
             [
              0.8888888888888888,
              "#fdca26"
             ],
             [
              1,
              "#f0f921"
             ]
            ],
            "type": "heatmap"
           }
          ],
          "heatmapgl": [
           {
            "colorbar": {
             "outlinewidth": 0,
             "ticks": ""
            },
            "colorscale": [
             [
              0,
              "#0d0887"
             ],
             [
              0.1111111111111111,
              "#46039f"
             ],
             [
              0.2222222222222222,
              "#7201a8"
             ],
             [
              0.3333333333333333,
              "#9c179e"
             ],
             [
              0.4444444444444444,
              "#bd3786"
             ],
             [
              0.5555555555555556,
              "#d8576b"
             ],
             [
              0.6666666666666666,
              "#ed7953"
             ],
             [
              0.7777777777777778,
              "#fb9f3a"
             ],
             [
              0.8888888888888888,
              "#fdca26"
             ],
             [
              1,
              "#f0f921"
             ]
            ],
            "type": "heatmapgl"
           }
          ],
          "histogram": [
           {
            "marker": {
             "colorbar": {
              "outlinewidth": 0,
              "ticks": ""
             }
            },
            "type": "histogram"
           }
          ],
          "histogram2d": [
           {
            "colorbar": {
             "outlinewidth": 0,
             "ticks": ""
            },
            "colorscale": [
             [
              0,
              "#0d0887"
             ],
             [
              0.1111111111111111,
              "#46039f"
             ],
             [
              0.2222222222222222,
              "#7201a8"
             ],
             [
              0.3333333333333333,
              "#9c179e"
             ],
             [
              0.4444444444444444,
              "#bd3786"
             ],
             [
              0.5555555555555556,
              "#d8576b"
             ],
             [
              0.6666666666666666,
              "#ed7953"
             ],
             [
              0.7777777777777778,
              "#fb9f3a"
             ],
             [
              0.8888888888888888,
              "#fdca26"
             ],
             [
              1,
              "#f0f921"
             ]
            ],
            "type": "histogram2d"
           }
          ],
          "histogram2dcontour": [
           {
            "colorbar": {
             "outlinewidth": 0,
             "ticks": ""
            },
            "colorscale": [
             [
              0,
              "#0d0887"
             ],
             [
              0.1111111111111111,
              "#46039f"
             ],
             [
              0.2222222222222222,
              "#7201a8"
             ],
             [
              0.3333333333333333,
              "#9c179e"
             ],
             [
              0.4444444444444444,
              "#bd3786"
             ],
             [
              0.5555555555555556,
              "#d8576b"
             ],
             [
              0.6666666666666666,
              "#ed7953"
             ],
             [
              0.7777777777777778,
              "#fb9f3a"
             ],
             [
              0.8888888888888888,
              "#fdca26"
             ],
             [
              1,
              "#f0f921"
             ]
            ],
            "type": "histogram2dcontour"
           }
          ],
          "mesh3d": [
           {
            "colorbar": {
             "outlinewidth": 0,
             "ticks": ""
            },
            "type": "mesh3d"
           }
          ],
          "parcoords": [
           {
            "line": {
             "colorbar": {
              "outlinewidth": 0,
              "ticks": ""
             }
            },
            "type": "parcoords"
           }
          ],
          "pie": [
           {
            "automargin": true,
            "type": "pie"
           }
          ],
          "scatter": [
           {
            "marker": {
             "colorbar": {
              "outlinewidth": 0,
              "ticks": ""
             }
            },
            "type": "scatter"
           }
          ],
          "scatter3d": [
           {
            "line": {
             "colorbar": {
              "outlinewidth": 0,
              "ticks": ""
             }
            },
            "marker": {
             "colorbar": {
              "outlinewidth": 0,
              "ticks": ""
             }
            },
            "type": "scatter3d"
           }
          ],
          "scattercarpet": [
           {
            "marker": {
             "colorbar": {
              "outlinewidth": 0,
              "ticks": ""
             }
            },
            "type": "scattercarpet"
           }
          ],
          "scattergeo": [
           {
            "marker": {
             "colorbar": {
              "outlinewidth": 0,
              "ticks": ""
             }
            },
            "type": "scattergeo"
           }
          ],
          "scattergl": [
           {
            "marker": {
             "colorbar": {
              "outlinewidth": 0,
              "ticks": ""
             }
            },
            "type": "scattergl"
           }
          ],
          "scattermapbox": [
           {
            "marker": {
             "colorbar": {
              "outlinewidth": 0,
              "ticks": ""
             }
            },
            "type": "scattermapbox"
           }
          ],
          "scatterpolar": [
           {
            "marker": {
             "colorbar": {
              "outlinewidth": 0,
              "ticks": ""
             }
            },
            "type": "scatterpolar"
           }
          ],
          "scatterpolargl": [
           {
            "marker": {
             "colorbar": {
              "outlinewidth": 0,
              "ticks": ""
             }
            },
            "type": "scatterpolargl"
           }
          ],
          "scatterternary": [
           {
            "marker": {
             "colorbar": {
              "outlinewidth": 0,
              "ticks": ""
             }
            },
            "type": "scatterternary"
           }
          ],
          "surface": [
           {
            "colorbar": {
             "outlinewidth": 0,
             "ticks": ""
            },
            "colorscale": [
             [
              0,
              "#0d0887"
             ],
             [
              0.1111111111111111,
              "#46039f"
             ],
             [
              0.2222222222222222,
              "#7201a8"
             ],
             [
              0.3333333333333333,
              "#9c179e"
             ],
             [
              0.4444444444444444,
              "#bd3786"
             ],
             [
              0.5555555555555556,
              "#d8576b"
             ],
             [
              0.6666666666666666,
              "#ed7953"
             ],
             [
              0.7777777777777778,
              "#fb9f3a"
             ],
             [
              0.8888888888888888,
              "#fdca26"
             ],
             [
              1,
              "#f0f921"
             ]
            ],
            "type": "surface"
           }
          ],
          "table": [
           {
            "cells": {
             "fill": {
              "color": "#EBF0F8"
             },
             "line": {
              "color": "white"
             }
            },
            "header": {
             "fill": {
              "color": "#C8D4E3"
             },
             "line": {
              "color": "white"
             }
            },
            "type": "table"
           }
          ]
         },
         "layout": {
          "annotationdefaults": {
           "arrowcolor": "#2a3f5f",
           "arrowhead": 0,
           "arrowwidth": 1
          },
          "coloraxis": {
           "colorbar": {
            "outlinewidth": 0,
            "ticks": ""
           }
          },
          "colorscale": {
           "diverging": [
            [
             0,
             "#8e0152"
            ],
            [
             0.1,
             "#c51b7d"
            ],
            [
             0.2,
             "#de77ae"
            ],
            [
             0.3,
             "#f1b6da"
            ],
            [
             0.4,
             "#fde0ef"
            ],
            [
             0.5,
             "#f7f7f7"
            ],
            [
             0.6,
             "#e6f5d0"
            ],
            [
             0.7,
             "#b8e186"
            ],
            [
             0.8,
             "#7fbc41"
            ],
            [
             0.9,
             "#4d9221"
            ],
            [
             1,
             "#276419"
            ]
           ],
           "sequential": [
            [
             0,
             "#0d0887"
            ],
            [
             0.1111111111111111,
             "#46039f"
            ],
            [
             0.2222222222222222,
             "#7201a8"
            ],
            [
             0.3333333333333333,
             "#9c179e"
            ],
            [
             0.4444444444444444,
             "#bd3786"
            ],
            [
             0.5555555555555556,
             "#d8576b"
            ],
            [
             0.6666666666666666,
             "#ed7953"
            ],
            [
             0.7777777777777778,
             "#fb9f3a"
            ],
            [
             0.8888888888888888,
             "#fdca26"
            ],
            [
             1,
             "#f0f921"
            ]
           ],
           "sequentialminus": [
            [
             0,
             "#0d0887"
            ],
            [
             0.1111111111111111,
             "#46039f"
            ],
            [
             0.2222222222222222,
             "#7201a8"
            ],
            [
             0.3333333333333333,
             "#9c179e"
            ],
            [
             0.4444444444444444,
             "#bd3786"
            ],
            [
             0.5555555555555556,
             "#d8576b"
            ],
            [
             0.6666666666666666,
             "#ed7953"
            ],
            [
             0.7777777777777778,
             "#fb9f3a"
            ],
            [
             0.8888888888888888,
             "#fdca26"
            ],
            [
             1,
             "#f0f921"
            ]
           ]
          },
          "colorway": [
           "#636efa",
           "#EF553B",
           "#00cc96",
           "#ab63fa",
           "#FFA15A",
           "#19d3f3",
           "#FF6692",
           "#B6E880",
           "#FF97FF",
           "#FECB52"
          ],
          "font": {
           "color": "#2a3f5f"
          },
          "geo": {
           "bgcolor": "white",
           "lakecolor": "white",
           "landcolor": "#E5ECF6",
           "showlakes": true,
           "showland": true,
           "subunitcolor": "white"
          },
          "hoverlabel": {
           "align": "left"
          },
          "hovermode": "closest",
          "mapbox": {
           "style": "light"
          },
          "paper_bgcolor": "white",
          "plot_bgcolor": "#E5ECF6",
          "polar": {
           "angularaxis": {
            "gridcolor": "white",
            "linecolor": "white",
            "ticks": ""
           },
           "bgcolor": "#E5ECF6",
           "radialaxis": {
            "gridcolor": "white",
            "linecolor": "white",
            "ticks": ""
           }
          },
          "scene": {
           "xaxis": {
            "backgroundcolor": "#E5ECF6",
            "gridcolor": "white",
            "gridwidth": 2,
            "linecolor": "white",
            "showbackground": true,
            "ticks": "",
            "zerolinecolor": "white"
           },
           "yaxis": {
            "backgroundcolor": "#E5ECF6",
            "gridcolor": "white",
            "gridwidth": 2,
            "linecolor": "white",
            "showbackground": true,
            "ticks": "",
            "zerolinecolor": "white"
           },
           "zaxis": {
            "backgroundcolor": "#E5ECF6",
            "gridcolor": "white",
            "gridwidth": 2,
            "linecolor": "white",
            "showbackground": true,
            "ticks": "",
            "zerolinecolor": "white"
           }
          },
          "shapedefaults": {
           "line": {
            "color": "#2a3f5f"
           }
          },
          "ternary": {
           "aaxis": {
            "gridcolor": "white",
            "linecolor": "white",
            "ticks": ""
           },
           "baxis": {
            "gridcolor": "white",
            "linecolor": "white",
            "ticks": ""
           },
           "bgcolor": "#E5ECF6",
           "caxis": {
            "gridcolor": "white",
            "linecolor": "white",
            "ticks": ""
           }
          },
          "title": {
           "x": 0.05
          },
          "xaxis": {
           "automargin": true,
           "gridcolor": "white",
           "linecolor": "white",
           "ticks": "",
           "title": {
            "standoff": 15
           },
           "zerolinecolor": "white",
           "zerolinewidth": 2
          },
          "yaxis": {
           "automargin": true,
           "gridcolor": "white",
           "linecolor": "white",
           "ticks": "",
           "title": {
            "standoff": 15
           },
           "zerolinecolor": "white",
           "zerolinewidth": 2
          }
         }
        }
       }
      }
     },
     "metadata": {}
    }
   ],
   "source": []
  },
  {
   "cell_type": "code",
   "execution_count": null,
   "metadata": {},
   "outputs": [],
   "source": []
  }
 ]
}